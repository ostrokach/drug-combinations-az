{
 "cells": [
  {
   "cell_type": "markdown",
   "metadata": {
    "run_control": {
     "marked": false
    }
   },
   "source": [
    "# Summary\n",
    "\n",
    "Create an all-by-all matrix.\n",
    "\n",
    "\n",
    "| **drug1 / drug2 / cell line** | **drug1 / drug2 / cell line** | **drug1 / drug2 / cell line** |...\n",
    "-|-|- \n",
    "**drug1 / drug2 / cell line**| *synergy change* | *synergy change* | *synergy change* | ...\n",
    "**drug1 / drug2 / cell line**| *synergy change* | *synergy change* | *synergy change* | ...\n",
    "**drug1 / drug2 / cell line**| *synergy change* | *synergy change* | *synergy change* | ...\n",
    "\n",
    "# Notes\n",
    "\n",
    "#  ToDo\n",
    "\n",
    "- Excluding everything with `QA != 1`. Maybe there is a smart way to include these values?\n",
    "\n"
   ]
  },
  {
   "cell_type": "markdown",
   "metadata": {
    "run_control": {
     "marked": false
    }
   },
   "source": [
    "# Imports"
   ]
  },
  {
   "cell_type": "code",
   "execution_count": 1,
   "metadata": {
    "collapsed": false,
    "run_control": {
     "marked": false
    }
   },
   "outputs": [
    {
     "name": "stderr",
     "output_type": "stream",
     "text": [
      "/home/kimlab1/strokach/anaconda3/lib/python3.5/site-packages/matplotlib/__init__.py:872: UserWarning: axes.color_cycle is deprecated and replaced with axes.prop_cycle; please use the latter.\n",
      "  warnings.warn(self.msg_depr % (key, alt_key))\n"
     ]
    }
   ],
   "source": [
    "from biodata import *"
   ]
  },
  {
   "cell_type": "code",
   "execution_count": 2,
   "metadata": {
    "collapsed": false,
    "run_control": {
     "marked": false
    }
   },
   "outputs": [],
   "source": [
    "%matplotlib inline\n",
    "%load_ext autoreload\n",
    "%autoreload 2"
   ]
  },
  {
   "cell_type": "code",
   "execution_count": 3,
   "metadata": {
    "collapsed": true,
    "run_control": {
     "marked": false
    }
   },
   "outputs": [],
   "source": [
    "import functions as fn"
   ]
  },
  {
   "cell_type": "markdown",
   "metadata": {
    "run_control": {
     "marked": false
    }
   },
   "source": [
    "# Functions"
   ]
  },
  {
   "cell_type": "code",
   "execution_count": 4,
   "metadata": {
    "collapsed": false,
    "run_control": {
     "marked": false
    }
   },
   "outputs": [],
   "source": [
    "def convert_features_to_differences(df):\n",
    "    df.columns = [c.lower() for c in df.columns]\n",
    "    suffix = [c for c in df.columns if c.startswith('max_conc_a')][0].replace('max_conc_a', '')\n",
    "\n",
    "    columns_to_drop = []\n",
    "    prefixes = ['max_conc', 'ic50', 'h', 'einf']\n",
    "    df_columns = df.columns.copy()\n",
    "    for column in df_columns:\n",
    "        if not any([column.startswith(p) for p in prefixes]):\n",
    "            continue\n",
    "        column_pair = column.replace('_a', '_b')\n",
    "        if column_pair not in df.columns or (column == column_pair):\n",
    "            continue\n",
    "        df[column.replace('_a', '') + '_mean'] = df[[column, column_pair]].mean(axis=1)\n",
    "        df[column.replace('_a', '') + '_diff'] = (df[column_pair] - df[column]).abs()\n",
    "        columns_to_drop.extend([column, column_pair])\n",
    "\n",
    "    print('dropping the following columns: {}'.format(columns_to_drop))\n",
    "    df.drop(pd.Index(columns_to_drop), axis=1, inplace=True)\n",
    "    assert not any([c in df for c in columns_to_drop])\n",
    "    \n",
    "    df.rename(columns={\n",
    "        'compound_a': 'd_1',\n",
    "        'compound_b': 'd_2',\n",
    "        'cell_line': 'c',\n",
    "    }, inplace=True)\n",
    "    \n",
    "    return df"
   ]
  },
  {
   "cell_type": "code",
   "execution_count": null,
   "metadata": {
    "collapsed": true
   },
   "outputs": [],
   "source": []
  },
  {
   "cell_type": "markdown",
   "metadata": {
    "run_control": {
     "marked": false
    }
   },
   "source": [
    "# Load data"
   ]
  },
  {
   "cell_type": "markdown",
   "metadata": {
    "run_control": {
     "marked": false
    }
   },
   "source": [
    "## Training data"
   ]
  },
  {
   "cell_type": "code",
   "execution_count": 5,
   "metadata": {
    "collapsed": false,
    "run_control": {
     "marked": false
    }
   },
   "outputs": [],
   "source": [
    "ch1_train_combination_and_monotherapy = pd.read_csv(\n",
    "    '../downloads/challenge_data/drug_synergy_data/ch1_train_combination_and_monotherapy.csv/'\n",
    "    'ch1_train_combination_and_monoTherapy.csv', sep=','\n",
    ")\n",
    "ch1_train_combination_and_monotherapy['source'] = 'train'"
   ]
  },
  {
   "cell_type": "code",
   "execution_count": 6,
   "metadata": {
    "collapsed": true,
    "run_control": {
     "marked": false
    }
   },
   "outputs": [],
   "source": [
    "ch1_leaderboard_monotherapy = pd.read_csv(\n",
    "    '../downloads/challenge_data/drug_synergy_data/ch1_leaderboard_monotherapy.csv/'\n",
    "    'ch1_leaderBoard_monoTherapy.csv', sep=','\n",
    ")\n",
    "ch1_leaderboard_monotherapy['source'] = 'ch1_validate'"
   ]
  },
  {
   "cell_type": "code",
   "execution_count": 7,
   "metadata": {
    "collapsed": true,
    "run_control": {
     "marked": false
    }
   },
   "outputs": [],
   "source": [
    "ch1_test_monotherapy = pd.read_csv(\n",
    "    '../downloads/challenge_data/drug_synergy_data/ch1_test_monotherapy.csv/'\n",
    "    'ch1_test_monoTherapy.csv', sep=','\n",
    ")\n",
    "ch1_test_monotherapy['source'] = 'ch1_test'"
   ]
  },
  {
   "cell_type": "code",
   "execution_count": 8,
   "metadata": {
    "collapsed": true,
    "run_control": {
     "marked": false
    }
   },
   "outputs": [],
   "source": [
    "ch2_leaderboard_monotherapy = pd.read_csv(\n",
    "    '../downloads/challenge_data/drug_synergy_data/ch2_leaderboard_monotherapy.csv/'\n",
    "    'ch2_leaderBoard_monoTherapy.csv', sep=','\n",
    ")\n",
    "ch2_leaderboard_monotherapy['source'] = 'ch2_validate'"
   ]
  },
  {
   "cell_type": "code",
   "execution_count": 9,
   "metadata": {
    "collapsed": true,
    "run_control": {
     "marked": false
    }
   },
   "outputs": [],
   "source": [
    "ch2_test_monotherapy = pd.read_csv(\n",
    "    '../downloads/challenge_data/drug_synergy_data/ch2_test_monotherapy.csv/'\n",
    "    'ch2_test_monoTherapy.csv', sep=','\n",
    ")\n",
    "ch2_test_monotherapy['source'] = 'ch2_test'"
   ]
  },
  {
   "cell_type": "markdown",
   "metadata": {},
   "source": [
    "#### New data"
   ]
  },
  {
   "cell_type": "code",
   "execution_count": 10,
   "metadata": {
    "collapsed": true
   },
   "outputs": [],
   "source": [
    "ch1_leaderboard_monotherapy_wsyn = pd.read_csv(\n",
    "    '../downloads/challenge_data/drug_synergy_data/leaderboard_set/'\n",
    "    'ch1_LB.csv', sep=','\n",
    ")\n",
    "ch1_leaderboard_monotherapy_wsyn['source'] = 'ch1_validate'\n",
    "\n",
    "assert ch1_leaderboard_monotherapy.drop('SYNERGY_SCORE', axis=1).merge(ch1_leaderboard_monotherapy_wsyn).shape == \\\n",
    "    ch1_leaderboard_monotherapy_wsyn.shape"
   ]
  },
  {
   "cell_type": "code",
   "execution_count": 11,
   "metadata": {
    "collapsed": false,
    "run_control": {
     "marked": false
    }
   },
   "outputs": [],
   "source": [
    "ch2_leaderboard_monotherapy_wsyn = pd.read_csv(\n",
    "    '../downloads/challenge_data/drug_synergy_data/leaderboard_set/'\n",
    "    'ch2_LB.csv', sep=','\n",
    ")\n",
    "ch2_leaderboard_monotherapy_wsyn['source'] = 'ch2_validate'\n",
    "\n",
    "assert ch2_leaderboard_monotherapy.drop('SYNERGY_SCORE', axis=1).merge(ch2_leaderboard_monotherapy_wsyn).shape == \\\n",
    "    ch2_leaderboard_monotherapy_wsyn.shape"
   ]
  },
  {
   "cell_type": "markdown",
   "metadata": {},
   "source": [
    "#### Combine"
   ]
  },
  {
   "cell_type": "code",
   "execution_count": 12,
   "metadata": {
    "collapsed": false,
    "run_control": {
     "marked": false
    }
   },
   "outputs": [],
   "source": [
    "ALL_TRAINING_DATA = pd.concat([\n",
    "        ch1_train_combination_and_monotherapy,\n",
    "        ch1_leaderboard_monotherapy_wsyn,\n",
    "        ch1_test_monotherapy,\n",
    "        ch2_leaderboard_monotherapy_wsyn,\n",
    "        ch2_test_monotherapy\n",
    "    ], ignore_index=True)"
   ]
  },
  {
   "cell_type": "code",
   "execution_count": 13,
   "metadata": {
    "collapsed": true
   },
   "outputs": [],
   "source": [
    "if 'COMBINATION_ID' in ALL_TRAINING_DATA:\n",
    "    ALL_TRAINING_DATA.drop('COMBINATION_ID', axis=1, inplace=True)"
   ]
  },
  {
   "cell_type": "code",
   "execution_count": 14,
   "metadata": {
    "collapsed": false,
    "run_control": {
     "marked": false
    }
   },
   "outputs": [
    {
     "data": {
      "text/html": [
       "<div>\n",
       "<table border=\"1\" class=\"dataframe\">\n",
       "  <thead>\n",
       "    <tr style=\"text-align: right;\">\n",
       "      <th></th>\n",
       "      <th>CELL_LINE</th>\n",
       "      <th>COMPOUND_A</th>\n",
       "      <th>COMPOUND_B</th>\n",
       "      <th>MAX_CONC_A</th>\n",
       "      <th>MAX_CONC_B</th>\n",
       "      <th>IC50_A</th>\n",
       "      <th>H_A</th>\n",
       "      <th>Einf_A</th>\n",
       "      <th>IC50_B</th>\n",
       "      <th>H_B</th>\n",
       "      <th>Einf_B</th>\n",
       "      <th>SYNERGY_SCORE</th>\n",
       "      <th>QA</th>\n",
       "      <th>source</th>\n",
       "    </tr>\n",
       "  </thead>\n",
       "  <tbody>\n",
       "    <tr>\n",
       "      <th>2790</th>\n",
       "      <td>CAMA-1</td>\n",
       "      <td>ADAM17</td>\n",
       "      <td>AKT</td>\n",
       "      <td>1</td>\n",
       "      <td>75</td>\n",
       "      <td>0.126186</td>\n",
       "      <td>0.993706</td>\n",
       "      <td>3.688533</td>\n",
       "      <td>1.000000</td>\n",
       "      <td>0.000000</td>\n",
       "      <td>100.000000</td>\n",
       "      <td>NaN</td>\n",
       "      <td>1</td>\n",
       "      <td>ch1_test</td>\n",
       "    </tr>\n",
       "    <tr>\n",
       "      <th>2791</th>\n",
       "      <td>HCC1395</td>\n",
       "      <td>ADAM17</td>\n",
       "      <td>AKT</td>\n",
       "      <td>1</td>\n",
       "      <td>75</td>\n",
       "      <td>0.910569</td>\n",
       "      <td>0.552451</td>\n",
       "      <td>0.000000</td>\n",
       "      <td>10.905410</td>\n",
       "      <td>0.239641</td>\n",
       "      <td>82.740876</td>\n",
       "      <td>NaN</td>\n",
       "      <td>1</td>\n",
       "      <td>ch1_test</td>\n",
       "    </tr>\n",
       "    <tr>\n",
       "      <th>2792</th>\n",
       "      <td>Hs-578-T</td>\n",
       "      <td>ADAM17</td>\n",
       "      <td>AKT</td>\n",
       "      <td>1</td>\n",
       "      <td>75</td>\n",
       "      <td>1.000000</td>\n",
       "      <td>0.258989</td>\n",
       "      <td>17.701706</td>\n",
       "      <td>0.540880</td>\n",
       "      <td>4.851464</td>\n",
       "      <td>73.495692</td>\n",
       "      <td>NaN</td>\n",
       "      <td>1</td>\n",
       "      <td>ch1_test</td>\n",
       "    </tr>\n",
       "    <tr>\n",
       "      <th>2793</th>\n",
       "      <td>MDA-MB-157</td>\n",
       "      <td>ADAM17</td>\n",
       "      <td>AKT</td>\n",
       "      <td>1</td>\n",
       "      <td>75</td>\n",
       "      <td>1.000000</td>\n",
       "      <td>0.215696</td>\n",
       "      <td>5.095356</td>\n",
       "      <td>0.010219</td>\n",
       "      <td>0.227937</td>\n",
       "      <td>52.121460</td>\n",
       "      <td>NaN</td>\n",
       "      <td>1</td>\n",
       "      <td>ch1_test</td>\n",
       "    </tr>\n",
       "    <tr>\n",
       "      <th>2794</th>\n",
       "      <td>MDA-MB-468</td>\n",
       "      <td>ADAM17</td>\n",
       "      <td>AKT</td>\n",
       "      <td>1</td>\n",
       "      <td>75</td>\n",
       "      <td>0.509420</td>\n",
       "      <td>0.941494</td>\n",
       "      <td>26.827759</td>\n",
       "      <td>7.328496</td>\n",
       "      <td>10.000000</td>\n",
       "      <td>94.799897</td>\n",
       "      <td>NaN</td>\n",
       "      <td>1</td>\n",
       "      <td>ch1_test</td>\n",
       "    </tr>\n",
       "  </tbody>\n",
       "</table>\n",
       "</div>"
      ],
      "text/plain": [
       "       CELL_LINE COMPOUND_A COMPOUND_B  MAX_CONC_A  MAX_CONC_B    IC50_A       H_A     Einf_A     IC50_B        H_B      Einf_B  SYNERGY_SCORE  QA    source\n",
       "2790      CAMA-1     ADAM17        AKT           1          75  0.126186  0.993706   3.688533   1.000000   0.000000  100.000000            NaN   1  ch1_test\n",
       "2791     HCC1395     ADAM17        AKT           1          75  0.910569  0.552451   0.000000  10.905410   0.239641   82.740876            NaN   1  ch1_test\n",
       "2792    Hs-578-T     ADAM17        AKT           1          75  1.000000  0.258989  17.701706   0.540880   4.851464   73.495692            NaN   1  ch1_test\n",
       "2793  MDA-MB-157     ADAM17        AKT           1          75  1.000000  0.215696   5.095356   0.010219   0.227937   52.121460            NaN   1  ch1_test\n",
       "2794  MDA-MB-468     ADAM17        AKT           1          75  0.509420  0.941494  26.827759   7.328496  10.000000   94.799897            NaN   1  ch1_test"
      ]
     },
     "execution_count": 14,
     "metadata": {},
     "output_type": "execute_result"
    }
   ],
   "source": [
    "ALL_TRAINING_DATA[ALL_TRAINING_DATA['SYNERGY_SCORE'].isnull()].head()"
   ]
  },
  {
   "cell_type": "code",
   "execution_count": null,
   "metadata": {
    "collapsed": true
   },
   "outputs": [],
   "source": []
  },
  {
   "cell_type": "markdown",
   "metadata": {
    "run_control": {
     "marked": false
    }
   },
   "source": [
    "### Copy synergy data\n",
    "\n",
    "..and do everything else on data without synergy scores."
   ]
  },
  {
   "cell_type": "code",
   "execution_count": 15,
   "metadata": {
    "collapsed": false,
    "run_control": {
     "marked": false
    }
   },
   "outputs": [
    {
     "data": {
      "text/html": [
       "<div>\n",
       "<table border=\"1\" class=\"dataframe\">\n",
       "  <thead>\n",
       "    <tr style=\"text-align: right;\">\n",
       "      <th></th>\n",
       "      <th>CELL_LINE</th>\n",
       "      <th>COMPOUND_A</th>\n",
       "      <th>COMPOUND_B</th>\n",
       "      <th>MAX_CONC_A</th>\n",
       "      <th>MAX_CONC_B</th>\n",
       "      <th>IC50_A</th>\n",
       "      <th>H_A</th>\n",
       "      <th>Einf_A</th>\n",
       "      <th>IC50_B</th>\n",
       "      <th>H_B</th>\n",
       "      <th>Einf_B</th>\n",
       "      <th>SYNERGY_SCORE</th>\n",
       "      <th>QA</th>\n",
       "      <th>source</th>\n",
       "    </tr>\n",
       "  </thead>\n",
       "  <tbody>\n",
       "    <tr>\n",
       "      <th>0</th>\n",
       "      <td>BT-20</td>\n",
       "      <td>ADAM17</td>\n",
       "      <td>AKT</td>\n",
       "      <td>1</td>\n",
       "      <td>75</td>\n",
       "      <td>1.000000</td>\n",
       "      <td>0.809002</td>\n",
       "      <td>59.122436</td>\n",
       "      <td>9.639714</td>\n",
       "      <td>0.757977</td>\n",
       "      <td>91.593425</td>\n",
       "      <td>29.54039</td>\n",
       "      <td>1</td>\n",
       "      <td>train</td>\n",
       "    </tr>\n",
       "    <tr>\n",
       "      <th>1</th>\n",
       "      <td>CAL-120</td>\n",
       "      <td>ADAM17</td>\n",
       "      <td>AKT</td>\n",
       "      <td>1</td>\n",
       "      <td>75</td>\n",
       "      <td>0.183214</td>\n",
       "      <td>2.503678</td>\n",
       "      <td>60.411999</td>\n",
       "      <td>1.000000</td>\n",
       "      <td>0.000000</td>\n",
       "      <td>100.000000</td>\n",
       "      <td>4.40141</td>\n",
       "      <td>-1</td>\n",
       "      <td>train</td>\n",
       "    </tr>\n",
       "  </tbody>\n",
       "</table>\n",
       "</div>"
      ],
      "text/plain": [
       "  CELL_LINE COMPOUND_A COMPOUND_B  MAX_CONC_A  MAX_CONC_B    IC50_A       H_A     Einf_A    IC50_B       H_B      Einf_B  SYNERGY_SCORE  QA source\n",
       "0     BT-20     ADAM17        AKT           1          75  1.000000  0.809002  59.122436  9.639714  0.757977   91.593425       29.54039   1  train\n",
       "1   CAL-120     ADAM17        AKT           1          75  0.183214  2.503678  60.411999  1.000000  0.000000  100.000000        4.40141  -1  train"
      ]
     },
     "metadata": {},
     "output_type": "display_data"
    },
    {
     "name": "stdout",
     "output_type": "stream",
     "text": [
      "(11575, 14)\n"
     ]
    },
    {
     "data": {
      "text/html": [
       "<div>\n",
       "<table border=\"1\" class=\"dataframe\">\n",
       "  <thead>\n",
       "    <tr style=\"text-align: right;\">\n",
       "      <th></th>\n",
       "      <th>CELL_LINE</th>\n",
       "      <th>COMPOUND_A</th>\n",
       "      <th>COMPOUND_B</th>\n",
       "      <th>MAX_CONC_A</th>\n",
       "      <th>MAX_CONC_B</th>\n",
       "      <th>IC50_A</th>\n",
       "      <th>H_A</th>\n",
       "      <th>Einf_A</th>\n",
       "      <th>IC50_B</th>\n",
       "      <th>H_B</th>\n",
       "      <th>Einf_B</th>\n",
       "      <th>QA</th>\n",
       "      <th>source</th>\n",
       "    </tr>\n",
       "  </thead>\n",
       "  <tbody>\n",
       "    <tr>\n",
       "      <th>0</th>\n",
       "      <td>BT-20</td>\n",
       "      <td>ADAM17</td>\n",
       "      <td>AKT</td>\n",
       "      <td>1</td>\n",
       "      <td>75</td>\n",
       "      <td>1.000000</td>\n",
       "      <td>0.809002</td>\n",
       "      <td>59.122436</td>\n",
       "      <td>9.639714</td>\n",
       "      <td>0.757977</td>\n",
       "      <td>91.593425</td>\n",
       "      <td>1</td>\n",
       "      <td>train</td>\n",
       "    </tr>\n",
       "    <tr>\n",
       "      <th>1</th>\n",
       "      <td>CAL-120</td>\n",
       "      <td>ADAM17</td>\n",
       "      <td>AKT</td>\n",
       "      <td>1</td>\n",
       "      <td>75</td>\n",
       "      <td>0.183214</td>\n",
       "      <td>2.503678</td>\n",
       "      <td>60.411999</td>\n",
       "      <td>1.000000</td>\n",
       "      <td>0.000000</td>\n",
       "      <td>100.000000</td>\n",
       "      <td>-1</td>\n",
       "      <td>train</td>\n",
       "    </tr>\n",
       "  </tbody>\n",
       "</table>\n",
       "</div>"
      ],
      "text/plain": [
       "  CELL_LINE COMPOUND_A COMPOUND_B  MAX_CONC_A  MAX_CONC_B    IC50_A       H_A     Einf_A    IC50_B       H_B      Einf_B  QA source\n",
       "0     BT-20     ADAM17        AKT           1          75  1.000000  0.809002  59.122436  9.639714  0.757977   91.593425   1  train\n",
       "1   CAL-120     ADAM17        AKT           1          75  0.183214  2.503678  60.411999  1.000000  0.000000  100.000000  -1  train"
      ]
     },
     "metadata": {},
     "output_type": "display_data"
    },
    {
     "name": "stdout",
     "output_type": "stream",
     "text": [
      "(11575, 13)\n"
     ]
    }
   ],
   "source": [
    "if 'SYNERGY_SCORE' in ALL_TRAINING_DATA:\n",
    "    ALL_TRAINING_DATA_WSYNERGY = ALL_TRAINING_DATA.copy()\n",
    "    ALL_TRAINING_DATA.drop('SYNERGY_SCORE', axis=1, inplace=True)\n",
    "\n",
    "display(ALL_TRAINING_DATA_WSYNERGY.head(2))\n",
    "print(ALL_TRAINING_DATA_WSYNERGY.shape)\n",
    "\n",
    "display(ALL_TRAINING_DATA.head(2))\n",
    "print(ALL_TRAINING_DATA.shape)"
   ]
  },
  {
   "cell_type": "code",
   "execution_count": null,
   "metadata": {
    "collapsed": false,
    "run_control": {
     "marked": false
    }
   },
   "outputs": [],
   "source": []
  },
  {
   "cell_type": "markdown",
   "metadata": {
    "run_control": {
     "marked": false
    }
   },
   "source": [
    "### Keep only QA == 1"
   ]
  },
  {
   "cell_type": "code",
   "execution_count": 16,
   "metadata": {
    "collapsed": false,
    "run_control": {
     "marked": false
    }
   },
   "outputs": [
    {
     "name": "stdout",
     "output_type": "stream",
     "text": [
      "(11171, 12)\n"
     ]
    }
   ],
   "source": [
    "ALL_TRAINING_DATA = ALL_TRAINING_DATA[\n",
    "    (ALL_TRAINING_DATA['QA'] == 1)\n",
    "]\n",
    "ALL_TRAINING_DATA.drop('QA', axis=1, inplace=True)\n",
    "print(ALL_TRAINING_DATA.shape)"
   ]
  },
  {
   "cell_type": "code",
   "execution_count": null,
   "metadata": {
    "collapsed": false,
    "run_control": {
     "marked": false
    }
   },
   "outputs": [],
   "source": []
  },
  {
   "cell_type": "markdown",
   "metadata": {
    "collapsed": true,
    "run_control": {
     "marked": false
    }
   },
   "source": [
    "### D\n",
    "\n",
    "Don't really need or use this, but keep for legacy reasons."
   ]
  },
  {
   "cell_type": "code",
   "execution_count": 17,
   "metadata": {
    "collapsed": false,
    "run_control": {
     "marked": false
    }
   },
   "outputs": [],
   "source": [
    "compound_data = (\n",
    "    pd.concat([\n",
    "        ALL_TRAINING_DATA\n",
    "        [[c for c in ALL_TRAINING_DATA.columns if c.endswith('_A')]]\n",
    "        .rename(columns={c: c[:-2] for c in ALL_TRAINING_DATA.columns if c.endswith('_A')}),\n",
    "        ALL_TRAINING_DATA\n",
    "        [[c for c in ALL_TRAINING_DATA.columns if c.endswith('_B')]]\n",
    "        .rename(columns={c: c[:-2] for c in ALL_TRAINING_DATA.columns if c.endswith('_B')}),\n",
    "    ], ignore_index=True)\n",
    ")"
   ]
  },
  {
   "cell_type": "code",
   "execution_count": 18,
   "metadata": {
    "collapsed": false,
    "run_control": {
     "marked": false
    }
   },
   "outputs": [
    {
     "data": {
      "text/html": [
       "<div>\n",
       "<table border=\"1\" class=\"dataframe\">\n",
       "  <thead>\n",
       "    <tr style=\"text-align: right;\">\n",
       "      <th></th>\n",
       "      <th>COMPOUND</th>\n",
       "      <th>MAX_CONC</th>\n",
       "      <th>IC50</th>\n",
       "      <th>H</th>\n",
       "      <th>Einf</th>\n",
       "    </tr>\n",
       "  </thead>\n",
       "  <tbody>\n",
       "    <tr>\n",
       "      <th>0</th>\n",
       "      <td>ADAM17</td>\n",
       "      <td>1</td>\n",
       "      <td>1.000000</td>\n",
       "      <td>0.809002</td>\n",
       "      <td>59.122436</td>\n",
       "    </tr>\n",
       "    <tr>\n",
       "      <th>1</th>\n",
       "      <td>ADAM17</td>\n",
       "      <td>1</td>\n",
       "      <td>1.000000</td>\n",
       "      <td>0.726984</td>\n",
       "      <td>11.150843</td>\n",
       "    </tr>\n",
       "    <tr>\n",
       "      <th>2</th>\n",
       "      <td>ADAM17</td>\n",
       "      <td>1</td>\n",
       "      <td>0.410029</td>\n",
       "      <td>1.496901</td>\n",
       "      <td>51.921265</td>\n",
       "    </tr>\n",
       "    <tr>\n",
       "      <th>3</th>\n",
       "      <td>ADAM17</td>\n",
       "      <td>1</td>\n",
       "      <td>0.313992</td>\n",
       "      <td>10.000000</td>\n",
       "      <td>63.399635</td>\n",
       "    </tr>\n",
       "    <tr>\n",
       "      <th>4</th>\n",
       "      <td>ADAM17</td>\n",
       "      <td>1</td>\n",
       "      <td>1.000000</td>\n",
       "      <td>0.771830</td>\n",
       "      <td>41.529554</td>\n",
       "    </tr>\n",
       "  </tbody>\n",
       "</table>\n",
       "</div>"
      ],
      "text/plain": [
       "  COMPOUND  MAX_CONC      IC50          H       Einf\n",
       "0   ADAM17         1  1.000000   0.809002  59.122436\n",
       "1   ADAM17         1  1.000000   0.726984  11.150843\n",
       "2   ADAM17         1  0.410029   1.496901  51.921265\n",
       "3   ADAM17         1  0.313992  10.000000  63.399635\n",
       "4   ADAM17         1  1.000000   0.771830  41.529554"
      ]
     },
     "execution_count": 18,
     "metadata": {},
     "output_type": "execute_result"
    }
   ],
   "source": [
    "compound_data.head()"
   ]
  },
  {
   "cell_type": "code",
   "execution_count": 19,
   "metadata": {
    "collapsed": false,
    "run_control": {
     "marked": false
    }
   },
   "outputs": [],
   "source": [
    "ALL_TRAINING_DATA_GBD = fn.my_groupby(\n",
    "    compound_data.rename(columns={'COMPOUND': 'd'}), by='d', name='gbd')"
   ]
  },
  {
   "cell_type": "code",
   "execution_count": 20,
   "metadata": {
    "collapsed": false,
    "run_control": {
     "marked": false
    }
   },
   "outputs": [
    {
     "data": {
      "text/html": [
       "<div>\n",
       "<table border=\"1\" class=\"dataframe\">\n",
       "  <thead>\n",
       "    <tr style=\"text-align: right;\">\n",
       "      <th></th>\n",
       "      <th>d</th>\n",
       "      <th>max_conc_gbd_min</th>\n",
       "      <th>max_conc_gbd_max</th>\n",
       "      <th>max_conc_gbd_mean</th>\n",
       "      <th>max_conc_gbd_std</th>\n",
       "      <th>ic50_gbd_min</th>\n",
       "      <th>ic50_gbd_max</th>\n",
       "      <th>ic50_gbd_mean</th>\n",
       "      <th>ic50_gbd_std</th>\n",
       "      <th>h_gbd_min</th>\n",
       "      <th>h_gbd_max</th>\n",
       "      <th>h_gbd_mean</th>\n",
       "      <th>h_gbd_std</th>\n",
       "      <th>einf_gbd_min</th>\n",
       "      <th>einf_gbd_max</th>\n",
       "      <th>einf_gbd_mean</th>\n",
       "      <th>einf_gbd_std</th>\n",
       "      <th>count_gbd</th>\n",
       "    </tr>\n",
       "  </thead>\n",
       "  <tbody>\n",
       "    <tr>\n",
       "      <th>0</th>\n",
       "      <td>ADAM17</td>\n",
       "      <td>1.000</td>\n",
       "      <td>3</td>\n",
       "      <td>1.333333</td>\n",
       "      <td>0.746996</td>\n",
       "      <td>0.000100</td>\n",
       "      <td>3</td>\n",
       "      <td>0.678982</td>\n",
       "      <td>0.670769</td>\n",
       "      <td>0</td>\n",
       "      <td>10</td>\n",
       "      <td>2.359189</td>\n",
       "      <td>3.263725</td>\n",
       "      <td>0</td>\n",
       "      <td>100</td>\n",
       "      <td>49.203516</td>\n",
       "      <td>33.978373</td>\n",
       "      <td>228</td>\n",
       "    </tr>\n",
       "    <tr>\n",
       "      <th>1</th>\n",
       "      <td>AKT</td>\n",
       "      <td>0.003</td>\n",
       "      <td>75</td>\n",
       "      <td>2.977014</td>\n",
       "      <td>9.948914</td>\n",
       "      <td>0.000001</td>\n",
       "      <td>75</td>\n",
       "      <td>0.878123</td>\n",
       "      <td>3.402080</td>\n",
       "      <td>0</td>\n",
       "      <td>10</td>\n",
       "      <td>3.124647</td>\n",
       "      <td>3.847184</td>\n",
       "      <td>0</td>\n",
       "      <td>100</td>\n",
       "      <td>53.261517</td>\n",
       "      <td>35.902220</td>\n",
       "      <td>1041</td>\n",
       "    </tr>\n",
       "    <tr>\n",
       "      <th>2</th>\n",
       "      <td>AKT_1</td>\n",
       "      <td>0.100</td>\n",
       "      <td>75</td>\n",
       "      <td>4.175816</td>\n",
       "      <td>13.133638</td>\n",
       "      <td>0.000010</td>\n",
       "      <td>75</td>\n",
       "      <td>1.203137</td>\n",
       "      <td>5.241192</td>\n",
       "      <td>0</td>\n",
       "      <td>10</td>\n",
       "      <td>3.104658</td>\n",
       "      <td>3.896415</td>\n",
       "      <td>0</td>\n",
       "      <td>100</td>\n",
       "      <td>56.365190</td>\n",
       "      <td>35.167022</td>\n",
       "      <td>674</td>\n",
       "    </tr>\n",
       "    <tr>\n",
       "      <th>3</th>\n",
       "      <td>AKT_PIK3C</td>\n",
       "      <td>1.000</td>\n",
       "      <td>10</td>\n",
       "      <td>1.885246</td>\n",
       "      <td>2.702458</td>\n",
       "      <td>0.000100</td>\n",
       "      <td>10</td>\n",
       "      <td>0.624808</td>\n",
       "      <td>1.284514</td>\n",
       "      <td>0</td>\n",
       "      <td>10</td>\n",
       "      <td>2.808945</td>\n",
       "      <td>3.615563</td>\n",
       "      <td>0</td>\n",
       "      <td>100</td>\n",
       "      <td>59.542931</td>\n",
       "      <td>35.384669</td>\n",
       "      <td>61</td>\n",
       "    </tr>\n",
       "    <tr>\n",
       "      <th>4</th>\n",
       "      <td>AKT_SGK</td>\n",
       "      <td>1.000</td>\n",
       "      <td>1</td>\n",
       "      <td>1.000000</td>\n",
       "      <td>0.000000</td>\n",
       "      <td>0.000100</td>\n",
       "      <td>1</td>\n",
       "      <td>0.490824</td>\n",
       "      <td>0.371681</td>\n",
       "      <td>0</td>\n",
       "      <td>10</td>\n",
       "      <td>3.062068</td>\n",
       "      <td>3.647373</td>\n",
       "      <td>0</td>\n",
       "      <td>100</td>\n",
       "      <td>51.176495</td>\n",
       "      <td>31.941165</td>\n",
       "      <td>180</td>\n",
       "    </tr>\n",
       "  </tbody>\n",
       "</table>\n",
       "</div>"
      ],
      "text/plain": [
       "           d  max_conc_gbd_min  max_conc_gbd_max  max_conc_gbd_mean  max_conc_gbd_std  ic50_gbd_min  ic50_gbd_max  ic50_gbd_mean  ic50_gbd_std  h_gbd_min  h_gbd_max  h_gbd_mean  h_gbd_std  einf_gbd_min  einf_gbd_max  einf_gbd_mean  einf_gbd_std  count_gbd\n",
       "0     ADAM17             1.000                 3           1.333333          0.746996      0.000100             3       0.678982      0.670769          0         10    2.359189   3.263725             0           100      49.203516     33.978373        228\n",
       "1        AKT             0.003                75           2.977014          9.948914      0.000001            75       0.878123      3.402080          0         10    3.124647   3.847184             0           100      53.261517     35.902220       1041\n",
       "2      AKT_1             0.100                75           4.175816         13.133638      0.000010            75       1.203137      5.241192          0         10    3.104658   3.896415             0           100      56.365190     35.167022        674\n",
       "3  AKT_PIK3C             1.000                10           1.885246          2.702458      0.000100            10       0.624808      1.284514          0         10    2.808945   3.615563             0           100      59.542931     35.384669         61\n",
       "4    AKT_SGK             1.000                 1           1.000000          0.000000      0.000100             1       0.490824      0.371681          0         10    3.062068   3.647373             0           100      51.176495     31.941165        180"
      ]
     },
     "execution_count": 20,
     "metadata": {},
     "output_type": "execute_result"
    }
   ],
   "source": [
    "ALL_TRAINING_DATA_GBD.head()"
   ]
  },
  {
   "cell_type": "code",
   "execution_count": null,
   "metadata": {
    "collapsed": true,
    "run_control": {
     "marked": false
    }
   },
   "outputs": [],
   "source": []
  },
  {
   "cell_type": "markdown",
   "metadata": {
    "run_control": {
     "marked": false
    }
   },
   "source": [
    "### DC"
   ]
  },
  {
   "cell_type": "code",
   "execution_count": 21,
   "metadata": {
    "collapsed": false,
    "run_control": {
     "marked": false
    }
   },
   "outputs": [],
   "source": [
    "compound_cell_line_data = (\n",
    "    pd.concat([\n",
    "        ALL_TRAINING_DATA\n",
    "        [['CELL_LINE'] + [c for c in ALL_TRAINING_DATA.columns if c.endswith('_A')]]\n",
    "        .rename(columns={c: c[:-2] for c in ALL_TRAINING_DATA.columns if c.endswith('_A')}),\n",
    "        ALL_TRAINING_DATA\n",
    "        [['CELL_LINE'] + [c for c in ALL_TRAINING_DATA.columns if c.endswith('_B')]]\n",
    "        .rename(columns={c: c[:-2] for c in ALL_TRAINING_DATA.columns if c.endswith('_B')}),\n",
    "    ])\n",
    ")"
   ]
  },
  {
   "cell_type": "code",
   "execution_count": 22,
   "metadata": {
    "collapsed": false,
    "run_control": {
     "marked": false
    }
   },
   "outputs": [
    {
     "data": {
      "text/html": [
       "<div>\n",
       "<table border=\"1\" class=\"dataframe\">\n",
       "  <thead>\n",
       "    <tr style=\"text-align: right;\">\n",
       "      <th></th>\n",
       "      <th>CELL_LINE</th>\n",
       "      <th>COMPOUND</th>\n",
       "      <th>MAX_CONC</th>\n",
       "      <th>IC50</th>\n",
       "      <th>H</th>\n",
       "      <th>Einf</th>\n",
       "    </tr>\n",
       "  </thead>\n",
       "  <tbody>\n",
       "    <tr>\n",
       "      <th>0</th>\n",
       "      <td>BT-20</td>\n",
       "      <td>ADAM17</td>\n",
       "      <td>1</td>\n",
       "      <td>1.000000</td>\n",
       "      <td>0.809002</td>\n",
       "      <td>59.122436</td>\n",
       "    </tr>\n",
       "    <tr>\n",
       "      <th>2</th>\n",
       "      <td>CAL-51</td>\n",
       "      <td>ADAM17</td>\n",
       "      <td>1</td>\n",
       "      <td>1.000000</td>\n",
       "      <td>0.726984</td>\n",
       "      <td>11.150843</td>\n",
       "    </tr>\n",
       "    <tr>\n",
       "      <th>5</th>\n",
       "      <td>HCC1187</td>\n",
       "      <td>ADAM17</td>\n",
       "      <td>1</td>\n",
       "      <td>0.410029</td>\n",
       "      <td>1.496901</td>\n",
       "      <td>51.921265</td>\n",
       "    </tr>\n",
       "    <tr>\n",
       "      <th>7</th>\n",
       "      <td>HCC1806</td>\n",
       "      <td>ADAM17</td>\n",
       "      <td>1</td>\n",
       "      <td>0.313992</td>\n",
       "      <td>10.000000</td>\n",
       "      <td>63.399635</td>\n",
       "    </tr>\n",
       "    <tr>\n",
       "      <th>8</th>\n",
       "      <td>HCC1937</td>\n",
       "      <td>ADAM17</td>\n",
       "      <td>1</td>\n",
       "      <td>1.000000</td>\n",
       "      <td>0.771830</td>\n",
       "      <td>41.529554</td>\n",
       "    </tr>\n",
       "  </tbody>\n",
       "</table>\n",
       "</div>"
      ],
      "text/plain": [
       "  CELL_LINE COMPOUND  MAX_CONC      IC50          H       Einf\n",
       "0     BT-20   ADAM17         1  1.000000   0.809002  59.122436\n",
       "2    CAL-51   ADAM17         1  1.000000   0.726984  11.150843\n",
       "5   HCC1187   ADAM17         1  0.410029   1.496901  51.921265\n",
       "7   HCC1806   ADAM17         1  0.313992  10.000000  63.399635\n",
       "8   HCC1937   ADAM17         1  1.000000   0.771830  41.529554"
      ]
     },
     "execution_count": 22,
     "metadata": {},
     "output_type": "execute_result"
    }
   ],
   "source": [
    "compound_cell_line_data.head()"
   ]
  },
  {
   "cell_type": "code",
   "execution_count": 23,
   "metadata": {
    "collapsed": false
   },
   "outputs": [
    {
     "data": {
      "text/html": [
       "<div>\n",
       "<table border=\"1\" class=\"dataframe\">\n",
       "  <thead>\n",
       "    <tr style=\"text-align: right;\">\n",
       "      <th></th>\n",
       "      <th>d</th>\n",
       "      <th>c</th>\n",
       "      <th>max_conc_gbdc_min</th>\n",
       "      <th>max_conc_gbdc_max</th>\n",
       "      <th>max_conc_gbdc_mean</th>\n",
       "      <th>max_conc_gbdc_std</th>\n",
       "      <th>ic50_gbdc_min</th>\n",
       "      <th>ic50_gbdc_max</th>\n",
       "      <th>ic50_gbdc_mean</th>\n",
       "      <th>ic50_gbdc_std</th>\n",
       "      <th>h_gbdc_min</th>\n",
       "      <th>h_gbdc_max</th>\n",
       "      <th>h_gbdc_mean</th>\n",
       "      <th>h_gbdc_std</th>\n",
       "      <th>einf_gbdc_min</th>\n",
       "      <th>einf_gbdc_max</th>\n",
       "      <th>einf_gbdc_mean</th>\n",
       "      <th>einf_gbdc_std</th>\n",
       "      <th>count_gbdc</th>\n",
       "    </tr>\n",
       "  </thead>\n",
       "  <tbody>\n",
       "    <tr>\n",
       "      <th>0</th>\n",
       "      <td>ADAM17</td>\n",
       "      <td>A549</td>\n",
       "      <td>1</td>\n",
       "      <td>3</td>\n",
       "      <td>2.333333</td>\n",
       "      <td>1.154701</td>\n",
       "      <td>1.000000</td>\n",
       "      <td>3.000000</td>\n",
       "      <td>1.666667</td>\n",
       "      <td>1.154701</td>\n",
       "      <td>0.000000</td>\n",
       "      <td>1.140817</td>\n",
       "      <td>0.380272</td>\n",
       "      <td>0.658651</td>\n",
       "      <td>10.136795</td>\n",
       "      <td>100.000000</td>\n",
       "      <td>70.045598</td>\n",
       "      <td>51.882545</td>\n",
       "      <td>3</td>\n",
       "    </tr>\n",
       "    <tr>\n",
       "      <th>1</th>\n",
       "      <td>ADAM17</td>\n",
       "      <td>BT-20</td>\n",
       "      <td>1</td>\n",
       "      <td>1</td>\n",
       "      <td>1.000000</td>\n",
       "      <td>0.000000</td>\n",
       "      <td>0.103440</td>\n",
       "      <td>1.000000</td>\n",
       "      <td>0.764106</td>\n",
       "      <td>0.306370</td>\n",
       "      <td>0.383972</td>\n",
       "      <td>1.490744</td>\n",
       "      <td>0.973217</td>\n",
       "      <td>0.403961</td>\n",
       "      <td>0.000000</td>\n",
       "      <td>82.067345</td>\n",
       "      <td>39.904304</td>\n",
       "      <td>29.518787</td>\n",
       "      <td>8</td>\n",
       "    </tr>\n",
       "    <tr>\n",
       "      <th>2</th>\n",
       "      <td>ADAM17</td>\n",
       "      <td>BT-549</td>\n",
       "      <td>1</td>\n",
       "      <td>1</td>\n",
       "      <td>1.000000</td>\n",
       "      <td>0.000000</td>\n",
       "      <td>0.000100</td>\n",
       "      <td>1.000000</td>\n",
       "      <td>0.321746</td>\n",
       "      <td>0.324553</td>\n",
       "      <td>0.100000</td>\n",
       "      <td>4.159118</td>\n",
       "      <td>1.323676</td>\n",
       "      <td>1.281327</td>\n",
       "      <td>0.000000</td>\n",
       "      <td>81.024292</td>\n",
       "      <td>49.267057</td>\n",
       "      <td>26.993345</td>\n",
       "      <td>8</td>\n",
       "    </tr>\n",
       "    <tr>\n",
       "      <th>3</th>\n",
       "      <td>ADAM17</td>\n",
       "      <td>CAL-120</td>\n",
       "      <td>1</td>\n",
       "      <td>1</td>\n",
       "      <td>1.000000</td>\n",
       "      <td>0.000000</td>\n",
       "      <td>0.094510</td>\n",
       "      <td>1.000000</td>\n",
       "      <td>0.415736</td>\n",
       "      <td>0.506823</td>\n",
       "      <td>0.000000</td>\n",
       "      <td>3.681096</td>\n",
       "      <td>1.737925</td>\n",
       "      <td>1.849111</td>\n",
       "      <td>44.192363</td>\n",
       "      <td>100.000000</td>\n",
       "      <td>70.709807</td>\n",
       "      <td>28.006949</td>\n",
       "      <td>3</td>\n",
       "    </tr>\n",
       "    <tr>\n",
       "      <th>4</th>\n",
       "      <td>ADAM17</td>\n",
       "      <td>CAL-148</td>\n",
       "      <td>1</td>\n",
       "      <td>1</td>\n",
       "      <td>1.000000</td>\n",
       "      <td>0.000000</td>\n",
       "      <td>0.011726</td>\n",
       "      <td>0.331856</td>\n",
       "      <td>0.204963</td>\n",
       "      <td>0.131471</td>\n",
       "      <td>1.500265</td>\n",
       "      <td>10.000000</td>\n",
       "      <td>3.616380</td>\n",
       "      <td>3.596905</td>\n",
       "      <td>1.100779</td>\n",
       "      <td>92.371276</td>\n",
       "      <td>40.196914</td>\n",
       "      <td>40.613068</td>\n",
       "      <td>5</td>\n",
       "    </tr>\n",
       "  </tbody>\n",
       "</table>\n",
       "</div>"
      ],
      "text/plain": [
       "        d        c  max_conc_gbdc_min  max_conc_gbdc_max  max_conc_gbdc_mean  max_conc_gbdc_std  ic50_gbdc_min  ic50_gbdc_max  ic50_gbdc_mean  ic50_gbdc_std  h_gbdc_min  h_gbdc_max  h_gbdc_mean  h_gbdc_std  einf_gbdc_min  einf_gbdc_max  einf_gbdc_mean  einf_gbdc_std  count_gbdc\n",
       "0  ADAM17     A549                  1                  3            2.333333           1.154701       1.000000       3.000000        1.666667       1.154701    0.000000    1.140817     0.380272    0.658651      10.136795     100.000000       70.045598      51.882545           3\n",
       "1  ADAM17    BT-20                  1                  1            1.000000           0.000000       0.103440       1.000000        0.764106       0.306370    0.383972    1.490744     0.973217    0.403961       0.000000      82.067345       39.904304      29.518787           8\n",
       "2  ADAM17   BT-549                  1                  1            1.000000           0.000000       0.000100       1.000000        0.321746       0.324553    0.100000    4.159118     1.323676    1.281327       0.000000      81.024292       49.267057      26.993345           8\n",
       "3  ADAM17  CAL-120                  1                  1            1.000000           0.000000       0.094510       1.000000        0.415736       0.506823    0.000000    3.681096     1.737925    1.849111      44.192363     100.000000       70.709807      28.006949           3\n",
       "4  ADAM17  CAL-148                  1                  1            1.000000           0.000000       0.011726       0.331856        0.204963       0.131471    1.500265   10.000000     3.616380    3.596905       1.100779      92.371276       40.196914      40.613068           5"
      ]
     },
     "execution_count": 23,
     "metadata": {},
     "output_type": "execute_result"
    }
   ],
   "source": [
    "ALL_TRAINING_DATA_GBDCL = fn.my_groupby(\n",
    "    compound_cell_line_data.rename(columns={'COMPOUND': 'd', 'CELL_LINE': 'c'}), \n",
    "    by=['d', 'c'], \n",
    "    name='gbdc'\n",
    ")\n",
    "ALL_TRAINING_DATA_GBDCL.head()"
   ]
  },
  {
   "cell_type": "code",
   "execution_count": null,
   "metadata": {
    "collapsed": false,
    "run_control": {
     "marked": false
    }
   },
   "outputs": [],
   "source": []
  },
  {
   "cell_type": "markdown",
   "metadata": {
    "run_control": {
     "marked": false
    }
   },
   "source": [
    "### C"
   ]
  },
  {
   "cell_type": "code",
   "execution_count": 24,
   "metadata": {
    "collapsed": false,
    "run_control": {
     "marked": false
    }
   },
   "outputs": [
    {
     "data": {
      "text/html": [
       "<div>\n",
       "<table border=\"1\" class=\"dataframe\">\n",
       "  <thead>\n",
       "    <tr style=\"text-align: right;\">\n",
       "      <th></th>\n",
       "      <th>c</th>\n",
       "      <th>max_conc_gbc_min</th>\n",
       "      <th>max_conc_gbc_max</th>\n",
       "      <th>max_conc_gbc_mean</th>\n",
       "      <th>max_conc_gbc_std</th>\n",
       "      <th>ic50_gbc_min</th>\n",
       "      <th>ic50_gbc_max</th>\n",
       "      <th>ic50_gbc_mean</th>\n",
       "      <th>ic50_gbc_std</th>\n",
       "      <th>h_gbc_min</th>\n",
       "      <th>h_gbc_max</th>\n",
       "      <th>h_gbc_mean</th>\n",
       "      <th>h_gbc_std</th>\n",
       "      <th>einf_gbc_min</th>\n",
       "      <th>einf_gbc_max</th>\n",
       "      <th>einf_gbc_mean</th>\n",
       "      <th>einf_gbc_std</th>\n",
       "      <th>count_gbc</th>\n",
       "    </tr>\n",
       "  </thead>\n",
       "  <tbody>\n",
       "    <tr>\n",
       "      <th>0</th>\n",
       "      <td>22RV1</td>\n",
       "      <td>1.000</td>\n",
       "      <td>10</td>\n",
       "      <td>4.500000</td>\n",
       "      <td>4.229526</td>\n",
       "      <td>0.000300</td>\n",
       "      <td>10</td>\n",
       "      <td>1.659355</td>\n",
       "      <td>2.561437</td>\n",
       "      <td>0</td>\n",
       "      <td>10</td>\n",
       "      <td>4.110479</td>\n",
       "      <td>4.284195</td>\n",
       "      <td>23.235716</td>\n",
       "      <td>100</td>\n",
       "      <td>64.816692</td>\n",
       "      <td>22.818861</td>\n",
       "      <td>28</td>\n",
       "    </tr>\n",
       "    <tr>\n",
       "      <th>1</th>\n",
       "      <td>647-V</td>\n",
       "      <td>0.003</td>\n",
       "      <td>3</td>\n",
       "      <td>2.064613</td>\n",
       "      <td>1.269595</td>\n",
       "      <td>0.000010</td>\n",
       "      <td>3</td>\n",
       "      <td>1.028795</td>\n",
       "      <td>0.989565</td>\n",
       "      <td>0</td>\n",
       "      <td>10</td>\n",
       "      <td>3.777782</td>\n",
       "      <td>3.694869</td>\n",
       "      <td>0.000000</td>\n",
       "      <td>100</td>\n",
       "      <td>43.452267</td>\n",
       "      <td>37.343984</td>\n",
       "      <td>382</td>\n",
       "    </tr>\n",
       "    <tr>\n",
       "      <th>2</th>\n",
       "      <td>A549</td>\n",
       "      <td>0.003</td>\n",
       "      <td>10</td>\n",
       "      <td>2.181102</td>\n",
       "      <td>1.673714</td>\n",
       "      <td>0.000300</td>\n",
       "      <td>3</td>\n",
       "      <td>1.139836</td>\n",
       "      <td>1.127212</td>\n",
       "      <td>0</td>\n",
       "      <td>10</td>\n",
       "      <td>3.039925</td>\n",
       "      <td>3.570279</td>\n",
       "      <td>0.000000</td>\n",
       "      <td>100</td>\n",
       "      <td>44.840635</td>\n",
       "      <td>38.620013</td>\n",
       "      <td>166</td>\n",
       "    </tr>\n",
       "    <tr>\n",
       "      <th>3</th>\n",
       "      <td>BFTC-905</td>\n",
       "      <td>0.003</td>\n",
       "      <td>3</td>\n",
       "      <td>2.493151</td>\n",
       "      <td>1.039579</td>\n",
       "      <td>0.000300</td>\n",
       "      <td>3</td>\n",
       "      <td>0.873172</td>\n",
       "      <td>1.003254</td>\n",
       "      <td>0</td>\n",
       "      <td>10</td>\n",
       "      <td>2.850973</td>\n",
       "      <td>3.232453</td>\n",
       "      <td>0.000000</td>\n",
       "      <td>100</td>\n",
       "      <td>28.370663</td>\n",
       "      <td>28.843840</td>\n",
       "      <td>372</td>\n",
       "    </tr>\n",
       "    <tr>\n",
       "      <th>4</th>\n",
       "      <td>BT-20</td>\n",
       "      <td>0.010</td>\n",
       "      <td>75</td>\n",
       "      <td>2.950508</td>\n",
       "      <td>10.701853</td>\n",
       "      <td>0.000088</td>\n",
       "      <td>75</td>\n",
       "      <td>1.800594</td>\n",
       "      <td>8.697959</td>\n",
       "      <td>0</td>\n",
       "      <td>10</td>\n",
       "      <td>2.381551</td>\n",
       "      <td>3.097089</td>\n",
       "      <td>0.000000</td>\n",
       "      <td>100</td>\n",
       "      <td>47.513079</td>\n",
       "      <td>30.121828</td>\n",
       "      <td>374</td>\n",
       "    </tr>\n",
       "  </tbody>\n",
       "</table>\n",
       "</div>"
      ],
      "text/plain": [
       "          c  max_conc_gbc_min  max_conc_gbc_max  max_conc_gbc_mean  max_conc_gbc_std  ic50_gbc_min  ic50_gbc_max  ic50_gbc_mean  ic50_gbc_std  h_gbc_min  h_gbc_max  h_gbc_mean  h_gbc_std  einf_gbc_min  einf_gbc_max  einf_gbc_mean  einf_gbc_std  count_gbc\n",
       "0     22RV1             1.000                10           4.500000          4.229526      0.000300            10       1.659355      2.561437          0         10    4.110479   4.284195     23.235716           100      64.816692     22.818861         28\n",
       "1     647-V             0.003                 3           2.064613          1.269595      0.000010             3       1.028795      0.989565          0         10    3.777782   3.694869      0.000000           100      43.452267     37.343984        382\n",
       "2      A549             0.003                10           2.181102          1.673714      0.000300             3       1.139836      1.127212          0         10    3.039925   3.570279      0.000000           100      44.840635     38.620013        166\n",
       "3  BFTC-905             0.003                 3           2.493151          1.039579      0.000300             3       0.873172      1.003254          0         10    2.850973   3.232453      0.000000           100      28.370663     28.843840        372\n",
       "4     BT-20             0.010                75           2.950508         10.701853      0.000088            75       1.800594      8.697959          0         10    2.381551   3.097089      0.000000           100      47.513079     30.121828        374"
      ]
     },
     "execution_count": 24,
     "metadata": {},
     "output_type": "execute_result"
    }
   ],
   "source": [
    "ALL_TRAINING_DATA_GBCL = fn.my_groupby(\n",
    "    compound_cell_line_data.rename(columns={'COMPOUND': 'd', 'CELL_LINE': 'c'}).drop('d', axis=1), \n",
    "    by='c', \n",
    "    name='gbc'\n",
    ")\n",
    "ALL_TRAINING_DATA_GBCL.head()"
   ]
  },
  {
   "cell_type": "code",
   "execution_count": null,
   "metadata": {
    "collapsed": true,
    "run_control": {
     "marked": false
    }
   },
   "outputs": [],
   "source": []
  },
  {
   "cell_type": "markdown",
   "metadata": {
    "code_folding": [],
    "run_control": {
     "marked": false
    }
   },
   "source": [
    "### DD"
   ]
  },
  {
   "cell_type": "code",
   "execution_count": 25,
   "metadata": {
    "collapsed": false,
    "run_control": {
     "marked": false
    }
   },
   "outputs": [
    {
     "data": {
      "text/html": [
       "<div>\n",
       "<table border=\"1\" class=\"dataframe\">\n",
       "  <thead>\n",
       "    <tr style=\"text-align: right;\">\n",
       "      <th></th>\n",
       "      <th>d_1</th>\n",
       "      <th>d_2</th>\n",
       "      <th>max_conc_a_gbdd_min</th>\n",
       "      <th>max_conc_a_gbdd_max</th>\n",
       "      <th>max_conc_a_gbdd_mean</th>\n",
       "      <th>max_conc_a_gbdd_std</th>\n",
       "      <th>max_conc_b_gbdd_min</th>\n",
       "      <th>max_conc_b_gbdd_max</th>\n",
       "      <th>max_conc_b_gbdd_mean</th>\n",
       "      <th>max_conc_b_gbdd_std</th>\n",
       "      <th>ic50_a_gbdd_min</th>\n",
       "      <th>ic50_a_gbdd_max</th>\n",
       "      <th>ic50_a_gbdd_mean</th>\n",
       "      <th>ic50_a_gbdd_std</th>\n",
       "      <th>h_a_gbdd_min</th>\n",
       "      <th>h_a_gbdd_max</th>\n",
       "      <th>h_a_gbdd_mean</th>\n",
       "      <th>h_a_gbdd_std</th>\n",
       "      <th>einf_a_gbdd_min</th>\n",
       "      <th>einf_a_gbdd_max</th>\n",
       "      <th>einf_a_gbdd_mean</th>\n",
       "      <th>einf_a_gbdd_std</th>\n",
       "      <th>ic50_b_gbdd_min</th>\n",
       "      <th>ic50_b_gbdd_max</th>\n",
       "      <th>ic50_b_gbdd_mean</th>\n",
       "      <th>ic50_b_gbdd_std</th>\n",
       "      <th>h_b_gbdd_min</th>\n",
       "      <th>h_b_gbdd_max</th>\n",
       "      <th>h_b_gbdd_mean</th>\n",
       "      <th>h_b_gbdd_std</th>\n",
       "      <th>einf_b_gbdd_min</th>\n",
       "      <th>einf_b_gbdd_max</th>\n",
       "      <th>einf_b_gbdd_mean</th>\n",
       "      <th>einf_b_gbdd_std</th>\n",
       "      <th>count_gbdd</th>\n",
       "    </tr>\n",
       "  </thead>\n",
       "  <tbody>\n",
       "    <tr>\n",
       "      <th>0</th>\n",
       "      <td>ADAM17</td>\n",
       "      <td>AKT</td>\n",
       "      <td>1</td>\n",
       "      <td>1</td>\n",
       "      <td>1</td>\n",
       "      <td>0</td>\n",
       "      <td>10</td>\n",
       "      <td>75</td>\n",
       "      <td>71.75</td>\n",
       "      <td>14.534442</td>\n",
       "      <td>0.126186</td>\n",
       "      <td>1</td>\n",
       "      <td>0.575453</td>\n",
       "      <td>0.367001</td>\n",
       "      <td>0.215696</td>\n",
       "      <td>10</td>\n",
       "      <td>2.839292</td>\n",
       "      <td>3.280994</td>\n",
       "      <td>0.000000</td>\n",
       "      <td>75.76808</td>\n",
       "      <td>32.685664</td>\n",
       "      <td>25.946161</td>\n",
       "      <td>0.007500</td>\n",
       "      <td>75</td>\n",
       "      <td>9.661006</td>\n",
       "      <td>22.561773</td>\n",
       "      <td>0</td>\n",
       "      <td>10</td>\n",
       "      <td>0.963896</td>\n",
       "      <td>2.391543</td>\n",
       "      <td>48.650054</td>\n",
       "      <td>100</td>\n",
       "      <td>88.447090</td>\n",
       "      <td>16.163458</td>\n",
       "      <td>20</td>\n",
       "    </tr>\n",
       "    <tr>\n",
       "      <th>1</th>\n",
       "      <td>ADAM17</td>\n",
       "      <td>AKT_1</td>\n",
       "      <td>1</td>\n",
       "      <td>1</td>\n",
       "      <td>1</td>\n",
       "      <td>0</td>\n",
       "      <td>75</td>\n",
       "      <td>75</td>\n",
       "      <td>75.00</td>\n",
       "      <td>0.000000</td>\n",
       "      <td>0.033958</td>\n",
       "      <td>1</td>\n",
       "      <td>0.522182</td>\n",
       "      <td>0.384989</td>\n",
       "      <td>0.000000</td>\n",
       "      <td>10</td>\n",
       "      <td>1.849612</td>\n",
       "      <td>2.718638</td>\n",
       "      <td>0.000000</td>\n",
       "      <td>100.00000</td>\n",
       "      <td>45.952280</td>\n",
       "      <td>32.631481</td>\n",
       "      <td>0.007500</td>\n",
       "      <td>75</td>\n",
       "      <td>14.136863</td>\n",
       "      <td>25.992584</td>\n",
       "      <td>0</td>\n",
       "      <td>10</td>\n",
       "      <td>1.116272</td>\n",
       "      <td>2.919348</td>\n",
       "      <td>35.104195</td>\n",
       "      <td>100</td>\n",
       "      <td>86.956282</td>\n",
       "      <td>20.800173</td>\n",
       "      <td>22</td>\n",
       "    </tr>\n",
       "    <tr>\n",
       "      <th>2</th>\n",
       "      <td>ADAM17</td>\n",
       "      <td>BCL2_BCL2L1</td>\n",
       "      <td>1</td>\n",
       "      <td>1</td>\n",
       "      <td>1</td>\n",
       "      <td>0</td>\n",
       "      <td>75</td>\n",
       "      <td>75</td>\n",
       "      <td>75.00</td>\n",
       "      <td>0.000000</td>\n",
       "      <td>0.000100</td>\n",
       "      <td>1</td>\n",
       "      <td>0.562540</td>\n",
       "      <td>0.433605</td>\n",
       "      <td>0.000000</td>\n",
       "      <td>10</td>\n",
       "      <td>2.474769</td>\n",
       "      <td>3.688161</td>\n",
       "      <td>0.074954</td>\n",
       "      <td>100.00000</td>\n",
       "      <td>55.634417</td>\n",
       "      <td>31.277824</td>\n",
       "      <td>0.007500</td>\n",
       "      <td>75</td>\n",
       "      <td>19.323405</td>\n",
       "      <td>31.866789</td>\n",
       "      <td>0</td>\n",
       "      <td>10</td>\n",
       "      <td>1.395987</td>\n",
       "      <td>2.959930</td>\n",
       "      <td>7.400386</td>\n",
       "      <td>100</td>\n",
       "      <td>85.174268</td>\n",
       "      <td>24.301230</td>\n",
       "      <td>22</td>\n",
       "    </tr>\n",
       "    <tr>\n",
       "      <th>3</th>\n",
       "      <td>ADAM17</td>\n",
       "      <td>EGFR_2</td>\n",
       "      <td>1</td>\n",
       "      <td>1</td>\n",
       "      <td>1</td>\n",
       "      <td>0</td>\n",
       "      <td>10</td>\n",
       "      <td>10</td>\n",
       "      <td>10.00</td>\n",
       "      <td>0.000000</td>\n",
       "      <td>0.082335</td>\n",
       "      <td>1</td>\n",
       "      <td>0.690256</td>\n",
       "      <td>0.380578</td>\n",
       "      <td>0.000000</td>\n",
       "      <td>10</td>\n",
       "      <td>3.474409</td>\n",
       "      <td>4.153039</td>\n",
       "      <td>7.122209</td>\n",
       "      <td>100.00000</td>\n",
       "      <td>79.522193</td>\n",
       "      <td>22.151552</td>\n",
       "      <td>0.001000</td>\n",
       "      <td>10</td>\n",
       "      <td>5.794356</td>\n",
       "      <td>4.573942</td>\n",
       "      <td>0</td>\n",
       "      <td>10</td>\n",
       "      <td>2.133355</td>\n",
       "      <td>3.663599</td>\n",
       "      <td>0.000000</td>\n",
       "      <td>100</td>\n",
       "      <td>73.957455</td>\n",
       "      <td>27.071963</td>\n",
       "      <td>19</td>\n",
       "    </tr>\n",
       "    <tr>\n",
       "      <th>4</th>\n",
       "      <td>ADAM17</td>\n",
       "      <td>ERBB</td>\n",
       "      <td>3</td>\n",
       "      <td>3</td>\n",
       "      <td>3</td>\n",
       "      <td>0</td>\n",
       "      <td>10</td>\n",
       "      <td>10</td>\n",
       "      <td>10.00</td>\n",
       "      <td>0.000000</td>\n",
       "      <td>0.000300</td>\n",
       "      <td>3</td>\n",
       "      <td>1.443599</td>\n",
       "      <td>1.198901</td>\n",
       "      <td>0.000000</td>\n",
       "      <td>10</td>\n",
       "      <td>1.188095</td>\n",
       "      <td>2.145512</td>\n",
       "      <td>0.000000</td>\n",
       "      <td>100.00000</td>\n",
       "      <td>55.431472</td>\n",
       "      <td>31.679955</td>\n",
       "      <td>0.064802</td>\n",
       "      <td>10</td>\n",
       "      <td>5.869894</td>\n",
       "      <td>4.501350</td>\n",
       "      <td>0</td>\n",
       "      <td>10</td>\n",
       "      <td>2.488700</td>\n",
       "      <td>3.884790</td>\n",
       "      <td>0.000000</td>\n",
       "      <td>100</td>\n",
       "      <td>69.868643</td>\n",
       "      <td>26.824280</td>\n",
       "      <td>20</td>\n",
       "    </tr>\n",
       "  </tbody>\n",
       "</table>\n",
       "</div>"
      ],
      "text/plain": [
       "      d_1          d_2  max_conc_a_gbdd_min  max_conc_a_gbdd_max  max_conc_a_gbdd_mean  max_conc_a_gbdd_std  max_conc_b_gbdd_min  max_conc_b_gbdd_max  max_conc_b_gbdd_mean  max_conc_b_gbdd_std  ic50_a_gbdd_min  ic50_a_gbdd_max  ic50_a_gbdd_mean  ic50_a_gbdd_std  h_a_gbdd_min  h_a_gbdd_max  h_a_gbdd_mean  h_a_gbdd_std  einf_a_gbdd_min  einf_a_gbdd_max  einf_a_gbdd_mean  einf_a_gbdd_std  ic50_b_gbdd_min  ic50_b_gbdd_max  ic50_b_gbdd_mean  ic50_b_gbdd_std  h_b_gbdd_min  h_b_gbdd_max  h_b_gbdd_mean  h_b_gbdd_std  einf_b_gbdd_min  einf_b_gbdd_max  einf_b_gbdd_mean  einf_b_gbdd_std  count_gbdd\n",
       "0  ADAM17          AKT                    1                    1                     1                    0                   10                   75                 71.75            14.534442         0.126186                1          0.575453         0.367001      0.215696            10       2.839292      3.280994         0.000000         75.76808         32.685664        25.946161         0.007500               75          9.661006        22.561773             0            10       0.963896      2.391543        48.650054              100         88.447090        16.163458          20\n",
       "1  ADAM17        AKT_1                    1                    1                     1                    0                   75                   75                 75.00             0.000000         0.033958                1          0.522182         0.384989      0.000000            10       1.849612      2.718638         0.000000        100.00000         45.952280        32.631481         0.007500               75         14.136863        25.992584             0            10       1.116272      2.919348        35.104195              100         86.956282        20.800173          22\n",
       "2  ADAM17  BCL2_BCL2L1                    1                    1                     1                    0                   75                   75                 75.00             0.000000         0.000100                1          0.562540         0.433605      0.000000            10       2.474769      3.688161         0.074954        100.00000         55.634417        31.277824         0.007500               75         19.323405        31.866789             0            10       1.395987      2.959930         7.400386              100         85.174268        24.301230          22\n",
       "3  ADAM17       EGFR_2                    1                    1                     1                    0                   10                   10                 10.00             0.000000         0.082335                1          0.690256         0.380578      0.000000            10       3.474409      4.153039         7.122209        100.00000         79.522193        22.151552         0.001000               10          5.794356         4.573942             0            10       2.133355      3.663599         0.000000              100         73.957455        27.071963          19\n",
       "4  ADAM17         ERBB                    3                    3                     3                    0                   10                   10                 10.00             0.000000         0.000300                3          1.443599         1.198901      0.000000            10       1.188095      2.145512         0.000000        100.00000         55.431472        31.679955         0.064802               10          5.869894         4.501350             0            10       2.488700      3.884790         0.000000              100         69.868643        26.824280          20"
      ]
     },
     "execution_count": 25,
     "metadata": {},
     "output_type": "execute_result"
    }
   ],
   "source": [
    "ALL_TRAINING_DATA_GBDP = fn.my_groupby(\n",
    "    ALL_TRAINING_DATA.rename(columns={'COMPOUND_A': 'd_1', 'COMPOUND_B': 'd_2'}), \n",
    "    by=['d_1', 'd_2'], \n",
    "    name='gbdd'\n",
    ")\n",
    "ALL_TRAINING_DATA_GBDP.head()"
   ]
  },
  {
   "cell_type": "code",
   "execution_count": 26,
   "metadata": {
    "collapsed": false,
    "run_control": {
     "marked": false
    }
   },
   "outputs": [
    {
     "name": "stdout",
     "output_type": "stream",
     "text": [
      "dropping the following columns: ['max_conc_a_gbdd_min', 'max_conc_b_gbdd_min', 'max_conc_a_gbdd_max', 'max_conc_b_gbdd_max', 'max_conc_a_gbdd_mean', 'max_conc_b_gbdd_mean', 'max_conc_a_gbdd_std', 'max_conc_b_gbdd_std', 'ic50_a_gbdd_min', 'ic50_b_gbdd_min', 'ic50_a_gbdd_max', 'ic50_b_gbdd_max', 'ic50_a_gbdd_mean', 'ic50_b_gbdd_mean', 'ic50_a_gbdd_std', 'ic50_b_gbdd_std', 'h_a_gbdd_min', 'h_b_gbdd_min', 'h_a_gbdd_max', 'h_b_gbdd_max', 'h_a_gbdd_mean', 'h_b_gbdd_mean', 'h_a_gbdd_std', 'h_b_gbdd_std', 'einf_a_gbdd_min', 'einf_b_gbdd_min', 'einf_a_gbdd_max', 'einf_b_gbdd_max', 'einf_a_gbdd_mean', 'einf_b_gbdd_mean', 'einf_a_gbdd_std', 'einf_b_gbdd_std']\n"
     ]
    },
    {
     "data": {
      "text/html": [
       "<div>\n",
       "<table border=\"1\" class=\"dataframe\">\n",
       "  <thead>\n",
       "    <tr style=\"text-align: right;\">\n",
       "      <th></th>\n",
       "      <th>d_1</th>\n",
       "      <th>d_2</th>\n",
       "      <th>count_gbdd</th>\n",
       "      <th>max_conc_gbdd_min_mean</th>\n",
       "      <th>max_conc_gbdd_min_diff</th>\n",
       "      <th>max_conc_gbdd_max_mean</th>\n",
       "      <th>max_conc_gbdd_max_diff</th>\n",
       "      <th>max_conc_gbdd_mean_mean</th>\n",
       "      <th>max_conc_gbdd_mean_diff</th>\n",
       "      <th>max_conc_gbdd_std_mean</th>\n",
       "      <th>max_conc_gbdd_std_diff</th>\n",
       "      <th>ic50_gbdd_min_mean</th>\n",
       "      <th>ic50_gbdd_min_diff</th>\n",
       "      <th>ic50_gbdd_max_mean</th>\n",
       "      <th>ic50_gbdd_max_diff</th>\n",
       "      <th>ic50_gbdd_mean_mean</th>\n",
       "      <th>ic50_gbdd_mean_diff</th>\n",
       "      <th>ic50_gbdd_std_mean</th>\n",
       "      <th>ic50_gbdd_std_diff</th>\n",
       "      <th>h_gbdd_min_mean</th>\n",
       "      <th>h_gbdd_min_diff</th>\n",
       "      <th>h_gbdd_max_mean</th>\n",
       "      <th>h_gbdd_max_diff</th>\n",
       "      <th>h_gbdd_mean_mean</th>\n",
       "      <th>h_gbdd_mean_diff</th>\n",
       "      <th>h_gbdd_std_mean</th>\n",
       "      <th>h_gbdd_std_diff</th>\n",
       "      <th>einf_gbdd_min_mean</th>\n",
       "      <th>einf_gbdd_min_diff</th>\n",
       "      <th>einf_gbdd_max_mean</th>\n",
       "      <th>einf_gbdd_max_diff</th>\n",
       "      <th>einf_gbdd_mean_mean</th>\n",
       "      <th>einf_gbdd_mean_diff</th>\n",
       "      <th>einf_gbdd_std_mean</th>\n",
       "      <th>einf_gbdd_std_diff</th>\n",
       "    </tr>\n",
       "  </thead>\n",
       "  <tbody>\n",
       "    <tr>\n",
       "      <th>0</th>\n",
       "      <td>ADAM17</td>\n",
       "      <td>AKT</td>\n",
       "      <td>20</td>\n",
       "      <td>5.5</td>\n",
       "      <td>9</td>\n",
       "      <td>38.0</td>\n",
       "      <td>74</td>\n",
       "      <td>36.375</td>\n",
       "      <td>70.75</td>\n",
       "      <td>7.267221</td>\n",
       "      <td>14.534442</td>\n",
       "      <td>0.066843</td>\n",
       "      <td>0.118686</td>\n",
       "      <td>38.0</td>\n",
       "      <td>74</td>\n",
       "      <td>5.118230</td>\n",
       "      <td>9.085554</td>\n",
       "      <td>11.464387</td>\n",
       "      <td>22.194771</td>\n",
       "      <td>0.107848</td>\n",
       "      <td>0.215696</td>\n",
       "      <td>10</td>\n",
       "      <td>0</td>\n",
       "      <td>1.901594</td>\n",
       "      <td>1.875396</td>\n",
       "      <td>2.836268</td>\n",
       "      <td>0.889451</td>\n",
       "      <td>24.325027</td>\n",
       "      <td>48.650054</td>\n",
       "      <td>87.88404</td>\n",
       "      <td>24.23192</td>\n",
       "      <td>60.566377</td>\n",
       "      <td>55.761426</td>\n",
       "      <td>21.054810</td>\n",
       "      <td>9.782703</td>\n",
       "    </tr>\n",
       "    <tr>\n",
       "      <th>1</th>\n",
       "      <td>ADAM17</td>\n",
       "      <td>AKT_1</td>\n",
       "      <td>22</td>\n",
       "      <td>38.0</td>\n",
       "      <td>74</td>\n",
       "      <td>38.0</td>\n",
       "      <td>74</td>\n",
       "      <td>38.000</td>\n",
       "      <td>74.00</td>\n",
       "      <td>0.000000</td>\n",
       "      <td>0.000000</td>\n",
       "      <td>0.020729</td>\n",
       "      <td>0.026458</td>\n",
       "      <td>38.0</td>\n",
       "      <td>74</td>\n",
       "      <td>7.329522</td>\n",
       "      <td>13.614682</td>\n",
       "      <td>13.188787</td>\n",
       "      <td>25.607595</td>\n",
       "      <td>0.000000</td>\n",
       "      <td>0.000000</td>\n",
       "      <td>10</td>\n",
       "      <td>0</td>\n",
       "      <td>1.482942</td>\n",
       "      <td>0.733341</td>\n",
       "      <td>2.818993</td>\n",
       "      <td>0.200710</td>\n",
       "      <td>17.552098</td>\n",
       "      <td>35.104195</td>\n",
       "      <td>100.00000</td>\n",
       "      <td>0.00000</td>\n",
       "      <td>66.454281</td>\n",
       "      <td>41.004002</td>\n",
       "      <td>26.715827</td>\n",
       "      <td>11.831308</td>\n",
       "    </tr>\n",
       "    <tr>\n",
       "      <th>2</th>\n",
       "      <td>ADAM17</td>\n",
       "      <td>BCL2_BCL2L1</td>\n",
       "      <td>22</td>\n",
       "      <td>38.0</td>\n",
       "      <td>74</td>\n",
       "      <td>38.0</td>\n",
       "      <td>74</td>\n",
       "      <td>38.000</td>\n",
       "      <td>74.00</td>\n",
       "      <td>0.000000</td>\n",
       "      <td>0.000000</td>\n",
       "      <td>0.003800</td>\n",
       "      <td>0.007400</td>\n",
       "      <td>38.0</td>\n",
       "      <td>74</td>\n",
       "      <td>9.942972</td>\n",
       "      <td>18.760865</td>\n",
       "      <td>16.150197</td>\n",
       "      <td>31.433183</td>\n",
       "      <td>0.000000</td>\n",
       "      <td>0.000000</td>\n",
       "      <td>10</td>\n",
       "      <td>0</td>\n",
       "      <td>1.935378</td>\n",
       "      <td>1.078782</td>\n",
       "      <td>3.324046</td>\n",
       "      <td>0.728231</td>\n",
       "      <td>3.737670</td>\n",
       "      <td>7.325433</td>\n",
       "      <td>100.00000</td>\n",
       "      <td>0.00000</td>\n",
       "      <td>70.404342</td>\n",
       "      <td>29.539851</td>\n",
       "      <td>27.789527</td>\n",
       "      <td>6.976594</td>\n",
       "    </tr>\n",
       "    <tr>\n",
       "      <th>3</th>\n",
       "      <td>ADAM17</td>\n",
       "      <td>EGFR_2</td>\n",
       "      <td>19</td>\n",
       "      <td>5.5</td>\n",
       "      <td>9</td>\n",
       "      <td>5.5</td>\n",
       "      <td>9</td>\n",
       "      <td>5.500</td>\n",
       "      <td>9.00</td>\n",
       "      <td>0.000000</td>\n",
       "      <td>0.000000</td>\n",
       "      <td>0.041668</td>\n",
       "      <td>0.081335</td>\n",
       "      <td>5.5</td>\n",
       "      <td>9</td>\n",
       "      <td>3.242306</td>\n",
       "      <td>5.104101</td>\n",
       "      <td>2.477260</td>\n",
       "      <td>4.193364</td>\n",
       "      <td>0.000000</td>\n",
       "      <td>0.000000</td>\n",
       "      <td>10</td>\n",
       "      <td>0</td>\n",
       "      <td>2.803882</td>\n",
       "      <td>1.341054</td>\n",
       "      <td>3.908319</td>\n",
       "      <td>0.489440</td>\n",
       "      <td>3.561105</td>\n",
       "      <td>7.122209</td>\n",
       "      <td>100.00000</td>\n",
       "      <td>0.00000</td>\n",
       "      <td>76.739824</td>\n",
       "      <td>5.564739</td>\n",
       "      <td>24.611758</td>\n",
       "      <td>4.920411</td>\n",
       "    </tr>\n",
       "    <tr>\n",
       "      <th>4</th>\n",
       "      <td>ADAM17</td>\n",
       "      <td>ERBB</td>\n",
       "      <td>20</td>\n",
       "      <td>6.5</td>\n",
       "      <td>7</td>\n",
       "      <td>6.5</td>\n",
       "      <td>7</td>\n",
       "      <td>6.500</td>\n",
       "      <td>7.00</td>\n",
       "      <td>0.000000</td>\n",
       "      <td>0.000000</td>\n",
       "      <td>0.032551</td>\n",
       "      <td>0.064502</td>\n",
       "      <td>6.5</td>\n",
       "      <td>7</td>\n",
       "      <td>3.656746</td>\n",
       "      <td>4.426296</td>\n",
       "      <td>2.850126</td>\n",
       "      <td>3.302449</td>\n",
       "      <td>0.000000</td>\n",
       "      <td>0.000000</td>\n",
       "      <td>10</td>\n",
       "      <td>0</td>\n",
       "      <td>1.838397</td>\n",
       "      <td>1.300605</td>\n",
       "      <td>3.015151</td>\n",
       "      <td>1.739278</td>\n",
       "      <td>0.000000</td>\n",
       "      <td>0.000000</td>\n",
       "      <td>100.00000</td>\n",
       "      <td>0.00000</td>\n",
       "      <td>62.650057</td>\n",
       "      <td>14.437171</td>\n",
       "      <td>29.252118</td>\n",
       "      <td>4.855676</td>\n",
       "    </tr>\n",
       "  </tbody>\n",
       "</table>\n",
       "</div>"
      ],
      "text/plain": [
       "      d_1          d_2  count_gbdd  max_conc_gbdd_min_mean  max_conc_gbdd_min_diff  max_conc_gbdd_max_mean  max_conc_gbdd_max_diff  max_conc_gbdd_mean_mean  max_conc_gbdd_mean_diff  max_conc_gbdd_std_mean  max_conc_gbdd_std_diff  ic50_gbdd_min_mean  ic50_gbdd_min_diff  ic50_gbdd_max_mean  ic50_gbdd_max_diff  ic50_gbdd_mean_mean  ic50_gbdd_mean_diff  ic50_gbdd_std_mean  ic50_gbdd_std_diff  h_gbdd_min_mean  h_gbdd_min_diff  h_gbdd_max_mean  h_gbdd_max_diff  h_gbdd_mean_mean  h_gbdd_mean_diff  h_gbdd_std_mean  h_gbdd_std_diff  einf_gbdd_min_mean  einf_gbdd_min_diff  einf_gbdd_max_mean  einf_gbdd_max_diff  einf_gbdd_mean_mean  einf_gbdd_mean_diff  einf_gbdd_std_mean  einf_gbdd_std_diff\n",
       "0  ADAM17          AKT          20                     5.5                       9                    38.0                      74                   36.375                    70.75                7.267221               14.534442            0.066843            0.118686                38.0                  74             5.118230             9.085554           11.464387           22.194771         0.107848         0.215696               10                0          1.901594          1.875396         2.836268         0.889451           24.325027           48.650054            87.88404            24.23192            60.566377            55.761426           21.054810            9.782703\n",
       "1  ADAM17        AKT_1          22                    38.0                      74                    38.0                      74                   38.000                    74.00                0.000000                0.000000            0.020729            0.026458                38.0                  74             7.329522            13.614682           13.188787           25.607595         0.000000         0.000000               10                0          1.482942          0.733341         2.818993         0.200710           17.552098           35.104195           100.00000             0.00000            66.454281            41.004002           26.715827           11.831308\n",
       "2  ADAM17  BCL2_BCL2L1          22                    38.0                      74                    38.0                      74                   38.000                    74.00                0.000000                0.000000            0.003800            0.007400                38.0                  74             9.942972            18.760865           16.150197           31.433183         0.000000         0.000000               10                0          1.935378          1.078782         3.324046         0.728231            3.737670            7.325433           100.00000             0.00000            70.404342            29.539851           27.789527            6.976594\n",
       "3  ADAM17       EGFR_2          19                     5.5                       9                     5.5                       9                    5.500                     9.00                0.000000                0.000000            0.041668            0.081335                 5.5                   9             3.242306             5.104101            2.477260            4.193364         0.000000         0.000000               10                0          2.803882          1.341054         3.908319         0.489440            3.561105            7.122209           100.00000             0.00000            76.739824             5.564739           24.611758            4.920411\n",
       "4  ADAM17         ERBB          20                     6.5                       7                     6.5                       7                    6.500                     7.00                0.000000                0.000000            0.032551            0.064502                 6.5                   7             3.656746             4.426296            2.850126            3.302449         0.000000         0.000000               10                0          1.838397          1.300605         3.015151         1.739278            0.000000            0.000000           100.00000             0.00000            62.650057            14.437171           29.252118            4.855676"
      ]
     },
     "execution_count": 26,
     "metadata": {},
     "output_type": "execute_result"
    }
   ],
   "source": [
    "ALL_TRAINING_DATA_GBDP = convert_features_to_differences(ALL_TRAINING_DATA_GBDP)\n",
    "ALL_TRAINING_DATA_GBDP.head()"
   ]
  },
  {
   "cell_type": "code",
   "execution_count": null,
   "metadata": {
    "collapsed": true,
    "run_control": {
     "marked": false
    }
   },
   "outputs": [],
   "source": []
  },
  {
   "cell_type": "markdown",
   "metadata": {
    "run_control": {
     "marked": false
    }
   },
   "source": [
    "### To differences "
   ]
  },
  {
   "cell_type": "markdown",
   "metadata": {},
   "source": [
    "#### ALL_TRAINING_DATA"
   ]
  },
  {
   "cell_type": "code",
   "execution_count": 27,
   "metadata": {
    "collapsed": false,
    "run_control": {
     "marked": false
    }
   },
   "outputs": [
    {
     "name": "stdout",
     "output_type": "stream",
     "text": [
      "dropping the following columns: ['max_conc_a', 'max_conc_b', 'ic50_a', 'ic50_b', 'h_a', 'h_b', 'einf_a', 'einf_b']\n"
     ]
    },
    {
     "data": {
      "text/html": [
       "<div>\n",
       "<table border=\"1\" class=\"dataframe\">\n",
       "  <thead>\n",
       "    <tr style=\"text-align: right;\">\n",
       "      <th></th>\n",
       "      <th>c</th>\n",
       "      <th>d_1</th>\n",
       "      <th>d_2</th>\n",
       "      <th>source</th>\n",
       "      <th>max_conc_mean</th>\n",
       "      <th>max_conc_diff</th>\n",
       "      <th>ic50_mean</th>\n",
       "      <th>ic50_diff</th>\n",
       "      <th>h_mean</th>\n",
       "      <th>h_diff</th>\n",
       "      <th>einf_mean</th>\n",
       "      <th>einf_diff</th>\n",
       "    </tr>\n",
       "  </thead>\n",
       "  <tbody>\n",
       "    <tr>\n",
       "      <th>0</th>\n",
       "      <td>BT-20</td>\n",
       "      <td>ADAM17</td>\n",
       "      <td>AKT</td>\n",
       "      <td>train</td>\n",
       "      <td>38</td>\n",
       "      <td>74</td>\n",
       "      <td>5.319857</td>\n",
       "      <td>8.639714</td>\n",
       "      <td>0.783490</td>\n",
       "      <td>0.051025</td>\n",
       "      <td>75.357930</td>\n",
       "      <td>32.470988</td>\n",
       "    </tr>\n",
       "    <tr>\n",
       "      <th>2</th>\n",
       "      <td>CAL-51</td>\n",
       "      <td>ADAM17</td>\n",
       "      <td>AKT</td>\n",
       "      <td>train</td>\n",
       "      <td>38</td>\n",
       "      <td>74</td>\n",
       "      <td>38.000000</td>\n",
       "      <td>74.000000</td>\n",
       "      <td>0.551013</td>\n",
       "      <td>0.351941</td>\n",
       "      <td>43.903661</td>\n",
       "      <td>65.505636</td>\n",
       "    </tr>\n",
       "    <tr>\n",
       "      <th>5</th>\n",
       "      <td>HCC1187</td>\n",
       "      <td>ADAM17</td>\n",
       "      <td>AKT</td>\n",
       "      <td>train</td>\n",
       "      <td>38</td>\n",
       "      <td>74</td>\n",
       "      <td>0.705015</td>\n",
       "      <td>0.589971</td>\n",
       "      <td>0.748450</td>\n",
       "      <td>1.496901</td>\n",
       "      <td>75.960632</td>\n",
       "      <td>48.078735</td>\n",
       "    </tr>\n",
       "    <tr>\n",
       "      <th>7</th>\n",
       "      <td>HCC1806</td>\n",
       "      <td>ADAM17</td>\n",
       "      <td>AKT</td>\n",
       "      <td>train</td>\n",
       "      <td>38</td>\n",
       "      <td>74</td>\n",
       "      <td>37.656996</td>\n",
       "      <td>74.686008</td>\n",
       "      <td>5.196285</td>\n",
       "      <td>9.607430</td>\n",
       "      <td>56.024845</td>\n",
       "      <td>14.749581</td>\n",
       "    </tr>\n",
       "    <tr>\n",
       "      <th>8</th>\n",
       "      <td>HCC1937</td>\n",
       "      <td>ADAM17</td>\n",
       "      <td>AKT</td>\n",
       "      <td>train</td>\n",
       "      <td>38</td>\n",
       "      <td>74</td>\n",
       "      <td>1.338962</td>\n",
       "      <td>0.677924</td>\n",
       "      <td>0.945659</td>\n",
       "      <td>0.347657</td>\n",
       "      <td>66.858792</td>\n",
       "      <td>50.658475</td>\n",
       "    </tr>\n",
       "  </tbody>\n",
       "</table>\n",
       "</div>"
      ],
      "text/plain": [
       "         c     d_1  d_2 source  max_conc_mean  max_conc_diff  ic50_mean  ic50_diff    h_mean    h_diff  einf_mean  einf_diff\n",
       "0    BT-20  ADAM17  AKT  train             38             74   5.319857   8.639714  0.783490  0.051025  75.357930  32.470988\n",
       "2   CAL-51  ADAM17  AKT  train             38             74  38.000000  74.000000  0.551013  0.351941  43.903661  65.505636\n",
       "5  HCC1187  ADAM17  AKT  train             38             74   0.705015   0.589971  0.748450  1.496901  75.960632  48.078735\n",
       "7  HCC1806  ADAM17  AKT  train             38             74  37.656996  74.686008  5.196285  9.607430  56.024845  14.749581\n",
       "8  HCC1937  ADAM17  AKT  train             38             74   1.338962   0.677924  0.945659  0.347657  66.858792  50.658475"
      ]
     },
     "execution_count": 27,
     "metadata": {},
     "output_type": "execute_result"
    }
   ],
   "source": [
    "ALL_TRAINING_DATA = convert_features_to_differences(ALL_TRAINING_DATA)\n",
    "ALL_TRAINING_DATA.head()"
   ]
  },
  {
   "cell_type": "code",
   "execution_count": 28,
   "metadata": {
    "collapsed": false,
    "run_control": {
     "marked": false
    }
   },
   "outputs": [],
   "source": [
    "assert not (ALL_TRAINING_DATA['d_1'].str.lower() > ALL_TRAINING_DATA['d_2'].str.lower()).any()"
   ]
  },
  {
   "cell_type": "code",
   "execution_count": 29,
   "metadata": {
    "collapsed": false,
    "run_control": {
     "marked": false
    },
    "scrolled": true
   },
   "outputs": [
    {
     "data": {
      "text/html": [
       "<div>\n",
       "<table border=\"1\" class=\"dataframe\">\n",
       "  <thead>\n",
       "    <tr style=\"text-align: right;\">\n",
       "      <th></th>\n",
       "      <th>c</th>\n",
       "      <th>d_1</th>\n",
       "      <th>d_2</th>\n",
       "      <th>source</th>\n",
       "      <th>max_conc_mean</th>\n",
       "      <th>max_conc_diff</th>\n",
       "      <th>ic50_mean</th>\n",
       "      <th>ic50_diff</th>\n",
       "      <th>h_mean</th>\n",
       "      <th>h_diff</th>\n",
       "      <th>einf_mean</th>\n",
       "      <th>einf_diff</th>\n",
       "    </tr>\n",
       "  </thead>\n",
       "  <tbody>\n",
       "    <tr>\n",
       "      <th>8333</th>\n",
       "      <td>C32</td>\n",
       "      <td>CHEK1</td>\n",
       "      <td>CHEK1</td>\n",
       "      <td>ch2_test</td>\n",
       "      <td>1.0</td>\n",
       "      <td>0</td>\n",
       "      <td>0.594893</td>\n",
       "      <td>0.465442</td>\n",
       "      <td>10.000000</td>\n",
       "      <td>0.000000</td>\n",
       "      <td>7.198338</td>\n",
       "      <td>14.396676</td>\n",
       "    </tr>\n",
       "    <tr>\n",
       "      <th>8334</th>\n",
       "      <td>COLO-205</td>\n",
       "      <td>CHEK1</td>\n",
       "      <td>CHEK1</td>\n",
       "      <td>ch2_test</td>\n",
       "      <td>1.0</td>\n",
       "      <td>0</td>\n",
       "      <td>0.368795</td>\n",
       "      <td>0.116022</td>\n",
       "      <td>2.582486</td>\n",
       "      <td>0.839280</td>\n",
       "      <td>0.000000</td>\n",
       "      <td>0.000000</td>\n",
       "    </tr>\n",
       "    <tr>\n",
       "      <th>8335</th>\n",
       "      <td>HT-29</td>\n",
       "      <td>CHEK1</td>\n",
       "      <td>CHEK1</td>\n",
       "      <td>ch2_test</td>\n",
       "      <td>1.0</td>\n",
       "      <td>0</td>\n",
       "      <td>0.138658</td>\n",
       "      <td>0.004420</td>\n",
       "      <td>3.463446</td>\n",
       "      <td>0.651387</td>\n",
       "      <td>3.395651</td>\n",
       "      <td>1.124138</td>\n",
       "    </tr>\n",
       "    <tr>\n",
       "      <th>8336</th>\n",
       "      <td>LS-513</td>\n",
       "      <td>CHEK1</td>\n",
       "      <td>CHEK1</td>\n",
       "      <td>ch2_test</td>\n",
       "      <td>0.3</td>\n",
       "      <td>0</td>\n",
       "      <td>0.300000</td>\n",
       "      <td>0.000000</td>\n",
       "      <td>10.000000</td>\n",
       "      <td>0.000000</td>\n",
       "      <td>19.300204</td>\n",
       "      <td>5.400285</td>\n",
       "    </tr>\n",
       "    <tr>\n",
       "      <th>8337</th>\n",
       "      <td>SW48</td>\n",
       "      <td>CHEK1</td>\n",
       "      <td>CHEK1</td>\n",
       "      <td>ch2_test</td>\n",
       "      <td>0.3</td>\n",
       "      <td>0</td>\n",
       "      <td>0.112245</td>\n",
       "      <td>0.014646</td>\n",
       "      <td>2.618789</td>\n",
       "      <td>0.810626</td>\n",
       "      <td>5.403952</td>\n",
       "      <td>7.946475</td>\n",
       "    </tr>\n",
       "    <tr>\n",
       "      <th>8338</th>\n",
       "      <td>SW620</td>\n",
       "      <td>CHEK1</td>\n",
       "      <td>CHEK1</td>\n",
       "      <td>ch2_test</td>\n",
       "      <td>0.3</td>\n",
       "      <td>0</td>\n",
       "      <td>0.181262</td>\n",
       "      <td>0.025201</td>\n",
       "      <td>1.840922</td>\n",
       "      <td>0.999279</td>\n",
       "      <td>0.000000</td>\n",
       "      <td>0.000000</td>\n",
       "    </tr>\n",
       "    <tr>\n",
       "      <th>8339</th>\n",
       "      <td>SW837</td>\n",
       "      <td>CHEK1</td>\n",
       "      <td>CHEK1</td>\n",
       "      <td>ch2_test</td>\n",
       "      <td>0.3</td>\n",
       "      <td>0</td>\n",
       "      <td>0.062493</td>\n",
       "      <td>0.000585</td>\n",
       "      <td>1.607610</td>\n",
       "      <td>0.345784</td>\n",
       "      <td>1.260030</td>\n",
       "      <td>2.520060</td>\n",
       "    </tr>\n",
       "    <tr>\n",
       "      <th>8340</th>\n",
       "      <td>SW948</td>\n",
       "      <td>CHEK1</td>\n",
       "      <td>CHEK1</td>\n",
       "      <td>ch2_test</td>\n",
       "      <td>1.0</td>\n",
       "      <td>0</td>\n",
       "      <td>0.311202</td>\n",
       "      <td>0.002641</td>\n",
       "      <td>10.000000</td>\n",
       "      <td>0.000000</td>\n",
       "      <td>3.149091</td>\n",
       "      <td>0.700080</td>\n",
       "    </tr>\n",
       "    <tr>\n",
       "      <th>9712</th>\n",
       "      <td>HCC1187</td>\n",
       "      <td>MTOR_1</td>\n",
       "      <td>MTOR_1</td>\n",
       "      <td>ch2_test</td>\n",
       "      <td>1.0</td>\n",
       "      <td>0</td>\n",
       "      <td>1.000000</td>\n",
       "      <td>0.000000</td>\n",
       "      <td>5.000000</td>\n",
       "      <td>10.000000</td>\n",
       "      <td>75.900005</td>\n",
       "      <td>48.199991</td>\n",
       "    </tr>\n",
       "  </tbody>\n",
       "</table>\n",
       "</div>"
      ],
      "text/plain": [
       "             c     d_1     d_2    source  max_conc_mean  max_conc_diff  ic50_mean  ic50_diff     h_mean     h_diff  einf_mean  einf_diff\n",
       "8333       C32   CHEK1   CHEK1  ch2_test            1.0              0   0.594893   0.465442  10.000000   0.000000   7.198338  14.396676\n",
       "8334  COLO-205   CHEK1   CHEK1  ch2_test            1.0              0   0.368795   0.116022   2.582486   0.839280   0.000000   0.000000\n",
       "8335     HT-29   CHEK1   CHEK1  ch2_test            1.0              0   0.138658   0.004420   3.463446   0.651387   3.395651   1.124138\n",
       "8336    LS-513   CHEK1   CHEK1  ch2_test            0.3              0   0.300000   0.000000  10.000000   0.000000  19.300204   5.400285\n",
       "8337      SW48   CHEK1   CHEK1  ch2_test            0.3              0   0.112245   0.014646   2.618789   0.810626   5.403952   7.946475\n",
       "8338     SW620   CHEK1   CHEK1  ch2_test            0.3              0   0.181262   0.025201   1.840922   0.999279   0.000000   0.000000\n",
       "8339     SW837   CHEK1   CHEK1  ch2_test            0.3              0   0.062493   0.000585   1.607610   0.345784   1.260030   2.520060\n",
       "8340     SW948   CHEK1   CHEK1  ch2_test            1.0              0   0.311202   0.002641  10.000000   0.000000   3.149091   0.700080\n",
       "9712   HCC1187  MTOR_1  MTOR_1  ch2_test            1.0              0   1.000000   0.000000   5.000000  10.000000  75.900005  48.199991"
      ]
     },
     "execution_count": 29,
     "metadata": {},
     "output_type": "execute_result"
    }
   ],
   "source": [
    "ALL_TRAINING_DATA[ALL_TRAINING_DATA['d_1'] == ALL_TRAINING_DATA['d_2']]"
   ]
  },
  {
   "cell_type": "code",
   "execution_count": 30,
   "metadata": {
    "collapsed": false
   },
   "outputs": [
    {
     "data": {
      "text/plain": [
       "(11171, 12)"
      ]
     },
     "execution_count": 30,
     "metadata": {},
     "output_type": "execute_result"
    }
   ],
   "source": [
    "ALL_TRAINING_DATA.shape"
   ]
  },
  {
   "cell_type": "code",
   "execution_count": null,
   "metadata": {
    "collapsed": true
   },
   "outputs": [],
   "source": []
  },
  {
   "cell_type": "markdown",
   "metadata": {},
   "source": [
    "#### ALL_TRAINING_DATA_WSYNERGY"
   ]
  },
  {
   "cell_type": "code",
   "execution_count": 31,
   "metadata": {
    "collapsed": false
   },
   "outputs": [
    {
     "name": "stdout",
     "output_type": "stream",
     "text": [
      "dropping the following columns: ['max_conc_a', 'max_conc_b', 'ic50_a', 'ic50_b', 'h_a', 'h_b', 'einf_a', 'einf_b']\n"
     ]
    }
   ],
   "source": [
    "ALL_TRAINING_DATA_WSYNERGY = convert_features_to_differences(ALL_TRAINING_DATA_WSYNERGY)"
   ]
  },
  {
   "cell_type": "code",
   "execution_count": 32,
   "metadata": {
    "collapsed": false,
    "run_control": {
     "marked": false
    }
   },
   "outputs": [
    {
     "data": {
      "text/html": [
       "<div>\n",
       "<table border=\"1\" class=\"dataframe\">\n",
       "  <thead>\n",
       "    <tr style=\"text-align: right;\">\n",
       "      <th></th>\n",
       "      <th>c</th>\n",
       "      <th>d_1</th>\n",
       "      <th>d_2</th>\n",
       "      <th>synergy_score</th>\n",
       "      <th>qa</th>\n",
       "      <th>source</th>\n",
       "      <th>max_conc_mean</th>\n",
       "      <th>max_conc_diff</th>\n",
       "      <th>ic50_mean</th>\n",
       "      <th>ic50_diff</th>\n",
       "      <th>h_mean</th>\n",
       "      <th>h_diff</th>\n",
       "      <th>einf_mean</th>\n",
       "      <th>einf_diff</th>\n",
       "    </tr>\n",
       "  </thead>\n",
       "  <tbody>\n",
       "    <tr>\n",
       "      <th>0</th>\n",
       "      <td>BT-20</td>\n",
       "      <td>ADAM17</td>\n",
       "      <td>AKT</td>\n",
       "      <td>29.540390</td>\n",
       "      <td>1</td>\n",
       "      <td>train</td>\n",
       "      <td>38</td>\n",
       "      <td>74</td>\n",
       "      <td>5.319857</td>\n",
       "      <td>8.639714</td>\n",
       "      <td>0.783490</td>\n",
       "      <td>0.051025</td>\n",
       "      <td>75.357930</td>\n",
       "      <td>32.470988</td>\n",
       "    </tr>\n",
       "    <tr>\n",
       "      <th>1</th>\n",
       "      <td>CAL-120</td>\n",
       "      <td>ADAM17</td>\n",
       "      <td>AKT</td>\n",
       "      <td>4.401410</td>\n",
       "      <td>-1</td>\n",
       "      <td>train</td>\n",
       "      <td>38</td>\n",
       "      <td>74</td>\n",
       "      <td>0.591607</td>\n",
       "      <td>0.816786</td>\n",
       "      <td>1.251839</td>\n",
       "      <td>2.503678</td>\n",
       "      <td>80.206000</td>\n",
       "      <td>39.588001</td>\n",
       "    </tr>\n",
       "    <tr>\n",
       "      <th>2</th>\n",
       "      <td>CAL-51</td>\n",
       "      <td>ADAM17</td>\n",
       "      <td>AKT</td>\n",
       "      <td>0.315422</td>\n",
       "      <td>1</td>\n",
       "      <td>train</td>\n",
       "      <td>38</td>\n",
       "      <td>74</td>\n",
       "      <td>38.000000</td>\n",
       "      <td>74.000000</td>\n",
       "      <td>0.551013</td>\n",
       "      <td>0.351941</td>\n",
       "      <td>43.903661</td>\n",
       "      <td>65.505636</td>\n",
       "    </tr>\n",
       "    <tr>\n",
       "      <th>3</th>\n",
       "      <td>DU-4475</td>\n",
       "      <td>ADAM17</td>\n",
       "      <td>AKT</td>\n",
       "      <td>-41.734090</td>\n",
       "      <td>-1</td>\n",
       "      <td>train</td>\n",
       "      <td>38</td>\n",
       "      <td>74</td>\n",
       "      <td>37.660767</td>\n",
       "      <td>74.678467</td>\n",
       "      <td>5.997933</td>\n",
       "      <td>8.004134</td>\n",
       "      <td>32.385247</td>\n",
       "      <td>52.428481</td>\n",
       "    </tr>\n",
       "    <tr>\n",
       "      <th>4</th>\n",
       "      <td>HCC1143</td>\n",
       "      <td>ADAM17</td>\n",
       "      <td>AKT</td>\n",
       "      <td>35.532770</td>\n",
       "      <td>-1</td>\n",
       "      <td>train</td>\n",
       "      <td>38</td>\n",
       "      <td>74</td>\n",
       "      <td>0.699337</td>\n",
       "      <td>0.601327</td>\n",
       "      <td>5.000000</td>\n",
       "      <td>10.000000</td>\n",
       "      <td>94.549447</td>\n",
       "      <td>10.901106</td>\n",
       "    </tr>\n",
       "  </tbody>\n",
       "</table>\n",
       "</div>"
      ],
      "text/plain": [
       "         c     d_1  d_2  synergy_score  qa source  max_conc_mean  max_conc_diff  ic50_mean  ic50_diff    h_mean     h_diff  einf_mean  einf_diff\n",
       "0    BT-20  ADAM17  AKT      29.540390   1  train             38             74   5.319857   8.639714  0.783490   0.051025  75.357930  32.470988\n",
       "1  CAL-120  ADAM17  AKT       4.401410  -1  train             38             74   0.591607   0.816786  1.251839   2.503678  80.206000  39.588001\n",
       "2   CAL-51  ADAM17  AKT       0.315422   1  train             38             74  38.000000  74.000000  0.551013   0.351941  43.903661  65.505636\n",
       "3  DU-4475  ADAM17  AKT     -41.734090  -1  train             38             74  37.660767  74.678467  5.997933   8.004134  32.385247  52.428481\n",
       "4  HCC1143  ADAM17  AKT      35.532770  -1  train             38             74   0.699337   0.601327  5.000000  10.000000  94.549447  10.901106"
      ]
     },
     "execution_count": 32,
     "metadata": {},
     "output_type": "execute_result"
    }
   ],
   "source": [
    "ALL_TRAINING_DATA_WSYNERGY.head()"
   ]
  },
  {
   "cell_type": "code",
   "execution_count": 33,
   "metadata": {
    "collapsed": true
   },
   "outputs": [],
   "source": [
    "assert not (ALL_TRAINING_DATA_WSYNERGY['d_1'].str.lower() > ALL_TRAINING_DATA_WSYNERGY['d_2'].str.lower()).any()"
   ]
  },
  {
   "cell_type": "code",
   "execution_count": 34,
   "metadata": {
    "collapsed": false
   },
   "outputs": [
    {
     "data": {
      "text/html": [
       "<div>\n",
       "<table border=\"1\" class=\"dataframe\">\n",
       "  <thead>\n",
       "    <tr style=\"text-align: right;\">\n",
       "      <th></th>\n",
       "      <th>c</th>\n",
       "      <th>d_1</th>\n",
       "      <th>d_2</th>\n",
       "      <th>synergy_score</th>\n",
       "      <th>qa</th>\n",
       "      <th>source</th>\n",
       "      <th>max_conc_mean</th>\n",
       "      <th>max_conc_diff</th>\n",
       "      <th>ic50_mean</th>\n",
       "      <th>ic50_diff</th>\n",
       "      <th>h_mean</th>\n",
       "      <th>h_diff</th>\n",
       "      <th>einf_mean</th>\n",
       "      <th>einf_diff</th>\n",
       "    </tr>\n",
       "  </thead>\n",
       "  <tbody>\n",
       "    <tr>\n",
       "      <th>1905</th>\n",
       "      <td>VCaP</td>\n",
       "      <td>PIK3CB_PIK3CD</td>\n",
       "      <td>PIK3CB_PIK3CD</td>\n",
       "      <td>-128.0491</td>\n",
       "      <td>-3</td>\n",
       "      <td>train</td>\n",
       "      <td>1.0</td>\n",
       "      <td>0</td>\n",
       "      <td>0.505312</td>\n",
       "      <td>0.989375</td>\n",
       "      <td>5.112702</td>\n",
       "      <td>9.774596</td>\n",
       "      <td>28.317023</td>\n",
       "      <td>56.634046</td>\n",
       "    </tr>\n",
       "    <tr>\n",
       "      <th>8333</th>\n",
       "      <td>C32</td>\n",
       "      <td>CHEK1</td>\n",
       "      <td>CHEK1</td>\n",
       "      <td>NaN</td>\n",
       "      <td>1</td>\n",
       "      <td>ch2_test</td>\n",
       "      <td>1.0</td>\n",
       "      <td>0</td>\n",
       "      <td>0.594893</td>\n",
       "      <td>0.465442</td>\n",
       "      <td>10.000000</td>\n",
       "      <td>0.000000</td>\n",
       "      <td>7.198338</td>\n",
       "      <td>14.396676</td>\n",
       "    </tr>\n",
       "    <tr>\n",
       "      <th>8334</th>\n",
       "      <td>COLO-205</td>\n",
       "      <td>CHEK1</td>\n",
       "      <td>CHEK1</td>\n",
       "      <td>NaN</td>\n",
       "      <td>1</td>\n",
       "      <td>ch2_test</td>\n",
       "      <td>1.0</td>\n",
       "      <td>0</td>\n",
       "      <td>0.368795</td>\n",
       "      <td>0.116022</td>\n",
       "      <td>2.582486</td>\n",
       "      <td>0.839280</td>\n",
       "      <td>0.000000</td>\n",
       "      <td>0.000000</td>\n",
       "    </tr>\n",
       "    <tr>\n",
       "      <th>8335</th>\n",
       "      <td>HT-29</td>\n",
       "      <td>CHEK1</td>\n",
       "      <td>CHEK1</td>\n",
       "      <td>NaN</td>\n",
       "      <td>1</td>\n",
       "      <td>ch2_test</td>\n",
       "      <td>1.0</td>\n",
       "      <td>0</td>\n",
       "      <td>0.138658</td>\n",
       "      <td>0.004420</td>\n",
       "      <td>3.463446</td>\n",
       "      <td>0.651387</td>\n",
       "      <td>3.395651</td>\n",
       "      <td>1.124138</td>\n",
       "    </tr>\n",
       "    <tr>\n",
       "      <th>8336</th>\n",
       "      <td>LS-513</td>\n",
       "      <td>CHEK1</td>\n",
       "      <td>CHEK1</td>\n",
       "      <td>NaN</td>\n",
       "      <td>1</td>\n",
       "      <td>ch2_test</td>\n",
       "      <td>0.3</td>\n",
       "      <td>0</td>\n",
       "      <td>0.300000</td>\n",
       "      <td>0.000000</td>\n",
       "      <td>10.000000</td>\n",
       "      <td>0.000000</td>\n",
       "      <td>19.300204</td>\n",
       "      <td>5.400285</td>\n",
       "    </tr>\n",
       "    <tr>\n",
       "      <th>8337</th>\n",
       "      <td>SW48</td>\n",
       "      <td>CHEK1</td>\n",
       "      <td>CHEK1</td>\n",
       "      <td>NaN</td>\n",
       "      <td>1</td>\n",
       "      <td>ch2_test</td>\n",
       "      <td>0.3</td>\n",
       "      <td>0</td>\n",
       "      <td>0.112245</td>\n",
       "      <td>0.014646</td>\n",
       "      <td>2.618789</td>\n",
       "      <td>0.810626</td>\n",
       "      <td>5.403952</td>\n",
       "      <td>7.946475</td>\n",
       "    </tr>\n",
       "    <tr>\n",
       "      <th>8338</th>\n",
       "      <td>SW620</td>\n",
       "      <td>CHEK1</td>\n",
       "      <td>CHEK1</td>\n",
       "      <td>NaN</td>\n",
       "      <td>1</td>\n",
       "      <td>ch2_test</td>\n",
       "      <td>0.3</td>\n",
       "      <td>0</td>\n",
       "      <td>0.181262</td>\n",
       "      <td>0.025201</td>\n",
       "      <td>1.840922</td>\n",
       "      <td>0.999279</td>\n",
       "      <td>0.000000</td>\n",
       "      <td>0.000000</td>\n",
       "    </tr>\n",
       "    <tr>\n",
       "      <th>8339</th>\n",
       "      <td>SW837</td>\n",
       "      <td>CHEK1</td>\n",
       "      <td>CHEK1</td>\n",
       "      <td>NaN</td>\n",
       "      <td>1</td>\n",
       "      <td>ch2_test</td>\n",
       "      <td>0.3</td>\n",
       "      <td>0</td>\n",
       "      <td>0.062493</td>\n",
       "      <td>0.000585</td>\n",
       "      <td>1.607610</td>\n",
       "      <td>0.345784</td>\n",
       "      <td>1.260030</td>\n",
       "      <td>2.520060</td>\n",
       "    </tr>\n",
       "    <tr>\n",
       "      <th>8340</th>\n",
       "      <td>SW948</td>\n",
       "      <td>CHEK1</td>\n",
       "      <td>CHEK1</td>\n",
       "      <td>NaN</td>\n",
       "      <td>1</td>\n",
       "      <td>ch2_test</td>\n",
       "      <td>1.0</td>\n",
       "      <td>0</td>\n",
       "      <td>0.311202</td>\n",
       "      <td>0.002641</td>\n",
       "      <td>10.000000</td>\n",
       "      <td>0.000000</td>\n",
       "      <td>3.149091</td>\n",
       "      <td>0.700080</td>\n",
       "    </tr>\n",
       "    <tr>\n",
       "      <th>9712</th>\n",
       "      <td>HCC1187</td>\n",
       "      <td>MTOR_1</td>\n",
       "      <td>MTOR_1</td>\n",
       "      <td>NaN</td>\n",
       "      <td>1</td>\n",
       "      <td>ch2_test</td>\n",
       "      <td>1.0</td>\n",
       "      <td>0</td>\n",
       "      <td>1.000000</td>\n",
       "      <td>0.000000</td>\n",
       "      <td>5.000000</td>\n",
       "      <td>10.000000</td>\n",
       "      <td>75.900005</td>\n",
       "      <td>48.199991</td>\n",
       "    </tr>\n",
       "  </tbody>\n",
       "</table>\n",
       "</div>"
      ],
      "text/plain": [
       "             c            d_1            d_2  synergy_score  qa    source  max_conc_mean  max_conc_diff  ic50_mean  ic50_diff     h_mean     h_diff  einf_mean  einf_diff\n",
       "1905      VCaP  PIK3CB_PIK3CD  PIK3CB_PIK3CD      -128.0491  -3     train            1.0              0   0.505312   0.989375   5.112702   9.774596  28.317023  56.634046\n",
       "8333       C32          CHEK1          CHEK1            NaN   1  ch2_test            1.0              0   0.594893   0.465442  10.000000   0.000000   7.198338  14.396676\n",
       "8334  COLO-205          CHEK1          CHEK1            NaN   1  ch2_test            1.0              0   0.368795   0.116022   2.582486   0.839280   0.000000   0.000000\n",
       "8335     HT-29          CHEK1          CHEK1            NaN   1  ch2_test            1.0              0   0.138658   0.004420   3.463446   0.651387   3.395651   1.124138\n",
       "8336    LS-513          CHEK1          CHEK1            NaN   1  ch2_test            0.3              0   0.300000   0.000000  10.000000   0.000000  19.300204   5.400285\n",
       "8337      SW48          CHEK1          CHEK1            NaN   1  ch2_test            0.3              0   0.112245   0.014646   2.618789   0.810626   5.403952   7.946475\n",
       "8338     SW620          CHEK1          CHEK1            NaN   1  ch2_test            0.3              0   0.181262   0.025201   1.840922   0.999279   0.000000   0.000000\n",
       "8339     SW837          CHEK1          CHEK1            NaN   1  ch2_test            0.3              0   0.062493   0.000585   1.607610   0.345784   1.260030   2.520060\n",
       "8340     SW948          CHEK1          CHEK1            NaN   1  ch2_test            1.0              0   0.311202   0.002641  10.000000   0.000000   3.149091   0.700080\n",
       "9712   HCC1187         MTOR_1         MTOR_1            NaN   1  ch2_test            1.0              0   1.000000   0.000000   5.000000  10.000000  75.900005  48.199991"
      ]
     },
     "execution_count": 34,
     "metadata": {},
     "output_type": "execute_result"
    }
   ],
   "source": [
    "ALL_TRAINING_DATA_WSYNERGY[ALL_TRAINING_DATA_WSYNERGY['d_1'] == ALL_TRAINING_DATA_WSYNERGY['d_2']]"
   ]
  },
  {
   "cell_type": "code",
   "execution_count": 35,
   "metadata": {
    "collapsed": false
   },
   "outputs": [
    {
     "data": {
      "text/plain": [
       "(11575, 14)"
      ]
     },
     "execution_count": 35,
     "metadata": {},
     "output_type": "execute_result"
    }
   ],
   "source": [
    "ALL_TRAINING_DATA_WSYNERGY.shape"
   ]
  },
  {
   "cell_type": "code",
   "execution_count": null,
   "metadata": {
    "collapsed": true
   },
   "outputs": [],
   "source": []
  },
  {
   "cell_type": "markdown",
   "metadata": {},
   "source": [
    "## DD-DD"
   ]
  },
  {
   "cell_type": "code",
   "execution_count": 36,
   "metadata": {
    "collapsed": false
   },
   "outputs": [],
   "source": [
    "tmp_df = ALL_TRAINING_DATA_WSYNERGY[\n",
    "    (ALL_TRAINING_DATA_WSYNERGY['synergy_score'].notnull()) &\n",
    "    (ALL_TRAINING_DATA_WSYNERGY['qa'] == 1)\n",
    "]\n",
    "\n",
    "ALL_TRAINING_DATA_PAIR = (\n",
    "    tmp_df\n",
    "    .merge(tmp_df, on=['c'], suffixes=('_x', '_y'))\n",
    ")"
   ]
  },
  {
   "cell_type": "code",
   "execution_count": 37,
   "metadata": {
    "collapsed": false
   },
   "outputs": [
    {
     "name": "stdout",
     "output_type": "stream",
     "text": [
      "Skipping column 'd_1_x' because it appears to be a string...\n",
      "Skipping column 'd_2_x' because it appears to be a string...\n",
      "Skipping column 'source_x' because it appears to be a string...\n"
     ]
    }
   ],
   "source": [
    "ALL_TRAINING_DATA_PAIR = fn.get_differences(ALL_TRAINING_DATA_PAIR, keep=0)"
   ]
  },
  {
   "cell_type": "code",
   "execution_count": 38,
   "metadata": {
    "collapsed": false
   },
   "outputs": [
    {
     "data": {
      "text/html": [
       "<div>\n",
       "<table border=\"1\" class=\"dataframe\">\n",
       "  <thead>\n",
       "    <tr style=\"text-align: right;\">\n",
       "      <th></th>\n",
       "      <th>c</th>\n",
       "      <th>d_1_x</th>\n",
       "      <th>d_2_x</th>\n",
       "      <th>synergy_score_x</th>\n",
       "      <th>source_x</th>\n",
       "      <th>d_1_y</th>\n",
       "      <th>d_2_y</th>\n",
       "      <th>synergy_score_y</th>\n",
       "      <th>source_y</th>\n",
       "      <th>synergy_score_diff</th>\n",
       "      <th>qa_diff</th>\n",
       "      <th>max_conc_mean_diff</th>\n",
       "      <th>max_conc_diff_diff</th>\n",
       "      <th>ic50_mean_diff</th>\n",
       "      <th>ic50_diff_diff</th>\n",
       "      <th>h_mean_diff</th>\n",
       "      <th>h_diff_diff</th>\n",
       "      <th>einf_mean_diff</th>\n",
       "      <th>einf_diff_diff</th>\n",
       "    </tr>\n",
       "  </thead>\n",
       "  <tbody>\n",
       "    <tr>\n",
       "      <th>0</th>\n",
       "      <td>BT-20</td>\n",
       "      <td>ADAM17</td>\n",
       "      <td>AKT</td>\n",
       "      <td>29.54039</td>\n",
       "      <td>train</td>\n",
       "      <td>ADAM17</td>\n",
       "      <td>AKT</td>\n",
       "      <td>29.540390</td>\n",
       "      <td>train</td>\n",
       "      <td>0.000000</td>\n",
       "      <td>0</td>\n",
       "      <td>0</td>\n",
       "      <td>0</td>\n",
       "      <td>0.000000</td>\n",
       "      <td>0.000000</td>\n",
       "      <td>0.000000</td>\n",
       "      <td>0.000000</td>\n",
       "      <td>0.000000</td>\n",
       "      <td>0.000000</td>\n",
       "    </tr>\n",
       "    <tr>\n",
       "      <th>1</th>\n",
       "      <td>BT-20</td>\n",
       "      <td>ADAM17</td>\n",
       "      <td>AKT</td>\n",
       "      <td>29.54039</td>\n",
       "      <td>train</td>\n",
       "      <td>ADAM17</td>\n",
       "      <td>MTOR_1</td>\n",
       "      <td>18.309810</td>\n",
       "      <td>train</td>\n",
       "      <td>-11.230580</td>\n",
       "      <td>0</td>\n",
       "      <td>0</td>\n",
       "      <td>0</td>\n",
       "      <td>32.482987</td>\n",
       "      <td>65.754599</td>\n",
       "      <td>0.273133</td>\n",
       "      <td>0.366647</td>\n",
       "      <td>-41.244520</td>\n",
       "      <td>35.755832</td>\n",
       "    </tr>\n",
       "    <tr>\n",
       "      <th>2</th>\n",
       "      <td>BT-20</td>\n",
       "      <td>ADAM17</td>\n",
       "      <td>AKT</td>\n",
       "      <td>29.54039</td>\n",
       "      <td>train</td>\n",
       "      <td>AKT</td>\n",
       "      <td>PIK3CA_4</td>\n",
       "      <td>12.911640</td>\n",
       "      <td>train</td>\n",
       "      <td>-16.628750</td>\n",
       "      <td>0</td>\n",
       "      <td>-37</td>\n",
       "      <td>-74</td>\n",
       "      <td>-5.120333</td>\n",
       "      <td>-8.620869</td>\n",
       "      <td>1.468704</td>\n",
       "      <td>1.927025</td>\n",
       "      <td>-6.587349</td>\n",
       "      <td>-12.521772</td>\n",
       "    </tr>\n",
       "    <tr>\n",
       "      <th>3</th>\n",
       "      <td>BT-20</td>\n",
       "      <td>ADAM17</td>\n",
       "      <td>AKT</td>\n",
       "      <td>29.54039</td>\n",
       "      <td>train</td>\n",
       "      <td>AKT</td>\n",
       "      <td>PIK3C_2</td>\n",
       "      <td>3.443067</td>\n",
       "      <td>train</td>\n",
       "      <td>-26.097323</td>\n",
       "      <td>0</td>\n",
       "      <td>-37</td>\n",
       "      <td>-74</td>\n",
       "      <td>-4.389948</td>\n",
       "      <td>-8.499532</td>\n",
       "      <td>0.226630</td>\n",
       "      <td>0.501371</td>\n",
       "      <td>-53.339294</td>\n",
       "      <td>11.566284</td>\n",
       "    </tr>\n",
       "    <tr>\n",
       "      <th>4</th>\n",
       "      <td>BT-20</td>\n",
       "      <td>ADAM17</td>\n",
       "      <td>AKT</td>\n",
       "      <td>29.54039</td>\n",
       "      <td>train</td>\n",
       "      <td>AKT</td>\n",
       "      <td>AKT_1</td>\n",
       "      <td>20.264940</td>\n",
       "      <td>train</td>\n",
       "      <td>-9.275450</td>\n",
       "      <td>0</td>\n",
       "      <td>-37</td>\n",
       "      <td>-74</td>\n",
       "      <td>-4.961664</td>\n",
       "      <td>-8.440988</td>\n",
       "      <td>1.523976</td>\n",
       "      <td>0.638628</td>\n",
       "      <td>-2.985506</td>\n",
       "      <td>-15.592117</td>\n",
       "    </tr>\n",
       "  </tbody>\n",
       "</table>\n",
       "</div>"
      ],
      "text/plain": [
       "       c   d_1_x d_2_x  synergy_score_x source_x   d_1_y     d_2_y  synergy_score_y source_y  synergy_score_diff  qa_diff  max_conc_mean_diff  max_conc_diff_diff  ic50_mean_diff  ic50_diff_diff  h_mean_diff  h_diff_diff  einf_mean_diff  einf_diff_diff\n",
       "0  BT-20  ADAM17   AKT         29.54039    train  ADAM17       AKT        29.540390    train            0.000000        0                   0                   0        0.000000        0.000000     0.000000     0.000000        0.000000        0.000000\n",
       "1  BT-20  ADAM17   AKT         29.54039    train  ADAM17    MTOR_1        18.309810    train          -11.230580        0                   0                   0       32.482987       65.754599     0.273133     0.366647      -41.244520       35.755832\n",
       "2  BT-20  ADAM17   AKT         29.54039    train     AKT  PIK3CA_4        12.911640    train          -16.628750        0                 -37                 -74       -5.120333       -8.620869     1.468704     1.927025       -6.587349      -12.521772\n",
       "3  BT-20  ADAM17   AKT         29.54039    train     AKT   PIK3C_2         3.443067    train          -26.097323        0                 -37                 -74       -4.389948       -8.499532     0.226630     0.501371      -53.339294       11.566284\n",
       "4  BT-20  ADAM17   AKT         29.54039    train     AKT     AKT_1        20.264940    train           -9.275450        0                 -37                 -74       -4.961664       -8.440988     1.523976     0.638628       -2.985506      -15.592117"
      ]
     },
     "metadata": {},
     "output_type": "display_data"
    },
    {
     "name": "stdout",
     "output_type": "stream",
     "text": [
      "(650078, 19)\n"
     ]
    }
   ],
   "source": [
    "display(ALL_TRAINING_DATA_PAIR.head())\n",
    "print(ALL_TRAINING_DATA_PAIR.shape)"
   ]
  },
  {
   "cell_type": "code",
   "execution_count": 39,
   "metadata": {
    "collapsed": false,
    "scrolled": true
   },
   "outputs": [],
   "source": [
    "ALL_TRAINING_DATA_PAIR_GBDDDD = fn.my_groupby(\n",
    "    ALL_TRAINING_DATA_PAIR\n",
    "    .drop(pd.Index(['synergy_score_x', 'synergy_score_y', 'qa_diff']), axis=1),\n",
    "    by=['d_1_x', 'd_2_x', 'd_1_y', 'd_2_y'],\n",
    "    name='gbdddd',\n",
    ")"
   ]
  },
  {
   "cell_type": "code",
   "execution_count": 40,
   "metadata": {
    "collapsed": false
   },
   "outputs": [
    {
     "data": {
      "text/html": [
       "<div>\n",
       "<table border=\"1\" class=\"dataframe\">\n",
       "  <thead>\n",
       "    <tr style=\"text-align: right;\">\n",
       "      <th></th>\n",
       "      <th>d_1_x</th>\n",
       "      <th>d_2_x</th>\n",
       "      <th>d_1_y</th>\n",
       "      <th>d_2_y</th>\n",
       "      <th>synergy_score_diff_gbdddd_min</th>\n",
       "      <th>synergy_score_diff_gbdddd_max</th>\n",
       "      <th>synergy_score_diff_gbdddd_mean</th>\n",
       "      <th>synergy_score_diff_gbdddd_std</th>\n",
       "      <th>max_conc_mean_diff_gbdddd_min</th>\n",
       "      <th>max_conc_mean_diff_gbdddd_max</th>\n",
       "      <th>max_conc_mean_diff_gbdddd_mean</th>\n",
       "      <th>max_conc_mean_diff_gbdddd_std</th>\n",
       "      <th>max_conc_diff_diff_gbdddd_min</th>\n",
       "      <th>max_conc_diff_diff_gbdddd_max</th>\n",
       "      <th>max_conc_diff_diff_gbdddd_mean</th>\n",
       "      <th>max_conc_diff_diff_gbdddd_std</th>\n",
       "      <th>ic50_mean_diff_gbdddd_min</th>\n",
       "      <th>ic50_mean_diff_gbdddd_max</th>\n",
       "      <th>ic50_mean_diff_gbdddd_mean</th>\n",
       "      <th>ic50_mean_diff_gbdddd_std</th>\n",
       "      <th>ic50_diff_diff_gbdddd_min</th>\n",
       "      <th>ic50_diff_diff_gbdddd_max</th>\n",
       "      <th>ic50_diff_diff_gbdddd_mean</th>\n",
       "      <th>ic50_diff_diff_gbdddd_std</th>\n",
       "      <th>h_mean_diff_gbdddd_min</th>\n",
       "      <th>h_mean_diff_gbdddd_max</th>\n",
       "      <th>h_mean_diff_gbdddd_mean</th>\n",
       "      <th>h_mean_diff_gbdddd_std</th>\n",
       "      <th>h_diff_diff_gbdddd_min</th>\n",
       "      <th>h_diff_diff_gbdddd_max</th>\n",
       "      <th>h_diff_diff_gbdddd_mean</th>\n",
       "      <th>h_diff_diff_gbdddd_std</th>\n",
       "      <th>einf_mean_diff_gbdddd_min</th>\n",
       "      <th>einf_mean_diff_gbdddd_max</th>\n",
       "      <th>einf_mean_diff_gbdddd_mean</th>\n",
       "      <th>einf_mean_diff_gbdddd_std</th>\n",
       "      <th>einf_diff_diff_gbdddd_min</th>\n",
       "      <th>einf_diff_diff_gbdddd_max</th>\n",
       "      <th>einf_diff_diff_gbdddd_mean</th>\n",
       "      <th>einf_diff_diff_gbdddd_std</th>\n",
       "      <th>count_gbdddd</th>\n",
       "    </tr>\n",
       "  </thead>\n",
       "  <tbody>\n",
       "    <tr>\n",
       "      <th>0</th>\n",
       "      <td>ADAM17</td>\n",
       "      <td>AKT</td>\n",
       "      <td>ADAM17</td>\n",
       "      <td>AKT</td>\n",
       "      <td>0.000000</td>\n",
       "      <td>0.000000</td>\n",
       "      <td>0.000000</td>\n",
       "      <td>0.000000</td>\n",
       "      <td>0</td>\n",
       "      <td>0</td>\n",
       "      <td>0</td>\n",
       "      <td>0</td>\n",
       "      <td>0</td>\n",
       "      <td>0</td>\n",
       "      <td>0</td>\n",
       "      <td>0</td>\n",
       "      <td>0.000000</td>\n",
       "      <td>0.000000</td>\n",
       "      <td>0.000000</td>\n",
       "      <td>0.000000</td>\n",
       "      <td>0.000000</td>\n",
       "      <td>0.000000</td>\n",
       "      <td>0.000000</td>\n",
       "      <td>0.000000</td>\n",
       "      <td>0.000000</td>\n",
       "      <td>0.000000</td>\n",
       "      <td>0.000000</td>\n",
       "      <td>0.000000</td>\n",
       "      <td>0.00000</td>\n",
       "      <td>0.000000</td>\n",
       "      <td>0.000000</td>\n",
       "      <td>0.000000</td>\n",
       "      <td>0.000000</td>\n",
       "      <td>0.000000</td>\n",
       "      <td>0.000000</td>\n",
       "      <td>0.000000</td>\n",
       "      <td>0.000000</td>\n",
       "      <td>0.000000</td>\n",
       "      <td>0.000000</td>\n",
       "      <td>0.000000</td>\n",
       "      <td>14</td>\n",
       "    </tr>\n",
       "    <tr>\n",
       "      <th>1</th>\n",
       "      <td>ADAM17</td>\n",
       "      <td>AKT</td>\n",
       "      <td>ADAM17</td>\n",
       "      <td>AKT_1</td>\n",
       "      <td>-13.727708</td>\n",
       "      <td>59.619060</td>\n",
       "      <td>10.698520</td>\n",
       "      <td>18.063062</td>\n",
       "      <td>0</td>\n",
       "      <td>0</td>\n",
       "      <td>0</td>\n",
       "      <td>0</td>\n",
       "      <td>0</td>\n",
       "      <td>0</td>\n",
       "      <td>0</td>\n",
       "      <td>0</td>\n",
       "      <td>-37.109566</td>\n",
       "      <td>36.844716</td>\n",
       "      <td>3.425643</td>\n",
       "      <td>18.461227</td>\n",
       "      <td>-74.017703</td>\n",
       "      <td>74.310569</td>\n",
       "      <td>7.137066</td>\n",
       "      <td>37.010933</td>\n",
       "      <td>-3.979602</td>\n",
       "      <td>5.000000</td>\n",
       "      <td>-0.200680</td>\n",
       "      <td>2.031740</td>\n",
       "      <td>-10.00000</td>\n",
       "      <td>0.923857</td>\n",
       "      <td>-2.241657</td>\n",
       "      <td>3.752806</td>\n",
       "      <td>-24.997457</td>\n",
       "      <td>23.789659</td>\n",
       "      <td>2.053373</td>\n",
       "      <td>13.966635</td>\n",
       "      <td>-43.539781</td>\n",
       "      <td>56.783258</td>\n",
       "      <td>-6.807273</td>\n",
       "      <td>26.576543</td>\n",
       "      <td>12</td>\n",
       "    </tr>\n",
       "    <tr>\n",
       "      <th>2</th>\n",
       "      <td>ADAM17</td>\n",
       "      <td>AKT</td>\n",
       "      <td>ADAM17</td>\n",
       "      <td>BCL2_BCL2L1</td>\n",
       "      <td>-30.838276</td>\n",
       "      <td>29.270519</td>\n",
       "      <td>-8.928698</td>\n",
       "      <td>19.555292</td>\n",
       "      <td>0</td>\n",
       "      <td>0</td>\n",
       "      <td>0</td>\n",
       "      <td>0</td>\n",
       "      <td>0</td>\n",
       "      <td>0</td>\n",
       "      <td>0</td>\n",
       "      <td>0</td>\n",
       "      <td>-36.656996</td>\n",
       "      <td>32.680143</td>\n",
       "      <td>-0.577546</td>\n",
       "      <td>20.041916</td>\n",
       "      <td>-74.686008</td>\n",
       "      <td>65.360286</td>\n",
       "      <td>-1.659157</td>\n",
       "      <td>40.481845</td>\n",
       "      <td>-5.196285</td>\n",
       "      <td>3.452462</td>\n",
       "      <td>-1.313444</td>\n",
       "      <td>2.979203</td>\n",
       "      <td>-9.60743</td>\n",
       "      <td>6.904924</td>\n",
       "      <td>-2.576442</td>\n",
       "      <td>5.765000</td>\n",
       "      <td>-20.318120</td>\n",
       "      <td>43.975155</td>\n",
       "      <td>8.347151</td>\n",
       "      <td>25.161015</td>\n",
       "      <td>-82.558103</td>\n",
       "      <td>28.429751</td>\n",
       "      <td>-14.350618</td>\n",
       "      <td>34.703481</td>\n",
       "      <td>7</td>\n",
       "    </tr>\n",
       "    <tr>\n",
       "      <th>3</th>\n",
       "      <td>ADAM17</td>\n",
       "      <td>AKT</td>\n",
       "      <td>ADAM17</td>\n",
       "      <td>FGFR</td>\n",
       "      <td>-47.080300</td>\n",
       "      <td>8.028154</td>\n",
       "      <td>-17.597569</td>\n",
       "      <td>15.725436</td>\n",
       "      <td>0</td>\n",
       "      <td>0</td>\n",
       "      <td>0</td>\n",
       "      <td>0</td>\n",
       "      <td>0</td>\n",
       "      <td>0</td>\n",
       "      <td>0</td>\n",
       "      <td>0</td>\n",
       "      <td>-0.560949</td>\n",
       "      <td>36.180508</td>\n",
       "      <td>5.555523</td>\n",
       "      <td>12.666529</td>\n",
       "      <td>-0.768083</td>\n",
       "      <td>74.283136</td>\n",
       "      <td>11.117236</td>\n",
       "      <td>26.109080</td>\n",
       "      <td>-5.000000</td>\n",
       "      <td>8.868272</td>\n",
       "      <td>-0.298920</td>\n",
       "      <td>4.145075</td>\n",
       "      <td>-10.00000</td>\n",
       "      <td>-0.139170</td>\n",
       "      <td>-3.550664</td>\n",
       "      <td>3.224377</td>\n",
       "      <td>-10.965267</td>\n",
       "      <td>41.279052</td>\n",
       "      <td>12.626308</td>\n",
       "      <td>17.611581</td>\n",
       "      <td>-82.558103</td>\n",
       "      <td>-1.497775</td>\n",
       "      <td>-31.971915</td>\n",
       "      <td>26.481145</td>\n",
       "      <td>8</td>\n",
       "    </tr>\n",
       "    <tr>\n",
       "      <th>4</th>\n",
       "      <td>ADAM17</td>\n",
       "      <td>AKT</td>\n",
       "      <td>ADAM17</td>\n",
       "      <td>MAP2K_1</td>\n",
       "      <td>-57.927720</td>\n",
       "      <td>10.094198</td>\n",
       "      <td>-14.382300</td>\n",
       "      <td>20.876312</td>\n",
       "      <td>0</td>\n",
       "      <td>0</td>\n",
       "      <td>0</td>\n",
       "      <td>0</td>\n",
       "      <td>0</td>\n",
       "      <td>0</td>\n",
       "      <td>0</td>\n",
       "      <td>0</td>\n",
       "      <td>-37.367642</td>\n",
       "      <td>36.173713</td>\n",
       "      <td>-0.133243</td>\n",
       "      <td>19.657553</td>\n",
       "      <td>-73.264716</td>\n",
       "      <td>74.296727</td>\n",
       "      <td>0.097005</td>\n",
       "      <td>39.439729</td>\n",
       "      <td>-5.000000</td>\n",
       "      <td>4.448987</td>\n",
       "      <td>-0.461334</td>\n",
       "      <td>2.573877</td>\n",
       "      <td>-10.00000</td>\n",
       "      <td>9.648058</td>\n",
       "      <td>-0.686826</td>\n",
       "      <td>5.392154</td>\n",
       "      <td>-15.992621</td>\n",
       "      <td>52.045898</td>\n",
       "      <td>18.212607</td>\n",
       "      <td>24.991134</td>\n",
       "      <td>-91.270496</td>\n",
       "      <td>31.985242</td>\n",
       "      <td>-31.438697</td>\n",
       "      <td>43.512866</td>\n",
       "      <td>8</td>\n",
       "    </tr>\n",
       "  </tbody>\n",
       "</table>\n",
       "</div>"
      ],
      "text/plain": [
       "    d_1_x d_2_x   d_1_y        d_2_y  synergy_score_diff_gbdddd_min  synergy_score_diff_gbdddd_max  synergy_score_diff_gbdddd_mean  synergy_score_diff_gbdddd_std  max_conc_mean_diff_gbdddd_min  max_conc_mean_diff_gbdddd_max  max_conc_mean_diff_gbdddd_mean  max_conc_mean_diff_gbdddd_std  max_conc_diff_diff_gbdddd_min  max_conc_diff_diff_gbdddd_max  max_conc_diff_diff_gbdddd_mean  max_conc_diff_diff_gbdddd_std  ic50_mean_diff_gbdddd_min  ic50_mean_diff_gbdddd_max  ic50_mean_diff_gbdddd_mean  ic50_mean_diff_gbdddd_std  ic50_diff_diff_gbdddd_min  ic50_diff_diff_gbdddd_max  ic50_diff_diff_gbdddd_mean  ic50_diff_diff_gbdddd_std  h_mean_diff_gbdddd_min  h_mean_diff_gbdddd_max  h_mean_diff_gbdddd_mean  h_mean_diff_gbdddd_std  h_diff_diff_gbdddd_min  h_diff_diff_gbdddd_max  h_diff_diff_gbdddd_mean  h_diff_diff_gbdddd_std  einf_mean_diff_gbdddd_min  einf_mean_diff_gbdddd_max  einf_mean_diff_gbdddd_mean  einf_mean_diff_gbdddd_std  einf_diff_diff_gbdddd_min  einf_diff_diff_gbdddd_max  \\\n",
       "0  ADAM17   AKT  ADAM17          AKT                       0.000000                       0.000000                        0.000000                       0.000000                              0                              0                               0                              0                              0                              0                               0                              0                   0.000000                   0.000000                    0.000000                   0.000000                   0.000000                   0.000000                    0.000000                   0.000000                0.000000                0.000000                 0.000000                0.000000                 0.00000                0.000000                 0.000000                0.000000                   0.000000                   0.000000                    0.000000                   0.000000                   0.000000                   0.000000   \n",
       "1  ADAM17   AKT  ADAM17        AKT_1                     -13.727708                      59.619060                       10.698520                      18.063062                              0                              0                               0                              0                              0                              0                               0                              0                 -37.109566                  36.844716                    3.425643                  18.461227                 -74.017703                  74.310569                    7.137066                  37.010933               -3.979602                5.000000                -0.200680                2.031740               -10.00000                0.923857                -2.241657                3.752806                 -24.997457                  23.789659                    2.053373                  13.966635                 -43.539781                  56.783258   \n",
       "2  ADAM17   AKT  ADAM17  BCL2_BCL2L1                     -30.838276                      29.270519                       -8.928698                      19.555292                              0                              0                               0                              0                              0                              0                               0                              0                 -36.656996                  32.680143                   -0.577546                  20.041916                 -74.686008                  65.360286                   -1.659157                  40.481845               -5.196285                3.452462                -1.313444                2.979203                -9.60743                6.904924                -2.576442                5.765000                 -20.318120                  43.975155                    8.347151                  25.161015                 -82.558103                  28.429751   \n",
       "3  ADAM17   AKT  ADAM17         FGFR                     -47.080300                       8.028154                      -17.597569                      15.725436                              0                              0                               0                              0                              0                              0                               0                              0                  -0.560949                  36.180508                    5.555523                  12.666529                  -0.768083                  74.283136                   11.117236                  26.109080               -5.000000                8.868272                -0.298920                4.145075               -10.00000               -0.139170                -3.550664                3.224377                 -10.965267                  41.279052                   12.626308                  17.611581                 -82.558103                  -1.497775   \n",
       "4  ADAM17   AKT  ADAM17      MAP2K_1                     -57.927720                      10.094198                      -14.382300                      20.876312                              0                              0                               0                              0                              0                              0                               0                              0                 -37.367642                  36.173713                   -0.133243                  19.657553                 -73.264716                  74.296727                    0.097005                  39.439729               -5.000000                4.448987                -0.461334                2.573877               -10.00000                9.648058                -0.686826                5.392154                 -15.992621                  52.045898                   18.212607                  24.991134                 -91.270496                  31.985242   \n",
       "\n",
       "   einf_diff_diff_gbdddd_mean  einf_diff_diff_gbdddd_std  count_gbdddd  \n",
       "0                    0.000000                   0.000000            14  \n",
       "1                   -6.807273                  26.576543            12  \n",
       "2                  -14.350618                  34.703481             7  \n",
       "3                  -31.971915                  26.481145             8  \n",
       "4                  -31.438697                  43.512866             8  "
      ]
     },
     "metadata": {},
     "output_type": "display_data"
    },
    {
     "name": "stdout",
     "output_type": "stream",
     "text": [
      "(119531, 41)\n"
     ]
    }
   ],
   "source": [
    "display(ALL_TRAINING_DATA_PAIR_GBDDDD.head())\n",
    "print(ALL_TRAINING_DATA_PAIR_GBDDDD.shape)"
   ]
  },
  {
   "cell_type": "code",
   "execution_count": null,
   "metadata": {
    "collapsed": true
   },
   "outputs": [],
   "source": []
  },
  {
   "cell_type": "markdown",
   "metadata": {},
   "source": [
    "## C-C"
   ]
  },
  {
   "cell_type": "code",
   "execution_count": 41,
   "metadata": {
    "collapsed": false
   },
   "outputs": [],
   "source": [
    "tmp_df = ALL_TRAINING_DATA_WSYNERGY[\n",
    "    (ALL_TRAINING_DATA_WSYNERGY['synergy_score'].notnull()) &\n",
    "    (ALL_TRAINING_DATA_WSYNERGY['qa'] == 1)\n",
    "]\n",
    "\n",
    "ALL_TRAINING_DATA_PAIR = (\n",
    "    tmp_df\n",
    "    .merge(tmp_df, on=['d_1', 'd_2'], suffixes=('_x', '_y'))\n",
    ")"
   ]
  },
  {
   "cell_type": "code",
   "execution_count": 42,
   "metadata": {
    "collapsed": false
   },
   "outputs": [
    {
     "name": "stdout",
     "output_type": "stream",
     "text": [
      "Skipping column 'c_x' because it appears to be a string...\n",
      "Skipping column 'd_1' because it appears to be a string...\n",
      "Skipping column 'source_x' because it appears to be a string...\n"
     ]
    }
   ],
   "source": [
    "ALL_TRAINING_DATA_PAIR = fn.get_differences(ALL_TRAINING_DATA_PAIR, keep=0)"
   ]
  },
  {
   "cell_type": "code",
   "execution_count": 43,
   "metadata": {
    "collapsed": false
   },
   "outputs": [
    {
     "data": {
      "text/html": [
       "<div>\n",
       "<table border=\"1\" class=\"dataframe\">\n",
       "  <thead>\n",
       "    <tr style=\"text-align: right;\">\n",
       "      <th></th>\n",
       "      <th>c_x</th>\n",
       "      <th>d_1</th>\n",
       "      <th>d_2</th>\n",
       "      <th>synergy_score_x</th>\n",
       "      <th>source_x</th>\n",
       "      <th>c_y</th>\n",
       "      <th>synergy_score_y</th>\n",
       "      <th>source_y</th>\n",
       "      <th>synergy_score_diff</th>\n",
       "      <th>qa_diff</th>\n",
       "      <th>max_conc_mean_diff</th>\n",
       "      <th>max_conc_diff_diff</th>\n",
       "      <th>ic50_mean_diff</th>\n",
       "      <th>ic50_diff_diff</th>\n",
       "      <th>h_mean_diff</th>\n",
       "      <th>h_diff_diff</th>\n",
       "      <th>einf_mean_diff</th>\n",
       "      <th>einf_diff_diff</th>\n",
       "    </tr>\n",
       "  </thead>\n",
       "  <tbody>\n",
       "    <tr>\n",
       "      <th>0</th>\n",
       "      <td>BT-20</td>\n",
       "      <td>ADAM17</td>\n",
       "      <td>AKT</td>\n",
       "      <td>29.54039</td>\n",
       "      <td>train</td>\n",
       "      <td>BT-20</td>\n",
       "      <td>29.540390</td>\n",
       "      <td>train</td>\n",
       "      <td>0.000000</td>\n",
       "      <td>0</td>\n",
       "      <td>0</td>\n",
       "      <td>0</td>\n",
       "      <td>0.000000</td>\n",
       "      <td>0.000000</td>\n",
       "      <td>0.000000</td>\n",
       "      <td>0.000000</td>\n",
       "      <td>0.000000</td>\n",
       "      <td>0.000000</td>\n",
       "    </tr>\n",
       "    <tr>\n",
       "      <th>1</th>\n",
       "      <td>BT-20</td>\n",
       "      <td>ADAM17</td>\n",
       "      <td>AKT</td>\n",
       "      <td>29.54039</td>\n",
       "      <td>train</td>\n",
       "      <td>CAL-51</td>\n",
       "      <td>0.315422</td>\n",
       "      <td>train</td>\n",
       "      <td>-29.224968</td>\n",
       "      <td>0</td>\n",
       "      <td>0</td>\n",
       "      <td>0</td>\n",
       "      <td>32.680143</td>\n",
       "      <td>65.360286</td>\n",
       "      <td>-0.232476</td>\n",
       "      <td>0.300916</td>\n",
       "      <td>-31.454270</td>\n",
       "      <td>33.034648</td>\n",
       "    </tr>\n",
       "    <tr>\n",
       "      <th>2</th>\n",
       "      <td>BT-20</td>\n",
       "      <td>ADAM17</td>\n",
       "      <td>AKT</td>\n",
       "      <td>29.54039</td>\n",
       "      <td>train</td>\n",
       "      <td>HCC1187</td>\n",
       "      <td>-0.801993</td>\n",
       "      <td>train</td>\n",
       "      <td>-30.342383</td>\n",
       "      <td>0</td>\n",
       "      <td>0</td>\n",
       "      <td>0</td>\n",
       "      <td>-4.614842</td>\n",
       "      <td>-8.049743</td>\n",
       "      <td>-0.035039</td>\n",
       "      <td>1.445876</td>\n",
       "      <td>0.602702</td>\n",
       "      <td>15.607747</td>\n",
       "    </tr>\n",
       "    <tr>\n",
       "      <th>3</th>\n",
       "      <td>BT-20</td>\n",
       "      <td>ADAM17</td>\n",
       "      <td>AKT</td>\n",
       "      <td>29.54039</td>\n",
       "      <td>train</td>\n",
       "      <td>HCC1806</td>\n",
       "      <td>-26.733250</td>\n",
       "      <td>train</td>\n",
       "      <td>-56.273640</td>\n",
       "      <td>0</td>\n",
       "      <td>0</td>\n",
       "      <td>0</td>\n",
       "      <td>32.337139</td>\n",
       "      <td>66.046294</td>\n",
       "      <td>4.412795</td>\n",
       "      <td>9.556405</td>\n",
       "      <td>-19.333086</td>\n",
       "      <td>-17.721407</td>\n",
       "    </tr>\n",
       "    <tr>\n",
       "      <th>4</th>\n",
       "      <td>BT-20</td>\n",
       "      <td>ADAM17</td>\n",
       "      <td>AKT</td>\n",
       "      <td>29.54039</td>\n",
       "      <td>train</td>\n",
       "      <td>HCC1937</td>\n",
       "      <td>32.165520</td>\n",
       "      <td>train</td>\n",
       "      <td>2.625130</td>\n",
       "      <td>0</td>\n",
       "      <td>0</td>\n",
       "      <td>0</td>\n",
       "      <td>-3.980895</td>\n",
       "      <td>-7.961790</td>\n",
       "      <td>0.162169</td>\n",
       "      <td>0.296632</td>\n",
       "      <td>-8.499139</td>\n",
       "      <td>18.187487</td>\n",
       "    </tr>\n",
       "  </tbody>\n",
       "</table>\n",
       "</div>"
      ],
      "text/plain": [
       "     c_x     d_1  d_2  synergy_score_x source_x      c_y  synergy_score_y source_y  synergy_score_diff  qa_diff  max_conc_mean_diff  max_conc_diff_diff  ic50_mean_diff  ic50_diff_diff  h_mean_diff  h_diff_diff  einf_mean_diff  einf_diff_diff\n",
       "0  BT-20  ADAM17  AKT         29.54039    train    BT-20        29.540390    train            0.000000        0                   0                   0        0.000000        0.000000     0.000000     0.000000        0.000000        0.000000\n",
       "1  BT-20  ADAM17  AKT         29.54039    train   CAL-51         0.315422    train          -29.224968        0                   0                   0       32.680143       65.360286    -0.232476     0.300916      -31.454270       33.034648\n",
       "2  BT-20  ADAM17  AKT         29.54039    train  HCC1187        -0.801993    train          -30.342383        0                   0                   0       -4.614842       -8.049743    -0.035039     1.445876        0.602702       15.607747\n",
       "3  BT-20  ADAM17  AKT         29.54039    train  HCC1806       -26.733250    train          -56.273640        0                   0                   0       32.337139       66.046294     4.412795     9.556405      -19.333086      -17.721407\n",
       "4  BT-20  ADAM17  AKT         29.54039    train  HCC1937        32.165520    train            2.625130        0                   0                   0       -3.980895       -7.961790     0.162169     0.296632       -8.499139       18.187487"
      ]
     },
     "metadata": {},
     "output_type": "display_data"
    },
    {
     "name": "stdout",
     "output_type": "stream",
     "text": [
      "(98266, 18)\n"
     ]
    }
   ],
   "source": [
    "display(ALL_TRAINING_DATA_PAIR.head())\n",
    "print(ALL_TRAINING_DATA_PAIR.shape)"
   ]
  },
  {
   "cell_type": "code",
   "execution_count": 44,
   "metadata": {
    "collapsed": true
   },
   "outputs": [],
   "source": [
    "ALL_TRAINING_DATA_PAIR_GBCC = fn.my_groupby(\n",
    "    ALL_TRAINING_DATA_PAIR\n",
    "    .drop(pd.Index(['synergy_score_x', 'synergy_score_y', 'qa_diff']), axis=1),\n",
    "    by=['c_x', 'c_y'],\n",
    "    name='gbcc',\n",
    ")"
   ]
  },
  {
   "cell_type": "code",
   "execution_count": 45,
   "metadata": {
    "collapsed": false
   },
   "outputs": [
    {
     "data": {
      "text/html": [
       "<div>\n",
       "<table border=\"1\" class=\"dataframe\">\n",
       "  <thead>\n",
       "    <tr style=\"text-align: right;\">\n",
       "      <th></th>\n",
       "      <th>c_x</th>\n",
       "      <th>c_y</th>\n",
       "      <th>synergy_score_diff_gbcc_min</th>\n",
       "      <th>synergy_score_diff_gbcc_max</th>\n",
       "      <th>synergy_score_diff_gbcc_mean</th>\n",
       "      <th>synergy_score_diff_gbcc_std</th>\n",
       "      <th>max_conc_mean_diff_gbcc_min</th>\n",
       "      <th>max_conc_mean_diff_gbcc_max</th>\n",
       "      <th>max_conc_mean_diff_gbcc_mean</th>\n",
       "      <th>max_conc_mean_diff_gbcc_std</th>\n",
       "      <th>max_conc_diff_diff_gbcc_min</th>\n",
       "      <th>max_conc_diff_diff_gbcc_max</th>\n",
       "      <th>max_conc_diff_diff_gbcc_mean</th>\n",
       "      <th>max_conc_diff_diff_gbcc_std</th>\n",
       "      <th>ic50_mean_diff_gbcc_min</th>\n",
       "      <th>ic50_mean_diff_gbcc_max</th>\n",
       "      <th>ic50_mean_diff_gbcc_mean</th>\n",
       "      <th>ic50_mean_diff_gbcc_std</th>\n",
       "      <th>ic50_diff_diff_gbcc_min</th>\n",
       "      <th>ic50_diff_diff_gbcc_max</th>\n",
       "      <th>ic50_diff_diff_gbcc_mean</th>\n",
       "      <th>ic50_diff_diff_gbcc_std</th>\n",
       "      <th>h_mean_diff_gbcc_min</th>\n",
       "      <th>h_mean_diff_gbcc_max</th>\n",
       "      <th>h_mean_diff_gbcc_mean</th>\n",
       "      <th>h_mean_diff_gbcc_std</th>\n",
       "      <th>h_diff_diff_gbcc_min</th>\n",
       "      <th>h_diff_diff_gbcc_max</th>\n",
       "      <th>h_diff_diff_gbcc_mean</th>\n",
       "      <th>h_diff_diff_gbcc_std</th>\n",
       "      <th>einf_mean_diff_gbcc_min</th>\n",
       "      <th>einf_mean_diff_gbcc_max</th>\n",
       "      <th>einf_mean_diff_gbcc_mean</th>\n",
       "      <th>einf_mean_diff_gbcc_std</th>\n",
       "      <th>einf_diff_diff_gbcc_min</th>\n",
       "      <th>einf_diff_diff_gbcc_max</th>\n",
       "      <th>einf_diff_diff_gbcc_mean</th>\n",
       "      <th>einf_diff_diff_gbcc_std</th>\n",
       "      <th>count_gbcc</th>\n",
       "    </tr>\n",
       "  </thead>\n",
       "  <tbody>\n",
       "    <tr>\n",
       "      <th>0</th>\n",
       "      <td>22RV1</td>\n",
       "      <td>22RV1</td>\n",
       "      <td>-10.434812</td>\n",
       "      <td>10.434812</td>\n",
       "      <td>0.000000</td>\n",
       "      <td>5.577642</td>\n",
       "      <td>0.0</td>\n",
       "      <td>0</td>\n",
       "      <td>0.000</td>\n",
       "      <td>0.000000</td>\n",
       "      <td>0</td>\n",
       "      <td>0</td>\n",
       "      <td>0.00</td>\n",
       "      <td>0.000000</td>\n",
       "      <td>-0.073434</td>\n",
       "      <td>0.073434</td>\n",
       "      <td>0.000000</td>\n",
       "      <td>0.039252</td>\n",
       "      <td>-0.146868</td>\n",
       "      <td>0.146868</td>\n",
       "      <td>0.000000</td>\n",
       "      <td>0.078504</td>\n",
       "      <td>-7.425779</td>\n",
       "      <td>7.425779</td>\n",
       "      <td>0.000000</td>\n",
       "      <td>3.969246</td>\n",
       "      <td>-2.923574</td>\n",
       "      <td>2.923574</td>\n",
       "      <td>0.000000</td>\n",
       "      <td>1.562716</td>\n",
       "      <td>-16.218178</td>\n",
       "      <td>16.218178</td>\n",
       "      <td>0.000000</td>\n",
       "      <td>8.668981</td>\n",
       "      <td>-10.697618</td>\n",
       "      <td>10.697618</td>\n",
       "      <td>0.000000</td>\n",
       "      <td>5.718117</td>\n",
       "      <td>8</td>\n",
       "    </tr>\n",
       "    <tr>\n",
       "      <th>1</th>\n",
       "      <td>22RV1</td>\n",
       "      <td>647-V</td>\n",
       "      <td>-38.495162</td>\n",
       "      <td>-0.911056</td>\n",
       "      <td>-21.443179</td>\n",
       "      <td>15.978800</td>\n",
       "      <td>-2.5</td>\n",
       "      <td>2</td>\n",
       "      <td>0.375</td>\n",
       "      <td>1.973787</td>\n",
       "      <td>-9</td>\n",
       "      <td>0</td>\n",
       "      <td>-3.25</td>\n",
       "      <td>3.947573</td>\n",
       "      <td>-0.792704</td>\n",
       "      <td>0.427882</td>\n",
       "      <td>-0.310700</td>\n",
       "      <td>0.567997</td>\n",
       "      <td>-2.561460</td>\n",
       "      <td>0.334965</td>\n",
       "      <td>-1.320819</td>\n",
       "      <td>1.406851</td>\n",
       "      <td>-9.109026</td>\n",
       "      <td>-1.683247</td>\n",
       "      <td>-4.922672</td>\n",
       "      <td>3.125422</td>\n",
       "      <td>-9.078683</td>\n",
       "      <td>1.781947</td>\n",
       "      <td>-3.900027</td>\n",
       "      <td>5.077758</td>\n",
       "      <td>-55.023462</td>\n",
       "      <td>7.237651</td>\n",
       "      <td>-21.246165</td>\n",
       "      <td>26.778663</td>\n",
       "      <td>-48.481514</td>\n",
       "      <td>89.156957</td>\n",
       "      <td>40.925158</td>\n",
       "      <td>61.168521</td>\n",
       "      <td>4</td>\n",
       "    </tr>\n",
       "    <tr>\n",
       "      <th>2</th>\n",
       "      <td>22RV1</td>\n",
       "      <td>BFTC-905</td>\n",
       "      <td>-97.788232</td>\n",
       "      <td>25.303103</td>\n",
       "      <td>-47.058290</td>\n",
       "      <td>57.101456</td>\n",
       "      <td>-2.5</td>\n",
       "      <td>2</td>\n",
       "      <td>0.375</td>\n",
       "      <td>1.973787</td>\n",
       "      <td>-9</td>\n",
       "      <td>0</td>\n",
       "      <td>-3.25</td>\n",
       "      <td>3.947573</td>\n",
       "      <td>-0.507477</td>\n",
       "      <td>-0.006623</td>\n",
       "      <td>-0.182412</td>\n",
       "      <td>0.223045</td>\n",
       "      <td>-0.604303</td>\n",
       "      <td>0.160113</td>\n",
       "      <td>-0.076305</td>\n",
       "      <td>0.357542</td>\n",
       "      <td>-8.929053</td>\n",
       "      <td>0.016018</td>\n",
       "      <td>-3.683094</td>\n",
       "      <td>3.930894</td>\n",
       "      <td>-9.533634</td>\n",
       "      <td>0.170093</td>\n",
       "      <td>-3.037265</td>\n",
       "      <td>4.531442</td>\n",
       "      <td>-41.104218</td>\n",
       "      <td>-24.886039</td>\n",
       "      <td>-30.445163</td>\n",
       "      <td>7.411110</td>\n",
       "      <td>-44.594786</td>\n",
       "      <td>23.102822</td>\n",
       "      <td>-14.972879</td>\n",
       "      <td>28.402871</td>\n",
       "      <td>4</td>\n",
       "    </tr>\n",
       "    <tr>\n",
       "      <th>3</th>\n",
       "      <td>22RV1</td>\n",
       "      <td>BT-20</td>\n",
       "      <td>-40.450913</td>\n",
       "      <td>13.351193</td>\n",
       "      <td>-3.691292</td>\n",
       "      <td>24.881288</td>\n",
       "      <td>-4.5</td>\n",
       "      <td>0</td>\n",
       "      <td>-1.625</td>\n",
       "      <td>1.973787</td>\n",
       "      <td>-9</td>\n",
       "      <td>0</td>\n",
       "      <td>-3.25</td>\n",
       "      <td>3.947573</td>\n",
       "      <td>-0.622884</td>\n",
       "      <td>0.208182</td>\n",
       "      <td>-0.354822</td>\n",
       "      <td>0.381565</td>\n",
       "      <td>-2.901099</td>\n",
       "      <td>0.774364</td>\n",
       "      <td>-1.350787</td>\n",
       "      <td>1.786615</td>\n",
       "      <td>-9.552197</td>\n",
       "      <td>0.190321</td>\n",
       "      <td>-3.964428</td>\n",
       "      <td>4.164429</td>\n",
       "      <td>-7.041037</td>\n",
       "      <td>0.038093</td>\n",
       "      <td>-2.567267</td>\n",
       "      <td>3.249877</td>\n",
       "      <td>-19.015786</td>\n",
       "      <td>25.408437</td>\n",
       "      <td>1.169447</td>\n",
       "      <td>19.448251</td>\n",
       "      <td>-48.418107</td>\n",
       "      <td>26.369906</td>\n",
       "      <td>-13.238823</td>\n",
       "      <td>30.948683</td>\n",
       "      <td>4</td>\n",
       "    </tr>\n",
       "    <tr>\n",
       "      <th>4</th>\n",
       "      <td>22RV1</td>\n",
       "      <td>BT-549</td>\n",
       "      <td>-13.890040</td>\n",
       "      <td>51.143790</td>\n",
       "      <td>19.860594</td>\n",
       "      <td>31.038996</td>\n",
       "      <td>-4.5</td>\n",
       "      <td>0</td>\n",
       "      <td>-1.625</td>\n",
       "      <td>1.973787</td>\n",
       "      <td>-9</td>\n",
       "      <td>0</td>\n",
       "      <td>-3.25</td>\n",
       "      <td>3.947573</td>\n",
       "      <td>-1.487993</td>\n",
       "      <td>0.311025</td>\n",
       "      <td>-0.672300</td>\n",
       "      <td>0.915319</td>\n",
       "      <td>-2.833588</td>\n",
       "      <td>0.568679</td>\n",
       "      <td>-1.321770</td>\n",
       "      <td>1.702479</td>\n",
       "      <td>-7.904045</td>\n",
       "      <td>-0.478266</td>\n",
       "      <td>-4.536142</td>\n",
       "      <td>3.064348</td>\n",
       "      <td>-9.301178</td>\n",
       "      <td>2.035350</td>\n",
       "      <td>-4.135657</td>\n",
       "      <td>5.579639</td>\n",
       "      <td>-58.022301</td>\n",
       "      <td>11.644696</td>\n",
       "      <td>-22.977385</td>\n",
       "      <td>32.087677</td>\n",
       "      <td>-50.755073</td>\n",
       "      <td>7.962792</td>\n",
       "      <td>-15.359549</td>\n",
       "      <td>25.343474</td>\n",
       "      <td>4</td>\n",
       "    </tr>\n",
       "  </tbody>\n",
       "</table>\n",
       "</div>"
      ],
      "text/plain": [
       "     c_x       c_y  synergy_score_diff_gbcc_min  synergy_score_diff_gbcc_max  synergy_score_diff_gbcc_mean  synergy_score_diff_gbcc_std  max_conc_mean_diff_gbcc_min  max_conc_mean_diff_gbcc_max  max_conc_mean_diff_gbcc_mean  max_conc_mean_diff_gbcc_std  max_conc_diff_diff_gbcc_min  max_conc_diff_diff_gbcc_max  max_conc_diff_diff_gbcc_mean  max_conc_diff_diff_gbcc_std  ic50_mean_diff_gbcc_min  ic50_mean_diff_gbcc_max  ic50_mean_diff_gbcc_mean  ic50_mean_diff_gbcc_std  ic50_diff_diff_gbcc_min  ic50_diff_diff_gbcc_max  ic50_diff_diff_gbcc_mean  ic50_diff_diff_gbcc_std  h_mean_diff_gbcc_min  h_mean_diff_gbcc_max  h_mean_diff_gbcc_mean  h_mean_diff_gbcc_std  h_diff_diff_gbcc_min  h_diff_diff_gbcc_max  h_diff_diff_gbcc_mean  h_diff_diff_gbcc_std  einf_mean_diff_gbcc_min  einf_mean_diff_gbcc_max  einf_mean_diff_gbcc_mean  einf_mean_diff_gbcc_std  einf_diff_diff_gbcc_min  einf_diff_diff_gbcc_max  einf_diff_diff_gbcc_mean  einf_diff_diff_gbcc_std  count_gbcc\n",
       "0  22RV1     22RV1                   -10.434812                    10.434812                      0.000000                     5.577642                          0.0                            0                         0.000                     0.000000                            0                            0                          0.00                     0.000000                -0.073434                 0.073434                  0.000000                 0.039252                -0.146868                 0.146868                  0.000000                 0.078504             -7.425779              7.425779               0.000000              3.969246             -2.923574              2.923574               0.000000              1.562716               -16.218178                16.218178                  0.000000                 8.668981               -10.697618                10.697618                  0.000000                 5.718117           8\n",
       "1  22RV1     647-V                   -38.495162                    -0.911056                    -21.443179                    15.978800                         -2.5                            2                         0.375                     1.973787                           -9                            0                         -3.25                     3.947573                -0.792704                 0.427882                 -0.310700                 0.567997                -2.561460                 0.334965                 -1.320819                 1.406851             -9.109026             -1.683247              -4.922672              3.125422             -9.078683              1.781947              -3.900027              5.077758               -55.023462                 7.237651                -21.246165                26.778663               -48.481514                89.156957                 40.925158                61.168521           4\n",
       "2  22RV1  BFTC-905                   -97.788232                    25.303103                    -47.058290                    57.101456                         -2.5                            2                         0.375                     1.973787                           -9                            0                         -3.25                     3.947573                -0.507477                -0.006623                 -0.182412                 0.223045                -0.604303                 0.160113                 -0.076305                 0.357542             -8.929053              0.016018              -3.683094              3.930894             -9.533634              0.170093              -3.037265              4.531442               -41.104218               -24.886039                -30.445163                 7.411110               -44.594786                23.102822                -14.972879                28.402871           4\n",
       "3  22RV1     BT-20                   -40.450913                    13.351193                     -3.691292                    24.881288                         -4.5                            0                        -1.625                     1.973787                           -9                            0                         -3.25                     3.947573                -0.622884                 0.208182                 -0.354822                 0.381565                -2.901099                 0.774364                 -1.350787                 1.786615             -9.552197              0.190321              -3.964428              4.164429             -7.041037              0.038093              -2.567267              3.249877               -19.015786                25.408437                  1.169447                19.448251               -48.418107                26.369906                -13.238823                30.948683           4\n",
       "4  22RV1    BT-549                   -13.890040                    51.143790                     19.860594                    31.038996                         -4.5                            0                        -1.625                     1.973787                           -9                            0                         -3.25                     3.947573                -1.487993                 0.311025                 -0.672300                 0.915319                -2.833588                 0.568679                 -1.321770                 1.702479             -7.904045             -0.478266              -4.536142              3.064348             -9.301178              2.035350              -4.135657              5.579639               -58.022301                11.644696                -22.977385                32.087677               -50.755073                 7.962792                -15.359549                25.343474           4"
      ]
     },
     "metadata": {},
     "output_type": "display_data"
    },
    {
     "name": "stdout",
     "output_type": "stream",
     "text": [
      "(5755, 39)\n"
     ]
    }
   ],
   "source": [
    "display(ALL_TRAINING_DATA_PAIR_GBCC.head())\n",
    "print(ALL_TRAINING_DATA_PAIR_GBCC.shape)"
   ]
  },
  {
   "cell_type": "code",
   "execution_count": null,
   "metadata": {
    "collapsed": true
   },
   "outputs": [],
   "source": []
  },
  {
   "cell_type": "code",
   "execution_count": null,
   "metadata": {
    "collapsed": true
   },
   "outputs": [],
   "source": []
  },
  {
   "cell_type": "markdown",
   "metadata": {},
   "source": [
    "## All data"
   ]
  },
  {
   "cell_type": "markdown",
   "metadata": {
    "run_control": {
     "marked": false
    }
   },
   "source": [
    "### Drugs"
   ]
  },
  {
   "cell_type": "code",
   "execution_count": 46,
   "metadata": {
    "collapsed": false,
    "run_control": {
     "marked": false
    }
   },
   "outputs": [],
   "source": [
    "# Read text file\n",
    "drug_info_release = pd.read_csv(\n",
    "    '../downloads/challenge_data/drug_synergy_data/drug_info_release.csv/'\n",
    "    'Drug_info_release.csv', sep=',')\n",
    "\n",
    "drug_info_release_columns = list(drug_info_release.columns)"
   ]
  },
  {
   "cell_type": "code",
   "execution_count": 47,
   "metadata": {
    "collapsed": false,
    "run_control": {
     "marked": false
    },
    "scrolled": true
   },
   "outputs": [
    {
     "data": {
      "text/html": [
       "<div>\n",
       "<table border=\"1\" class=\"dataframe\">\n",
       "  <thead>\n",
       "    <tr style=\"text-align: right;\">\n",
       "      <th></th>\n",
       "      <th>ChallengeName</th>\n",
       "      <th>Target(Official Symbol)</th>\n",
       "      <th>HBA</th>\n",
       "      <th>cLogP</th>\n",
       "      <th>HBD</th>\n",
       "      <th>Lipinski</th>\n",
       "      <th>SMILES or PubChem ID</th>\n",
       "      <th>MW</th>\n",
       "    </tr>\n",
       "  </thead>\n",
       "  <tbody>\n",
       "    <tr>\n",
       "      <th>0</th>\n",
       "      <td>ADAM17</td>\n",
       "      <td>ADAM17</td>\n",
       "      <td>NaN</td>\n",
       "      <td>NaN</td>\n",
       "      <td>NaN</td>\n",
       "      <td>NaN</td>\n",
       "      <td>NaN</td>\n",
       "      <td>NaN</td>\n",
       "    </tr>\n",
       "    <tr>\n",
       "      <th>1</th>\n",
       "      <td>AKT</td>\n",
       "      <td>AKT1, AKT2, AKT3</td>\n",
       "      <td>8</td>\n",
       "      <td>1.18</td>\n",
       "      <td>5</td>\n",
       "      <td>0</td>\n",
       "      <td>c1cc(ccc1[C@H](CCO)NC(=O)C2(CCN(CC2)c3c4cc[nH]...</td>\n",
       "      <td>428.9</td>\n",
       "    </tr>\n",
       "    <tr>\n",
       "      <th>2</th>\n",
       "      <td>AKT_1</td>\n",
       "      <td>AKT*</td>\n",
       "      <td>6</td>\n",
       "      <td>3.24</td>\n",
       "      <td>3</td>\n",
       "      <td>0</td>\n",
       "      <td>c1ccc(cc1)c2cc3c(ccn4c3n[nH]c4=O)nc2c5ccc(cc5)...</td>\n",
       "      <td>407.5</td>\n",
       "    </tr>\n",
       "    <tr>\n",
       "      <th>3</th>\n",
       "      <td>AKT_PIK3C</td>\n",
       "      <td>AKT*,PIK3C*</td>\n",
       "      <td>NaN</td>\n",
       "      <td>NaN</td>\n",
       "      <td>NaN</td>\n",
       "      <td>NaN</td>\n",
       "      <td>NaN</td>\n",
       "      <td>NaN</td>\n",
       "    </tr>\n",
       "    <tr>\n",
       "      <th>4</th>\n",
       "      <td>AKT_SGK</td>\n",
       "      <td>AKT*,SGK*</td>\n",
       "      <td>NaN</td>\n",
       "      <td>NaN</td>\n",
       "      <td>NaN</td>\n",
       "      <td>NaN</td>\n",
       "      <td>NaN</td>\n",
       "      <td>NaN</td>\n",
       "    </tr>\n",
       "  </tbody>\n",
       "</table>\n",
       "</div>"
      ],
      "text/plain": [
       "  ChallengeName Target(Official Symbol)  HBA  cLogP  HBD  Lipinski                               SMILES or PubChem ID     MW\n",
       "0        ADAM17                  ADAM17  NaN    NaN  NaN       NaN                                                NaN    NaN\n",
       "1           AKT        AKT1, AKT2, AKT3    8   1.18    5         0  c1cc(ccc1[C@H](CCO)NC(=O)C2(CCN(CC2)c3c4cc[nH]...  428.9\n",
       "2         AKT_1                    AKT*    6   3.24    3         0  c1ccc(cc1)c2cc3c(ccn4c3n[nH]c4=O)nc2c5ccc(cc5)...  407.5\n",
       "3     AKT_PIK3C             AKT*,PIK3C*  NaN    NaN  NaN       NaN                                                NaN    NaN\n",
       "4       AKT_SGK               AKT*,SGK*  NaN    NaN  NaN       NaN                                                NaN    NaN"
      ]
     },
     "metadata": {},
     "output_type": "display_data"
    },
    {
     "name": "stdout",
     "output_type": "stream",
     "text": [
      "(119, 8)\n"
     ]
    }
   ],
   "source": [
    "display(drug_info_release.head())\n",
    "print(drug_info_release.shape)"
   ]
  },
  {
   "cell_type": "code",
   "execution_count": 48,
   "metadata": {
    "collapsed": false,
    "run_control": {
     "marked": false
    }
   },
   "outputs": [],
   "source": [
    "DRUGS = drug_info_release['ChallengeName'].drop_duplicates()"
   ]
  },
  {
   "cell_type": "code",
   "execution_count": 49,
   "metadata": {
    "collapsed": false,
    "run_control": {
     "marked": false
    }
   },
   "outputs": [
    {
     "name": "stdout",
     "output_type": "stream",
     "text": [
      "(119,)\n"
     ]
    }
   ],
   "source": [
    "print(DRUGS.shape)\n",
    "assert len(DRUGS) == 119"
   ]
  },
  {
   "cell_type": "code",
   "execution_count": null,
   "metadata": {
    "collapsed": true,
    "run_control": {
     "marked": false
    }
   },
   "outputs": [],
   "source": []
  },
  {
   "cell_type": "markdown",
   "metadata": {
    "run_control": {
     "marked": false
    }
   },
   "source": [
    "### Drug pairs"
   ]
  },
  {
   "cell_type": "code",
   "execution_count": 50,
   "metadata": {
    "collapsed": false,
    "run_control": {
     "marked": false
    }
   },
   "outputs": [],
   "source": [
    "DRUGS_tmp = DRUGS.reset_index()\n",
    "DRUGS_tmp['index'] = 1\n",
    "DRUG_PAIRS = (\n",
    "    DRUGS_tmp\n",
    "    .merge(DRUGS_tmp, on=['index'])\n",
    "    .drop(['index'], axis=1)\n",
    "    .rename(columns={'ChallengeName_x': 'd_1', 'ChallengeName_y': 'd_2'})\n",
    ")\n",
    "# For some odd reason, sometimes they give a synergy score where a and b are the same... :/ (<= instead of <)\n",
    "DRUG_PAIRS = DRUG_PAIRS[DRUG_PAIRS['d_1'].str.lower() <= DRUG_PAIRS['d_2'].str.lower()]"
   ]
  },
  {
   "cell_type": "code",
   "execution_count": 51,
   "metadata": {
    "collapsed": false,
    "run_control": {
     "marked": false
    }
   },
   "outputs": [
    {
     "data": {
      "text/html": [
       "<div>\n",
       "<table border=\"1\" class=\"dataframe\">\n",
       "  <thead>\n",
       "    <tr style=\"text-align: right;\">\n",
       "      <th></th>\n",
       "      <th>d_1</th>\n",
       "      <th>d_2</th>\n",
       "    </tr>\n",
       "  </thead>\n",
       "  <tbody>\n",
       "    <tr>\n",
       "      <th>0</th>\n",
       "      <td>ADAM17</td>\n",
       "      <td>ADAM17</td>\n",
       "    </tr>\n",
       "    <tr>\n",
       "      <th>1</th>\n",
       "      <td>ADAM17</td>\n",
       "      <td>AKT</td>\n",
       "    </tr>\n",
       "    <tr>\n",
       "      <th>2</th>\n",
       "      <td>ADAM17</td>\n",
       "      <td>AKT_1</td>\n",
       "    </tr>\n",
       "    <tr>\n",
       "      <th>3</th>\n",
       "      <td>ADAM17</td>\n",
       "      <td>AKT_PIK3C</td>\n",
       "    </tr>\n",
       "    <tr>\n",
       "      <th>4</th>\n",
       "      <td>ADAM17</td>\n",
       "      <td>AKT_SGK</td>\n",
       "    </tr>\n",
       "  </tbody>\n",
       "</table>\n",
       "</div>"
      ],
      "text/plain": [
       "      d_1        d_2\n",
       "0  ADAM17     ADAM17\n",
       "1  ADAM17        AKT\n",
       "2  ADAM17      AKT_1\n",
       "3  ADAM17  AKT_PIK3C\n",
       "4  ADAM17    AKT_SGK"
      ]
     },
     "metadata": {},
     "output_type": "display_data"
    },
    {
     "name": "stdout",
     "output_type": "stream",
     "text": [
      "(7140, 2)\n"
     ]
    }
   ],
   "source": [
    "display(DRUG_PAIRS.head())\n",
    "print(DRUG_PAIRS.shape)\n",
    "assert len(DRUG_PAIRS) == len(DRUGS) * len(DRUGS) / 2 + len(DRUGS) / 2 "
   ]
  },
  {
   "cell_type": "code",
   "execution_count": null,
   "metadata": {
    "collapsed": true,
    "run_control": {
     "marked": false
    }
   },
   "outputs": [],
   "source": []
  },
  {
   "cell_type": "markdown",
   "metadata": {
    "run_control": {
     "marked": false
    }
   },
   "source": [
    "### Cell lines"
   ]
  },
  {
   "cell_type": "code",
   "execution_count": 52,
   "metadata": {
    "collapsed": true,
    "run_control": {
     "marked": false
    }
   },
   "outputs": [],
   "source": [
    "ch1_train_combination_and_monotherapy = pd.read_csv(\n",
    "    '../downloads/challenge_data/drug_synergy_data/ch1_train_combination_and_monotherapy.csv/'\n",
    "    'ch1_train_combination_and_monoTherapy.csv', sep=','\n",
    ")"
   ]
  },
  {
   "cell_type": "code",
   "execution_count": 53,
   "metadata": {
    "collapsed": false,
    "run_control": {
     "marked": false
    }
   },
   "outputs": [
    {
     "data": {
      "text/html": [
       "<div>\n",
       "<table border=\"1\" class=\"dataframe\">\n",
       "  <thead>\n",
       "    <tr style=\"text-align: right;\">\n",
       "      <th></th>\n",
       "      <th>CELL_LINE</th>\n",
       "      <th>COMPOUND_A</th>\n",
       "      <th>COMPOUND_B</th>\n",
       "      <th>MAX_CONC_A</th>\n",
       "      <th>MAX_CONC_B</th>\n",
       "      <th>IC50_A</th>\n",
       "      <th>H_A</th>\n",
       "      <th>Einf_A</th>\n",
       "      <th>IC50_B</th>\n",
       "      <th>H_B</th>\n",
       "      <th>Einf_B</th>\n",
       "      <th>SYNERGY_SCORE</th>\n",
       "      <th>QA</th>\n",
       "      <th>COMBINATION_ID</th>\n",
       "    </tr>\n",
       "  </thead>\n",
       "  <tbody>\n",
       "    <tr>\n",
       "      <th>0</th>\n",
       "      <td>BT-20</td>\n",
       "      <td>ADAM17</td>\n",
       "      <td>AKT</td>\n",
       "      <td>1</td>\n",
       "      <td>75</td>\n",
       "      <td>1.000000</td>\n",
       "      <td>0.809002</td>\n",
       "      <td>59.122436</td>\n",
       "      <td>9.639714</td>\n",
       "      <td>0.757977</td>\n",
       "      <td>91.593425</td>\n",
       "      <td>29.540390</td>\n",
       "      <td>1</td>\n",
       "      <td>ADAM17.AKT</td>\n",
       "    </tr>\n",
       "    <tr>\n",
       "      <th>1</th>\n",
       "      <td>CAL-120</td>\n",
       "      <td>ADAM17</td>\n",
       "      <td>AKT</td>\n",
       "      <td>1</td>\n",
       "      <td>75</td>\n",
       "      <td>0.183214</td>\n",
       "      <td>2.503678</td>\n",
       "      <td>60.411999</td>\n",
       "      <td>1.000000</td>\n",
       "      <td>0.000000</td>\n",
       "      <td>100.000000</td>\n",
       "      <td>4.401410</td>\n",
       "      <td>-1</td>\n",
       "      <td>ADAM17.AKT</td>\n",
       "    </tr>\n",
       "    <tr>\n",
       "      <th>2</th>\n",
       "      <td>CAL-51</td>\n",
       "      <td>ADAM17</td>\n",
       "      <td>AKT</td>\n",
       "      <td>1</td>\n",
       "      <td>75</td>\n",
       "      <td>1.000000</td>\n",
       "      <td>0.726984</td>\n",
       "      <td>11.150843</td>\n",
       "      <td>75.000000</td>\n",
       "      <td>0.375043</td>\n",
       "      <td>76.656479</td>\n",
       "      <td>0.315422</td>\n",
       "      <td>1</td>\n",
       "      <td>ADAM17.AKT</td>\n",
       "    </tr>\n",
       "    <tr>\n",
       "      <th>3</th>\n",
       "      <td>DU-4475</td>\n",
       "      <td>ADAM17</td>\n",
       "      <td>AKT</td>\n",
       "      <td>1</td>\n",
       "      <td>75</td>\n",
       "      <td>0.321533</td>\n",
       "      <td>10.000000</td>\n",
       "      <td>58.599487</td>\n",
       "      <td>75.000000</td>\n",
       "      <td>1.995866</td>\n",
       "      <td>6.171007</td>\n",
       "      <td>-41.734090</td>\n",
       "      <td>-1</td>\n",
       "      <td>ADAM17.AKT</td>\n",
       "    </tr>\n",
       "    <tr>\n",
       "      <th>4</th>\n",
       "      <td>HCC1143</td>\n",
       "      <td>ADAM17</td>\n",
       "      <td>AKT</td>\n",
       "      <td>1</td>\n",
       "      <td>75</td>\n",
       "      <td>0.398673</td>\n",
       "      <td>10.000000</td>\n",
       "      <td>89.098894</td>\n",
       "      <td>1.000000</td>\n",
       "      <td>0.000000</td>\n",
       "      <td>100.000000</td>\n",
       "      <td>35.532770</td>\n",
       "      <td>-1</td>\n",
       "      <td>ADAM17.AKT</td>\n",
       "    </tr>\n",
       "  </tbody>\n",
       "</table>\n",
       "</div>"
      ],
      "text/plain": [
       "  CELL_LINE COMPOUND_A COMPOUND_B  MAX_CONC_A  MAX_CONC_B    IC50_A        H_A     Einf_A     IC50_B       H_B      Einf_B  SYNERGY_SCORE  QA COMBINATION_ID\n",
       "0     BT-20     ADAM17        AKT           1          75  1.000000   0.809002  59.122436   9.639714  0.757977   91.593425      29.540390   1     ADAM17.AKT\n",
       "1   CAL-120     ADAM17        AKT           1          75  0.183214   2.503678  60.411999   1.000000  0.000000  100.000000       4.401410  -1     ADAM17.AKT\n",
       "2    CAL-51     ADAM17        AKT           1          75  1.000000   0.726984  11.150843  75.000000  0.375043   76.656479       0.315422   1     ADAM17.AKT\n",
       "3   DU-4475     ADAM17        AKT           1          75  0.321533  10.000000  58.599487  75.000000  1.995866    6.171007     -41.734090  -1     ADAM17.AKT\n",
       "4   HCC1143     ADAM17        AKT           1          75  0.398673  10.000000  89.098894   1.000000  0.000000  100.000000      35.532770  -1     ADAM17.AKT"
      ]
     },
     "metadata": {},
     "output_type": "display_data"
    },
    {
     "name": "stdout",
     "output_type": "stream",
     "text": [
      "(2199, 14)\n"
     ]
    }
   ],
   "source": [
    "display(ch1_train_combination_and_monotherapy.head())\n",
    "print(ch1_train_combination_and_monotherapy.shape)"
   ]
  },
  {
   "cell_type": "code",
   "execution_count": 54,
   "metadata": {
    "collapsed": false,
    "run_control": {
     "marked": false
    }
   },
   "outputs": [],
   "source": [
    "CELL_LINES = ch1_train_combination_and_monotherapy['CELL_LINE'].drop_duplicates()"
   ]
  },
  {
   "cell_type": "code",
   "execution_count": 55,
   "metadata": {
    "collapsed": false,
    "run_control": {
     "marked": false
    }
   },
   "outputs": [
    {
     "data": {
      "text/plain": [
       "0      BT-20\n",
       "1    CAL-120\n",
       "2     CAL-51\n",
       "3    DU-4475\n",
       "4    HCC1143\n",
       "Name: CELL_LINE, dtype: object"
      ]
     },
     "metadata": {},
     "output_type": "display_data"
    },
    {
     "name": "stdout",
     "output_type": "stream",
     "text": [
      "(85,)\n"
     ]
    }
   ],
   "source": [
    "display(CELL_LINES.head())\n",
    "print(CELL_LINES.shape)\n",
    "assert len(CELL_LINES) == 85"
   ]
  },
  {
   "cell_type": "code",
   "execution_count": null,
   "metadata": {
    "collapsed": true,
    "run_control": {
     "marked": false
    }
   },
   "outputs": [],
   "source": []
  },
  {
   "cell_type": "markdown",
   "metadata": {
    "run_control": {
     "marked": false
    }
   },
   "source": [
    "### DDC"
   ]
  },
  {
   "cell_type": "code",
   "execution_count": 56,
   "metadata": {
    "collapsed": true,
    "run_control": {
     "marked": false
    }
   },
   "outputs": [],
   "source": [
    "DRUG_PAIRS_tmp = DRUG_PAIRS.copy()\n",
    "CELL_LINES_tmp = CELL_LINES.reset_index().rename(columns={'CELL_LINE': 'c'})\n",
    "\n",
    "DRUG_PAIRS_tmp['index'] = 1\n",
    "CELL_LINES_tmp['index'] = 1"
   ]
  },
  {
   "cell_type": "code",
   "execution_count": 57,
   "metadata": {
    "collapsed": false,
    "run_control": {
     "marked": false
    }
   },
   "outputs": [],
   "source": [
    "DRUG_PAIRS_CL = DRUG_PAIRS_tmp.merge(CELL_LINES_tmp, on=['index']).drop('index', axis=1)"
   ]
  },
  {
   "cell_type": "code",
   "execution_count": 58,
   "metadata": {
    "collapsed": false,
    "run_control": {
     "marked": false
    }
   },
   "outputs": [
    {
     "data": {
      "text/html": [
       "<div>\n",
       "<table border=\"1\" class=\"dataframe\">\n",
       "  <thead>\n",
       "    <tr style=\"text-align: right;\">\n",
       "      <th></th>\n",
       "      <th>d_1</th>\n",
       "      <th>d_2</th>\n",
       "      <th>c</th>\n",
       "    </tr>\n",
       "  </thead>\n",
       "  <tbody>\n",
       "    <tr>\n",
       "      <th>0</th>\n",
       "      <td>ADAM17</td>\n",
       "      <td>ADAM17</td>\n",
       "      <td>BT-20</td>\n",
       "    </tr>\n",
       "    <tr>\n",
       "      <th>1</th>\n",
       "      <td>ADAM17</td>\n",
       "      <td>ADAM17</td>\n",
       "      <td>CAL-120</td>\n",
       "    </tr>\n",
       "    <tr>\n",
       "      <th>2</th>\n",
       "      <td>ADAM17</td>\n",
       "      <td>ADAM17</td>\n",
       "      <td>CAL-51</td>\n",
       "    </tr>\n",
       "    <tr>\n",
       "      <th>3</th>\n",
       "      <td>ADAM17</td>\n",
       "      <td>ADAM17</td>\n",
       "      <td>DU-4475</td>\n",
       "    </tr>\n",
       "    <tr>\n",
       "      <th>4</th>\n",
       "      <td>ADAM17</td>\n",
       "      <td>ADAM17</td>\n",
       "      <td>HCC1143</td>\n",
       "    </tr>\n",
       "  </tbody>\n",
       "</table>\n",
       "</div>"
      ],
      "text/plain": [
       "      d_1     d_2        c\n",
       "0  ADAM17  ADAM17    BT-20\n",
       "1  ADAM17  ADAM17  CAL-120\n",
       "2  ADAM17  ADAM17   CAL-51\n",
       "3  ADAM17  ADAM17  DU-4475\n",
       "4  ADAM17  ADAM17  HCC1143"
      ]
     },
     "execution_count": 58,
     "metadata": {},
     "output_type": "execute_result"
    }
   ],
   "source": [
    "DRUG_PAIRS_CL.head()"
   ]
  },
  {
   "cell_type": "code",
   "execution_count": 59,
   "metadata": {
    "collapsed": false,
    "run_control": {
     "marked": false
    }
   },
   "outputs": [
    {
     "name": "stdout",
     "output_type": "stream",
     "text": [
      "(606900, 3)\n"
     ]
    }
   ],
   "source": [
    "print(DRUG_PAIRS_CL.shape)\n",
    "assert len(DRUG_PAIRS_CL) == len(DRUG_PAIRS) * len(CELL_LINES)"
   ]
  },
  {
   "cell_type": "code",
   "execution_count": 60,
   "metadata": {
    "collapsed": false,
    "run_control": {
     "marked": false
    }
   },
   "outputs": [],
   "source": [
    "assert not (DRUG_PAIRS_CL['d_1'].str.lower() > DRUG_PAIRS_CL['d_2'].str.lower()).any()"
   ]
  },
  {
   "cell_type": "code",
   "execution_count": 61,
   "metadata": {
    "collapsed": false,
    "run_control": {
     "marked": false
    },
    "scrolled": false
   },
   "outputs": [],
   "source": [
    "# Make sure there are no training unique_ids that are missing from the all-by-all\n",
    "assert not (\n",
    "    set(ALL_TRAINING_DATA[['d_1', 'd_2', 'c']].apply('.'.join, axis=1)) - \n",
    "    set(DRUG_PAIRS_CL[['d_1', 'd_2', 'c']].apply('.'.join, axis=1))\n",
    ")"
   ]
  },
  {
   "cell_type": "code",
   "execution_count": 62,
   "metadata": {
    "collapsed": false,
    "scrolled": true
   },
   "outputs": [
    {
     "data": {
      "text/html": [
       "<div>\n",
       "<table border=\"1\" class=\"dataframe\">\n",
       "  <thead>\n",
       "    <tr style=\"text-align: right;\">\n",
       "      <th></th>\n",
       "      <th>c</th>\n",
       "      <th>d_1</th>\n",
       "      <th>d_2</th>\n",
       "      <th>source</th>\n",
       "      <th>max_conc_mean</th>\n",
       "      <th>max_conc_diff</th>\n",
       "      <th>ic50_mean</th>\n",
       "      <th>ic50_diff</th>\n",
       "      <th>h_mean</th>\n",
       "      <th>h_diff</th>\n",
       "      <th>einf_mean</th>\n",
       "      <th>einf_diff</th>\n",
       "    </tr>\n",
       "  </thead>\n",
       "  <tbody>\n",
       "    <tr>\n",
       "      <th>0</th>\n",
       "      <td>BT-20</td>\n",
       "      <td>ADAM17</td>\n",
       "      <td>AKT</td>\n",
       "      <td>train</td>\n",
       "      <td>38</td>\n",
       "      <td>74</td>\n",
       "      <td>5.319857</td>\n",
       "      <td>8.639714</td>\n",
       "      <td>0.783490</td>\n",
       "      <td>0.051025</td>\n",
       "      <td>75.357930</td>\n",
       "      <td>32.470988</td>\n",
       "    </tr>\n",
       "    <tr>\n",
       "      <th>2</th>\n",
       "      <td>CAL-51</td>\n",
       "      <td>ADAM17</td>\n",
       "      <td>AKT</td>\n",
       "      <td>train</td>\n",
       "      <td>38</td>\n",
       "      <td>74</td>\n",
       "      <td>38.000000</td>\n",
       "      <td>74.000000</td>\n",
       "      <td>0.551013</td>\n",
       "      <td>0.351941</td>\n",
       "      <td>43.903661</td>\n",
       "      <td>65.505636</td>\n",
       "    </tr>\n",
       "    <tr>\n",
       "      <th>5</th>\n",
       "      <td>HCC1187</td>\n",
       "      <td>ADAM17</td>\n",
       "      <td>AKT</td>\n",
       "      <td>train</td>\n",
       "      <td>38</td>\n",
       "      <td>74</td>\n",
       "      <td>0.705015</td>\n",
       "      <td>0.589971</td>\n",
       "      <td>0.748450</td>\n",
       "      <td>1.496901</td>\n",
       "      <td>75.960632</td>\n",
       "      <td>48.078735</td>\n",
       "    </tr>\n",
       "    <tr>\n",
       "      <th>7</th>\n",
       "      <td>HCC1806</td>\n",
       "      <td>ADAM17</td>\n",
       "      <td>AKT</td>\n",
       "      <td>train</td>\n",
       "      <td>38</td>\n",
       "      <td>74</td>\n",
       "      <td>37.656996</td>\n",
       "      <td>74.686008</td>\n",
       "      <td>5.196285</td>\n",
       "      <td>9.607430</td>\n",
       "      <td>56.024845</td>\n",
       "      <td>14.749581</td>\n",
       "    </tr>\n",
       "    <tr>\n",
       "      <th>8</th>\n",
       "      <td>HCC1937</td>\n",
       "      <td>ADAM17</td>\n",
       "      <td>AKT</td>\n",
       "      <td>train</td>\n",
       "      <td>38</td>\n",
       "      <td>74</td>\n",
       "      <td>1.338962</td>\n",
       "      <td>0.677924</td>\n",
       "      <td>0.945659</td>\n",
       "      <td>0.347657</td>\n",
       "      <td>66.858792</td>\n",
       "      <td>50.658475</td>\n",
       "    </tr>\n",
       "  </tbody>\n",
       "</table>\n",
       "</div>"
      ],
      "text/plain": [
       "         c     d_1  d_2 source  max_conc_mean  max_conc_diff  ic50_mean  ic50_diff    h_mean    h_diff  einf_mean  einf_diff\n",
       "0    BT-20  ADAM17  AKT  train             38             74   5.319857   8.639714  0.783490  0.051025  75.357930  32.470988\n",
       "2   CAL-51  ADAM17  AKT  train             38             74  38.000000  74.000000  0.551013  0.351941  43.903661  65.505636\n",
       "5  HCC1187  ADAM17  AKT  train             38             74   0.705015   0.589971  0.748450  1.496901  75.960632  48.078735\n",
       "7  HCC1806  ADAM17  AKT  train             38             74  37.656996  74.686008  5.196285  9.607430  56.024845  14.749581\n",
       "8  HCC1937  ADAM17  AKT  train             38             74   1.338962   0.677924  0.945659  0.347657  66.858792  50.658475"
      ]
     },
     "execution_count": 62,
     "metadata": {},
     "output_type": "execute_result"
    }
   ],
   "source": [
    "ALL_TRAINING_DATA.head()"
   ]
  },
  {
   "cell_type": "code",
   "execution_count": 63,
   "metadata": {
    "collapsed": false,
    "run_control": {
     "marked": false
    }
   },
   "outputs": [
    {
     "data": {
      "text/html": [
       "<div>\n",
       "<table border=\"1\" class=\"dataframe\">\n",
       "  <thead>\n",
       "    <tr style=\"text-align: right;\">\n",
       "      <th></th>\n",
       "      <th>d_1</th>\n",
       "      <th>d_2</th>\n",
       "      <th>c</th>\n",
       "    </tr>\n",
       "  </thead>\n",
       "  <tbody>\n",
       "    <tr>\n",
       "      <th>0</th>\n",
       "      <td>ADAM17</td>\n",
       "      <td>ADAM17</td>\n",
       "      <td>BT-20</td>\n",
       "    </tr>\n",
       "    <tr>\n",
       "      <th>1</th>\n",
       "      <td>ADAM17</td>\n",
       "      <td>ADAM17</td>\n",
       "      <td>CAL-120</td>\n",
       "    </tr>\n",
       "    <tr>\n",
       "      <th>2</th>\n",
       "      <td>ADAM17</td>\n",
       "      <td>ADAM17</td>\n",
       "      <td>CAL-51</td>\n",
       "    </tr>\n",
       "    <tr>\n",
       "      <th>3</th>\n",
       "      <td>ADAM17</td>\n",
       "      <td>ADAM17</td>\n",
       "      <td>DU-4475</td>\n",
       "    </tr>\n",
       "    <tr>\n",
       "      <th>4</th>\n",
       "      <td>ADAM17</td>\n",
       "      <td>ADAM17</td>\n",
       "      <td>HCC1143</td>\n",
       "    </tr>\n",
       "  </tbody>\n",
       "</table>\n",
       "</div>"
      ],
      "text/plain": [
       "      d_1     d_2        c\n",
       "0  ADAM17  ADAM17    BT-20\n",
       "1  ADAM17  ADAM17  CAL-120\n",
       "2  ADAM17  ADAM17   CAL-51\n",
       "3  ADAM17  ADAM17  DU-4475\n",
       "4  ADAM17  ADAM17  HCC1143"
      ]
     },
     "execution_count": 63,
     "metadata": {},
     "output_type": "execute_result"
    }
   ],
   "source": [
    "DRUG_PAIRS_CL.head()"
   ]
  },
  {
   "cell_type": "code",
   "execution_count": null,
   "metadata": {
    "collapsed": true
   },
   "outputs": [],
   "source": []
  },
  {
   "cell_type": "markdown",
   "metadata": {
    "collapsed": true,
    "run_control": {
     "marked": false
    }
   },
   "source": [
    "## Submission data"
   ]
  },
  {
   "cell_type": "markdown",
   "metadata": {},
   "source": [
    "### DRUG_PAIRS_CL_SUBMISSION"
   ]
  },
  {
   "cell_type": "code",
   "execution_count": 64,
   "metadata": {
    "collapsed": true,
    "run_control": {
     "marked": false
    }
   },
   "outputs": [],
   "source": [
    "DEMO_SUBMISSIONS_DIR = '../downloads/challenge_resources/demo_submissions'\n",
    "\n",
    "X1 = './subchallenge_1/final_submission/combination_priority.csv/combination_priority.csv'\n",
    "X2 = './subchallenge_1/final_submission/prediction.csv/prediction.csv'\n",
    "X3 = './subchallenge_2/final_submission/confidence_matrix.csv/confidence_matrix.csv'\n",
    "X4 = './subchallenge_2/final_submission/synergy_matrix.csv/synergy_matrix.csv'\n",
    "\n",
    "X1_data = pd.read_csv(op.join(DEMO_SUBMISSIONS_DIR, X1))\n",
    "X2_data = pd.read_csv(op.join(DEMO_SUBMISSIONS_DIR, X2))\n",
    "X3_data = pd.read_csv(op.join(DEMO_SUBMISSIONS_DIR, X3))\n",
    "X4_data = pd.read_csv(op.join(DEMO_SUBMISSIONS_DIR, X4))"
   ]
  },
  {
   "cell_type": "code",
   "execution_count": 65,
   "metadata": {
    "collapsed": false,
    "run_control": {
     "marked": false
    }
   },
   "outputs": [
    {
     "data": {
      "text/html": [
       "<div>\n",
       "<table border=\"1\" class=\"dataframe\">\n",
       "  <thead>\n",
       "    <tr style=\"text-align: right;\">\n",
       "      <th></th>\n",
       "      <th>CELL_LINE</th>\n",
       "      <th>COMBINATION_ID</th>\n",
       "      <th>PREDICTION</th>\n",
       "    </tr>\n",
       "  </thead>\n",
       "  <tbody>\n",
       "    <tr>\n",
       "      <th>0</th>\n",
       "      <td>CAMA-1</td>\n",
       "      <td>ADAM17.AKT</td>\n",
       "      <td>0</td>\n",
       "    </tr>\n",
       "    <tr>\n",
       "      <th>1</th>\n",
       "      <td>HCC1395</td>\n",
       "      <td>ADAM17.AKT</td>\n",
       "      <td>0</td>\n",
       "    </tr>\n",
       "  </tbody>\n",
       "</table>\n",
       "</div>"
      ],
      "text/plain": [
       "  CELL_LINE COMBINATION_ID  PREDICTION\n",
       "0    CAMA-1     ADAM17.AKT           0\n",
       "1   HCC1395     ADAM17.AKT           0"
      ]
     },
     "execution_count": 65,
     "metadata": {},
     "output_type": "execute_result"
    }
   ],
   "source": [
    "X2_data.head(2)"
   ]
  },
  {
   "cell_type": "code",
   "execution_count": 66,
   "metadata": {
    "collapsed": false,
    "run_control": {
     "marked": false
    }
   },
   "outputs": [
    {
     "data": {
      "text/html": [
       "<div>\n",
       "<table border=\"1\" class=\"dataframe\">\n",
       "  <thead>\n",
       "    <tr style=\"text-align: right;\">\n",
       "      <th></th>\n",
       "      <th>COMBINATION_ID</th>\n",
       "      <th>CELL_LINE</th>\n",
       "      <th>0</th>\n",
       "    </tr>\n",
       "  </thead>\n",
       "  <tbody>\n",
       "    <tr>\n",
       "      <th>0</th>\n",
       "      <td>AKT.AKT</td>\n",
       "      <td>BT-20</td>\n",
       "      <td>0</td>\n",
       "    </tr>\n",
       "    <tr>\n",
       "      <th>1</th>\n",
       "      <td>AKT.AKT</td>\n",
       "      <td>BT-549</td>\n",
       "      <td>0</td>\n",
       "    </tr>\n",
       "  </tbody>\n",
       "</table>\n",
       "</div>"
      ],
      "text/plain": [
       "  COMBINATION_ID CELL_LINE  0\n",
       "0        AKT.AKT     BT-20  0\n",
       "1        AKT.AKT    BT-549  0"
      ]
     },
     "execution_count": 66,
     "metadata": {},
     "output_type": "execute_result"
    }
   ],
   "source": [
    "X4_data_stack = (\n",
    "    X4_data.set_index('Unnamed: 0').stack().reset_index()\n",
    "    .rename(columns={'Unnamed: 0': 'COMBINATION_ID', 'level_1': 'CELL_LINE'})\n",
    ")\n",
    "X4_data_stack.head(2)"
   ]
  },
  {
   "cell_type": "code",
   "execution_count": 67,
   "metadata": {
    "collapsed": false,
    "run_control": {
     "marked": false
    }
   },
   "outputs": [
    {
     "data": {
      "text/html": [
       "<div>\n",
       "<table border=\"1\" class=\"dataframe\">\n",
       "  <thead>\n",
       "    <tr style=\"text-align: right;\">\n",
       "      <th></th>\n",
       "      <th>COMBINATION_ID</th>\n",
       "      <th>CELL_LINE</th>\n",
       "    </tr>\n",
       "  </thead>\n",
       "  <tbody>\n",
       "    <tr>\n",
       "      <th>0</th>\n",
       "      <td>ADAM17.AKT</td>\n",
       "      <td>CAMA-1</td>\n",
       "    </tr>\n",
       "    <tr>\n",
       "      <th>1</th>\n",
       "      <td>ADAM17.AKT</td>\n",
       "      <td>HCC1395</td>\n",
       "    </tr>\n",
       "    <tr>\n",
       "      <th>2</th>\n",
       "      <td>ADAM17.AKT</td>\n",
       "      <td>Hs-578-T</td>\n",
       "    </tr>\n",
       "    <tr>\n",
       "      <th>3</th>\n",
       "      <td>ADAM17.AKT</td>\n",
       "      <td>MDA-MB-157</td>\n",
       "    </tr>\n",
       "    <tr>\n",
       "      <th>4</th>\n",
       "      <td>ADAM17.AKT</td>\n",
       "      <td>MDA-MB-468</td>\n",
       "    </tr>\n",
       "  </tbody>\n",
       "</table>\n",
       "</div>"
      ],
      "text/plain": [
       "  COMBINATION_ID   CELL_LINE\n",
       "0     ADAM17.AKT      CAMA-1\n",
       "1     ADAM17.AKT     HCC1395\n",
       "2     ADAM17.AKT    Hs-578-T\n",
       "3     ADAM17.AKT  MDA-MB-157\n",
       "4     ADAM17.AKT  MDA-MB-468"
      ]
     },
     "execution_count": 67,
     "metadata": {},
     "output_type": "execute_result"
    }
   ],
   "source": [
    "DRUG_PAIRS_CL_SUBMISSION = (\n",
    "    pd.concat([\n",
    "        X2_data[['COMBINATION_ID', 'CELL_LINE']],\n",
    "        X4_data_stack[['COMBINATION_ID', 'CELL_LINE']]\n",
    "    ], ignore_index=True)\n",
    "    .drop_duplicates()\n",
    ")\n",
    "DRUG_PAIRS_CL_SUBMISSION.head()"
   ]
  },
  {
   "cell_type": "code",
   "execution_count": 68,
   "metadata": {
    "collapsed": false,
    "run_control": {
     "marked": false
    }
   },
   "outputs": [
    {
     "data": {
      "text/html": [
       "<div>\n",
       "<table border=\"1\" class=\"dataframe\">\n",
       "  <thead>\n",
       "    <tr style=\"text-align: right;\">\n",
       "      <th></th>\n",
       "      <th>d_1</th>\n",
       "      <th>d_2</th>\n",
       "      <th>c</th>\n",
       "    </tr>\n",
       "  </thead>\n",
       "  <tbody>\n",
       "    <tr>\n",
       "      <th>0</th>\n",
       "      <td>ADAM17</td>\n",
       "      <td>AKT</td>\n",
       "      <td>CAMA-1</td>\n",
       "    </tr>\n",
       "    <tr>\n",
       "      <th>1</th>\n",
       "      <td>ADAM17</td>\n",
       "      <td>AKT</td>\n",
       "      <td>HCC1395</td>\n",
       "    </tr>\n",
       "    <tr>\n",
       "      <th>2</th>\n",
       "      <td>ADAM17</td>\n",
       "      <td>AKT</td>\n",
       "      <td>Hs-578-T</td>\n",
       "    </tr>\n",
       "    <tr>\n",
       "      <th>3</th>\n",
       "      <td>ADAM17</td>\n",
       "      <td>AKT</td>\n",
       "      <td>MDA-MB-157</td>\n",
       "    </tr>\n",
       "    <tr>\n",
       "      <th>4</th>\n",
       "      <td>ADAM17</td>\n",
       "      <td>AKT</td>\n",
       "      <td>MDA-MB-468</td>\n",
       "    </tr>\n",
       "  </tbody>\n",
       "</table>\n",
       "</div>"
      ],
      "text/plain": [
       "      d_1  d_2           c\n",
       "0  ADAM17  AKT      CAMA-1\n",
       "1  ADAM17  AKT     HCC1395\n",
       "2  ADAM17  AKT    Hs-578-T\n",
       "3  ADAM17  AKT  MDA-MB-157\n",
       "4  ADAM17  AKT  MDA-MB-468"
      ]
     },
     "execution_count": 68,
     "metadata": {},
     "output_type": "execute_result"
    }
   ],
   "source": [
    "DRUG_PAIRS_CL_SUBMISSION['d_1'], DRUG_PAIRS_CL_SUBMISSION['d_2'] = list(zip(*\n",
    "    DRUG_PAIRS_CL_SUBMISSION['COMBINATION_ID'].apply(lambda x: x.split('.'))\n",
    "))\n",
    "DRUG_PAIRS_CL_SUBMISSION = (\n",
    "    DRUG_PAIRS_CL_SUBMISSION\n",
    "    .drop('COMBINATION_ID', axis=1)\n",
    "    .rename(columns={'CELL_LINE': 'c'})\n",
    "    .reindex_axis(['d_1', 'd_2', 'c'], axis=1)\n",
    ")\n",
    "DRUG_PAIRS_CL_SUBMISSION.head()"
   ]
  },
  {
   "cell_type": "code",
   "execution_count": null,
   "metadata": {
    "collapsed": true
   },
   "outputs": [],
   "source": []
  },
  {
   "cell_type": "markdown",
   "metadata": {
    "collapsed": true
   },
   "source": [
    "### Missing"
   ]
  },
  {
   "cell_type": "code",
   "execution_count": 69,
   "metadata": {
    "collapsed": false
   },
   "outputs": [
    {
     "data": {
      "text/html": [
       "<div>\n",
       "<table border=\"1\" class=\"dataframe\">\n",
       "  <thead>\n",
       "    <tr style=\"text-align: right;\">\n",
       "      <th></th>\n",
       "      <th>c</th>\n",
       "      <th>d_1</th>\n",
       "      <th>d_2</th>\n",
       "      <th>synergy_score</th>\n",
       "      <th>qa</th>\n",
       "      <th>source</th>\n",
       "      <th>max_conc_mean</th>\n",
       "      <th>max_conc_diff</th>\n",
       "      <th>ic50_mean</th>\n",
       "      <th>ic50_diff</th>\n",
       "      <th>h_mean</th>\n",
       "      <th>h_diff</th>\n",
       "      <th>einf_mean</th>\n",
       "      <th>einf_diff</th>\n",
       "    </tr>\n",
       "  </thead>\n",
       "  <tbody>\n",
       "    <tr>\n",
       "      <th>0</th>\n",
       "      <td>BT-20</td>\n",
       "      <td>ADAM17</td>\n",
       "      <td>AKT</td>\n",
       "      <td>29.540390</td>\n",
       "      <td>1</td>\n",
       "      <td>train</td>\n",
       "      <td>38</td>\n",
       "      <td>74</td>\n",
       "      <td>5.319857</td>\n",
       "      <td>8.639714</td>\n",
       "      <td>0.783490</td>\n",
       "      <td>0.051025</td>\n",
       "      <td>75.357930</td>\n",
       "      <td>32.470988</td>\n",
       "    </tr>\n",
       "    <tr>\n",
       "      <th>1</th>\n",
       "      <td>CAL-120</td>\n",
       "      <td>ADAM17</td>\n",
       "      <td>AKT</td>\n",
       "      <td>4.401410</td>\n",
       "      <td>-1</td>\n",
       "      <td>train</td>\n",
       "      <td>38</td>\n",
       "      <td>74</td>\n",
       "      <td>0.591607</td>\n",
       "      <td>0.816786</td>\n",
       "      <td>1.251839</td>\n",
       "      <td>2.503678</td>\n",
       "      <td>80.206000</td>\n",
       "      <td>39.588001</td>\n",
       "    </tr>\n",
       "    <tr>\n",
       "      <th>2</th>\n",
       "      <td>CAL-51</td>\n",
       "      <td>ADAM17</td>\n",
       "      <td>AKT</td>\n",
       "      <td>0.315422</td>\n",
       "      <td>1</td>\n",
       "      <td>train</td>\n",
       "      <td>38</td>\n",
       "      <td>74</td>\n",
       "      <td>38.000000</td>\n",
       "      <td>74.000000</td>\n",
       "      <td>0.551013</td>\n",
       "      <td>0.351941</td>\n",
       "      <td>43.903661</td>\n",
       "      <td>65.505636</td>\n",
       "    </tr>\n",
       "    <tr>\n",
       "      <th>3</th>\n",
       "      <td>DU-4475</td>\n",
       "      <td>ADAM17</td>\n",
       "      <td>AKT</td>\n",
       "      <td>-41.734090</td>\n",
       "      <td>-1</td>\n",
       "      <td>train</td>\n",
       "      <td>38</td>\n",
       "      <td>74</td>\n",
       "      <td>37.660767</td>\n",
       "      <td>74.678467</td>\n",
       "      <td>5.997933</td>\n",
       "      <td>8.004134</td>\n",
       "      <td>32.385247</td>\n",
       "      <td>52.428481</td>\n",
       "    </tr>\n",
       "    <tr>\n",
       "      <th>4</th>\n",
       "      <td>HCC1143</td>\n",
       "      <td>ADAM17</td>\n",
       "      <td>AKT</td>\n",
       "      <td>35.532770</td>\n",
       "      <td>-1</td>\n",
       "      <td>train</td>\n",
       "      <td>38</td>\n",
       "      <td>74</td>\n",
       "      <td>0.699337</td>\n",
       "      <td>0.601327</td>\n",
       "      <td>5.000000</td>\n",
       "      <td>10.000000</td>\n",
       "      <td>94.549447</td>\n",
       "      <td>10.901106</td>\n",
       "    </tr>\n",
       "  </tbody>\n",
       "</table>\n",
       "</div>"
      ],
      "text/plain": [
       "         c     d_1  d_2  synergy_score  qa source  max_conc_mean  max_conc_diff  ic50_mean  ic50_diff    h_mean     h_diff  einf_mean  einf_diff\n",
       "0    BT-20  ADAM17  AKT      29.540390   1  train             38             74   5.319857   8.639714  0.783490   0.051025  75.357930  32.470988\n",
       "1  CAL-120  ADAM17  AKT       4.401410  -1  train             38             74   0.591607   0.816786  1.251839   2.503678  80.206000  39.588001\n",
       "2   CAL-51  ADAM17  AKT       0.315422   1  train             38             74  38.000000  74.000000  0.551013   0.351941  43.903661  65.505636\n",
       "3  DU-4475  ADAM17  AKT     -41.734090  -1  train             38             74  37.660767  74.678467  5.997933   8.004134  32.385247  52.428481\n",
       "4  HCC1143  ADAM17  AKT      35.532770  -1  train             38             74   0.699337   0.601327  5.000000  10.000000  94.549447  10.901106"
      ]
     },
     "metadata": {},
     "output_type": "display_data"
    },
    {
     "name": "stdout",
     "output_type": "stream",
     "text": [
      "(11575, 14)\n"
     ]
    }
   ],
   "source": [
    "display(ALL_TRAINING_DATA_WSYNERGY.head())\n",
    "print(ALL_TRAINING_DATA_WSYNERGY.shape)"
   ]
  },
  {
   "cell_type": "code",
   "execution_count": 70,
   "metadata": {
    "collapsed": false
   },
   "outputs": [
    {
     "data": {
      "text/plain": [
       "Counter({'ch1_test': 1089,\n",
       "         'ch1_validate': 591,\n",
       "         'ch2_test': 3826,\n",
       "         'ch2_validate': 3870,\n",
       "         'train': 2199})"
      ]
     },
     "execution_count": 70,
     "metadata": {},
     "output_type": "execute_result"
    }
   ],
   "source": [
    "Counter(ALL_TRAINING_DATA_WSYNERGY['source'])"
   ]
  },
  {
   "cell_type": "code",
   "execution_count": 71,
   "metadata": {
    "collapsed": false
   },
   "outputs": [],
   "source": [
    "unique_ids_present = set(ALL_TRAINING_DATA_WSYNERGY[['d_1', 'd_2', 'c']].apply('.'.join, axis=1))\n",
    "unque_ids_required = set(DRUG_PAIRS_CL_SUBMISSION[['d_1', 'd_2', 'c']].apply('.'.join, axis=1))\n",
    "unique_ids_missing = unque_ids_required - unique_ids_present"
   ]
  },
  {
   "cell_type": "code",
   "execution_count": 72,
   "metadata": {
    "collapsed": false
   },
   "outputs": [],
   "source": [
    "DRUG_PAIRS_CL['unique_id'] = DRUG_PAIRS_CL[['d_1', 'd_2', 'c']].apply('.'.join, axis=1)"
   ]
  },
  {
   "cell_type": "code",
   "execution_count": 73,
   "metadata": {
    "collapsed": true
   },
   "outputs": [],
   "source": [
    "DRUG_PAIRS_CL_MISSING = (\n",
    "    DRUG_PAIRS_CL\n",
    "    [DRUG_PAIRS_CL['unique_id'].isin(unique_ids_missing)]\n",
    "    .drop('unique_id', axis=1)\n",
    ")\n",
    "DRUG_PAIRS_CL_MISSING['source'] = 'ch2_validate_extra'"
   ]
  },
  {
   "cell_type": "code",
   "execution_count": 74,
   "metadata": {
    "collapsed": false
   },
   "outputs": [
    {
     "data": {
      "text/html": [
       "<div>\n",
       "<table border=\"1\" class=\"dataframe\">\n",
       "  <thead>\n",
       "    <tr style=\"text-align: right;\">\n",
       "      <th></th>\n",
       "      <th>d_1</th>\n",
       "      <th>d_2</th>\n",
       "      <th>c</th>\n",
       "      <th>source</th>\n",
       "    </tr>\n",
       "  </thead>\n",
       "  <tbody>\n",
       "    <tr>\n",
       "      <th>3485</th>\n",
       "      <td>ADAM17</td>\n",
       "      <td>ERBB</td>\n",
       "      <td>BT-20</td>\n",
       "      <td>ch2_validate_extra</td>\n",
       "    </tr>\n",
       "    <tr>\n",
       "      <th>3486</th>\n",
       "      <td>ADAM17</td>\n",
       "      <td>ERBB</td>\n",
       "      <td>CAL-120</td>\n",
       "      <td>ch2_validate_extra</td>\n",
       "    </tr>\n",
       "    <tr>\n",
       "      <th>3487</th>\n",
       "      <td>ADAM17</td>\n",
       "      <td>ERBB</td>\n",
       "      <td>CAL-51</td>\n",
       "      <td>ch2_validate_extra</td>\n",
       "    </tr>\n",
       "    <tr>\n",
       "      <th>3488</th>\n",
       "      <td>ADAM17</td>\n",
       "      <td>ERBB</td>\n",
       "      <td>DU-4475</td>\n",
       "      <td>ch2_validate_extra</td>\n",
       "    </tr>\n",
       "    <tr>\n",
       "      <th>3489</th>\n",
       "      <td>ADAM17</td>\n",
       "      <td>ERBB</td>\n",
       "      <td>HCC1143</td>\n",
       "      <td>ch2_validate_extra</td>\n",
       "    </tr>\n",
       "  </tbody>\n",
       "</table>\n",
       "</div>"
      ],
      "text/plain": [
       "         d_1   d_2        c              source\n",
       "3485  ADAM17  ERBB    BT-20  ch2_validate_extra\n",
       "3486  ADAM17  ERBB  CAL-120  ch2_validate_extra\n",
       "3487  ADAM17  ERBB   CAL-51  ch2_validate_extra\n",
       "3488  ADAM17  ERBB  DU-4475  ch2_validate_extra\n",
       "3489  ADAM17  ERBB  HCC1143  ch2_validate_extra"
      ]
     },
     "execution_count": 74,
     "metadata": {},
     "output_type": "execute_result"
    }
   ],
   "source": [
    "DRUG_PAIRS_CL_MISSING.head()"
   ]
  },
  {
   "cell_type": "code",
   "execution_count": 75,
   "metadata": {
    "collapsed": true
   },
   "outputs": [],
   "source": [
    "ALL_TRAINING_DATA_WSYNERGY = (\n",
    "    ALL_TRAINING_DATA_WSYNERGY\n",
    "    .merge(DRUG_PAIRS_CL_MISSING, on=['d_1', 'd_2', 'c', 'source'], how='outer')\n",
    ")"
   ]
  },
  {
   "cell_type": "code",
   "execution_count": null,
   "metadata": {
    "collapsed": true
   },
   "outputs": [],
   "source": []
  },
  {
   "cell_type": "markdown",
   "metadata": {
    "run_control": {
     "marked": false
    }
   },
   "source": [
    "# Save results"
   ]
  },
  {
   "cell_type": "code",
   "execution_count": 80,
   "metadata": {
    "collapsed": false,
    "run_control": {
     "marked": false
    }
   },
   "outputs": [],
   "source": [
    "from importlib import reload\n",
    "import common\n",
    "reload(common)\n",
    "common.configure_logging(level='warning')\n",
    "import csv2sql\n",
    "reload(csv2sql)\n",
    "db = csv2sql.DataFrameToMySQL(\n",
    "    'mysql://strokach:@192.168.6.19:3306/az_dream_2015', \n",
    "    'all_by_all', \n",
    "    '192.168.233.20', \n",
    "    echo=False\n",
    ")"
   ]
  },
  {
   "cell_type": "code",
   "execution_count": null,
   "metadata": {
    "collapsed": true,
    "run_control": {
     "marked": false
    }
   },
   "outputs": [],
   "source": []
  },
  {
   "cell_type": "markdown",
   "metadata": {
    "run_control": {
     "marked": false
    }
   },
   "source": [
    "#### ALL_TRAINING_DATA"
   ]
  },
  {
   "cell_type": "code",
   "execution_count": 81,
   "metadata": {
    "collapsed": false,
    "run_control": {
     "marked": false
    }
   },
   "outputs": [
    {
     "data": {
      "text/html": [
       "<div>\n",
       "<table border=\"1\" class=\"dataframe\">\n",
       "  <thead>\n",
       "    <tr style=\"text-align: right;\">\n",
       "      <th></th>\n",
       "      <th>c</th>\n",
       "      <th>d_1</th>\n",
       "      <th>d_2</th>\n",
       "      <th>source</th>\n",
       "      <th>max_conc_mean</th>\n",
       "      <th>max_conc_diff</th>\n",
       "      <th>ic50_mean</th>\n",
       "      <th>ic50_diff</th>\n",
       "      <th>h_mean</th>\n",
       "      <th>h_diff</th>\n",
       "      <th>einf_mean</th>\n",
       "      <th>einf_diff</th>\n",
       "    </tr>\n",
       "  </thead>\n",
       "  <tbody>\n",
       "    <tr>\n",
       "      <th>11573</th>\n",
       "      <td>TCCSUP</td>\n",
       "      <td>ATR_4</td>\n",
       "      <td>Gemcitabine</td>\n",
       "      <td>ch2_test</td>\n",
       "      <td>1.55</td>\n",
       "      <td>2.9</td>\n",
       "      <td>0.371314</td>\n",
       "      <td>0.737354</td>\n",
       "      <td>2.448096</td>\n",
       "      <td>0.891287</td>\n",
       "      <td>11.292497</td>\n",
       "      <td>7.308207</td>\n",
       "    </tr>\n",
       "    <tr>\n",
       "      <th>11574</th>\n",
       "      <td>UM-UC-3</td>\n",
       "      <td>ATR_4</td>\n",
       "      <td>Gemcitabine</td>\n",
       "      <td>ch2_test</td>\n",
       "      <td>1.55</td>\n",
       "      <td>2.9</td>\n",
       "      <td>0.519804</td>\n",
       "      <td>1.019486</td>\n",
       "      <td>6.498083</td>\n",
       "      <td>7.003834</td>\n",
       "      <td>25.218610</td>\n",
       "      <td>48.560481</td>\n",
       "    </tr>\n",
       "  </tbody>\n",
       "</table>\n",
       "</div>"
      ],
      "text/plain": [
       "             c    d_1          d_2    source  max_conc_mean  max_conc_diff  ic50_mean  ic50_diff    h_mean    h_diff  einf_mean  einf_diff\n",
       "11573   TCCSUP  ATR_4  Gemcitabine  ch2_test           1.55            2.9   0.371314   0.737354  2.448096  0.891287  11.292497   7.308207\n",
       "11574  UM-UC-3  ATR_4  Gemcitabine  ch2_test           1.55            2.9   0.519804   1.019486  6.498083  7.003834  25.218610  48.560481"
      ]
     },
     "execution_count": 81,
     "metadata": {},
     "output_type": "execute_result"
    }
   ],
   "source": [
    "ALL_TRAINING_DATA.tail(2)"
   ]
  },
  {
   "cell_type": "code",
   "execution_count": 82,
   "metadata": {
    "collapsed": false,
    "run_control": {
     "marked": false
    },
    "scrolled": true
   },
   "outputs": [
    {
     "data": {
      "text/plain": [
       "(11171, 12)"
      ]
     },
     "execution_count": 82,
     "metadata": {},
     "output_type": "execute_result"
    }
   ],
   "source": [
    "ALL_TRAINING_DATA.shape"
   ]
  },
  {
   "cell_type": "code",
   "execution_count": 83,
   "metadata": {
    "collapsed": false,
    "run_control": {
     "marked": false
    }
   },
   "outputs": [
    {
     "name": "stdout",
     "output_type": "stream",
     "text": [
      "FML\n",
      "FML\n",
      "FML\n",
      "FML\n"
     ]
    }
   ],
   "source": [
    "db.import_table(\n",
    "    ALL_TRAINING_DATA, 'ALL_TRAINING_DATA', \n",
    "    [(('d_1', 'd_2', 'c', 'ic50_mean'), True), \n",
    "     (('c', 'd_1', 'd_2'), False)]\n",
    ")"
   ]
  },
  {
   "cell_type": "markdown",
   "metadata": {},
   "source": [
    "####  ALL_TRAINING_DATA_WSYNERGY"
   ]
  },
  {
   "cell_type": "code",
   "execution_count": 84,
   "metadata": {
    "collapsed": false
   },
   "outputs": [
    {
     "data": {
      "text/html": [
       "<div>\n",
       "<table border=\"1\" class=\"dataframe\">\n",
       "  <thead>\n",
       "    <tr style=\"text-align: right;\">\n",
       "      <th></th>\n",
       "      <th>c</th>\n",
       "      <th>d_1</th>\n",
       "      <th>d_2</th>\n",
       "      <th>synergy_score</th>\n",
       "      <th>qa</th>\n",
       "      <th>source</th>\n",
       "      <th>max_conc_mean</th>\n",
       "      <th>max_conc_diff</th>\n",
       "      <th>ic50_mean</th>\n",
       "      <th>ic50_diff</th>\n",
       "      <th>h_mean</th>\n",
       "      <th>h_diff</th>\n",
       "      <th>einf_mean</th>\n",
       "      <th>einf_diff</th>\n",
       "    </tr>\n",
       "  </thead>\n",
       "  <tbody>\n",
       "    <tr>\n",
       "      <th>0</th>\n",
       "      <td>BT-20</td>\n",
       "      <td>ADAM17</td>\n",
       "      <td>AKT</td>\n",
       "      <td>29.540390</td>\n",
       "      <td>1</td>\n",
       "      <td>train</td>\n",
       "      <td>38</td>\n",
       "      <td>74</td>\n",
       "      <td>5.319857</td>\n",
       "      <td>8.639714</td>\n",
       "      <td>0.783490</td>\n",
       "      <td>0.051025</td>\n",
       "      <td>75.357930</td>\n",
       "      <td>32.470988</td>\n",
       "    </tr>\n",
       "    <tr>\n",
       "      <th>1</th>\n",
       "      <td>CAL-120</td>\n",
       "      <td>ADAM17</td>\n",
       "      <td>AKT</td>\n",
       "      <td>4.401410</td>\n",
       "      <td>-1</td>\n",
       "      <td>train</td>\n",
       "      <td>38</td>\n",
       "      <td>74</td>\n",
       "      <td>0.591607</td>\n",
       "      <td>0.816786</td>\n",
       "      <td>1.251839</td>\n",
       "      <td>2.503678</td>\n",
       "      <td>80.206000</td>\n",
       "      <td>39.588001</td>\n",
       "    </tr>\n",
       "    <tr>\n",
       "      <th>2</th>\n",
       "      <td>CAL-51</td>\n",
       "      <td>ADAM17</td>\n",
       "      <td>AKT</td>\n",
       "      <td>0.315422</td>\n",
       "      <td>1</td>\n",
       "      <td>train</td>\n",
       "      <td>38</td>\n",
       "      <td>74</td>\n",
       "      <td>38.000000</td>\n",
       "      <td>74.000000</td>\n",
       "      <td>0.551013</td>\n",
       "      <td>0.351941</td>\n",
       "      <td>43.903661</td>\n",
       "      <td>65.505636</td>\n",
       "    </tr>\n",
       "    <tr>\n",
       "      <th>3</th>\n",
       "      <td>DU-4475</td>\n",
       "      <td>ADAM17</td>\n",
       "      <td>AKT</td>\n",
       "      <td>-41.734090</td>\n",
       "      <td>-1</td>\n",
       "      <td>train</td>\n",
       "      <td>38</td>\n",
       "      <td>74</td>\n",
       "      <td>37.660767</td>\n",
       "      <td>74.678467</td>\n",
       "      <td>5.997933</td>\n",
       "      <td>8.004134</td>\n",
       "      <td>32.385247</td>\n",
       "      <td>52.428481</td>\n",
       "    </tr>\n",
       "    <tr>\n",
       "      <th>4</th>\n",
       "      <td>HCC1143</td>\n",
       "      <td>ADAM17</td>\n",
       "      <td>AKT</td>\n",
       "      <td>35.532770</td>\n",
       "      <td>-1</td>\n",
       "      <td>train</td>\n",
       "      <td>38</td>\n",
       "      <td>74</td>\n",
       "      <td>0.699337</td>\n",
       "      <td>0.601327</td>\n",
       "      <td>5.000000</td>\n",
       "      <td>10.000000</td>\n",
       "      <td>94.549447</td>\n",
       "      <td>10.901106</td>\n",
       "    </tr>\n",
       "  </tbody>\n",
       "</table>\n",
       "</div>"
      ],
      "text/plain": [
       "         c     d_1  d_2  synergy_score  qa source  max_conc_mean  max_conc_diff  ic50_mean  ic50_diff    h_mean     h_diff  einf_mean  einf_diff\n",
       "0    BT-20  ADAM17  AKT      29.540390   1  train             38             74   5.319857   8.639714  0.783490   0.051025  75.357930  32.470988\n",
       "1  CAL-120  ADAM17  AKT       4.401410  -1  train             38             74   0.591607   0.816786  1.251839   2.503678  80.206000  39.588001\n",
       "2   CAL-51  ADAM17  AKT       0.315422   1  train             38             74  38.000000  74.000000  0.551013   0.351941  43.903661  65.505636\n",
       "3  DU-4475  ADAM17  AKT     -41.734090  -1  train             38             74  37.660767  74.678467  5.997933   8.004134  32.385247  52.428481\n",
       "4  HCC1143  ADAM17  AKT      35.532770  -1  train             38             74   0.699337   0.601327  5.000000  10.000000  94.549447  10.901106"
      ]
     },
     "execution_count": 84,
     "metadata": {},
     "output_type": "execute_result"
    }
   ],
   "source": [
    "ALL_TRAINING_DATA_WSYNERGY.head()"
   ]
  },
  {
   "cell_type": "code",
   "execution_count": 88,
   "metadata": {
    "collapsed": false,
    "run_control": {
     "marked": false
    }
   },
   "outputs": [],
   "source": [
    "# assert ALL_TRAINING_DATA_WSYNERGY['synergy_score'].notnull().sum() == 2199\n",
    "assert ALL_TRAINING_DATA_WSYNERGY['synergy_score'].notnull().sum() == 6660"
   ]
  },
  {
   "cell_type": "code",
   "execution_count": 89,
   "metadata": {
    "collapsed": false
   },
   "outputs": [
    {
     "name": "stdout",
     "output_type": "stream",
     "text": [
      "FML\n",
      "FML\n",
      "FML\n",
      "FML\n"
     ]
    }
   ],
   "source": [
    "db.import_table(\n",
    "    ALL_TRAINING_DATA_WSYNERGY, 'ALL_TRAINING_DATA_WSYNERGY', [\n",
    "        (('d_1', 'd_2', 'c'), False), \n",
    "        (('c', 'd_1', 'd_2'), False),\n",
    "        (('source', 'd_1', 'd_2', 'c'), False), \n",
    "        (('source', 'qa', 'd_1', 'd_2', 'c'), False), \n",
    "])"
   ]
  },
  {
   "cell_type": "markdown",
   "metadata": {
    "run_control": {
     "marked": false
    }
   },
   "source": [
    "#### ALL_TRAINING_DATA_GBD"
   ]
  },
  {
   "cell_type": "code",
   "execution_count": 90,
   "metadata": {
    "collapsed": false,
    "run_control": {
     "marked": false
    }
   },
   "outputs": [],
   "source": [
    "ALL_TRAINING_DATA_GBD_tmp = ALL_TRAINING_DATA_GBD.rename(columns={'COMPOUND': 'd'})"
   ]
  },
  {
   "cell_type": "code",
   "execution_count": 91,
   "metadata": {
    "collapsed": false,
    "run_control": {
     "marked": false
    }
   },
   "outputs": [
    {
     "data": {
      "text/html": [
       "<div>\n",
       "<table border=\"1\" class=\"dataframe\">\n",
       "  <thead>\n",
       "    <tr style=\"text-align: right;\">\n",
       "      <th></th>\n",
       "      <th>d</th>\n",
       "      <th>max_conc_gbd_min</th>\n",
       "      <th>max_conc_gbd_max</th>\n",
       "      <th>max_conc_gbd_mean</th>\n",
       "      <th>max_conc_gbd_std</th>\n",
       "      <th>ic50_gbd_min</th>\n",
       "      <th>ic50_gbd_max</th>\n",
       "      <th>ic50_gbd_mean</th>\n",
       "      <th>ic50_gbd_std</th>\n",
       "      <th>h_gbd_min</th>\n",
       "      <th>h_gbd_max</th>\n",
       "      <th>h_gbd_mean</th>\n",
       "      <th>h_gbd_std</th>\n",
       "      <th>einf_gbd_min</th>\n",
       "      <th>einf_gbd_max</th>\n",
       "      <th>einf_gbd_mean</th>\n",
       "      <th>einf_gbd_std</th>\n",
       "      <th>count_gbd</th>\n",
       "    </tr>\n",
       "  </thead>\n",
       "  <tbody>\n",
       "    <tr>\n",
       "      <th>0</th>\n",
       "      <td>ADAM17</td>\n",
       "      <td>1.000</td>\n",
       "      <td>3</td>\n",
       "      <td>1.333333</td>\n",
       "      <td>0.746996</td>\n",
       "      <td>0.000100</td>\n",
       "      <td>3</td>\n",
       "      <td>0.678982</td>\n",
       "      <td>0.670769</td>\n",
       "      <td>0</td>\n",
       "      <td>10</td>\n",
       "      <td>2.359189</td>\n",
       "      <td>3.263725</td>\n",
       "      <td>0</td>\n",
       "      <td>100</td>\n",
       "      <td>49.203516</td>\n",
       "      <td>33.978373</td>\n",
       "      <td>228</td>\n",
       "    </tr>\n",
       "    <tr>\n",
       "      <th>1</th>\n",
       "      <td>AKT</td>\n",
       "      <td>0.003</td>\n",
       "      <td>75</td>\n",
       "      <td>2.977014</td>\n",
       "      <td>9.948914</td>\n",
       "      <td>0.000001</td>\n",
       "      <td>75</td>\n",
       "      <td>0.878123</td>\n",
       "      <td>3.402080</td>\n",
       "      <td>0</td>\n",
       "      <td>10</td>\n",
       "      <td>3.124647</td>\n",
       "      <td>3.847184</td>\n",
       "      <td>0</td>\n",
       "      <td>100</td>\n",
       "      <td>53.261517</td>\n",
       "      <td>35.902220</td>\n",
       "      <td>1041</td>\n",
       "    </tr>\n",
       "  </tbody>\n",
       "</table>\n",
       "</div>"
      ],
      "text/plain": [
       "        d  max_conc_gbd_min  max_conc_gbd_max  max_conc_gbd_mean  max_conc_gbd_std  ic50_gbd_min  ic50_gbd_max  ic50_gbd_mean  ic50_gbd_std  h_gbd_min  h_gbd_max  h_gbd_mean  h_gbd_std  einf_gbd_min  einf_gbd_max  einf_gbd_mean  einf_gbd_std  count_gbd\n",
       "0  ADAM17             1.000                 3           1.333333          0.746996      0.000100             3       0.678982      0.670769          0         10    2.359189   3.263725             0           100      49.203516     33.978373        228\n",
       "1     AKT             0.003                75           2.977014          9.948914      0.000001            75       0.878123      3.402080          0         10    3.124647   3.847184             0           100      53.261517     35.902220       1041"
      ]
     },
     "execution_count": 91,
     "metadata": {},
     "output_type": "execute_result"
    }
   ],
   "source": [
    "ALL_TRAINING_DATA_GBD_tmp.head(2)"
   ]
  },
  {
   "cell_type": "code",
   "execution_count": 92,
   "metadata": {
    "collapsed": false,
    "run_control": {
     "marked": false
    }
   },
   "outputs": [],
   "source": [
    "db.import_table(\n",
    "    ALL_TRAINING_DATA_GBD_tmp, \n",
    "    'ALL_TRAINING_DATA_GBD', \n",
    "    [(('d',), True)]\n",
    ")"
   ]
  },
  {
   "cell_type": "markdown",
   "metadata": {
    "run_control": {
     "marked": false
    }
   },
   "source": [
    "#### ALL_TRAINING_DATA_GBDCL"
   ]
  },
  {
   "cell_type": "code",
   "execution_count": 93,
   "metadata": {
    "collapsed": false,
    "run_control": {
     "marked": false
    }
   },
   "outputs": [],
   "source": [
    "ALL_TRAINING_DATA_GBDCL_tmp = ALL_TRAINING_DATA_GBDCL.rename(columns={\n",
    "    'COMPOUND': 'd',\n",
    "    'CELL_LINE': 'c',\n",
    "})"
   ]
  },
  {
   "cell_type": "code",
   "execution_count": 94,
   "metadata": {
    "collapsed": false,
    "run_control": {
     "marked": false
    }
   },
   "outputs": [
    {
     "data": {
      "text/html": [
       "<div>\n",
       "<table border=\"1\" class=\"dataframe\">\n",
       "  <thead>\n",
       "    <tr style=\"text-align: right;\">\n",
       "      <th></th>\n",
       "      <th>d</th>\n",
       "      <th>c</th>\n",
       "      <th>max_conc_gbdc_min</th>\n",
       "      <th>max_conc_gbdc_max</th>\n",
       "      <th>max_conc_gbdc_mean</th>\n",
       "      <th>max_conc_gbdc_std</th>\n",
       "      <th>ic50_gbdc_min</th>\n",
       "      <th>ic50_gbdc_max</th>\n",
       "      <th>ic50_gbdc_mean</th>\n",
       "      <th>ic50_gbdc_std</th>\n",
       "      <th>h_gbdc_min</th>\n",
       "      <th>h_gbdc_max</th>\n",
       "      <th>h_gbdc_mean</th>\n",
       "      <th>h_gbdc_std</th>\n",
       "      <th>einf_gbdc_min</th>\n",
       "      <th>einf_gbdc_max</th>\n",
       "      <th>einf_gbdc_mean</th>\n",
       "      <th>einf_gbdc_std</th>\n",
       "      <th>count_gbdc</th>\n",
       "    </tr>\n",
       "  </thead>\n",
       "  <tbody>\n",
       "    <tr>\n",
       "      <th>0</th>\n",
       "      <td>ADAM17</td>\n",
       "      <td>A549</td>\n",
       "      <td>1</td>\n",
       "      <td>3</td>\n",
       "      <td>2.333333</td>\n",
       "      <td>1.154701</td>\n",
       "      <td>1.00000</td>\n",
       "      <td>3</td>\n",
       "      <td>1.666667</td>\n",
       "      <td>1.154701</td>\n",
       "      <td>0.000000</td>\n",
       "      <td>1.140817</td>\n",
       "      <td>0.380272</td>\n",
       "      <td>0.658651</td>\n",
       "      <td>10.136795</td>\n",
       "      <td>100.000000</td>\n",
       "      <td>70.045598</td>\n",
       "      <td>51.882545</td>\n",
       "      <td>3</td>\n",
       "    </tr>\n",
       "    <tr>\n",
       "      <th>1</th>\n",
       "      <td>ADAM17</td>\n",
       "      <td>BT-20</td>\n",
       "      <td>1</td>\n",
       "      <td>1</td>\n",
       "      <td>1.000000</td>\n",
       "      <td>0.000000</td>\n",
       "      <td>0.10344</td>\n",
       "      <td>1</td>\n",
       "      <td>0.764106</td>\n",
       "      <td>0.306370</td>\n",
       "      <td>0.383972</td>\n",
       "      <td>1.490744</td>\n",
       "      <td>0.973217</td>\n",
       "      <td>0.403961</td>\n",
       "      <td>0.000000</td>\n",
       "      <td>82.067345</td>\n",
       "      <td>39.904304</td>\n",
       "      <td>29.518787</td>\n",
       "      <td>8</td>\n",
       "    </tr>\n",
       "  </tbody>\n",
       "</table>\n",
       "</div>"
      ],
      "text/plain": [
       "        d      c  max_conc_gbdc_min  max_conc_gbdc_max  max_conc_gbdc_mean  max_conc_gbdc_std  ic50_gbdc_min  ic50_gbdc_max  ic50_gbdc_mean  ic50_gbdc_std  h_gbdc_min  h_gbdc_max  h_gbdc_mean  h_gbdc_std  einf_gbdc_min  einf_gbdc_max  einf_gbdc_mean  einf_gbdc_std  count_gbdc\n",
       "0  ADAM17   A549                  1                  3            2.333333           1.154701        1.00000              3        1.666667       1.154701    0.000000    1.140817     0.380272    0.658651      10.136795     100.000000       70.045598      51.882545           3\n",
       "1  ADAM17  BT-20                  1                  1            1.000000           0.000000        0.10344              1        0.764106       0.306370    0.383972    1.490744     0.973217    0.403961       0.000000      82.067345       39.904304      29.518787           8"
      ]
     },
     "execution_count": 94,
     "metadata": {},
     "output_type": "execute_result"
    }
   ],
   "source": [
    "ALL_TRAINING_DATA_GBDCL_tmp.head(2)"
   ]
  },
  {
   "cell_type": "code",
   "execution_count": 95,
   "metadata": {
    "collapsed": false,
    "run_control": {
     "marked": false
    }
   },
   "outputs": [],
   "source": [
    "db.import_table(\n",
    "    ALL_TRAINING_DATA_GBDCL_tmp, \n",
    "    'ALL_TRAINING_DATA_GBDC', \n",
    "    [(('d', 'c'), True)]\n",
    ")"
   ]
  },
  {
   "cell_type": "markdown",
   "metadata": {
    "run_control": {
     "marked": false
    }
   },
   "source": [
    "#### ALL_TRAINING_DATA_GBCL"
   ]
  },
  {
   "cell_type": "code",
   "execution_count": 96,
   "metadata": {
    "collapsed": false,
    "run_control": {
     "marked": false
    },
    "scrolled": true
   },
   "outputs": [
    {
     "data": {
      "text/html": [
       "<div>\n",
       "<table border=\"1\" class=\"dataframe\">\n",
       "  <thead>\n",
       "    <tr style=\"text-align: right;\">\n",
       "      <th></th>\n",
       "      <th>c</th>\n",
       "      <th>max_conc_gbc_min</th>\n",
       "      <th>max_conc_gbc_max</th>\n",
       "      <th>max_conc_gbc_mean</th>\n",
       "      <th>max_conc_gbc_std</th>\n",
       "      <th>ic50_gbc_min</th>\n",
       "      <th>ic50_gbc_max</th>\n",
       "      <th>ic50_gbc_mean</th>\n",
       "      <th>ic50_gbc_std</th>\n",
       "      <th>h_gbc_min</th>\n",
       "      <th>h_gbc_max</th>\n",
       "      <th>h_gbc_mean</th>\n",
       "      <th>h_gbc_std</th>\n",
       "      <th>einf_gbc_min</th>\n",
       "      <th>einf_gbc_max</th>\n",
       "      <th>einf_gbc_mean</th>\n",
       "      <th>einf_gbc_std</th>\n",
       "      <th>count_gbc</th>\n",
       "    </tr>\n",
       "  </thead>\n",
       "  <tbody>\n",
       "    <tr>\n",
       "      <th>0</th>\n",
       "      <td>22RV1</td>\n",
       "      <td>1.000</td>\n",
       "      <td>10</td>\n",
       "      <td>4.500000</td>\n",
       "      <td>4.229526</td>\n",
       "      <td>0.00030</td>\n",
       "      <td>10</td>\n",
       "      <td>1.659355</td>\n",
       "      <td>2.561437</td>\n",
       "      <td>0</td>\n",
       "      <td>10</td>\n",
       "      <td>4.110479</td>\n",
       "      <td>4.284195</td>\n",
       "      <td>23.235716</td>\n",
       "      <td>100</td>\n",
       "      <td>64.816692</td>\n",
       "      <td>22.818861</td>\n",
       "      <td>28</td>\n",
       "    </tr>\n",
       "    <tr>\n",
       "      <th>1</th>\n",
       "      <td>647-V</td>\n",
       "      <td>0.003</td>\n",
       "      <td>3</td>\n",
       "      <td>2.064613</td>\n",
       "      <td>1.269595</td>\n",
       "      <td>0.00001</td>\n",
       "      <td>3</td>\n",
       "      <td>1.028795</td>\n",
       "      <td>0.989565</td>\n",
       "      <td>0</td>\n",
       "      <td>10</td>\n",
       "      <td>3.777782</td>\n",
       "      <td>3.694869</td>\n",
       "      <td>0.000000</td>\n",
       "      <td>100</td>\n",
       "      <td>43.452267</td>\n",
       "      <td>37.343984</td>\n",
       "      <td>382</td>\n",
       "    </tr>\n",
       "  </tbody>\n",
       "</table>\n",
       "</div>"
      ],
      "text/plain": [
       "       c  max_conc_gbc_min  max_conc_gbc_max  max_conc_gbc_mean  max_conc_gbc_std  ic50_gbc_min  ic50_gbc_max  ic50_gbc_mean  ic50_gbc_std  h_gbc_min  h_gbc_max  h_gbc_mean  h_gbc_std  einf_gbc_min  einf_gbc_max  einf_gbc_mean  einf_gbc_std  count_gbc\n",
       "0  22RV1             1.000                10           4.500000          4.229526       0.00030            10       1.659355      2.561437          0         10    4.110479   4.284195     23.235716           100      64.816692     22.818861         28\n",
       "1  647-V             0.003                 3           2.064613          1.269595       0.00001             3       1.028795      0.989565          0         10    3.777782   3.694869      0.000000           100      43.452267     37.343984        382"
      ]
     },
     "execution_count": 96,
     "metadata": {},
     "output_type": "execute_result"
    }
   ],
   "source": [
    "ALL_TRAINING_DATA_GBCL.head(2)"
   ]
  },
  {
   "cell_type": "code",
   "execution_count": 97,
   "metadata": {
    "collapsed": false,
    "run_control": {
     "marked": false
    }
   },
   "outputs": [],
   "source": [
    "db.import_table(\n",
    "    ALL_TRAINING_DATA_GBCL, \n",
    "    'ALL_TRAINING_DATA_GBC', \n",
    "    [(('c', ), True)]\n",
    ")"
   ]
  },
  {
   "cell_type": "markdown",
   "metadata": {
    "run_control": {
     "marked": false
    }
   },
   "source": [
    "#### ALL_TRAINING_DATA_GBDP"
   ]
  },
  {
   "cell_type": "code",
   "execution_count": 98,
   "metadata": {
    "collapsed": false,
    "run_control": {
     "marked": false
    }
   },
   "outputs": [
    {
     "data": {
      "text/html": [
       "<div>\n",
       "<table border=\"1\" class=\"dataframe\">\n",
       "  <thead>\n",
       "    <tr style=\"text-align: right;\">\n",
       "      <th></th>\n",
       "      <th>d_1</th>\n",
       "      <th>d_2</th>\n",
       "      <th>count_gbdd</th>\n",
       "      <th>max_conc_gbdd_min_mean</th>\n",
       "      <th>max_conc_gbdd_min_diff</th>\n",
       "      <th>max_conc_gbdd_max_mean</th>\n",
       "      <th>max_conc_gbdd_max_diff</th>\n",
       "      <th>max_conc_gbdd_mean_mean</th>\n",
       "      <th>max_conc_gbdd_mean_diff</th>\n",
       "      <th>max_conc_gbdd_std_mean</th>\n",
       "      <th>max_conc_gbdd_std_diff</th>\n",
       "      <th>ic50_gbdd_min_mean</th>\n",
       "      <th>ic50_gbdd_min_diff</th>\n",
       "      <th>ic50_gbdd_max_mean</th>\n",
       "      <th>ic50_gbdd_max_diff</th>\n",
       "      <th>ic50_gbdd_mean_mean</th>\n",
       "      <th>ic50_gbdd_mean_diff</th>\n",
       "      <th>ic50_gbdd_std_mean</th>\n",
       "      <th>ic50_gbdd_std_diff</th>\n",
       "      <th>h_gbdd_min_mean</th>\n",
       "      <th>h_gbdd_min_diff</th>\n",
       "      <th>h_gbdd_max_mean</th>\n",
       "      <th>h_gbdd_max_diff</th>\n",
       "      <th>h_gbdd_mean_mean</th>\n",
       "      <th>h_gbdd_mean_diff</th>\n",
       "      <th>h_gbdd_std_mean</th>\n",
       "      <th>h_gbdd_std_diff</th>\n",
       "      <th>einf_gbdd_min_mean</th>\n",
       "      <th>einf_gbdd_min_diff</th>\n",
       "      <th>einf_gbdd_max_mean</th>\n",
       "      <th>einf_gbdd_max_diff</th>\n",
       "      <th>einf_gbdd_mean_mean</th>\n",
       "      <th>einf_gbdd_mean_diff</th>\n",
       "      <th>einf_gbdd_std_mean</th>\n",
       "      <th>einf_gbdd_std_diff</th>\n",
       "    </tr>\n",
       "  </thead>\n",
       "  <tbody>\n",
       "    <tr>\n",
       "      <th>0</th>\n",
       "      <td>ADAM17</td>\n",
       "      <td>AKT</td>\n",
       "      <td>20</td>\n",
       "      <td>5.5</td>\n",
       "      <td>9</td>\n",
       "      <td>38</td>\n",
       "      <td>74</td>\n",
       "      <td>36.375</td>\n",
       "      <td>70.75</td>\n",
       "      <td>7.267221</td>\n",
       "      <td>14.534442</td>\n",
       "      <td>0.066843</td>\n",
       "      <td>0.118686</td>\n",
       "      <td>38</td>\n",
       "      <td>74</td>\n",
       "      <td>5.118230</td>\n",
       "      <td>9.085554</td>\n",
       "      <td>11.464387</td>\n",
       "      <td>22.194771</td>\n",
       "      <td>0.107848</td>\n",
       "      <td>0.215696</td>\n",
       "      <td>10</td>\n",
       "      <td>0</td>\n",
       "      <td>1.901594</td>\n",
       "      <td>1.875396</td>\n",
       "      <td>2.836268</td>\n",
       "      <td>0.889451</td>\n",
       "      <td>24.325027</td>\n",
       "      <td>48.650054</td>\n",
       "      <td>87.88404</td>\n",
       "      <td>24.23192</td>\n",
       "      <td>60.566377</td>\n",
       "      <td>55.761426</td>\n",
       "      <td>21.054810</td>\n",
       "      <td>9.782703</td>\n",
       "    </tr>\n",
       "    <tr>\n",
       "      <th>1</th>\n",
       "      <td>ADAM17</td>\n",
       "      <td>AKT_1</td>\n",
       "      <td>22</td>\n",
       "      <td>38.0</td>\n",
       "      <td>74</td>\n",
       "      <td>38</td>\n",
       "      <td>74</td>\n",
       "      <td>38.000</td>\n",
       "      <td>74.00</td>\n",
       "      <td>0.000000</td>\n",
       "      <td>0.000000</td>\n",
       "      <td>0.020729</td>\n",
       "      <td>0.026458</td>\n",
       "      <td>38</td>\n",
       "      <td>74</td>\n",
       "      <td>7.329522</td>\n",
       "      <td>13.614682</td>\n",
       "      <td>13.188787</td>\n",
       "      <td>25.607595</td>\n",
       "      <td>0.000000</td>\n",
       "      <td>0.000000</td>\n",
       "      <td>10</td>\n",
       "      <td>0</td>\n",
       "      <td>1.482942</td>\n",
       "      <td>0.733341</td>\n",
       "      <td>2.818993</td>\n",
       "      <td>0.200710</td>\n",
       "      <td>17.552098</td>\n",
       "      <td>35.104195</td>\n",
       "      <td>100.00000</td>\n",
       "      <td>0.00000</td>\n",
       "      <td>66.454281</td>\n",
       "      <td>41.004002</td>\n",
       "      <td>26.715827</td>\n",
       "      <td>11.831308</td>\n",
       "    </tr>\n",
       "  </tbody>\n",
       "</table>\n",
       "</div>"
      ],
      "text/plain": [
       "      d_1    d_2  count_gbdd  max_conc_gbdd_min_mean  max_conc_gbdd_min_diff  max_conc_gbdd_max_mean  max_conc_gbdd_max_diff  max_conc_gbdd_mean_mean  max_conc_gbdd_mean_diff  max_conc_gbdd_std_mean  max_conc_gbdd_std_diff  ic50_gbdd_min_mean  ic50_gbdd_min_diff  ic50_gbdd_max_mean  ic50_gbdd_max_diff  ic50_gbdd_mean_mean  ic50_gbdd_mean_diff  ic50_gbdd_std_mean  ic50_gbdd_std_diff  h_gbdd_min_mean  h_gbdd_min_diff  h_gbdd_max_mean  h_gbdd_max_diff  h_gbdd_mean_mean  h_gbdd_mean_diff  h_gbdd_std_mean  h_gbdd_std_diff  einf_gbdd_min_mean  einf_gbdd_min_diff  einf_gbdd_max_mean  einf_gbdd_max_diff  einf_gbdd_mean_mean  einf_gbdd_mean_diff  einf_gbdd_std_mean  einf_gbdd_std_diff\n",
       "0  ADAM17    AKT          20                     5.5                       9                      38                      74                   36.375                    70.75                7.267221               14.534442            0.066843            0.118686                  38                  74             5.118230             9.085554           11.464387           22.194771         0.107848         0.215696               10                0          1.901594          1.875396         2.836268         0.889451           24.325027           48.650054            87.88404            24.23192            60.566377            55.761426           21.054810            9.782703\n",
       "1  ADAM17  AKT_1          22                    38.0                      74                      38                      74                   38.000                    74.00                0.000000                0.000000            0.020729            0.026458                  38                  74             7.329522            13.614682           13.188787           25.607595         0.000000         0.000000               10                0          1.482942          0.733341         2.818993         0.200710           17.552098           35.104195           100.00000             0.00000            66.454281            41.004002           26.715827           11.831308"
      ]
     },
     "execution_count": 98,
     "metadata": {},
     "output_type": "execute_result"
    }
   ],
   "source": [
    "ALL_TRAINING_DATA_GBDP.head(2)"
   ]
  },
  {
   "cell_type": "code",
   "execution_count": 99,
   "metadata": {
    "collapsed": false,
    "run_control": {
     "marked": false
    }
   },
   "outputs": [],
   "source": [
    "db.import_table(\n",
    "    ALL_TRAINING_DATA_GBDP, \n",
    "    'ALL_TRAINING_DATA_GBDD', \n",
    "    [(('d_1', 'd_2'), True)]\n",
    ")"
   ]
  },
  {
   "cell_type": "markdown",
   "metadata": {
    "run_control": {
     "marked": false
    }
   },
   "source": [
    "#### DRUGS"
   ]
  },
  {
   "cell_type": "code",
   "execution_count": 100,
   "metadata": {
    "collapsed": false,
    "run_control": {
     "marked": false
    }
   },
   "outputs": [],
   "source": [
    "DRUGS_tmp = pd.DataFrame(DRUGS).rename(columns={'ChallengeName': 'd'})"
   ]
  },
  {
   "cell_type": "code",
   "execution_count": 101,
   "metadata": {
    "collapsed": false,
    "run_control": {
     "marked": false
    }
   },
   "outputs": [
    {
     "data": {
      "text/html": [
       "<div>\n",
       "<table border=\"1\" class=\"dataframe\">\n",
       "  <thead>\n",
       "    <tr style=\"text-align: right;\">\n",
       "      <th></th>\n",
       "      <th>d</th>\n",
       "    </tr>\n",
       "  </thead>\n",
       "  <tbody>\n",
       "    <tr>\n",
       "      <th>0</th>\n",
       "      <td>ADAM17</td>\n",
       "    </tr>\n",
       "    <tr>\n",
       "      <th>1</th>\n",
       "      <td>AKT</td>\n",
       "    </tr>\n",
       "    <tr>\n",
       "      <th>2</th>\n",
       "      <td>AKT_1</td>\n",
       "    </tr>\n",
       "    <tr>\n",
       "      <th>3</th>\n",
       "      <td>AKT_PIK3C</td>\n",
       "    </tr>\n",
       "    <tr>\n",
       "      <th>4</th>\n",
       "      <td>AKT_SGK</td>\n",
       "    </tr>\n",
       "  </tbody>\n",
       "</table>\n",
       "</div>"
      ],
      "text/plain": [
       "           d\n",
       "0     ADAM17\n",
       "1        AKT\n",
       "2      AKT_1\n",
       "3  AKT_PIK3C\n",
       "4    AKT_SGK"
      ]
     },
     "execution_count": 101,
     "metadata": {},
     "output_type": "execute_result"
    }
   ],
   "source": [
    "DRUGS_tmp.head()"
   ]
  },
  {
   "cell_type": "code",
   "execution_count": 102,
   "metadata": {
    "collapsed": false,
    "run_control": {
     "marked": false
    }
   },
   "outputs": [],
   "source": [
    "db.import_table(\n",
    "    DRUGS_tmp, \n",
    "    'DRUGS', \n",
    "    [(('d',), True)]\n",
    ")"
   ]
  },
  {
   "cell_type": "markdown",
   "metadata": {
    "run_control": {
     "marked": false
    }
   },
   "source": [
    "#### DRUG_PAIRS"
   ]
  },
  {
   "cell_type": "code",
   "execution_count": 103,
   "metadata": {
    "collapsed": false,
    "run_control": {
     "marked": false
    }
   },
   "outputs": [
    {
     "data": {
      "text/html": [
       "<div>\n",
       "<table border=\"1\" class=\"dataframe\">\n",
       "  <thead>\n",
       "    <tr style=\"text-align: right;\">\n",
       "      <th></th>\n",
       "      <th>d_1</th>\n",
       "      <th>d_2</th>\n",
       "    </tr>\n",
       "  </thead>\n",
       "  <tbody>\n",
       "    <tr>\n",
       "      <th>0</th>\n",
       "      <td>ADAM17</td>\n",
       "      <td>ADAM17</td>\n",
       "    </tr>\n",
       "    <tr>\n",
       "      <th>1</th>\n",
       "      <td>ADAM17</td>\n",
       "      <td>AKT</td>\n",
       "    </tr>\n",
       "  </tbody>\n",
       "</table>\n",
       "</div>"
      ],
      "text/plain": [
       "      d_1     d_2\n",
       "0  ADAM17  ADAM17\n",
       "1  ADAM17     AKT"
      ]
     },
     "execution_count": 103,
     "metadata": {},
     "output_type": "execute_result"
    }
   ],
   "source": [
    "DRUG_PAIRS.head(2)"
   ]
  },
  {
   "cell_type": "code",
   "execution_count": 104,
   "metadata": {
    "collapsed": false,
    "run_control": {
     "marked": false
    }
   },
   "outputs": [],
   "source": [
    "db.import_table(\n",
    "    DRUG_PAIRS, \n",
    "    'DRUG_PAIRS', \n",
    "    [(('d_1', 'd_2'), True), (('d_2', 'd_1'), False)]\n",
    ")"
   ]
  },
  {
   "cell_type": "markdown",
   "metadata": {
    "run_control": {
     "marked": false
    }
   },
   "source": [
    "#### CELL LINES"
   ]
  },
  {
   "cell_type": "code",
   "execution_count": 105,
   "metadata": {
    "collapsed": true,
    "run_control": {
     "marked": false
    }
   },
   "outputs": [],
   "source": [
    "CELL_LINES_tmp = pd.DataFrame(CELL_LINES).rename(columns={'CELL_LINE': 'c'})"
   ]
  },
  {
   "cell_type": "code",
   "execution_count": 106,
   "metadata": {
    "collapsed": false,
    "run_control": {
     "marked": false
    }
   },
   "outputs": [
    {
     "data": {
      "text/html": [
       "<div>\n",
       "<table border=\"1\" class=\"dataframe\">\n",
       "  <thead>\n",
       "    <tr style=\"text-align: right;\">\n",
       "      <th></th>\n",
       "      <th>c</th>\n",
       "    </tr>\n",
       "  </thead>\n",
       "  <tbody>\n",
       "    <tr>\n",
       "      <th>0</th>\n",
       "      <td>BT-20</td>\n",
       "    </tr>\n",
       "    <tr>\n",
       "      <th>1</th>\n",
       "      <td>CAL-120</td>\n",
       "    </tr>\n",
       "  </tbody>\n",
       "</table>\n",
       "</div>"
      ],
      "text/plain": [
       "         c\n",
       "0    BT-20\n",
       "1  CAL-120"
      ]
     },
     "execution_count": 106,
     "metadata": {},
     "output_type": "execute_result"
    }
   ],
   "source": [
    "CELL_LINES_tmp.head(2)"
   ]
  },
  {
   "cell_type": "code",
   "execution_count": 107,
   "metadata": {
    "collapsed": false,
    "run_control": {
     "marked": false
    }
   },
   "outputs": [],
   "source": [
    "db.import_table(\n",
    "    CELL_LINES_tmp, 'CELL_LINES', \n",
    "    [(('c',), True)]\n",
    ")"
   ]
  },
  {
   "cell_type": "markdown",
   "metadata": {
    "run_control": {
     "marked": false
    }
   },
   "source": [
    "#### DRUG_PAIRS_CL"
   ]
  },
  {
   "cell_type": "code",
   "execution_count": 108,
   "metadata": {
    "collapsed": false,
    "run_control": {
     "marked": false
    }
   },
   "outputs": [
    {
     "data": {
      "text/html": [
       "<div>\n",
       "<table border=\"1\" class=\"dataframe\">\n",
       "  <thead>\n",
       "    <tr style=\"text-align: right;\">\n",
       "      <th></th>\n",
       "      <th>d_1</th>\n",
       "      <th>d_2</th>\n",
       "      <th>c</th>\n",
       "      <th>unique_id</th>\n",
       "    </tr>\n",
       "  </thead>\n",
       "  <tbody>\n",
       "    <tr>\n",
       "      <th>0</th>\n",
       "      <td>ADAM17</td>\n",
       "      <td>ADAM17</td>\n",
       "      <td>BT-20</td>\n",
       "      <td>ADAM17.ADAM17.BT-20</td>\n",
       "    </tr>\n",
       "    <tr>\n",
       "      <th>1</th>\n",
       "      <td>ADAM17</td>\n",
       "      <td>ADAM17</td>\n",
       "      <td>CAL-120</td>\n",
       "      <td>ADAM17.ADAM17.CAL-120</td>\n",
       "    </tr>\n",
       "  </tbody>\n",
       "</table>\n",
       "</div>"
      ],
      "text/plain": [
       "      d_1     d_2        c              unique_id\n",
       "0  ADAM17  ADAM17    BT-20    ADAM17.ADAM17.BT-20\n",
       "1  ADAM17  ADAM17  CAL-120  ADAM17.ADAM17.CAL-120"
      ]
     },
     "execution_count": 108,
     "metadata": {},
     "output_type": "execute_result"
    }
   ],
   "source": [
    "DRUG_PAIRS_CL.head(2)"
   ]
  },
  {
   "cell_type": "code",
   "execution_count": 109,
   "metadata": {
    "collapsed": false,
    "run_control": {
     "marked": false
    }
   },
   "outputs": [],
   "source": [
    "db.import_table(\n",
    "    DRUG_PAIRS_CL, \n",
    "    'DRUG_PAIRS_CL', \n",
    "    [(('d_1', 'd_2', 'c'), True), (('c', 'd_1', 'd_2'), False)]\n",
    ")"
   ]
  },
  {
   "cell_type": "code",
   "execution_count": null,
   "metadata": {
    "collapsed": true
   },
   "outputs": [],
   "source": []
  },
  {
   "cell_type": "markdown",
   "metadata": {},
   "source": [
    "#### ALL_TRAINING_DATA_PAIR_GBCC"
   ]
  },
  {
   "cell_type": "code",
   "execution_count": 110,
   "metadata": {
    "collapsed": false
   },
   "outputs": [
    {
     "data": {
      "text/html": [
       "<div>\n",
       "<table border=\"1\" class=\"dataframe\">\n",
       "  <thead>\n",
       "    <tr style=\"text-align: right;\">\n",
       "      <th></th>\n",
       "      <th>c_x</th>\n",
       "      <th>c_y</th>\n",
       "      <th>synergy_score_diff_gbcc_min</th>\n",
       "      <th>synergy_score_diff_gbcc_max</th>\n",
       "      <th>synergy_score_diff_gbcc_mean</th>\n",
       "      <th>synergy_score_diff_gbcc_std</th>\n",
       "      <th>max_conc_mean_diff_gbcc_min</th>\n",
       "      <th>max_conc_mean_diff_gbcc_max</th>\n",
       "      <th>max_conc_mean_diff_gbcc_mean</th>\n",
       "      <th>max_conc_mean_diff_gbcc_std</th>\n",
       "      <th>max_conc_diff_diff_gbcc_min</th>\n",
       "      <th>max_conc_diff_diff_gbcc_max</th>\n",
       "      <th>max_conc_diff_diff_gbcc_mean</th>\n",
       "      <th>max_conc_diff_diff_gbcc_std</th>\n",
       "      <th>ic50_mean_diff_gbcc_min</th>\n",
       "      <th>ic50_mean_diff_gbcc_max</th>\n",
       "      <th>ic50_mean_diff_gbcc_mean</th>\n",
       "      <th>ic50_mean_diff_gbcc_std</th>\n",
       "      <th>ic50_diff_diff_gbcc_min</th>\n",
       "      <th>ic50_diff_diff_gbcc_max</th>\n",
       "      <th>ic50_diff_diff_gbcc_mean</th>\n",
       "      <th>ic50_diff_diff_gbcc_std</th>\n",
       "      <th>h_mean_diff_gbcc_min</th>\n",
       "      <th>h_mean_diff_gbcc_max</th>\n",
       "      <th>h_mean_diff_gbcc_mean</th>\n",
       "      <th>h_mean_diff_gbcc_std</th>\n",
       "      <th>h_diff_diff_gbcc_min</th>\n",
       "      <th>h_diff_diff_gbcc_max</th>\n",
       "      <th>h_diff_diff_gbcc_mean</th>\n",
       "      <th>h_diff_diff_gbcc_std</th>\n",
       "      <th>einf_mean_diff_gbcc_min</th>\n",
       "      <th>einf_mean_diff_gbcc_max</th>\n",
       "      <th>einf_mean_diff_gbcc_mean</th>\n",
       "      <th>einf_mean_diff_gbcc_std</th>\n",
       "      <th>einf_diff_diff_gbcc_min</th>\n",
       "      <th>einf_diff_diff_gbcc_max</th>\n",
       "      <th>einf_diff_diff_gbcc_mean</th>\n",
       "      <th>einf_diff_diff_gbcc_std</th>\n",
       "      <th>count_gbcc</th>\n",
       "    </tr>\n",
       "  </thead>\n",
       "  <tbody>\n",
       "    <tr>\n",
       "      <th>0</th>\n",
       "      <td>22RV1</td>\n",
       "      <td>22RV1</td>\n",
       "      <td>-10.434812</td>\n",
       "      <td>10.434812</td>\n",
       "      <td>0.000000</td>\n",
       "      <td>5.577642</td>\n",
       "      <td>0.0</td>\n",
       "      <td>0</td>\n",
       "      <td>0.000</td>\n",
       "      <td>0.000000</td>\n",
       "      <td>0</td>\n",
       "      <td>0</td>\n",
       "      <td>0.00</td>\n",
       "      <td>0.000000</td>\n",
       "      <td>-0.073434</td>\n",
       "      <td>0.073434</td>\n",
       "      <td>0.0000</td>\n",
       "      <td>0.039252</td>\n",
       "      <td>-0.146868</td>\n",
       "      <td>0.146868</td>\n",
       "      <td>0.000000</td>\n",
       "      <td>0.078504</td>\n",
       "      <td>-7.425779</td>\n",
       "      <td>7.425779</td>\n",
       "      <td>0.000000</td>\n",
       "      <td>3.969246</td>\n",
       "      <td>-2.923574</td>\n",
       "      <td>2.923574</td>\n",
       "      <td>0.000000</td>\n",
       "      <td>1.562716</td>\n",
       "      <td>-16.218178</td>\n",
       "      <td>16.218178</td>\n",
       "      <td>0.000000</td>\n",
       "      <td>8.668981</td>\n",
       "      <td>-10.697618</td>\n",
       "      <td>10.697618</td>\n",
       "      <td>0.000000</td>\n",
       "      <td>5.718117</td>\n",
       "      <td>8</td>\n",
       "    </tr>\n",
       "    <tr>\n",
       "      <th>1</th>\n",
       "      <td>22RV1</td>\n",
       "      <td>647-V</td>\n",
       "      <td>-38.495162</td>\n",
       "      <td>-0.911056</td>\n",
       "      <td>-21.443179</td>\n",
       "      <td>15.978800</td>\n",
       "      <td>-2.5</td>\n",
       "      <td>2</td>\n",
       "      <td>0.375</td>\n",
       "      <td>1.973787</td>\n",
       "      <td>-9</td>\n",
       "      <td>0</td>\n",
       "      <td>-3.25</td>\n",
       "      <td>3.947573</td>\n",
       "      <td>-0.792704</td>\n",
       "      <td>0.427882</td>\n",
       "      <td>-0.3107</td>\n",
       "      <td>0.567997</td>\n",
       "      <td>-2.561460</td>\n",
       "      <td>0.334965</td>\n",
       "      <td>-1.320819</td>\n",
       "      <td>1.406851</td>\n",
       "      <td>-9.109026</td>\n",
       "      <td>-1.683247</td>\n",
       "      <td>-4.922672</td>\n",
       "      <td>3.125422</td>\n",
       "      <td>-9.078683</td>\n",
       "      <td>1.781947</td>\n",
       "      <td>-3.900027</td>\n",
       "      <td>5.077758</td>\n",
       "      <td>-55.023462</td>\n",
       "      <td>7.237651</td>\n",
       "      <td>-21.246165</td>\n",
       "      <td>26.778663</td>\n",
       "      <td>-48.481514</td>\n",
       "      <td>89.156957</td>\n",
       "      <td>40.925158</td>\n",
       "      <td>61.168521</td>\n",
       "      <td>4</td>\n",
       "    </tr>\n",
       "  </tbody>\n",
       "</table>\n",
       "</div>"
      ],
      "text/plain": [
       "     c_x    c_y  synergy_score_diff_gbcc_min  synergy_score_diff_gbcc_max  synergy_score_diff_gbcc_mean  synergy_score_diff_gbcc_std  max_conc_mean_diff_gbcc_min  max_conc_mean_diff_gbcc_max  max_conc_mean_diff_gbcc_mean  max_conc_mean_diff_gbcc_std  max_conc_diff_diff_gbcc_min  max_conc_diff_diff_gbcc_max  max_conc_diff_diff_gbcc_mean  max_conc_diff_diff_gbcc_std  ic50_mean_diff_gbcc_min  ic50_mean_diff_gbcc_max  ic50_mean_diff_gbcc_mean  ic50_mean_diff_gbcc_std  ic50_diff_diff_gbcc_min  ic50_diff_diff_gbcc_max  ic50_diff_diff_gbcc_mean  ic50_diff_diff_gbcc_std  h_mean_diff_gbcc_min  h_mean_diff_gbcc_max  h_mean_diff_gbcc_mean  h_mean_diff_gbcc_std  h_diff_diff_gbcc_min  h_diff_diff_gbcc_max  h_diff_diff_gbcc_mean  h_diff_diff_gbcc_std  einf_mean_diff_gbcc_min  einf_mean_diff_gbcc_max  einf_mean_diff_gbcc_mean  einf_mean_diff_gbcc_std  einf_diff_diff_gbcc_min  einf_diff_diff_gbcc_max  einf_diff_diff_gbcc_mean  einf_diff_diff_gbcc_std  count_gbcc\n",
       "0  22RV1  22RV1                   -10.434812                    10.434812                      0.000000                     5.577642                          0.0                            0                         0.000                     0.000000                            0                            0                          0.00                     0.000000                -0.073434                 0.073434                    0.0000                 0.039252                -0.146868                 0.146868                  0.000000                 0.078504             -7.425779              7.425779               0.000000              3.969246             -2.923574              2.923574               0.000000              1.562716               -16.218178                16.218178                  0.000000                 8.668981               -10.697618                10.697618                  0.000000                 5.718117           8\n",
       "1  22RV1  647-V                   -38.495162                    -0.911056                    -21.443179                    15.978800                         -2.5                            2                         0.375                     1.973787                           -9                            0                         -3.25                     3.947573                -0.792704                 0.427882                   -0.3107                 0.567997                -2.561460                 0.334965                 -1.320819                 1.406851             -9.109026             -1.683247              -4.922672              3.125422             -9.078683              1.781947              -3.900027              5.077758               -55.023462                 7.237651                -21.246165                26.778663               -48.481514                89.156957                 40.925158                61.168521           4"
      ]
     },
     "execution_count": 110,
     "metadata": {},
     "output_type": "execute_result"
    }
   ],
   "source": [
    "ALL_TRAINING_DATA_PAIR_GBCC.head(2)"
   ]
  },
  {
   "cell_type": "code",
   "execution_count": 111,
   "metadata": {
    "collapsed": true
   },
   "outputs": [],
   "source": [
    "db.import_table(\n",
    "    ALL_TRAINING_DATA_PAIR_GBCC, \n",
    "    'ALL_TRAINING_DATA_PAIR_GBCC', \n",
    "    [(('c_x', 'c_y'), True), ]\n",
    ")"
   ]
  },
  {
   "cell_type": "code",
   "execution_count": 112,
   "metadata": {
    "collapsed": false
   },
   "outputs": [
    {
     "data": {
      "text/plain": [
       "(5755, 39)"
      ]
     },
     "execution_count": 112,
     "metadata": {},
     "output_type": "execute_result"
    }
   ],
   "source": [
    "ALL_TRAINING_DATA_PAIR_GBCC.shape"
   ]
  },
  {
   "cell_type": "code",
   "execution_count": null,
   "metadata": {
    "collapsed": false
   },
   "outputs": [],
   "source": []
  },
  {
   "cell_type": "markdown",
   "metadata": {},
   "source": [
    "#### ALL_TRAINING_DATA_PAIR_GBDDDD"
   ]
  },
  {
   "cell_type": "code",
   "execution_count": 113,
   "metadata": {
    "collapsed": false
   },
   "outputs": [
    {
     "data": {
      "text/html": [
       "<div>\n",
       "<table border=\"1\" class=\"dataframe\">\n",
       "  <thead>\n",
       "    <tr style=\"text-align: right;\">\n",
       "      <th></th>\n",
       "      <th>d_1_x</th>\n",
       "      <th>d_2_x</th>\n",
       "      <th>d_1_y</th>\n",
       "      <th>d_2_y</th>\n",
       "      <th>synergy_score_diff_gbdddd_min</th>\n",
       "      <th>synergy_score_diff_gbdddd_max</th>\n",
       "      <th>synergy_score_diff_gbdddd_mean</th>\n",
       "      <th>synergy_score_diff_gbdddd_std</th>\n",
       "      <th>max_conc_mean_diff_gbdddd_min</th>\n",
       "      <th>max_conc_mean_diff_gbdddd_max</th>\n",
       "      <th>max_conc_mean_diff_gbdddd_mean</th>\n",
       "      <th>max_conc_mean_diff_gbdddd_std</th>\n",
       "      <th>max_conc_diff_diff_gbdddd_min</th>\n",
       "      <th>max_conc_diff_diff_gbdddd_max</th>\n",
       "      <th>max_conc_diff_diff_gbdddd_mean</th>\n",
       "      <th>max_conc_diff_diff_gbdddd_std</th>\n",
       "      <th>ic50_mean_diff_gbdddd_min</th>\n",
       "      <th>ic50_mean_diff_gbdddd_max</th>\n",
       "      <th>ic50_mean_diff_gbdddd_mean</th>\n",
       "      <th>ic50_mean_diff_gbdddd_std</th>\n",
       "      <th>ic50_diff_diff_gbdddd_min</th>\n",
       "      <th>ic50_diff_diff_gbdddd_max</th>\n",
       "      <th>ic50_diff_diff_gbdddd_mean</th>\n",
       "      <th>ic50_diff_diff_gbdddd_std</th>\n",
       "      <th>h_mean_diff_gbdddd_min</th>\n",
       "      <th>h_mean_diff_gbdddd_max</th>\n",
       "      <th>h_mean_diff_gbdddd_mean</th>\n",
       "      <th>h_mean_diff_gbdddd_std</th>\n",
       "      <th>h_diff_diff_gbdddd_min</th>\n",
       "      <th>h_diff_diff_gbdddd_max</th>\n",
       "      <th>h_diff_diff_gbdddd_mean</th>\n",
       "      <th>h_diff_diff_gbdddd_std</th>\n",
       "      <th>einf_mean_diff_gbdddd_min</th>\n",
       "      <th>einf_mean_diff_gbdddd_max</th>\n",
       "      <th>einf_mean_diff_gbdddd_mean</th>\n",
       "      <th>einf_mean_diff_gbdddd_std</th>\n",
       "      <th>einf_diff_diff_gbdddd_min</th>\n",
       "      <th>einf_diff_diff_gbdddd_max</th>\n",
       "      <th>einf_diff_diff_gbdddd_mean</th>\n",
       "      <th>einf_diff_diff_gbdddd_std</th>\n",
       "      <th>count_gbdddd</th>\n",
       "    </tr>\n",
       "  </thead>\n",
       "  <tbody>\n",
       "    <tr>\n",
       "      <th>0</th>\n",
       "      <td>ADAM17</td>\n",
       "      <td>AKT</td>\n",
       "      <td>ADAM17</td>\n",
       "      <td>AKT</td>\n",
       "      <td>0.000000</td>\n",
       "      <td>0.00000</td>\n",
       "      <td>0.00000</td>\n",
       "      <td>0.000000</td>\n",
       "      <td>0</td>\n",
       "      <td>0</td>\n",
       "      <td>0</td>\n",
       "      <td>0</td>\n",
       "      <td>0</td>\n",
       "      <td>0</td>\n",
       "      <td>0</td>\n",
       "      <td>0</td>\n",
       "      <td>0.000000</td>\n",
       "      <td>0.000000</td>\n",
       "      <td>0.000000</td>\n",
       "      <td>0.000000</td>\n",
       "      <td>0.000000</td>\n",
       "      <td>0.000000</td>\n",
       "      <td>0.000000</td>\n",
       "      <td>0.000000</td>\n",
       "      <td>0.000000</td>\n",
       "      <td>0</td>\n",
       "      <td>0.00000</td>\n",
       "      <td>0.00000</td>\n",
       "      <td>0</td>\n",
       "      <td>0.000000</td>\n",
       "      <td>0.000000</td>\n",
       "      <td>0.000000</td>\n",
       "      <td>0.000000</td>\n",
       "      <td>0.000000</td>\n",
       "      <td>0.000000</td>\n",
       "      <td>0.000000</td>\n",
       "      <td>0.000000</td>\n",
       "      <td>0.000000</td>\n",
       "      <td>0.000000</td>\n",
       "      <td>0.000000</td>\n",
       "      <td>14</td>\n",
       "    </tr>\n",
       "    <tr>\n",
       "      <th>1</th>\n",
       "      <td>ADAM17</td>\n",
       "      <td>AKT</td>\n",
       "      <td>ADAM17</td>\n",
       "      <td>AKT_1</td>\n",
       "      <td>-13.727708</td>\n",
       "      <td>59.61906</td>\n",
       "      <td>10.69852</td>\n",
       "      <td>18.063062</td>\n",
       "      <td>0</td>\n",
       "      <td>0</td>\n",
       "      <td>0</td>\n",
       "      <td>0</td>\n",
       "      <td>0</td>\n",
       "      <td>0</td>\n",
       "      <td>0</td>\n",
       "      <td>0</td>\n",
       "      <td>-37.109566</td>\n",
       "      <td>36.844716</td>\n",
       "      <td>3.425643</td>\n",
       "      <td>18.461227</td>\n",
       "      <td>-74.017703</td>\n",
       "      <td>74.310569</td>\n",
       "      <td>7.137066</td>\n",
       "      <td>37.010933</td>\n",
       "      <td>-3.979602</td>\n",
       "      <td>5</td>\n",
       "      <td>-0.20068</td>\n",
       "      <td>2.03174</td>\n",
       "      <td>-10</td>\n",
       "      <td>0.923857</td>\n",
       "      <td>-2.241657</td>\n",
       "      <td>3.752806</td>\n",
       "      <td>-24.997457</td>\n",
       "      <td>23.789659</td>\n",
       "      <td>2.053373</td>\n",
       "      <td>13.966635</td>\n",
       "      <td>-43.539781</td>\n",
       "      <td>56.783258</td>\n",
       "      <td>-6.807273</td>\n",
       "      <td>26.576543</td>\n",
       "      <td>12</td>\n",
       "    </tr>\n",
       "  </tbody>\n",
       "</table>\n",
       "</div>"
      ],
      "text/plain": [
       "    d_1_x d_2_x   d_1_y  d_2_y  synergy_score_diff_gbdddd_min  synergy_score_diff_gbdddd_max  synergy_score_diff_gbdddd_mean  synergy_score_diff_gbdddd_std  max_conc_mean_diff_gbdddd_min  max_conc_mean_diff_gbdddd_max  max_conc_mean_diff_gbdddd_mean  max_conc_mean_diff_gbdddd_std  max_conc_diff_diff_gbdddd_min  max_conc_diff_diff_gbdddd_max  max_conc_diff_diff_gbdddd_mean  max_conc_diff_diff_gbdddd_std  ic50_mean_diff_gbdddd_min  ic50_mean_diff_gbdddd_max  ic50_mean_diff_gbdddd_mean  ic50_mean_diff_gbdddd_std  ic50_diff_diff_gbdddd_min  ic50_diff_diff_gbdddd_max  ic50_diff_diff_gbdddd_mean  ic50_diff_diff_gbdddd_std  h_mean_diff_gbdddd_min  h_mean_diff_gbdddd_max  h_mean_diff_gbdddd_mean  h_mean_diff_gbdddd_std  h_diff_diff_gbdddd_min  h_diff_diff_gbdddd_max  h_diff_diff_gbdddd_mean  h_diff_diff_gbdddd_std  einf_mean_diff_gbdddd_min  einf_mean_diff_gbdddd_max  einf_mean_diff_gbdddd_mean  einf_mean_diff_gbdddd_std  einf_diff_diff_gbdddd_min  einf_diff_diff_gbdddd_max  \\\n",
       "0  ADAM17   AKT  ADAM17    AKT                       0.000000                        0.00000                         0.00000                       0.000000                              0                              0                               0                              0                              0                              0                               0                              0                   0.000000                   0.000000                    0.000000                   0.000000                   0.000000                   0.000000                    0.000000                   0.000000                0.000000                       0                  0.00000                 0.00000                       0                0.000000                 0.000000                0.000000                   0.000000                   0.000000                    0.000000                   0.000000                   0.000000                   0.000000   \n",
       "1  ADAM17   AKT  ADAM17  AKT_1                     -13.727708                       59.61906                        10.69852                      18.063062                              0                              0                               0                              0                              0                              0                               0                              0                 -37.109566                  36.844716                    3.425643                  18.461227                 -74.017703                  74.310569                    7.137066                  37.010933               -3.979602                       5                 -0.20068                 2.03174                     -10                0.923857                -2.241657                3.752806                 -24.997457                  23.789659                    2.053373                  13.966635                 -43.539781                  56.783258   \n",
       "\n",
       "   einf_diff_diff_gbdddd_mean  einf_diff_diff_gbdddd_std  count_gbdddd  \n",
       "0                    0.000000                   0.000000            14  \n",
       "1                   -6.807273                  26.576543            12  "
      ]
     },
     "execution_count": 113,
     "metadata": {},
     "output_type": "execute_result"
    }
   ],
   "source": [
    "ALL_TRAINING_DATA_PAIR_GBDDDD.head(2)"
   ]
  },
  {
   "cell_type": "code",
   "execution_count": 114,
   "metadata": {
    "collapsed": false
   },
   "outputs": [
    {
     "name": "stdout",
     "output_type": "stream",
     "text": [
      "FML\n",
      "FML\n",
      "FML\n",
      "FML\n"
     ]
    }
   ],
   "source": [
    "db.import_table(\n",
    "    ALL_TRAINING_DATA_PAIR_GBDDDD, \n",
    "    'ALL_TRAINING_DATA_PAIR_GBDDDD', \n",
    "    [(('d_1_x', 'd_2_x', 'd_1_y', 'd_2_y'), True), ]\n",
    ")"
   ]
  },
  {
   "cell_type": "code",
   "execution_count": null,
   "metadata": {
    "collapsed": true
   },
   "outputs": [],
   "source": []
  },
  {
   "cell_type": "markdown",
   "metadata": {
    "run_control": {
     "marked": false
    }
   },
   "source": [
    "# Finalize"
   ]
  },
  {
   "cell_type": "code",
   "execution_count": 115,
   "metadata": {
    "collapsed": false,
    "run_control": {
     "marked": false
    }
   },
   "outputs": [
    {
     "name": "stdout",
     "output_type": "stream",
     "text": [
      "2016-03-03 18:36:32.532869\n"
     ]
    }
   ],
   "source": [
    "print(datetime.datetime.now())"
   ]
  },
  {
   "cell_type": "code",
   "execution_count": null,
   "metadata": {
    "collapsed": true,
    "run_control": {
     "marked": false
    }
   },
   "outputs": [],
   "source": []
  }
 ],
 "metadata": {
  "kernelspec": {
   "display_name": "Python 3",
   "language": "python",
   "name": "python3"
  },
  "language_info": {
   "codemirror_mode": {
    "name": "ipython",
    "version": 3
   },
   "file_extension": ".py",
   "mimetype": "text/x-python",
   "name": "python",
   "nbconvert_exporter": "python",
   "pygments_lexer": "ipython3",
   "version": "3.5.1"
  }
 },
 "nbformat": 4,
 "nbformat_minor": 0
}
