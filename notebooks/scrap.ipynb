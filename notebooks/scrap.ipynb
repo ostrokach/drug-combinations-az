{
 "cells": [
  {
   "cell_type": "code",
   "execution_count": null,
   "metadata": {
    "collapsed": true,
    "run_control": {
     "marked": false
    }
   },
   "outputs": [],
   "source": [
    "## Save and score using the provided R script"
   ]
  },
  {
   "cell_type": "code",
   "execution_count": null,
   "metadata": {
    "collapsed": true
   },
   "outputs": [],
   "source": [
    "def save_to_csv(df, column_dict, filename):\n",
    "    obs = df[['c', 'd_1', 'd_2'] + list(column_dict.keys())]\n",
    "\n",
    "    obs['COMBINATION_ID'] = obs[['d_1', 'd_2']].apply('.'.join, axis=1)\n",
    "    obs.drop(pd.Index(['d_1', 'd_2']), axis=1, inplace=True)\n",
    "\n",
    "    obs.rename(columns={'c': 'CELL_LINE'}, inplace=True)\n",
    "    obs.rename(columns=column_dict, inplace=True)\n",
    "    \n",
    "    csv_opts = dict(index=False, quoting=2)\n",
    "    df_out = obs[['CELL_LINE', 'COMBINATION_ID'] + list(column_dict.values())]\n",
    "    print(df_out.head().to_csv(**csv_opts))\n",
    "    df_out.to_csv(op.join('/tmp', filename + '.csv'), **csv_opts)\n",
    "    \n",
    "\n",
    "save_to_csv(\n",
    "    xval_results_final,\n",
    "    {'synergy_score': 'SYNERGY_SCORE'},\n",
    "    'obs',\n",
    ")\n",
    "\n",
    "save_to_csv(\n",
    "    xval_results_final,\n",
    "    {'synergy_score_pred': 'PREDICTION'},\n",
    "    'pred',    \n",
    ")"
   ]
  },
  {
   "cell_type": "code",
   "execution_count": null,
   "metadata": {
    "collapsed": true
   },
   "outputs": [],
   "source": [
    "#import rpy2.robjects as robjects\n",
    "#robjects.r('source')('machine_learning/ch1scoring_fc.R')\n",
    "#robjects.r('source')('machine_learning/ch2scoring_fc.R')\n",
    "#robjects.r('getGlobalScore_ch1')('/tmp/obs.csv', '/tmp/pred.csv')"
   ]
  },
  {
   "cell_type": "code",
   "execution_count": null,
   "metadata": {
    "collapsed": true
   },
   "outputs": [],
   "source": [
    "df_validate.head()"
   ]
  },
  {
   "cell_type": "code",
   "execution_count": null,
   "metadata": {
    "collapsed": true
   },
   "outputs": [],
   "source": []
  },
  {
   "cell_type": "code",
   "execution_count": null,
   "metadata": {
    "collapsed": true
   },
   "outputs": [],
   "source": []
  },
  {
   "cell_type": "code",
   "execution_count": null,
   "metadata": {
    "collapsed": true
   },
   "outputs": [],
   "source": []
  },
  {
   "cell_type": "code",
   "execution_count": null,
   "metadata": {
    "collapsed": true
   },
   "outputs": [],
   "source": []
  },
  {
   "cell_type": "code",
   "execution_count": null,
   "metadata": {
    "collapsed": true
   },
   "outputs": [],
   "source": []
  },
  {
   "cell_type": "code",
   "execution_count": null,
   "metadata": {
    "collapsed": true
   },
   "outputs": [],
   "source": []
  }
 ],
 "metadata": {
  "kernelspec": {
   "display_name": "Python 3",
   "language": "python",
   "name": "python3"
  },
  "language_info": {
   "codemirror_mode": {
    "name": "ipython",
    "version": 3
   },
   "file_extension": ".py",
   "mimetype": "text/x-python",
   "name": "python",
   "nbconvert_exporter": "python",
   "pygments_lexer": "ipython3",
   "version": "3.5.1"
  }
 },
 "nbformat": 4,
 "nbformat_minor": 0
}
