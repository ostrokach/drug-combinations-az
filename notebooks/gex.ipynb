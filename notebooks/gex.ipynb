{
 "cells": [
  {
   "cell_type": "markdown",
   "metadata": {
    "collapsed": true,
    "run_control": {
     "marked": false
    }
   },
   "source": [
    "# Intro"
   ]
  },
  {
   "cell_type": "code",
   "execution_count": 1,
   "metadata": {
    "collapsed": false,
    "run_control": {
     "marked": false
    }
   },
   "outputs": [
    {
     "name": "stderr",
     "output_type": "stream",
     "text": [
      "/home/kimlab1/strokach/anaconda3/lib/python3.5/site-packages/IPython/html.py:14: ShimWarning: The `IPython.html` package has been deprecated. You should import from `notebook` instead. `IPython.html.widgets` has moved to `ipywidgets`.\n",
      "  \"`IPython.html.widgets` has moved to `ipywidgets`.\", ShimWarning)\n"
     ]
    }
   ],
   "source": [
    "import os\n",
    "import os.path as op\n",
    "\n",
    "import numpy as np\n",
    "import scipy as sp\n",
    "import pandas as pd\n",
    "import sqlalchemy as sa\n",
    "import numba\n",
    "\n",
    "from IPython.display import display, HTML\n",
    "import matplotlib.pyplot as plt\n",
    "\n",
    "import qgrid\n",
    "qgrid.nbinstall(overwrite=True)\n",
    "qgrid.set_defaults(remote_js=True, precision=4)\n",
    "\n",
    "from common import dat"
   ]
  },
  {
   "cell_type": "code",
   "execution_count": 2,
   "metadata": {
    "collapsed": false,
    "run_control": {
     "marked": false
    }
   },
   "outputs": [],
   "source": [
    "import pandas as pd\n",
    "pd.set_option('display.max_rows', 500)\n",
    "pd.set_option('display.max_columns', 500)\n",
    "pd.set_option('display.width', 1000)"
   ]
  },
  {
   "cell_type": "code",
   "execution_count": 3,
   "metadata": {
    "collapsed": true
   },
   "outputs": [],
   "source": [
    "import seaborn as sns\n",
    "sns.set_context('notebook', font_scale=2)"
   ]
  },
  {
   "cell_type": "code",
   "execution_count": 4,
   "metadata": {
    "collapsed": false,
    "run_control": {
     "marked": false
    }
   },
   "outputs": [],
   "source": [
    "%matplotlib inline\n",
    "%load_ext autoreload\n",
    "%autoreload 2"
   ]
  },
  {
   "cell_type": "raw",
   "metadata": {
    "collapsed": true
   },
   "source": []
  },
  {
   "cell_type": "markdown",
   "metadata": {},
   "source": [
    "# Functions"
   ]
  },
  {
   "cell_type": "code",
   "execution_count": 204,
   "metadata": {
    "collapsed": true
   },
   "outputs": [],
   "source": [
    "def matrix_to_values(df):\n",
    "    \"\"\"\n",
    "    Convert a dataframe produced by `.corr()` to (name_1, name_2, value) format.\n",
    "    \"\"\"\n",
    "    df.sort_index(axis=0, inplace=True)\n",
    "    df.sort_index(axis=1, inplace=True)\n",
    "    idx = np.triu_indices_from(df.values, 1)\n",
    "    df_2 = pd.DataFrame({\n",
    "        'name_1': df.index[idx[0]],\n",
    "        'name_2': df.columns[idx[1]],\n",
    "        'value': df.values[idx]})\n",
    "    assert all(df_2['name_1'] < df_2['name_2'])\n",
    "    return df_2"
   ]
  },
  {
   "cell_type": "code",
   "execution_count": null,
   "metadata": {
    "collapsed": true
   },
   "outputs": [],
   "source": []
  },
  {
   "cell_type": "markdown",
   "metadata": {
    "run_control": {
     "marked": false
    }
   },
   "source": [
    "# Cell tissue similarity"
   ]
  },
  {
   "cell_type": "code",
   "execution_count": 5,
   "metadata": {
    "collapsed": false
   },
   "outputs": [],
   "source": [
    "cell_info = (\n",
    "    pd.read_csv('challenge_data/sanger_molecular_data/cell_info.csv/cell_info.csv', sep=',')\n",
    ")"
   ]
  },
  {
   "cell_type": "code",
   "execution_count": 6,
   "metadata": {
    "collapsed": false
   },
   "outputs": [
    {
     "data": {
      "text/html": [
       "<div>\n",
       "<table border=\"1\" class=\"dataframe\">\n",
       "  <thead>\n",
       "    <tr style=\"text-align: right;\">\n",
       "      <th></th>\n",
       "      <th>Sanger.Name</th>\n",
       "      <th>CCLE.Name</th>\n",
       "      <th>Alternative.Name</th>\n",
       "      <th>Disease.Area</th>\n",
       "      <th>Tissue..General.</th>\n",
       "      <th>COSMIC</th>\n",
       "    </tr>\n",
       "  </thead>\n",
       "  <tbody>\n",
       "    <tr>\n",
       "      <th>0</th>\n",
       "      <td>22RV1</td>\n",
       "      <td>22RV1_PROSTATE</td>\n",
       "      <td>22RV1</td>\n",
       "      <td>Urology</td>\n",
       "      <td>male genital system</td>\n",
       "      <td>924100</td>\n",
       "    </tr>\n",
       "    <tr>\n",
       "      <th>1</th>\n",
       "      <td>647-V</td>\n",
       "      <td>647V_URINARY_TRACT</td>\n",
       "      <td>647V</td>\n",
       "      <td>Urology</td>\n",
       "      <td>urinary tract</td>\n",
       "      <td>906797</td>\n",
       "    </tr>\n",
       "    <tr>\n",
       "      <th>2</th>\n",
       "      <td>A549</td>\n",
       "      <td>A549_LUNG</td>\n",
       "      <td>A549</td>\n",
       "      <td>Lung</td>\n",
       "      <td>lung</td>\n",
       "      <td>905949</td>\n",
       "    </tr>\n",
       "    <tr>\n",
       "      <th>3</th>\n",
       "      <td>BFTC-905</td>\n",
       "      <td>BFTC905_URINARY_TRACT</td>\n",
       "      <td>BFTC905</td>\n",
       "      <td>Urology</td>\n",
       "      <td>urinary tract</td>\n",
       "      <td>910926</td>\n",
       "    </tr>\n",
       "    <tr>\n",
       "      <th>4</th>\n",
       "      <td>BT-20</td>\n",
       "      <td>BT20_BREAST</td>\n",
       "      <td>BT20</td>\n",
       "      <td>Breast</td>\n",
       "      <td>breast</td>\n",
       "      <td>906801</td>\n",
       "    </tr>\n",
       "  </tbody>\n",
       "</table>\n",
       "</div>"
      ],
      "text/plain": [
       "  Sanger.Name              CCLE.Name Alternative.Name Disease.Area     Tissue..General.  COSMIC\n",
       "0       22RV1         22RV1_PROSTATE            22RV1      Urology  male genital system  924100\n",
       "1       647-V     647V_URINARY_TRACT             647V      Urology        urinary tract  906797\n",
       "2        A549              A549_LUNG             A549         Lung                 lung  905949\n",
       "3    BFTC-905  BFTC905_URINARY_TRACT          BFTC905      Urology        urinary tract  910926\n",
       "4       BT-20            BT20_BREAST             BT20       Breast               breast  906801"
      ]
     },
     "execution_count": 6,
     "metadata": {},
     "output_type": "execute_result"
    }
   ],
   "source": [
    "cell_info.head()"
   ]
  },
  {
   "cell_type": "code",
   "execution_count": null,
   "metadata": {
    "collapsed": true
   },
   "outputs": [],
   "source": []
  },
  {
   "cell_type": "markdown",
   "metadata": {},
   "source": [
    "# Same cell tissue"
   ]
  },
  {
   "cell_type": "code",
   "execution_count": 7,
   "metadata": {
    "collapsed": false
   },
   "outputs": [],
   "source": [
    "cell_info.sort_values('Sanger.Name', inplace=True)"
   ]
  },
  {
   "cell_type": "code",
   "execution_count": 8,
   "metadata": {
    "collapsed": true
   },
   "outputs": [],
   "source": [
    "cell_tissue_similarity = []\n",
    "for i, (cell_name_1, cell_tissue_1) in enumerate(cell_info[['Sanger.Name', 'Tissue..General.']].values):\n",
    "    for cell_name_2, cell_tissue_2 in cell_info[i + 1:][['Sanger.Name', 'Tissue..General.']].values:\n",
    "        row = (cell_name_1, cell_name_2, int(cell_tissue_1 == cell_tissue_2),)\n",
    "        cell_tissue_similarity.append(row)\n",
    "cell_tissue_similarity_df = pd.DataFrame(cell_tissue_similarity, columns=['cell_1', 'cell_2', 'same_cell_tissue'])"
   ]
  },
  {
   "cell_type": "code",
   "execution_count": 9,
   "metadata": {
    "collapsed": false
   },
   "outputs": [],
   "source": [
    "assert all(cell_tissue_similarity_df['cell_1'] < cell_tissue_similarity_df['cell_2'])"
   ]
  },
  {
   "cell_type": "code",
   "execution_count": 10,
   "metadata": {
    "collapsed": false
   },
   "outputs": [
    {
     "data": {
      "text/plain": [
       "<matplotlib.axes._subplots.AxesSubplot at 0x7f376dccf080>"
      ]
     },
     "execution_count": 10,
     "metadata": {},
     "output_type": "execute_result"
    },
    {
     "data": {
      "image/png": "[encoded data removed]",
      "text/plain": [
       "<matplotlib.figure.Figure at 0x7f376dcac5f8>"
      ]
     },
     "metadata": {},
     "output_type": "display_data"
    }
   ],
   "source": [
    "cell_tissue_similarity_df['same_cell_tissue'].hist()"
   ]
  },
  {
   "cell_type": "code",
   "execution_count": 11,
   "metadata": {
    "collapsed": false
   },
   "outputs": [
    {
     "data": {
      "text/html": [
       "<div>\n",
       "<table border=\"1\" class=\"dataframe\">\n",
       "  <thead>\n",
       "    <tr style=\"text-align: right;\">\n",
       "      <th></th>\n",
       "      <th>cell_1</th>\n",
       "      <th>cell_2</th>\n",
       "      <th>same_cell_tissue</th>\n",
       "    </tr>\n",
       "  </thead>\n",
       "  <tbody>\n",
       "    <tr>\n",
       "      <th>0</th>\n",
       "      <td>22RV1</td>\n",
       "      <td>647-V</td>\n",
       "      <td>0</td>\n",
       "    </tr>\n",
       "    <tr>\n",
       "      <th>1</th>\n",
       "      <td>22RV1</td>\n",
       "      <td>A549</td>\n",
       "      <td>0</td>\n",
       "    </tr>\n",
       "    <tr>\n",
       "      <th>2</th>\n",
       "      <td>22RV1</td>\n",
       "      <td>BFTC-905</td>\n",
       "      <td>0</td>\n",
       "    </tr>\n",
       "    <tr>\n",
       "      <th>3</th>\n",
       "      <td>22RV1</td>\n",
       "      <td>BT-20</td>\n",
       "      <td>0</td>\n",
       "    </tr>\n",
       "    <tr>\n",
       "      <th>4</th>\n",
       "      <td>22RV1</td>\n",
       "      <td>BT-474</td>\n",
       "      <td>0</td>\n",
       "    </tr>\n",
       "  </tbody>\n",
       "</table>\n",
       "</div>"
      ],
      "text/plain": [
       "  cell_1    cell_2  same_cell_tissue\n",
       "0  22RV1     647-V                 0\n",
       "1  22RV1      A549                 0\n",
       "2  22RV1  BFTC-905                 0\n",
       "3  22RV1     BT-20                 0\n",
       "4  22RV1    BT-474                 0"
      ]
     },
     "execution_count": 11,
     "metadata": {},
     "output_type": "execute_result"
    }
   ],
   "source": [
    "cell_tissue_similarity_df.head()"
   ]
  },
  {
   "cell_type": "code",
   "execution_count": 12,
   "metadata": {
    "collapsed": false
   },
   "outputs": [
    {
     "data": {
      "text/plain": [
       "(3570, 3)"
      ]
     },
     "execution_count": 12,
     "metadata": {},
     "output_type": "execute_result"
    }
   ],
   "source": [
    "cell_tissue_similarity_df.shape"
   ]
  },
  {
   "cell_type": "code",
   "execution_count": 13,
   "metadata": {
    "collapsed": false
   },
   "outputs": [
    {
     "data": {
      "text/plain": [
       "3570"
      ]
     },
     "execution_count": 13,
     "metadata": {},
     "output_type": "execute_result"
    }
   ],
   "source": [
    "85 * 84 // 2  # all cell lines"
   ]
  },
  {
   "cell_type": "code",
   "execution_count": 14,
   "metadata": {
    "collapsed": false
   },
   "outputs": [
    {
     "data": {
      "text/plain": [
       "<sqlalchemy.engine.result.ResultProxy at 0x7f37690d6e80>"
      ]
     },
     "execution_count": 14,
     "metadata": {},
     "output_type": "execute_result"
    }
   ],
   "source": [
    "engine = sa.create_engine('mysql://strokach:@192.168.6.19:3306/az_dream_cell_features')\n",
    "cell_tissue_similarity_df.to_sql('same_cell_tissue', engine, if_exists='replace')\n",
    "engine.execute('create index a on same_cell_tissue (cell_1(255), cell_2(255))')\n",
    "engine.execute('create index b on same_cell_tissue (cell_2(255), cell_1(255))')"
   ]
  },
  {
   "cell_type": "code",
   "execution_count": null,
   "metadata": {
    "collapsed": true
   },
   "outputs": [],
   "source": []
  },
  {
   "cell_type": "markdown",
   "metadata": {},
   "source": [
    "# Gene expression"
   ]
  },
  {
   "cell_type": "code",
   "execution_count": 15,
   "metadata": {
    "collapsed": false
   },
   "outputs": [],
   "source": [
    "gex = (\n",
    "    pd.read_csv('challenge_data/sanger_molecular_data/gex.csv/gex.csv', sep=',', index_col=0)\n",
    ")\n",
    "gex.sort_index(axis=0, inplace=True)\n",
    "gex.sort_index(axis=1, inplace=True)"
   ]
  },
  {
   "cell_type": "code",
   "execution_count": 16,
   "metadata": {
    "collapsed": false
   },
   "outputs": [
    {
     "data": {
      "text/html": [
       "<div>\n",
       "<table border=\"1\" class=\"dataframe\">\n",
       "  <thead>\n",
       "    <tr style=\"text-align: right;\">\n",
       "      <th></th>\n",
       "      <th>22RV1</th>\n",
       "      <th>647-V</th>\n",
       "      <th>A549</th>\n",
       "      <th>BFTC-905</th>\n",
       "      <th>BT-20</th>\n",
       "      <th>BT-474</th>\n",
       "      <th>BT-549</th>\n",
       "      <th>C32</th>\n",
       "      <th>CAL-120</th>\n",
       "      <th>CAL-148</th>\n",
       "      <th>CAL-51</th>\n",
       "      <th>CAMA-1</th>\n",
       "      <th>COLO-205</th>\n",
       "      <th>Calu-3</th>\n",
       "      <th>Calu-6</th>\n",
       "      <th>DMS-114</th>\n",
       "      <th>DU-4475</th>\n",
       "      <th>EVSA-T</th>\n",
       "      <th>HCC1143</th>\n",
       "      <th>HCC1187</th>\n",
       "      <th>HCC1395</th>\n",
       "      <th>HCC1419</th>\n",
       "      <th>HCC1428</th>\n",
       "      <th>HCC1500</th>\n",
       "      <th>HCC1569</th>\n",
       "      <th>HCC1806</th>\n",
       "      <th>HCC1937</th>\n",
       "      <th>HCC1954</th>\n",
       "      <th>HCC38</th>\n",
       "      <th>HCC70</th>\n",
       "      <th>HCT-116</th>\n",
       "      <th>HT-1197</th>\n",
       "      <th>HT-1376</th>\n",
       "      <th>HT-29</th>\n",
       "      <th>Hs-578-T</th>\n",
       "      <th>J82</th>\n",
       "      <th>KATOIII</th>\n",
       "      <th>KMS-11</th>\n",
       "      <th>KU-19-19</th>\n",
       "      <th>LS-513</th>\n",
       "      <th>M14</th>\n",
       "      <th>MCF7</th>\n",
       "      <th>MDA-MB-157</th>\n",
       "      <th>MDA-MB-231</th>\n",
       "      <th>MDA-MB-361</th>\n",
       "      <th>MDA-MB-415</th>\n",
       "      <th>MDA-MB-436</th>\n",
       "      <th>MDA-MB-453</th>\n",
       "      <th>MDA-MB-468</th>\n",
       "      <th>MFM-223</th>\n",
       "      <th>NCI-H1299</th>\n",
       "      <th>NCI-H1563</th>\n",
       "      <th>NCI-H1703</th>\n",
       "      <th>NCI-H1793</th>\n",
       "      <th>NCI-H1975</th>\n",
       "      <th>NCI-H2085</th>\n",
       "      <th>NCI-H2170</th>\n",
       "      <th>NCI-H2228</th>\n",
       "      <th>NCI-H226</th>\n",
       "      <th>NCI-H2291</th>\n",
       "      <th>NCI-H23</th>\n",
       "      <th>NCI-H3122</th>\n",
       "      <th>NCI-H358</th>\n",
       "      <th>NCI-H520</th>\n",
       "      <th>NCI-H522</th>\n",
       "      <th>NCI-H747</th>\n",
       "      <th>NCI-H838</th>\n",
       "      <th>NCI-SNU-16</th>\n",
       "      <th>RKO</th>\n",
       "      <th>RT4</th>\n",
       "      <th>SW48</th>\n",
       "      <th>SW620</th>\n",
       "      <th>SW780</th>\n",
       "      <th>SW837</th>\n",
       "      <th>SW900</th>\n",
       "      <th>SW948</th>\n",
       "      <th>T-24</th>\n",
       "      <th>T47D</th>\n",
       "      <th>TCCSUP</th>\n",
       "      <th>UACC-812</th>\n",
       "      <th>UM-UC-3</th>\n",
       "      <th>VCaP</th>\n",
       "      <th>VM-CUB-1</th>\n",
       "    </tr>\n",
       "  </thead>\n",
       "  <tbody>\n",
       "    <tr>\n",
       "      <th>A1BG</th>\n",
       "      <td>3.530584</td>\n",
       "      <td>2.788878</td>\n",
       "      <td>5.351535</td>\n",
       "      <td>3.654691</td>\n",
       "      <td>3.413191</td>\n",
       "      <td>3.512673</td>\n",
       "      <td>5.503611</td>\n",
       "      <td>5.301429</td>\n",
       "      <td>6.208447</td>\n",
       "      <td>3.967330</td>\n",
       "      <td>5.506955</td>\n",
       "      <td>5.473663</td>\n",
       "      <td>3.659052</td>\n",
       "      <td>3.445720</td>\n",
       "      <td>3.250152</td>\n",
       "      <td>5.025810</td>\n",
       "      <td>3.712974</td>\n",
       "      <td>3.992799</td>\n",
       "      <td>6.653324</td>\n",
       "      <td>3.860001</td>\n",
       "      <td>3.818815</td>\n",
       "      <td>5.062066</td>\n",
       "      <td>4.943208</td>\n",
       "      <td>5.117451</td>\n",
       "      <td>4.651759</td>\n",
       "      <td>7.557265</td>\n",
       "      <td>4.012750</td>\n",
       "      <td>4.394033</td>\n",
       "      <td>4.314272</td>\n",
       "      <td>3.558035</td>\n",
       "      <td>3.231159</td>\n",
       "      <td>2.891782</td>\n",
       "      <td>2.996703</td>\n",
       "      <td>3.333250</td>\n",
       "      <td>5.696576</td>\n",
       "      <td>3.403658</td>\n",
       "      <td>3.765339</td>\n",
       "      <td>3.429940</td>\n",
       "      <td>4.146027</td>\n",
       "      <td>3.436224</td>\n",
       "      <td>4.331010</td>\n",
       "      <td>4.677871</td>\n",
       "      <td>5.633269</td>\n",
       "      <td>3.993322</td>\n",
       "      <td>3.239070</td>\n",
       "      <td>3.160667</td>\n",
       "      <td>5.675360</td>\n",
       "      <td>5.622213</td>\n",
       "      <td>3.251473</td>\n",
       "      <td>5.366995</td>\n",
       "      <td>4.410914</td>\n",
       "      <td>3.784122</td>\n",
       "      <td>5.742016</td>\n",
       "      <td>5.217647</td>\n",
       "      <td>4.617750</td>\n",
       "      <td>5.740719</td>\n",
       "      <td>3.213566</td>\n",
       "      <td>3.538686</td>\n",
       "      <td>3.534607</td>\n",
       "      <td>3.612600</td>\n",
       "      <td>3.906863</td>\n",
       "      <td>3.219004</td>\n",
       "      <td>3.779601</td>\n",
       "      <td>4.238043</td>\n",
       "      <td>4.313296</td>\n",
       "      <td>3.149603</td>\n",
       "      <td>4.420252</td>\n",
       "      <td>3.367825</td>\n",
       "      <td>2.733173</td>\n",
       "      <td>3.359233</td>\n",
       "      <td>3.604357</td>\n",
       "      <td>3.226869</td>\n",
       "      <td>3.085338</td>\n",
       "      <td>3.193601</td>\n",
       "      <td>3.562164</td>\n",
       "      <td>3.120944</td>\n",
       "      <td>3.030891</td>\n",
       "      <td>4.015417</td>\n",
       "      <td>3.386465</td>\n",
       "      <td>4.565087</td>\n",
       "      <td>4.806826</td>\n",
       "      <td>3.442403</td>\n",
       "      <td>3.233975</td>\n",
       "    </tr>\n",
       "    <tr>\n",
       "      <th>A1CF</th>\n",
       "      <td>6.364383</td>\n",
       "      <td>2.929860</td>\n",
       "      <td>5.899714</td>\n",
       "      <td>2.879513</td>\n",
       "      <td>2.960482</td>\n",
       "      <td>3.054495</td>\n",
       "      <td>3.107128</td>\n",
       "      <td>3.126334</td>\n",
       "      <td>2.981775</td>\n",
       "      <td>3.075956</td>\n",
       "      <td>2.872071</td>\n",
       "      <td>3.141034</td>\n",
       "      <td>7.210961</td>\n",
       "      <td>2.976691</td>\n",
       "      <td>3.359157</td>\n",
       "      <td>2.947547</td>\n",
       "      <td>2.932662</td>\n",
       "      <td>2.872890</td>\n",
       "      <td>2.809667</td>\n",
       "      <td>2.977178</td>\n",
       "      <td>2.972840</td>\n",
       "      <td>2.985650</td>\n",
       "      <td>2.949033</td>\n",
       "      <td>2.894628</td>\n",
       "      <td>2.962179</td>\n",
       "      <td>2.954737</td>\n",
       "      <td>2.815736</td>\n",
       "      <td>2.913561</td>\n",
       "      <td>2.984274</td>\n",
       "      <td>2.991716</td>\n",
       "      <td>2.957640</td>\n",
       "      <td>3.134189</td>\n",
       "      <td>2.931337</td>\n",
       "      <td>3.035997</td>\n",
       "      <td>2.885962</td>\n",
       "      <td>2.948641</td>\n",
       "      <td>2.972890</td>\n",
       "      <td>3.003220</td>\n",
       "      <td>3.076125</td>\n",
       "      <td>4.307525</td>\n",
       "      <td>2.903783</td>\n",
       "      <td>3.221482</td>\n",
       "      <td>3.235645</td>\n",
       "      <td>2.906964</td>\n",
       "      <td>2.973523</td>\n",
       "      <td>3.065818</td>\n",
       "      <td>2.934078</td>\n",
       "      <td>2.920719</td>\n",
       "      <td>2.909005</td>\n",
       "      <td>2.999021</td>\n",
       "      <td>3.057679</td>\n",
       "      <td>3.178817</td>\n",
       "      <td>3.016101</td>\n",
       "      <td>3.123458</td>\n",
       "      <td>2.994303</td>\n",
       "      <td>2.807124</td>\n",
       "      <td>2.962080</td>\n",
       "      <td>2.965398</td>\n",
       "      <td>2.904675</td>\n",
       "      <td>3.251876</td>\n",
       "      <td>3.131992</td>\n",
       "      <td>2.949988</td>\n",
       "      <td>2.931010</td>\n",
       "      <td>3.123205</td>\n",
       "      <td>3.109252</td>\n",
       "      <td>3.030174</td>\n",
       "      <td>2.933147</td>\n",
       "      <td>7.616778</td>\n",
       "      <td>3.176171</td>\n",
       "      <td>3.076448</td>\n",
       "      <td>3.049307</td>\n",
       "      <td>3.756048</td>\n",
       "      <td>2.833101</td>\n",
       "      <td>3.103560</td>\n",
       "      <td>2.996603</td>\n",
       "      <td>6.035482</td>\n",
       "      <td>3.190048</td>\n",
       "      <td>3.013487</td>\n",
       "      <td>3.177574</td>\n",
       "      <td>2.979775</td>\n",
       "      <td>3.159821</td>\n",
       "      <td>4.049642</td>\n",
       "      <td>3.038010</td>\n",
       "    </tr>\n",
       "    <tr>\n",
       "      <th>A2M</th>\n",
       "      <td>5.333116</td>\n",
       "      <td>3.163920</td>\n",
       "      <td>3.385313</td>\n",
       "      <td>3.145660</td>\n",
       "      <td>3.485672</td>\n",
       "      <td>3.374128</td>\n",
       "      <td>3.306887</td>\n",
       "      <td>11.194502</td>\n",
       "      <td>3.133883</td>\n",
       "      <td>3.252529</td>\n",
       "      <td>3.287678</td>\n",
       "      <td>3.553870</td>\n",
       "      <td>3.284050</td>\n",
       "      <td>3.125750</td>\n",
       "      <td>3.392565</td>\n",
       "      <td>3.335711</td>\n",
       "      <td>5.857938</td>\n",
       "      <td>3.371901</td>\n",
       "      <td>3.181255</td>\n",
       "      <td>3.101857</td>\n",
       "      <td>7.333633</td>\n",
       "      <td>3.529651</td>\n",
       "      <td>3.716710</td>\n",
       "      <td>3.443310</td>\n",
       "      <td>12.962624</td>\n",
       "      <td>3.102288</td>\n",
       "      <td>3.262667</td>\n",
       "      <td>3.431608</td>\n",
       "      <td>3.515306</td>\n",
       "      <td>3.548095</td>\n",
       "      <td>3.015057</td>\n",
       "      <td>3.274353</td>\n",
       "      <td>3.390316</td>\n",
       "      <td>3.433933</td>\n",
       "      <td>3.184189</td>\n",
       "      <td>4.248470</td>\n",
       "      <td>3.347285</td>\n",
       "      <td>3.531883</td>\n",
       "      <td>3.692506</td>\n",
       "      <td>3.914816</td>\n",
       "      <td>6.572986</td>\n",
       "      <td>3.502539</td>\n",
       "      <td>4.031836</td>\n",
       "      <td>3.280705</td>\n",
       "      <td>3.496711</td>\n",
       "      <td>3.194349</td>\n",
       "      <td>3.353889</td>\n",
       "      <td>3.585621</td>\n",
       "      <td>6.748265</td>\n",
       "      <td>5.349334</td>\n",
       "      <td>3.481793</td>\n",
       "      <td>3.520293</td>\n",
       "      <td>3.364239</td>\n",
       "      <td>3.264536</td>\n",
       "      <td>3.315750</td>\n",
       "      <td>3.352053</td>\n",
       "      <td>3.425817</td>\n",
       "      <td>3.317356</td>\n",
       "      <td>3.542737</td>\n",
       "      <td>3.271784</td>\n",
       "      <td>3.454828</td>\n",
       "      <td>3.257612</td>\n",
       "      <td>3.189635</td>\n",
       "      <td>3.322089</td>\n",
       "      <td>3.702488</td>\n",
       "      <td>3.320323</td>\n",
       "      <td>3.280496</td>\n",
       "      <td>3.234721</td>\n",
       "      <td>3.587857</td>\n",
       "      <td>3.414311</td>\n",
       "      <td>3.370937</td>\n",
       "      <td>3.423342</td>\n",
       "      <td>3.485978</td>\n",
       "      <td>3.328670</td>\n",
       "      <td>3.253735</td>\n",
       "      <td>3.424149</td>\n",
       "      <td>3.422091</td>\n",
       "      <td>3.435566</td>\n",
       "      <td>10.367402</td>\n",
       "      <td>4.068013</td>\n",
       "      <td>3.318134</td>\n",
       "      <td>3.669509</td>\n",
       "      <td>3.262412</td>\n",
       "    </tr>\n",
       "    <tr>\n",
       "      <th>A2ML1</th>\n",
       "      <td>2.907726</td>\n",
       "      <td>2.659589</td>\n",
       "      <td>2.876303</td>\n",
       "      <td>2.618580</td>\n",
       "      <td>3.203183</td>\n",
       "      <td>2.990600</td>\n",
       "      <td>2.750999</td>\n",
       "      <td>2.809603</td>\n",
       "      <td>2.652527</td>\n",
       "      <td>4.176452</td>\n",
       "      <td>3.946546</td>\n",
       "      <td>3.037501</td>\n",
       "      <td>2.830605</td>\n",
       "      <td>2.814887</td>\n",
       "      <td>3.217121</td>\n",
       "      <td>2.734617</td>\n",
       "      <td>2.810957</td>\n",
       "      <td>3.244767</td>\n",
       "      <td>2.882418</td>\n",
       "      <td>2.827790</td>\n",
       "      <td>3.094473</td>\n",
       "      <td>2.970912</td>\n",
       "      <td>3.219312</td>\n",
       "      <td>2.862272</td>\n",
       "      <td>2.984883</td>\n",
       "      <td>2.912465</td>\n",
       "      <td>3.026253</td>\n",
       "      <td>2.914855</td>\n",
       "      <td>2.912427</td>\n",
       "      <td>5.398271</td>\n",
       "      <td>2.747944</td>\n",
       "      <td>3.203564</td>\n",
       "      <td>2.863508</td>\n",
       "      <td>2.872562</td>\n",
       "      <td>2.850983</td>\n",
       "      <td>2.866479</td>\n",
       "      <td>2.935965</td>\n",
       "      <td>2.757120</td>\n",
       "      <td>3.052064</td>\n",
       "      <td>2.872895</td>\n",
       "      <td>2.756976</td>\n",
       "      <td>2.823238</td>\n",
       "      <td>2.994586</td>\n",
       "      <td>2.784113</td>\n",
       "      <td>2.957074</td>\n",
       "      <td>2.861270</td>\n",
       "      <td>2.845468</td>\n",
       "      <td>2.970381</td>\n",
       "      <td>3.038762</td>\n",
       "      <td>2.917099</td>\n",
       "      <td>2.868770</td>\n",
       "      <td>2.816616</td>\n",
       "      <td>2.961184</td>\n",
       "      <td>2.966420</td>\n",
       "      <td>2.875874</td>\n",
       "      <td>3.078362</td>\n",
       "      <td>3.027520</td>\n",
       "      <td>2.722523</td>\n",
       "      <td>2.815796</td>\n",
       "      <td>2.768303</td>\n",
       "      <td>2.855416</td>\n",
       "      <td>2.868177</td>\n",
       "      <td>2.907705</td>\n",
       "      <td>2.753796</td>\n",
       "      <td>2.896764</td>\n",
       "      <td>2.900725</td>\n",
       "      <td>2.714300</td>\n",
       "      <td>3.038924</td>\n",
       "      <td>2.735681</td>\n",
       "      <td>2.920353</td>\n",
       "      <td>3.211124</td>\n",
       "      <td>2.975449</td>\n",
       "      <td>2.791813</td>\n",
       "      <td>2.970275</td>\n",
       "      <td>2.844126</td>\n",
       "      <td>2.810739</td>\n",
       "      <td>3.005388</td>\n",
       "      <td>2.927293</td>\n",
       "      <td>2.841073</td>\n",
       "      <td>2.799085</td>\n",
       "      <td>2.848456</td>\n",
       "      <td>3.045514</td>\n",
       "      <td>2.848073</td>\n",
       "    </tr>\n",
       "    <tr>\n",
       "      <th>A3GALT2P</th>\n",
       "      <td>2.815383</td>\n",
       "      <td>2.949402</td>\n",
       "      <td>2.794812</td>\n",
       "      <td>3.051636</td>\n",
       "      <td>2.727538</td>\n",
       "      <td>3.046176</td>\n",
       "      <td>2.600750</td>\n",
       "      <td>2.772945</td>\n",
       "      <td>2.759164</td>\n",
       "      <td>2.973257</td>\n",
       "      <td>3.007847</td>\n",
       "      <td>2.813239</td>\n",
       "      <td>2.817318</td>\n",
       "      <td>2.906216</td>\n",
       "      <td>2.951504</td>\n",
       "      <td>2.867167</td>\n",
       "      <td>3.222096</td>\n",
       "      <td>2.758084</td>\n",
       "      <td>2.898673</td>\n",
       "      <td>2.949275</td>\n",
       "      <td>3.002633</td>\n",
       "      <td>3.039915</td>\n",
       "      <td>2.889149</td>\n",
       "      <td>2.794062</td>\n",
       "      <td>2.696788</td>\n",
       "      <td>2.841877</td>\n",
       "      <td>2.637763</td>\n",
       "      <td>2.627251</td>\n",
       "      <td>2.638571</td>\n",
       "      <td>2.585234</td>\n",
       "      <td>3.350766</td>\n",
       "      <td>2.676877</td>\n",
       "      <td>2.928732</td>\n",
       "      <td>2.911099</td>\n",
       "      <td>2.860962</td>\n",
       "      <td>2.682130</td>\n",
       "      <td>2.642075</td>\n",
       "      <td>2.964072</td>\n",
       "      <td>2.757277</td>\n",
       "      <td>2.859390</td>\n",
       "      <td>2.758919</td>\n",
       "      <td>2.872862</td>\n",
       "      <td>2.904985</td>\n",
       "      <td>2.793504</td>\n",
       "      <td>3.052749</td>\n",
       "      <td>2.841773</td>\n",
       "      <td>2.646936</td>\n",
       "      <td>2.809300</td>\n",
       "      <td>2.900886</td>\n",
       "      <td>2.796933</td>\n",
       "      <td>3.009006</td>\n",
       "      <td>2.460609</td>\n",
       "      <td>2.927724</td>\n",
       "      <td>2.688251</td>\n",
       "      <td>2.711345</td>\n",
       "      <td>2.862964</td>\n",
       "      <td>3.094932</td>\n",
       "      <td>2.614486</td>\n",
       "      <td>2.911751</td>\n",
       "      <td>2.729423</td>\n",
       "      <td>2.918373</td>\n",
       "      <td>2.761097</td>\n",
       "      <td>3.017744</td>\n",
       "      <td>2.818910</td>\n",
       "      <td>2.743633</td>\n",
       "      <td>2.804695</td>\n",
       "      <td>2.741882</td>\n",
       "      <td>2.639278</td>\n",
       "      <td>2.958589</td>\n",
       "      <td>2.774540</td>\n",
       "      <td>2.863818</td>\n",
       "      <td>3.060973</td>\n",
       "      <td>2.740531</td>\n",
       "      <td>2.855441</td>\n",
       "      <td>2.806916</td>\n",
       "      <td>2.698972</td>\n",
       "      <td>2.724092</td>\n",
       "      <td>3.027163</td>\n",
       "      <td>2.701126</td>\n",
       "      <td>2.924450</td>\n",
       "      <td>2.730521</td>\n",
       "      <td>2.960086</td>\n",
       "      <td>2.718930</td>\n",
       "    </tr>\n",
       "  </tbody>\n",
       "</table>\n",
       "</div>"
      ],
      "text/plain": [
       "             22RV1     647-V      A549  BFTC-905     BT-20    BT-474    BT-549        C32   CAL-120   CAL-148    CAL-51    CAMA-1  COLO-205    Calu-3    Calu-6   DMS-114   DU-4475    EVSA-T   HCC1143   HCC1187   HCC1395   HCC1419   HCC1428   HCC1500    HCC1569   HCC1806   HCC1937   HCC1954     HCC38     HCC70   HCT-116   HT-1197   HT-1376     HT-29  Hs-578-T       J82   KATOIII    KMS-11  KU-19-19    LS-513       M14      MCF7  MDA-MB-157  MDA-MB-231  MDA-MB-361  MDA-MB-415  MDA-MB-436  MDA-MB-453  MDA-MB-468   MFM-223  NCI-H1299  NCI-H1563  NCI-H1703  NCI-H1793  NCI-H1975  NCI-H2085  NCI-H2170  NCI-H2228  NCI-H226  NCI-H2291   NCI-H23  NCI-H3122  NCI-H358  NCI-H520  NCI-H522  NCI-H747  NCI-H838  NCI-SNU-16       RKO       RT4      SW48     SW620     SW780     SW837     SW900     SW948      T-24      T47D     TCCSUP  UACC-812   UM-UC-3      VCaP  VM-CUB-1\n",
       "A1BG      3.530584  2.788878  5.351535  3.654691  3.413191  3.512673  5.503611   5.301429  6.208447  3.967330  5.506955  5.473663  3.659052  3.445720  3.250152  5.025810  3.712974  3.992799  6.653324  3.860001  3.818815  5.062066  4.943208  5.117451   4.651759  7.557265  4.012750  4.394033  4.314272  3.558035  3.231159  2.891782  2.996703  3.333250  5.696576  3.403658  3.765339  3.429940  4.146027  3.436224  4.331010  4.677871    5.633269    3.993322    3.239070    3.160667    5.675360    5.622213    3.251473  5.366995   4.410914   3.784122   5.742016   5.217647   4.617750   5.740719   3.213566   3.538686  3.534607   3.612600  3.906863   3.219004  3.779601  4.238043  4.313296  3.149603  4.420252    3.367825  2.733173  3.359233  3.604357  3.226869  3.085338  3.193601  3.562164  3.120944  3.030891  4.015417   3.386465  4.565087  4.806826  3.442403  3.233975\n",
       "A1CF      6.364383  2.929860  5.899714  2.879513  2.960482  3.054495  3.107128   3.126334  2.981775  3.075956  2.872071  3.141034  7.210961  2.976691  3.359157  2.947547  2.932662  2.872890  2.809667  2.977178  2.972840  2.985650  2.949033  2.894628   2.962179  2.954737  2.815736  2.913561  2.984274  2.991716  2.957640  3.134189  2.931337  3.035997  2.885962  2.948641  2.972890  3.003220  3.076125  4.307525  2.903783  3.221482    3.235645    2.906964    2.973523    3.065818    2.934078    2.920719    2.909005  2.999021   3.057679   3.178817   3.016101   3.123458   2.994303   2.807124   2.962080   2.965398  2.904675   3.251876  3.131992   2.949988  2.931010  3.123205  3.109252  3.030174  2.933147    7.616778  3.176171  3.076448  3.049307  3.756048  2.833101  3.103560  2.996603  6.035482  3.190048  3.013487   3.177574  2.979775  3.159821  4.049642  3.038010\n",
       "A2M       5.333116  3.163920  3.385313  3.145660  3.485672  3.374128  3.306887  11.194502  3.133883  3.252529  3.287678  3.553870  3.284050  3.125750  3.392565  3.335711  5.857938  3.371901  3.181255  3.101857  7.333633  3.529651  3.716710  3.443310  12.962624  3.102288  3.262667  3.431608  3.515306  3.548095  3.015057  3.274353  3.390316  3.433933  3.184189  4.248470  3.347285  3.531883  3.692506  3.914816  6.572986  3.502539    4.031836    3.280705    3.496711    3.194349    3.353889    3.585621    6.748265  5.349334   3.481793   3.520293   3.364239   3.264536   3.315750   3.352053   3.425817   3.317356  3.542737   3.271784  3.454828   3.257612  3.189635  3.322089  3.702488  3.320323  3.280496    3.234721  3.587857  3.414311  3.370937  3.423342  3.485978  3.328670  3.253735  3.424149  3.422091  3.435566  10.367402  4.068013  3.318134  3.669509  3.262412\n",
       "A2ML1     2.907726  2.659589  2.876303  2.618580  3.203183  2.990600  2.750999   2.809603  2.652527  4.176452  3.946546  3.037501  2.830605  2.814887  3.217121  2.734617  2.810957  3.244767  2.882418  2.827790  3.094473  2.970912  3.219312  2.862272   2.984883  2.912465  3.026253  2.914855  2.912427  5.398271  2.747944  3.203564  2.863508  2.872562  2.850983  2.866479  2.935965  2.757120  3.052064  2.872895  2.756976  2.823238    2.994586    2.784113    2.957074    2.861270    2.845468    2.970381    3.038762  2.917099   2.868770   2.816616   2.961184   2.966420   2.875874   3.078362   3.027520   2.722523  2.815796   2.768303  2.855416   2.868177  2.907705  2.753796  2.896764  2.900725  2.714300    3.038924  2.735681  2.920353  3.211124  2.975449  2.791813  2.970275  2.844126  2.810739  3.005388  2.927293   2.841073  2.799085  2.848456  3.045514  2.848073\n",
       "A3GALT2P  2.815383  2.949402  2.794812  3.051636  2.727538  3.046176  2.600750   2.772945  2.759164  2.973257  3.007847  2.813239  2.817318  2.906216  2.951504  2.867167  3.222096  2.758084  2.898673  2.949275  3.002633  3.039915  2.889149  2.794062   2.696788  2.841877  2.637763  2.627251  2.638571  2.585234  3.350766  2.676877  2.928732  2.911099  2.860962  2.682130  2.642075  2.964072  2.757277  2.859390  2.758919  2.872862    2.904985    2.793504    3.052749    2.841773    2.646936    2.809300    2.900886  2.796933   3.009006   2.460609   2.927724   2.688251   2.711345   2.862964   3.094932   2.614486  2.911751   2.729423  2.918373   2.761097  3.017744  2.818910  2.743633  2.804695  2.741882    2.639278  2.958589  2.774540  2.863818  3.060973  2.740531  2.855441  2.806916  2.698972  2.724092  3.027163   2.701126  2.924450  2.730521  2.960086  2.718930"
      ]
     },
     "metadata": {},
     "output_type": "display_data"
    },
    {
     "name": "stdout",
     "output_type": "stream",
     "text": [
      "(17419, 83)\n"
     ]
    }
   ],
   "source": [
    "display(gex.head())\n",
    "print(gex.shape)"
   ]
  },
  {
   "cell_type": "code",
   "execution_count": 17,
   "metadata": {
    "collapsed": false,
    "run_control": {
     "marked": false
    }
   },
   "outputs": [
    {
     "data": {
      "text/plain": [
       "False"
      ]
     },
     "execution_count": 17,
     "metadata": {},
     "output_type": "execute_result"
    }
   ],
   "source": [
    "gex.isnull().any().any()"
   ]
  },
  {
   "cell_type": "code",
   "execution_count": null,
   "metadata": {
    "collapsed": true
   },
   "outputs": [],
   "source": []
  },
  {
   "cell_type": "code",
   "execution_count": 18,
   "metadata": {
    "collapsed": false
   },
   "outputs": [
    {
     "data": {
      "text/plain": [
       "<matplotlib.text.Text at 0x7f371bc5a3c8>"
      ]
     },
     "execution_count": 18,
     "metadata": {},
     "output_type": "execute_result"
    },
    {
     "data": {
      "image/png": "[encoded data removed]",
      "text/plain": [
       "<matplotlib.figure.Figure at 0x7f371bcd7978>"
      ]
     },
     "metadata": {},
     "output_type": "display_data"
    }
   ],
   "source": [
    "plt.hist(np.reshape(gex.values, (-1, )), range=(0, 16), bins=16)\n",
    "plt.ylabel('Number of genes')\n",
    "plt.xlabel('Robust Multi-array Average (RMA) Score')"
   ]
  },
  {
   "cell_type": "markdown",
   "metadata": {},
   "source": [
    "### Normalize using mean for gene over all cell lines"
   ]
  },
  {
   "cell_type": "code",
   "execution_count": 19,
   "metadata": {
    "collapsed": false
   },
   "outputs": [
    {
     "data": {
      "text/plain": [
       "(17419,)"
      ]
     },
     "execution_count": 19,
     "metadata": {},
     "output_type": "execute_result"
    }
   ],
   "source": [
    "gex.mean(axis=1).shape"
   ]
  },
  {
   "cell_type": "code",
   "execution_count": 20,
   "metadata": {
    "collapsed": false
   },
   "outputs": [],
   "source": [
    "gex_over_cells = gex.sub(gex.mean(axis=1), axis=0).div(gex.std(axis=1), axis=0)"
   ]
  },
  {
   "cell_type": "code",
   "execution_count": 21,
   "metadata": {
    "collapsed": false
   },
   "outputs": [
    {
     "data": {
      "text/plain": [
       "<matplotlib.text.Text at 0x7f371bc5afd0>"
      ]
     },
     "execution_count": 21,
     "metadata": {},
     "output_type": "execute_result"
    },
    {
     "data": {
      "image/png": "[encoded data removed]",
      "text/plain": [
       "<matplotlib.figure.Figure at 0x7f371bc94ba8>"
      ]
     },
     "metadata": {},
     "output_type": "display_data"
    }
   ],
   "source": [
    "plt.hist(np.reshape(gex_over_cells.values, (-1, )), range=(-3, 3), bins=16)\n",
    "plt.ylabel('Number of genes')\n",
    "plt.xlabel('Normalized RMA Score')"
   ]
  },
  {
   "cell_type": "markdown",
   "metadata": {},
   "source": [
    "### Normalize using mean for cell line over all genes"
   ]
  },
  {
   "cell_type": "code",
   "execution_count": 22,
   "metadata": {
    "collapsed": true
   },
   "outputs": [],
   "source": [
    "gex_over_genes = gex.sub(gex.mean(axis=0), axis=1).div(gex.std(axis=0), axis=1)"
   ]
  },
  {
   "cell_type": "code",
   "execution_count": 23,
   "metadata": {
    "collapsed": false
   },
   "outputs": [
    {
     "data": {
      "text/plain": [
       "<matplotlib.text.Text at 0x7f371bba1438>"
      ]
     },
     "execution_count": 23,
     "metadata": {},
     "output_type": "execute_result"
    },
    {
     "data": {
      "image/png": "[encoded data removed]",
      "text/plain": [
       "<matplotlib.figure.Figure at 0x7f36fd20cc50>"
      ]
     },
     "metadata": {},
     "output_type": "display_data"
    }
   ],
   "source": [
    "plt.hist(np.reshape(gex_over_genes.values, (-1, )), range=(-3, 3), bins=16)\n",
    "plt.ylabel('Number of genes')\n",
    "plt.xlabel('Normalized RMA Score')"
   ]
  },
  {
   "cell_type": "markdown",
   "metadata": {},
   "source": [
    "# To database"
   ]
  },
  {
   "cell_type": "code",
   "execution_count": 24,
   "metadata": {
    "collapsed": false,
    "run_control": {
     "marked": false
    }
   },
   "outputs": [
    {
     "data": {
      "text/html": [
       "<div>\n",
       "<table border=\"1\" class=\"dataframe\">\n",
       "  <thead>\n",
       "    <tr style=\"text-align: right;\">\n",
       "      <th></th>\n",
       "      <th>22RV1</th>\n",
       "      <th>647-V</th>\n",
       "      <th>A549</th>\n",
       "      <th>BFTC-905</th>\n",
       "      <th>BT-20</th>\n",
       "      <th>BT-474</th>\n",
       "      <th>BT-549</th>\n",
       "      <th>C32</th>\n",
       "      <th>CAL-120</th>\n",
       "      <th>CAL-148</th>\n",
       "      <th>CAL-51</th>\n",
       "      <th>CAMA-1</th>\n",
       "      <th>COLO-205</th>\n",
       "      <th>Calu-3</th>\n",
       "      <th>Calu-6</th>\n",
       "      <th>DMS-114</th>\n",
       "      <th>DU-4475</th>\n",
       "      <th>EVSA-T</th>\n",
       "      <th>HCC1143</th>\n",
       "      <th>HCC1187</th>\n",
       "      <th>HCC1395</th>\n",
       "      <th>HCC1419</th>\n",
       "      <th>HCC1428</th>\n",
       "      <th>HCC1500</th>\n",
       "      <th>HCC1569</th>\n",
       "      <th>HCC1806</th>\n",
       "      <th>HCC1937</th>\n",
       "      <th>HCC1954</th>\n",
       "      <th>HCC38</th>\n",
       "      <th>HCC70</th>\n",
       "      <th>HCT-116</th>\n",
       "      <th>HT-1197</th>\n",
       "      <th>HT-1376</th>\n",
       "      <th>HT-29</th>\n",
       "      <th>Hs-578-T</th>\n",
       "      <th>J82</th>\n",
       "      <th>KATOIII</th>\n",
       "      <th>KMS-11</th>\n",
       "      <th>KU-19-19</th>\n",
       "      <th>LS-513</th>\n",
       "      <th>M14</th>\n",
       "      <th>MCF7</th>\n",
       "      <th>MDA-MB-157</th>\n",
       "      <th>MDA-MB-231</th>\n",
       "      <th>MDA-MB-361</th>\n",
       "      <th>MDA-MB-415</th>\n",
       "      <th>MDA-MB-436</th>\n",
       "      <th>MDA-MB-453</th>\n",
       "      <th>MDA-MB-468</th>\n",
       "      <th>MFM-223</th>\n",
       "      <th>NCI-H1299</th>\n",
       "      <th>NCI-H1563</th>\n",
       "      <th>NCI-H1703</th>\n",
       "      <th>NCI-H1793</th>\n",
       "      <th>NCI-H1975</th>\n",
       "      <th>NCI-H2085</th>\n",
       "      <th>NCI-H2170</th>\n",
       "      <th>NCI-H2228</th>\n",
       "      <th>NCI-H226</th>\n",
       "      <th>NCI-H2291</th>\n",
       "      <th>NCI-H23</th>\n",
       "      <th>NCI-H3122</th>\n",
       "      <th>NCI-H358</th>\n",
       "      <th>NCI-H520</th>\n",
       "      <th>NCI-H522</th>\n",
       "      <th>NCI-H747</th>\n",
       "      <th>NCI-H838</th>\n",
       "      <th>NCI-SNU-16</th>\n",
       "      <th>RKO</th>\n",
       "      <th>RT4</th>\n",
       "      <th>SW48</th>\n",
       "      <th>SW620</th>\n",
       "      <th>SW780</th>\n",
       "      <th>SW837</th>\n",
       "      <th>SW900</th>\n",
       "      <th>SW948</th>\n",
       "      <th>T-24</th>\n",
       "      <th>T47D</th>\n",
       "      <th>TCCSUP</th>\n",
       "      <th>UACC-812</th>\n",
       "      <th>UM-UC-3</th>\n",
       "      <th>VCaP</th>\n",
       "      <th>VM-CUB-1</th>\n",
       "    </tr>\n",
       "  </thead>\n",
       "  <tbody>\n",
       "    <tr>\n",
       "      <th>A1BG</th>\n",
       "      <td>3.530584</td>\n",
       "      <td>2.788878</td>\n",
       "      <td>5.351535</td>\n",
       "      <td>3.654691</td>\n",
       "      <td>3.413191</td>\n",
       "      <td>3.512673</td>\n",
       "      <td>5.503611</td>\n",
       "      <td>5.301429</td>\n",
       "      <td>6.208447</td>\n",
       "      <td>3.967330</td>\n",
       "      <td>5.506955</td>\n",
       "      <td>5.473663</td>\n",
       "      <td>3.659052</td>\n",
       "      <td>3.445720</td>\n",
       "      <td>3.250152</td>\n",
       "      <td>5.025810</td>\n",
       "      <td>3.712974</td>\n",
       "      <td>3.992799</td>\n",
       "      <td>6.653324</td>\n",
       "      <td>3.860001</td>\n",
       "      <td>3.818815</td>\n",
       "      <td>5.062066</td>\n",
       "      <td>4.943208</td>\n",
       "      <td>5.117451</td>\n",
       "      <td>4.651759</td>\n",
       "      <td>7.557265</td>\n",
       "      <td>4.012750</td>\n",
       "      <td>4.394033</td>\n",
       "      <td>4.314272</td>\n",
       "      <td>3.558035</td>\n",
       "      <td>3.231159</td>\n",
       "      <td>2.891782</td>\n",
       "      <td>2.996703</td>\n",
       "      <td>3.333250</td>\n",
       "      <td>5.696576</td>\n",
       "      <td>3.403658</td>\n",
       "      <td>3.765339</td>\n",
       "      <td>3.429940</td>\n",
       "      <td>4.146027</td>\n",
       "      <td>3.436224</td>\n",
       "      <td>4.331010</td>\n",
       "      <td>4.677871</td>\n",
       "      <td>5.633269</td>\n",
       "      <td>3.993322</td>\n",
       "      <td>3.239070</td>\n",
       "      <td>3.160667</td>\n",
       "      <td>5.675360</td>\n",
       "      <td>5.622213</td>\n",
       "      <td>3.251473</td>\n",
       "      <td>5.366995</td>\n",
       "      <td>4.410914</td>\n",
       "      <td>3.784122</td>\n",
       "      <td>5.742016</td>\n",
       "      <td>5.217647</td>\n",
       "      <td>4.617750</td>\n",
       "      <td>5.740719</td>\n",
       "      <td>3.213566</td>\n",
       "      <td>3.538686</td>\n",
       "      <td>3.534607</td>\n",
       "      <td>3.612600</td>\n",
       "      <td>3.906863</td>\n",
       "      <td>3.219004</td>\n",
       "      <td>3.779601</td>\n",
       "      <td>4.238043</td>\n",
       "      <td>4.313296</td>\n",
       "      <td>3.149603</td>\n",
       "      <td>4.420252</td>\n",
       "      <td>3.367825</td>\n",
       "      <td>2.733173</td>\n",
       "      <td>3.359233</td>\n",
       "      <td>3.604357</td>\n",
       "      <td>3.226869</td>\n",
       "      <td>3.085338</td>\n",
       "      <td>3.193601</td>\n",
       "      <td>3.562164</td>\n",
       "      <td>3.120944</td>\n",
       "      <td>3.030891</td>\n",
       "      <td>4.015417</td>\n",
       "      <td>3.386465</td>\n",
       "      <td>4.565087</td>\n",
       "      <td>4.806826</td>\n",
       "      <td>3.442403</td>\n",
       "      <td>3.233975</td>\n",
       "    </tr>\n",
       "    <tr>\n",
       "      <th>A1CF</th>\n",
       "      <td>6.364383</td>\n",
       "      <td>2.929860</td>\n",
       "      <td>5.899714</td>\n",
       "      <td>2.879513</td>\n",
       "      <td>2.960482</td>\n",
       "      <td>3.054495</td>\n",
       "      <td>3.107128</td>\n",
       "      <td>3.126334</td>\n",
       "      <td>2.981775</td>\n",
       "      <td>3.075956</td>\n",
       "      <td>2.872071</td>\n",
       "      <td>3.141034</td>\n",
       "      <td>7.210961</td>\n",
       "      <td>2.976691</td>\n",
       "      <td>3.359157</td>\n",
       "      <td>2.947547</td>\n",
       "      <td>2.932662</td>\n",
       "      <td>2.872890</td>\n",
       "      <td>2.809667</td>\n",
       "      <td>2.977178</td>\n",
       "      <td>2.972840</td>\n",
       "      <td>2.985650</td>\n",
       "      <td>2.949033</td>\n",
       "      <td>2.894628</td>\n",
       "      <td>2.962179</td>\n",
       "      <td>2.954737</td>\n",
       "      <td>2.815736</td>\n",
       "      <td>2.913561</td>\n",
       "      <td>2.984274</td>\n",
       "      <td>2.991716</td>\n",
       "      <td>2.957640</td>\n",
       "      <td>3.134189</td>\n",
       "      <td>2.931337</td>\n",
       "      <td>3.035997</td>\n",
       "      <td>2.885962</td>\n",
       "      <td>2.948641</td>\n",
       "      <td>2.972890</td>\n",
       "      <td>3.003220</td>\n",
       "      <td>3.076125</td>\n",
       "      <td>4.307525</td>\n",
       "      <td>2.903783</td>\n",
       "      <td>3.221482</td>\n",
       "      <td>3.235645</td>\n",
       "      <td>2.906964</td>\n",
       "      <td>2.973523</td>\n",
       "      <td>3.065818</td>\n",
       "      <td>2.934078</td>\n",
       "      <td>2.920719</td>\n",
       "      <td>2.909005</td>\n",
       "      <td>2.999021</td>\n",
       "      <td>3.057679</td>\n",
       "      <td>3.178817</td>\n",
       "      <td>3.016101</td>\n",
       "      <td>3.123458</td>\n",
       "      <td>2.994303</td>\n",
       "      <td>2.807124</td>\n",
       "      <td>2.962080</td>\n",
       "      <td>2.965398</td>\n",
       "      <td>2.904675</td>\n",
       "      <td>3.251876</td>\n",
       "      <td>3.131992</td>\n",
       "      <td>2.949988</td>\n",
       "      <td>2.931010</td>\n",
       "      <td>3.123205</td>\n",
       "      <td>3.109252</td>\n",
       "      <td>3.030174</td>\n",
       "      <td>2.933147</td>\n",
       "      <td>7.616778</td>\n",
       "      <td>3.176171</td>\n",
       "      <td>3.076448</td>\n",
       "      <td>3.049307</td>\n",
       "      <td>3.756048</td>\n",
       "      <td>2.833101</td>\n",
       "      <td>3.103560</td>\n",
       "      <td>2.996603</td>\n",
       "      <td>6.035482</td>\n",
       "      <td>3.190048</td>\n",
       "      <td>3.013487</td>\n",
       "      <td>3.177574</td>\n",
       "      <td>2.979775</td>\n",
       "      <td>3.159821</td>\n",
       "      <td>4.049642</td>\n",
       "      <td>3.038010</td>\n",
       "    </tr>\n",
       "    <tr>\n",
       "      <th>A2M</th>\n",
       "      <td>5.333116</td>\n",
       "      <td>3.163920</td>\n",
       "      <td>3.385313</td>\n",
       "      <td>3.145660</td>\n",
       "      <td>3.485672</td>\n",
       "      <td>3.374128</td>\n",
       "      <td>3.306887</td>\n",
       "      <td>11.194502</td>\n",
       "      <td>3.133883</td>\n",
       "      <td>3.252529</td>\n",
       "      <td>3.287678</td>\n",
       "      <td>3.553870</td>\n",
       "      <td>3.284050</td>\n",
       "      <td>3.125750</td>\n",
       "      <td>3.392565</td>\n",
       "      <td>3.335711</td>\n",
       "      <td>5.857938</td>\n",
       "      <td>3.371901</td>\n",
       "      <td>3.181255</td>\n",
       "      <td>3.101857</td>\n",
       "      <td>7.333633</td>\n",
       "      <td>3.529651</td>\n",
       "      <td>3.716710</td>\n",
       "      <td>3.443310</td>\n",
       "      <td>12.962624</td>\n",
       "      <td>3.102288</td>\n",
       "      <td>3.262667</td>\n",
       "      <td>3.431608</td>\n",
       "      <td>3.515306</td>\n",
       "      <td>3.548095</td>\n",
       "      <td>3.015057</td>\n",
       "      <td>3.274353</td>\n",
       "      <td>3.390316</td>\n",
       "      <td>3.433933</td>\n",
       "      <td>3.184189</td>\n",
       "      <td>4.248470</td>\n",
       "      <td>3.347285</td>\n",
       "      <td>3.531883</td>\n",
       "      <td>3.692506</td>\n",
       "      <td>3.914816</td>\n",
       "      <td>6.572986</td>\n",
       "      <td>3.502539</td>\n",
       "      <td>4.031836</td>\n",
       "      <td>3.280705</td>\n",
       "      <td>3.496711</td>\n",
       "      <td>3.194349</td>\n",
       "      <td>3.353889</td>\n",
       "      <td>3.585621</td>\n",
       "      <td>6.748265</td>\n",
       "      <td>5.349334</td>\n",
       "      <td>3.481793</td>\n",
       "      <td>3.520293</td>\n",
       "      <td>3.364239</td>\n",
       "      <td>3.264536</td>\n",
       "      <td>3.315750</td>\n",
       "      <td>3.352053</td>\n",
       "      <td>3.425817</td>\n",
       "      <td>3.317356</td>\n",
       "      <td>3.542737</td>\n",
       "      <td>3.271784</td>\n",
       "      <td>3.454828</td>\n",
       "      <td>3.257612</td>\n",
       "      <td>3.189635</td>\n",
       "      <td>3.322089</td>\n",
       "      <td>3.702488</td>\n",
       "      <td>3.320323</td>\n",
       "      <td>3.280496</td>\n",
       "      <td>3.234721</td>\n",
       "      <td>3.587857</td>\n",
       "      <td>3.414311</td>\n",
       "      <td>3.370937</td>\n",
       "      <td>3.423342</td>\n",
       "      <td>3.485978</td>\n",
       "      <td>3.328670</td>\n",
       "      <td>3.253735</td>\n",
       "      <td>3.424149</td>\n",
       "      <td>3.422091</td>\n",
       "      <td>3.435566</td>\n",
       "      <td>10.367402</td>\n",
       "      <td>4.068013</td>\n",
       "      <td>3.318134</td>\n",
       "      <td>3.669509</td>\n",
       "      <td>3.262412</td>\n",
       "    </tr>\n",
       "    <tr>\n",
       "      <th>A2ML1</th>\n",
       "      <td>2.907726</td>\n",
       "      <td>2.659589</td>\n",
       "      <td>2.876303</td>\n",
       "      <td>2.618580</td>\n",
       "      <td>3.203183</td>\n",
       "      <td>2.990600</td>\n",
       "      <td>2.750999</td>\n",
       "      <td>2.809603</td>\n",
       "      <td>2.652527</td>\n",
       "      <td>4.176452</td>\n",
       "      <td>3.946546</td>\n",
       "      <td>3.037501</td>\n",
       "      <td>2.830605</td>\n",
       "      <td>2.814887</td>\n",
       "      <td>3.217121</td>\n",
       "      <td>2.734617</td>\n",
       "      <td>2.810957</td>\n",
       "      <td>3.244767</td>\n",
       "      <td>2.882418</td>\n",
       "      <td>2.827790</td>\n",
       "      <td>3.094473</td>\n",
       "      <td>2.970912</td>\n",
       "      <td>3.219312</td>\n",
       "      <td>2.862272</td>\n",
       "      <td>2.984883</td>\n",
       "      <td>2.912465</td>\n",
       "      <td>3.026253</td>\n",
       "      <td>2.914855</td>\n",
       "      <td>2.912427</td>\n",
       "      <td>5.398271</td>\n",
       "      <td>2.747944</td>\n",
       "      <td>3.203564</td>\n",
       "      <td>2.863508</td>\n",
       "      <td>2.872562</td>\n",
       "      <td>2.850983</td>\n",
       "      <td>2.866479</td>\n",
       "      <td>2.935965</td>\n",
       "      <td>2.757120</td>\n",
       "      <td>3.052064</td>\n",
       "      <td>2.872895</td>\n",
       "      <td>2.756976</td>\n",
       "      <td>2.823238</td>\n",
       "      <td>2.994586</td>\n",
       "      <td>2.784113</td>\n",
       "      <td>2.957074</td>\n",
       "      <td>2.861270</td>\n",
       "      <td>2.845468</td>\n",
       "      <td>2.970381</td>\n",
       "      <td>3.038762</td>\n",
       "      <td>2.917099</td>\n",
       "      <td>2.868770</td>\n",
       "      <td>2.816616</td>\n",
       "      <td>2.961184</td>\n",
       "      <td>2.966420</td>\n",
       "      <td>2.875874</td>\n",
       "      <td>3.078362</td>\n",
       "      <td>3.027520</td>\n",
       "      <td>2.722523</td>\n",
       "      <td>2.815796</td>\n",
       "      <td>2.768303</td>\n",
       "      <td>2.855416</td>\n",
       "      <td>2.868177</td>\n",
       "      <td>2.907705</td>\n",
       "      <td>2.753796</td>\n",
       "      <td>2.896764</td>\n",
       "      <td>2.900725</td>\n",
       "      <td>2.714300</td>\n",
       "      <td>3.038924</td>\n",
       "      <td>2.735681</td>\n",
       "      <td>2.920353</td>\n",
       "      <td>3.211124</td>\n",
       "      <td>2.975449</td>\n",
       "      <td>2.791813</td>\n",
       "      <td>2.970275</td>\n",
       "      <td>2.844126</td>\n",
       "      <td>2.810739</td>\n",
       "      <td>3.005388</td>\n",
       "      <td>2.927293</td>\n",
       "      <td>2.841073</td>\n",
       "      <td>2.799085</td>\n",
       "      <td>2.848456</td>\n",
       "      <td>3.045514</td>\n",
       "      <td>2.848073</td>\n",
       "    </tr>\n",
       "    <tr>\n",
       "      <th>A3GALT2P</th>\n",
       "      <td>2.815383</td>\n",
       "      <td>2.949402</td>\n",
       "      <td>2.794812</td>\n",
       "      <td>3.051636</td>\n",
       "      <td>2.727538</td>\n",
       "      <td>3.046176</td>\n",
       "      <td>2.600750</td>\n",
       "      <td>2.772945</td>\n",
       "      <td>2.759164</td>\n",
       "      <td>2.973257</td>\n",
       "      <td>3.007847</td>\n",
       "      <td>2.813239</td>\n",
       "      <td>2.817318</td>\n",
       "      <td>2.906216</td>\n",
       "      <td>2.951504</td>\n",
       "      <td>2.867167</td>\n",
       "      <td>3.222096</td>\n",
       "      <td>2.758084</td>\n",
       "      <td>2.898673</td>\n",
       "      <td>2.949275</td>\n",
       "      <td>3.002633</td>\n",
       "      <td>3.039915</td>\n",
       "      <td>2.889149</td>\n",
       "      <td>2.794062</td>\n",
       "      <td>2.696788</td>\n",
       "      <td>2.841877</td>\n",
       "      <td>2.637763</td>\n",
       "      <td>2.627251</td>\n",
       "      <td>2.638571</td>\n",
       "      <td>2.585234</td>\n",
       "      <td>3.350766</td>\n",
       "      <td>2.676877</td>\n",
       "      <td>2.928732</td>\n",
       "      <td>2.911099</td>\n",
       "      <td>2.860962</td>\n",
       "      <td>2.682130</td>\n",
       "      <td>2.642075</td>\n",
       "      <td>2.964072</td>\n",
       "      <td>2.757277</td>\n",
       "      <td>2.859390</td>\n",
       "      <td>2.758919</td>\n",
       "      <td>2.872862</td>\n",
       "      <td>2.904985</td>\n",
       "      <td>2.793504</td>\n",
       "      <td>3.052749</td>\n",
       "      <td>2.841773</td>\n",
       "      <td>2.646936</td>\n",
       "      <td>2.809300</td>\n",
       "      <td>2.900886</td>\n",
       "      <td>2.796933</td>\n",
       "      <td>3.009006</td>\n",
       "      <td>2.460609</td>\n",
       "      <td>2.927724</td>\n",
       "      <td>2.688251</td>\n",
       "      <td>2.711345</td>\n",
       "      <td>2.862964</td>\n",
       "      <td>3.094932</td>\n",
       "      <td>2.614486</td>\n",
       "      <td>2.911751</td>\n",
       "      <td>2.729423</td>\n",
       "      <td>2.918373</td>\n",
       "      <td>2.761097</td>\n",
       "      <td>3.017744</td>\n",
       "      <td>2.818910</td>\n",
       "      <td>2.743633</td>\n",
       "      <td>2.804695</td>\n",
       "      <td>2.741882</td>\n",
       "      <td>2.639278</td>\n",
       "      <td>2.958589</td>\n",
       "      <td>2.774540</td>\n",
       "      <td>2.863818</td>\n",
       "      <td>3.060973</td>\n",
       "      <td>2.740531</td>\n",
       "      <td>2.855441</td>\n",
       "      <td>2.806916</td>\n",
       "      <td>2.698972</td>\n",
       "      <td>2.724092</td>\n",
       "      <td>3.027163</td>\n",
       "      <td>2.701126</td>\n",
       "      <td>2.924450</td>\n",
       "      <td>2.730521</td>\n",
       "      <td>2.960086</td>\n",
       "      <td>2.718930</td>\n",
       "    </tr>\n",
       "  </tbody>\n",
       "</table>\n",
       "</div>"
      ],
      "text/plain": [
       "             22RV1     647-V      A549  BFTC-905     BT-20    BT-474    BT-549        C32   CAL-120   CAL-148    CAL-51    CAMA-1  COLO-205    Calu-3    Calu-6   DMS-114   DU-4475    EVSA-T   HCC1143   HCC1187   HCC1395   HCC1419   HCC1428   HCC1500    HCC1569   HCC1806   HCC1937   HCC1954     HCC38     HCC70   HCT-116   HT-1197   HT-1376     HT-29  Hs-578-T       J82   KATOIII    KMS-11  KU-19-19    LS-513       M14      MCF7  MDA-MB-157  MDA-MB-231  MDA-MB-361  MDA-MB-415  MDA-MB-436  MDA-MB-453  MDA-MB-468   MFM-223  NCI-H1299  NCI-H1563  NCI-H1703  NCI-H1793  NCI-H1975  NCI-H2085  NCI-H2170  NCI-H2228  NCI-H226  NCI-H2291   NCI-H23  NCI-H3122  NCI-H358  NCI-H520  NCI-H522  NCI-H747  NCI-H838  NCI-SNU-16       RKO       RT4      SW48     SW620     SW780     SW837     SW900     SW948      T-24      T47D     TCCSUP  UACC-812   UM-UC-3      VCaP  VM-CUB-1\n",
       "A1BG      3.530584  2.788878  5.351535  3.654691  3.413191  3.512673  5.503611   5.301429  6.208447  3.967330  5.506955  5.473663  3.659052  3.445720  3.250152  5.025810  3.712974  3.992799  6.653324  3.860001  3.818815  5.062066  4.943208  5.117451   4.651759  7.557265  4.012750  4.394033  4.314272  3.558035  3.231159  2.891782  2.996703  3.333250  5.696576  3.403658  3.765339  3.429940  4.146027  3.436224  4.331010  4.677871    5.633269    3.993322    3.239070    3.160667    5.675360    5.622213    3.251473  5.366995   4.410914   3.784122   5.742016   5.217647   4.617750   5.740719   3.213566   3.538686  3.534607   3.612600  3.906863   3.219004  3.779601  4.238043  4.313296  3.149603  4.420252    3.367825  2.733173  3.359233  3.604357  3.226869  3.085338  3.193601  3.562164  3.120944  3.030891  4.015417   3.386465  4.565087  4.806826  3.442403  3.233975\n",
       "A1CF      6.364383  2.929860  5.899714  2.879513  2.960482  3.054495  3.107128   3.126334  2.981775  3.075956  2.872071  3.141034  7.210961  2.976691  3.359157  2.947547  2.932662  2.872890  2.809667  2.977178  2.972840  2.985650  2.949033  2.894628   2.962179  2.954737  2.815736  2.913561  2.984274  2.991716  2.957640  3.134189  2.931337  3.035997  2.885962  2.948641  2.972890  3.003220  3.076125  4.307525  2.903783  3.221482    3.235645    2.906964    2.973523    3.065818    2.934078    2.920719    2.909005  2.999021   3.057679   3.178817   3.016101   3.123458   2.994303   2.807124   2.962080   2.965398  2.904675   3.251876  3.131992   2.949988  2.931010  3.123205  3.109252  3.030174  2.933147    7.616778  3.176171  3.076448  3.049307  3.756048  2.833101  3.103560  2.996603  6.035482  3.190048  3.013487   3.177574  2.979775  3.159821  4.049642  3.038010\n",
       "A2M       5.333116  3.163920  3.385313  3.145660  3.485672  3.374128  3.306887  11.194502  3.133883  3.252529  3.287678  3.553870  3.284050  3.125750  3.392565  3.335711  5.857938  3.371901  3.181255  3.101857  7.333633  3.529651  3.716710  3.443310  12.962624  3.102288  3.262667  3.431608  3.515306  3.548095  3.015057  3.274353  3.390316  3.433933  3.184189  4.248470  3.347285  3.531883  3.692506  3.914816  6.572986  3.502539    4.031836    3.280705    3.496711    3.194349    3.353889    3.585621    6.748265  5.349334   3.481793   3.520293   3.364239   3.264536   3.315750   3.352053   3.425817   3.317356  3.542737   3.271784  3.454828   3.257612  3.189635  3.322089  3.702488  3.320323  3.280496    3.234721  3.587857  3.414311  3.370937  3.423342  3.485978  3.328670  3.253735  3.424149  3.422091  3.435566  10.367402  4.068013  3.318134  3.669509  3.262412\n",
       "A2ML1     2.907726  2.659589  2.876303  2.618580  3.203183  2.990600  2.750999   2.809603  2.652527  4.176452  3.946546  3.037501  2.830605  2.814887  3.217121  2.734617  2.810957  3.244767  2.882418  2.827790  3.094473  2.970912  3.219312  2.862272   2.984883  2.912465  3.026253  2.914855  2.912427  5.398271  2.747944  3.203564  2.863508  2.872562  2.850983  2.866479  2.935965  2.757120  3.052064  2.872895  2.756976  2.823238    2.994586    2.784113    2.957074    2.861270    2.845468    2.970381    3.038762  2.917099   2.868770   2.816616   2.961184   2.966420   2.875874   3.078362   3.027520   2.722523  2.815796   2.768303  2.855416   2.868177  2.907705  2.753796  2.896764  2.900725  2.714300    3.038924  2.735681  2.920353  3.211124  2.975449  2.791813  2.970275  2.844126  2.810739  3.005388  2.927293   2.841073  2.799085  2.848456  3.045514  2.848073\n",
       "A3GALT2P  2.815383  2.949402  2.794812  3.051636  2.727538  3.046176  2.600750   2.772945  2.759164  2.973257  3.007847  2.813239  2.817318  2.906216  2.951504  2.867167  3.222096  2.758084  2.898673  2.949275  3.002633  3.039915  2.889149  2.794062   2.696788  2.841877  2.637763  2.627251  2.638571  2.585234  3.350766  2.676877  2.928732  2.911099  2.860962  2.682130  2.642075  2.964072  2.757277  2.859390  2.758919  2.872862    2.904985    2.793504    3.052749    2.841773    2.646936    2.809300    2.900886  2.796933   3.009006   2.460609   2.927724   2.688251   2.711345   2.862964   3.094932   2.614486  2.911751   2.729423  2.918373   2.761097  3.017744  2.818910  2.743633  2.804695  2.741882    2.639278  2.958589  2.774540  2.863818  3.060973  2.740531  2.855441  2.806916  2.698972  2.724092  3.027163   2.701126  2.924450  2.730521  2.960086  2.718930"
      ]
     },
     "execution_count": 24,
     "metadata": {},
     "output_type": "execute_result"
    }
   ],
   "source": [
    "gex.head()"
   ]
  },
  {
   "cell_type": "code",
   "execution_count": 25,
   "metadata": {
    "collapsed": false,
    "run_control": {
     "marked": false
    }
   },
   "outputs": [],
   "source": [
    "cell_lines = list(gex.columns)"
   ]
  },
  {
   "cell_type": "code",
   "execution_count": 26,
   "metadata": {
    "collapsed": true,
    "run_control": {
     "marked": false
    }
   },
   "outputs": [],
   "source": [
    "gex_melted = (\n",
    "    pd.melt(gex.reset_index().rename(columns={'index': 'gene'}), \n",
    "            id_vars=['gene'], value_vars=cell_lines)\n",
    "    .rename(columns={'variable': 'cell_line', 'value': 'gene_expression'})\n",
    ")"
   ]
  },
  {
   "cell_type": "code",
   "execution_count": 27,
   "metadata": {
    "collapsed": false,
    "run_control": {
     "marked": false
    }
   },
   "outputs": [
    {
     "data": {
      "text/html": [
       "<div>\n",
       "<table border=\"1\" class=\"dataframe\">\n",
       "  <thead>\n",
       "    <tr style=\"text-align: right;\">\n",
       "      <th></th>\n",
       "      <th>gene</th>\n",
       "      <th>cell_line</th>\n",
       "      <th>gene_expression</th>\n",
       "    </tr>\n",
       "  </thead>\n",
       "  <tbody>\n",
       "    <tr>\n",
       "      <th>0</th>\n",
       "      <td>A1BG</td>\n",
       "      <td>22RV1</td>\n",
       "      <td>3.530584</td>\n",
       "    </tr>\n",
       "    <tr>\n",
       "      <th>1</th>\n",
       "      <td>A1CF</td>\n",
       "      <td>22RV1</td>\n",
       "      <td>6.364383</td>\n",
       "    </tr>\n",
       "    <tr>\n",
       "      <th>2</th>\n",
       "      <td>A2M</td>\n",
       "      <td>22RV1</td>\n",
       "      <td>5.333116</td>\n",
       "    </tr>\n",
       "    <tr>\n",
       "      <th>3</th>\n",
       "      <td>A2ML1</td>\n",
       "      <td>22RV1</td>\n",
       "      <td>2.907726</td>\n",
       "    </tr>\n",
       "    <tr>\n",
       "      <th>4</th>\n",
       "      <td>A3GALT2P</td>\n",
       "      <td>22RV1</td>\n",
       "      <td>2.815383</td>\n",
       "    </tr>\n",
       "  </tbody>\n",
       "</table>\n",
       "</div>"
      ],
      "text/plain": [
       "       gene cell_line  gene_expression\n",
       "0      A1BG     22RV1         3.530584\n",
       "1      A1CF     22RV1         6.364383\n",
       "2       A2M     22RV1         5.333116\n",
       "3     A2ML1     22RV1         2.907726\n",
       "4  A3GALT2P     22RV1         2.815383"
      ]
     },
     "execution_count": 27,
     "metadata": {},
     "output_type": "execute_result"
    }
   ],
   "source": [
    "gex_melted.head()"
   ]
  },
  {
   "cell_type": "code",
   "execution_count": 28,
   "metadata": {
    "collapsed": false,
    "run_control": {
     "marked": false
    }
   },
   "outputs": [],
   "source": [
    "gex_over_cells_melted = (\n",
    "    pd.melt(gex_over_cells.reset_index().rename(columns={'index': 'gene'}), \n",
    "            id_vars=['gene'], value_vars=cell_lines)\n",
    "    .rename(columns={'variable': 'cell_line', 'value': 'gene_expression'})\n",
    ")"
   ]
  },
  {
   "cell_type": "code",
   "execution_count": 29,
   "metadata": {
    "collapsed": false,
    "run_control": {
     "marked": false
    }
   },
   "outputs": [
    {
     "data": {
      "text/html": [
       "<div>\n",
       "<table border=\"1\" class=\"dataframe\">\n",
       "  <thead>\n",
       "    <tr style=\"text-align: right;\">\n",
       "      <th></th>\n",
       "      <th>gene</th>\n",
       "      <th>cell_line</th>\n",
       "      <th>gene_expression</th>\n",
       "    </tr>\n",
       "  </thead>\n",
       "  <tbody>\n",
       "    <tr>\n",
       "      <th>0</th>\n",
       "      <td>A1BG</td>\n",
       "      <td>22RV1</td>\n",
       "      <td>-0.599778</td>\n",
       "    </tr>\n",
       "    <tr>\n",
       "      <th>1</th>\n",
       "      <td>A1CF</td>\n",
       "      <td>22RV1</td>\n",
       "      <td>3.442345</td>\n",
       "    </tr>\n",
       "    <tr>\n",
       "      <th>2</th>\n",
       "      <td>A2M</td>\n",
       "      <td>22RV1</td>\n",
       "      <td>0.848609</td>\n",
       "    </tr>\n",
       "    <tr>\n",
       "      <th>3</th>\n",
       "      <td>A2ML1</td>\n",
       "      <td>22RV1</td>\n",
       "      <td>-0.148586</td>\n",
       "    </tr>\n",
       "    <tr>\n",
       "      <th>4</th>\n",
       "      <td>A3GALT2P</td>\n",
       "      <td>22RV1</td>\n",
       "      <td>-0.141800</td>\n",
       "    </tr>\n",
       "  </tbody>\n",
       "</table>\n",
       "</div>"
      ],
      "text/plain": [
       "       gene cell_line  gene_expression\n",
       "0      A1BG     22RV1        -0.599778\n",
       "1      A1CF     22RV1         3.442345\n",
       "2       A2M     22RV1         0.848609\n",
       "3     A2ML1     22RV1        -0.148586\n",
       "4  A3GALT2P     22RV1        -0.141800"
      ]
     },
     "execution_count": 29,
     "metadata": {},
     "output_type": "execute_result"
    }
   ],
   "source": [
    "gex_over_cells_melted.head()"
   ]
  },
  {
   "cell_type": "code",
   "execution_count": 30,
   "metadata": {
    "collapsed": true,
    "run_control": {
     "marked": false
    }
   },
   "outputs": [],
   "source": [
    "gex_over_genes_melted = (\n",
    "    pd.melt(gex_over_genes.reset_index().rename(columns={'index': 'gene'}), \n",
    "            id_vars=['gene'], value_vars=cell_lines)\n",
    "    .rename(columns={'variable': 'cell_line', 'value': 'gene_expression'})\n",
    ")"
   ]
  },
  {
   "cell_type": "code",
   "execution_count": 31,
   "metadata": {
    "collapsed": false,
    "run_control": {
     "marked": false
    }
   },
   "outputs": [
    {
     "data": {
      "text/html": [
       "<div>\n",
       "<table border=\"1\" class=\"dataframe\">\n",
       "  <thead>\n",
       "    <tr style=\"text-align: right;\">\n",
       "      <th></th>\n",
       "      <th>gene</th>\n",
       "      <th>cell_line</th>\n",
       "      <th>gene_expression</th>\n",
       "    </tr>\n",
       "  </thead>\n",
       "  <tbody>\n",
       "    <tr>\n",
       "      <th>0</th>\n",
       "      <td>A1BG</td>\n",
       "      <td>22RV1</td>\n",
       "      <td>-0.612827</td>\n",
       "    </tr>\n",
       "    <tr>\n",
       "      <th>1</th>\n",
       "      <td>A1CF</td>\n",
       "      <td>22RV1</td>\n",
       "      <td>0.718647</td>\n",
       "    </tr>\n",
       "    <tr>\n",
       "      <th>2</th>\n",
       "      <td>A2M</td>\n",
       "      <td>22RV1</td>\n",
       "      <td>0.234101</td>\n",
       "    </tr>\n",
       "    <tr>\n",
       "      <th>3</th>\n",
       "      <td>A2ML1</td>\n",
       "      <td>22RV1</td>\n",
       "      <td>-0.905480</td>\n",
       "    </tr>\n",
       "    <tr>\n",
       "      <th>4</th>\n",
       "      <td>A3GALT2P</td>\n",
       "      <td>22RV1</td>\n",
       "      <td>-0.948868</td>\n",
       "    </tr>\n",
       "  </tbody>\n",
       "</table>\n",
       "</div>"
      ],
      "text/plain": [
       "       gene cell_line  gene_expression\n",
       "0      A1BG     22RV1        -0.612827\n",
       "1      A1CF     22RV1         0.718647\n",
       "2       A2M     22RV1         0.234101\n",
       "3     A2ML1     22RV1        -0.905480\n",
       "4  A3GALT2P     22RV1        -0.948868"
      ]
     },
     "execution_count": 31,
     "metadata": {},
     "output_type": "execute_result"
    }
   ],
   "source": [
    "gex_over_genes_melted.head()"
   ]
  },
  {
   "cell_type": "code",
   "execution_count": null,
   "metadata": {
    "collapsed": true,
    "run_control": {
     "marked": false
    }
   },
   "outputs": [],
   "source": []
  },
  {
   "cell_type": "code",
   "execution_count": 32,
   "metadata": {
    "collapsed": true,
    "run_control": {
     "marked": false
    }
   },
   "outputs": [],
   "source": [
    "gex_melted_all = (\n",
    "    gex_melted.rename(columns={'gene_expression': 'gex'})\n",
    "    .merge(gex_over_cells_melted.rename(columns={'gene_expression': 'gex_over_cells'}), on=['gene', 'cell_line'])\n",
    "    .merge(gex_over_genes_melted.rename(columns={'gene_expression': 'gex_over_genes'}), on=['gene', 'cell_line'])\n",
    ")"
   ]
  },
  {
   "cell_type": "code",
   "execution_count": 33,
   "metadata": {
    "collapsed": false,
    "run_control": {
     "marked": false
    }
   },
   "outputs": [
    {
     "data": {
      "text/html": [
       "<div>\n",
       "<table border=\"1\" class=\"dataframe\">\n",
       "  <thead>\n",
       "    <tr style=\"text-align: right;\">\n",
       "      <th></th>\n",
       "      <th>gene</th>\n",
       "      <th>cell_line</th>\n",
       "      <th>gex</th>\n",
       "      <th>gex_over_cells</th>\n",
       "      <th>gex_over_genes</th>\n",
       "    </tr>\n",
       "  </thead>\n",
       "  <tbody>\n",
       "    <tr>\n",
       "      <th>0</th>\n",
       "      <td>A1BG</td>\n",
       "      <td>22RV1</td>\n",
       "      <td>3.530584</td>\n",
       "      <td>-0.599778</td>\n",
       "      <td>-0.612827</td>\n",
       "    </tr>\n",
       "    <tr>\n",
       "      <th>1</th>\n",
       "      <td>A1CF</td>\n",
       "      <td>22RV1</td>\n",
       "      <td>6.364383</td>\n",
       "      <td>3.442345</td>\n",
       "      <td>0.718647</td>\n",
       "    </tr>\n",
       "    <tr>\n",
       "      <th>2</th>\n",
       "      <td>A2M</td>\n",
       "      <td>22RV1</td>\n",
       "      <td>5.333116</td>\n",
       "      <td>0.848609</td>\n",
       "      <td>0.234101</td>\n",
       "    </tr>\n",
       "    <tr>\n",
       "      <th>3</th>\n",
       "      <td>A2ML1</td>\n",
       "      <td>22RV1</td>\n",
       "      <td>2.907726</td>\n",
       "      <td>-0.148586</td>\n",
       "      <td>-0.905480</td>\n",
       "    </tr>\n",
       "    <tr>\n",
       "      <th>4</th>\n",
       "      <td>A3GALT2P</td>\n",
       "      <td>22RV1</td>\n",
       "      <td>2.815383</td>\n",
       "      <td>-0.141800</td>\n",
       "      <td>-0.948868</td>\n",
       "    </tr>\n",
       "  </tbody>\n",
       "</table>\n",
       "</div>"
      ],
      "text/plain": [
       "       gene cell_line       gex  gex_over_cells  gex_over_genes\n",
       "0      A1BG     22RV1  3.530584       -0.599778       -0.612827\n",
       "1      A1CF     22RV1  6.364383        3.442345        0.718647\n",
       "2       A2M     22RV1  5.333116        0.848609        0.234101\n",
       "3     A2ML1     22RV1  2.907726       -0.148586       -0.905480\n",
       "4  A3GALT2P     22RV1  2.815383       -0.141800       -0.948868"
      ]
     },
     "execution_count": 33,
     "metadata": {},
     "output_type": "execute_result"
    }
   ],
   "source": [
    "gex_melted_all.head()"
   ]
  },
  {
   "cell_type": "code",
   "execution_count": 34,
   "metadata": {
    "collapsed": false,
    "run_control": {
     "marked": false
    }
   },
   "outputs": [
    {
     "data": {
      "text/html": [
       "<div>\n",
       "<table border=\"1\" class=\"dataframe\">\n",
       "  <thead>\n",
       "    <tr style=\"text-align: right;\">\n",
       "      <th></th>\n",
       "      <th>gex</th>\n",
       "      <th>gex_over_cells</th>\n",
       "      <th>gex_over_genes</th>\n",
       "    </tr>\n",
       "  </thead>\n",
       "  <tbody>\n",
       "    <tr>\n",
       "      <th>gex</th>\n",
       "      <td>1.000000</td>\n",
       "      <td>0.280881</td>\n",
       "      <td>0.999860</td>\n",
       "    </tr>\n",
       "    <tr>\n",
       "      <th>gex_over_cells</th>\n",
       "      <td>0.280881</td>\n",
       "      <td>1.000000</td>\n",
       "      <td>0.279263</td>\n",
       "    </tr>\n",
       "    <tr>\n",
       "      <th>gex_over_genes</th>\n",
       "      <td>0.999860</td>\n",
       "      <td>0.279263</td>\n",
       "      <td>1.000000</td>\n",
       "    </tr>\n",
       "  </tbody>\n",
       "</table>\n",
       "</div>"
      ],
      "text/plain": [
       "                     gex  gex_over_cells  gex_over_genes\n",
       "gex             1.000000        0.280881        0.999860\n",
       "gex_over_cells  0.280881        1.000000        0.279263\n",
       "gex_over_genes  0.999860        0.279263        1.000000"
      ]
     },
     "execution_count": 34,
     "metadata": {},
     "output_type": "execute_result"
    }
   ],
   "source": [
    "gex_melted_all.corr()"
   ]
  },
  {
   "cell_type": "code",
   "execution_count": 35,
   "metadata": {
    "collapsed": true,
    "run_control": {
     "marked": false
    }
   },
   "outputs": [],
   "source": [
    "engine = sa.create_engine('mysql://strokach:@192.168.6.19:3306/az_dream_cell_features')\n",
    "dtypes = {\n",
    "    'gene': sa.VARCHAR(255),\n",
    "    'cell_line': sa.VARCHAR(255),\n",
    "    'gex': sa.dialects.mysql.DOUBLE,\n",
    "    'gex_over_cells': sa.dialects.mysql.DOUBLE,\n",
    "    'gex_over_genes': sa.dialects.mysql.DOUBLE,\n",
    "}\n",
    "gex_melted_all.to_sql('gex', engine, dtype=dtypes, index=False, if_exists='replace')"
   ]
  },
  {
   "cell_type": "code",
   "execution_count": 36,
   "metadata": {
    "collapsed": false,
    "run_control": {
     "marked": false
    }
   },
   "outputs": [
    {
     "data": {
      "text/plain": [
       "<sqlalchemy.engine.result.ResultProxy at 0x7f36fd1b4198>"
      ]
     },
     "execution_count": 36,
     "metadata": {},
     "output_type": "execute_result"
    }
   ],
   "source": [
    "engine.execute('create index a on gex (gene, cell_line)')\n",
    "engine.execute('create index b on gex (cell_line, gene)')"
   ]
  },
  {
   "cell_type": "code",
   "execution_count": null,
   "metadata": {
    "collapsed": true
   },
   "outputs": [],
   "source": []
  },
  {
   "cell_type": "code",
   "execution_count": null,
   "metadata": {
    "collapsed": true
   },
   "outputs": [],
   "source": []
  },
  {
   "cell_type": "markdown",
   "metadata": {},
   "source": [
    "# Correlation across drug pairs"
   ]
  },
  {
   "cell_type": "code",
   "execution_count": 159,
   "metadata": {
    "collapsed": true
   },
   "outputs": [],
   "source": [
    "engine = sa.create_engine('mysql://strokach:@192.168.6.19:3306/az_dream')\n",
    "drug_to_target = pd.read_sql_table('drug_to_target', engine)"
   ]
  },
  {
   "cell_type": "code",
   "execution_count": 161,
   "metadata": {
    "collapsed": false
   },
   "outputs": [
    {
     "data": {
      "text/html": [
       "<div>\n",
       "<table border=\"1\" class=\"dataframe\">\n",
       "  <thead>\n",
       "    <tr style=\"text-align: right;\">\n",
       "      <th></th>\n",
       "      <th>drug</th>\n",
       "      <th>target_original</th>\n",
       "      <th>target</th>\n",
       "      <th>hgnc_name</th>\n",
       "      <th>hgnc_acc</th>\n",
       "      <th>hgnc_description</th>\n",
       "      <th>ensg</th>\n",
       "      <th>enst</th>\n",
       "      <th>ensp</th>\n",
       "      <th>ensp_idx</th>\n",
       "    </tr>\n",
       "  </thead>\n",
       "  <tbody>\n",
       "    <tr>\n",
       "      <th>0</th>\n",
       "      <td>ADAM17</td>\n",
       "      <td>ADAM17</td>\n",
       "      <td>ADAM17</td>\n",
       "      <td>ADAM17</td>\n",
       "      <td>HGNC:195</td>\n",
       "      <td>ADAM metallopeptidase domain 17</td>\n",
       "      <td>ENSG00000151694</td>\n",
       "      <td>ENST00000310823</td>\n",
       "      <td>ENSP00000309968</td>\n",
       "      <td>309968</td>\n",
       "    </tr>\n",
       "    <tr>\n",
       "      <th>1</th>\n",
       "      <td>ADAM17</td>\n",
       "      <td>ADAM17</td>\n",
       "      <td>ADAM17</td>\n",
       "      <td>ADAM17</td>\n",
       "      <td>HGNC:195</td>\n",
       "      <td>ADAM metallopeptidase domain 17</td>\n",
       "      <td>ENSG00000151694</td>\n",
       "      <td>ENST00000497134</td>\n",
       "      <td>ENSP00000418728</td>\n",
       "      <td>418728</td>\n",
       "    </tr>\n",
       "  </tbody>\n",
       "</table>\n",
       "</div>"
      ],
      "text/plain": [
       "     drug target_original  target hgnc_name  hgnc_acc                 hgnc_description             ensg             enst             ensp  ensp_idx\n",
       "0  ADAM17          ADAM17  ADAM17    ADAM17  HGNC:195  ADAM metallopeptidase domain 17  ENSG00000151694  ENST00000310823  ENSP00000309968    309968\n",
       "1  ADAM17          ADAM17  ADAM17    ADAM17  HGNC:195  ADAM metallopeptidase domain 17  ENSG00000151694  ENST00000497134  ENSP00000418728    418728"
      ]
     },
     "execution_count": 161,
     "metadata": {},
     "output_type": "execute_result"
    }
   ],
   "source": [
    "drug_to_target.head(2)"
   ]
  },
  {
   "cell_type": "code",
   "execution_count": 186,
   "metadata": {
    "collapsed": false
   },
   "outputs": [],
   "source": [
    "drug_to_target_to_cell = (\n",
    "    drug_to_target.rename(columns={'hgnc_name': 'gene'})[['drug', 'gene']]\n",
    "    .merge(gex_melted_all, on=['gene'])\n",
    ")"
   ]
  },
  {
   "cell_type": "code",
   "execution_count": 187,
   "metadata": {
    "collapsed": false
   },
   "outputs": [
    {
     "data": {
      "text/html": [
       "<div>\n",
       "<table border=\"1\" class=\"dataframe\">\n",
       "  <thead>\n",
       "    <tr style=\"text-align: right;\">\n",
       "      <th></th>\n",
       "      <th>drug</th>\n",
       "      <th>gene</th>\n",
       "      <th>cell_line</th>\n",
       "      <th>gex</th>\n",
       "      <th>gex_over_cells</th>\n",
       "      <th>gex_over_genes</th>\n",
       "    </tr>\n",
       "  </thead>\n",
       "  <tbody>\n",
       "    <tr>\n",
       "      <th>0</th>\n",
       "      <td>ADAM17</td>\n",
       "      <td>ADAM17</td>\n",
       "      <td>22RV1</td>\n",
       "      <td>4.249165</td>\n",
       "      <td>-1.250541</td>\n",
       "      <td>-0.275199</td>\n",
       "    </tr>\n",
       "    <tr>\n",
       "      <th>1</th>\n",
       "      <td>ADAM17</td>\n",
       "      <td>ADAM17</td>\n",
       "      <td>647-V</td>\n",
       "      <td>4.260769</td>\n",
       "      <td>-1.226349</td>\n",
       "      <td>-0.253263</td>\n",
       "    </tr>\n",
       "    <tr>\n",
       "      <th>2</th>\n",
       "      <td>ADAM17</td>\n",
       "      <td>ADAM17</td>\n",
       "      <td>A549</td>\n",
       "      <td>5.509065</td>\n",
       "      <td>1.376034</td>\n",
       "      <td>0.312947</td>\n",
       "    </tr>\n",
       "    <tr>\n",
       "      <th>3</th>\n",
       "      <td>ADAM17</td>\n",
       "      <td>ADAM17</td>\n",
       "      <td>BFTC-905</td>\n",
       "      <td>5.166420</td>\n",
       "      <td>0.661706</td>\n",
       "      <td>0.145675</td>\n",
       "    </tr>\n",
       "    <tr>\n",
       "      <th>4</th>\n",
       "      <td>ADAM17</td>\n",
       "      <td>ADAM17</td>\n",
       "      <td>BT-20</td>\n",
       "      <td>5.182499</td>\n",
       "      <td>0.695226</td>\n",
       "      <td>0.161445</td>\n",
       "    </tr>\n",
       "  </tbody>\n",
       "</table>\n",
       "</div>"
      ],
      "text/plain": [
       "     drug    gene cell_line       gex  gex_over_cells  gex_over_genes\n",
       "0  ADAM17  ADAM17     22RV1  4.249165       -1.250541       -0.275199\n",
       "1  ADAM17  ADAM17     647-V  4.260769       -1.226349       -0.253263\n",
       "2  ADAM17  ADAM17      A549  5.509065        1.376034        0.312947\n",
       "3  ADAM17  ADAM17  BFTC-905  5.166420        0.661706        0.145675\n",
       "4  ADAM17  ADAM17     BT-20  5.182499        0.695226        0.161445"
      ]
     },
     "execution_count": 187,
     "metadata": {},
     "output_type": "execute_result"
    }
   ],
   "source": [
    "drug_to_target_to_cell.head()"
   ]
  },
  {
   "cell_type": "code",
   "execution_count": 188,
   "metadata": {
    "collapsed": false
   },
   "outputs": [],
   "source": [
    "drug_to_cell = (\n",
    "    drug_to_target_2.groupby(['drug', 'cell_line'])\n",
    "    [['gex', 'gex_over_cells', 'gex_over_genes']]\n",
    "    .agg(np.mean)\n",
    "    .reset_index()\n",
    ")"
   ]
  },
  {
   "cell_type": "code",
   "execution_count": 190,
   "metadata": {
    "collapsed": false,
    "scrolled": true
   },
   "outputs": [
    {
     "data": {
      "text/html": [
       "<div>\n",
       "<table border=\"1\" class=\"dataframe\">\n",
       "  <thead>\n",
       "    <tr style=\"text-align: right;\">\n",
       "      <th></th>\n",
       "      <th>drug</th>\n",
       "      <th>cell_line</th>\n",
       "      <th>gex</th>\n",
       "      <th>gex_over_cells</th>\n",
       "      <th>gex_over_genes</th>\n",
       "    </tr>\n",
       "  </thead>\n",
       "  <tbody>\n",
       "    <tr>\n",
       "      <th>0</th>\n",
       "      <td>ADAM17</td>\n",
       "      <td>22RV1</td>\n",
       "      <td>4.249165</td>\n",
       "      <td>-1.250541</td>\n",
       "      <td>-0.275199</td>\n",
       "    </tr>\n",
       "    <tr>\n",
       "      <th>1</th>\n",
       "      <td>ADAM17</td>\n",
       "      <td>647-V</td>\n",
       "      <td>4.260769</td>\n",
       "      <td>-1.226349</td>\n",
       "      <td>-0.253263</td>\n",
       "    </tr>\n",
       "    <tr>\n",
       "      <th>2</th>\n",
       "      <td>ADAM17</td>\n",
       "      <td>A549</td>\n",
       "      <td>5.509065</td>\n",
       "      <td>1.376034</td>\n",
       "      <td>0.312947</td>\n",
       "    </tr>\n",
       "    <tr>\n",
       "      <th>3</th>\n",
       "      <td>ADAM17</td>\n",
       "      <td>BFTC-905</td>\n",
       "      <td>5.166420</td>\n",
       "      <td>0.661706</td>\n",
       "      <td>0.145675</td>\n",
       "    </tr>\n",
       "    <tr>\n",
       "      <th>4</th>\n",
       "      <td>ADAM17</td>\n",
       "      <td>BT-20</td>\n",
       "      <td>5.182499</td>\n",
       "      <td>0.695226</td>\n",
       "      <td>0.161445</td>\n",
       "    </tr>\n",
       "  </tbody>\n",
       "</table>\n",
       "</div>"
      ],
      "text/plain": [
       "     drug cell_line       gex  gex_over_cells  gex_over_genes\n",
       "0  ADAM17     22RV1  4.249165       -1.250541       -0.275199\n",
       "1  ADAM17     647-V  4.260769       -1.226349       -0.253263\n",
       "2  ADAM17      A549  5.509065        1.376034        0.312947\n",
       "3  ADAM17  BFTC-905  5.166420        0.661706        0.145675\n",
       "4  ADAM17     BT-20  5.182499        0.695226        0.161445"
      ]
     },
     "execution_count": 190,
     "metadata": {},
     "output_type": "execute_result"
    }
   ],
   "source": [
    "drug_to_cell.head()"
   ]
  },
  {
   "cell_type": "code",
   "execution_count": null,
   "metadata": {
    "collapsed": true
   },
   "outputs": [],
   "source": []
  },
  {
   "cell_type": "code",
   "execution_count": 195,
   "metadata": {
    "collapsed": true
   },
   "outputs": [],
   "source": [
    "drug_to_gex = df.pivot(index='drug', columns='cell_line', values='gex').T.corr()"
   ]
  },
  {
   "cell_type": "code",
   "execution_count": 196,
   "metadata": {
    "collapsed": true
   },
   "outputs": [],
   "source": [
    "drug_to_gex_over_cells = df.pivot(index='drug', columns='cell_line', values='gex_over_cells').T.corr()"
   ]
  },
  {
   "cell_type": "code",
   "execution_count": 197,
   "metadata": {
    "collapsed": true
   },
   "outputs": [],
   "source": [
    "drug_to_gex_over_genes = df.pivot(index='drug', columns='cell_line', values='gex_over_genes').T.corr()"
   ]
  },
  {
   "cell_type": "code",
   "execution_count": null,
   "metadata": {
    "collapsed": true
   },
   "outputs": [],
   "source": []
  },
  {
   "cell_type": "code",
   "execution_count": 231,
   "metadata": {
    "collapsed": false
   },
   "outputs": [],
   "source": [
    "drug_corr_gex = (\n",
    "    matrix_to_values(drug_to_gex)\n",
    "    .rename(columns={'name_1': 'drug_1', 'name_2': 'drug_2', 'value': 'gex'})\n",
    ")\n",
    "assert all(drug_corr_gex['drug_1'] < drug_corr_gex['drug_2'])"
   ]
  },
  {
   "cell_type": "code",
   "execution_count": 232,
   "metadata": {
    "collapsed": true
   },
   "outputs": [],
   "source": [
    "drug_corr_gex_over_cells = (\n",
    "    matrix_to_values(drug_to_gex_over_cells)\n",
    "    .rename(columns={'name_1': 'drug_1', 'name_2': 'drug_2', 'value': 'gex_over_cells'})\n",
    ")\n",
    "assert all(drug_corr_gex_over_cells['drug_1'] < drug_corr_gex_over_cells['drug_2'])"
   ]
  },
  {
   "cell_type": "code",
   "execution_count": 233,
   "metadata": {
    "collapsed": false
   },
   "outputs": [],
   "source": [
    "drug_corr_gex_over_genes = (\n",
    "    matrix_to_values(drug_to_gex_over_genes)\n",
    "    .rename(columns={'name_1': 'drug_1', 'name_2': 'drug_2', 'value': 'gex_over_genes'})\n",
    ")\n",
    "assert all(drug_corr_gex_over_genes['drug_1'] < drug_corr_gex_over_genes['drug_2'])"
   ]
  },
  {
   "cell_type": "code",
   "execution_count": null,
   "metadata": {
    "collapsed": true
   },
   "outputs": [],
   "source": []
  },
  {
   "cell_type": "code",
   "execution_count": 234,
   "metadata": {
    "collapsed": true
   },
   "outputs": [],
   "source": [
    "drug_corr_all = (\n",
    "    drug_corr_gex\n",
    "    .merge(drug_corr_gex_over_cells, on=['drug_1', 'drug_2'])\n",
    "    .merge(drug_corr_gex_over_genes, on=['drug_1', 'drug_2'])\n",
    ")"
   ]
  },
  {
   "cell_type": "code",
   "execution_count": 235,
   "metadata": {
    "collapsed": false
   },
   "outputs": [],
   "source": [
    "drug_corr_all['unique_id'] = (\n",
    "    drug_corr_all['drug_1'] + '.' + \n",
    "    drug_corr_all['drug_2']\n",
    ")"
   ]
  },
  {
   "cell_type": "code",
   "execution_count": 236,
   "metadata": {
    "collapsed": false
   },
   "outputs": [
    {
     "data": {
      "text/html": [
       "<div>\n",
       "<table border=\"1\" class=\"dataframe\">\n",
       "  <thead>\n",
       "    <tr style=\"text-align: right;\">\n",
       "      <th></th>\n",
       "      <th>drug_1</th>\n",
       "      <th>drug_2</th>\n",
       "      <th>gex</th>\n",
       "      <th>gex_over_cells</th>\n",
       "      <th>gex_over_genes</th>\n",
       "      <th>unique_id</th>\n",
       "    </tr>\n",
       "  </thead>\n",
       "  <tbody>\n",
       "    <tr>\n",
       "      <th>0</th>\n",
       "      <td>ADAM17</td>\n",
       "      <td>AKT</td>\n",
       "      <td>-0.226604</td>\n",
       "      <td>-0.325814</td>\n",
       "      <td>-0.181756</td>\n",
       "      <td>ADAM17.AKT</td>\n",
       "    </tr>\n",
       "    <tr>\n",
       "      <th>1</th>\n",
       "      <td>ADAM17</td>\n",
       "      <td>AKT_1</td>\n",
       "      <td>-0.278594</td>\n",
       "      <td>-0.353025</td>\n",
       "      <td>-0.228053</td>\n",
       "      <td>ADAM17.AKT_1</td>\n",
       "    </tr>\n",
       "    <tr>\n",
       "      <th>2</th>\n",
       "      <td>ADAM17</td>\n",
       "      <td>AKT_PIK3C</td>\n",
       "      <td>-0.232840</td>\n",
       "      <td>-0.304710</td>\n",
       "      <td>-0.194538</td>\n",
       "      <td>ADAM17.AKT_PIK3C</td>\n",
       "    </tr>\n",
       "    <tr>\n",
       "      <th>3</th>\n",
       "      <td>ADAM17</td>\n",
       "      <td>AKT_SGK</td>\n",
       "      <td>0.071297</td>\n",
       "      <td>-0.329491</td>\n",
       "      <td>0.102825</td>\n",
       "      <td>ADAM17.AKT_SGK</td>\n",
       "    </tr>\n",
       "    <tr>\n",
       "      <th>4</th>\n",
       "      <td>ADAM17</td>\n",
       "      <td>ALK</td>\n",
       "      <td>0.102961</td>\n",
       "      <td>0.102961</td>\n",
       "      <td>0.128368</td>\n",
       "      <td>ADAM17.ALK</td>\n",
       "    </tr>\n",
       "  </tbody>\n",
       "</table>\n",
       "</div>"
      ],
      "text/plain": [
       "   drug_1     drug_2       gex  gex_over_cells  gex_over_genes         unique_id\n",
       "0  ADAM17        AKT -0.226604       -0.325814       -0.181756        ADAM17.AKT\n",
       "1  ADAM17      AKT_1 -0.278594       -0.353025       -0.228053      ADAM17.AKT_1\n",
       "2  ADAM17  AKT_PIK3C -0.232840       -0.304710       -0.194538  ADAM17.AKT_PIK3C\n",
       "3  ADAM17    AKT_SGK  0.071297       -0.329491        0.102825    ADAM17.AKT_SGK\n",
       "4  ADAM17        ALK  0.102961        0.102961        0.128368        ADAM17.ALK"
      ]
     },
     "execution_count": 236,
     "metadata": {},
     "output_type": "execute_result"
    }
   ],
   "source": [
    "drug_corr_all.head()"
   ]
  },
  {
   "cell_type": "code",
   "execution_count": null,
   "metadata": {
    "collapsed": true
   },
   "outputs": [],
   "source": []
  },
  {
   "cell_type": "markdown",
   "metadata": {},
   "source": [
    "## Test with synergy scores"
   ]
  },
  {
   "cell_type": "code",
   "execution_count": 212,
   "metadata": {
    "collapsed": true
   },
   "outputs": [],
   "source": [
    "training_data_by_drugpair = pd.read_sql_table('training_data_by_drugpair', engine)"
   ]
  },
  {
   "cell_type": "code",
   "execution_count": 213,
   "metadata": {
    "collapsed": false
   },
   "outputs": [
    {
     "data": {
      "text/html": [
       "<div>\n",
       "<table border=\"1\" class=\"dataframe\">\n",
       "  <thead>\n",
       "    <tr style=\"text-align: right;\">\n",
       "      <th></th>\n",
       "      <th>COMBINATION_ID</th>\n",
       "      <th>len</th>\n",
       "      <th>mean</th>\n",
       "      <th>mean_unweighted</th>\n",
       "      <th>std</th>\n",
       "      <th>std_unweighted</th>\n",
       "      <th>sum_weight</th>\n",
       "      <th>ste</th>\n",
       "      <th>log_ste</th>\n",
       "      <th>norm_log_ste</th>\n",
       "      <th>confidence</th>\n",
       "    </tr>\n",
       "  </thead>\n",
       "  <tbody>\n",
       "    <tr>\n",
       "      <th>0</th>\n",
       "      <td>ADAM17.AKT</td>\n",
       "      <td>14</td>\n",
       "      <td>9.506099</td>\n",
       "      <td>5.005206</td>\n",
       "      <td>18.090624</td>\n",
       "      <td>23.066728</td>\n",
       "      <td>10.200</td>\n",
       "      <td>4.834923</td>\n",
       "      <td>1.575865</td>\n",
       "      <td>0.374404</td>\n",
       "      <td>0.625596</td>\n",
       "    </tr>\n",
       "    <tr>\n",
       "      <th>1</th>\n",
       "      <td>ADAM17.BCL2_BCL2L1</td>\n",
       "      <td>12</td>\n",
       "      <td>-3.439654</td>\n",
       "      <td>-4.554570</td>\n",
       "      <td>5.543807</td>\n",
       "      <td>6.539051</td>\n",
       "      <td>11.050</td>\n",
       "      <td>1.600359</td>\n",
       "      <td>0.470228</td>\n",
       "      <td>0.000522</td>\n",
       "      <td>0.999478</td>\n",
       "    </tr>\n",
       "    <tr>\n",
       "      <th>2</th>\n",
       "      <td>ADAM17.FGFR</td>\n",
       "      <td>13</td>\n",
       "      <td>-4.934241</td>\n",
       "      <td>-8.917044</td>\n",
       "      <td>17.415001</td>\n",
       "      <td>20.848170</td>\n",
       "      <td>10.150</td>\n",
       "      <td>4.830052</td>\n",
       "      <td>1.574857</td>\n",
       "      <td>0.374063</td>\n",
       "      <td>0.625937</td>\n",
       "    </tr>\n",
       "    <tr>\n",
       "      <th>3</th>\n",
       "      <td>ADAM17.MAP2K_1</td>\n",
       "      <td>13</td>\n",
       "      <td>-1.658434</td>\n",
       "      <td>-6.053760</td>\n",
       "      <td>16.004816</td>\n",
       "      <td>18.690474</td>\n",
       "      <td>11.100</td>\n",
       "      <td>4.438937</td>\n",
       "      <td>1.490415</td>\n",
       "      <td>0.345508</td>\n",
       "      <td>0.654492</td>\n",
       "    </tr>\n",
       "    <tr>\n",
       "      <th>4</th>\n",
       "      <td>ADAM17.MTOR_1</td>\n",
       "      <td>14</td>\n",
       "      <td>9.511901</td>\n",
       "      <td>9.625085</td>\n",
       "      <td>17.444983</td>\n",
       "      <td>15.960108</td>\n",
       "      <td>10.151</td>\n",
       "      <td>4.662368</td>\n",
       "      <td>1.539523</td>\n",
       "      <td>0.362115</td>\n",
       "      <td>0.637885</td>\n",
       "    </tr>\n",
       "  </tbody>\n",
       "</table>\n",
       "</div>"
      ],
      "text/plain": [
       "       COMBINATION_ID  len      mean  mean_unweighted        std  std_unweighted  sum_weight       ste   log_ste  norm_log_ste  confidence\n",
       "0          ADAM17.AKT   14  9.506099         5.005206  18.090624       23.066728      10.200  4.834923  1.575865      0.374404    0.625596\n",
       "1  ADAM17.BCL2_BCL2L1   12 -3.439654        -4.554570   5.543807        6.539051      11.050  1.600359  0.470228      0.000522    0.999478\n",
       "2         ADAM17.FGFR   13 -4.934241        -8.917044  17.415001       20.848170      10.150  4.830052  1.574857      0.374063    0.625937\n",
       "3      ADAM17.MAP2K_1   13 -1.658434        -6.053760  16.004816       18.690474      11.100  4.438937  1.490415      0.345508    0.654492\n",
       "4       ADAM17.MTOR_1   14  9.511901         9.625085  17.444983       15.960108      10.151  4.662368  1.539523      0.362115    0.637885"
      ]
     },
     "execution_count": 213,
     "metadata": {},
     "output_type": "execute_result"
    }
   ],
   "source": [
    "training_data_by_drugpair.head()"
   ]
  },
  {
   "cell_type": "code",
   "execution_count": 214,
   "metadata": {
    "collapsed": false
   },
   "outputs": [
    {
     "data": {
      "text/html": [
       "<div>\n",
       "<table border=\"1\" class=\"dataframe\">\n",
       "  <thead>\n",
       "    <tr style=\"text-align: right;\">\n",
       "      <th></th>\n",
       "      <th>unique_id</th>\n",
       "      <th>synergy_score_mean</th>\n",
       "      <th>synergy_score_std</th>\n",
       "      <th>synergy_score_ste</th>\n",
       "      <th>synergy_score_confidence</th>\n",
       "    </tr>\n",
       "  </thead>\n",
       "  <tbody>\n",
       "    <tr>\n",
       "      <th>0</th>\n",
       "      <td>ADAM17.AKT</td>\n",
       "      <td>9.506099</td>\n",
       "      <td>18.090624</td>\n",
       "      <td>4.834923</td>\n",
       "      <td>0.625596</td>\n",
       "    </tr>\n",
       "    <tr>\n",
       "      <th>1</th>\n",
       "      <td>ADAM17.BCL2_BCL2L1</td>\n",
       "      <td>-3.439654</td>\n",
       "      <td>5.543807</td>\n",
       "      <td>1.600359</td>\n",
       "      <td>0.999478</td>\n",
       "    </tr>\n",
       "    <tr>\n",
       "      <th>2</th>\n",
       "      <td>ADAM17.FGFR</td>\n",
       "      <td>-4.934241</td>\n",
       "      <td>17.415001</td>\n",
       "      <td>4.830052</td>\n",
       "      <td>0.625937</td>\n",
       "    </tr>\n",
       "    <tr>\n",
       "      <th>3</th>\n",
       "      <td>ADAM17.MAP2K_1</td>\n",
       "      <td>-1.658434</td>\n",
       "      <td>16.004816</td>\n",
       "      <td>4.438937</td>\n",
       "      <td>0.654492</td>\n",
       "    </tr>\n",
       "    <tr>\n",
       "      <th>4</th>\n",
       "      <td>ADAM17.MTOR_1</td>\n",
       "      <td>9.511901</td>\n",
       "      <td>17.444983</td>\n",
       "      <td>4.662368</td>\n",
       "      <td>0.637885</td>\n",
       "    </tr>\n",
       "  </tbody>\n",
       "</table>\n",
       "</div>"
      ],
      "text/plain": [
       "            unique_id  synergy_score_mean  synergy_score_std  synergy_score_ste  synergy_score_confidence\n",
       "0          ADAM17.AKT            9.506099          18.090624           4.834923                  0.625596\n",
       "1  ADAM17.BCL2_BCL2L1           -3.439654           5.543807           1.600359                  0.999478\n",
       "2         ADAM17.FGFR           -4.934241          17.415001           4.830052                  0.625937\n",
       "3      ADAM17.MAP2K_1           -1.658434          16.004816           4.438937                  0.654492\n",
       "4       ADAM17.MTOR_1            9.511901          17.444983           4.662368                  0.637885"
      ]
     },
     "execution_count": 214,
     "metadata": {},
     "output_type": "execute_result"
    }
   ],
   "source": [
    "columns = [\n",
    "    'unique_id', 'synergy_score_mean', 'synergy_score_std', 'synergy_score_ste', \n",
    "    'synergy_score_confidence'\n",
    "]\n",
    "synergy_score = (\n",
    "    training_data_by_drugpair.rename(\n",
    "        columns={\n",
    "            'COMBINATION_ID': 'unique_id',\n",
    "            'mean': 'synergy_score_mean',\n",
    "            'std': 'synergy_score_std',\n",
    "            'ste': 'synergy_score_ste',\n",
    "            'confidence': 'synergy_score_confidence'\n",
    "        })\n",
    "    [columns]\n",
    ")\n",
    "synergy_score.head()"
   ]
  },
  {
   "cell_type": "code",
   "execution_count": null,
   "metadata": {
    "collapsed": true
   },
   "outputs": [],
   "source": []
  },
  {
   "cell_type": "markdown",
   "metadata": {},
   "source": [
    "### Merge"
   ]
  },
  {
   "cell_type": "code",
   "execution_count": 237,
   "metadata": {
    "collapsed": true
   },
   "outputs": [],
   "source": [
    "synergy_score_wgex = (\n",
    "    synergy_score\n",
    "    .merge(drug_corr_all, on=['unique_id'])\n",
    ")"
   ]
  },
  {
   "cell_type": "code",
   "execution_count": 239,
   "metadata": {
    "collapsed": false
   },
   "outputs": [
    {
     "data": {
      "text/html": [
       "<div>\n",
       "<table border=\"1\" class=\"dataframe\">\n",
       "  <thead>\n",
       "    <tr style=\"text-align: right;\">\n",
       "      <th></th>\n",
       "      <th>gex</th>\n",
       "      <th>gex_over_cells</th>\n",
       "      <th>gex_over_genes</th>\n",
       "    </tr>\n",
       "  </thead>\n",
       "  <tbody>\n",
       "    <tr>\n",
       "      <th>synergy_score_mean</th>\n",
       "      <td>0.012727</td>\n",
       "      <td>-0.037027</td>\n",
       "      <td>0.020847</td>\n",
       "    </tr>\n",
       "    <tr>\n",
       "      <th>synergy_score_std</th>\n",
       "      <td>-0.083579</td>\n",
       "      <td>-0.097265</td>\n",
       "      <td>-0.074338</td>\n",
       "    </tr>\n",
       "    <tr>\n",
       "      <th>synergy_score_ste</th>\n",
       "      <td>-0.111739</td>\n",
       "      <td>-0.120958</td>\n",
       "      <td>-0.096977</td>\n",
       "    </tr>\n",
       "    <tr>\n",
       "      <th>synergy_score_confidence</th>\n",
       "      <td>0.123014</td>\n",
       "      <td>0.117548</td>\n",
       "      <td>0.107666</td>\n",
       "    </tr>\n",
       "    <tr>\n",
       "      <th>gex</th>\n",
       "      <td>1.000000</td>\n",
       "      <td>0.906233</td>\n",
       "      <td>0.994611</td>\n",
       "    </tr>\n",
       "    <tr>\n",
       "      <th>gex_over_cells</th>\n",
       "      <td>0.906233</td>\n",
       "      <td>1.000000</td>\n",
       "      <td>0.898563</td>\n",
       "    </tr>\n",
       "    <tr>\n",
       "      <th>gex_over_genes</th>\n",
       "      <td>0.994611</td>\n",
       "      <td>0.898563</td>\n",
       "      <td>1.000000</td>\n",
       "    </tr>\n",
       "  </tbody>\n",
       "</table>\n",
       "</div>"
      ],
      "text/plain": [
       "                               gex  gex_over_cells  gex_over_genes\n",
       "synergy_score_mean        0.012727       -0.037027        0.020847\n",
       "synergy_score_std        -0.083579       -0.097265       -0.074338\n",
       "synergy_score_ste        -0.111739       -0.120958       -0.096977\n",
       "synergy_score_confidence  0.123014        0.117548        0.107666\n",
       "gex                       1.000000        0.906233        0.994611\n",
       "gex_over_cells            0.906233        1.000000        0.898563\n",
       "gex_over_genes            0.994611        0.898563        1.000000"
      ]
     },
     "execution_count": 239,
     "metadata": {},
     "output_type": "execute_result"
    }
   ],
   "source": [
    "synergy_score_wgex.corr()[['gex', 'gex_over_cells', 'gex_over_genes']]"
   ]
  },
  {
   "cell_type": "code",
   "execution_count": null,
   "metadata": {
    "collapsed": true
   },
   "outputs": [],
   "source": []
  },
  {
   "cell_type": "code",
   "execution_count": null,
   "metadata": {
    "collapsed": true
   },
   "outputs": [],
   "source": []
  },
  {
   "cell_type": "markdown",
   "metadata": {},
   "source": [
    "# Correlation across cell line + drug pairs"
   ]
  },
  {
   "cell_type": "code",
   "execution_count": 38,
   "metadata": {
    "collapsed": true
   },
   "outputs": [],
   "source": [
    "engine = sa.create_engine('mysql://strokach:@192.168.6.19:3306/az_dream')\n",
    "drug_pair_to_gene_pair = pd.read_sql_table('drug_pair_to_gene_pair', engine)\n",
    "all_cell_line_drug_pairs = pd.read_sql_table('all_cell_line_drug_pairs', engine)"
   ]
  },
  {
   "cell_type": "code",
   "execution_count": 39,
   "metadata": {
    "collapsed": true
   },
   "outputs": [],
   "source": [
    "gene_set = set(drug_pair_to_gene_pair['gene_1']) | set(drug_pair_to_gene_pair['gene_2'])"
   ]
  },
  {
   "cell_type": "code",
   "execution_count": 51,
   "metadata": {
    "collapsed": false
   },
   "outputs": [
    {
     "data": {
      "text/html": [
       "<div>\n",
       "<table border=\"1\" class=\"dataframe\">\n",
       "  <thead>\n",
       "    <tr style=\"text-align: right;\">\n",
       "      <th></th>\n",
       "      <th>CELL_LINE_UNIQUE_ID</th>\n",
       "      <th>CELL_LINE</th>\n",
       "      <th>COMPOUND_A</th>\n",
       "      <th>COMPOUND_B</th>\n",
       "    </tr>\n",
       "  </thead>\n",
       "  <tbody>\n",
       "    <tr>\n",
       "      <th>0</th>\n",
       "      <td>BT-20.ADAM17.AKT</td>\n",
       "      <td>BT-20</td>\n",
       "      <td>ADAM17</td>\n",
       "      <td>AKT</td>\n",
       "    </tr>\n",
       "    <tr>\n",
       "      <th>1</th>\n",
       "      <td>BT-20.ADAM17.AKT_1</td>\n",
       "      <td>BT-20</td>\n",
       "      <td>ADAM17</td>\n",
       "      <td>AKT_1</td>\n",
       "    </tr>\n",
       "    <tr>\n",
       "      <th>2</th>\n",
       "      <td>BT-20.ADAM17.AKT_PIK3C</td>\n",
       "      <td>BT-20</td>\n",
       "      <td>ADAM17</td>\n",
       "      <td>AKT_PIK3C</td>\n",
       "    </tr>\n",
       "    <tr>\n",
       "      <th>3</th>\n",
       "      <td>BT-20.ADAM17.AKT_SGK</td>\n",
       "      <td>BT-20</td>\n",
       "      <td>ADAM17</td>\n",
       "      <td>AKT_SGK</td>\n",
       "    </tr>\n",
       "    <tr>\n",
       "      <th>4</th>\n",
       "      <td>BT-20.ADAM17.ALK</td>\n",
       "      <td>BT-20</td>\n",
       "      <td>ADAM17</td>\n",
       "      <td>ALK</td>\n",
       "    </tr>\n",
       "  </tbody>\n",
       "</table>\n",
       "</div>"
      ],
      "text/plain": [
       "      CELL_LINE_UNIQUE_ID CELL_LINE COMPOUND_A COMPOUND_B\n",
       "0        BT-20.ADAM17.AKT     BT-20     ADAM17        AKT\n",
       "1      BT-20.ADAM17.AKT_1     BT-20     ADAM17      AKT_1\n",
       "2  BT-20.ADAM17.AKT_PIK3C     BT-20     ADAM17  AKT_PIK3C\n",
       "3    BT-20.ADAM17.AKT_SGK     BT-20     ADAM17    AKT_SGK\n",
       "4        BT-20.ADAM17.ALK     BT-20     ADAM17        ALK"
      ]
     },
     "execution_count": 51,
     "metadata": {},
     "output_type": "execute_result"
    }
   ],
   "source": [
    "all_cell_line_drug_pairs.head()"
   ]
  },
  {
   "cell_type": "code",
   "execution_count": 47,
   "metadata": {
    "collapsed": false
   },
   "outputs": [
    {
     "data": {
      "text/html": [
       "<div>\n",
       "<table border=\"1\" class=\"dataframe\">\n",
       "  <thead>\n",
       "    <tr style=\"text-align: right;\">\n",
       "      <th></th>\n",
       "      <th>UNIQUE_ID</th>\n",
       "      <th>COMPOUND_A</th>\n",
       "      <th>COMPOUND_B</th>\n",
       "      <th>gene_1</th>\n",
       "      <th>gene_2</th>\n",
       "      <th>gene_pair</th>\n",
       "    </tr>\n",
       "  </thead>\n",
       "  <tbody>\n",
       "    <tr>\n",
       "      <th>0</th>\n",
       "      <td>ADAM17.AKT</td>\n",
       "      <td>ADAM17</td>\n",
       "      <td>AKT</td>\n",
       "      <td>ADAM17</td>\n",
       "      <td>AKT1</td>\n",
       "      <td>ADAM17,AKT1</td>\n",
       "    </tr>\n",
       "    <tr>\n",
       "      <th>1</th>\n",
       "      <td>ADAM17.AKT</td>\n",
       "      <td>ADAM17</td>\n",
       "      <td>AKT</td>\n",
       "      <td>ADAM17</td>\n",
       "      <td>AKT2</td>\n",
       "      <td>ADAM17,AKT2</td>\n",
       "    </tr>\n",
       "    <tr>\n",
       "      <th>2</th>\n",
       "      <td>ADAM17.AKT</td>\n",
       "      <td>ADAM17</td>\n",
       "      <td>AKT</td>\n",
       "      <td>ADAM17</td>\n",
       "      <td>AKT3</td>\n",
       "      <td>ADAM17,AKT3</td>\n",
       "    </tr>\n",
       "    <tr>\n",
       "      <th>3</th>\n",
       "      <td>ADAM17.AKT_1</td>\n",
       "      <td>ADAM17</td>\n",
       "      <td>AKT_1</td>\n",
       "      <td>ADAM17</td>\n",
       "      <td>AKT1</td>\n",
       "      <td>ADAM17,AKT1</td>\n",
       "    </tr>\n",
       "    <tr>\n",
       "      <th>4</th>\n",
       "      <td>ADAM17.AKT_1</td>\n",
       "      <td>ADAM17</td>\n",
       "      <td>AKT_1</td>\n",
       "      <td>ADAM17</td>\n",
       "      <td>AKT1S1</td>\n",
       "      <td>ADAM17,AKT1S1</td>\n",
       "    </tr>\n",
       "  </tbody>\n",
       "</table>\n",
       "</div>"
      ],
      "text/plain": [
       "      UNIQUE_ID COMPOUND_A COMPOUND_B  gene_1  gene_2      gene_pair\n",
       "0    ADAM17.AKT     ADAM17        AKT  ADAM17    AKT1    ADAM17,AKT1\n",
       "1    ADAM17.AKT     ADAM17        AKT  ADAM17    AKT2    ADAM17,AKT2\n",
       "2    ADAM17.AKT     ADAM17        AKT  ADAM17    AKT3    ADAM17,AKT3\n",
       "3  ADAM17.AKT_1     ADAM17      AKT_1  ADAM17    AKT1    ADAM17,AKT1\n",
       "4  ADAM17.AKT_1     ADAM17      AKT_1  ADAM17  AKT1S1  ADAM17,AKT1S1"
      ]
     },
     "execution_count": 47,
     "metadata": {},
     "output_type": "execute_result"
    }
   ],
   "source": [
    "drug_pair_to_gene_pair.head()"
   ]
  },
  {
   "cell_type": "code",
   "execution_count": 56,
   "metadata": {
    "collapsed": false
   },
   "outputs": [
    {
     "data": {
      "text/html": [
       "<div>\n",
       "<table border=\"1\" class=\"dataframe\">\n",
       "  <thead>\n",
       "    <tr style=\"text-align: right;\">\n",
       "      <th></th>\n",
       "      <th>gene</th>\n",
       "      <th>cell_line</th>\n",
       "      <th>gex</th>\n",
       "      <th>gex_over_cells</th>\n",
       "      <th>gex_over_genes</th>\n",
       "    </tr>\n",
       "  </thead>\n",
       "  <tbody>\n",
       "    <tr>\n",
       "      <th>0</th>\n",
       "      <td>A1BG</td>\n",
       "      <td>22RV1</td>\n",
       "      <td>3.530584</td>\n",
       "      <td>-0.599778</td>\n",
       "      <td>-0.612827</td>\n",
       "    </tr>\n",
       "    <tr>\n",
       "      <th>1</th>\n",
       "      <td>A1CF</td>\n",
       "      <td>22RV1</td>\n",
       "      <td>6.364383</td>\n",
       "      <td>3.442345</td>\n",
       "      <td>0.718647</td>\n",
       "    </tr>\n",
       "    <tr>\n",
       "      <th>2</th>\n",
       "      <td>A2M</td>\n",
       "      <td>22RV1</td>\n",
       "      <td>5.333116</td>\n",
       "      <td>0.848609</td>\n",
       "      <td>0.234101</td>\n",
       "    </tr>\n",
       "    <tr>\n",
       "      <th>3</th>\n",
       "      <td>A2ML1</td>\n",
       "      <td>22RV1</td>\n",
       "      <td>2.907726</td>\n",
       "      <td>-0.148586</td>\n",
       "      <td>-0.905480</td>\n",
       "    </tr>\n",
       "    <tr>\n",
       "      <th>4</th>\n",
       "      <td>A3GALT2P</td>\n",
       "      <td>22RV1</td>\n",
       "      <td>2.815383</td>\n",
       "      <td>-0.141800</td>\n",
       "      <td>-0.948868</td>\n",
       "    </tr>\n",
       "  </tbody>\n",
       "</table>\n",
       "</div>"
      ],
      "text/plain": [
       "       gene cell_line       gex  gex_over_cells  gex_over_genes\n",
       "0      A1BG     22RV1  3.530584       -0.599778       -0.612827\n",
       "1      A1CF     22RV1  6.364383        3.442345        0.718647\n",
       "2       A2M     22RV1  5.333116        0.848609        0.234101\n",
       "3     A2ML1     22RV1  2.907726       -0.148586       -0.905480\n",
       "4  A3GALT2P     22RV1  2.815383       -0.141800       -0.948868"
      ]
     },
     "execution_count": 56,
     "metadata": {},
     "output_type": "execute_result"
    }
   ],
   "source": [
    "gex_melted_all.head()"
   ]
  },
  {
   "cell_type": "code",
   "execution_count": null,
   "metadata": {
    "collapsed": true
   },
   "outputs": [],
   "source": [
    "cell_line_drug_pair_gex = (\n",
    "    all_cell_line_drug_pairs\n",
    "    .merge(drug_pair_to_gene_pair, on=['COMPOUND_A', 'COMPOUND_B'])\n",
    "    .merge(gex_melted_all\n",
    "               .rename(columns={'cell_line': 'CELL_LINE', 'gene': 'gene_1'}), \n",
    "           on=['CELL_LINE', 'gene_1'])\n",
    "    .merge(gex_melted_all\n",
    "               .rename(columns={'cell_line': 'CELL_LINE', 'gene': 'gene_2'}),\n",
    "           on=['CELL_LINE', 'gene_2'], suffixes=('_1', '_2'))\n",
    ")"
   ]
  },
  {
   "cell_type": "code",
   "execution_count": null,
   "metadata": {
    "collapsed": true
   },
   "outputs": [],
   "source": []
  },
  {
   "cell_type": "code",
   "execution_count": 64,
   "metadata": {
    "collapsed": true
   },
   "outputs": [],
   "source": [
    "cell_line_drug_pair_gex['gex_mean'] = (\n",
    "    (cell_line_drug_pair_gex['gex_1'] + cell_line_drug_pair_gex['gex_2']) / 2\n",
    ")\n",
    "cell_line_drug_pair_gex['gex_over_cells_mean'] = (\n",
    "    (cell_line_drug_pair_gex['gex_over_cells_1'] + cell_line_drug_pair_gex['gex_over_cells_2']) / 2\n",
    ")\n",
    "cell_line_drug_pair_gex['gex_over_genes_mean'] = (\n",
    "    (cell_line_drug_pair_gex['gex_over_genes_1'] + cell_line_drug_pair_gex['gex_over_genes_2']) / 2\n",
    ")"
   ]
  },
  {
   "cell_type": "code",
   "execution_count": 62,
   "metadata": {
    "collapsed": false
   },
   "outputs": [],
   "source": [
    "cell_line_drug_pair_gex['gex_diff'] = (\n",
    "    (cell_line_drug_pair_gex['gex_1'] - cell_line_drug_pair_gex['gex_2']).apply(abs)\n",
    ")\n",
    "cell_line_drug_pair_gex['gex_over_cells_diff'] = (\n",
    "    (cell_line_drug_pair_gex['gex_over_cells_1'] - cell_line_drug_pair_gex['gex_over_cells_2']).abs()\n",
    ")\n",
    "cell_line_drug_pair_gex['gex_over_genes_diff'] = (\n",
    "    (cell_line_drug_pair_gex['gex_over_genes_1'] - cell_line_drug_pair_gex['gex_over_genes_2']).abs()\n",
    ")"
   ]
  },
  {
   "cell_type": "code",
   "execution_count": 65,
   "metadata": {
    "collapsed": false
   },
   "outputs": [
    {
     "data": {
      "text/html": [
       "<div>\n",
       "<table border=\"1\" class=\"dataframe\">\n",
       "  <thead>\n",
       "    <tr style=\"text-align: right;\">\n",
       "      <th></th>\n",
       "      <th>CELL_LINE_UNIQUE_ID</th>\n",
       "      <th>CELL_LINE</th>\n",
       "      <th>COMPOUND_A</th>\n",
       "      <th>COMPOUND_B</th>\n",
       "      <th>UNIQUE_ID</th>\n",
       "      <th>gene_1</th>\n",
       "      <th>gene_2</th>\n",
       "      <th>gene_pair</th>\n",
       "      <th>gex_1</th>\n",
       "      <th>gex_over_cells_1</th>\n",
       "      <th>gex_over_genes_1</th>\n",
       "      <th>gex_2</th>\n",
       "      <th>gex_over_cells_2</th>\n",
       "      <th>gex_over_genes_2</th>\n",
       "      <th>gex_diff</th>\n",
       "      <th>gex_over_cells_diff</th>\n",
       "      <th>gex_over_genes_diff</th>\n",
       "      <th>gex_mean</th>\n",
       "      <th>gex_over_cells_mean</th>\n",
       "      <th>gex_over_genes_mean</th>\n",
       "    </tr>\n",
       "  </thead>\n",
       "  <tbody>\n",
       "    <tr>\n",
       "      <th>0</th>\n",
       "      <td>BT-20.ADAM17.AKT</td>\n",
       "      <td>BT-20</td>\n",
       "      <td>ADAM17</td>\n",
       "      <td>AKT</td>\n",
       "      <td>ADAM17.AKT</td>\n",
       "      <td>ADAM17</td>\n",
       "      <td>AKT1</td>\n",
       "      <td>ADAM17,AKT1</td>\n",
       "      <td>5.182499</td>\n",
       "      <td>0.695226</td>\n",
       "      <td>0.161445</td>\n",
       "      <td>4.555038</td>\n",
       "      <td>-0.317165</td>\n",
       "      <td>-0.129186</td>\n",
       "      <td>0.627461</td>\n",
       "      <td>1.012392</td>\n",
       "      <td>0.290631</td>\n",
       "      <td>4.868769</td>\n",
       "      <td>0.189031</td>\n",
       "      <td>0.01613</td>\n",
       "    </tr>\n",
       "    <tr>\n",
       "      <th>1</th>\n",
       "      <td>BT-20.ADAM17.AKT_1</td>\n",
       "      <td>BT-20</td>\n",
       "      <td>ADAM17</td>\n",
       "      <td>AKT_1</td>\n",
       "      <td>ADAM17.AKT_1</td>\n",
       "      <td>ADAM17</td>\n",
       "      <td>AKT1</td>\n",
       "      <td>ADAM17,AKT1</td>\n",
       "      <td>5.182499</td>\n",
       "      <td>0.695226</td>\n",
       "      <td>0.161445</td>\n",
       "      <td>4.555038</td>\n",
       "      <td>-0.317165</td>\n",
       "      <td>-0.129186</td>\n",
       "      <td>0.627461</td>\n",
       "      <td>1.012392</td>\n",
       "      <td>0.290631</td>\n",
       "      <td>4.868769</td>\n",
       "      <td>0.189031</td>\n",
       "      <td>0.01613</td>\n",
       "    </tr>\n",
       "    <tr>\n",
       "      <th>2</th>\n",
       "      <td>BT-20.ADAM17.AKT_PIK3C</td>\n",
       "      <td>BT-20</td>\n",
       "      <td>ADAM17</td>\n",
       "      <td>AKT_PIK3C</td>\n",
       "      <td>ADAM17.AKT_PIK3C</td>\n",
       "      <td>ADAM17</td>\n",
       "      <td>AKT1</td>\n",
       "      <td>ADAM17,AKT1</td>\n",
       "      <td>5.182499</td>\n",
       "      <td>0.695226</td>\n",
       "      <td>0.161445</td>\n",
       "      <td>4.555038</td>\n",
       "      <td>-0.317165</td>\n",
       "      <td>-0.129186</td>\n",
       "      <td>0.627461</td>\n",
       "      <td>1.012392</td>\n",
       "      <td>0.290631</td>\n",
       "      <td>4.868769</td>\n",
       "      <td>0.189031</td>\n",
       "      <td>0.01613</td>\n",
       "    </tr>\n",
       "    <tr>\n",
       "      <th>3</th>\n",
       "      <td>BT-20.ADAM17.AKT_SGK</td>\n",
       "      <td>BT-20</td>\n",
       "      <td>ADAM17</td>\n",
       "      <td>AKT_SGK</td>\n",
       "      <td>ADAM17.AKT_SGK</td>\n",
       "      <td>ADAM17</td>\n",
       "      <td>AKT1</td>\n",
       "      <td>ADAM17,AKT1</td>\n",
       "      <td>5.182499</td>\n",
       "      <td>0.695226</td>\n",
       "      <td>0.161445</td>\n",
       "      <td>4.555038</td>\n",
       "      <td>-0.317165</td>\n",
       "      <td>-0.129186</td>\n",
       "      <td>0.627461</td>\n",
       "      <td>1.012392</td>\n",
       "      <td>0.290631</td>\n",
       "      <td>4.868769</td>\n",
       "      <td>0.189031</td>\n",
       "      <td>0.01613</td>\n",
       "    </tr>\n",
       "    <tr>\n",
       "      <th>4</th>\n",
       "      <td>BT-20.ADAM17.Carboplatin</td>\n",
       "      <td>BT-20</td>\n",
       "      <td>ADAM17</td>\n",
       "      <td>Carboplatin</td>\n",
       "      <td>ADAM17.Carboplatin</td>\n",
       "      <td>ADAM17</td>\n",
       "      <td>AKT1</td>\n",
       "      <td>ADAM17,AKT1</td>\n",
       "      <td>5.182499</td>\n",
       "      <td>0.695226</td>\n",
       "      <td>0.161445</td>\n",
       "      <td>4.555038</td>\n",
       "      <td>-0.317165</td>\n",
       "      <td>-0.129186</td>\n",
       "      <td>0.627461</td>\n",
       "      <td>1.012392</td>\n",
       "      <td>0.290631</td>\n",
       "      <td>4.868769</td>\n",
       "      <td>0.189031</td>\n",
       "      <td>0.01613</td>\n",
       "    </tr>\n",
       "  </tbody>\n",
       "</table>\n",
       "</div>"
      ],
      "text/plain": [
       "        CELL_LINE_UNIQUE_ID CELL_LINE COMPOUND_A   COMPOUND_B           UNIQUE_ID  gene_1 gene_2    gene_pair     gex_1  gex_over_cells_1  gex_over_genes_1     gex_2  gex_over_cells_2  gex_over_genes_2  gex_diff  gex_over_cells_diff  gex_over_genes_diff  gex_mean  gex_over_cells_mean  gex_over_genes_mean\n",
       "0          BT-20.ADAM17.AKT     BT-20     ADAM17          AKT          ADAM17.AKT  ADAM17   AKT1  ADAM17,AKT1  5.182499          0.695226          0.161445  4.555038         -0.317165         -0.129186  0.627461             1.012392             0.290631  4.868769             0.189031              0.01613\n",
       "1        BT-20.ADAM17.AKT_1     BT-20     ADAM17        AKT_1        ADAM17.AKT_1  ADAM17   AKT1  ADAM17,AKT1  5.182499          0.695226          0.161445  4.555038         -0.317165         -0.129186  0.627461             1.012392             0.290631  4.868769             0.189031              0.01613\n",
       "2    BT-20.ADAM17.AKT_PIK3C     BT-20     ADAM17    AKT_PIK3C    ADAM17.AKT_PIK3C  ADAM17   AKT1  ADAM17,AKT1  5.182499          0.695226          0.161445  4.555038         -0.317165         -0.129186  0.627461             1.012392             0.290631  4.868769             0.189031              0.01613\n",
       "3      BT-20.ADAM17.AKT_SGK     BT-20     ADAM17      AKT_SGK      ADAM17.AKT_SGK  ADAM17   AKT1  ADAM17,AKT1  5.182499          0.695226          0.161445  4.555038         -0.317165         -0.129186  0.627461             1.012392             0.290631  4.868769             0.189031              0.01613\n",
       "4  BT-20.ADAM17.Carboplatin     BT-20     ADAM17  Carboplatin  ADAM17.Carboplatin  ADAM17   AKT1  ADAM17,AKT1  5.182499          0.695226          0.161445  4.555038         -0.317165         -0.129186  0.627461             1.012392             0.290631  4.868769             0.189031              0.01613"
      ]
     },
     "execution_count": 65,
     "metadata": {},
     "output_type": "execute_result"
    }
   ],
   "source": [
    "cell_line_drug_pair_gex.head()"
   ]
  },
  {
   "cell_type": "code",
   "execution_count": null,
   "metadata": {
    "collapsed": true
   },
   "outputs": [],
   "source": []
  },
  {
   "cell_type": "code",
   "execution_count": 67,
   "metadata": {
    "collapsed": true
   },
   "outputs": [],
   "source": [
    "columns = [\n",
    "    'gex_mean', 'gex_over_cells_mean', 'gex_over_genes_mean',\n",
    "    'gex_diff', 'gex_over_cells_diff', 'gex_over_genes_diff',\n",
    "]"
   ]
  },
  {
   "cell_type": "code",
   "execution_count": 69,
   "metadata": {
    "collapsed": false
   },
   "outputs": [],
   "source": [
    "cell_line_drug_pair_gex_gp = cell_line_drug_pair_gex.groupby(['CELL_LINE_UNIQUE_ID', 'UNIQUE_ID'])"
   ]
  },
  {
   "cell_type": "code",
   "execution_count": 70,
   "metadata": {
    "collapsed": true
   },
   "outputs": [],
   "source": [
    "cell_line_drug_pair_gex_gp_subset = cell_line_drug_pair_gex_gp[columns]"
   ]
  },
  {
   "cell_type": "code",
   "execution_count": 73,
   "metadata": {
    "collapsed": true
   },
   "outputs": [],
   "source": [
    "df = cell_line_drug_pair_gex_gp_subset.agg([np.mean, np.std])"
   ]
  },
  {
   "cell_type": "code",
   "execution_count": 104,
   "metadata": {
    "collapsed": false
   },
   "outputs": [],
   "source": [
    "df2 = df.reset_index()"
   ]
  },
  {
   "cell_type": "code",
   "execution_count": 105,
   "metadata": {
    "collapsed": false
   },
   "outputs": [],
   "source": [
    "df2.columns = [x[0] if not x[1] or x[1] == 'mean' else '_'.join(x) for x in df2.columns.values]"
   ]
  },
  {
   "cell_type": "code",
   "execution_count": 106,
   "metadata": {
    "collapsed": false
   },
   "outputs": [
    {
     "data": {
      "text/html": [
       "<div>\n",
       "<table border=\"1\" class=\"dataframe\">\n",
       "  <thead>\n",
       "    <tr style=\"text-align: right;\">\n",
       "      <th></th>\n",
       "      <th>CELL_LINE_UNIQUE_ID</th>\n",
       "      <th>UNIQUE_ID</th>\n",
       "      <th>gex_mean</th>\n",
       "      <th>gex_mean_std</th>\n",
       "      <th>gex_over_cells_mean</th>\n",
       "      <th>gex_over_cells_mean_std</th>\n",
       "      <th>gex_over_genes_mean</th>\n",
       "      <th>gex_over_genes_mean_std</th>\n",
       "      <th>gex_diff</th>\n",
       "      <th>gex_diff_std</th>\n",
       "      <th>gex_over_cells_diff</th>\n",
       "      <th>gex_over_cells_diff_std</th>\n",
       "      <th>gex_over_genes_diff</th>\n",
       "      <th>gex_over_genes_diff_std</th>\n",
       "    </tr>\n",
       "  </thead>\n",
       "  <tbody>\n",
       "    <tr>\n",
       "      <th>0</th>\n",
       "      <td>22RV1.ADAM17.AKT</td>\n",
       "      <td>ADAM17.AKT</td>\n",
       "      <td>3.983331</td>\n",
       "      <td>0.419430</td>\n",
       "      <td>-0.852319</td>\n",
       "      <td>0.170910</td>\n",
       "      <td>-0.400102</td>\n",
       "      <td>0.197071</td>\n",
       "      <td>0.761661</td>\n",
       "      <td>0.507447</td>\n",
       "      <td>0.796444</td>\n",
       "      <td>0.341820</td>\n",
       "      <td>0.357870</td>\n",
       "      <td>0.238427</td>\n",
       "    </tr>\n",
       "    <tr>\n",
       "      <th>1</th>\n",
       "      <td>22RV1.ADAM17.AKT_1</td>\n",
       "      <td>ADAM17.AKT_1</td>\n",
       "      <td>4.033532</td>\n",
       "      <td>0.355844</td>\n",
       "      <td>-0.527693</td>\n",
       "      <td>0.473387</td>\n",
       "      <td>-0.376515</td>\n",
       "      <td>0.167195</td>\n",
       "      <td>0.665423</td>\n",
       "      <td>0.430701</td>\n",
       "      <td>1.445695</td>\n",
       "      <td>0.946775</td>\n",
       "      <td>0.312652</td>\n",
       "      <td>0.202367</td>\n",
       "    </tr>\n",
       "    <tr>\n",
       "      <th>2</th>\n",
       "      <td>22RV1.ADAM17.AKT_PIK3C</td>\n",
       "      <td>ADAM17.AKT_PIK3C</td>\n",
       "      <td>4.276006</td>\n",
       "      <td>0.717799</td>\n",
       "      <td>-0.727756</td>\n",
       "      <td>0.410221</td>\n",
       "      <td>-0.262587</td>\n",
       "      <td>0.337261</td>\n",
       "      <td>1.050359</td>\n",
       "      <td>0.932132</td>\n",
       "      <td>1.062747</td>\n",
       "      <td>0.796171</td>\n",
       "      <td>0.493516</td>\n",
       "      <td>0.437967</td>\n",
       "    </tr>\n",
       "    <tr>\n",
       "      <th>3</th>\n",
       "      <td>22RV1.ADAM17.AKT_SGK</td>\n",
       "      <td>ADAM17.AKT_SGK</td>\n",
       "      <td>3.996116</td>\n",
       "      <td>0.290212</td>\n",
       "      <td>-0.657144</td>\n",
       "      <td>0.437626</td>\n",
       "      <td>-0.394095</td>\n",
       "      <td>0.136357</td>\n",
       "      <td>0.652446</td>\n",
       "      <td>0.378311</td>\n",
       "      <td>1.186793</td>\n",
       "      <td>0.875253</td>\n",
       "      <td>0.306555</td>\n",
       "      <td>0.177751</td>\n",
       "    </tr>\n",
       "    <tr>\n",
       "      <th>4</th>\n",
       "      <td>22RV1.ADAM17.ALK</td>\n",
       "      <td>ADAM17.ALK</td>\n",
       "      <td>3.772558</td>\n",
       "      <td>NaN</td>\n",
       "      <td>-0.564248</td>\n",
       "      <td>NaN</td>\n",
       "      <td>-0.499135</td>\n",
       "      <td>NaN</td>\n",
       "      <td>0.953215</td>\n",
       "      <td>NaN</td>\n",
       "      <td>1.372586</td>\n",
       "      <td>NaN</td>\n",
       "      <td>0.447872</td>\n",
       "      <td>NaN</td>\n",
       "    </tr>\n",
       "  </tbody>\n",
       "</table>\n",
       "</div>"
      ],
      "text/plain": [
       "      CELL_LINE_UNIQUE_ID         UNIQUE_ID  gex_mean  gex_mean_std  gex_over_cells_mean  gex_over_cells_mean_std  gex_over_genes_mean  gex_over_genes_mean_std  gex_diff  gex_diff_std  gex_over_cells_diff  gex_over_cells_diff_std  gex_over_genes_diff  gex_over_genes_diff_std\n",
       "0        22RV1.ADAM17.AKT        ADAM17.AKT  3.983331      0.419430            -0.852319                 0.170910            -0.400102                 0.197071  0.761661      0.507447             0.796444                 0.341820             0.357870                 0.238427\n",
       "1      22RV1.ADAM17.AKT_1      ADAM17.AKT_1  4.033532      0.355844            -0.527693                 0.473387            -0.376515                 0.167195  0.665423      0.430701             1.445695                 0.946775             0.312652                 0.202367\n",
       "2  22RV1.ADAM17.AKT_PIK3C  ADAM17.AKT_PIK3C  4.276006      0.717799            -0.727756                 0.410221            -0.262587                 0.337261  1.050359      0.932132             1.062747                 0.796171             0.493516                 0.437967\n",
       "3    22RV1.ADAM17.AKT_SGK    ADAM17.AKT_SGK  3.996116      0.290212            -0.657144                 0.437626            -0.394095                 0.136357  0.652446      0.378311             1.186793                 0.875253             0.306555                 0.177751\n",
       "4        22RV1.ADAM17.ALK        ADAM17.ALK  3.772558           NaN            -0.564248                      NaN            -0.499135                      NaN  0.953215           NaN             1.372586                      NaN             0.447872                      NaN"
      ]
     },
     "execution_count": 106,
     "metadata": {},
     "output_type": "execute_result"
    }
   ],
   "source": [
    "df2.head()"
   ]
  },
  {
   "cell_type": "code",
   "execution_count": null,
   "metadata": {
    "collapsed": true
   },
   "outputs": [],
   "source": []
  },
  {
   "cell_type": "markdown",
   "metadata": {},
   "source": [
    "## Test with synergy scores"
   ]
  },
  {
   "cell_type": "code",
   "execution_count": 130,
   "metadata": {
    "collapsed": true
   },
   "outputs": [],
   "source": [
    "training_data = pd.read_sql_table('training_data', engine)"
   ]
  },
  {
   "cell_type": "code",
   "execution_count": 138,
   "metadata": {
    "collapsed": false
   },
   "outputs": [],
   "source": [
    "training_data['CELL_LINE_UNIQUE_ID'] = training_data['CELL_LINE'] + '.' + training_data['COMBINATION_ID']\n",
    "training_data_2 = training_data[training_data['QA'] == 1]\n",
    "training_data_3 = (\n",
    "    training_data_2[['CELL_LINE_UNIQUE_ID', 'SYNERGY_SCORE']]\n",
    "    .merge(df2, on=['CELL_LINE_UNIQUE_ID'])\n",
    ")"
   ]
  },
  {
   "cell_type": "code",
   "execution_count": 142,
   "metadata": {
    "collapsed": false
   },
   "outputs": [
    {
     "data": {
      "text/plain": [
       "SYNERGY_SCORE              1.000000\n",
       "gex_over_cells_diff        0.080109\n",
       "gex_diff                   0.066158\n",
       "gex_over_genes_diff        0.065961\n",
       "gex_diff_std               0.048701\n",
       "gex_over_genes_diff_std    0.048438\n",
       "gex_over_cells_mean        0.035071\n",
       "gex_over_cells_diff_std    0.034728\n",
       "gex_mean_std               0.031343\n",
       "gex_over_genes_mean_std    0.031042\n",
       "gex_over_cells_mean_std    0.030911\n",
       "gex_mean                   0.029497\n",
       "gex_over_genes_mean        0.029469\n",
       "Name: SYNERGY_SCORE, dtype: float64"
      ]
     },
     "execution_count": 142,
     "metadata": {},
     "output_type": "execute_result"
    }
   ],
   "source": [
    "training_data_3.corr()['SYNERGY_SCORE'].sort_values(ascending=False)"
   ]
  },
  {
   "cell_type": "code",
   "execution_count": null,
   "metadata": {
    "collapsed": true
   },
   "outputs": [],
   "source": [
    "training_data_2 = (\n",
    "    training_data\n",
    "    .merge(df2.rename())\n",
    ")"
   ]
  },
  {
   "cell_type": "code",
   "execution_count": null,
   "metadata": {
    "collapsed": true
   },
   "outputs": [],
   "source": []
  },
  {
   "cell_type": "code",
   "execution_count": null,
   "metadata": {
    "collapsed": true,
    "hide_input": false,
    "hide_output": false,
    "run_control": {
     "marked": false
    }
   },
   "outputs": [],
   "source": []
  },
  {
   "cell_type": "code",
   "execution_count": null,
   "metadata": {
    "collapsed": true,
    "run_control": {
     "marked": false
    }
   },
   "outputs": [],
   "source": []
  },
  {
   "cell_type": "code",
   "execution_count": 240,
   "metadata": {
    "collapsed": false,
    "hide_input": false,
    "hide_output": false,
    "run_control": {
     "marked": false
    }
   },
   "outputs": [
    {
     "data": {
      "text/html": [
       "<div>\n",
       "<table border=\"1\" class=\"dataframe\">\n",
       "  <thead>\n",
       "    <tr style=\"text-align: right;\">\n",
       "      <th></th>\n",
       "      <th>22RV1</th>\n",
       "      <th>647-V</th>\n",
       "      <th>A549</th>\n",
       "      <th>BFTC-905</th>\n",
       "      <th>BT-20</th>\n",
       "      <th>BT-474</th>\n",
       "      <th>BT-549</th>\n",
       "      <th>C32</th>\n",
       "      <th>CAL-120</th>\n",
       "      <th>CAL-148</th>\n",
       "      <th>CAL-51</th>\n",
       "      <th>CAMA-1</th>\n",
       "      <th>COLO-205</th>\n",
       "      <th>Calu-3</th>\n",
       "      <th>Calu-6</th>\n",
       "      <th>DMS-114</th>\n",
       "      <th>DU-4475</th>\n",
       "      <th>EVSA-T</th>\n",
       "      <th>HCC1143</th>\n",
       "      <th>HCC1187</th>\n",
       "      <th>HCC1395</th>\n",
       "      <th>HCC1419</th>\n",
       "      <th>HCC1428</th>\n",
       "      <th>HCC1500</th>\n",
       "      <th>HCC1569</th>\n",
       "      <th>HCC1806</th>\n",
       "      <th>HCC1937</th>\n",
       "      <th>HCC1954</th>\n",
       "      <th>HCC38</th>\n",
       "      <th>HCC70</th>\n",
       "      <th>HCT-116</th>\n",
       "      <th>HT-1197</th>\n",
       "      <th>HT-1376</th>\n",
       "      <th>HT-29</th>\n",
       "      <th>Hs-578-T</th>\n",
       "      <th>J82</th>\n",
       "      <th>KATOIII</th>\n",
       "      <th>KMS-11</th>\n",
       "      <th>KU-19-19</th>\n",
       "      <th>LS-513</th>\n",
       "      <th>M14</th>\n",
       "      <th>MCF7</th>\n",
       "      <th>MDA-MB-157</th>\n",
       "      <th>MDA-MB-231</th>\n",
       "      <th>MDA-MB-361</th>\n",
       "      <th>MDA-MB-415</th>\n",
       "      <th>MDA-MB-436</th>\n",
       "      <th>MDA-MB-453</th>\n",
       "      <th>MDA-MB-468</th>\n",
       "      <th>MFM-223</th>\n",
       "      <th>NCI-H1299</th>\n",
       "      <th>NCI-H1563</th>\n",
       "      <th>NCI-H1703</th>\n",
       "      <th>NCI-H1793</th>\n",
       "      <th>NCI-H1975</th>\n",
       "      <th>NCI-H2085</th>\n",
       "      <th>NCI-H2170</th>\n",
       "      <th>NCI-H2228</th>\n",
       "      <th>NCI-H226</th>\n",
       "      <th>NCI-H2291</th>\n",
       "      <th>NCI-H23</th>\n",
       "      <th>NCI-H3122</th>\n",
       "      <th>NCI-H358</th>\n",
       "      <th>NCI-H520</th>\n",
       "      <th>NCI-H522</th>\n",
       "      <th>NCI-H747</th>\n",
       "      <th>NCI-H838</th>\n",
       "      <th>NCI-SNU-16</th>\n",
       "      <th>RKO</th>\n",
       "      <th>RT4</th>\n",
       "      <th>SW48</th>\n",
       "      <th>SW620</th>\n",
       "      <th>SW780</th>\n",
       "      <th>SW837</th>\n",
       "      <th>SW900</th>\n",
       "      <th>SW948</th>\n",
       "      <th>T-24</th>\n",
       "      <th>T47D</th>\n",
       "      <th>TCCSUP</th>\n",
       "      <th>UACC-812</th>\n",
       "      <th>UM-UC-3</th>\n",
       "      <th>VCaP</th>\n",
       "      <th>VM-CUB-1</th>\n",
       "    </tr>\n",
       "  </thead>\n",
       "  <tbody>\n",
       "    <tr>\n",
       "      <th>A1BG</th>\n",
       "      <td>3.530584</td>\n",
       "      <td>2.788878</td>\n",
       "      <td>5.351535</td>\n",
       "      <td>3.654691</td>\n",
       "      <td>3.413191</td>\n",
       "      <td>3.512673</td>\n",
       "      <td>5.503611</td>\n",
       "      <td>5.301429</td>\n",
       "      <td>6.208447</td>\n",
       "      <td>3.967330</td>\n",
       "      <td>5.506955</td>\n",
       "      <td>5.473663</td>\n",
       "      <td>3.659052</td>\n",
       "      <td>3.445720</td>\n",
       "      <td>3.250152</td>\n",
       "      <td>5.025810</td>\n",
       "      <td>3.712974</td>\n",
       "      <td>3.992799</td>\n",
       "      <td>6.653324</td>\n",
       "      <td>3.860001</td>\n",
       "      <td>3.818815</td>\n",
       "      <td>5.062066</td>\n",
       "      <td>4.943208</td>\n",
       "      <td>5.117451</td>\n",
       "      <td>4.651759</td>\n",
       "      <td>7.557265</td>\n",
       "      <td>4.012750</td>\n",
       "      <td>4.394033</td>\n",
       "      <td>4.314272</td>\n",
       "      <td>3.558035</td>\n",
       "      <td>3.231159</td>\n",
       "      <td>2.891782</td>\n",
       "      <td>2.996703</td>\n",
       "      <td>3.333250</td>\n",
       "      <td>5.696576</td>\n",
       "      <td>3.403658</td>\n",
       "      <td>3.765339</td>\n",
       "      <td>3.429940</td>\n",
       "      <td>4.146027</td>\n",
       "      <td>3.436224</td>\n",
       "      <td>4.331010</td>\n",
       "      <td>4.677871</td>\n",
       "      <td>5.633269</td>\n",
       "      <td>3.993322</td>\n",
       "      <td>3.239070</td>\n",
       "      <td>3.160667</td>\n",
       "      <td>5.675360</td>\n",
       "      <td>5.622213</td>\n",
       "      <td>3.251473</td>\n",
       "      <td>5.366995</td>\n",
       "      <td>4.410914</td>\n",
       "      <td>3.784122</td>\n",
       "      <td>5.742016</td>\n",
       "      <td>5.217647</td>\n",
       "      <td>4.617750</td>\n",
       "      <td>5.740719</td>\n",
       "      <td>3.213566</td>\n",
       "      <td>3.538686</td>\n",
       "      <td>3.534607</td>\n",
       "      <td>3.612600</td>\n",
       "      <td>3.906863</td>\n",
       "      <td>3.219004</td>\n",
       "      <td>3.779601</td>\n",
       "      <td>4.238043</td>\n",
       "      <td>4.313296</td>\n",
       "      <td>3.149603</td>\n",
       "      <td>4.420252</td>\n",
       "      <td>3.367825</td>\n",
       "      <td>2.733173</td>\n",
       "      <td>3.359233</td>\n",
       "      <td>3.604357</td>\n",
       "      <td>3.226869</td>\n",
       "      <td>3.085338</td>\n",
       "      <td>3.193601</td>\n",
       "      <td>3.562164</td>\n",
       "      <td>3.120944</td>\n",
       "      <td>3.030891</td>\n",
       "      <td>4.015417</td>\n",
       "      <td>3.386465</td>\n",
       "      <td>4.565087</td>\n",
       "      <td>4.806826</td>\n",
       "      <td>3.442403</td>\n",
       "      <td>3.233975</td>\n",
       "    </tr>\n",
       "    <tr>\n",
       "      <th>A1CF</th>\n",
       "      <td>6.364383</td>\n",
       "      <td>2.929860</td>\n",
       "      <td>5.899714</td>\n",
       "      <td>2.879513</td>\n",
       "      <td>2.960482</td>\n",
       "      <td>3.054495</td>\n",
       "      <td>3.107128</td>\n",
       "      <td>3.126334</td>\n",
       "      <td>2.981775</td>\n",
       "      <td>3.075956</td>\n",
       "      <td>2.872071</td>\n",
       "      <td>3.141034</td>\n",
       "      <td>7.210961</td>\n",
       "      <td>2.976691</td>\n",
       "      <td>3.359157</td>\n",
       "      <td>2.947547</td>\n",
       "      <td>2.932662</td>\n",
       "      <td>2.872890</td>\n",
       "      <td>2.809667</td>\n",
       "      <td>2.977178</td>\n",
       "      <td>2.972840</td>\n",
       "      <td>2.985650</td>\n",
       "      <td>2.949033</td>\n",
       "      <td>2.894628</td>\n",
       "      <td>2.962179</td>\n",
       "      <td>2.954737</td>\n",
       "      <td>2.815736</td>\n",
       "      <td>2.913561</td>\n",
       "      <td>2.984274</td>\n",
       "      <td>2.991716</td>\n",
       "      <td>2.957640</td>\n",
       "      <td>3.134189</td>\n",
       "      <td>2.931337</td>\n",
       "      <td>3.035997</td>\n",
       "      <td>2.885962</td>\n",
       "      <td>2.948641</td>\n",
       "      <td>2.972890</td>\n",
       "      <td>3.003220</td>\n",
       "      <td>3.076125</td>\n",
       "      <td>4.307525</td>\n",
       "      <td>2.903783</td>\n",
       "      <td>3.221482</td>\n",
       "      <td>3.235645</td>\n",
       "      <td>2.906964</td>\n",
       "      <td>2.973523</td>\n",
       "      <td>3.065818</td>\n",
       "      <td>2.934078</td>\n",
       "      <td>2.920719</td>\n",
       "      <td>2.909005</td>\n",
       "      <td>2.999021</td>\n",
       "      <td>3.057679</td>\n",
       "      <td>3.178817</td>\n",
       "      <td>3.016101</td>\n",
       "      <td>3.123458</td>\n",
       "      <td>2.994303</td>\n",
       "      <td>2.807124</td>\n",
       "      <td>2.962080</td>\n",
       "      <td>2.965398</td>\n",
       "      <td>2.904675</td>\n",
       "      <td>3.251876</td>\n",
       "      <td>3.131992</td>\n",
       "      <td>2.949988</td>\n",
       "      <td>2.931010</td>\n",
       "      <td>3.123205</td>\n",
       "      <td>3.109252</td>\n",
       "      <td>3.030174</td>\n",
       "      <td>2.933147</td>\n",
       "      <td>7.616778</td>\n",
       "      <td>3.176171</td>\n",
       "      <td>3.076448</td>\n",
       "      <td>3.049307</td>\n",
       "      <td>3.756048</td>\n",
       "      <td>2.833101</td>\n",
       "      <td>3.103560</td>\n",
       "      <td>2.996603</td>\n",
       "      <td>6.035482</td>\n",
       "      <td>3.190048</td>\n",
       "      <td>3.013487</td>\n",
       "      <td>3.177574</td>\n",
       "      <td>2.979775</td>\n",
       "      <td>3.159821</td>\n",
       "      <td>4.049642</td>\n",
       "      <td>3.038010</td>\n",
       "    </tr>\n",
       "    <tr>\n",
       "      <th>A2M</th>\n",
       "      <td>5.333116</td>\n",
       "      <td>3.163920</td>\n",
       "      <td>3.385313</td>\n",
       "      <td>3.145660</td>\n",
       "      <td>3.485672</td>\n",
       "      <td>3.374128</td>\n",
       "      <td>3.306887</td>\n",
       "      <td>11.194502</td>\n",
       "      <td>3.133883</td>\n",
       "      <td>3.252529</td>\n",
       "      <td>3.287678</td>\n",
       "      <td>3.553870</td>\n",
       "      <td>3.284050</td>\n",
       "      <td>3.125750</td>\n",
       "      <td>3.392565</td>\n",
       "      <td>3.335711</td>\n",
       "      <td>5.857938</td>\n",
       "      <td>3.371901</td>\n",
       "      <td>3.181255</td>\n",
       "      <td>3.101857</td>\n",
       "      <td>7.333633</td>\n",
       "      <td>3.529651</td>\n",
       "      <td>3.716710</td>\n",
       "      <td>3.443310</td>\n",
       "      <td>12.962624</td>\n",
       "      <td>3.102288</td>\n",
       "      <td>3.262667</td>\n",
       "      <td>3.431608</td>\n",
       "      <td>3.515306</td>\n",
       "      <td>3.548095</td>\n",
       "      <td>3.015057</td>\n",
       "      <td>3.274353</td>\n",
       "      <td>3.390316</td>\n",
       "      <td>3.433933</td>\n",
       "      <td>3.184189</td>\n",
       "      <td>4.248470</td>\n",
       "      <td>3.347285</td>\n",
       "      <td>3.531883</td>\n",
       "      <td>3.692506</td>\n",
       "      <td>3.914816</td>\n",
       "      <td>6.572986</td>\n",
       "      <td>3.502539</td>\n",
       "      <td>4.031836</td>\n",
       "      <td>3.280705</td>\n",
       "      <td>3.496711</td>\n",
       "      <td>3.194349</td>\n",
       "      <td>3.353889</td>\n",
       "      <td>3.585621</td>\n",
       "      <td>6.748265</td>\n",
       "      <td>5.349334</td>\n",
       "      <td>3.481793</td>\n",
       "      <td>3.520293</td>\n",
       "      <td>3.364239</td>\n",
       "      <td>3.264536</td>\n",
       "      <td>3.315750</td>\n",
       "      <td>3.352053</td>\n",
       "      <td>3.425817</td>\n",
       "      <td>3.317356</td>\n",
       "      <td>3.542737</td>\n",
       "      <td>3.271784</td>\n",
       "      <td>3.454828</td>\n",
       "      <td>3.257612</td>\n",
       "      <td>3.189635</td>\n",
       "      <td>3.322089</td>\n",
       "      <td>3.702488</td>\n",
       "      <td>3.320323</td>\n",
       "      <td>3.280496</td>\n",
       "      <td>3.234721</td>\n",
       "      <td>3.587857</td>\n",
       "      <td>3.414311</td>\n",
       "      <td>3.370937</td>\n",
       "      <td>3.423342</td>\n",
       "      <td>3.485978</td>\n",
       "      <td>3.328670</td>\n",
       "      <td>3.253735</td>\n",
       "      <td>3.424149</td>\n",
       "      <td>3.422091</td>\n",
       "      <td>3.435566</td>\n",
       "      <td>10.367402</td>\n",
       "      <td>4.068013</td>\n",
       "      <td>3.318134</td>\n",
       "      <td>3.669509</td>\n",
       "      <td>3.262412</td>\n",
       "    </tr>\n",
       "    <tr>\n",
       "      <th>A2ML1</th>\n",
       "      <td>2.907726</td>\n",
       "      <td>2.659589</td>\n",
       "      <td>2.876303</td>\n",
       "      <td>2.618580</td>\n",
       "      <td>3.203183</td>\n",
       "      <td>2.990600</td>\n",
       "      <td>2.750999</td>\n",
       "      <td>2.809603</td>\n",
       "      <td>2.652527</td>\n",
       "      <td>4.176452</td>\n",
       "      <td>3.946546</td>\n",
       "      <td>3.037501</td>\n",
       "      <td>2.830605</td>\n",
       "      <td>2.814887</td>\n",
       "      <td>3.217121</td>\n",
       "      <td>2.734617</td>\n",
       "      <td>2.810957</td>\n",
       "      <td>3.244767</td>\n",
       "      <td>2.882418</td>\n",
       "      <td>2.827790</td>\n",
       "      <td>3.094473</td>\n",
       "      <td>2.970912</td>\n",
       "      <td>3.219312</td>\n",
       "      <td>2.862272</td>\n",
       "      <td>2.984883</td>\n",
       "      <td>2.912465</td>\n",
       "      <td>3.026253</td>\n",
       "      <td>2.914855</td>\n",
       "      <td>2.912427</td>\n",
       "      <td>5.398271</td>\n",
       "      <td>2.747944</td>\n",
       "      <td>3.203564</td>\n",
       "      <td>2.863508</td>\n",
       "      <td>2.872562</td>\n",
       "      <td>2.850983</td>\n",
       "      <td>2.866479</td>\n",
       "      <td>2.935965</td>\n",
       "      <td>2.757120</td>\n",
       "      <td>3.052064</td>\n",
       "      <td>2.872895</td>\n",
       "      <td>2.756976</td>\n",
       "      <td>2.823238</td>\n",
       "      <td>2.994586</td>\n",
       "      <td>2.784113</td>\n",
       "      <td>2.957074</td>\n",
       "      <td>2.861270</td>\n",
       "      <td>2.845468</td>\n",
       "      <td>2.970381</td>\n",
       "      <td>3.038762</td>\n",
       "      <td>2.917099</td>\n",
       "      <td>2.868770</td>\n",
       "      <td>2.816616</td>\n",
       "      <td>2.961184</td>\n",
       "      <td>2.966420</td>\n",
       "      <td>2.875874</td>\n",
       "      <td>3.078362</td>\n",
       "      <td>3.027520</td>\n",
       "      <td>2.722523</td>\n",
       "      <td>2.815796</td>\n",
       "      <td>2.768303</td>\n",
       "      <td>2.855416</td>\n",
       "      <td>2.868177</td>\n",
       "      <td>2.907705</td>\n",
       "      <td>2.753796</td>\n",
       "      <td>2.896764</td>\n",
       "      <td>2.900725</td>\n",
       "      <td>2.714300</td>\n",
       "      <td>3.038924</td>\n",
       "      <td>2.735681</td>\n",
       "      <td>2.920353</td>\n",
       "      <td>3.211124</td>\n",
       "      <td>2.975449</td>\n",
       "      <td>2.791813</td>\n",
       "      <td>2.970275</td>\n",
       "      <td>2.844126</td>\n",
       "      <td>2.810739</td>\n",
       "      <td>3.005388</td>\n",
       "      <td>2.927293</td>\n",
       "      <td>2.841073</td>\n",
       "      <td>2.799085</td>\n",
       "      <td>2.848456</td>\n",
       "      <td>3.045514</td>\n",
       "      <td>2.848073</td>\n",
       "    </tr>\n",
       "    <tr>\n",
       "      <th>A3GALT2P</th>\n",
       "      <td>2.815383</td>\n",
       "      <td>2.949402</td>\n",
       "      <td>2.794812</td>\n",
       "      <td>3.051636</td>\n",
       "      <td>2.727538</td>\n",
       "      <td>3.046176</td>\n",
       "      <td>2.600750</td>\n",
       "      <td>2.772945</td>\n",
       "      <td>2.759164</td>\n",
       "      <td>2.973257</td>\n",
       "      <td>3.007847</td>\n",
       "      <td>2.813239</td>\n",
       "      <td>2.817318</td>\n",
       "      <td>2.906216</td>\n",
       "      <td>2.951504</td>\n",
       "      <td>2.867167</td>\n",
       "      <td>3.222096</td>\n",
       "      <td>2.758084</td>\n",
       "      <td>2.898673</td>\n",
       "      <td>2.949275</td>\n",
       "      <td>3.002633</td>\n",
       "      <td>3.039915</td>\n",
       "      <td>2.889149</td>\n",
       "      <td>2.794062</td>\n",
       "      <td>2.696788</td>\n",
       "      <td>2.841877</td>\n",
       "      <td>2.637763</td>\n",
       "      <td>2.627251</td>\n",
       "      <td>2.638571</td>\n",
       "      <td>2.585234</td>\n",
       "      <td>3.350766</td>\n",
       "      <td>2.676877</td>\n",
       "      <td>2.928732</td>\n",
       "      <td>2.911099</td>\n",
       "      <td>2.860962</td>\n",
       "      <td>2.682130</td>\n",
       "      <td>2.642075</td>\n",
       "      <td>2.964072</td>\n",
       "      <td>2.757277</td>\n",
       "      <td>2.859390</td>\n",
       "      <td>2.758919</td>\n",
       "      <td>2.872862</td>\n",
       "      <td>2.904985</td>\n",
       "      <td>2.793504</td>\n",
       "      <td>3.052749</td>\n",
       "      <td>2.841773</td>\n",
       "      <td>2.646936</td>\n",
       "      <td>2.809300</td>\n",
       "      <td>2.900886</td>\n",
       "      <td>2.796933</td>\n",
       "      <td>3.009006</td>\n",
       "      <td>2.460609</td>\n",
       "      <td>2.927724</td>\n",
       "      <td>2.688251</td>\n",
       "      <td>2.711345</td>\n",
       "      <td>2.862964</td>\n",
       "      <td>3.094932</td>\n",
       "      <td>2.614486</td>\n",
       "      <td>2.911751</td>\n",
       "      <td>2.729423</td>\n",
       "      <td>2.918373</td>\n",
       "      <td>2.761097</td>\n",
       "      <td>3.017744</td>\n",
       "      <td>2.818910</td>\n",
       "      <td>2.743633</td>\n",
       "      <td>2.804695</td>\n",
       "      <td>2.741882</td>\n",
       "      <td>2.639278</td>\n",
       "      <td>2.958589</td>\n",
       "      <td>2.774540</td>\n",
       "      <td>2.863818</td>\n",
       "      <td>3.060973</td>\n",
       "      <td>2.740531</td>\n",
       "      <td>2.855441</td>\n",
       "      <td>2.806916</td>\n",
       "      <td>2.698972</td>\n",
       "      <td>2.724092</td>\n",
       "      <td>3.027163</td>\n",
       "      <td>2.701126</td>\n",
       "      <td>2.924450</td>\n",
       "      <td>2.730521</td>\n",
       "      <td>2.960086</td>\n",
       "      <td>2.718930</td>\n",
       "    </tr>\n",
       "  </tbody>\n",
       "</table>\n",
       "</div>"
      ],
      "text/plain": [
       "             22RV1     647-V      A549  BFTC-905     BT-20    BT-474    BT-549        C32   CAL-120   CAL-148    CAL-51    CAMA-1  COLO-205    Calu-3    Calu-6   DMS-114   DU-4475    EVSA-T   HCC1143   HCC1187   HCC1395   HCC1419   HCC1428   HCC1500    HCC1569   HCC1806   HCC1937   HCC1954     HCC38     HCC70   HCT-116   HT-1197   HT-1376     HT-29  Hs-578-T       J82   KATOIII    KMS-11  KU-19-19    LS-513       M14      MCF7  MDA-MB-157  MDA-MB-231  MDA-MB-361  MDA-MB-415  MDA-MB-436  MDA-MB-453  MDA-MB-468   MFM-223  NCI-H1299  NCI-H1563  NCI-H1703  NCI-H1793  NCI-H1975  NCI-H2085  NCI-H2170  NCI-H2228  NCI-H226  NCI-H2291   NCI-H23  NCI-H3122  NCI-H358  NCI-H520  NCI-H522  NCI-H747  NCI-H838  NCI-SNU-16       RKO       RT4      SW48     SW620     SW780     SW837     SW900     SW948      T-24      T47D     TCCSUP  UACC-812   UM-UC-3      VCaP  VM-CUB-1\n",
       "A1BG      3.530584  2.788878  5.351535  3.654691  3.413191  3.512673  5.503611   5.301429  6.208447  3.967330  5.506955  5.473663  3.659052  3.445720  3.250152  5.025810  3.712974  3.992799  6.653324  3.860001  3.818815  5.062066  4.943208  5.117451   4.651759  7.557265  4.012750  4.394033  4.314272  3.558035  3.231159  2.891782  2.996703  3.333250  5.696576  3.403658  3.765339  3.429940  4.146027  3.436224  4.331010  4.677871    5.633269    3.993322    3.239070    3.160667    5.675360    5.622213    3.251473  5.366995   4.410914   3.784122   5.742016   5.217647   4.617750   5.740719   3.213566   3.538686  3.534607   3.612600  3.906863   3.219004  3.779601  4.238043  4.313296  3.149603  4.420252    3.367825  2.733173  3.359233  3.604357  3.226869  3.085338  3.193601  3.562164  3.120944  3.030891  4.015417   3.386465  4.565087  4.806826  3.442403  3.233975\n",
       "A1CF      6.364383  2.929860  5.899714  2.879513  2.960482  3.054495  3.107128   3.126334  2.981775  3.075956  2.872071  3.141034  7.210961  2.976691  3.359157  2.947547  2.932662  2.872890  2.809667  2.977178  2.972840  2.985650  2.949033  2.894628   2.962179  2.954737  2.815736  2.913561  2.984274  2.991716  2.957640  3.134189  2.931337  3.035997  2.885962  2.948641  2.972890  3.003220  3.076125  4.307525  2.903783  3.221482    3.235645    2.906964    2.973523    3.065818    2.934078    2.920719    2.909005  2.999021   3.057679   3.178817   3.016101   3.123458   2.994303   2.807124   2.962080   2.965398  2.904675   3.251876  3.131992   2.949988  2.931010  3.123205  3.109252  3.030174  2.933147    7.616778  3.176171  3.076448  3.049307  3.756048  2.833101  3.103560  2.996603  6.035482  3.190048  3.013487   3.177574  2.979775  3.159821  4.049642  3.038010\n",
       "A2M       5.333116  3.163920  3.385313  3.145660  3.485672  3.374128  3.306887  11.194502  3.133883  3.252529  3.287678  3.553870  3.284050  3.125750  3.392565  3.335711  5.857938  3.371901  3.181255  3.101857  7.333633  3.529651  3.716710  3.443310  12.962624  3.102288  3.262667  3.431608  3.515306  3.548095  3.015057  3.274353  3.390316  3.433933  3.184189  4.248470  3.347285  3.531883  3.692506  3.914816  6.572986  3.502539    4.031836    3.280705    3.496711    3.194349    3.353889    3.585621    6.748265  5.349334   3.481793   3.520293   3.364239   3.264536   3.315750   3.352053   3.425817   3.317356  3.542737   3.271784  3.454828   3.257612  3.189635  3.322089  3.702488  3.320323  3.280496    3.234721  3.587857  3.414311  3.370937  3.423342  3.485978  3.328670  3.253735  3.424149  3.422091  3.435566  10.367402  4.068013  3.318134  3.669509  3.262412\n",
       "A2ML1     2.907726  2.659589  2.876303  2.618580  3.203183  2.990600  2.750999   2.809603  2.652527  4.176452  3.946546  3.037501  2.830605  2.814887  3.217121  2.734617  2.810957  3.244767  2.882418  2.827790  3.094473  2.970912  3.219312  2.862272   2.984883  2.912465  3.026253  2.914855  2.912427  5.398271  2.747944  3.203564  2.863508  2.872562  2.850983  2.866479  2.935965  2.757120  3.052064  2.872895  2.756976  2.823238    2.994586    2.784113    2.957074    2.861270    2.845468    2.970381    3.038762  2.917099   2.868770   2.816616   2.961184   2.966420   2.875874   3.078362   3.027520   2.722523  2.815796   2.768303  2.855416   2.868177  2.907705  2.753796  2.896764  2.900725  2.714300    3.038924  2.735681  2.920353  3.211124  2.975449  2.791813  2.970275  2.844126  2.810739  3.005388  2.927293   2.841073  2.799085  2.848456  3.045514  2.848073\n",
       "A3GALT2P  2.815383  2.949402  2.794812  3.051636  2.727538  3.046176  2.600750   2.772945  2.759164  2.973257  3.007847  2.813239  2.817318  2.906216  2.951504  2.867167  3.222096  2.758084  2.898673  2.949275  3.002633  3.039915  2.889149  2.794062   2.696788  2.841877  2.637763  2.627251  2.638571  2.585234  3.350766  2.676877  2.928732  2.911099  2.860962  2.682130  2.642075  2.964072  2.757277  2.859390  2.758919  2.872862    2.904985    2.793504    3.052749    2.841773    2.646936    2.809300    2.900886  2.796933   3.009006   2.460609   2.927724   2.688251   2.711345   2.862964   3.094932   2.614486  2.911751   2.729423  2.918373   2.761097  3.017744  2.818910  2.743633  2.804695  2.741882    2.639278  2.958589  2.774540  2.863818  3.060973  2.740531  2.855441  2.806916  2.698972  2.724092  3.027163   2.701126  2.924450  2.730521  2.960086  2.718930"
      ]
     },
     "execution_count": 240,
     "metadata": {},
     "output_type": "execute_result"
    }
   ],
   "source": [
    "gex.head()"
   ]
  },
  {
   "cell_type": "code",
   "execution_count": 255,
   "metadata": {
    "collapsed": false,
    "run_control": {
     "marked": false
    }
   },
   "outputs": [
    {
     "data": {
      "text/plain": [
       "[<matplotlib.lines.Line2D at 0x7f367272fcf8>]"
      ]
     },
     "execution_count": 255,
     "metadata": {},
     "output_type": "execute_result"
    },
    {
     "data": {
      "image/png": "[encoded data removed]",
      "text/plain": [
       "<matplotlib.figure.Figure at 0x7f3672766cf8>"
      ]
     },
     "metadata": {},
     "output_type": "display_data"
    }
   ],
   "source": [
    "plt.plot(gex[1:1000].mean(), gex_over_cells[1:1000].mean(), 'r.')"
   ]
  },
  {
   "cell_type": "code",
   "execution_count": null,
   "metadata": {
    "collapsed": true
   },
   "outputs": [],
   "source": [
    "ex.loc[:3]"
   ]
  },
  {
   "cell_type": "code",
   "execution_count": null,
   "metadata": {
    "collapsed": true
   },
   "outputs": [],
   "source": []
  },
  {
   "cell_type": "code",
   "execution_count": null,
   "metadata": {
    "collapsed": true
   },
   "outputs": [],
   "source": []
  },
  {
   "cell_type": "code",
   "execution_count": null,
   "metadata": {
    "collapsed": true
   },
   "outputs": [],
   "source": []
  },
  {
   "cell_type": "markdown",
   "metadata": {},
   "source": [
    "# Correlations"
   ]
  },
  {
   "cell_type": "markdown",
   "metadata": {
    "collapsed": false
   },
   "source": [
    "### Correlation in GEX scores"
   ]
  },
  {
   "cell_type": "code",
   "execution_count": 178,
   "metadata": {
    "collapsed": false
   },
   "outputs": [],
   "source": [
    "def matrix_to_values(df):\n",
    "    \"\"\"\n",
    "    Convert a dataframe produced by `.corr()` to (name_1, name_2, value) format.\n",
    "    \"\"\"\n",
    "    df.sort_index(axis=0, inplace=True)\n",
    "    df.sort_index(axis=1, inplace=True)\n",
    "    idx = np.triu_indices_from(df.values, 1)\n",
    "    df_2 = pd.DataFrame({\n",
    "        'name_1': df.index[idx[0]],\n",
    "        'name_2': df.columns[idx[1]],\n",
    "        'value': df.values[idx]})\n",
    "    assert all(df_2['name_1'] < df_2['name_2'])\n",
    "    return df_2"
   ]
  },
  {
   "cell_type": "code",
   "execution_count": null,
   "metadata": {
    "collapsed": true
   },
   "outputs": [],
   "source": [
    "cell_corr = gex.corr()"
   ]
  },
  {
   "cell_type": "code",
   "execution_count": null,
   "metadata": {
    "collapsed": true
   },
   "outputs": [],
   "source": [
    "cell_corr_2 = gex_over_cells.corr()"
   ]
  },
  {
   "cell_type": "code",
   "execution_count": null,
   "metadata": {
    "collapsed": true
   },
   "outputs": [],
   "source": [
    "cell_corr_1_df = matrix_to_values(cell_corr)"
   ]
  },
  {
   "cell_type": "code",
   "execution_count": null,
   "metadata": {
    "collapsed": true
   },
   "outputs": [],
   "source": [
    "cell_corr_2_df = matrix_to_values(cell_corr_2)"
   ]
  },
  {
   "cell_type": "code",
   "execution_count": null,
   "metadata": {
    "collapsed": false
   },
   "outputs": [],
   "source": [
    "cell_corr_df = cell_corr_1_df.merge(cell_corr_2_df, on=['name_1', 'name_2'], suffixes=('_1', '_2'))"
   ]
  },
  {
   "cell_type": "code",
   "execution_count": null,
   "metadata": {
    "collapsed": true
   },
   "outputs": [],
   "source": [
    "cell_corr_df.rename(\n",
    "    columns={'name_1': 'cell_1', \n",
    "             'name_2': 'cell_2', \n",
    "             'value_1': 'pearson_r', \n",
    "             'value_2': 'pearson_r_corrected'},\n",
    "    inplace=True)"
   ]
  },
  {
   "cell_type": "code",
   "execution_count": null,
   "metadata": {
    "collapsed": false
   },
   "outputs": [],
   "source": [
    "cell_corr_df.head()"
   ]
  },
  {
   "cell_type": "code",
   "execution_count": null,
   "metadata": {
    "collapsed": false
   },
   "outputs": [],
   "source": [
    "cell_corr_df.corr()"
   ]
  },
  {
   "cell_type": "code",
   "execution_count": null,
   "metadata": {
    "collapsed": false
   },
   "outputs": [],
   "source": [
    "cell_corr_df.shape"
   ]
  },
  {
   "cell_type": "code",
   "execution_count": null,
   "metadata": {
    "collapsed": false
   },
   "outputs": [],
   "source": [
    "83 * 82 // 2  # we are missing two cell lines"
   ]
  },
  {
   "cell_type": "code",
   "execution_count": null,
   "metadata": {
    "collapsed": false
   },
   "outputs": [],
   "source": [
    "engine = sa.create_engine('mysql://strokach:@192.168.6.19:3306/az_dream_cell_features')\n",
    "cell_corr_df.to_sql('cell_expression_r', engine)\n",
    "engine.execute('create index a on cell_expression_r (cell_1(255), cell_2(255))')\n",
    "engine.execute('create index b on cell_expression_r (cell_2(255), cell_1(255))')"
   ]
  },
  {
   "cell_type": "code",
   "execution_count": null,
   "metadata": {
    "collapsed": true
   },
   "outputs": [],
   "source": []
  },
  {
   "cell_type": "markdown",
   "metadata": {
    "collapsed": true
   },
   "source": [
    "### Correlation in normalized GEX scores"
   ]
  },
  {
   "cell_type": "code",
   "execution_count": null,
   "metadata": {
    "collapsed": false
   },
   "outputs": [],
   "source": [
    "gene_corr = gex.T.corr()"
   ]
  },
  {
   "cell_type": "code",
   "execution_count": null,
   "metadata": {
    "collapsed": true
   },
   "outputs": [],
   "source": [
    "gene_corr_2 = gex_over_genes.T.corr()"
   ]
  },
  {
   "cell_type": "code",
   "execution_count": null,
   "metadata": {
    "collapsed": false
   },
   "outputs": [],
   "source": [
    "gene_corr_1_df = matrix_to_values(gene_corr)"
   ]
  },
  {
   "cell_type": "code",
   "execution_count": null,
   "metadata": {
    "collapsed": true
   },
   "outputs": [],
   "source": [
    "gene_corr_2_df = matrix_to_values(gene_corr_2)"
   ]
  },
  {
   "cell_type": "code",
   "execution_count": null,
   "metadata": {
    "collapsed": false
   },
   "outputs": [],
   "source": [
    "gene_corr_df = gene_corr_1_df.merge(gene_corr_2_df, on=['name_1', 'name_2'], suffixes=('_1', '_2'))"
   ]
  },
  {
   "cell_type": "code",
   "execution_count": null,
   "metadata": {
    "collapsed": false
   },
   "outputs": [],
   "source": [
    "gene_corr_df.rename(\n",
    "    columns={'name_1': 'gene_1',\n",
    "             'name_2': 'gene_2',\n",
    "             'value_1': 'pearson_r',\n",
    "             'value_2': 'pearson_r_corrected'},\n",
    "    inplace=True)"
   ]
  },
  {
   "cell_type": "code",
   "execution_count": null,
   "metadata": {
    "collapsed": false
   },
   "outputs": [],
   "source": [
    "gene_corr_df.head()"
   ]
  },
  {
   "cell_type": "code",
   "execution_count": null,
   "metadata": {
    "collapsed": false
   },
   "outputs": [],
   "source": [
    "gene_corr_df.corr()"
   ]
  },
  {
   "cell_type": "code",
   "execution_count": null,
   "metadata": {
    "collapsed": true
   },
   "outputs": [],
   "source": []
  },
  {
   "cell_type": "code",
   "execution_count": null,
   "metadata": {
    "collapsed": false
   },
   "outputs": [],
   "source": [
    "engine = sa.create_engine('mysql://strokach:@192.168.6.19:3306/az_dream_target_features')\n",
    "dtypes = {\n",
    "    'gene_1': sa.VARCHAR(255),\n",
    "    'gene_2': sa.VARCHAR(255),\n",
    "    'pearson_r': sa.dialects.mysql.DOUBLE,\n",
    "    'pearson_r_corrected': sa.dialects.mysql.DOUBLE,\n",
    "}\n",
    "gene_corr_df.to_sql('gene_expression_r', engine, dtype=dtypes, if_exists='replace', index=False)\n",
    "engine.execute('create index a on gene_expression_r (gene_1(255), gene_2(255))')\n",
    "engine.execute('create index b on gene_expression_r (gene_2(255), gene_1(255))')"
   ]
  },
  {
   "cell_type": "code",
   "execution_count": null,
   "metadata": {
    "collapsed": true
   },
   "outputs": [],
   "source": []
  }
 ],
 "metadata": {
  "kernelspec": {
   "display_name": "Python 3",
   "language": "python",
   "name": "python3"
  },
  "language_info": {
   "codemirror_mode": {
    "name": "ipython",
    "version": 3
   },
   "file_extension": ".py",
   "mimetype": "text/x-python",
   "name": "python",
   "nbconvert_exporter": "python",
   "pygments_lexer": "ipython3",
   "version": "3.5.0"
  }
 },
 "nbformat": 4,
 "nbformat_minor": 0
}
