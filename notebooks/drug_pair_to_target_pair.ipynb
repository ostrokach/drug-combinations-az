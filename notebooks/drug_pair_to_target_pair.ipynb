{
 "cells": [
  {
   "cell_type": "markdown",
   "metadata": {
    "code_folding": [
     0
    ],
    "collapsed": true,
    "run_control": {
     "marked": false
    }
   },
   "source": [
    "# Summary\n",
    "\n"
   ]
  },
  {
   "cell_type": "markdown",
   "metadata": {
    "run_control": {
     "marked": false
    }
   },
   "source": [
    "# Note \n",
    "\n",
    "The **Save to database** bit have to be changed. See `all_by_all` for an example."
   ]
  },
  {
   "cell_type": "markdown",
   "metadata": {
    "run_control": {
     "marked": false
    }
   },
   "source": [
    "# Imports"
   ]
  },
  {
   "cell_type": "code",
   "execution_count": 1,
   "metadata": {
    "collapsed": true
   },
   "outputs": [],
   "source": [
    "__file__ = 'drug_pair_to_target_pair'"
   ]
  },
  {
   "cell_type": "code",
   "execution_count": 2,
   "metadata": {
    "collapsed": true,
    "run_control": {
     "marked": false
    }
   },
   "outputs": [],
   "source": [
    "%load_ext autoreload\n",
    "%autoreload 2"
   ]
  },
  {
   "cell_type": "code",
   "execution_count": 45,
   "metadata": {
    "code_folding": [
     0
    ],
    "collapsed": false,
    "run_control": {
     "marked": false
    }
   },
   "outputs": [
    {
     "name": "stderr",
     "output_type": "stream",
     "text": [
      "DEBUG:root:Done configuring logging!\n"
     ]
    }
   ],
   "source": [
    "import common\n",
    "common.configure_logging(level='debug')"
   ]
  },
  {
   "cell_type": "code",
   "execution_count": 4,
   "metadata": {
    "collapsed": false,
    "run_control": {
     "marked": false
    }
   },
   "outputs": [
    {
     "name": "stderr",
     "output_type": "stream",
     "text": [
      "/home/kimlab1/strokach/anaconda3/lib/python3.5/site-packages/matplotlib/__init__.py:872: UserWarning: axes.color_cycle is deprecated and replaced with axes.prop_cycle; please use the latter.\n",
      "  warnings.warn(self.msg_depr % (key, alt_key))\n"
     ]
    }
   ],
   "source": [
    "from biodata import *"
   ]
  },
  {
   "cell_type": "code",
   "execution_count": 5,
   "metadata": {
    "collapsed": false,
    "run_control": {
     "marked": false
    }
   },
   "outputs": [],
   "source": [
    "%matplotlib inline"
   ]
  },
  {
   "cell_type": "code",
   "execution_count": 6,
   "metadata": {
    "collapsed": false
   },
   "outputs": [
    {
     "name": "stderr",
     "output_type": "stream",
     "text": [
      "/home/kimlab1/strokach/anaconda3/lib/python3.5/site-packages/IPython/config.py:13: ShimWarning: The `IPython.config` package has been deprecated. You should import from traitlets.config instead.\n",
      "  \"You should import from traitlets.config instead.\", ShimWarning)\n",
      "/home/kimlab1/strokach/anaconda3/lib/python3.5/site-packages/IPython/utils/traitlets.py:5: UserWarning: IPython.utils.traitlets has moved to a top-level traitlets package.\n",
      "  warn(\"IPython.utils.traitlets has moved to a top-level traitlets package.\")\n"
     ]
    }
   ],
   "source": [
    "%load_ext sql"
   ]
  },
  {
   "cell_type": "code",
   "execution_count": 7,
   "metadata": {
    "collapsed": false,
    "run_control": {
     "marked": false
    }
   },
   "outputs": [
    {
     "data": {
      "text/plain": [
       "'Connected: strokach@az_dream_2015'"
      ]
     },
     "execution_count": 7,
     "metadata": {},
     "output_type": "execute_result"
    }
   ],
   "source": [
    "%sql mysql://strokach:@192.168.6.19/az_dream_2015"
   ]
  },
  {
   "cell_type": "code",
   "execution_count": 8,
   "metadata": {
    "collapsed": true,
    "run_control": {
     "marked": false
    }
   },
   "outputs": [],
   "source": [
    "#SUFFIX = ''\n",
    "SUFFIX = '_stitch'"
   ]
  },
  {
   "cell_type": "code",
   "execution_count": null,
   "metadata": {
    "collapsed": true,
    "run_control": {
     "marked": false
    }
   },
   "outputs": [],
   "source": []
  },
  {
   "cell_type": "markdown",
   "metadata": {
    "run_control": {
     "marked": false
    }
   },
   "source": [
    "# Functions"
   ]
  },
  {
   "cell_type": "code",
   "execution_count": 9,
   "metadata": {
    "collapsed": false,
    "run_control": {
     "marked": false
    }
   },
   "outputs": [],
   "source": [
    "import string\n",
    "import csv2sql\n",
    "\n",
    "assert __file__\n",
    "\n",
    "engine = sa.create_engine('mysql://strokach:@192.168.6.19:3306/az_dream_2015')\n",
    "\n",
    "def attachment_path(name):\n",
    "    return op.abspath(op.join(__file__, name))\n",
    "\n",
    "def load_to_mysql(df, table_name, index_commands):\n",
    "    tsv_file_name = op.abspath(op.join(__file__, table_name + '.tsv'))\n",
    "    bz2_file_name = tsv_file_name + '.bz2'\n",
    "    dtype = csv2sql.get_column_dtypes(df)\n",
    "    df[:0].to_sql(table_name, engine, dtype=dtype, index=False, if_exists='replace')\n",
    "    csv2sql.csv2sql.run_command('bzip2 -dkf \"{}\"'.format(bz2_file_name), '192.168.6.8')\n",
    "    csv2sql.csv2sql.run_command(\n",
    "        'mysql --local-infile -u strokach -h 192.168.6.19 az_dream_2015 -e '\n",
    "        '\"load data local infile \\'{}\\' into table {} ignore 1 lines\"'.format(tsv_file_name, table_name))\n",
    "    csv2sql.csv2sql.run_command('rm \"{}\"'.format(tsv_file_name), '192.168.6.8')\n",
    "    for index_name, index_command in zip(string.ascii_letters, index_commands):\n",
    "        columns, unique = index_command\n",
    "        sql_command = (\n",
    "            \"create {unique} index {index_name} on {table_name} ({columns});\"\n",
    "            .format(\n",
    "                unique='unique' if unique else '', \n",
    "                index_name=index_name,\n",
    "                table_name=table_name,\n",
    "                columns=\", \".join(columns))\n",
    "        )\n",
    "        engine.execute(sql_command)"
   ]
  },
  {
   "cell_type": "code",
   "execution_count": null,
   "metadata": {
    "collapsed": true,
    "run_control": {
     "marked": false
    }
   },
   "outputs": [],
   "source": []
  },
  {
   "cell_type": "markdown",
   "metadata": {
    "code_folding": [
     0
    ],
    "run_control": {
     "marked": false
    }
   },
   "source": [
    "# Load data"
   ]
  },
  {
   "cell_type": "code",
   "execution_count": 10,
   "metadata": {
    "collapsed": false,
    "run_control": {
     "marked": false
    }
   },
   "outputs": [],
   "source": [
    "# Read text file\n",
    "drug_info_release = pd.read_csv(\n",
    "    '../downloads/challenge_data/drug_synergy_data/drug_info_release.csv/'\n",
    "    'Drug_info_release.csv', sep=','\n",
    ")\n",
    "drug_info_release_columns = list(drug_info_release.columns)"
   ]
  },
  {
   "cell_type": "code",
   "execution_count": 11,
   "metadata": {
    "collapsed": false,
    "run_control": {
     "marked": false
    }
   },
   "outputs": [
    {
     "data": {
      "text/html": [
       "<div>\n",
       "<table border=\"1\" class=\"dataframe\">\n",
       "  <thead>\n",
       "    <tr style=\"text-align: right;\">\n",
       "      <th></th>\n",
       "      <th>ChallengeName</th>\n",
       "      <th>Target(Official Symbol)</th>\n",
       "      <th>HBA</th>\n",
       "      <th>cLogP</th>\n",
       "      <th>HBD</th>\n",
       "      <th>Lipinski</th>\n",
       "      <th>SMILES or PubChem ID</th>\n",
       "      <th>MW</th>\n",
       "    </tr>\n",
       "  </thead>\n",
       "  <tbody>\n",
       "    <tr>\n",
       "      <th>0</th>\n",
       "      <td>ADAM17</td>\n",
       "      <td>ADAM17</td>\n",
       "      <td>NaN</td>\n",
       "      <td>NaN</td>\n",
       "      <td>NaN</td>\n",
       "      <td>NaN</td>\n",
       "      <td>NaN</td>\n",
       "      <td>NaN</td>\n",
       "    </tr>\n",
       "    <tr>\n",
       "      <th>1</th>\n",
       "      <td>AKT</td>\n",
       "      <td>AKT1, AKT2, AKT3</td>\n",
       "      <td>8</td>\n",
       "      <td>1.18</td>\n",
       "      <td>5</td>\n",
       "      <td>0</td>\n",
       "      <td>c1cc(ccc1[C@H](CCO)NC(=O)C2(CCN(CC2)c3c4cc[nH]...</td>\n",
       "      <td>428.9</td>\n",
       "    </tr>\n",
       "    <tr>\n",
       "      <th>2</th>\n",
       "      <td>AKT_1</td>\n",
       "      <td>AKT*</td>\n",
       "      <td>6</td>\n",
       "      <td>3.24</td>\n",
       "      <td>3</td>\n",
       "      <td>0</td>\n",
       "      <td>c1ccc(cc1)c2cc3c(ccn4c3n[nH]c4=O)nc2c5ccc(cc5)...</td>\n",
       "      <td>407.5</td>\n",
       "    </tr>\n",
       "    <tr>\n",
       "      <th>3</th>\n",
       "      <td>AKT_PIK3C</td>\n",
       "      <td>AKT*,PIK3C*</td>\n",
       "      <td>NaN</td>\n",
       "      <td>NaN</td>\n",
       "      <td>NaN</td>\n",
       "      <td>NaN</td>\n",
       "      <td>NaN</td>\n",
       "      <td>NaN</td>\n",
       "    </tr>\n",
       "    <tr>\n",
       "      <th>4</th>\n",
       "      <td>AKT_SGK</td>\n",
       "      <td>AKT*,SGK*</td>\n",
       "      <td>NaN</td>\n",
       "      <td>NaN</td>\n",
       "      <td>NaN</td>\n",
       "      <td>NaN</td>\n",
       "      <td>NaN</td>\n",
       "      <td>NaN</td>\n",
       "    </tr>\n",
       "  </tbody>\n",
       "</table>\n",
       "</div>"
      ],
      "text/plain": [
       "  ChallengeName Target(Official Symbol)  HBA  cLogP  HBD  Lipinski                               SMILES or PubChem ID     MW\n",
       "0        ADAM17                  ADAM17  NaN    NaN  NaN       NaN                                                NaN    NaN\n",
       "1           AKT        AKT1, AKT2, AKT3    8   1.18    5         0  c1cc(ccc1[C@H](CCO)NC(=O)C2(CCN(CC2)c3c4cc[nH]...  428.9\n",
       "2         AKT_1                    AKT*    6   3.24    3         0  c1ccc(cc1)c2cc3c(ccn4c3n[nH]c4=O)nc2c5ccc(cc5)...  407.5\n",
       "3     AKT_PIK3C             AKT*,PIK3C*  NaN    NaN  NaN       NaN                                                NaN    NaN\n",
       "4       AKT_SGK               AKT*,SGK*  NaN    NaN  NaN       NaN                                                NaN    NaN"
      ]
     },
     "metadata": {},
     "output_type": "display_data"
    },
    {
     "name": "stdout",
     "output_type": "stream",
     "text": [
      "(119, 8)\n"
     ]
    }
   ],
   "source": [
    "display(drug_info_release.head())\n",
    "print(drug_info_release.shape)"
   ]
  },
  {
   "cell_type": "code",
   "execution_count": null,
   "metadata": {
    "collapsed": true,
    "run_control": {
     "marked": false
    }
   },
   "outputs": [],
   "source": []
  },
  {
   "cell_type": "code",
   "execution_count": 12,
   "metadata": {
    "collapsed": true,
    "run_control": {
     "marked": false
    }
   },
   "outputs": [],
   "source": [
    "engine = sa.create_engine('mysql://strokach:@192.168.6.19:3306/az_dream')\n",
    "drug_info_release_3 = pd.read_sql_table('drug_info_release_3', engine)"
   ]
  },
  {
   "cell_type": "code",
   "execution_count": 13,
   "metadata": {
    "collapsed": false,
    "run_control": {
     "marked": false
    }
   },
   "outputs": [
    {
     "data": {
      "text/html": [
       "<div>\n",
       "<table border=\"1\" class=\"dataframe\">\n",
       "  <thead>\n",
       "    <tr style=\"text-align: right;\">\n",
       "      <th></th>\n",
       "      <th>ChallengeName</th>\n",
       "      <th>Target(Official Symbol)</th>\n",
       "      <th>HBA</th>\n",
       "      <th>cLogP</th>\n",
       "      <th>HBD</th>\n",
       "      <th>Lipinski</th>\n",
       "      <th>SMILES or PubChem ID</th>\n",
       "      <th>MW</th>\n",
       "      <th>AtomStereoCount</th>\n",
       "      <th>BondStereoCount</th>\n",
       "      <th>CID</th>\n",
       "      <th>CanonicalSMILES</th>\n",
       "      <th>Charge</th>\n",
       "      <th>Complexity</th>\n",
       "      <th>ConformerCount3D</th>\n",
       "      <th>ConformerModelRMSD3D</th>\n",
       "      <th>CovalentUnitCount</th>\n",
       "      <th>DefinedAtomStereoCount</th>\n",
       "      <th>DefinedBondStereoCount</th>\n",
       "      <th>EffectiveRotorCount3D</th>\n",
       "      <th>ExactMass</th>\n",
       "      <th>FeatureAcceptorCount3D</th>\n",
       "      <th>FeatureAnionCount3D</th>\n",
       "      <th>FeatureCationCount3D</th>\n",
       "      <th>FeatureCount3D</th>\n",
       "      <th>FeatureDonorCount3D</th>\n",
       "      <th>FeatureHydrophobeCount3D</th>\n",
       "      <th>FeatureRingCount3D</th>\n",
       "      <th>Fingerprint2D</th>\n",
       "      <th>HBondAcceptorCount</th>\n",
       "      <th>HBondDonorCount</th>\n",
       "      <th>HeavyAtomCount</th>\n",
       "      <th>IUPACName</th>\n",
       "      <th>InChI</th>\n",
       "      <th>InChIKey</th>\n",
       "      <th>IsomericSMILES</th>\n",
       "      <th>IsotopeAtomCount</th>\n",
       "      <th>MolecularFormula</th>\n",
       "      <th>MolecularWeight</th>\n",
       "      <th>MonoisotopicMass</th>\n",
       "      <th>RotatableBondCount</th>\n",
       "      <th>TPSA</th>\n",
       "      <th>UndefinedAtomStereoCount</th>\n",
       "      <th>UndefinedBondStereoCount</th>\n",
       "      <th>Volume3D</th>\n",
       "      <th>XLogP</th>\n",
       "      <th>XStericQuadrupole3D</th>\n",
       "      <th>YStericQuadrupole3D</th>\n",
       "      <th>ZStericQuadrupole3D</th>\n",
       "      <th>cids</th>\n",
       "      <th>targets</th>\n",
       "      <th>targets_bioentities</th>\n",
       "      <th>enzymes</th>\n",
       "      <th>enzymes_bioentities</th>\n",
       "      <th>transporters</th>\n",
       "      <th>transporters_bioentities</th>\n",
       "      <th>atcs</th>\n",
       "    </tr>\n",
       "  </thead>\n",
       "  <tbody>\n",
       "    <tr>\n",
       "      <th>0</th>\n",
       "      <td>ADAM17</td>\n",
       "      <td>ADAM17</td>\n",
       "      <td>NaN</td>\n",
       "      <td>NaN</td>\n",
       "      <td>NaN</td>\n",
       "      <td>NaN</td>\n",
       "      <td>None</td>\n",
       "      <td>NaN</td>\n",
       "      <td>NaN</td>\n",
       "      <td>NaN</td>\n",
       "      <td>NaN</td>\n",
       "      <td>None</td>\n",
       "      <td>NaN</td>\n",
       "      <td>NaN</td>\n",
       "      <td>NaN</td>\n",
       "      <td>NaN</td>\n",
       "      <td>NaN</td>\n",
       "      <td>NaN</td>\n",
       "      <td>NaN</td>\n",
       "      <td>NaN</td>\n",
       "      <td>NaN</td>\n",
       "      <td>NaN</td>\n",
       "      <td>NaN</td>\n",
       "      <td>NaN</td>\n",
       "      <td>NaN</td>\n",
       "      <td>NaN</td>\n",
       "      <td>NaN</td>\n",
       "      <td>NaN</td>\n",
       "      <td>None</td>\n",
       "      <td>NaN</td>\n",
       "      <td>NaN</td>\n",
       "      <td>NaN</td>\n",
       "      <td>None</td>\n",
       "      <td>None</td>\n",
       "      <td>None</td>\n",
       "      <td>None</td>\n",
       "      <td>NaN</td>\n",
       "      <td>None</td>\n",
       "      <td>NaN</td>\n",
       "      <td>NaN</td>\n",
       "      <td>NaN</td>\n",
       "      <td>NaN</td>\n",
       "      <td>NaN</td>\n",
       "      <td>NaN</td>\n",
       "      <td>NaN</td>\n",
       "      <td>NaN</td>\n",
       "      <td>NaN</td>\n",
       "      <td>NaN</td>\n",
       "      <td>NaN</td>\n",
       "      <td>None</td>\n",
       "      <td>None</td>\n",
       "      <td>None</td>\n",
       "      <td>None</td>\n",
       "      <td>None</td>\n",
       "      <td>None</td>\n",
       "      <td>None</td>\n",
       "      <td>None</td>\n",
       "    </tr>\n",
       "    <tr>\n",
       "      <th>1</th>\n",
       "      <td>AKT</td>\n",
       "      <td>AKT1, AKT2, AKT3</td>\n",
       "      <td>8</td>\n",
       "      <td>1.18</td>\n",
       "      <td>5</td>\n",
       "      <td>0</td>\n",
       "      <td>c1cc(ccc1[C@H](CCO)NC(=O)C2(CCN(CC2)c3c4cc[nH]...</td>\n",
       "      <td>428.9</td>\n",
       "      <td>1</td>\n",
       "      <td>0</td>\n",
       "      <td>25227436</td>\n",
       "      <td>C1CN(CCC1(C(=O)NC(CCO)C2=CC=C(C=C2)Cl)N)C3=NC=...</td>\n",
       "      <td>0</td>\n",
       "      <td>580</td>\n",
       "      <td>256</td>\n",
       "      <td>1.0</td>\n",
       "      <td>1</td>\n",
       "      <td>1</td>\n",
       "      <td>0</td>\n",
       "      <td>8.2</td>\n",
       "      <td>428.172752</td>\n",
       "      <td>2</td>\n",
       "      <td>0</td>\n",
       "      <td>4</td>\n",
       "      <td>14</td>\n",
       "      <td>4</td>\n",
       "      <td>0</td>\n",
       "      <td>4</td>\n",
       "      <td>AAADceB7sAAEAAAAAAAAAAAAAAAAAWAAAAA8WIAAAAAAAF...</td>\n",
       "      <td>6</td>\n",
       "      <td>4</td>\n",
       "      <td>30</td>\n",
       "      <td>4-amino-N-[(1S)-1-(4-chlorophenyl)-3-hydroxypr...</td>\n",
       "      <td>InChI=1S/C21H25ClN6O2/c22-15-3-1-14(2-4-15)17(...</td>\n",
       "      <td>JDUBGYFRJFOXQC-KRWDZBQOSA-N</td>\n",
       "      <td>C1CN(CCC1(C(=O)N[C@@H](CCO)C2=CC=C(C=C2)Cl)N)C...</td>\n",
       "      <td>0</td>\n",
       "      <td>C21H25ClN6O2</td>\n",
       "      <td>428.91520</td>\n",
       "      <td>428.172752</td>\n",
       "      <td>6</td>\n",
       "      <td>120.0</td>\n",
       "      <td>0</td>\n",
       "      <td>0</td>\n",
       "      <td>319.3</td>\n",
       "      <td>1.7</td>\n",
       "      <td>14.27</td>\n",
       "      <td>5.17</td>\n",
       "      <td>1.08</td>\n",
       "      <td>25227436,42602260,57750340</td>\n",
       "      <td>None</td>\n",
       "      <td>None</td>\n",
       "      <td>None</td>\n",
       "      <td>None</td>\n",
       "      <td>None</td>\n",
       "      <td>None</td>\n",
       "      <td>None</td>\n",
       "    </tr>\n",
       "    <tr>\n",
       "      <th>2</th>\n",
       "      <td>AKT_1</td>\n",
       "      <td>AKT*</td>\n",
       "      <td>6</td>\n",
       "      <td>3.24</td>\n",
       "      <td>3</td>\n",
       "      <td>0</td>\n",
       "      <td>c1ccc(cc1)c2cc3c(ccn4c3n[nH]c4=O)nc2c5ccc(cc5)...</td>\n",
       "      <td>407.5</td>\n",
       "      <td>0</td>\n",
       "      <td>0</td>\n",
       "      <td>24964624</td>\n",
       "      <td>C1CC(C1)(C2=CC=C(C=C2)C3=C(C=C4C(=N3)C=CN5C4=N...</td>\n",
       "      <td>0</td>\n",
       "      <td>760</td>\n",
       "      <td>4</td>\n",
       "      <td>0.8</td>\n",
       "      <td>1</td>\n",
       "      <td>0</td>\n",
       "      <td>0</td>\n",
       "      <td>3.8</td>\n",
       "      <td>407.174610</td>\n",
       "      <td>2</td>\n",
       "      <td>0</td>\n",
       "      <td>1</td>\n",
       "      <td>11</td>\n",
       "      <td>2</td>\n",
       "      <td>0</td>\n",
       "      <td>6</td>\n",
       "      <td>AAADceB7oAAAAAAAAAAAAAAAAABgAQAAAAA8YIEAAAAAAE...</td>\n",
       "      <td>4</td>\n",
       "      <td>2</td>\n",
       "      <td>31</td>\n",
       "      <td>8-[4-(1-aminocyclobutyl)phenyl]-9-phenyl-2H-[1...</td>\n",
       "      <td>InChI=1S/C25H21N5O/c26-25(12-4-13-25)18-9-7-17...</td>\n",
       "      <td>ULDXWLCXEDXJGE-UHFFFAOYSA-N</td>\n",
       "      <td>C1CC(C1)(C2=CC=C(C=C2)C3=C(C=C4C(=N3)C=CN5C4=N...</td>\n",
       "      <td>0</td>\n",
       "      <td>C25H21N5O</td>\n",
       "      <td>407.46714</td>\n",
       "      <td>407.174610</td>\n",
       "      <td>3</td>\n",
       "      <td>83.6</td>\n",
       "      <td>0</td>\n",
       "      <td>0</td>\n",
       "      <td>317.2</td>\n",
       "      <td>3.0</td>\n",
       "      <td>16.28</td>\n",
       "      <td>4.11</td>\n",
       "      <td>1.07</td>\n",
       "      <td>24964624</td>\n",
       "      <td>None</td>\n",
       "      <td>None</td>\n",
       "      <td>None</td>\n",
       "      <td>None</td>\n",
       "      <td>None</td>\n",
       "      <td>None</td>\n",
       "      <td>None</td>\n",
       "    </tr>\n",
       "    <tr>\n",
       "      <th>3</th>\n",
       "      <td>AKT_PIK3C</td>\n",
       "      <td>AKT*,PIK3C*</td>\n",
       "      <td>NaN</td>\n",
       "      <td>NaN</td>\n",
       "      <td>NaN</td>\n",
       "      <td>NaN</td>\n",
       "      <td>None</td>\n",
       "      <td>NaN</td>\n",
       "      <td>NaN</td>\n",
       "      <td>NaN</td>\n",
       "      <td>NaN</td>\n",
       "      <td>None</td>\n",
       "      <td>NaN</td>\n",
       "      <td>NaN</td>\n",
       "      <td>NaN</td>\n",
       "      <td>NaN</td>\n",
       "      <td>NaN</td>\n",
       "      <td>NaN</td>\n",
       "      <td>NaN</td>\n",
       "      <td>NaN</td>\n",
       "      <td>NaN</td>\n",
       "      <td>NaN</td>\n",
       "      <td>NaN</td>\n",
       "      <td>NaN</td>\n",
       "      <td>NaN</td>\n",
       "      <td>NaN</td>\n",
       "      <td>NaN</td>\n",
       "      <td>NaN</td>\n",
       "      <td>None</td>\n",
       "      <td>NaN</td>\n",
       "      <td>NaN</td>\n",
       "      <td>NaN</td>\n",
       "      <td>None</td>\n",
       "      <td>None</td>\n",
       "      <td>None</td>\n",
       "      <td>None</td>\n",
       "      <td>NaN</td>\n",
       "      <td>None</td>\n",
       "      <td>NaN</td>\n",
       "      <td>NaN</td>\n",
       "      <td>NaN</td>\n",
       "      <td>NaN</td>\n",
       "      <td>NaN</td>\n",
       "      <td>NaN</td>\n",
       "      <td>NaN</td>\n",
       "      <td>NaN</td>\n",
       "      <td>NaN</td>\n",
       "      <td>NaN</td>\n",
       "      <td>NaN</td>\n",
       "      <td>None</td>\n",
       "      <td>None</td>\n",
       "      <td>None</td>\n",
       "      <td>None</td>\n",
       "      <td>None</td>\n",
       "      <td>None</td>\n",
       "      <td>None</td>\n",
       "      <td>None</td>\n",
       "    </tr>\n",
       "    <tr>\n",
       "      <th>4</th>\n",
       "      <td>AKT_SGK</td>\n",
       "      <td>AKT*,SGK*</td>\n",
       "      <td>NaN</td>\n",
       "      <td>NaN</td>\n",
       "      <td>NaN</td>\n",
       "      <td>NaN</td>\n",
       "      <td>None</td>\n",
       "      <td>NaN</td>\n",
       "      <td>NaN</td>\n",
       "      <td>NaN</td>\n",
       "      <td>NaN</td>\n",
       "      <td>None</td>\n",
       "      <td>NaN</td>\n",
       "      <td>NaN</td>\n",
       "      <td>NaN</td>\n",
       "      <td>NaN</td>\n",
       "      <td>NaN</td>\n",
       "      <td>NaN</td>\n",
       "      <td>NaN</td>\n",
       "      <td>NaN</td>\n",
       "      <td>NaN</td>\n",
       "      <td>NaN</td>\n",
       "      <td>NaN</td>\n",
       "      <td>NaN</td>\n",
       "      <td>NaN</td>\n",
       "      <td>NaN</td>\n",
       "      <td>NaN</td>\n",
       "      <td>NaN</td>\n",
       "      <td>None</td>\n",
       "      <td>NaN</td>\n",
       "      <td>NaN</td>\n",
       "      <td>NaN</td>\n",
       "      <td>None</td>\n",
       "      <td>None</td>\n",
       "      <td>None</td>\n",
       "      <td>None</td>\n",
       "      <td>NaN</td>\n",
       "      <td>None</td>\n",
       "      <td>NaN</td>\n",
       "      <td>NaN</td>\n",
       "      <td>NaN</td>\n",
       "      <td>NaN</td>\n",
       "      <td>NaN</td>\n",
       "      <td>NaN</td>\n",
       "      <td>NaN</td>\n",
       "      <td>NaN</td>\n",
       "      <td>NaN</td>\n",
       "      <td>NaN</td>\n",
       "      <td>NaN</td>\n",
       "      <td>None</td>\n",
       "      <td>None</td>\n",
       "      <td>None</td>\n",
       "      <td>None</td>\n",
       "      <td>None</td>\n",
       "      <td>None</td>\n",
       "      <td>None</td>\n",
       "      <td>None</td>\n",
       "    </tr>\n",
       "  </tbody>\n",
       "</table>\n",
       "</div>"
      ],
      "text/plain": [
       "  ChallengeName Target(Official Symbol)  HBA  cLogP  HBD  Lipinski                               SMILES or PubChem ID     MW  AtomStereoCount  BondStereoCount       CID                                    CanonicalSMILES  Charge  Complexity  ConformerCount3D  ConformerModelRMSD3D  CovalentUnitCount  DefinedAtomStereoCount  DefinedBondStereoCount  EffectiveRotorCount3D   ExactMass  FeatureAcceptorCount3D  FeatureAnionCount3D  FeatureCationCount3D  FeatureCount3D  FeatureDonorCount3D  FeatureHydrophobeCount3D  FeatureRingCount3D                                      Fingerprint2D  HBondAcceptorCount  HBondDonorCount  HeavyAtomCount                                          IUPACName                                              InChI                     InChIKey                                     IsomericSMILES  IsotopeAtomCount MolecularFormula  MolecularWeight  MonoisotopicMass  RotatableBondCount   TPSA  UndefinedAtomStereoCount  UndefinedBondStereoCount  Volume3D  XLogP  \\\n",
       "0        ADAM17                  ADAM17  NaN    NaN  NaN       NaN                                               None    NaN              NaN              NaN       NaN                                               None     NaN         NaN               NaN                   NaN                NaN                     NaN                     NaN                    NaN         NaN                     NaN                  NaN                   NaN             NaN                  NaN                       NaN                 NaN                                               None                 NaN              NaN             NaN                                               None                                               None                         None                                               None               NaN             None              NaN               NaN                 NaN    NaN                       NaN                       NaN       NaN    NaN   \n",
       "1           AKT        AKT1, AKT2, AKT3    8   1.18    5         0  c1cc(ccc1[C@H](CCO)NC(=O)C2(CCN(CC2)c3c4cc[nH]...  428.9                1                0  25227436  C1CN(CCC1(C(=O)NC(CCO)C2=CC=C(C=C2)Cl)N)C3=NC=...       0         580               256                   1.0                  1                       1                       0                    8.2  428.172752                       2                    0                     4              14                    4                         0                   4  AAADceB7sAAEAAAAAAAAAAAAAAAAAWAAAAA8WIAAAAAAAF...                   6                4              30  4-amino-N-[(1S)-1-(4-chlorophenyl)-3-hydroxypr...  InChI=1S/C21H25ClN6O2/c22-15-3-1-14(2-4-15)17(...  JDUBGYFRJFOXQC-KRWDZBQOSA-N  C1CN(CCC1(C(=O)N[C@@H](CCO)C2=CC=C(C=C2)Cl)N)C...                 0     C21H25ClN6O2        428.91520        428.172752                   6  120.0                         0                         0     319.3    1.7   \n",
       "2         AKT_1                    AKT*    6   3.24    3         0  c1ccc(cc1)c2cc3c(ccn4c3n[nH]c4=O)nc2c5ccc(cc5)...  407.5                0                0  24964624  C1CC(C1)(C2=CC=C(C=C2)C3=C(C=C4C(=N3)C=CN5C4=N...       0         760                 4                   0.8                  1                       0                       0                    3.8  407.174610                       2                    0                     1              11                    2                         0                   6  AAADceB7oAAAAAAAAAAAAAAAAABgAQAAAAA8YIEAAAAAAE...                   4                2              31  8-[4-(1-aminocyclobutyl)phenyl]-9-phenyl-2H-[1...  InChI=1S/C25H21N5O/c26-25(12-4-13-25)18-9-7-17...  ULDXWLCXEDXJGE-UHFFFAOYSA-N  C1CC(C1)(C2=CC=C(C=C2)C3=C(C=C4C(=N3)C=CN5C4=N...                 0        C25H21N5O        407.46714        407.174610                   3   83.6                         0                         0     317.2    3.0   \n",
       "3     AKT_PIK3C             AKT*,PIK3C*  NaN    NaN  NaN       NaN                                               None    NaN              NaN              NaN       NaN                                               None     NaN         NaN               NaN                   NaN                NaN                     NaN                     NaN                    NaN         NaN                     NaN                  NaN                   NaN             NaN                  NaN                       NaN                 NaN                                               None                 NaN              NaN             NaN                                               None                                               None                         None                                               None               NaN             None              NaN               NaN                 NaN    NaN                       NaN                       NaN       NaN    NaN   \n",
       "4       AKT_SGK               AKT*,SGK*  NaN    NaN  NaN       NaN                                               None    NaN              NaN              NaN       NaN                                               None     NaN         NaN               NaN                   NaN                NaN                     NaN                     NaN                    NaN         NaN                     NaN                  NaN                   NaN             NaN                  NaN                       NaN                 NaN                                               None                 NaN              NaN             NaN                                               None                                               None                         None                                               None               NaN             None              NaN               NaN                 NaN    NaN                       NaN                       NaN       NaN    NaN   \n",
       "\n",
       "   XStericQuadrupole3D  YStericQuadrupole3D  ZStericQuadrupole3D                        cids targets targets_bioentities enzymes enzymes_bioentities transporters transporters_bioentities  atcs  \n",
       "0                  NaN                  NaN                  NaN                        None    None                None    None                None         None                     None  None  \n",
       "1                14.27                 5.17                 1.08  25227436,42602260,57750340    None                None    None                None         None                     None  None  \n",
       "2                16.28                 4.11                 1.07                    24964624    None                None    None                None         None                     None  None  \n",
       "3                  NaN                  NaN                  NaN                        None    None                None    None                None         None                     None  None  \n",
       "4                  NaN                  NaN                  NaN                        None    None                None    None                None         None                     None  None  "
      ]
     },
     "metadata": {},
     "output_type": "display_data"
    },
    {
     "name": "stdout",
     "output_type": "stream",
     "text": [
      "(119, 57)\n"
     ]
    }
   ],
   "source": [
    "display(drug_info_release_3.head())\n",
    "print(drug_info_release_3.shape)"
   ]
  },
  {
   "cell_type": "code",
   "execution_count": null,
   "metadata": {
    "collapsed": true,
    "run_control": {
     "marked": false
    }
   },
   "outputs": [],
   "source": []
  },
  {
   "cell_type": "markdown",
   "metadata": {
    "run_control": {
     "marked": false
    }
   },
   "source": [
    "## Load drug info data"
   ]
  },
  {
   "cell_type": "code",
   "execution_count": 14,
   "metadata": {
    "collapsed": false,
    "run_control": {
     "marked": false
    }
   },
   "outputs": [],
   "source": [
    "engine = sa.create_engine('mysql://strokach:@192.168.6.19:3306/az_dream')\n",
    "drug_to_cid = pd.read_sql('drug_to_cid', engine)\n",
    "\n",
    "engine = sa.create_engine('mysql://strokach:@192.168.6.19:3306/az_dream_2015')\n",
    "all_drug_pairs = pd.read_sql('DRUG_PAIRS', engine)\n",
    "drug_to_target = pd.read_sql('drug_to_target' + SUFFIX, engine)"
   ]
  },
  {
   "cell_type": "code",
   "execution_count": 15,
   "metadata": {
    "collapsed": false
   },
   "outputs": [
    {
     "data": {
      "text/html": [
       "<div>\n",
       "<table border=\"1\" class=\"dataframe\">\n",
       "  <thead>\n",
       "    <tr style=\"text-align: right;\">\n",
       "      <th></th>\n",
       "      <th>d_1</th>\n",
       "      <th>d_2</th>\n",
       "    </tr>\n",
       "  </thead>\n",
       "  <tbody>\n",
       "    <tr>\n",
       "      <th>0</th>\n",
       "      <td>ADAM17</td>\n",
       "      <td>ADAM17</td>\n",
       "    </tr>\n",
       "    <tr>\n",
       "      <th>1</th>\n",
       "      <td>ADAM17</td>\n",
       "      <td>AKT</td>\n",
       "    </tr>\n",
       "  </tbody>\n",
       "</table>\n",
       "</div>"
      ],
      "text/plain": [
       "      d_1     d_2\n",
       "0  ADAM17  ADAM17\n",
       "1  ADAM17     AKT"
      ]
     },
     "execution_count": 15,
     "metadata": {},
     "output_type": "execute_result"
    }
   ],
   "source": [
    "all_drug_pairs.head(2)"
   ]
  },
  {
   "cell_type": "code",
   "execution_count": 16,
   "metadata": {
    "collapsed": false,
    "run_control": {
     "marked": false
    }
   },
   "outputs": [],
   "source": [
    "all_drug_pairs['unique_id'] = all_drug_pairs['d_1'] + '.' + all_drug_pairs['d_2']\n",
    "all_drug_pairs.sort_values(['d_1', 'd_2'], inplace=True)"
   ]
  },
  {
   "cell_type": "code",
   "execution_count": 17,
   "metadata": {
    "collapsed": false,
    "run_control": {
     "marked": false
    }
   },
   "outputs": [
    {
     "data": {
      "text/html": [
       "<div>\n",
       "<table border=\"1\" class=\"dataframe\">\n",
       "  <thead>\n",
       "    <tr style=\"text-align: right;\">\n",
       "      <th></th>\n",
       "      <th>d_1</th>\n",
       "      <th>d_2</th>\n",
       "      <th>unique_id</th>\n",
       "    </tr>\n",
       "  </thead>\n",
       "  <tbody>\n",
       "    <tr>\n",
       "      <th>0</th>\n",
       "      <td>ADAM17</td>\n",
       "      <td>ADAM17</td>\n",
       "      <td>ADAM17.ADAM17</td>\n",
       "    </tr>\n",
       "    <tr>\n",
       "      <th>1</th>\n",
       "      <td>ADAM17</td>\n",
       "      <td>AKT</td>\n",
       "      <td>ADAM17.AKT</td>\n",
       "    </tr>\n",
       "  </tbody>\n",
       "</table>\n",
       "</div>"
      ],
      "text/plain": [
       "      d_1     d_2      unique_id\n",
       "0  ADAM17  ADAM17  ADAM17.ADAM17\n",
       "1  ADAM17     AKT     ADAM17.AKT"
      ]
     },
     "execution_count": 17,
     "metadata": {},
     "output_type": "execute_result"
    }
   ],
   "source": [
    "all_drug_pairs.head(2)"
   ]
  },
  {
   "cell_type": "code",
   "execution_count": 18,
   "metadata": {
    "collapsed": false,
    "run_control": {
     "marked": false
    }
   },
   "outputs": [
    {
     "data": {
      "text/html": [
       "<div>\n",
       "<table border=\"1\" class=\"dataframe\">\n",
       "  <thead>\n",
       "    <tr style=\"text-align: right;\">\n",
       "      <th></th>\n",
       "      <th>ChallengeName</th>\n",
       "      <th>cid</th>\n",
       "    </tr>\n",
       "  </thead>\n",
       "  <tbody>\n",
       "    <tr>\n",
       "      <th>0</th>\n",
       "      <td>AKT</td>\n",
       "      <td>25227436</td>\n",
       "    </tr>\n",
       "    <tr>\n",
       "      <th>1</th>\n",
       "      <td>AKT</td>\n",
       "      <td>57750340</td>\n",
       "    </tr>\n",
       "  </tbody>\n",
       "</table>\n",
       "</div>"
      ],
      "text/plain": [
       "  ChallengeName       cid\n",
       "0           AKT  25227436\n",
       "1           AKT  57750340"
      ]
     },
     "execution_count": 18,
     "metadata": {},
     "output_type": "execute_result"
    }
   ],
   "source": [
    "drug_to_cid.head(2)"
   ]
  },
  {
   "cell_type": "code",
   "execution_count": 19,
   "metadata": {
    "collapsed": false,
    "run_control": {
     "marked": false
    }
   },
   "outputs": [
    {
     "data": {
      "text/plain": [
       "ChallengeName    object\n",
       "cid               int64\n",
       "dtype: object"
      ]
     },
     "execution_count": 19,
     "metadata": {},
     "output_type": "execute_result"
    }
   ],
   "source": [
    "drug_to_cid.dtypes"
   ]
  },
  {
   "cell_type": "code",
   "execution_count": 20,
   "metadata": {
    "collapsed": false,
    "run_control": {
     "marked": false
    }
   },
   "outputs": [
    {
     "data": {
      "text/html": [
       "<div>\n",
       "<table border=\"1\" class=\"dataframe\">\n",
       "  <thead>\n",
       "    <tr style=\"text-align: right;\">\n",
       "      <th></th>\n",
       "      <th>drug</th>\n",
       "      <th>target_original</th>\n",
       "      <th>target</th>\n",
       "      <th>hgnc_name</th>\n",
       "      <th>hgnc_acc</th>\n",
       "      <th>hgnc_description</th>\n",
       "      <th>ensg</th>\n",
       "      <th>enst</th>\n",
       "      <th>ensp</th>\n",
       "      <th>ensp_idx</th>\n",
       "    </tr>\n",
       "  </thead>\n",
       "  <tbody>\n",
       "    <tr>\n",
       "      <th>0</th>\n",
       "      <td>AKT</td>\n",
       "      <td>AKT1, AKT2, AKT3</td>\n",
       "      <td>AKT1, AKT2, AKT3</td>\n",
       "      <td>RTN1</td>\n",
       "      <td>HGNC:10467</td>\n",
       "      <td>reticulon 1</td>\n",
       "      <td>ENSG00000139970</td>\n",
       "      <td>ENST00000267484</td>\n",
       "      <td>ENSP00000267484</td>\n",
       "      <td>267484</td>\n",
       "    </tr>\n",
       "    <tr>\n",
       "      <th>1</th>\n",
       "      <td>AKT</td>\n",
       "      <td>AKT1, AKT2, AKT3</td>\n",
       "      <td>AKT1, AKT2, AKT3</td>\n",
       "      <td>RTN4</td>\n",
       "      <td>HGNC:14085</td>\n",
       "      <td>reticulon 4</td>\n",
       "      <td>ENSG00000115310</td>\n",
       "      <td>ENST00000337526</td>\n",
       "      <td>ENSP00000337838</td>\n",
       "      <td>337838</td>\n",
       "    </tr>\n",
       "  </tbody>\n",
       "</table>\n",
       "</div>"
      ],
      "text/plain": [
       "  drug   target_original            target hgnc_name    hgnc_acc hgnc_description             ensg             enst             ensp  ensp_idx\n",
       "0  AKT  AKT1, AKT2, AKT3  AKT1, AKT2, AKT3      RTN1  HGNC:10467      reticulon 1  ENSG00000139970  ENST00000267484  ENSP00000267484    267484\n",
       "1  AKT  AKT1, AKT2, AKT3  AKT1, AKT2, AKT3      RTN4  HGNC:14085      reticulon 4  ENSG00000115310  ENST00000337526  ENSP00000337838    337838"
      ]
     },
     "execution_count": 20,
     "metadata": {},
     "output_type": "execute_result"
    }
   ],
   "source": [
    "drug_to_target.head(2)"
   ]
  },
  {
   "cell_type": "code",
   "execution_count": null,
   "metadata": {
    "collapsed": true,
    "run_control": {
     "marked": false
    }
   },
   "outputs": [],
   "source": []
  },
  {
   "cell_type": "markdown",
   "metadata": {
    "run_control": {
     "marked": false
    }
   },
   "source": [
    "# Connect to database"
   ]
  },
  {
   "cell_type": "code",
   "execution_count": 49,
   "metadata": {
    "collapsed": false,
    "run_control": {
     "marked": false
    }
   },
   "outputs": [
    {
     "name": "stderr",
     "output_type": "stream",
     "text": [
      "DEBUG:sqlalchemy.pool.QueuePool:Created new connection <_mysql.connection open to '192.168.6.19' at 2e3f978>\n",
      "DEBUG:sqlalchemy.pool.QueuePool:Connection <_mysql.connection open to '192.168.6.19' at 2e3f978> checked out from pool\n",
      "DEBUG:sqlalchemy.pool.QueuePool:Connection <_mysql.connection open to '192.168.6.19' at 2e3f978> being returned to pool\n",
      "DEBUG:sqlalchemy.pool.QueuePool:Connection <_mysql.connection open to '192.168.6.19' at 2e3f978> rollback-on-return\n"
     ]
    }
   ],
   "source": [
    "from importlib import reload\n",
    "import csv2sql\n",
    "reload(csv2sql)\n",
    "import logging\n",
    "db = csv2sql.DataFrameToMySQL(\n",
    "    'mysql://strokach:@192.168.6.19:3306/az_dream_2015', \n",
    "    'drug_pair_to_target_pair', \n",
    "    '192.168.233.20', \n",
    "    echo=False\n",
    ")"
   ]
  },
  {
   "cell_type": "code",
   "execution_count": null,
   "metadata": {
    "collapsed": true,
    "run_control": {
     "marked": false
    }
   },
   "outputs": [],
   "source": []
  },
  {
   "cell_type": "markdown",
   "metadata": {},
   "source": [
    "# Tables"
   ]
  },
  {
   "cell_type": "markdown",
   "metadata": {
    "collapsed": true,
    "run_control": {
     "marked": false
    }
   },
   "source": [
    "## drug_pair_to_cid_pair"
   ]
  },
  {
   "cell_type": "code",
   "execution_count": 22,
   "metadata": {
    "collapsed": false,
    "run_control": {
     "marked": false
    }
   },
   "outputs": [],
   "source": [
    "drug_pair_to_cid_pair = (\n",
    "    all_drug_pairs\n",
    "    .merge(\n",
    "        drug_to_cid[['ChallengeName', 'cid']]\n",
    "            .rename(columns={'ChallengeName': 'd_1', 'cid': 'cid_1'}), \n",
    "        on=['d_1'])\n",
    "    .merge(\n",
    "        drug_to_cid[['ChallengeName', 'cid']]\n",
    "            .rename(columns={'ChallengeName': 'd_2', 'cid': 'cid_2'}), \n",
    "        on=['d_2'])\n",
    ")\n",
    "#\n",
    "idx = (drug_pair_to_cid_pair['cid_1'] > drug_pair_to_cid_pair['cid_2'])\n",
    "(drug_pair_to_cid_pair.loc[idx, 'cid_1'], drug_pair_to_cid_pair.loc[idx, 'cid_2']) = (\n",
    "    drug_pair_to_cid_pair.loc[idx, 'cid_2'], drug_pair_to_cid_pair.loc[idx, 'cid_1']\n",
    ")\n",
    "drug_pair_to_cid_pair['cid_pair'] = (\n",
    "    drug_pair_to_cid_pair['cid_1'].astype(int).astype(str) + ',' + \n",
    "    drug_pair_to_cid_pair['cid_2'].astype(int).astype(str)\n",
    ")"
   ]
  },
  {
   "cell_type": "code",
   "execution_count": 23,
   "metadata": {
    "collapsed": false,
    "run_control": {
     "marked": false
    }
   },
   "outputs": [
    {
     "name": "stdout",
     "output_type": "stream",
     "text": [
      "832,613\n",
      "789,395\n"
     ]
    }
   ],
   "source": [
    "print('{:,d}'.format(drug_pair_to_cid_pair.shape[0]))\n",
    "drug_pair_to_cid_pair = drug_pair_to_cid_pair.drop_duplicates()\n",
    "print('{:,d}'.format(drug_pair_to_cid_pair.drop_duplicates().shape[0]))"
   ]
  },
  {
   "cell_type": "code",
   "execution_count": 24,
   "metadata": {
    "collapsed": false,
    "run_control": {
     "marked": false
    }
   },
   "outputs": [
    {
     "data": {
      "text/html": [
       "<div>\n",
       "<table border=\"1\" class=\"dataframe\">\n",
       "  <thead>\n",
       "    <tr style=\"text-align: right;\">\n",
       "      <th></th>\n",
       "      <th>d_1</th>\n",
       "      <th>d_2</th>\n",
       "      <th>unique_id</th>\n",
       "      <th>cid_1</th>\n",
       "      <th>cid_2</th>\n",
       "      <th>cid_pair</th>\n",
       "    </tr>\n",
       "  </thead>\n",
       "  <tbody>\n",
       "    <tr>\n",
       "      <th>0</th>\n",
       "      <td>AKT</td>\n",
       "      <td>AKT</td>\n",
       "      <td>AKT.AKT</td>\n",
       "      <td>25227436</td>\n",
       "      <td>25227436</td>\n",
       "      <td>25227436,25227436</td>\n",
       "    </tr>\n",
       "    <tr>\n",
       "      <th>1</th>\n",
       "      <td>AKT</td>\n",
       "      <td>AKT</td>\n",
       "      <td>AKT.AKT</td>\n",
       "      <td>25227436</td>\n",
       "      <td>57750340</td>\n",
       "      <td>25227436,57750340</td>\n",
       "    </tr>\n",
       "  </tbody>\n",
       "</table>\n",
       "</div>"
      ],
      "text/plain": [
       "   d_1  d_2 unique_id     cid_1     cid_2           cid_pair\n",
       "0  AKT  AKT   AKT.AKT  25227436  25227436  25227436,25227436\n",
       "1  AKT  AKT   AKT.AKT  25227436  57750340  25227436,57750340"
      ]
     },
     "execution_count": 24,
     "metadata": {},
     "output_type": "execute_result"
    }
   ],
   "source": [
    "drug_pair_to_cid_pair.head(2)"
   ]
  },
  {
   "cell_type": "code",
   "execution_count": 25,
   "metadata": {
    "collapsed": false,
    "run_control": {
     "marked": false
    }
   },
   "outputs": [
    {
     "data": {
      "text/plain": [
       "d_1          object\n",
       "d_2          object\n",
       "unique_id    object\n",
       "cid_1         int64\n",
       "cid_2         int64\n",
       "cid_pair     object\n",
       "dtype: object"
      ]
     },
     "execution_count": 25,
     "metadata": {},
     "output_type": "execute_result"
    }
   ],
   "source": [
    "drug_pair_to_cid_pair.dtypes"
   ]
  },
  {
   "cell_type": "code",
   "execution_count": 26,
   "metadata": {
    "collapsed": false,
    "run_control": {
     "marked": false
    }
   },
   "outputs": [],
   "source": [
    "assert not any(drug_pair_to_cid_pair['cid_1'] > drug_pair_to_cid_pair['cid_2'])"
   ]
  },
  {
   "cell_type": "code",
   "execution_count": null,
   "metadata": {
    "collapsed": true,
    "run_control": {
     "marked": false
    }
   },
   "outputs": [],
   "source": []
  },
  {
   "cell_type": "code",
   "execution_count": 27,
   "metadata": {
    "collapsed": false
   },
   "outputs": [
    {
     "name": "stderr",
     "output_type": "stream",
     "text": [
      "DEBUG:csv2sql.core:Uncompressing file...\n",
      "INFO:csv2sql.core:bzip2 -dkf '/home/kimlab1/database_data/biodata/recipes/az_dream_2015/notebooks/drug_pair_to_target_pair/drug_pair_to_cid_pair_stitch.tsv.bz2'\n",
      "DEBUG:csv2sql.core:Running on host: '192.168.233.20'\n",
      "DEBUG:csv2sql.core:Initializing SSH client: '192.168.233.20'\n",
      "DEBUG:csv2sql.core:Command ran successfully!\n",
      "DEBUG:csv2sql.core:output: \n"
     ]
    },
    {
     "name": "stdout",
     "output_type": "stream",
     "text": [
      "FML\n",
      "FML\n",
      "FML"
     ]
    },
    {
     "name": "stderr",
     "output_type": "stream",
     "text": [
      "DEBUG:csv2sql.core:Loading data into MySQL table: 'drug_pair_to_cid_pair_stitch'...\n",
      "INFO:csv2sql.core:mysql --local-infile -h 192.168.6.19 -P 3306 -u strokach  az_dream_2015 -e \"load data local infile '/home/kimlab1/database_data/biodata/recipes/az_dream_2015/notebooks/drug_pair_to_target_pair/drug_pair_to_cid_pair_stitch.tsv' into table `drug_pair_to_cid_pair_stitch` ignore 1 lines;  show warnings;\" \n",
      "DEBUG:csv2sql.core:Running locally\n",
      "DEBUG:csv2sql.core:Command ran successfully!\n",
      "DEBUG:csv2sql.core:output: \n",
      "DEBUG:csv2sql.core:Removing uncompressed file '/home/kimlab1/database_data/biodata/recipes/az_dream_2015/notebooks/drug_pair_to_target_pair/drug_pair_to_cid_pair_stitch.tsv'...\n",
      "INFO:csv2sql.core:rm -f '/home/kimlab1/database_data/biodata/recipes/az_dream_2015/notebooks/drug_pair_to_target_pair/drug_pair_to_cid_pair_stitch.tsv'\n",
      "DEBUG:csv2sql.core:Running locally\n",
      "DEBUG:csv2sql.core:Command ran successfully!\n",
      "DEBUG:csv2sql.core:output: \n"
     ]
    },
    {
     "name": "stdout",
     "output_type": "stream",
     "text": [
      "\n"
     ]
    }
   ],
   "source": [
    "# Save to database\n",
    "db.import_table(\n",
    "    drug_pair_to_cid_pair, \n",
    "    'drug_pair_to_cid_pair' + SUFFIX, \n",
    "    [(('unique_id', 'd_1', 'd_2'), False), \n",
    "     (('d_1', 'd_2', 'unique_id'), False), \n",
    "     (('unique_id', 'cid_1', 'cid_2'), False), \n",
    "     (('cid_1', 'cid_2', 'unique_id'), False), \n",
    "     (('unique_id', 'cid_pair'), False), \n",
    "     (('cid_pair', 'unique_id'), False)] \n",
    ")"
   ]
  },
  {
   "cell_type": "code",
   "execution_count": null,
   "metadata": {
    "collapsed": true,
    "run_control": {
     "marked": false
    }
   },
   "outputs": [],
   "source": []
  },
  {
   "cell_type": "markdown",
   "metadata": {
    "run_control": {
     "marked": false
    }
   },
   "source": [
    "## drug_pair_to_ensp_pair"
   ]
  },
  {
   "cell_type": "code",
   "execution_count": 28,
   "metadata": {
    "collapsed": false,
    "run_control": {
     "marked": false
    }
   },
   "outputs": [],
   "source": [
    "drug_pair_to_ensp_pair = (\n",
    "    all_drug_pairs\n",
    "    .merge(\n",
    "        drug_to_target[['drug', 'ensp']]\n",
    "            .rename(columns={'drug': 'd_1', 'ensp': 'ensp_1'}), \n",
    "        on=['d_1'])\n",
    "    .merge(\n",
    "        drug_to_target[['drug', 'ensp']]\n",
    "            .rename(columns={'drug': 'd_2', 'ensp': 'ensp_2'}), \n",
    "        on=['d_2'])\n",
    ")\n",
    "#\n",
    "idx = (drug_pair_to_ensp_pair['ensp_1'] > drug_pair_to_ensp_pair['ensp_2'])\n",
    "(drug_pair_to_ensp_pair.loc[idx, 'ensp_1'], drug_pair_to_ensp_pair.loc[idx, 'ensp_2']) = (\n",
    "    drug_pair_to_ensp_pair.loc[idx, 'ensp_2'], drug_pair_to_ensp_pair.loc[idx, 'ensp_1']\n",
    ")\n",
    "drug_pair_to_ensp_pair['ensp_pair'] = (\n",
    "    drug_pair_to_ensp_pair['ensp_1'] + ',' + drug_pair_to_ensp_pair['ensp_2']\n",
    ")"
   ]
  },
  {
   "cell_type": "code",
   "execution_count": 29,
   "metadata": {
    "collapsed": false,
    "run_control": {
     "marked": false
    }
   },
   "outputs": [
    {
     "name": "stdout",
     "output_type": "stream",
     "text": [
      "50,668,566\n",
      "47,699,947\n"
     ]
    }
   ],
   "source": [
    "print('{:,d}'.format(drug_pair_to_ensp_pair.shape[0]))\n",
    "drug_pair_to_ensp_pair = drug_pair_to_ensp_pair.drop_duplicates()\n",
    "print('{:,d}'.format(drug_pair_to_ensp_pair.drop_duplicates().shape[0]))"
   ]
  },
  {
   "cell_type": "code",
   "execution_count": 30,
   "metadata": {
    "collapsed": false,
    "run_control": {
     "marked": false
    }
   },
   "outputs": [
    {
     "data": {
      "text/html": [
       "<div>\n",
       "<table border=\"1\" class=\"dataframe\">\n",
       "  <thead>\n",
       "    <tr style=\"text-align: right;\">\n",
       "      <th></th>\n",
       "      <th>d_1</th>\n",
       "      <th>d_2</th>\n",
       "      <th>unique_id</th>\n",
       "      <th>ensp_1</th>\n",
       "      <th>ensp_2</th>\n",
       "      <th>ensp_pair</th>\n",
       "    </tr>\n",
       "  </thead>\n",
       "  <tbody>\n",
       "    <tr>\n",
       "      <th>0</th>\n",
       "      <td>ADAM17</td>\n",
       "      <td>ADAM17</td>\n",
       "      <td>ADAM17.ADAM17</td>\n",
       "      <td>ENSP00000309968</td>\n",
       "      <td>ENSP00000309968</td>\n",
       "      <td>ENSP00000309968,ENSP00000309968</td>\n",
       "    </tr>\n",
       "    <tr>\n",
       "      <th>1</th>\n",
       "      <td>ADAM17</td>\n",
       "      <td>ADAM17</td>\n",
       "      <td>ADAM17.ADAM17</td>\n",
       "      <td>ENSP00000309968</td>\n",
       "      <td>ENSP00000418728</td>\n",
       "      <td>ENSP00000309968,ENSP00000418728</td>\n",
       "    </tr>\n",
       "    <tr>\n",
       "      <th>2</th>\n",
       "      <td>ADAM17</td>\n",
       "      <td>ADAM17</td>\n",
       "      <td>ADAM17.ADAM17</td>\n",
       "      <td>ENSP00000309968</td>\n",
       "      <td>ENSP00000480552</td>\n",
       "      <td>ENSP00000309968,ENSP00000480552</td>\n",
       "    </tr>\n",
       "    <tr>\n",
       "      <th>4</th>\n",
       "      <td>ADAM17</td>\n",
       "      <td>ADAM17</td>\n",
       "      <td>ADAM17.ADAM17</td>\n",
       "      <td>ENSP00000418728</td>\n",
       "      <td>ENSP00000418728</td>\n",
       "      <td>ENSP00000418728,ENSP00000418728</td>\n",
       "    </tr>\n",
       "    <tr>\n",
       "      <th>5</th>\n",
       "      <td>ADAM17</td>\n",
       "      <td>ADAM17</td>\n",
       "      <td>ADAM17.ADAM17</td>\n",
       "      <td>ENSP00000418728</td>\n",
       "      <td>ENSP00000480552</td>\n",
       "      <td>ENSP00000418728,ENSP00000480552</td>\n",
       "    </tr>\n",
       "  </tbody>\n",
       "</table>\n",
       "</div>"
      ],
      "text/plain": [
       "      d_1     d_2      unique_id           ensp_1           ensp_2                        ensp_pair\n",
       "0  ADAM17  ADAM17  ADAM17.ADAM17  ENSP00000309968  ENSP00000309968  ENSP00000309968,ENSP00000309968\n",
       "1  ADAM17  ADAM17  ADAM17.ADAM17  ENSP00000309968  ENSP00000418728  ENSP00000309968,ENSP00000418728\n",
       "2  ADAM17  ADAM17  ADAM17.ADAM17  ENSP00000309968  ENSP00000480552  ENSP00000309968,ENSP00000480552\n",
       "4  ADAM17  ADAM17  ADAM17.ADAM17  ENSP00000418728  ENSP00000418728  ENSP00000418728,ENSP00000418728\n",
       "5  ADAM17  ADAM17  ADAM17.ADAM17  ENSP00000418728  ENSP00000480552  ENSP00000418728,ENSP00000480552"
      ]
     },
     "metadata": {},
     "output_type": "display_data"
    }
   ],
   "source": [
    "display(drug_pair_to_ensp_pair.head())"
   ]
  },
  {
   "cell_type": "code",
   "execution_count": null,
   "metadata": {
    "collapsed": true,
    "run_control": {
     "marked": false
    }
   },
   "outputs": [],
   "source": []
  },
  {
   "cell_type": "code",
   "execution_count": 31,
   "metadata": {
    "collapsed": false
   },
   "outputs": [
    {
     "name": "stderr",
     "output_type": "stream",
     "text": [
      "DEBUG:csv2sql.core:Uncompressing file...\n",
      "INFO:csv2sql.core:bzip2 -dkf '/home/kimlab1/database_data/biodata/recipes/az_dream_2015/notebooks/drug_pair_to_target_pair/drug_pair_to_ensp_pair_stitch.tsv.bz2'\n",
      "DEBUG:csv2sql.core:Running on host: '192.168.233.20'\n",
      "DEBUG:csv2sql.core:Command ran successfully!\n",
      "DEBUG:csv2sql.core:output: \n",
      "DEBUG:csv2sql.core:Loading data into MySQL table: 'drug_pair_to_ensp_pair_stitch'...\n",
      "INFO:csv2sql.core:mysql --local-infile -h 192.168.6.19 -P 3306 -u strokach  az_dream_2015 -e \"load data local infile '/home/kimlab1/database_data/biodata/recipes/az_dream_2015/notebooks/drug_pair_to_target_pair/drug_pair_to_ensp_pair_stitch.tsv' into table `drug_pair_to_ensp_pair_stitch` ignore 1 lines;  show warnings;\" \n",
      "DEBUG:csv2sql.core:Running locally\n",
      "DEBUG:csv2sql.core:Command ran successfully!\n",
      "DEBUG:csv2sql.core:output: \n",
      "DEBUG:csv2sql.core:Removing uncompressed file '/home/kimlab1/database_data/biodata/recipes/az_dream_2015/notebooks/drug_pair_to_target_pair/drug_pair_to_ensp_pair_stitch.tsv'...\n",
      "INFO:csv2sql.core:rm -f '/home/kimlab1/database_data/biodata/recipes/az_dream_2015/notebooks/drug_pair_to_target_pair/drug_pair_to_ensp_pair_stitch.tsv'\n",
      "DEBUG:csv2sql.core:Running locally\n",
      "DEBUG:csv2sql.core:Command ran successfully!\n",
      "DEBUG:csv2sql.core:output: \n"
     ]
    }
   ],
   "source": [
    "# Save to database\n",
    "db.import_table(\n",
    "    drug_pair_to_ensp_pair, \n",
    "    'drug_pair_to_ensp_pair' + SUFFIX, \n",
    "    [(('unique_id', 'd_1', 'd_2'), False), \n",
    "     (('d_1', 'd_2', 'unique_id'), False), \n",
    "     (('unique_id', 'ensp_1', 'ensp_2'), False), \n",
    "     (('ensp_1', 'ensp_2', 'unique_id'), False), \n",
    "     (('unique_id', 'ensp_pair'), False), \n",
    "     (('ensp_pair', 'unique_id'), False)] \n",
    ")"
   ]
  },
  {
   "cell_type": "code",
   "execution_count": null,
   "metadata": {
    "collapsed": true,
    "run_control": {
     "marked": false
    }
   },
   "outputs": [],
   "source": []
  },
  {
   "cell_type": "markdown",
   "metadata": {
    "run_control": {
     "marked": false
    }
   },
   "source": [
    "## drug_pair_to_ensp_idx_pair"
   ]
  },
  {
   "cell_type": "code",
   "execution_count": 32,
   "metadata": {
    "collapsed": true
   },
   "outputs": [],
   "source": [
    "drug_pair_to_ensp_idx_pair = (\n",
    "    all_drug_pairs\n",
    "    .merge(\n",
    "        drug_to_target[['drug', 'ensp_idx']]\n",
    "            .rename(columns={'drug': 'd_1', 'ensp_idx': 'ensp_idx_1'}), \n",
    "        on=['d_1'])\n",
    "    .merge(\n",
    "        drug_to_target[['drug', 'ensp_idx']]\n",
    "            .rename(columns={'drug': 'd_2', 'ensp_idx': 'ensp_idx_2'}), \n",
    "        on=['d_2'])\n",
    ")"
   ]
  },
  {
   "cell_type": "code",
   "execution_count": 33,
   "metadata": {
    "collapsed": false,
    "run_control": {
     "marked": false
    }
   },
   "outputs": [],
   "source": [
    "idx = (drug_pair_to_ensp_idx_pair['ensp_idx_1'] > drug_pair_to_ensp_idx_pair['ensp_idx_2'])\n",
    "(drug_pair_to_ensp_idx_pair.loc[idx, 'ensp_idx_1'], drug_pair_to_ensp_idx_pair.loc[idx, 'ensp_idx_2']) = (\n",
    "    drug_pair_to_ensp_idx_pair.loc[idx, 'ensp_idx_2'], drug_pair_to_ensp_idx_pair.loc[idx, 'ensp_idx_1']\n",
    ")\n",
    "drug_pair_to_ensp_idx_pair['ensp_idx_pair'] = (\n",
    "    drug_pair_to_ensp_idx_pair['ensp_idx_1'].astype(int).astype(str) + ',' + \n",
    "    drug_pair_to_ensp_idx_pair['ensp_idx_2'].astype(int).astype(str)\n",
    ")"
   ]
  },
  {
   "cell_type": "code",
   "execution_count": 34,
   "metadata": {
    "collapsed": false,
    "run_control": {
     "marked": false
    }
   },
   "outputs": [
    {
     "name": "stdout",
     "output_type": "stream",
     "text": [
      "50,668,566\n",
      "47,699,947\n"
     ]
    }
   ],
   "source": [
    "print('{:,d}'.format(drug_pair_to_ensp_idx_pair.shape[0]))\n",
    "drug_pair_to_ensp_idx_pair = drug_pair_to_ensp_idx_pair.drop_duplicates()\n",
    "print('{:,d}'.format(drug_pair_to_ensp_idx_pair.shape[0]))"
   ]
  },
  {
   "cell_type": "code",
   "execution_count": 35,
   "metadata": {
    "collapsed": false,
    "run_control": {
     "marked": false
    }
   },
   "outputs": [
    {
     "data": {
      "text/html": [
       "<div>\n",
       "<table border=\"1\" class=\"dataframe\">\n",
       "  <thead>\n",
       "    <tr style=\"text-align: right;\">\n",
       "      <th></th>\n",
       "      <th>d_1</th>\n",
       "      <th>d_2</th>\n",
       "      <th>unique_id</th>\n",
       "      <th>ensp_idx_1</th>\n",
       "      <th>ensp_idx_2</th>\n",
       "      <th>ensp_idx_pair</th>\n",
       "    </tr>\n",
       "  </thead>\n",
       "  <tbody>\n",
       "    <tr>\n",
       "      <th>0</th>\n",
       "      <td>ADAM17</td>\n",
       "      <td>ADAM17</td>\n",
       "      <td>ADAM17.ADAM17</td>\n",
       "      <td>309968</td>\n",
       "      <td>309968</td>\n",
       "      <td>309968,309968</td>\n",
       "    </tr>\n",
       "    <tr>\n",
       "      <th>1</th>\n",
       "      <td>ADAM17</td>\n",
       "      <td>ADAM17</td>\n",
       "      <td>ADAM17.ADAM17</td>\n",
       "      <td>309968</td>\n",
       "      <td>418728</td>\n",
       "      <td>309968,418728</td>\n",
       "    </tr>\n",
       "    <tr>\n",
       "      <th>2</th>\n",
       "      <td>ADAM17</td>\n",
       "      <td>ADAM17</td>\n",
       "      <td>ADAM17.ADAM17</td>\n",
       "      <td>309968</td>\n",
       "      <td>480552</td>\n",
       "      <td>309968,480552</td>\n",
       "    </tr>\n",
       "    <tr>\n",
       "      <th>4</th>\n",
       "      <td>ADAM17</td>\n",
       "      <td>ADAM17</td>\n",
       "      <td>ADAM17.ADAM17</td>\n",
       "      <td>418728</td>\n",
       "      <td>418728</td>\n",
       "      <td>418728,418728</td>\n",
       "    </tr>\n",
       "    <tr>\n",
       "      <th>5</th>\n",
       "      <td>ADAM17</td>\n",
       "      <td>ADAM17</td>\n",
       "      <td>ADAM17.ADAM17</td>\n",
       "      <td>418728</td>\n",
       "      <td>480552</td>\n",
       "      <td>418728,480552</td>\n",
       "    </tr>\n",
       "  </tbody>\n",
       "</table>\n",
       "</div>"
      ],
      "text/plain": [
       "      d_1     d_2      unique_id  ensp_idx_1  ensp_idx_2  ensp_idx_pair\n",
       "0  ADAM17  ADAM17  ADAM17.ADAM17      309968      309968  309968,309968\n",
       "1  ADAM17  ADAM17  ADAM17.ADAM17      309968      418728  309968,418728\n",
       "2  ADAM17  ADAM17  ADAM17.ADAM17      309968      480552  309968,480552\n",
       "4  ADAM17  ADAM17  ADAM17.ADAM17      418728      418728  418728,418728\n",
       "5  ADAM17  ADAM17  ADAM17.ADAM17      418728      480552  418728,480552"
      ]
     },
     "metadata": {},
     "output_type": "display_data"
    }
   ],
   "source": [
    "display(drug_pair_to_ensp_idx_pair.head())"
   ]
  },
  {
   "cell_type": "code",
   "execution_count": null,
   "metadata": {
    "collapsed": true,
    "run_control": {
     "marked": false
    }
   },
   "outputs": [],
   "source": []
  },
  {
   "cell_type": "code",
   "execution_count": 36,
   "metadata": {
    "collapsed": false
   },
   "outputs": [
    {
     "name": "stderr",
     "output_type": "stream",
     "text": [
      "DEBUG:csv2sql.core:Uncompressing file...\n",
      "INFO:csv2sql.core:bzip2 -dkf '/home/kimlab1/database_data/biodata/recipes/az_dream_2015/notebooks/drug_pair_to_target_pair/drug_pair_to_ensp_idx_pair_stitch.tsv.bz2'\n",
      "DEBUG:csv2sql.core:Running on host: '192.168.233.20'\n",
      "DEBUG:csv2sql.core:Command ran successfully!\n",
      "DEBUG:csv2sql.core:output: \n",
      "DEBUG:csv2sql.core:Loading data into MySQL table: 'drug_pair_to_ensp_idx_pair_stitch'...\n",
      "INFO:csv2sql.core:mysql --local-infile -h 192.168.6.19 -P 3306 -u strokach  az_dream_2015 -e \"load data local infile '/home/kimlab1/database_data/biodata/recipes/az_dream_2015/notebooks/drug_pair_to_target_pair/drug_pair_to_ensp_idx_pair_stitch.tsv' into table `drug_pair_to_ensp_idx_pair_stitch` ignore 1 lines;  show warnings;\" \n",
      "DEBUG:csv2sql.core:Running locally\n",
      "DEBUG:csv2sql.core:Command ran successfully!\n",
      "DEBUG:csv2sql.core:output: \n",
      "DEBUG:csv2sql.core:Removing uncompressed file '/home/kimlab1/database_data/biodata/recipes/az_dream_2015/notebooks/drug_pair_to_target_pair/drug_pair_to_ensp_idx_pair_stitch.tsv'...\n",
      "INFO:csv2sql.core:rm -f '/home/kimlab1/database_data/biodata/recipes/az_dream_2015/notebooks/drug_pair_to_target_pair/drug_pair_to_ensp_idx_pair_stitch.tsv'\n",
      "DEBUG:csv2sql.core:Running locally\n",
      "DEBUG:csv2sql.core:Command ran successfully!\n",
      "DEBUG:csv2sql.core:output: \n"
     ]
    }
   ],
   "source": [
    "# Save to database\n",
    "db.import_table(\n",
    "    drug_pair_to_ensp_idx_pair, \n",
    "    'drug_pair_to_ensp_idx_pair' + SUFFIX, \n",
    "    [(('unique_id', 'd_1', 'd_2'), False), \n",
    "     (('d_1', 'd_2', 'unique_id'), False), \n",
    "     (('unique_id', 'ensp_idx_1', 'ensp_idx_2'), False), \n",
    "     (('ensp_idx_1', 'ensp_idx_2', 'unique_id'), False), \n",
    "     (('unique_id', 'ensp_idx_pair'), False), \n",
    "     (('ensp_idx_pair', 'UNIQUE_ID'), False)] \n",
    ")"
   ]
  },
  {
   "cell_type": "code",
   "execution_count": null,
   "metadata": {
    "collapsed": true,
    "run_control": {
     "marked": false
    }
   },
   "outputs": [],
   "source": []
  },
  {
   "cell_type": "markdown",
   "metadata": {
    "run_control": {
     "marked": false
    }
   },
   "source": [
    "## drug_pair_to_gene_pair"
   ]
  },
  {
   "cell_type": "code",
   "execution_count": 37,
   "metadata": {
    "collapsed": false,
    "run_control": {
     "marked": false
    }
   },
   "outputs": [],
   "source": [
    "drug_pair_to_gene_pair = (\n",
    "    all_drug_pairs\n",
    "    .merge(\n",
    "        drug_to_target[['drug', 'hgnc_name']]\n",
    "            .rename(columns={'drug': 'd_1', 'hgnc_name': 'gene_1'}), \n",
    "        on=['d_1'])\n",
    "    .merge(\n",
    "        drug_to_target[['drug', 'hgnc_name']]\n",
    "            .rename(columns={'drug': 'd_2', 'hgnc_name': 'gene_2'}), \n",
    "        on=['d_2'])\n",
    ")\n",
    "#\n",
    "idx = (drug_pair_to_gene_pair['gene_1'] > drug_pair_to_gene_pair['gene_2'])\n",
    "(drug_pair_to_gene_pair.loc[idx, 'gene_1'], drug_pair_to_gene_pair.loc[idx, 'gene_2']) = (\n",
    "    drug_pair_to_gene_pair.loc[idx, 'gene_2'], drug_pair_to_gene_pair.loc[idx, 'gene_1']\n",
    ")\n",
    "drug_pair_to_gene_pair['gene_pair'] = (\n",
    "    drug_pair_to_gene_pair['gene_1'] + ',' + drug_pair_to_gene_pair['gene_2']\n",
    ")"
   ]
  },
  {
   "cell_type": "code",
   "execution_count": 38,
   "metadata": {
    "collapsed": false,
    "run_control": {
     "marked": false
    }
   },
   "outputs": [
    {
     "name": "stdout",
     "output_type": "stream",
     "text": [
      "50,668,566\n",
      "38,489,245\n"
     ]
    }
   ],
   "source": [
    "print('{:,d}'.format(drug_pair_to_gene_pair.shape[0]))\n",
    "drug_pair_to_gene_pair = drug_pair_to_gene_pair.drop_duplicates()\n",
    "print('{:,d}'.format(drug_pair_to_gene_pair.shape[0]))"
   ]
  },
  {
   "cell_type": "code",
   "execution_count": 39,
   "metadata": {
    "collapsed": false,
    "run_control": {
     "marked": false
    }
   },
   "outputs": [
    {
     "data": {
      "text/html": [
       "<div>\n",
       "<table border=\"1\" class=\"dataframe\">\n",
       "  <thead>\n",
       "    <tr style=\"text-align: right;\">\n",
       "      <th></th>\n",
       "      <th>d_1</th>\n",
       "      <th>d_2</th>\n",
       "      <th>unique_id</th>\n",
       "      <th>gene_1</th>\n",
       "      <th>gene_2</th>\n",
       "      <th>gene_pair</th>\n",
       "    </tr>\n",
       "  </thead>\n",
       "  <tbody>\n",
       "    <tr>\n",
       "      <th>0</th>\n",
       "      <td>ADAM17</td>\n",
       "      <td>ADAM17</td>\n",
       "      <td>ADAM17.ADAM17</td>\n",
       "      <td>ADAM17</td>\n",
       "      <td>ADAM17</td>\n",
       "      <td>ADAM17,ADAM17</td>\n",
       "    </tr>\n",
       "    <tr>\n",
       "      <th>9</th>\n",
       "      <td>ADAM17</td>\n",
       "      <td>AKT</td>\n",
       "      <td>ADAM17.AKT</td>\n",
       "      <td>ADAM17</td>\n",
       "      <td>RTN1</td>\n",
       "      <td>ADAM17,RTN1</td>\n",
       "    </tr>\n",
       "    <tr>\n",
       "      <th>10</th>\n",
       "      <td>ADAM17</td>\n",
       "      <td>AKT</td>\n",
       "      <td>ADAM17.AKT</td>\n",
       "      <td>ADAM17</td>\n",
       "      <td>RTN4</td>\n",
       "      <td>ADAM17,RTN4</td>\n",
       "    </tr>\n",
       "    <tr>\n",
       "      <th>11</th>\n",
       "      <td>ADAM17</td>\n",
       "      <td>AKT</td>\n",
       "      <td>ADAM17.AKT</td>\n",
       "      <td>ADAM17</td>\n",
       "      <td>BEX1</td>\n",
       "      <td>ADAM17,BEX1</td>\n",
       "    </tr>\n",
       "    <tr>\n",
       "      <th>18</th>\n",
       "      <td>AKT</td>\n",
       "      <td>AKT</td>\n",
       "      <td>AKT.AKT</td>\n",
       "      <td>RTN1</td>\n",
       "      <td>RTN1</td>\n",
       "      <td>RTN1,RTN1</td>\n",
       "    </tr>\n",
       "  </tbody>\n",
       "</table>\n",
       "</div>"
      ],
      "text/plain": [
       "       d_1     d_2      unique_id  gene_1  gene_2      gene_pair\n",
       "0   ADAM17  ADAM17  ADAM17.ADAM17  ADAM17  ADAM17  ADAM17,ADAM17\n",
       "9   ADAM17     AKT     ADAM17.AKT  ADAM17    RTN1    ADAM17,RTN1\n",
       "10  ADAM17     AKT     ADAM17.AKT  ADAM17    RTN4    ADAM17,RTN4\n",
       "11  ADAM17     AKT     ADAM17.AKT  ADAM17    BEX1    ADAM17,BEX1\n",
       "18     AKT     AKT        AKT.AKT    RTN1    RTN1      RTN1,RTN1"
      ]
     },
     "metadata": {},
     "output_type": "display_data"
    }
   ],
   "source": [
    "display(drug_pair_to_gene_pair.head())"
   ]
  },
  {
   "cell_type": "code",
   "execution_count": 67,
   "metadata": {
    "collapsed": false,
    "run_control": {
     "marked": false
    }
   },
   "outputs": [
    {
     "data": {
      "text/html": [
       "<div>\n",
       "<table border=\"1\" class=\"dataframe\">\n",
       "  <thead>\n",
       "    <tr style=\"text-align: right;\">\n",
       "      <th></th>\n",
       "      <th>d_1</th>\n",
       "      <th>d_2</th>\n",
       "      <th>unique_id</th>\n",
       "      <th>gene_1</th>\n",
       "      <th>gene_2</th>\n",
       "      <th>gene_pair</th>\n",
       "    </tr>\n",
       "  </thead>\n",
       "  <tbody>\n",
       "    <tr>\n",
       "      <th>0</th>\n",
       "      <td>ADAM17</td>\n",
       "      <td>ADAM17</td>\n",
       "      <td>ADAM17.ADAM17</td>\n",
       "      <td>ADAM17</td>\n",
       "      <td>ADAM17</td>\n",
       "      <td>ADAM17,ADAM17</td>\n",
       "    </tr>\n",
       "    <tr>\n",
       "      <th>9</th>\n",
       "      <td>ADAM17</td>\n",
       "      <td>AKT</td>\n",
       "      <td>ADAM17.AKT</td>\n",
       "      <td>ADAM17</td>\n",
       "      <td>RTN1</td>\n",
       "      <td>ADAM17,RTN1</td>\n",
       "    </tr>\n",
       "    <tr>\n",
       "      <th>10</th>\n",
       "      <td>ADAM17</td>\n",
       "      <td>AKT</td>\n",
       "      <td>ADAM17.AKT</td>\n",
       "      <td>ADAM17</td>\n",
       "      <td>RTN4</td>\n",
       "      <td>ADAM17,RTN4</td>\n",
       "    </tr>\n",
       "    <tr>\n",
       "      <th>11</th>\n",
       "      <td>ADAM17</td>\n",
       "      <td>AKT</td>\n",
       "      <td>ADAM17.AKT</td>\n",
       "      <td>ADAM17</td>\n",
       "      <td>BEX1</td>\n",
       "      <td>ADAM17,BEX1</td>\n",
       "    </tr>\n",
       "    <tr>\n",
       "      <th>18</th>\n",
       "      <td>AKT</td>\n",
       "      <td>AKT</td>\n",
       "      <td>AKT.AKT</td>\n",
       "      <td>RTN1</td>\n",
       "      <td>RTN1</td>\n",
       "      <td>RTN1,RTN1</td>\n",
       "    </tr>\n",
       "  </tbody>\n",
       "</table>\n",
       "</div>"
      ],
      "text/plain": [
       "       d_1     d_2      unique_id  gene_1  gene_2      gene_pair\n",
       "0   ADAM17  ADAM17  ADAM17.ADAM17  ADAM17  ADAM17  ADAM17,ADAM17\n",
       "9   ADAM17     AKT     ADAM17.AKT  ADAM17    RTN1    ADAM17,RTN1\n",
       "10  ADAM17     AKT     ADAM17.AKT  ADAM17    RTN4    ADAM17,RTN4\n",
       "11  ADAM17     AKT     ADAM17.AKT  ADAM17    BEX1    ADAM17,BEX1\n",
       "18     AKT     AKT        AKT.AKT    RTN1    RTN1      RTN1,RTN1"
      ]
     },
     "execution_count": 67,
     "metadata": {},
     "output_type": "execute_result"
    }
   ],
   "source": [
    "drug_pair_to_gene_pair.head()"
   ]
  },
  {
   "cell_type": "code",
   "execution_count": 68,
   "metadata": {
    "collapsed": false
   },
   "outputs": [
    {
     "name": "stderr",
     "output_type": "stream",
     "text": [
      "DEBUG:sqlalchemy.pool.QueuePool:Connection <_mysql.connection open to '192.168.6.19' at 2e3f978> checked out from pool\n",
      "DEBUG:sqlalchemy.pool.QueuePool:Connection <_mysql.connection open to '192.168.6.19' at 2e3f978> being returned to pool\n",
      "DEBUG:sqlalchemy.pool.QueuePool:Connection <_mysql.connection open to '192.168.6.19' at 2e3f978> rollback-on-return\n",
      "DEBUG:sqlalchemy.pool.QueuePool:Connection <_mysql.connection open to '192.168.6.19' at 2e3f978> checked out from pool\n",
      "DEBUG:sqlalchemy.pool.QueuePool:Connection <_mysql.connection open to '192.168.6.19' at 2e3f978> being returned to pool\n",
      "DEBUG:sqlalchemy.pool.QueuePool:Connection <_mysql.connection open to '192.168.6.19' at 2e3f978> rollback-on-return\n",
      "DEBUG:sqlalchemy.pool.QueuePool:Connection <_mysql.connection open to '192.168.6.19' at 2e3f978> checked out from pool\n",
      "DEBUG:sqlalchemy.pool.QueuePool:Connection <_mysql.connection open to '192.168.6.19' at 2e3f978> being returned to pool\n",
      "DEBUG:sqlalchemy.pool.QueuePool:Connection <_mysql.connection open to '192.168.6.19' at 2e3f978> rollback-on-return\n",
      "DEBUG:csv2sql.core:Uncompressing file...\n",
      "INFO:csv2sql.core:bzip2 -dkf '/home/kimlab1/database_data/biodata/recipes/az_dream_2015/notebooks/drug_pair_to_target_pair/drug_pair_to_gene_pair_blahblah_stitch.tsv.bz2'\n",
      "DEBUG:csv2sql.core:Running on host: '192.168.233.20'\n",
      "DEBUG:csv2sql.core:Command ran successfully!\n",
      "DEBUG:csv2sql.core:output: \n",
      "DEBUG:csv2sql.core:Loading data into MySQL table: 'drug_pair_to_gene_pair_blahblah_stitch'...\n",
      "INFO:csv2sql.core:mysql --local-infile -h 192.168.6.19 -P 3306 -u strokach  az_dream_2015 -e \"load data local infile '/home/kimlab1/database_data/biodata/recipes/az_dream_2015/notebooks/drug_pair_to_target_pair/drug_pair_to_gene_pair_blahblah_stitch.tsv' into table `drug_pair_to_gene_pair_blahblah_stitch` ignore 1 lines;  show warnings;\" \n",
      "DEBUG:csv2sql.core:Running locally\n",
      "DEBUG:csv2sql.core:Command ran successfully!\n",
      "DEBUG:csv2sql.core:output: \n",
      "DEBUG:csv2sql.core:Removing uncompressed file '/home/kimlab1/database_data/biodata/recipes/az_dream_2015/notebooks/drug_pair_to_target_pair/drug_pair_to_gene_pair_blahblah_stitch.tsv'...\n",
      "INFO:csv2sql.core:rm -f '/home/kimlab1/database_data/biodata/recipes/az_dream_2015/notebooks/drug_pair_to_target_pair/drug_pair_to_gene_pair_blahblah_stitch.tsv'\n",
      "DEBUG:csv2sql.core:Running locally\n",
      "DEBUG:csv2sql.core:Command ran successfully!\n",
      "DEBUG:csv2sql.core:output: \n",
      "DEBUG:sqlalchemy.pool.QueuePool:Connection <_mysql.connection open to '192.168.6.19' at 2e3f978> checked out from pool\n",
      "DEBUG:sqlalchemy.pool.QueuePool:Connection <_mysql.connection open to '192.168.6.19' at 2e3f978> being returned to pool\n",
      "DEBUG:sqlalchemy.pool.QueuePool:Connection <_mysql.connection open to '192.168.6.19' at 2e3f978> rollback-on-return\n",
      "DEBUG:sqlalchemy.pool.QueuePool:Connection <_mysql.connection open to '192.168.6.19' at 2e3f978> checked out from pool\n",
      "DEBUG:sqlalchemy.pool.QueuePool:Connection <_mysql.connection open to '192.168.6.19' at 2e3f978> being returned to pool\n",
      "DEBUG:sqlalchemy.pool.QueuePool:Connection <_mysql.connection open to '192.168.6.19' at 2e3f978> rollback-on-return\n",
      "DEBUG:sqlalchemy.pool.QueuePool:Connection <_mysql.connection open to '192.168.6.19' at 2e3f978> checked out from pool\n",
      "DEBUG:sqlalchemy.pool.QueuePool:Connection <_mysql.connection open to '192.168.6.19' at 2e3f978> being returned to pool\n",
      "DEBUG:sqlalchemy.pool.QueuePool:Connection <_mysql.connection open to '192.168.6.19' at 2e3f978> rollback-on-return\n",
      "DEBUG:sqlalchemy.pool.QueuePool:Connection <_mysql.connection open to '192.168.6.19' at 2e3f978> checked out from pool\n",
      "DEBUG:sqlalchemy.pool.QueuePool:Connection <_mysql.connection open to '192.168.6.19' at 2e3f978> being returned to pool\n",
      "DEBUG:sqlalchemy.pool.QueuePool:Connection <_mysql.connection open to '192.168.6.19' at 2e3f978> rollback-on-return\n",
      "DEBUG:sqlalchemy.pool.QueuePool:Connection <_mysql.connection open to '192.168.6.19' at 2e3f978> checked out from pool\n",
      "DEBUG:sqlalchemy.pool.QueuePool:Connection <_mysql.connection open to '192.168.6.19' at 2e3f978> being returned to pool\n",
      "DEBUG:sqlalchemy.pool.QueuePool:Connection <_mysql.connection open to '192.168.6.19' at 2e3f978> rollback-on-return\n",
      "DEBUG:sqlalchemy.pool.QueuePool:Connection <_mysql.connection open to '192.168.6.19' at 2e3f978> checked out from pool\n",
      "DEBUG:sqlalchemy.pool.QueuePool:Connection <_mysql.connection open to '192.168.6.19' at 2e3f978> being returned to pool\n",
      "DEBUG:sqlalchemy.pool.QueuePool:Connection <_mysql.connection open to '192.168.6.19' at 2e3f978> rollback-on-return\n"
     ]
    }
   ],
   "source": [
    "# Save to database\n",
    "db.import_table(\n",
    "    drug_pair_to_gene_pair, \n",
    "    'drug_pair_to_gene_pair_blahblah' + SUFFIX, \n",
    "    [(('unique_id', 'd_1', 'd_2'), False), \n",
    "     (('d_1', 'd_2', 'unique_id'), False), \n",
    "     (('unique_id', 'gene_1', 'gene_2'), False), \n",
    "     (('gene_1', 'gene_2', 'unique_id'), False), \n",
    "     (('unique_id', 'gene_pair'), False), \n",
    "     (('gene_pair', 'unique_id'), False)]\n",
    ")"
   ]
  },
  {
   "cell_type": "code",
   "execution_count": null,
   "metadata": {
    "collapsed": true
   },
   "outputs": [],
   "source": []
  },
  {
   "cell_type": "code",
   "execution_count": 66,
   "metadata": {
    "collapsed": false
   },
   "outputs": [
    {
     "data": {
      "text/plain": [
       "24"
      ]
     },
     "execution_count": 66,
     "metadata": {},
     "output_type": "execute_result"
    }
   ],
   "source": [
    "step = 7\n",
    "batch_size = 128\n",
    "train_labels = 1000\n",
    "(step * batch_size) % (train_labels- batch_size)"
   ]
  },
  {
   "cell_type": "code",
   "execution_count": null,
   "metadata": {
    "collapsed": true
   },
   "outputs": [],
   "source": []
  },
  {
   "cell_type": "code",
   "execution_count": 43,
   "metadata": {
    "collapsed": false,
    "run_control": {
     "marked": false
    }
   },
   "outputs": [
    {
     "name": "stdout",
     "output_type": "stream",
     "text": [
      "\n",
      "CREATE TABLE drug_pair_to_gene_pair_stitch (\n",
      "\td_1 VARCHAR(255), \n",
      "\td_2 VARCHAR(255), \n",
      "\tunique_id VARCHAR(255), \n",
      "\tgene_1 VARCHAR(255), \n",
      "\tgene_2 VARCHAR(255), \n",
      "\tgene_pair VARCHAR(255)\n",
      ")\n",
      "\n",
      "\n"
     ]
    }
   ],
   "source": [
    "print('\\nCREATE TABLE drug_pair_to_gene_pair_stitch (\\n\\td_1 VARCHAR(255), \\n\\td_2 VARCHAR(255), \\n\\tunique_id VARCHAR(255), \\n\\tgene_1 VARCHAR(255), \\n\\tgene_2 VARCHAR(255), \\n\\tgene_pair VARCHAR(255)\\n)\\n\\n')"
   ]
  },
  {
   "cell_type": "code",
   "execution_count": null,
   "metadata": {
    "collapsed": true
   },
   "outputs": [],
   "source": []
  },
  {
   "cell_type": "markdown",
   "metadata": {
    "run_control": {
     "marked": false
    }
   },
   "source": [
    "# Finalize"
   ]
  },
  {
   "cell_type": "code",
   "execution_count": null,
   "metadata": {
    "collapsed": false,
    "run_control": {
     "marked": false
    }
   },
   "outputs": [],
   "source": [
    "import datetime \n",
    "print(datetime.datetime.now())"
   ]
  },
  {
   "cell_type": "code",
   "execution_count": null,
   "metadata": {
    "collapsed": true,
    "run_control": {
     "marked": false
    }
   },
   "outputs": [],
   "source": []
  },
  {
   "cell_type": "code",
   "execution_count": null,
   "metadata": {
    "collapsed": true
   },
   "outputs": [],
   "source": []
  }
 ],
 "metadata": {
  "kernelspec": {
   "display_name": "Python 3",
   "language": "python",
   "name": "python3"
  },
  "language_info": {
   "codemirror_mode": {
    "name": "ipython",
    "version": 3
   },
   "file_extension": ".py",
   "mimetype": "text/x-python",
   "name": "python",
   "nbconvert_exporter": "python",
   "pygments_lexer": "ipython3",
   "version": "3.5.1"
  }
 },
 "nbformat": 4,
 "nbformat_minor": 0
}
