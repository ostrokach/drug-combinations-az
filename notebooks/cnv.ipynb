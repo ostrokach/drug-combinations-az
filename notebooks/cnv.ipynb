{
 "cells": [
  {
   "cell_type": "markdown",
   "metadata": {
    "run_control": {
     "marked": false
    }
   },
   "source": [
    "# Summary"
   ]
  },
  {
   "cell_type": "markdown",
   "metadata": {
    "run_control": {
     "marked": false
    }
   },
   "source": [
    "# Intro"
   ]
  },
  {
   "cell_type": "code",
   "execution_count": 1,
   "metadata": {
    "collapsed": false,
    "run_control": {
     "marked": false
    }
   },
   "outputs": [],
   "source": [
    "%load_ext autoreload\n",
    "%autoreload 2"
   ]
  },
  {
   "cell_type": "code",
   "execution_count": 2,
   "metadata": {
    "collapsed": false
   },
   "outputs": [
    {
     "name": "stderr",
     "output_type": "stream",
     "text": [
      "DEBUG:root:Done configuring logging!\n"
     ]
    }
   ],
   "source": [
    "import common\n",
    "common.configure_logging(level='debug')"
   ]
  },
  {
   "cell_type": "code",
   "execution_count": 3,
   "metadata": {
    "collapsed": false,
    "run_control": {
     "marked": false
    }
   },
   "outputs": [
    {
     "name": "stderr",
     "output_type": "stream",
     "text": [
      "/home/kimlab1/strokach/anaconda3/lib/python3.5/site-packages/matplotlib/__init__.py:872: UserWarning: axes.color_cycle is deprecated and replaced with axes.prop_cycle; please use the latter.\n",
      "  warnings.warn(self.msg_depr % (key, alt_key))\n"
     ]
    }
   ],
   "source": [
    "from biodata import *"
   ]
  },
  {
   "cell_type": "code",
   "execution_count": 4,
   "metadata": {
    "collapsed": true,
    "run_control": {
     "marked": false
    }
   },
   "outputs": [],
   "source": [
    "%matplotlib inline"
   ]
  },
  {
   "cell_type": "markdown",
   "metadata": {
    "run_control": {
     "marked": false
    }
   },
   "source": [
    "# Functions"
   ]
  },
  {
   "cell_type": "code",
   "execution_count": null,
   "metadata": {
    "collapsed": true,
    "run_control": {
     "marked": false
    }
   },
   "outputs": [],
   "source": []
  },
  {
   "cell_type": "markdown",
   "metadata": {
    "run_control": {
     "marked": false
    }
   },
   "source": [
    "# Load data"
   ]
  },
  {
   "cell_type": "markdown",
   "metadata": {
    "run_control": {
     "marked": false
    }
   },
   "source": [
    "## Cell lines"
   ]
  },
  {
   "cell_type": "code",
   "execution_count": 5,
   "metadata": {
    "collapsed": false,
    "run_control": {
     "marked": false
    }
   },
   "outputs": [],
   "source": [
    "cell_info = pd.read_csv(\n",
    "    '../downloads/challenge_data/sanger_molecular_data/'\n",
    "    'cell_info.csv/cell_info.csv',\n",
    "    sep=',',\n",
    ")"
   ]
  },
  {
   "cell_type": "code",
   "execution_count": 6,
   "metadata": {
    "collapsed": false,
    "run_control": {
     "marked": false
    }
   },
   "outputs": [
    {
     "data": {
      "text/html": [
       "<div>\n",
       "<table border=\"1\" class=\"dataframe\">\n",
       "  <thead>\n",
       "    <tr style=\"text-align: right;\">\n",
       "      <th></th>\n",
       "      <th>Sanger.Name</th>\n",
       "      <th>CCLE.Name</th>\n",
       "      <th>Alternative.Name</th>\n",
       "      <th>Disease.Area</th>\n",
       "      <th>Tissue..General.</th>\n",
       "      <th>COSMIC</th>\n",
       "    </tr>\n",
       "  </thead>\n",
       "  <tbody>\n",
       "    <tr>\n",
       "      <th>0</th>\n",
       "      <td>22RV1</td>\n",
       "      <td>22RV1_PROSTATE</td>\n",
       "      <td>22RV1</td>\n",
       "      <td>Urology</td>\n",
       "      <td>male genital system</td>\n",
       "      <td>924100</td>\n",
       "    </tr>\n",
       "    <tr>\n",
       "      <th>1</th>\n",
       "      <td>647-V</td>\n",
       "      <td>647V_URINARY_TRACT</td>\n",
       "      <td>647V</td>\n",
       "      <td>Urology</td>\n",
       "      <td>urinary tract</td>\n",
       "      <td>906797</td>\n",
       "    </tr>\n",
       "  </tbody>\n",
       "</table>\n",
       "</div>"
      ],
      "text/plain": [
       "  Sanger.Name           CCLE.Name Alternative.Name Disease.Area     Tissue..General.  COSMIC\n",
       "0       22RV1      22RV1_PROSTATE            22RV1      Urology  male genital system  924100\n",
       "1       647-V  647V_URINARY_TRACT             647V      Urology        urinary tract  906797"
      ]
     },
     "execution_count": 6,
     "metadata": {},
     "output_type": "execute_result"
    }
   ],
   "source": [
    "cell_info.head(2)"
   ]
  },
  {
   "cell_type": "code",
   "execution_count": 7,
   "metadata": {
    "collapsed": true,
    "run_control": {
     "marked": false
    }
   },
   "outputs": [],
   "source": [
    "cell_info = cell_info.rename(columns={\n",
    "    'Sanger.Name': 'cell_line',\n",
    "    'CCLE.Name': 'cell_line_ccle',\n",
    "    'Alternative.Name': 'cell_line_alternative',\n",
    "    'Disease.Area': 'cell_line_disease_area',\n",
    "    'Tissue..General.': 'cell_line_tissue',\n",
    "    'COSMIC': 'cell_line_cosmic',\n",
    "})"
   ]
  },
  {
   "cell_type": "code",
   "execution_count": 8,
   "metadata": {
    "collapsed": false,
    "run_control": {
     "marked": false
    }
   },
   "outputs": [
    {
     "data": {
      "text/html": [
       "<div>\n",
       "<table border=\"1\" class=\"dataframe\">\n",
       "  <thead>\n",
       "    <tr style=\"text-align: right;\">\n",
       "      <th></th>\n",
       "      <th>cell_line</th>\n",
       "      <th>cell_line_ccle</th>\n",
       "      <th>cell_line_alternative</th>\n",
       "      <th>cell_line_disease_area</th>\n",
       "      <th>cell_line_tissue</th>\n",
       "      <th>cell_line_cosmic</th>\n",
       "    </tr>\n",
       "  </thead>\n",
       "  <tbody>\n",
       "    <tr>\n",
       "      <th>0</th>\n",
       "      <td>22RV1</td>\n",
       "      <td>22RV1_PROSTATE</td>\n",
       "      <td>22RV1</td>\n",
       "      <td>Urology</td>\n",
       "      <td>male genital system</td>\n",
       "      <td>924100</td>\n",
       "    </tr>\n",
       "    <tr>\n",
       "      <th>1</th>\n",
       "      <td>647-V</td>\n",
       "      <td>647V_URINARY_TRACT</td>\n",
       "      <td>647V</td>\n",
       "      <td>Urology</td>\n",
       "      <td>urinary tract</td>\n",
       "      <td>906797</td>\n",
       "    </tr>\n",
       "  </tbody>\n",
       "</table>\n",
       "</div>"
      ],
      "text/plain": [
       "  cell_line      cell_line_ccle cell_line_alternative cell_line_disease_area     cell_line_tissue  cell_line_cosmic\n",
       "0     22RV1      22RV1_PROSTATE                 22RV1                Urology  male genital system            924100\n",
       "1     647-V  647V_URINARY_TRACT                  647V                Urology        urinary tract            906797"
      ]
     },
     "execution_count": 8,
     "metadata": {},
     "output_type": "execute_result"
    }
   ],
   "source": [
    "cell_info.head(2)"
   ]
  },
  {
   "cell_type": "code",
   "execution_count": null,
   "metadata": {
    "collapsed": true,
    "run_control": {
     "marked": false
    }
   },
   "outputs": [],
   "source": []
  },
  {
   "cell_type": "code",
   "execution_count": 9,
   "metadata": {
    "collapsed": true,
    "run_control": {
     "marked": false
    }
   },
   "outputs": [],
   "source": [
    "cell_line_to_disease_area = {\n",
    "    a: b for (a, b) in cell_info[['cell_line', 'cell_line_disease_area']].values\n",
    "}"
   ]
  },
  {
   "cell_type": "code",
   "execution_count": 10,
   "metadata": {
    "collapsed": true,
    "run_control": {
     "marked": false
    }
   },
   "outputs": [],
   "source": [
    "cell_line_to_tissue = {\n",
    "    a: b for (a, b) in cell_info[['cell_line', 'cell_line_tissue']].values\n",
    "}"
   ]
  },
  {
   "cell_type": "code",
   "execution_count": null,
   "metadata": {
    "collapsed": true,
    "run_control": {
     "marked": false
    }
   },
   "outputs": [],
   "source": []
  },
  {
   "cell_type": "markdown",
   "metadata": {
    "collapsed": true,
    "run_control": {
     "marked": false
    }
   },
   "source": [
    "## CNVs"
   ]
  },
  {
   "cell_type": "code",
   "execution_count": 11,
   "metadata": {
    "collapsed": false,
    "run_control": {
     "marked": false
    }
   },
   "outputs": [],
   "source": [
    "cnv_segment = pd.read_csv(\n",
    "    '../downloads/challenge_data/sanger_molecular_data/cnv/'\n",
    "    'cnv_segment.csv/cnv_segment.csv',\n",
    "    sep=',', low_memory=False, na_values=['-'],\n",
    ")"
   ]
  },
  {
   "cell_type": "code",
   "execution_count": 12,
   "metadata": {
    "collapsed": false,
    "run_control": {
     "marked": false
    }
   },
   "outputs": [
    {
     "data": {
      "text/html": [
       "<div>\n",
       "<table border=\"1\" class=\"dataframe\">\n",
       "  <thead>\n",
       "    <tr style=\"text-align: right;\">\n",
       "      <th></th>\n",
       "      <th>cell_line_name</th>\n",
       "      <th>sample_id</th>\n",
       "      <th>SNPstart</th>\n",
       "      <th>SNPend</th>\n",
       "      <th>chr_38</th>\n",
       "      <th>startpos_38</th>\n",
       "      <th>endpos_38</th>\n",
       "      <th>chr_37</th>\n",
       "      <th>startpos_37</th>\n",
       "      <th>endpos_37</th>\n",
       "      <th>minorCN</th>\n",
       "      <th>totalCN</th>\n",
       "    </tr>\n",
       "  </thead>\n",
       "  <tbody>\n",
       "    <tr>\n",
       "      <th>0</th>\n",
       "      <td>NCI-H522</td>\n",
       "      <td>905944</td>\n",
       "      <td>1</td>\n",
       "      <td>14597</td>\n",
       "      <td>1</td>\n",
       "      <td>61736</td>\n",
       "      <td>25256851</td>\n",
       "      <td>1</td>\n",
       "      <td>61736</td>\n",
       "      <td>25583342</td>\n",
       "      <td>1</td>\n",
       "      <td>3</td>\n",
       "    </tr>\n",
       "    <tr>\n",
       "      <th>1</th>\n",
       "      <td>NCI-H522</td>\n",
       "      <td>905944</td>\n",
       "      <td>14598</td>\n",
       "      <td>14626</td>\n",
       "      <td>1</td>\n",
       "      <td>25266638</td>\n",
       "      <td>25320456</td>\n",
       "      <td>1</td>\n",
       "      <td>25593129</td>\n",
       "      <td>25646947</td>\n",
       "      <td>0</td>\n",
       "      <td>0</td>\n",
       "    </tr>\n",
       "  </tbody>\n",
       "</table>\n",
       "</div>"
      ],
      "text/plain": [
       "  cell_line_name  sample_id  SNPstart  SNPend chr_38  startpos_38  endpos_38 chr_37  startpos_37  endpos_37  minorCN  totalCN\n",
       "0       NCI-H522     905944         1   14597      1        61736   25256851      1        61736   25583342        1        3\n",
       "1       NCI-H522     905944     14598   14626      1     25266638   25320456      1     25593129   25646947        0        0"
      ]
     },
     "metadata": {},
     "output_type": "display_data"
    },
    {
     "name": "stdout",
     "output_type": "stream",
     "text": [
      "(31662, 12)\n"
     ]
    }
   ],
   "source": [
    "display(cnv_segment.head(2))\n",
    "print(cnv_segment.shape)"
   ]
  },
  {
   "cell_type": "code",
   "execution_count": null,
   "metadata": {
    "collapsed": true,
    "run_control": {
     "marked": false
    }
   },
   "outputs": [],
   "source": []
  },
  {
   "cell_type": "code",
   "execution_count": 13,
   "metadata": {
    "collapsed": false,
    "run_control": {
     "marked": false
    }
   },
   "outputs": [],
   "source": [
    "cnv_gene = pd.read_csv(\n",
    "    '../downloads/challenge_data/sanger_molecular_data/cnv/'\n",
    "    'cnv_gene.csv/cnv_gene.csv',\n",
    "    sep=',', low_memory=False, na_values=['-'],\n",
    ")"
   ]
  },
  {
   "cell_type": "code",
   "execution_count": 14,
   "metadata": {
    "collapsed": false,
    "run_control": {
     "marked": false
    }
   },
   "outputs": [
    {
     "data": {
      "text/html": [
       "<div>\n",
       "<table border=\"1\" class=\"dataframe\">\n",
       "  <thead>\n",
       "    <tr style=\"text-align: right;\">\n",
       "      <th></th>\n",
       "      <th>cell_line_name</th>\n",
       "      <th>gene</th>\n",
       "      <th>chr_GRCh38</th>\n",
       "      <th>gene_start_GRCh38</th>\n",
       "      <th>gene_end_GRCh38</th>\n",
       "      <th>max_cn_GRCh38</th>\n",
       "      <th>min_cn_GRCh38</th>\n",
       "      <th>zygosity_GRCh38</th>\n",
       "      <th>disruption_status_GRCh38</th>\n",
       "      <th>chr_GRCh37</th>\n",
       "      <th>gene_start_GRCh37</th>\n",
       "      <th>gene_end_GRCh37</th>\n",
       "      <th>max_cn_GRCh37</th>\n",
       "      <th>min_cn_GRCh37</th>\n",
       "      <th>zygosity_GRCh37</th>\n",
       "      <th>disruption_status_GRCh37</th>\n",
       "    </tr>\n",
       "  </thead>\n",
       "  <tbody>\n",
       "    <tr>\n",
       "      <th>0</th>\n",
       "      <td>22RV1</td>\n",
       "      <td>39340</td>\n",
       "      <td>1</td>\n",
       "      <td>86880690</td>\n",
       "      <td>86914111</td>\n",
       "      <td>2</td>\n",
       "      <td>2</td>\n",
       "      <td>H</td>\n",
       "      <td>NaN</td>\n",
       "      <td>1</td>\n",
       "      <td>87346373</td>\n",
       "      <td>87379794</td>\n",
       "      <td>2</td>\n",
       "      <td>2</td>\n",
       "      <td>H</td>\n",
       "      <td>NaN</td>\n",
       "    </tr>\n",
       "    <tr>\n",
       "      <th>1</th>\n",
       "      <td>647-V</td>\n",
       "      <td>39340</td>\n",
       "      <td>1</td>\n",
       "      <td>86880690</td>\n",
       "      <td>86914111</td>\n",
       "      <td>-1</td>\n",
       "      <td>-1</td>\n",
       "      <td>NaN</td>\n",
       "      <td>NaN</td>\n",
       "      <td>1</td>\n",
       "      <td>87346373</td>\n",
       "      <td>87379794</td>\n",
       "      <td>3</td>\n",
       "      <td>3</td>\n",
       "      <td>H</td>\n",
       "      <td>NaN</td>\n",
       "    </tr>\n",
       "  </tbody>\n",
       "</table>\n",
       "</div>"
      ],
      "text/plain": [
       "  cell_line_name   gene chr_GRCh38  gene_start_GRCh38  gene_end_GRCh38  max_cn_GRCh38  min_cn_GRCh38 zygosity_GRCh38 disruption_status_GRCh38 chr_GRCh37  gene_start_GRCh37  gene_end_GRCh37  max_cn_GRCh37  min_cn_GRCh37 zygosity_GRCh37 disruption_status_GRCh37\n",
       "0          22RV1  39340          1           86880690         86914111              2              2               H                      NaN          1           87346373         87379794              2              2               H                      NaN\n",
       "1          647-V  39340          1           86880690         86914111             -1             -1             NaN                      NaN          1           87346373         87379794              3              3               H                      NaN"
      ]
     },
     "metadata": {},
     "output_type": "display_data"
    },
    {
     "name": "stdout",
     "output_type": "stream",
     "text": [
      "(2478430, 16)\n"
     ]
    }
   ],
   "source": [
    "display(cnv_gene.head(2))\n",
    "print(cnv_gene.shape)"
   ]
  },
  {
   "cell_type": "code",
   "execution_count": 15,
   "metadata": {
    "collapsed": false,
    "run_control": {
     "marked": false
    }
   },
   "outputs": [
    {
     "data": {
      "text/plain": [
       "(2478430, 2)"
      ]
     },
     "execution_count": 15,
     "metadata": {},
     "output_type": "execute_result"
    }
   ],
   "source": [
    "cnv_gene[['cell_line_name', 'gene']].drop_duplicates().shape"
   ]
  },
  {
   "cell_type": "markdown",
   "metadata": {
    "run_control": {
     "marked": false
    }
   },
   "source": [
    "## CSS"
   ]
  },
  {
   "cell_type": "code",
   "execution_count": 16,
   "metadata": {
    "collapsed": false,
    "run_control": {
     "marked": false
    }
   },
   "outputs": [],
   "source": [
    "css = pd.read_sql_query(\"\"\"\\\n",
    "SELECT c, avg(synergy_score) synergy_score\n",
    "FROM az_dream_2015.ALL_TRAINING_DATA_WSYNERGY\n",
    "where synergy_score is not null\n",
    "group by c;\n",
    "\"\"\", sa.create_engine('mysql://strokach:@192.168.6.19:3306/az_dream_2015'))"
   ]
  },
  {
   "cell_type": "code",
   "execution_count": 17,
   "metadata": {
    "collapsed": false,
    "run_control": {
     "marked": false
    }
   },
   "outputs": [],
   "source": [
    "css = css.set_index('c')['synergy_score']"
   ]
  },
  {
   "cell_type": "code",
   "execution_count": 18,
   "metadata": {
    "collapsed": false,
    "run_control": {
     "marked": false
    }
   },
   "outputs": [
    {
     "data": {
      "text/plain": [
       "c\n",
       "22RV1       -8.601674\n",
       "647-V       13.834063\n",
       "A549        21.671942\n",
       "BFTC-905    21.839952\n",
       "BT-20       22.283808\n",
       "Name: synergy_score, dtype: float64"
      ]
     },
     "execution_count": 18,
     "metadata": {},
     "output_type": "execute_result"
    }
   ],
   "source": [
    "css.head()"
   ]
  },
  {
   "cell_type": "code",
   "execution_count": null,
   "metadata": {
    "collapsed": true,
    "run_control": {
     "marked": false
    }
   },
   "outputs": [],
   "source": []
  },
  {
   "cell_type": "markdown",
   "metadata": {
    "run_control": {
     "marked": false
    }
   },
   "source": [
    "## Cancer gene census"
   ]
  },
  {
   "cell_type": "code",
   "execution_count": 19,
   "metadata": {
    "collapsed": false,
    "run_control": {
     "marked": false
    }
   },
   "outputs": [],
   "source": [
    "engine = sa.create_engine('mysql://strokach:@192.168.6.19:3306/cosmic')\n",
    "cancer_gene_census = pd.read_sql_table('cancer_gene_census', engine)"
   ]
  },
  {
   "cell_type": "code",
   "execution_count": 20,
   "metadata": {
    "collapsed": false,
    "run_control": {
     "marked": false
    }
   },
   "outputs": [
    {
     "data": {
      "text/html": [
       "<div>\n",
       "<table border=\"1\" class=\"dataframe\">\n",
       "  <thead>\n",
       "    <tr style=\"text-align: right;\">\n",
       "      <th></th>\n",
       "      <th>gene_symbol</th>\n",
       "      <th>name</th>\n",
       "      <th>entrez_geneid</th>\n",
       "      <th>genome_location</th>\n",
       "      <th>chr_band</th>\n",
       "      <th>somatic</th>\n",
       "      <th>germline</th>\n",
       "      <th>tumour_types_somatic</th>\n",
       "      <th>tumour_types_germline</th>\n",
       "      <th>cancer_syndrome</th>\n",
       "      <th>tissue_type</th>\n",
       "      <th>molecular_genetics</th>\n",
       "      <th>mutation_types</th>\n",
       "      <th>translocation_partner</th>\n",
       "      <th>other_germline_mut</th>\n",
       "      <th>other_syndrome</th>\n",
       "      <th>synonyms</th>\n",
       "    </tr>\n",
       "  </thead>\n",
       "  <tbody>\n",
       "    <tr>\n",
       "      <th>0</th>\n",
       "      <td>ABI1</td>\n",
       "      <td>abl-interactor 1</td>\n",
       "      <td>10006</td>\n",
       "      <td>10:26748570-26860863</td>\n",
       "      <td>10p11.2</td>\n",
       "      <td>yes</td>\n",
       "      <td>None</td>\n",
       "      <td>AML</td>\n",
       "      <td>None</td>\n",
       "      <td>None</td>\n",
       "      <td>L</td>\n",
       "      <td>Dom</td>\n",
       "      <td>T</td>\n",
       "      <td>KMT2A</td>\n",
       "      <td>None</td>\n",
       "      <td>None</td>\n",
       "      <td>ABI1,E3B1,ABI-1,SSH3BP1,10006</td>\n",
       "    </tr>\n",
       "    <tr>\n",
       "      <th>1</th>\n",
       "      <td>ABL1</td>\n",
       "      <td>v-abl Abelson murine leukemia viral oncogene h...</td>\n",
       "      <td>25</td>\n",
       "      <td>9:130835447-130885683</td>\n",
       "      <td>9q34.1</td>\n",
       "      <td>yes</td>\n",
       "      <td>None</td>\n",
       "      <td>CML, ALL, T-ALL</td>\n",
       "      <td>None</td>\n",
       "      <td>None</td>\n",
       "      <td>L</td>\n",
       "      <td>Dom</td>\n",
       "      <td>T, Mis</td>\n",
       "      <td>BCR, ETV6, NUP214</td>\n",
       "      <td>None</td>\n",
       "      <td>None</td>\n",
       "      <td>ABL1,p150,ABL,c-ABL,JTK7,bcr/abl,v-abl,P00519,...</td>\n",
       "    </tr>\n",
       "  </tbody>\n",
       "</table>\n",
       "</div>"
      ],
      "text/plain": [
       "  gene_symbol                                               name  entrez_geneid        genome_location chr_band somatic germline tumour_types_somatic tumour_types_germline cancer_syndrome tissue_type molecular_genetics mutation_types translocation_partner other_germline_mut other_syndrome                                           synonyms\n",
       "0        ABI1                                   abl-interactor 1          10006   10:26748570-26860863  10p11.2     yes     None                  AML                  None            None           L                Dom              T                 KMT2A               None           None                      ABI1,E3B1,ABI-1,SSH3BP1,10006\n",
       "1        ABL1  v-abl Abelson murine leukemia viral oncogene h...             25  9:130835447-130885683   9q34.1     yes     None      CML, ALL, T-ALL                  None            None           L                Dom         T, Mis     BCR, ETV6, NUP214               None           None  ABL1,p150,ABL,c-ABL,JTK7,bcr/abl,v-abl,P00519,..."
      ]
     },
     "execution_count": 20,
     "metadata": {},
     "output_type": "execute_result"
    }
   ],
   "source": [
    "cancer_gene_census.head(2)"
   ]
  },
  {
   "cell_type": "code",
   "execution_count": 21,
   "metadata": {
    "collapsed": false,
    "run_control": {
     "marked": false
    }
   },
   "outputs": [
    {
     "name": "stdout",
     "output_type": "stream",
     "text": [
      "Total number of genes: 29158\n",
      "Number of cancer gene census genes: 571\n",
      "Overlap: 551\n"
     ]
    }
   ],
   "source": [
    "print(\"Total number of genes:\", len(set(cnv_gene['gene'])))\n",
    "print(\"Number of cancer gene census genes:\", len(set(cancer_gene_census['gene_symbol'])))\n",
    "print(\"Overlap:\", len(set(cnv_gene['gene']) & set(cancer_gene_census['gene_symbol'])))"
   ]
  },
  {
   "cell_type": "code",
   "execution_count": 22,
   "metadata": {
    "collapsed": true,
    "run_control": {
     "marked": false
    }
   },
   "outputs": [],
   "source": [
    "cgs_genes = list(set(cnv_gene['gene']) & set(cancer_gene_census['gene_symbol']))"
   ]
  },
  {
   "cell_type": "code",
   "execution_count": null,
   "metadata": {
    "collapsed": true,
    "run_control": {
     "marked": false
    }
   },
   "outputs": [],
   "source": []
  },
  {
   "cell_type": "markdown",
   "metadata": {
    "run_control": {
     "marked": false
    }
   },
   "source": [
    "## Target genes"
   ]
  },
  {
   "cell_type": "code",
   "execution_count": 23,
   "metadata": {
    "collapsed": false,
    "run_control": {
     "marked": false
    }
   },
   "outputs": [
    {
     "data": {
      "text/html": [
       "<div>\n",
       "<table border=\"1\" class=\"dataframe\">\n",
       "  <thead>\n",
       "    <tr style=\"text-align: right;\">\n",
       "      <th></th>\n",
       "      <th>drug</th>\n",
       "      <th>hgnc_name</th>\n",
       "    </tr>\n",
       "  </thead>\n",
       "  <tbody>\n",
       "    <tr>\n",
       "      <th>0</th>\n",
       "      <td>ADAM17</td>\n",
       "      <td>ADAM17</td>\n",
       "    </tr>\n",
       "    <tr>\n",
       "      <th>1</th>\n",
       "      <td>AKT</td>\n",
       "      <td>AKT1</td>\n",
       "    </tr>\n",
       "  </tbody>\n",
       "</table>\n",
       "</div>"
      ],
      "text/plain": [
       "     drug hgnc_name\n",
       "0  ADAM17    ADAM17\n",
       "1     AKT      AKT1"
      ]
     },
     "execution_count": 23,
     "metadata": {},
     "output_type": "execute_result"
    }
   ],
   "source": [
    "engine = sa.create_engine('mysql://strokach:@192.168.6.19:3306/az_dream_2015')\n",
    "drug_to_hgnc_target = pd.read_sql_table('drug_to_hgnc_target', engine)\n",
    "drug_to_hgnc_target.head(2)"
   ]
  },
  {
   "cell_type": "code",
   "execution_count": 24,
   "metadata": {
    "collapsed": false,
    "run_control": {
     "marked": false
    }
   },
   "outputs": [
    {
     "name": "stdout",
     "output_type": "stream",
     "text": [
      "Total number of genes: 29158\n",
      "Number of cancer gene census genes: 222\n",
      "Overlap: 221\n"
     ]
    }
   ],
   "source": [
    "print(\"Total number of genes:\", len(set(cnv_gene['gene'])))\n",
    "print(\"Number of cancer gene census genes:\", len(set(drug_to_hgnc_target['hgnc_name'])))\n",
    "print(\"Overlap:\", len(set(cnv_gene['gene']) & set(drug_to_hgnc_target['hgnc_name'])))"
   ]
  },
  {
   "cell_type": "code",
   "execution_count": 25,
   "metadata": {
    "collapsed": false,
    "run_control": {
     "marked": false
    }
   },
   "outputs": [],
   "source": [
    "target_genes = list(set(cnv_gene['gene']) & set(drug_to_hgnc_target['hgnc_name']))"
   ]
  },
  {
   "cell_type": "code",
   "execution_count": null,
   "metadata": {
    "collapsed": false,
    "run_control": {
     "marked": false
    }
   },
   "outputs": [],
   "source": []
  },
  {
   "cell_type": "markdown",
   "metadata": {
    "run_control": {
     "marked": false
    }
   },
   "source": [
    "# Process CNV (gene level)\n",
    "\n",
    "- `zygosity_GRCh37` is \"-\" when both `max_cn_GRCh37` and `min_cn_GRCh37` are \"-1\".\n",
    "- `zygosity_GRCh37` is \"0\" when both `max_cn_GRCh37` and `min_cn_GRCh37` are \"0\"."
   ]
  },
  {
   "cell_type": "code",
   "execution_count": 26,
   "metadata": {
    "collapsed": false,
    "run_control": {
     "marked": false
    }
   },
   "outputs": [
    {
     "data": {
      "text/plain": [
       "0          H\n",
       "2          L\n",
       "14696      0\n",
       "51330    NaN\n",
       "Name: zygosity_GRCh37, dtype: object"
      ]
     },
     "execution_count": 26,
     "metadata": {},
     "output_type": "execute_result"
    }
   ],
   "source": [
    "cnv_gene['zygosity_GRCh37'].drop_duplicates()"
   ]
  },
  {
   "cell_type": "code",
   "execution_count": 27,
   "metadata": {
    "collapsed": true,
    "run_control": {
     "marked": false
    }
   },
   "outputs": [],
   "source": [
    "cnv_gene = cnv_gene.rename(\n",
    "    columns={\n",
    "        'cell_line_name': 'cell_line',\n",
    "        'max_cn_GRCh37': 'max_cn',\n",
    "        'min_cn_GRCh37': 'min_cn',\n",
    "    })\n",
    "\n",
    "if 'cell_line_tissue' not in cnv_gene:\n",
    "    len_before = len(cnv_gene)\n",
    "    cnv_gene = cnv_gene.merge(cell_info, on='cell_line')\n",
    "    assert len(cnv_gene) == len_before"
   ]
  },
  {
   "cell_type": "code",
   "execution_count": 28,
   "metadata": {
    "collapsed": false,
    "run_control": {
     "marked": false
    }
   },
   "outputs": [],
   "source": [
    "# Transform data to extract some usable features\n",
    "features = [\n",
    "    'max_cn', 'min_cn', \n",
    "    'zygosity_1', 'zygosity_2', \n",
    "    'disruption_status',  \n",
    "    'delta_cn',\n",
    "]\n",
    "\n",
    "def classify_zygosity(z):\n",
    "    if z == 'H':\n",
    "        return (1, 0)\n",
    "    elif z == 'L':\n",
    "        return (0, 1)\n",
    "    elif z == '0':\n",
    "        return (0, 0)\n",
    "    else:\n",
    "        return (np.nan, np.nan)\n",
    "\n",
    "# Copy numbers\n",
    "cnv_gene.loc[cnv_gene['max_cn'] == -1, 'max_cn'] = np.nan\n",
    "cnv_gene.loc[cnv_gene['min_cn'] == -1, 'min_cn'] = np.nan\n",
    "cnv_gene['delta_cn'] = cnv_gene['max_cn'] - cnv_gene['min_cn']\n",
    "\n",
    "# Zygosity\n",
    "cnv_gene['zygosity_1'], cnv_gene['zygosity_2'] = list(zip(\n",
    "    *cnv_gene['zygosity_GRCh37'].apply(classify_zygosity)\n",
    "))\n",
    "\n",
    "# Gene disruption\n",
    "cnv_gene['disruption_status'] = cnv_gene['disruption_status_GRCh37'].apply(lambda x: int(x == 'D'))"
   ]
  },
  {
   "cell_type": "code",
   "execution_count": 29,
   "metadata": {
    "collapsed": false,
    "run_control": {
     "marked": false
    }
   },
   "outputs": [
    {
     "data": {
      "text/html": [
       "<div>\n",
       "<table border=\"1\" class=\"dataframe\">\n",
       "  <thead>\n",
       "    <tr style=\"text-align: right;\">\n",
       "      <th></th>\n",
       "      <th>cell_line</th>\n",
       "      <th>gene</th>\n",
       "      <th>chr_GRCh38</th>\n",
       "      <th>gene_start_GRCh38</th>\n",
       "      <th>gene_end_GRCh38</th>\n",
       "      <th>max_cn_GRCh38</th>\n",
       "      <th>min_cn_GRCh38</th>\n",
       "      <th>zygosity_GRCh38</th>\n",
       "      <th>disruption_status_GRCh38</th>\n",
       "      <th>chr_GRCh37</th>\n",
       "      <th>gene_start_GRCh37</th>\n",
       "      <th>gene_end_GRCh37</th>\n",
       "      <th>max_cn</th>\n",
       "      <th>min_cn</th>\n",
       "      <th>zygosity_GRCh37</th>\n",
       "      <th>disruption_status_GRCh37</th>\n",
       "      <th>cell_line_ccle</th>\n",
       "      <th>cell_line_alternative</th>\n",
       "      <th>cell_line_disease_area</th>\n",
       "      <th>cell_line_tissue</th>\n",
       "      <th>cell_line_cosmic</th>\n",
       "      <th>delta_cn</th>\n",
       "      <th>zygosity_1</th>\n",
       "      <th>zygosity_2</th>\n",
       "      <th>disruption_status</th>\n",
       "    </tr>\n",
       "  </thead>\n",
       "  <tbody>\n",
       "    <tr>\n",
       "      <th>2478428</th>\n",
       "      <td>VM-CUB-1</td>\n",
       "      <td>mir-223</td>\n",
       "      <td>X</td>\n",
       "      <td>66018870</td>\n",
       "      <td>66018979</td>\n",
       "      <td>1</td>\n",
       "      <td>1</td>\n",
       "      <td>L</td>\n",
       "      <td>NaN</td>\n",
       "      <td>X</td>\n",
       "      <td>65238712</td>\n",
       "      <td>65238821</td>\n",
       "      <td>1</td>\n",
       "      <td>1</td>\n",
       "      <td>L</td>\n",
       "      <td>NaN</td>\n",
       "      <td>VMCUB1_URINARY_TRACT</td>\n",
       "      <td>VMCUB1</td>\n",
       "      <td>Urology</td>\n",
       "      <td>urinary tract</td>\n",
       "      <td>909780</td>\n",
       "      <td>0</td>\n",
       "      <td>0</td>\n",
       "      <td>1</td>\n",
       "      <td>0</td>\n",
       "    </tr>\n",
       "    <tr>\n",
       "      <th>2478429</th>\n",
       "      <td>VM-CUB-1</td>\n",
       "      <td>mir-424</td>\n",
       "      <td>X</td>\n",
       "      <td>134546614</td>\n",
       "      <td>134546711</td>\n",
       "      <td>1</td>\n",
       "      <td>1</td>\n",
       "      <td>L</td>\n",
       "      <td>NaN</td>\n",
       "      <td>X</td>\n",
       "      <td>133680644</td>\n",
       "      <td>133680741</td>\n",
       "      <td>1</td>\n",
       "      <td>1</td>\n",
       "      <td>L</td>\n",
       "      <td>NaN</td>\n",
       "      <td>VMCUB1_URINARY_TRACT</td>\n",
       "      <td>VMCUB1</td>\n",
       "      <td>Urology</td>\n",
       "      <td>urinary tract</td>\n",
       "      <td>909780</td>\n",
       "      <td>0</td>\n",
       "      <td>0</td>\n",
       "      <td>1</td>\n",
       "      <td>0</td>\n",
       "    </tr>\n",
       "  </tbody>\n",
       "</table>\n",
       "</div>"
      ],
      "text/plain": [
       "        cell_line     gene chr_GRCh38  gene_start_GRCh38  gene_end_GRCh38  max_cn_GRCh38  min_cn_GRCh38 zygosity_GRCh38 disruption_status_GRCh38 chr_GRCh37  gene_start_GRCh37  gene_end_GRCh37  max_cn  min_cn zygosity_GRCh37 disruption_status_GRCh37        cell_line_ccle cell_line_alternative cell_line_disease_area cell_line_tissue  cell_line_cosmic  delta_cn  zygosity_1  zygosity_2  disruption_status\n",
       "2478428  VM-CUB-1  mir-223          X           66018870         66018979              1              1               L                      NaN          X           65238712         65238821       1       1               L                      NaN  VMCUB1_URINARY_TRACT                VMCUB1                Urology    urinary tract            909780         0           0           1                  0\n",
       "2478429  VM-CUB-1  mir-424          X          134546614        134546711              1              1               L                      NaN          X          133680644        133680741       1       1               L                      NaN  VMCUB1_URINARY_TRACT                VMCUB1                Urology    urinary tract            909780         0           0           1                  0"
      ]
     },
     "execution_count": 29,
     "metadata": {},
     "output_type": "execute_result"
    }
   ],
   "source": [
    "cnv_gene.tail(2)"
   ]
  },
  {
   "cell_type": "code",
   "execution_count": 30,
   "metadata": {
    "collapsed": false,
    "run_control": {
     "marked": false
    }
   },
   "outputs": [],
   "source": [
    "# Validate that we haven't done anything too bad...\n",
    "assert not (cnv_gene['max_cn'] == cnv_gene['min_cn']).all()"
   ]
  },
  {
   "cell_type": "code",
   "execution_count": 31,
   "metadata": {
    "collapsed": false,
    "run_control": {
     "marked": false
    }
   },
   "outputs": [
    {
     "data": {
      "text/plain": [
       "13073.0"
      ]
     },
     "execution_count": 31,
     "metadata": {},
     "output_type": "execute_result"
    }
   ],
   "source": [
    "cnv_gene['delta_cn'].sum()"
   ]
  },
  {
   "cell_type": "code",
   "execution_count": null,
   "metadata": {
    "collapsed": true,
    "run_control": {
     "marked": false
    }
   },
   "outputs": [],
   "source": []
  },
  {
   "cell_type": "markdown",
   "metadata": {
    "run_control": {
     "marked": false
    }
   },
   "source": [
    "## Create a pivot table for every feature of importance"
   ]
  },
  {
   "cell_type": "code",
   "execution_count": 32,
   "metadata": {
    "collapsed": false,
    "run_control": {
     "marked": false
    }
   },
   "outputs": [
    {
     "name": "stdout",
     "output_type": "stream",
     "text": [
      "max_cn: (85, 29124)\n",
      "min_cn: (85, 29124)\n",
      "zygosity_1: (85, 29124)\n",
      "zygosity_2: (85, 29124)\n",
      "disruption_status: (85, 29158)\n",
      "delta_cn: (85, 29124)\n"
     ]
    }
   ],
   "source": [
    "from sklearn.preprocessing import Imputer\n",
    "imp = Imputer(missing_values='NaN', strategy='most_frequent', axis=0, verbose=1)\n",
    "\n",
    "from sklearn.preprocessing import StandardScaler\n",
    "scaler = StandardScaler()\n",
    "\n",
    "feature_dfs = dict()\n",
    "for feature in features:\n",
    "    df = (\n",
    "        cnv_gene\n",
    "        .pivot(index='cell_line', columns='gene', values=feature)\n",
    "        .dropna(axis=1, how='all')\n",
    "        .sort_index()\n",
    "    )\n",
    "    X = df.values\n",
    "    X = imp.fit_transform(X)\n",
    "    # X = scaler.fit_transform(X)\n",
    "    feature_dfs[feature] = pd.DataFrame(X, index=df.index, columns=df.columns)\n",
    "    assert len(feature_dfs[feature]) == 85 # make sure we have at least one gene for all cell lines\n",
    "    print('{}: {}'.format(feature, feature_dfs[feature].shape))"
   ]
  },
  {
   "cell_type": "code",
   "execution_count": null,
   "metadata": {
    "collapsed": true,
    "run_control": {
     "marked": false
    }
   },
   "outputs": [],
   "source": []
  },
  {
   "cell_type": "code",
   "execution_count": null,
   "metadata": {
    "collapsed": true,
    "run_control": {
     "marked": false
    }
   },
   "outputs": [],
   "source": []
  },
  {
   "cell_type": "markdown",
   "metadata": {
    "run_control": {
     "marked": false
    }
   },
   "source": [
    "## Choose best metric for pairwise distances"
   ]
  },
  {
   "cell_type": "code",
   "execution_count": 33,
   "metadata": {
    "collapsed": false,
    "run_control": {
     "marked": false
    }
   },
   "outputs": [],
   "source": [
    "metrics = [\n",
    "    'euclidean',\n",
    "    'minkowski', \n",
    "    'cityblock',\n",
    "    'seuclidean', \n",
    "    'sqeuclidean',\n",
    "    'cosine',\n",
    "    'correlation',\n",
    "    'hamming',\n",
    "    'jaccard',\n",
    "    'chebyshev',\n",
    "    'canberra',\n",
    "    'braycurtis',\n",
    "    # 'mahalanobis',\n",
    "    'yule',\n",
    "    'matching',\n",
    "    'dice',\n",
    "    'kulsinski',\n",
    "    'rogerstanimoto',\n",
    "    'russellrao',\n",
    "    'sokalmichener',\n",
    "    'sokalsneath',\n",
    "    # 'wminkowski',\n",
    "]"
   ]
  },
  {
   "cell_type": "code",
   "execution_count": 34,
   "metadata": {
    "collapsed": false,
    "run_control": {
     "marked": false
    }
   },
   "outputs": [],
   "source": [
    "index = feature_dfs['min_cn'].index.copy()\n",
    "index.names = ['c_1']  # cell 1\n",
    "columns=feature_dfs['min_cn'].index.copy()\n",
    "columns.names = ['c_2']  # cell 2"
   ]
  },
  {
   "cell_type": "code",
   "execution_count": 35,
   "metadata": {
    "collapsed": false,
    "run_control": {
     "marked": false
    }
   },
   "outputs": [],
   "source": [
    "results_all = {}\n",
    "results_best = {}\n",
    "\n",
    "output = {}\n",
    "output = {}\n",
    "\n",
    "groups = [\n",
    "    # CN\n",
    "    ('max_cn', ), \n",
    "    ('min_cn', ),\n",
    "    ('max_cn', 'min_cn'),\n",
    "    # Zygosity\n",
    "    ('zygosity_1', 'zygosity_2'),\n",
    "    ('zygosity_1', 'zygosity_2', 'delta_cn'),\n",
    "    ('disruption_status', ),\n",
    "    # All together\n",
    "    ('zygosity_1', 'zygosity_2', 'disruption_status', ),\n",
    "    ('min_cn', 'zygosity_1', 'zygosity_2', 'disruption_status', ),\n",
    "    # Binarize copy number data\n",
    "    ('delta_cn', ), \n",
    "]\n",
    "groups = [\n",
    "    ('min_cn', ),\n",
    "    ('delta_cn', ),\n",
    "    ('zygosity_1', 'zygosity_2'),\n",
    "    ('disruption_status', ),\n",
    "]\n",
    "\n",
    "for group in groups:\n",
    "    for gene_subset in [None, 'cgs', 'target', 'cgs_plus_target']:\n",
    "        # All genes or only cancer gene sensus genes\n",
    "        if gene_subset is None:\n",
    "            all_features = np.hstack([feature_dfs[v].values for v in group])\n",
    "        elif gene_subset == 'cgs':\n",
    "            all_features = np.hstack([feature_dfs[v][cgs_genes].values for v in group])\n",
    "        elif gene_subset == 'target':\n",
    "            all_features = np.hstack([feature_dfs[v][target_genes].values for v in group])\n",
    "        elif gene_subset == 'cgs_plus_target':\n",
    "            cgs_plus_target_genes = list(set(cgs_genes) | set(target_genes))\n",
    "            all_features = np.hstack([feature_dfs[v][cgs_plus_target_genes].values for v in group])\n",
    "        else:\n",
    "            raise Exception\n",
    "        # Get a correlation score using all available metrics\n",
    "        results = []\n",
    "        for metric in metrics:\n",
    "            try:\n",
    "                PW = sp.spatial.distance.squareform(sp.spatial.distance.pdist(all_features, metric=metric))\n",
    "            except ValueError:\n",
    "                print(\"Skipping metric {}\".format(metric))\n",
    "            PW = pd.DataFrame(PW, index=index, columns=columns).unstack().reset_index()\n",
    "            PW['synergy_score_x'] = PW['c_1'].map(css)\n",
    "            PW['synergy_score_y'] = PW['c_2'].map(css)\n",
    "            PW['synergy_score_diff'] = (PW['synergy_score_y'] - PW['synergy_score_x'])\n",
    "            # Pearson\n",
    "            P_r, P_p = sp.stats.pearsonr(PW['synergy_score_diff'].abs(), PW[0])\n",
    "            # Spearman\n",
    "            S = sp.stats.spearmanr(PW['synergy_score_diff'].abs(), PW[0])\n",
    "            S_r, S_p = S.correlation, S.pvalue\n",
    "            results.append((metric, P_r, S_r, PW))\n",
    "        results.sort(key=lambda x: np.nansum([abs(x[1]), abs(x[2])]), reverse=True)\n",
    "        # Save best result\n",
    "        metric, P_r, S_r, PW = results[0]\n",
    "        results_best[(group, gene_subset)] = {\n",
    "            'metric': metric,\n",
    "            'P_r': P_r,\n",
    "            'S_r': S_r,\n",
    "            'df': PW,\n",
    "        }\n",
    "        # Stats for all metrics\n",
    "        df = pd.DataFrame([r[:3] for r in results], columns=['metric', 'pearson_r', 'spearman_r'])\n",
    "        results_all[group] = df"
   ]
  },
  {
   "cell_type": "code",
   "execution_count": 36,
   "metadata": {
    "collapsed": false,
    "run_control": {
     "marked": false
    }
   },
   "outputs": [],
   "source": [
    "results_best_df = pd.DataFrame(results_best).T.reset_index().rename(\n",
    "    columns={'index': 'group'}\n",
    ")\n",
    "results_best_df['subset'] = results_best_df['group'].apply(lambda x: x[1])\n",
    "results_best_df['group'] = results_best_df['group'].apply(lambda x: '|'.join(x[0]))"
   ]
  },
  {
   "cell_type": "code",
   "execution_count": 37,
   "metadata": {
    "collapsed": false,
    "run_control": {
     "marked": false
    }
   },
   "outputs": [
    {
     "data": {
      "text/html": [
       "<div>\n",
       "<table border=\"1\" class=\"dataframe\">\n",
       "  <thead>\n",
       "    <tr style=\"text-align: right;\">\n",
       "      <th></th>\n",
       "      <th>group</th>\n",
       "      <th>P_r</th>\n",
       "      <th>S_r</th>\n",
       "      <th>df</th>\n",
       "      <th>metric</th>\n",
       "      <th>subset</th>\n",
       "      <th>abs</th>\n",
       "    </tr>\n",
       "  </thead>\n",
       "  <tbody>\n",
       "    <tr>\n",
       "      <th>4</th>\n",
       "      <td>zygosity_1|zygosity_2</td>\n",
       "      <td>0.0819968</td>\n",
       "      <td>0.186759</td>\n",
       "      <td>c_2             c_1  0  synergy_sco...</td>\n",
       "      <td>chebyshev</td>\n",
       "      <td>None</td>\n",
       "      <td>0.134378</td>\n",
       "    </tr>\n",
       "    <tr>\n",
       "      <th>8</th>\n",
       "      <td>disruption_status</td>\n",
       "      <td>0.0819968</td>\n",
       "      <td>0.186759</td>\n",
       "      <td>c_2             c_1  0  synergy_sco...</td>\n",
       "      <td>chebyshev</td>\n",
       "      <td>None</td>\n",
       "      <td>0.134378</td>\n",
       "    </tr>\n",
       "    <tr>\n",
       "      <th>6</th>\n",
       "      <td>min_cn</td>\n",
       "      <td>-0.132518</td>\n",
       "      <td>-0.0653529</td>\n",
       "      <td>c_2             c_1         0  syne...</td>\n",
       "      <td>cosine</td>\n",
       "      <td>None</td>\n",
       "      <td>0.098936</td>\n",
       "    </tr>\n",
       "    <tr>\n",
       "      <th>15</th>\n",
       "      <td>delta_cn</td>\n",
       "      <td>-0.112771</td>\n",
       "      <td>-0.0476834</td>\n",
       "      <td>c_2             c_1         0  syne...</td>\n",
       "      <td>matching</td>\n",
       "      <td>None</td>\n",
       "      <td>0.080227</td>\n",
       "    </tr>\n",
       "  </tbody>\n",
       "</table>\n",
       "</div>"
      ],
      "text/plain": [
       "                    group        P_r        S_r                                                 df     metric subset       abs\n",
       "4   zygosity_1|zygosity_2  0.0819968   0.186759             c_2             c_1  0  synergy_sco...  chebyshev   None  0.134378\n",
       "8       disruption_status  0.0819968   0.186759             c_2             c_1  0  synergy_sco...  chebyshev   None  0.134378\n",
       "6                  min_cn  -0.132518 -0.0653529             c_2             c_1         0  syne...     cosine   None  0.098936\n",
       "15               delta_cn  -0.112771 -0.0476834             c_2             c_1         0  syne...   matching   None  0.080227"
      ]
     },
     "metadata": {},
     "output_type": "display_data"
    },
    {
     "data": {
      "text/html": [
       "<div>\n",
       "<table border=\"1\" class=\"dataframe\">\n",
       "  <thead>\n",
       "    <tr style=\"text-align: right;\">\n",
       "      <th></th>\n",
       "      <th>group</th>\n",
       "      <th>P_r</th>\n",
       "      <th>S_r</th>\n",
       "      <th>df</th>\n",
       "      <th>metric</th>\n",
       "      <th>subset</th>\n",
       "      <th>abs</th>\n",
       "    </tr>\n",
       "  </thead>\n",
       "  <tbody>\n",
       "    <tr>\n",
       "      <th>5</th>\n",
       "      <td>zygosity_1|zygosity_2</td>\n",
       "      <td>0.0819968</td>\n",
       "      <td>0.186759</td>\n",
       "      <td>c_2             c_1  0  synergy_sco...</td>\n",
       "      <td>chebyshev</td>\n",
       "      <td>cgs</td>\n",
       "      <td>0.134378</td>\n",
       "    </tr>\n",
       "    <tr>\n",
       "      <th>11</th>\n",
       "      <td>disruption_status</td>\n",
       "      <td>0.0821535</td>\n",
       "      <td>0.156896</td>\n",
       "      <td>c_2             c_1  0  synergy_sco...</td>\n",
       "      <td>chebyshev</td>\n",
       "      <td>cgs</td>\n",
       "      <td>0.119525</td>\n",
       "    </tr>\n",
       "    <tr>\n",
       "      <th>12</th>\n",
       "      <td>delta_cn</td>\n",
       "      <td>-0.118004</td>\n",
       "      <td>-0.103122</td>\n",
       "      <td>c_2             c_1   0  synergy_sc...</td>\n",
       "      <td>cityblock</td>\n",
       "      <td>cgs</td>\n",
       "      <td>0.110563</td>\n",
       "    </tr>\n",
       "    <tr>\n",
       "      <th>9</th>\n",
       "      <td>min_cn</td>\n",
       "      <td>-0.141884</td>\n",
       "      <td>-0.0716138</td>\n",
       "      <td>c_2             c_1         0  syne...</td>\n",
       "      <td>cosine</td>\n",
       "      <td>cgs</td>\n",
       "      <td>0.106749</td>\n",
       "    </tr>\n",
       "  </tbody>\n",
       "</table>\n",
       "</div>"
      ],
      "text/plain": [
       "                    group        P_r        S_r                                                 df     metric subset       abs\n",
       "5   zygosity_1|zygosity_2  0.0819968   0.186759             c_2             c_1  0  synergy_sco...  chebyshev    cgs  0.134378\n",
       "11      disruption_status  0.0821535   0.156896             c_2             c_1  0  synergy_sco...  chebyshev    cgs  0.119525\n",
       "12               delta_cn  -0.118004  -0.103122             c_2             c_1   0  synergy_sc...  cityblock    cgs  0.110563\n",
       "9                  min_cn  -0.141884 -0.0716138             c_2             c_1         0  syne...     cosine    cgs  0.106749"
      ]
     },
     "metadata": {},
     "output_type": "display_data"
    },
    {
     "data": {
      "text/html": [
       "<div>\n",
       "<table border=\"1\" class=\"dataframe\">\n",
       "  <thead>\n",
       "    <tr style=\"text-align: right;\">\n",
       "      <th></th>\n",
       "      <th>group</th>\n",
       "      <th>P_r</th>\n",
       "      <th>S_r</th>\n",
       "      <th>df</th>\n",
       "      <th>metric</th>\n",
       "      <th>subset</th>\n",
       "      <th>abs</th>\n",
       "    </tr>\n",
       "  </thead>\n",
       "  <tbody>\n",
       "    <tr>\n",
       "      <th>2</th>\n",
       "      <td>zygosity_1|zygosity_2</td>\n",
       "      <td>-0.140413</td>\n",
       "      <td>-0.129803</td>\n",
       "      <td>c_2             c_1          0  syn...</td>\n",
       "      <td>seuclidean</td>\n",
       "      <td>target</td>\n",
       "      <td>0.135108</td>\n",
       "    </tr>\n",
       "    <tr>\n",
       "      <th>0</th>\n",
       "      <td>delta_cn</td>\n",
       "      <td>0.0821635</td>\n",
       "      <td>0.147619</td>\n",
       "      <td>c_2             c_1         0  syne...</td>\n",
       "      <td>kulsinski</td>\n",
       "      <td>target</td>\n",
       "      <td>0.114891</td>\n",
       "    </tr>\n",
       "    <tr>\n",
       "      <th>14</th>\n",
       "      <td>disruption_status</td>\n",
       "      <td>0.0822934</td>\n",
       "      <td>0.123126</td>\n",
       "      <td>c_2             c_1         0  syne...</td>\n",
       "      <td>kulsinski</td>\n",
       "      <td>target</td>\n",
       "      <td>0.102710</td>\n",
       "    </tr>\n",
       "    <tr>\n",
       "      <th>1</th>\n",
       "      <td>min_cn</td>\n",
       "      <td>0.0284476</td>\n",
       "      <td>0.133843</td>\n",
       "      <td>c_2             c_1          0  syn...</td>\n",
       "      <td>seuclidean</td>\n",
       "      <td>target</td>\n",
       "      <td>0.081146</td>\n",
       "    </tr>\n",
       "  </tbody>\n",
       "</table>\n",
       "</div>"
      ],
      "text/plain": [
       "                    group        P_r       S_r                                                 df      metric  subset       abs\n",
       "2   zygosity_1|zygosity_2  -0.140413 -0.129803             c_2             c_1          0  syn...  seuclidean  target  0.135108\n",
       "0                delta_cn  0.0821635  0.147619             c_2             c_1         0  syne...   kulsinski  target  0.114891\n",
       "14      disruption_status  0.0822934  0.123126             c_2             c_1         0  syne...   kulsinski  target  0.102710\n",
       "1                  min_cn  0.0284476  0.133843             c_2             c_1          0  syn...  seuclidean  target  0.081146"
      ]
     },
     "metadata": {},
     "output_type": "display_data"
    },
    {
     "data": {
      "text/html": [
       "<div>\n",
       "<table border=\"1\" class=\"dataframe\">\n",
       "  <thead>\n",
       "    <tr style=\"text-align: right;\">\n",
       "      <th></th>\n",
       "      <th>group</th>\n",
       "      <th>P_r</th>\n",
       "      <th>S_r</th>\n",
       "      <th>df</th>\n",
       "      <th>metric</th>\n",
       "      <th>subset</th>\n",
       "      <th>abs</th>\n",
       "    </tr>\n",
       "  </thead>\n",
       "  <tbody>\n",
       "    <tr>\n",
       "      <th>13</th>\n",
       "      <td>zygosity_1|zygosity_2</td>\n",
       "      <td>0.0819968</td>\n",
       "      <td>0.186759</td>\n",
       "      <td>c_2             c_1  0  synergy_sco...</td>\n",
       "      <td>chebyshev</td>\n",
       "      <td>cgs_plus_target</td>\n",
       "      <td>0.134378</td>\n",
       "    </tr>\n",
       "    <tr>\n",
       "      <th>7</th>\n",
       "      <td>disruption_status</td>\n",
       "      <td>0.0825237</td>\n",
       "      <td>0.17225</td>\n",
       "      <td>c_2             c_1  0  synergy_sco...</td>\n",
       "      <td>chebyshev</td>\n",
       "      <td>cgs_plus_target</td>\n",
       "      <td>0.127387</td>\n",
       "    </tr>\n",
       "    <tr>\n",
       "      <th>3</th>\n",
       "      <td>delta_cn</td>\n",
       "      <td>-0.12867</td>\n",
       "      <td>-0.107216</td>\n",
       "      <td>c_2             c_1   0  synergy_sc...</td>\n",
       "      <td>cityblock</td>\n",
       "      <td>cgs_plus_target</td>\n",
       "      <td>0.117943</td>\n",
       "    </tr>\n",
       "    <tr>\n",
       "      <th>10</th>\n",
       "      <td>min_cn</td>\n",
       "      <td>-0.121744</td>\n",
       "      <td>-0.0582373</td>\n",
       "      <td>c_2             c_1         0  syne...</td>\n",
       "      <td>cosine</td>\n",
       "      <td>cgs_plus_target</td>\n",
       "      <td>0.089991</td>\n",
       "    </tr>\n",
       "  </tbody>\n",
       "</table>\n",
       "</div>"
      ],
      "text/plain": [
       "                    group        P_r        S_r                                                 df     metric           subset       abs\n",
       "13  zygosity_1|zygosity_2  0.0819968   0.186759             c_2             c_1  0  synergy_sco...  chebyshev  cgs_plus_target  0.134378\n",
       "7       disruption_status  0.0825237    0.17225             c_2             c_1  0  synergy_sco...  chebyshev  cgs_plus_target  0.127387\n",
       "3                delta_cn   -0.12867  -0.107216             c_2             c_1   0  synergy_sc...  cityblock  cgs_plus_target  0.117943\n",
       "10                 min_cn  -0.121744 -0.0582373             c_2             c_1         0  syne...     cosine  cgs_plus_target  0.089991"
      ]
     },
     "metadata": {},
     "output_type": "display_data"
    }
   ],
   "source": [
    "results_best_df['group'] = results_best_df['group']\n",
    "results_best_df['abs'] = results_best_df[['P_r', 'S_r']].apply(lambda x: np.mean(np.abs(x)), axis=1)\n",
    "results_best_df.sort_values('abs', ascending=False, inplace=True)\n",
    "display(results_best_df[results_best_df['subset'].isnull()])\n",
    "display(results_best_df[results_best_df['subset'] == 'cgs'])\n",
    "display(results_best_df[results_best_df['subset'] == 'target'])\n",
    "display(results_best_df[results_best_df['subset'] == 'cgs_plus_target'])"
   ]
  },
  {
   "cell_type": "code",
   "execution_count": null,
   "metadata": {
    "collapsed": true,
    "run_control": {
     "marked": false
    }
   },
   "outputs": [],
   "source": []
  },
  {
   "cell_type": "markdown",
   "metadata": {
    "run_control": {
     "marked": false
    }
   },
   "source": [
    "# Save"
   ]
  },
  {
   "cell_type": "code",
   "execution_count": 38,
   "metadata": {
    "collapsed": true,
    "run_control": {
     "marked": false
    }
   },
   "outputs": [],
   "source": [
    "import csv2sql\n",
    "db = csv2sql.DataFrameToMySQL(\n",
    "    'mysql://strokach:@192.168.6.19:3306/az_dream_2015_features', \n",
    "    'cnv', \n",
    "    '192.168.6.8', \n",
    "    echo=False\n",
    ")"
   ]
  },
  {
   "cell_type": "code",
   "execution_count": 39,
   "metadata": {
    "collapsed": true
   },
   "outputs": [],
   "source": [
    "import csv2sql.g2d"
   ]
  },
  {
   "cell_type": "markdown",
   "metadata": {
    "run_control": {
     "marked": false
    }
   },
   "source": [
    "## gc"
   ]
  },
  {
   "cell_type": "code",
   "execution_count": 40,
   "metadata": {
    "collapsed": true,
    "run_control": {
     "marked": false
    }
   },
   "outputs": [],
   "source": [
    "cnv_gene_tmp = cnv_gene.rename(columns={'cell_line': 'c', 'gene': 'g'})"
   ]
  },
  {
   "cell_type": "code",
   "execution_count": 41,
   "metadata": {
    "collapsed": false,
    "run_control": {
     "marked": false
    }
   },
   "outputs": [
    {
     "data": {
      "text/html": [
       "<div>\n",
       "<table border=\"1\" class=\"dataframe\">\n",
       "  <thead>\n",
       "    <tr style=\"text-align: right;\">\n",
       "      <th></th>\n",
       "      <th>c</th>\n",
       "      <th>g</th>\n",
       "      <th>chr_GRCh38</th>\n",
       "      <th>gene_start_GRCh38</th>\n",
       "      <th>gene_end_GRCh38</th>\n",
       "      <th>max_cn_GRCh38</th>\n",
       "      <th>min_cn_GRCh38</th>\n",
       "      <th>zygosity_GRCh38</th>\n",
       "      <th>disruption_status_GRCh38</th>\n",
       "      <th>chr_GRCh37</th>\n",
       "      <th>gene_start_GRCh37</th>\n",
       "      <th>gene_end_GRCh37</th>\n",
       "      <th>max_cn</th>\n",
       "      <th>min_cn</th>\n",
       "      <th>zygosity_GRCh37</th>\n",
       "      <th>disruption_status_GRCh37</th>\n",
       "      <th>cell_line_ccle</th>\n",
       "      <th>cell_line_alternative</th>\n",
       "      <th>cell_line_disease_area</th>\n",
       "      <th>cell_line_tissue</th>\n",
       "      <th>cell_line_cosmic</th>\n",
       "      <th>delta_cn</th>\n",
       "      <th>zygosity_1</th>\n",
       "      <th>zygosity_2</th>\n",
       "      <th>disruption_status</th>\n",
       "    </tr>\n",
       "  </thead>\n",
       "  <tbody>\n",
       "    <tr>\n",
       "      <th>0</th>\n",
       "      <td>22RV1</td>\n",
       "      <td>39340</td>\n",
       "      <td>1</td>\n",
       "      <td>86880690</td>\n",
       "      <td>86914111</td>\n",
       "      <td>2</td>\n",
       "      <td>2</td>\n",
       "      <td>H</td>\n",
       "      <td>NaN</td>\n",
       "      <td>1</td>\n",
       "      <td>87346373</td>\n",
       "      <td>87379794</td>\n",
       "      <td>2</td>\n",
       "      <td>2</td>\n",
       "      <td>H</td>\n",
       "      <td>NaN</td>\n",
       "      <td>22RV1_PROSTATE</td>\n",
       "      <td>22RV1</td>\n",
       "      <td>Urology</td>\n",
       "      <td>male genital system</td>\n",
       "      <td>924100</td>\n",
       "      <td>0</td>\n",
       "      <td>1</td>\n",
       "      <td>0</td>\n",
       "      <td>0</td>\n",
       "    </tr>\n",
       "    <tr>\n",
       "      <th>1</th>\n",
       "      <td>22RV1</td>\n",
       "      <td>A1BG</td>\n",
       "      <td>19</td>\n",
       "      <td>58347022</td>\n",
       "      <td>58353437</td>\n",
       "      <td>-1</td>\n",
       "      <td>-1</td>\n",
       "      <td>NaN</td>\n",
       "      <td>NaN</td>\n",
       "      <td>19</td>\n",
       "      <td>58858388</td>\n",
       "      <td>58864803</td>\n",
       "      <td>2</td>\n",
       "      <td>2</td>\n",
       "      <td>H</td>\n",
       "      <td>NaN</td>\n",
       "      <td>22RV1_PROSTATE</td>\n",
       "      <td>22RV1</td>\n",
       "      <td>Urology</td>\n",
       "      <td>male genital system</td>\n",
       "      <td>924100</td>\n",
       "      <td>0</td>\n",
       "      <td>1</td>\n",
       "      <td>0</td>\n",
       "      <td>0</td>\n",
       "    </tr>\n",
       "  </tbody>\n",
       "</table>\n",
       "</div>"
      ],
      "text/plain": [
       "       c      g chr_GRCh38  gene_start_GRCh38  gene_end_GRCh38  max_cn_GRCh38  min_cn_GRCh38 zygosity_GRCh38 disruption_status_GRCh38 chr_GRCh37  gene_start_GRCh37  gene_end_GRCh37  max_cn  min_cn zygosity_GRCh37 disruption_status_GRCh37  cell_line_ccle cell_line_alternative cell_line_disease_area     cell_line_tissue  cell_line_cosmic  delta_cn  zygosity_1  zygosity_2  disruption_status\n",
       "0  22RV1  39340          1           86880690         86914111              2              2               H                      NaN          1           87346373         87379794       2       2               H                      NaN  22RV1_PROSTATE                 22RV1                Urology  male genital system            924100         0           1           0                  0\n",
       "1  22RV1   A1BG         19           58347022         58353437             -1             -1             NaN                      NaN         19           58858388         58864803       2       2               H                      NaN  22RV1_PROSTATE                 22RV1                Urology  male genital system            924100         0           1           0                  0"
      ]
     },
     "execution_count": 41,
     "metadata": {},
     "output_type": "execute_result"
    }
   ],
   "source": [
    "cnv_gene_tmp.head(2)"
   ]
  },
  {
   "cell_type": "code",
   "execution_count": 42,
   "metadata": {
    "collapsed": false,
    "run_control": {
     "marked": false
    }
   },
   "outputs": [],
   "source": [
    "cnv_gbgc = (\n",
    "    cnv_gene_tmp\n",
    "    [['g', 'c', 'min_cn', 'delta_cn', 'zygosity_1', 'zygosity_2', 'disruption_status']]\n",
    "    .rename(columns=lambda x: (x + '_gbgc') if x not in ['g', 'c'] else x)\n",
    "    .rename(columns={'disruption_status_gbgc': 'disruption_status_gbgc_max'})\n",
    ")"
   ]
  },
  {
   "cell_type": "code",
   "execution_count": 43,
   "metadata": {
    "collapsed": false
   },
   "outputs": [
    {
     "data": {
      "text/html": [
       "<div>\n",
       "<table border=\"1\" class=\"dataframe\">\n",
       "  <thead>\n",
       "    <tr style=\"text-align: right;\">\n",
       "      <th></th>\n",
       "      <th>g</th>\n",
       "      <th>c</th>\n",
       "      <th>min_cn_gbgc</th>\n",
       "      <th>delta_cn_gbgc</th>\n",
       "      <th>zygosity_1_gbgc</th>\n",
       "      <th>zygosity_2_gbgc</th>\n",
       "      <th>disruption_status_gbgc_max</th>\n",
       "    </tr>\n",
       "  </thead>\n",
       "  <tbody>\n",
       "    <tr>\n",
       "      <th>0</th>\n",
       "      <td>39340</td>\n",
       "      <td>22RV1</td>\n",
       "      <td>2</td>\n",
       "      <td>0</td>\n",
       "      <td>1</td>\n",
       "      <td>0</td>\n",
       "      <td>0</td>\n",
       "    </tr>\n",
       "    <tr>\n",
       "      <th>1</th>\n",
       "      <td>A1BG</td>\n",
       "      <td>22RV1</td>\n",
       "      <td>2</td>\n",
       "      <td>0</td>\n",
       "      <td>1</td>\n",
       "      <td>0</td>\n",
       "      <td>0</td>\n",
       "    </tr>\n",
       "    <tr>\n",
       "      <th>2</th>\n",
       "      <td>A1CF</td>\n",
       "      <td>22RV1</td>\n",
       "      <td>2</td>\n",
       "      <td>0</td>\n",
       "      <td>1</td>\n",
       "      <td>0</td>\n",
       "      <td>0</td>\n",
       "    </tr>\n",
       "    <tr>\n",
       "      <th>3</th>\n",
       "      <td>A1CF_ENST00000282641</td>\n",
       "      <td>22RV1</td>\n",
       "      <td>2</td>\n",
       "      <td>0</td>\n",
       "      <td>1</td>\n",
       "      <td>0</td>\n",
       "      <td>0</td>\n",
       "    </tr>\n",
       "    <tr>\n",
       "      <th>4</th>\n",
       "      <td>A1CF_ENST00000373995</td>\n",
       "      <td>22RV1</td>\n",
       "      <td>2</td>\n",
       "      <td>0</td>\n",
       "      <td>1</td>\n",
       "      <td>0</td>\n",
       "      <td>0</td>\n",
       "    </tr>\n",
       "  </tbody>\n",
       "</table>\n",
       "</div>"
      ],
      "text/plain": [
       "                      g      c  min_cn_gbgc  delta_cn_gbgc  zygosity_1_gbgc  zygosity_2_gbgc  disruption_status_gbgc_max\n",
       "0                 39340  22RV1            2              0                1                0                           0\n",
       "1                  A1BG  22RV1            2              0                1                0                           0\n",
       "2                  A1CF  22RV1            2              0                1                0                           0\n",
       "3  A1CF_ENST00000282641  22RV1            2              0                1                0                           0\n",
       "4  A1CF_ENST00000373995  22RV1            2              0                1                0                           0"
      ]
     },
     "execution_count": 43,
     "metadata": {},
     "output_type": "execute_result"
    }
   ],
   "source": [
    "cnv_gbgc.head()"
   ]
  },
  {
   "cell_type": "code",
   "execution_count": 44,
   "metadata": {
    "collapsed": false,
    "run_control": {
     "marked": false
    }
   },
   "outputs": [
    {
     "name": "stderr",
     "output_type": "stream",
     "text": [
      "DEBUG:csv2sql.core:Uncompressing file...\n",
      "INFO:csv2sql.core:bzip2 -dkf '/home/kimlab1/database_data/biodata/recipes/az_dream_2015/notebooks/cnv/cnv_gbgc.tsv.bz2'\n",
      "DEBUG:csv2sql.core:Running on host: '192.168.6.8'\n",
      "DEBUG:csv2sql.core:Initializing SSH client: '192.168.6.8'\n",
      "DEBUG:csv2sql.core:Command ran successfully!\n",
      "DEBUG:csv2sql.core:output: \n",
      "DEBUG:csv2sql.core:Loading data into MySQL table: 'cnv_gbgc'...\n",
      "INFO:csv2sql.core:mysql --local-infile -h 192.168.6.19 -P 3306 -u strokach  az_dream_2015_features -e \"load data local infile '/home/kimlab1/database_data/biodata/recipes/az_dream_2015/notebooks/cnv/cnv_gbgc.tsv' into table `cnv_gbgc` ignore 1 lines;  show warnings;\" \n",
      "DEBUG:csv2sql.core:Running locally\n",
      "DEBUG:csv2sql.core:Command ran successfully!\n",
      "DEBUG:csv2sql.core:output: \n",
      "DEBUG:csv2sql.core:Removing uncompressed file '/home/kimlab1/database_data/biodata/recipes/az_dream_2015/notebooks/cnv/cnv_gbgc.tsv'...\n",
      "INFO:csv2sql.core:rm -f '/home/kimlab1/database_data/biodata/recipes/az_dream_2015/notebooks/cnv/cnv_gbgc.tsv'\n",
      "DEBUG:csv2sql.core:Running locally\n",
      "DEBUG:csv2sql.core:Command ran successfully!\n",
      "DEBUG:csv2sql.core:output: \n"
     ]
    }
   ],
   "source": [
    "db.import_table(\n",
    "    cnv_gbgc,\n",
    "    'cnv_gbgc', [\n",
    "        [('g', 'c'), True],\n",
    "        [('c', 'g'), False],\n",
    "    ],\n",
    ")"
   ]
  },
  {
   "cell_type": "code",
   "execution_count": 45,
   "metadata": {
    "collapsed": false,
    "run_control": {
     "marked": false
    },
    "scrolled": true
   },
   "outputs": [
    {
     "name": "stdout",
     "output_type": "stream",
     "text": [
      "Unknown ending for column: min_cn_gbgc. Assuming mean...\n",
      "Unknown ending for column: delta_cn_gbgc. Assuming mean...\n",
      "Unknown ending for column: zygosity_1_gbgc. Assuming mean...\n",
      "Unknown ending for column: zygosity_2_gbgc. Assuming mean...\n",
      "DROP TABLE IF EXISTS az_dream_2015_features.cnv_gbdc;\n",
      "\n",
      "CREATE TABLE az_dream_2015_features.cnv_gbdc AS\n",
      "SELECT\n",
      "d2t.drug d,\n",
      "t.c c,\n",
      "avg(t.min_cn_gbgc) min_cn_gbgc_mean,\n",
      "avg(t.delta_cn_gbgc) delta_cn_gbgc_mean,\n",
      "avg(t.zygosity_1_gbgc) zygosity_1_gbgc_mean,\n",
      "avg(t.zygosity_2_gbgc) zygosity_2_gbgc_mean,\n",
      "max(t.disruption_status_gbgc_max) disruption_status_gbgc_max_max\n",
      "FROM az_dream_2015.drug_to_hgnc_target d2t\n",
      "LEFT JOIN az_dream_2015_features.cnv_gbgc t ON (t.g = d2t.hgnc_name)\n",
      "GROUP BY d2t.drug , t.c;\n",
      "\n",
      "ALTER TABLE az_dream_2015_features.cnv_gbdc\n",
      "MODIFY d VARCHAR(255);\n",
      "\n",
      "CREATE INDEX a ON az_dream_2015_features.cnv_gbdc (d);\n",
      "\n",
      "DROP INDEX a ON az_dream_2015_features.cnv_gbdc;\n",
      "\n",
      "ALTER TABLE az_dream_2015_features.cnv_gbdc\n",
      "MODIFY c VARCHAR(255);\n",
      "\n",
      "CREATE INDEX a ON az_dream_2015_features.cnv_gbdc (d, c);\n",
      "\n",
      "CREATE INDEX b ON az_dream_2015_features.cnv_gbdc (c, d);\n",
      "\n",
      "Unknown ending for column: min_cn_gbgc. Assuming mean...\n",
      "Unknown ending for column: delta_cn_gbgc. Assuming mean...\n",
      "Unknown ending for column: zygosity_1_gbgc. Assuming mean...\n",
      "Unknown ending for column: zygosity_2_gbgc. Assuming mean...\n",
      "DROP TABLE IF EXISTS az_dream_2015_features.cnv_gbdc_stitch;\n",
      "\n",
      "CREATE TABLE az_dream_2015_features.cnv_gbdc_stitch AS\n",
      "SELECT\n",
      "d2t.drug d,\n",
      "t.c c,\n",
      "avg(t.min_cn_gbgc) min_cn_gbgc_stitch_mean,\n",
      "avg(t.delta_cn_gbgc) delta_cn_gbgc_stitch_mean,\n",
      "avg(t.zygosity_1_gbgc) zygosity_1_gbgc_stitch_mean,\n",
      "avg(t.zygosity_2_gbgc) zygosity_2_gbgc_stitch_mean,\n",
      "max(t.disruption_status_gbgc_max) disruption_status_gbgc_max_stitch_max\n",
      "FROM az_dream_2015.drug_to_hgnc_target_stitch d2t\n",
      "LEFT JOIN az_dream_2015_features.cnv_gbgc t ON (t.g = d2t.hgnc_name)\n",
      "GROUP BY d2t.drug , t.c;\n",
      "\n",
      "ALTER TABLE az_dream_2015_features.cnv_gbdc_stitch\n",
      "MODIFY d VARCHAR(255);\n",
      "\n",
      "CREATE INDEX a ON az_dream_2015_features.cnv_gbdc_stitch (d);\n",
      "\n",
      "DROP INDEX a ON az_dream_2015_features.cnv_gbdc_stitch;\n",
      "\n",
      "ALTER TABLE az_dream_2015_features.cnv_gbdc_stitch\n",
      "MODIFY c VARCHAR(255);\n",
      "\n",
      "CREATE INDEX a ON az_dream_2015_features.cnv_gbdc_stitch (d, c);\n",
      "\n",
      "CREATE INDEX b ON az_dream_2015_features.cnv_gbdc_stitch (c, d);\n",
      "\n"
     ]
    }
   ],
   "source": [
    "csv2sql.g2d.g2d('cnv_gbgc')"
   ]
  },
  {
   "cell_type": "markdown",
   "metadata": {
    "run_control": {
     "marked": false
    }
   },
   "source": [
    "## g"
   ]
  },
  {
   "cell_type": "code",
   "execution_count": 46,
   "metadata": {
    "collapsed": true,
    "run_control": {
     "marked": false
    }
   },
   "outputs": [],
   "source": [
    "cnv_gbg = (\n",
    "    cnv_gene_tmp\n",
    "    [['g', 'c', 'min_cn', 'delta_cn', 'zygosity_1', 'zygosity_2', 'disruption_status']]\n",
    "    .groupby('g')\n",
    "    .agg({\n",
    "        'min_cn': np.min,\n",
    "        'delta_cn': np.mean,\n",
    "        'zygosity_1': np.mean,\n",
    "        'zygosity_2': np.mean,\n",
    "        'disruption_status': np.max\n",
    "    })\n",
    "    .rename(columns=lambda x: (x + '_gbg') if x not in ['g', 'c'] else x)\n",
    "    .rename(columns={'disruption_status_gbg': 'disruption_status_gbg_max'})\n",
    "    .reset_index()\n",
    ")"
   ]
  },
  {
   "cell_type": "code",
   "execution_count": 47,
   "metadata": {
    "collapsed": false,
    "run_control": {
     "marked": false
    }
   },
   "outputs": [
    {
     "data": {
      "text/html": [
       "<div>\n",
       "<table border=\"1\" class=\"dataframe\">\n",
       "  <thead>\n",
       "    <tr style=\"text-align: right;\">\n",
       "      <th></th>\n",
       "      <th>g</th>\n",
       "      <th>disruption_status_gbg_max</th>\n",
       "      <th>zygosity_1_gbg</th>\n",
       "      <th>zygosity_2_gbg</th>\n",
       "      <th>delta_cn_gbg</th>\n",
       "      <th>min_cn_gbg</th>\n",
       "    </tr>\n",
       "  </thead>\n",
       "  <tbody>\n",
       "    <tr>\n",
       "      <th>0</th>\n",
       "      <td>39340</td>\n",
       "      <td>0</td>\n",
       "      <td>0.717647</td>\n",
       "      <td>0.282353</td>\n",
       "      <td>0</td>\n",
       "      <td>1</td>\n",
       "    </tr>\n",
       "    <tr>\n",
       "      <th>1</th>\n",
       "      <td>A1BG</td>\n",
       "      <td>0</td>\n",
       "      <td>0.717647</td>\n",
       "      <td>0.282353</td>\n",
       "      <td>0</td>\n",
       "      <td>2</td>\n",
       "    </tr>\n",
       "  </tbody>\n",
       "</table>\n",
       "</div>"
      ],
      "text/plain": [
       "       g  disruption_status_gbg_max  zygosity_1_gbg  zygosity_2_gbg  delta_cn_gbg  min_cn_gbg\n",
       "0  39340                          0        0.717647        0.282353             0           1\n",
       "1   A1BG                          0        0.717647        0.282353             0           2"
      ]
     },
     "execution_count": 47,
     "metadata": {},
     "output_type": "execute_result"
    }
   ],
   "source": [
    "cnv_gbg.head(2)"
   ]
  },
  {
   "cell_type": "code",
   "execution_count": 48,
   "metadata": {
    "collapsed": false,
    "run_control": {
     "marked": false
    }
   },
   "outputs": [
    {
     "data": {
      "text/html": [
       "<div>\n",
       "<table border=\"1\" class=\"dataframe\">\n",
       "  <thead>\n",
       "    <tr style=\"text-align: right;\">\n",
       "      <th></th>\n",
       "      <th>disruption_status_gbg_max</th>\n",
       "      <th>zygosity_1_gbg</th>\n",
       "      <th>zygosity_2_gbg</th>\n",
       "      <th>delta_cn_gbg</th>\n",
       "      <th>min_cn_gbg</th>\n",
       "    </tr>\n",
       "  </thead>\n",
       "  <tbody>\n",
       "    <tr>\n",
       "      <th>count</th>\n",
       "      <td>29158.000000</td>\n",
       "      <td>29124.000000</td>\n",
       "      <td>29124.000000</td>\n",
       "      <td>29124.000000</td>\n",
       "      <td>29124.000000</td>\n",
       "    </tr>\n",
       "    <tr>\n",
       "      <th>mean</th>\n",
       "      <td>0.185095</td>\n",
       "      <td>0.679429</td>\n",
       "      <td>0.318621</td>\n",
       "      <td>0.005281</td>\n",
       "      <td>1.263872</td>\n",
       "    </tr>\n",
       "    <tr>\n",
       "      <th>std</th>\n",
       "      <td>0.388381</td>\n",
       "      <td>0.153669</td>\n",
       "      <td>0.150494</td>\n",
       "      <td>0.024471</td>\n",
       "      <td>0.506902</td>\n",
       "    </tr>\n",
       "    <tr>\n",
       "      <th>min</th>\n",
       "      <td>0.000000</td>\n",
       "      <td>0.000000</td>\n",
       "      <td>0.011765</td>\n",
       "      <td>0.000000</td>\n",
       "      <td>0.000000</td>\n",
       "    </tr>\n",
       "    <tr>\n",
       "      <th>25%</th>\n",
       "      <td>0.000000</td>\n",
       "      <td>0.611765</td>\n",
       "      <td>0.223529</td>\n",
       "      <td>0.000000</td>\n",
       "      <td>1.000000</td>\n",
       "    </tr>\n",
       "    <tr>\n",
       "      <th>50%</th>\n",
       "      <td>0.000000</td>\n",
       "      <td>0.705882</td>\n",
       "      <td>0.294118</td>\n",
       "      <td>0.000000</td>\n",
       "      <td>1.000000</td>\n",
       "    </tr>\n",
       "    <tr>\n",
       "      <th>75%</th>\n",
       "      <td>0.000000</td>\n",
       "      <td>0.776471</td>\n",
       "      <td>0.388235</td>\n",
       "      <td>0.000000</td>\n",
       "      <td>2.000000</td>\n",
       "    </tr>\n",
       "    <tr>\n",
       "      <th>max</th>\n",
       "      <td>1.000000</td>\n",
       "      <td>0.976471</td>\n",
       "      <td>0.870588</td>\n",
       "      <td>1.517647</td>\n",
       "      <td>2.000000</td>\n",
       "    </tr>\n",
       "  </tbody>\n",
       "</table>\n",
       "</div>"
      ],
      "text/plain": [
       "       disruption_status_gbg_max  zygosity_1_gbg  zygosity_2_gbg  delta_cn_gbg    min_cn_gbg\n",
       "count               29158.000000    29124.000000    29124.000000  29124.000000  29124.000000\n",
       "mean                    0.185095        0.679429        0.318621      0.005281      1.263872\n",
       "std                     0.388381        0.153669        0.150494      0.024471      0.506902\n",
       "min                     0.000000        0.000000        0.011765      0.000000      0.000000\n",
       "25%                     0.000000        0.611765        0.223529      0.000000      1.000000\n",
       "50%                     0.000000        0.705882        0.294118      0.000000      1.000000\n",
       "75%                     0.000000        0.776471        0.388235      0.000000      2.000000\n",
       "max                     1.000000        0.976471        0.870588      1.517647      2.000000"
      ]
     },
     "execution_count": 48,
     "metadata": {},
     "output_type": "execute_result"
    }
   ],
   "source": [
    "cnv_gbg.describe()"
   ]
  },
  {
   "cell_type": "code",
   "execution_count": 49,
   "metadata": {
    "collapsed": false,
    "run_control": {
     "marked": false
    }
   },
   "outputs": [
    {
     "data": {
      "text/plain": [
       "(29158, 6)"
      ]
     },
     "execution_count": 49,
     "metadata": {},
     "output_type": "execute_result"
    }
   ],
   "source": [
    "cnv_gbg.shape"
   ]
  },
  {
   "cell_type": "code",
   "execution_count": 50,
   "metadata": {
    "collapsed": false,
    "run_control": {
     "marked": false
    }
   },
   "outputs": [
    {
     "name": "stderr",
     "output_type": "stream",
     "text": [
      "DEBUG:csv2sql.core:Uncompressing file...\n",
      "INFO:csv2sql.core:bzip2 -dkf '/home/kimlab1/database_data/biodata/recipes/az_dream_2015/notebooks/cnv/cnv_gbg.tsv.bz2'\n",
      "DEBUG:csv2sql.core:Running on host: '192.168.6.8'\n",
      "DEBUG:csv2sql.core:Command ran successfully!\n",
      "DEBUG:csv2sql.core:output: \n",
      "DEBUG:csv2sql.core:Loading data into MySQL table: 'cnv_gbg'...\n",
      "INFO:csv2sql.core:mysql --local-infile -h 192.168.6.19 -P 3306 -u strokach  az_dream_2015_features -e \"load data local infile '/home/kimlab1/database_data/biodata/recipes/az_dream_2015/notebooks/cnv/cnv_gbg.tsv' into table `cnv_gbg` ignore 1 lines;  show warnings;\" \n",
      "DEBUG:csv2sql.core:Running locally\n",
      "DEBUG:csv2sql.core:Command ran successfully!\n",
      "DEBUG:csv2sql.core:output: \n",
      "DEBUG:csv2sql.core:Removing uncompressed file '/home/kimlab1/database_data/biodata/recipes/az_dream_2015/notebooks/cnv/cnv_gbg.tsv'...\n",
      "INFO:csv2sql.core:rm -f '/home/kimlab1/database_data/biodata/recipes/az_dream_2015/notebooks/cnv/cnv_gbg.tsv'\n",
      "DEBUG:csv2sql.core:Running locally\n",
      "DEBUG:csv2sql.core:Command ran successfully!\n",
      "DEBUG:csv2sql.core:output: \n"
     ]
    }
   ],
   "source": [
    "db.import_table(\n",
    "    cnv_gbg, \n",
    "    'cnv_gbg', [\n",
    "        [('g',), True],\n",
    "    ],\n",
    ")"
   ]
  },
  {
   "cell_type": "code",
   "execution_count": 51,
   "metadata": {
    "collapsed": false,
    "run_control": {
     "marked": false
    },
    "scrolled": true
   },
   "outputs": [
    {
     "name": "stdout",
     "output_type": "stream",
     "text": [
      "Unknown ending for column: zygosity_1_gbg. Assuming mean...\n",
      "Unknown ending for column: zygosity_2_gbg. Assuming mean...\n",
      "Unknown ending for column: delta_cn_gbg. Assuming mean...\n",
      "Unknown ending for column: min_cn_gbg. Assuming mean...\n",
      "DROP TABLE IF EXISTS az_dream_2015_features.cnv_gbd;\n",
      "\n",
      "CREATE TABLE az_dream_2015_features.cnv_gbd AS\n",
      "SELECT\n",
      "d2t.drug d,\n",
      "max(t.disruption_status_gbg_max) disruption_status_gbg_max_max,\n",
      "avg(t.zygosity_1_gbg) zygosity_1_gbg_mean,\n",
      "avg(t.zygosity_2_gbg) zygosity_2_gbg_mean,\n",
      "avg(t.delta_cn_gbg) delta_cn_gbg_mean,\n",
      "avg(t.min_cn_gbg) min_cn_gbg_mean\n",
      "FROM az_dream_2015.drug_to_hgnc_target d2t\n",
      "LEFT JOIN az_dream_2015_features.cnv_gbg t ON (t.g = d2t.hgnc_name)\n",
      "GROUP BY d2t.drug;\n",
      "\n",
      "ALTER TABLE az_dream_2015_features.cnv_gbd\n",
      "MODIFY d VARCHAR(255);\n",
      "\n",
      "CREATE INDEX a ON az_dream_2015_features.cnv_gbd (d);\n",
      "\n",
      "Unknown ending for column: zygosity_1_gbg. Assuming mean...\n",
      "Unknown ending for column: zygosity_2_gbg. Assuming mean...\n",
      "Unknown ending for column: delta_cn_gbg. Assuming mean...\n",
      "Unknown ending for column: min_cn_gbg. Assuming mean...\n",
      "DROP TABLE IF EXISTS az_dream_2015_features.cnv_gbd_stitch;\n",
      "\n",
      "CREATE TABLE az_dream_2015_features.cnv_gbd_stitch AS\n",
      "SELECT\n",
      "d2t.drug d,\n",
      "max(t.disruption_status_gbg_max) disruption_status_gbg_max_stitch_max,\n",
      "avg(t.zygosity_1_gbg) zygosity_1_gbg_stitch_mean,\n",
      "avg(t.zygosity_2_gbg) zygosity_2_gbg_stitch_mean,\n",
      "avg(t.delta_cn_gbg) delta_cn_gbg_stitch_mean,\n",
      "avg(t.min_cn_gbg) min_cn_gbg_stitch_mean\n",
      "FROM az_dream_2015.drug_to_hgnc_target_stitch d2t\n",
      "LEFT JOIN az_dream_2015_features.cnv_gbg t ON (t.g = d2t.hgnc_name)\n",
      "GROUP BY d2t.drug;\n",
      "\n",
      "ALTER TABLE az_dream_2015_features.cnv_gbd_stitch\n",
      "MODIFY d VARCHAR(255);\n",
      "\n",
      "CREATE INDEX a ON az_dream_2015_features.cnv_gbd_stitch (d);\n",
      "\n"
     ]
    }
   ],
   "source": [
    "csv2sql.g2d.g2d('cnv_gbg')"
   ]
  },
  {
   "cell_type": "markdown",
   "metadata": {
    "code_folding": [],
    "run_control": {
     "marked": false
    }
   },
   "source": [
    "## c"
   ]
  },
  {
   "cell_type": "code",
   "execution_count": 52,
   "metadata": {
    "collapsed": true,
    "run_control": {
     "marked": false
    }
   },
   "outputs": [],
   "source": [
    "cnv_gbc = (\n",
    "    cnv_gene_tmp\n",
    "    [['g', 'c', 'min_cn', 'delta_cn', 'zygosity_1', 'zygosity_2', 'disruption_status']]\n",
    "    .groupby(['c'])\n",
    "    .agg({\n",
    "        'min_cn': np.mean,\n",
    "        'delta_cn': np.mean,\n",
    "        'zygosity_1': np.mean,\n",
    "        'zygosity_2': np.mean,\n",
    "        'disruption_status': np.mean\n",
    "    })\n",
    "    .rename(columns=lambda x: (x + '_gbc') if x not in ['g', 'c'] else x)\n",
    "    .rename(columns={'disruption_status_gbc': 'disruption_status_gbc_max'})\n",
    "    .reset_index()\n",
    ")"
   ]
  },
  {
   "cell_type": "code",
   "execution_count": 53,
   "metadata": {
    "collapsed": false
   },
   "outputs": [
    {
     "data": {
      "text/html": [
       "<div>\n",
       "<table border=\"1\" class=\"dataframe\">\n",
       "  <thead>\n",
       "    <tr style=\"text-align: right;\">\n",
       "      <th></th>\n",
       "      <th>c</th>\n",
       "      <th>disruption_status_gbc_max</th>\n",
       "      <th>zygosity_1_gbc</th>\n",
       "      <th>zygosity_2_gbc</th>\n",
       "      <th>delta_cn_gbc</th>\n",
       "      <th>min_cn_gbc</th>\n",
       "    </tr>\n",
       "  </thead>\n",
       "  <tbody>\n",
       "    <tr>\n",
       "      <th>0</th>\n",
       "      <td>22RV1</td>\n",
       "      <td>0.003567</td>\n",
       "      <td>0.884795</td>\n",
       "      <td>0.114724</td>\n",
       "      <td>0.002335</td>\n",
       "      <td>2.063801</td>\n",
       "    </tr>\n",
       "    <tr>\n",
       "      <th>1</th>\n",
       "      <td>647-V</td>\n",
       "      <td>0.004801</td>\n",
       "      <td>0.601532</td>\n",
       "      <td>0.398297</td>\n",
       "      <td>0.003778</td>\n",
       "      <td>2.502799</td>\n",
       "    </tr>\n",
       "  </tbody>\n",
       "</table>\n",
       "</div>"
      ],
      "text/plain": [
       "       c  disruption_status_gbc_max  zygosity_1_gbc  zygosity_2_gbc  delta_cn_gbc  min_cn_gbc\n",
       "0  22RV1                   0.003567        0.884795        0.114724      0.002335    2.063801\n",
       "1  647-V                   0.004801        0.601532        0.398297      0.003778    2.502799"
      ]
     },
     "execution_count": 53,
     "metadata": {},
     "output_type": "execute_result"
    }
   ],
   "source": [
    "cnv_gbc.head(2)"
   ]
  },
  {
   "cell_type": "code",
   "execution_count": 54,
   "metadata": {
    "collapsed": false
   },
   "outputs": [],
   "source": [
    "cnv_gbc_sscgs = (\n",
    "    cnv_gene_tmp\n",
    "    .set_index('g')\n",
    "    .loc[cgs_genes, ['c', 'min_cn', 'delta_cn', 'zygosity_1', 'zygosity_2', 'disruption_status']]\n",
    "    .reset_index()\n",
    "    .groupby(['c'])\n",
    "    .agg({\n",
    "        'min_cn': np.mean,\n",
    "        'delta_cn': np.mean,\n",
    "        'zygosity_1': np.mean,\n",
    "        'zygosity_2': np.mean,\n",
    "        'disruption_status': np.mean\n",
    "    })\n",
    "    .rename(columns=lambda x: (x + '_sscgs_gbc') if x not in ['g', 'c'] else x)\n",
    "    .rename(columns={'disruption_status_sscgs_gbc': 'disruption_status_sscgs_gbc_max'})\n",
    "    .reset_index()\n",
    ")"
   ]
  },
  {
   "cell_type": "code",
   "execution_count": 55,
   "metadata": {
    "collapsed": false
   },
   "outputs": [
    {
     "data": {
      "text/html": [
       "<div>\n",
       "<table border=\"1\" class=\"dataframe\">\n",
       "  <thead>\n",
       "    <tr style=\"text-align: right;\">\n",
       "      <th></th>\n",
       "      <th>c</th>\n",
       "      <th>disruption_status_sscgs_gbc_max</th>\n",
       "      <th>zygosity_1_sscgs_gbc</th>\n",
       "      <th>zygosity_2_sscgs_gbc</th>\n",
       "      <th>delta_cn_sscgs_gbc</th>\n",
       "      <th>min_cn_sscgs_gbc</th>\n",
       "    </tr>\n",
       "  </thead>\n",
       "  <tbody>\n",
       "    <tr>\n",
       "      <th>0</th>\n",
       "      <td>22RV1</td>\n",
       "      <td>0.000000</td>\n",
       "      <td>0.883848</td>\n",
       "      <td>0.116152</td>\n",
       "      <td>0.000000</td>\n",
       "      <td>2.067151</td>\n",
       "    </tr>\n",
       "    <tr>\n",
       "      <th>1</th>\n",
       "      <td>647-V</td>\n",
       "      <td>0.009074</td>\n",
       "      <td>0.609800</td>\n",
       "      <td>0.390200</td>\n",
       "      <td>0.007260</td>\n",
       "      <td>2.500907</td>\n",
       "    </tr>\n",
       "    <tr>\n",
       "      <th>2</th>\n",
       "      <td>A549</td>\n",
       "      <td>0.003630</td>\n",
       "      <td>0.602541</td>\n",
       "      <td>0.395644</td>\n",
       "      <td>0.003630</td>\n",
       "      <td>2.802178</td>\n",
       "    </tr>\n",
       "    <tr>\n",
       "      <th>3</th>\n",
       "      <td>BFTC-905</td>\n",
       "      <td>0.007260</td>\n",
       "      <td>0.577132</td>\n",
       "      <td>0.421053</td>\n",
       "      <td>0.007260</td>\n",
       "      <td>2.693285</td>\n",
       "    </tr>\n",
       "    <tr>\n",
       "      <th>4</th>\n",
       "      <td>BT-20</td>\n",
       "      <td>0.009074</td>\n",
       "      <td>0.415608</td>\n",
       "      <td>0.584392</td>\n",
       "      <td>0.012704</td>\n",
       "      <td>2.520871</td>\n",
       "    </tr>\n",
       "  </tbody>\n",
       "</table>\n",
       "</div>"
      ],
      "text/plain": [
       "          c  disruption_status_sscgs_gbc_max  zygosity_1_sscgs_gbc  zygosity_2_sscgs_gbc  delta_cn_sscgs_gbc  min_cn_sscgs_gbc\n",
       "0     22RV1                         0.000000              0.883848              0.116152            0.000000          2.067151\n",
       "1     647-V                         0.009074              0.609800              0.390200            0.007260          2.500907\n",
       "2      A549                         0.003630              0.602541              0.395644            0.003630          2.802178\n",
       "3  BFTC-905                         0.007260              0.577132              0.421053            0.007260          2.693285\n",
       "4     BT-20                         0.009074              0.415608              0.584392            0.012704          2.520871"
      ]
     },
     "execution_count": 55,
     "metadata": {},
     "output_type": "execute_result"
    }
   ],
   "source": [
    "cnv_gbc_sscgs.head()"
   ]
  },
  {
   "cell_type": "code",
   "execution_count": 56,
   "metadata": {
    "collapsed": true
   },
   "outputs": [],
   "source": [
    "cnv_gbc_sstarget = (\n",
    "    cnv_gene_tmp\n",
    "    .set_index('g')\n",
    "    .loc[target_genes, ['c', 'min_cn', 'delta_cn', 'zygosity_1', 'zygosity_2', 'disruption_status']]\n",
    "    .reset_index()\n",
    "    .groupby(['c'])\n",
    "    .agg({\n",
    "        'min_cn': np.mean,\n",
    "        'delta_cn': np.mean,\n",
    "        'zygosity_1': np.mean,\n",
    "        'zygosity_2': np.mean,\n",
    "        'disruption_status': np.mean\n",
    "    })\n",
    "    .rename(columns=lambda x: (x + '_sstarget_gbc') if x not in ['g', 'c'] else x)\n",
    "    .rename(columns={'disruption_status_sstarget_gbc': 'disruption_status_sstarget_gbc_max'})\n",
    "    .reset_index()\n",
    ")"
   ]
  },
  {
   "cell_type": "code",
   "execution_count": 57,
   "metadata": {
    "collapsed": false
   },
   "outputs": [
    {
     "data": {
      "text/html": [
       "<div>\n",
       "<table border=\"1\" class=\"dataframe\">\n",
       "  <thead>\n",
       "    <tr style=\"text-align: right;\">\n",
       "      <th></th>\n",
       "      <th>c</th>\n",
       "      <th>disruption_status_sstarget_gbc_max</th>\n",
       "      <th>zygosity_1_sstarget_gbc</th>\n",
       "      <th>zygosity_2_sstarget_gbc</th>\n",
       "      <th>delta_cn_sstarget_gbc</th>\n",
       "      <th>min_cn_sstarget_gbc</th>\n",
       "    </tr>\n",
       "  </thead>\n",
       "  <tbody>\n",
       "    <tr>\n",
       "      <th>0</th>\n",
       "      <td>22RV1</td>\n",
       "      <td>0.009050</td>\n",
       "      <td>0.904977</td>\n",
       "      <td>0.095023</td>\n",
       "      <td>0.00905</td>\n",
       "      <td>2.058824</td>\n",
       "    </tr>\n",
       "    <tr>\n",
       "      <th>1</th>\n",
       "      <td>647-V</td>\n",
       "      <td>0.009050</td>\n",
       "      <td>0.610860</td>\n",
       "      <td>0.389140</td>\n",
       "      <td>0.00905</td>\n",
       "      <td>2.570136</td>\n",
       "    </tr>\n",
       "    <tr>\n",
       "      <th>2</th>\n",
       "      <td>A549</td>\n",
       "      <td>0.000000</td>\n",
       "      <td>0.665158</td>\n",
       "      <td>0.334842</td>\n",
       "      <td>0.00000</td>\n",
       "      <td>2.895928</td>\n",
       "    </tr>\n",
       "    <tr>\n",
       "      <th>3</th>\n",
       "      <td>BFTC-905</td>\n",
       "      <td>0.004525</td>\n",
       "      <td>0.601810</td>\n",
       "      <td>0.398190</td>\n",
       "      <td>0.00905</td>\n",
       "      <td>2.723982</td>\n",
       "    </tr>\n",
       "    <tr>\n",
       "      <th>4</th>\n",
       "      <td>BT-20</td>\n",
       "      <td>0.000000</td>\n",
       "      <td>0.411765</td>\n",
       "      <td>0.588235</td>\n",
       "      <td>0.00000</td>\n",
       "      <td>2.592760</td>\n",
       "    </tr>\n",
       "  </tbody>\n",
       "</table>\n",
       "</div>"
      ],
      "text/plain": [
       "          c  disruption_status_sstarget_gbc_max  zygosity_1_sstarget_gbc  zygosity_2_sstarget_gbc  delta_cn_sstarget_gbc  min_cn_sstarget_gbc\n",
       "0     22RV1                            0.009050                 0.904977                 0.095023                0.00905             2.058824\n",
       "1     647-V                            0.009050                 0.610860                 0.389140                0.00905             2.570136\n",
       "2      A549                            0.000000                 0.665158                 0.334842                0.00000             2.895928\n",
       "3  BFTC-905                            0.004525                 0.601810                 0.398190                0.00905             2.723982\n",
       "4     BT-20                            0.000000                 0.411765                 0.588235                0.00000             2.592760"
      ]
     },
     "execution_count": 57,
     "metadata": {},
     "output_type": "execute_result"
    }
   ],
   "source": [
    "cnv_gbc_sstarget.head()"
   ]
  },
  {
   "cell_type": "code",
   "execution_count": 58,
   "metadata": {
    "collapsed": true
   },
   "outputs": [],
   "source": [
    "cnv_gbc_all = (\n",
    "    cnv_gbc\n",
    "    .merge(cnv_gbc_sscgs, on=['c'], how='left')\n",
    "    .merge(cnv_gbc_sstarget, on=['c'], how='left')\n",
    ")"
   ]
  },
  {
   "cell_type": "code",
   "execution_count": 59,
   "metadata": {
    "collapsed": false
   },
   "outputs": [
    {
     "data": {
      "text/html": [
       "<div>\n",
       "<table border=\"1\" class=\"dataframe\">\n",
       "  <thead>\n",
       "    <tr style=\"text-align: right;\">\n",
       "      <th></th>\n",
       "      <th>c</th>\n",
       "      <th>disruption_status_gbc_max</th>\n",
       "      <th>zygosity_1_gbc</th>\n",
       "      <th>zygosity_2_gbc</th>\n",
       "      <th>delta_cn_gbc</th>\n",
       "      <th>min_cn_gbc</th>\n",
       "      <th>disruption_status_sscgs_gbc_max</th>\n",
       "      <th>zygosity_1_sscgs_gbc</th>\n",
       "      <th>zygosity_2_sscgs_gbc</th>\n",
       "      <th>delta_cn_sscgs_gbc</th>\n",
       "      <th>min_cn_sscgs_gbc</th>\n",
       "      <th>disruption_status_sstarget_gbc_max</th>\n",
       "      <th>zygosity_1_sstarget_gbc</th>\n",
       "      <th>zygosity_2_sstarget_gbc</th>\n",
       "      <th>delta_cn_sstarget_gbc</th>\n",
       "      <th>min_cn_sstarget_gbc</th>\n",
       "    </tr>\n",
       "  </thead>\n",
       "  <tbody>\n",
       "    <tr>\n",
       "      <th>0</th>\n",
       "      <td>22RV1</td>\n",
       "      <td>0.003567</td>\n",
       "      <td>0.884795</td>\n",
       "      <td>0.114724</td>\n",
       "      <td>0.002335</td>\n",
       "      <td>2.063801</td>\n",
       "      <td>0.000000</td>\n",
       "      <td>0.883848</td>\n",
       "      <td>0.116152</td>\n",
       "      <td>0.000000</td>\n",
       "      <td>2.067151</td>\n",
       "      <td>0.009050</td>\n",
       "      <td>0.904977</td>\n",
       "      <td>0.095023</td>\n",
       "      <td>0.00905</td>\n",
       "      <td>2.058824</td>\n",
       "    </tr>\n",
       "    <tr>\n",
       "      <th>1</th>\n",
       "      <td>647-V</td>\n",
       "      <td>0.004801</td>\n",
       "      <td>0.601532</td>\n",
       "      <td>0.398297</td>\n",
       "      <td>0.003778</td>\n",
       "      <td>2.502799</td>\n",
       "      <td>0.009074</td>\n",
       "      <td>0.609800</td>\n",
       "      <td>0.390200</td>\n",
       "      <td>0.007260</td>\n",
       "      <td>2.500907</td>\n",
       "      <td>0.009050</td>\n",
       "      <td>0.610860</td>\n",
       "      <td>0.389140</td>\n",
       "      <td>0.00905</td>\n",
       "      <td>2.570136</td>\n",
       "    </tr>\n",
       "    <tr>\n",
       "      <th>2</th>\n",
       "      <td>A549</td>\n",
       "      <td>0.002675</td>\n",
       "      <td>0.634572</td>\n",
       "      <td>0.364501</td>\n",
       "      <td>0.001477</td>\n",
       "      <td>2.825355</td>\n",
       "      <td>0.003630</td>\n",
       "      <td>0.602541</td>\n",
       "      <td>0.395644</td>\n",
       "      <td>0.003630</td>\n",
       "      <td>2.802178</td>\n",
       "      <td>0.000000</td>\n",
       "      <td>0.665158</td>\n",
       "      <td>0.334842</td>\n",
       "      <td>0.00000</td>\n",
       "      <td>2.895928</td>\n",
       "    </tr>\n",
       "    <tr>\n",
       "      <th>3</th>\n",
       "      <td>BFTC-905</td>\n",
       "      <td>0.003155</td>\n",
       "      <td>0.572110</td>\n",
       "      <td>0.424971</td>\n",
       "      <td>0.002232</td>\n",
       "      <td>2.700158</td>\n",
       "      <td>0.007260</td>\n",
       "      <td>0.577132</td>\n",
       "      <td>0.421053</td>\n",
       "      <td>0.007260</td>\n",
       "      <td>2.693285</td>\n",
       "      <td>0.004525</td>\n",
       "      <td>0.601810</td>\n",
       "      <td>0.398190</td>\n",
       "      <td>0.00905</td>\n",
       "      <td>2.723982</td>\n",
       "    </tr>\n",
       "    <tr>\n",
       "      <th>4</th>\n",
       "      <td>BT-20</td>\n",
       "      <td>0.005487</td>\n",
       "      <td>0.400412</td>\n",
       "      <td>0.596944</td>\n",
       "      <td>0.006765</td>\n",
       "      <td>2.497665</td>\n",
       "      <td>0.009074</td>\n",
       "      <td>0.415608</td>\n",
       "      <td>0.584392</td>\n",
       "      <td>0.012704</td>\n",
       "      <td>2.520871</td>\n",
       "      <td>0.000000</td>\n",
       "      <td>0.411765</td>\n",
       "      <td>0.588235</td>\n",
       "      <td>0.00000</td>\n",
       "      <td>2.592760</td>\n",
       "    </tr>\n",
       "  </tbody>\n",
       "</table>\n",
       "</div>"
      ],
      "text/plain": [
       "          c  disruption_status_gbc_max  zygosity_1_gbc  zygosity_2_gbc  delta_cn_gbc  min_cn_gbc  disruption_status_sscgs_gbc_max  zygosity_1_sscgs_gbc  zygosity_2_sscgs_gbc  delta_cn_sscgs_gbc  min_cn_sscgs_gbc  disruption_status_sstarget_gbc_max  zygosity_1_sstarget_gbc  zygosity_2_sstarget_gbc  delta_cn_sstarget_gbc  min_cn_sstarget_gbc\n",
       "0     22RV1                   0.003567        0.884795        0.114724      0.002335    2.063801                         0.000000              0.883848              0.116152            0.000000          2.067151                            0.009050                 0.904977                 0.095023                0.00905             2.058824\n",
       "1     647-V                   0.004801        0.601532        0.398297      0.003778    2.502799                         0.009074              0.609800              0.390200            0.007260          2.500907                            0.009050                 0.610860                 0.389140                0.00905             2.570136\n",
       "2      A549                   0.002675        0.634572        0.364501      0.001477    2.825355                         0.003630              0.602541              0.395644            0.003630          2.802178                            0.000000                 0.665158                 0.334842                0.00000             2.895928\n",
       "3  BFTC-905                   0.003155        0.572110        0.424971      0.002232    2.700158                         0.007260              0.577132              0.421053            0.007260          2.693285                            0.004525                 0.601810                 0.398190                0.00905             2.723982\n",
       "4     BT-20                   0.005487        0.400412        0.596944      0.006765    2.497665                         0.009074              0.415608              0.584392            0.012704          2.520871                            0.000000                 0.411765                 0.588235                0.00000             2.592760"
      ]
     },
     "execution_count": 59,
     "metadata": {},
     "output_type": "execute_result"
    }
   ],
   "source": [
    "cnv_gbc_all.head()"
   ]
  },
  {
   "cell_type": "code",
   "execution_count": 60,
   "metadata": {
    "collapsed": false,
    "run_control": {
     "marked": false
    }
   },
   "outputs": [
    {
     "data": {
      "text/html": [
       "<div>\n",
       "<table border=\"1\" class=\"dataframe\">\n",
       "  <thead>\n",
       "    <tr style=\"text-align: right;\">\n",
       "      <th></th>\n",
       "      <th>disruption_status_gbc_max</th>\n",
       "      <th>zygosity_1_gbc</th>\n",
       "      <th>zygosity_2_gbc</th>\n",
       "      <th>delta_cn_gbc</th>\n",
       "      <th>min_cn_gbc</th>\n",
       "      <th>disruption_status_sscgs_gbc_max</th>\n",
       "      <th>zygosity_1_sscgs_gbc</th>\n",
       "      <th>zygosity_2_sscgs_gbc</th>\n",
       "      <th>delta_cn_sscgs_gbc</th>\n",
       "      <th>min_cn_sscgs_gbc</th>\n",
       "      <th>disruption_status_sstarget_gbc_max</th>\n",
       "      <th>zygosity_1_sstarget_gbc</th>\n",
       "      <th>zygosity_2_sstarget_gbc</th>\n",
       "      <th>delta_cn_sstarget_gbc</th>\n",
       "      <th>min_cn_sstarget_gbc</th>\n",
       "    </tr>\n",
       "  </thead>\n",
       "  <tbody>\n",
       "    <tr>\n",
       "      <th>count</th>\n",
       "      <td>85.000000</td>\n",
       "      <td>85.000000</td>\n",
       "      <td>85.000000</td>\n",
       "      <td>85.000000</td>\n",
       "      <td>85.000000</td>\n",
       "      <td>85.000000</td>\n",
       "      <td>85.000000</td>\n",
       "      <td>85.000000</td>\n",
       "      <td>85.000000</td>\n",
       "      <td>85.000000</td>\n",
       "      <td>85.000000</td>\n",
       "      <td>85.000000</td>\n",
       "      <td>85.000000</td>\n",
       "      <td>85.000000</td>\n",
       "      <td>85.000000</td>\n",
       "    </tr>\n",
       "    <tr>\n",
       "      <th>mean</th>\n",
       "      <td>0.004359</td>\n",
       "      <td>0.679441</td>\n",
       "      <td>0.318615</td>\n",
       "      <td>0.005282</td>\n",
       "      <td>2.998164</td>\n",
       "      <td>0.007494</td>\n",
       "      <td>0.682185</td>\n",
       "      <td>0.317239</td>\n",
       "      <td>0.010249</td>\n",
       "      <td>3.018956</td>\n",
       "      <td>0.004525</td>\n",
       "      <td>0.678360</td>\n",
       "      <td>0.321480</td>\n",
       "      <td>0.005962</td>\n",
       "      <td>3.028693</td>\n",
       "    </tr>\n",
       "    <tr>\n",
       "      <th>std</th>\n",
       "      <td>0.002073</td>\n",
       "      <td>0.166319</td>\n",
       "      <td>0.165963</td>\n",
       "      <td>0.003505</td>\n",
       "      <td>0.749422</td>\n",
       "      <td>0.005177</td>\n",
       "      <td>0.168129</td>\n",
       "      <td>0.168087</td>\n",
       "      <td>0.009030</td>\n",
       "      <td>0.757164</td>\n",
       "      <td>0.004631</td>\n",
       "      <td>0.171549</td>\n",
       "      <td>0.171450</td>\n",
       "      <td>0.009528</td>\n",
       "      <td>0.760378</td>\n",
       "    </tr>\n",
       "    <tr>\n",
       "      <th>min</th>\n",
       "      <td>0.000377</td>\n",
       "      <td>0.302858</td>\n",
       "      <td>0.018578</td>\n",
       "      <td>0.000206</td>\n",
       "      <td>1.694152</td>\n",
       "      <td>0.000000</td>\n",
       "      <td>0.324864</td>\n",
       "      <td>0.019964</td>\n",
       "      <td>0.000000</td>\n",
       "      <td>1.727768</td>\n",
       "      <td>0.000000</td>\n",
       "      <td>0.294118</td>\n",
       "      <td>0.013575</td>\n",
       "      <td>0.000000</td>\n",
       "      <td>1.701357</td>\n",
       "    </tr>\n",
       "    <tr>\n",
       "      <th>25%</th>\n",
       "      <td>0.002915</td>\n",
       "      <td>0.572110</td>\n",
       "      <td>0.181799</td>\n",
       "      <td>0.002575</td>\n",
       "      <td>2.539254</td>\n",
       "      <td>0.003630</td>\n",
       "      <td>0.577132</td>\n",
       "      <td>0.174229</td>\n",
       "      <td>0.001815</td>\n",
       "      <td>2.589837</td>\n",
       "      <td>0.000000</td>\n",
       "      <td>0.561086</td>\n",
       "      <td>0.190045</td>\n",
       "      <td>0.000000</td>\n",
       "      <td>2.592760</td>\n",
       "    </tr>\n",
       "    <tr>\n",
       "      <th>50%</th>\n",
       "      <td>0.004116</td>\n",
       "      <td>0.662933</td>\n",
       "      <td>0.334902</td>\n",
       "      <td>0.004567</td>\n",
       "      <td>2.908214</td>\n",
       "      <td>0.007260</td>\n",
       "      <td>0.680581</td>\n",
       "      <td>0.317604</td>\n",
       "      <td>0.009074</td>\n",
       "      <td>2.934664</td>\n",
       "      <td>0.004525</td>\n",
       "      <td>0.669683</td>\n",
       "      <td>0.330317</td>\n",
       "      <td>0.004525</td>\n",
       "      <td>2.945701</td>\n",
       "    </tr>\n",
       "    <tr>\n",
       "      <th>75%</th>\n",
       "      <td>0.005693</td>\n",
       "      <td>0.818098</td>\n",
       "      <td>0.424971</td>\n",
       "      <td>0.007109</td>\n",
       "      <td>3.401587</td>\n",
       "      <td>0.009074</td>\n",
       "      <td>0.825771</td>\n",
       "      <td>0.421053</td>\n",
       "      <td>0.014519</td>\n",
       "      <td>3.379310</td>\n",
       "      <td>0.009050</td>\n",
       "      <td>0.809955</td>\n",
       "      <td>0.438914</td>\n",
       "      <td>0.009050</td>\n",
       "      <td>3.416290</td>\n",
       "    </tr>\n",
       "    <tr>\n",
       "      <th>max</th>\n",
       "      <td>0.010838</td>\n",
       "      <td>0.979052</td>\n",
       "      <td>0.693364</td>\n",
       "      <td>0.016967</td>\n",
       "      <td>5.525051</td>\n",
       "      <td>0.019964</td>\n",
       "      <td>0.980036</td>\n",
       "      <td>0.675136</td>\n",
       "      <td>0.034483</td>\n",
       "      <td>5.524501</td>\n",
       "      <td>0.018100</td>\n",
       "      <td>0.986425</td>\n",
       "      <td>0.705882</td>\n",
       "      <td>0.058824</td>\n",
       "      <td>5.665158</td>\n",
       "    </tr>\n",
       "  </tbody>\n",
       "</table>\n",
       "</div>"
      ],
      "text/plain": [
       "       disruption_status_gbc_max  zygosity_1_gbc  zygosity_2_gbc  delta_cn_gbc  min_cn_gbc  disruption_status_sscgs_gbc_max  zygosity_1_sscgs_gbc  zygosity_2_sscgs_gbc  delta_cn_sscgs_gbc  min_cn_sscgs_gbc  disruption_status_sstarget_gbc_max  zygosity_1_sstarget_gbc  zygosity_2_sstarget_gbc  delta_cn_sstarget_gbc  min_cn_sstarget_gbc\n",
       "count                  85.000000       85.000000       85.000000     85.000000   85.000000                        85.000000             85.000000             85.000000           85.000000         85.000000                           85.000000                85.000000                85.000000              85.000000            85.000000\n",
       "mean                    0.004359        0.679441        0.318615      0.005282    2.998164                         0.007494              0.682185              0.317239            0.010249          3.018956                            0.004525                 0.678360                 0.321480               0.005962             3.028693\n",
       "std                     0.002073        0.166319        0.165963      0.003505    0.749422                         0.005177              0.168129              0.168087            0.009030          0.757164                            0.004631                 0.171549                 0.171450               0.009528             0.760378\n",
       "min                     0.000377        0.302858        0.018578      0.000206    1.694152                         0.000000              0.324864              0.019964            0.000000          1.727768                            0.000000                 0.294118                 0.013575               0.000000             1.701357\n",
       "25%                     0.002915        0.572110        0.181799      0.002575    2.539254                         0.003630              0.577132              0.174229            0.001815          2.589837                            0.000000                 0.561086                 0.190045               0.000000             2.592760\n",
       "50%                     0.004116        0.662933        0.334902      0.004567    2.908214                         0.007260              0.680581              0.317604            0.009074          2.934664                            0.004525                 0.669683                 0.330317               0.004525             2.945701\n",
       "75%                     0.005693        0.818098        0.424971      0.007109    3.401587                         0.009074              0.825771              0.421053            0.014519          3.379310                            0.009050                 0.809955                 0.438914               0.009050             3.416290\n",
       "max                     0.010838        0.979052        0.693364      0.016967    5.525051                         0.019964              0.980036              0.675136            0.034483          5.524501                            0.018100                 0.986425                 0.705882               0.058824             5.665158"
      ]
     },
     "execution_count": 60,
     "metadata": {},
     "output_type": "execute_result"
    }
   ],
   "source": [
    "cnv_gbc_all.describe()"
   ]
  },
  {
   "cell_type": "code",
   "execution_count": 61,
   "metadata": {
    "collapsed": false,
    "run_control": {
     "marked": false
    }
   },
   "outputs": [
    {
     "name": "stderr",
     "output_type": "stream",
     "text": [
      "DEBUG:csv2sql.core:Uncompressing file...\n",
      "INFO:csv2sql.core:bzip2 -dkf '/home/kimlab1/database_data/biodata/recipes/az_dream_2015/notebooks/cnv/cnv_gbc.tsv.bz2'\n",
      "DEBUG:csv2sql.core:Running on host: '192.168.6.8'\n",
      "DEBUG:csv2sql.core:Command ran successfully!\n",
      "DEBUG:csv2sql.core:output: \n",
      "DEBUG:csv2sql.core:Loading data into MySQL table: 'cnv_gbc'...\n",
      "INFO:csv2sql.core:mysql --local-infile -h 192.168.6.19 -P 3306 -u strokach  az_dream_2015_features -e \"load data local infile '/home/kimlab1/database_data/biodata/recipes/az_dream_2015/notebooks/cnv/cnv_gbc.tsv' into table `cnv_gbc` ignore 1 lines;  show warnings;\" \n",
      "DEBUG:csv2sql.core:Running locally\n",
      "DEBUG:csv2sql.core:Command ran successfully!\n",
      "DEBUG:csv2sql.core:output: \n",
      "DEBUG:csv2sql.core:Removing uncompressed file '/home/kimlab1/database_data/biodata/recipes/az_dream_2015/notebooks/cnv/cnv_gbc.tsv'...\n",
      "INFO:csv2sql.core:rm -f '/home/kimlab1/database_data/biodata/recipes/az_dream_2015/notebooks/cnv/cnv_gbc.tsv'\n",
      "DEBUG:csv2sql.core:Running locally\n",
      "DEBUG:csv2sql.core:Command ran successfully!\n",
      "DEBUG:csv2sql.core:output: \n"
     ]
    }
   ],
   "source": [
    "db.import_table(\n",
    "    cnv_gbc_all, \n",
    "    'cnv_gbc', [\n",
    "        [('c',), True],\n",
    "    ],\n",
    ")"
   ]
  },
  {
   "cell_type": "code",
   "execution_count": null,
   "metadata": {
    "collapsed": true
   },
   "outputs": [],
   "source": []
  },
  {
   "cell_type": "markdown",
   "metadata": {
    "run_control": {
     "marked": false
    }
   },
   "source": [
    "## cc"
   ]
  },
  {
   "cell_type": "code",
   "execution_count": 62,
   "metadata": {
    "collapsed": false,
    "run_control": {
     "marked": false
    }
   },
   "outputs": [
    {
     "data": {
      "text/html": [
       "<div>\n",
       "<table border=\"1\" class=\"dataframe\">\n",
       "  <thead>\n",
       "    <tr style=\"text-align: right;\">\n",
       "      <th></th>\n",
       "      <th>group</th>\n",
       "      <th>P_r</th>\n",
       "      <th>S_r</th>\n",
       "      <th>df</th>\n",
       "      <th>metric</th>\n",
       "      <th>subset</th>\n",
       "      <th>abs</th>\n",
       "    </tr>\n",
       "  </thead>\n",
       "  <tbody>\n",
       "    <tr>\n",
       "      <th>4</th>\n",
       "      <td>zygosity_1|zygosity_2</td>\n",
       "      <td>0.0819968</td>\n",
       "      <td>0.186759</td>\n",
       "      <td>c_2             c_1  0  synergy_sco...</td>\n",
       "      <td>chebyshev</td>\n",
       "      <td>None</td>\n",
       "      <td>0.134378</td>\n",
       "    </tr>\n",
       "    <tr>\n",
       "      <th>8</th>\n",
       "      <td>disruption_status</td>\n",
       "      <td>0.0819968</td>\n",
       "      <td>0.186759</td>\n",
       "      <td>c_2             c_1  0  synergy_sco...</td>\n",
       "      <td>chebyshev</td>\n",
       "      <td>None</td>\n",
       "      <td>0.134378</td>\n",
       "    </tr>\n",
       "    <tr>\n",
       "      <th>6</th>\n",
       "      <td>min_cn</td>\n",
       "      <td>-0.132518</td>\n",
       "      <td>-0.0653529</td>\n",
       "      <td>c_2             c_1         0  syne...</td>\n",
       "      <td>cosine</td>\n",
       "      <td>None</td>\n",
       "      <td>0.098936</td>\n",
       "    </tr>\n",
       "    <tr>\n",
       "      <th>15</th>\n",
       "      <td>delta_cn</td>\n",
       "      <td>-0.112771</td>\n",
       "      <td>-0.0476834</td>\n",
       "      <td>c_2             c_1         0  syne...</td>\n",
       "      <td>matching</td>\n",
       "      <td>None</td>\n",
       "      <td>0.080227</td>\n",
       "    </tr>\n",
       "  </tbody>\n",
       "</table>\n",
       "</div>"
      ],
      "text/plain": [
       "                    group        P_r        S_r                                                 df     metric subset       abs\n",
       "4   zygosity_1|zygosity_2  0.0819968   0.186759             c_2             c_1  0  synergy_sco...  chebyshev   None  0.134378\n",
       "8       disruption_status  0.0819968   0.186759             c_2             c_1  0  synergy_sco...  chebyshev   None  0.134378\n",
       "6                  min_cn  -0.132518 -0.0653529             c_2             c_1         0  syne...     cosine   None  0.098936\n",
       "15               delta_cn  -0.112771 -0.0476834             c_2             c_1         0  syne...   matching   None  0.080227"
      ]
     },
     "metadata": {},
     "output_type": "display_data"
    },
    {
     "data": {
      "text/html": [
       "<div>\n",
       "<table border=\"1\" class=\"dataframe\">\n",
       "  <thead>\n",
       "    <tr style=\"text-align: right;\">\n",
       "      <th></th>\n",
       "      <th>group</th>\n",
       "      <th>P_r</th>\n",
       "      <th>S_r</th>\n",
       "      <th>df</th>\n",
       "      <th>metric</th>\n",
       "      <th>subset</th>\n",
       "      <th>abs</th>\n",
       "    </tr>\n",
       "  </thead>\n",
       "  <tbody>\n",
       "    <tr>\n",
       "      <th>5</th>\n",
       "      <td>zygosity_1|zygosity_2</td>\n",
       "      <td>0.0819968</td>\n",
       "      <td>0.186759</td>\n",
       "      <td>c_2             c_1  0  synergy_sco...</td>\n",
       "      <td>chebyshev</td>\n",
       "      <td>cgs</td>\n",
       "      <td>0.134378</td>\n",
       "    </tr>\n",
       "    <tr>\n",
       "      <th>11</th>\n",
       "      <td>disruption_status</td>\n",
       "      <td>0.0821535</td>\n",
       "      <td>0.156896</td>\n",
       "      <td>c_2             c_1  0  synergy_sco...</td>\n",
       "      <td>chebyshev</td>\n",
       "      <td>cgs</td>\n",
       "      <td>0.119525</td>\n",
       "    </tr>\n",
       "    <tr>\n",
       "      <th>12</th>\n",
       "      <td>delta_cn</td>\n",
       "      <td>-0.118004</td>\n",
       "      <td>-0.103122</td>\n",
       "      <td>c_2             c_1   0  synergy_sc...</td>\n",
       "      <td>cityblock</td>\n",
       "      <td>cgs</td>\n",
       "      <td>0.110563</td>\n",
       "    </tr>\n",
       "    <tr>\n",
       "      <th>9</th>\n",
       "      <td>min_cn</td>\n",
       "      <td>-0.141884</td>\n",
       "      <td>-0.0716138</td>\n",
       "      <td>c_2             c_1         0  syne...</td>\n",
       "      <td>cosine</td>\n",
       "      <td>cgs</td>\n",
       "      <td>0.106749</td>\n",
       "    </tr>\n",
       "  </tbody>\n",
       "</table>\n",
       "</div>"
      ],
      "text/plain": [
       "                    group        P_r        S_r                                                 df     metric subset       abs\n",
       "5   zygosity_1|zygosity_2  0.0819968   0.186759             c_2             c_1  0  synergy_sco...  chebyshev    cgs  0.134378\n",
       "11      disruption_status  0.0821535   0.156896             c_2             c_1  0  synergy_sco...  chebyshev    cgs  0.119525\n",
       "12               delta_cn  -0.118004  -0.103122             c_2             c_1   0  synergy_sc...  cityblock    cgs  0.110563\n",
       "9                  min_cn  -0.141884 -0.0716138             c_2             c_1         0  syne...     cosine    cgs  0.106749"
      ]
     },
     "metadata": {},
     "output_type": "display_data"
    },
    {
     "data": {
      "text/html": [
       "<div>\n",
       "<table border=\"1\" class=\"dataframe\">\n",
       "  <thead>\n",
       "    <tr style=\"text-align: right;\">\n",
       "      <th></th>\n",
       "      <th>group</th>\n",
       "      <th>P_r</th>\n",
       "      <th>S_r</th>\n",
       "      <th>df</th>\n",
       "      <th>metric</th>\n",
       "      <th>subset</th>\n",
       "      <th>abs</th>\n",
       "    </tr>\n",
       "  </thead>\n",
       "  <tbody>\n",
       "    <tr>\n",
       "      <th>2</th>\n",
       "      <td>zygosity_1|zygosity_2</td>\n",
       "      <td>-0.140413</td>\n",
       "      <td>-0.129803</td>\n",
       "      <td>c_2             c_1          0  syn...</td>\n",
       "      <td>seuclidean</td>\n",
       "      <td>target</td>\n",
       "      <td>0.135108</td>\n",
       "    </tr>\n",
       "    <tr>\n",
       "      <th>0</th>\n",
       "      <td>delta_cn</td>\n",
       "      <td>0.0821635</td>\n",
       "      <td>0.147619</td>\n",
       "      <td>c_2             c_1         0  syne...</td>\n",
       "      <td>kulsinski</td>\n",
       "      <td>target</td>\n",
       "      <td>0.114891</td>\n",
       "    </tr>\n",
       "    <tr>\n",
       "      <th>14</th>\n",
       "      <td>disruption_status</td>\n",
       "      <td>0.0822934</td>\n",
       "      <td>0.123126</td>\n",
       "      <td>c_2             c_1         0  syne...</td>\n",
       "      <td>kulsinski</td>\n",
       "      <td>target</td>\n",
       "      <td>0.102710</td>\n",
       "    </tr>\n",
       "    <tr>\n",
       "      <th>1</th>\n",
       "      <td>min_cn</td>\n",
       "      <td>0.0284476</td>\n",
       "      <td>0.133843</td>\n",
       "      <td>c_2             c_1          0  syn...</td>\n",
       "      <td>seuclidean</td>\n",
       "      <td>target</td>\n",
       "      <td>0.081146</td>\n",
       "    </tr>\n",
       "  </tbody>\n",
       "</table>\n",
       "</div>"
      ],
      "text/plain": [
       "                    group        P_r       S_r                                                 df      metric  subset       abs\n",
       "2   zygosity_1|zygosity_2  -0.140413 -0.129803             c_2             c_1          0  syn...  seuclidean  target  0.135108\n",
       "0                delta_cn  0.0821635  0.147619             c_2             c_1         0  syne...   kulsinski  target  0.114891\n",
       "14      disruption_status  0.0822934  0.123126             c_2             c_1         0  syne...   kulsinski  target  0.102710\n",
       "1                  min_cn  0.0284476  0.133843             c_2             c_1          0  syn...  seuclidean  target  0.081146"
      ]
     },
     "metadata": {},
     "output_type": "display_data"
    }
   ],
   "source": [
    "display(results_best_df[results_best_df['subset'].isnull()])\n",
    "display(results_best_df[results_best_df['subset'] == 'cgs'])\n",
    "display(results_best_df[results_best_df['subset'] == 'target'])"
   ]
  },
  {
   "cell_type": "code",
   "execution_count": 63,
   "metadata": {
    "collapsed": false,
    "run_control": {
     "marked": false
    }
   },
   "outputs": [
    {
     "name": "stdout",
     "output_type": "stream",
     "text": [
      "target\n",
      "\n",
      "cgs\n"
     ]
    }
   ],
   "source": [
    "results_best_df.loc[results_best_df['subset'].isnull(), 'subset'] = ''\n",
    "results_best_df['group'] = results_best_df['group'].str.replace('|', '_')\n",
    "\n",
    "dfs = []\n",
    "for subset in results_best_df['subset'].drop_duplicates().tolist():\n",
    "    if subset not in ['', 'cgs', 'target']:\n",
    "        continue\n",
    "    print(subset)\n",
    "    for idx, row in results_best_df[results_best_df['subset'] == subset].iterrows():\n",
    "        group = row['group']\n",
    "        column_name = group + (('_of_' + subset) if subset else '')\n",
    "        df = row['df'].reindex_axis(['c_1', 'c_2', 0], axis=1).rename(columns={0: column_name})\n",
    "        dfs.append(df)"
   ]
  },
  {
   "cell_type": "code",
   "execution_count": 64,
   "metadata": {
    "collapsed": false,
    "run_control": {
     "marked": false
    }
   },
   "outputs": [
    {
     "name": "stdout",
     "output_type": "stream",
     "text": [
      "(7225, 3)\n",
      "(7225, 14)\n"
     ]
    }
   ],
   "source": [
    "final_df = dfs[0]\n",
    "print(final_df.shape)\n",
    "for df in dfs[1:]:\n",
    "    final_df = final_df.merge(df, on=['c_1', 'c_2'])\n",
    "print(final_df.shape)"
   ]
  },
  {
   "cell_type": "code",
   "execution_count": 65,
   "metadata": {
    "collapsed": false,
    "run_control": {
     "marked": false
    }
   },
   "outputs": [
    {
     "data": {
      "text/html": [
       "<div>\n",
       "<table border=\"1\" class=\"dataframe\">\n",
       "  <thead>\n",
       "    <tr style=\"text-align: right;\">\n",
       "      <th></th>\n",
       "      <th>c_1</th>\n",
       "      <th>c_2</th>\n",
       "      <th>zygosity_1_zygosity_2_of_target</th>\n",
       "      <th>delta_cn_of_target</th>\n",
       "      <th>disruption_status_of_target</th>\n",
       "      <th>min_cn_of_target</th>\n",
       "      <th>zygosity_1_zygosity_2</th>\n",
       "      <th>disruption_status</th>\n",
       "      <th>min_cn</th>\n",
       "      <th>delta_cn</th>\n",
       "      <th>zygosity_1_zygosity_2_of_cgs</th>\n",
       "      <th>disruption_status_of_cgs</th>\n",
       "      <th>delta_cn_of_cgs</th>\n",
       "      <th>min_cn_of_cgs</th>\n",
       "    </tr>\n",
       "  </thead>\n",
       "  <tbody>\n",
       "    <tr>\n",
       "      <th>0</th>\n",
       "      <td>22RV1</td>\n",
       "      <td>22RV1</td>\n",
       "      <td>0.000000</td>\n",
       "      <td>0</td>\n",
       "      <td>0.000000</td>\n",
       "      <td>0.000000</td>\n",
       "      <td>0</td>\n",
       "      <td>0</td>\n",
       "      <td>0.000000</td>\n",
       "      <td>0.000000</td>\n",
       "      <td>0</td>\n",
       "      <td>0</td>\n",
       "      <td>0</td>\n",
       "      <td>0.000000</td>\n",
       "    </tr>\n",
       "    <tr>\n",
       "      <th>1</th>\n",
       "      <td>647-V</td>\n",
       "      <td>22RV1</td>\n",
       "      <td>28.846280</td>\n",
       "      <td>1</td>\n",
       "      <td>0.995516</td>\n",
       "      <td>12.147668</td>\n",
       "      <td>1</td>\n",
       "      <td>1</td>\n",
       "      <td>0.048392</td>\n",
       "      <td>0.005082</td>\n",
       "      <td>1</td>\n",
       "      <td>1</td>\n",
       "      <td>4</td>\n",
       "      <td>0.043704</td>\n",
       "    </tr>\n",
       "    <tr>\n",
       "      <th>2</th>\n",
       "      <td>A549</td>\n",
       "      <td>22RV1</td>\n",
       "      <td>29.271894</td>\n",
       "      <td>1</td>\n",
       "      <td>1.000000</td>\n",
       "      <td>15.461860</td>\n",
       "      <td>1</td>\n",
       "      <td>1</td>\n",
       "      <td>0.041935</td>\n",
       "      <td>0.002850</td>\n",
       "      <td>1</td>\n",
       "      <td>1</td>\n",
       "      <td>2</td>\n",
       "      <td>0.043330</td>\n",
       "    </tr>\n",
       "    <tr>\n",
       "      <th>3</th>\n",
       "      <td>BFTC-905</td>\n",
       "      <td>22RV1</td>\n",
       "      <td>31.099868</td>\n",
       "      <td>1</td>\n",
       "      <td>1.000000</td>\n",
       "      <td>13.844688</td>\n",
       "      <td>1</td>\n",
       "      <td>1</td>\n",
       "      <td>0.051194</td>\n",
       "      <td>0.003640</td>\n",
       "      <td>1</td>\n",
       "      <td>1</td>\n",
       "      <td>4</td>\n",
       "      <td>0.046961</td>\n",
       "    </tr>\n",
       "    <tr>\n",
       "      <th>4</th>\n",
       "      <td>BT-20</td>\n",
       "      <td>22RV1</td>\n",
       "      <td>34.787475</td>\n",
       "      <td>1</td>\n",
       "      <td>1.000000</td>\n",
       "      <td>14.484841</td>\n",
       "      <td>1</td>\n",
       "      <td>1</td>\n",
       "      <td>0.070382</td>\n",
       "      <td>0.006799</td>\n",
       "      <td>1</td>\n",
       "      <td>1</td>\n",
       "      <td>7</td>\n",
       "      <td>0.070813</td>\n",
       "    </tr>\n",
       "  </tbody>\n",
       "</table>\n",
       "</div>"
      ],
      "text/plain": [
       "        c_1    c_2  zygosity_1_zygosity_2_of_target  delta_cn_of_target  disruption_status_of_target  min_cn_of_target  zygosity_1_zygosity_2  disruption_status    min_cn  delta_cn  zygosity_1_zygosity_2_of_cgs  disruption_status_of_cgs  delta_cn_of_cgs  min_cn_of_cgs\n",
       "0     22RV1  22RV1                         0.000000                   0                     0.000000          0.000000                      0                  0  0.000000  0.000000                             0                         0                0       0.000000\n",
       "1     647-V  22RV1                        28.846280                   1                     0.995516         12.147668                      1                  1  0.048392  0.005082                             1                         1                4       0.043704\n",
       "2      A549  22RV1                        29.271894                   1                     1.000000         15.461860                      1                  1  0.041935  0.002850                             1                         1                2       0.043330\n",
       "3  BFTC-905  22RV1                        31.099868                   1                     1.000000         13.844688                      1                  1  0.051194  0.003640                             1                         1                4       0.046961\n",
       "4     BT-20  22RV1                        34.787475                   1                     1.000000         14.484841                      1                  1  0.070382  0.006799                             1                         1                7       0.070813"
      ]
     },
     "execution_count": 65,
     "metadata": {},
     "output_type": "execute_result"
    }
   ],
   "source": [
    "final_df.head()"
   ]
  },
  {
   "cell_type": "code",
   "execution_count": 66,
   "metadata": {
    "collapsed": false,
    "run_control": {
     "marked": false
    }
   },
   "outputs": [
    {
     "name": "stderr",
     "output_type": "stream",
     "text": [
      "DEBUG:csv2sql.core:Uncompressing file...\n",
      "INFO:csv2sql.core:bzip2 -dkf '/home/kimlab1/database_data/biodata/recipes/az_dream_2015/notebooks/cnv/cnv_gbcc.tsv.bz2'\n",
      "DEBUG:csv2sql.core:Running on host: '192.168.6.8'\n",
      "DEBUG:csv2sql.core:Command ran successfully!\n",
      "DEBUG:csv2sql.core:output: \n",
      "DEBUG:csv2sql.core:Loading data into MySQL table: 'cnv_gbcc'...\n",
      "INFO:csv2sql.core:mysql --local-infile -h 192.168.6.19 -P 3306 -u strokach  az_dream_2015_features -e \"load data local infile '/home/kimlab1/database_data/biodata/recipes/az_dream_2015/notebooks/cnv/cnv_gbcc.tsv' into table `cnv_gbcc` ignore 1 lines;  show warnings;\" \n",
      "DEBUG:csv2sql.core:Running locally\n",
      "DEBUG:csv2sql.core:Command ran successfully!\n",
      "DEBUG:csv2sql.core:output: \n",
      "DEBUG:csv2sql.core:Removing uncompressed file '/home/kimlab1/database_data/biodata/recipes/az_dream_2015/notebooks/cnv/cnv_gbcc.tsv'...\n",
      "INFO:csv2sql.core:rm -f '/home/kimlab1/database_data/biodata/recipes/az_dream_2015/notebooks/cnv/cnv_gbcc.tsv'\n",
      "DEBUG:csv2sql.core:Running locally\n",
      "DEBUG:csv2sql.core:Command ran successfully!\n",
      "DEBUG:csv2sql.core:output: \n"
     ]
    }
   ],
   "source": [
    "db.import_table(\n",
    "    final_df, \n",
    "    'cnv_gbcc', [\n",
    "        [('c_1', 'c_2'), True],\n",
    "    ],\n",
    ")"
   ]
  },
  {
   "cell_type": "code",
   "execution_count": null,
   "metadata": {
    "collapsed": true
   },
   "outputs": [],
   "source": []
  },
  {
   "cell_type": "markdown",
   "metadata": {
    "run_control": {
     "marked": false
    }
   },
   "source": [
    "# Make dendogram\n",
    "\n",
    "- Adding some cluster information may be useful for the `base` (`nopair`) predictor.\n",
    "- Score clustering by how well it separates cells of different synergies?.."
   ]
  },
  {
   "cell_type": "code",
   "execution_count": 67,
   "metadata": {
    "collapsed": false,
    "run_control": {
     "marked": false
    }
   },
   "outputs": [],
   "source": [
    "# Index to cell line info assuming cells are sorted\n",
    "idx_to_cell_line_tissue = {\n",
    "    i: cell_line_to_tissue[c] for (i, c) in enumerate(feature_dfs[feature].index)\n",
    "}\n",
    "\n",
    "idx_to_disease_area = {\n",
    "    i: cell_line_to_disease_area[c] for (i, c) in enumerate(feature_dfs[feature].index)\n",
    "}"
   ]
  },
  {
   "cell_type": "code",
   "execution_count": 68,
   "metadata": {
    "collapsed": true,
    "run_control": {
     "marked": false
    }
   },
   "outputs": [],
   "source": [
    "linkage_opts = dict(method='single', metric='euclidean')"
   ]
  },
  {
   "cell_type": "code",
   "execution_count": 69,
   "metadata": {
    "collapsed": false,
    "run_control": {
     "marked": false
    }
   },
   "outputs": [
    {
     "data": {
      "image/png": "[encoded data removed]",
      "text/plain": [
       "<matplotlib.figure.Figure at 0x7fcc4aec1d30>"
      ]
     },
     "metadata": {},
     "output_type": "display_data"
    }
   ],
   "source": [
    "all_features = np.hstack([\n",
    "    feature_dfs['min_cn'].values, \n",
    "    feature_dfs['max_cn'].values,\n",
    "])\n",
    "\n",
    "Z = sp.cluster.hierarchy.linkage(all_features, 'ward', 'euclidean')\n",
    "\n",
    "fg, axes = plt.subplots(1, 1, figsize=(25, 10))\n",
    "axes.set_title('Hierarchical Clustering Dendrogram')\n",
    "axes.set_xlabel('sample index')\n",
    "axes.set_ylabel('distance')\n",
    "\n",
    "d = sp.cluster.hierarchy.dendrogram(\n",
    "    Z,\n",
    "    leaf_rotation=90.,  # rotates the x axis labels\n",
    "    leaf_font_size=20.,  # font size for the x axis labels\n",
    ")\n",
    "x = axes.xaxis.get_ticklabels()\n",
    "for y in x:\n",
    "    y.set_text(idx_to_cell_line_tissue[int(y.get_text())])\n",
    "_ = axes.xaxis.set_ticklabels(x)"
   ]
  },
  {
   "cell_type": "code",
   "execution_count": 70,
   "metadata": {
    "collapsed": false,
    "run_control": {
     "marked": false
    }
   },
   "outputs": [
    {
     "data": {
      "image/png": "[encoded data removed]",
      "text/plain": [
       "<matplotlib.figure.Figure at 0x7fcc4ae630b8>"
      ]
     },
     "metadata": {},
     "output_type": "display_data"
    }
   ],
   "source": [
    "all_features = np.hstack([\n",
    "    feature_dfs['zygosity_1'].values,\n",
    "    feature_dfs['zygosity_2'].values,\n",
    "])\n",
    "\n",
    "Z = sp.cluster.hierarchy.linkage(all_features, 'ward', 'euclidean')\n",
    "\n",
    "fg, axes = plt.subplots(1, 1, figsize=(25, 10))\n",
    "axes.set_title('Hierarchical Clustering Dendrogram')\n",
    "axes.set_xlabel('sample index')\n",
    "axes.set_ylabel('distance')\n",
    "\n",
    "d = sp.cluster.hierarchy.dendrogram(\n",
    "    Z,\n",
    "    leaf_rotation=90.,  # rotates the x axis labels\n",
    "    leaf_font_size=20.,  # font size for the x axis labels\n",
    ")\n",
    "x = axes.xaxis.get_ticklabels()\n",
    "for y in x:\n",
    "    y.set_text(idx_to_cell_line_tissue[int(y.get_text())])\n",
    "_ = axes.xaxis.set_ticklabels(x)"
   ]
  },
  {
   "cell_type": "code",
   "execution_count": 71,
   "metadata": {
    "collapsed": false,
    "run_control": {
     "marked": false
    }
   },
   "outputs": [
    {
     "data": {
      "image/png": "[encoded data removed]",
      "text/plain": [
       "<matplotlib.figure.Figure at 0x7fcc4ac90320>"
      ]
     },
     "metadata": {},
     "output_type": "display_data"
    }
   ],
   "source": [
    "all_features = np.hstack([\n",
    "    feature_dfs['disruption_status'].values\n",
    "])\n",
    "\n",
    "Z = sp.cluster.hierarchy.linkage(all_features, 'ward', 'euclidean')\n",
    "\n",
    "fg, axes = plt.subplots(1, 1, figsize=(25, 10))\n",
    "axes.set_title('Hierarchical Clustering Dendrogram')\n",
    "axes.set_xlabel('sample index')\n",
    "axes.set_ylabel('distance')\n",
    "\n",
    "d = sp.cluster.hierarchy.dendrogram(\n",
    "    Z,\n",
    "    leaf_rotation=90.,  # rotates the x axis labels\n",
    "    leaf_font_size=20.,  # font size for the x axis labels\n",
    ")\n",
    "x = axes.xaxis.get_ticklabels()\n",
    "for y in x:\n",
    "    y.set_text(idx_to_cell_line_tissue[int(y.get_text())])\n",
    "_ = axes.xaxis.set_ticklabels(x)"
   ]
  },
  {
   "cell_type": "code",
   "execution_count": null,
   "metadata": {
    "collapsed": true,
    "run_control": {
     "marked": false
    }
   },
   "outputs": [],
   "source": []
  },
  {
   "cell_type": "code",
   "execution_count": null,
   "metadata": {
    "collapsed": true,
    "run_control": {
     "marked": false
    }
   },
   "outputs": [],
   "source": []
  }
 ],
 "metadata": {
  "kernelspec": {
   "display_name": "Python 3",
   "language": "python",
   "name": "python3"
  },
  "language_info": {
   "codemirror_mode": {
    "name": "ipython",
    "version": 3
   },
   "file_extension": ".py",
   "mimetype": "text/x-python",
   "name": "python",
   "nbconvert_exporter": "python",
   "pygments_lexer": "ipython3",
   "version": "3.5.1"
  }
 },
 "nbformat": 4,
 "nbformat_minor": 0
}
