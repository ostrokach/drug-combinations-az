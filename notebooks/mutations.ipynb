{
 "cells": [
  {
   "cell_type": "raw",
   "metadata": {
    "raw_mimetype": "text/restructuredtext",
    "run_control": {
     "marked": false
    }
   },
   "source": [
    "Summary\n",
    "=======\n",
    "\n",
    "Vector values\n",
    "-------------\n",
    "\n",
    "Gene\n",
    "\n",
    "- Mean mutation density over all cell lines.\n",
    "  - => Can use to generate `drug / drug` table.\n",
    "\n",
    "### Cell line\n",
    "\n",
    "- Difference in mutation density over all genes\n",
    "- Difference in mutation density over cancer gene sensus genes\n",
    "\n",
    "### Gene / cell line\n",
    "\n",
    "- Mutation density for each gene in each cell line\n",
    "  - => Can use to generate `drug / drug / cell line` table.\n",
    "    - => Can use to generate `drug / drug / cell line | drug / drug / cell line` table.\n",
    "\n",
    "## Scalar values\n",
    "\n",
    "### Gene\n",
    "\n",
    "- ???\n",
    "\n",
    "### Cell line\n",
    "\n",
    "- Correlation in gene expression over all genes\n",
    "- Correlation in gene expression over cancer gene sensus genes"
   ]
  },
  {
   "cell_type": "markdown",
   "metadata": {
    "run_control": {
     "marked": false
    }
   },
   "source": [
    "# Intro"
   ]
  },
  {
   "cell_type": "code",
   "execution_count": 2,
   "metadata": {
    "collapsed": false,
    "run_control": {
     "marked": false
    }
   },
   "outputs": [],
   "source": [
    "%load_ext autoreload\n",
    "%autoreload 2"
   ]
  },
  {
   "cell_type": "code",
   "execution_count": 3,
   "metadata": {
    "collapsed": false
   },
   "outputs": [
    {
     "name": "stderr",
     "output_type": "stream",
     "text": [
      "DEBUG:root:Done configuring logging!\n"
     ]
    }
   ],
   "source": [
    "import common\n",
    "common.configure_logging(level='debug')"
   ]
  },
  {
   "cell_type": "code",
   "execution_count": 6,
   "metadata": {
    "collapsed": false,
    "run_control": {
     "marked": false
    }
   },
   "outputs": [],
   "source": [
    "from biodata import *"
   ]
  },
  {
   "cell_type": "code",
   "execution_count": 9,
   "metadata": {
    "collapsed": false,
    "run_control": {
     "marked": false
    }
   },
   "outputs": [],
   "source": [
    "import az_dream.functions as fn"
   ]
  },
  {
   "cell_type": "code",
   "execution_count": 10,
   "metadata": {
    "collapsed": false,
    "run_control": {
     "marked": false
    }
   },
   "outputs": [],
   "source": [
    "%matplotlib inline"
   ]
  },
  {
   "cell_type": "code",
   "execution_count": null,
   "metadata": {
    "collapsed": true,
    "run_control": {
     "marked": false
    }
   },
   "outputs": [],
   "source": []
  },
  {
   "cell_type": "markdown",
   "metadata": {
    "run_control": {
     "marked": false
    }
   },
   "source": [
    "# Load data"
   ]
  },
  {
   "cell_type": "markdown",
   "metadata": {
    "run_control": {
     "marked": false
    }
   },
   "source": [
    "## Cell info"
   ]
  },
  {
   "cell_type": "code",
   "execution_count": 11,
   "metadata": {
    "collapsed": false,
    "run_control": {
     "marked": false
    }
   },
   "outputs": [],
   "source": [
    "cell_info = pd.read_csv(\n",
    "    '../downloads/challenge_data/sanger_molecular_data/'\n",
    "    'cell_info.csv/cell_info.csv',\n",
    "    sep=',',\n",
    ")"
   ]
  },
  {
   "cell_type": "code",
   "execution_count": 12,
   "metadata": {
    "collapsed": true,
    "run_control": {
     "marked": false
    }
   },
   "outputs": [],
   "source": [
    "cell_info = cell_info.rename(columns={\n",
    "    'Sanger.Name': 'c',\n",
    "    'CCLE.Name': 'cell_line_ccle',\n",
    "    'Alternative.Name': 'cell_line_alternative',\n",
    "    'Disease.Area': 'cell_line_disease_area',\n",
    "    'Tissue..General.': 'cell_line_tissue',\n",
    "    'COSMIC': 'cell_line_cosmic',\n",
    "})"
   ]
  },
  {
   "cell_type": "code",
   "execution_count": 13,
   "metadata": {
    "collapsed": false,
    "run_control": {
     "marked": false
    },
    "scrolled": false
   },
   "outputs": [
    {
     "data": {
      "text/html": [
       "<div>\n",
       "<table border=\"1\" class=\"dataframe\">\n",
       "  <thead>\n",
       "    <tr style=\"text-align: right;\">\n",
       "      <th></th>\n",
       "      <th>c</th>\n",
       "      <th>cell_line_ccle</th>\n",
       "      <th>cell_line_alternative</th>\n",
       "      <th>cell_line_disease_area</th>\n",
       "      <th>cell_line_tissue</th>\n",
       "      <th>cell_line_cosmic</th>\n",
       "    </tr>\n",
       "  </thead>\n",
       "  <tbody>\n",
       "    <tr>\n",
       "      <th>0</th>\n",
       "      <td>22RV1</td>\n",
       "      <td>22RV1_PROSTATE</td>\n",
       "      <td>22RV1</td>\n",
       "      <td>Urology</td>\n",
       "      <td>male genital system</td>\n",
       "      <td>924100</td>\n",
       "    </tr>\n",
       "    <tr>\n",
       "      <th>1</th>\n",
       "      <td>647-V</td>\n",
       "      <td>647V_URINARY_TRACT</td>\n",
       "      <td>647V</td>\n",
       "      <td>Urology</td>\n",
       "      <td>urinary tract</td>\n",
       "      <td>906797</td>\n",
       "    </tr>\n",
       "    <tr>\n",
       "      <th>2</th>\n",
       "      <td>A549</td>\n",
       "      <td>A549_LUNG</td>\n",
       "      <td>A549</td>\n",
       "      <td>Lung</td>\n",
       "      <td>lung</td>\n",
       "      <td>905949</td>\n",
       "    </tr>\n",
       "    <tr>\n",
       "      <th>3</th>\n",
       "      <td>BFTC-905</td>\n",
       "      <td>BFTC905_URINARY_TRACT</td>\n",
       "      <td>BFTC905</td>\n",
       "      <td>Urology</td>\n",
       "      <td>urinary tract</td>\n",
       "      <td>910926</td>\n",
       "    </tr>\n",
       "    <tr>\n",
       "      <th>4</th>\n",
       "      <td>BT-20</td>\n",
       "      <td>BT20_BREAST</td>\n",
       "      <td>BT20</td>\n",
       "      <td>Breast</td>\n",
       "      <td>breast</td>\n",
       "      <td>906801</td>\n",
       "    </tr>\n",
       "  </tbody>\n",
       "</table>\n",
       "</div>"
      ],
      "text/plain": [
       "          c         cell_line_ccle cell_line_alternative cell_line_disease_area     cell_line_tissue  cell_line_cosmic\n",
       "0     22RV1         22RV1_PROSTATE                 22RV1                Urology  male genital system            924100\n",
       "1     647-V     647V_URINARY_TRACT                  647V                Urology        urinary tract            906797\n",
       "2      A549              A549_LUNG                  A549                   Lung                 lung            905949\n",
       "3  BFTC-905  BFTC905_URINARY_TRACT               BFTC905                Urology        urinary tract            910926\n",
       "4     BT-20            BT20_BREAST                  BT20                 Breast               breast            906801"
      ]
     },
     "execution_count": 13,
     "metadata": {},
     "output_type": "execute_result"
    }
   ],
   "source": [
    "cell_info.head()"
   ]
  },
  {
   "cell_type": "code",
   "execution_count": 14,
   "metadata": {
    "collapsed": false,
    "run_control": {
     "marked": false
    }
   },
   "outputs": [
    {
     "data": {
      "text/plain": [
       "Counter({'Breast': 34,\n",
       "         'GI': 12,\n",
       "         'Haems': 1,\n",
       "         'Lung': 22,\n",
       "         'Niche': 2,\n",
       "         'Urology': 14})"
      ]
     },
     "execution_count": 14,
     "metadata": {},
     "output_type": "execute_result"
    }
   ],
   "source": [
    "Counter(cell_info['cell_line_disease_area'])"
   ]
  },
  {
   "cell_type": "code",
   "execution_count": 18,
   "metadata": {
    "collapsed": false
   },
   "outputs": [
    {
     "data": {
      "text/plain": [
       "Counter({'blood/lymph': 1,\n",
       "         'breast': 34,\n",
       "         'gastrointestinal tract (lower)': 10,\n",
       "         'gastrointestinal tract (upper)': 2,\n",
       "         'lung': 22,\n",
       "         'male genital system': 2,\n",
       "         'soft tissue': 2,\n",
       "         'urinary tract': 12})"
      ]
     },
     "execution_count": 18,
     "metadata": {},
     "output_type": "execute_result"
    }
   ],
   "source": [
    "Counter(cell_info['cell_line_tissue'])"
   ]
  },
  {
   "cell_type": "code",
   "execution_count": 16,
   "metadata": {
    "collapsed": false
   },
   "outputs": [],
   "source": [
    "cell_info['disease_area_breast'] = (cell_info['cell_line_disease_area'] == 'Breast').astype(int)\n",
    "cell_info['disease_area_gi'] = (cell_info['cell_line_disease_area'] == 'GI').astype(int)\n",
    "cell_info['disease_area_lung'] = (cell_info['cell_line_disease_area'] == 'Lung').astype(int)\n",
    "cell_info['disease_area_urology'] = (cell_info['cell_line_disease_area'] == 'Urology').astype(int)"
   ]
  },
  {
   "cell_type": "code",
   "execution_count": 17,
   "metadata": {
    "collapsed": false
   },
   "outputs": [
    {
     "data": {
      "text/html": [
       "<div>\n",
       "<table border=\"1\" class=\"dataframe\">\n",
       "  <thead>\n",
       "    <tr style=\"text-align: right;\">\n",
       "      <th></th>\n",
       "      <th>c</th>\n",
       "      <th>cell_line_ccle</th>\n",
       "      <th>cell_line_alternative</th>\n",
       "      <th>cell_line_disease_area</th>\n",
       "      <th>cell_line_tissue</th>\n",
       "      <th>cell_line_cosmic</th>\n",
       "      <th>disease_area_breast</th>\n",
       "      <th>disease_area_gi</th>\n",
       "      <th>disease_area_lung</th>\n",
       "      <th>disease_area_urology</th>\n",
       "    </tr>\n",
       "  </thead>\n",
       "  <tbody>\n",
       "    <tr>\n",
       "      <th>0</th>\n",
       "      <td>22RV1</td>\n",
       "      <td>22RV1_PROSTATE</td>\n",
       "      <td>22RV1</td>\n",
       "      <td>Urology</td>\n",
       "      <td>male genital system</td>\n",
       "      <td>924100</td>\n",
       "      <td>0</td>\n",
       "      <td>0</td>\n",
       "      <td>0</td>\n",
       "      <td>1</td>\n",
       "    </tr>\n",
       "    <tr>\n",
       "      <th>1</th>\n",
       "      <td>647-V</td>\n",
       "      <td>647V_URINARY_TRACT</td>\n",
       "      <td>647V</td>\n",
       "      <td>Urology</td>\n",
       "      <td>urinary tract</td>\n",
       "      <td>906797</td>\n",
       "      <td>0</td>\n",
       "      <td>0</td>\n",
       "      <td>0</td>\n",
       "      <td>1</td>\n",
       "    </tr>\n",
       "    <tr>\n",
       "      <th>2</th>\n",
       "      <td>A549</td>\n",
       "      <td>A549_LUNG</td>\n",
       "      <td>A549</td>\n",
       "      <td>Lung</td>\n",
       "      <td>lung</td>\n",
       "      <td>905949</td>\n",
       "      <td>0</td>\n",
       "      <td>0</td>\n",
       "      <td>1</td>\n",
       "      <td>0</td>\n",
       "    </tr>\n",
       "    <tr>\n",
       "      <th>3</th>\n",
       "      <td>BFTC-905</td>\n",
       "      <td>BFTC905_URINARY_TRACT</td>\n",
       "      <td>BFTC905</td>\n",
       "      <td>Urology</td>\n",
       "      <td>urinary tract</td>\n",
       "      <td>910926</td>\n",
       "      <td>0</td>\n",
       "      <td>0</td>\n",
       "      <td>0</td>\n",
       "      <td>1</td>\n",
       "    </tr>\n",
       "    <tr>\n",
       "      <th>4</th>\n",
       "      <td>BT-20</td>\n",
       "      <td>BT20_BREAST</td>\n",
       "      <td>BT20</td>\n",
       "      <td>Breast</td>\n",
       "      <td>breast</td>\n",
       "      <td>906801</td>\n",
       "      <td>1</td>\n",
       "      <td>0</td>\n",
       "      <td>0</td>\n",
       "      <td>0</td>\n",
       "    </tr>\n",
       "  </tbody>\n",
       "</table>\n",
       "</div>"
      ],
      "text/plain": [
       "          c         cell_line_ccle cell_line_alternative cell_line_disease_area     cell_line_tissue  cell_line_cosmic  disease_area_breast  disease_area_gi  disease_area_lung  disease_area_urology\n",
       "0     22RV1         22RV1_PROSTATE                 22RV1                Urology  male genital system            924100                    0                0                  0                     1\n",
       "1     647-V     647V_URINARY_TRACT                  647V                Urology        urinary tract            906797                    0                0                  0                     1\n",
       "2      A549              A549_LUNG                  A549                   Lung                 lung            905949                    0                0                  1                     0\n",
       "3  BFTC-905  BFTC905_URINARY_TRACT               BFTC905                Urology        urinary tract            910926                    0                0                  0                     1\n",
       "4     BT-20            BT20_BREAST                  BT20                 Breast               breast            906801                    1                0                  0                     0"
      ]
     },
     "execution_count": 17,
     "metadata": {},
     "output_type": "execute_result"
    }
   ],
   "source": [
    "cell_info.head()"
   ]
  },
  {
   "cell_type": "markdown",
   "metadata": {},
   "source": [
    "## CSS"
   ]
  },
  {
   "cell_type": "code",
   "execution_count": 9,
   "metadata": {
    "collapsed": false
   },
   "outputs": [],
   "source": [
    "css = pd.read_sql_query(\"\"\"\\\n",
    "SELECT c, avg(synergy_score) synergy_score\n",
    "FROM az_dream_2015.ALL_TRAINING_DATA_WSYNERGY\n",
    "where synergy_score is not null\n",
    "group by c;\n",
    "\"\"\", sa.create_engine(os.environ['BIODB_CONNECTION_STR'] + '/az_dream_2015'))"
   ]
  },
  {
   "cell_type": "code",
   "execution_count": 10,
   "metadata": {
    "collapsed": true
   },
   "outputs": [],
   "source": [
    "css = css.set_index('c')['synergy_score']"
   ]
  },
  {
   "cell_type": "code",
   "execution_count": 11,
   "metadata": {
    "collapsed": false
   },
   "outputs": [
    {
     "data": {
      "text/plain": [
       "c\n",
       "22RV1       -8.601674\n",
       "647-V       13.834063\n",
       "A549        21.671942\n",
       "BFTC-905    21.839952\n",
       "BT-20       22.283808\n",
       "Name: synergy_score, dtype: float64"
      ]
     },
     "execution_count": 11,
     "metadata": {},
     "output_type": "execute_result"
    }
   ],
   "source": [
    "css.head()"
   ]
  },
  {
   "cell_type": "code",
   "execution_count": null,
   "metadata": {
    "collapsed": true
   },
   "outputs": [],
   "source": []
  },
  {
   "cell_type": "markdown",
   "metadata": {},
   "source": [
    "## GSS"
   ]
  },
  {
   "cell_type": "code",
   "execution_count": 12,
   "metadata": {
    "collapsed": false
   },
   "outputs": [],
   "source": [
    "dss = pd.read_sql_query(\"\"\"\\\n",
    "SELECT d, avg(synergy_score) synergy_score\n",
    "FROM (\n",
    "    SELECT d_1 d, synergy_score\n",
    "    FROM az_dream_2015.ALL_TRAINING_DATA_WSYNERGY\n",
    "    where synergy_score is not null\n",
    "    UNION ALL\n",
    "    SELECT d_2 d, synergy_score\n",
    "    FROM az_dream_2015.ALL_TRAINING_DATA_WSYNERGY\n",
    "    where synergy_score is not null\n",
    ") t\n",
    "group by d;\n",
    "\"\"\", sa.create_engine(os.environ['BIODB_CONNECTION_STR'] + '/az_dream_2015'))"
   ]
  },
  {
   "cell_type": "code",
   "execution_count": 13,
   "metadata": {
    "collapsed": true
   },
   "outputs": [],
   "source": [
    "dss = dss.set_index('d')"
   ]
  },
  {
   "cell_type": "code",
   "execution_count": 14,
   "metadata": {
    "collapsed": false
   },
   "outputs": [
    {
     "data": {
      "text/html": [
       "<div>\n",
       "<table border=\"1\" class=\"dataframe\">\n",
       "  <thead>\n",
       "    <tr style=\"text-align: right;\">\n",
       "      <th></th>\n",
       "      <th>synergy_score</th>\n",
       "    </tr>\n",
       "    <tr>\n",
       "      <th>d</th>\n",
       "      <th></th>\n",
       "    </tr>\n",
       "  </thead>\n",
       "  <tbody>\n",
       "    <tr>\n",
       "      <th>ADAM17</th>\n",
       "      <td>3.639117</td>\n",
       "    </tr>\n",
       "    <tr>\n",
       "      <th>AKT</th>\n",
       "      <td>4.981951</td>\n",
       "    </tr>\n",
       "    <tr>\n",
       "      <th>AKT_1</th>\n",
       "      <td>12.759452</td>\n",
       "    </tr>\n",
       "    <tr>\n",
       "      <th>AKT_SGK</th>\n",
       "      <td>9.716044</td>\n",
       "    </tr>\n",
       "    <tr>\n",
       "      <th>ALK</th>\n",
       "      <td>12.950270</td>\n",
       "    </tr>\n",
       "  </tbody>\n",
       "</table>\n",
       "</div>"
      ],
      "text/plain": [
       "         synergy_score\n",
       "d                     \n",
       "ADAM17        3.639117\n",
       "AKT           4.981951\n",
       "AKT_1        12.759452\n",
       "AKT_SGK       9.716044\n",
       "ALK          12.950270"
      ]
     },
     "execution_count": 14,
     "metadata": {},
     "output_type": "execute_result"
    }
   ],
   "source": [
    "dss.head()"
   ]
  },
  {
   "cell_type": "code",
   "execution_count": null,
   "metadata": {
    "collapsed": true
   },
   "outputs": [],
   "source": []
  },
  {
   "cell_type": "markdown",
   "metadata": {
    "run_control": {
     "marked": false
    }
   },
   "source": [
    "## Mutations"
   ]
  },
  {
   "cell_type": "code",
   "execution_count": 15,
   "metadata": {
    "collapsed": true,
    "run_control": {
     "marked": false
    }
   },
   "outputs": [],
   "source": [
    "mutations = pd.read_csv(\n",
    "    '../downloads/challenge_data/sanger_molecular_data/'\n",
    "    'mutations.csv/mutations.csv',\n",
    "    sep=',', low_memory=False,\n",
    ")"
   ]
  },
  {
   "cell_type": "code",
   "execution_count": 16,
   "metadata": {
    "collapsed": true,
    "run_control": {
     "marked": false
    }
   },
   "outputs": [],
   "source": [
    "mutations = mutations.rename(columns={\n",
    "    'Gene.name': 'g',\n",
    "    'cell_line_name': 'c',\n",
    "})"
   ]
  },
  {
   "cell_type": "code",
   "execution_count": 17,
   "metadata": {
    "collapsed": false,
    "run_control": {
     "marked": false
    }
   },
   "outputs": [
    {
     "data": {
      "text/html": [
       "<div>\n",
       "<table border=\"1\" class=\"dataframe\">\n",
       "  <thead>\n",
       "    <tr style=\"text-align: right;\">\n",
       "      <th></th>\n",
       "      <th>g</th>\n",
       "      <th>Accession.Number</th>\n",
       "      <th>Gene.CDS.length</th>\n",
       "      <th>HGNC.ID</th>\n",
       "      <th>c</th>\n",
       "      <th>ID_sample</th>\n",
       "      <th>ID_tumour</th>\n",
       "      <th>Primary.site</th>\n",
       "      <th>Site.subtype</th>\n",
       "      <th>Primary.histology</th>\n",
       "      <th>Histology.subtype</th>\n",
       "      <th>Genome.wide.screen</th>\n",
       "      <th>Mutation.ID</th>\n",
       "      <th>Mutation.CDS</th>\n",
       "      <th>Mutation.AA</th>\n",
       "      <th>Mutation.Description</th>\n",
       "      <th>Mutation.zygosity</th>\n",
       "      <th>GRCh</th>\n",
       "      <th>Mutation.genome.position</th>\n",
       "      <th>strand</th>\n",
       "      <th>SNP</th>\n",
       "      <th>FATHMM.prediction</th>\n",
       "      <th>Mutation.somatic.status</th>\n",
       "      <th>Pubmed_PMID</th>\n",
       "      <th>ID_STUDY</th>\n",
       "      <th>Institute</th>\n",
       "      <th>Institute.Address</th>\n",
       "      <th>Catalogue.Number</th>\n",
       "      <th>Sample.source</th>\n",
       "      <th>Tumour.origin</th>\n",
       "      <th>Age</th>\n",
       "      <th>Comments</th>\n",
       "    </tr>\n",
       "  </thead>\n",
       "  <tbody>\n",
       "    <tr>\n",
       "      <th>0</th>\n",
       "      <td>FRMD4A</td>\n",
       "      <td>ENST00000357447</td>\n",
       "      <td>3120</td>\n",
       "      <td>25491</td>\n",
       "      <td>HCC1806</td>\n",
       "      <td>907047</td>\n",
       "      <td>824559</td>\n",
       "      <td>breast</td>\n",
       "      <td>NS</td>\n",
       "      <td>carcinoma</td>\n",
       "      <td>ductal_carcinoma</td>\n",
       "      <td>y</td>\n",
       "      <td>COSM109920</td>\n",
       "      <td>c.1049C&gt;T</td>\n",
       "      <td>p.S350L</td>\n",
       "      <td>Substitution - Missense</td>\n",
       "      <td>het</td>\n",
       "      <td>38</td>\n",
       "      <td>10:13693966-13693966</td>\n",
       "      <td>-</td>\n",
       "      <td>n</td>\n",
       "      <td>PASSENGER/OTHER</td>\n",
       "      <td>Reported in another cancer sample as somatic</td>\n",
       "      <td>NaN</td>\n",
       "      <td>NaN</td>\n",
       "      <td>American Type Culture Collection (ATCC)</td>\n",
       "      <td>P.O. Box 1549, Manassas, VA 20108, USA</td>\n",
       "      <td>CRL-2335</td>\n",
       "      <td>cell-line</td>\n",
       "      <td>primary</td>\n",
       "      <td>60</td>\n",
       "      <td>Grade:II,Stage:II</td>\n",
       "    </tr>\n",
       "    <tr>\n",
       "      <th>1</th>\n",
       "      <td>LILRB1</td>\n",
       "      <td>ENST00000396331</td>\n",
       "      <td>1953</td>\n",
       "      <td>6605</td>\n",
       "      <td>HCC1806</td>\n",
       "      <td>907047</td>\n",
       "      <td>824559</td>\n",
       "      <td>breast</td>\n",
       "      <td>NS</td>\n",
       "      <td>carcinoma</td>\n",
       "      <td>ductal_carcinoma</td>\n",
       "      <td>y</td>\n",
       "      <td>COSM162161</td>\n",
       "      <td>c.1690G&gt;A</td>\n",
       "      <td>p.E564K</td>\n",
       "      <td>Substitution - Missense</td>\n",
       "      <td>het</td>\n",
       "      <td>38</td>\n",
       "      <td>19:54636536-54636536</td>\n",
       "      <td>+</td>\n",
       "      <td>n</td>\n",
       "      <td>PASSENGER/OTHER</td>\n",
       "      <td>Reported in another cancer sample as somatic</td>\n",
       "      <td>NaN</td>\n",
       "      <td>NaN</td>\n",
       "      <td>American Type Culture Collection (ATCC)</td>\n",
       "      <td>P.O. Box 1549, Manassas, VA 20108, USA</td>\n",
       "      <td>CRL-2335</td>\n",
       "      <td>cell-line</td>\n",
       "      <td>primary</td>\n",
       "      <td>60</td>\n",
       "      <td>Grade:II,Stage:II</td>\n",
       "    </tr>\n",
       "  </tbody>\n",
       "</table>\n",
       "</div>"
      ],
      "text/plain": [
       "        g Accession.Number  Gene.CDS.length  HGNC.ID        c  ID_sample  ID_tumour Primary.site Site.subtype Primary.histology Histology.subtype Genome.wide.screen Mutation.ID Mutation.CDS Mutation.AA     Mutation.Description Mutation.zygosity  GRCh Mutation.genome.position strand SNP FATHMM.prediction                       Mutation.somatic.status  Pubmed_PMID  ID_STUDY                                Institute                       Institute.Address Catalogue.Number Sample.source Tumour.origin  Age           Comments\n",
       "0  FRMD4A  ENST00000357447             3120    25491  HCC1806     907047     824559       breast           NS         carcinoma  ductal_carcinoma                  y  COSM109920    c.1049C>T     p.S350L  Substitution - Missense               het    38     10:13693966-13693966      -   n   PASSENGER/OTHER  Reported in another cancer sample as somatic          NaN       NaN  American Type Culture Collection (ATCC)  P.O. Box 1549, Manassas, VA 20108, USA         CRL-2335     cell-line       primary   60  Grade:II,Stage:II\n",
       "1  LILRB1  ENST00000396331             1953     6605  HCC1806     907047     824559       breast           NS         carcinoma  ductal_carcinoma                  y  COSM162161    c.1690G>A     p.E564K  Substitution - Missense               het    38     19:54636536-54636536      +   n   PASSENGER/OTHER  Reported in another cancer sample as somatic          NaN       NaN  American Type Culture Collection (ATCC)  P.O. Box 1549, Manassas, VA 20108, USA         CRL-2335     cell-line       primary   60  Grade:II,Stage:II"
      ]
     },
     "metadata": {},
     "output_type": "display_data"
    },
    {
     "name": "stdout",
     "output_type": "stream",
     "text": [
      "(75281, 32)\n"
     ]
    }
   ],
   "source": [
    "display(mutations.head(2))\n",
    "print(mutations.shape)"
   ]
  },
  {
   "cell_type": "code",
   "execution_count": 18,
   "metadata": {
    "collapsed": false,
    "run_control": {
     "marked": false
    }
   },
   "outputs": [],
   "source": [
    "mutations.columns = [c.replace('.', '_').lower() for c in mutations.columns]"
   ]
  },
  {
   "cell_type": "code",
   "execution_count": 19,
   "metadata": {
    "collapsed": false,
    "run_control": {
     "marked": false
    }
   },
   "outputs": [
    {
     "data": {
      "text/html": [
       "<div>\n",
       "<table border=\"1\" class=\"dataframe\">\n",
       "  <thead>\n",
       "    <tr style=\"text-align: right;\">\n",
       "      <th></th>\n",
       "      <th>g</th>\n",
       "      <th>accession_number</th>\n",
       "      <th>gene_cds_length</th>\n",
       "      <th>hgnc_id</th>\n",
       "      <th>c</th>\n",
       "      <th>id_sample</th>\n",
       "      <th>id_tumour</th>\n",
       "      <th>primary_site</th>\n",
       "      <th>site_subtype</th>\n",
       "      <th>primary_histology</th>\n",
       "      <th>histology_subtype</th>\n",
       "      <th>genome_wide_screen</th>\n",
       "      <th>mutation_id</th>\n",
       "      <th>mutation_cds</th>\n",
       "      <th>mutation_aa</th>\n",
       "      <th>mutation_description</th>\n",
       "      <th>mutation_zygosity</th>\n",
       "      <th>grch</th>\n",
       "      <th>mutation_genome_position</th>\n",
       "      <th>strand</th>\n",
       "      <th>snp</th>\n",
       "      <th>fathmm_prediction</th>\n",
       "      <th>mutation_somatic_status</th>\n",
       "      <th>pubmed_pmid</th>\n",
       "      <th>id_study</th>\n",
       "      <th>institute</th>\n",
       "      <th>institute_address</th>\n",
       "      <th>catalogue_number</th>\n",
       "      <th>sample_source</th>\n",
       "      <th>tumour_origin</th>\n",
       "      <th>age</th>\n",
       "      <th>comments</th>\n",
       "    </tr>\n",
       "  </thead>\n",
       "  <tbody>\n",
       "    <tr>\n",
       "      <th>0</th>\n",
       "      <td>FRMD4A</td>\n",
       "      <td>ENST00000357447</td>\n",
       "      <td>3120</td>\n",
       "      <td>25491</td>\n",
       "      <td>HCC1806</td>\n",
       "      <td>907047</td>\n",
       "      <td>824559</td>\n",
       "      <td>breast</td>\n",
       "      <td>NS</td>\n",
       "      <td>carcinoma</td>\n",
       "      <td>ductal_carcinoma</td>\n",
       "      <td>y</td>\n",
       "      <td>COSM109920</td>\n",
       "      <td>c.1049C&gt;T</td>\n",
       "      <td>p.S350L</td>\n",
       "      <td>Substitution - Missense</td>\n",
       "      <td>het</td>\n",
       "      <td>38</td>\n",
       "      <td>10:13693966-13693966</td>\n",
       "      <td>-</td>\n",
       "      <td>n</td>\n",
       "      <td>PASSENGER/OTHER</td>\n",
       "      <td>Reported in another cancer sample as somatic</td>\n",
       "      <td>NaN</td>\n",
       "      <td>NaN</td>\n",
       "      <td>American Type Culture Collection (ATCC)</td>\n",
       "      <td>P.O. Box 1549, Manassas, VA 20108, USA</td>\n",
       "      <td>CRL-2335</td>\n",
       "      <td>cell-line</td>\n",
       "      <td>primary</td>\n",
       "      <td>60</td>\n",
       "      <td>Grade:II,Stage:II</td>\n",
       "    </tr>\n",
       "    <tr>\n",
       "      <th>1</th>\n",
       "      <td>LILRB1</td>\n",
       "      <td>ENST00000396331</td>\n",
       "      <td>1953</td>\n",
       "      <td>6605</td>\n",
       "      <td>HCC1806</td>\n",
       "      <td>907047</td>\n",
       "      <td>824559</td>\n",
       "      <td>breast</td>\n",
       "      <td>NS</td>\n",
       "      <td>carcinoma</td>\n",
       "      <td>ductal_carcinoma</td>\n",
       "      <td>y</td>\n",
       "      <td>COSM162161</td>\n",
       "      <td>c.1690G&gt;A</td>\n",
       "      <td>p.E564K</td>\n",
       "      <td>Substitution - Missense</td>\n",
       "      <td>het</td>\n",
       "      <td>38</td>\n",
       "      <td>19:54636536-54636536</td>\n",
       "      <td>+</td>\n",
       "      <td>n</td>\n",
       "      <td>PASSENGER/OTHER</td>\n",
       "      <td>Reported in another cancer sample as somatic</td>\n",
       "      <td>NaN</td>\n",
       "      <td>NaN</td>\n",
       "      <td>American Type Culture Collection (ATCC)</td>\n",
       "      <td>P.O. Box 1549, Manassas, VA 20108, USA</td>\n",
       "      <td>CRL-2335</td>\n",
       "      <td>cell-line</td>\n",
       "      <td>primary</td>\n",
       "      <td>60</td>\n",
       "      <td>Grade:II,Stage:II</td>\n",
       "    </tr>\n",
       "  </tbody>\n",
       "</table>\n",
       "</div>"
      ],
      "text/plain": [
       "        g accession_number  gene_cds_length  hgnc_id        c  id_sample  id_tumour primary_site site_subtype primary_histology histology_subtype genome_wide_screen mutation_id mutation_cds mutation_aa     mutation_description mutation_zygosity  grch mutation_genome_position strand snp fathmm_prediction                       mutation_somatic_status  pubmed_pmid  id_study                                institute                       institute_address catalogue_number sample_source tumour_origin  age           comments\n",
       "0  FRMD4A  ENST00000357447             3120    25491  HCC1806     907047     824559       breast           NS         carcinoma  ductal_carcinoma                  y  COSM109920    c.1049C>T     p.S350L  Substitution - Missense               het    38     10:13693966-13693966      -   n   PASSENGER/OTHER  Reported in another cancer sample as somatic          NaN       NaN  American Type Culture Collection (ATCC)  P.O. Box 1549, Manassas, VA 20108, USA         CRL-2335     cell-line       primary   60  Grade:II,Stage:II\n",
       "1  LILRB1  ENST00000396331             1953     6605  HCC1806     907047     824559       breast           NS         carcinoma  ductal_carcinoma                  y  COSM162161    c.1690G>A     p.E564K  Substitution - Missense               het    38     19:54636536-54636536      +   n   PASSENGER/OTHER  Reported in another cancer sample as somatic          NaN       NaN  American Type Culture Collection (ATCC)  P.O. Box 1549, Manassas, VA 20108, USA         CRL-2335     cell-line       primary   60  Grade:II,Stage:II"
      ]
     },
     "execution_count": 19,
     "metadata": {},
     "output_type": "execute_result"
    }
   ],
   "source": [
    "mutations.head(2)"
   ]
  },
  {
   "cell_type": "code",
   "execution_count": null,
   "metadata": {
    "collapsed": false,
    "run_control": {
     "marked": false
    }
   },
   "outputs": [],
   "source": []
  },
  {
   "cell_type": "markdown",
   "metadata": {},
   "source": [
    "## Gene subsets"
   ]
  },
  {
   "cell_type": "markdown",
   "metadata": {},
   "source": [
    "### CGS"
   ]
  },
  {
   "cell_type": "code",
   "execution_count": 20,
   "metadata": {
    "collapsed": false
   },
   "outputs": [],
   "source": [
    "engine = sa.create_engine(os.environ['BIODB_CONNECTION_STR'] + '/cosmic')\n",
    "cancer_gene_census = pd.read_sql_table('cancer_gene_census', engine)"
   ]
  },
  {
   "cell_type": "code",
   "execution_count": 21,
   "metadata": {
    "collapsed": false
   },
   "outputs": [
    {
     "data": {
      "text/html": [
       "<div>\n",
       "<table border=\"1\" class=\"dataframe\">\n",
       "  <thead>\n",
       "    <tr style=\"text-align: right;\">\n",
       "      <th></th>\n",
       "      <th>gene_symbol</th>\n",
       "      <th>name</th>\n",
       "      <th>entrez_geneid</th>\n",
       "      <th>genome_location</th>\n",
       "      <th>chr_band</th>\n",
       "      <th>somatic</th>\n",
       "      <th>germline</th>\n",
       "      <th>tumour_types_somatic</th>\n",
       "      <th>tumour_types_germline</th>\n",
       "      <th>cancer_syndrome</th>\n",
       "      <th>tissue_type</th>\n",
       "      <th>molecular_genetics</th>\n",
       "      <th>mutation_types</th>\n",
       "      <th>translocation_partner</th>\n",
       "      <th>other_germline_mut</th>\n",
       "      <th>other_syndrome</th>\n",
       "      <th>synonyms</th>\n",
       "    </tr>\n",
       "  </thead>\n",
       "  <tbody>\n",
       "    <tr>\n",
       "      <th>0</th>\n",
       "      <td>ABI1</td>\n",
       "      <td>abl-interactor 1</td>\n",
       "      <td>10006</td>\n",
       "      <td>10:26748570-26860863</td>\n",
       "      <td>10p11.2</td>\n",
       "      <td>yes</td>\n",
       "      <td>None</td>\n",
       "      <td>AML</td>\n",
       "      <td>None</td>\n",
       "      <td>None</td>\n",
       "      <td>L</td>\n",
       "      <td>Dom</td>\n",
       "      <td>T</td>\n",
       "      <td>KMT2A</td>\n",
       "      <td>None</td>\n",
       "      <td>None</td>\n",
       "      <td>ABI1,E3B1,ABI-1,SSH3BP1,10006</td>\n",
       "    </tr>\n",
       "    <tr>\n",
       "      <th>1</th>\n",
       "      <td>ABL1</td>\n",
       "      <td>v-abl Abelson murine leukemia viral oncogene h...</td>\n",
       "      <td>25</td>\n",
       "      <td>9:130835447-130885683</td>\n",
       "      <td>9q34.1</td>\n",
       "      <td>yes</td>\n",
       "      <td>None</td>\n",
       "      <td>CML, ALL, T-ALL</td>\n",
       "      <td>None</td>\n",
       "      <td>None</td>\n",
       "      <td>L</td>\n",
       "      <td>Dom</td>\n",
       "      <td>T, Mis</td>\n",
       "      <td>BCR, ETV6, NUP214</td>\n",
       "      <td>None</td>\n",
       "      <td>None</td>\n",
       "      <td>ABL1,p150,ABL,c-ABL,JTK7,bcr/abl,v-abl,P00519,...</td>\n",
       "    </tr>\n",
       "  </tbody>\n",
       "</table>\n",
       "</div>"
      ],
      "text/plain": [
       "  gene_symbol                                               name  entrez_geneid        genome_location chr_band somatic germline tumour_types_somatic tumour_types_germline cancer_syndrome tissue_type molecular_genetics mutation_types translocation_partner other_germline_mut other_syndrome                                           synonyms\n",
       "0        ABI1                                   abl-interactor 1          10006   10:26748570-26860863  10p11.2     yes     None                  AML                  None            None           L                Dom              T                 KMT2A               None           None                      ABI1,E3B1,ABI-1,SSH3BP1,10006\n",
       "1        ABL1  v-abl Abelson murine leukemia viral oncogene h...             25  9:130835447-130885683   9q34.1     yes     None      CML, ALL, T-ALL                  None            None           L                Dom         T, Mis     BCR, ETV6, NUP214               None           None  ABL1,p150,ABL,c-ABL,JTK7,bcr/abl,v-abl,P00519,..."
      ]
     },
     "execution_count": 21,
     "metadata": {},
     "output_type": "execute_result"
    }
   ],
   "source": [
    "cancer_gene_census.head(2)"
   ]
  },
  {
   "cell_type": "code",
   "execution_count": 22,
   "metadata": {
    "collapsed": false
   },
   "outputs": [],
   "source": [
    "cgs_genes = set(cancer_gene_census['gene_symbol'])"
   ]
  },
  {
   "cell_type": "code",
   "execution_count": null,
   "metadata": {
    "collapsed": true
   },
   "outputs": [],
   "source": []
  },
  {
   "cell_type": "markdown",
   "metadata": {},
   "source": [
    "### Target"
   ]
  },
  {
   "cell_type": "code",
   "execution_count": 23,
   "metadata": {
    "collapsed": false
   },
   "outputs": [
    {
     "data": {
      "text/html": [
       "<div>\n",
       "<table border=\"1\" class=\"dataframe\">\n",
       "  <thead>\n",
       "    <tr style=\"text-align: right;\">\n",
       "      <th></th>\n",
       "      <th>drug</th>\n",
       "      <th>hgnc_name</th>\n",
       "    </tr>\n",
       "  </thead>\n",
       "  <tbody>\n",
       "    <tr>\n",
       "      <th>0</th>\n",
       "      <td>ADAM17</td>\n",
       "      <td>ADAM17</td>\n",
       "    </tr>\n",
       "    <tr>\n",
       "      <th>1</th>\n",
       "      <td>AKT</td>\n",
       "      <td>AKT1</td>\n",
       "    </tr>\n",
       "  </tbody>\n",
       "</table>\n",
       "</div>"
      ],
      "text/plain": [
       "     drug hgnc_name\n",
       "0  ADAM17    ADAM17\n",
       "1     AKT      AKT1"
      ]
     },
     "execution_count": 23,
     "metadata": {},
     "output_type": "execute_result"
    }
   ],
   "source": [
    "engine = sa.create_engine(os.environ['BIODB_CONNECTION_STR'] + '/az_dream_2015')\n",
    "drug_to_hgnc_target = pd.read_sql_table('drug_to_hgnc_target', engine)\n",
    "drug_to_hgnc_target.head(2)"
   ]
  },
  {
   "cell_type": "code",
   "execution_count": 24,
   "metadata": {
    "collapsed": true
   },
   "outputs": [],
   "source": [
    "target_genes = set(drug_to_hgnc_target['hgnc_name'])"
   ]
  },
  {
   "cell_type": "code",
   "execution_count": null,
   "metadata": {
    "collapsed": false
   },
   "outputs": [],
   "source": []
  },
  {
   "cell_type": "markdown",
   "metadata": {
    "run_control": {
     "marked": false
    }
   },
   "source": [
    "# Cell line info"
   ]
  },
  {
   "cell_type": "markdown",
   "metadata": {
    "collapsed": true,
    "run_control": {
     "marked": false
    }
   },
   "source": [
    "## Useless"
   ]
  },
  {
   "cell_type": "code",
   "execution_count": 25,
   "metadata": {
    "collapsed": false,
    "run_control": {
     "marked": false
    }
   },
   "outputs": [
    {
     "data": {
      "text/plain": [
       "(85,)"
      ]
     },
     "execution_count": 25,
     "metadata": {},
     "output_type": "execute_result"
    }
   ],
   "source": [
    "mutations['c'].drop_duplicates().shape"
   ]
  },
  {
   "cell_type": "code",
   "execution_count": 26,
   "metadata": {
    "collapsed": false,
    "run_control": {
     "marked": false
    }
   },
   "outputs": [
    {
     "data": {
      "text/plain": [
       "(85, 2)"
      ]
     },
     "execution_count": 26,
     "metadata": {},
     "output_type": "execute_result"
    }
   ],
   "source": [
    "mutations[['c', 'id_sample']].drop_duplicates().shape"
   ]
  },
  {
   "cell_type": "code",
   "execution_count": 27,
   "metadata": {
    "collapsed": false,
    "run_control": {
     "marked": false
    }
   },
   "outputs": [
    {
     "data": {
      "text/plain": [
       "(85, 2)"
      ]
     },
     "execution_count": 27,
     "metadata": {},
     "output_type": "execute_result"
    }
   ],
   "source": [
    "mutations[['c', 'id_tumour']].drop_duplicates().shape"
   ]
  },
  {
   "cell_type": "code",
   "execution_count": 28,
   "metadata": {
    "collapsed": false,
    "run_control": {
     "marked": false
    }
   },
   "outputs": [
    {
     "data": {
      "text/plain": [
       "(85, 2)"
      ]
     },
     "execution_count": 28,
     "metadata": {},
     "output_type": "execute_result"
    }
   ],
   "source": [
    "mutations[['c', 'sample_source']].drop_duplicates().shape"
   ]
  },
  {
   "cell_type": "code",
   "execution_count": 29,
   "metadata": {
    "collapsed": false,
    "run_control": {
     "marked": false
    }
   },
   "outputs": [
    {
     "data": {
      "text/plain": [
       "Counter({'cell-line': 75281})"
      ]
     },
     "execution_count": 29,
     "metadata": {},
     "output_type": "execute_result"
    }
   ],
   "source": [
    "Counter(mutations['sample_source'])"
   ]
  },
  {
   "cell_type": "code",
   "execution_count": 30,
   "metadata": {
    "collapsed": false,
    "run_control": {
     "marked": false
    }
   },
   "outputs": [
    {
     "data": {
      "text/plain": [
       "(85, 2)"
      ]
     },
     "execution_count": 30,
     "metadata": {},
     "output_type": "execute_result"
    }
   ],
   "source": [
    "mutations[['c', 'genome_wide_screen']].drop_duplicates().shape"
   ]
  },
  {
   "cell_type": "code",
   "execution_count": 31,
   "metadata": {
    "collapsed": false,
    "run_control": {
     "marked": false
    }
   },
   "outputs": [
    {
     "data": {
      "text/plain": [
       "Counter({'y': 75281})"
      ]
     },
     "execution_count": 31,
     "metadata": {},
     "output_type": "execute_result"
    }
   ],
   "source": [
    "Counter(mutations['genome_wide_screen'].values)"
   ]
  },
  {
   "cell_type": "code",
   "execution_count": 32,
   "metadata": {
    "collapsed": false,
    "run_control": {
     "marked": false
    }
   },
   "outputs": [
    {
     "data": {
      "text/plain": [
       "(85, 2)"
      ]
     },
     "execution_count": 32,
     "metadata": {},
     "output_type": "execute_result"
    }
   ],
   "source": [
    "mutations[['c', 'comments']].drop_duplicates().shape"
   ]
  },
  {
   "cell_type": "code",
   "execution_count": 33,
   "metadata": {
    "collapsed": false,
    "run_control": {
     "marked": false
    }
   },
   "outputs": [
    {
     "data": {
      "text/plain": [
       "Counter({nan: 46102,\n",
       "         'Metastatic site:stomach': 383,\n",
       "         'Metastatic site:pleural effusion': 9292,\n",
       "         'Stage:I': 387,\n",
       "         'Stage:IV': 1611,\n",
       "         'Metastatic site:lymph node': 1728,\n",
       "         'Grade:I,Metastatic site:NA': 980,\n",
       "         'Metastatic site:central nervous system': 1985,\n",
       "         'Grade:II,Stage:II': 558,\n",
       "         'Grade:III,Metastatic site:lymph node,Stage:III': 937,\n",
       "         'Stage:III,Metastatic site:NA': 530,\n",
       "         'Grade:II,Stage:IV': 611,\n",
       "         'Grade:IV,Metastatic site:lymph node,Stage:III': 2837,\n",
       "         'Metastatic site:skin': 460,\n",
       "         'Metastatic site:ascites': 591,\n",
       "         'Metastatic site:ascitic fluid': 1044,\n",
       "         'Metastatic site:mediastinum': 516,\n",
       "         'Stage:III': 2902,\n",
       "         'Stage:II': 908,\n",
       "         'Grade:II,Stage:III': 215,\n",
       "         'Metastatic site:bone marrow': 704})"
      ]
     },
     "execution_count": 33,
     "metadata": {},
     "output_type": "execute_result"
    }
   ],
   "source": [
    "Counter(mutations['comments'])"
   ]
  },
  {
   "cell_type": "code",
   "execution_count": null,
   "metadata": {
    "collapsed": true,
    "run_control": {
     "marked": false
    }
   },
   "outputs": [],
   "source": []
  },
  {
   "cell_type": "markdown",
   "metadata": {
    "collapsed": true,
    "run_control": {
     "marked": false
    }
   },
   "source": [
    "## Useful"
   ]
  },
  {
   "cell_type": "code",
   "execution_count": 34,
   "metadata": {
    "collapsed": false,
    "run_control": {
     "marked": false
    }
   },
   "outputs": [
    {
     "data": {
      "text/plain": [
       "Counter({'NS': 4069, 'metastasis': 16529, 'primary': 54683})"
      ]
     },
     "execution_count": 34,
     "metadata": {},
     "output_type": "execute_result"
    }
   ],
   "source": [
    "Counter(mutations['tumour_origin'])"
   ]
  },
  {
   "cell_type": "code",
   "execution_count": 35,
   "metadata": {
    "collapsed": false,
    "run_control": {
     "marked": false
    }
   },
   "outputs": [
    {
     "data": {
      "text/plain": [
       "(85, 2)"
      ]
     },
     "execution_count": 35,
     "metadata": {},
     "output_type": "execute_result"
    }
   ],
   "source": [
    "mutations[['c', 'age']].drop_duplicates().shape"
   ]
  },
  {
   "cell_type": "code",
   "execution_count": 36,
   "metadata": {
    "collapsed": false,
    "run_control": {
     "marked": false
    }
   },
   "outputs": [
    {
     "data": {
      "text/plain": [
       "<matplotlib.axes._subplots.AxesSubplot at 0x7f2eb1f74c50>"
      ]
     },
     "execution_count": 36,
     "metadata": {},
     "output_type": "execute_result"
    },
    {
     "data": {
      "image/png": "[encoded data removed]",
      "text/plain": [
       "<matplotlib.figure.Figure at 0x7f2eb0d97780>"
      ]
     },
     "metadata": {},
     "output_type": "display_data"
    }
   ],
   "source": [
    "mutations['age'].hist()"
   ]
  },
  {
   "cell_type": "code",
   "execution_count": 37,
   "metadata": {
    "collapsed": false,
    "run_control": {
     "marked": false
    }
   },
   "outputs": [
    {
     "data": {
      "text/plain": [
       "(85, 2)"
      ]
     },
     "execution_count": 37,
     "metadata": {},
     "output_type": "execute_result"
    }
   ],
   "source": [
    "mutations[['c', 'primary_histology']].drop_duplicates().shape"
   ]
  },
  {
   "cell_type": "code",
   "execution_count": 38,
   "metadata": {
    "collapsed": false,
    "run_control": {
     "marked": false
    }
   },
   "outputs": [
    {
     "data": {
      "text/plain": [
       "Counter({'carcinoma': 70922,\n",
       "         'lymphoid_neoplasm': 1212,\n",
       "         'malignant_melanoma': 3147})"
      ]
     },
     "execution_count": 38,
     "metadata": {},
     "output_type": "execute_result"
    }
   ],
   "source": [
    "Counter(mutations['primary_histology'].values)"
   ]
  },
  {
   "cell_type": "code",
   "execution_count": 39,
   "metadata": {
    "collapsed": false,
    "run_control": {
     "marked": false
    }
   },
   "outputs": [
    {
     "data": {
      "text/plain": [
       "(85, 2)"
      ]
     },
     "execution_count": 39,
     "metadata": {},
     "output_type": "execute_result"
    }
   ],
   "source": [
    "mutations[['c', 'histology_subtype']].drop_duplicates().shape"
   ]
  },
  {
   "cell_type": "code",
   "execution_count": 40,
   "metadata": {
    "collapsed": false,
    "run_control": {
     "marked": false
    }
   },
   "outputs": [
    {
     "data": {
      "text/plain": [
       "Counter({'NS': 30985,\n",
       "         'adenocarcinoma': 17017,\n",
       "         'bronchioloalveolar_adenocarcinoma': 1693,\n",
       "         'ductal_carcinoma': 9286,\n",
       "         'mixed_adenosquamous_carcinoma': 980,\n",
       "         'non_small_cell_carcinoma': 8347,\n",
       "         'plasma_cell_myeloma': 1212,\n",
       "         'small_cell_carcinoma': 516,\n",
       "         'squamous_cell_carcinoma': 734,\n",
       "         'transitional_cell_carcinoma': 4511})"
      ]
     },
     "execution_count": 40,
     "metadata": {},
     "output_type": "execute_result"
    }
   ],
   "source": [
    "Counter(mutations['histology_subtype'].values)"
   ]
  },
  {
   "cell_type": "markdown",
   "metadata": {
    "run_control": {
     "marked": false
    }
   },
   "source": [
    "# Mutation info"
   ]
  },
  {
   "cell_type": "code",
   "execution_count": null,
   "metadata": {
    "collapsed": true,
    "run_control": {
     "marked": false
    }
   },
   "outputs": [],
   "source": []
  },
  {
   "cell_type": "markdown",
   "metadata": {
    "run_control": {
     "marked": false
    }
   },
   "source": [
    "## mutation_description"
   ]
  },
  {
   "cell_type": "code",
   "execution_count": 41,
   "metadata": {
    "collapsed": false,
    "run_control": {
     "marked": false
    }
   },
   "outputs": [
    {
     "data": {
      "text/plain": [
       "Counter({'Complex - compound substitution': 1,\n",
       "         'Complex - deletion inframe': 28,\n",
       "         'Complex - frameshift': 33,\n",
       "         'Complex - insertion inframe': 1,\n",
       "         'Deletion - Frameshift': 3017,\n",
       "         'Deletion - In frame': 334,\n",
       "         'Insertion - Frameshift': 1029,\n",
       "         'Insertion - In frame': 102,\n",
       "         'Nonstop extension': 53,\n",
       "         'Substitution - Missense': 43378,\n",
       "         'Substitution - Nonsense': 2609,\n",
       "         'Substitution - coding silent': 18537,\n",
       "         'Unknown': 6159})"
      ]
     },
     "execution_count": 41,
     "metadata": {},
     "output_type": "execute_result"
    }
   ],
   "source": [
    "Counter(mutations['mutation_description'].values)"
   ]
  },
  {
   "cell_type": "code",
   "execution_count": 42,
   "metadata": {
    "collapsed": false,
    "run_control": {
     "marked": false
    }
   },
   "outputs": [],
   "source": [
    "mutations['f_mutation_very_bad'] = (\n",
    "    (mutations['mutation_description'] == 'Complex - compound substitution') |\n",
    "    (mutations['mutation_description'] == 'Complex - deletion inframe') |\n",
    "    (mutations['mutation_description'] == 'Complex - frameshift') | \n",
    "    (mutations['mutation_description'] == 'Complex - insertion inframe') | \n",
    "    (mutations['mutation_description'] == 'Deletion - Frameshift') | \n",
    "    (mutations['mutation_description'] == 'Insertion - Frameshift') |\n",
    "    (mutations['mutation_description'] == 'Substitution - Nonsense')\n",
    ").astype(int)\n",
    "\n",
    "mutations['f_mutation_maybe_bad'] = (\n",
    "    (mutations['mutation_description'] == 'Deletion - In frame') |\n",
    "    (mutations['mutation_description'] == 'Insertion - In frame') |\n",
    "    (mutations['mutation_description'] == 'Nonstop extension') | \n",
    "    (mutations['mutation_description'] == 'Substitution - Missense')\n",
    ").astype(int)\n",
    "\n",
    "mutations['f_mutation_mild'] = (\n",
    "    (mutations['mutation_description'] == 'Substitution - coding silent')\n",
    ").astype(int)"
   ]
  },
  {
   "cell_type": "markdown",
   "metadata": {
    "run_control": {
     "marked": false
    }
   },
   "source": [
    "## mutation_zygosity"
   ]
  },
  {
   "cell_type": "code",
   "execution_count": 43,
   "metadata": {
    "collapsed": false,
    "run_control": {
     "marked": false
    }
   },
   "outputs": [
    {
     "data": {
      "text/plain": [
       "Counter({'het': 68066, 'hom': 7215})"
      ]
     },
     "execution_count": 43,
     "metadata": {},
     "output_type": "execute_result"
    }
   ],
   "source": [
    "Counter(mutations['mutation_zygosity'].values)"
   ]
  },
  {
   "cell_type": "code",
   "execution_count": 44,
   "metadata": {
    "collapsed": true,
    "run_control": {
     "marked": false
    }
   },
   "outputs": [],
   "source": [
    "mutations['f_homozygous'] = (mutations['mutation_zygosity'] == 'hom').astype(int)"
   ]
  },
  {
   "cell_type": "markdown",
   "metadata": {
    "run_control": {
     "marked": false
    }
   },
   "source": [
    "## snp"
   ]
  },
  {
   "cell_type": "code",
   "execution_count": 45,
   "metadata": {
    "collapsed": false,
    "run_control": {
     "marked": false
    }
   },
   "outputs": [
    {
     "data": {
      "text/plain": [
       "Counter({nan: 2098, 'y': 1791, 'n': 71392})"
      ]
     },
     "execution_count": 45,
     "metadata": {},
     "output_type": "execute_result"
    }
   ],
   "source": [
    "Counter(mutations['snp'].values)"
   ]
  },
  {
   "cell_type": "code",
   "execution_count": 46,
   "metadata": {
    "collapsed": false,
    "run_control": {
     "marked": false
    }
   },
   "outputs": [],
   "source": [
    "mutations['f_snp'] = (mutations['snp'] == 'y').astype(int)"
   ]
  },
  {
   "cell_type": "markdown",
   "metadata": {
    "run_control": {
     "marked": false
    }
   },
   "source": [
    "## fathmm_prediction"
   ]
  },
  {
   "cell_type": "code",
   "execution_count": 47,
   "metadata": {
    "collapsed": false,
    "run_control": {
     "marked": false
    }
   },
   "outputs": [
    {
     "data": {
      "text/plain": [
       "Counter({nan: 70187, 'CANCER': 658, 'PASSENGER/OTHER': 4436})"
      ]
     },
     "execution_count": 47,
     "metadata": {},
     "output_type": "execute_result"
    }
   ],
   "source": [
    "Counter(mutations['fathmm_prediction'].values)"
   ]
  },
  {
   "cell_type": "markdown",
   "metadata": {
    "run_control": {
     "marked": false
    }
   },
   "source": [
    "## mutation_somatic_status"
   ]
  },
  {
   "cell_type": "code",
   "execution_count": 48,
   "metadata": {
    "collapsed": false,
    "run_control": {
     "marked": false
    }
   },
   "outputs": [
    {
     "data": {
      "text/plain": [
       "Counter({'Confirmed somatic variant': 160,\n",
       "         'Reported in another cancer sample as somatic': 7618,\n",
       "         'Variant of unknown origin': 67503})"
      ]
     },
     "execution_count": 48,
     "metadata": {},
     "output_type": "execute_result"
    }
   ],
   "source": [
    "Counter(mutations['mutation_somatic_status'].values)"
   ]
  },
  {
   "cell_type": "code",
   "execution_count": 49,
   "metadata": {
    "collapsed": true,
    "run_control": {
     "marked": false
    }
   },
   "outputs": [],
   "source": [
    "mutations['f_maybe_somatic'] = (\n",
    "    (mutations['mutation_somatic_status'] == 'Confirmed somatic variant') | \n",
    "    (mutations['mutation_somatic_status'] == 'Reported in another cancer sample as somatic')\n",
    ").astype(int)"
   ]
  },
  {
   "cell_type": "code",
   "execution_count": null,
   "metadata": {
    "collapsed": true,
    "run_control": {
     "marked": false
    }
   },
   "outputs": [],
   "source": []
  },
  {
   "cell_type": "code",
   "execution_count": null,
   "metadata": {
    "collapsed": true
   },
   "outputs": [],
   "source": []
  },
  {
   "cell_type": "markdown",
   "metadata": {},
   "source": [
    "# Save"
   ]
  },
  {
   "cell_type": "code",
   "execution_count": 26,
   "metadata": {
    "collapsed": false
   },
   "outputs": [],
   "source": [
    "import csv2sql\n",
    "db = csv2sql.DataFrameToMySQL(\n",
    "    os.environ['BIODB_CONNECTION_STR'] + '/az_dream_2015_features', \n",
    "    'cnv', \n",
    "    os.environ['STG_SERVER_IP'], \n",
    "    echo=False\n",
    ")"
   ]
  },
  {
   "cell_type": "code",
   "execution_count": 22,
   "metadata": {
    "collapsed": false
   },
   "outputs": [],
   "source": [
    "import csv2sql.g2d"
   ]
  },
  {
   "cell_type": "code",
   "execution_count": null,
   "metadata": {
    "collapsed": true
   },
   "outputs": [],
   "source": []
  },
  {
   "cell_type": "markdown",
   "metadata": {
    "run_control": {
     "marked": false
    }
   },
   "source": [
    "## gc"
   ]
  },
  {
   "cell_type": "code",
   "execution_count": 52,
   "metadata": {
    "collapsed": true,
    "run_control": {
     "marked": false
    }
   },
   "outputs": [],
   "source": [
    "mutations_gbgc_gp = (\n",
    "    mutations\n",
    "    .groupby(['g', 'gene_cds_length', 'c'])\n",
    ")"
   ]
  },
  {
   "cell_type": "code",
   "execution_count": 53,
   "metadata": {
    "collapsed": false,
    "run_control": {
     "marked": false
    }
   },
   "outputs": [],
   "source": [
    "mutations_gbgc = (\n",
    "    mutations_gbgc_gp\n",
    "    .agg({\n",
    "        'mutation_aa': 'count',\n",
    "        'f_maybe_somatic': 'sum',\n",
    "        'f_snp': 'sum',\n",
    "        'f_homozygous': 'sum',\n",
    "        'f_mutation_very_bad': 'sum',\n",
    "        'f_mutation_maybe_bad': 'sum',\n",
    "        'f_mutation_mild': 'sum',\n",
    "    }).rename(columns={'mutation_aa': 'f_mutation'})\n",
    "    .reset_index()\n",
    ")"
   ]
  },
  {
   "cell_type": "code",
   "execution_count": 54,
   "metadata": {
    "collapsed": false,
    "run_control": {
     "marked": false
    }
   },
   "outputs": [],
   "source": [
    "columns_to_drop = ['gene_cds_length']\n",
    "for column in mutations_gbgc:\n",
    "    if not column.startswith('f_'):\n",
    "        continue\n",
    "    mutations_gbgc[column + '_density'] = mutations_gbgc[column] / mutations_gbgc['gene_cds_length']\n",
    "    columns_to_drop.append(column)\n",
    "\n",
    "mutations_gbgc.drop(pd.Index(columns_to_drop), axis=1, inplace=True)\n",
    "mutations_gbgc.columns = [((c + '_gbgc') if c not in ['g', 'c'] else c) for c in mutations_gbgc.columns]"
   ]
  },
  {
   "cell_type": "code",
   "execution_count": 55,
   "metadata": {
    "collapsed": false,
    "run_control": {
     "marked": false
    }
   },
   "outputs": [
    {
     "data": {
      "text/html": [
       "<div>\n",
       "<table border=\"1\" class=\"dataframe\">\n",
       "  <thead>\n",
       "    <tr style=\"text-align: right;\">\n",
       "      <th></th>\n",
       "      <th>g</th>\n",
       "      <th>c</th>\n",
       "      <th>f_mutation_maybe_bad_density_gbgc</th>\n",
       "      <th>f_snp_density_gbgc</th>\n",
       "      <th>f_maybe_somatic_density_gbgc</th>\n",
       "      <th>f_mutation_mild_density_gbgc</th>\n",
       "      <th>f_mutation_very_bad_density_gbgc</th>\n",
       "      <th>f_mutation_density_gbgc</th>\n",
       "      <th>f_homozygous_density_gbgc</th>\n",
       "    </tr>\n",
       "  </thead>\n",
       "  <tbody>\n",
       "    <tr>\n",
       "      <th>0</th>\n",
       "      <td>A1BG</td>\n",
       "      <td>CAL-51</td>\n",
       "      <td>0.000000</td>\n",
       "      <td>0</td>\n",
       "      <td>0</td>\n",
       "      <td>0.000672</td>\n",
       "      <td>0</td>\n",
       "      <td>0.000672</td>\n",
       "      <td>0</td>\n",
       "    </tr>\n",
       "    <tr>\n",
       "      <th>1</th>\n",
       "      <td>A1BG</td>\n",
       "      <td>HCC1500</td>\n",
       "      <td>0.000000</td>\n",
       "      <td>0</td>\n",
       "      <td>0</td>\n",
       "      <td>0.000672</td>\n",
       "      <td>0</td>\n",
       "      <td>0.000672</td>\n",
       "      <td>0</td>\n",
       "    </tr>\n",
       "    <tr>\n",
       "      <th>2</th>\n",
       "      <td>A1BG</td>\n",
       "      <td>HCC1806</td>\n",
       "      <td>0.000000</td>\n",
       "      <td>0</td>\n",
       "      <td>0</td>\n",
       "      <td>0.000672</td>\n",
       "      <td>0</td>\n",
       "      <td>0.000672</td>\n",
       "      <td>0</td>\n",
       "    </tr>\n",
       "    <tr>\n",
       "      <th>3</th>\n",
       "      <td>A1BG</td>\n",
       "      <td>MDA-MB-415</td>\n",
       "      <td>0.000000</td>\n",
       "      <td>0</td>\n",
       "      <td>0</td>\n",
       "      <td>0.000672</td>\n",
       "      <td>0</td>\n",
       "      <td>0.000672</td>\n",
       "      <td>0</td>\n",
       "    </tr>\n",
       "    <tr>\n",
       "      <th>4</th>\n",
       "      <td>A1BG</td>\n",
       "      <td>RKO</td>\n",
       "      <td>0.000672</td>\n",
       "      <td>0</td>\n",
       "      <td>0</td>\n",
       "      <td>0.000000</td>\n",
       "      <td>0</td>\n",
       "      <td>0.000672</td>\n",
       "      <td>0</td>\n",
       "    </tr>\n",
       "    <tr>\n",
       "      <th>5</th>\n",
       "      <td>A1CF</td>\n",
       "      <td>22RV1</td>\n",
       "      <td>0.000568</td>\n",
       "      <td>0</td>\n",
       "      <td>0</td>\n",
       "      <td>0.000000</td>\n",
       "      <td>0</td>\n",
       "      <td>0.000568</td>\n",
       "      <td>0</td>\n",
       "    </tr>\n",
       "    <tr>\n",
       "      <th>6</th>\n",
       "      <td>A1CF</td>\n",
       "      <td>HCC1569</td>\n",
       "      <td>0.000568</td>\n",
       "      <td>0</td>\n",
       "      <td>0</td>\n",
       "      <td>0.000000</td>\n",
       "      <td>0</td>\n",
       "      <td>0.000568</td>\n",
       "      <td>0</td>\n",
       "    </tr>\n",
       "    <tr>\n",
       "      <th>7</th>\n",
       "      <td>A1CF</td>\n",
       "      <td>KATOIII</td>\n",
       "      <td>0.000568</td>\n",
       "      <td>0</td>\n",
       "      <td>0</td>\n",
       "      <td>0.000000</td>\n",
       "      <td>0</td>\n",
       "      <td>0.000568</td>\n",
       "      <td>0</td>\n",
       "    </tr>\n",
       "    <tr>\n",
       "      <th>8</th>\n",
       "      <td>A1CF</td>\n",
       "      <td>NCI-H1793</td>\n",
       "      <td>0.000568</td>\n",
       "      <td>0</td>\n",
       "      <td>0</td>\n",
       "      <td>0.000000</td>\n",
       "      <td>0</td>\n",
       "      <td>0.000568</td>\n",
       "      <td>0</td>\n",
       "    </tr>\n",
       "    <tr>\n",
       "      <th>9</th>\n",
       "      <td>A1CF</td>\n",
       "      <td>NCI-H358</td>\n",
       "      <td>0.000568</td>\n",
       "      <td>0</td>\n",
       "      <td>0</td>\n",
       "      <td>0.000000</td>\n",
       "      <td>0</td>\n",
       "      <td>0.000568</td>\n",
       "      <td>0</td>\n",
       "    </tr>\n",
       "  </tbody>\n",
       "</table>\n",
       "</div>"
      ],
      "text/plain": [
       "      g           c  f_mutation_maybe_bad_density_gbgc  f_snp_density_gbgc  f_maybe_somatic_density_gbgc  f_mutation_mild_density_gbgc  f_mutation_very_bad_density_gbgc  f_mutation_density_gbgc  f_homozygous_density_gbgc\n",
       "0  A1BG      CAL-51                           0.000000                   0                             0                      0.000672                                 0                 0.000672                          0\n",
       "1  A1BG     HCC1500                           0.000000                   0                             0                      0.000672                                 0                 0.000672                          0\n",
       "2  A1BG     HCC1806                           0.000000                   0                             0                      0.000672                                 0                 0.000672                          0\n",
       "3  A1BG  MDA-MB-415                           0.000000                   0                             0                      0.000672                                 0                 0.000672                          0\n",
       "4  A1BG         RKO                           0.000672                   0                             0                      0.000000                                 0                 0.000672                          0\n",
       "5  A1CF       22RV1                           0.000568                   0                             0                      0.000000                                 0                 0.000568                          0\n",
       "6  A1CF     HCC1569                           0.000568                   0                             0                      0.000000                                 0                 0.000568                          0\n",
       "7  A1CF     KATOIII                           0.000568                   0                             0                      0.000000                                 0                 0.000568                          0\n",
       "8  A1CF   NCI-H1793                           0.000568                   0                             0                      0.000000                                 0                 0.000568                          0\n",
       "9  A1CF    NCI-H358                           0.000568                   0                             0                      0.000000                                 0                 0.000568                          0"
      ]
     },
     "execution_count": 55,
     "metadata": {},
     "output_type": "execute_result"
    }
   ],
   "source": [
    "mutations_gbgc.head(10)"
   ]
  },
  {
   "cell_type": "code",
   "execution_count": 56,
   "metadata": {
    "collapsed": false,
    "run_control": {
     "marked": false
    }
   },
   "outputs": [
    {
     "name": "stderr",
     "output_type": "stream",
     "text": [
      "DEBUG:csv2sql.core:Uncompressing file...\n",
      "INFO:csv2sql.core:bzip2 -dkf '/home/kimlab1/database_data/biodata/recipes/az_dream_2015/notebooks/cnv/mutations_gbgc.tsv.bz2'\n",
      "DEBUG:csv2sql.core:Running on host: 'xxx.xxx.xxx.xxx'\n",
      "DEBUG:csv2sql.core:Initializing SSH client: 'os.environ['STG_SERVER_IP']'\n",
      "DEBUG:csv2sql.core:Command ran successfully!\n",
      "DEBUG:csv2sql.core:output: \n",
      "DEBUG:csv2sql.core:Loading data into MySQL table: 'mutations_gbgc'...\n",
      "INFO:csv2sql.core:mysql  az_dream_2015_features -e \"load data local infile '/home/kimlab1/database_data/biodata/recipes/az_dream_2015/notebooks/cnv/mutations_gbgc.tsv' into table `mutations_gbgc` ignore 1 lines;  show warnings;\" \n",
      "DEBUG:csv2sql.core:Running locally\n",
      "DEBUG:csv2sql.core:Command ran successfully!\n",
      "DEBUG:csv2sql.core:output: \n",
      "DEBUG:csv2sql.core:Removing uncompressed file '/home/kimlab1/database_data/biodata/recipes/az_dream_2015/notebooks/cnv/mutations_gbgc.tsv'...\n",
      "INFO:csv2sql.core:rm -f '/home/kimlab1/database_data/biodata/recipes/az_dream_2015/notebooks/cnv/mutations_gbgc.tsv'\n",
      "DEBUG:csv2sql.core:Running locally\n",
      "DEBUG:csv2sql.core:Command ran successfully!\n",
      "DEBUG:csv2sql.core:output: \n"
     ]
    }
   ],
   "source": [
    "db.import_table(\n",
    "    mutations_gbgc,\n",
    "    'mutations_gbgc', [\n",
    "        [('g', 'c'), True],\n",
    "        [('c', 'g'), False],\n",
    "    ],\n",
    ")"
   ]
  },
  {
   "cell_type": "code",
   "execution_count": 57,
   "metadata": {
    "collapsed": false
   },
   "outputs": [
    {
     "name": "stdout",
     "output_type": "stream",
     "text": [
      "Unknown ending for column: f_mutation_maybe_bad_density_gbgc. Assuming mean...\n",
      "Unknown ending for column: f_snp_density_gbgc. Assuming mean...\n",
      "Unknown ending for column: f_maybe_somatic_density_gbgc. Assuming mean...\n",
      "Unknown ending for column: f_mutation_mild_density_gbgc. Assuming mean...\n",
      "Unknown ending for column: f_mutation_very_bad_density_gbgc. Assuming mean...\n",
      "Unknown ending for column: f_mutation_density_gbgc. Assuming mean...\n",
      "Unknown ending for column: f_homozygous_density_gbgc. Assuming mean...\n",
      "DROP TABLE IF EXISTS az_dream_2015_features.mutations_gbdc;\n",
      "\n",
      "CREATE TABLE az_dream_2015_features.mutations_gbdc AS\n",
      "SELECT\n",
      "d2t.drug d,\n",
      "t.c c,\n",
      "avg(t.f_mutation_maybe_bad_density_gbgc) f_mutation_maybe_bad_density_gbgc_mean,\n",
      "avg(t.f_snp_density_gbgc) f_snp_density_gbgc_mean,\n",
      "avg(t.f_maybe_somatic_density_gbgc) f_maybe_somatic_density_gbgc_mean,\n",
      "avg(t.f_mutation_mild_density_gbgc) f_mutation_mild_density_gbgc_mean,\n",
      "avg(t.f_mutation_very_bad_density_gbgc) f_mutation_very_bad_density_gbgc_mean,\n",
      "avg(t.f_mutation_density_gbgc) f_mutation_density_gbgc_mean,\n",
      "avg(t.f_homozygous_density_gbgc) f_homozygous_density_gbgc_mean\n",
      "FROM az_dream_2015.drug_to_hgnc_target d2t\n",
      "LEFT JOIN az_dream_2015_features.mutations_gbgc t ON (t.g = d2t.hgnc_name)\n",
      "GROUP BY d2t.drug , t.c;\n",
      "\n",
      "ALTER TABLE az_dream_2015_features.mutations_gbdc\n",
      "MODIFY d VARCHAR(255);\n",
      "\n",
      "CREATE INDEX a ON az_dream_2015_features.mutations_gbdc (d);\n",
      "\n",
      "DROP INDEX a ON az_dream_2015_features.mutations_gbdc;\n",
      "\n",
      "ALTER TABLE az_dream_2015_features.mutations_gbdc\n",
      "MODIFY c VARCHAR(255);\n",
      "\n",
      "CREATE INDEX a ON az_dream_2015_features.mutations_gbdc (d, c);\n",
      "\n",
      "CREATE INDEX b ON az_dream_2015_features.mutations_gbdc (c, d);\n",
      "\n",
      "Unknown ending for column: f_mutation_maybe_bad_density_gbgc. Assuming mean...\n",
      "Unknown ending for column: f_snp_density_gbgc. Assuming mean...\n",
      "Unknown ending for column: f_maybe_somatic_density_gbgc. Assuming mean...\n",
      "Unknown ending for column: f_mutation_mild_density_gbgc. Assuming mean...\n",
      "Unknown ending for column: f_mutation_very_bad_density_gbgc. Assuming mean...\n",
      "Unknown ending for column: f_mutation_density_gbgc. Assuming mean...\n",
      "Unknown ending for column: f_homozygous_density_gbgc. Assuming mean...\n",
      "DROP TABLE IF EXISTS az_dream_2015_features.mutations_gbdc_stitch;\n",
      "\n",
      "CREATE TABLE az_dream_2015_features.mutations_gbdc_stitch AS\n",
      "SELECT\n",
      "d2t.drug d,\n",
      "t.c c,\n",
      "avg(t.f_mutation_maybe_bad_density_gbgc) f_mutation_maybe_bad_density_gbgc_stitch_mean,\n",
      "avg(t.f_snp_density_gbgc) f_snp_density_gbgc_stitch_mean,\n",
      "avg(t.f_maybe_somatic_density_gbgc) f_maybe_somatic_density_gbgc_stitch_mean,\n",
      "avg(t.f_mutation_mild_density_gbgc) f_mutation_mild_density_gbgc_stitch_mean,\n",
      "avg(t.f_mutation_very_bad_density_gbgc) f_mutation_very_bad_density_gbgc_stitch_mean,\n",
      "avg(t.f_mutation_density_gbgc) f_mutation_density_gbgc_stitch_mean,\n",
      "avg(t.f_homozygous_density_gbgc) f_homozygous_density_gbgc_stitch_mean\n",
      "FROM az_dream_2015.drug_to_hgnc_target_stitch d2t\n",
      "LEFT JOIN az_dream_2015_features.mutations_gbgc t ON (t.g = d2t.hgnc_name)\n",
      "GROUP BY d2t.drug , t.c;\n",
      "\n",
      "ALTER TABLE az_dream_2015_features.mutations_gbdc_stitch\n",
      "MODIFY d VARCHAR(255);\n",
      "\n",
      "CREATE INDEX a ON az_dream_2015_features.mutations_gbdc_stitch (d);\n",
      "\n",
      "DROP INDEX a ON az_dream_2015_features.mutations_gbdc_stitch;\n",
      "\n",
      "ALTER TABLE az_dream_2015_features.mutations_gbdc_stitch\n",
      "MODIFY c VARCHAR(255);\n",
      "\n",
      "CREATE INDEX a ON az_dream_2015_features.mutations_gbdc_stitch (d, c);\n",
      "\n",
      "CREATE INDEX b ON az_dream_2015_features.mutations_gbdc_stitch (c, d);\n",
      "\n"
     ]
    }
   ],
   "source": [
    "csv2sql.g2d.g2d('mutations_gbgc')"
   ]
  },
  {
   "cell_type": "markdown",
   "metadata": {
    "run_control": {
     "marked": false
    }
   },
   "source": [
    "## g"
   ]
  },
  {
   "cell_type": "code",
   "execution_count": 58,
   "metadata": {
    "collapsed": true,
    "run_control": {
     "marked": false
    }
   },
   "outputs": [],
   "source": [
    "mutations_gbg_gp = (\n",
    "    mutations\n",
    "    .groupby(['g', 'gene_cds_length'])\n",
    ")"
   ]
  },
  {
   "cell_type": "code",
   "execution_count": 59,
   "metadata": {
    "collapsed": true,
    "run_control": {
     "marked": false
    }
   },
   "outputs": [],
   "source": [
    "mutations_gbg = (\n",
    "    mutations_gbg_gp\n",
    "    .agg({\n",
    "        'mutation_aa': 'count',\n",
    "        'f_maybe_somatic': 'sum',\n",
    "        'f_snp': 'sum',\n",
    "        'f_homozygous': 'sum',\n",
    "        'f_mutation_very_bad': 'sum',\n",
    "        'f_mutation_maybe_bad': 'sum',\n",
    "        'f_mutation_mild': 'sum',\n",
    "    }).rename(columns={'mutation_aa': 'f_mutation'})\n",
    "    .reset_index()\n",
    ")"
   ]
  },
  {
   "cell_type": "code",
   "execution_count": 60,
   "metadata": {
    "collapsed": true,
    "run_control": {
     "marked": false
    }
   },
   "outputs": [],
   "source": [
    "columns_to_drop = ['gene_cds_length']\n",
    "for column in mutations_gbg:\n",
    "    if not column.startswith('f_'):\n",
    "        continue\n",
    "    mutations_gbg[column + '_density'] = mutations_gbg[column] / mutations_gbg['gene_cds_length']\n",
    "    columns_to_drop.append(column)\n",
    "\n",
    "mutations_gbg.drop(pd.Index(columns_to_drop), axis=1, inplace=True)\n",
    "mutations_gbg.columns = [((c + '_gbg') if c not in ['g', 'c'] else c) for c in mutations_gbg.columns]"
   ]
  },
  {
   "cell_type": "code",
   "execution_count": 61,
   "metadata": {
    "collapsed": false,
    "run_control": {
     "marked": false
    }
   },
   "outputs": [
    {
     "data": {
      "text/html": [
       "<div>\n",
       "<table border=\"1\" class=\"dataframe\">\n",
       "  <thead>\n",
       "    <tr style=\"text-align: right;\">\n",
       "      <th></th>\n",
       "      <th>g</th>\n",
       "      <th>f_mutation_maybe_bad_density_gbg</th>\n",
       "      <th>f_snp_density_gbg</th>\n",
       "      <th>f_maybe_somatic_density_gbg</th>\n",
       "      <th>f_mutation_mild_density_gbg</th>\n",
       "      <th>f_mutation_very_bad_density_gbg</th>\n",
       "      <th>f_mutation_density_gbg</th>\n",
       "      <th>f_homozygous_density_gbg</th>\n",
       "    </tr>\n",
       "  </thead>\n",
       "  <tbody>\n",
       "    <tr>\n",
       "      <th>0</th>\n",
       "      <td>A1BG</td>\n",
       "      <td>0.000672</td>\n",
       "      <td>0.000000</td>\n",
       "      <td>0</td>\n",
       "      <td>0.002688</td>\n",
       "      <td>0</td>\n",
       "      <td>0.003360</td>\n",
       "      <td>0</td>\n",
       "    </tr>\n",
       "    <tr>\n",
       "      <th>1</th>\n",
       "      <td>A1CF</td>\n",
       "      <td>0.002839</td>\n",
       "      <td>0.000000</td>\n",
       "      <td>0</td>\n",
       "      <td>0.000000</td>\n",
       "      <td>0</td>\n",
       "      <td>0.002839</td>\n",
       "      <td>0</td>\n",
       "    </tr>\n",
       "    <tr>\n",
       "      <th>2</th>\n",
       "      <td>A1CF_ENST00000282641</td>\n",
       "      <td>0.002801</td>\n",
       "      <td>0.000000</td>\n",
       "      <td>0</td>\n",
       "      <td>0.000000</td>\n",
       "      <td>0</td>\n",
       "      <td>0.002801</td>\n",
       "      <td>0</td>\n",
       "    </tr>\n",
       "    <tr>\n",
       "      <th>3</th>\n",
       "      <td>A1CF_ENST00000373995</td>\n",
       "      <td>0.002801</td>\n",
       "      <td>0.000000</td>\n",
       "      <td>0</td>\n",
       "      <td>0.000000</td>\n",
       "      <td>0</td>\n",
       "      <td>0.002801</td>\n",
       "      <td>0</td>\n",
       "    </tr>\n",
       "    <tr>\n",
       "      <th>4</th>\n",
       "      <td>A2M</td>\n",
       "      <td>0.000678</td>\n",
       "      <td>0.000226</td>\n",
       "      <td>0</td>\n",
       "      <td>0.000678</td>\n",
       "      <td>0</td>\n",
       "      <td>0.002034</td>\n",
       "      <td>0</td>\n",
       "    </tr>\n",
       "  </tbody>\n",
       "</table>\n",
       "</div>"
      ],
      "text/plain": [
       "                      g  f_mutation_maybe_bad_density_gbg  f_snp_density_gbg  f_maybe_somatic_density_gbg  f_mutation_mild_density_gbg  f_mutation_very_bad_density_gbg  f_mutation_density_gbg  f_homozygous_density_gbg\n",
       "0                  A1BG                          0.000672           0.000000                            0                     0.002688                                0                0.003360                         0\n",
       "1                  A1CF                          0.002839           0.000000                            0                     0.000000                                0                0.002839                         0\n",
       "2  A1CF_ENST00000282641                          0.002801           0.000000                            0                     0.000000                                0                0.002801                         0\n",
       "3  A1CF_ENST00000373995                          0.002801           0.000000                            0                     0.000000                                0                0.002801                         0\n",
       "4                   A2M                          0.000678           0.000226                            0                     0.000678                                0                0.002034                         0"
      ]
     },
     "execution_count": 61,
     "metadata": {},
     "output_type": "execute_result"
    }
   ],
   "source": [
    "mutations_gbg.head()"
   ]
  },
  {
   "cell_type": "code",
   "execution_count": 62,
   "metadata": {
    "collapsed": false
   },
   "outputs": [
    {
     "name": "stderr",
     "output_type": "stream",
     "text": [
      "DEBUG:csv2sql.core:Uncompressing file...\n",
      "INFO:csv2sql.core:bzip2 -dkf '/home/kimlab1/database_data/biodata/recipes/az_dream_2015/notebooks/cnv/mutations_gbg.tsv.bz2'\n",
      "DEBUG:csv2sql.core:Running on host: 'xxx.xxx.xxx.xxx'\n",
      "DEBUG:csv2sql.core:Command ran successfully!\n",
      "DEBUG:csv2sql.core:output: \n",
      "DEBUG:csv2sql.core:Loading data into MySQL table: 'mutations_gbg'...\n",
      "INFO:csv2sql.core:mysql  az_dream_2015_features -e \"load data local infile '/home/kimlab1/database_data/biodata/recipes/az_dream_2015/notebooks/cnv/mutations_gbg.tsv' into table `mutations_gbg` ignore 1 lines;  show warnings;\" \n",
      "DEBUG:csv2sql.core:Running locally\n",
      "DEBUG:csv2sql.core:Command ran successfully!\n",
      "DEBUG:csv2sql.core:output: \n",
      "DEBUG:csv2sql.core:Removing uncompressed file '/home/kimlab1/database_data/biodata/recipes/az_dream_2015/notebooks/cnv/mutations_gbg.tsv'...\n",
      "INFO:csv2sql.core:rm -f '/home/kimlab1/database_data/biodata/recipes/az_dream_2015/notebooks/cnv/mutations_gbg.tsv'\n",
      "DEBUG:csv2sql.core:Running locally\n",
      "DEBUG:csv2sql.core:Command ran successfully!\n",
      "DEBUG:csv2sql.core:output: \n"
     ]
    }
   ],
   "source": [
    "db.import_table(\n",
    "    mutations_gbg,\n",
    "    'mutations_gbg', [\n",
    "        [('g'), True],\n",
    "    ],\n",
    ")"
   ]
  },
  {
   "cell_type": "code",
   "execution_count": 63,
   "metadata": {
    "collapsed": false
   },
   "outputs": [
    {
     "name": "stdout",
     "output_type": "stream",
     "text": [
      "Unknown ending for column: f_mutation_maybe_bad_density_gbg. Assuming mean...\n",
      "Unknown ending for column: f_snp_density_gbg. Assuming mean...\n",
      "Unknown ending for column: f_maybe_somatic_density_gbg. Assuming mean...\n",
      "Unknown ending for column: f_mutation_mild_density_gbg. Assuming mean...\n",
      "Unknown ending for column: f_mutation_very_bad_density_gbg. Assuming mean...\n",
      "Unknown ending for column: f_mutation_density_gbg. Assuming mean...\n",
      "Unknown ending for column: f_homozygous_density_gbg. Assuming mean...\n",
      "DROP TABLE IF EXISTS az_dream_2015_features.mutations_gbd;\n",
      "\n",
      "CREATE TABLE az_dream_2015_features.mutations_gbd AS\n",
      "SELECT\n",
      "d2t.drug d,\n",
      "avg(t.f_mutation_maybe_bad_density_gbg) f_mutation_maybe_bad_density_gbg_mean,\n",
      "avg(t.f_snp_density_gbg) f_snp_density_gbg_mean,\n",
      "avg(t.f_maybe_somatic_density_gbg) f_maybe_somatic_density_gbg_mean,\n",
      "avg(t.f_mutation_mild_density_gbg) f_mutation_mild_density_gbg_mean,\n",
      "avg(t.f_mutation_very_bad_density_gbg) f_mutation_very_bad_density_gbg_mean,\n",
      "avg(t.f_mutation_density_gbg) f_mutation_density_gbg_mean,\n",
      "avg(t.f_homozygous_density_gbg) f_homozygous_density_gbg_mean\n",
      "FROM az_dream_2015.drug_to_hgnc_target d2t\n",
      "LEFT JOIN az_dream_2015_features.mutations_gbg t ON (t.g = d2t.hgnc_name)\n",
      "GROUP BY d2t.drug;\n",
      "\n",
      "ALTER TABLE az_dream_2015_features.mutations_gbd\n",
      "MODIFY d VARCHAR(255);\n",
      "\n",
      "CREATE INDEX a ON az_dream_2015_features.mutations_gbd (d);\n",
      "\n",
      "Unknown ending for column: f_mutation_maybe_bad_density_gbg. Assuming mean...\n",
      "Unknown ending for column: f_snp_density_gbg. Assuming mean...\n",
      "Unknown ending for column: f_maybe_somatic_density_gbg. Assuming mean...\n",
      "Unknown ending for column: f_mutation_mild_density_gbg. Assuming mean...\n",
      "Unknown ending for column: f_mutation_very_bad_density_gbg. Assuming mean...\n",
      "Unknown ending for column: f_mutation_density_gbg. Assuming mean...\n",
      "Unknown ending for column: f_homozygous_density_gbg. Assuming mean...\n",
      "DROP TABLE IF EXISTS az_dream_2015_features.mutations_gbd_stitch;\n",
      "\n",
      "CREATE TABLE az_dream_2015_features.mutations_gbd_stitch AS\n",
      "SELECT\n",
      "d2t.drug d,\n",
      "avg(t.f_mutation_maybe_bad_density_gbg) f_mutation_maybe_bad_density_gbg_stitch_mean,\n",
      "avg(t.f_snp_density_gbg) f_snp_density_gbg_stitch_mean,\n",
      "avg(t.f_maybe_somatic_density_gbg) f_maybe_somatic_density_gbg_stitch_mean,\n",
      "avg(t.f_mutation_mild_density_gbg) f_mutation_mild_density_gbg_stitch_mean,\n",
      "avg(t.f_mutation_very_bad_density_gbg) f_mutation_very_bad_density_gbg_stitch_mean,\n",
      "avg(t.f_mutation_density_gbg) f_mutation_density_gbg_stitch_mean,\n",
      "avg(t.f_homozygous_density_gbg) f_homozygous_density_gbg_stitch_mean\n",
      "FROM az_dream_2015.drug_to_hgnc_target_stitch d2t\n",
      "LEFT JOIN az_dream_2015_features.mutations_gbg t ON (t.g = d2t.hgnc_name)\n",
      "GROUP BY d2t.drug;\n",
      "\n",
      "ALTER TABLE az_dream_2015_features.mutations_gbd_stitch\n",
      "MODIFY d VARCHAR(255);\n",
      "\n",
      "CREATE INDEX a ON az_dream_2015_features.mutations_gbd_stitch (d);\n",
      "\n"
     ]
    }
   ],
   "source": [
    "csv2sql.g2d.g2d('mutations_gbg')"
   ]
  },
  {
   "cell_type": "code",
   "execution_count": null,
   "metadata": {
    "collapsed": true
   },
   "outputs": [],
   "source": []
  },
  {
   "cell_type": "markdown",
   "metadata": {
    "run_control": {
     "marked": false
    }
   },
   "source": [
    "## c"
   ]
  },
  {
   "cell_type": "markdown",
   "metadata": {},
   "source": [
    "### Cell line info"
   ]
  },
  {
   "cell_type": "code",
   "execution_count": 23,
   "metadata": {
    "collapsed": false
   },
   "outputs": [
    {
     "data": {
      "text/html": [
       "<div>\n",
       "<table border=\"1\" class=\"dataframe\">\n",
       "  <thead>\n",
       "    <tr style=\"text-align: right;\">\n",
       "      <th></th>\n",
       "      <th>c</th>\n",
       "      <th>cell_line_ccle</th>\n",
       "      <th>cell_line_alternative</th>\n",
       "      <th>cell_line_disease_area</th>\n",
       "      <th>cell_line_tissue</th>\n",
       "      <th>cell_line_cosmic</th>\n",
       "      <th>disease_area_breast</th>\n",
       "      <th>disease_area_gi</th>\n",
       "      <th>disease_area_lung</th>\n",
       "      <th>disease_area_urology</th>\n",
       "    </tr>\n",
       "  </thead>\n",
       "  <tbody>\n",
       "    <tr>\n",
       "      <th>0</th>\n",
       "      <td>22RV1</td>\n",
       "      <td>22RV1_PROSTATE</td>\n",
       "      <td>22RV1</td>\n",
       "      <td>Urology</td>\n",
       "      <td>male genital system</td>\n",
       "      <td>924100</td>\n",
       "      <td>0</td>\n",
       "      <td>0</td>\n",
       "      <td>0</td>\n",
       "      <td>1</td>\n",
       "    </tr>\n",
       "    <tr>\n",
       "      <th>1</th>\n",
       "      <td>647-V</td>\n",
       "      <td>647V_URINARY_TRACT</td>\n",
       "      <td>647V</td>\n",
       "      <td>Urology</td>\n",
       "      <td>urinary tract</td>\n",
       "      <td>906797</td>\n",
       "      <td>0</td>\n",
       "      <td>0</td>\n",
       "      <td>0</td>\n",
       "      <td>1</td>\n",
       "    </tr>\n",
       "    <tr>\n",
       "      <th>2</th>\n",
       "      <td>A549</td>\n",
       "      <td>A549_LUNG</td>\n",
       "      <td>A549</td>\n",
       "      <td>Lung</td>\n",
       "      <td>lung</td>\n",
       "      <td>905949</td>\n",
       "      <td>0</td>\n",
       "      <td>0</td>\n",
       "      <td>1</td>\n",
       "      <td>0</td>\n",
       "    </tr>\n",
       "    <tr>\n",
       "      <th>3</th>\n",
       "      <td>BFTC-905</td>\n",
       "      <td>BFTC905_URINARY_TRACT</td>\n",
       "      <td>BFTC905</td>\n",
       "      <td>Urology</td>\n",
       "      <td>urinary tract</td>\n",
       "      <td>910926</td>\n",
       "      <td>0</td>\n",
       "      <td>0</td>\n",
       "      <td>0</td>\n",
       "      <td>1</td>\n",
       "    </tr>\n",
       "    <tr>\n",
       "      <th>4</th>\n",
       "      <td>BT-20</td>\n",
       "      <td>BT20_BREAST</td>\n",
       "      <td>BT20</td>\n",
       "      <td>Breast</td>\n",
       "      <td>breast</td>\n",
       "      <td>906801</td>\n",
       "      <td>1</td>\n",
       "      <td>0</td>\n",
       "      <td>0</td>\n",
       "      <td>0</td>\n",
       "    </tr>\n",
       "  </tbody>\n",
       "</table>\n",
       "</div>"
      ],
      "text/plain": [
       "          c         cell_line_ccle cell_line_alternative cell_line_disease_area     cell_line_tissue  cell_line_cosmic  disease_area_breast  disease_area_gi  disease_area_lung  disease_area_urology\n",
       "0     22RV1         22RV1_PROSTATE                 22RV1                Urology  male genital system            924100                    0                0                  0                     1\n",
       "1     647-V     647V_URINARY_TRACT                  647V                Urology        urinary tract            906797                    0                0                  0                     1\n",
       "2      A549              A549_LUNG                  A549                   Lung                 lung            905949                    0                0                  1                     0\n",
       "3  BFTC-905  BFTC905_URINARY_TRACT               BFTC905                Urology        urinary tract            910926                    0                0                  0                     1\n",
       "4     BT-20            BT20_BREAST                  BT20                 Breast               breast            906801                    1                0                  0                     0"
      ]
     },
     "execution_count": 23,
     "metadata": {},
     "output_type": "execute_result"
    }
   ],
   "source": [
    "cell_info.head()"
   ]
  },
  {
   "cell_type": "code",
   "execution_count": 27,
   "metadata": {
    "collapsed": false
   },
   "outputs": [
    {
     "name": "stderr",
     "output_type": "stream",
     "text": [
      "DEBUG:csv2sql.core:Uncompressing file...\n",
      "INFO:csv2sql.core:bzip2 -dkf '/home/kimlab1/database_data/biodata/recipes/az_dream_2015/notebooks/cnv/cell_info_gbc.tsv.bz2'\n",
      "DEBUG:csv2sql.core:Running on host: 'xxx.xxx.xxx.xxx'\n",
      "DEBUG:csv2sql.core:Initializing SSH client: 'os.environ['STG_SERVER_IP']'\n",
      "DEBUG:csv2sql.core:Command ran successfully!\n",
      "DEBUG:csv2sql.core:output: \n"
     ]
    },
    {
     "name": "stdout",
     "output_type": "stream",
     "text": [
      "FML\n",
      "FML\n",
      "FML"
     ]
    },
    {
     "name": "stderr",
     "output_type": "stream",
     "text": [
      "DEBUG:csv2sql.core:Loading data into MySQL table: 'cell_info_gbc'...\n",
      "INFO:csv2sql.core:mysql  az_dream_2015_features -e \"load data local infile '/home/kimlab1/database_data/biodata/recipes/az_dream_2015/notebooks/cnv/cell_info_gbc.tsv' into table `cell_info_gbc` ignore 1 lines;  show warnings;\" \n",
      "DEBUG:csv2sql.core:Running locally\n",
      "DEBUG:csv2sql.core:Command ran successfully!\n",
      "DEBUG:csv2sql.core:output: \n",
      "DEBUG:csv2sql.core:Removing uncompressed file '/home/kimlab1/database_data/biodata/recipes/az_dream_2015/notebooks/cnv/cell_info_gbc.tsv'...\n",
      "INFO:csv2sql.core:rm -f '/home/kimlab1/database_data/biodata/recipes/az_dream_2015/notebooks/cnv/cell_info_gbc.tsv'\n",
      "DEBUG:csv2sql.core:Running locally\n",
      "DEBUG:csv2sql.core:Command ran successfully!\n",
      "DEBUG:csv2sql.core:output: \n"
     ]
    },
    {
     "name": "stdout",
     "output_type": "stream",
     "text": [
      "\n"
     ]
    }
   ],
   "source": [
    "db.import_table(\n",
    "    cell_info[['c', 'disease_area_breast', 'disease_area_gi', 'disease_area_lung', 'disease_area_urology']],\n",
    "    'cell_info_gbc', [\n",
    "        [('c'), True],\n",
    "    ],\n",
    ")"
   ]
  },
  {
   "cell_type": "code",
   "execution_count": null,
   "metadata": {
    "collapsed": true
   },
   "outputs": [],
   "source": []
  },
  {
   "cell_type": "markdown",
   "metadata": {},
   "source": [
    "### Mutations"
   ]
  },
  {
   "cell_type": "code",
   "execution_count": 64,
   "metadata": {
    "collapsed": false,
    "run_control": {
     "marked": false
    }
   },
   "outputs": [
    {
     "data": {
      "text/html": [
       "<div>\n",
       "<table border=\"1\" class=\"dataframe\">\n",
       "  <thead>\n",
       "    <tr style=\"text-align: right;\">\n",
       "      <th></th>\n",
       "      <th>c</th>\n",
       "      <th>age</th>\n",
       "      <th>tumour_origin_NS</th>\n",
       "      <th>tumour_origin_metastasis</th>\n",
       "      <th>tumour_origin_primary</th>\n",
       "      <th>primary_histology_carcinoma</th>\n",
       "      <th>primary_histology_lymphoid_neoplasm</th>\n",
       "      <th>primary_histology_malignant_melanoma</th>\n",
       "      <th>histology_subtype_NS</th>\n",
       "      <th>histology_subtype_adenocarcinoma</th>\n",
       "      <th>histology_subtype_bronchioloalveolar_adenocarcinoma</th>\n",
       "      <th>histology_subtype_ductal_carcinoma</th>\n",
       "      <th>histology_subtype_mixed_adenosquamous_carcinoma</th>\n",
       "      <th>histology_subtype_non_small_cell_carcinoma</th>\n",
       "      <th>histology_subtype_plasma_cell_myeloma</th>\n",
       "      <th>histology_subtype_small_cell_carcinoma</th>\n",
       "      <th>histology_subtype_squamous_cell_carcinoma</th>\n",
       "      <th>histology_subtype_transitional_cell_carcinoma</th>\n",
       "    </tr>\n",
       "  </thead>\n",
       "  <tbody>\n",
       "    <tr>\n",
       "      <th>0</th>\n",
       "      <td>HCC1806</td>\n",
       "      <td>60</td>\n",
       "      <td>0</td>\n",
       "      <td>0</td>\n",
       "      <td>1</td>\n",
       "      <td>1</td>\n",
       "      <td>0</td>\n",
       "      <td>0</td>\n",
       "      <td>0</td>\n",
       "      <td>0</td>\n",
       "      <td>0</td>\n",
       "      <td>1</td>\n",
       "      <td>0</td>\n",
       "      <td>0</td>\n",
       "      <td>0</td>\n",
       "      <td>0</td>\n",
       "      <td>0</td>\n",
       "      <td>0</td>\n",
       "    </tr>\n",
       "    <tr>\n",
       "      <th>1</th>\n",
       "      <td>NCI-H358</td>\n",
       "      <td>NaN</td>\n",
       "      <td>0</td>\n",
       "      <td>0</td>\n",
       "      <td>1</td>\n",
       "      <td>1</td>\n",
       "      <td>0</td>\n",
       "      <td>0</td>\n",
       "      <td>0</td>\n",
       "      <td>0</td>\n",
       "      <td>1</td>\n",
       "      <td>0</td>\n",
       "      <td>0</td>\n",
       "      <td>0</td>\n",
       "      <td>0</td>\n",
       "      <td>0</td>\n",
       "      <td>0</td>\n",
       "      <td>0</td>\n",
       "    </tr>\n",
       "    <tr>\n",
       "      <th>2</th>\n",
       "      <td>NCI-H3122</td>\n",
       "      <td>NaN</td>\n",
       "      <td>1</td>\n",
       "      <td>0</td>\n",
       "      <td>0</td>\n",
       "      <td>1</td>\n",
       "      <td>0</td>\n",
       "      <td>0</td>\n",
       "      <td>0</td>\n",
       "      <td>1</td>\n",
       "      <td>0</td>\n",
       "      <td>0</td>\n",
       "      <td>0</td>\n",
       "      <td>0</td>\n",
       "      <td>0</td>\n",
       "      <td>0</td>\n",
       "      <td>0</td>\n",
       "      <td>0</td>\n",
       "    </tr>\n",
       "    <tr>\n",
       "      <th>3</th>\n",
       "      <td>NCI-H747</td>\n",
       "      <td>69</td>\n",
       "      <td>0</td>\n",
       "      <td>1</td>\n",
       "      <td>0</td>\n",
       "      <td>1</td>\n",
       "      <td>0</td>\n",
       "      <td>0</td>\n",
       "      <td>0</td>\n",
       "      <td>1</td>\n",
       "      <td>0</td>\n",
       "      <td>0</td>\n",
       "      <td>0</td>\n",
       "      <td>0</td>\n",
       "      <td>0</td>\n",
       "      <td>0</td>\n",
       "      <td>0</td>\n",
       "      <td>0</td>\n",
       "    </tr>\n",
       "    <tr>\n",
       "      <th>4</th>\n",
       "      <td>T-24</td>\n",
       "      <td>81</td>\n",
       "      <td>0</td>\n",
       "      <td>0</td>\n",
       "      <td>1</td>\n",
       "      <td>1</td>\n",
       "      <td>0</td>\n",
       "      <td>0</td>\n",
       "      <td>1</td>\n",
       "      <td>0</td>\n",
       "      <td>0</td>\n",
       "      <td>0</td>\n",
       "      <td>0</td>\n",
       "      <td>0</td>\n",
       "      <td>0</td>\n",
       "      <td>0</td>\n",
       "      <td>0</td>\n",
       "      <td>0</td>\n",
       "    </tr>\n",
       "  </tbody>\n",
       "</table>\n",
       "</div>"
      ],
      "text/plain": [
       "           c  age  tumour_origin_NS  tumour_origin_metastasis  tumour_origin_primary  primary_histology_carcinoma  primary_histology_lymphoid_neoplasm  primary_histology_malignant_melanoma  histology_subtype_NS  histology_subtype_adenocarcinoma  histology_subtype_bronchioloalveolar_adenocarcinoma  histology_subtype_ductal_carcinoma  histology_subtype_mixed_adenosquamous_carcinoma  histology_subtype_non_small_cell_carcinoma  histology_subtype_plasma_cell_myeloma  histology_subtype_small_cell_carcinoma  histology_subtype_squamous_cell_carcinoma  histology_subtype_transitional_cell_carcinoma\n",
       "0    HCC1806   60                 0                         0                      1                            1                                    0                                     0                     0                                 0                                                  0                                     1                                                0                                           0                                      0                                       0                                          0                                              0\n",
       "1   NCI-H358  NaN                 0                         0                      1                            1                                    0                                     0                     0                                 0                                                  1                                     0                                                0                                           0                                      0                                       0                                          0                                              0\n",
       "2  NCI-H3122  NaN                 1                         0                      0                            1                                    0                                     0                     0                                 1                                                  0                                     0                                                0                                           0                                      0                                       0                                          0                                              0\n",
       "3   NCI-H747   69                 0                         1                      0                            1                                    0                                     0                     0                                 1                                                  0                                     0                                                0                                           0                                      0                                       0                                          0                                              0\n",
       "4       T-24   81                 0                         0                      1                            1                                    0                                     0                     1                                 0                                                  0                                     0                                                0                                           0                                      0                                       0                                          0                                              0"
      ]
     },
     "execution_count": 64,
     "metadata": {},
     "output_type": "execute_result"
    }
   ],
   "source": [
    "useful_features = [\n",
    "    'tumour_origin', 'age', 'primary_histology', 'histology_subtype',\n",
    "]\n",
    "mutations_gbc_head = (\n",
    "    pd.get_dummies(mutations[['c'] + useful_features].drop_duplicates().set_index('c'))\n",
    "    .reset_index()\n",
    ")\n",
    "mutations_gbc_head.head()"
   ]
  },
  {
   "cell_type": "code",
   "execution_count": 65,
   "metadata": {
    "collapsed": false
   },
   "outputs": [],
   "source": [
    "mutations_gbc = (\n",
    "    mutations_gbgc\n",
    "    .groupby('c')\n",
    "    .agg(['max', 'min', 'mean', 'std', 'median'])\n",
    "    .rename(columns=lambda x: x.replace('_gbgc', '_gbc'))\n",
    "    .reset_index()\n",
    ")\n",
    "mutations_gbc.columns = ['_'.join(c).strip('_') for c in mutations_gbc.columns]"
   ]
  },
  {
   "cell_type": "code",
   "execution_count": 66,
   "metadata": {
    "collapsed": false
   },
   "outputs": [
    {
     "data": {
      "text/html": [
       "<div>\n",
       "<table border=\"1\" class=\"dataframe\">\n",
       "  <thead>\n",
       "    <tr style=\"text-align: right;\">\n",
       "      <th></th>\n",
       "      <th>c</th>\n",
       "      <th>f_mutation_maybe_bad_density_gbc_max</th>\n",
       "      <th>f_mutation_maybe_bad_density_gbc_min</th>\n",
       "      <th>f_mutation_maybe_bad_density_gbc_mean</th>\n",
       "      <th>f_mutation_maybe_bad_density_gbc_std</th>\n",
       "      <th>f_mutation_maybe_bad_density_gbc_median</th>\n",
       "      <th>f_snp_density_gbc_max</th>\n",
       "      <th>f_snp_density_gbc_min</th>\n",
       "      <th>f_snp_density_gbc_mean</th>\n",
       "      <th>f_snp_density_gbc_std</th>\n",
       "      <th>f_snp_density_gbc_median</th>\n",
       "      <th>f_maybe_somatic_density_gbc_max</th>\n",
       "      <th>f_maybe_somatic_density_gbc_min</th>\n",
       "      <th>f_maybe_somatic_density_gbc_mean</th>\n",
       "      <th>f_maybe_somatic_density_gbc_std</th>\n",
       "      <th>f_maybe_somatic_density_gbc_median</th>\n",
       "      <th>f_mutation_mild_density_gbc_max</th>\n",
       "      <th>f_mutation_mild_density_gbc_min</th>\n",
       "      <th>f_mutation_mild_density_gbc_mean</th>\n",
       "      <th>f_mutation_mild_density_gbc_std</th>\n",
       "      <th>f_mutation_mild_density_gbc_median</th>\n",
       "      <th>f_mutation_very_bad_density_gbc_max</th>\n",
       "      <th>f_mutation_very_bad_density_gbc_min</th>\n",
       "      <th>f_mutation_very_bad_density_gbc_mean</th>\n",
       "      <th>f_mutation_very_bad_density_gbc_std</th>\n",
       "      <th>f_mutation_very_bad_density_gbc_median</th>\n",
       "      <th>f_mutation_density_gbc_max</th>\n",
       "      <th>f_mutation_density_gbc_min</th>\n",
       "      <th>f_mutation_density_gbc_mean</th>\n",
       "      <th>f_mutation_density_gbc_std</th>\n",
       "      <th>f_mutation_density_gbc_median</th>\n",
       "      <th>f_homozygous_density_gbc_max</th>\n",
       "      <th>f_homozygous_density_gbc_min</th>\n",
       "      <th>f_homozygous_density_gbc_mean</th>\n",
       "      <th>f_homozygous_density_gbc_std</th>\n",
       "      <th>f_homozygous_density_gbc_median</th>\n",
       "    </tr>\n",
       "  </thead>\n",
       "  <tbody>\n",
       "    <tr>\n",
       "      <th>0</th>\n",
       "      <td>22RV1</td>\n",
       "      <td>0.005848</td>\n",
       "      <td>0</td>\n",
       "      <td>0.000350</td>\n",
       "      <td>0.000517</td>\n",
       "      <td>0.000180</td>\n",
       "      <td>0.001883</td>\n",
       "      <td>0</td>\n",
       "      <td>0.000011</td>\n",
       "      <td>0.000089</td>\n",
       "      <td>0</td>\n",
       "      <td>0.003003</td>\n",
       "      <td>0</td>\n",
       "      <td>0.000068</td>\n",
       "      <td>0.000244</td>\n",
       "      <td>0</td>\n",
       "      <td>0.007407</td>\n",
       "      <td>0</td>\n",
       "      <td>0.000140</td>\n",
       "      <td>0.000364</td>\n",
       "      <td>0</td>\n",
       "      <td>0.004065</td>\n",
       "      <td>0</td>\n",
       "      <td>0.000121</td>\n",
       "      <td>0.000354</td>\n",
       "      <td>0</td>\n",
       "      <td>0.007407</td>\n",
       "      <td>0.000039</td>\n",
       "      <td>0.000657</td>\n",
       "      <td>0.000584</td>\n",
       "      <td>0.000495</td>\n",
       "      <td>0.002584</td>\n",
       "      <td>0</td>\n",
       "      <td>0.000012</td>\n",
       "      <td>0.000103</td>\n",
       "      <td>0</td>\n",
       "    </tr>\n",
       "    <tr>\n",
       "      <th>1</th>\n",
       "      <td>647-V</td>\n",
       "      <td>0.003788</td>\n",
       "      <td>0</td>\n",
       "      <td>0.000370</td>\n",
       "      <td>0.000520</td>\n",
       "      <td>0.000207</td>\n",
       "      <td>0.002208</td>\n",
       "      <td>0</td>\n",
       "      <td>0.000025</td>\n",
       "      <td>0.000177</td>\n",
       "      <td>0</td>\n",
       "      <td>0.003663</td>\n",
       "      <td>0</td>\n",
       "      <td>0.000043</td>\n",
       "      <td>0.000228</td>\n",
       "      <td>0</td>\n",
       "      <td>0.003300</td>\n",
       "      <td>0</td>\n",
       "      <td>0.000151</td>\n",
       "      <td>0.000353</td>\n",
       "      <td>0</td>\n",
       "      <td>0.002646</td>\n",
       "      <td>0</td>\n",
       "      <td>0.000055</td>\n",
       "      <td>0.000251</td>\n",
       "      <td>0</td>\n",
       "      <td>0.004016</td>\n",
       "      <td>0.000010</td>\n",
       "      <td>0.000640</td>\n",
       "      <td>0.000582</td>\n",
       "      <td>0.000481</td>\n",
       "      <td>0.003788</td>\n",
       "      <td>0</td>\n",
       "      <td>0.000076</td>\n",
       "      <td>0.000270</td>\n",
       "      <td>0</td>\n",
       "    </tr>\n",
       "    <tr>\n",
       "      <th>2</th>\n",
       "      <td>A549</td>\n",
       "      <td>0.003546</td>\n",
       "      <td>0</td>\n",
       "      <td>0.000334</td>\n",
       "      <td>0.000449</td>\n",
       "      <td>0.000193</td>\n",
       "      <td>0.001927</td>\n",
       "      <td>0</td>\n",
       "      <td>0.000019</td>\n",
       "      <td>0.000140</td>\n",
       "      <td>0</td>\n",
       "      <td>0.003546</td>\n",
       "      <td>0</td>\n",
       "      <td>0.000149</td>\n",
       "      <td>0.000356</td>\n",
       "      <td>0</td>\n",
       "      <td>0.002825</td>\n",
       "      <td>0</td>\n",
       "      <td>0.000119</td>\n",
       "      <td>0.000299</td>\n",
       "      <td>0</td>\n",
       "      <td>0.002646</td>\n",
       "      <td>0</td>\n",
       "      <td>0.000056</td>\n",
       "      <td>0.000247</td>\n",
       "      <td>0</td>\n",
       "      <td>0.003546</td>\n",
       "      <td>0.000010</td>\n",
       "      <td>0.000561</td>\n",
       "      <td>0.000482</td>\n",
       "      <td>0.000447</td>\n",
       "      <td>0.001867</td>\n",
       "      <td>0</td>\n",
       "      <td>0.000080</td>\n",
       "      <td>0.000237</td>\n",
       "      <td>0</td>\n",
       "    </tr>\n",
       "    <tr>\n",
       "      <th>3</th>\n",
       "      <td>BFTC-905</td>\n",
       "      <td>0.014493</td>\n",
       "      <td>0</td>\n",
       "      <td>0.000388</td>\n",
       "      <td>0.000690</td>\n",
       "      <td>0.000191</td>\n",
       "      <td>0.002525</td>\n",
       "      <td>0</td>\n",
       "      <td>0.000024</td>\n",
       "      <td>0.000158</td>\n",
       "      <td>0</td>\n",
       "      <td>0.002762</td>\n",
       "      <td>0</td>\n",
       "      <td>0.000033</td>\n",
       "      <td>0.000187</td>\n",
       "      <td>0</td>\n",
       "      <td>0.003175</td>\n",
       "      <td>0</td>\n",
       "      <td>0.000179</td>\n",
       "      <td>0.000380</td>\n",
       "      <td>0</td>\n",
       "      <td>0.002506</td>\n",
       "      <td>0</td>\n",
       "      <td>0.000033</td>\n",
       "      <td>0.000183</td>\n",
       "      <td>0</td>\n",
       "      <td>0.014493</td>\n",
       "      <td>0.000023</td>\n",
       "      <td>0.000645</td>\n",
       "      <td>0.000695</td>\n",
       "      <td>0.000495</td>\n",
       "      <td>0.003509</td>\n",
       "      <td>0</td>\n",
       "      <td>0.000140</td>\n",
       "      <td>0.000369</td>\n",
       "      <td>0</td>\n",
       "    </tr>\n",
       "    <tr>\n",
       "      <th>4</th>\n",
       "      <td>BT-20</td>\n",
       "      <td>0.005291</td>\n",
       "      <td>0</td>\n",
       "      <td>0.000334</td>\n",
       "      <td>0.000501</td>\n",
       "      <td>0.000179</td>\n",
       "      <td>0.001832</td>\n",
       "      <td>0</td>\n",
       "      <td>0.000018</td>\n",
       "      <td>0.000145</td>\n",
       "      <td>0</td>\n",
       "      <td>0.004975</td>\n",
       "      <td>0</td>\n",
       "      <td>0.000049</td>\n",
       "      <td>0.000333</td>\n",
       "      <td>0</td>\n",
       "      <td>0.003704</td>\n",
       "      <td>0</td>\n",
       "      <td>0.000161</td>\n",
       "      <td>0.000388</td>\n",
       "      <td>0</td>\n",
       "      <td>0.002545</td>\n",
       "      <td>0</td>\n",
       "      <td>0.000038</td>\n",
       "      <td>0.000205</td>\n",
       "      <td>0</td>\n",
       "      <td>0.005291</td>\n",
       "      <td>0.000010</td>\n",
       "      <td>0.000581</td>\n",
       "      <td>0.000584</td>\n",
       "      <td>0.000422</td>\n",
       "      <td>0.003704</td>\n",
       "      <td>0</td>\n",
       "      <td>0.000080</td>\n",
       "      <td>0.000310</td>\n",
       "      <td>0</td>\n",
       "    </tr>\n",
       "  </tbody>\n",
       "</table>\n",
       "</div>"
      ],
      "text/plain": [
       "          c  f_mutation_maybe_bad_density_gbc_max  f_mutation_maybe_bad_density_gbc_min  f_mutation_maybe_bad_density_gbc_mean  f_mutation_maybe_bad_density_gbc_std  f_mutation_maybe_bad_density_gbc_median  f_snp_density_gbc_max  f_snp_density_gbc_min  f_snp_density_gbc_mean  f_snp_density_gbc_std  f_snp_density_gbc_median  f_maybe_somatic_density_gbc_max  f_maybe_somatic_density_gbc_min  f_maybe_somatic_density_gbc_mean  f_maybe_somatic_density_gbc_std  f_maybe_somatic_density_gbc_median  f_mutation_mild_density_gbc_max  f_mutation_mild_density_gbc_min  f_mutation_mild_density_gbc_mean  f_mutation_mild_density_gbc_std  f_mutation_mild_density_gbc_median  f_mutation_very_bad_density_gbc_max  f_mutation_very_bad_density_gbc_min  f_mutation_very_bad_density_gbc_mean  f_mutation_very_bad_density_gbc_std  f_mutation_very_bad_density_gbc_median  f_mutation_density_gbc_max  f_mutation_density_gbc_min  f_mutation_density_gbc_mean  f_mutation_density_gbc_std  f_mutation_density_gbc_median  \\\n",
       "0     22RV1                              0.005848                                     0                               0.000350                              0.000517                                 0.000180               0.001883                      0                0.000011               0.000089                         0                         0.003003                                0                          0.000068                         0.000244                                   0                         0.007407                                0                          0.000140                         0.000364                                   0                             0.004065                                    0                              0.000121                             0.000354                                       0                    0.007407                    0.000039                     0.000657                    0.000584                       0.000495   \n",
       "1     647-V                              0.003788                                     0                               0.000370                              0.000520                                 0.000207               0.002208                      0                0.000025               0.000177                         0                         0.003663                                0                          0.000043                         0.000228                                   0                         0.003300                                0                          0.000151                         0.000353                                   0                             0.002646                                    0                              0.000055                             0.000251                                       0                    0.004016                    0.000010                     0.000640                    0.000582                       0.000481   \n",
       "2      A549                              0.003546                                     0                               0.000334                              0.000449                                 0.000193               0.001927                      0                0.000019               0.000140                         0                         0.003546                                0                          0.000149                         0.000356                                   0                         0.002825                                0                          0.000119                         0.000299                                   0                             0.002646                                    0                              0.000056                             0.000247                                       0                    0.003546                    0.000010                     0.000561                    0.000482                       0.000447   \n",
       "3  BFTC-905                              0.014493                                     0                               0.000388                              0.000690                                 0.000191               0.002525                      0                0.000024               0.000158                         0                         0.002762                                0                          0.000033                         0.000187                                   0                         0.003175                                0                          0.000179                         0.000380                                   0                             0.002506                                    0                              0.000033                             0.000183                                       0                    0.014493                    0.000023                     0.000645                    0.000695                       0.000495   \n",
       "4     BT-20                              0.005291                                     0                               0.000334                              0.000501                                 0.000179               0.001832                      0                0.000018               0.000145                         0                         0.004975                                0                          0.000049                         0.000333                                   0                         0.003704                                0                          0.000161                         0.000388                                   0                             0.002545                                    0                              0.000038                             0.000205                                       0                    0.005291                    0.000010                     0.000581                    0.000584                       0.000422   \n",
       "\n",
       "   f_homozygous_density_gbc_max  f_homozygous_density_gbc_min  f_homozygous_density_gbc_mean  f_homozygous_density_gbc_std  f_homozygous_density_gbc_median  \n",
       "0                      0.002584                             0                       0.000012                      0.000103                                0  \n",
       "1                      0.003788                             0                       0.000076                      0.000270                                0  \n",
       "2                      0.001867                             0                       0.000080                      0.000237                                0  \n",
       "3                      0.003509                             0                       0.000140                      0.000369                                0  \n",
       "4                      0.003704                             0                       0.000080                      0.000310                                0  "
      ]
     },
     "execution_count": 66,
     "metadata": {},
     "output_type": "execute_result"
    }
   ],
   "source": [
    "mutations_gbc.head()"
   ]
  },
  {
   "cell_type": "code",
   "execution_count": 67,
   "metadata": {
    "collapsed": false
   },
   "outputs": [],
   "source": [
    "mutations_gbc_all = (\n",
    "    mutations_gbc_head\n",
    "    .merge(mutations_gbc, on=['c'], how='outer')\n",
    ")"
   ]
  },
  {
   "cell_type": "code",
   "execution_count": 68,
   "metadata": {
    "collapsed": false
   },
   "outputs": [
    {
     "data": {
      "text/html": [
       "<div>\n",
       "<table border=\"1\" class=\"dataframe\">\n",
       "  <thead>\n",
       "    <tr style=\"text-align: right;\">\n",
       "      <th></th>\n",
       "      <th>c</th>\n",
       "      <th>age</th>\n",
       "      <th>tumour_origin_NS</th>\n",
       "      <th>tumour_origin_metastasis</th>\n",
       "      <th>tumour_origin_primary</th>\n",
       "      <th>primary_histology_carcinoma</th>\n",
       "      <th>primary_histology_lymphoid_neoplasm</th>\n",
       "      <th>primary_histology_malignant_melanoma</th>\n",
       "      <th>histology_subtype_NS</th>\n",
       "      <th>histology_subtype_adenocarcinoma</th>\n",
       "      <th>histology_subtype_bronchioloalveolar_adenocarcinoma</th>\n",
       "      <th>histology_subtype_ductal_carcinoma</th>\n",
       "      <th>histology_subtype_mixed_adenosquamous_carcinoma</th>\n",
       "      <th>histology_subtype_non_small_cell_carcinoma</th>\n",
       "      <th>histology_subtype_plasma_cell_myeloma</th>\n",
       "      <th>histology_subtype_small_cell_carcinoma</th>\n",
       "      <th>histology_subtype_squamous_cell_carcinoma</th>\n",
       "      <th>histology_subtype_transitional_cell_carcinoma</th>\n",
       "      <th>f_mutation_maybe_bad_density_gbc_max</th>\n",
       "      <th>f_mutation_maybe_bad_density_gbc_min</th>\n",
       "      <th>f_mutation_maybe_bad_density_gbc_mean</th>\n",
       "      <th>f_mutation_maybe_bad_density_gbc_std</th>\n",
       "      <th>f_mutation_maybe_bad_density_gbc_median</th>\n",
       "      <th>f_snp_density_gbc_max</th>\n",
       "      <th>f_snp_density_gbc_min</th>\n",
       "      <th>f_snp_density_gbc_mean</th>\n",
       "      <th>f_snp_density_gbc_std</th>\n",
       "      <th>f_snp_density_gbc_median</th>\n",
       "      <th>f_maybe_somatic_density_gbc_max</th>\n",
       "      <th>f_maybe_somatic_density_gbc_min</th>\n",
       "      <th>f_maybe_somatic_density_gbc_mean</th>\n",
       "      <th>f_maybe_somatic_density_gbc_std</th>\n",
       "      <th>f_maybe_somatic_density_gbc_median</th>\n",
       "      <th>f_mutation_mild_density_gbc_max</th>\n",
       "      <th>f_mutation_mild_density_gbc_min</th>\n",
       "      <th>f_mutation_mild_density_gbc_mean</th>\n",
       "      <th>f_mutation_mild_density_gbc_std</th>\n",
       "      <th>f_mutation_mild_density_gbc_median</th>\n",
       "      <th>f_mutation_very_bad_density_gbc_max</th>\n",
       "      <th>f_mutation_very_bad_density_gbc_min</th>\n",
       "      <th>f_mutation_very_bad_density_gbc_mean</th>\n",
       "      <th>f_mutation_very_bad_density_gbc_std</th>\n",
       "      <th>f_mutation_very_bad_density_gbc_median</th>\n",
       "      <th>f_mutation_density_gbc_max</th>\n",
       "      <th>f_mutation_density_gbc_min</th>\n",
       "      <th>f_mutation_density_gbc_mean</th>\n",
       "      <th>f_mutation_density_gbc_std</th>\n",
       "      <th>f_mutation_density_gbc_median</th>\n",
       "      <th>f_homozygous_density_gbc_max</th>\n",
       "      <th>f_homozygous_density_gbc_min</th>\n",
       "      <th>f_homozygous_density_gbc_mean</th>\n",
       "      <th>f_homozygous_density_gbc_std</th>\n",
       "      <th>f_homozygous_density_gbc_median</th>\n",
       "    </tr>\n",
       "  </thead>\n",
       "  <tbody>\n",
       "    <tr>\n",
       "      <th>0</th>\n",
       "      <td>HCC1806</td>\n",
       "      <td>60</td>\n",
       "      <td>0</td>\n",
       "      <td>0</td>\n",
       "      <td>1</td>\n",
       "      <td>1</td>\n",
       "      <td>0</td>\n",
       "      <td>0</td>\n",
       "      <td>0</td>\n",
       "      <td>0</td>\n",
       "      <td>0</td>\n",
       "      <td>1</td>\n",
       "      <td>0</td>\n",
       "      <td>0</td>\n",
       "      <td>0</td>\n",
       "      <td>0</td>\n",
       "      <td>0</td>\n",
       "      <td>0</td>\n",
       "      <td>0.004016</td>\n",
       "      <td>0</td>\n",
       "      <td>0.000374</td>\n",
       "      <td>0.000533</td>\n",
       "      <td>0.000211</td>\n",
       "      <td>0.001086</td>\n",
       "      <td>0</td>\n",
       "      <td>0.000028</td>\n",
       "      <td>0.000137</td>\n",
       "      <td>0</td>\n",
       "      <td>0.002110</td>\n",
       "      <td>0</td>\n",
       "      <td>0.000041</td>\n",
       "      <td>0.000186</td>\n",
       "      <td>0</td>\n",
       "      <td>0.002625</td>\n",
       "      <td>0</td>\n",
       "      <td>0.000170</td>\n",
       "      <td>0.000354</td>\n",
       "      <td>0</td>\n",
       "      <td>0.002525</td>\n",
       "      <td>0</td>\n",
       "      <td>0.000038</td>\n",
       "      <td>0.000209</td>\n",
       "      <td>0</td>\n",
       "      <td>0.004016</td>\n",
       "      <td>0.000044</td>\n",
       "      <td>0.000624</td>\n",
       "      <td>0.000535</td>\n",
       "      <td>0.000488</td>\n",
       "      <td>0.003472</td>\n",
       "      <td>0</td>\n",
       "      <td>0.000181</td>\n",
       "      <td>0.000423</td>\n",
       "      <td>0</td>\n",
       "    </tr>\n",
       "    <tr>\n",
       "      <th>1</th>\n",
       "      <td>NCI-H358</td>\n",
       "      <td>NaN</td>\n",
       "      <td>0</td>\n",
       "      <td>0</td>\n",
       "      <td>1</td>\n",
       "      <td>1</td>\n",
       "      <td>0</td>\n",
       "      <td>0</td>\n",
       "      <td>0</td>\n",
       "      <td>0</td>\n",
       "      <td>1</td>\n",
       "      <td>0</td>\n",
       "      <td>0</td>\n",
       "      <td>0</td>\n",
       "      <td>0</td>\n",
       "      <td>0</td>\n",
       "      <td>0</td>\n",
       "      <td>0</td>\n",
       "      <td>0.004329</td>\n",
       "      <td>0</td>\n",
       "      <td>0.000399</td>\n",
       "      <td>0.000528</td>\n",
       "      <td>0.000252</td>\n",
       "      <td>0.001199</td>\n",
       "      <td>0</td>\n",
       "      <td>0.000012</td>\n",
       "      <td>0.000091</td>\n",
       "      <td>0</td>\n",
       "      <td>0.003268</td>\n",
       "      <td>0</td>\n",
       "      <td>0.000020</td>\n",
       "      <td>0.000155</td>\n",
       "      <td>0</td>\n",
       "      <td>0.003205</td>\n",
       "      <td>0</td>\n",
       "      <td>0.000142</td>\n",
       "      <td>0.000337</td>\n",
       "      <td>0</td>\n",
       "      <td>0.001938</td>\n",
       "      <td>0</td>\n",
       "      <td>0.000048</td>\n",
       "      <td>0.000203</td>\n",
       "      <td>0</td>\n",
       "      <td>0.004329</td>\n",
       "      <td>0.000025</td>\n",
       "      <td>0.000642</td>\n",
       "      <td>0.000530</td>\n",
       "      <td>0.000510</td>\n",
       "      <td>0.002861</td>\n",
       "      <td>0</td>\n",
       "      <td>0.000047</td>\n",
       "      <td>0.000219</td>\n",
       "      <td>0</td>\n",
       "    </tr>\n",
       "    <tr>\n",
       "      <th>2</th>\n",
       "      <td>NCI-H3122</td>\n",
       "      <td>NaN</td>\n",
       "      <td>1</td>\n",
       "      <td>0</td>\n",
       "      <td>0</td>\n",
       "      <td>1</td>\n",
       "      <td>0</td>\n",
       "      <td>0</td>\n",
       "      <td>0</td>\n",
       "      <td>1</td>\n",
       "      <td>0</td>\n",
       "      <td>0</td>\n",
       "      <td>0</td>\n",
       "      <td>0</td>\n",
       "      <td>0</td>\n",
       "      <td>0</td>\n",
       "      <td>0</td>\n",
       "      <td>0</td>\n",
       "      <td>0.015152</td>\n",
       "      <td>0</td>\n",
       "      <td>0.000380</td>\n",
       "      <td>0.000827</td>\n",
       "      <td>0.000232</td>\n",
       "      <td>0.003831</td>\n",
       "      <td>0</td>\n",
       "      <td>0.000026</td>\n",
       "      <td>0.000227</td>\n",
       "      <td>0</td>\n",
       "      <td>0.001475</td>\n",
       "      <td>0</td>\n",
       "      <td>0.000027</td>\n",
       "      <td>0.000142</td>\n",
       "      <td>0</td>\n",
       "      <td>0.003704</td>\n",
       "      <td>0</td>\n",
       "      <td>0.000165</td>\n",
       "      <td>0.000410</td>\n",
       "      <td>0</td>\n",
       "      <td>0.003145</td>\n",
       "      <td>0</td>\n",
       "      <td>0.000038</td>\n",
       "      <td>0.000196</td>\n",
       "      <td>0</td>\n",
       "      <td>0.015152</td>\n",
       "      <td>0.000023</td>\n",
       "      <td>0.000664</td>\n",
       "      <td>0.000890</td>\n",
       "      <td>0.000479</td>\n",
       "      <td>0.002433</td>\n",
       "      <td>0</td>\n",
       "      <td>0.000074</td>\n",
       "      <td>0.000259</td>\n",
       "      <td>0</td>\n",
       "    </tr>\n",
       "    <tr>\n",
       "      <th>3</th>\n",
       "      <td>NCI-H747</td>\n",
       "      <td>69</td>\n",
       "      <td>0</td>\n",
       "      <td>1</td>\n",
       "      <td>0</td>\n",
       "      <td>1</td>\n",
       "      <td>0</td>\n",
       "      <td>0</td>\n",
       "      <td>0</td>\n",
       "      <td>1</td>\n",
       "      <td>0</td>\n",
       "      <td>0</td>\n",
       "      <td>0</td>\n",
       "      <td>0</td>\n",
       "      <td>0</td>\n",
       "      <td>0</td>\n",
       "      <td>0</td>\n",
       "      <td>0</td>\n",
       "      <td>0.004566</td>\n",
       "      <td>0</td>\n",
       "      <td>0.000426</td>\n",
       "      <td>0.000598</td>\n",
       "      <td>0.000245</td>\n",
       "      <td>0.002364</td>\n",
       "      <td>0</td>\n",
       "      <td>0.000020</td>\n",
       "      <td>0.000187</td>\n",
       "      <td>0</td>\n",
       "      <td>0.001764</td>\n",
       "      <td>0</td>\n",
       "      <td>0.000047</td>\n",
       "      <td>0.000201</td>\n",
       "      <td>0</td>\n",
       "      <td>0.002364</td>\n",
       "      <td>0</td>\n",
       "      <td>0.000133</td>\n",
       "      <td>0.000331</td>\n",
       "      <td>0</td>\n",
       "      <td>0.004902</td>\n",
       "      <td>0</td>\n",
       "      <td>0.000036</td>\n",
       "      <td>0.000280</td>\n",
       "      <td>0</td>\n",
       "      <td>0.004902</td>\n",
       "      <td>0.000039</td>\n",
       "      <td>0.000630</td>\n",
       "      <td>0.000623</td>\n",
       "      <td>0.000437</td>\n",
       "      <td>0.003058</td>\n",
       "      <td>0</td>\n",
       "      <td>0.000067</td>\n",
       "      <td>0.000263</td>\n",
       "      <td>0</td>\n",
       "    </tr>\n",
       "    <tr>\n",
       "      <th>4</th>\n",
       "      <td>T-24</td>\n",
       "      <td>81</td>\n",
       "      <td>0</td>\n",
       "      <td>0</td>\n",
       "      <td>1</td>\n",
       "      <td>1</td>\n",
       "      <td>0</td>\n",
       "      <td>0</td>\n",
       "      <td>1</td>\n",
       "      <td>0</td>\n",
       "      <td>0</td>\n",
       "      <td>0</td>\n",
       "      <td>0</td>\n",
       "      <td>0</td>\n",
       "      <td>0</td>\n",
       "      <td>0</td>\n",
       "      <td>0</td>\n",
       "      <td>0</td>\n",
       "      <td>0.005291</td>\n",
       "      <td>0</td>\n",
       "      <td>0.000340</td>\n",
       "      <td>0.000529</td>\n",
       "      <td>0.000190</td>\n",
       "      <td>0.003115</td>\n",
       "      <td>0</td>\n",
       "      <td>0.000019</td>\n",
       "      <td>0.000181</td>\n",
       "      <td>0</td>\n",
       "      <td>0.002151</td>\n",
       "      <td>0</td>\n",
       "      <td>0.000054</td>\n",
       "      <td>0.000224</td>\n",
       "      <td>0</td>\n",
       "      <td>0.003509</td>\n",
       "      <td>0</td>\n",
       "      <td>0.000165</td>\n",
       "      <td>0.000418</td>\n",
       "      <td>0</td>\n",
       "      <td>0.002179</td>\n",
       "      <td>0</td>\n",
       "      <td>0.000060</td>\n",
       "      <td>0.000270</td>\n",
       "      <td>0</td>\n",
       "      <td>0.005291</td>\n",
       "      <td>0.000059</td>\n",
       "      <td>0.000635</td>\n",
       "      <td>0.000632</td>\n",
       "      <td>0.000444</td>\n",
       "      <td>0.002415</td>\n",
       "      <td>0</td>\n",
       "      <td>0.000119</td>\n",
       "      <td>0.000339</td>\n",
       "      <td>0</td>\n",
       "    </tr>\n",
       "  </tbody>\n",
       "</table>\n",
       "</div>"
      ],
      "text/plain": [
       "           c  age  tumour_origin_NS  tumour_origin_metastasis  tumour_origin_primary  primary_histology_carcinoma  primary_histology_lymphoid_neoplasm  primary_histology_malignant_melanoma  histology_subtype_NS  histology_subtype_adenocarcinoma  histology_subtype_bronchioloalveolar_adenocarcinoma  histology_subtype_ductal_carcinoma  histology_subtype_mixed_adenosquamous_carcinoma  histology_subtype_non_small_cell_carcinoma  histology_subtype_plasma_cell_myeloma  histology_subtype_small_cell_carcinoma  histology_subtype_squamous_cell_carcinoma  histology_subtype_transitional_cell_carcinoma  f_mutation_maybe_bad_density_gbc_max  f_mutation_maybe_bad_density_gbc_min  f_mutation_maybe_bad_density_gbc_mean  f_mutation_maybe_bad_density_gbc_std  f_mutation_maybe_bad_density_gbc_median  f_snp_density_gbc_max  f_snp_density_gbc_min  f_snp_density_gbc_mean  f_snp_density_gbc_std  f_snp_density_gbc_median  f_maybe_somatic_density_gbc_max  f_maybe_somatic_density_gbc_min  \\\n",
       "0    HCC1806   60                 0                         0                      1                            1                                    0                                     0                     0                                 0                                                  0                                     1                                                0                                           0                                      0                                       0                                          0                                              0                              0.004016                                     0                               0.000374                              0.000533                                 0.000211               0.001086                      0                0.000028               0.000137                         0                         0.002110                                0   \n",
       "1   NCI-H358  NaN                 0                         0                      1                            1                                    0                                     0                     0                                 0                                                  1                                     0                                                0                                           0                                      0                                       0                                          0                                              0                              0.004329                                     0                               0.000399                              0.000528                                 0.000252               0.001199                      0                0.000012               0.000091                         0                         0.003268                                0   \n",
       "2  NCI-H3122  NaN                 1                         0                      0                            1                                    0                                     0                     0                                 1                                                  0                                     0                                                0                                           0                                      0                                       0                                          0                                              0                              0.015152                                     0                               0.000380                              0.000827                                 0.000232               0.003831                      0                0.000026               0.000227                         0                         0.001475                                0   \n",
       "3   NCI-H747   69                 0                         1                      0                            1                                    0                                     0                     0                                 1                                                  0                                     0                                                0                                           0                                      0                                       0                                          0                                              0                              0.004566                                     0                               0.000426                              0.000598                                 0.000245               0.002364                      0                0.000020               0.000187                         0                         0.001764                                0   \n",
       "4       T-24   81                 0                         0                      1                            1                                    0                                     0                     1                                 0                                                  0                                     0                                                0                                           0                                      0                                       0                                          0                                              0                              0.005291                                     0                               0.000340                              0.000529                                 0.000190               0.003115                      0                0.000019               0.000181                         0                         0.002151                                0   \n",
       "\n",
       "   f_maybe_somatic_density_gbc_mean  f_maybe_somatic_density_gbc_std  f_maybe_somatic_density_gbc_median  f_mutation_mild_density_gbc_max  f_mutation_mild_density_gbc_min  f_mutation_mild_density_gbc_mean  f_mutation_mild_density_gbc_std  f_mutation_mild_density_gbc_median  f_mutation_very_bad_density_gbc_max  f_mutation_very_bad_density_gbc_min  f_mutation_very_bad_density_gbc_mean  f_mutation_very_bad_density_gbc_std  f_mutation_very_bad_density_gbc_median  f_mutation_density_gbc_max  f_mutation_density_gbc_min  f_mutation_density_gbc_mean  f_mutation_density_gbc_std  f_mutation_density_gbc_median  f_homozygous_density_gbc_max  f_homozygous_density_gbc_min  f_homozygous_density_gbc_mean  f_homozygous_density_gbc_std  f_homozygous_density_gbc_median  \n",
       "0                          0.000041                         0.000186                                   0                         0.002625                                0                          0.000170                         0.000354                                   0                             0.002525                                    0                              0.000038                             0.000209                                       0                    0.004016                    0.000044                     0.000624                    0.000535                       0.000488                      0.003472                             0                       0.000181                      0.000423                                0  \n",
       "1                          0.000020                         0.000155                                   0                         0.003205                                0                          0.000142                         0.000337                                   0                             0.001938                                    0                              0.000048                             0.000203                                       0                    0.004329                    0.000025                     0.000642                    0.000530                       0.000510                      0.002861                             0                       0.000047                      0.000219                                0  \n",
       "2                          0.000027                         0.000142                                   0                         0.003704                                0                          0.000165                         0.000410                                   0                             0.003145                                    0                              0.000038                             0.000196                                       0                    0.015152                    0.000023                     0.000664                    0.000890                       0.000479                      0.002433                             0                       0.000074                      0.000259                                0  \n",
       "3                          0.000047                         0.000201                                   0                         0.002364                                0                          0.000133                         0.000331                                   0                             0.004902                                    0                              0.000036                             0.000280                                       0                    0.004902                    0.000039                     0.000630                    0.000623                       0.000437                      0.003058                             0                       0.000067                      0.000263                                0  \n",
       "4                          0.000054                         0.000224                                   0                         0.003509                                0                          0.000165                         0.000418                                   0                             0.002179                                    0                              0.000060                             0.000270                                       0                    0.005291                    0.000059                     0.000635                    0.000632                       0.000444                      0.002415                             0                       0.000119                      0.000339                                0  "
      ]
     },
     "execution_count": 68,
     "metadata": {},
     "output_type": "execute_result"
    }
   ],
   "source": [
    "mutations_gbc_all.head()"
   ]
  },
  {
   "cell_type": "code",
   "execution_count": 69,
   "metadata": {
    "collapsed": false
   },
   "outputs": [
    {
     "data": {
      "text/plain": [
       "(85, 53)"
      ]
     },
     "execution_count": 69,
     "metadata": {},
     "output_type": "execute_result"
    }
   ],
   "source": [
    "mutations_gbc_all.shape"
   ]
  },
  {
   "cell_type": "code",
   "execution_count": 70,
   "metadata": {
    "collapsed": false
   },
   "outputs": [
    {
     "name": "stderr",
     "output_type": "stream",
     "text": [
      "DEBUG:csv2sql.core:Uncompressing file...\n",
      "INFO:csv2sql.core:bzip2 -dkf '/home/kimlab1/database_data/biodata/recipes/az_dream_2015/notebooks/cnv/mutations_gbc.tsv.bz2'\n",
      "DEBUG:csv2sql.core:Running on host: 'xxx.xxx.xxx.xxx'\n",
      "DEBUG:csv2sql.core:Command ran successfully!\n",
      "DEBUG:csv2sql.core:output: \n",
      "DEBUG:csv2sql.core:Loading data into MySQL table: 'mutations_gbc'...\n",
      "INFO:csv2sql.core:mysql  az_dream_2015_features -e \"load data local infile '/home/kimlab1/database_data/biodata/recipes/az_dream_2015/notebooks/cnv/mutations_gbc.tsv' into table `mutations_gbc` ignore 1 lines;  show warnings;\" \n",
      "DEBUG:csv2sql.core:Running locally\n",
      "DEBUG:csv2sql.core:Command ran successfully!\n",
      "DEBUG:csv2sql.core:output: \n",
      "DEBUG:csv2sql.core:Removing uncompressed file '/home/kimlab1/database_data/biodata/recipes/az_dream_2015/notebooks/cnv/mutations_gbc.tsv'...\n",
      "INFO:csv2sql.core:rm -f '/home/kimlab1/database_data/biodata/recipes/az_dream_2015/notebooks/cnv/mutations_gbc.tsv'\n",
      "DEBUG:csv2sql.core:Running locally\n",
      "DEBUG:csv2sql.core:Command ran successfully!\n",
      "DEBUG:csv2sql.core:output: \n"
     ]
    }
   ],
   "source": [
    "db.import_table(\n",
    "    mutations_gbc_all,\n",
    "    'mutations_gbc', [\n",
    "        [('c'), True],\n",
    "    ],\n",
    ")"
   ]
  },
  {
   "cell_type": "markdown",
   "metadata": {
    "collapsed": true,
    "run_control": {
     "marked": false
    }
   },
   "source": [
    "## cc"
   ]
  },
  {
   "cell_type": "markdown",
   "metadata": {},
   "source": [
    "### Cell line info"
   ]
  },
  {
   "cell_type": "code",
   "execution_count": 71,
   "metadata": {
    "collapsed": false,
    "run_control": {
     "marked": false
    }
   },
   "outputs": [],
   "source": [
    "cell_info.sort_values('c', inplace=True)"
   ]
  },
  {
   "cell_type": "code",
   "execution_count": 72,
   "metadata": {
    "collapsed": false,
    "run_control": {
     "marked": false
    }
   },
   "outputs": [],
   "source": [
    "cell_tissue_similarity = []\n",
    "for cell_name_1, cell_tissue_1 in cell_info[['c', 'cell_line_tissue']].values:\n",
    "    for cell_name_2, cell_tissue_2 in cell_info[['c', 'cell_line_tissue']].values:\n",
    "        row = (cell_name_1, cell_name_2, int(cell_tissue_1 == cell_tissue_2),)\n",
    "        cell_tissue_similarity.append(row)\n",
    "cell_tissue_similarity_df = pd.DataFrame(cell_tissue_similarity, columns=['c_x', 'c_y', 'same_cell_tissue_gbcc'])"
   ]
  },
  {
   "cell_type": "code",
   "execution_count": 73,
   "metadata": {
    "collapsed": true,
    "run_control": {
     "marked": false
    }
   },
   "outputs": [],
   "source": [
    "assert cell_tissue_similarity_df.shape[0] == 85 * 85"
   ]
  },
  {
   "cell_type": "code",
   "execution_count": 74,
   "metadata": {
    "collapsed": false,
    "run_control": {
     "marked": false
    }
   },
   "outputs": [
    {
     "data": {
      "text/plain": [
       "<matplotlib.axes._subplots.AxesSubplot at 0x7f2ec62de4e0>"
      ]
     },
     "execution_count": 74,
     "metadata": {},
     "output_type": "execute_result"
    },
    {
     "data": {
      "image/png": "[encoded data removed]",
      "text/plain": [
       "<matplotlib.figure.Figure at 0x7f2ec62dea20>"
      ]
     },
     "metadata": {},
     "output_type": "display_data"
    }
   ],
   "source": [
    "cell_tissue_similarity_df['same_cell_tissue_gbcc'].hist()"
   ]
  },
  {
   "cell_type": "code",
   "execution_count": 75,
   "metadata": {
    "collapsed": false,
    "run_control": {
     "marked": false
    }
   },
   "outputs": [
    {
     "data": {
      "text/html": [
       "<div>\n",
       "<table border=\"1\" class=\"dataframe\">\n",
       "  <thead>\n",
       "    <tr style=\"text-align: right;\">\n",
       "      <th></th>\n",
       "      <th>c_x</th>\n",
       "      <th>c_y</th>\n",
       "      <th>same_cell_tissue_gbcc</th>\n",
       "    </tr>\n",
       "  </thead>\n",
       "  <tbody>\n",
       "    <tr>\n",
       "      <th>0</th>\n",
       "      <td>22RV1</td>\n",
       "      <td>22RV1</td>\n",
       "      <td>1</td>\n",
       "    </tr>\n",
       "    <tr>\n",
       "      <th>1</th>\n",
       "      <td>22RV1</td>\n",
       "      <td>647-V</td>\n",
       "      <td>0</td>\n",
       "    </tr>\n",
       "    <tr>\n",
       "      <th>2</th>\n",
       "      <td>22RV1</td>\n",
       "      <td>A549</td>\n",
       "      <td>0</td>\n",
       "    </tr>\n",
       "    <tr>\n",
       "      <th>3</th>\n",
       "      <td>22RV1</td>\n",
       "      <td>BFTC-905</td>\n",
       "      <td>0</td>\n",
       "    </tr>\n",
       "    <tr>\n",
       "      <th>4</th>\n",
       "      <td>22RV1</td>\n",
       "      <td>BT-20</td>\n",
       "      <td>0</td>\n",
       "    </tr>\n",
       "  </tbody>\n",
       "</table>\n",
       "</div>"
      ],
      "text/plain": [
       "     c_x       c_y  same_cell_tissue_gbcc\n",
       "0  22RV1     22RV1                      1\n",
       "1  22RV1     647-V                      0\n",
       "2  22RV1      A549                      0\n",
       "3  22RV1  BFTC-905                      0\n",
       "4  22RV1     BT-20                      0"
      ]
     },
     "execution_count": 75,
     "metadata": {},
     "output_type": "execute_result"
    }
   ],
   "source": [
    "cell_tissue_similarity_df.head()"
   ]
  },
  {
   "cell_type": "code",
   "execution_count": 76,
   "metadata": {
    "collapsed": false,
    "run_control": {
     "marked": false
    }
   },
   "outputs": [
    {
     "name": "stderr",
     "output_type": "stream",
     "text": [
      "DEBUG:csv2sql.core:Uncompressing file...\n",
      "INFO:csv2sql.core:bzip2 -dkf '/home/kimlab1/database_data/biodata/recipes/az_dream_2015/notebooks/cnv/cell_info_gbcc.tsv.bz2'\n",
      "DEBUG:csv2sql.core:Running on host: 'xxx.xxx.xxx.xxx'\n",
      "DEBUG:csv2sql.core:Command ran successfully!\n",
      "DEBUG:csv2sql.core:output: \n",
      "DEBUG:csv2sql.core:Loading data into MySQL table: 'cell_info_gbcc'...\n",
      "INFO:csv2sql.core:mysql  az_dream_2015_features -e \"load data local infile '/home/kimlab1/database_data/biodata/recipes/az_dream_2015/notebooks/cnv/cell_info_gbcc.tsv' into table `cell_info_gbcc` ignore 1 lines;  show warnings;\" \n",
      "DEBUG:csv2sql.core:Running locally\n",
      "DEBUG:csv2sql.core:Command ran successfully!\n",
      "DEBUG:csv2sql.core:output: \n",
      "DEBUG:csv2sql.core:Removing uncompressed file '/home/kimlab1/database_data/biodata/recipes/az_dream_2015/notebooks/cnv/cell_info_gbcc.tsv'...\n",
      "INFO:csv2sql.core:rm -f '/home/kimlab1/database_data/biodata/recipes/az_dream_2015/notebooks/cnv/cell_info_gbcc.tsv'\n",
      "DEBUG:csv2sql.core:Running locally\n",
      "DEBUG:csv2sql.core:Command ran successfully!\n",
      "DEBUG:csv2sql.core:output: \n"
     ]
    }
   ],
   "source": [
    "db.import_table(\n",
    "    cell_tissue_similarity_df, \n",
    "    'cell_info_gbcc', [\n",
    "        [('c_x', 'c_y'), True],\n",
    "        [('c_y', 'c_x'), False],\n",
    "    ],\n",
    ")"
   ]
  },
  {
   "cell_type": "markdown",
   "metadata": {
    "collapsed": true,
    "run_control": {
     "marked": false
    }
   },
   "source": [
    "### Cell cell correlation"
   ]
  },
  {
   "cell_type": "code",
   "execution_count": 77,
   "metadata": {
    "collapsed": false
   },
   "outputs": [
    {
     "data": {
      "text/html": [
       "<div>\n",
       "<table border=\"1\" class=\"dataframe\">\n",
       "  <thead>\n",
       "    <tr style=\"text-align: right;\">\n",
       "      <th></th>\n",
       "      <th>g</th>\n",
       "      <th>accession_number</th>\n",
       "      <th>gene_cds_length</th>\n",
       "      <th>hgnc_id</th>\n",
       "      <th>c</th>\n",
       "      <th>id_sample</th>\n",
       "      <th>id_tumour</th>\n",
       "      <th>primary_site</th>\n",
       "      <th>site_subtype</th>\n",
       "      <th>primary_histology</th>\n",
       "      <th>histology_subtype</th>\n",
       "      <th>genome_wide_screen</th>\n",
       "      <th>mutation_id</th>\n",
       "      <th>mutation_cds</th>\n",
       "      <th>mutation_aa</th>\n",
       "      <th>mutation_description</th>\n",
       "      <th>mutation_zygosity</th>\n",
       "      <th>grch</th>\n",
       "      <th>mutation_genome_position</th>\n",
       "      <th>strand</th>\n",
       "      <th>snp</th>\n",
       "      <th>fathmm_prediction</th>\n",
       "      <th>mutation_somatic_status</th>\n",
       "      <th>pubmed_pmid</th>\n",
       "      <th>id_study</th>\n",
       "      <th>institute</th>\n",
       "      <th>institute_address</th>\n",
       "      <th>catalogue_number</th>\n",
       "      <th>sample_source</th>\n",
       "      <th>tumour_origin</th>\n",
       "      <th>age</th>\n",
       "      <th>comments</th>\n",
       "      <th>f_mutation_very_bad</th>\n",
       "      <th>f_mutation_maybe_bad</th>\n",
       "      <th>f_mutation_mild</th>\n",
       "      <th>f_homozygous</th>\n",
       "      <th>f_snp</th>\n",
       "      <th>f_maybe_somatic</th>\n",
       "    </tr>\n",
       "  </thead>\n",
       "  <tbody>\n",
       "    <tr>\n",
       "      <th>0</th>\n",
       "      <td>FRMD4A</td>\n",
       "      <td>ENST00000357447</td>\n",
       "      <td>3120</td>\n",
       "      <td>25491</td>\n",
       "      <td>HCC1806</td>\n",
       "      <td>907047</td>\n",
       "      <td>824559</td>\n",
       "      <td>breast</td>\n",
       "      <td>NS</td>\n",
       "      <td>carcinoma</td>\n",
       "      <td>ductal_carcinoma</td>\n",
       "      <td>y</td>\n",
       "      <td>COSM109920</td>\n",
       "      <td>c.1049C&gt;T</td>\n",
       "      <td>p.S350L</td>\n",
       "      <td>Substitution - Missense</td>\n",
       "      <td>het</td>\n",
       "      <td>38</td>\n",
       "      <td>10:13693966-13693966</td>\n",
       "      <td>-</td>\n",
       "      <td>n</td>\n",
       "      <td>PASSENGER/OTHER</td>\n",
       "      <td>Reported in another cancer sample as somatic</td>\n",
       "      <td>NaN</td>\n",
       "      <td>NaN</td>\n",
       "      <td>American Type Culture Collection (ATCC)</td>\n",
       "      <td>P.O. Box 1549, Manassas, VA 20108, USA</td>\n",
       "      <td>CRL-2335</td>\n",
       "      <td>cell-line</td>\n",
       "      <td>primary</td>\n",
       "      <td>60</td>\n",
       "      <td>Grade:II,Stage:II</td>\n",
       "      <td>0</td>\n",
       "      <td>1</td>\n",
       "      <td>0</td>\n",
       "      <td>0</td>\n",
       "      <td>0</td>\n",
       "      <td>1</td>\n",
       "    </tr>\n",
       "    <tr>\n",
       "      <th>1</th>\n",
       "      <td>LILRB1</td>\n",
       "      <td>ENST00000396331</td>\n",
       "      <td>1953</td>\n",
       "      <td>6605</td>\n",
       "      <td>HCC1806</td>\n",
       "      <td>907047</td>\n",
       "      <td>824559</td>\n",
       "      <td>breast</td>\n",
       "      <td>NS</td>\n",
       "      <td>carcinoma</td>\n",
       "      <td>ductal_carcinoma</td>\n",
       "      <td>y</td>\n",
       "      <td>COSM162161</td>\n",
       "      <td>c.1690G&gt;A</td>\n",
       "      <td>p.E564K</td>\n",
       "      <td>Substitution - Missense</td>\n",
       "      <td>het</td>\n",
       "      <td>38</td>\n",
       "      <td>19:54636536-54636536</td>\n",
       "      <td>+</td>\n",
       "      <td>n</td>\n",
       "      <td>PASSENGER/OTHER</td>\n",
       "      <td>Reported in another cancer sample as somatic</td>\n",
       "      <td>NaN</td>\n",
       "      <td>NaN</td>\n",
       "      <td>American Type Culture Collection (ATCC)</td>\n",
       "      <td>P.O. Box 1549, Manassas, VA 20108, USA</td>\n",
       "      <td>CRL-2335</td>\n",
       "      <td>cell-line</td>\n",
       "      <td>primary</td>\n",
       "      <td>60</td>\n",
       "      <td>Grade:II,Stage:II</td>\n",
       "      <td>0</td>\n",
       "      <td>1</td>\n",
       "      <td>0</td>\n",
       "      <td>0</td>\n",
       "      <td>0</td>\n",
       "      <td>1</td>\n",
       "    </tr>\n",
       "  </tbody>\n",
       "</table>\n",
       "</div>"
      ],
      "text/plain": [
       "        g accession_number  gene_cds_length  hgnc_id        c  id_sample  id_tumour primary_site site_subtype primary_histology histology_subtype genome_wide_screen mutation_id mutation_cds mutation_aa     mutation_description mutation_zygosity  grch mutation_genome_position strand snp fathmm_prediction                       mutation_somatic_status  pubmed_pmid  id_study                                institute                       institute_address catalogue_number sample_source tumour_origin  age           comments  f_mutation_very_bad  f_mutation_maybe_bad  f_mutation_mild  f_homozygous  f_snp  f_maybe_somatic\n",
       "0  FRMD4A  ENST00000357447             3120    25491  HCC1806     907047     824559       breast           NS         carcinoma  ductal_carcinoma                  y  COSM109920    c.1049C>T     p.S350L  Substitution - Missense               het    38     10:13693966-13693966      -   n   PASSENGER/OTHER  Reported in another cancer sample as somatic          NaN       NaN  American Type Culture Collection (ATCC)  P.O. Box 1549, Manassas, VA 20108, USA         CRL-2335     cell-line       primary   60  Grade:II,Stage:II                    0                     1                0             0      0                1\n",
       "1  LILRB1  ENST00000396331             1953     6605  HCC1806     907047     824559       breast           NS         carcinoma  ductal_carcinoma                  y  COSM162161    c.1690G>A     p.E564K  Substitution - Missense               het    38     19:54636536-54636536      +   n   PASSENGER/OTHER  Reported in another cancer sample as somatic          NaN       NaN  American Type Culture Collection (ATCC)  P.O. Box 1549, Manassas, VA 20108, USA         CRL-2335     cell-line       primary   60  Grade:II,Stage:II                    0                     1                0             0      0                1"
      ]
     },
     "execution_count": 77,
     "metadata": {},
     "output_type": "execute_result"
    }
   ],
   "source": [
    "mutations.head(2)"
   ]
  },
  {
   "cell_type": "code",
   "execution_count": 78,
   "metadata": {
    "collapsed": false
   },
   "outputs": [
    {
     "data": {
      "text/html": [
       "<div>\n",
       "<table border=\"1\" class=\"dataframe\">\n",
       "  <thead>\n",
       "    <tr style=\"text-align: right;\">\n",
       "      <th></th>\n",
       "      <th>g</th>\n",
       "      <th>c</th>\n",
       "      <th>f_mutation_maybe_bad_density_gbgc</th>\n",
       "      <th>f_snp_density_gbgc</th>\n",
       "      <th>f_maybe_somatic_density_gbgc</th>\n",
       "      <th>f_mutation_mild_density_gbgc</th>\n",
       "      <th>f_mutation_very_bad_density_gbgc</th>\n",
       "      <th>f_mutation_density_gbgc</th>\n",
       "      <th>f_homozygous_density_gbgc</th>\n",
       "    </tr>\n",
       "  </thead>\n",
       "  <tbody>\n",
       "    <tr>\n",
       "      <th>0</th>\n",
       "      <td>A1BG</td>\n",
       "      <td>CAL-51</td>\n",
       "      <td>0</td>\n",
       "      <td>0</td>\n",
       "      <td>0</td>\n",
       "      <td>0.000672</td>\n",
       "      <td>0</td>\n",
       "      <td>0.000672</td>\n",
       "      <td>0</td>\n",
       "    </tr>\n",
       "    <tr>\n",
       "      <th>1</th>\n",
       "      <td>A1BG</td>\n",
       "      <td>HCC1500</td>\n",
       "      <td>0</td>\n",
       "      <td>0</td>\n",
       "      <td>0</td>\n",
       "      <td>0.000672</td>\n",
       "      <td>0</td>\n",
       "      <td>0.000672</td>\n",
       "      <td>0</td>\n",
       "    </tr>\n",
       "  </tbody>\n",
       "</table>\n",
       "</div>"
      ],
      "text/plain": [
       "      g        c  f_mutation_maybe_bad_density_gbgc  f_snp_density_gbgc  f_maybe_somatic_density_gbgc  f_mutation_mild_density_gbgc  f_mutation_very_bad_density_gbgc  f_mutation_density_gbgc  f_homozygous_density_gbgc\n",
       "0  A1BG   CAL-51                                  0                   0                             0                      0.000672                                 0                 0.000672                          0\n",
       "1  A1BG  HCC1500                                  0                   0                             0                      0.000672                                 0                 0.000672                          0"
      ]
     },
     "execution_count": 78,
     "metadata": {},
     "output_type": "execute_result"
    }
   ],
   "source": [
    "mutations_gbgc.head(2)"
   ]
  },
  {
   "cell_type": "code",
   "execution_count": 79,
   "metadata": {
    "collapsed": true
   },
   "outputs": [],
   "source": [
    "pivot_df = mutations_gbgc.pivot(index='g', columns='c')"
   ]
  },
  {
   "cell_type": "code",
   "execution_count": 80,
   "metadata": {
    "collapsed": false,
    "run_control": {
     "marked": false
    }
   },
   "outputs": [
    {
     "data": {
      "text/html": [
       "<div>\n",
       "<table border=\"1\" class=\"dataframe\">\n",
       "  <thead>\n",
       "    <tr style=\"text-align: right;\">\n",
       "      <th>c</th>\n",
       "      <th>22RV1</th>\n",
       "      <th>647-V</th>\n",
       "    </tr>\n",
       "    <tr>\n",
       "      <th>g</th>\n",
       "      <th></th>\n",
       "      <th></th>\n",
       "    </tr>\n",
       "  </thead>\n",
       "  <tbody>\n",
       "    <tr>\n",
       "      <th>A1BG</th>\n",
       "      <td>NaN</td>\n",
       "      <td>NaN</td>\n",
       "    </tr>\n",
       "    <tr>\n",
       "      <th>A1CF</th>\n",
       "      <td>0</td>\n",
       "      <td>NaN</td>\n",
       "    </tr>\n",
       "    <tr>\n",
       "      <th>A1CF_ENST00000282641</th>\n",
       "      <td>0</td>\n",
       "      <td>NaN</td>\n",
       "    </tr>\n",
       "    <tr>\n",
       "      <th>A1CF_ENST00000373995</th>\n",
       "      <td>0</td>\n",
       "      <td>NaN</td>\n",
       "    </tr>\n",
       "    <tr>\n",
       "      <th>A2M</th>\n",
       "      <td>NaN</td>\n",
       "      <td>NaN</td>\n",
       "    </tr>\n",
       "  </tbody>\n",
       "</table>\n",
       "</div>"
      ],
      "text/plain": [
       "c                     22RV1  647-V\n",
       "g                                 \n",
       "A1BG                    NaN    NaN\n",
       "A1CF                      0    NaN\n",
       "A1CF_ENST00000282641      0    NaN\n",
       "A1CF_ENST00000373995      0    NaN\n",
       "A2M                     NaN    NaN"
      ]
     },
     "execution_count": 80,
     "metadata": {},
     "output_type": "execute_result"
    }
   ],
   "source": [
    "pivot_df['f_mutation_very_bad_density_gbgc'][['22RV1', '647-V']].head()"
   ]
  },
  {
   "cell_type": "code",
   "execution_count": 81,
   "metadata": {
    "collapsed": false
   },
   "outputs": [
    {
     "name": "stdout",
     "output_type": "stream",
     "text": [
      "column_subsets: {'f_mutation_maybe_bad_density_gbgc': ('f_mutation_maybe_bad_density_gbgc',), 'f_mutation_very_bad_density_gbgc': ('f_mutation_very_bad_density_gbgc',), 'f_mutation_density_gbgc': ('f_mutation_density_gbgc',), 'f_maybe_somatic_density_gbgc': ('f_maybe_somatic_density_gbgc',), 'f_mutation_mild_density_gbgc': ('f_mutation_mild_density_gbgc',), 'f_homozygous_density_gbgc': ('f_homozygous_density_gbgc',), 'f_snp_density_gbgc': ('f_snp_density_gbgc',)}\n"
     ]
    },
    {
     "name": "stderr",
     "output_type": "stream",
     "text": [
      "/home/kimlab1/strokach/anaconda3/lib/python3.5/site-packages/numpy/core/_methods.py:59: RuntimeWarning: Mean of empty slice.\n",
      "  warnings.warn(\"Mean of empty slice.\", RuntimeWarning)\n"
     ]
    }
   ],
   "source": [
    "cc_distances = fn.get_cc_distance(\n",
    "    pivot_df.fillna(0), css=css, row_subsets={'': None, 'cgs': cgs_genes, 'target': target_genes}\n",
    ")"
   ]
  },
  {
   "cell_type": "code",
   "execution_count": 82,
   "metadata": {
    "collapsed": false
   },
   "outputs": [
    {
     "data": {
      "text/html": [
       "<div>\n",
       "<table border=\"1\" class=\"dataframe\">\n",
       "  <thead>\n",
       "    <tr style=\"text-align: right;\">\n",
       "      <th></th>\n",
       "      <th>metric</th>\n",
       "      <th>corr</th>\n",
       "      <th>pvalue</th>\n",
       "      <th>count</th>\n",
       "      <th>PW</th>\n",
       "      <th>feature_subset_name</th>\n",
       "      <th>row_subset_name</th>\n",
       "      <th>corr_abs</th>\n",
       "    </tr>\n",
       "  </thead>\n",
       "  <tbody>\n",
       "    <tr>\n",
       "      <th>4</th>\n",
       "      <td>sqeuclidean</td>\n",
       "      <td>0.265967</td>\n",
       "      <td>6.821358e-116</td>\n",
       "      <td>7140</td>\n",
       "      <td>x         y  f_mutation_may...</td>\n",
       "      <td>f_mutation_maybe_bad_density_gbgc</td>\n",
       "      <td></td>\n",
       "      <td>0.265967</td>\n",
       "    </tr>\n",
       "    <tr>\n",
       "      <th>2</th>\n",
       "      <td>cityblock</td>\n",
       "      <td>0.374227</td>\n",
       "      <td>3.495295e-236</td>\n",
       "      <td>7140</td>\n",
       "      <td>x         y  f_mutation_ver...</td>\n",
       "      <td>f_mutation_very_bad_density_gbgc</td>\n",
       "      <td></td>\n",
       "      <td>0.374227</td>\n",
       "    </tr>\n",
       "    <tr>\n",
       "      <th>2</th>\n",
       "      <td>cityblock</td>\n",
       "      <td>0.280043</td>\n",
       "      <td>8.687262e-129</td>\n",
       "      <td>7140</td>\n",
       "      <td>x         y  f_mutation_den...</td>\n",
       "      <td>f_mutation_density_gbgc</td>\n",
       "      <td></td>\n",
       "      <td>0.280043</td>\n",
       "    </tr>\n",
       "    <tr>\n",
       "      <th>4</th>\n",
       "      <td>sqeuclidean</td>\n",
       "      <td>0.530915</td>\n",
       "      <td>0.000000e+00</td>\n",
       "      <td>7140</td>\n",
       "      <td>x         y  f_maybe_somati...</td>\n",
       "      <td>f_maybe_somatic_density_gbgc</td>\n",
       "      <td></td>\n",
       "      <td>0.530915</td>\n",
       "    </tr>\n",
       "    <tr>\n",
       "      <th>13</th>\n",
       "      <td>matching</td>\n",
       "      <td>0.279825</td>\n",
       "      <td>1.395384e-128</td>\n",
       "      <td>7140</td>\n",
       "      <td>x         y  f_mutation_mil...</td>\n",
       "      <td>f_mutation_mild_density_gbgc</td>\n",
       "      <td></td>\n",
       "      <td>0.279825</td>\n",
       "    </tr>\n",
       "  </tbody>\n",
       "</table>\n",
       "</div>"
      ],
      "text/plain": [
       "         metric      corr         pvalue  count                                                 PW                feature_subset_name row_subset_name  corr_abs\n",
       "4   sqeuclidean  0.265967  6.821358e-116   7140                     x         y  f_mutation_may...  f_mutation_maybe_bad_density_gbgc                  0.265967\n",
       "2     cityblock  0.374227  3.495295e-236   7140                     x         y  f_mutation_ver...   f_mutation_very_bad_density_gbgc                  0.374227\n",
       "2     cityblock  0.280043  8.687262e-129   7140                     x         y  f_mutation_den...            f_mutation_density_gbgc                  0.280043\n",
       "4   sqeuclidean  0.530915   0.000000e+00   7140                     x         y  f_maybe_somati...       f_maybe_somatic_density_gbgc                  0.530915\n",
       "13     matching  0.279825  1.395384e-128   7140                     x         y  f_mutation_mil...       f_mutation_mild_density_gbgc                  0.279825"
      ]
     },
     "execution_count": 82,
     "metadata": {},
     "output_type": "execute_result"
    }
   ],
   "source": [
    "cc_distances.head()"
   ]
  },
  {
   "cell_type": "code",
   "execution_count": 83,
   "metadata": {
    "collapsed": false
   },
   "outputs": [
    {
     "data": {
      "text/html": [
       "<div>\n",
       "<table border=\"1\" class=\"dataframe\">\n",
       "  <thead>\n",
       "    <tr style=\"text-align: right;\">\n",
       "      <th></th>\n",
       "      <th>c_x</th>\n",
       "      <th>c_y</th>\n",
       "      <th>f_mutation_maybe_bad_density_gbgc_sqeuclidean</th>\n",
       "    </tr>\n",
       "  </thead>\n",
       "  <tbody>\n",
       "    <tr>\n",
       "      <th>1</th>\n",
       "      <td>647-V</td>\n",
       "      <td>22RV1</td>\n",
       "      <td>0.001500</td>\n",
       "    </tr>\n",
       "    <tr>\n",
       "      <th>2</th>\n",
       "      <td>A549</td>\n",
       "      <td>22RV1</td>\n",
       "      <td>0.001339</td>\n",
       "    </tr>\n",
       "    <tr>\n",
       "      <th>3</th>\n",
       "      <td>BFTC-905</td>\n",
       "      <td>22RV1</td>\n",
       "      <td>0.001731</td>\n",
       "    </tr>\n",
       "    <tr>\n",
       "      <th>4</th>\n",
       "      <td>BT-20</td>\n",
       "      <td>22RV1</td>\n",
       "      <td>0.001388</td>\n",
       "    </tr>\n",
       "    <tr>\n",
       "      <th>5</th>\n",
       "      <td>BT-474</td>\n",
       "      <td>22RV1</td>\n",
       "      <td>0.001738</td>\n",
       "    </tr>\n",
       "  </tbody>\n",
       "</table>\n",
       "</div>"
      ],
      "text/plain": [
       "        c_x    c_y  f_mutation_maybe_bad_density_gbgc_sqeuclidean\n",
       "1     647-V  22RV1                                       0.001500\n",
       "2      A549  22RV1                                       0.001339\n",
       "3  BFTC-905  22RV1                                       0.001731\n",
       "4     BT-20  22RV1                                       0.001388\n",
       "5    BT-474  22RV1                                       0.001738"
      ]
     },
     "metadata": {},
     "output_type": "display_data"
    },
    {
     "data": {
      "text/html": [
       "<div>\n",
       "<table border=\"1\" class=\"dataframe\">\n",
       "  <thead>\n",
       "    <tr style=\"text-align: right;\">\n",
       "      <th></th>\n",
       "      <th>c_x</th>\n",
       "      <th>c_y</th>\n",
       "      <th>f_mutation_maybe_bad_density_gbgc_sqeuclidean</th>\n",
       "      <th>f_mutation_very_bad_density_gbgc_cityblock</th>\n",
       "      <th>f_mutation_density_gbgc_cityblock</th>\n",
       "      <th>f_maybe_somatic_density_gbgc_sqeuclidean</th>\n",
       "      <th>f_mutation_mild_density_gbgc_matching</th>\n",
       "      <th>f_homozygous_density_gbgc_sokalmichener</th>\n",
       "      <th>f_snp_density_gbgc_sokalmichener</th>\n",
       "      <th>f_mutation_maybe_bad_density_gbgc_sstarget_matching</th>\n",
       "      <th>f_mutation_very_bad_density_gbgc_sstarget_matching</th>\n",
       "      <th>f_mutation_density_gbgc_sstarget_matching</th>\n",
       "      <th>f_maybe_somatic_density_gbgc_sstarget_sqeuclidean</th>\n",
       "      <th>f_mutation_mild_density_gbgc_sstarget_canberra</th>\n",
       "      <th>f_homozygous_density_gbgc_sstarget_sqeuclidean</th>\n",
       "      <th>f_snp_density_gbgc_sstarget_correlation</th>\n",
       "      <th>f_mutation_maybe_bad_density_gbgc_sscgs_cityblock</th>\n",
       "      <th>f_mutation_very_bad_density_gbgc_sscgs_matching</th>\n",
       "      <th>f_mutation_density_gbgc_sscgs_cityblock</th>\n",
       "      <th>f_maybe_somatic_density_gbgc_sscgs_matching</th>\n",
       "      <th>f_mutation_mild_density_gbgc_sscgs_sqeuclidean</th>\n",
       "      <th>f_homozygous_density_gbgc_sscgs_yule</th>\n",
       "      <th>f_snp_density_gbgc_sscgs_euclidean</th>\n",
       "    </tr>\n",
       "  </thead>\n",
       "  <tbody>\n",
       "    <tr>\n",
       "      <th>0</th>\n",
       "      <td>647-V</td>\n",
       "      <td>22RV1</td>\n",
       "      <td>0.001500</td>\n",
       "      <td>0.412260</td>\n",
       "      <td>2.413418</td>\n",
       "      <td>0.000225</td>\n",
       "      <td>0.044924</td>\n",
       "      <td>0.017414</td>\n",
       "      <td>0.008697</td>\n",
       "      <td>0.114943</td>\n",
       "      <td>0.017241</td>\n",
       "      <td>0.183908</td>\n",
       "      <td>7.476030e-07</td>\n",
       "      <td>10</td>\n",
       "      <td>1.900168e-07</td>\n",
       "      <td>NaN</td>\n",
       "      <td>0.027031</td>\n",
       "      <td>0.056604</td>\n",
       "      <td>0.054533</td>\n",
       "      <td>0.054245</td>\n",
       "      <td>0.000005</td>\n",
       "      <td>2</td>\n",
       "      <td>0.000639</td>\n",
       "    </tr>\n",
       "    <tr>\n",
       "      <th>1</th>\n",
       "      <td>A549</td>\n",
       "      <td>22RV1</td>\n",
       "      <td>0.001339</td>\n",
       "      <td>0.395590</td>\n",
       "      <td>2.209933</td>\n",
       "      <td>0.000268</td>\n",
       "      <td>0.040365</td>\n",
       "      <td>0.012876</td>\n",
       "      <td>0.007364</td>\n",
       "      <td>0.103448</td>\n",
       "      <td>0.017241</td>\n",
       "      <td>0.155172</td>\n",
       "      <td>7.476030e-07</td>\n",
       "      <td>7</td>\n",
       "      <td>5.239601e-07</td>\n",
       "      <td>NaN</td>\n",
       "      <td>0.027547</td>\n",
       "      <td>0.056604</td>\n",
       "      <td>0.056384</td>\n",
       "      <td>0.063679</td>\n",
       "      <td>0.000005</td>\n",
       "      <td>2</td>\n",
       "      <td>0.000938</td>\n",
       "    </tr>\n",
       "    <tr>\n",
       "      <th>2</th>\n",
       "      <td>BFTC-905</td>\n",
       "      <td>22RV1</td>\n",
       "      <td>0.001731</td>\n",
       "      <td>0.399189</td>\n",
       "      <td>2.453866</td>\n",
       "      <td>0.000225</td>\n",
       "      <td>0.048236</td>\n",
       "      <td>0.023807</td>\n",
       "      <td>0.009173</td>\n",
       "      <td>0.126437</td>\n",
       "      <td>0.017241</td>\n",
       "      <td>0.178161</td>\n",
       "      <td>7.476030e-07</td>\n",
       "      <td>6</td>\n",
       "      <td>1.665301e-06</td>\n",
       "      <td>NaN</td>\n",
       "      <td>0.025615</td>\n",
       "      <td>0.051887</td>\n",
       "      <td>0.049015</td>\n",
       "      <td>0.051887</td>\n",
       "      <td>0.000006</td>\n",
       "      <td>2</td>\n",
       "      <td>0.000639</td>\n",
       "    </tr>\n",
       "    <tr>\n",
       "      <th>3</th>\n",
       "      <td>BT-20</td>\n",
       "      <td>22RV1</td>\n",
       "      <td>0.001388</td>\n",
       "      <td>0.393069</td>\n",
       "      <td>2.267103</td>\n",
       "      <td>0.000253</td>\n",
       "      <td>0.043581</td>\n",
       "      <td>0.012970</td>\n",
       "      <td>0.007269</td>\n",
       "      <td>0.103448</td>\n",
       "      <td>0.022989</td>\n",
       "      <td>0.160920</td>\n",
       "      <td>7.476030e-07</td>\n",
       "      <td>6</td>\n",
       "      <td>7.178547e-07</td>\n",
       "      <td>NaN</td>\n",
       "      <td>0.027872</td>\n",
       "      <td>0.051887</td>\n",
       "      <td>0.057381</td>\n",
       "      <td>0.047170</td>\n",
       "      <td>0.000010</td>\n",
       "      <td>2</td>\n",
       "      <td>0.000639</td>\n",
       "    </tr>\n",
       "    <tr>\n",
       "      <th>4</th>\n",
       "      <td>BT-474</td>\n",
       "      <td>22RV1</td>\n",
       "      <td>0.001738</td>\n",
       "      <td>0.432597</td>\n",
       "      <td>2.701113</td>\n",
       "      <td>0.000237</td>\n",
       "      <td>0.051116</td>\n",
       "      <td>0.012212</td>\n",
       "      <td>0.008412</td>\n",
       "      <td>0.120690</td>\n",
       "      <td>0.017241</td>\n",
       "      <td>0.166667</td>\n",
       "      <td>6.503726e-07</td>\n",
       "      <td>8</td>\n",
       "      <td>5.239601e-07</td>\n",
       "      <td>NaN</td>\n",
       "      <td>0.034414</td>\n",
       "      <td>0.058962</td>\n",
       "      <td>0.062784</td>\n",
       "      <td>0.056604</td>\n",
       "      <td>0.000009</td>\n",
       "      <td>2</td>\n",
       "      <td>0.000639</td>\n",
       "    </tr>\n",
       "  </tbody>\n",
       "</table>\n",
       "</div>"
      ],
      "text/plain": [
       "        c_x    c_y  f_mutation_maybe_bad_density_gbgc_sqeuclidean  f_mutation_very_bad_density_gbgc_cityblock  f_mutation_density_gbgc_cityblock  f_maybe_somatic_density_gbgc_sqeuclidean  f_mutation_mild_density_gbgc_matching  f_homozygous_density_gbgc_sokalmichener  f_snp_density_gbgc_sokalmichener  f_mutation_maybe_bad_density_gbgc_sstarget_matching  f_mutation_very_bad_density_gbgc_sstarget_matching  f_mutation_density_gbgc_sstarget_matching  f_maybe_somatic_density_gbgc_sstarget_sqeuclidean  f_mutation_mild_density_gbgc_sstarget_canberra  f_homozygous_density_gbgc_sstarget_sqeuclidean  f_snp_density_gbgc_sstarget_correlation  f_mutation_maybe_bad_density_gbgc_sscgs_cityblock  f_mutation_very_bad_density_gbgc_sscgs_matching  f_mutation_density_gbgc_sscgs_cityblock  f_maybe_somatic_density_gbgc_sscgs_matching  f_mutation_mild_density_gbgc_sscgs_sqeuclidean  f_homozygous_density_gbgc_sscgs_yule  f_snp_density_gbgc_sscgs_euclidean\n",
       "0     647-V  22RV1                                       0.001500                                    0.412260                           2.413418                                  0.000225                               0.044924                                 0.017414                          0.008697                                           0.114943                                             0.017241                                    0.183908                                       7.476030e-07                                              10                                    1.900168e-07                                      NaN                                           0.027031                                         0.056604                                 0.054533                                     0.054245                                        0.000005                                     2                            0.000639\n",
       "1      A549  22RV1                                       0.001339                                    0.395590                           2.209933                                  0.000268                               0.040365                                 0.012876                          0.007364                                           0.103448                                             0.017241                                    0.155172                                       7.476030e-07                                               7                                    5.239601e-07                                      NaN                                           0.027547                                         0.056604                                 0.056384                                     0.063679                                        0.000005                                     2                            0.000938\n",
       "2  BFTC-905  22RV1                                       0.001731                                    0.399189                           2.453866                                  0.000225                               0.048236                                 0.023807                          0.009173                                           0.126437                                             0.017241                                    0.178161                                       7.476030e-07                                               6                                    1.665301e-06                                      NaN                                           0.025615                                         0.051887                                 0.049015                                     0.051887                                        0.000006                                     2                            0.000639\n",
       "3     BT-20  22RV1                                       0.001388                                    0.393069                           2.267103                                  0.000253                               0.043581                                 0.012970                          0.007269                                           0.103448                                             0.022989                                    0.160920                                       7.476030e-07                                               6                                    7.178547e-07                                      NaN                                           0.027872                                         0.051887                                 0.057381                                     0.047170                                        0.000010                                     2                            0.000639\n",
       "4    BT-474  22RV1                                       0.001738                                    0.432597                           2.701113                                  0.000237                               0.051116                                 0.012212                          0.008412                                           0.120690                                             0.017241                                    0.166667                                       6.503726e-07                                               8                                    5.239601e-07                                      NaN                                           0.034414                                         0.058962                                 0.062784                                     0.056604                                        0.000009                                     2                            0.000639"
      ]
     },
     "metadata": {},
     "output_type": "display_data"
    }
   ],
   "source": [
    "mutations_gbcc = (\n",
    "    cc_distances.iloc[0]['PW']\n",
    "    .drop(pd.Index(['score_diff']), axis=1)\n",
    "    .rename(columns={'x': 'c_x', 'y': 'c_y'})\n",
    ")\n",
    "display(mutations_gbcc.head())\n",
    "\n",
    "for i in range(1, len(cc_distances)):\n",
    "    df_other = (\n",
    "        cc_distances.iloc[i]['PW']\n",
    "        .drop(pd.Index(['score_diff']), axis=1)\n",
    "        .rename(columns={'x': 'c_x', 'y': 'c_y'})\n",
    "    )   \n",
    "    mutations_gbcc = mutations_gbcc.merge(df_other, on=['c_x', 'c_y'], how='outer')\n",
    "display(mutations_gbcc.head())"
   ]
  },
  {
   "cell_type": "code",
   "execution_count": 84,
   "metadata": {
    "collapsed": false
   },
   "outputs": [
    {
     "name": "stdout",
     "output_type": "stream",
     "text": [
      "ls: cannot access /home/kimlab1/database_data/biodata/recipes/az_dream_2015/notebooks/cnv/mutations_gbcc.tsv: No such file or directory\r\n"
     ]
    }
   ],
   "source": [
    "!ls /home/kimlab1/database_data/biodata/recipes/az_dream_2015/notebooks/cnv/mutations_gbcc.tsv -al"
   ]
  },
  {
   "cell_type": "code",
   "execution_count": 85,
   "metadata": {
    "collapsed": false,
    "scrolled": false
   },
   "outputs": [
    {
     "name": "stderr",
     "output_type": "stream",
     "text": [
      "DEBUG:csv2sql.core:Uncompressing file...\n",
      "INFO:csv2sql.core:bzip2 -dkf '/home/kimlab1/database_data/biodata/recipes/az_dream_2015/notebooks/cnv/mutations_gbcc.tsv.bz2'\n",
      "DEBUG:csv2sql.core:Running on host: 'xxx.xxx.xxx.xxx'\n",
      "DEBUG:csv2sql.core:Command ran successfully!\n",
      "DEBUG:csv2sql.core:output: \n"
     ]
    },
    {
     "name": "stdout",
     "output_type": "stream",
     "text": [
      "FML\n",
      "FML\n",
      "FML"
     ]
    },
    {
     "name": "stderr",
     "output_type": "stream",
     "text": [
      "DEBUG:csv2sql.core:Loading data into MySQL table: 'mutations_gbcc'...\n",
      "INFO:csv2sql.core:mysql  az_dream_2015_features -e \"load data local infile '/home/kimlab1/database_data/biodata/recipes/az_dream_2015/notebooks/cnv/mutations_gbcc.tsv' into table `mutations_gbcc` ignore 1 lines;  show warnings;\" \n",
      "DEBUG:csv2sql.core:Running locally\n",
      "DEBUG:csv2sql.core:Command ran successfully!\n",
      "DEBUG:csv2sql.core:output: \n",
      "DEBUG:csv2sql.core:Removing uncompressed file '/home/kimlab1/database_data/biodata/recipes/az_dream_2015/notebooks/cnv/mutations_gbcc.tsv'...\n",
      "INFO:csv2sql.core:rm -f '/home/kimlab1/database_data/biodata/recipes/az_dream_2015/notebooks/cnv/mutations_gbcc.tsv'\n",
      "DEBUG:csv2sql.core:Running locally\n",
      "DEBUG:csv2sql.core:Command ran successfully!\n",
      "DEBUG:csv2sql.core:output: \n"
     ]
    },
    {
     "name": "stdout",
     "output_type": "stream",
     "text": [
      "\n"
     ]
    }
   ],
   "source": [
    "db.import_table(\n",
    "    mutations_gbcc, \n",
    "    'mutations_gbcc', [\n",
    "        [('c_x', 'c_y'), True],\n",
    "        [('c_y', 'c_x'), False],\n",
    "    ],\n",
    ")"
   ]
  },
  {
   "cell_type": "code",
   "execution_count": null,
   "metadata": {
    "collapsed": true
   },
   "outputs": [],
   "source": []
  },
  {
   "cell_type": "markdown",
   "metadata": {
    "collapsed": true
   },
   "source": [
    "# Finalize"
   ]
  },
  {
   "cell_type": "code",
   "execution_count": null,
   "metadata": {
    "collapsed": false
   },
   "outputs": [],
   "source": [
    "print(datetime.datetime.now())"
   ]
  },
  {
   "cell_type": "code",
   "execution_count": null,
   "metadata": {
    "collapsed": true
   },
   "outputs": [],
   "source": []
  }
 ],
 "metadata": {
  "celltoolbar": "Raw Cell Format",
  "kernelspec": {
   "display_name": "Python 3",
   "language": "python",
   "name": "python3"
  },
  "language_info": {
   "codemirror_mode": {
    "name": "ipython",
    "version": 3
   },
   "file_extension": ".py",
   "mimetype": "text/x-python",
   "name": "python",
   "nbconvert_exporter": "python",
   "pygments_lexer": "ipython3",
   "version": "3.5.1"
  }
 },
 "nbformat": 4,
 "nbformat_minor": 0
}
