{
 "cells": [
  {
   "cell_type": "markdown",
   "metadata": {
    "collapsed": true,
    "run_control": {
     "marked": false
    }
   },
   "source": [
    "# Intro"
   ]
  },
  {
   "cell_type": "markdown",
   "metadata": {},
   "source": [
    "- Here we parse the provided *training*, *validation* and *test* sets.\n",
    "- Additionally, the training set is grouped by _cell line_ and _drug pair_.\n",
    "- The resulting tables are places in the **`az_dream_data`** database."
   ]
  },
  {
   "cell_type": "code",
   "execution_count": 2,
   "metadata": {
    "collapsed": false,
    "run_control": {
     "marked": false
    }
   },
   "outputs": [
    {
     "name": "stderr",
     "output_type": "stream",
     "text": [
      "/home/kimlab1/strokach/anaconda3/lib/python3.5/site-packages/IPython/html.py:14: ShimWarning: The `IPython.html` package has been deprecated. You should import from `notebook` instead. `IPython.html.widgets` has moved to `ipywidgets`.\n",
      "  \"`IPython.html.widgets` has moved to `ipywidgets`.\", ShimWarning)\n"
     ]
    }
   ],
   "source": [
    "import os\n",
    "import os.path as op\n",
    "\n",
    "import numpy as np\n",
    "import scipy as sp\n",
    "import pandas as pd\n",
    "import sqlalchemy as sa\n",
    "\n",
    "from IPython.display import display, HTML\n",
    "import matplotlib.pyplot as plt\n",
    "\n",
    "import qgrid\n",
    "qgrid.nbinstall(overwrite=True)\n",
    "qgrid.set_defaults(remote_js=True, precision=4)\n",
    "\n",
    "from common import dat"
   ]
  },
  {
   "cell_type": "code",
   "execution_count": 3,
   "metadata": {
    "collapsed": false,
    "run_control": {
     "marked": false
    }
   },
   "outputs": [
    {
     "name": "stderr",
     "output_type": "stream",
     "text": [
      "/home/kimlab1/strokach/anaconda3/lib/python3.5/site-packages/matplotlib/__init__.py:872: UserWarning: axes.color_cycle is deprecated and replaced with axes.prop_cycle; please use the latter.\n",
      "  warnings.warn(self.msg_depr % (key, alt_key))\n"
     ]
    }
   ],
   "source": [
    "import pandas as pd\n",
    "pd.set_option('display.max_rows', 500)\n",
    "pd.set_option('display.max_columns', 500)\n",
    "pd.set_option('display.width', 1000)\n",
    "\n",
    "import seaborn as sns\n",
    "sns.set(style=\"white\", color_codes=True)\n",
    "sns.set_context('notebook', font_scale=2.0)"
   ]
  },
  {
   "cell_type": "code",
   "execution_count": 4,
   "metadata": {
    "collapsed": false,
    "run_control": {
     "marked": false
    },
    "scrolled": true
   },
   "outputs": [],
   "source": [
    "%matplotlib inline\n",
    "%load_ext autoreload\n",
    "%autoreload 2"
   ]
  },
  {
   "cell_type": "code",
   "execution_count": null,
   "metadata": {
    "collapsed": true
   },
   "outputs": [],
   "source": []
  },
  {
   "cell_type": "markdown",
   "metadata": {},
   "source": [
    "# Common"
   ]
  },
  {
   "cell_type": "code",
   "execution_count": 5,
   "metadata": {
    "collapsed": true,
    "run_control": {
     "marked": false
    }
   },
   "outputs": [],
   "source": [
    "# Common\n",
    "engine = sa.create_engine('mysql://strokach:@192.168.6.19:3306/az_dream_data')\n",
    "dtype = {\n",
    "    'CELL_LINE': sa.VARCHAR(255),\n",
    "    'COMPOUND_A': sa.VARCHAR(255),\n",
    "    'COMPOUND_B': sa.VARCHAR(255),\n",
    "    'MAX_CONC_A': sa.dialects.mysql.DOUBLE,\n",
    "    'MAX_CONC_B': sa.dialects.mysql.DOUBLE,\n",
    "    'IC50_A': sa.dialects.mysql.DOUBLE,\n",
    "    'H_A': sa.dialects.mysql.DOUBLE,\n",
    "    'Einf_A': sa.dialects.mysql.DOUBLE,\n",
    "    'IC50_B': sa.dialects.mysql.DOUBLE,\n",
    "    'H_B': sa.dialects.mysql.DOUBLE,\n",
    "    'Einf_B': sa.dialects.mysql.DOUBLE,\n",
    "    'SYNERGY_SCORE': sa.dialects.mysql.DOUBLE,\n",
    "    'QA': sa.INTEGER,\n",
    "    'COMBINATION_ID': sa.VARCHAR(255),\n",
    "}\n",
    "\n",
    "def export_to_db(df, table_name, engine=engine, dtype=dtype):\n",
    "    df.to_sql(table_name, engine, index=False, if_exists='replace', dtype=dtype)\n",
    "    engine.execute('create index a on {} (COMBINATION_ID, COMPOUND_A, COMPOUND_B)'.format(table_name))\n",
    "    engine.execute('create index b on {} (COMPOUND_A, COMPOUND_B, COMBINATION_ID)'.format(table_name))\n",
    "    engine.execute('create index c on {} (COMBINATION_ID, CELL_LINE)'.format(table_name))\n",
    "    engine.execute('create index d on {} (CELL_LINE, COMBINATION_ID)'.format(table_name))\n",
    "    engine.execute('create index e on {} (COMPOUND_A, MAX_CONC_A)'.format(table_name))\n",
    "    engine.execute('create index f on {} (COMPOUND_B, MAX_CONC_B)'.format(table_name))"
   ]
  },
  {
   "cell_type": "code",
   "execution_count": null,
   "metadata": {
    "collapsed": true,
    "run_control": {
     "marked": false
    }
   },
   "outputs": [],
   "source": []
  },
  {
   "cell_type": "markdown",
   "metadata": {
    "run_control": {
     "marked": false
    }
   },
   "source": [
    "# Training"
   ]
  },
  {
   "cell_type": "markdown",
   "metadata": {
    "run_control": {
     "marked": false
    }
   },
   "source": [
    "## ch1_train_combination_and_monotherapy"
   ]
  },
  {
   "cell_type": "code",
   "execution_count": 6,
   "metadata": {
    "collapsed": false,
    "run_control": {
     "marked": false
    }
   },
   "outputs": [],
   "source": [
    "ch1_train_combination_and_monotherapy = pd.read_csv(\n",
    "    'challenge_data/drug_synergy_data/ch1_train_combination_and_monotherapy.csv/'\n",
    "    'ch1_train_combination_and_monoTherapy.csv', sep=','\n",
    ")"
   ]
  },
  {
   "cell_type": "code",
   "execution_count": 7,
   "metadata": {
    "collapsed": false,
    "run_control": {
     "marked": false
    }
   },
   "outputs": [
    {
     "data": {
      "text/html": [
       "<div>\n",
       "<table border=\"1\" class=\"dataframe\">\n",
       "  <thead>\n",
       "    <tr style=\"text-align: right;\">\n",
       "      <th></th>\n",
       "      <th>CELL_LINE</th>\n",
       "      <th>COMPOUND_A</th>\n",
       "      <th>COMPOUND_B</th>\n",
       "      <th>MAX_CONC_A</th>\n",
       "      <th>MAX_CONC_B</th>\n",
       "      <th>IC50_A</th>\n",
       "      <th>H_A</th>\n",
       "      <th>Einf_A</th>\n",
       "      <th>IC50_B</th>\n",
       "      <th>H_B</th>\n",
       "      <th>Einf_B</th>\n",
       "      <th>SYNERGY_SCORE</th>\n",
       "      <th>QA</th>\n",
       "      <th>COMBINATION_ID</th>\n",
       "    </tr>\n",
       "  </thead>\n",
       "  <tbody>\n",
       "    <tr>\n",
       "      <th>0</th>\n",
       "      <td>BT-20</td>\n",
       "      <td>ADAM17</td>\n",
       "      <td>AKT</td>\n",
       "      <td>1</td>\n",
       "      <td>75</td>\n",
       "      <td>1.000000</td>\n",
       "      <td>0.809002</td>\n",
       "      <td>59.122436</td>\n",
       "      <td>9.639714</td>\n",
       "      <td>0.757977</td>\n",
       "      <td>91.593425</td>\n",
       "      <td>29.540390</td>\n",
       "      <td>1</td>\n",
       "      <td>ADAM17.AKT</td>\n",
       "    </tr>\n",
       "    <tr>\n",
       "      <th>1</th>\n",
       "      <td>CAL-120</td>\n",
       "      <td>ADAM17</td>\n",
       "      <td>AKT</td>\n",
       "      <td>1</td>\n",
       "      <td>75</td>\n",
       "      <td>0.183214</td>\n",
       "      <td>2.503678</td>\n",
       "      <td>60.411999</td>\n",
       "      <td>1.000000</td>\n",
       "      <td>0.000000</td>\n",
       "      <td>100.000000</td>\n",
       "      <td>4.401410</td>\n",
       "      <td>-1</td>\n",
       "      <td>ADAM17.AKT</td>\n",
       "    </tr>\n",
       "    <tr>\n",
       "      <th>2</th>\n",
       "      <td>CAL-51</td>\n",
       "      <td>ADAM17</td>\n",
       "      <td>AKT</td>\n",
       "      <td>1</td>\n",
       "      <td>75</td>\n",
       "      <td>1.000000</td>\n",
       "      <td>0.726984</td>\n",
       "      <td>11.150843</td>\n",
       "      <td>75.000000</td>\n",
       "      <td>0.375043</td>\n",
       "      <td>76.656479</td>\n",
       "      <td>0.315422</td>\n",
       "      <td>1</td>\n",
       "      <td>ADAM17.AKT</td>\n",
       "    </tr>\n",
       "    <tr>\n",
       "      <th>3</th>\n",
       "      <td>DU-4475</td>\n",
       "      <td>ADAM17</td>\n",
       "      <td>AKT</td>\n",
       "      <td>1</td>\n",
       "      <td>75</td>\n",
       "      <td>0.321533</td>\n",
       "      <td>10.000000</td>\n",
       "      <td>58.599487</td>\n",
       "      <td>75.000000</td>\n",
       "      <td>1.995866</td>\n",
       "      <td>6.171007</td>\n",
       "      <td>-41.734090</td>\n",
       "      <td>-1</td>\n",
       "      <td>ADAM17.AKT</td>\n",
       "    </tr>\n",
       "    <tr>\n",
       "      <th>4</th>\n",
       "      <td>HCC1143</td>\n",
       "      <td>ADAM17</td>\n",
       "      <td>AKT</td>\n",
       "      <td>1</td>\n",
       "      <td>75</td>\n",
       "      <td>0.398673</td>\n",
       "      <td>10.000000</td>\n",
       "      <td>89.098894</td>\n",
       "      <td>1.000000</td>\n",
       "      <td>0.000000</td>\n",
       "      <td>100.000000</td>\n",
       "      <td>35.532770</td>\n",
       "      <td>-1</td>\n",
       "      <td>ADAM17.AKT</td>\n",
       "    </tr>\n",
       "  </tbody>\n",
       "</table>\n",
       "</div>"
      ],
      "text/plain": [
       "  CELL_LINE COMPOUND_A COMPOUND_B  MAX_CONC_A  MAX_CONC_B    IC50_A        H_A     Einf_A     IC50_B       H_B      Einf_B  SYNERGY_SCORE  QA COMBINATION_ID\n",
       "0     BT-20     ADAM17        AKT           1          75  1.000000   0.809002  59.122436   9.639714  0.757977   91.593425      29.540390   1     ADAM17.AKT\n",
       "1   CAL-120     ADAM17        AKT           1          75  0.183214   2.503678  60.411999   1.000000  0.000000  100.000000       4.401410  -1     ADAM17.AKT\n",
       "2    CAL-51     ADAM17        AKT           1          75  1.000000   0.726984  11.150843  75.000000  0.375043   76.656479       0.315422   1     ADAM17.AKT\n",
       "3   DU-4475     ADAM17        AKT           1          75  0.321533  10.000000  58.599487  75.000000  1.995866    6.171007     -41.734090  -1     ADAM17.AKT\n",
       "4   HCC1143     ADAM17        AKT           1          75  0.398673  10.000000  89.098894   1.000000  0.000000  100.000000      35.532770  -1     ADAM17.AKT"
      ]
     },
     "metadata": {},
     "output_type": "display_data"
    },
    {
     "name": "stdout",
     "output_type": "stream",
     "text": [
      "Number of rows:                                             2199\n",
      "Number of cell lines:                                       85\n",
      "Number of compoounds:                                       69\n"
     ]
    }
   ],
   "source": [
    "ch_1_compounds = (\n",
    "    set(ch1_train_combination_and_monotherapy['COMPOUND_A']) |\n",
    "    set(ch1_train_combination_and_monotherapy['COMPOUND_B'])\n",
    ")\n",
    "\n",
    "display(ch1_train_combination_and_monotherapy.head())\n",
    "dat.print2('Number of rows:', len(ch1_train_combination_and_monotherapy))\n",
    "dat.print2('Number of cell lines:', len(set(ch1_train_combination_and_monotherapy['CELL_LINE'])))\n",
    "dat.print2('Number of compoounds:', len(ch_1_compounds))"
   ]
  },
  {
   "cell_type": "markdown",
   "metadata": {
    "code_folding": [],
    "run_control": {
     "marked": false
    }
   },
   "source": [
    "There is *some* correlation when we look at `ic50` values for the same cells, but that correlation dissappears when we look at `ic50` values for the same compound but different cells / max_conc values. The other parameters show no correlation... Maybe it's best to use AUC instead?.."
   ]
  },
  {
   "cell_type": "code",
   "execution_count": 8,
   "metadata": {
    "collapsed": false,
    "run_control": {
     "marked": false
    }
   },
   "outputs": [],
   "source": [
    "assert not ch1_train_combination_and_monotherapy.isnull().any().any()"
   ]
  },
  {
   "cell_type": "code",
   "execution_count": 9,
   "metadata": {
    "collapsed": false,
    "run_control": {
     "marked": false
    }
   },
   "outputs": [],
   "source": [
    "# Save to database\n",
    "export_to_db(ch1_train_combination_and_monotherapy, 'training')"
   ]
  },
  {
   "cell_type": "code",
   "execution_count": null,
   "metadata": {
    "code_folding": [
     0
    ],
    "collapsed": true,
    "run_control": {
     "marked": false
    }
   },
   "outputs": [],
   "source": []
  },
  {
   "cell_type": "markdown",
   "metadata": {
    "run_control": {
     "marked": false
    }
   },
   "source": [
    "### Add weights"
   ]
  },
  {
   "cell_type": "code",
   "execution_count": 10,
   "metadata": {
    "collapsed": true,
    "run_control": {
     "marked": false
    }
   },
   "outputs": [],
   "source": [
    "def get_weight(QA):\n",
    "    if QA == 1:\n",
    "        return 1\n",
    "    elif QA == -1:\n",
    "        return 0.01\n",
    "    elif QA == -2:\n",
    "        return 0.01\n",
    "    elif QA == -3:\n",
    "        return 0.01\n",
    "    else:\n",
    "        raise Exception()"
   ]
  },
  {
   "cell_type": "code",
   "execution_count": 11,
   "metadata": {
    "collapsed": true,
    "run_control": {
     "marked": false
    }
   },
   "outputs": [],
   "source": [
    "combinations_df_1 = ch1_train_combination_and_monotherapy.copy()\n",
    "combinations_df_1['WEIGHT'] = combinations_df_1['QA'].apply(get_weight)"
   ]
  },
  {
   "cell_type": "markdown",
   "metadata": {},
   "source": [
    "### Group by drug"
   ]
  },
  {
   "cell_type": "code",
   "execution_count": 20,
   "metadata": {
    "collapsed": false
   },
   "outputs": [],
   "source": [
    "training_by_drug = pd.concat([\n",
    "    combinations_df_1[['COMPOUND_A', 'SYNERGY_SCORE', 'WEIGHT']]\n",
    "    .rename(columns={\n",
    "            'COMPOUND_A': 'COMPOUND',\n",
    "        }),\n",
    "    combinations_df_1[['COMPOUND_B', 'SYNERGY_SCORE', 'WEIGHT']]\n",
    "    .rename(columns={\n",
    "            'COMPOUND_B': 'COMPOUND',\n",
    "        }),\n",
    "])"
   ]
  },
  {
   "cell_type": "code",
   "execution_count": 23,
   "metadata": {
    "collapsed": true
   },
   "outputs": [],
   "source": [
    "from functions import *\n",
    "training_gby_drug = get_weighted_stats(\n",
    "    training_by_drug, 'COMPOUND', 'SYNERGY_SCORE', 'WEIGHT')"
   ]
  },
  {
   "cell_type": "code",
   "execution_count": 24,
   "metadata": {
    "collapsed": false
   },
   "outputs": [
    {
     "data": {
      "text/html": [
       "<div>\n",
       "<table border=\"1\" class=\"dataframe\">\n",
       "  <thead>\n",
       "    <tr style=\"text-align: right;\">\n",
       "      <th></th>\n",
       "      <th>COMPOUND</th>\n",
       "      <th>LEN</th>\n",
       "      <th>LEN_UNWEIGHTED</th>\n",
       "      <th>MEAN</th>\n",
       "      <th>MEAN_UNWEIGHTED</th>\n",
       "      <th>STD</th>\n",
       "      <th>STD_UNWEIGHTED</th>\n",
       "      <th>STE</th>\n",
       "      <th>STE_UNWEIGHTED</th>\n",
       "      <th>CONFIDENCE</th>\n",
       "    </tr>\n",
       "  </thead>\n",
       "  <tbody>\n",
       "    <tr>\n",
       "      <th>0</th>\n",
       "      <td>ADAM17</td>\n",
       "      <td>85.18</td>\n",
       "      <td>103</td>\n",
       "      <td>6.077150</td>\n",
       "      <td>3.639117</td>\n",
       "      <td>19.048473</td>\n",
       "      <td>20.762748</td>\n",
       "      <td>2.063913</td>\n",
       "      <td>2.045814</td>\n",
       "      <td>0.878415</td>\n",
       "    </tr>\n",
       "    <tr>\n",
       "      <th>1</th>\n",
       "      <td>AKT</td>\n",
       "      <td>209.48</td>\n",
       "      <td>257</td>\n",
       "      <td>12.990700</td>\n",
       "      <td>4.981951</td>\n",
       "      <td>26.395353</td>\n",
       "      <td>41.300744</td>\n",
       "      <td>1.823712</td>\n",
       "      <td>2.576270</td>\n",
       "      <td>0.927703</td>\n",
       "    </tr>\n",
       "    <tr>\n",
       "      <th>2</th>\n",
       "      <td>AKT_1</td>\n",
       "      <td>149.20</td>\n",
       "      <td>169</td>\n",
       "      <td>16.016789</td>\n",
       "      <td>12.759452</td>\n",
       "      <td>25.594104</td>\n",
       "      <td>30.527971</td>\n",
       "      <td>2.095345</td>\n",
       "      <td>2.348305</td>\n",
       "      <td>0.872394</td>\n",
       "    </tr>\n",
       "    <tr>\n",
       "      <th>3</th>\n",
       "      <td>AKT_SGK</td>\n",
       "      <td>46.02</td>\n",
       "      <td>48</td>\n",
       "      <td>10.049147</td>\n",
       "      <td>9.716044</td>\n",
       "      <td>18.992123</td>\n",
       "      <td>18.772570</td>\n",
       "      <td>2.799627</td>\n",
       "      <td>2.709587</td>\n",
       "      <td>0.756963</td>\n",
       "    </tr>\n",
       "    <tr>\n",
       "      <th>4</th>\n",
       "      <td>ALK</td>\n",
       "      <td>37.14</td>\n",
       "      <td>51</td>\n",
       "      <td>16.966631</td>\n",
       "      <td>12.950270</td>\n",
       "      <td>20.245268</td>\n",
       "      <td>27.845114</td>\n",
       "      <td>3.322023</td>\n",
       "      <td>3.899096</td>\n",
       "      <td>0.688810</td>\n",
       "    </tr>\n",
       "  </tbody>\n",
       "</table>\n",
       "</div>"
      ],
      "text/plain": [
       "  COMPOUND     LEN  LEN_UNWEIGHTED       MEAN  MEAN_UNWEIGHTED        STD  STD_UNWEIGHTED       STE  STE_UNWEIGHTED  CONFIDENCE\n",
       "0   ADAM17   85.18             103   6.077150         3.639117  19.048473       20.762748  2.063913        2.045814    0.878415\n",
       "1      AKT  209.48             257  12.990700         4.981951  26.395353       41.300744  1.823712        2.576270    0.927703\n",
       "2    AKT_1  149.20             169  16.016789        12.759452  25.594104       30.527971  2.095345        2.348305    0.872394\n",
       "3  AKT_SGK   46.02              48  10.049147         9.716044  18.992123       18.772570  2.799627        2.709587    0.756963\n",
       "4      ALK   37.14              51  16.966631        12.950270  20.245268       27.845114  3.322023        3.899096    0.688810"
      ]
     },
     "metadata": {},
     "output_type": "display_data"
    },
    {
     "name": "stdout",
     "output_type": "stream",
     "text": [
      "69\n"
     ]
    }
   ],
   "source": [
    "display(training_gby_drug.head())\n",
    "print(training_gby_drug.shape[0])"
   ]
  },
  {
   "cell_type": "code",
   "execution_count": 25,
   "metadata": {
    "collapsed": false
   },
   "outputs": [
    {
     "data": {
      "text/html": [
       "<div>\n",
       "<table border=\"1\" class=\"dataframe\">\n",
       "  <thead>\n",
       "    <tr style=\"text-align: right;\">\n",
       "      <th></th>\n",
       "      <th>COMPOUND</th>\n",
       "      <th>LEN</th>\n",
       "      <th>LEN_UNWEIGHTED</th>\n",
       "      <th>MEAN</th>\n",
       "      <th>MEAN_UNWEIGHTED</th>\n",
       "      <th>STD</th>\n",
       "      <th>STD_UNWEIGHTED</th>\n",
       "      <th>STE</th>\n",
       "      <th>STE_UNWEIGHTED</th>\n",
       "      <th>CONFIDENCE</th>\n",
       "    </tr>\n",
       "  </thead>\n",
       "  <tbody>\n",
       "  </tbody>\n",
       "</table>\n",
       "</div>"
      ],
      "text/plain": [
       "Empty DataFrame\n",
       "Columns: [COMPOUND, LEN, LEN_UNWEIGHTED, MEAN, MEAN_UNWEIGHTED, STD, STD_UNWEIGHTED, STE, STE_UNWEIGHTED, CONFIDENCE]\n",
       "Index: []"
      ]
     },
     "execution_count": 25,
     "metadata": {},
     "output_type": "execute_result"
    }
   ],
   "source": [
    "training_gby_drug[training_gby_drug['MEAN'].isnull()]"
   ]
  },
  {
   "cell_type": "code",
   "execution_count": 27,
   "metadata": {
    "collapsed": false
   },
   "outputs": [
    {
     "name": "stdout",
     "output_type": "stream",
     "text": [
      "4.87397482378\n"
     ]
    },
    {
     "data": {
      "image/png": "[encoded data removed]",
      "text/plain": [
       "<matplotlib.figure.Figure at 0x7f86db1af710>"
      ]
     },
     "metadata": {},
     "output_type": "display_data"
    }
   ],
   "source": [
    "# Compare weighted and unweighted values\n",
    "fg, ax = plt.subplots(1, 2, figsize=(10, 4))\n",
    "training_gby_drug.plot(y='MEAN', x='MEAN_UNWEIGHTED', kind='scatter', ax=ax[0])\n",
    "ax[0].set_xlim(-40, 60)\n",
    "ax[0].set_ylim(-40, 60)\n",
    "training_gby_drug.plot(y='STE', x='STE_UNWEIGHTED', kind='scatter', ax=ax[1])\n",
    "ax[1].set_xlim(0, 20)\n",
    "ax[1].set_ylim(0, 20)\n",
    "plt.tight_layout()\n",
    "print(training_gby_drug['STE'].mean())"
   ]
  },
  {
   "cell_type": "code",
   "execution_count": 28,
   "metadata": {
    "collapsed": false
   },
   "outputs": [
    {
     "data": {
      "text/plain": [
       "<matplotlib.axes._subplots.AxesSubplot at 0x7f86db18e9b0>"
      ]
     },
     "execution_count": 28,
     "metadata": {},
     "output_type": "execute_result"
    },
    {
     "data": {
      "image/png": "[encoded data removed]",
      "text/plain": [
       "<matplotlib.figure.Figure at 0x7f86db204128>"
      ]
     },
     "metadata": {},
     "output_type": "display_data"
    }
   ],
   "source": [
    "training_gby_drug['CONFIDENCE'].hist()"
   ]
  },
  {
   "cell_type": "markdown",
   "metadata": {
    "collapsed": true,
    "run_control": {
     "marked": false
    }
   },
   "source": [
    "### Group by drug pair"
   ]
  },
  {
   "cell_type": "code",
   "execution_count": 711,
   "metadata": {
    "collapsed": false,
    "run_control": {
     "marked": false
    }
   },
   "outputs": [],
   "source": [
    "from functions import *\n",
    "training_gby_drugpair = get_weighted_stats(\n",
    "    combinations_df_1, 'COMBINATION_ID', 'SYNERGY_SCORE', 'WEIGHT')"
   ]
  },
  {
   "cell_type": "code",
   "execution_count": 712,
   "metadata": {
    "collapsed": false,
    "run_control": {
     "marked": false
    }
   },
   "outputs": [
    {
     "data": {
      "text/html": [
       "<div>\n",
       "<table border=\"1\" class=\"dataframe\">\n",
       "  <thead>\n",
       "    <tr style=\"text-align: right;\">\n",
       "      <th></th>\n",
       "      <th>COMBINATION_ID</th>\n",
       "      <th>LEN</th>\n",
       "      <th>LEN_UNWEIGHTED</th>\n",
       "      <th>MEAN</th>\n",
       "      <th>MEAN_UNWEIGHTED</th>\n",
       "      <th>STD</th>\n",
       "      <th>STD_UNWEIGHTED</th>\n",
       "      <th>STE</th>\n",
       "      <th>STE_UNWEIGHTED</th>\n",
       "      <th>CONFIDENCE</th>\n",
       "    </tr>\n",
       "  </thead>\n",
       "  <tbody>\n",
       "    <tr>\n",
       "      <th>0</th>\n",
       "      <td>ADAM17.AKT</td>\n",
       "      <td>10.04</td>\n",
       "      <td>14</td>\n",
       "      <td>9.770357</td>\n",
       "      <td>5.005206</td>\n",
       "      <td>17.719676</td>\n",
       "      <td>23.066728</td>\n",
       "      <td>5.592280</td>\n",
       "      <td>6.164842</td>\n",
       "      <td>0.589056</td>\n",
       "    </tr>\n",
       "    <tr>\n",
       "      <th>1</th>\n",
       "      <td>ADAM17.BCL2_BCL2L1</td>\n",
       "      <td>11.01</td>\n",
       "      <td>12</td>\n",
       "      <td>-3.388489</td>\n",
       "      <td>-4.554570</td>\n",
       "      <td>5.488376</td>\n",
       "      <td>6.539051</td>\n",
       "      <td>1.654056</td>\n",
       "      <td>1.887661</td>\n",
       "      <td>0.988667</td>\n",
       "    </tr>\n",
       "    <tr>\n",
       "      <th>2</th>\n",
       "      <td>ADAM17.FGFR</td>\n",
       "      <td>10.03</td>\n",
       "      <td>13</td>\n",
       "      <td>-4.716887</td>\n",
       "      <td>-8.917044</td>\n",
       "      <td>17.181397</td>\n",
       "      <td>20.848170</td>\n",
       "      <td>5.425103</td>\n",
       "      <td>5.782242</td>\n",
       "      <td>0.599013</td>\n",
       "    </tr>\n",
       "    <tr>\n",
       "      <th>3</th>\n",
       "      <td>ADAM17.MAP2K_1</td>\n",
       "      <td>11.02</td>\n",
       "      <td>13</td>\n",
       "      <td>-1.440116</td>\n",
       "      <td>-6.053760</td>\n",
       "      <td>15.827779</td>\n",
       "      <td>18.690474</td>\n",
       "      <td>4.767923</td>\n",
       "      <td>5.183805</td>\n",
       "      <td>0.641372</td>\n",
       "    </tr>\n",
       "    <tr>\n",
       "      <th>4</th>\n",
       "      <td>ADAM17.MTOR_1</td>\n",
       "      <td>10.04</td>\n",
       "      <td>14</td>\n",
       "      <td>9.601635</td>\n",
       "      <td>9.625085</td>\n",
       "      <td>17.535949</td>\n",
       "      <td>15.960108</td>\n",
       "      <td>5.534296</td>\n",
       "      <td>4.265518</td>\n",
       "      <td>0.592476</td>\n",
       "    </tr>\n",
       "  </tbody>\n",
       "</table>\n",
       "</div>"
      ],
      "text/plain": [
       "       COMBINATION_ID    LEN  LEN_UNWEIGHTED      MEAN  MEAN_UNWEIGHTED        STD  STD_UNWEIGHTED       STE  STE_UNWEIGHTED  CONFIDENCE\n",
       "0          ADAM17.AKT  10.04              14  9.770357         5.005206  17.719676       23.066728  5.592280        6.164842    0.589056\n",
       "1  ADAM17.BCL2_BCL2L1  11.01              12 -3.388489        -4.554570   5.488376        6.539051  1.654056        1.887661    0.988667\n",
       "2         ADAM17.FGFR  10.03              13 -4.716887        -8.917044  17.181397       20.848170  5.425103        5.782242    0.599013\n",
       "3      ADAM17.MAP2K_1  11.02              13 -1.440116        -6.053760  15.827779       18.690474  4.767923        5.183805    0.641372\n",
       "4       ADAM17.MTOR_1  10.04              14  9.601635         9.625085  17.535949       15.960108  5.534296        4.265518    0.592476"
      ]
     },
     "metadata": {},
     "output_type": "display_data"
    },
    {
     "name": "stdout",
     "output_type": "stream",
     "text": [
      "169\n"
     ]
    }
   ],
   "source": [
    "display(training_gby_drugpair.head())\n",
    "print(training_gby_drugpair.shape[0])"
   ]
  },
  {
   "cell_type": "code",
   "execution_count": 713,
   "metadata": {
    "collapsed": false,
    "run_control": {
     "marked": false
    }
   },
   "outputs": [
    {
     "data": {
      "text/html": [
       "<div>\n",
       "<table border=\"1\" class=\"dataframe\">\n",
       "  <thead>\n",
       "    <tr style=\"text-align: right;\">\n",
       "      <th></th>\n",
       "      <th>COMBINATION_ID</th>\n",
       "      <th>LEN</th>\n",
       "      <th>LEN_UNWEIGHTED</th>\n",
       "      <th>MEAN</th>\n",
       "      <th>MEAN_UNWEIGHTED</th>\n",
       "      <th>STD</th>\n",
       "      <th>STD_UNWEIGHTED</th>\n",
       "      <th>STE</th>\n",
       "      <th>STE_UNWEIGHTED</th>\n",
       "      <th>CONFIDENCE</th>\n",
       "    </tr>\n",
       "  </thead>\n",
       "  <tbody>\n",
       "  </tbody>\n",
       "</table>\n",
       "</div>"
      ],
      "text/plain": [
       "Empty DataFrame\n",
       "Columns: [COMBINATION_ID, LEN, LEN_UNWEIGHTED, MEAN, MEAN_UNWEIGHTED, STD, STD_UNWEIGHTED, STE, STE_UNWEIGHTED, CONFIDENCE]\n",
       "Index: []"
      ]
     },
     "execution_count": 713,
     "metadata": {},
     "output_type": "execute_result"
    }
   ],
   "source": [
    "training_gby_drugpair[training_gby_drugpair['MEAN'].isnull()]"
   ]
  },
  {
   "cell_type": "code",
   "execution_count": 714,
   "metadata": {
    "collapsed": false,
    "run_control": {
     "marked": false
    }
   },
   "outputs": [
    {
     "name": "stdout",
     "output_type": "stream",
     "text": [
      "7.27268691437\n"
     ]
    },
    {
     "data": {
      "image/png": "[encoded data removed]",
      "text/plain": [
       "<matplotlib.figure.Figure at 0x7f3de30a5eb8>"
      ]
     },
     "metadata": {},
     "output_type": "display_data"
    }
   ],
   "source": [
    "# Compare weighted and unweighted values\n",
    "fg, ax = plt.subplots(1, 2, figsize=(10, 4))\n",
    "training_gby_drugpair.plot(y='MEAN', x='MEAN_UNWEIGHTED', kind='scatter', ax=ax[0])\n",
    "ax[0].set_xlim(-40, 60)\n",
    "ax[0].set_ylim(-40, 60)\n",
    "training_gby_drugpair.plot(y='STE', x='STE_UNWEIGHTED', kind='scatter', ax=ax[1])\n",
    "ax[1].set_xlim(0, 20)\n",
    "ax[1].set_ylim(0, 20)\n",
    "plt.tight_layout()\n",
    "print(training_gby_drugpair['STE'].mean())"
   ]
  },
  {
   "cell_type": "markdown",
   "metadata": {
    "run_control": {
     "marked": false
    }
   },
   "source": [
    "The weighted dataset in general has a smaller standard deviation, which is good."
   ]
  },
  {
   "cell_type": "code",
   "execution_count": 715,
   "metadata": {
    "collapsed": false
   },
   "outputs": [
    {
     "data": {
      "text/plain": [
       "<matplotlib.axes._subplots.AxesSubplot at 0x7f3de66351d0>"
      ]
     },
     "execution_count": 715,
     "metadata": {},
     "output_type": "execute_result"
    },
    {
     "data": {
      "image/png": "[encoded data removed]",
      "text/plain": [
       "<matplotlib.figure.Figure at 0x7f3de667a470>"
      ]
     },
     "metadata": {},
     "output_type": "display_data"
    }
   ],
   "source": [
    "training_gby_drugpair['CONFIDENCE'].hist()"
   ]
  },
  {
   "cell_type": "markdown",
   "metadata": {
    "run_control": {
     "marked": false
    }
   },
   "source": [
    "### Group by cell line"
   ]
  },
  {
   "cell_type": "code",
   "execution_count": 716,
   "metadata": {
    "collapsed": true,
    "run_control": {
     "marked": false
    }
   },
   "outputs": [],
   "source": [
    "from functions import *\n",
    "training_gby_cell = get_weighted_stats(\n",
    "    combinations_df_1, 'CELL_LINE', 'SYNERGY_SCORE', 'WEIGHT')"
   ]
  },
  {
   "cell_type": "code",
   "execution_count": 717,
   "metadata": {
    "collapsed": false,
    "run_control": {
     "marked": false
    }
   },
   "outputs": [
    {
     "data": {
      "text/html": [
       "<div>\n",
       "<table border=\"1\" class=\"dataframe\">\n",
       "  <thead>\n",
       "    <tr style=\"text-align: right;\">\n",
       "      <th></th>\n",
       "      <th>CELL_LINE</th>\n",
       "      <th>LEN</th>\n",
       "      <th>LEN_UNWEIGHTED</th>\n",
       "      <th>MEAN</th>\n",
       "      <th>MEAN_UNWEIGHTED</th>\n",
       "      <th>STD</th>\n",
       "      <th>STD_UNWEIGHTED</th>\n",
       "      <th>STE</th>\n",
       "      <th>STE_UNWEIGHTED</th>\n",
       "      <th>CONFIDENCE</th>\n",
       "    </tr>\n",
       "  </thead>\n",
       "  <tbody>\n",
       "    <tr>\n",
       "      <th>0</th>\n",
       "      <td>22RV1</td>\n",
       "      <td>2.00</td>\n",
       "      <td>2</td>\n",
       "      <td>-8.601674</td>\n",
       "      <td>-8.601674</td>\n",
       "      <td>5.217406</td>\n",
       "      <td>5.217406</td>\n",
       "      <td>3.689263</td>\n",
       "      <td>3.689263</td>\n",
       "      <td>0.762318</td>\n",
       "    </tr>\n",
       "    <tr>\n",
       "      <th>1</th>\n",
       "      <td>647-V</td>\n",
       "      <td>23.00</td>\n",
       "      <td>23</td>\n",
       "      <td>13.834063</td>\n",
       "      <td>13.834063</td>\n",
       "      <td>24.923975</td>\n",
       "      <td>24.923975</td>\n",
       "      <td>5.197008</td>\n",
       "      <td>5.197008</td>\n",
       "      <td>0.660662</td>\n",
       "    </tr>\n",
       "    <tr>\n",
       "      <th>2</th>\n",
       "      <td>A549</td>\n",
       "      <td>16.04</td>\n",
       "      <td>20</td>\n",
       "      <td>24.877803</td>\n",
       "      <td>21.671942</td>\n",
       "      <td>35.921460</td>\n",
       "      <td>34.170838</td>\n",
       "      <td>8.969161</td>\n",
       "      <td>7.640832</td>\n",
       "      <td>0.498767</td>\n",
       "    </tr>\n",
       "    <tr>\n",
       "      <th>3</th>\n",
       "      <td>BFTC-905</td>\n",
       "      <td>25.00</td>\n",
       "      <td>25</td>\n",
       "      <td>21.839952</td>\n",
       "      <td>21.839952</td>\n",
       "      <td>33.543954</td>\n",
       "      <td>33.543954</td>\n",
       "      <td>6.708791</td>\n",
       "      <td>6.708791</td>\n",
       "      <td>0.584912</td>\n",
       "    </tr>\n",
       "    <tr>\n",
       "      <th>4</th>\n",
       "      <td>BT-20</td>\n",
       "      <td>51.00</td>\n",
       "      <td>51</td>\n",
       "      <td>22.283808</td>\n",
       "      <td>22.283808</td>\n",
       "      <td>20.415080</td>\n",
       "      <td>20.415080</td>\n",
       "      <td>2.858683</td>\n",
       "      <td>2.858683</td>\n",
       "      <td>0.837988</td>\n",
       "    </tr>\n",
       "  </tbody>\n",
       "</table>\n",
       "</div>"
      ],
      "text/plain": [
       "  CELL_LINE    LEN  LEN_UNWEIGHTED       MEAN  MEAN_UNWEIGHTED        STD  STD_UNWEIGHTED       STE  STE_UNWEIGHTED  CONFIDENCE\n",
       "0     22RV1   2.00               2  -8.601674        -8.601674   5.217406        5.217406  3.689263        3.689263    0.762318\n",
       "1     647-V  23.00              23  13.834063        13.834063  24.923975       24.923975  5.197008        5.197008    0.660662\n",
       "2      A549  16.04              20  24.877803        21.671942  35.921460       34.170838  8.969161        7.640832    0.498767\n",
       "3  BFTC-905  25.00              25  21.839952        21.839952  33.543954       33.543954  6.708791        6.708791    0.584912\n",
       "4     BT-20  51.00              51  22.283808        22.283808  20.415080       20.415080  2.858683        2.858683    0.837988"
      ]
     },
     "metadata": {},
     "output_type": "display_data"
    },
    {
     "name": "stdout",
     "output_type": "stream",
     "text": [
      "85\n"
     ]
    }
   ],
   "source": [
    "display(training_gby_cell.head())\n",
    "print(training_gby_cell.shape[0])"
   ]
  },
  {
   "cell_type": "code",
   "execution_count": 718,
   "metadata": {
    "collapsed": false,
    "run_control": {
     "marked": false
    }
   },
   "outputs": [
    {
     "data": {
      "text/html": [
       "<div>\n",
       "<table border=\"1\" class=\"dataframe\">\n",
       "  <thead>\n",
       "    <tr style=\"text-align: right;\">\n",
       "      <th></th>\n",
       "      <th>CELL_LINE</th>\n",
       "      <th>LEN</th>\n",
       "      <th>LEN_UNWEIGHTED</th>\n",
       "      <th>MEAN</th>\n",
       "      <th>MEAN_UNWEIGHTED</th>\n",
       "      <th>STD</th>\n",
       "      <th>STD_UNWEIGHTED</th>\n",
       "      <th>STE</th>\n",
       "      <th>STE_UNWEIGHTED</th>\n",
       "      <th>CONFIDENCE</th>\n",
       "    </tr>\n",
       "  </thead>\n",
       "  <tbody>\n",
       "  </tbody>\n",
       "</table>\n",
       "</div>"
      ],
      "text/plain": [
       "Empty DataFrame\n",
       "Columns: [CELL_LINE, LEN, LEN_UNWEIGHTED, MEAN, MEAN_UNWEIGHTED, STD, STD_UNWEIGHTED, STE, STE_UNWEIGHTED, CONFIDENCE]\n",
       "Index: []"
      ]
     },
     "execution_count": 718,
     "metadata": {},
     "output_type": "execute_result"
    }
   ],
   "source": [
    "training_gby_cell[training_gby_cell['MEAN'].isnull()]"
   ]
  },
  {
   "cell_type": "code",
   "execution_count": 719,
   "metadata": {
    "collapsed": false,
    "run_control": {
     "marked": false
    }
   },
   "outputs": [
    {
     "name": "stdout",
     "output_type": "stream",
     "text": [
      "7.60809185077\n"
     ]
    },
    {
     "data": {
      "image/png": "[encoded data removed]",
      "text/plain": [
       "<matplotlib.figure.Figure at 0x7f3de3480f28>"
      ]
     },
     "metadata": {},
     "output_type": "display_data"
    }
   ],
   "source": [
    "# Compare weighted and unweighted values\n",
    "fg, ax = plt.subplots(1, 2, figsize=(10, 4))\n",
    "training_gby_cell.plot(y='MEAN', x='MEAN_UNWEIGHTED', kind='scatter', ax=ax[0])\n",
    "ax[0].set_xlim(-40, 60)\n",
    "ax[0].set_ylim(-40, 60)\n",
    "training_gby_cell.plot(y='STE', x='STE_UNWEIGHTED', kind='scatter', ax=ax[1])\n",
    "ax[1].set_xlim(0, 20)\n",
    "ax[1].set_ylim(0, 20)\n",
    "plt.tight_layout()\n",
    "print(training_gby_cell['STE'].mean())"
   ]
  },
  {
   "cell_type": "code",
   "execution_count": 720,
   "metadata": {
    "collapsed": false,
    "run_control": {
     "marked": false
    }
   },
   "outputs": [
    {
     "data": {
      "text/plain": [
       "<matplotlib.axes._subplots.AxesSubplot at 0x7f3de65c0e80>"
      ]
     },
     "execution_count": 720,
     "metadata": {},
     "output_type": "execute_result"
    },
    {
     "data": {
      "image/png": "[encoded data removed]",
      "text/plain": [
       "<matplotlib.figure.Figure at 0x7f3de348bc50>"
      ]
     },
     "metadata": {},
     "output_type": "display_data"
    }
   ],
   "source": [
    "training_gby_cell['CONFIDENCE'].hist()"
   ]
  },
  {
   "cell_type": "code",
   "execution_count": null,
   "metadata": {
    "collapsed": true
   },
   "outputs": [],
   "source": []
  },
  {
   "cell_type": "markdown",
   "metadata": {
    "run_control": {
     "marked": false
    }
   },
   "source": [
    "### Export"
   ]
  },
  {
   "cell_type": "code",
   "execution_count": 30,
   "metadata": {
    "collapsed": false,
    "run_control": {
     "marked": false
    }
   },
   "outputs": [],
   "source": [
    "# Save to database\n",
    "def export_gby_to_db(df, table_name, group_by_column):\n",
    "    engine = sa.create_engine('mysql://strokach:@192.168.6.19:3306/az_dream_data')\n",
    "    dtype = {\n",
    "        group_by_column: sa.VARCHAR(255),\n",
    "        'LEN': sa.dialects.mysql.DOUBLE,\n",
    "        'LEN_UNWEIGHTED': sa.INTEGER,\n",
    "        'MEAN': sa.dialects.mysql.DOUBLE,\n",
    "        'MEAN_UNWEIGHTED': sa.dialects.mysql.DOUBLE,\n",
    "        'STD': sa.dialects.mysql.DOUBLE,\n",
    "        'STD_UNWEIGHTED': sa.dialects.mysql.DOUBLE,\n",
    "        'STE': sa.dialects.mysql.DOUBLE,\n",
    "        'STE_UNWEIGHTED': sa.dialects.mysql.DOUBLE,\n",
    "        'CONFIDENCE': sa.dialects.mysql.DOUBLE,\n",
    "    }\n",
    "    df.to_sql(table_name, engine, index=False, if_exists='replace', dtype=dtype)\n",
    "    engine.execute('create index f on {} ({})'.format(table_name, group_by_column))\n",
    "    \n",
    "export_gby_to_db(training_gby_drug, 'training_gby_drug', 'COMPOUND')\n",
    "export_gby_to_db(training_gby_drugpair, 'training_gby_drugpair', 'COMBINATION_ID')\n",
    "export_gby_to_db(training_gby_cell, 'training_gby_cell', 'CELL_LINE')"
   ]
  },
  {
   "cell_type": "code",
   "execution_count": null,
   "metadata": {
    "collapsed": true
   },
   "outputs": [],
   "source": []
  },
  {
   "cell_type": "markdown",
   "metadata": {
    "run_control": {
     "marked": false
    }
   },
   "source": [
    "# Validation"
   ]
  },
  {
   "cell_type": "markdown",
   "metadata": {
    "run_control": {
     "marked": false
    }
   },
   "source": [
    "## ch1_leaderboard_monotherapy"
   ]
  },
  {
   "cell_type": "code",
   "execution_count": 722,
   "metadata": {
    "collapsed": false,
    "run_control": {
     "marked": false
    }
   },
   "outputs": [],
   "source": [
    "ch1_leaderboard_monotherapy = pd.read_csv(\n",
    "    'challenge_data/drug_synergy_data/ch1_leaderboard_monotherapy.csv/'\n",
    "    'ch1_leaderBoard_monoTherapy.csv', sep=','\n",
    ")"
   ]
  },
  {
   "cell_type": "code",
   "execution_count": 723,
   "metadata": {
    "collapsed": false,
    "run_control": {
     "marked": false
    }
   },
   "outputs": [
    {
     "data": {
      "text/html": [
       "<div>\n",
       "<table border=\"1\" class=\"dataframe\">\n",
       "  <thead>\n",
       "    <tr style=\"text-align: right;\">\n",
       "      <th></th>\n",
       "      <th>CELL_LINE</th>\n",
       "      <th>COMPOUND_A</th>\n",
       "      <th>COMPOUND_B</th>\n",
       "      <th>MAX_CONC_A</th>\n",
       "      <th>MAX_CONC_B</th>\n",
       "      <th>IC50_A</th>\n",
       "      <th>H_A</th>\n",
       "      <th>Einf_A</th>\n",
       "      <th>IC50_B</th>\n",
       "      <th>H_B</th>\n",
       "      <th>Einf_B</th>\n",
       "      <th>SYNERGY_SCORE</th>\n",
       "      <th>QA</th>\n",
       "      <th>COMBINATION_ID</th>\n",
       "    </tr>\n",
       "  </thead>\n",
       "  <tbody>\n",
       "    <tr>\n",
       "      <th>0</th>\n",
       "      <td>BT-549</td>\n",
       "      <td>ADAM17</td>\n",
       "      <td>AKT</td>\n",
       "      <td>1</td>\n",
       "      <td>75</td>\n",
       "      <td>0.184408</td>\n",
       "      <td>1.737511</td>\n",
       "      <td>59.575233</td>\n",
       "      <td>1.0000</td>\n",
       "      <td>0.000000</td>\n",
       "      <td>100.000000</td>\n",
       "      <td>NaN</td>\n",
       "      <td>1</td>\n",
       "      <td>ADAM17.AKT</td>\n",
       "    </tr>\n",
       "    <tr>\n",
       "      <th>1</th>\n",
       "      <td>CAL-148</td>\n",
       "      <td>ADAM17</td>\n",
       "      <td>AKT</td>\n",
       "      <td>1</td>\n",
       "      <td>75</td>\n",
       "      <td>0.153391</td>\n",
       "      <td>1.754123</td>\n",
       "      <td>1.100779</td>\n",
       "      <td>1.0000</td>\n",
       "      <td>0.000000</td>\n",
       "      <td>100.000000</td>\n",
       "      <td>NaN</td>\n",
       "      <td>1</td>\n",
       "      <td>ADAM17.AKT</td>\n",
       "    </tr>\n",
       "    <tr>\n",
       "      <th>2</th>\n",
       "      <td>HCC38</td>\n",
       "      <td>ADAM17</td>\n",
       "      <td>AKT</td>\n",
       "      <td>1</td>\n",
       "      <td>75</td>\n",
       "      <td>1.000000</td>\n",
       "      <td>10.000000</td>\n",
       "      <td>64.400080</td>\n",
       "      <td>1.0000</td>\n",
       "      <td>0.000000</td>\n",
       "      <td>100.000000</td>\n",
       "      <td>NaN</td>\n",
       "      <td>1</td>\n",
       "      <td>ADAM17.AKT</td>\n",
       "    </tr>\n",
       "    <tr>\n",
       "      <th>3</th>\n",
       "      <td>BT-20</td>\n",
       "      <td>ADAM17</td>\n",
       "      <td>BCL2_BCL2L1</td>\n",
       "      <td>1</td>\n",
       "      <td>75</td>\n",
       "      <td>1.000000</td>\n",
       "      <td>1.161732</td>\n",
       "      <td>39.164587</td>\n",
       "      <td>75.0000</td>\n",
       "      <td>0.965792</td>\n",
       "      <td>70.915033</td>\n",
       "      <td>NaN</td>\n",
       "      <td>1</td>\n",
       "      <td>ADAM17.BCL2_BCL2L1</td>\n",
       "    </tr>\n",
       "    <tr>\n",
       "      <th>4</th>\n",
       "      <td>HCC1143</td>\n",
       "      <td>ADAM17</td>\n",
       "      <td>BCL2_BCL2L1</td>\n",
       "      <td>1</td>\n",
       "      <td>75</td>\n",
       "      <td>0.115309</td>\n",
       "      <td>10.000000</td>\n",
       "      <td>57.198795</td>\n",
       "      <td>0.0075</td>\n",
       "      <td>0.100000</td>\n",
       "      <td>80.128089</td>\n",
       "      <td>NaN</td>\n",
       "      <td>1</td>\n",
       "      <td>ADAM17.BCL2_BCL2L1</td>\n",
       "    </tr>\n",
       "  </tbody>\n",
       "</table>\n",
       "</div>"
      ],
      "text/plain": [
       "  CELL_LINE COMPOUND_A   COMPOUND_B  MAX_CONC_A  MAX_CONC_B    IC50_A        H_A     Einf_A   IC50_B       H_B      Einf_B  SYNERGY_SCORE  QA      COMBINATION_ID\n",
       "0    BT-549     ADAM17          AKT           1          75  0.184408   1.737511  59.575233   1.0000  0.000000  100.000000            NaN   1          ADAM17.AKT\n",
       "1   CAL-148     ADAM17          AKT           1          75  0.153391   1.754123   1.100779   1.0000  0.000000  100.000000            NaN   1          ADAM17.AKT\n",
       "2     HCC38     ADAM17          AKT           1          75  1.000000  10.000000  64.400080   1.0000  0.000000  100.000000            NaN   1          ADAM17.AKT\n",
       "3     BT-20     ADAM17  BCL2_BCL2L1           1          75  1.000000   1.161732  39.164587  75.0000  0.965792   70.915033            NaN   1  ADAM17.BCL2_BCL2L1\n",
       "4   HCC1143     ADAM17  BCL2_BCL2L1           1          75  0.115309  10.000000  57.198795   0.0075  0.100000   80.128089            NaN   1  ADAM17.BCL2_BCL2L1"
      ]
     },
     "metadata": {},
     "output_type": "display_data"
    },
    {
     "name": "stdout",
     "output_type": "stream",
     "text": [
      "591\n"
     ]
    }
   ],
   "source": [
    "display(ch1_leaderboard_monotherapy.head())\n",
    "print(ch1_leaderboard_monotherapy.shape[0])"
   ]
  },
  {
   "cell_type": "code",
   "execution_count": 724,
   "metadata": {
    "collapsed": false,
    "run_control": {
     "marked": false
    }
   },
   "outputs": [],
   "source": [
    "#qgrid.show_grid(ch1_leaderboard_monotherapy, grid_options={'forceFitColumns': False})"
   ]
  },
  {
   "cell_type": "code",
   "execution_count": 725,
   "metadata": {
    "collapsed": true,
    "run_control": {
     "marked": false
    }
   },
   "outputs": [],
   "source": [
    "assert (ch1_leaderboard_monotherapy['QA'] == 1).all()"
   ]
  },
  {
   "cell_type": "code",
   "execution_count": 726,
   "metadata": {
    "collapsed": false,
    "run_control": {
     "marked": false
    }
   },
   "outputs": [
    {
     "data": {
      "text/html": [
       "<div>\n",
       "<table border=\"1\" class=\"dataframe\">\n",
       "  <thead>\n",
       "    <tr style=\"text-align: right;\">\n",
       "      <th></th>\n",
       "      <th>CELL_LINE</th>\n",
       "      <th>COMPOUND_A</th>\n",
       "      <th>COMPOUND_B</th>\n",
       "      <th>MAX_CONC_A</th>\n",
       "      <th>MAX_CONC_B</th>\n",
       "      <th>IC50_A</th>\n",
       "      <th>H_A</th>\n",
       "      <th>Einf_A</th>\n",
       "      <th>IC50_B</th>\n",
       "      <th>H_B</th>\n",
       "      <th>Einf_B</th>\n",
       "      <th>SYNERGY_SCORE</th>\n",
       "      <th>QA</th>\n",
       "      <th>COMBINATION_ID</th>\n",
       "    </tr>\n",
       "  </thead>\n",
       "  <tbody>\n",
       "    <tr>\n",
       "      <th>496</th>\n",
       "      <td>CAMA-1</td>\n",
       "      <td>PIK3C_2</td>\n",
       "      <td>PIK3CA_4</td>\n",
       "      <td>1</td>\n",
       "      <td>1</td>\n",
       "      <td>1.000000</td>\n",
       "      <td>0.457188</td>\n",
       "      <td>84.258766</td>\n",
       "      <td>0.999878</td>\n",
       "      <td>10.000000</td>\n",
       "      <td>22.047393</td>\n",
       "      <td>NaN</td>\n",
       "      <td>1</td>\n",
       "      <td>PIK3C_2.PIK3CA_4</td>\n",
       "    </tr>\n",
       "    <tr>\n",
       "      <th>497</th>\n",
       "      <td>HCC1395</td>\n",
       "      <td>PIK3C_2</td>\n",
       "      <td>PIK3CA_4</td>\n",
       "      <td>1</td>\n",
       "      <td>1</td>\n",
       "      <td>0.999133</td>\n",
       "      <td>10.000000</td>\n",
       "      <td>75.307146</td>\n",
       "      <td>0.938976</td>\n",
       "      <td>1.575386</td>\n",
       "      <td>0.000000</td>\n",
       "      <td>NaN</td>\n",
       "      <td>1</td>\n",
       "      <td>PIK3C_2.PIK3CA_4</td>\n",
       "    </tr>\n",
       "    <tr>\n",
       "      <th>498</th>\n",
       "      <td>HCC70</td>\n",
       "      <td>PIK3C_2</td>\n",
       "      <td>PIK3CA_4</td>\n",
       "      <td>1</td>\n",
       "      <td>1</td>\n",
       "      <td>1.000000</td>\n",
       "      <td>0.000000</td>\n",
       "      <td>100.000000</td>\n",
       "      <td>1.000000</td>\n",
       "      <td>0.000000</td>\n",
       "      <td>100.000000</td>\n",
       "      <td>NaN</td>\n",
       "      <td>1</td>\n",
       "      <td>PIK3C_2.PIK3CA_4</td>\n",
       "    </tr>\n",
       "    <tr>\n",
       "      <th>499</th>\n",
       "      <td>MDA-MB-453</td>\n",
       "      <td>PIK3C_2</td>\n",
       "      <td>PIK3CA_4</td>\n",
       "      <td>1</td>\n",
       "      <td>1</td>\n",
       "      <td>0.165314</td>\n",
       "      <td>1.035025</td>\n",
       "      <td>0.000000</td>\n",
       "      <td>0.359188</td>\n",
       "      <td>1.984101</td>\n",
       "      <td>0.000000</td>\n",
       "      <td>NaN</td>\n",
       "      <td>1</td>\n",
       "      <td>PIK3C_2.PIK3CA_4</td>\n",
       "    </tr>\n",
       "  </tbody>\n",
       "</table>\n",
       "</div>"
      ],
      "text/plain": [
       "      CELL_LINE COMPOUND_A COMPOUND_B  MAX_CONC_A  MAX_CONC_B    IC50_A        H_A      Einf_A    IC50_B        H_B      Einf_B  SYNERGY_SCORE  QA    COMBINATION_ID\n",
       "496      CAMA-1    PIK3C_2   PIK3CA_4           1           1  1.000000   0.457188   84.258766  0.999878  10.000000   22.047393            NaN   1  PIK3C_2.PIK3CA_4\n",
       "497     HCC1395    PIK3C_2   PIK3CA_4           1           1  0.999133  10.000000   75.307146  0.938976   1.575386    0.000000            NaN   1  PIK3C_2.PIK3CA_4\n",
       "498       HCC70    PIK3C_2   PIK3CA_4           1           1  1.000000   0.000000  100.000000  1.000000   0.000000  100.000000            NaN   1  PIK3C_2.PIK3CA_4\n",
       "499  MDA-MB-453    PIK3C_2   PIK3CA_4           1           1  0.165314   1.035025    0.000000  0.359188   1.984101    0.000000            NaN   1  PIK3C_2.PIK3CA_4"
      ]
     },
     "execution_count": 726,
     "metadata": {},
     "output_type": "execute_result"
    }
   ],
   "source": [
    "ch1_leaderboard_monotherapy[ch1_leaderboard_monotherapy['COMBINATION_ID'].isin(\n",
    "        {'PIK3CB_PIK3CD.PIK3CB_PIK3CD', 'PIK3C_2.PIK3CA_4'}\n",
    "    )]"
   ]
  },
  {
   "cell_type": "code",
   "execution_count": 727,
   "metadata": {
    "collapsed": false,
    "run_control": {
     "marked": false
    }
   },
   "outputs": [],
   "source": [
    "# Save to database\n",
    "export_to_db(ch1_leaderboard_monotherapy, 'ch1_validation')"
   ]
  },
  {
   "cell_type": "code",
   "execution_count": null,
   "metadata": {
    "collapsed": true,
    "run_control": {
     "marked": false
    }
   },
   "outputs": [],
   "source": []
  },
  {
   "cell_type": "markdown",
   "metadata": {
    "run_control": {
     "marked": false
    }
   },
   "source": [
    "## ch1_test_monotherapy"
   ]
  },
  {
   "cell_type": "code",
   "execution_count": 728,
   "metadata": {
    "collapsed": false,
    "run_control": {
     "marked": false
    }
   },
   "outputs": [],
   "source": [
    "ch1_test_monotherapy = pd.read_csv(\n",
    "    'challenge_data/drug_synergy_data/ch1_test_monotherapy.csv/'\n",
    "    'ch1_test_monoTherapy.csv', sep=','\n",
    ")"
   ]
  },
  {
   "cell_type": "code",
   "execution_count": 729,
   "metadata": {
    "collapsed": false,
    "run_control": {
     "marked": false
    }
   },
   "outputs": [
    {
     "data": {
      "text/html": [
       "<div>\n",
       "<table border=\"1\" class=\"dataframe\">\n",
       "  <thead>\n",
       "    <tr style=\"text-align: right;\">\n",
       "      <th></th>\n",
       "      <th>CELL_LINE</th>\n",
       "      <th>COMPOUND_A</th>\n",
       "      <th>COMPOUND_B</th>\n",
       "      <th>MAX_CONC_A</th>\n",
       "      <th>MAX_CONC_B</th>\n",
       "      <th>IC50_A</th>\n",
       "      <th>H_A</th>\n",
       "      <th>Einf_A</th>\n",
       "      <th>IC50_B</th>\n",
       "      <th>H_B</th>\n",
       "      <th>Einf_B</th>\n",
       "      <th>SYNERGY_SCORE</th>\n",
       "      <th>QA</th>\n",
       "      <th>COMBINATION_ID</th>\n",
       "    </tr>\n",
       "  </thead>\n",
       "  <tbody>\n",
       "    <tr>\n",
       "      <th>0</th>\n",
       "      <td>CAMA-1</td>\n",
       "      <td>ADAM17</td>\n",
       "      <td>AKT</td>\n",
       "      <td>1</td>\n",
       "      <td>75</td>\n",
       "      <td>0.126186</td>\n",
       "      <td>0.993706</td>\n",
       "      <td>3.688533</td>\n",
       "      <td>1.000000</td>\n",
       "      <td>0.000000</td>\n",
       "      <td>100.000000</td>\n",
       "      <td>NaN</td>\n",
       "      <td>1</td>\n",
       "      <td>ADAM17.AKT</td>\n",
       "    </tr>\n",
       "    <tr>\n",
       "      <th>1</th>\n",
       "      <td>HCC1395</td>\n",
       "      <td>ADAM17</td>\n",
       "      <td>AKT</td>\n",
       "      <td>1</td>\n",
       "      <td>75</td>\n",
       "      <td>0.910569</td>\n",
       "      <td>0.552451</td>\n",
       "      <td>0.000000</td>\n",
       "      <td>10.905410</td>\n",
       "      <td>0.239641</td>\n",
       "      <td>82.740876</td>\n",
       "      <td>NaN</td>\n",
       "      <td>1</td>\n",
       "      <td>ADAM17.AKT</td>\n",
       "    </tr>\n",
       "    <tr>\n",
       "      <th>2</th>\n",
       "      <td>Hs-578-T</td>\n",
       "      <td>ADAM17</td>\n",
       "      <td>AKT</td>\n",
       "      <td>1</td>\n",
       "      <td>75</td>\n",
       "      <td>1.000000</td>\n",
       "      <td>0.258989</td>\n",
       "      <td>17.701706</td>\n",
       "      <td>0.540880</td>\n",
       "      <td>4.851464</td>\n",
       "      <td>73.495692</td>\n",
       "      <td>NaN</td>\n",
       "      <td>1</td>\n",
       "      <td>ADAM17.AKT</td>\n",
       "    </tr>\n",
       "    <tr>\n",
       "      <th>3</th>\n",
       "      <td>MDA-MB-157</td>\n",
       "      <td>ADAM17</td>\n",
       "      <td>AKT</td>\n",
       "      <td>1</td>\n",
       "      <td>75</td>\n",
       "      <td>1.000000</td>\n",
       "      <td>0.215696</td>\n",
       "      <td>5.095356</td>\n",
       "      <td>0.010219</td>\n",
       "      <td>0.227937</td>\n",
       "      <td>52.121460</td>\n",
       "      <td>NaN</td>\n",
       "      <td>1</td>\n",
       "      <td>ADAM17.AKT</td>\n",
       "    </tr>\n",
       "    <tr>\n",
       "      <th>4</th>\n",
       "      <td>MDA-MB-468</td>\n",
       "      <td>ADAM17</td>\n",
       "      <td>AKT</td>\n",
       "      <td>1</td>\n",
       "      <td>75</td>\n",
       "      <td>0.509420</td>\n",
       "      <td>0.941494</td>\n",
       "      <td>26.827759</td>\n",
       "      <td>7.328496</td>\n",
       "      <td>10.000000</td>\n",
       "      <td>94.799897</td>\n",
       "      <td>NaN</td>\n",
       "      <td>1</td>\n",
       "      <td>ADAM17.AKT</td>\n",
       "    </tr>\n",
       "  </tbody>\n",
       "</table>\n",
       "</div>"
      ],
      "text/plain": [
       "    CELL_LINE COMPOUND_A COMPOUND_B  MAX_CONC_A  MAX_CONC_B    IC50_A       H_A     Einf_A     IC50_B        H_B      Einf_B  SYNERGY_SCORE  QA COMBINATION_ID\n",
       "0      CAMA-1     ADAM17        AKT           1          75  0.126186  0.993706   3.688533   1.000000   0.000000  100.000000            NaN   1     ADAM17.AKT\n",
       "1     HCC1395     ADAM17        AKT           1          75  0.910569  0.552451   0.000000  10.905410   0.239641   82.740876            NaN   1     ADAM17.AKT\n",
       "2    Hs-578-T     ADAM17        AKT           1          75  1.000000  0.258989  17.701706   0.540880   4.851464   73.495692            NaN   1     ADAM17.AKT\n",
       "3  MDA-MB-157     ADAM17        AKT           1          75  1.000000  0.215696   5.095356   0.010219   0.227937   52.121460            NaN   1     ADAM17.AKT\n",
       "4  MDA-MB-468     ADAM17        AKT           1          75  0.509420  0.941494  26.827759   7.328496  10.000000   94.799897            NaN   1     ADAM17.AKT"
      ]
     },
     "metadata": {},
     "output_type": "display_data"
    },
    {
     "name": "stdout",
     "output_type": "stream",
     "text": [
      "1089\n"
     ]
    }
   ],
   "source": [
    "display(ch1_test_monotherapy.head())\n",
    "print(ch1_test_monotherapy.shape[0])"
   ]
  },
  {
   "cell_type": "code",
   "execution_count": 730,
   "metadata": {
    "collapsed": false,
    "run_control": {
     "marked": false
    }
   },
   "outputs": [],
   "source": [
    "#qgrid.show_grid(ch1_test_monotherapy, grid_options={'forceFitColumns': False})"
   ]
  },
  {
   "cell_type": "code",
   "execution_count": 731,
   "metadata": {
    "collapsed": true,
    "run_control": {
     "marked": false
    }
   },
   "outputs": [],
   "source": [
    "assert (ch1_test_monotherapy['QA'] == 1).all()"
   ]
  },
  {
   "cell_type": "code",
   "execution_count": 732,
   "metadata": {
    "code_folding": [
     0
    ],
    "collapsed": false,
    "run_control": {
     "marked": false
    }
   },
   "outputs": [
    {
     "data": {
      "text/html": [
       "<div>\n",
       "<table border=\"1\" class=\"dataframe\">\n",
       "  <thead>\n",
       "    <tr style=\"text-align: right;\">\n",
       "      <th></th>\n",
       "      <th>CELL_LINE</th>\n",
       "      <th>COMPOUND_A</th>\n",
       "      <th>COMPOUND_B</th>\n",
       "      <th>MAX_CONC_A</th>\n",
       "      <th>MAX_CONC_B</th>\n",
       "      <th>IC50_A</th>\n",
       "      <th>H_A</th>\n",
       "      <th>Einf_A</th>\n",
       "      <th>IC50_B</th>\n",
       "      <th>H_B</th>\n",
       "      <th>Einf_B</th>\n",
       "      <th>SYNERGY_SCORE</th>\n",
       "      <th>QA</th>\n",
       "      <th>COMBINATION_ID</th>\n",
       "    </tr>\n",
       "  </thead>\n",
       "  <tbody>\n",
       "    <tr>\n",
       "      <th>910</th>\n",
       "      <td>CAL-120</td>\n",
       "      <td>PIK3C_2</td>\n",
       "      <td>PIK3CA_4</td>\n",
       "      <td>1</td>\n",
       "      <td>1</td>\n",
       "      <td>1.000000</td>\n",
       "      <td>0.273987</td>\n",
       "      <td>60.496658</td>\n",
       "      <td>0.314484</td>\n",
       "      <td>10.000000</td>\n",
       "      <td>55.499556</td>\n",
       "      <td>NaN</td>\n",
       "      <td>1</td>\n",
       "      <td>PIK3C_2.PIK3CA_4</td>\n",
       "    </tr>\n",
       "    <tr>\n",
       "      <th>911</th>\n",
       "      <td>CAL-148</td>\n",
       "      <td>PIK3C_2</td>\n",
       "      <td>PIK3CA_4</td>\n",
       "      <td>1</td>\n",
       "      <td>1</td>\n",
       "      <td>1.000000</td>\n",
       "      <td>1.028243</td>\n",
       "      <td>13.610908</td>\n",
       "      <td>1.000000</td>\n",
       "      <td>2.060549</td>\n",
       "      <td>49.705016</td>\n",
       "      <td>NaN</td>\n",
       "      <td>1</td>\n",
       "      <td>PIK3C_2.PIK3CA_4</td>\n",
       "    </tr>\n",
       "    <tr>\n",
       "      <th>912</th>\n",
       "      <td>CAL-51</td>\n",
       "      <td>PIK3C_2</td>\n",
       "      <td>PIK3CA_4</td>\n",
       "      <td>1</td>\n",
       "      <td>1</td>\n",
       "      <td>1.000000</td>\n",
       "      <td>1.060688</td>\n",
       "      <td>34.187296</td>\n",
       "      <td>0.684454</td>\n",
       "      <td>2.182298</td>\n",
       "      <td>0.000000</td>\n",
       "      <td>NaN</td>\n",
       "      <td>1</td>\n",
       "      <td>PIK3C_2.PIK3CA_4</td>\n",
       "    </tr>\n",
       "    <tr>\n",
       "      <th>913</th>\n",
       "      <td>DU-4475</td>\n",
       "      <td>PIK3C_2</td>\n",
       "      <td>PIK3CA_4</td>\n",
       "      <td>1</td>\n",
       "      <td>1</td>\n",
       "      <td>0.861321</td>\n",
       "      <td>0.816326</td>\n",
       "      <td>0.000000</td>\n",
       "      <td>0.238304</td>\n",
       "      <td>2.729788</td>\n",
       "      <td>0.186418</td>\n",
       "      <td>NaN</td>\n",
       "      <td>1</td>\n",
       "      <td>PIK3C_2.PIK3CA_4</td>\n",
       "    </tr>\n",
       "    <tr>\n",
       "      <th>914</th>\n",
       "      <td>HCC1428</td>\n",
       "      <td>PIK3C_2</td>\n",
       "      <td>PIK3CA_4</td>\n",
       "      <td>1</td>\n",
       "      <td>1</td>\n",
       "      <td>1.000000</td>\n",
       "      <td>0.000000</td>\n",
       "      <td>100.000000</td>\n",
       "      <td>0.308941</td>\n",
       "      <td>10.000000</td>\n",
       "      <td>40.999451</td>\n",
       "      <td>NaN</td>\n",
       "      <td>1</td>\n",
       "      <td>PIK3C_2.PIK3CA_4</td>\n",
       "    </tr>\n",
       "    <tr>\n",
       "      <th>915</th>\n",
       "      <td>HCC1806</td>\n",
       "      <td>PIK3C_2</td>\n",
       "      <td>PIK3CA_4</td>\n",
       "      <td>1</td>\n",
       "      <td>1</td>\n",
       "      <td>0.342154</td>\n",
       "      <td>10.000000</td>\n",
       "      <td>50.398904</td>\n",
       "      <td>0.387700</td>\n",
       "      <td>2.770612</td>\n",
       "      <td>7.988054</td>\n",
       "      <td>NaN</td>\n",
       "      <td>1</td>\n",
       "      <td>PIK3C_2.PIK3CA_4</td>\n",
       "    </tr>\n",
       "    <tr>\n",
       "      <th>916</th>\n",
       "      <td>MFM-223</td>\n",
       "      <td>PIK3C_2</td>\n",
       "      <td>PIK3CA_4</td>\n",
       "      <td>1</td>\n",
       "      <td>1</td>\n",
       "      <td>0.260349</td>\n",
       "      <td>1.698496</td>\n",
       "      <td>41.735888</td>\n",
       "      <td>0.339836</td>\n",
       "      <td>10.000000</td>\n",
       "      <td>25.198446</td>\n",
       "      <td>NaN</td>\n",
       "      <td>1</td>\n",
       "      <td>PIK3C_2.PIK3CA_4</td>\n",
       "    </tr>\n",
       "  </tbody>\n",
       "</table>\n",
       "</div>"
      ],
      "text/plain": [
       "    CELL_LINE COMPOUND_A COMPOUND_B  MAX_CONC_A  MAX_CONC_B    IC50_A        H_A      Einf_A    IC50_B        H_B     Einf_B  SYNERGY_SCORE  QA    COMBINATION_ID\n",
       "910   CAL-120    PIK3C_2   PIK3CA_4           1           1  1.000000   0.273987   60.496658  0.314484  10.000000  55.499556            NaN   1  PIK3C_2.PIK3CA_4\n",
       "911   CAL-148    PIK3C_2   PIK3CA_4           1           1  1.000000   1.028243   13.610908  1.000000   2.060549  49.705016            NaN   1  PIK3C_2.PIK3CA_4\n",
       "912    CAL-51    PIK3C_2   PIK3CA_4           1           1  1.000000   1.060688   34.187296  0.684454   2.182298   0.000000            NaN   1  PIK3C_2.PIK3CA_4\n",
       "913   DU-4475    PIK3C_2   PIK3CA_4           1           1  0.861321   0.816326    0.000000  0.238304   2.729788   0.186418            NaN   1  PIK3C_2.PIK3CA_4\n",
       "914   HCC1428    PIK3C_2   PIK3CA_4           1           1  1.000000   0.000000  100.000000  0.308941  10.000000  40.999451            NaN   1  PIK3C_2.PIK3CA_4\n",
       "915   HCC1806    PIK3C_2   PIK3CA_4           1           1  0.342154  10.000000   50.398904  0.387700   2.770612   7.988054            NaN   1  PIK3C_2.PIK3CA_4\n",
       "916   MFM-223    PIK3C_2   PIK3CA_4           1           1  0.260349   1.698496   41.735888  0.339836  10.000000  25.198446            NaN   1  PIK3C_2.PIK3CA_4"
      ]
     },
     "execution_count": 732,
     "metadata": {},
     "output_type": "execute_result"
    }
   ],
   "source": [
    "ch1_test_monotherapy[ch1_test_monotherapy['COMBINATION_ID'].isin(\n",
    "        {'PIK3CB_PIK3CD.PIK3CB_PIK3CD', 'PIK3C_2.PIK3CA_4'}\n",
    "    )]"
   ]
  },
  {
   "cell_type": "code",
   "execution_count": 733,
   "metadata": {
    "collapsed": true,
    "run_control": {
     "marked": false
    }
   },
   "outputs": [],
   "source": [
    "# Save to database\n",
    "export_to_db(ch1_test_monotherapy, 'ch1_test')"
   ]
  },
  {
   "cell_type": "code",
   "execution_count": null,
   "metadata": {
    "collapsed": true,
    "run_control": {
     "marked": false
    }
   },
   "outputs": [],
   "source": []
  },
  {
   "cell_type": "markdown",
   "metadata": {
    "run_control": {
     "marked": false
    }
   },
   "source": [
    "## ch2_leaderboard_monotherapy"
   ]
  },
  {
   "cell_type": "code",
   "execution_count": 734,
   "metadata": {
    "collapsed": false,
    "run_control": {
     "marked": false
    }
   },
   "outputs": [],
   "source": [
    "ch2_leaderboard_monotherapy = pd.read_csv(\n",
    "    'challenge_data/drug_synergy_data/ch2_leaderboard_monotherapy.csv/'\n",
    "    'ch2_leaderBoard_monoTherapy.csv', sep=','\n",
    ")"
   ]
  },
  {
   "cell_type": "code",
   "execution_count": 735,
   "metadata": {
    "collapsed": false,
    "run_control": {
     "marked": false
    }
   },
   "outputs": [
    {
     "data": {
      "text/html": [
       "<div>\n",
       "<table border=\"1\" class=\"dataframe\">\n",
       "  <thead>\n",
       "    <tr style=\"text-align: right;\">\n",
       "      <th></th>\n",
       "      <th>CELL_LINE</th>\n",
       "      <th>COMPOUND_A</th>\n",
       "      <th>COMPOUND_B</th>\n",
       "      <th>MAX_CONC_A</th>\n",
       "      <th>MAX_CONC_B</th>\n",
       "      <th>IC50_A</th>\n",
       "      <th>H_A</th>\n",
       "      <th>Einf_A</th>\n",
       "      <th>IC50_B</th>\n",
       "      <th>H_B</th>\n",
       "      <th>Einf_B</th>\n",
       "      <th>SYNERGY_SCORE</th>\n",
       "      <th>QA</th>\n",
       "      <th>COMBINATION_ID</th>\n",
       "    </tr>\n",
       "  </thead>\n",
       "  <tbody>\n",
       "    <tr>\n",
       "      <th>0</th>\n",
       "      <td>BT-20</td>\n",
       "      <td>ADAM17</td>\n",
       "      <td>AKT_1</td>\n",
       "      <td>1</td>\n",
       "      <td>75</td>\n",
       "      <td>1.000000</td>\n",
       "      <td>0.574284</td>\n",
       "      <td>38.240698</td>\n",
       "      <td>75</td>\n",
       "      <td>0.450168</td>\n",
       "      <td>62.480250</td>\n",
       "      <td>NaN</td>\n",
       "      <td>1</td>\n",
       "      <td>ADAM17.AKT_1</td>\n",
       "    </tr>\n",
       "    <tr>\n",
       "      <th>1</th>\n",
       "      <td>BT-549</td>\n",
       "      <td>ADAM17</td>\n",
       "      <td>AKT_1</td>\n",
       "      <td>1</td>\n",
       "      <td>75</td>\n",
       "      <td>0.171407</td>\n",
       "      <td>1.100645</td>\n",
       "      <td>54.327200</td>\n",
       "      <td>1</td>\n",
       "      <td>0.000000</td>\n",
       "      <td>100.000000</td>\n",
       "      <td>NaN</td>\n",
       "      <td>1</td>\n",
       "      <td>ADAM17.AKT_1</td>\n",
       "    </tr>\n",
       "    <tr>\n",
       "      <th>2</th>\n",
       "      <td>CAL-120</td>\n",
       "      <td>ADAM17</td>\n",
       "      <td>AKT_1</td>\n",
       "      <td>1</td>\n",
       "      <td>75</td>\n",
       "      <td>1.000000</td>\n",
       "      <td>0.000000</td>\n",
       "      <td>100.000000</td>\n",
       "      <td>1</td>\n",
       "      <td>0.000000</td>\n",
       "      <td>100.000000</td>\n",
       "      <td>NaN</td>\n",
       "      <td>1</td>\n",
       "      <td>ADAM17.AKT_1</td>\n",
       "    </tr>\n",
       "    <tr>\n",
       "      <th>3</th>\n",
       "      <td>CAL-148</td>\n",
       "      <td>ADAM17</td>\n",
       "      <td>AKT_1</td>\n",
       "      <td>1</td>\n",
       "      <td>75</td>\n",
       "      <td>0.208764</td>\n",
       "      <td>1.500265</td>\n",
       "      <td>15.526343</td>\n",
       "      <td>1</td>\n",
       "      <td>0.000000</td>\n",
       "      <td>100.000000</td>\n",
       "      <td>NaN</td>\n",
       "      <td>1</td>\n",
       "      <td>ADAM17.AKT_1</td>\n",
       "    </tr>\n",
       "    <tr>\n",
       "      <th>4</th>\n",
       "      <td>CAL-51</td>\n",
       "      <td>ADAM17</td>\n",
       "      <td>AKT_1</td>\n",
       "      <td>1</td>\n",
       "      <td>75</td>\n",
       "      <td>1.000000</td>\n",
       "      <td>1.205139</td>\n",
       "      <td>56.710392</td>\n",
       "      <td>75</td>\n",
       "      <td>0.526078</td>\n",
       "      <td>78.676247</td>\n",
       "      <td>NaN</td>\n",
       "      <td>1</td>\n",
       "      <td>ADAM17.AKT_1</td>\n",
       "    </tr>\n",
       "  </tbody>\n",
       "</table>\n",
       "</div>"
      ],
      "text/plain": [
       "  CELL_LINE COMPOUND_A COMPOUND_B  MAX_CONC_A  MAX_CONC_B    IC50_A       H_A      Einf_A  IC50_B       H_B      Einf_B  SYNERGY_SCORE  QA COMBINATION_ID\n",
       "0     BT-20     ADAM17      AKT_1           1          75  1.000000  0.574284   38.240698      75  0.450168   62.480250            NaN   1   ADAM17.AKT_1\n",
       "1    BT-549     ADAM17      AKT_1           1          75  0.171407  1.100645   54.327200       1  0.000000  100.000000            NaN   1   ADAM17.AKT_1\n",
       "2   CAL-120     ADAM17      AKT_1           1          75  1.000000  0.000000  100.000000       1  0.000000  100.000000            NaN   1   ADAM17.AKT_1\n",
       "3   CAL-148     ADAM17      AKT_1           1          75  0.208764  1.500265   15.526343       1  0.000000  100.000000            NaN   1   ADAM17.AKT_1\n",
       "4    CAL-51     ADAM17      AKT_1           1          75  1.000000  1.205139   56.710392      75  0.526078   78.676247            NaN   1   ADAM17.AKT_1"
      ]
     },
     "execution_count": 735,
     "metadata": {},
     "output_type": "execute_result"
    }
   ],
   "source": [
    "ch2_leaderboard_monotherapy.head()"
   ]
  },
  {
   "cell_type": "code",
   "execution_count": 736,
   "metadata": {
    "collapsed": false,
    "run_control": {
     "marked": false
    }
   },
   "outputs": [],
   "source": [
    "#qgrid.show_grid(ch2_leaderboard_monotherapy, grid_options={'forceFitColumns': False})"
   ]
  },
  {
   "cell_type": "code",
   "execution_count": 737,
   "metadata": {
    "collapsed": false,
    "run_control": {
     "marked": false
    }
   },
   "outputs": [],
   "source": [
    "assert (ch2_leaderboard_monotherapy['QA'] == 1).all()"
   ]
  },
  {
   "cell_type": "code",
   "execution_count": 738,
   "metadata": {
    "collapsed": false,
    "run_control": {
     "marked": false
    }
   },
   "outputs": [
    {
     "data": {
      "text/html": [
       "<div>\n",
       "<table border=\"1\" class=\"dataframe\">\n",
       "  <thead>\n",
       "    <tr style=\"text-align: right;\">\n",
       "      <th></th>\n",
       "      <th>CELL_LINE</th>\n",
       "      <th>COMPOUND_A</th>\n",
       "      <th>COMPOUND_B</th>\n",
       "      <th>MAX_CONC_A</th>\n",
       "      <th>MAX_CONC_B</th>\n",
       "      <th>IC50_A</th>\n",
       "      <th>H_A</th>\n",
       "      <th>Einf_A</th>\n",
       "      <th>IC50_B</th>\n",
       "      <th>H_B</th>\n",
       "      <th>Einf_B</th>\n",
       "      <th>SYNERGY_SCORE</th>\n",
       "      <th>QA</th>\n",
       "      <th>COMBINATION_ID</th>\n",
       "    </tr>\n",
       "  </thead>\n",
       "  <tbody>\n",
       "  </tbody>\n",
       "</table>\n",
       "</div>"
      ],
      "text/plain": [
       "Empty DataFrame\n",
       "Columns: [CELL_LINE, COMPOUND_A, COMPOUND_B, MAX_CONC_A, MAX_CONC_B, IC50_A, H_A, Einf_A, IC50_B, H_B, Einf_B, SYNERGY_SCORE, QA, COMBINATION_ID]\n",
       "Index: []"
      ]
     },
     "execution_count": 738,
     "metadata": {},
     "output_type": "execute_result"
    }
   ],
   "source": [
    "ch2_leaderboard_monotherapy[ch2_leaderboard_monotherapy['COMBINATION_ID'].isin(\n",
    "        {'PIK3CB_PIK3CD.PIK3CB_PIK3CD', 'PIK3C_2.PIK3CA_4'}\n",
    "    )]"
   ]
  },
  {
   "cell_type": "code",
   "execution_count": 739,
   "metadata": {
    "collapsed": true,
    "run_control": {
     "marked": false
    }
   },
   "outputs": [],
   "source": [
    "# Save to database\n",
    "export_to_db(ch2_leaderboard_monotherapy, 'ch2_validation')"
   ]
  },
  {
   "cell_type": "code",
   "execution_count": null,
   "metadata": {
    "collapsed": true,
    "run_control": {
     "marked": false
    }
   },
   "outputs": [],
   "source": []
  },
  {
   "cell_type": "markdown",
   "metadata": {
    "run_control": {
     "marked": false
    }
   },
   "source": [
    "## ch2_test_monotherapy"
   ]
  },
  {
   "cell_type": "code",
   "execution_count": 740,
   "metadata": {
    "collapsed": false,
    "run_control": {
     "marked": false
    }
   },
   "outputs": [],
   "source": [
    "ch2_test_monotherapy = pd.read_csv(\n",
    "    'challenge_data/drug_synergy_data/ch2_test_monotherapy.csv/'\n",
    "    'ch2_test_monoTherapy.csv', sep=','\n",
    ")"
   ]
  },
  {
   "cell_type": "code",
   "execution_count": 741,
   "metadata": {
    "collapsed": false,
    "run_control": {
     "marked": false
    }
   },
   "outputs": [
    {
     "data": {
      "text/html": [
       "<div>\n",
       "<table border=\"1\" class=\"dataframe\">\n",
       "  <thead>\n",
       "    <tr style=\"text-align: right;\">\n",
       "      <th></th>\n",
       "      <th>CELL_LINE</th>\n",
       "      <th>COMPOUND_A</th>\n",
       "      <th>COMPOUND_B</th>\n",
       "      <th>MAX_CONC_A</th>\n",
       "      <th>MAX_CONC_B</th>\n",
       "      <th>IC50_A</th>\n",
       "      <th>H_A</th>\n",
       "      <th>Einf_A</th>\n",
       "      <th>IC50_B</th>\n",
       "      <th>H_B</th>\n",
       "      <th>Einf_B</th>\n",
       "      <th>SYNERGY_SCORE</th>\n",
       "      <th>QA</th>\n",
       "      <th>COMBINATION_ID</th>\n",
       "    </tr>\n",
       "  </thead>\n",
       "  <tbody>\n",
       "    <tr>\n",
       "      <th>0</th>\n",
       "      <td>22RV1</td>\n",
       "      <td>AKT</td>\n",
       "      <td>AR</td>\n",
       "      <td>10</td>\n",
       "      <td>1</td>\n",
       "      <td>1.000000</td>\n",
       "      <td>0.000000</td>\n",
       "      <td>100.000000</td>\n",
       "      <td>0.345308</td>\n",
       "      <td>1.326704</td>\n",
       "      <td>64.791166</td>\n",
       "      <td>NaN</td>\n",
       "      <td>1</td>\n",
       "      <td>AKT.AR</td>\n",
       "    </tr>\n",
       "    <tr>\n",
       "      <th>1</th>\n",
       "      <td>VCaP</td>\n",
       "      <td>AKT</td>\n",
       "      <td>AR</td>\n",
       "      <td>10</td>\n",
       "      <td>1</td>\n",
       "      <td>2.654045</td>\n",
       "      <td>0.575220</td>\n",
       "      <td>60.632962</td>\n",
       "      <td>0.330855</td>\n",
       "      <td>3.876610</td>\n",
       "      <td>67.256669</td>\n",
       "      <td>NaN</td>\n",
       "      <td>1</td>\n",
       "      <td>AKT.AR</td>\n",
       "    </tr>\n",
       "    <tr>\n",
       "      <th>2</th>\n",
       "      <td>VCaP</td>\n",
       "      <td>AKT</td>\n",
       "      <td>BCL2</td>\n",
       "      <td>10</td>\n",
       "      <td>1</td>\n",
       "      <td>1.000000</td>\n",
       "      <td>0.000000</td>\n",
       "      <td>100.000000</td>\n",
       "      <td>0.313434</td>\n",
       "      <td>1.862979</td>\n",
       "      <td>57.750781</td>\n",
       "      <td>NaN</td>\n",
       "      <td>1</td>\n",
       "      <td>AKT.BCL2</td>\n",
       "    </tr>\n",
       "    <tr>\n",
       "      <th>3</th>\n",
       "      <td>COLO-205</td>\n",
       "      <td>AKT</td>\n",
       "      <td>BRAF_M</td>\n",
       "      <td>3</td>\n",
       "      <td>3</td>\n",
       "      <td>0.204405</td>\n",
       "      <td>1.757878</td>\n",
       "      <td>6.447588</td>\n",
       "      <td>1.206550</td>\n",
       "      <td>2.540437</td>\n",
       "      <td>0.000000</td>\n",
       "      <td>NaN</td>\n",
       "      <td>1</td>\n",
       "      <td>AKT.BRAF_M</td>\n",
       "    </tr>\n",
       "    <tr>\n",
       "      <th>4</th>\n",
       "      <td>NCI-H747</td>\n",
       "      <td>AKT</td>\n",
       "      <td>BRAF_M</td>\n",
       "      <td>3</td>\n",
       "      <td>3</td>\n",
       "      <td>0.000300</td>\n",
       "      <td>0.100000</td>\n",
       "      <td>83.122450</td>\n",
       "      <td>0.170654</td>\n",
       "      <td>0.648855</td>\n",
       "      <td>0.000000</td>\n",
       "      <td>NaN</td>\n",
       "      <td>1</td>\n",
       "      <td>AKT.BRAF_M</td>\n",
       "    </tr>\n",
       "  </tbody>\n",
       "</table>\n",
       "</div>"
      ],
      "text/plain": [
       "  CELL_LINE COMPOUND_A COMPOUND_B  MAX_CONC_A  MAX_CONC_B    IC50_A       H_A      Einf_A    IC50_B       H_B     Einf_B  SYNERGY_SCORE  QA COMBINATION_ID\n",
       "0     22RV1        AKT         AR          10           1  1.000000  0.000000  100.000000  0.345308  1.326704  64.791166            NaN   1         AKT.AR\n",
       "1      VCaP        AKT         AR          10           1  2.654045  0.575220   60.632962  0.330855  3.876610  67.256669            NaN   1         AKT.AR\n",
       "2      VCaP        AKT       BCL2          10           1  1.000000  0.000000  100.000000  0.313434  1.862979  57.750781            NaN   1       AKT.BCL2\n",
       "3  COLO-205        AKT     BRAF_M           3           3  0.204405  1.757878    6.447588  1.206550  2.540437   0.000000            NaN   1     AKT.BRAF_M\n",
       "4  NCI-H747        AKT     BRAF_M           3           3  0.000300  0.100000   83.122450  0.170654  0.648855   0.000000            NaN   1     AKT.BRAF_M"
      ]
     },
     "execution_count": 741,
     "metadata": {},
     "output_type": "execute_result"
    }
   ],
   "source": [
    "ch2_test_monotherapy.head()"
   ]
  },
  {
   "cell_type": "code",
   "execution_count": 742,
   "metadata": {
    "collapsed": false,
    "run_control": {
     "marked": false
    }
   },
   "outputs": [],
   "source": [
    "#qgrid.show_grid(ch2_test_monotherapy, grid_options={'forceFitColumns': False})"
   ]
  },
  {
   "cell_type": "code",
   "execution_count": 743,
   "metadata": {
    "collapsed": true,
    "run_control": {
     "marked": false
    }
   },
   "outputs": [],
   "source": [
    "assert (ch2_test_monotherapy['QA'] == 1).all()"
   ]
  },
  {
   "cell_type": "code",
   "execution_count": 744,
   "metadata": {
    "collapsed": false,
    "run_control": {
     "marked": false
    }
   },
   "outputs": [
    {
     "data": {
      "text/html": [
       "<div>\n",
       "<table border=\"1\" class=\"dataframe\">\n",
       "  <thead>\n",
       "    <tr style=\"text-align: right;\">\n",
       "      <th></th>\n",
       "      <th>CELL_LINE</th>\n",
       "      <th>COMPOUND_A</th>\n",
       "      <th>COMPOUND_B</th>\n",
       "      <th>MAX_CONC_A</th>\n",
       "      <th>MAX_CONC_B</th>\n",
       "      <th>IC50_A</th>\n",
       "      <th>H_A</th>\n",
       "      <th>Einf_A</th>\n",
       "      <th>IC50_B</th>\n",
       "      <th>H_B</th>\n",
       "      <th>Einf_B</th>\n",
       "      <th>SYNERGY_SCORE</th>\n",
       "      <th>QA</th>\n",
       "      <th>COMBINATION_ID</th>\n",
       "    </tr>\n",
       "  </thead>\n",
       "  <tbody>\n",
       "  </tbody>\n",
       "</table>\n",
       "</div>"
      ],
      "text/plain": [
       "Empty DataFrame\n",
       "Columns: [CELL_LINE, COMPOUND_A, COMPOUND_B, MAX_CONC_A, MAX_CONC_B, IC50_A, H_A, Einf_A, IC50_B, H_B, Einf_B, SYNERGY_SCORE, QA, COMBINATION_ID]\n",
       "Index: []"
      ]
     },
     "execution_count": 744,
     "metadata": {},
     "output_type": "execute_result"
    }
   ],
   "source": [
    "ch2_test_monotherapy[ch2_test_monotherapy['COMBINATION_ID'].isin(\n",
    "        {'PIK3CB_PIK3CD.PIK3CB_PIK3CD', 'PIK3C_2.PIK3CA_4'}\n",
    "    )]"
   ]
  },
  {
   "cell_type": "code",
   "execution_count": 745,
   "metadata": {
    "collapsed": true,
    "run_control": {
     "marked": false
    }
   },
   "outputs": [],
   "source": [
    "# Save to database\n",
    "export_to_db(ch2_test_monotherapy, 'ch2_test')"
   ]
  },
  {
   "cell_type": "code",
   "execution_count": null,
   "metadata": {
    "collapsed": true,
    "run_control": {
     "marked": false
    }
   },
   "outputs": [],
   "source": []
  },
  {
   "cell_type": "code",
   "execution_count": null,
   "metadata": {
    "collapsed": true,
    "run_control": {
     "marked": false
    }
   },
   "outputs": [],
   "source": []
  },
  {
   "cell_type": "code",
   "execution_count": null,
   "metadata": {
    "collapsed": true,
    "run_control": {
     "marked": false
    }
   },
   "outputs": [],
   "source": []
  },
  {
   "cell_type": "code",
   "execution_count": null,
   "metadata": {
    "collapsed": true,
    "run_control": {
     "marked": false
    }
   },
   "outputs": [],
   "source": []
  },
  {
   "cell_type": "code",
   "execution_count": null,
   "metadata": {
    "collapsed": true,
    "run_control": {
     "marked": false
    }
   },
   "outputs": [],
   "source": []
  },
  {
   "cell_type": "code",
   "execution_count": 746,
   "metadata": {
    "collapsed": false,
    "run_control": {
     "marked": false
    }
   },
   "outputs": [
    {
     "ename": "Exception",
     "evalue": "",
     "output_type": "error",
     "traceback": [
      "\u001b[1;31m---------------------------------------------------------------------------\u001b[0m",
      "\u001b[1;31mException\u001b[0m                                 Traceback (most recent call last)",
      "\u001b[1;32m<ipython-input-746-fca2ab0ca76b>\u001b[0m in \u001b[0;36m<module>\u001b[1;34m()\u001b[0m\n\u001b[1;32m----> 1\u001b[1;33m \u001b[1;32mraise\u001b[0m \u001b[0mException\u001b[0m\u001b[1;33m\u001b[0m\u001b[0m\n\u001b[0m",
      "\u001b[1;31mException\u001b[0m: "
     ]
    }
   ],
   "source": [
    "raise Exception"
   ]
  },
  {
   "cell_type": "markdown",
   "metadata": {
    "collapsed": true,
    "run_control": {
     "marked": false
    }
   },
   "source": [
    "## Mutations\n"
   ]
  },
  {
   "cell_type": "code",
   "execution_count": null,
   "metadata": {
    "collapsed": false,
    "run_control": {
     "marked": false
    }
   },
   "outputs": [],
   "source": []
  },
  {
   "cell_type": "code",
   "execution_count": null,
   "metadata": {
    "collapsed": false,
    "run_control": {
     "marked": false
    }
   },
   "outputs": [],
   "source": []
  },
  {
   "cell_type": "code",
   "execution_count": null,
   "metadata": {
    "collapsed": false,
    "run_control": {
     "marked": false
    }
   },
   "outputs": [],
   "source": []
  },
  {
   "cell_type": "code",
   "execution_count": null,
   "metadata": {
    "collapsed": false,
    "run_control": {
     "marked": false
    }
   },
   "outputs": [],
   "source": []
  },
  {
   "cell_type": "code",
   "execution_count": null,
   "metadata": {
    "collapsed": false,
    "run_control": {
     "marked": false
    },
    "scrolled": true
   },
   "outputs": [],
   "source": []
  },
  {
   "cell_type": "code",
   "execution_count": null,
   "metadata": {
    "collapsed": false,
    "run_control": {
     "marked": false
    }
   },
   "outputs": [],
   "source": []
  },
  {
   "cell_type": "code",
   "execution_count": null,
   "metadata": {
    "collapsed": false,
    "run_control": {
     "marked": false
    }
   },
   "outputs": [],
   "source": []
  },
  {
   "cell_type": "code",
   "execution_count": null,
   "metadata": {
    "collapsed": false,
    "run_control": {
     "marked": false
    }
   },
   "outputs": [],
   "source": []
  },
  {
   "cell_type": "code",
   "execution_count": null,
   "metadata": {
    "collapsed": false,
    "run_control": {
     "marked": false
    }
   },
   "outputs": [],
   "source": []
  },
  {
   "cell_type": "code",
   "execution_count": null,
   "metadata": {
    "collapsed": true,
    "run_control": {
     "marked": false
    }
   },
   "outputs": [],
   "source": []
  },
  {
   "cell_type": "code",
   "execution_count": null,
   "metadata": {
    "collapsed": true,
    "run_control": {
     "marked": false
    }
   },
   "outputs": [],
   "source": []
  },
  {
   "cell_type": "code",
   "execution_count": null,
   "metadata": {
    "collapsed": false,
    "run_control": {
     "marked": false
    }
   },
   "outputs": [],
   "source": [
    "dat.print2('Number of unique IDs:', len(set(mutations['Accession.Number'])))\n",
    "dat.print2('Number of mapped IDs:', len(set(ensembl2uniprot['ensp_id'])))"
   ]
  },
  {
   "cell_type": "code",
   "execution_count": null,
   "metadata": {
    "collapsed": false,
    "run_control": {
     "marked": false
    },
    "scrolled": false
   },
   "outputs": [],
   "source": [
    "len(set(ensembl2uniprot['ensp_id']))"
   ]
  },
  {
   "cell_type": "code",
   "execution_count": null,
   "metadata": {
    "collapsed": false,
    "run_control": {
     "marked": false
    }
   },
   "outputs": [],
   "source": [
    "mutations_wseq['mutation_in_seq'].shape"
   ]
  },
  {
   "cell_type": "code",
   "execution_count": null,
   "metadata": {
    "collapsed": true,
    "run_control": {
     "marked": false
    }
   },
   "outputs": [],
   "source": []
  },
  {
   "cell_type": "code",
   "execution_count": null,
   "metadata": {
    "collapsed": true,
    "run_control": {
     "marked": false
    }
   },
   "outputs": [],
   "source": []
  },
  {
   "cell_type": "code",
   "execution_count": null,
   "metadata": {
    "collapsed": true,
    "run_control": {
     "marked": false
    }
   },
   "outputs": [],
   "source": []
  },
  {
   "cell_type": "code",
   "execution_count": null,
   "metadata": {
    "collapsed": false,
    "run_control": {
     "marked": false
    }
   },
   "outputs": [],
   "source": [
    "!echo $JUPYTER_CONFIG_DIR"
   ]
  },
  {
   "cell_type": "code",
   "execution_count": null,
   "metadata": {
    "collapsed": true,
    "run_control": {
     "marked": false
    }
   },
   "outputs": [],
   "source": []
  },
  {
   "cell_type": "code",
   "execution_count": null,
   "metadata": {
    "collapsed": false,
    "run_control": {
     "marked": false
    }
   },
   "outputs": [],
   "source": [
    "!echo $IPYTHONDIR"
   ]
  },
  {
   "cell_type": "code",
   "execution_count": null,
   "metadata": {
    "collapsed": true,
    "run_control": {
     "marked": false
    }
   },
   "outputs": [],
   "source": []
  },
  {
   "cell_type": "code",
   "execution_count": null,
   "metadata": {
    "collapsed": true,
    "run_control": {
     "marked": false
    }
   },
   "outputs": [],
   "source": []
  },
  {
   "cell_type": "code",
   "execution_count": null,
   "metadata": {
    "collapsed": false,
    "run_control": {
     "marked": false
    }
   },
   "outputs": [],
   "source": [
    "%%javascript\n",
    "require(['base/js/utils'],\n",
    "function(utils) {\n",
    "    utils.load_extensions(\"toc\");\n",
    "});"
   ]
  },
  {
   "cell_type": "markdown",
   "metadata": {
    "run_control": {
     "marked": false
    }
   },
   "source": [
    "# 2"
   ]
  },
  {
   "cell_type": "code",
   "execution_count": null,
   "metadata": {
    "collapsed": false,
    "run_control": {
     "marked": false
    }
   },
   "outputs": [],
   "source": [
    "%load_ext nbtoc"
   ]
  },
  {
   "cell_type": "code",
   "execution_count": null,
   "metadata": {
    "collapsed": true,
    "run_control": {
     "marked": false
    }
   },
   "outputs": [],
   "source": []
  },
  {
   "cell_type": "code",
   "execution_count": null,
   "metadata": {
    "collapsed": true,
    "run_control": {
     "marked": false
    }
   },
   "outputs": [],
   "source": []
  },
  {
   "cell_type": "code",
   "execution_count": null,
   "metadata": {
    "collapsed": true,
    "run_control": {
     "marked": false
    }
   },
   "outputs": [],
   "source": []
  },
  {
   "cell_type": "code",
   "execution_count": null,
   "metadata": {
    "collapsed": true,
    "run_control": {
     "marked": false
    }
   },
   "outputs": [],
   "source": []
  },
  {
   "cell_type": "markdown",
   "metadata": {
    "run_control": {
     "marked": false
    }
   },
   "source": [
    "# 3"
   ]
  }
 ],
 "metadata": {
  "kernelspec": {
   "display_name": "Python 3",
   "language": "python",
   "name": "python3"
  },
  "language_info": {
   "codemirror_mode": {
    "name": "ipython",
    "version": 3
   },
   "file_extension": ".py",
   "mimetype": "text/x-python",
   "name": "python",
   "nbconvert_exporter": "python",
   "pygments_lexer": "ipython3",
   "version": "3.5.0"
  }
 },
 "nbformat": 4,
 "nbformat_minor": 0
}
