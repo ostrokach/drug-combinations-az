{
 "cells": [
  {
   "cell_type": "markdown",
   "metadata": {
    "code_folding": [
     0
    ],
    "collapsed": true,
    "run_control": {
     "marked": false
    }
   },
   "source": [
    "# Summary\n",
    "\n",
    "    az_dream\n",
    "    + drug_info_release (raw data)\n",
    "    + drug_info_release_2 (+ PubChem data)\n",
    "    + drug_info_release_3 (+ CID and SID XRefs)\n",
    "\n",
    "\n",
    "The following drugs need more **ENSP IDS**:\n",
    "- 'PIK3CB_PIK3CD': 'PIK3CB,PIK3CD'\n",
    "- 'PIK3C_2': 'PIK3C*'\n",
    "- 'PIK3CA_4': 'PIK3CA'\n",
    "    \n"
   ]
  },
  {
   "cell_type": "markdown",
   "metadata": {},
   "source": [
    "# Imports"
   ]
  },
  {
   "cell_type": "code",
   "execution_count": 1,
   "metadata": {
    "collapsed": true
   },
   "outputs": [],
   "source": [
    "%load_ext autoreload\n",
    "%autoreload 2"
   ]
  },
  {
   "cell_type": "code",
   "execution_count": 2,
   "metadata": {
    "code_folding": [
     0
    ],
    "collapsed": false,
    "run_control": {
     "marked": false
    }
   },
   "outputs": [
    {
     "name": "stderr",
     "output_type": "stream",
     "text": [
      "/home/kimlab1/strokach/anaconda3/lib/python3.5/site-packages/matplotlib/__init__.py:872: UserWarning: axes.color_cycle is deprecated and replaced with axes.prop_cycle; please use the latter.\n",
      "  warnings.warn(self.msg_depr % (key, alt_key))\n"
     ]
    }
   ],
   "source": [
    "from common_imports import *"
   ]
  },
  {
   "cell_type": "code",
   "execution_count": 3,
   "metadata": {
    "collapsed": false,
    "run_control": {
     "marked": false
    }
   },
   "outputs": [],
   "source": [
    "%matplotlib inline"
   ]
  },
  {
   "cell_type": "code",
   "execution_count": null,
   "metadata": {
    "collapsed": true
   },
   "outputs": [],
   "source": []
  },
  {
   "cell_type": "markdown",
   "metadata": {},
   "source": [
    "# Functions"
   ]
  },
  {
   "cell_type": "code",
   "execution_count": 81,
   "metadata": {
    "collapsed": true
   },
   "outputs": [],
   "source": [
    "def print_stats(df):\n",
    "    dat.print2('Number of drug -> target tupels:', len(df))\n",
    "    dat.print2('Number of original drug -> target tuples:', len(df[['drug','target_original']].drop_duplicates()))\n",
    "    dat.print2('Number of corrected drug -> target tuples:', len(df[['drug','target']].drop_duplicates()))\n",
    "    dat.print2('Number of HGNC drug -> target tuples:', len(df[['drug','hgnc_name']].drop_duplicates()))\n",
    "    dat.print2('Number of ENSG drug -> target tuples:', len(df[['drug','ensg']].drop_duplicates()))\n",
    "    dat.print2('Number of ENST drug -> target tuples:', len(df[['drug','enst']].drop_duplicates()))\n",
    "    dat.print2('Number of ENSP drug -> target tuples:', len(df[['drug','ensp']].drop_duplicates()))"
   ]
  },
  {
   "cell_type": "code",
   "execution_count": 82,
   "metadata": {
    "collapsed": true
   },
   "outputs": [],
   "source": [
    "# Save results to the database\n",
    "def save_to_db_1(df, table_name):\n",
    "    engine = sa.create_engine('{}/az_dream_2015'.format(os.environ['BIODB_CONNECTION_STR']))\n",
    "\n",
    "    df.to_sql(table_name, engine, if_exists='replace', index=False)\n",
    "    \n",
    "    engine.execute('create index a on {} (drug(255), hgnc_name(255))'.format(table_name))\n",
    "    engine.execute('create index b on {} (drug(255), ensg(255))'.format(table_name))\n",
    "    engine.execute('create index c on {} (drug(255), enst(255))'.format(table_name))\n",
    "    engine.execute('create unique index d on {} (drug(255), ensp(255))'.format(table_name))\n",
    "\n",
    "    engine.execute('create index e on {} (hgnc_name(255), drug(255))'.format(table_name))\n",
    "    engine.execute('create index f on {} (ensg(255), drug(255))'.format(table_name))\n",
    "    engine.execute('create index g on {} (enst(255), drug(255))'.format(table_name))\n",
    "    engine.execute('create unique index h on {} (ensp(255), drug(255))'.format(table_name))\n",
    "\n",
    "    engine.execute('create index i on {} (drug(255), ensp_idx)'.format(table_name))\n",
    "    engine.execute('create index j on {} (ensp_idx, drug(255))'.format(table_name))\n",
    "    \n",
    "def save_to_db_2(df, table_name):\n",
    "    engine = sa.create_engine('{}/az_dream_2015'.format(os.environ['BIODB_CONNECTION_STR']))\n",
    "\n",
    "    df.to_sql(table_name, engine, if_exists='replace', index=False)\n",
    "    \n",
    "    engine.execute('create unique index a on {} (drug(255), hgnc_name(255))'.format(table_name))\n",
    "    engine.execute('create unique index b on {} (hgnc_name(255), drug(255))'.format(table_name))"
   ]
  },
  {
   "cell_type": "code",
   "execution_count": null,
   "metadata": {
    "collapsed": true
   },
   "outputs": [],
   "source": []
  },
  {
   "cell_type": "markdown",
   "metadata": {
    "code_folding": [
     0
    ]
   },
   "source": [
    "# Load data"
   ]
  },
  {
   "cell_type": "code",
   "execution_count": 83,
   "metadata": {
    "collapsed": false,
    "run_control": {
     "marked": false
    }
   },
   "outputs": [],
   "source": [
    "# Read text file\n",
    "drug_info_release = pd.read_csv(\n",
    "    '../downloads/challenge_data/drug_synergy_data/drug_info_release.csv/'\n",
    "    'Drug_info_release.csv', sep=','\n",
    ")\n",
    "drug_info_release_columns = list(drug_info_release.columns)"
   ]
  },
  {
   "cell_type": "code",
   "execution_count": 84,
   "metadata": {
    "collapsed": false
   },
   "outputs": [
    {
     "data": {
      "text/html": [
       "<div>\n",
       "<table border=\"1\" class=\"dataframe\">\n",
       "  <thead>\n",
       "    <tr style=\"text-align: right;\">\n",
       "      <th></th>\n",
       "      <th>ChallengeName</th>\n",
       "      <th>Target(Official Symbol)</th>\n",
       "      <th>HBA</th>\n",
       "      <th>cLogP</th>\n",
       "      <th>HBD</th>\n",
       "      <th>Lipinski</th>\n",
       "      <th>SMILES or PubChem ID</th>\n",
       "      <th>MW</th>\n",
       "    </tr>\n",
       "  </thead>\n",
       "  <tbody>\n",
       "    <tr>\n",
       "      <th>0</th>\n",
       "      <td>ADAM17</td>\n",
       "      <td>ADAM17</td>\n",
       "      <td>NaN</td>\n",
       "      <td>NaN</td>\n",
       "      <td>NaN</td>\n",
       "      <td>NaN</td>\n",
       "      <td>NaN</td>\n",
       "      <td>NaN</td>\n",
       "    </tr>\n",
       "    <tr>\n",
       "      <th>1</th>\n",
       "      <td>AKT</td>\n",
       "      <td>AKT1, AKT2, AKT3</td>\n",
       "      <td>8</td>\n",
       "      <td>1.18</td>\n",
       "      <td>5</td>\n",
       "      <td>0</td>\n",
       "      <td>c1cc(ccc1[C@H](CCO)NC(=O)C2(CCN(CC2)c3c4cc[nH]...</td>\n",
       "      <td>428.9</td>\n",
       "    </tr>\n",
       "    <tr>\n",
       "      <th>2</th>\n",
       "      <td>AKT_1</td>\n",
       "      <td>AKT*</td>\n",
       "      <td>6</td>\n",
       "      <td>3.24</td>\n",
       "      <td>3</td>\n",
       "      <td>0</td>\n",
       "      <td>c1ccc(cc1)c2cc3c(ccn4c3n[nH]c4=O)nc2c5ccc(cc5)...</td>\n",
       "      <td>407.5</td>\n",
       "    </tr>\n",
       "    <tr>\n",
       "      <th>3</th>\n",
       "      <td>AKT_PIK3C</td>\n",
       "      <td>AKT*,PIK3C*</td>\n",
       "      <td>NaN</td>\n",
       "      <td>NaN</td>\n",
       "      <td>NaN</td>\n",
       "      <td>NaN</td>\n",
       "      <td>NaN</td>\n",
       "      <td>NaN</td>\n",
       "    </tr>\n",
       "    <tr>\n",
       "      <th>4</th>\n",
       "      <td>AKT_SGK</td>\n",
       "      <td>AKT*,SGK*</td>\n",
       "      <td>NaN</td>\n",
       "      <td>NaN</td>\n",
       "      <td>NaN</td>\n",
       "      <td>NaN</td>\n",
       "      <td>NaN</td>\n",
       "      <td>NaN</td>\n",
       "    </tr>\n",
       "  </tbody>\n",
       "</table>\n",
       "</div>"
      ],
      "text/plain": [
       "  ChallengeName Target(Official Symbol)  HBA  cLogP  HBD  Lipinski                               SMILES or PubChem ID     MW\n",
       "0        ADAM17                  ADAM17  NaN    NaN  NaN       NaN                                                NaN    NaN\n",
       "1           AKT        AKT1, AKT2, AKT3    8   1.18    5         0  c1cc(ccc1[C@H](CCO)NC(=O)C2(CCN(CC2)c3c4cc[nH]...  428.9\n",
       "2         AKT_1                    AKT*    6   3.24    3         0  c1ccc(cc1)c2cc3c(ccn4c3n[nH]c4=O)nc2c5ccc(cc5)...  407.5\n",
       "3     AKT_PIK3C             AKT*,PIK3C*  NaN    NaN  NaN       NaN                                                NaN    NaN\n",
       "4       AKT_SGK               AKT*,SGK*  NaN    NaN  NaN       NaN                                                NaN    NaN"
      ]
     },
     "metadata": {},
     "output_type": "display_data"
    },
    {
     "name": "stdout",
     "output_type": "stream",
     "text": [
      "(119, 8)\n"
     ]
    }
   ],
   "source": [
    "display(drug_info_release.head())\n",
    "print(drug_info_release.shape)"
   ]
  },
  {
   "cell_type": "code",
   "execution_count": null,
   "metadata": {
    "collapsed": true
   },
   "outputs": [],
   "source": []
  },
  {
   "cell_type": "code",
   "execution_count": 85,
   "metadata": {
    "collapsed": true
   },
   "outputs": [],
   "source": [
    "engine = sa.create_engine('{}/az_dream'.format(os.environ['BIODB_CONNECTION_STR']))\n",
    "drug_info_release_3 = pd.read_sql_table('drug_info_release_3', engine)"
   ]
  },
  {
   "cell_type": "code",
   "execution_count": 86,
   "metadata": {
    "collapsed": false,
    "run_control": {
     "marked": false
    }
   },
   "outputs": [
    {
     "data": {
      "text/html": [
       "<div>\n",
       "<table border=\"1\" class=\"dataframe\">\n",
       "  <thead>\n",
       "    <tr style=\"text-align: right;\">\n",
       "      <th></th>\n",
       "      <th>ChallengeName</th>\n",
       "      <th>Target(Official Symbol)</th>\n",
       "      <th>HBA</th>\n",
       "      <th>cLogP</th>\n",
       "      <th>HBD</th>\n",
       "      <th>Lipinski</th>\n",
       "      <th>SMILES or PubChem ID</th>\n",
       "      <th>MW</th>\n",
       "      <th>AtomStereoCount</th>\n",
       "      <th>BondStereoCount</th>\n",
       "      <th>CID</th>\n",
       "      <th>CanonicalSMILES</th>\n",
       "      <th>Charge</th>\n",
       "      <th>Complexity</th>\n",
       "      <th>ConformerCount3D</th>\n",
       "      <th>ConformerModelRMSD3D</th>\n",
       "      <th>CovalentUnitCount</th>\n",
       "      <th>DefinedAtomStereoCount</th>\n",
       "      <th>DefinedBondStereoCount</th>\n",
       "      <th>EffectiveRotorCount3D</th>\n",
       "      <th>ExactMass</th>\n",
       "      <th>FeatureAcceptorCount3D</th>\n",
       "      <th>FeatureAnionCount3D</th>\n",
       "      <th>FeatureCationCount3D</th>\n",
       "      <th>FeatureCount3D</th>\n",
       "      <th>FeatureDonorCount3D</th>\n",
       "      <th>FeatureHydrophobeCount3D</th>\n",
       "      <th>FeatureRingCount3D</th>\n",
       "      <th>Fingerprint2D</th>\n",
       "      <th>HBondAcceptorCount</th>\n",
       "      <th>HBondDonorCount</th>\n",
       "      <th>HeavyAtomCount</th>\n",
       "      <th>IUPACName</th>\n",
       "      <th>InChI</th>\n",
       "      <th>InChIKey</th>\n",
       "      <th>IsomericSMILES</th>\n",
       "      <th>IsotopeAtomCount</th>\n",
       "      <th>MolecularFormula</th>\n",
       "      <th>MolecularWeight</th>\n",
       "      <th>MonoisotopicMass</th>\n",
       "      <th>RotatableBondCount</th>\n",
       "      <th>TPSA</th>\n",
       "      <th>UndefinedAtomStereoCount</th>\n",
       "      <th>UndefinedBondStereoCount</th>\n",
       "      <th>Volume3D</th>\n",
       "      <th>XLogP</th>\n",
       "      <th>XStericQuadrupole3D</th>\n",
       "      <th>YStericQuadrupole3D</th>\n",
       "      <th>ZStericQuadrupole3D</th>\n",
       "      <th>cids</th>\n",
       "      <th>targets</th>\n",
       "      <th>targets_bioentities</th>\n",
       "      <th>enzymes</th>\n",
       "      <th>enzymes_bioentities</th>\n",
       "      <th>transporters</th>\n",
       "      <th>transporters_bioentities</th>\n",
       "      <th>atcs</th>\n",
       "    </tr>\n",
       "  </thead>\n",
       "  <tbody>\n",
       "    <tr>\n",
       "      <th>0</th>\n",
       "      <td>ADAM17</td>\n",
       "      <td>ADAM17</td>\n",
       "      <td>NaN</td>\n",
       "      <td>NaN</td>\n",
       "      <td>NaN</td>\n",
       "      <td>NaN</td>\n",
       "      <td>None</td>\n",
       "      <td>NaN</td>\n",
       "      <td>NaN</td>\n",
       "      <td>NaN</td>\n",
       "      <td>NaN</td>\n",
       "      <td>None</td>\n",
       "      <td>NaN</td>\n",
       "      <td>NaN</td>\n",
       "      <td>NaN</td>\n",
       "      <td>NaN</td>\n",
       "      <td>NaN</td>\n",
       "      <td>NaN</td>\n",
       "      <td>NaN</td>\n",
       "      <td>NaN</td>\n",
       "      <td>NaN</td>\n",
       "      <td>NaN</td>\n",
       "      <td>NaN</td>\n",
       "      <td>NaN</td>\n",
       "      <td>NaN</td>\n",
       "      <td>NaN</td>\n",
       "      <td>NaN</td>\n",
       "      <td>NaN</td>\n",
       "      <td>None</td>\n",
       "      <td>NaN</td>\n",
       "      <td>NaN</td>\n",
       "      <td>NaN</td>\n",
       "      <td>None</td>\n",
       "      <td>None</td>\n",
       "      <td>None</td>\n",
       "      <td>None</td>\n",
       "      <td>NaN</td>\n",
       "      <td>None</td>\n",
       "      <td>NaN</td>\n",
       "      <td>NaN</td>\n",
       "      <td>NaN</td>\n",
       "      <td>NaN</td>\n",
       "      <td>NaN</td>\n",
       "      <td>NaN</td>\n",
       "      <td>NaN</td>\n",
       "      <td>NaN</td>\n",
       "      <td>NaN</td>\n",
       "      <td>NaN</td>\n",
       "      <td>NaN</td>\n",
       "      <td>None</td>\n",
       "      <td>None</td>\n",
       "      <td>None</td>\n",
       "      <td>None</td>\n",
       "      <td>None</td>\n",
       "      <td>None</td>\n",
       "      <td>None</td>\n",
       "      <td>None</td>\n",
       "    </tr>\n",
       "    <tr>\n",
       "      <th>1</th>\n",
       "      <td>AKT</td>\n",
       "      <td>AKT1, AKT2, AKT3</td>\n",
       "      <td>8</td>\n",
       "      <td>1.18</td>\n",
       "      <td>5</td>\n",
       "      <td>0</td>\n",
       "      <td>c1cc(ccc1[C@H](CCO)NC(=O)C2(CCN(CC2)c3c4cc[nH]...</td>\n",
       "      <td>428.9</td>\n",
       "      <td>1</td>\n",
       "      <td>0</td>\n",
       "      <td>25227436</td>\n",
       "      <td>C1CN(CCC1(C(=O)NC(CCO)C2=CC=C(C=C2)Cl)N)C3=NC=...</td>\n",
       "      <td>0</td>\n",
       "      <td>580</td>\n",
       "      <td>256</td>\n",
       "      <td>1.0</td>\n",
       "      <td>1</td>\n",
       "      <td>1</td>\n",
       "      <td>0</td>\n",
       "      <td>8.2</td>\n",
       "      <td>428.172752</td>\n",
       "      <td>2</td>\n",
       "      <td>0</td>\n",
       "      <td>4</td>\n",
       "      <td>14</td>\n",
       "      <td>4</td>\n",
       "      <td>0</td>\n",
       "      <td>4</td>\n",
       "      <td>AAADceB7sAAEAAAAAAAAAAAAAAAAAWAAAAA8WIAAAAAAAF...</td>\n",
       "      <td>6</td>\n",
       "      <td>4</td>\n",
       "      <td>30</td>\n",
       "      <td>4-amino-N-[(1S)-1-(4-chlorophenyl)-3-hydroxypr...</td>\n",
       "      <td>InChI=1S/C21H25ClN6O2/c22-15-3-1-14(2-4-15)17(...</td>\n",
       "      <td>JDUBGYFRJFOXQC-KRWDZBQOSA-N</td>\n",
       "      <td>C1CN(CCC1(C(=O)N[C@@H](CCO)C2=CC=C(C=C2)Cl)N)C...</td>\n",
       "      <td>0</td>\n",
       "      <td>C21H25ClN6O2</td>\n",
       "      <td>428.91520</td>\n",
       "      <td>428.172752</td>\n",
       "      <td>6</td>\n",
       "      <td>120.0</td>\n",
       "      <td>0</td>\n",
       "      <td>0</td>\n",
       "      <td>319.3</td>\n",
       "      <td>1.7</td>\n",
       "      <td>14.27</td>\n",
       "      <td>5.17</td>\n",
       "      <td>1.08</td>\n",
       "      <td>25227436,42602260,57750340</td>\n",
       "      <td>None</td>\n",
       "      <td>None</td>\n",
       "      <td>None</td>\n",
       "      <td>None</td>\n",
       "      <td>None</td>\n",
       "      <td>None</td>\n",
       "      <td>None</td>\n",
       "    </tr>\n",
       "    <tr>\n",
       "      <th>2</th>\n",
       "      <td>AKT_1</td>\n",
       "      <td>AKT*</td>\n",
       "      <td>6</td>\n",
       "      <td>3.24</td>\n",
       "      <td>3</td>\n",
       "      <td>0</td>\n",
       "      <td>c1ccc(cc1)c2cc3c(ccn4c3n[nH]c4=O)nc2c5ccc(cc5)...</td>\n",
       "      <td>407.5</td>\n",
       "      <td>0</td>\n",
       "      <td>0</td>\n",
       "      <td>24964624</td>\n",
       "      <td>C1CC(C1)(C2=CC=C(C=C2)C3=C(C=C4C(=N3)C=CN5C4=N...</td>\n",
       "      <td>0</td>\n",
       "      <td>760</td>\n",
       "      <td>4</td>\n",
       "      <td>0.8</td>\n",
       "      <td>1</td>\n",
       "      <td>0</td>\n",
       "      <td>0</td>\n",
       "      <td>3.8</td>\n",
       "      <td>407.174610</td>\n",
       "      <td>2</td>\n",
       "      <td>0</td>\n",
       "      <td>1</td>\n",
       "      <td>11</td>\n",
       "      <td>2</td>\n",
       "      <td>0</td>\n",
       "      <td>6</td>\n",
       "      <td>AAADceB7oAAAAAAAAAAAAAAAAABgAQAAAAA8YIEAAAAAAE...</td>\n",
       "      <td>4</td>\n",
       "      <td>2</td>\n",
       "      <td>31</td>\n",
       "      <td>8-[4-(1-aminocyclobutyl)phenyl]-9-phenyl-2H-[1...</td>\n",
       "      <td>InChI=1S/C25H21N5O/c26-25(12-4-13-25)18-9-7-17...</td>\n",
       "      <td>ULDXWLCXEDXJGE-UHFFFAOYSA-N</td>\n",
       "      <td>C1CC(C1)(C2=CC=C(C=C2)C3=C(C=C4C(=N3)C=CN5C4=N...</td>\n",
       "      <td>0</td>\n",
       "      <td>C25H21N5O</td>\n",
       "      <td>407.46714</td>\n",
       "      <td>407.174610</td>\n",
       "      <td>3</td>\n",
       "      <td>83.6</td>\n",
       "      <td>0</td>\n",
       "      <td>0</td>\n",
       "      <td>317.2</td>\n",
       "      <td>3.0</td>\n",
       "      <td>16.28</td>\n",
       "      <td>4.11</td>\n",
       "      <td>1.07</td>\n",
       "      <td>24964624</td>\n",
       "      <td>None</td>\n",
       "      <td>None</td>\n",
       "      <td>None</td>\n",
       "      <td>None</td>\n",
       "      <td>None</td>\n",
       "      <td>None</td>\n",
       "      <td>None</td>\n",
       "    </tr>\n",
       "    <tr>\n",
       "      <th>3</th>\n",
       "      <td>AKT_PIK3C</td>\n",
       "      <td>AKT*,PIK3C*</td>\n",
       "      <td>NaN</td>\n",
       "      <td>NaN</td>\n",
       "      <td>NaN</td>\n",
       "      <td>NaN</td>\n",
       "      <td>None</td>\n",
       "      <td>NaN</td>\n",
       "      <td>NaN</td>\n",
       "      <td>NaN</td>\n",
       "      <td>NaN</td>\n",
       "      <td>None</td>\n",
       "      <td>NaN</td>\n",
       "      <td>NaN</td>\n",
       "      <td>NaN</td>\n",
       "      <td>NaN</td>\n",
       "      <td>NaN</td>\n",
       "      <td>NaN</td>\n",
       "      <td>NaN</td>\n",
       "      <td>NaN</td>\n",
       "      <td>NaN</td>\n",
       "      <td>NaN</td>\n",
       "      <td>NaN</td>\n",
       "      <td>NaN</td>\n",
       "      <td>NaN</td>\n",
       "      <td>NaN</td>\n",
       "      <td>NaN</td>\n",
       "      <td>NaN</td>\n",
       "      <td>None</td>\n",
       "      <td>NaN</td>\n",
       "      <td>NaN</td>\n",
       "      <td>NaN</td>\n",
       "      <td>None</td>\n",
       "      <td>None</td>\n",
       "      <td>None</td>\n",
       "      <td>None</td>\n",
       "      <td>NaN</td>\n",
       "      <td>None</td>\n",
       "      <td>NaN</td>\n",
       "      <td>NaN</td>\n",
       "      <td>NaN</td>\n",
       "      <td>NaN</td>\n",
       "      <td>NaN</td>\n",
       "      <td>NaN</td>\n",
       "      <td>NaN</td>\n",
       "      <td>NaN</td>\n",
       "      <td>NaN</td>\n",
       "      <td>NaN</td>\n",
       "      <td>NaN</td>\n",
       "      <td>None</td>\n",
       "      <td>None</td>\n",
       "      <td>None</td>\n",
       "      <td>None</td>\n",
       "      <td>None</td>\n",
       "      <td>None</td>\n",
       "      <td>None</td>\n",
       "      <td>None</td>\n",
       "    </tr>\n",
       "    <tr>\n",
       "      <th>4</th>\n",
       "      <td>AKT_SGK</td>\n",
       "      <td>AKT*,SGK*</td>\n",
       "      <td>NaN</td>\n",
       "      <td>NaN</td>\n",
       "      <td>NaN</td>\n",
       "      <td>NaN</td>\n",
       "      <td>None</td>\n",
       "      <td>NaN</td>\n",
       "      <td>NaN</td>\n",
       "      <td>NaN</td>\n",
       "      <td>NaN</td>\n",
       "      <td>None</td>\n",
       "      <td>NaN</td>\n",
       "      <td>NaN</td>\n",
       "      <td>NaN</td>\n",
       "      <td>NaN</td>\n",
       "      <td>NaN</td>\n",
       "      <td>NaN</td>\n",
       "      <td>NaN</td>\n",
       "      <td>NaN</td>\n",
       "      <td>NaN</td>\n",
       "      <td>NaN</td>\n",
       "      <td>NaN</td>\n",
       "      <td>NaN</td>\n",
       "      <td>NaN</td>\n",
       "      <td>NaN</td>\n",
       "      <td>NaN</td>\n",
       "      <td>NaN</td>\n",
       "      <td>None</td>\n",
       "      <td>NaN</td>\n",
       "      <td>NaN</td>\n",
       "      <td>NaN</td>\n",
       "      <td>None</td>\n",
       "      <td>None</td>\n",
       "      <td>None</td>\n",
       "      <td>None</td>\n",
       "      <td>NaN</td>\n",
       "      <td>None</td>\n",
       "      <td>NaN</td>\n",
       "      <td>NaN</td>\n",
       "      <td>NaN</td>\n",
       "      <td>NaN</td>\n",
       "      <td>NaN</td>\n",
       "      <td>NaN</td>\n",
       "      <td>NaN</td>\n",
       "      <td>NaN</td>\n",
       "      <td>NaN</td>\n",
       "      <td>NaN</td>\n",
       "      <td>NaN</td>\n",
       "      <td>None</td>\n",
       "      <td>None</td>\n",
       "      <td>None</td>\n",
       "      <td>None</td>\n",
       "      <td>None</td>\n",
       "      <td>None</td>\n",
       "      <td>None</td>\n",
       "      <td>None</td>\n",
       "    </tr>\n",
       "  </tbody>\n",
       "</table>\n",
       "</div>"
      ],
      "text/plain": [
       "  ChallengeName Target(Official Symbol)  HBA  cLogP  HBD  Lipinski                               SMILES or PubChem ID     MW  AtomStereoCount  BondStereoCount       CID                                    CanonicalSMILES  Charge  Complexity  ConformerCount3D  ConformerModelRMSD3D  CovalentUnitCount  DefinedAtomStereoCount  DefinedBondStereoCount  EffectiveRotorCount3D   ExactMass  FeatureAcceptorCount3D  FeatureAnionCount3D  FeatureCationCount3D  FeatureCount3D  FeatureDonorCount3D  FeatureHydrophobeCount3D  FeatureRingCount3D                                      Fingerprint2D  HBondAcceptorCount  HBondDonorCount  HeavyAtomCount                                          IUPACName                                              InChI                     InChIKey                                     IsomericSMILES  IsotopeAtomCount MolecularFormula  MolecularWeight  MonoisotopicMass  RotatableBondCount   TPSA  UndefinedAtomStereoCount  UndefinedBondStereoCount  Volume3D  XLogP  \\\n",
       "0        ADAM17                  ADAM17  NaN    NaN  NaN       NaN                                               None    NaN              NaN              NaN       NaN                                               None     NaN         NaN               NaN                   NaN                NaN                     NaN                     NaN                    NaN         NaN                     NaN                  NaN                   NaN             NaN                  NaN                       NaN                 NaN                                               None                 NaN              NaN             NaN                                               None                                               None                         None                                               None               NaN             None              NaN               NaN                 NaN    NaN                       NaN                       NaN       NaN    NaN   \n",
       "1           AKT        AKT1, AKT2, AKT3    8   1.18    5         0  c1cc(ccc1[C@H](CCO)NC(=O)C2(CCN(CC2)c3c4cc[nH]...  428.9                1                0  25227436  C1CN(CCC1(C(=O)NC(CCO)C2=CC=C(C=C2)Cl)N)C3=NC=...       0         580               256                   1.0                  1                       1                       0                    8.2  428.172752                       2                    0                     4              14                    4                         0                   4  AAADceB7sAAEAAAAAAAAAAAAAAAAAWAAAAA8WIAAAAAAAF...                   6                4              30  4-amino-N-[(1S)-1-(4-chlorophenyl)-3-hydroxypr...  InChI=1S/C21H25ClN6O2/c22-15-3-1-14(2-4-15)17(...  JDUBGYFRJFOXQC-KRWDZBQOSA-N  C1CN(CCC1(C(=O)N[C@@H](CCO)C2=CC=C(C=C2)Cl)N)C...                 0     C21H25ClN6O2        428.91520        428.172752                   6  120.0                         0                         0     319.3    1.7   \n",
       "2         AKT_1                    AKT*    6   3.24    3         0  c1ccc(cc1)c2cc3c(ccn4c3n[nH]c4=O)nc2c5ccc(cc5)...  407.5                0                0  24964624  C1CC(C1)(C2=CC=C(C=C2)C3=C(C=C4C(=N3)C=CN5C4=N...       0         760                 4                   0.8                  1                       0                       0                    3.8  407.174610                       2                    0                     1              11                    2                         0                   6  AAADceB7oAAAAAAAAAAAAAAAAABgAQAAAAA8YIEAAAAAAE...                   4                2              31  8-[4-(1-aminocyclobutyl)phenyl]-9-phenyl-2H-[1...  InChI=1S/C25H21N5O/c26-25(12-4-13-25)18-9-7-17...  ULDXWLCXEDXJGE-UHFFFAOYSA-N  C1CC(C1)(C2=CC=C(C=C2)C3=C(C=C4C(=N3)C=CN5C4=N...                 0        C25H21N5O        407.46714        407.174610                   3   83.6                         0                         0     317.2    3.0   \n",
       "3     AKT_PIK3C             AKT*,PIK3C*  NaN    NaN  NaN       NaN                                               None    NaN              NaN              NaN       NaN                                               None     NaN         NaN               NaN                   NaN                NaN                     NaN                     NaN                    NaN         NaN                     NaN                  NaN                   NaN             NaN                  NaN                       NaN                 NaN                                               None                 NaN              NaN             NaN                                               None                                               None                         None                                               None               NaN             None              NaN               NaN                 NaN    NaN                       NaN                       NaN       NaN    NaN   \n",
       "4       AKT_SGK               AKT*,SGK*  NaN    NaN  NaN       NaN                                               None    NaN              NaN              NaN       NaN                                               None     NaN         NaN               NaN                   NaN                NaN                     NaN                     NaN                    NaN         NaN                     NaN                  NaN                   NaN             NaN                  NaN                       NaN                 NaN                                               None                 NaN              NaN             NaN                                               None                                               None                         None                                               None               NaN             None              NaN               NaN                 NaN    NaN                       NaN                       NaN       NaN    NaN   \n",
       "\n",
       "   XStericQuadrupole3D  YStericQuadrupole3D  ZStericQuadrupole3D                        cids targets targets_bioentities enzymes enzymes_bioentities transporters transporters_bioentities  atcs  \n",
       "0                  NaN                  NaN                  NaN                        None    None                None    None                None         None                     None  None  \n",
       "1                14.27                 5.17                 1.08  25227436,42602260,57750340    None                None    None                None         None                     None  None  \n",
       "2                16.28                 4.11                 1.07                    24964624    None                None    None                None         None                     None  None  \n",
       "3                  NaN                  NaN                  NaN                        None    None                None    None                None         None                     None  None  \n",
       "4                  NaN                  NaN                  NaN                        None    None                None    None                None         None                     None  None  "
      ]
     },
     "metadata": {},
     "output_type": "display_data"
    },
    {
     "name": "stdout",
     "output_type": "stream",
     "text": [
      "(119, 57)\n"
     ]
    }
   ],
   "source": [
    "display(drug_info_release_3.head())\n",
    "print(drug_info_release_3.shape)"
   ]
  },
  {
   "cell_type": "code",
   "execution_count": null,
   "metadata": {
    "collapsed": true
   },
   "outputs": [],
   "source": []
  },
  {
   "cell_type": "markdown",
   "metadata": {},
   "source": [
    "# Drug to target (HGNC)"
   ]
  },
  {
   "cell_type": "code",
   "execution_count": 87,
   "metadata": {
    "collapsed": true
   },
   "outputs": [],
   "source": [
    "multitarget_corrections = {\n",
    "    # Drugs without proper gene names\n",
    "    'Azacytidine': 'DNMT1',\n",
    "    'Chloroquine': 'GSTA2,TNF,TLR9,GST', \n",
    "    'Cisplatin':   'SLC31A1,ABCC2,ATP7A,ATP7B,HMGB1,MSH6,MLH1,XRCC1,ERCC1,ERCC2,XPA,MPO,SOD1,GSTM1,NQO1,GSTP1,MT', \n",
    "    'Carboplatin': 'SLC31A1,ABCC2,ATP7A,ATP7B,HMGB1,MSH6,MLH1,XRCC1,ERCC1,ERCC2,XPA,MPO,SOD1,GSTM1,NQO1,GSTP1,MT', \n",
    "    'Oxaliplatin': 'SLC31A1,ABCC2,ATP7A,ATP7B,HMGB1,MSH6,MLH1,XRCC1,ERCC1,ERCC2,XPA,MPO,SOD1,GSTM1,NQO1,GSTP1,MT', \n",
    "    'CarboTaxol': ('SLC31A1,ABCC2,ATP7A,ATP7B,HMGB1,MSH6,MLH1,XRCC1,ERCC1,ERCC2,XPA,MPO,SOD1,GSTM1,NQO1,GSTP1,MT'\n",
    "                   'BCL2,TUBB1,NR1I2,MAP4,MAP2,MAPT'),\n",
    "    'FOLFIRI': 'TYMS,TOP1,TOP1MT', \n",
    "    'FOLFOX': 'TYMS,SLC31A1,ABCC2,ATP7A,ATP7B,HMGB1,MSH6,MLH1,XRCC1,ERCC1,ERCC2,XPA,MPO,SOD1,GSTM1,NQO1,GSTP1,MT',\n",
    "}"
   ]
  },
  {
   "cell_type": "code",
   "execution_count": 88,
   "metadata": {
    "code_folding": [
     0
    ],
    "collapsed": false
   },
   "outputs": [],
   "source": [
    "drugs_to_targets_list = [\n",
    "    (drug, target.strip())\n",
    "    for (drug, targets) \n",
    "    in drug_info_release[['ChallengeName', 'Target(Official Symbol)']].values\n",
    "    for target in multitarget_corrections.get(drug, targets).split(',')    \n",
    "]\n",
    "drugs_to_targets = pd.DataFrame(drugs_to_targets_list, columns=['drug', 'target_original'])"
   ]
  },
  {
   "cell_type": "code",
   "execution_count": 89,
   "metadata": {
    "code_folding": [],
    "collapsed": false
   },
   "outputs": [],
   "source": [
    "# Corrections to the provided targets\n",
    "target_corrections = {\n",
    "    # Corrent typos in gene names\n",
    "    'BRAF_mut': 'BRAF',\n",
    "    'BRAF_V600E': 'BRAF',\n",
    "    'CD19 antibody': 'CD19',\n",
    "    'VEGFR2': 'KDR',\n",
    "    'NIAP': 'NAIP',\n",
    "    'TNFA': 'TNF',\n",
    "    'NAE2': 'UBA3',\n",
    "    'TIE2': 'TEK',\n",
    "    'cMET': 'MET',\n",
    "    'Gamma secretase': 'APH*',\n",
    "    'Proteasome': 'PSM*',\n",
    "}\n",
    "drugs_to_targets['target'] = drugs_to_targets['target_original'].apply(lambda x: target_corrections.get(x,x))"
   ]
  },
  {
   "cell_type": "code",
   "execution_count": 90,
   "metadata": {
    "collapsed": false,
    "scrolled": false
   },
   "outputs": [
    {
     "data": {
      "text/html": [
       "<div>\n",
       "<table border=\"1\" class=\"dataframe\">\n",
       "  <thead>\n",
       "    <tr style=\"text-align: right;\">\n",
       "      <th></th>\n",
       "      <th>drug</th>\n",
       "      <th>target_original</th>\n",
       "      <th>target</th>\n",
       "    </tr>\n",
       "  </thead>\n",
       "  <tbody>\n",
       "    <tr>\n",
       "      <th>35</th>\n",
       "      <td>BRAF_VEGFR2</td>\n",
       "      <td>VEGFR2</td>\n",
       "      <td>KDR</td>\n",
       "    </tr>\n",
       "    <tr>\n",
       "      <th>36</th>\n",
       "      <td>BRAF_VEGFR2</td>\n",
       "      <td>KDR</td>\n",
       "      <td>KDR</td>\n",
       "    </tr>\n",
       "    <tr>\n",
       "      <th>193</th>\n",
       "      <td>NAE</td>\n",
       "      <td>NAE2</td>\n",
       "      <td>UBA3</td>\n",
       "    </tr>\n",
       "    <tr>\n",
       "      <th>194</th>\n",
       "      <td>NAE</td>\n",
       "      <td>UBA3</td>\n",
       "      <td>UBA3</td>\n",
       "    </tr>\n",
       "    <tr>\n",
       "      <th>245</th>\n",
       "      <td>TKI_2</td>\n",
       "      <td>VEGFR2</td>\n",
       "      <td>KDR</td>\n",
       "    </tr>\n",
       "    <tr>\n",
       "      <th>246</th>\n",
       "      <td>TKI_2</td>\n",
       "      <td>TIE2</td>\n",
       "      <td>TEK</td>\n",
       "    </tr>\n",
       "    <tr>\n",
       "      <th>247</th>\n",
       "      <td>TKI_2</td>\n",
       "      <td>KDR</td>\n",
       "      <td>KDR</td>\n",
       "    </tr>\n",
       "    <tr>\n",
       "      <th>248</th>\n",
       "      <td>TKI_2</td>\n",
       "      <td>TEK</td>\n",
       "      <td>TEK</td>\n",
       "    </tr>\n",
       "  </tbody>\n",
       "</table>\n",
       "</div>"
      ],
      "text/plain": [
       "            drug target_original target\n",
       "35   BRAF_VEGFR2          VEGFR2    KDR\n",
       "36   BRAF_VEGFR2             KDR    KDR\n",
       "193          NAE            NAE2   UBA3\n",
       "194          NAE            UBA3   UBA3\n",
       "245        TKI_2          VEGFR2    KDR\n",
       "246        TKI_2            TIE2    TEK\n",
       "247        TKI_2             KDR    KDR\n",
       "248        TKI_2             TEK    TEK"
      ]
     },
     "execution_count": 90,
     "metadata": {},
     "output_type": "execute_result"
    }
   ],
   "source": [
    "duplicates = drugs_to_targets[\n",
    "    (drugs_to_targets.duplicated(subset=['drug', 'target'], keep=False))\n",
    "]\n",
    "duplicates"
   ]
  },
  {
   "cell_type": "code",
   "execution_count": 91,
   "metadata": {
    "collapsed": false
   },
   "outputs": [],
   "source": [
    "# Remove duplicate drug -> target\n",
    "drugs_to_targets = drugs_to_targets.drop_duplicates(subset=['drug', 'target'])"
   ]
  },
  {
   "cell_type": "code",
   "execution_count": null,
   "metadata": {
    "collapsed": true
   },
   "outputs": [],
   "source": []
  },
  {
   "cell_type": "code",
   "execution_count": 92,
   "metadata": {
    "code_folding": [
     0
    ],
    "collapsed": false
   },
   "outputs": [],
   "source": [
    "# Get Ensembl IDs for the provided targets\n",
    "engine = sa.create_engine('{}/az_dream_2015'.format(os.environ['BIODB_CONNECTION_STR']))\n",
    "sql_query_template = \"\"\"\n",
    "select *\n",
    "from ensembl_sequence_38.hgnc2ensembl\n",
    "where hgnc_name like '{}'\n",
    "\"\"\"\n",
    "results = []\n",
    "for target in drugs_to_targets['target'].drop_duplicates():\n",
    "    target_like = target.replace('*', '%%').strip()\n",
    "    sql_query = sql_query_template.format(target_like)\n",
    "    mapped_targets = pd.read_sql_query(sql_query, engine)\n",
    "    mapped_targets['target'] = target\n",
    "    results.append(mapped_targets)\n",
    "targets_mapped = pd.concat(results, ignore_index=True)"
   ]
  },
  {
   "cell_type": "code",
   "execution_count": 93,
   "metadata": {
    "collapsed": false
   },
   "outputs": [
    {
     "data": {
      "text/html": [
       "<div>\n",
       "<table border=\"1\" class=\"dataframe\">\n",
       "  <thead>\n",
       "    <tr style=\"text-align: right;\">\n",
       "      <th></th>\n",
       "      <th>hgnc_name</th>\n",
       "      <th>hgnc_acc</th>\n",
       "      <th>hgnc_description</th>\n",
       "      <th>ensg</th>\n",
       "      <th>enst</th>\n",
       "      <th>ensp</th>\n",
       "      <th>target</th>\n",
       "    </tr>\n",
       "  </thead>\n",
       "  <tbody>\n",
       "    <tr>\n",
       "      <th>0</th>\n",
       "      <td>ADAM17</td>\n",
       "      <td>HGNC:195</td>\n",
       "      <td>ADAM metallopeptidase domain 17</td>\n",
       "      <td>ENSG00000151694</td>\n",
       "      <td>ENST00000310823</td>\n",
       "      <td>ENSP00000309968</td>\n",
       "      <td>ADAM17</td>\n",
       "    </tr>\n",
       "    <tr>\n",
       "      <th>1</th>\n",
       "      <td>ADAM17</td>\n",
       "      <td>HGNC:195</td>\n",
       "      <td>ADAM metallopeptidase domain 17</td>\n",
       "      <td>ENSG00000151694</td>\n",
       "      <td>ENST00000497134</td>\n",
       "      <td>ENSP00000418728</td>\n",
       "      <td>ADAM17</td>\n",
       "    </tr>\n",
       "    <tr>\n",
       "      <th>2</th>\n",
       "      <td>ADAM17</td>\n",
       "      <td>HGNC:195</td>\n",
       "      <td>ADAM metallopeptidase domain 17</td>\n",
       "      <td>ENSG00000151694</td>\n",
       "      <td>ENST00000618923</td>\n",
       "      <td>ENSP00000480552</td>\n",
       "      <td>ADAM17</td>\n",
       "    </tr>\n",
       "    <tr>\n",
       "      <th>3</th>\n",
       "      <td>AKT1</td>\n",
       "      <td>HGNC:391</td>\n",
       "      <td>v-akt murine thymoma viral oncogene homolog 1</td>\n",
       "      <td>ENSG00000142208</td>\n",
       "      <td>ENST00000554581</td>\n",
       "      <td>ENSP00000451828</td>\n",
       "      <td>AKT1</td>\n",
       "    </tr>\n",
       "    <tr>\n",
       "      <th>4</th>\n",
       "      <td>AKT1</td>\n",
       "      <td>HGNC:391</td>\n",
       "      <td>v-akt murine thymoma viral oncogene homolog 1</td>\n",
       "      <td>ENSG00000142208</td>\n",
       "      <td>ENST00000407796</td>\n",
       "      <td>ENSP00000384293</td>\n",
       "      <td>AKT1</td>\n",
       "    </tr>\n",
       "  </tbody>\n",
       "</table>\n",
       "</div>"
      ],
      "text/plain": [
       "  hgnc_name  hgnc_acc                               hgnc_description             ensg             enst             ensp  target\n",
       "0    ADAM17  HGNC:195                ADAM metallopeptidase domain 17  ENSG00000151694  ENST00000310823  ENSP00000309968  ADAM17\n",
       "1    ADAM17  HGNC:195                ADAM metallopeptidase domain 17  ENSG00000151694  ENST00000497134  ENSP00000418728  ADAM17\n",
       "2    ADAM17  HGNC:195                ADAM metallopeptidase domain 17  ENSG00000151694  ENST00000618923  ENSP00000480552  ADAM17\n",
       "3      AKT1  HGNC:391  v-akt murine thymoma viral oncogene homolog 1  ENSG00000142208  ENST00000554581  ENSP00000451828    AKT1\n",
       "4      AKT1  HGNC:391  v-akt murine thymoma viral oncogene homolog 1  ENSG00000142208  ENST00000407796  ENSP00000384293    AKT1"
      ]
     },
     "execution_count": 93,
     "metadata": {},
     "output_type": "execute_result"
    }
   ],
   "source": [
    "targets_mapped.head()"
   ]
  },
  {
   "cell_type": "code",
   "execution_count": null,
   "metadata": {
    "collapsed": true
   },
   "outputs": [],
   "source": []
  },
  {
   "cell_type": "code",
   "execution_count": 94,
   "metadata": {
    "collapsed": false
   },
   "outputs": [],
   "source": [
    "drugs_to_targets_mapped = (\n",
    "    drugs_to_targets\n",
    "    .merge(targets_mapped, on=['target'])\n",
    ")"
   ]
  },
  {
   "cell_type": "code",
   "execution_count": 95,
   "metadata": {
    "collapsed": true
   },
   "outputs": [],
   "source": [
    "drugs_to_targets_mapped['ensp_idx'] = (\n",
    "    drugs_to_targets_mapped['ensp']\n",
    "    .apply(lambda x: int(x[4:]))\n",
    ")"
   ]
  },
  {
   "cell_type": "code",
   "execution_count": 96,
   "metadata": {
    "collapsed": false
   },
   "outputs": [
    {
     "data": {
      "text/html": [
       "<div>\n",
       "<table border=\"1\" class=\"dataframe\">\n",
       "  <thead>\n",
       "    <tr style=\"text-align: right;\">\n",
       "      <th></th>\n",
       "      <th>drug</th>\n",
       "      <th>target_original</th>\n",
       "      <th>target</th>\n",
       "      <th>hgnc_name</th>\n",
       "      <th>hgnc_acc</th>\n",
       "      <th>hgnc_description</th>\n",
       "      <th>ensg</th>\n",
       "      <th>enst</th>\n",
       "      <th>ensp</th>\n",
       "      <th>ensp_idx</th>\n",
       "    </tr>\n",
       "  </thead>\n",
       "  <tbody>\n",
       "    <tr>\n",
       "      <th>0</th>\n",
       "      <td>ADAM17</td>\n",
       "      <td>ADAM17</td>\n",
       "      <td>ADAM17</td>\n",
       "      <td>ADAM17</td>\n",
       "      <td>HGNC:195</td>\n",
       "      <td>ADAM metallopeptidase domain 17</td>\n",
       "      <td>ENSG00000151694</td>\n",
       "      <td>ENST00000310823</td>\n",
       "      <td>ENSP00000309968</td>\n",
       "      <td>309968</td>\n",
       "    </tr>\n",
       "    <tr>\n",
       "      <th>1</th>\n",
       "      <td>ADAM17</td>\n",
       "      <td>ADAM17</td>\n",
       "      <td>ADAM17</td>\n",
       "      <td>ADAM17</td>\n",
       "      <td>HGNC:195</td>\n",
       "      <td>ADAM metallopeptidase domain 17</td>\n",
       "      <td>ENSG00000151694</td>\n",
       "      <td>ENST00000497134</td>\n",
       "      <td>ENSP00000418728</td>\n",
       "      <td>418728</td>\n",
       "    </tr>\n",
       "    <tr>\n",
       "      <th>2</th>\n",
       "      <td>ADAM17</td>\n",
       "      <td>ADAM17</td>\n",
       "      <td>ADAM17</td>\n",
       "      <td>ADAM17</td>\n",
       "      <td>HGNC:195</td>\n",
       "      <td>ADAM metallopeptidase domain 17</td>\n",
       "      <td>ENSG00000151694</td>\n",
       "      <td>ENST00000618923</td>\n",
       "      <td>ENSP00000480552</td>\n",
       "      <td>480552</td>\n",
       "    </tr>\n",
       "    <tr>\n",
       "      <th>3</th>\n",
       "      <td>AKT</td>\n",
       "      <td>AKT1</td>\n",
       "      <td>AKT1</td>\n",
       "      <td>AKT1</td>\n",
       "      <td>HGNC:391</td>\n",
       "      <td>v-akt murine thymoma viral oncogene homolog 1</td>\n",
       "      <td>ENSG00000142208</td>\n",
       "      <td>ENST00000554581</td>\n",
       "      <td>ENSP00000451828</td>\n",
       "      <td>451828</td>\n",
       "    </tr>\n",
       "    <tr>\n",
       "      <th>4</th>\n",
       "      <td>AKT</td>\n",
       "      <td>AKT1</td>\n",
       "      <td>AKT1</td>\n",
       "      <td>AKT1</td>\n",
       "      <td>HGNC:391</td>\n",
       "      <td>v-akt murine thymoma viral oncogene homolog 1</td>\n",
       "      <td>ENSG00000142208</td>\n",
       "      <td>ENST00000407796</td>\n",
       "      <td>ENSP00000384293</td>\n",
       "      <td>384293</td>\n",
       "    </tr>\n",
       "  </tbody>\n",
       "</table>\n",
       "</div>"
      ],
      "text/plain": [
       "     drug target_original  target hgnc_name  hgnc_acc                               hgnc_description             ensg             enst             ensp  ensp_idx\n",
       "0  ADAM17          ADAM17  ADAM17    ADAM17  HGNC:195                ADAM metallopeptidase domain 17  ENSG00000151694  ENST00000310823  ENSP00000309968    309968\n",
       "1  ADAM17          ADAM17  ADAM17    ADAM17  HGNC:195                ADAM metallopeptidase domain 17  ENSG00000151694  ENST00000497134  ENSP00000418728    418728\n",
       "2  ADAM17          ADAM17  ADAM17    ADAM17  HGNC:195                ADAM metallopeptidase domain 17  ENSG00000151694  ENST00000618923  ENSP00000480552    480552\n",
       "3     AKT            AKT1    AKT1      AKT1  HGNC:391  v-akt murine thymoma viral oncogene homolog 1  ENSG00000142208  ENST00000554581  ENSP00000451828    451828\n",
       "4     AKT            AKT1    AKT1      AKT1  HGNC:391  v-akt murine thymoma viral oncogene homolog 1  ENSG00000142208  ENST00000407796  ENSP00000384293    384293"
      ]
     },
     "metadata": {},
     "output_type": "display_data"
    },
    {
     "name": "stdout",
     "output_type": "stream",
     "text": [
      "Number of drug-target pairs:                                3231\n",
      "Total number of drugs:                                      119\n",
      "Number of drugs with mapped targets:                        119\n"
     ]
    }
   ],
   "source": [
    "display(drugs_to_targets_mapped.head())\n",
    "dat.print2('Number of drug-target pairs:', len(drugs_to_targets_mapped))\n",
    "dat.print2('Total number of drugs:', len(drugs_to_targets['drug'].drop_duplicates()))\n",
    "dat.print2('Number of drugs with mapped targets:', len(drugs_to_targets_mapped['drug'].drop_duplicates()))"
   ]
  },
  {
   "cell_type": "code",
   "execution_count": 97,
   "metadata": {
    "collapsed": false
   },
   "outputs": [
    {
     "name": "stdout",
     "output_type": "stream",
     "text": [
      "Number of drug -> target tupels:                            3231\n",
      "Number of original drug -> target tuples:                   255\n",
      "Number of corrected drug -> target tuples:                  255\n",
      "Number of HGNC drug -> target tuples:                       476\n",
      "Number of ENSG drug -> target tuples:                       543\n",
      "Number of ENST drug -> target tuples:                       3231\n",
      "Number of ENSP drug -> target tuples:                       3231\n"
     ]
    }
   ],
   "source": [
    "print_stats(drugs_to_targets_mapped)"
   ]
  },
  {
   "cell_type": "code",
   "execution_count": null,
   "metadata": {
    "collapsed": true
   },
   "outputs": [],
   "source": []
  },
  {
   "cell_type": "markdown",
   "metadata": {},
   "source": [
    "## Analyse missing"
   ]
  },
  {
   "cell_type": "code",
   "execution_count": 98,
   "metadata": {
    "collapsed": false,
    "run_control": {
     "marked": false
    }
   },
   "outputs": [
    {
     "data": {
      "text/plain": [
       "set()"
      ]
     },
     "execution_count": 98,
     "metadata": {},
     "output_type": "execute_result"
    }
   ],
   "source": [
    "missing_drugs = set(drugs_to_targets['drug']) - set(drugs_to_targets_mapped['drug'])\n",
    "missing_drugs"
   ]
  },
  {
   "cell_type": "code",
   "execution_count": 99,
   "metadata": {
    "collapsed": false
   },
   "outputs": [
    {
     "data": {
      "text/plain": [
       "{'CHK1', 'DNA', 'GST', 'MT', 'MTBCL2', 'microtubule'}"
      ]
     },
     "execution_count": 99,
     "metadata": {},
     "output_type": "execute_result"
    }
   ],
   "source": [
    "missing_targets = set(drugs_to_targets['target']) - set(drugs_to_targets_mapped['target'])\n",
    "missing_targets"
   ]
  },
  {
   "cell_type": "code",
   "execution_count": null,
   "metadata": {
    "collapsed": true
   },
   "outputs": [],
   "source": []
  },
  {
   "cell_type": "markdown",
   "metadata": {},
   "source": [
    "## Save"
   ]
  },
  {
   "cell_type": "code",
   "execution_count": 100,
   "metadata": {
    "collapsed": false
   },
   "outputs": [],
   "source": [
    "save_to_db_1(drugs_to_targets_mapped, 'drug_to_target')\n",
    "save_to_db_2(drugs_to_targets_mapped[['drug', 'hgnc_name']].drop_duplicates(), 'drug_to_hgnc_target')"
   ]
  },
  {
   "cell_type": "code",
   "execution_count": null,
   "metadata": {
    "collapsed": true
   },
   "outputs": [],
   "source": []
  },
  {
   "cell_type": "markdown",
   "metadata": {},
   "source": [
    "# Drug to target (STITCH)"
   ]
  },
  {
   "cell_type": "code",
   "execution_count": 101,
   "metadata": {
    "collapsed": false,
    "run_control": {
     "marked": false
    }
   },
   "outputs": [
    {
     "data": {
      "text/html": [
       "<div>\n",
       "<table border=\"1\" class=\"dataframe\">\n",
       "  <thead>\n",
       "    <tr style=\"text-align: right;\">\n",
       "      <th></th>\n",
       "      <th>ChallengeName</th>\n",
       "      <th>Target(Official Symbol)</th>\n",
       "      <th>HBA</th>\n",
       "      <th>cLogP</th>\n",
       "      <th>HBD</th>\n",
       "      <th>Lipinski</th>\n",
       "      <th>SMILES or PubChem ID</th>\n",
       "      <th>MW</th>\n",
       "      <th>AtomStereoCount</th>\n",
       "      <th>BondStereoCount</th>\n",
       "      <th>CID</th>\n",
       "      <th>CanonicalSMILES</th>\n",
       "      <th>Charge</th>\n",
       "      <th>Complexity</th>\n",
       "      <th>ConformerCount3D</th>\n",
       "      <th>ConformerModelRMSD3D</th>\n",
       "      <th>CovalentUnitCount</th>\n",
       "      <th>DefinedAtomStereoCount</th>\n",
       "      <th>DefinedBondStereoCount</th>\n",
       "      <th>EffectiveRotorCount3D</th>\n",
       "      <th>ExactMass</th>\n",
       "      <th>FeatureAcceptorCount3D</th>\n",
       "      <th>FeatureAnionCount3D</th>\n",
       "      <th>FeatureCationCount3D</th>\n",
       "      <th>FeatureCount3D</th>\n",
       "      <th>FeatureDonorCount3D</th>\n",
       "      <th>FeatureHydrophobeCount3D</th>\n",
       "      <th>FeatureRingCount3D</th>\n",
       "      <th>Fingerprint2D</th>\n",
       "      <th>HBondAcceptorCount</th>\n",
       "      <th>HBondDonorCount</th>\n",
       "      <th>HeavyAtomCount</th>\n",
       "      <th>IUPACName</th>\n",
       "      <th>InChI</th>\n",
       "      <th>InChIKey</th>\n",
       "      <th>IsomericSMILES</th>\n",
       "      <th>IsotopeAtomCount</th>\n",
       "      <th>MolecularFormula</th>\n",
       "      <th>MolecularWeight</th>\n",
       "      <th>MonoisotopicMass</th>\n",
       "      <th>RotatableBondCount</th>\n",
       "      <th>TPSA</th>\n",
       "      <th>UndefinedAtomStereoCount</th>\n",
       "      <th>UndefinedBondStereoCount</th>\n",
       "      <th>Volume3D</th>\n",
       "      <th>XLogP</th>\n",
       "      <th>XStericQuadrupole3D</th>\n",
       "      <th>YStericQuadrupole3D</th>\n",
       "      <th>ZStericQuadrupole3D</th>\n",
       "      <th>cids</th>\n",
       "      <th>targets</th>\n",
       "      <th>targets_bioentities</th>\n",
       "      <th>enzymes</th>\n",
       "      <th>enzymes_bioentities</th>\n",
       "      <th>transporters</th>\n",
       "      <th>transporters_bioentities</th>\n",
       "      <th>atcs</th>\n",
       "    </tr>\n",
       "  </thead>\n",
       "  <tbody>\n",
       "    <tr>\n",
       "      <th>1</th>\n",
       "      <td>AKT</td>\n",
       "      <td>AKT1, AKT2, AKT3</td>\n",
       "      <td>8</td>\n",
       "      <td>1.18</td>\n",
       "      <td>5</td>\n",
       "      <td>0</td>\n",
       "      <td>c1cc(ccc1[C@H](CCO)NC(=O)C2(CCN(CC2)c3c4cc[nH]...</td>\n",
       "      <td>428.9</td>\n",
       "      <td>1</td>\n",
       "      <td>0</td>\n",
       "      <td>25227436</td>\n",
       "      <td>C1CN(CCC1(C(=O)NC(CCO)C2=CC=C(C=C2)Cl)N)C3=NC=...</td>\n",
       "      <td>0</td>\n",
       "      <td>580</td>\n",
       "      <td>256</td>\n",
       "      <td>1.0</td>\n",
       "      <td>1</td>\n",
       "      <td>1</td>\n",
       "      <td>0</td>\n",
       "      <td>8.2</td>\n",
       "      <td>428.172752</td>\n",
       "      <td>2</td>\n",
       "      <td>0</td>\n",
       "      <td>4</td>\n",
       "      <td>14</td>\n",
       "      <td>4</td>\n",
       "      <td>0</td>\n",
       "      <td>4</td>\n",
       "      <td>AAADceB7sAAEAAAAAAAAAAAAAAAAAWAAAAA8WIAAAAAAAF...</td>\n",
       "      <td>6</td>\n",
       "      <td>4</td>\n",
       "      <td>30</td>\n",
       "      <td>4-amino-N-[(1S)-1-(4-chlorophenyl)-3-hydroxypr...</td>\n",
       "      <td>InChI=1S/C21H25ClN6O2/c22-15-3-1-14(2-4-15)17(...</td>\n",
       "      <td>JDUBGYFRJFOXQC-KRWDZBQOSA-N</td>\n",
       "      <td>C1CN(CCC1(C(=O)N[C@@H](CCO)C2=CC=C(C=C2)Cl)N)C...</td>\n",
       "      <td>0</td>\n",
       "      <td>C21H25ClN6O2</td>\n",
       "      <td>428.915200</td>\n",
       "      <td>428.172752</td>\n",
       "      <td>6</td>\n",
       "      <td>120.0</td>\n",
       "      <td>0</td>\n",
       "      <td>0</td>\n",
       "      <td>319.3</td>\n",
       "      <td>1.7</td>\n",
       "      <td>14.27</td>\n",
       "      <td>5.17</td>\n",
       "      <td>1.08</td>\n",
       "      <td>25227436,42602260,57750340</td>\n",
       "      <td>None</td>\n",
       "      <td>None</td>\n",
       "      <td>None</td>\n",
       "      <td>None</td>\n",
       "      <td>None</td>\n",
       "      <td>None</td>\n",
       "      <td>None</td>\n",
       "    </tr>\n",
       "    <tr>\n",
       "      <th>2</th>\n",
       "      <td>AKT_1</td>\n",
       "      <td>AKT*</td>\n",
       "      <td>6</td>\n",
       "      <td>3.24</td>\n",
       "      <td>3</td>\n",
       "      <td>0</td>\n",
       "      <td>c1ccc(cc1)c2cc3c(ccn4c3n[nH]c4=O)nc2c5ccc(cc5)...</td>\n",
       "      <td>407.5</td>\n",
       "      <td>0</td>\n",
       "      <td>0</td>\n",
       "      <td>24964624</td>\n",
       "      <td>C1CC(C1)(C2=CC=C(C=C2)C3=C(C=C4C(=N3)C=CN5C4=N...</td>\n",
       "      <td>0</td>\n",
       "      <td>760</td>\n",
       "      <td>4</td>\n",
       "      <td>0.8</td>\n",
       "      <td>1</td>\n",
       "      <td>0</td>\n",
       "      <td>0</td>\n",
       "      <td>3.8</td>\n",
       "      <td>407.174610</td>\n",
       "      <td>2</td>\n",
       "      <td>0</td>\n",
       "      <td>1</td>\n",
       "      <td>11</td>\n",
       "      <td>2</td>\n",
       "      <td>0</td>\n",
       "      <td>6</td>\n",
       "      <td>AAADceB7oAAAAAAAAAAAAAAAAABgAQAAAAA8YIEAAAAAAE...</td>\n",
       "      <td>4</td>\n",
       "      <td>2</td>\n",
       "      <td>31</td>\n",
       "      <td>8-[4-(1-aminocyclobutyl)phenyl]-9-phenyl-2H-[1...</td>\n",
       "      <td>InChI=1S/C25H21N5O/c26-25(12-4-13-25)18-9-7-17...</td>\n",
       "      <td>ULDXWLCXEDXJGE-UHFFFAOYSA-N</td>\n",
       "      <td>C1CC(C1)(C2=CC=C(C=C2)C3=C(C=C4C(=N3)C=CN5C4=N...</td>\n",
       "      <td>0</td>\n",
       "      <td>C25H21N5O</td>\n",
       "      <td>407.467140</td>\n",
       "      <td>407.174610</td>\n",
       "      <td>3</td>\n",
       "      <td>83.6</td>\n",
       "      <td>0</td>\n",
       "      <td>0</td>\n",
       "      <td>317.2</td>\n",
       "      <td>3.0</td>\n",
       "      <td>16.28</td>\n",
       "      <td>4.11</td>\n",
       "      <td>1.07</td>\n",
       "      <td>24964624</td>\n",
       "      <td>None</td>\n",
       "      <td>None</td>\n",
       "      <td>None</td>\n",
       "      <td>None</td>\n",
       "      <td>None</td>\n",
       "      <td>None</td>\n",
       "      <td>None</td>\n",
       "    </tr>\n",
       "    <tr>\n",
       "      <th>5</th>\n",
       "      <td>ALK</td>\n",
       "      <td>ALK</td>\n",
       "      <td>8</td>\n",
       "      <td>3.89</td>\n",
       "      <td>2</td>\n",
       "      <td>1</td>\n",
       "      <td>CN1CCN(CC1)C2CCN(CC2)c3ccc(c(c3)OC)Nc4ncc(c(n4...</td>\n",
       "      <td>532.1</td>\n",
       "      <td>0</td>\n",
       "      <td>0</td>\n",
       "      <td>56655374</td>\n",
       "      <td>CN1CCN(CC1)C2CCN(CC2)C3=CC(=C(C=C3)NC4=NC=C(C(...</td>\n",
       "      <td>0</td>\n",
       "      <td>746</td>\n",
       "      <td>413</td>\n",
       "      <td>1.0</td>\n",
       "      <td>1</td>\n",
       "      <td>0</td>\n",
       "      <td>0</td>\n",
       "      <td>8.4</td>\n",
       "      <td>531.251336</td>\n",
       "      <td>2</td>\n",
       "      <td>0</td>\n",
       "      <td>5</td>\n",
       "      <td>15</td>\n",
       "      <td>2</td>\n",
       "      <td>0</td>\n",
       "      <td>6</td>\n",
       "      <td>AAADcfB7oAAEAAAAAAAAAAAAAAAAAWAAAAA8eLECAAAAAF...</td>\n",
       "      <td>7</td>\n",
       "      <td>2</td>\n",
       "      <td>38</td>\n",
       "      <td>5-chloro-4-(1H-indol-3-yl)-N-[2-methoxy-4-[4-(...</td>\n",
       "      <td>InChI=1S/C29H34ClN7O/c1-35-13-15-37(16-14-35)2...</td>\n",
       "      <td>HRYNCLKDKCPYBF-UHFFFAOYSA-N</td>\n",
       "      <td>CN1CCN(CC1)C2CCN(CC2)C3=CC(=C(C=C3)NC4=NC=C(C(...</td>\n",
       "      <td>0</td>\n",
       "      <td>C29H34ClN7O</td>\n",
       "      <td>532.079560</td>\n",
       "      <td>531.251336</td>\n",
       "      <td>6</td>\n",
       "      <td>72.6</td>\n",
       "      <td>0</td>\n",
       "      <td>0</td>\n",
       "      <td>408.2</td>\n",
       "      <td>5.0</td>\n",
       "      <td>28.97</td>\n",
       "      <td>5.80</td>\n",
       "      <td>1.37</td>\n",
       "      <td>56655374</td>\n",
       "      <td>None</td>\n",
       "      <td>None</td>\n",
       "      <td>None</td>\n",
       "      <td>None</td>\n",
       "      <td>None</td>\n",
       "      <td>None</td>\n",
       "      <td>None</td>\n",
       "    </tr>\n",
       "    <tr>\n",
       "      <th>7</th>\n",
       "      <td>ALK_IGFR</td>\n",
       "      <td>ALK, IGF*R</td>\n",
       "      <td>7</td>\n",
       "      <td>4.08</td>\n",
       "      <td>4</td>\n",
       "      <td>0</td>\n",
       "      <td>COc1cc(ccc1Nc2ncc(c(n2)c3c[nH]c4c3cccc4)Cl)N5C...</td>\n",
       "      <td>449.0</td>\n",
       "      <td>0</td>\n",
       "      <td>0</td>\n",
       "      <td>56599293</td>\n",
       "      <td>COC1=C(C=CC(=C1)N2CCC(CC2)N)NC3=NC=C(C(=N3)C4=...</td>\n",
       "      <td>0</td>\n",
       "      <td>605</td>\n",
       "      <td>147</td>\n",
       "      <td>1.0</td>\n",
       "      <td>1</td>\n",
       "      <td>0</td>\n",
       "      <td>0</td>\n",
       "      <td>6.2</td>\n",
       "      <td>448.177837</td>\n",
       "      <td>2</td>\n",
       "      <td>0</td>\n",
       "      <td>4</td>\n",
       "      <td>14</td>\n",
       "      <td>3</td>\n",
       "      <td>0</td>\n",
       "      <td>5</td>\n",
       "      <td>AAADceB7oAAEAAAAAAAAAAAAAAAAAWAAAAA8eIEAAAAAAF...</td>\n",
       "      <td>6</td>\n",
       "      <td>3</td>\n",
       "      <td>32</td>\n",
       "      <td>N-[4-(4-aminopiperidin-1-yl)-2-methoxyphenyl]-...</td>\n",
       "      <td>InChI=1S/C24H25ClN6O/c1-32-22-12-16(31-10-8-15...</td>\n",
       "      <td>GCYIGMXOIWJGBU-UHFFFAOYSA-N</td>\n",
       "      <td>COC1=C(C=CC(=C1)N2CCC(CC2)N)NC3=NC=C(C(=N3)C4=...</td>\n",
       "      <td>0</td>\n",
       "      <td>C24H25ClN6O</td>\n",
       "      <td>448.947900</td>\n",
       "      <td>448.177837</td>\n",
       "      <td>5</td>\n",
       "      <td>92.1</td>\n",
       "      <td>0</td>\n",
       "      <td>0</td>\n",
       "      <td>340.1</td>\n",
       "      <td>4.2</td>\n",
       "      <td>17.12</td>\n",
       "      <td>5.81</td>\n",
       "      <td>1.31</td>\n",
       "      <td>56599293</td>\n",
       "      <td>None</td>\n",
       "      <td>None</td>\n",
       "      <td>None</td>\n",
       "      <td>None</td>\n",
       "      <td>None</td>\n",
       "      <td>None</td>\n",
       "      <td>None</td>\n",
       "    </tr>\n",
       "    <tr>\n",
       "      <th>8</th>\n",
       "      <td>AR</td>\n",
       "      <td>AR</td>\n",
       "      <td>6</td>\n",
       "      <td>3.35</td>\n",
       "      <td>1</td>\n",
       "      <td>0</td>\n",
       "      <td>CNC(=O)c1ccc(cc1F)N2C(=S)N(C(=O)C2(C)C)c3ccc(C...</td>\n",
       "      <td>464.4</td>\n",
       "      <td>0</td>\n",
       "      <td>0</td>\n",
       "      <td>15951529</td>\n",
       "      <td>CC1(C(=O)N(C(=S)N1C2=CC(=C(C=C2)C(=O)NC)F)C3=C...</td>\n",
       "      <td>0</td>\n",
       "      <td>839</td>\n",
       "      <td>50</td>\n",
       "      <td>0.8</td>\n",
       "      <td>1</td>\n",
       "      <td>0</td>\n",
       "      <td>0</td>\n",
       "      <td>5.6</td>\n",
       "      <td>464.093010</td>\n",
       "      <td>4</td>\n",
       "      <td>0</td>\n",
       "      <td>0</td>\n",
       "      <td>9</td>\n",
       "      <td>1</td>\n",
       "      <td>1</td>\n",
       "      <td>3</td>\n",
       "      <td>AAADceB7scBAAAAAAAAAAAAAAAAAAWAAAAAwYAAAAAAAAA...</td>\n",
       "      <td>8</td>\n",
       "      <td>1</td>\n",
       "      <td>32</td>\n",
       "      <td>4-[3-[4-cyano-3-(trifluoromethyl)phenyl]-5,5-d...</td>\n",
       "      <td>InChI=1S/C21H16F4N4O2S/c1-20(2)18(31)28(12-5-4...</td>\n",
       "      <td>WXCXUHSOUPDCQV-UHFFFAOYSA-N</td>\n",
       "      <td>CC1(C(=O)N(C(=S)N1C2=CC(=C(C=C2)C(=O)NC)F)C3=C...</td>\n",
       "      <td>0</td>\n",
       "      <td>C21H16F4N4O2S</td>\n",
       "      <td>464.435953</td>\n",
       "      <td>464.093010</td>\n",
       "      <td>3</td>\n",
       "      <td>109.0</td>\n",
       "      <td>0</td>\n",
       "      <td>0</td>\n",
       "      <td>336.1</td>\n",
       "      <td>3.6</td>\n",
       "      <td>19.13</td>\n",
       "      <td>3.82</td>\n",
       "      <td>0.90</td>\n",
       "      <td>15951529,71580408,71603303,71603305,71603307,7...</td>\n",
       "      <td>Androgen receptor</td>\n",
       "      <td>BE0000132</td>\n",
       "      <td>Cytochrome P450 2B6,Cytochrome P450 2C19,Cytoc...</td>\n",
       "      <td>BE0003549,BE0003536,BE0002887,BE0002793,BE0002...</td>\n",
       "      <td>Multidrug resistance protein 1</td>\n",
       "      <td>BE0001032</td>\n",
       "      <td>L02BB04</td>\n",
       "    </tr>\n",
       "  </tbody>\n",
       "</table>\n",
       "</div>"
      ],
      "text/plain": [
       "  ChallengeName Target(Official Symbol)  HBA  cLogP  HBD  Lipinski                               SMILES or PubChem ID     MW  AtomStereoCount  BondStereoCount       CID                                    CanonicalSMILES  Charge  Complexity  ConformerCount3D  ConformerModelRMSD3D  CovalentUnitCount  DefinedAtomStereoCount  DefinedBondStereoCount  EffectiveRotorCount3D   ExactMass  FeatureAcceptorCount3D  FeatureAnionCount3D  FeatureCationCount3D  FeatureCount3D  FeatureDonorCount3D  FeatureHydrophobeCount3D  FeatureRingCount3D                                      Fingerprint2D  HBondAcceptorCount  HBondDonorCount  HeavyAtomCount                                          IUPACName                                              InChI                     InChIKey                                     IsomericSMILES  IsotopeAtomCount MolecularFormula  MolecularWeight  MonoisotopicMass  RotatableBondCount   TPSA  UndefinedAtomStereoCount  UndefinedBondStereoCount  Volume3D  XLogP  \\\n",
       "1           AKT        AKT1, AKT2, AKT3    8   1.18    5         0  c1cc(ccc1[C@H](CCO)NC(=O)C2(CCN(CC2)c3c4cc[nH]...  428.9                1                0  25227436  C1CN(CCC1(C(=O)NC(CCO)C2=CC=C(C=C2)Cl)N)C3=NC=...       0         580               256                   1.0                  1                       1                       0                    8.2  428.172752                       2                    0                     4              14                    4                         0                   4  AAADceB7sAAEAAAAAAAAAAAAAAAAAWAAAAA8WIAAAAAAAF...                   6                4              30  4-amino-N-[(1S)-1-(4-chlorophenyl)-3-hydroxypr...  InChI=1S/C21H25ClN6O2/c22-15-3-1-14(2-4-15)17(...  JDUBGYFRJFOXQC-KRWDZBQOSA-N  C1CN(CCC1(C(=O)N[C@@H](CCO)C2=CC=C(C=C2)Cl)N)C...                 0     C21H25ClN6O2       428.915200        428.172752                   6  120.0                         0                         0     319.3    1.7   \n",
       "2         AKT_1                    AKT*    6   3.24    3         0  c1ccc(cc1)c2cc3c(ccn4c3n[nH]c4=O)nc2c5ccc(cc5)...  407.5                0                0  24964624  C1CC(C1)(C2=CC=C(C=C2)C3=C(C=C4C(=N3)C=CN5C4=N...       0         760                 4                   0.8                  1                       0                       0                    3.8  407.174610                       2                    0                     1              11                    2                         0                   6  AAADceB7oAAAAAAAAAAAAAAAAABgAQAAAAA8YIEAAAAAAE...                   4                2              31  8-[4-(1-aminocyclobutyl)phenyl]-9-phenyl-2H-[1...  InChI=1S/C25H21N5O/c26-25(12-4-13-25)18-9-7-17...  ULDXWLCXEDXJGE-UHFFFAOYSA-N  C1CC(C1)(C2=CC=C(C=C2)C3=C(C=C4C(=N3)C=CN5C4=N...                 0        C25H21N5O       407.467140        407.174610                   3   83.6                         0                         0     317.2    3.0   \n",
       "5           ALK                     ALK    8   3.89    2         1  CN1CCN(CC1)C2CCN(CC2)c3ccc(c(c3)OC)Nc4ncc(c(n4...  532.1                0                0  56655374  CN1CCN(CC1)C2CCN(CC2)C3=CC(=C(C=C3)NC4=NC=C(C(...       0         746               413                   1.0                  1                       0                       0                    8.4  531.251336                       2                    0                     5              15                    2                         0                   6  AAADcfB7oAAEAAAAAAAAAAAAAAAAAWAAAAA8eLECAAAAAF...                   7                2              38  5-chloro-4-(1H-indol-3-yl)-N-[2-methoxy-4-[4-(...  InChI=1S/C29H34ClN7O/c1-35-13-15-37(16-14-35)2...  HRYNCLKDKCPYBF-UHFFFAOYSA-N  CN1CCN(CC1)C2CCN(CC2)C3=CC(=C(C=C3)NC4=NC=C(C(...                 0      C29H34ClN7O       532.079560        531.251336                   6   72.6                         0                         0     408.2    5.0   \n",
       "7      ALK_IGFR              ALK, IGF*R    7   4.08    4         0  COc1cc(ccc1Nc2ncc(c(n2)c3c[nH]c4c3cccc4)Cl)N5C...  449.0                0                0  56599293  COC1=C(C=CC(=C1)N2CCC(CC2)N)NC3=NC=C(C(=N3)C4=...       0         605               147                   1.0                  1                       0                       0                    6.2  448.177837                       2                    0                     4              14                    3                         0                   5  AAADceB7oAAEAAAAAAAAAAAAAAAAAWAAAAA8eIEAAAAAAF...                   6                3              32  N-[4-(4-aminopiperidin-1-yl)-2-methoxyphenyl]-...  InChI=1S/C24H25ClN6O/c1-32-22-12-16(31-10-8-15...  GCYIGMXOIWJGBU-UHFFFAOYSA-N  COC1=C(C=CC(=C1)N2CCC(CC2)N)NC3=NC=C(C(=N3)C4=...                 0      C24H25ClN6O       448.947900        448.177837                   5   92.1                         0                         0     340.1    4.2   \n",
       "8            AR                      AR    6   3.35    1         0  CNC(=O)c1ccc(cc1F)N2C(=S)N(C(=O)C2(C)C)c3ccc(C...  464.4                0                0  15951529  CC1(C(=O)N(C(=S)N1C2=CC(=C(C=C2)C(=O)NC)F)C3=C...       0         839                50                   0.8                  1                       0                       0                    5.6  464.093010                       4                    0                     0               9                    1                         1                   3  AAADceB7scBAAAAAAAAAAAAAAAAAAWAAAAAwYAAAAAAAAA...                   8                1              32  4-[3-[4-cyano-3-(trifluoromethyl)phenyl]-5,5-d...  InChI=1S/C21H16F4N4O2S/c1-20(2)18(31)28(12-5-4...  WXCXUHSOUPDCQV-UHFFFAOYSA-N  CC1(C(=O)N(C(=S)N1C2=CC(=C(C=C2)C(=O)NC)F)C3=C...                 0    C21H16F4N4O2S       464.435953        464.093010                   3  109.0                         0                         0     336.1    3.6   \n",
       "\n",
       "   XStericQuadrupole3D  YStericQuadrupole3D  ZStericQuadrupole3D                                               cids            targets targets_bioentities                                            enzymes                                enzymes_bioentities                    transporters transporters_bioentities     atcs  \n",
       "1                14.27                 5.17                 1.08                         25227436,42602260,57750340               None                None                                               None                                               None                            None                     None     None  \n",
       "2                16.28                 4.11                 1.07                                           24964624               None                None                                               None                                               None                            None                     None     None  \n",
       "5                28.97                 5.80                 1.37                                           56655374               None                None                                               None                                               None                            None                     None     None  \n",
       "7                17.12                 5.81                 1.31                                           56599293               None                None                                               None                                               None                            None                     None     None  \n",
       "8                19.13                 3.82                 0.90  15951529,71580408,71603303,71603305,71603307,7...  Androgen receptor           BE0000132  Cytochrome P450 2B6,Cytochrome P450 2C19,Cytoc...  BE0003549,BE0003536,BE0002887,BE0002793,BE0002...  Multidrug resistance protein 1                BE0001032  L02BB04  "
      ]
     },
     "metadata": {},
     "output_type": "display_data"
    },
    {
     "name": "stdout",
     "output_type": "stream",
     "text": [
      "(78, 57)\n"
     ]
    }
   ],
   "source": [
    "# Get full drug data for drugs which are missing targets\n",
    "df = drug_info_release_3[drug_info_release_3['CID'].notnull()].copy()\n",
    "df['CID'] = df['CID'].apply(lambda x: str(int(float(x))))\n",
    "display(df.head())\n",
    "print(df.shape)"
   ]
  },
  {
   "cell_type": "code",
   "execution_count": 102,
   "metadata": {
    "code_folding": [
     0
    ],
    "collapsed": false
   },
   "outputs": [],
   "source": [
    "# Get STITCH target data for drugs which are missing targets\n",
    "engine = sa.create_engine('{}/stitch_4_0'.format(os.environ['BIODB_CONNECTION_STR']))\n",
    "sql_query = \"\"\"\n",
    "select *\n",
    "from chemical_sources cs\n",
    "join protein_chemical_links pcl on (pcl.chemical = cs.flat_chemical)\n",
    "where protein like '9606.%%'\n",
    "and source_name = 'PC'\n",
    "and source_id in ('{}')\n",
    "\"\"\".format(\"', '\".join(str(int(f)) for f in df['CID']))\n",
    "df2 = pd.read_sql_query(sql_query, engine)"
   ]
  },
  {
   "cell_type": "code",
   "execution_count": 103,
   "metadata": {
    "collapsed": false
   },
   "outputs": [],
   "source": [
    "df2['taxid'], df2['protein_id'] = (\n",
    "    list(zip(*df2['protein'].apply(lambda x: x.split('.'))))\n",
    ")"
   ]
  },
  {
   "cell_type": "code",
   "execution_count": 104,
   "metadata": {
    "collapsed": false,
    "scrolled": false
   },
   "outputs": [
    {
     "data": {
      "text/html": [
       "<div>\n",
       "<table border=\"1\" class=\"dataframe\">\n",
       "  <thead>\n",
       "    <tr style=\"text-align: right;\">\n",
       "      <th></th>\n",
       "      <th>flat_chemical</th>\n",
       "      <th>stereo_chemical</th>\n",
       "      <th>source_name</th>\n",
       "      <th>source_id</th>\n",
       "      <th>chemical</th>\n",
       "      <th>protein</th>\n",
       "      <th>experimental</th>\n",
       "      <th>databaseID</th>\n",
       "      <th>textmining</th>\n",
       "      <th>combined_score</th>\n",
       "      <th>taxid</th>\n",
       "      <th>protein_id</th>\n",
       "    </tr>\n",
       "  </thead>\n",
       "  <tbody>\n",
       "    <tr>\n",
       "      <th>0</th>\n",
       "      <td>CID110127622</td>\n",
       "      <td>CID010127622</td>\n",
       "      <td>PC</td>\n",
       "      <td>10127622</td>\n",
       "      <td>CID110127622</td>\n",
       "      <td>9606.ENSP00000072869</td>\n",
       "      <td>0</td>\n",
       "      <td>0</td>\n",
       "      <td>0</td>\n",
       "      <td>152</td>\n",
       "      <td>9606</td>\n",
       "      <td>ENSP00000072869</td>\n",
       "    </tr>\n",
       "    <tr>\n",
       "      <th>1</th>\n",
       "      <td>CID110127622</td>\n",
       "      <td>CID010127622</td>\n",
       "      <td>PC</td>\n",
       "      <td>10127622</td>\n",
       "      <td>CID110127622</td>\n",
       "      <td>9606.ENSP00000078429</td>\n",
       "      <td>0</td>\n",
       "      <td>0</td>\n",
       "      <td>0</td>\n",
       "      <td>181</td>\n",
       "      <td>9606</td>\n",
       "      <td>ENSP00000078429</td>\n",
       "    </tr>\n",
       "    <tr>\n",
       "      <th>2</th>\n",
       "      <td>CID110127622</td>\n",
       "      <td>CID010127622</td>\n",
       "      <td>PC</td>\n",
       "      <td>10127622</td>\n",
       "      <td>CID110127622</td>\n",
       "      <td>9606.ENSP00000085219</td>\n",
       "      <td>0</td>\n",
       "      <td>0</td>\n",
       "      <td>0</td>\n",
       "      <td>162</td>\n",
       "      <td>9606</td>\n",
       "      <td>ENSP00000085219</td>\n",
       "    </tr>\n",
       "    <tr>\n",
       "      <th>3</th>\n",
       "      <td>CID110127622</td>\n",
       "      <td>CID010127622</td>\n",
       "      <td>PC</td>\n",
       "      <td>10127622</td>\n",
       "      <td>CID110127622</td>\n",
       "      <td>9606.ENSP00000215832</td>\n",
       "      <td>0</td>\n",
       "      <td>0</td>\n",
       "      <td>700</td>\n",
       "      <td>0</td>\n",
       "      <td>9606</td>\n",
       "      <td>ENSP00000215832</td>\n",
       "    </tr>\n",
       "    <tr>\n",
       "      <th>4</th>\n",
       "      <td>CID110127622</td>\n",
       "      <td>CID010127622</td>\n",
       "      <td>PC</td>\n",
       "      <td>10127622</td>\n",
       "      <td>CID110127622</td>\n",
       "      <td>9606.ENSP00000227507</td>\n",
       "      <td>0</td>\n",
       "      <td>0</td>\n",
       "      <td>0</td>\n",
       "      <td>275</td>\n",
       "      <td>9606</td>\n",
       "      <td>ENSP00000227507</td>\n",
       "    </tr>\n",
       "  </tbody>\n",
       "</table>\n",
       "</div>"
      ],
      "text/plain": [
       "  flat_chemical stereo_chemical source_name source_id      chemical               protein  experimental  databaseID  textmining  combined_score taxid       protein_id\n",
       "0  CID110127622    CID010127622          PC  10127622  CID110127622  9606.ENSP00000072869             0           0           0             152  9606  ENSP00000072869\n",
       "1  CID110127622    CID010127622          PC  10127622  CID110127622  9606.ENSP00000078429             0           0           0             181  9606  ENSP00000078429\n",
       "2  CID110127622    CID010127622          PC  10127622  CID110127622  9606.ENSP00000085219             0           0           0             162  9606  ENSP00000085219\n",
       "3  CID110127622    CID010127622          PC  10127622  CID110127622  9606.ENSP00000215832             0           0         700               0  9606  ENSP00000215832\n",
       "4  CID110127622    CID010127622          PC  10127622  CID110127622  9606.ENSP00000227507             0           0           0             275  9606  ENSP00000227507"
      ]
     },
     "metadata": {},
     "output_type": "display_data"
    },
    {
     "data": {
      "text/plain": [
       "flat_chemical      object\n",
       "stereo_chemical    object\n",
       "source_name        object\n",
       "source_id          object\n",
       "chemical           object\n",
       "protein            object\n",
       "experimental        int64\n",
       "databaseID          int64\n",
       "textmining          int64\n",
       "combined_score      int64\n",
       "taxid              object\n",
       "protein_id         object\n",
       "dtype: object"
      ]
     },
     "metadata": {},
     "output_type": "display_data"
    }
   ],
   "source": [
    "display(df2.head())\n",
    "display(df2.dtypes)"
   ]
  },
  {
   "cell_type": "code",
   "execution_count": null,
   "metadata": {
    "collapsed": true
   },
   "outputs": [],
   "source": []
  },
  {
   "cell_type": "code",
   "execution_count": 105,
   "metadata": {
    "collapsed": true
   },
   "outputs": [],
   "source": [
    "# Get HGNC IDs for targets that were mapped using STITCH\n",
    "engine = sa.create_engine('{}/ensembl_sequence_38'.format(os.environ['BIODB_CONNECTION_STR']))\n",
    "sql_query = \"\"\"\n",
    "select *\n",
    "from hgnc2ensembl\n",
    "where ensp in ('{}')\n",
    "\"\"\".format(\"', '\".join(df2['protein_id'].drop_duplicates()))\n",
    "targets_mapped_2 = pd.read_sql_query(sql_query, engine)"
   ]
  },
  {
   "cell_type": "code",
   "execution_count": 106,
   "metadata": {
    "collapsed": false
   },
   "outputs": [
    {
     "data": {
      "text/html": [
       "<div>\n",
       "<table border=\"1\" class=\"dataframe\">\n",
       "  <thead>\n",
       "    <tr style=\"text-align: right;\">\n",
       "      <th></th>\n",
       "      <th>hgnc_name</th>\n",
       "      <th>hgnc_acc</th>\n",
       "      <th>hgnc_description</th>\n",
       "      <th>ensg</th>\n",
       "      <th>enst</th>\n",
       "      <th>ensp</th>\n",
       "    </tr>\n",
       "  </thead>\n",
       "  <tbody>\n",
       "    <tr>\n",
       "      <th>0</th>\n",
       "      <td>M6PR</td>\n",
       "      <td>HGNC:6752</td>\n",
       "      <td>mannose-6-phosphate receptor (cation dependent)</td>\n",
       "      <td>ENSG00000003056</td>\n",
       "      <td>ENST00000000412</td>\n",
       "      <td>ENSP00000000412</td>\n",
       "    </tr>\n",
       "    <tr>\n",
       "      <th>1</th>\n",
       "      <td>ESRRA</td>\n",
       "      <td>HGNC:3471</td>\n",
       "      <td>estrogen-related receptor alpha</td>\n",
       "      <td>ENSG00000173153</td>\n",
       "      <td>ENST00000000442</td>\n",
       "      <td>ENSP00000000442</td>\n",
       "    </tr>\n",
       "    <tr>\n",
       "      <th>2</th>\n",
       "      <td>CFTR</td>\n",
       "      <td>HGNC:1884</td>\n",
       "      <td>cystic fibrosis transmembrane conductance regu...</td>\n",
       "      <td>ENSG00000001626</td>\n",
       "      <td>ENST00000003084</td>\n",
       "      <td>ENSP00000003084</td>\n",
       "    </tr>\n",
       "    <tr>\n",
       "      <th>3</th>\n",
       "      <td>RALA</td>\n",
       "      <td>HGNC:9839</td>\n",
       "      <td>v-ral simian leukemia viral oncogene homolog A...</td>\n",
       "      <td>ENSG00000006451</td>\n",
       "      <td>ENST00000005257</td>\n",
       "      <td>ENSP00000005257</td>\n",
       "    </tr>\n",
       "    <tr>\n",
       "      <th>4</th>\n",
       "      <td>RPAP3</td>\n",
       "      <td>HGNC:26151</td>\n",
       "      <td>RNA polymerase II associated protein 3</td>\n",
       "      <td>ENSG00000005175</td>\n",
       "      <td>ENST00000005386</td>\n",
       "      <td>ENSP00000005386</td>\n",
       "    </tr>\n",
       "  </tbody>\n",
       "</table>\n",
       "</div>"
      ],
      "text/plain": [
       "  hgnc_name    hgnc_acc                                   hgnc_description             ensg             enst             ensp\n",
       "0      M6PR   HGNC:6752    mannose-6-phosphate receptor (cation dependent)  ENSG00000003056  ENST00000000412  ENSP00000000412\n",
       "1     ESRRA   HGNC:3471                    estrogen-related receptor alpha  ENSG00000173153  ENST00000000442  ENSP00000000442\n",
       "2      CFTR   HGNC:1884  cystic fibrosis transmembrane conductance regu...  ENSG00000001626  ENST00000003084  ENSP00000003084\n",
       "3      RALA   HGNC:9839  v-ral simian leukemia viral oncogene homolog A...  ENSG00000006451  ENST00000005257  ENSP00000005257\n",
       "4     RPAP3  HGNC:26151             RNA polymerase II associated protein 3  ENSG00000005175  ENST00000005386  ENSP00000005386"
      ]
     },
     "execution_count": 106,
     "metadata": {},
     "output_type": "execute_result"
    }
   ],
   "source": [
    "targets_mapped_2.head()"
   ]
  },
  {
   "cell_type": "code",
   "execution_count": null,
   "metadata": {
    "collapsed": true
   },
   "outputs": [],
   "source": []
  },
  {
   "cell_type": "code",
   "execution_count": 107,
   "metadata": {
    "collapsed": true
   },
   "outputs": [],
   "source": [
    "# Create a drug -> target dataframe\n",
    "columns = [\n",
    "    'drug', 'target_original', 'target', \n",
    "    'hgnc_name', 'hgnc_acc', 'hgnc_description',\n",
    "    'ensg', 'enst', 'ensp',\n",
    "]\n",
    "column_renames = {\n",
    "    'ChallengeName': 'drug', \n",
    "    'Target(Official Symbol)': 'target_original', \n",
    "}\n",
    "drugs_to_targets_mapped_2 = (\n",
    "    df.rename(columns=column_renames)\n",
    "    .merge(df2, left_on=['CID'], right_on=['source_id'])\n",
    "    .merge(targets_mapped_2, left_on=['protein_id'], right_on=['ensp'])\n",
    ")\n",
    "drugs_to_targets_mapped_2['target'] = drugs_to_targets_mapped_2['target_original']\n",
    "drugs_to_targets_mapped_2 = drugs_to_targets_mapped_2[columns]"
   ]
  },
  {
   "cell_type": "code",
   "execution_count": 108,
   "metadata": {
    "collapsed": true
   },
   "outputs": [],
   "source": [
    "drugs_to_targets_mapped_2['ensp_idx'] = (\n",
    "    drugs_to_targets_mapped_2['ensp']\n",
    "    .apply(lambda x: int(x[4:]))\n",
    ")"
   ]
  },
  {
   "cell_type": "code",
   "execution_count": 109,
   "metadata": {
    "collapsed": false,
    "scrolled": false
   },
   "outputs": [
    {
     "data": {
      "text/html": [
       "<div>\n",
       "<table border=\"1\" class=\"dataframe\">\n",
       "  <thead>\n",
       "    <tr style=\"text-align: right;\">\n",
       "      <th></th>\n",
       "      <th>drug</th>\n",
       "      <th>target_original</th>\n",
       "      <th>target</th>\n",
       "      <th>hgnc_name</th>\n",
       "      <th>hgnc_acc</th>\n",
       "      <th>hgnc_description</th>\n",
       "      <th>ensg</th>\n",
       "      <th>enst</th>\n",
       "      <th>ensp</th>\n",
       "      <th>ensp_idx</th>\n",
       "    </tr>\n",
       "  </thead>\n",
       "  <tbody>\n",
       "    <tr>\n",
       "      <th>0</th>\n",
       "      <td>AKT</td>\n",
       "      <td>AKT1, AKT2, AKT3</td>\n",
       "      <td>AKT1, AKT2, AKT3</td>\n",
       "      <td>RTN1</td>\n",
       "      <td>HGNC:10467</td>\n",
       "      <td>reticulon 1</td>\n",
       "      <td>ENSG00000139970</td>\n",
       "      <td>ENST00000267484</td>\n",
       "      <td>ENSP00000267484</td>\n",
       "      <td>267484</td>\n",
       "    </tr>\n",
       "    <tr>\n",
       "      <th>1</th>\n",
       "      <td>AKT</td>\n",
       "      <td>AKT1, AKT2, AKT3</td>\n",
       "      <td>AKT1, AKT2, AKT3</td>\n",
       "      <td>RTN4</td>\n",
       "      <td>HGNC:14085</td>\n",
       "      <td>reticulon 4</td>\n",
       "      <td>ENSG00000115310</td>\n",
       "      <td>ENST00000337526</td>\n",
       "      <td>ENSP00000337838</td>\n",
       "      <td>337838</td>\n",
       "    </tr>\n",
       "    <tr>\n",
       "      <th>2</th>\n",
       "      <td>AKT</td>\n",
       "      <td>AKT1, AKT2, AKT3</td>\n",
       "      <td>AKT1, AKT2, AKT3</td>\n",
       "      <td>BEX1</td>\n",
       "      <td>HGNC:1036</td>\n",
       "      <td>brain expressed, X-linked 1</td>\n",
       "      <td>ENSG00000133169</td>\n",
       "      <td>ENST00000372728</td>\n",
       "      <td>ENSP00000361813</td>\n",
       "      <td>361813</td>\n",
       "    </tr>\n",
       "    <tr>\n",
       "      <th>3</th>\n",
       "      <td>Azacytidine</td>\n",
       "      <td>Methylation</td>\n",
       "      <td>Methylation</td>\n",
       "      <td>BEX1</td>\n",
       "      <td>HGNC:1036</td>\n",
       "      <td>brain expressed, X-linked 1</td>\n",
       "      <td>ENSG00000133169</td>\n",
       "      <td>ENST00000372728</td>\n",
       "      <td>ENSP00000361813</td>\n",
       "      <td>361813</td>\n",
       "    </tr>\n",
       "    <tr>\n",
       "      <th>4</th>\n",
       "      <td>ESR1_3</td>\n",
       "      <td>ESR1</td>\n",
       "      <td>ESR1</td>\n",
       "      <td>BEX1</td>\n",
       "      <td>HGNC:1036</td>\n",
       "      <td>brain expressed, X-linked 1</td>\n",
       "      <td>ENSG00000133169</td>\n",
       "      <td>ENST00000372728</td>\n",
       "      <td>ENSP00000361813</td>\n",
       "      <td>361813</td>\n",
       "    </tr>\n",
       "  </tbody>\n",
       "</table>\n",
       "</div>"
      ],
      "text/plain": [
       "          drug   target_original            target hgnc_name    hgnc_acc             hgnc_description             ensg             enst             ensp  ensp_idx\n",
       "0          AKT  AKT1, AKT2, AKT3  AKT1, AKT2, AKT3      RTN1  HGNC:10467                  reticulon 1  ENSG00000139970  ENST00000267484  ENSP00000267484    267484\n",
       "1          AKT  AKT1, AKT2, AKT3  AKT1, AKT2, AKT3      RTN4  HGNC:14085                  reticulon 4  ENSG00000115310  ENST00000337526  ENSP00000337838    337838\n",
       "2          AKT  AKT1, AKT2, AKT3  AKT1, AKT2, AKT3      BEX1   HGNC:1036  brain expressed, X-linked 1  ENSG00000133169  ENST00000372728  ENSP00000361813    361813\n",
       "3  Azacytidine       Methylation       Methylation      BEX1   HGNC:1036  brain expressed, X-linked 1  ENSG00000133169  ENST00000372728  ENSP00000361813    361813\n",
       "4       ESR1_3              ESR1              ESR1      BEX1   HGNC:1036  brain expressed, X-linked 1  ENSG00000133169  ENST00000372728  ENSP00000361813    361813"
      ]
     },
     "execution_count": 109,
     "metadata": {},
     "output_type": "execute_result"
    }
   ],
   "source": [
    "drugs_to_targets_mapped_2.head()"
   ]
  },
  {
   "cell_type": "code",
   "execution_count": 110,
   "metadata": {
    "collapsed": false
   },
   "outputs": [
    {
     "name": "stdout",
     "output_type": "stream",
     "text": [
      "Number of drug -> target tupels:                            8862\n",
      "Number of original drug -> target tuples:                   58\n",
      "Number of corrected drug -> target tuples:                  58\n",
      "Number of HGNC drug -> target tuples:                       8721\n",
      "Number of ENSG drug -> target tuples:                       8862\n",
      "Number of ENST drug -> target tuples:                       8862\n",
      "Number of ENSP drug -> target tuples:                       8862\n"
     ]
    }
   ],
   "source": [
    "print_stats(drugs_to_targets_mapped_2)"
   ]
  },
  {
   "cell_type": "code",
   "execution_count": null,
   "metadata": {
    "collapsed": true
   },
   "outputs": [],
   "source": []
  },
  {
   "cell_type": "markdown",
   "metadata": {},
   "source": [
    "## Save"
   ]
  },
  {
   "cell_type": "code",
   "execution_count": 111,
   "metadata": {
    "collapsed": false
   },
   "outputs": [],
   "source": [
    "save_to_db_1(drugs_to_targets_mapped_2, 'drug_to_target_stitch')\n",
    "save_to_db_2(drugs_to_targets_mapped_2[['drug', 'hgnc_name']].drop_duplicates(), 'drug_to_hgnc_target_stitch')"
   ]
  },
  {
   "cell_type": "code",
   "execution_count": null,
   "metadata": {
    "collapsed": true
   },
   "outputs": [],
   "source": []
  },
  {
   "cell_type": "markdown",
   "metadata": {},
   "source": [
    "# Drug pair to target pair (HGNC)"
   ]
  },
  {
   "cell_type": "code",
   "execution_count": null,
   "metadata": {
    "collapsed": true
   },
   "outputs": [],
   "source": [
    "engine = sa.create_engine('{}/ensembl_sequence_38'.format(os.environ['BIODB_CONNECTION_STR']))"
   ]
  },
  {
   "cell_type": "code",
   "execution_count": null,
   "metadata": {
    "collapsed": true
   },
   "outputs": [],
   "source": []
  },
  {
   "cell_type": "code",
   "execution_count": null,
   "metadata": {
    "collapsed": true
   },
   "outputs": [],
   "source": []
  },
  {
   "cell_type": "code",
   "execution_count": null,
   "metadata": {
    "collapsed": true
   },
   "outputs": [],
   "source": []
  },
  {
   "cell_type": "code",
   "execution_count": null,
   "metadata": {
    "collapsed": true
   },
   "outputs": [],
   "source": []
  },
  {
   "cell_type": "markdown",
   "metadata": {
    "collapsed": true
   },
   "source": [
    "# Finalize"
   ]
  },
  {
   "cell_type": "code",
   "execution_count": 112,
   "metadata": {
    "collapsed": true
   },
   "outputs": [],
   "source": [
    "os.makedirs(theNotebook, exist_ok=True)"
   ]
  },
  {
   "cell_type": "code",
   "execution_count": 113,
   "metadata": {
    "collapsed": true
   },
   "outputs": [],
   "source": [
    "with open(op.join(theNotebook, 'done.lock'), 'w'):\n",
    "    pass"
   ]
  },
  {
   "cell_type": "code",
   "execution_count": null,
   "metadata": {
    "collapsed": true
   },
   "outputs": [],
   "source": []
  }
 ],
 "metadata": {
  "kernelspec": {
   "display_name": "Python 3",
   "language": "python",
   "name": "python3"
  },
  "language_info": {
   "codemirror_mode": {
    "name": "ipython",
    "version": 3
   },
   "file_extension": ".py",
   "mimetype": "text/x-python",
   "name": "python",
   "nbconvert_exporter": "python",
   "pygments_lexer": "ipython3",
   "version": "3.5.1"
  }
 },
 "nbformat": 4,
 "nbformat_minor": 0
}
