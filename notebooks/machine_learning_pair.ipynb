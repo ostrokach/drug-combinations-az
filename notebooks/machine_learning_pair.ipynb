{
 "cells": [
  {
   "cell_type": "markdown",
   "metadata": {
    "code_folding": [
     0
    ],
    "collapsed": true,
    "run_control": {
     "marked": false
    }
   },
   "source": [
    "# Summary\n",
    "\n"
   ]
  },
  {
   "cell_type": "markdown",
   "metadata": {
    "run_control": {
     "marked": false
    }
   },
   "source": [
    "# Intro"
   ]
  },
  {
   "cell_type": "code",
   "execution_count": 1,
   "metadata": {
    "collapsed": false,
    "run_control": {
     "marked": false
    }
   },
   "outputs": [],
   "source": [
    "%load_ext autoreload\n",
    "%autoreload 2"
   ]
  },
  {
   "cell_type": "code",
   "execution_count": 2,
   "metadata": {
    "collapsed": false,
    "run_control": {
     "marked": false
    }
   },
   "outputs": [
    {
     "name": "stderr",
     "output_type": "stream",
     "text": [
      "/home/kimlab1/strokach/anaconda3/lib/python3.5/site-packages/matplotlib/__init__.py:872: UserWarning: axes.color_cycle is deprecated and replaced with axes.prop_cycle; please use the latter.\n",
      "  warnings.warn(self.msg_depr % (key, alt_key))\n"
     ]
    }
   ],
   "source": [
    "from biodata import *"
   ]
  },
  {
   "cell_type": "code",
   "execution_count": 3,
   "metadata": {
    "collapsed": true,
    "run_control": {
     "marked": false
    }
   },
   "outputs": [],
   "source": [
    "import functions as fn"
   ]
  },
  {
   "cell_type": "code",
   "execution_count": 4,
   "metadata": {
    "collapsed": true,
    "run_control": {
     "marked": false
    }
   },
   "outputs": [],
   "source": [
    "from common import dat"
   ]
  },
  {
   "cell_type": "code",
   "execution_count": 5,
   "metadata": {
    "collapsed": false,
    "run_control": {
     "marked": false
    }
   },
   "outputs": [],
   "source": [
    "%matplotlib inline"
   ]
  },
  {
   "cell_type": "code",
   "execution_count": null,
   "metadata": {
    "collapsed": true,
    "run_control": {
     "marked": false
    }
   },
   "outputs": [],
   "source": []
  },
  {
   "cell_type": "markdown",
   "metadata": {
    "run_control": {
     "marked": false
    }
   },
   "source": [
    "# Load data"
   ]
  },
  {
   "cell_type": "markdown",
   "metadata": {},
   "source": [
    "## Read HDF"
   ]
  },
  {
   "cell_type": "code",
   "execution_count": 11,
   "metadata": {
    "collapsed": true,
    "run_control": {
     "marked": false
    }
   },
   "outputs": [],
   "source": [
    "store = pd.HDFStore('machine_learning/ddc_data.h5', mode='r', complevel=9, complib='blosc')"
   ]
  },
  {
   "cell_type": "code",
   "execution_count": 17,
   "metadata": {
    "collapsed": false,
    "run_control": {
     "marked": false
    }
   },
   "outputs": [],
   "source": [
    "df_train = store['ddc_data'][store['ddc_data']['source'] == 'train'].copy()"
   ]
  },
  {
   "cell_type": "code",
   "execution_count": 18,
   "metadata": {
    "collapsed": false,
    "run_control": {
     "marked": false
    }
   },
   "outputs": [],
   "source": [
    "df_validate = store['ddc_data'][store['ddc_data']['source'] == 'ch1_validate'].copy()"
   ]
  },
  {
   "cell_type": "code",
   "execution_count": 19,
   "metadata": {
    "collapsed": true,
    "run_control": {
     "marked": false
    }
   },
   "outputs": [],
   "source": [
    "store.close()"
   ]
  },
  {
   "cell_type": "code",
   "execution_count": null,
   "metadata": {
    "collapsed": true,
    "run_control": {
     "marked": false
    }
   },
   "outputs": [],
   "source": []
  },
  {
   "cell_type": "markdown",
   "metadata": {
    "run_control": {
     "marked": false
    }
   },
   "source": [
    "## Make chunks"
   ]
  },
  {
   "cell_type": "code",
   "execution_count": 25,
   "metadata": {
    "collapsed": false,
    "run_control": {
     "marked": false
    }
   },
   "outputs": [
    {
     "name": "stdout",
     "output_type": "stream",
     "text": [
      "1495\n",
      "300\n",
      "1477\n",
      "300\n",
      "1495\n",
      "300\n",
      "1482\n",
      "300\n",
      "1495\n",
      "300\n",
      "1487\n",
      "300\n",
      "1495\n",
      "300\n",
      "1487\n",
      "300\n",
      "1495\n",
      "300\n",
      "1481\n",
      "300\n",
      "1500\n",
      "295\n",
      "1487\n",
      "295\n"
     ]
    }
   ],
   "source": [
    "chunk_size = 300\n",
    "chunks = []\n",
    "df_train = df_train.reindex(np.random.permutation(df_train.index))\n",
    "for i in range(0, df_train.shape[0], chunk_size):\n",
    "    train = pd.concat([df_train[0:i], df_train[i + chunk_size:]], ignore_index=True).copy()\n",
    "    test = df_train[i:i + chunk_size].copy()\n",
    "    print(len(train))\n",
    "    print(len(test))\n",
    "\n",
    "    # Make sure there is no same (d_1, d_2, c) in train and test\n",
    "    test['unique_id'] = test[['d_1', 'd_2', 'c']].apply('.'.join, axis=1)\n",
    "    train['unique_id'] = train[['d_1', 'd_2', 'c']].apply('.'.join, axis=1)\n",
    "    test_unique_id = set(test['unique_id'])\n",
    "    train = train[~train['unique_id'].isin(test_unique_id)]\n",
    "    train_unique_id = set(train['unique_id'])\n",
    "    print(len(train))\n",
    "    print(len(test))\n",
    "    assert not test_unique_id & train_unique_id, test_unique_id & train_unique_id\n",
    "\n",
    "    # Make sure there are some (d_1, d_2) in train and test\n",
    "    test_drug_pair = set(test[['d_1', 'd_2']].apply('.'.join, axis=1))\n",
    "    train_drug_pair = set(train[['d_1', 'd_2']].apply('.'.join, axis=1))\n",
    "    assert len(test_drug_pair & train_drug_pair) + 4 >= len(test_drug_pair), \\\n",
    "        (len(test_drug_pair & train_drug_pair), len(test_drug_pair))\n",
    "    \n",
    "    assert not train['synergy_score'].isnull().any()\n",
    "    assert not test['synergy_score'].isnull().any()\n",
    "    chunks.append((train, test))"
   ]
  },
  {
   "cell_type": "raw",
   "metadata": {
    "collapsed": true,
    "run_control": {
     "marked": false
    }
   },
   "source": [
    "with open('machine_learning/chunks.pickle', 'wb') as ofh:\n",
    "    pickle.dump(chunks, ofh, pickle.HIGHEST_PROTOCOL)"
   ]
  },
  {
   "cell_type": "code",
   "execution_count": null,
   "metadata": {
    "collapsed": true,
    "run_control": {
     "marked": false
    }
   },
   "outputs": [],
   "source": []
  },
  {
   "cell_type": "markdown",
   "metadata": {
    "run_control": {
     "marked": false
    }
   },
   "source": [
    "## Pair features"
   ]
  },
  {
   "cell_type": "code",
   "execution_count": 35,
   "metadata": {
    "collapsed": true,
    "run_control": {
     "marked": false
    }
   },
   "outputs": [],
   "source": [
    "GB_DDDD = [\n",
    "    # Can't use synergy scores from these columns!!!\n",
    "    # 'az_dream_2015.ALL_TRAINING_DATA_PAIR_GBDDDD',\n",
    "]\n",
    "\n",
    "GB_CC = [\n",
    "    # Can't use synergy scores from these columns!!!\n",
    "    # 'az_dream_2015.ALL_TRAINING_DATA_PAIR_GBCC',\n",
    "    'cell_info_gbcc',\n",
    "    'cnv_gbcc',\n",
    "    'gex_gbcc',\n",
    "    'methyl_gbcc',\n",
    "    'mutations_gbcc',\n",
    "    'achilles_rnai_gbcc',\n",
    "]"
   ]
  },
  {
   "cell_type": "code",
   "execution_count": 37,
   "metadata": {
    "collapsed": false,
    "run_control": {
     "marked": false
    }
   },
   "outputs": [],
   "source": [
    "GB_DDDD_DF = {}\n",
    "\n",
    "engine = sa.create_engine(os.environ[BIODB_CONNECTION_STR] + \"/az_dream_2015_features\")\n",
    "\n",
    "for key in GB_DDDD:\n",
    "    df = pd.read_sql_query(\"select * from {}\".format(key), engine)\n",
    "    GB_DDDD_DF[key] = df\n",
    "    \n",
    "GB_CC_DF = {}\n",
    "for key in GB_CC:\n",
    "    df = pd.read_sql_query(\"select * from {}\".format(key), engine)\n",
    "    GB_CC_DF[key] = df\n"
   ]
  },
  {
   "cell_type": "code",
   "execution_count": null,
   "metadata": {
    "collapsed": true,
    "run_control": {
     "marked": false
    }
   },
   "outputs": [],
   "source": []
  },
  {
   "cell_type": "markdown",
   "metadata": {},
   "source": [
    "## Pair data (opt)"
   ]
  },
  {
   "cell_type": "code",
   "execution_count": 26,
   "metadata": {
    "collapsed": false,
    "run_control": {
     "marked": false
    },
    "scrolled": true
   },
   "outputs": [
    {
     "name": "stdout",
     "output_type": "stream",
     "text": [
      "   index       d  count_gbd  synergy_score_gbd_min  synergy_score_gbd_max  synergy_score_gbd_mean  synergy_score_gbd_std\n",
      "0      1  ADAM17         69              -41.87792                80.9991                6.067302              18.924169\n",
      "1     37  ADAM17         69              -41.87792                80.9991                5.545329              19.436573\n",
      "2     44  ADAM17         69              -41.87792                80.9991                5.613013              19.426372\n",
      "3     78  ADAM17         69              -41.87792                80.9991                5.519848              19.436138\n",
      "4     81  ADAM17         69              -41.87792                80.9991                5.534359              19.436672\n",
      "Skipping column 'd_1' because it appears to be a string...\n",
      "1...\n",
      "2...\n",
      "3...\n",
      "4...\n",
      "5...\n",
      "6...\n",
      "7...\n",
      "Skipping column 'c_x' because it appears to be a string...\n",
      "Skipping column 'd_1_x' because it appears to be a string...\n",
      "Skipping column 'd_2_x' because it appears to be a string...\n",
      "Skipping column 'source_x' because it appears to be a string...\n",
      "Skipping column 'd_1_stitch_x' because it appears to be a string...\n",
      "Skipping column 'd_2_stitch_x' because it appears to be a string...\n",
      "Skipping column 'unique_id_x' because it appears to be a string...\n",
      "Skipping column 'unique_id_stitch_x' because it appears to be a string...\n",
      "Skipping column 'c_stitch_x' because it appears to be a string...\n"
     ]
    }
   ],
   "source": [
    "train_pair = fn.get_synergy_groups(train, pairwise=True)"
   ]
  },
  {
   "cell_type": "code",
   "execution_count": 29,
   "metadata": {
    "collapsed": false,
    "run_control": {
     "marked": false
    },
    "scrolled": true
   },
   "outputs": [
    {
     "name": "stdout",
     "output_type": "stream",
     "text": [
      "c_x\n",
      "d_1_x\n",
      "d_2_x\n",
      "source_x\n",
      "d_1_stitch_x\n",
      "d_2_stitch_x\n",
      "unique_id_x\n",
      "unique_id_stitch_x\n",
      "c_stitch_x\n",
      "tmp\n",
      "index_y\n",
      "c_y\n",
      "d_1_y\n",
      "d_2_y\n",
      "synergy_score_y\n",
      "qa_y\n",
      "source_y\n",
      "d_1_stitch_y\n",
      "d_2_stitch_y\n",
      "unique_id_y\n",
      "unique_id_stitch_y\n",
      "gi_neighbor_sharing_min_stitch_y\n",
      "c_stitch_y\n",
      "h_gbc_max_y\n",
      "f_mutation_very_bad_density_gbc_min_y\n",
      "f_mutation_very_bad_density_gbc_median_y\n",
      "f_mutation_mild_density_gbc_min_y\n",
      "f_mutation_mild_density_gbc_median_y\n",
      "f_maybe_somatic_density_gbc_min_y\n",
      "f_maybe_somatic_density_gbc_median_y\n",
      "f_homozygous_density_gbc_min_y\n",
      "f_homozygous_density_gbc_median_y\n",
      "f_mutation_maybe_bad_density_gbc_min_y\n",
      "f_snp_density_gbc_min_y\n",
      "f_snp_density_gbc_median_y\n",
      "h_gbd_max_mean_y\n",
      "h_gbd_max_diff_y\n",
      "einf_gbd_min_mean_y\n",
      "einf_gbd_min_diff_y\n",
      "index_diff\n",
      "synergy_score_diff\n",
      "qa_diff\n",
      "gi_neighbor_sharing_min_stitch_diff\n",
      "h_gbc_max_diff\n",
      "f_mutation_very_bad_density_gbc_min_diff\n",
      "f_mutation_very_bad_density_gbc_median_diff\n",
      "f_mutation_mild_density_gbc_min_diff\n",
      "f_mutation_mild_density_gbc_median_diff\n",
      "f_maybe_somatic_density_gbc_min_diff\n",
      "f_maybe_somatic_density_gbc_median_diff\n",
      "f_homozygous_density_gbc_min_diff\n",
      "f_homozygous_density_gbc_median_diff\n",
      "f_mutation_maybe_bad_density_gbc_min_diff\n",
      "f_snp_density_gbc_min_diff\n",
      "f_snp_density_gbc_median_diff\n",
      "h_gbd_max_mean_diff\n",
      "h_gbd_max_diff_diff\n",
      "einf_gbd_min_mean_diff\n",
      "einf_gbd_min_diff_diff\n"
     ]
    }
   ],
   "source": [
    "feature_columns = get_feature_columns(train_pair)"
   ]
  },
  {
   "cell_type": "code",
   "execution_count": 27,
   "metadata": {
    "collapsed": false,
    "run_control": {
     "marked": false
    },
    "scrolled": true
   },
   "outputs": [
    {
     "name": "stdout",
     "output_type": "stream",
     "text": [
      "`df_test` contains a 'synergy_score' column. This should not be done in production!\n",
      "         d  synergy_score_gbd_min  synergy_score_gbd_max  synergy_score_gbd_mean  synergy_score_gbd_std  count_gbd\n",
      "0   ADAM17              -41.87792               80.99910                5.537334              19.436688         70\n",
      "1      AKT              -49.69178              100.00000               13.390077              26.439020        179\n",
      "2    AKT_1              -38.83305              100.00000               16.644563              25.370433        124\n",
      "3  AKT_SGK              -38.33838               63.79015               11.501519              18.803210         36\n",
      "4      ALK              -36.25801               64.74079               16.527419              20.453413         36\n",
      "Skipping column 'd_1' because it appears to be a string...\n",
      "Skipping column 'd_1' because it appears to be a string...\n",
      "1...\n",
      "2...\n",
      "3...\n",
      "4...\n",
      "5...\n",
      "6...\n",
      "7...\n",
      "Skipping column 'c_x' because it appears to be a string...\n",
      "Skipping column 'd_1_x' because it appears to be a string...\n",
      "Skipping column 'd_2_x' because it appears to be a string...\n",
      "Skipping column 'source_x' because it appears to be a string...\n",
      "Skipping column 'd_1_stitch_x' because it appears to be a string...\n",
      "Skipping column 'd_2_stitch_x' because it appears to be a string...\n",
      "Skipping column 'unique_id_x' because it appears to be a string...\n",
      "Skipping column 'unique_id_stitch_x' because it appears to be a string...\n",
      "Skipping column 'c_stitch_x' because it appears to be a string...\n"
     ]
    }
   ],
   "source": [
    "test_pair = fn.get_synergy_groups(train, test, pairwise=True)"
   ]
  },
  {
   "cell_type": "code",
   "execution_count": null,
   "metadata": {
    "collapsed": true,
    "run_control": {
     "marked": false
    }
   },
   "outputs": [],
   "source": []
  },
  {
   "cell_type": "code",
   "execution_count": null,
   "metadata": {
    "collapsed": true,
    "run_control": {
     "marked": false
    }
   },
   "outputs": [],
   "source": []
  },
  {
   "cell_type": "markdown",
   "metadata": {
    "run_control": {
     "marked": false
    }
   },
   "source": [
    "# SGDRegressor\n",
    "\n",
    "- Check if keeping duplicates degrades performance..."
   ]
  },
  {
   "cell_type": "code",
   "execution_count": 26,
   "metadata": {
    "collapsed": false,
    "run_control": {
     "marked": false
    }
   },
   "outputs": [],
   "source": [
    "from sklearn.linear_model import SGDRegressor\n",
    "from sklearn.preprocessing import Imputer\n",
    "from sklearn.preprocessing import StandardScaler"
   ]
  },
  {
   "cell_type": "code",
   "execution_count": 27,
   "metadata": {
    "collapsed": false,
    "run_control": {
     "marked": false
    }
   },
   "outputs": [],
   "source": [
    "# Have to do some gridsearching to find the best hyperparameters...\n",
    "alpha = 10.0**-np.arange(1,7)\n",
    "n_iter = np.ceil(10**6 / df_train.shape[0]),"
   ]
  },
  {
   "cell_type": "code",
   "execution_count": 31,
   "metadata": {
    "collapsed": false,
    "run_control": {
     "marked": false
    }
   },
   "outputs": [
    {
     "name": "stdout",
     "output_type": "stream",
     "text": [
      "rm: cannot remove ‘machine_learning/pair_xval_1.h5’: No such file or directory\r\n"
     ]
    }
   ],
   "source": [
    "!rm machine_learning/pair_xval_1.h5"
   ]
  },
  {
   "cell_type": "code",
   "execution_count": null,
   "metadata": {
    "collapsed": true,
    "run_control": {
     "marked": false
    }
   },
   "outputs": [],
   "source": [
    "features_to_exclude = [\n",
    "    'synergy_score', 'synergy_score_y', 'synergy_score_diff',\n",
    "    'qa', 'qa_x', 'qa_y', \n",
    "    'cid_diff_diff', 'cid_diff_y', 'cid_mean_diff', 'cid_mean_y',\n",
    "    'index', 'index_x', 'index_y', 'index_diff',\n",
    "    'unique_id_x', 'unique_id_y',\n",
    "]\n",
    "\n",
    "def get_feature_columns(df):\n",
    "    feature_columns = [\n",
    "        c for c in df.columns \n",
    "        if (df[c].dtype in (int, float) and \n",
    "            c not in features_to_exclude and\n",
    "            df[c].nunique() > 1)\n",
    "            or print(c)\n",
    "    ]\n",
    "    return feature_columns\n",
    "\n",
    "\n",
    "def add_identity_features(df):\n",
    "    \"\"\"Same cell, same drug, same drug pair, etc...\n",
    "    \"\"\"\n",
    "    df['same_cell'] = (\n",
    "        (df['c_x'] == df['c_y'])\n",
    "    ).astype(int)\n",
    "\n",
    "    df['same_drug_pair'] = (\n",
    "        (df['d_1_x'] == df['d_1_y']) & \n",
    "        (df['d_2_x'] == df['d_2_y'])\n",
    "    ).astype(int)\n",
    "\n",
    "    xy_df['same_drug'] = (\n",
    "        ~(df['same_drug_pair']) & \n",
    "        ((df['d_1_x'] == df['d_1_y']) | (df['d_1_x'] == df['d_2_y']) | \n",
    "         (df['d_2_x'] == df['d_1_y']) | (df['d_2_x'] == df['d_2_y']))\n",
    "    ).astype(int)\n",
    "\n",
    "\n",
    "def add_dddd_features(df):\n",
    "    \"\"\"Ass drug pair - drug pair feautres to a pair DataFrame df\n",
    "    \"\"\"\n",
    "    pass\n",
    "\n",
    "\n",
    "def add_cc_features(df):\n",
    "    \"\"\"Ass cell line - cell line feautres to a pair DataFrame df\n",
    "    \"\"\"\n",
    "    pass\n",
    "\n",
    "\n",
    "def add_dc_features(df):\n",
    "    \"\"\"Ass cell line - cell line feautres to a pair DataFrame df\n",
    "    \"\"\"\n",
    "    pass"
   ]
  },
  {
   "cell_type": "code",
   "execution_count": 40,
   "metadata": {
    "collapsed": false
   },
   "outputs": [
    {
     "name": "stdout",
     "output_type": "stream",
     "text": [
      "\n",
      "Working on chunk 0...\n",
      "train: (1477, 834)\n",
      "test: (295, 834)\n",
      "Calculating 'train_pair'...\n",
      "   index       d  count_gbd  synergy_score_gbd_mean\n",
      "0     16  ADAM17         68                4.214812\n",
      "1     34  ADAM17         68                4.025141\n",
      "2     51  ADAM17         68                4.152422\n",
      "3    106  ADAM17         68                4.147405\n",
      "4    149  ADAM17         68                4.146106\n",
      "Skipping column 'd_1' because it appears to be a string...\n",
      "1...\n",
      "2...\n",
      "3...\n",
      "4...\n",
      "5...\n",
      "6...\n",
      "7...\n",
      "Skipping column 'c_x' because it appears to be a string...\n",
      "Skipping column 'd_1_x' because it appears to be a string...\n",
      "Skipping column 'd_2_x' because it appears to be a string...\n",
      "Skipping column 'source_x' because it appears to be a string...\n",
      "Skipping column 'd_1_stitch_x' because it appears to be a string...\n",
      "Skipping column 'd_2_stitch_x' because it appears to be a string...\n",
      "Skipping column 'unique_id_x' because it appears to be a string...\n",
      "Skipping column 'unique_id_stitch_x' because it appears to be a string...\n",
      "Skipping column 'c_stitch_x' because it appears to be a string...\n",
      "Merging 'az_dream_2015.ALL_TRAINING_DATA_PAIR_GBDDDD'...\n",
      "Merging 'az_dream_2015.ALL_TRAINING_DATA_PAIR_GBCC'...\n",
      "Merging 'cell_info_gbcc'...\n",
      "Merging 'gex_gbcc'...\n",
      "Merging 'mutations_gbcc'...\n",
      "Merging 'cnv_gbcc'...\n",
      "Merging 'achilles_rnai_gbcc'...\n",
      "Merging 'methyl_gbcc'...\n",
      "scaling...\n",
      "c_x\n",
      "d_1_x\n",
      "d_2_x\n",
      "source_x\n",
      "d_1_stitch_x\n",
      "d_2_stitch_x\n",
      "unique_id_x\n",
      "unique_id_stitch_x\n",
      "c_stitch_x\n",
      "tmp\n",
      "index_y\n",
      "c_y\n",
      "d_1_y\n",
      "d_2_y\n",
      "synergy_score_y\n",
      "qa_y\n",
      "source_y\n",
      "d_1_stitch_y\n",
      "d_2_stitch_y\n",
      "unique_id_y\n",
      "unique_id_stitch_y\n",
      "gi_neighbor_sharing_min_stitch_y\n",
      "c_stitch_y\n",
      "h_gbc_max_y\n",
      "f_mutation_very_bad_density_gbc_min_y\n",
      "f_mutation_very_bad_density_gbc_median_y\n",
      "f_mutation_mild_density_gbc_min_y\n",
      "f_mutation_mild_density_gbc_median_y\n",
      "f_maybe_somatic_density_gbc_min_y\n",
      "f_maybe_somatic_density_gbc_median_y\n",
      "f_homozygous_density_gbc_min_y\n",
      "f_homozygous_density_gbc_median_y\n",
      "f_mutation_maybe_bad_density_gbc_min_y\n",
      "f_snp_density_gbc_min_y\n",
      "f_snp_density_gbc_median_y\n",
      "h_gbd_max_mean_y\n",
      "h_gbd_max_diff_y\n",
      "einf_gbd_min_mean_y\n",
      "einf_gbd_min_diff_y\n",
      "index_diff\n",
      "synergy_score_diff\n",
      "qa_diff\n",
      "gi_neighbor_sharing_min_stitch_diff\n",
      "h_gbc_max_diff\n",
      "f_mutation_very_bad_density_gbc_min_diff\n",
      "f_mutation_very_bad_density_gbc_median_diff\n",
      "f_mutation_mild_density_gbc_min_diff\n",
      "f_mutation_mild_density_gbc_median_diff\n",
      "f_maybe_somatic_density_gbc_min_diff\n",
      "f_maybe_somatic_density_gbc_median_diff\n",
      "f_homozygous_density_gbc_min_diff\n",
      "f_homozygous_density_gbc_median_diff\n",
      "f_mutation_maybe_bad_density_gbc_min_diff\n",
      "f_snp_density_gbc_min_diff\n",
      "f_snp_density_gbc_median_diff\n",
      "h_gbd_max_mean_diff\n",
      "h_gbd_max_diff_diff\n",
      "einf_gbd_min_mean_diff\n",
      "einf_gbd_min_diff_diff\n",
      "achilles_rnai_sqeuclidean\n",
      "achilles_rnai_sscgs_chebyshev\n",
      "achilles_rnai_gs_seuclidean\n",
      "achilles_rnai_gs_sscgs_seuclidean\n",
      "Calculating 'test_pair'...\n",
      "         d  synergy_score_gbd_mean  count_gbd\n",
      "0   ADAM17                4.140581         69\n",
      "1      AKT               11.688283        179\n",
      "2    AKT_1               14.610348        117\n",
      "3  AKT_SGK               11.255740         39\n",
      "4      ALK               18.065290         25\n",
      "Skipping column 'd_1' because it appears to be a string...\n",
      "Skipping column 'd_1' because it appears to be a string...\n",
      "1...\n",
      "2...\n",
      "3...\n",
      "4...\n",
      "5...\n",
      "6...\n",
      "7...\n",
      "Skipping column 'c_x' because it appears to be a string...\n",
      "Skipping column 'd_1_x' because it appears to be a string...\n",
      "Skipping column 'd_2_x' because it appears to be a string...\n",
      "Skipping column 'source_x' because it appears to be a string...\n",
      "Skipping column 'd_1_stitch_x' because it appears to be a string...\n",
      "Skipping column 'd_2_stitch_x' because it appears to be a string...\n",
      "Skipping column 'unique_id_x' because it appears to be a string...\n",
      "Skipping column 'unique_id_stitch_x' because it appears to be a string...\n",
      "Skipping column 'c_stitch_x' because it appears to be a string...\n",
      "Merging 'az_dream_2015.ALL_TRAINING_DATA_PAIR_GBDDDD'...\n",
      "Merging 'az_dream_2015.ALL_TRAINING_DATA_PAIR_GBCC'...\n",
      "Merging 'cell_info_gbcc'...\n",
      "Merging 'gex_gbcc'...\n",
      "Merging 'mutations_gbcc'...\n",
      "Merging 'cnv_gbcc'...\n",
      "Merging 'achilles_rnai_gbcc'...\n",
      "Merging 'methyl_gbcc'...\n",
      "scaling...\n"
     ]
    },
    {
     "name": "stderr",
     "output_type": "stream",
     "text": [
      "/home/kimlab1/strokach/anaconda3/lib/python3.5/site-packages/IPython/core/interactiveshell.py:2885: PerformanceWarning: \n",
      "your performance may suffer as PyTables will pickle object types that it cannot\n",
      "map directly to c-types [inferred_type->mixed,key->block2_values] [items->['c_x', 'd_1_x', 'd_2_x', 'source_x', 'd_1_stitch_x', 'd_2_stitch_x', 'unique_id_x', 'unique_id_stitch_x', 'c_stitch_x', 'c_y', 'd_1_y', 'd_2_y', 'source_y', 'd_1_stitch_y', 'd_2_stitch_y', 'unique_id_y', 'unique_id_stitch_y', 'c_stitch_y', 'achilles_rnai_sqeuclidean', 'achilles_rnai_sscgs_chebyshev', 'achilles_rnai_gs_seuclidean', 'achilles_rnai_gs_sscgs_seuclidean']]\n",
      "\n",
      "  exec(code_obj, self.user_global_ns, self.user_ns)\n"
     ]
    }
   ],
   "source": [
    "imputer = Imputer()\n",
    "scaler = StandardScaler()\n",
    "\n",
    "xval_results = []\n",
    "xval_results_xval = []\n",
    "\n",
    "cache = pd.HDFStore('machine_learning/pair_xval_1.h5', mode='w', complevel=9, complib='blosc')\n",
    "\n",
    "for chunk_i, (train, test_wsyn) in enumerate(chunks):\n",
    "    print(\"\\nWorking on chunk {}...\".format(chunk_i))\n",
    "    print(\"train: {}\".format(train.shape))\n",
    "    print(\"test: {}\".format(test.shape))\n",
    "    sys.stdout.flush()\n",
    "\n",
    "    # ========== TRAIN ==========\n",
    "    train_pair_name = 'train_pair_{}'.format(chunk_i)\n",
    "    if train_pair_name not in cache:\n",
    "        print(\"Calculating 'train_pair'...\"); sys.stdout.flush()\n",
    "        train_pair = fn.get_synergy_groups(train, pairwise=True)\n",
    "        \n",
    "        for name, df in GB_DDDD_DF.items():\n",
    "            print(\"Merging '{}'...\".format(name))\n",
    "            train_pair = train_pair.merge(df, on=['d_1_x', 'd_2_x', 'd_1_y', 'd_2_y'], how='left')\n",
    "        for name, df in GB_CC_DF.items():\n",
    "            print(\"Merging '{}'...\".format(name))\n",
    "            train_pair = train_pair.merge(df, on=['c_x', 'c_y'], how='left')\n",
    "\n",
    "        train_pair['unique_id_x'] = (train_pair['d_1_x'] + '.' + train_pair['d_2_x'] + '.' + train_pair['c_x'])\n",
    "        train_pair['unique_id_y'] = (train_pair['d_1_y'] + '.' + train_pair['d_2_y'] + '.' + train_pair['c_y'])\n",
    "        train_pair = train_pair[train_pair['unique_id_x'] != train_pair['unique_id_y']]\n",
    "        \n",
    "        feature_columns = get_feature_columns(train_pair)\n",
    "        \n",
    "        # Save for future\n",
    "        cache[train_pair_name] = train_pair\n",
    "        cache['feature_columns'] = feature_columns\n",
    "\n",
    "    else:\n",
    "        print(\"Loading train data from cache...\"); sys.stdout.flush()\n",
    "        train_pair = cache[train_pair_name]\n",
    "        feature_columns = cache['feature_columns']\n",
    "\n",
    "        \n",
    "    # ========== TEST ==========\n",
    "    test_pair_name = 'test_pair_{}'.format(chunk_i)\n",
    "    if test_pair_name not in cache:\n",
    "        print(\"Calculating 'test_pair'...\"); sys.stdout.flush()\n",
    "        test = test_wsyn.drop('synergy_score', axis=1)\n",
    "        test_pair = fn.get_synergy_groups(train, test, pairwise=True)\n",
    "        \n",
    "        for name, df in GB_DDDD_DF.items():\n",
    "            print(\"Merging '{}'...\".format(name))\n",
    "            test_pair = test_pair.merge(df, on=['d_1_x', 'd_2_x', 'd_1_y', 'd_2_y'], how='left')\n",
    "        for name, df in GB_CC_DF.items():\n",
    "            print(\"Merging '{}'...\".format(name))\n",
    "            test_pair = test_pair.merge(df, on=['c_x', 'c_y'], how='left')\n",
    "            \n",
    "        test_pair['unique_id_x'] = test_pair[['d_1_x', 'd_2_x', 'c_x']].apply('.'.join, axis=1)\n",
    "        test_pair['unique_id_y'] = test_pair[['d_1_y', 'd_2_y', 'c_y']].apply('.'.join, axis=1)\n",
    "\n",
    "        cache[test_pair_name] = test_pair\n",
    "    else:\n",
    "        print(\"Loading test data from cache...\"); sys.stdout.flush()\n",
    "        test_pair = cache[test_pair_name]\n",
    "\n",
    "        \n",
    "    # ========== Normalize input ==========\n",
    "    print(\"scaling...\"); sys.stdout.flush()\n",
    "\n",
    "    X = train_pair[feature_columns].fillna(0).values\n",
    "    X_test = test_pair[feature_columns].values\n",
    "\n",
    "    scaler.fit(np.vstack([X, X_test]))\n",
    "\n",
    "    X = scaler.transform(X)\n",
    "    X_test = scaler.transform(X_test)\n",
    "\n",
    "    Y = train_pair['synergy_score_y'].values\n",
    "\n",
    "    break"
   ]
  },
  {
   "cell_type": "code",
   "execution_count": 43,
   "metadata": {
    "collapsed": false,
    "run_control": {
     "marked": false
    }
   },
   "outputs": [],
   "source": [
    "cache.close()"
   ]
  },
  {
   "cell_type": "code",
   "execution_count": 73,
   "metadata": {
    "collapsed": true,
    "run_control": {
     "marked": false
    }
   },
   "outputs": [],
   "source": [
    "    # ========== PROCESS ==========\n",
    "    # Save predictions\n",
    "    test_pair_wsyn = (\n",
    "        test_pair.drop('synergy_score_y', axis=1)\n",
    "        .merge(\n",
    "            test_wsyn[['d_1', 'd_2', 'c', 'synergy_score']]\n",
    "            .drop_duplicates(subset=['d_1', 'd_2', 'c'])  # TODO: merge on index instead of this hack...\n",
    "            .rename(columns={'d_1': 'd_1_y', 'd_2': 'd_2_y', 'c': 'c_y', 'synergy_score': 'synergy_score_y'}),\n",
    "            on=['d_1_y', 'd_2_y', 'c_y'],\n",
    "            how='left')\n",
    "    )"
   ]
  },
  {
   "cell_type": "code",
   "execution_count": 144,
   "metadata": {
    "collapsed": false,
    "run_control": {
     "marked": false
    }
   },
   "outputs": [
    {
     "name": "stdout",
     "output_type": "stream",
     "text": [
      "fitting...\n"
     ]
    },
    {
     "ename": "KeyboardInterrupt",
     "evalue": "",
     "output_type": "error",
     "traceback": [
      "\u001b[1;31m---------------------------------------------------------------------------\u001b[0m",
      "\u001b[1;31mKeyboardInterrupt\u001b[0m                         Traceback (most recent call last)",
      "\u001b[1;32m<ipython-input-144-c080863ecf0f>\u001b[0m in \u001b[0;36m<module>\u001b[1;34m()\u001b[0m\n\u001b[0;32m      7\u001b[0m \u001b[1;31m#sample_weight[Y < 0.2] = 0.5  # TODO: tune this parameter\u001b[0m\u001b[1;33m\u001b[0m\u001b[1;33m\u001b[0m\u001b[0m\n\u001b[0;32m      8\u001b[0m \u001b[1;31m#clf.fit(X, Y, sample_weight=sample_weight)\u001b[0m\u001b[1;33m\u001b[0m\u001b[1;33m\u001b[0m\u001b[0m\n\u001b[1;32m----> 9\u001b[1;33m \u001b[0mclf\u001b[0m\u001b[1;33m.\u001b[0m\u001b[0mfit\u001b[0m\u001b[1;33m(\u001b[0m\u001b[0mX\u001b[0m\u001b[1;33m,\u001b[0m \u001b[0mY\u001b[0m\u001b[1;33m)\u001b[0m\u001b[1;33m\u001b[0m\u001b[0m\n\u001b[0m\u001b[0;32m     10\u001b[0m \u001b[1;33m\u001b[0m\u001b[0m\n\u001b[0;32m     11\u001b[0m \u001b[1;31m# Predict\u001b[0m\u001b[1;33m\u001b[0m\u001b[1;33m\u001b[0m\u001b[0m\n",
      "\u001b[1;32m/home/kimlab1/strokach/anaconda3/lib/python3.5/site-packages/sklearn/linear_model/stochastic_gradient.py\u001b[0m in \u001b[0;36mfit\u001b[1;34m(self, X, y, coef_init, intercept_init, sample_weight)\u001b[0m\n\u001b[0;32m    965\u001b[0m                          \u001b[0mcoef_init\u001b[0m\u001b[1;33m=\u001b[0m\u001b[0mcoef_init\u001b[0m\u001b[1;33m,\u001b[0m\u001b[1;33m\u001b[0m\u001b[0m\n\u001b[0;32m    966\u001b[0m                          \u001b[0mintercept_init\u001b[0m\u001b[1;33m=\u001b[0m\u001b[0mintercept_init\u001b[0m\u001b[1;33m,\u001b[0m\u001b[1;33m\u001b[0m\u001b[0m\n\u001b[1;32m--> 967\u001b[1;33m                          sample_weight=sample_weight)\n\u001b[0m\u001b[0;32m    968\u001b[0m \u001b[1;33m\u001b[0m\u001b[0m\n\u001b[0;32m    969\u001b[0m     \u001b[1;33m@\u001b[0m\u001b[0mdeprecated\u001b[0m\u001b[1;33m(\u001b[0m\u001b[1;34m\" and will be removed in 0.19.\"\u001b[0m\u001b[1;33m)\u001b[0m\u001b[1;33m\u001b[0m\u001b[0m\n",
      "\u001b[1;32m/home/kimlab1/strokach/anaconda3/lib/python3.5/site-packages/sklearn/linear_model/stochastic_gradient.py\u001b[0m in \u001b[0;36m_fit\u001b[1;34m(self, X, y, alpha, C, loss, learning_rate, coef_init, intercept_init, sample_weight)\u001b[0m\n\u001b[0;32m    934\u001b[0m         return self._partial_fit(X, y, alpha, C, loss, learning_rate,\n\u001b[0;32m    935\u001b[0m                                  \u001b[0mself\u001b[0m\u001b[1;33m.\u001b[0m\u001b[0mn_iter\u001b[0m\u001b[1;33m,\u001b[0m \u001b[0msample_weight\u001b[0m\u001b[1;33m,\u001b[0m\u001b[1;33m\u001b[0m\u001b[0m\n\u001b[1;32m--> 936\u001b[1;33m                                  coef_init, intercept_init)\n\u001b[0m\u001b[0;32m    937\u001b[0m \u001b[1;33m\u001b[0m\u001b[0m\n\u001b[0;32m    938\u001b[0m     def fit(self, X, y, coef_init=None, intercept_init=None,\n",
      "\u001b[1;32m/home/kimlab1/strokach/anaconda3/lib/python3.5/site-packages/sklearn/linear_model/stochastic_gradient.py\u001b[0m in \u001b[0;36m_partial_fit\u001b[1;34m(self, X, y, alpha, C, loss, learning_rate, n_iter, sample_weight, coef_init, intercept_init)\u001b[0m\n\u001b[0;32m    883\u001b[0m \u001b[1;33m\u001b[0m\u001b[0m\n\u001b[0;32m    884\u001b[0m         self._fit_regressor(X, y, alpha, C, loss, learning_rate,\n\u001b[1;32m--> 885\u001b[1;33m                             sample_weight, n_iter)\n\u001b[0m\u001b[0;32m    886\u001b[0m \u001b[1;33m\u001b[0m\u001b[0m\n\u001b[0;32m    887\u001b[0m         \u001b[1;32mreturn\u001b[0m \u001b[0mself\u001b[0m\u001b[1;33m\u001b[0m\u001b[0m\n",
      "\u001b[1;32m/home/kimlab1/strokach/anaconda3/lib/python3.5/site-packages/sklearn/linear_model/stochastic_gradient.py\u001b[0m in \u001b[0;36m_fit_regressor\u001b[1;34m(self, X, y, alpha, C, loss, learning_rate, sample_weight, n_iter)\u001b[0m\n\u001b[0;32m   1082\u001b[0m                           \u001b[0mlearning_rate_type\u001b[0m\u001b[1;33m,\u001b[0m\u001b[1;33m\u001b[0m\u001b[0m\n\u001b[0;32m   1083\u001b[0m                           \u001b[0mself\u001b[0m\u001b[1;33m.\u001b[0m\u001b[0meta0\u001b[0m\u001b[1;33m,\u001b[0m \u001b[0mself\u001b[0m\u001b[1;33m.\u001b[0m\u001b[0mpower_t\u001b[0m\u001b[1;33m,\u001b[0m \u001b[0mself\u001b[0m\u001b[1;33m.\u001b[0m\u001b[0mt_\u001b[0m\u001b[1;33m,\u001b[0m\u001b[1;33m\u001b[0m\u001b[0m\n\u001b[1;32m-> 1084\u001b[1;33m                           intercept_decay)\n\u001b[0m\u001b[0;32m   1085\u001b[0m \u001b[1;33m\u001b[0m\u001b[0m\n\u001b[0;32m   1086\u001b[0m             \u001b[0mself\u001b[0m\u001b[1;33m.\u001b[0m\u001b[0mt_\u001b[0m \u001b[1;33m+=\u001b[0m \u001b[0mn_iter\u001b[0m \u001b[1;33m*\u001b[0m \u001b[0mX\u001b[0m\u001b[1;33m.\u001b[0m\u001b[0mshape\u001b[0m\u001b[1;33m[\u001b[0m\u001b[1;36m0\u001b[0m\u001b[1;33m]\u001b[0m\u001b[1;33m\u001b[0m\u001b[0m\n",
      "\u001b[1;31mKeyboardInterrupt\u001b[0m: "
     ]
    }
   ],
   "source": [
    "    assert X_test.shape[0] == train.shape[0] * test.shape[0]\n",
    "    \n",
    "    clf = SGDRegressor(n_iter=50)\n",
    "    \n",
    "    print(\"fitting...\"); sys.stdout.flush()\n",
    "    #sample_weight = np.ones(Y.shape)\n",
    "    #sample_weight[Y < 0.2] = 0.5  # TODO: tune this parameter\n",
    "    #clf.fit(X, Y, sample_weight=sample_weight)\n",
    "    clf.fit(X, Y)\n",
    "    \n",
    "    # Predict\n",
    "    Y_test = clf.predict(X_test)\n",
    "    test_pair['synergy_score_y_pred'] = Y_test"
   ]
  },
  {
   "cell_type": "code",
   "execution_count": null,
   "metadata": {
    "collapsed": true,
    "run_control": {
     "marked": false
    }
   },
   "outputs": [],
   "source": []
  },
  {
   "cell_type": "code",
   "execution_count": null,
   "metadata": {
    "collapsed": true,
    "run_control": {
     "marked": false
    }
   },
   "outputs": [],
   "source": []
  },
  {
   "cell_type": "markdown",
   "metadata": {
    "run_control": {
     "marked": false
    }
   },
   "source": [
    "## Tensorflow"
   ]
  },
  {
   "cell_type": "code",
   "execution_count": 11,
   "metadata": {
    "collapsed": true,
    "run_control": {
     "marked": false
    }
   },
   "outputs": [],
   "source": [
    "import tensorflow as tf"
   ]
  },
  {
   "cell_type": "code",
   "execution_count": 10,
   "metadata": {
    "collapsed": false,
    "run_control": {
     "marked": false
    }
   },
   "outputs": [
    {
     "ename": "NameError",
     "evalue": "name 'tf' is not defined",
     "output_type": "error",
     "traceback": [
      "\u001b[1;31m---------------------------------------------------------------------------\u001b[0m",
      "\u001b[1;31mNameError\u001b[0m                                 Traceback (most recent call last)",
      "\u001b[1;32m<ipython-input-10-088de60d7408>\u001b[0m in \u001b[0;36m<module>\u001b[1;34m()\u001b[0m\n\u001b[0;32m      5\u001b[0m \u001b[0mnum_labels\u001b[0m \u001b[1;33m=\u001b[0m \u001b[1;36m1\u001b[0m\u001b[1;33m\u001b[0m\u001b[0m\n\u001b[0;32m      6\u001b[0m \u001b[1;33m\u001b[0m\u001b[0m\n\u001b[1;32m----> 7\u001b[1;33m \u001b[0mgraph\u001b[0m \u001b[1;33m=\u001b[0m \u001b[0mtf\u001b[0m\u001b[1;33m.\u001b[0m\u001b[0mGraph\u001b[0m\u001b[1;33m(\u001b[0m\u001b[1;33m)\u001b[0m\u001b[1;33m\u001b[0m\u001b[0m\n\u001b[0m\u001b[0;32m      8\u001b[0m \u001b[1;32mwith\u001b[0m \u001b[0mgraph\u001b[0m\u001b[1;33m.\u001b[0m\u001b[0mas_default\u001b[0m\u001b[1;33m(\u001b[0m\u001b[1;33m)\u001b[0m\u001b[1;33m:\u001b[0m\u001b[1;33m\u001b[0m\u001b[0m\n\u001b[0;32m      9\u001b[0m \u001b[1;33m\u001b[0m\u001b[0m\n",
      "\u001b[1;31mNameError\u001b[0m: name 'tf' is not defined"
     ]
    }
   ],
   "source": [
    "# Linear regression\n",
    "\n",
    "batch_size = 128\n",
    "layer_1_size = 32\n",
    "num_labels = 1\n",
    "\n",
    "graph = tf.Graph()\n",
    "with graph.as_default():\n",
    "\n",
    "    # Input data. For the training data, we use a placeholder that will be fed\n",
    "    # at run time with a training minibatch.\n",
    "    tf_train_dataset = tf.placeholder(tf.float32, shape=(None, len(feature_columns)))\n",
    "    tf_train_labels = tf.placeholder(tf.float32, shape=(None, num_labels))\n",
    "    tf_valid_dataset = tf.placeholder(tf.float32, shape=(None, len(feature_columns)))\n",
    "    # tf_test_dataset = tf.placeholder(tf.float32, shape=(test_df.shape[0], len(feature_columns)))\n",
    "\n",
    "    # Variables.\n",
    "    layer1_weights = tf.Variable(tf.truncated_normal([len(feature_columns), num_labels], stddev=0.1))\n",
    "    layer1_biases = tf.Variable(tf.zeros([num_labels]))\n",
    "    #layer2_weights = tf.Variable(tf.truncated_normal([layer_1_size, num_labels], stddev=0.1))\n",
    "    #layer2_biases = tf.Variable(tf.zeros([num_labels]))\n",
    "    #layer3_weights = tf.Variable(tf.truncated_normal([256, num_labels]))\n",
    "    #layer3_biases = tf.Variable(tf.zeros([num_labels]))\n",
    "  \n",
    "    def model(data, train=False):\n",
    "        hidden = tf.matmul(data, layer1_weights) + layer1_biases\n",
    "        #hidden = tf.nn.relu(hidden)\n",
    "        #if train:\n",
    "        #    hidden = tf.nn.dropout(hidden, 0.5)\n",
    "        #hidden = tf.matmul(hidden, layer2_weights) + layer2_biases\n",
    "        #hidden = tf.matmul(hidden, layer3_weights) + layer3_biases\n",
    "        return hidden\n",
    "\n",
    "    logits = model(tf_train_dataset, train=True)\n",
    "    #loss = tf.reduce_mean(tf.nn.softmax_cross_entropy_with_logits(logits, tf_train_labels))\n",
    "    #weights = (\n",
    "    #    0.8 * tf.to_float(tf_train_labels > 20) + \n",
    "    #    0.2 * tf.to_float(tf_train_labels <= 20)\n",
    "    #)\n",
    "    #loss = tf.reduce_mean(tf.square(logits - tf_train_labels) * weights)\n",
    "    loss = tf.reduce_mean(tf.square(logits - tf_train_labels))\n",
    "    \n",
    "    # Add regularization\n",
    "    regularizers = (\n",
    "        tf.nn.l2_loss(layer1_weights) + tf.nn.l2_loss(layer1_biases) # +\n",
    "        #tf.nn.l2_loss(layer2_weights) + tf.nn.l2_loss(layer2_biases)\n",
    "        #tf.nn.l2_loss(layer3_weights) + tf.nn.l2_loss(layer3_biases)\n",
    "    )\n",
    "    loss += 1e-2 * regularizers\n",
    "\n",
    "    # Optimizer.\n",
    "    step = tf.Variable(0, trainable=False)\n",
    "    learning_rate = tf.train.exponential_decay(0.5, step, 1, 0.9999)\n",
    "    optimizer = tf.train.AdagradOptimizer(learning_rate).minimize(loss)\n",
    "    \n",
    "    # Predictions for the training, validation, and test data.\n",
    "    train_prediction = logits\n",
    "    valid_prediction = model(tf_valid_dataset)\n",
    "    # test_prediction = tf.nn.softmax(model(tf_test_dataset))"
   ]
  },
  {
   "cell_type": "code",
   "execution_count": null,
   "metadata": {
    "collapsed": true,
    "run_control": {
     "marked": false
    }
   },
   "outputs": [],
   "source": []
  },
  {
   "cell_type": "code",
   "execution_count": 84,
   "metadata": {
    "collapsed": false,
    "run_control": {
     "marked": false
    }
   },
   "outputs": [
    {
     "name": "stdout",
     "output_type": "stream",
     "text": [
      "Initialized\n",
      "Minibatch loss at step 0: 262.259064\n",
      "Minibatch correlation: [ 0.80480385]\n",
      "Validation correlation: [ 0.39399117]\n",
      "\n",
      "Minibatch loss at step 1: 210.352341\n",
      "Minibatch correlation: [ 0.86869101]\n",
      "Validation correlation: [ 0.38408444]\n",
      "\n",
      "Minibatch loss at step 2: 200.807114\n",
      "Minibatch correlation: [ 0.88444104]\n",
      "Validation correlation: [ 0.39015026]\n",
      "\n",
      "Minibatch loss at step 3: 196.895584\n",
      "Minibatch correlation: [ 0.89239945]\n",
      "Validation correlation: [ 0.3803095]\n",
      "\n"
     ]
    },
    {
     "ename": "KeyboardInterrupt",
     "evalue": "",
     "output_type": "error",
     "traceback": [
      "\u001b[1;31m---------------------------------------------------------------------------\u001b[0m",
      "\u001b[1;31mKeyboardInterrupt\u001b[0m                         Traceback (most recent call last)",
      "\u001b[1;32m<ipython-input-84-ea32f12da0c4>\u001b[0m in \u001b[0;36m<module>\u001b[1;34m()\u001b[0m\n\u001b[0;32m     32\u001b[0m                 \u001b[0mtf_train_labels\u001b[0m\u001b[1;33m:\u001b[0m \u001b[0mbatch_labels\u001b[0m\u001b[1;33m,\u001b[0m\u001b[1;33m\u001b[0m\u001b[0m\n\u001b[0;32m     33\u001b[0m             }\n\u001b[1;32m---> 34\u001b[1;33m             \u001b[0m_\u001b[0m\u001b[1;33m,\u001b[0m \u001b[0ml\u001b[0m\u001b[1;33m,\u001b[0m \u001b[0mpredictions\u001b[0m \u001b[1;33m=\u001b[0m \u001b[0msession\u001b[0m\u001b[1;33m.\u001b[0m\u001b[0mrun\u001b[0m\u001b[1;33m(\u001b[0m\u001b[1;33m[\u001b[0m\u001b[0moptimizer\u001b[0m\u001b[1;33m,\u001b[0m \u001b[0mloss\u001b[0m\u001b[1;33m,\u001b[0m \u001b[0mtrain_prediction\u001b[0m\u001b[1;33m]\u001b[0m\u001b[1;33m,\u001b[0m \u001b[0mfeed_dict\u001b[0m\u001b[1;33m=\u001b[0m\u001b[0mfeed_dict\u001b[0m\u001b[1;33m)\u001b[0m\u001b[1;33m\u001b[0m\u001b[0m\n\u001b[0m\u001b[0;32m     35\u001b[0m             \u001b[1;31m# ...\u001b[0m\u001b[1;33m\u001b[0m\u001b[1;33m\u001b[0m\u001b[0m\n\u001b[0;32m     36\u001b[0m             \u001b[0mbatch_loss_all\u001b[0m\u001b[1;33m.\u001b[0m\u001b[0mappend\u001b[0m\u001b[1;33m(\u001b[0m\u001b[0ml\u001b[0m\u001b[1;33m)\u001b[0m\u001b[1;33m\u001b[0m\u001b[0m\n",
      "\u001b[1;32m/home/kimlab1/strokach/anaconda3/lib/python3.5/site-packages/tensorflow/python/client/session.py\u001b[0m in \u001b[0;36mrun\u001b[1;34m(self, fetches, feed_dict)\u001b[0m\n\u001b[0;32m    366\u001b[0m \u001b[1;33m\u001b[0m\u001b[0m\n\u001b[0;32m    367\u001b[0m     \u001b[1;31m# Run request and get response.\u001b[0m\u001b[1;33m\u001b[0m\u001b[1;33m\u001b[0m\u001b[0m\n\u001b[1;32m--> 368\u001b[1;33m     \u001b[0mresults\u001b[0m \u001b[1;33m=\u001b[0m \u001b[0mself\u001b[0m\u001b[1;33m.\u001b[0m\u001b[0m_do_run\u001b[0m\u001b[1;33m(\u001b[0m\u001b[0mtarget_list\u001b[0m\u001b[1;33m,\u001b[0m \u001b[0munique_fetch_targets\u001b[0m\u001b[1;33m,\u001b[0m \u001b[0mfeed_dict_string\u001b[0m\u001b[1;33m)\u001b[0m\u001b[1;33m\u001b[0m\u001b[0m\n\u001b[0m\u001b[0;32m    369\u001b[0m \u001b[1;33m\u001b[0m\u001b[0m\n\u001b[0;32m    370\u001b[0m     \u001b[1;31m# User may have fetched the same tensor multiple times, but we\u001b[0m\u001b[1;33m\u001b[0m\u001b[1;33m\u001b[0m\u001b[0m\n",
      "\u001b[1;32m/home/kimlab1/strokach/anaconda3/lib/python3.5/site-packages/tensorflow/python/client/session.py\u001b[0m in \u001b[0;36m_do_run\u001b[1;34m(self, target_list, fetch_list, feed_dict)\u001b[0m\n\u001b[0;32m    426\u001b[0m \u001b[1;33m\u001b[0m\u001b[0m\n\u001b[0;32m    427\u001b[0m       return tf_session.TF_Run(self._session, feed_dict, fetch_list,\n\u001b[1;32m--> 428\u001b[1;33m                                target_list)\n\u001b[0m\u001b[0;32m    429\u001b[0m \u001b[1;33m\u001b[0m\u001b[0m\n\u001b[0;32m    430\u001b[0m     \u001b[1;32mexcept\u001b[0m \u001b[0mtf_session\u001b[0m\u001b[1;33m.\u001b[0m\u001b[0mStatusNotOK\u001b[0m \u001b[1;32mas\u001b[0m \u001b[0me\u001b[0m\u001b[1;33m:\u001b[0m\u001b[1;33m\u001b[0m\u001b[0m\n",
      "\u001b[1;31mKeyboardInterrupt\u001b[0m: "
     ]
    }
   ],
   "source": [
    "from sklearn.utils import shuffle\n",
    "from sklearn.preprocessing import StandardScaler\n",
    "\n",
    "num_steps = 501\n",
    "scale_factor = 1\n",
    "\n",
    "output_dfs = []\n",
    "\n",
    "train_df, test_df = chunks[0]\n",
    "\n",
    "valid_dataset, valid_labels = shuffle(X_test, test_pair_wsyn[['synergy_score_y']].values)\n",
    "\n",
    "with tf.Session(graph=graph) as session:\n",
    "    tf.initialize_all_variables().run()\n",
    "    print(\"Initialized\")\n",
    "    for step in range(num_steps):\n",
    "        # Shuffle our data\n",
    "        indexes = np.random.permutation(X.shape[0])\n",
    "        # Collect predictions from every minibatch\n",
    "        batch_loss_all = []\n",
    "        predictions_all = []\n",
    "        batch_labels_all = []\n",
    "        for offset in range(0, X.shape[0], batch_size):\n",
    "            # Generate a minibatch.\n",
    "            batch_data = X[indexes[offset:(offset + batch_size)], :]\n",
    "            batch_labels = Y.reshape((-1, 1))[indexes[offset:(offset + batch_size)], :]\n",
    "            # Prepare a dictionary telling the session where to feed the minibatch.\n",
    "            # The key of the dictionary is the placeholder node of the graph to be fed,\n",
    "            # and the value is the numpy array to feed to it.\n",
    "            feed_dict = {\n",
    "                tf_train_dataset: batch_data, \n",
    "                tf_train_labels: batch_labels,\n",
    "            }\n",
    "            _, l, predictions = session.run([optimizer, loss, train_prediction], feed_dict=feed_dict)\n",
    "            # ...\n",
    "            batch_loss_all.append(l)\n",
    "            predictions_all.append(predictions)\n",
    "            batch_labels_all.append(batch_labels)\n",
    "        # ...\n",
    "        batch_loss = np.vstack(batch_loss_all)\n",
    "        predictions = np.vstack(predictions_all)\n",
    "        batch_labels = np.vstack(batch_labels_all)\n",
    "        # Once every while, check how we are doing...\n",
    "        if True:  # (step % 10 == 0):\n",
    "            print(\"Minibatch loss at step %d: %f\" % (step, np.mean(batch_loss)))\n",
    "            if False:\n",
    "                print(\"Minibatch accuracy: %.2f%%\" % accuracy(predictions, batch_labels))\n",
    "                print(\"Validation accuracy: %.2f%%\" % accuracy(v_prediction, valid_labels))\n",
    "                fpr, tpr, thresholds = roc_curve(valid_labels[:, 0], v_prediction[:, 0])\n",
    "                bac = (tpr + (1 - fpr)) / 2\n",
    "                print('bac: {:.2f}\\n'.format(max(bac)))\n",
    "            else:\n",
    "                # Minibatch\n",
    "                print(\"Minibatch correlation: {}\".format(sp.stats.pearsonr(predictions, batch_labels)[0]))\n",
    "                # Validation\n",
    "                y_pred_all = []\n",
    "                for step_train in range(0, valid_dataset.shape[0], batch_size):\n",
    "                    y_pred_chunk = (\n",
    "                        valid_prediction.eval(\n",
    "                            feed_dict={tf_valid_dataset: valid_dataset[step_train:step_train + batch_size]})\n",
    "                    )\n",
    "                    y_pred_all.append(y_pred_chunk)\n",
    "                y_pred = np.vstack(y_pred_all)\n",
    "                print(\"Validation correlation: {}\".format(sp.stats.pearsonr(y_pred, valid_labels)[0]))\n",
    "            print()\n",
    "            sys.stdout.flush()\n",
    "\n",
    "    #saver.save(session, 'machine_learning/tensorflow_ch1', global_step=step)\n",
    "    #print(\"Test accuracy: %.2f%%\" % accuracy(test_prediction.eval(), test_labels))\n",
    "\n",
    "output_df = test_df[['d_1', 'd_2', 'c', 'synergy_score']].copy()\n",
    "output_df['synergy_score_pred'] = y_pred\n",
    "output_dfs.append(output_df)\n",
    "# break"
   ]
  },
  {
   "cell_type": "code",
   "execution_count": 190,
   "metadata": {
    "collapsed": false,
    "run_control": {
     "marked": false
    }
   },
   "outputs": [
    {
     "data": {
      "text/plain": [
       "(2200706, 1824)"
      ]
     },
     "execution_count": 190,
     "metadata": {},
     "output_type": "execute_result"
    }
   ],
   "source": [
    "X.shape"
   ]
  },
  {
   "cell_type": "code",
   "execution_count": 161,
   "metadata": {
    "collapsed": false,
    "run_control": {
     "marked": false
    }
   },
   "outputs": [
    {
     "data": {
      "text/html": [
       "<div>\n",
       "<table border=\"1\" class=\"dataframe\">\n",
       "  <thead>\n",
       "    <tr style=\"text-align: right;\">\n",
       "      <th></th>\n",
       "      <th>synergy_score_y</th>\n",
       "    </tr>\n",
       "  </thead>\n",
       "  <tbody>\n",
       "    <tr>\n",
       "      <th>0</th>\n",
       "      <td>29.359150</td>\n",
       "    </tr>\n",
       "    <tr>\n",
       "      <th>1</th>\n",
       "      <td>-31.030500</td>\n",
       "    </tr>\n",
       "    <tr>\n",
       "      <th>2</th>\n",
       "      <td>100.000000</td>\n",
       "    </tr>\n",
       "    <tr>\n",
       "      <th>3</th>\n",
       "      <td>9.376265</td>\n",
       "    </tr>\n",
       "    <tr>\n",
       "      <th>4</th>\n",
       "      <td>1.119112</td>\n",
       "    </tr>\n",
       "  </tbody>\n",
       "</table>\n",
       "</div>"
      ],
      "text/plain": [
       "   synergy_score_y\n",
       "0        29.359150\n",
       "1       -31.030500\n",
       "2       100.000000\n",
       "3         9.376265\n",
       "4         1.119112"
      ]
     },
     "execution_count": 161,
     "metadata": {},
     "output_type": "execute_result"
    }
   ],
   "source": [
    "test_pair_wsyn[['synergy_score_y']].head()"
   ]
  },
  {
   "cell_type": "code",
   "execution_count": 72,
   "metadata": {
    "collapsed": false,
    "run_control": {
     "marked": false
    }
   },
   "outputs": [
    {
     "name": "stdout",
     "output_type": "stream",
     "text": [
      "train: (1485, 834)\n",
      "train_pair: (2203682, 1887)\n",
      "test: (300, 834)\n",
      "test_pair: (445500, 1886)\n",
      "test_pair_wsyn: (445500, 1886)\n",
      "set()\n",
      "global_corr: (0.0020474319831092548, 0.17175944356997189)\n",
      "final global_corr: (0.0031324921103409089, 0.013232718561041945)\n",
      "Skipping key '('ADAM17', 'AKT')' because it has only 1 value...\n",
      "Skipping key '('AKT', 'AKT_1')' because it has only 1 value...\n",
      "Skipping key '('AKT', 'PIK3C_2')' because it has only 1 value...\n",
      "Skipping key '('AKT_1', 'BCL2L1')' because it has only 1 value...\n",
      "Skipping key '('AKT_1', 'Chloroquine')' because it has only 1 value...\n",
      "Skipping key '('AKT_1', 'ESR1')' because it has only 1 value...\n",
      "Skipping key '('AKT_1', 'ESR1_1')' because it has only 1 value...\n",
      "Skipping key '('AKT_1', 'PIK3C_2')' because it has only 1 value...\n",
      "Skipping key '('AKT_SGK', 'BCL2_BCL2L1')' because it has only 1 value...\n",
      "Skipping key '('ALK', 'EGFR_2')' because it has only 1 value...\n",
      "Skipping key '('ALK', 'PIK3C')' because it has only 1 value...\n",
      "Skipping key '('ALK_2', 'MTOR_1')' because it has only 1 value...\n",
      "Skipping key '('ATM', 'Gemcitabine')' because it has only 1 value...\n",
      "Skipping key '('ATR_4', 'BCL2_BCL2L1')' because it has only 1 value...\n",
      "Skipping key '('ATR_4', 'HDAC_4')' because it has only 1 value...\n",
      "Skipping key '('BCL2', 'CarboTaxol')' because it has only 1 value...\n",
      "Skipping key '('BCL2', 'IGFR_4')' because it has only 1 value...\n",
      "Skipping key '('BCL2', 'MAP2K_1')' because it has only 1 value...\n",
      "Skipping key '('BCL2L1', 'CarboTaxol')' because it has only 1 value...\n",
      "Skipping key '('BCL2L1', 'PIK3C')' because it has only 1 value...\n",
      "Skipping key '('BCL2_BCL2L1', 'EGFR')' because it has only 1 value...\n",
      "Skipping key '('CSNK2A1_2', 'SYK')' because it has only 1 value...\n",
      "Skipping key '('CarboTaxol', 'CSNK2A1_2')' because it has only 1 value...\n",
      "Skipping key '('Chloroquine', 'FGFR')' because it has only 1 value...\n",
      "Skipping key '('Chloroquine', 'PIK3C')' because it has only 1 value...\n",
      "Skipping key '('Cisplatin', 'FGFR')' because it has only 1 value...\n",
      "Skipping key '('Cisplatin', 'HDAC_4')' because it has only 1 value...\n",
      "Skipping key '('Cisplatin', 'PIK3C')' because it has only 1 value...\n",
      "Skipping key '('Doxorubicin', 'IAP')' because it has only 1 value...\n",
      "Skipping key '('Doxorubicin', 'TOP2')' because it has only 1 value...\n",
      "Skipping key '('EG5', 'PARP1')' because it has only 1 value...\n",
      "Skipping key '('EG5', 'PIK3CB_PIK3CD')' because it has only 1 value...\n",
      "Skipping key '('ERBB', 'IAP')' because it has only 1 value...\n",
      "Skipping key '('ERBB', 'MAP2K_1')' because it has only 1 value...\n",
      "Skipping key '('ERBB', 'PIK3CA_4')' because it has only 1 value...\n",
      "Skipping key '('ESR1', 'MAP2K_1')' because it has only 1 value...\n",
      "Skipping key '('FASN', 'MAP2K_1')' because it has only 1 value...\n",
      "Skipping key '('FGFR', 'MTOR_3')' because it has only 1 value...\n",
      "Skipping key '('FGFR', 'TNKS_PARP6')' because it has only 1 value...\n",
      "Skipping key '('FGFR', 'WNT')' because it has only 1 value...\n",
      "Skipping key '('IAP', 'IGFR_4')' because it has only 1 value...\n",
      "Skipping key '('IAP', 'JAK')' because it has only 1 value...\n",
      "Skipping key '('IAP', 'PARP1')' because it has only 1 value...\n",
      "Skipping key '('IAP', 'SN38')' because it has only 1 value...\n",
      "Skipping key '('IAP', 'Vinorelbine')' because it has only 1 value...\n",
      "Skipping key '('IGFR_3', 'MAP2K_1')' because it has only 1 value...\n",
      "Skipping key '('MAP2K_1', 'MTOR_1')' because it has only 1 value...\n",
      "Skipping key '('MAP2K_1', 'PIP5K1')' because it has only 1 value...\n",
      "Skipping key '('PIK3C', 'PIP5K1')' because it has only 1 value...\n",
      "Skipping key '('PIK3CB_PIK3CD', 'SLC16A4')' because it has only 1 value...\n",
      "Skipping key '('PIK3C_2', 'PIK3CA_4')' because it has only 1 value...\n",
      "final local_corr: (-0.0087811162584933676, 0.067366707921432817)\n"
     ]
    }
   ],
   "source": [
    "    xval_results.append(\n",
    "        test_pair_wsyn\n",
    "        # TODO: Make sure don't get much better performance if predicting differences\n",
    "        [['d_1_x', 'd_2_x', 'c_x', 'd_1_y', 'd_2_y', 'c_y', 'synergy_score_y', 'synergy_score_y_pred']]\n",
    "    )\n",
    "\n",
    "    # Some concluding remarks\n",
    "    print(\"train: {}\".format(train.shape))\n",
    "    print(\"train_pair: {}\".format(train_pair.shape))\n",
    "    print(\"test: {}\".format(test.shape))\n",
    "    print(\"test_pair: {}\".format(test_pair.shape))\n",
    "    print(\"test_pair_wsyn: {}\".format(test_pair_wsyn.shape))\n",
    "    print(set(feature_columns) - set(test_pair.columns))\n",
    "    global_corr = (\n",
    "        sp.stats.pearsonr(\n",
    "            test_pair_wsyn['synergy_score_y'],\n",
    "            test_pair_wsyn['synergy_score_y_pred']\n",
    "        ))\n",
    "    print(\"global_corr: {}\".format(global_corr))\n",
    "\n",
    "    sys.stdout.flush()\n",
    "\n",
    "# Overall globel corr\n",
    "xval_results_final = pd.concat(xval_results, ignore_index=False)\n",
    "global_corr = (\n",
    "    sp.stats.pearsonr(\n",
    "        xval_results_final['synergy_score_y'],\n",
    "        xval_results_final['synergy_score_y_pred']\n",
    "    ))\n",
    "print(\"final global_corr: {}\".format(global_corr))\n",
    "\n",
    "# Overall GBDD corr\n",
    "xval_results_final2 = (\n",
    "    xval_results_final\n",
    "    .groupby(['d_1_y', 'd_2_y', 'c_y'])\n",
    "    [['synergy_score_y', 'synergy_score_y_pred']]\n",
    "    .agg('mean')\n",
    "    .reset_index()\n",
    "    .rename(\n",
    "        columns={\n",
    "            'd_1_y': 'd_1',\n",
    "            'd_2_y': 'd_2',\n",
    "            'c_y': 'c',\n",
    "            'synergy_score_y': 'synergy_score',\n",
    "            'synergy_score_y_pred': 'synergy_score_pred'\n",
    "        })\n",
    ")\n",
    "local_corr = fn.get_score_ch1(xval_results_final2)\n",
    "print(\"final local_corr: {}\".format(local_corr))\n",
    "\n",
    "#xval_results_xval.append([clf_opts, xval_results_final])"
   ]
  },
  {
   "cell_type": "code",
   "execution_count": 73,
   "metadata": {
    "collapsed": false,
    "run_control": {
     "marked": false
    }
   },
   "outputs": [],
   "source": []
  },
  {
   "cell_type": "code",
   "execution_count": 94,
   "metadata": {
    "collapsed": false,
    "run_control": {
     "marked": false
    },
    "scrolled": true
   },
   "outputs": [
    {
     "data": {
      "text/plain": [
       "[<matplotlib.lines.Line2D at 0x7ff31e101780>]"
      ]
     },
     "execution_count": 94,
     "metadata": {},
     "output_type": "execute_result"
    },
    {
     "data": {
      "image/png": "[encoded data removed]",
      "text/plain": [
       "<matplotlib.figure.Figure at 0x7ff31ebdec88>"
      ]
     },
     "metadata": {},
     "output_type": "display_data"
    }
   ],
   "source": [
    "plt.plot(X.mean(axis=0), X_test.mean(axis=0), 'r.')\n",
    "#plt.xlim(-0.05e-1, 0.05e-1)\n",
    "#plt.ylim(-0.05e-1, 0.05e-1)"
   ]
  },
  {
   "cell_type": "code",
   "execution_count": null,
   "metadata": {
    "collapsed": true,
    "run_control": {
     "marked": false
    }
   },
   "outputs": [],
   "source": []
  },
  {
   "cell_type": "code",
   "execution_count": 87,
   "metadata": {
    "collapsed": false,
    "run_control": {
     "marked": false
    }
   },
   "outputs": [
    {
     "data": {
      "text/plain": [
       "(-50000000000.0, 50000000000.0)"
      ]
     },
     "execution_count": 87,
     "metadata": {},
     "output_type": "execute_result"
    },
    {
     "data": {
      "image/png": "[encoded data removed]",
      "text/plain": [
       "<matplotlib.figure.Figure at 0x7ff2ced0e860>"
      ]
     },
     "metadata": {},
     "output_type": "display_data"
    }
   ],
   "source": [
    "plt.plot(\n",
    "    test_pair_wsyn['synergy_score_y'], \n",
    "    test_pair_wsyn['synergy_score_y_pred'], \n",
    "    'r.')\n",
    "plt.xlim(-100, 150)\n",
    "plt.ylim(-0.05e12, 0.05e12)"
   ]
  },
  {
   "cell_type": "code",
   "execution_count": 65,
   "metadata": {
    "collapsed": false,
    "run_control": {
     "marked": false
    }
   },
   "outputs": [
    {
     "data": {
      "text/plain": [
       "445500"
      ]
     },
     "execution_count": 65,
     "metadata": {},
     "output_type": "execute_result"
    }
   ],
   "source": [
    "1485 * 300"
   ]
  },
  {
   "cell_type": "code",
   "execution_count": 68,
   "metadata": {
    "collapsed": false,
    "run_control": {
     "marked": false
    }
   },
   "outputs": [
    {
     "data": {
      "text/plain": [
       "2203740"
      ]
     },
     "execution_count": 68,
     "metadata": {},
     "output_type": "execute_result"
    }
   ],
   "source": [
    "1485 * 1484"
   ]
  },
  {
   "cell_type": "code",
   "execution_count": null,
   "metadata": {
    "collapsed": false,
    "run_control": {
     "marked": false
    }
   },
   "outputs": [],
   "source": [
    "len(set(train_pair[feature_columns].columns))"
   ]
  },
  {
   "cell_type": "code",
   "execution_count": null,
   "metadata": {
    "collapsed": false,
    "run_control": {
     "marked": false
    }
   },
   "outputs": [],
   "source": [
    "len(set(test_pair[feature_columns].columns))"
   ]
  },
  {
   "cell_type": "code",
   "execution_count": null,
   "metadata": {
    "collapsed": false,
    "run_control": {
     "marked": false
    }
   },
   "outputs": [],
   "source": [
    "sp.stats.pearsonr(\n",
    "    xval_results_final['synergy_score_y'],\n",
    "    xval_results_final['synergy_score_y_pred']\n",
    ")"
   ]
  },
  {
   "cell_type": "code",
   "execution_count": null,
   "metadata": {
    "collapsed": false,
    "run_control": {
     "marked": false
    }
   },
   "outputs": [],
   "source": [
    "xval_results_final2.head()"
   ]
  },
  {
   "cell_type": "markdown",
   "metadata": {
    "collapsed": true,
    "run_control": {
     "marked": false
    }
   },
   "source": [
    "# Compare `test` and `train` feautes"
   ]
  },
  {
   "cell_type": "code",
   "execution_count": 70,
   "metadata": {
    "collapsed": false,
    "run_control": {
     "marked": false
    }
   },
   "outputs": [],
   "source": [
    "X_mean = X.mean(axis=0)"
   ]
  },
  {
   "cell_type": "code",
   "execution_count": 71,
   "metadata": {
    "collapsed": false,
    "run_control": {
     "marked": false
    }
   },
   "outputs": [],
   "source": [
    "X_test_mean = X_test.mean(axis=0)"
   ]
  },
  {
   "cell_type": "code",
   "execution_count": 72,
   "metadata": {
    "collapsed": false,
    "run_control": {
     "marked": false
    }
   },
   "outputs": [
    {
     "data": {
      "text/plain": [
       "(-0.25, 0.25)"
      ]
     },
     "execution_count": 72,
     "metadata": {},
     "output_type": "execute_result"
    },
    {
     "data": {
      "image/png": "[encoded data removed]",
      "text/plain": [
       "<matplotlib.figure.Figure at 0x7fdd5f84dd30>"
      ]
     },
     "metadata": {},
     "output_type": "display_data"
    }
   ],
   "source": [
    "plt.plot(X_mean, X_test_mean, 'r.')\n",
    "plt.ylim(-0.25, 0.25)"
   ]
  },
  {
   "cell_type": "code",
   "execution_count": 66,
   "metadata": {
    "collapsed": false,
    "run_control": {
     "marked": false
    }
   },
   "outputs": [
    {
     "name": "stdout",
     "output_type": "stream",
     "text": [
      "[(714, 'count_gbdc_diff_y', '-0.53'), (815, 'count_gbcc_x', '6.24'), (817, 'count_gbdddd_x', '3.98'), (819, 'synergy_score_gbcc_mean', '3.29'), (820, 'synergy_score_gbdddd_mean', '1.75'), (822, 'synergy_score_gbdcdc_mean', '2.62')]\n"
     ]
    }
   ],
   "source": [
    "bad = [\n",
    "    (i, c, '{:.2f}'.format(m2 - m1)) \n",
    "    for (i, (c, m1, m2)) in enumerate(zip(feature_columns, X_mean, X_test_mean))\n",
    "    if abs(m1 - m2) > 0.51 and c[-3:] not in  ['_11', '_12', '_21', '_22']\n",
    "]\n",
    "print(bad)"
   ]
  },
  {
   "cell_type": "code",
   "execution_count": 54,
   "metadata": {
    "collapsed": true
   },
   "outputs": [],
   "source": [
    "feature_columns_original = feature_columns.copy()"
   ]
  },
  {
   "cell_type": "code",
   "execution_count": 69,
   "metadata": {
    "collapsed": true
   },
   "outputs": [],
   "source": [
    "feature_columns.remove('count_gbdc_diff_y')\n",
    "feature_columns.remove('count_gbcc_x')\n",
    "feature_columns.remove('count_gbdddd_x')\n",
    "feature_columns.remove('synergy_score_gbcc_mean')\n",
    "feature_columns.remove('synergy_score_gbdddd_mean')\n",
    "feature_columns.remove('synergy_score_gbdcdc_mean')"
   ]
  },
  {
   "cell_type": "code",
   "execution_count": 68,
   "metadata": {
    "collapsed": true
   },
   "outputs": [],
   "source": [
    "n = [820, 819, 817, 815, 714]\n",
    "X = np.delete(X, n, axis=1)\n",
    "X_test = np.delete(X_test, n, axis=1)"
   ]
  },
  {
   "cell_type": "code",
   "execution_count": null,
   "metadata": {
    "collapsed": true
   },
   "outputs": [],
   "source": []
  },
  {
   "cell_type": "code",
   "execution_count": null,
   "metadata": {
    "collapsed": true
   },
   "outputs": [],
   "source": []
  },
  {
   "cell_type": "code",
   "execution_count": null,
   "metadata": {
    "collapsed": true
   },
   "outputs": [],
   "source": []
  },
  {
   "cell_type": "code",
   "execution_count": 52,
   "metadata": {
    "collapsed": false
   },
   "outputs": [
    {
     "data": {
      "text/plain": [
       "1766"
      ]
     },
     "execution_count": 52,
     "metadata": {},
     "output_type": "execute_result"
    }
   ],
   "source": [
    "len(feature_columns)"
   ]
  },
  {
   "cell_type": "code",
   "execution_count": 53,
   "metadata": {
    "collapsed": false
   },
   "outputs": [
    {
     "data": {
      "text/plain": [
       "['synergy_score_x',\n",
       " 'max_conc_max_y',\n",
       " 'max_conc_min_y',\n",
       " 'max_conc_diff_y',\n",
       " 'max_conc_same_y',\n",
       " 'ic50_mean_y',\n",
       " 'ic50_diff_y',\n",
       " 'h_mean_y',\n",
       " 'h_diff_y',\n",
       " 'einf_mean_y',\n",
       " 'einf_diff_y',\n",
       " 'count_gbdd_y',\n",
       " 'max_conc_gbdd_mean_max_y',\n",
       " 'max_conc_gbdd_mean_min_y',\n",
       " 'max_conc_gbdd_mean_diff_y',\n",
       " 'max_conc_gbdd_mean_same_y',\n",
       " 'max_conc_gbdd_std_max_y',\n",
       " 'max_conc_gbdd_std_min_y',\n",
       " 'max_conc_gbdd_std_diff_y',\n",
       " 'max_conc_gbdd_std_same_y',\n",
       " 'max_conc_gbdd_max_max_y',\n",
       " 'max_conc_gbdd_max_min_y',\n",
       " 'max_conc_gbdd_max_diff_y',\n",
       " 'max_conc_gbdd_max_same_y',\n",
       " 'max_conc_gbdd_min_max_y',\n",
       " 'max_conc_gbdd_min_min_y',\n",
       " 'max_conc_gbdd_min_diff_y',\n",
       " 'max_conc_gbdd_min_same_y',\n",
       " 'ic50_gbdd_mean_mean_y',\n",
       " 'ic50_gbdd_mean_diff_y',\n",
       " 'ic50_gbdd_std_mean_y',\n",
       " 'ic50_gbdd_std_diff_y',\n",
       " 'ic50_gbdd_max_mean_y',\n",
       " 'ic50_gbdd_max_diff_y',\n",
       " 'ic50_gbdd_min_mean_y',\n",
       " 'ic50_gbdd_min_diff_y',\n",
       " 'h_gbdd_mean_mean_y',\n",
       " 'h_gbdd_mean_diff_y',\n",
       " 'h_gbdd_std_mean_y',\n",
       " 'h_gbdd_std_diff_y',\n",
       " 'h_gbdd_max_mean_y',\n",
       " 'h_gbdd_max_diff_y',\n",
       " 'h_gbdd_min_mean_y',\n",
       " 'h_gbdd_min_diff_y',\n",
       " 'einf_gbdd_mean_mean_y',\n",
       " 'einf_gbdd_mean_diff_y',\n",
       " 'einf_gbdd_std_mean_y',\n",
       " 'einf_gbdd_std_diff_y',\n",
       " 'einf_gbdd_max_mean_y',\n",
       " 'einf_gbdd_max_diff_y',\n",
       " 'einf_gbdd_min_mean_y',\n",
       " 'einf_gbdd_min_diff_y',\n",
       " 'hba_mean_y',\n",
       " 'hba_diff_y',\n",
       " 'c_log_p_mean_y',\n",
       " 'c_log_p_diff_y',\n",
       " 'hbd_mean_y',\n",
       " 'hbd_diff_y',\n",
       " 'lipinski_mean_y',\n",
       " 'lipinski_diff_y',\n",
       " 'mw_mean_y',\n",
       " 'mw_diff_y',\n",
       " 'atom_stereo_count_mean_y',\n",
       " 'atom_stereo_count_diff_y',\n",
       " 'bond_stereo_count_mean_y',\n",
       " 'bond_stereo_count_diff_y',\n",
       " 'complexity_mean_y',\n",
       " 'complexity_diff_y',\n",
       " 'conformer_count3_d_mean_y',\n",
       " 'conformer_count3_d_diff_y',\n",
       " 'conformer_model_rmsd3_d_mean_y',\n",
       " 'conformer_model_rmsd3_d_diff_y',\n",
       " 'covalent_unit_count_mean_y',\n",
       " 'covalent_unit_count_diff_y',\n",
       " 'defined_atom_stereo_count_mean_y',\n",
       " 'defined_atom_stereo_count_diff_y',\n",
       " 'defined_bond_stereo_count_mean_y',\n",
       " 'defined_bond_stereo_count_diff_y',\n",
       " 'effective_rotor_count3_d_mean_y',\n",
       " 'effective_rotor_count3_d_diff_y',\n",
       " 'exact_mass_mean_y',\n",
       " 'exact_mass_diff_y',\n",
       " 'feature_acceptor_count3_d_mean_y',\n",
       " 'feature_acceptor_count3_d_diff_y',\n",
       " 'feature_anion_count3_d_mean_y',\n",
       " 'feature_anion_count3_d_diff_y',\n",
       " 'feature_cation_count3_d_mean_y',\n",
       " 'feature_cation_count3_d_diff_y',\n",
       " 'feature_count3_d_mean_y',\n",
       " 'feature_count3_d_diff_y',\n",
       " 'feature_donor_count3_d_mean_y',\n",
       " 'feature_donor_count3_d_diff_y',\n",
       " 'feature_hydrophobe_count3_d_mean_y',\n",
       " 'feature_hydrophobe_count3_d_diff_y',\n",
       " 'feature_ring_count3_d_mean_y',\n",
       " 'feature_ring_count3_d_diff_y',\n",
       " 'h_bond_acceptor_count_mean_y',\n",
       " 'h_bond_acceptor_count_diff_y',\n",
       " 'h_bond_donor_count_mean_y',\n",
       " 'h_bond_donor_count_diff_y',\n",
       " 'heavy_atom_count_mean_y',\n",
       " 'heavy_atom_count_diff_y',\n",
       " 'molecular_weight_mean_y',\n",
       " 'molecular_weight_diff_y',\n",
       " 'monoisotopic_mass_mean_y',\n",
       " 'monoisotopic_mass_diff_y',\n",
       " 'rotatable_bond_count_mean_y',\n",
       " 'rotatable_bond_count_diff_y',\n",
       " 'tpsa_mean_y',\n",
       " 'tpsa_diff_y',\n",
       " 'undefined_atom_stereo_count_mean_y',\n",
       " 'undefined_atom_stereo_count_diff_y',\n",
       " 'volume3_d_mean_y',\n",
       " 'volume3_d_diff_y',\n",
       " 'x_log_p_mean_y',\n",
       " 'x_log_p_diff_y',\n",
       " 'x_steric_quadrupole3_d_mean_y',\n",
       " 'x_steric_quadrupole3_d_diff_y',\n",
       " 'y_steric_quadrupole3_d_mean_y',\n",
       " 'y_steric_quadrupole3_d_diff_y',\n",
       " 'z_steric_quadrupole3_d_mean_y',\n",
       " 'z_steric_quadrupole3_d_diff_y',\n",
       " 'RDKFingerprint_Tanimoto_y',\n",
       " 'RDKFingerprint_Dice_y',\n",
       " 'RDKFingerprint_Cosine_y',\n",
       " 'RDKFingerprint_Russel_y',\n",
       " 'RDKFingerprint_Kulczynski_y',\n",
       " 'RDKFingerprint_McConnaughey_y',\n",
       " 'FingerprintMol_Tanimoto_y',\n",
       " 'FingerprintMol_Dice_y',\n",
       " 'FingerprintMol_Cosine_y',\n",
       " 'FingerprintMol_Russel_y',\n",
       " 'FingerprintMol_Kulczynski_y',\n",
       " 'FingerprintMol_McConnaughey_y',\n",
       " 'MACCSkeys_Tanimoto_y',\n",
       " 'MACCSkeys_Dice_y',\n",
       " 'MACCSkeys_Cosine_y',\n",
       " 'MACCSkeys_Russel_y',\n",
       " 'MACCSkeys_Kulczynski_y',\n",
       " 'MACCSkeys_McConnaughey_y',\n",
       " 'AtomPairFingerprint_Tanimoto_y',\n",
       " 'AtomPairFingerprint_Dice_y',\n",
       " 'AtomPairFingerprint_Cosine_y',\n",
       " 'AtomPairFingerprint_Russel_y',\n",
       " 'AtomPairFingerprint_Kulczynski_y',\n",
       " 'AtomPairFingerprint_McConnaughey_y',\n",
       " 'TopologicalTorsionFingerprint_Tanimoto_y',\n",
       " 'TopologicalTorsionFingerprint_Dice_y',\n",
       " 'MorganFingerprintR2_Tanimoto_y',\n",
       " 'MorganFingerprintR2_Dice_y',\n",
       " 'MorganFingerprintR2withFeatures_Tanimoto_y',\n",
       " 'MorganFingerprintR2withFeatures_Dice_y',\n",
       " 'bg_degree_mean_y',\n",
       " 'bg_degree_max_y',\n",
       " 'bg_degree_min_y',\n",
       " 'bg_degree_std_y',\n",
       " 'bg_clustering_coef_mean_y',\n",
       " 'bg_clustering_coef_max_y',\n",
       " 'bg_clustering_coef_min_y',\n",
       " 'bg_clustering_coef_std_y',\n",
       " 'bg_betweenness_mean_y',\n",
       " 'bg_betweenness_max_y',\n",
       " 'bg_betweenness_min_y',\n",
       " 'bg_betweenness_std_y',\n",
       " 'bg_closeness_mean_y',\n",
       " 'bg_closeness_max_y',\n",
       " 'bg_closeness_min_y',\n",
       " 'bg_closeness_std_y',\n",
       " 'bg_neighbor_sharing_mean_y',\n",
       " 'bg_neighbor_sharing_max_y',\n",
       " 'bg_neighbor_sharing_min_y',\n",
       " 'bg_neighbor_sharing_std_y',\n",
       " 'bg_shortest_path_length_mean_y',\n",
       " 'bg_shortest_path_length_min_y',\n",
       " 'bg_eb_max_max_y',\n",
       " 'bg_eb_min_min_y',\n",
       " 'bg_eb_mean_mean_y',\n",
       " 'bg_eb_fraction_mean_y',\n",
       " 'bg_number_of_shortest_paths_mean_y',\n",
       " 'bg_number_of_shortest_paths_max_y',\n",
       " 'bg_number_of_shortest_paths_min_y',\n",
       " 'bg_number_of_shortest_paths_std_y',\n",
       " 'coexpression_mean_y',\n",
       " 'coexpression_max_y',\n",
       " 'coexpression_min_y',\n",
       " 'coexpression_std_y',\n",
       " 'gene_essentiality_max_y',\n",
       " 'gi_degree_mean_y',\n",
       " 'gi_degree_max_y',\n",
       " 'gi_degree_min_y',\n",
       " 'gi_degree_std_y',\n",
       " 'gi_clustering_coef_mean_y',\n",
       " 'gi_clustering_coef_max_y',\n",
       " 'gi_clustering_coef_min_y',\n",
       " 'gi_clustering_coef_std_y',\n",
       " 'gi_betweenness_mean_y',\n",
       " 'gi_betweenness_max_y',\n",
       " 'gi_betweenness_min_y',\n",
       " 'gi_betweenness_std_y',\n",
       " 'gi_closeness_mean_y',\n",
       " 'gi_closeness_max_y',\n",
       " 'gi_closeness_min_y',\n",
       " 'gi_closeness_std_y',\n",
       " 'gi_neighbor_sharing_mean_y',\n",
       " 'gi_neighbor_sharing_max_y',\n",
       " 'gi_neighbor_sharing_min_y',\n",
       " 'gi_neighbor_sharing_std_y',\n",
       " 'gi_shortest_path_length_mean_y',\n",
       " 'gi_shortest_path_length_min_y',\n",
       " 'gi_eb_max_max_y',\n",
       " 'gi_eb_min_min_y',\n",
       " 'gi_eb_mean_mean_y',\n",
       " 'gi_eb_fraction_mean_y',\n",
       " 'gi_number_of_shortest_paths_mean_y',\n",
       " 'gi_number_of_shortest_paths_max_y',\n",
       " 'gi_number_of_shortest_paths_min_y',\n",
       " 'gi_number_of_shortest_paths_std_y',\n",
       " 'go_all_sem_sim_mean_y',\n",
       " 'go_all_sem_sim_max_y',\n",
       " 'go_all_sem_sim_min_y',\n",
       " 'go_all_sem_sim_std_y',\n",
       " 'go_bp_sem_sim_mean_y',\n",
       " 'go_bp_sem_sim_max_y',\n",
       " 'go_bp_sem_sim_min_y',\n",
       " 'go_bp_sem_sim_std_y',\n",
       " 'go_cc_sem_sim_mean_y',\n",
       " 'go_cc_sem_sim_max_y',\n",
       " 'go_cc_sem_sim_min_y',\n",
       " 'go_cc_sem_sim_std_y',\n",
       " 'go_mf_sem_sim_mean_y',\n",
       " 'go_mf_sem_sim_max_y',\n",
       " 'go_mf_sem_sim_min_y',\n",
       " 'go_mf_sem_sim_std_y',\n",
       " 'go_slim_sem_sim_mean_y',\n",
       " 'go_slim_sem_sim_max_y',\n",
       " 'go_slim_sem_sim_min_y',\n",
       " 'go_slim_sem_sim_std_y',\n",
       " 'phylogenic_similarity_mean_y',\n",
       " 'phylogenic_similarity_max_y',\n",
       " 'phylogenic_similarity_min_y',\n",
       " 'phylogenic_similarity_std_y',\n",
       " 's_degree_mean_mean_y',\n",
       " 's_degree_mean_max_y',\n",
       " 's_degree_mean_min_y',\n",
       " 's_degree_mean_std_y',\n",
       " 's_clustering_coef_mean_mean_y',\n",
       " 's_clustering_coef_mean_max_y',\n",
       " 's_clustering_coef_mean_min_y',\n",
       " 's_clustering_coef_mean_std_y',\n",
       " 's_betweenness_mean_y',\n",
       " 's_betweenness_max_y',\n",
       " 's_betweenness_min_y',\n",
       " 's_betweenness_std_y',\n",
       " 's_closeness_mean_y',\n",
       " 's_closeness_max_y',\n",
       " 's_closeness_min_y',\n",
       " 's_closeness_std_y',\n",
       " 's_neighbor_sharing_mean_y',\n",
       " 's_neighbor_sharing_max_y',\n",
       " 's_neighbor_sharing_min_y',\n",
       " 's_neighbor_sharing_std_y',\n",
       " 's_shortest_path_length_mean_y',\n",
       " 's_shortest_path_length_min_y',\n",
       " 's_eb_max_max_y',\n",
       " 's_eb_min_min_y',\n",
       " 's_eb_mean_mean_y',\n",
       " 's_eb_fraction_mean_y',\n",
       " 's_number_of_shortest_paths_mean_y',\n",
       " 's_number_of_shortest_paths_max_y',\n",
       " 's_number_of_shortest_paths_min_y',\n",
       " 's_number_of_shortest_paths_std_y',\n",
       " 'bg_degree_mean_stitch_y',\n",
       " 'bg_degree_max_stitch_y',\n",
       " 'bg_degree_min_stitch_y',\n",
       " 'bg_degree_std_stitch_y',\n",
       " 'bg_clustering_coef_mean_stitch_y',\n",
       " 'bg_clustering_coef_max_stitch_y',\n",
       " 'bg_clustering_coef_min_stitch_y',\n",
       " 'bg_clustering_coef_std_stitch_y',\n",
       " 'bg_betweenness_mean_stitch_y',\n",
       " 'bg_betweenness_max_stitch_y',\n",
       " 'bg_betweenness_min_stitch_y',\n",
       " 'bg_betweenness_std_stitch_y',\n",
       " 'bg_closeness_mean_stitch_y',\n",
       " 'bg_closeness_max_stitch_y',\n",
       " 'bg_closeness_min_stitch_y',\n",
       " 'bg_closeness_std_stitch_y',\n",
       " 'bg_neighbor_sharing_mean_stitch_y',\n",
       " 'bg_neighbor_sharing_max_stitch_y',\n",
       " 'bg_neighbor_sharing_min_stitch_y',\n",
       " 'bg_neighbor_sharing_std_stitch_y',\n",
       " 'bg_shortest_path_length_mean_stitch_y',\n",
       " 'bg_shortest_path_length_min_stitch_y',\n",
       " 'bg_eb_max_max_stitch_y',\n",
       " 'bg_eb_min_min_stitch_y',\n",
       " 'bg_eb_mean_mean_stitch_y',\n",
       " 'bg_eb_fraction_mean_stitch_y',\n",
       " 'bg_number_of_shortest_paths_mean_stitch_y',\n",
       " 'bg_number_of_shortest_paths_max_stitch_y',\n",
       " 'bg_number_of_shortest_paths_min_stitch_y',\n",
       " 'bg_number_of_shortest_paths_std_stitch_y',\n",
       " 'coexpression_mean_stitch_y',\n",
       " 'coexpression_max_stitch_y',\n",
       " 'coexpression_min_stitch_y',\n",
       " 'coexpression_std_stitch_y',\n",
       " 'gene_essentiality_max_stitch_y',\n",
       " 'gi_degree_mean_stitch_y',\n",
       " 'gi_degree_max_stitch_y',\n",
       " 'gi_degree_min_stitch_y',\n",
       " 'gi_degree_std_stitch_y',\n",
       " 'gi_clustering_coef_mean_stitch_y',\n",
       " 'gi_clustering_coef_max_stitch_y',\n",
       " 'gi_clustering_coef_min_stitch_y',\n",
       " 'gi_clustering_coef_std_stitch_y',\n",
       " 'gi_betweenness_mean_stitch_y',\n",
       " 'gi_betweenness_max_stitch_y',\n",
       " 'gi_betweenness_min_stitch_y',\n",
       " 'gi_betweenness_std_stitch_y',\n",
       " 'gi_closeness_mean_stitch_y',\n",
       " 'gi_closeness_max_stitch_y',\n",
       " 'gi_closeness_min_stitch_y',\n",
       " 'gi_closeness_std_stitch_y',\n",
       " 'gi_neighbor_sharing_mean_stitch_y',\n",
       " 'gi_neighbor_sharing_max_stitch_y',\n",
       " 'gi_neighbor_sharing_std_stitch_y',\n",
       " 'gi_shortest_path_length_mean_stitch_y',\n",
       " 'gi_shortest_path_length_min_stitch_y',\n",
       " 'gi_eb_max_max_stitch_y',\n",
       " 'gi_eb_min_min_stitch_y',\n",
       " 'gi_eb_mean_mean_stitch_y',\n",
       " 'gi_eb_fraction_mean_stitch_y',\n",
       " 'gi_number_of_shortest_paths_mean_stitch_y',\n",
       " 'gi_number_of_shortest_paths_max_stitch_y',\n",
       " 'gi_number_of_shortest_paths_min_stitch_y',\n",
       " 'gi_number_of_shortest_paths_std_stitch_y',\n",
       " 'go_all_sem_sim_mean_stitch_y',\n",
       " 'go_all_sem_sim_max_stitch_y',\n",
       " 'go_all_sem_sim_min_stitch_y',\n",
       " 'go_all_sem_sim_std_stitch_y',\n",
       " 'go_bp_sem_sim_mean_stitch_y',\n",
       " 'go_bp_sem_sim_max_stitch_y',\n",
       " 'go_bp_sem_sim_min_stitch_y',\n",
       " 'go_bp_sem_sim_std_stitch_y',\n",
       " 'go_cc_sem_sim_mean_stitch_y',\n",
       " 'go_cc_sem_sim_max_stitch_y',\n",
       " 'go_cc_sem_sim_min_stitch_y',\n",
       " 'go_cc_sem_sim_std_stitch_y',\n",
       " 'go_mf_sem_sim_mean_stitch_y',\n",
       " 'go_mf_sem_sim_max_stitch_y',\n",
       " 'go_mf_sem_sim_min_stitch_y',\n",
       " 'go_mf_sem_sim_std_stitch_y',\n",
       " 'go_slim_sem_sim_mean_stitch_y',\n",
       " 'go_slim_sem_sim_max_stitch_y',\n",
       " 'go_slim_sem_sim_min_stitch_y',\n",
       " 'go_slim_sem_sim_std_stitch_y',\n",
       " 'phylogenic_similarity_mean_stitch_y',\n",
       " 'phylogenic_similarity_max_stitch_y',\n",
       " 'phylogenic_similarity_min_stitch_y',\n",
       " 'phylogenic_similarity_std_stitch_y',\n",
       " 's_degree_mean_mean_stitch_y',\n",
       " 's_degree_mean_max_stitch_y',\n",
       " 's_degree_mean_min_stitch_y',\n",
       " 's_degree_mean_std_stitch_y',\n",
       " 's_clustering_coef_mean_mean_stitch_y',\n",
       " 's_clustering_coef_mean_max_stitch_y',\n",
       " 's_clustering_coef_mean_min_stitch_y',\n",
       " 's_clustering_coef_mean_std_stitch_y',\n",
       " 's_betweenness_mean_stitch_y',\n",
       " 's_betweenness_max_stitch_y',\n",
       " 's_betweenness_min_stitch_y',\n",
       " 's_betweenness_std_stitch_y',\n",
       " 's_closeness_mean_stitch_y',\n",
       " 's_closeness_max_stitch_y',\n",
       " 's_closeness_min_stitch_y',\n",
       " 's_closeness_std_stitch_y',\n",
       " 's_neighbor_sharing_mean_stitch_y',\n",
       " 's_neighbor_sharing_max_stitch_y',\n",
       " 's_neighbor_sharing_min_stitch_y',\n",
       " 's_neighbor_sharing_std_stitch_y',\n",
       " 's_shortest_path_length_mean_stitch_y',\n",
       " 's_shortest_path_length_min_stitch_y',\n",
       " 's_eb_max_max_stitch_y',\n",
       " 's_eb_min_min_stitch_y',\n",
       " 's_eb_mean_mean_stitch_y',\n",
       " 's_eb_fraction_mean_stitch_y',\n",
       " 's_number_of_shortest_paths_mean_stitch_y',\n",
       " 's_number_of_shortest_paths_max_stitch_y',\n",
       " 's_number_of_shortest_paths_min_stitch_y',\n",
       " 's_number_of_shortest_paths_std_stitch_y',\n",
       " 'max_conc_gbc_mean_y',\n",
       " 'max_conc_gbc_std_y',\n",
       " 'max_conc_gbc_max_y',\n",
       " 'max_conc_gbc_min_y',\n",
       " 'ic50_gbc_mean_y',\n",
       " 'ic50_gbc_std_y',\n",
       " 'ic50_gbc_max_y',\n",
       " 'ic50_gbc_min_y',\n",
       " 'h_gbc_mean_y',\n",
       " 'h_gbc_std_y',\n",
       " 'h_gbc_min_y',\n",
       " 'einf_gbc_mean_y',\n",
       " 'einf_gbc_std_y',\n",
       " 'einf_gbc_max_y',\n",
       " 'einf_gbc_min_y',\n",
       " 'count_gbc_y',\n",
       " 'delta_cn_gbc_y',\n",
       " 'min_cn_gbc_y',\n",
       " 'zygosity_2_gbc_y',\n",
       " 'disruption_status_gbc_max_y',\n",
       " 'zygosity_1_gbc_y',\n",
       " 'delta_cn_sscgs_gbc_y',\n",
       " 'min_cn_sscgs_gbc_y',\n",
       " 'zygosity_2_sscgs_gbc_y',\n",
       " 'disruption_status_sscgs_gbc_max_y',\n",
       " 'zygosity_1_sscgs_gbc_y',\n",
       " 'delta_cn_sstarget_gbc_y',\n",
       " 'min_cn_sstarget_gbc_y',\n",
       " 'zygosity_2_sstarget_gbc_y',\n",
       " 'disruption_status_sstarget_gbc_max_y',\n",
       " 'zygosity_1_sstarget_gbc_y',\n",
       " 'gex_gbc_max_y',\n",
       " 'gex_gbc_min_y',\n",
       " 'gex_gbc_mean_y',\n",
       " 'gex_gbc_std_y',\n",
       " 'gex_sscgs_gbc_max_y',\n",
       " 'gex_sscgs_gbc_min_y',\n",
       " 'gex_sscgs_gbc_mean_y',\n",
       " 'gex_sscgs_gbc_std_y',\n",
       " 'gex_sstarget_gbc_max_y',\n",
       " 'gex_sstarget_gbc_min_y',\n",
       " 'gex_sstarget_gbc_mean_y',\n",
       " 'gex_sstarget_gbc_std_y',\n",
       " 'methyl_ilse_beta_max_y',\n",
       " 'methyl_ilse_beta_min_y',\n",
       " 'methyl_ilse_beta_mean_y',\n",
       " 'methyl_ilse_beta_std_y',\n",
       " 'methyl_probe_beta_max_y',\n",
       " 'methyl_probe_beta_min_y',\n",
       " 'methyl_probe_beta_mean_y',\n",
       " 'methyl_probe_beta_std_y',\n",
       " 'methyl_probe_beta_drug_to_hgnc_target_max_y',\n",
       " 'methyl_probe_beta_drug_to_hgnc_target_min_y',\n",
       " 'methyl_probe_beta_drug_to_hgnc_target_mean_y',\n",
       " 'methyl_probe_beta_drug_to_hgnc_target_std_y',\n",
       " 'methyl_probe_beta_cancer_gene_census_max_y',\n",
       " 'methyl_probe_beta_cancer_gene_census_min_y',\n",
       " 'methyl_probe_beta_cancer_gene_census_mean_y',\n",
       " 'methyl_probe_beta_cancer_gene_census_std_y',\n",
       " 'methyl_probe_beta_dmr_max_y',\n",
       " 'methyl_probe_beta_dmr_min_y',\n",
       " 'methyl_probe_beta_dmr_mean_y',\n",
       " 'methyl_probe_beta_dmr_std_y',\n",
       " 'methyl_probe_beta_has_snp_max_y',\n",
       " 'methyl_probe_beta_has_snp_min_y',\n",
       " 'methyl_probe_beta_has_snp_mean_y',\n",
       " 'methyl_probe_beta_has_snp_std_y',\n",
       " 'methyl_probe_beta_cdmr_max_y',\n",
       " 'methyl_probe_beta_cdmr_min_y',\n",
       " 'methyl_probe_beta_cdmr_mean_y',\n",
       " 'methyl_probe_beta_cdmr_std_y',\n",
       " 'methyl_probe_beta_rdmr_max_y',\n",
       " 'methyl_probe_beta_rdmr_min_y',\n",
       " 'methyl_probe_beta_rdmr_mean_y',\n",
       " 'methyl_probe_beta_rdmr_std_y',\n",
       " 'methyl_probe_beta_enhancer_max_y',\n",
       " 'methyl_probe_beta_enhancer_min_y',\n",
       " 'methyl_probe_beta_enhancer_mean_y',\n",
       " 'methyl_probe_beta_enhancer_std_y',\n",
       " 'methyl_ilse_m_max_y',\n",
       " 'methyl_ilse_m_min_y',\n",
       " 'methyl_ilse_m_mean_y',\n",
       " 'methyl_ilse_m_std_y',\n",
       " 'methyl_probe_m_max_y',\n",
       " 'methyl_probe_m_min_y',\n",
       " 'methyl_probe_m_mean_y',\n",
       " 'methyl_probe_m_std_y',\n",
       " 'methyl_probe_m_drug_to_hgnc_target_max_y',\n",
       " 'methyl_probe_m_drug_to_hgnc_target_min_y',\n",
       " 'methyl_probe_m_drug_to_hgnc_target_mean_y',\n",
       " 'methyl_probe_m_drug_to_hgnc_target_std_y',\n",
       " 'methyl_probe_m_cancer_gene_census_max_y',\n",
       " 'methyl_probe_m_cancer_gene_census_min_y',\n",
       " 'methyl_probe_m_cancer_gene_census_mean_y',\n",
       " 'methyl_probe_m_cancer_gene_census_std_y',\n",
       " 'methyl_probe_m_dmr_max_y',\n",
       " 'methyl_probe_m_dmr_min_y',\n",
       " 'methyl_probe_m_dmr_mean_y',\n",
       " 'methyl_probe_m_dmr_std_y',\n",
       " 'methyl_probe_m_has_snp_max_y',\n",
       " 'methyl_probe_m_has_snp_min_y',\n",
       " 'methyl_probe_m_has_snp_mean_y',\n",
       " 'methyl_probe_m_has_snp_std_y',\n",
       " 'methyl_probe_m_cdmr_max_y',\n",
       " 'methyl_probe_m_cdmr_min_y',\n",
       " 'methyl_probe_m_cdmr_mean_y',\n",
       " 'methyl_probe_m_cdmr_std_y',\n",
       " 'methyl_probe_m_rdmr_max_y',\n",
       " 'methyl_probe_m_rdmr_min_y',\n",
       " 'methyl_probe_m_rdmr_mean_y',\n",
       " 'methyl_probe_m_rdmr_std_y',\n",
       " 'methyl_probe_m_enhancer_max_y',\n",
       " 'methyl_probe_m_enhancer_min_y',\n",
       " 'methyl_probe_m_enhancer_mean_y',\n",
       " 'methyl_probe_m_enhancer_std_y',\n",
       " 'age_y',\n",
       " 'tumour_origin_NS_y',\n",
       " 'tumour_origin_metastasis_y',\n",
       " 'tumour_origin_primary_y',\n",
       " 'primary_histology_carcinoma_y',\n",
       " 'primary_histology_lymphoid_neoplasm_y',\n",
       " 'primary_histology_malignant_melanoma_y',\n",
       " 'histology_subtype_NS_y',\n",
       " 'histology_subtype_adenocarcinoma_y',\n",
       " 'histology_subtype_bronchioloalveolar_adenocarcinoma_y',\n",
       " 'histology_subtype_ductal_carcinoma_y',\n",
       " 'histology_subtype_mixed_adenosquamous_carcinoma_y',\n",
       " 'histology_subtype_non_small_cell_carcinoma_y',\n",
       " 'histology_subtype_plasma_cell_myeloma_y',\n",
       " 'histology_subtype_small_cell_carcinoma_y',\n",
       " 'histology_subtype_squamous_cell_carcinoma_y',\n",
       " 'histology_subtype_transitional_cell_carcinoma_y',\n",
       " 'f_mutation_very_bad_density_gbc_max_y',\n",
       " 'f_mutation_very_bad_density_gbc_mean_y',\n",
       " 'f_mutation_very_bad_density_gbc_std_y',\n",
       " 'f_mutation_mild_density_gbc_max_y',\n",
       " 'f_mutation_mild_density_gbc_mean_y',\n",
       " 'f_mutation_mild_density_gbc_std_y',\n",
       " 'f_maybe_somatic_density_gbc_max_y',\n",
       " 'f_maybe_somatic_density_gbc_mean_y',\n",
       " 'f_maybe_somatic_density_gbc_std_y',\n",
       " 'f_mutation_density_gbc_max_y',\n",
       " 'f_mutation_density_gbc_min_y',\n",
       " 'f_mutation_density_gbc_mean_y',\n",
       " 'f_mutation_density_gbc_std_y',\n",
       " 'f_mutation_density_gbc_median_y',\n",
       " 'f_homozygous_density_gbc_max_y',\n",
       " 'f_homozygous_density_gbc_mean_y',\n",
       " 'f_homozygous_density_gbc_std_y',\n",
       " 'f_mutation_maybe_bad_density_gbc_max_y',\n",
       " 'f_mutation_maybe_bad_density_gbc_mean_y',\n",
       " 'f_mutation_maybe_bad_density_gbc_std_y',\n",
       " 'f_mutation_maybe_bad_density_gbc_median_y',\n",
       " 'f_snp_density_gbc_max_y',\n",
       " 'f_snp_density_gbc_mean_y',\n",
       " 'f_snp_density_gbc_std_y',\n",
       " 'achilles_rnai_y',\n",
       " 'achilles_rnai_gs_y',\n",
       " 'max_conc_gbd_mean_mean_y',\n",
       " 'max_conc_gbd_mean_diff_y',\n",
       " 'max_conc_gbd_std_mean_y',\n",
       " 'max_conc_gbd_std_diff_y',\n",
       " 'max_conc_gbd_max_mean_y',\n",
       " 'max_conc_gbd_max_diff_y',\n",
       " 'max_conc_gbd_min_mean_y',\n",
       " 'max_conc_gbd_min_diff_y',\n",
       " 'ic50_gbd_mean_mean_y',\n",
       " 'ic50_gbd_mean_diff_y',\n",
       " 'ic50_gbd_std_mean_y',\n",
       " 'ic50_gbd_std_diff_y',\n",
       " 'ic50_gbd_max_mean_y',\n",
       " 'ic50_gbd_max_diff_y',\n",
       " 'ic50_gbd_min_mean_y',\n",
       " 'ic50_gbd_min_diff_y',\n",
       " 'h_gbd_mean_mean_y',\n",
       " 'h_gbd_mean_diff_y',\n",
       " 'h_gbd_std_mean_y',\n",
       " 'h_gbd_std_diff_y',\n",
       " 'h_gbd_min_mean_y',\n",
       " 'h_gbd_min_diff_y',\n",
       " 'einf_gbd_mean_mean_y',\n",
       " 'einf_gbd_mean_diff_y',\n",
       " 'einf_gbd_std_mean_y',\n",
       " 'einf_gbd_std_diff_y',\n",
       " 'einf_gbd_max_mean_y',\n",
       " 'einf_gbd_max_diff_y',\n",
       " 'count_gbd_mean_y',\n",
       " 'count_gbd_diff_y',\n",
       " 'delta_cn_gbg_mean_mean_y',\n",
       " 'delta_cn_gbg_mean_diff_y',\n",
       " 'min_cn_gbg_mean_mean_y',\n",
       " 'min_cn_gbg_mean_diff_y',\n",
       " 'zygosity_2_gbg_mean_mean_y',\n",
       " 'zygosity_2_gbg_mean_diff_y',\n",
       " 'disruption_status_gbg_max_max_mean_y',\n",
       " 'disruption_status_gbg_max_max_diff_y',\n",
       " 'zygosity_1_gbg_mean_mean_y',\n",
       " 'zygosity_1_gbg_mean_diff_y',\n",
       " 'delta_cn_gbg_stitch_mean_mean_y',\n",
       " 'delta_cn_gbg_stitch_mean_diff_y',\n",
       " 'min_cn_gbg_stitch_mean_mean_y',\n",
       " 'min_cn_gbg_stitch_mean_diff_y',\n",
       " 'zygosity_2_gbg_stitch_mean_mean_y',\n",
       " 'zygosity_2_gbg_stitch_mean_diff_y',\n",
       " 'disruption_status_gbg_max_stitch_max_mean_y',\n",
       " 'disruption_status_gbg_max_stitch_max_diff_y',\n",
       " 'zygosity_1_gbg_stitch_mean_mean_y',\n",
       " 'zygosity_1_gbg_stitch_mean_diff_y',\n",
       " 'gex_gbg_max_max_mean_y',\n",
       " 'gex_gbg_max_max_diff_y',\n",
       " 'gex_gbg_min_min_mean_y',\n",
       " 'gex_gbg_min_min_diff_y',\n",
       " 'gex_gbg_mean_mean_mean_y',\n",
       " 'gex_gbg_mean_mean_diff_y',\n",
       " 'gex_gbg_std_mean_mean_y',\n",
       " 'gex_gbg_std_mean_diff_y',\n",
       " 'gex_gbg_max_stitch_max_mean_y',\n",
       " 'gex_gbg_max_stitch_max_diff_y',\n",
       " 'gex_gbg_min_stitch_min_mean_y',\n",
       " 'gex_gbg_min_stitch_min_diff_y',\n",
       " 'gex_gbg_mean_stitch_mean_mean_y',\n",
       " 'gex_gbg_mean_stitch_mean_diff_y',\n",
       " 'gex_gbg_std_stitch_mean_mean_y',\n",
       " 'gex_gbg_std_stitch_mean_diff_y',\n",
       " 'methyl_probe_m_gbg_max_max_mean_y',\n",
       " 'methyl_probe_m_gbg_max_max_diff_y',\n",
       " 'methyl_probe_m_gbg_min_min_mean_y',\n",
       " 'methyl_probe_m_gbg_min_min_diff_y',\n",
       " 'methyl_probe_m_gbg_mean_mean_mean_y',\n",
       " 'methyl_probe_m_gbg_mean_mean_diff_y',\n",
       " 'methyl_probe_m_gbg_std_mean_mean_y',\n",
       " 'methyl_probe_m_gbg_std_mean_diff_y',\n",
       " 'methyl_probe_beta_gbg_max_max_mean_y',\n",
       " 'methyl_probe_beta_gbg_max_max_diff_y',\n",
       " 'methyl_probe_beta_gbg_min_min_mean_y',\n",
       " 'methyl_probe_beta_gbg_min_min_diff_y',\n",
       " 'methyl_probe_beta_gbg_mean_mean_mean_y',\n",
       " 'methyl_probe_beta_gbg_mean_mean_diff_y',\n",
       " 'methyl_probe_beta_gbg_std_mean_mean_y',\n",
       " 'methyl_probe_beta_gbg_std_mean_diff_y',\n",
       " 'methyl_probe_m_gbg_max_stitch_max_mean_y',\n",
       " 'methyl_probe_m_gbg_max_stitch_max_diff_y',\n",
       " 'methyl_probe_m_gbg_min_stitch_min_mean_y',\n",
       " 'methyl_probe_m_gbg_min_stitch_min_diff_y',\n",
       " 'methyl_probe_m_gbg_mean_stitch_mean_mean_y',\n",
       " 'methyl_probe_m_gbg_mean_stitch_mean_diff_y',\n",
       " 'methyl_probe_m_gbg_std_stitch_mean_mean_y',\n",
       " 'methyl_probe_m_gbg_std_stitch_mean_diff_y',\n",
       " 'methyl_probe_beta_gbg_max_stitch_max_mean_y',\n",
       " 'methyl_probe_beta_gbg_max_stitch_max_diff_y',\n",
       " 'methyl_probe_beta_gbg_min_stitch_min_mean_y',\n",
       " 'methyl_probe_beta_gbg_min_stitch_min_diff_y',\n",
       " 'methyl_probe_beta_gbg_mean_stitch_mean_mean_y',\n",
       " 'methyl_probe_beta_gbg_mean_stitch_mean_diff_y',\n",
       " 'methyl_probe_beta_gbg_std_stitch_mean_mean_y',\n",
       " 'methyl_probe_beta_gbg_std_stitch_mean_diff_y',\n",
       " 'f_mutation_very_bad_density_gbg_mean_mean_y',\n",
       " 'f_mutation_very_bad_density_gbg_mean_diff_y',\n",
       " 'f_mutation_mild_density_gbg_mean_mean_y',\n",
       " 'f_mutation_mild_density_gbg_mean_diff_y',\n",
       " 'f_maybe_somatic_density_gbg_mean_mean_y',\n",
       " 'f_maybe_somatic_density_gbg_mean_diff_y',\n",
       " 'f_mutation_density_gbg_mean_mean_y',\n",
       " 'f_mutation_density_gbg_mean_diff_y',\n",
       " 'f_homozygous_density_gbg_mean_mean_y',\n",
       " 'f_homozygous_density_gbg_mean_diff_y',\n",
       " 'f_mutation_maybe_bad_density_gbg_mean_mean_y',\n",
       " 'f_mutation_maybe_bad_density_gbg_mean_diff_y',\n",
       " 'f_snp_density_gbg_mean_mean_y',\n",
       " 'f_snp_density_gbg_mean_diff_y',\n",
       " 'f_mutation_very_bad_density_gbg_stitch_mean_mean_y',\n",
       " 'f_mutation_very_bad_density_gbg_stitch_mean_diff_y',\n",
       " 'f_mutation_mild_density_gbg_stitch_mean_mean_y',\n",
       " 'f_mutation_mild_density_gbg_stitch_mean_diff_y',\n",
       " 'f_maybe_somatic_density_gbg_stitch_mean_mean_y',\n",
       " 'f_maybe_somatic_density_gbg_stitch_mean_diff_y',\n",
       " 'f_mutation_density_gbg_stitch_mean_mean_y',\n",
       " 'f_mutation_density_gbg_stitch_mean_diff_y',\n",
       " 'f_homozygous_density_gbg_stitch_mean_mean_y',\n",
       " 'f_homozygous_density_gbg_stitch_mean_diff_y',\n",
       " 'f_mutation_maybe_bad_density_gbg_stitch_mean_mean_y',\n",
       " 'f_mutation_maybe_bad_density_gbg_stitch_mean_diff_y',\n",
       " 'f_snp_density_gbg_stitch_mean_mean_y',\n",
       " 'f_snp_density_gbg_stitch_mean_diff_y',\n",
       " 'achilles_rnai_mean_mean_y',\n",
       " 'achilles_rnai_mean_diff_y',\n",
       " 'achilles_rnai_gs_mean_mean_y',\n",
       " 'achilles_rnai_gs_mean_diff_y',\n",
       " 'achilles_rnai_stitch_mean_mean_y',\n",
       " 'achilles_rnai_stitch_mean_diff_y',\n",
       " 'achilles_rnai_gs_stitch_mean_mean_y',\n",
       " 'achilles_rnai_gs_stitch_mean_diff_y',\n",
       " 'max_conc_gbdc_mean_mean_y',\n",
       " 'max_conc_gbdc_mean_diff_y',\n",
       " 'max_conc_gbdc_std_mean_y',\n",
       " 'max_conc_gbdc_std_diff_y',\n",
       " 'max_conc_gbdc_max_mean_y',\n",
       " 'max_conc_gbdc_max_diff_y',\n",
       " 'max_conc_gbdc_min_mean_y',\n",
       " 'max_conc_gbdc_min_diff_y',\n",
       " 'ic50_gbdc_mean_mean_y',\n",
       " 'ic50_gbdc_mean_diff_y',\n",
       " 'ic50_gbdc_std_mean_y',\n",
       " 'ic50_gbdc_std_diff_y',\n",
       " 'ic50_gbdc_max_mean_y',\n",
       " 'ic50_gbdc_max_diff_y',\n",
       " 'ic50_gbdc_min_mean_y',\n",
       " 'ic50_gbdc_min_diff_y',\n",
       " 'h_gbdc_mean_mean_y',\n",
       " 'h_gbdc_mean_diff_y',\n",
       " 'h_gbdc_std_mean_y',\n",
       " 'h_gbdc_std_diff_y',\n",
       " 'h_gbdc_max_mean_y',\n",
       " 'h_gbdc_max_diff_y',\n",
       " 'h_gbdc_min_mean_y',\n",
       " 'h_gbdc_min_diff_y',\n",
       " 'einf_gbdc_mean_mean_y',\n",
       " 'einf_gbdc_mean_diff_y',\n",
       " 'einf_gbdc_std_mean_y',\n",
       " 'einf_gbdc_std_diff_y',\n",
       " 'einf_gbdc_max_mean_y',\n",
       " 'einf_gbdc_max_diff_y',\n",
       " 'einf_gbdc_min_mean_y',\n",
       " 'einf_gbdc_min_diff_y',\n",
       " 'count_gbdc_mean_y',\n",
       " 'count_gbdc_diff_y',\n",
       " 'min_cn_gbgc_mean_mean_y',\n",
       " 'min_cn_gbgc_mean_diff_y',\n",
       " 'delta_cn_gbgc_mean_mean_y',\n",
       " 'delta_cn_gbgc_mean_diff_y',\n",
       " 'zygosity_1_gbgc_mean_mean_y',\n",
       " 'zygosity_1_gbgc_mean_diff_y',\n",
       " 'zygosity_2_gbgc_mean_mean_y',\n",
       " 'zygosity_2_gbgc_mean_diff_y',\n",
       " 'disruption_status_gbgc_max_max_mean_y',\n",
       " 'disruption_status_gbgc_max_max_diff_y',\n",
       " 'min_cn_gbgc_stitch_mean_mean_y',\n",
       " 'min_cn_gbgc_stitch_mean_diff_y',\n",
       " 'delta_cn_gbgc_stitch_mean_mean_y',\n",
       " 'delta_cn_gbgc_stitch_mean_diff_y',\n",
       " 'zygosity_1_gbgc_stitch_mean_mean_y',\n",
       " 'zygosity_1_gbgc_stitch_mean_diff_y',\n",
       " 'zygosity_2_gbgc_stitch_mean_mean_y',\n",
       " 'zygosity_2_gbgc_stitch_mean_diff_y',\n",
       " 'disruption_status_gbgc_max_stitch_max_mean_y',\n",
       " 'disruption_status_gbgc_max_stitch_max_diff_y',\n",
       " 'gex_gbgc_mean_mean_y',\n",
       " 'gex_gbgc_mean_diff_y',\n",
       " 'gex_gbgc_stitch_mean_mean_y',\n",
       " 'gex_gbgc_stitch_mean_diff_y',\n",
       " 'methyl_probe_m_gbgc_max_max_mean_y',\n",
       " 'methyl_probe_m_gbgc_max_max_diff_y',\n",
       " 'methyl_probe_m_gbgc_min_min_mean_y',\n",
       " 'methyl_probe_m_gbgc_min_min_diff_y',\n",
       " 'methyl_probe_m_gbgc_mean_mean_mean_y',\n",
       " 'methyl_probe_m_gbgc_mean_mean_diff_y',\n",
       " 'methyl_probe_m_gbgc_std_mean_mean_y',\n",
       " 'methyl_probe_m_gbgc_std_mean_diff_y',\n",
       " 'methyl_probe_beta_gbgc_max_max_mean_y',\n",
       " 'methyl_probe_beta_gbgc_max_max_diff_y',\n",
       " 'methyl_probe_beta_gbgc_min_min_mean_y',\n",
       " 'methyl_probe_beta_gbgc_min_min_diff_y',\n",
       " 'methyl_probe_beta_gbgc_mean_mean_mean_y',\n",
       " 'methyl_probe_beta_gbgc_mean_mean_diff_y',\n",
       " 'methyl_probe_beta_gbgc_std_mean_mean_y',\n",
       " 'methyl_probe_beta_gbgc_std_mean_diff_y',\n",
       " 'methyl_probe_m_gbgc_max_stitch_max_mean_y',\n",
       " 'methyl_probe_m_gbgc_max_stitch_max_diff_y',\n",
       " 'methyl_probe_m_gbgc_min_stitch_min_mean_y',\n",
       " 'methyl_probe_m_gbgc_min_stitch_min_diff_y',\n",
       " 'methyl_probe_m_gbgc_mean_stitch_mean_mean_y',\n",
       " 'methyl_probe_m_gbgc_mean_stitch_mean_diff_y',\n",
       " 'methyl_probe_m_gbgc_std_stitch_mean_mean_y',\n",
       " 'methyl_probe_m_gbgc_std_stitch_mean_diff_y',\n",
       " 'methyl_probe_beta_gbgc_max_stitch_max_mean_y',\n",
       " 'methyl_probe_beta_gbgc_max_stitch_max_diff_y',\n",
       " 'methyl_probe_beta_gbgc_min_stitch_min_mean_y',\n",
       " 'methyl_probe_beta_gbgc_min_stitch_min_diff_y',\n",
       " 'methyl_probe_beta_gbgc_mean_stitch_mean_mean_y',\n",
       " 'methyl_probe_beta_gbgc_mean_stitch_mean_diff_y',\n",
       " 'methyl_probe_beta_gbgc_std_stitch_mean_mean_y',\n",
       " 'methyl_probe_beta_gbgc_std_stitch_mean_diff_y',\n",
       " 'f_mutation_very_bad_density_gbgc_mean_mean_y',\n",
       " 'f_mutation_very_bad_density_gbgc_mean_diff_y',\n",
       " 'f_mutation_mild_density_gbgc_mean_mean_y',\n",
       " 'f_mutation_mild_density_gbgc_mean_diff_y',\n",
       " 'f_maybe_somatic_density_gbgc_mean_mean_y',\n",
       " 'f_maybe_somatic_density_gbgc_mean_diff_y',\n",
       " 'f_mutation_density_gbgc_mean_mean_y',\n",
       " 'f_mutation_density_gbgc_mean_diff_y',\n",
       " 'f_homozygous_density_gbgc_mean_mean_y',\n",
       " 'f_homozygous_density_gbgc_mean_diff_y',\n",
       " 'f_mutation_maybe_bad_density_gbgc_mean_mean_y',\n",
       " 'f_mutation_maybe_bad_density_gbgc_mean_diff_y',\n",
       " 'f_snp_density_gbgc_mean_mean_y',\n",
       " 'f_snp_density_gbgc_mean_diff_y',\n",
       " 'f_mutation_very_bad_density_gbgc_stitch_mean_mean_y',\n",
       " 'f_mutation_very_bad_density_gbgc_stitch_mean_diff_y',\n",
       " 'f_mutation_mild_density_gbgc_stitch_mean_mean_y',\n",
       " 'f_mutation_mild_density_gbgc_stitch_mean_diff_y',\n",
       " 'f_maybe_somatic_density_gbgc_stitch_mean_mean_y',\n",
       " 'f_maybe_somatic_density_gbgc_stitch_mean_diff_y',\n",
       " 'f_mutation_density_gbgc_stitch_mean_mean_y',\n",
       " 'f_mutation_density_gbgc_stitch_mean_diff_y',\n",
       " 'f_homozygous_density_gbgc_stitch_mean_mean_y',\n",
       " 'f_homozygous_density_gbgc_stitch_mean_diff_y',\n",
       " 'f_mutation_maybe_bad_density_gbgc_stitch_mean_mean_y',\n",
       " 'f_mutation_maybe_bad_density_gbgc_stitch_mean_diff_y',\n",
       " 'f_snp_density_gbgc_stitch_mean_mean_y',\n",
       " 'f_snp_density_gbgc_stitch_mean_diff_y',\n",
       " 'achilles_rnai_mean_mean_stitch_y',\n",
       " 'achilles_rnai_mean_diff_stitch_y',\n",
       " 'achilles_rnai_gs_mean_mean_stitch_y',\n",
       " 'achilles_rnai_gs_mean_diff_stitch_y',\n",
       " 'achilles_rnai_stitch_mean_mean_stitch_y',\n",
       " 'achilles_rnai_stitch_mean_diff_stitch_y',\n",
       " 'achilles_rnai_gs_stitch_mean_mean_stitch_y',\n",
       " 'achilles_rnai_gs_stitch_mean_diff_stitch_y',\n",
       " 'count_gbdd_dup_y',\n",
       " 'synergy_score_gbdd_mean_y',\n",
       " 'count_gbc_dup_y',\n",
       " 'synergy_score_gbc_mean_y',\n",
       " 'synergy_score_gbdc_mean_mean_y',\n",
       " 'synergy_score_gbdc_mean_diff_y',\n",
       " 'synergy_score_gbd_mean_mean_y',\n",
       " 'synergy_score_gbd_mean_diff_y',\n",
       " 'count_gbcc_x',\n",
       " 'synergy_score_diff_gbcc_mean_x',\n",
       " 'count_gbdddd_x',\n",
       " 'synergy_score_diff_gbdddd_mean_x',\n",
       " 'synergy_score_gbcc_mean',\n",
       " 'synergy_score_gbdddd_mean',\n",
       " 'synergy_score_diff_gbdcdc_mean',\n",
       " 'synergy_score_gbdcdc_mean',\n",
       " 'max_conc_max_diff',\n",
       " 'max_conc_min_diff',\n",
       " 'max_conc_diff_diff',\n",
       " 'max_conc_same_diff',\n",
       " 'ic50_mean_diff',\n",
       " 'ic50_diff_diff',\n",
       " 'h_mean_diff',\n",
       " 'h_diff_diff',\n",
       " 'einf_mean_diff',\n",
       " 'einf_diff_diff',\n",
       " 'count_gbdd_diff',\n",
       " 'max_conc_gbdd_mean_max_diff',\n",
       " 'max_conc_gbdd_mean_min_diff',\n",
       " 'max_conc_gbdd_mean_diff_diff',\n",
       " 'max_conc_gbdd_mean_same_diff',\n",
       " 'max_conc_gbdd_std_max_diff',\n",
       " 'max_conc_gbdd_std_min_diff',\n",
       " 'max_conc_gbdd_std_diff_diff',\n",
       " 'max_conc_gbdd_std_same_diff',\n",
       " 'max_conc_gbdd_max_max_diff',\n",
       " 'max_conc_gbdd_max_min_diff',\n",
       " 'max_conc_gbdd_max_diff_diff',\n",
       " 'max_conc_gbdd_max_same_diff',\n",
       " 'max_conc_gbdd_min_max_diff',\n",
       " 'max_conc_gbdd_min_min_diff',\n",
       " 'max_conc_gbdd_min_diff_diff',\n",
       " 'max_conc_gbdd_min_same_diff',\n",
       " 'ic50_gbdd_mean_mean_diff',\n",
       " 'ic50_gbdd_mean_diff_diff',\n",
       " 'ic50_gbdd_std_mean_diff',\n",
       " 'ic50_gbdd_std_diff_diff',\n",
       " 'ic50_gbdd_max_mean_diff',\n",
       " 'ic50_gbdd_max_diff_diff',\n",
       " 'ic50_gbdd_min_mean_diff',\n",
       " 'ic50_gbdd_min_diff_diff',\n",
       " 'h_gbdd_mean_mean_diff',\n",
       " 'h_gbdd_mean_diff_diff',\n",
       " 'h_gbdd_std_mean_diff',\n",
       " 'h_gbdd_std_diff_diff',\n",
       " 'h_gbdd_max_mean_diff',\n",
       " 'h_gbdd_max_diff_diff',\n",
       " 'h_gbdd_min_mean_diff',\n",
       " 'h_gbdd_min_diff_diff',\n",
       " 'einf_gbdd_mean_mean_diff',\n",
       " 'einf_gbdd_mean_diff_diff',\n",
       " 'einf_gbdd_std_mean_diff',\n",
       " 'einf_gbdd_std_diff_diff',\n",
       " 'einf_gbdd_max_mean_diff',\n",
       " 'einf_gbdd_max_diff_diff',\n",
       " 'einf_gbdd_min_mean_diff',\n",
       " 'einf_gbdd_min_diff_diff',\n",
       " 'hba_mean_diff',\n",
       " 'hba_diff_diff',\n",
       " 'c_log_p_mean_diff',\n",
       " 'c_log_p_diff_diff',\n",
       " 'hbd_mean_diff',\n",
       " 'hbd_diff_diff',\n",
       " 'lipinski_mean_diff',\n",
       " 'lipinski_diff_diff',\n",
       " 'mw_mean_diff',\n",
       " 'mw_diff_diff',\n",
       " 'atom_stereo_count_mean_diff',\n",
       " 'atom_stereo_count_diff_diff',\n",
       " 'bond_stereo_count_mean_diff',\n",
       " 'bond_stereo_count_diff_diff',\n",
       " 'complexity_mean_diff',\n",
       " 'complexity_diff_diff',\n",
       " 'conformer_count3_d_mean_diff',\n",
       " 'conformer_count3_d_diff_diff',\n",
       " 'conformer_model_rmsd3_d_mean_diff',\n",
       " 'conformer_model_rmsd3_d_diff_diff',\n",
       " 'covalent_unit_count_mean_diff',\n",
       " 'covalent_unit_count_diff_diff',\n",
       " 'defined_atom_stereo_count_mean_diff',\n",
       " 'defined_atom_stereo_count_diff_diff',\n",
       " 'defined_bond_stereo_count_mean_diff',\n",
       " 'defined_bond_stereo_count_diff_diff',\n",
       " 'effective_rotor_count3_d_mean_diff',\n",
       " 'effective_rotor_count3_d_diff_diff',\n",
       " 'exact_mass_mean_diff',\n",
       " 'exact_mass_diff_diff',\n",
       " 'feature_acceptor_count3_d_mean_diff',\n",
       " 'feature_acceptor_count3_d_diff_diff',\n",
       " 'feature_anion_count3_d_mean_diff',\n",
       " 'feature_anion_count3_d_diff_diff',\n",
       " 'feature_cation_count3_d_mean_diff',\n",
       " 'feature_cation_count3_d_diff_diff',\n",
       " 'feature_count3_d_mean_diff',\n",
       " 'feature_count3_d_diff_diff',\n",
       " 'feature_donor_count3_d_mean_diff',\n",
       " 'feature_donor_count3_d_diff_diff',\n",
       " 'feature_hydrophobe_count3_d_mean_diff',\n",
       " 'feature_hydrophobe_count3_d_diff_diff',\n",
       " 'feature_ring_count3_d_mean_diff',\n",
       " 'feature_ring_count3_d_diff_diff',\n",
       " 'h_bond_acceptor_count_mean_diff',\n",
       " 'h_bond_acceptor_count_diff_diff',\n",
       " 'h_bond_donor_count_mean_diff',\n",
       " 'h_bond_donor_count_diff_diff',\n",
       " 'heavy_atom_count_mean_diff',\n",
       " 'heavy_atom_count_diff_diff',\n",
       " 'molecular_weight_mean_diff',\n",
       " 'molecular_weight_diff_diff',\n",
       " 'monoisotopic_mass_mean_diff',\n",
       " 'monoisotopic_mass_diff_diff',\n",
       " 'rotatable_bond_count_mean_diff',\n",
       " 'rotatable_bond_count_diff_diff',\n",
       " 'tpsa_mean_diff',\n",
       " 'tpsa_diff_diff',\n",
       " 'undefined_atom_stereo_count_mean_diff',\n",
       " 'undefined_atom_stereo_count_diff_diff',\n",
       " 'volume3_d_mean_diff',\n",
       " 'volume3_d_diff_diff',\n",
       " 'x_log_p_mean_diff',\n",
       " 'x_log_p_diff_diff',\n",
       " 'x_steric_quadrupole3_d_mean_diff',\n",
       " 'x_steric_quadrupole3_d_diff_diff',\n",
       " 'y_steric_quadrupole3_d_mean_diff',\n",
       " 'y_steric_quadrupole3_d_diff_diff',\n",
       " 'z_steric_quadrupole3_d_mean_diff',\n",
       " 'z_steric_quadrupole3_d_diff_diff',\n",
       " 'RDKFingerprint_Tanimoto_diff',\n",
       " 'RDKFingerprint_Dice_diff',\n",
       " 'RDKFingerprint_Cosine_diff',\n",
       " 'RDKFingerprint_Russel_diff',\n",
       " 'RDKFingerprint_Kulczynski_diff',\n",
       " 'RDKFingerprint_McConnaughey_diff',\n",
       " 'FingerprintMol_Tanimoto_diff',\n",
       " 'FingerprintMol_Dice_diff',\n",
       " 'FingerprintMol_Cosine_diff',\n",
       " 'FingerprintMol_Russel_diff',\n",
       " 'FingerprintMol_Kulczynski_diff',\n",
       " 'FingerprintMol_McConnaughey_diff',\n",
       " 'MACCSkeys_Tanimoto_diff',\n",
       " 'MACCSkeys_Dice_diff',\n",
       " 'MACCSkeys_Cosine_diff',\n",
       " 'MACCSkeys_Russel_diff',\n",
       " 'MACCSkeys_Kulczynski_diff',\n",
       " 'MACCSkeys_McConnaughey_diff',\n",
       " 'AtomPairFingerprint_Tanimoto_diff',\n",
       " 'AtomPairFingerprint_Dice_diff',\n",
       " 'AtomPairFingerprint_Cosine_diff',\n",
       " 'AtomPairFingerprint_Russel_diff',\n",
       " 'AtomPairFingerprint_Kulczynski_diff',\n",
       " 'AtomPairFingerprint_McConnaughey_diff',\n",
       " 'TopologicalTorsionFingerprint_Tanimoto_diff',\n",
       " 'TopologicalTorsionFingerprint_Dice_diff',\n",
       " 'MorganFingerprintR2_Tanimoto_diff',\n",
       " 'MorganFingerprintR2_Dice_diff',\n",
       " 'MorganFingerprintR2withFeatures_Tanimoto_diff',\n",
       " 'MorganFingerprintR2withFeatures_Dice_diff',\n",
       " 'bg_degree_mean_diff',\n",
       " 'bg_degree_max_diff',\n",
       " 'bg_degree_min_diff',\n",
       " 'bg_degree_std_diff',\n",
       " 'bg_clustering_coef_mean_diff',\n",
       " 'bg_clustering_coef_max_diff',\n",
       " 'bg_clustering_coef_min_diff',\n",
       " 'bg_clustering_coef_std_diff',\n",
       " 'bg_betweenness_mean_diff',\n",
       " 'bg_betweenness_max_diff',\n",
       " 'bg_betweenness_min_diff',\n",
       " 'bg_betweenness_std_diff',\n",
       " 'bg_closeness_mean_diff',\n",
       " 'bg_closeness_max_diff',\n",
       " 'bg_closeness_min_diff',\n",
       " 'bg_closeness_std_diff',\n",
       " 'bg_neighbor_sharing_mean_diff',\n",
       " 'bg_neighbor_sharing_max_diff',\n",
       " 'bg_neighbor_sharing_min_diff',\n",
       " 'bg_neighbor_sharing_std_diff',\n",
       " 'bg_shortest_path_length_mean_diff',\n",
       " 'bg_shortest_path_length_min_diff',\n",
       " 'bg_eb_max_max_diff',\n",
       " 'bg_eb_min_min_diff',\n",
       " 'bg_eb_mean_mean_diff',\n",
       " 'bg_eb_fraction_mean_diff',\n",
       " ...]"
      ]
     },
     "execution_count": 53,
     "metadata": {},
     "output_type": "execute_result"
    }
   ],
   "source": [
    "feature_columns"
   ]
  },
  {
   "cell_type": "code",
   "execution_count": null,
   "metadata": {
    "collapsed": true
   },
   "outputs": [],
   "source": []
  },
  {
   "cell_type": "markdown",
   "metadata": {
    "run_control": {
     "marked": false
    }
   },
   "source": [
    "## Correct features"
   ]
  },
  {
   "cell_type": "code",
   "execution_count": null,
   "metadata": {
    "collapsed": true,
    "run_control": {
     "marked": false
    }
   },
   "outputs": [],
   "source": [
    "# Main features"
   ]
  },
  {
   "cell_type": "code",
   "execution_count": null,
   "metadata": {
    "collapsed": true,
    "run_control": {
     "marked": false
    }
   },
   "outputs": [],
   "source": [
    "assert ALL_TRAINING_DATA_PAIR['same_cell'].any()\n",
    "assert ALL_TRAINING_DATA_PAIR['same_drug_pair'].any()\n",
    "assert ALL_TRAINING_DATA_PAIR['same_drug'].any()\n",
    "\n",
    "assert not (ALL_TRAINING_DATA_PAIR['same_drug_pair'] & ALL_TRAINING_DATA_PAIR['same_drug']).any()"
   ]
  },
  {
   "cell_type": "code",
   "execution_count": null,
   "metadata": {
    "collapsed": true,
    "run_control": {
     "marked": false
    }
   },
   "outputs": [],
   "source": []
  }
 ],
 "metadata": {
  "kernelspec": {
   "display_name": "Python 3",
   "language": "python",
   "name": "python3"
  },
  "language_info": {
   "codemirror_mode": {
    "name": "ipython",
    "version": 3
   },
   "file_extension": ".py",
   "mimetype": "text/x-python",
   "name": "python",
   "nbconvert_exporter": "python",
   "pygments_lexer": "ipython3",
   "version": "3.5.1"
  }
 },
 "nbformat": 4,
 "nbformat_minor": 0
}
