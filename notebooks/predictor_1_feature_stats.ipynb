{
 "cells": [
  {
   "cell_type": "markdown",
   "metadata": {
    "collapsed": true
   },
   "source": [
    "# Intro"
   ]
  },
  {
   "cell_type": "code",
   "execution_count": 2,
   "metadata": {
    "collapsed": false
   },
   "outputs": [
    {
     "name": "stderr",
     "output_type": "stream",
     "text": [
      "/home/kimlab1/strokach/anaconda3/lib/python3.5/site-packages/IPython/html.py:14: ShimWarning: The `IPython.html` package has been deprecated. You should import from `notebook` instead. `IPython.html.widgets` has moved to `ipywidgets`.\n",
      "  \"`IPython.html.widgets` has moved to `ipywidgets`.\", ShimWarning)\n"
     ]
    }
   ],
   "source": [
    "import os\n",
    "import os.path as op\n",
    "\n",
    "import numpy as np\n",
    "import scipy as sp\n",
    "import scipy.stats\n",
    "import pandas as pd\n",
    "import sqlalchemy as sa\n",
    "\n",
    "from IPython.display import display, HTML\n",
    "import matplotlib.pyplot as plt\n",
    "\n",
    "import qgrid\n",
    "qgrid.nbinstall(overwrite=True)\n",
    "qgrid.set_defaults(remote_js=True, precision=4)\n",
    "\n",
    "from common import dat"
   ]
  },
  {
   "cell_type": "code",
   "execution_count": 3,
   "metadata": {
    "collapsed": true
   },
   "outputs": [],
   "source": [
    "import pandas as pd\n",
    "pd.set_option('display.max_rows', 500)\n",
    "pd.set_option('display.max_columns', 500)\n",
    "pd.set_option('display.width', 1000)"
   ]
  },
  {
   "cell_type": "code",
   "execution_count": 4,
   "metadata": {
    "collapsed": false
   },
   "outputs": [
    {
     "name": "stderr",
     "output_type": "stream",
     "text": [
      "/home/kimlab1/strokach/anaconda3/lib/python3.5/site-packages/matplotlib/__init__.py:872: UserWarning: axes.color_cycle is deprecated and replaced with axes.prop_cycle; please use the latter.\n",
      "  warnings.warn(self.msg_depr % (key, alt_key))\n"
     ]
    }
   ],
   "source": [
    "import seaborn as sns\n",
    "sns.set_context('notebook', font_scale=2)"
   ]
  },
  {
   "cell_type": "code",
   "execution_count": 5,
   "metadata": {
    "collapsed": false
   },
   "outputs": [],
   "source": [
    "%matplotlib inline\n",
    "%load_ext autoreload\n",
    "%autoreload 2"
   ]
  },
  {
   "cell_type": "code",
   "execution_count": null,
   "metadata": {
    "collapsed": false
   },
   "outputs": [],
   "source": []
  },
  {
   "cell_type": "markdown",
   "metadata": {},
   "source": [
    "# Load data"
   ]
  },
  {
   "cell_type": "code",
   "execution_count": 24,
   "metadata": {
    "collapsed": false
   },
   "outputs": [],
   "source": [
    "# Load drug info data\n",
    "\n",
    "# az_dream\n",
    "engine = sa.create_engine('mysql://strokach:@192.168.6.19:3306/az_dream')\n",
    "drug_info_release_3 = pd.read_sql_table('drug_info_release_3', engine)\n",
    "drug_to_cid = pd.read_sql_table('drug_to_cid', engine)\n",
    "drug_to_target = pd.read_sql_table('drug_to_target', engine)\n",
    "\n",
    "# az_dream_data\n",
    "engine = sa.create_engine('mysql://strokach:@192.168.6.19:3306/az_dream_data')\n",
    "training_gby_drug = pd.read_sql_table('training_gby_drug', engine)\n",
    "training_gby_drugpair = pd.read_sql_table('training_gby_drugpair', engine)\n",
    "training_gby_cell = pd.read_sql_table('training_gby_cell', engine)\n",
    "\n",
    "# training data (can also be validation data)\n",
    "training = pd.read_sql_table('training', engine)"
   ]
  },
  {
   "cell_type": "code",
   "execution_count": 84,
   "metadata": {
    "collapsed": true,
    "run_control": {
     "marked": true
    }
   },
   "outputs": [],
   "source": [
    "main_df = training.copy()"
   ]
  },
  {
   "cell_type": "code",
   "execution_count": 27,
   "metadata": {
    "collapsed": false
   },
   "outputs": [
    {
     "data": {
      "text/html": [
       "<div>\n",
       "<table border=\"1\" class=\"dataframe\">\n",
       "  <thead>\n",
       "    <tr style=\"text-align: right;\">\n",
       "      <th></th>\n",
       "      <th>CELL_LINE</th>\n",
       "      <th>COMPOUND_A</th>\n",
       "      <th>COMPOUND_B</th>\n",
       "      <th>MAX_CONC_A</th>\n",
       "      <th>MAX_CONC_B</th>\n",
       "      <th>IC50_A</th>\n",
       "      <th>H_A</th>\n",
       "      <th>Einf_A</th>\n",
       "      <th>IC50_B</th>\n",
       "      <th>H_B</th>\n",
       "      <th>Einf_B</th>\n",
       "      <th>SYNERGY_SCORE</th>\n",
       "      <th>QA</th>\n",
       "      <th>COMBINATION_ID</th>\n",
       "    </tr>\n",
       "  </thead>\n",
       "  <tbody>\n",
       "    <tr>\n",
       "      <th>0</th>\n",
       "      <td>BT-20</td>\n",
       "      <td>ADAM17</td>\n",
       "      <td>AKT</td>\n",
       "      <td>1</td>\n",
       "      <td>75</td>\n",
       "      <td>1.000000</td>\n",
       "      <td>0.809002</td>\n",
       "      <td>59.122436</td>\n",
       "      <td>9.639714</td>\n",
       "      <td>0.757977</td>\n",
       "      <td>91.593425</td>\n",
       "      <td>29.540390</td>\n",
       "      <td>1</td>\n",
       "      <td>ADAM17.AKT</td>\n",
       "    </tr>\n",
       "    <tr>\n",
       "      <th>1</th>\n",
       "      <td>CAL-120</td>\n",
       "      <td>ADAM17</td>\n",
       "      <td>AKT</td>\n",
       "      <td>1</td>\n",
       "      <td>75</td>\n",
       "      <td>0.183214</td>\n",
       "      <td>2.503678</td>\n",
       "      <td>60.411999</td>\n",
       "      <td>1.000000</td>\n",
       "      <td>0.000000</td>\n",
       "      <td>100.000000</td>\n",
       "      <td>4.401410</td>\n",
       "      <td>-1</td>\n",
       "      <td>ADAM17.AKT</td>\n",
       "    </tr>\n",
       "    <tr>\n",
       "      <th>2</th>\n",
       "      <td>CAL-51</td>\n",
       "      <td>ADAM17</td>\n",
       "      <td>AKT</td>\n",
       "      <td>1</td>\n",
       "      <td>75</td>\n",
       "      <td>1.000000</td>\n",
       "      <td>0.726984</td>\n",
       "      <td>11.150843</td>\n",
       "      <td>75.000000</td>\n",
       "      <td>0.375043</td>\n",
       "      <td>76.656479</td>\n",
       "      <td>0.315422</td>\n",
       "      <td>1</td>\n",
       "      <td>ADAM17.AKT</td>\n",
       "    </tr>\n",
       "    <tr>\n",
       "      <th>3</th>\n",
       "      <td>DU-4475</td>\n",
       "      <td>ADAM17</td>\n",
       "      <td>AKT</td>\n",
       "      <td>1</td>\n",
       "      <td>75</td>\n",
       "      <td>0.321533</td>\n",
       "      <td>10.000000</td>\n",
       "      <td>58.599487</td>\n",
       "      <td>75.000000</td>\n",
       "      <td>1.995866</td>\n",
       "      <td>6.171007</td>\n",
       "      <td>-41.734090</td>\n",
       "      <td>-1</td>\n",
       "      <td>ADAM17.AKT</td>\n",
       "    </tr>\n",
       "    <tr>\n",
       "      <th>4</th>\n",
       "      <td>HCC1143</td>\n",
       "      <td>ADAM17</td>\n",
       "      <td>AKT</td>\n",
       "      <td>1</td>\n",
       "      <td>75</td>\n",
       "      <td>0.398673</td>\n",
       "      <td>10.000000</td>\n",
       "      <td>89.098894</td>\n",
       "      <td>1.000000</td>\n",
       "      <td>0.000000</td>\n",
       "      <td>100.000000</td>\n",
       "      <td>35.532770</td>\n",
       "      <td>-1</td>\n",
       "      <td>ADAM17.AKT</td>\n",
       "    </tr>\n",
       "  </tbody>\n",
       "</table>\n",
       "</div>"
      ],
      "text/plain": [
       "  CELL_LINE COMPOUND_A COMPOUND_B  MAX_CONC_A  MAX_CONC_B    IC50_A        H_A     Einf_A     IC50_B       H_B      Einf_B  SYNERGY_SCORE  QA COMBINATION_ID\n",
       "0     BT-20     ADAM17        AKT           1          75  1.000000   0.809002  59.122436   9.639714  0.757977   91.593425      29.540390   1     ADAM17.AKT\n",
       "1   CAL-120     ADAM17        AKT           1          75  0.183214   2.503678  60.411999   1.000000  0.000000  100.000000       4.401410  -1     ADAM17.AKT\n",
       "2    CAL-51     ADAM17        AKT           1          75  1.000000   0.726984  11.150843  75.000000  0.375043   76.656479       0.315422   1     ADAM17.AKT\n",
       "3   DU-4475     ADAM17        AKT           1          75  0.321533  10.000000  58.599487  75.000000  1.995866    6.171007     -41.734090  -1     ADAM17.AKT\n",
       "4   HCC1143     ADAM17        AKT           1          75  0.398673  10.000000  89.098894   1.000000  0.000000  100.000000      35.532770  -1     ADAM17.AKT"
      ]
     },
     "execution_count": 27,
     "metadata": {},
     "output_type": "execute_result"
    }
   ],
   "source": [
    "main_df.head()"
   ]
  },
  {
   "cell_type": "code",
   "execution_count": null,
   "metadata": {
    "collapsed": true
   },
   "outputs": [],
   "source": []
  },
  {
   "cell_type": "markdown",
   "metadata": {},
   "source": [
    "## Drug pairs"
   ]
  },
  {
   "cell_type": "code",
   "execution_count": 73,
   "metadata": {
    "collapsed": false
   },
   "outputs": [
    {
     "name": "stdout",
     "output_type": "stream",
     "text": [
      "   count(distinct unique_id)\n",
      "0                         70\n"
     ]
    }
   ],
   "source": [
    "engine = sa.create_engine('mysql://strokach:@192.168.6.19:3306/az_dream')\n",
    "sql_query = \"\"\"\n",
    "select count(distinct unique_id)\n",
    "from all_drug_pairs a\n",
    "join challenge_name_to_cid d1 on (a.COMPOUND_A = d1.`ChallengeName`)\n",
    "join challenge_name_to_cid d2 on (a.COMPOUND_B = d2.`ChallengeName`)\n",
    "join chemical_interactions_v2.drug_atc_similarity f on (f.cid_1 = d1.cid and f.cid_2 = d2.cid);\n",
    "\"\"\"\n",
    "df = pd.read_sql_query(sql_query, engine)\n",
    "print(df)"
   ]
  },
  {
   "cell_type": "code",
   "execution_count": null,
   "metadata": {
    "collapsed": true
   },
   "outputs": [],
   "source": []
  },
  {
   "cell_type": "code",
   "execution_count": 74,
   "metadata": {
    "collapsed": false
   },
   "outputs": [
    {
     "name": "stdout",
     "output_type": "stream",
     "text": [
      "   count(distinct unique_id)\n",
      "0                          7\n"
     ]
    }
   ],
   "source": [
    "engine = sa.create_engine('mysql://strokach:@192.168.6.19:3306/az_dream')\n",
    "sql_query = \"\"\"\n",
    "select count(distinct unique_id)\n",
    "from all_drug_pairs a\n",
    "join challenge_name_to_cid d1 on (a.COMPOUND_A = d1.`ChallengeName`)\n",
    "join challenge_name_to_cid d2 on (a.COMPOUND_B = d2.`ChallengeName`)\n",
    "join chemical_interactions_v2.drug_chemical_similarity f on (f.cid_1 = d1.cid and f.cid_2 = d2.cid);\n",
    "\"\"\"\n",
    "df = pd.read_sql_query(sql_query, engine)\n",
    "print(df)"
   ]
  },
  {
   "cell_type": "code",
   "execution_count": null,
   "metadata": {
    "collapsed": true
   },
   "outputs": [],
   "source": []
  },
  {
   "cell_type": "code",
   "execution_count": 75,
   "metadata": {
    "collapsed": false
   },
   "outputs": [
    {
     "name": "stdout",
     "output_type": "stream",
     "text": [
      "   count(distinct unique_id)\n",
      "0                         22\n"
     ]
    }
   ],
   "source": [
    "engine = sa.create_engine('mysql://strokach:@192.168.6.19:3306/az_dream')\n",
    "sql_query = \"\"\"\n",
    "select count(distinct unique_id)\n",
    "from all_drug_pairs a\n",
    "join challenge_name_to_cid d1 on (a.COMPOUND_A = d1.`ChallengeName`)\n",
    "join challenge_name_to_cid d2 on (a.COMPOUND_B = d2.`ChallengeName`)\n",
    "join chemical_interactions_v2.drug_side_effect_similarity f on (f.cid_1 = d1.cid and f.cid_2 = d2.cid);\n",
    "\"\"\"\n",
    "df = pd.read_sql_query(sql_query, engine)\n",
    "print(df)"
   ]
  },
  {
   "cell_type": "code",
   "execution_count": null,
   "metadata": {
    "collapsed": true
   },
   "outputs": [],
   "source": []
  },
  {
   "cell_type": "markdown",
   "metadata": {},
   "source": [
    "## Target pairs"
   ]
  },
  {
   "cell_type": "code",
   "execution_count": 77,
   "metadata": {
    "collapsed": true
   },
   "outputs": [],
   "source": [
    "engine = sa.create_engine('mysql://strokach:@192.168.6.19:3306/az_dream')"
   ]
  },
  {
   "cell_type": "code",
   "execution_count": null,
   "metadata": {
    "collapsed": true
   },
   "outputs": [],
   "source": []
  },
  {
   "cell_type": "code",
   "execution_count": 78,
   "metadata": {
    "collapsed": false
   },
   "outputs": [
    {
     "name": "stdout",
     "output_type": "stream",
     "text": [
      "   count(distinct UNIQUE_ID)\n",
      "0                       5522\n"
     ]
    }
   ],
   "source": [
    "sql_query = \"\"\"\n",
    "select count(distinct UNIQUE_ID)\n",
    "from all_drug_pairs a\n",
    "join drug_to_target t1 on (a.COMPOUND_A = t1.drug)\n",
    "join drug_to_target t2 on (a.COMPOUND_B = t2.drug)\n",
    "join chemical_interactions_v2.biogrid_topo f on (f.ensp_1 = t1.ensp_idx and f.ensp_2 = t2.ensp_idx);\n",
    "\"\"\"\n",
    "df = pd.read_sql_query(sql_query, engine)\n",
    "print(df)"
   ]
  },
  {
   "cell_type": "code",
   "execution_count": null,
   "metadata": {
    "collapsed": true
   },
   "outputs": [],
   "source": []
  },
  {
   "cell_type": "code",
   "execution_count": 79,
   "metadata": {
    "collapsed": false
   },
   "outputs": [
    {
     "name": "stdout",
     "output_type": "stream",
     "text": [
      "   count(distinct UNIQUE_ID)\n",
      "0                       5443\n"
     ]
    }
   ],
   "source": [
    "sql_query = \"\"\"\n",
    "select count(distinct UNIQUE_ID)\n",
    "from all_drug_pairs a\n",
    "join drug_to_target t1 on (a.COMPOUND_A = t1.drug)\n",
    "join drug_to_target t2 on (a.COMPOUND_B = t2.drug)\n",
    "join chemical_interactions_v2.biogrid_topo_eb f on (f.ensp_1 = t1.ensp_idx and f.ensp_2 = t2.ensp_idx);\n",
    "\"\"\"\n",
    "df = pd.read_sql_query(sql_query, engine)\n",
    "print(df)"
   ]
  },
  {
   "cell_type": "code",
   "execution_count": null,
   "metadata": {
    "collapsed": true
   },
   "outputs": [],
   "source": []
  },
  {
   "cell_type": "code",
   "execution_count": 80,
   "metadata": {
    "collapsed": false
   },
   "outputs": [
    {
     "name": "stdout",
     "output_type": "stream",
     "text": [
      "   count(distinct UNIQUE_ID)\n",
      "0                       5522\n"
     ]
    }
   ],
   "source": [
    "sql_query = \"\"\"\n",
    "select count(distinct UNIQUE_ID)\n",
    "from all_drug_pairs a\n",
    "join drug_to_target t1 on (a.COMPOUND_A = t1.drug)\n",
    "join drug_to_target t2 on (a.COMPOUND_B = t2.drug)\n",
    "join chemical_interactions_v2.biogrid_topo_nsp f on (f.ensp_1 = t1.ensp_idx and f.ensp_2 = t2.ensp_idx);\n",
    "\"\"\"\n",
    "df = pd.read_sql_query(sql_query, engine)\n",
    "print(df)"
   ]
  },
  {
   "cell_type": "code",
   "execution_count": null,
   "metadata": {
    "collapsed": true
   },
   "outputs": [],
   "source": []
  },
  {
   "cell_type": "code",
   "execution_count": 81,
   "metadata": {
    "collapsed": false
   },
   "outputs": [
    {
     "name": "stdout",
     "output_type": "stream",
     "text": [
      "   count(distinct UNIQUE_ID)\n",
      "0                       5534\n"
     ]
    }
   ],
   "source": [
    "sql_query = \"\"\"\n",
    "select count(distinct UNIQUE_ID)\n",
    "from all_drug_pairs a\n",
    "join drug_to_target t1 on (a.COMPOUND_A = t1.drug)\n",
    "join drug_to_target t2 on (a.COMPOUND_B = t2.drug)\n",
    "join chemical_interactions_v2.gene_coexpression f on (f.ensp_1 = t1.ensp_idx and f.ensp_2 = t2.ensp_idx);\n",
    "\"\"\"\n",
    "df = pd.read_sql_query(sql_query, engine)\n",
    "print(df)"
   ]
  },
  {
   "cell_type": "code",
   "execution_count": null,
   "metadata": {
    "collapsed": true
   },
   "outputs": [],
   "source": []
  },
  {
   "cell_type": "code",
   "execution_count": 83,
   "metadata": {
    "collapsed": false
   },
   "outputs": [
    {
     "name": "stdout",
     "output_type": "stream",
     "text": [
      "   count(distinct UNIQUE_ID)\n",
      "0                       6910\n"
     ]
    }
   ],
   "source": [
    "sql_query = \"\"\"\n",
    "select count(distinct UNIQUE_ID)\n",
    "from all_drug_pairs a\n",
    "join drug_to_target t1 on (a.COMPOUND_A = t1.drug)\n",
    "join drug_to_target t2 on (a.COMPOUND_B = t2.drug)\n",
    "join chemical_interactions_v2.gene_essentiality f on (f.ensp = t1.ensp_idx);\n",
    "\"\"\"\n",
    "df = pd.read_sql_query(sql_query, engine)\n",
    "print(df)"
   ]
  },
  {
   "cell_type": "code",
   "execution_count": null,
   "metadata": {
    "collapsed": true
   },
   "outputs": [],
   "source": []
  },
  {
   "cell_type": "code",
   "execution_count": 84,
   "metadata": {
    "collapsed": false
   },
   "outputs": [
    {
     "name": "stdout",
     "output_type": "stream",
     "text": [
      "   count(distinct UNIQUE_ID)\n",
      "0                       5112\n"
     ]
    }
   ],
   "source": [
    "sql_query = \"\"\"\n",
    "select count(distinct UNIQUE_ID)\n",
    "from all_drug_pairs a\n",
    "join drug_to_target t1 on (a.COMPOUND_A = t1.drug)\n",
    "join drug_to_target t2 on (a.COMPOUND_B = t2.drug)\n",
    "join chemical_interactions_v2.getint_topo f on (f.ensp_1 = t1.ensp_idx and f.ensp_2 = t2.ensp_idx);\n",
    "\"\"\"\n",
    "df = pd.read_sql_query(sql_query, engine)\n",
    "print(df)"
   ]
  },
  {
   "cell_type": "code",
   "execution_count": null,
   "metadata": {
    "collapsed": true
   },
   "outputs": [],
   "source": []
  },
  {
   "cell_type": "code",
   "execution_count": 85,
   "metadata": {
    "collapsed": false
   },
   "outputs": [
    {
     "name": "stdout",
     "output_type": "stream",
     "text": [
      "   count(distinct UNIQUE_ID)\n",
      "0                       5063\n"
     ]
    }
   ],
   "source": [
    "sql_query = \"\"\"\n",
    "select count(distinct UNIQUE_ID)\n",
    "from all_drug_pairs a\n",
    "join drug_to_target t1 on (a.COMPOUND_A = t1.drug)\n",
    "join drug_to_target t2 on (a.COMPOUND_B = t2.drug)\n",
    "join chemical_interactions_v2.getint_topo_eb f on (f.ensp_1 = t1.ensp_idx and f.ensp_2 = t2.ensp_idx);\n",
    "\"\"\"\n",
    "df = pd.read_sql_query(sql_query, engine)\n",
    "print(df)"
   ]
  },
  {
   "cell_type": "code",
   "execution_count": null,
   "metadata": {
    "collapsed": true
   },
   "outputs": [],
   "source": []
  },
  {
   "cell_type": "code",
   "execution_count": 86,
   "metadata": {
    "collapsed": false
   },
   "outputs": [
    {
     "name": "stdout",
     "output_type": "stream",
     "text": [
      "   count(distinct UNIQUE_ID)\n",
      "0                       5112\n"
     ]
    }
   ],
   "source": [
    "sql_query = \"\"\"\n",
    "select count(distinct UNIQUE_ID)\n",
    "from all_drug_pairs a\n",
    "join drug_to_target t1 on (a.COMPOUND_A = t1.drug)\n",
    "join drug_to_target t2 on (a.COMPOUND_B = t2.drug)\n",
    "join chemical_interactions_v2.getint_topo_nsp f on (f.ensp_1 = t1.ensp_idx and f.ensp_2 = t2.ensp_idx);\n",
    "\"\"\"\n",
    "df = pd.read_sql_query(sql_query, engine)\n",
    "print(df)"
   ]
  },
  {
   "cell_type": "code",
   "execution_count": null,
   "metadata": {
    "collapsed": true
   },
   "outputs": [],
   "source": []
  },
  {
   "cell_type": "code",
   "execution_count": 87,
   "metadata": {
    "collapsed": false
   },
   "outputs": [
    {
     "name": "stdout",
     "output_type": "stream",
     "text": [
      "   count(distinct UNIQUE_ID)\n",
      "0                       5417\n"
     ]
    }
   ],
   "source": [
    "sql_query = \"\"\"\n",
    "select count(distinct UNIQUE_ID)\n",
    "from all_drug_pairs a\n",
    "join drug_to_target t1 on (a.COMPOUND_A = t1.drug)\n",
    "join drug_to_target t2 on (a.COMPOUND_B = t2.drug)\n",
    "join chemical_interactions_v2.go_all f on (f.ensp_1 = t1.ensp_idx and f.ensp_2 = t2.ensp_idx);\n",
    "\"\"\"\n",
    "df = pd.read_sql_query(sql_query, engine)\n",
    "print(df)"
   ]
  },
  {
   "cell_type": "code",
   "execution_count": null,
   "metadata": {
    "collapsed": true
   },
   "outputs": [],
   "source": []
  },
  {
   "cell_type": "code",
   "execution_count": 88,
   "metadata": {
    "collapsed": false
   },
   "outputs": [
    {
     "name": "stdout",
     "output_type": "stream",
     "text": [
      "   count(distinct UNIQUE_ID)\n",
      "0                       5416\n"
     ]
    }
   ],
   "source": [
    "sql_query = \"\"\"\n",
    "select count(distinct UNIQUE_ID)\n",
    "from all_drug_pairs a\n",
    "join drug_to_target t1 on (a.COMPOUND_A = t1.drug)\n",
    "join drug_to_target t2 on (a.COMPOUND_B = t2.drug)\n",
    "join chemical_interactions_v2.go_bp f on (f.ensp_1 = t1.ensp_idx and f.ensp_2 = t2.ensp_idx);\n",
    "\"\"\"\n",
    "df = pd.read_sql_query(sql_query, engine)\n",
    "print(df)"
   ]
  },
  {
   "cell_type": "code",
   "execution_count": null,
   "metadata": {
    "collapsed": true
   },
   "outputs": [],
   "source": []
  },
  {
   "cell_type": "code",
   "execution_count": 89,
   "metadata": {
    "collapsed": false
   },
   "outputs": [
    {
     "name": "stdout",
     "output_type": "stream",
     "text": [
      "   count(distinct UNIQUE_ID)\n",
      "0                       5336\n"
     ]
    }
   ],
   "source": [
    "sql_query = \"\"\"\n",
    "select count(distinct UNIQUE_ID)\n",
    "from all_drug_pairs a\n",
    "join drug_to_target t1 on (a.COMPOUND_A = t1.drug)\n",
    "join drug_to_target t2 on (a.COMPOUND_B = t2.drug)\n",
    "join chemical_interactions_v2.go_cc f on (f.ensp_1 = t1.ensp_idx and f.ensp_2 = t2.ensp_idx);\n",
    "\"\"\"\n",
    "df = pd.read_sql_query(sql_query, engine)\n",
    "print(df)"
   ]
  },
  {
   "cell_type": "code",
   "execution_count": null,
   "metadata": {
    "collapsed": true
   },
   "outputs": [],
   "source": []
  },
  {
   "cell_type": "code",
   "execution_count": 90,
   "metadata": {
    "collapsed": false
   },
   "outputs": [
    {
     "name": "stdout",
     "output_type": "stream",
     "text": [
      "   count(distinct UNIQUE_ID)\n",
      "0                       5417\n"
     ]
    }
   ],
   "source": [
    "sql_query = \"\"\"\n",
    "select count(distinct UNIQUE_ID)\n",
    "from all_drug_pairs a\n",
    "join drug_to_target t1 on (a.COMPOUND_A = t1.drug)\n",
    "join drug_to_target t2 on (a.COMPOUND_B = t2.drug)\n",
    "join chemical_interactions_v2.go_mf f on (f.ensp_1 = t1.ensp_idx and f.ensp_2 = t2.ensp_idx);\n",
    "\"\"\"\n",
    "df = pd.read_sql_query(sql_query, engine)\n",
    "print(df)"
   ]
  },
  {
   "cell_type": "code",
   "execution_count": null,
   "metadata": {
    "collapsed": true
   },
   "outputs": [],
   "source": []
  },
  {
   "cell_type": "code",
   "execution_count": 91,
   "metadata": {
    "collapsed": false
   },
   "outputs": [
    {
     "name": "stdout",
     "output_type": "stream",
     "text": [
      "   count(distinct UNIQUE_ID)\n",
      "0                       5417\n"
     ]
    }
   ],
   "source": [
    "sql_query = \"\"\"\n",
    "select count(distinct UNIQUE_ID)\n",
    "from all_drug_pairs a\n",
    "join drug_to_target t1 on (a.COMPOUND_A = t1.drug)\n",
    "join drug_to_target t2 on (a.COMPOUND_B = t2.drug)\n",
    "join chemical_interactions_v2.go_slim f on (f.ensp_1 = t1.ensp_idx and f.ensp_2 = t2.ensp_idx);\n",
    "\"\"\"\n",
    "df = pd.read_sql_query(sql_query, engine)\n",
    "print(df)"
   ]
  },
  {
   "cell_type": "code",
   "execution_count": null,
   "metadata": {
    "collapsed": true
   },
   "outputs": [],
   "source": []
  },
  {
   "cell_type": "code",
   "execution_count": 92,
   "metadata": {
    "collapsed": false
   },
   "outputs": [
    {
     "name": "stdout",
     "output_type": "stream",
     "text": [
      "   count(distinct UNIQUE_ID)\n",
      "0                       4715\n"
     ]
    }
   ],
   "source": [
    "sql_query = \"\"\"\n",
    "select count(distinct UNIQUE_ID)\n",
    "from all_drug_pairs a\n",
    "join drug_to_target t1 on (a.COMPOUND_A = t1.drug)\n",
    "join drug_to_target t2 on (a.COMPOUND_B = t2.drug)\n",
    "join chemical_interactions_v2.phylo f on (f.ensp_1 = t1.ensp_idx and f.ensp_2 = t2.ensp_idx);\n",
    "\"\"\"\n",
    "df = pd.read_sql_query(sql_query, engine)\n",
    "print(df)"
   ]
  },
  {
   "cell_type": "code",
   "execution_count": null,
   "metadata": {
    "collapsed": true
   },
   "outputs": [],
   "source": []
  },
  {
   "cell_type": "code",
   "execution_count": 93,
   "metadata": {
    "collapsed": false
   },
   "outputs": [
    {
     "name": "stdout",
     "output_type": "stream",
     "text": [
      "   count(distinct UNIQUE_ID)\n",
      "0                       5534\n"
     ]
    }
   ],
   "source": [
    "sql_query = \"\"\"\n",
    "select count(distinct UNIQUE_ID)\n",
    "from all_drug_pairs a\n",
    "join drug_to_target t1 on (a.COMPOUND_A = t1.drug)\n",
    "join drug_to_target t2 on (a.COMPOUND_B = t2.drug)\n",
    "join chemical_interactions_v2.string_topo f on (f.ensp_1 = t1.ensp_idx and f.ensp_2 = t2.ensp_idx);\n",
    "\"\"\"\n",
    "df = pd.read_sql_query(sql_query, engine)\n",
    "print(df)"
   ]
  },
  {
   "cell_type": "code",
   "execution_count": null,
   "metadata": {
    "collapsed": true
   },
   "outputs": [],
   "source": []
  },
  {
   "cell_type": "code",
   "execution_count": 94,
   "metadata": {
    "collapsed": false
   },
   "outputs": [
    {
     "name": "stdout",
     "output_type": "stream",
     "text": [
      "   count(distinct UNIQUE_ID)\n",
      "0                       5534\n"
     ]
    }
   ],
   "source": [
    "sql_query = \"\"\"\n",
    "select count(distinct UNIQUE_ID)\n",
    "from all_drug_pairs a\n",
    "join drug_to_target t1 on (a.COMPOUND_A = t1.drug)\n",
    "join drug_to_target t2 on (a.COMPOUND_B = t2.drug)\n",
    "join chemical_interactions_v2.string_topo_eb f on (f.ensp_1 = t1.ensp_idx and f.ensp_2 = t2.ensp_idx);\n",
    "\"\"\"\n",
    "df = pd.read_sql_query(sql_query, engine)\n",
    "print(df)"
   ]
  },
  {
   "cell_type": "code",
   "execution_count": null,
   "metadata": {
    "collapsed": true
   },
   "outputs": [],
   "source": []
  },
  {
   "cell_type": "code",
   "execution_count": 95,
   "metadata": {
    "collapsed": false
   },
   "outputs": [
    {
     "name": "stdout",
     "output_type": "stream",
     "text": [
      "   count(distinct UNIQUE_ID)\n",
      "0                       5534\n"
     ]
    }
   ],
   "source": [
    "sql_query = \"\"\"\n",
    "select count(distinct UNIQUE_ID)\n",
    "from all_drug_pairs a\n",
    "join drug_to_target t1 on (a.COMPOUND_A = t1.drug)\n",
    "join drug_to_target t2 on (a.COMPOUND_B = t2.drug)\n",
    "join chemical_interactions_v2.string_topo_nsp f on (f.ensp_1 = t1.ensp_idx and f.ensp_2 = t2.ensp_idx);\n",
    "\"\"\"\n",
    "df = pd.read_sql_query(sql_query, engine)\n",
    "print(df)"
   ]
  },
  {
   "cell_type": "code",
   "execution_count": null,
   "metadata": {
    "collapsed": true
   },
   "outputs": [],
   "source": []
  },
  {
   "cell_type": "code",
   "execution_count": null,
   "metadata": {
    "collapsed": true
   },
   "outputs": [],
   "source": []
  },
  {
   "cell_type": "code",
   "execution_count": null,
   "metadata": {
    "collapsed": true
   },
   "outputs": [],
   "source": []
  },
  {
   "cell_type": "code",
   "execution_count": null,
   "metadata": {
    "collapsed": true
   },
   "outputs": [],
   "source": []
  },
  {
   "cell_type": "code",
   "execution_count": null,
   "metadata": {
    "collapsed": true
   },
   "outputs": [],
   "source": []
  },
  {
   "cell_type": "code",
   "execution_count": null,
   "metadata": {
    "collapsed": true
   },
   "outputs": [],
   "source": []
  }
 ],
 "metadata": {
  "gist_id": "6830dc5039c6012c0d4c",
  "kernelspec": {
   "display_name": "Python 3",
   "language": "python",
   "name": "python3"
  },
  "language_info": {
   "codemirror_mode": {
    "name": "ipython",
    "version": 3
   },
   "file_extension": ".py",
   "mimetype": "text/x-python",
   "name": "python",
   "nbconvert_exporter": "python",
   "pygments_lexer": "ipython3",
   "version": "3.5.1"
  }
 },
 "nbformat": 4,
 "nbformat_minor": 0
}
