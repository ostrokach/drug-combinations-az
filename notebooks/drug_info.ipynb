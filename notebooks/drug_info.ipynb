{
 "cells": [
  {
   "cell_type": "markdown",
   "metadata": {
    "code_folding": [
     0
    ],
    "collapsed": true,
    "run_control": {
     "marked": false
    }
   },
   "source": [
    "# Intro"
   ]
  },
  {
   "cell_type": "code",
   "execution_count": 1,
   "metadata": {
    "code_folding": [
     0
    ],
    "collapsed": false,
    "run_control": {
     "marked": false
    }
   },
   "outputs": [
    {
     "name": "stderr",
     "output_type": "stream",
     "text": [
      "/home/kimlab1/strokach/anaconda3/lib/python3.5/site-packages/matplotlib/__init__.py:872: UserWarning: axes.color_cycle is deprecated and replaced with axes.prop_cycle; please use the latter.\n",
      "  warnings.warn(self.msg_depr % (key, alt_key))\n",
      "/home/kimlab1/strokach/anaconda3/lib/python3.5/site-packages/IPython/html.py:14: ShimWarning: The `IPython.html` package has been deprecated. You should import from `notebook` instead. `IPython.html.widgets` has moved to `ipywidgets`.\n",
      "  \"`IPython.html.widgets` has moved to `ipywidgets`.\", ShimWarning)\n"
     ]
    }
   ],
   "source": [
    "import os\n",
    "import os.path as op\n",
    "import pickle\n",
    "import time\n",
    "\n",
    "import numpy as np\n",
    "import scipy as sp\n",
    "import pandas as pd\n",
    "import sqlalchemy as sa\n",
    "\n",
    "from IPython.display import display, HTML\n",
    "import matplotlib.pyplot as plt\n",
    "import seaborn as sns\n",
    "\n",
    "import qgrid\n",
    "qgrid.nbinstall(overwrite=True)\n",
    "qgrid.set_defaults(remote_js=True, precision=4)\n",
    "\n",
    "from common import dat"
   ]
  },
  {
   "cell_type": "code",
   "execution_count": 2,
   "metadata": {
    "collapsed": false,
    "run_control": {
     "marked": false
    }
   },
   "outputs": [],
   "source": [
    "import pandas as pd\n",
    "pd.set_option('display.max_rows', 500)\n",
    "pd.set_option('display.max_columns', 500)\n",
    "pd.set_option('display.width', 1000)"
   ]
  },
  {
   "cell_type": "code",
   "execution_count": 3,
   "metadata": {
    "collapsed": false,
    "run_control": {
     "marked": false
    }
   },
   "outputs": [],
   "source": [
    "%matplotlib inline\n",
    "%load_ext autoreload\n",
    "%autoreload 2"
   ]
  },
  {
   "cell_type": "code",
   "execution_count": null,
   "metadata": {
    "collapsed": true
   },
   "outputs": [],
   "source": []
  },
  {
   "cell_type": "markdown",
   "metadata": {
    "run_control": {
     "marked": false
    }
   },
   "source": [
    "# Parse data\n",
    "\n",
    "This part can be skipped if you already ran it."
   ]
  },
  {
   "cell_type": "markdown",
   "metadata": {
    "run_control": {
     "marked": false
    }
   },
   "source": [
    "## drug_info_release"
   ]
  },
  {
   "cell_type": "code",
   "execution_count": 4,
   "metadata": {
    "code_folding": [
     0
    ],
    "collapsed": false,
    "run_control": {
     "marked": false
    }
   },
   "outputs": [],
   "source": [
    "# Read text file\n",
    "drug_info_release = pd.read_csv(\n",
    "    'challenge_data/drug_synergy_data/drug_info_release.csv/'\n",
    "    'Drug_info_release.csv', sep=',')\n",
    "\n",
    "drug_info_release_columns = list(drug_info_release.columns)"
   ]
  },
  {
   "cell_type": "code",
   "execution_count": 5,
   "metadata": {
    "code_folding": [
     0
    ],
    "collapsed": false,
    "run_control": {
     "marked": false
    },
    "scrolled": false
   },
   "outputs": [
    {
     "data": {
      "text/html": [
       "<div>\n",
       "<table border=\"1\" class=\"dataframe\">\n",
       "  <thead>\n",
       "    <tr style=\"text-align: right;\">\n",
       "      <th></th>\n",
       "      <th>ChallengeName</th>\n",
       "      <th>Target(Official Symbol)</th>\n",
       "      <th>HBA</th>\n",
       "      <th>cLogP</th>\n",
       "      <th>HBD</th>\n",
       "      <th>Lipinski</th>\n",
       "      <th>SMILES or PubChem ID</th>\n",
       "      <th>MW</th>\n",
       "    </tr>\n",
       "  </thead>\n",
       "  <tbody>\n",
       "    <tr>\n",
       "      <th>0</th>\n",
       "      <td>ADAM17</td>\n",
       "      <td>ADAM17</td>\n",
       "      <td>NaN</td>\n",
       "      <td>NaN</td>\n",
       "      <td>NaN</td>\n",
       "      <td>NaN</td>\n",
       "      <td>NaN</td>\n",
       "      <td>NaN</td>\n",
       "    </tr>\n",
       "    <tr>\n",
       "      <th>1</th>\n",
       "      <td>AKT</td>\n",
       "      <td>AKT1, AKT2, AKT3</td>\n",
       "      <td>8</td>\n",
       "      <td>1.18</td>\n",
       "      <td>5</td>\n",
       "      <td>0</td>\n",
       "      <td>c1cc(ccc1[C@H](CCO)NC(=O)C2(CCN(CC2)c3c4cc[nH]...</td>\n",
       "      <td>428.9</td>\n",
       "    </tr>\n",
       "    <tr>\n",
       "      <th>2</th>\n",
       "      <td>AKT_1</td>\n",
       "      <td>AKT*</td>\n",
       "      <td>6</td>\n",
       "      <td>3.24</td>\n",
       "      <td>3</td>\n",
       "      <td>0</td>\n",
       "      <td>c1ccc(cc1)c2cc3c(ccn4c3n[nH]c4=O)nc2c5ccc(cc5)...</td>\n",
       "      <td>407.5</td>\n",
       "    </tr>\n",
       "    <tr>\n",
       "      <th>3</th>\n",
       "      <td>AKT_PIK3C</td>\n",
       "      <td>AKT*,PIK3C*</td>\n",
       "      <td>NaN</td>\n",
       "      <td>NaN</td>\n",
       "      <td>NaN</td>\n",
       "      <td>NaN</td>\n",
       "      <td>NaN</td>\n",
       "      <td>NaN</td>\n",
       "    </tr>\n",
       "    <tr>\n",
       "      <th>4</th>\n",
       "      <td>AKT_SGK</td>\n",
       "      <td>AKT*,SGK*</td>\n",
       "      <td>NaN</td>\n",
       "      <td>NaN</td>\n",
       "      <td>NaN</td>\n",
       "      <td>NaN</td>\n",
       "      <td>NaN</td>\n",
       "      <td>NaN</td>\n",
       "    </tr>\n",
       "  </tbody>\n",
       "</table>\n",
       "</div>"
      ],
      "text/plain": [
       "  ChallengeName Target(Official Symbol)  HBA  cLogP  HBD  Lipinski                               SMILES or PubChem ID     MW\n",
       "0        ADAM17                  ADAM17  NaN    NaN  NaN       NaN                                                NaN    NaN\n",
       "1           AKT        AKT1, AKT2, AKT3    8   1.18    5         0  c1cc(ccc1[C@H](CCO)NC(=O)C2(CCN(CC2)c3c4cc[nH]...  428.9\n",
       "2         AKT_1                    AKT*    6   3.24    3         0  c1ccc(cc1)c2cc3c(ccn4c3n[nH]c4=O)nc2c5ccc(cc5)...  407.5\n",
       "3     AKT_PIK3C             AKT*,PIK3C*  NaN    NaN  NaN       NaN                                                NaN    NaN\n",
       "4       AKT_SGK               AKT*,SGK*  NaN    NaN  NaN       NaN                                                NaN    NaN"
      ]
     },
     "metadata": {},
     "output_type": "display_data"
    },
    {
     "name": "stdout",
     "output_type": "stream",
     "text": [
      "(119, 8)\n"
     ]
    }
   ],
   "source": [
    "display(drug_info_release.head())\n",
    "print(drug_info_release.shape)"
   ]
  },
  {
   "cell_type": "code",
   "execution_count": 7,
   "metadata": {
    "code_folding": [
     0
    ],
    "collapsed": false
   },
   "outputs": [],
   "source": [
    "# Save results to the database\n",
    "if False:\n",
    "    engine = sa.create_engine('mysql://strokach:@192.168.6.19:3306/az_dream')\n",
    "    drug_info_release.to_sql('drug_info_release', engine, index=False, if_exists='replace')\n",
    "    engine.execute('create unique index challenge_name_idx on drug_info_release (ChallengeName(255))')"
   ]
  },
  {
   "cell_type": "markdown",
   "metadata": {},
   "source": [
    "## drug_info_release_2"
   ]
  },
  {
   "cell_type": "code",
   "execution_count": 8,
   "metadata": {
    "code_folding": [
     0
    ],
    "collapsed": true
   },
   "outputs": [],
   "source": [
    "# Read chemical features from Pubchem\n",
    "output_filename = (\n",
    "    'challenge_data/drug_synergy_data/drug_info_release.csv/drug_info_release_2.tsv'\n",
    ")\n",
    "if not op.isfile(output_filename):\n",
    "    from functions import *\n",
    "    drug_info_release_2 = get_drug_features(drug_info_release)\n",
    "    drug_info_release_2.to_csv(output_filename, sep='\\t', index=False)\n",
    "else:\n",
    "    drug_info_release_2 = pd.read_csv(output_filename, sep='\\t')\n",
    "\n",
    "drug_info_release_2_columns = (\n",
    "    drug_info_release_columns + \n",
    "    [c for c in drug_info_release_2.columns if c not in drug_info_release_columns]\n",
    ")"
   ]
  },
  {
   "cell_type": "code",
   "execution_count": 9,
   "metadata": {
    "code_folding": [
     0
    ],
    "collapsed": false,
    "scrolled": false
   },
   "outputs": [
    {
     "data": {
      "text/html": [
       "<div>\n",
       "<table border=\"1\" class=\"dataframe\">\n",
       "  <thead>\n",
       "    <tr style=\"text-align: right;\">\n",
       "      <th></th>\n",
       "      <th>ChallengeName</th>\n",
       "      <th>Target(Official Symbol)</th>\n",
       "      <th>HBA</th>\n",
       "      <th>cLogP</th>\n",
       "      <th>HBD</th>\n",
       "      <th>Lipinski</th>\n",
       "      <th>SMILES or PubChem ID</th>\n",
       "      <th>MW</th>\n",
       "      <th>AtomStereoCount</th>\n",
       "      <th>BondStereoCount</th>\n",
       "      <th>CID</th>\n",
       "      <th>CanonicalSMILES</th>\n",
       "      <th>Charge</th>\n",
       "      <th>Complexity</th>\n",
       "      <th>ConformerCount3D</th>\n",
       "      <th>ConformerModelRMSD3D</th>\n",
       "      <th>CovalentUnitCount</th>\n",
       "      <th>DefinedAtomStereoCount</th>\n",
       "      <th>DefinedBondStereoCount</th>\n",
       "      <th>EffectiveRotorCount3D</th>\n",
       "      <th>ExactMass</th>\n",
       "      <th>FeatureAcceptorCount3D</th>\n",
       "      <th>FeatureAnionCount3D</th>\n",
       "      <th>FeatureCationCount3D</th>\n",
       "      <th>FeatureCount3D</th>\n",
       "      <th>FeatureDonorCount3D</th>\n",
       "      <th>FeatureHydrophobeCount3D</th>\n",
       "      <th>FeatureRingCount3D</th>\n",
       "      <th>Fingerprint2D</th>\n",
       "      <th>HBondAcceptorCount</th>\n",
       "      <th>HBondDonorCount</th>\n",
       "      <th>HeavyAtomCount</th>\n",
       "      <th>IUPACName</th>\n",
       "      <th>InChI</th>\n",
       "      <th>InChIKey</th>\n",
       "      <th>IsomericSMILES</th>\n",
       "      <th>IsotopeAtomCount</th>\n",
       "      <th>MolecularFormula</th>\n",
       "      <th>MolecularWeight</th>\n",
       "      <th>MonoisotopicMass</th>\n",
       "      <th>RotatableBondCount</th>\n",
       "      <th>TPSA</th>\n",
       "      <th>UndefinedAtomStereoCount</th>\n",
       "      <th>UndefinedBondStereoCount</th>\n",
       "      <th>Volume3D</th>\n",
       "      <th>XLogP</th>\n",
       "      <th>XStericQuadrupole3D</th>\n",
       "      <th>YStericQuadrupole3D</th>\n",
       "      <th>ZStericQuadrupole3D</th>\n",
       "    </tr>\n",
       "  </thead>\n",
       "  <tbody>\n",
       "    <tr>\n",
       "      <th>0</th>\n",
       "      <td>ADAM17</td>\n",
       "      <td>ADAM17</td>\n",
       "      <td>NaN</td>\n",
       "      <td>NaN</td>\n",
       "      <td>NaN</td>\n",
       "      <td>NaN</td>\n",
       "      <td>NaN</td>\n",
       "      <td>NaN</td>\n",
       "      <td>NaN</td>\n",
       "      <td>NaN</td>\n",
       "      <td>NaN</td>\n",
       "      <td>NaN</td>\n",
       "      <td>NaN</td>\n",
       "      <td>NaN</td>\n",
       "      <td>NaN</td>\n",
       "      <td>NaN</td>\n",
       "      <td>NaN</td>\n",
       "      <td>NaN</td>\n",
       "      <td>NaN</td>\n",
       "      <td>NaN</td>\n",
       "      <td>NaN</td>\n",
       "      <td>NaN</td>\n",
       "      <td>NaN</td>\n",
       "      <td>NaN</td>\n",
       "      <td>NaN</td>\n",
       "      <td>NaN</td>\n",
       "      <td>NaN</td>\n",
       "      <td>NaN</td>\n",
       "      <td>NaN</td>\n",
       "      <td>NaN</td>\n",
       "      <td>NaN</td>\n",
       "      <td>NaN</td>\n",
       "      <td>NaN</td>\n",
       "      <td>NaN</td>\n",
       "      <td>NaN</td>\n",
       "      <td>NaN</td>\n",
       "      <td>NaN</td>\n",
       "      <td>NaN</td>\n",
       "      <td>NaN</td>\n",
       "      <td>NaN</td>\n",
       "      <td>NaN</td>\n",
       "      <td>NaN</td>\n",
       "      <td>NaN</td>\n",
       "      <td>NaN</td>\n",
       "      <td>NaN</td>\n",
       "      <td>NaN</td>\n",
       "      <td>NaN</td>\n",
       "      <td>NaN</td>\n",
       "      <td>NaN</td>\n",
       "    </tr>\n",
       "    <tr>\n",
       "      <th>1</th>\n",
       "      <td>AKT</td>\n",
       "      <td>AKT1, AKT2, AKT3</td>\n",
       "      <td>8</td>\n",
       "      <td>1.18</td>\n",
       "      <td>5</td>\n",
       "      <td>0</td>\n",
       "      <td>c1cc(ccc1[C@H](CCO)NC(=O)C2(CCN(CC2)c3c4cc[nH]...</td>\n",
       "      <td>428.9</td>\n",
       "      <td>1</td>\n",
       "      <td>0</td>\n",
       "      <td>25227436</td>\n",
       "      <td>C1CN(CCC1(C(=O)NC(CCO)C2=CC=C(C=C2)Cl)N)C3=NC=...</td>\n",
       "      <td>0</td>\n",
       "      <td>580</td>\n",
       "      <td>256</td>\n",
       "      <td>1.0</td>\n",
       "      <td>1</td>\n",
       "      <td>1</td>\n",
       "      <td>0</td>\n",
       "      <td>8.2</td>\n",
       "      <td>428.172752</td>\n",
       "      <td>2</td>\n",
       "      <td>0</td>\n",
       "      <td>4</td>\n",
       "      <td>14</td>\n",
       "      <td>4</td>\n",
       "      <td>0</td>\n",
       "      <td>4</td>\n",
       "      <td>AAADceB7sAAEAAAAAAAAAAAAAAAAAWAAAAA8WIAAAAAAAF...</td>\n",
       "      <td>6</td>\n",
       "      <td>4</td>\n",
       "      <td>30</td>\n",
       "      <td>4-amino-N-[(1S)-1-(4-chlorophenyl)-3-hydroxypr...</td>\n",
       "      <td>InChI=1S/C21H25ClN6O2/c22-15-3-1-14(2-4-15)17(...</td>\n",
       "      <td>JDUBGYFRJFOXQC-KRWDZBQOSA-N</td>\n",
       "      <td>C1CN(CCC1(C(=O)N[C@@H](CCO)C2=CC=C(C=C2)Cl)N)C...</td>\n",
       "      <td>0</td>\n",
       "      <td>C21H25ClN6O2</td>\n",
       "      <td>428.91520</td>\n",
       "      <td>428.172752</td>\n",
       "      <td>6</td>\n",
       "      <td>120.0</td>\n",
       "      <td>0</td>\n",
       "      <td>0</td>\n",
       "      <td>319.3</td>\n",
       "      <td>1.7</td>\n",
       "      <td>14.27</td>\n",
       "      <td>5.17</td>\n",
       "      <td>1.08</td>\n",
       "    </tr>\n",
       "    <tr>\n",
       "      <th>2</th>\n",
       "      <td>AKT_1</td>\n",
       "      <td>AKT*</td>\n",
       "      <td>6</td>\n",
       "      <td>3.24</td>\n",
       "      <td>3</td>\n",
       "      <td>0</td>\n",
       "      <td>c1ccc(cc1)c2cc3c(ccn4c3n[nH]c4=O)nc2c5ccc(cc5)...</td>\n",
       "      <td>407.5</td>\n",
       "      <td>0</td>\n",
       "      <td>0</td>\n",
       "      <td>24964624</td>\n",
       "      <td>C1CC(C1)(C2=CC=C(C=C2)C3=C(C=C4C(=N3)C=CN5C4=N...</td>\n",
       "      <td>0</td>\n",
       "      <td>760</td>\n",
       "      <td>4</td>\n",
       "      <td>0.8</td>\n",
       "      <td>1</td>\n",
       "      <td>0</td>\n",
       "      <td>0</td>\n",
       "      <td>3.8</td>\n",
       "      <td>407.174610</td>\n",
       "      <td>2</td>\n",
       "      <td>0</td>\n",
       "      <td>1</td>\n",
       "      <td>11</td>\n",
       "      <td>2</td>\n",
       "      <td>0</td>\n",
       "      <td>6</td>\n",
       "      <td>AAADceB7oAAAAAAAAAAAAAAAAABgAQAAAAA8YIEAAAAAAE...</td>\n",
       "      <td>4</td>\n",
       "      <td>2</td>\n",
       "      <td>31</td>\n",
       "      <td>8-[4-(1-aminocyclobutyl)phenyl]-9-phenyl-2H-[1...</td>\n",
       "      <td>InChI=1S/C25H21N5O/c26-25(12-4-13-25)18-9-7-17...</td>\n",
       "      <td>ULDXWLCXEDXJGE-UHFFFAOYSA-N</td>\n",
       "      <td>C1CC(C1)(C2=CC=C(C=C2)C3=C(C=C4C(=N3)C=CN5C4=N...</td>\n",
       "      <td>0</td>\n",
       "      <td>C25H21N5O</td>\n",
       "      <td>407.46714</td>\n",
       "      <td>407.174610</td>\n",
       "      <td>3</td>\n",
       "      <td>83.6</td>\n",
       "      <td>0</td>\n",
       "      <td>0</td>\n",
       "      <td>317.2</td>\n",
       "      <td>3.0</td>\n",
       "      <td>16.28</td>\n",
       "      <td>4.11</td>\n",
       "      <td>1.07</td>\n",
       "    </tr>\n",
       "    <tr>\n",
       "      <th>3</th>\n",
       "      <td>AKT_PIK3C</td>\n",
       "      <td>AKT*,PIK3C*</td>\n",
       "      <td>NaN</td>\n",
       "      <td>NaN</td>\n",
       "      <td>NaN</td>\n",
       "      <td>NaN</td>\n",
       "      <td>NaN</td>\n",
       "      <td>NaN</td>\n",
       "      <td>NaN</td>\n",
       "      <td>NaN</td>\n",
       "      <td>NaN</td>\n",
       "      <td>NaN</td>\n",
       "      <td>NaN</td>\n",
       "      <td>NaN</td>\n",
       "      <td>NaN</td>\n",
       "      <td>NaN</td>\n",
       "      <td>NaN</td>\n",
       "      <td>NaN</td>\n",
       "      <td>NaN</td>\n",
       "      <td>NaN</td>\n",
       "      <td>NaN</td>\n",
       "      <td>NaN</td>\n",
       "      <td>NaN</td>\n",
       "      <td>NaN</td>\n",
       "      <td>NaN</td>\n",
       "      <td>NaN</td>\n",
       "      <td>NaN</td>\n",
       "      <td>NaN</td>\n",
       "      <td>NaN</td>\n",
       "      <td>NaN</td>\n",
       "      <td>NaN</td>\n",
       "      <td>NaN</td>\n",
       "      <td>NaN</td>\n",
       "      <td>NaN</td>\n",
       "      <td>NaN</td>\n",
       "      <td>NaN</td>\n",
       "      <td>NaN</td>\n",
       "      <td>NaN</td>\n",
       "      <td>NaN</td>\n",
       "      <td>NaN</td>\n",
       "      <td>NaN</td>\n",
       "      <td>NaN</td>\n",
       "      <td>NaN</td>\n",
       "      <td>NaN</td>\n",
       "      <td>NaN</td>\n",
       "      <td>NaN</td>\n",
       "      <td>NaN</td>\n",
       "      <td>NaN</td>\n",
       "      <td>NaN</td>\n",
       "    </tr>\n",
       "    <tr>\n",
       "      <th>4</th>\n",
       "      <td>AKT_SGK</td>\n",
       "      <td>AKT*,SGK*</td>\n",
       "      <td>NaN</td>\n",
       "      <td>NaN</td>\n",
       "      <td>NaN</td>\n",
       "      <td>NaN</td>\n",
       "      <td>NaN</td>\n",
       "      <td>NaN</td>\n",
       "      <td>NaN</td>\n",
       "      <td>NaN</td>\n",
       "      <td>NaN</td>\n",
       "      <td>NaN</td>\n",
       "      <td>NaN</td>\n",
       "      <td>NaN</td>\n",
       "      <td>NaN</td>\n",
       "      <td>NaN</td>\n",
       "      <td>NaN</td>\n",
       "      <td>NaN</td>\n",
       "      <td>NaN</td>\n",
       "      <td>NaN</td>\n",
       "      <td>NaN</td>\n",
       "      <td>NaN</td>\n",
       "      <td>NaN</td>\n",
       "      <td>NaN</td>\n",
       "      <td>NaN</td>\n",
       "      <td>NaN</td>\n",
       "      <td>NaN</td>\n",
       "      <td>NaN</td>\n",
       "      <td>NaN</td>\n",
       "      <td>NaN</td>\n",
       "      <td>NaN</td>\n",
       "      <td>NaN</td>\n",
       "      <td>NaN</td>\n",
       "      <td>NaN</td>\n",
       "      <td>NaN</td>\n",
       "      <td>NaN</td>\n",
       "      <td>NaN</td>\n",
       "      <td>NaN</td>\n",
       "      <td>NaN</td>\n",
       "      <td>NaN</td>\n",
       "      <td>NaN</td>\n",
       "      <td>NaN</td>\n",
       "      <td>NaN</td>\n",
       "      <td>NaN</td>\n",
       "      <td>NaN</td>\n",
       "      <td>NaN</td>\n",
       "      <td>NaN</td>\n",
       "      <td>NaN</td>\n",
       "      <td>NaN</td>\n",
       "    </tr>\n",
       "  </tbody>\n",
       "</table>\n",
       "</div>"
      ],
      "text/plain": [
       "  ChallengeName Target(Official Symbol)  HBA  cLogP  HBD  Lipinski                               SMILES or PubChem ID     MW  AtomStereoCount  BondStereoCount       CID                                    CanonicalSMILES  Charge  Complexity  ConformerCount3D  ConformerModelRMSD3D  CovalentUnitCount  DefinedAtomStereoCount  DefinedBondStereoCount  EffectiveRotorCount3D   ExactMass  FeatureAcceptorCount3D  FeatureAnionCount3D  FeatureCationCount3D  FeatureCount3D  FeatureDonorCount3D  FeatureHydrophobeCount3D  FeatureRingCount3D                                      Fingerprint2D  HBondAcceptorCount  HBondDonorCount  HeavyAtomCount                                          IUPACName                                              InChI                     InChIKey                                     IsomericSMILES  IsotopeAtomCount MolecularFormula  MolecularWeight  MonoisotopicMass  RotatableBondCount   TPSA  UndefinedAtomStereoCount  UndefinedBondStereoCount  Volume3D  XLogP  \\\n",
       "0        ADAM17                  ADAM17  NaN    NaN  NaN       NaN                                                NaN    NaN              NaN              NaN       NaN                                                NaN     NaN         NaN               NaN                   NaN                NaN                     NaN                     NaN                    NaN         NaN                     NaN                  NaN                   NaN             NaN                  NaN                       NaN                 NaN                                                NaN                 NaN              NaN             NaN                                                NaN                                                NaN                          NaN                                                NaN               NaN              NaN              NaN               NaN                 NaN    NaN                       NaN                       NaN       NaN    NaN   \n",
       "1           AKT        AKT1, AKT2, AKT3    8   1.18    5         0  c1cc(ccc1[C@H](CCO)NC(=O)C2(CCN(CC2)c3c4cc[nH]...  428.9                1                0  25227436  C1CN(CCC1(C(=O)NC(CCO)C2=CC=C(C=C2)Cl)N)C3=NC=...       0         580               256                   1.0                  1                       1                       0                    8.2  428.172752                       2                    0                     4              14                    4                         0                   4  AAADceB7sAAEAAAAAAAAAAAAAAAAAWAAAAA8WIAAAAAAAF...                   6                4              30  4-amino-N-[(1S)-1-(4-chlorophenyl)-3-hydroxypr...  InChI=1S/C21H25ClN6O2/c22-15-3-1-14(2-4-15)17(...  JDUBGYFRJFOXQC-KRWDZBQOSA-N  C1CN(CCC1(C(=O)N[C@@H](CCO)C2=CC=C(C=C2)Cl)N)C...                 0     C21H25ClN6O2        428.91520        428.172752                   6  120.0                         0                         0     319.3    1.7   \n",
       "2         AKT_1                    AKT*    6   3.24    3         0  c1ccc(cc1)c2cc3c(ccn4c3n[nH]c4=O)nc2c5ccc(cc5)...  407.5                0                0  24964624  C1CC(C1)(C2=CC=C(C=C2)C3=C(C=C4C(=N3)C=CN5C4=N...       0         760                 4                   0.8                  1                       0                       0                    3.8  407.174610                       2                    0                     1              11                    2                         0                   6  AAADceB7oAAAAAAAAAAAAAAAAABgAQAAAAA8YIEAAAAAAE...                   4                2              31  8-[4-(1-aminocyclobutyl)phenyl]-9-phenyl-2H-[1...  InChI=1S/C25H21N5O/c26-25(12-4-13-25)18-9-7-17...  ULDXWLCXEDXJGE-UHFFFAOYSA-N  C1CC(C1)(C2=CC=C(C=C2)C3=C(C=C4C(=N3)C=CN5C4=N...                 0        C25H21N5O        407.46714        407.174610                   3   83.6                         0                         0     317.2    3.0   \n",
       "3     AKT_PIK3C             AKT*,PIK3C*  NaN    NaN  NaN       NaN                                                NaN    NaN              NaN              NaN       NaN                                                NaN     NaN         NaN               NaN                   NaN                NaN                     NaN                     NaN                    NaN         NaN                     NaN                  NaN                   NaN             NaN                  NaN                       NaN                 NaN                                                NaN                 NaN              NaN             NaN                                                NaN                                                NaN                          NaN                                                NaN               NaN              NaN              NaN               NaN                 NaN    NaN                       NaN                       NaN       NaN    NaN   \n",
       "4       AKT_SGK               AKT*,SGK*  NaN    NaN  NaN       NaN                                                NaN    NaN              NaN              NaN       NaN                                                NaN     NaN         NaN               NaN                   NaN                NaN                     NaN                     NaN                    NaN         NaN                     NaN                  NaN                   NaN             NaN                  NaN                       NaN                 NaN                                                NaN                 NaN              NaN             NaN                                                NaN                                                NaN                          NaN                                                NaN               NaN              NaN              NaN               NaN                 NaN    NaN                       NaN                       NaN       NaN    NaN   \n",
       "\n",
       "   XStericQuadrupole3D  YStericQuadrupole3D  ZStericQuadrupole3D  \n",
       "0                  NaN                  NaN                  NaN  \n",
       "1                14.27                 5.17                 1.08  \n",
       "2                16.28                 4.11                 1.07  \n",
       "3                  NaN                  NaN                  NaN  \n",
       "4                  NaN                  NaN                  NaN  "
      ]
     },
     "execution_count": 9,
     "metadata": {},
     "output_type": "execute_result"
    }
   ],
   "source": [
    "drug_info_release_2[drug_info_release_2_columns].head()"
   ]
  },
  {
   "cell_type": "code",
   "execution_count": null,
   "metadata": {
    "code_folding": [],
    "collapsed": true
   },
   "outputs": [],
   "source": [
    "# Save results to the database\n",
    "engine = sa.create_engine('mysql://strokach:@192.168.6.19:3306/az_dream')\n",
    "drug_info_release_2[drug_info_release_2_columns].to_sql('drug_info_release_2', engine, if_exists='replace', index=False)\n",
    "engine.execute('create unique index challenge_name_idx on drug_info_release_2 (ChallengeName(255))')"
   ]
  },
  {
   "cell_type": "markdown",
   "metadata": {
    "code_folding": [
     0
    ],
    "collapsed": true,
    "run_control": {
     "marked": false
    }
   },
   "source": [
    "## drug_info_release_3\n",
    "\n",
    "Add names, targets, ATC codes..."
   ]
  },
  {
   "cell_type": "code",
   "execution_count": null,
   "metadata": {
    "code_folding": [
     0
    ],
    "collapsed": true
   },
   "outputs": [],
   "source": [
    "# Get data from Pubchem\n",
    "from functions import *\n",
    "\n",
    "#\n",
    "cids = drug_info_release_2[['ChallengeName', 'CID']].dropna().drop_duplicates()\n",
    "cids['CID'] = cids['CID'].astype(int)\n",
    "\n",
    "#\n",
    "challenge_name_to_cid = []\n",
    "for challenge_name, cid in cids.values:\n",
    "    for partner_cid in get_cids(cid):\n",
    "        challenge_name_to_cid.append((challenge_name, partner_cid))\n",
    "        \n",
    "# \n",
    "cid_to_sid = get_sids(set(list(zip(*challenge_name_to_cid))[1]))\n",
    "\n",
    "#\n",
    "sid_xrefs = get_sid_data(set(list(zip(*cid_to_sid))[1]))\n",
    "\n",
    "# \n",
    "(cid_to_names, cid_to_mesh_synonyms, cid_to_depositor_supplied_synonyms, \n",
    " cid_to_atc, cid_to_partner, cid_to_function) = get_atcs(set(list(zip(*cid_to_sid))[0]))"
   ]
  },
  {
   "cell_type": "code",
   "execution_count": 11,
   "metadata": {
    "code_folding": [
     0
    ],
    "collapsed": false
   },
   "outputs": [
    {
     "ename": "NameError",
     "evalue": "name 'challenge_name_to_cid' is not defined",
     "output_type": "error",
     "traceback": [
      "\u001b[1;31m---------------------------------------------------------------------------\u001b[0m",
      "\u001b[1;31mNameError\u001b[0m                                 Traceback (most recent call last)",
      "\u001b[1;32m<ipython-input-11-ac1fa7b6cd0a>\u001b[0m in \u001b[0;36m<module>\u001b[1;34m()\u001b[0m\n\u001b[0;32m      1\u001b[0m \u001b[1;31m# Save results to the database\u001b[0m\u001b[1;33m\u001b[0m\u001b[1;33m\u001b[0m\u001b[0m\n\u001b[0;32m      2\u001b[0m challenge_name_to_cid_df = (\n\u001b[1;32m----> 3\u001b[1;33m     \u001b[0mpd\u001b[0m\u001b[1;33m.\u001b[0m\u001b[0mDataFrame\u001b[0m\u001b[1;33m(\u001b[0m\u001b[0mchallenge_name_to_cid\u001b[0m\u001b[1;33m,\u001b[0m \u001b[0mcolumns\u001b[0m\u001b[1;33m=\u001b[0m\u001b[1;33m[\u001b[0m\u001b[1;34m'ChallengeName'\u001b[0m\u001b[1;33m,\u001b[0m \u001b[1;34m'cid'\u001b[0m\u001b[1;33m]\u001b[0m\u001b[1;33m)\u001b[0m\u001b[1;33m\u001b[0m\u001b[0m\n\u001b[0m\u001b[0;32m      4\u001b[0m     \u001b[1;33m.\u001b[0m\u001b[0mdrop_duplicates\u001b[0m\u001b[1;33m(\u001b[0m\u001b[1;33m)\u001b[0m\u001b[1;33m\u001b[0m\u001b[0m\n\u001b[0;32m      5\u001b[0m )\n",
      "\u001b[1;31mNameError\u001b[0m: name 'challenge_name_to_cid' is not defined"
     ]
    }
   ],
   "source": [
    "# Save results to the database\n",
    "challenge_name_to_cid_df = (\n",
    "    pd.DataFrame(challenge_name_to_cid, columns=['ChallengeName', 'cid'])\n",
    "    .drop_duplicates()\n",
    ")\n",
    "challenge_name_to_cid_df.to_sql('drug_to_cid', engine, if_exists='replace', index=False)\n",
    "engine.execute('create unique index a on drug_to_cid (ChallengeName(255), cid)')\n",
    "engine.execute('create unique index b on drug_to_cid (cid, ChallengeName(255))')\n",
    "\n",
    "\n",
    "cid_to_sid_df = (\n",
    "    pd.DataFrame(cid_to_sid, columns=['cid', 'sid'])\n",
    "    .drop_duplicates()\n",
    ")\n",
    "cid_to_sid_df.to_sql('cid_to_sid', engine, if_exists='replace', index=False)\n",
    "engine.execute('create unique index cid_to_sid_idx on cid_to_sid (cid, sid)')\n",
    "engine.execute('create unique index sid_to_cid_idx on cid_to_sid (sid, cid)')\n",
    "\n",
    "\n",
    "sid_xrefs_df = (\n",
    "    pd.DataFrame(sid_xrefs, columns=['sid', 'xref_type', 'xref_id'])\n",
    "    .drop_duplicates()\n",
    ")\n",
    "sid_xrefs_df.to_sql('sid_xrefs', engine, if_exists='replace', index=False)\n",
    "engine.execute('create unique index sid_xref_id_idx on sid_xrefs (sid, xref_id(255))')\n",
    "engine.execute('create unique index xref_id_sid_idx on sid_xrefs (xref_id(255), sid)')\n",
    "engine.execute('create unique index xref_type_xref_id_sid_idx on sid_xrefs (xref_type(255), xref_id(255), sid)')\n",
    "\n",
    "\n",
    "cid_to_name_df = (\n",
    "    pd.DataFrame(cid_to_names, columns=['cid', 'name'])\n",
    "    .drop_duplicates()\n",
    ")\n",
    "cid_to_name_df.to_sql('cid_to_name', engine, if_exists='replace', index=False)\n",
    "engine.execute('create unique index cid_to_name_idx on cid_to_name (cid, name(255))')\n",
    "engine.execute('create unique index sid_to_name_idx on cid_to_name (name(255), cid)')\n",
    "\n",
    "\n",
    "cid_to_mesh_synonyms = (\n",
    "    pd.DataFrame(cid_to_mesh_synonyms, columns=['cid', 'synonyms'])\n",
    "    .drop_duplicates()\n",
    ")\n",
    "cid_to_mesh_synonyms.to_sql('cid_to_mesh_synonyms', engine, if_exists='replace', index=False)\n",
    "engine.execute('create index cid_idx on cid_to_mesh_synonyms (cid)')\n",
    "engine.execute('create index synonyms_idx on cid_to_mesh_synonyms (synonyms)')\n",
    "\n",
    "\n",
    "cid_to_depositor_supplied_synonyms_df = (\n",
    "    pd.DataFrame(cid_to_depositor_supplied_synonyms, columns=['cid', 'synonyms'])\n",
    "    .drop_duplicates()\n",
    ")\n",
    "cid_to_depositor_supplied_synonyms_df.to_sql(\n",
    "    'cid_to_depositor_supplied_synonyms', engine, if_exists='replace', index=False)\n",
    "engine.execute('create index cid_idx on cid_to_depositor_supplied_synonyms (cid)')\n",
    "engine.execute('create index synonyms_idx on cid_to_depositor_supplied_synonyms (synonyms(255))')\n",
    "\n",
    "\n",
    "cid_to_atc_df = (\n",
    "    pd.DataFrame(cid_to_atc, columns=['cid', 'atc'])\n",
    "    .drop_duplicates()\n",
    ")\n",
    "cid_to_atc_df.to_sql('cid_to_atc', engine, if_exists='replace', index=False)\n",
    "engine.execute('create unique index cid_to_atc_idx on cid_to_atc (cid, atc(255))')\n",
    "engine.execute('create unique index atc_to_cid_idx on cid_to_atc (atc(255), cid)')\n",
    "\n",
    "\n",
    "cid_to_partner_df = (\n",
    "    pd.DataFrame(cid_to_partner, columns=['cid', 'partner_type', 'partner_name', 'partner_bioentity'])\n",
    "    .drop_duplicates()\n",
    ")\n",
    "cid_to_partner_df.to_sql('cid_to_partner', engine, if_exists='replace', index=False)\n",
    "engine.execute('create unique index cid_partner_type_partner_name_idx on cid_to_partner '\n",
    "               '(cid, partner_type(255), partner_name(255))')\n",
    "engine.execute('create unique index partner_name_to_cid_idx on cid_to_partner '\n",
    "               '(partner_type(255), partner_name(255), cid)')\n",
    "engine.execute('create index cid_to_partner_bioentity_idx on cid_to_partner (cid, partner_bioentity(255))')\n",
    "engine.execute('create index partner_bioentity_to_cid_idx on cid_to_partner (partner_bioentity(255), cid)')\n",
    "\n",
    "\n",
    "\n",
    "cid_to_function_df = (\n",
    "    pd.DataFrame(cid_to_function, columns=['cid', 'function'])\n",
    "    .drop_duplicates()\n",
    ")\n",
    "cid_to_function_df.to_sql('cid_to_function', engine, if_exists='replace', index=False)\n",
    "engine.execute('create unique index cid_function_idx on cid_to_function (cid, function(255))')\n",
    "engine.execute('create unique index function_cid_idx on cid_to_function (function(255), cid)')"
   ]
  },
  {
   "cell_type": "code",
   "execution_count": 13,
   "metadata": {
    "code_folding": [
     0
    ],
    "collapsed": false
   },
   "outputs": [],
   "source": [
    "# Load reformatted data from database\n",
    "engine = sa.create_engine('mysql://strokach:@192.168.6.19:3306/az_dream')\n",
    "engine.execute('SET SESSION group_concat_max_len = 10000000;')\n",
    "sql_query = \"\"\"\n",
    "SELECT \n",
    "    main.*,\n",
    "    GROUP_CONCAT(DISTINCT x.cid) cids,\n",
    "    GROUP_CONCAT(DISTINCT target.partner_name) targets,\n",
    "    GROUP_CONCAT(DISTINCT target.partner_bioentity) targets_bioentities,\n",
    "    GROUP_CONCAT(DISTINCT enzyme.partner_name) enzymes,\n",
    "    GROUP_CONCAT(DISTINCT enzyme.partner_bioentity) enzymes_bioentities,\n",
    "    GROUP_CONCAT(DISTINCT transporter.partner_name) transporters,\n",
    "    GROUP_CONCAT(DISTINCT transporter.partner_bioentity) transporters_bioentities,\n",
    "    GROUP_CONCAT(DISTINCT atc) atcs\n",
    "FROM\n",
    "drug_info_release_2 main\n",
    "    LEFT JOIN\n",
    "drug_to_cid x USING (ChallengeName)\n",
    "    LEFT JOIN\n",
    "cid_to_partner target ON (x.cid = target.cid and target.partner_type = 'Target')\n",
    "    LEFT JOIN\n",
    "cid_to_partner enzyme ON (x.cid = enzyme.cid and enzyme.partner_type = 'Enzyme')\n",
    "    LEFT JOIN\n",
    "cid_to_partner transporter ON (x.cid = transporter.cid and transporter.partner_type = 'Transporter')\n",
    "    LEFT JOIN\n",
    "cid_to_atc atc ON (x.cid = atc.cid)\n",
    "GROUP BY main.`ChallengeName`, main.`Target(Official Symbol)`, main.`SMILES or PubChem ID` , \n",
    "         main.CID ,  main.`InChI`, main.`InChIKey`\n",
    "\"\"\"\n",
    "drug_info_release_3 = pd.read_sql_query(sql_query, engine)"
   ]
  },
  {
   "cell_type": "code",
   "execution_count": 14,
   "metadata": {
    "collapsed": false
   },
   "outputs": [],
   "source": [
    "# Load reformatted data from database\n",
    "engine = sa.create_engine('mysql://strokach:@192.168.6.19:3306/az_dream')\n",
    "engine.execute('SET SESSION group_concat_max_len = 10000000;')\n",
    "sql_query = \"\"\"\n",
    "SELECT \n",
    "    main.*,\n",
    "    GROUP_CONCAT(DISTINCT x.cid) cids,\n",
    "    GROUP_CONCAT(DISTINCT target.partner_name) targets,\n",
    "    GROUP_CONCAT(DISTINCT target.partner_bioentity) targets_bioentities,\n",
    "    GROUP_CONCAT(DISTINCT enzyme.partner_name) enzymes,\n",
    "    GROUP_CONCAT(DISTINCT enzyme.partner_bioentity) enzymes_bioentities,\n",
    "    GROUP_CONCAT(DISTINCT transporter.partner_name) transporters,\n",
    "    GROUP_CONCAT(DISTINCT transporter.partner_bioentity) transporters_bioentities,\n",
    "    GROUP_CONCAT(DISTINCT atc) atcs\n",
    "FROM\n",
    "drug_info_release_2 main\n",
    "    LEFT JOIN\n",
    "drug_to_cid x USING (ChallengeName)\n",
    "    LEFT JOIN\n",
    "cid_to_partner target ON (x.cid = target.cid and target.partner_type = 'Target')\n",
    "    LEFT JOIN\n",
    "cid_to_partner enzyme ON (x.cid = enzyme.cid and enzyme.partner_type = 'Enzyme')\n",
    "    LEFT JOIN\n",
    "cid_to_partner transporter ON (x.cid = transporter.cid and transporter.partner_type = 'Transporter')\n",
    "    LEFT JOIN\n",
    "cid_to_atc atc ON (x.cid = atc.cid)\n",
    "GROUP BY main.`ChallengeName`, main.`Target(Official Symbol)`, main.`SMILES or PubChem ID` , \n",
    "         main.CID ,  main.`InChI`, main.`InChIKey`\n",
    "\"\"\"\n",
    "drug_info_release_3 = pd.read_sql_query(sql_query, engine)"
   ]
  },
  {
   "cell_type": "code",
   "execution_count": null,
   "metadata": {
    "collapsed": true
   },
   "outputs": [],
   "source": []
  },
  {
   "cell_type": "code",
   "execution_count": 15,
   "metadata": {
    "collapsed": false
   },
   "outputs": [
    {
     "data": {
      "text/html": [
       "<div>\n",
       "<table border=\"1\" class=\"dataframe\">\n",
       "  <thead>\n",
       "    <tr style=\"text-align: right;\">\n",
       "      <th></th>\n",
       "      <th>ChallengeName</th>\n",
       "      <th>Target(Official Symbol)</th>\n",
       "      <th>HBA</th>\n",
       "      <th>cLogP</th>\n",
       "      <th>HBD</th>\n",
       "      <th>Lipinski</th>\n",
       "      <th>SMILES or PubChem ID</th>\n",
       "      <th>MW</th>\n",
       "      <th>AtomStereoCount</th>\n",
       "      <th>BondStereoCount</th>\n",
       "      <th>CID</th>\n",
       "      <th>CanonicalSMILES</th>\n",
       "      <th>Charge</th>\n",
       "      <th>Complexity</th>\n",
       "      <th>ConformerCount3D</th>\n",
       "      <th>ConformerModelRMSD3D</th>\n",
       "      <th>CovalentUnitCount</th>\n",
       "      <th>DefinedAtomStereoCount</th>\n",
       "      <th>DefinedBondStereoCount</th>\n",
       "      <th>EffectiveRotorCount3D</th>\n",
       "      <th>ExactMass</th>\n",
       "      <th>FeatureAcceptorCount3D</th>\n",
       "      <th>FeatureAnionCount3D</th>\n",
       "      <th>FeatureCationCount3D</th>\n",
       "      <th>FeatureCount3D</th>\n",
       "      <th>FeatureDonorCount3D</th>\n",
       "      <th>FeatureHydrophobeCount3D</th>\n",
       "      <th>FeatureRingCount3D</th>\n",
       "      <th>Fingerprint2D</th>\n",
       "      <th>HBondAcceptorCount</th>\n",
       "      <th>HBondDonorCount</th>\n",
       "      <th>HeavyAtomCount</th>\n",
       "      <th>IUPACName</th>\n",
       "      <th>InChI</th>\n",
       "      <th>InChIKey</th>\n",
       "      <th>IsomericSMILES</th>\n",
       "      <th>IsotopeAtomCount</th>\n",
       "      <th>MolecularFormula</th>\n",
       "      <th>MolecularWeight</th>\n",
       "      <th>MonoisotopicMass</th>\n",
       "      <th>RotatableBondCount</th>\n",
       "      <th>TPSA</th>\n",
       "      <th>UndefinedAtomStereoCount</th>\n",
       "      <th>UndefinedBondStereoCount</th>\n",
       "      <th>Volume3D</th>\n",
       "      <th>XLogP</th>\n",
       "      <th>XStericQuadrupole3D</th>\n",
       "      <th>YStericQuadrupole3D</th>\n",
       "      <th>ZStericQuadrupole3D</th>\n",
       "      <th>cids</th>\n",
       "      <th>targets</th>\n",
       "      <th>targets_bioentities</th>\n",
       "      <th>enzymes</th>\n",
       "      <th>enzymes_bioentities</th>\n",
       "      <th>transporters</th>\n",
       "      <th>transporters_bioentities</th>\n",
       "      <th>atcs</th>\n",
       "    </tr>\n",
       "  </thead>\n",
       "  <tbody>\n",
       "    <tr>\n",
       "      <th>0</th>\n",
       "      <td>ADAM17</td>\n",
       "      <td>ADAM17</td>\n",
       "      <td>NaN</td>\n",
       "      <td>NaN</td>\n",
       "      <td>NaN</td>\n",
       "      <td>NaN</td>\n",
       "      <td>None</td>\n",
       "      <td>NaN</td>\n",
       "      <td>NaN</td>\n",
       "      <td>NaN</td>\n",
       "      <td>NaN</td>\n",
       "      <td>None</td>\n",
       "      <td>NaN</td>\n",
       "      <td>NaN</td>\n",
       "      <td>NaN</td>\n",
       "      <td>NaN</td>\n",
       "      <td>NaN</td>\n",
       "      <td>NaN</td>\n",
       "      <td>NaN</td>\n",
       "      <td>NaN</td>\n",
       "      <td>NaN</td>\n",
       "      <td>NaN</td>\n",
       "      <td>NaN</td>\n",
       "      <td>NaN</td>\n",
       "      <td>NaN</td>\n",
       "      <td>NaN</td>\n",
       "      <td>NaN</td>\n",
       "      <td>NaN</td>\n",
       "      <td>None</td>\n",
       "      <td>NaN</td>\n",
       "      <td>NaN</td>\n",
       "      <td>NaN</td>\n",
       "      <td>None</td>\n",
       "      <td>None</td>\n",
       "      <td>None</td>\n",
       "      <td>None</td>\n",
       "      <td>NaN</td>\n",
       "      <td>None</td>\n",
       "      <td>NaN</td>\n",
       "      <td>NaN</td>\n",
       "      <td>NaN</td>\n",
       "      <td>NaN</td>\n",
       "      <td>NaN</td>\n",
       "      <td>NaN</td>\n",
       "      <td>NaN</td>\n",
       "      <td>NaN</td>\n",
       "      <td>NaN</td>\n",
       "      <td>NaN</td>\n",
       "      <td>NaN</td>\n",
       "      <td>None</td>\n",
       "      <td>None</td>\n",
       "      <td>None</td>\n",
       "      <td>None</td>\n",
       "      <td>None</td>\n",
       "      <td>None</td>\n",
       "      <td>None</td>\n",
       "      <td>None</td>\n",
       "    </tr>\n",
       "    <tr>\n",
       "      <th>1</th>\n",
       "      <td>AKT</td>\n",
       "      <td>AKT1, AKT2, AKT3</td>\n",
       "      <td>8</td>\n",
       "      <td>1.18</td>\n",
       "      <td>5</td>\n",
       "      <td>0</td>\n",
       "      <td>c1cc(ccc1[C@H](CCO)NC(=O)C2(CCN(CC2)c3c4cc[nH]...</td>\n",
       "      <td>428.9</td>\n",
       "      <td>1</td>\n",
       "      <td>0</td>\n",
       "      <td>25227436</td>\n",
       "      <td>C1CN(CCC1(C(=O)NC(CCO)C2=CC=C(C=C2)Cl)N)C3=NC=...</td>\n",
       "      <td>0</td>\n",
       "      <td>580</td>\n",
       "      <td>256</td>\n",
       "      <td>1.0</td>\n",
       "      <td>1</td>\n",
       "      <td>1</td>\n",
       "      <td>0</td>\n",
       "      <td>8.2</td>\n",
       "      <td>428.172752</td>\n",
       "      <td>2</td>\n",
       "      <td>0</td>\n",
       "      <td>4</td>\n",
       "      <td>14</td>\n",
       "      <td>4</td>\n",
       "      <td>0</td>\n",
       "      <td>4</td>\n",
       "      <td>AAADceB7sAAEAAAAAAAAAAAAAAAAAWAAAAA8WIAAAAAAAF...</td>\n",
       "      <td>6</td>\n",
       "      <td>4</td>\n",
       "      <td>30</td>\n",
       "      <td>4-amino-N-[(1S)-1-(4-chlorophenyl)-3-hydroxypr...</td>\n",
       "      <td>InChI=1S/C21H25ClN6O2/c22-15-3-1-14(2-4-15)17(...</td>\n",
       "      <td>JDUBGYFRJFOXQC-KRWDZBQOSA-N</td>\n",
       "      <td>C1CN(CCC1(C(=O)N[C@@H](CCO)C2=CC=C(C=C2)Cl)N)C...</td>\n",
       "      <td>0</td>\n",
       "      <td>C21H25ClN6O2</td>\n",
       "      <td>428.91520</td>\n",
       "      <td>428.172752</td>\n",
       "      <td>6</td>\n",
       "      <td>120.0</td>\n",
       "      <td>0</td>\n",
       "      <td>0</td>\n",
       "      <td>319.3</td>\n",
       "      <td>1.7</td>\n",
       "      <td>14.27</td>\n",
       "      <td>5.17</td>\n",
       "      <td>1.08</td>\n",
       "      <td>25227436,42602260,57750340</td>\n",
       "      <td>None</td>\n",
       "      <td>None</td>\n",
       "      <td>None</td>\n",
       "      <td>None</td>\n",
       "      <td>None</td>\n",
       "      <td>None</td>\n",
       "      <td>None</td>\n",
       "    </tr>\n",
       "    <tr>\n",
       "      <th>2</th>\n",
       "      <td>AKT_1</td>\n",
       "      <td>AKT*</td>\n",
       "      <td>6</td>\n",
       "      <td>3.24</td>\n",
       "      <td>3</td>\n",
       "      <td>0</td>\n",
       "      <td>c1ccc(cc1)c2cc3c(ccn4c3n[nH]c4=O)nc2c5ccc(cc5)...</td>\n",
       "      <td>407.5</td>\n",
       "      <td>0</td>\n",
       "      <td>0</td>\n",
       "      <td>24964624</td>\n",
       "      <td>C1CC(C1)(C2=CC=C(C=C2)C3=C(C=C4C(=N3)C=CN5C4=N...</td>\n",
       "      <td>0</td>\n",
       "      <td>760</td>\n",
       "      <td>4</td>\n",
       "      <td>0.8</td>\n",
       "      <td>1</td>\n",
       "      <td>0</td>\n",
       "      <td>0</td>\n",
       "      <td>3.8</td>\n",
       "      <td>407.174610</td>\n",
       "      <td>2</td>\n",
       "      <td>0</td>\n",
       "      <td>1</td>\n",
       "      <td>11</td>\n",
       "      <td>2</td>\n",
       "      <td>0</td>\n",
       "      <td>6</td>\n",
       "      <td>AAADceB7oAAAAAAAAAAAAAAAAABgAQAAAAA8YIEAAAAAAE...</td>\n",
       "      <td>4</td>\n",
       "      <td>2</td>\n",
       "      <td>31</td>\n",
       "      <td>8-[4-(1-aminocyclobutyl)phenyl]-9-phenyl-2H-[1...</td>\n",
       "      <td>InChI=1S/C25H21N5O/c26-25(12-4-13-25)18-9-7-17...</td>\n",
       "      <td>ULDXWLCXEDXJGE-UHFFFAOYSA-N</td>\n",
       "      <td>C1CC(C1)(C2=CC=C(C=C2)C3=C(C=C4C(=N3)C=CN5C4=N...</td>\n",
       "      <td>0</td>\n",
       "      <td>C25H21N5O</td>\n",
       "      <td>407.46714</td>\n",
       "      <td>407.174610</td>\n",
       "      <td>3</td>\n",
       "      <td>83.6</td>\n",
       "      <td>0</td>\n",
       "      <td>0</td>\n",
       "      <td>317.2</td>\n",
       "      <td>3.0</td>\n",
       "      <td>16.28</td>\n",
       "      <td>4.11</td>\n",
       "      <td>1.07</td>\n",
       "      <td>24964624</td>\n",
       "      <td>None</td>\n",
       "      <td>None</td>\n",
       "      <td>None</td>\n",
       "      <td>None</td>\n",
       "      <td>None</td>\n",
       "      <td>None</td>\n",
       "      <td>None</td>\n",
       "    </tr>\n",
       "    <tr>\n",
       "      <th>3</th>\n",
       "      <td>AKT_PIK3C</td>\n",
       "      <td>AKT*,PIK3C*</td>\n",
       "      <td>NaN</td>\n",
       "      <td>NaN</td>\n",
       "      <td>NaN</td>\n",
       "      <td>NaN</td>\n",
       "      <td>None</td>\n",
       "      <td>NaN</td>\n",
       "      <td>NaN</td>\n",
       "      <td>NaN</td>\n",
       "      <td>NaN</td>\n",
       "      <td>None</td>\n",
       "      <td>NaN</td>\n",
       "      <td>NaN</td>\n",
       "      <td>NaN</td>\n",
       "      <td>NaN</td>\n",
       "      <td>NaN</td>\n",
       "      <td>NaN</td>\n",
       "      <td>NaN</td>\n",
       "      <td>NaN</td>\n",
       "      <td>NaN</td>\n",
       "      <td>NaN</td>\n",
       "      <td>NaN</td>\n",
       "      <td>NaN</td>\n",
       "      <td>NaN</td>\n",
       "      <td>NaN</td>\n",
       "      <td>NaN</td>\n",
       "      <td>NaN</td>\n",
       "      <td>None</td>\n",
       "      <td>NaN</td>\n",
       "      <td>NaN</td>\n",
       "      <td>NaN</td>\n",
       "      <td>None</td>\n",
       "      <td>None</td>\n",
       "      <td>None</td>\n",
       "      <td>None</td>\n",
       "      <td>NaN</td>\n",
       "      <td>None</td>\n",
       "      <td>NaN</td>\n",
       "      <td>NaN</td>\n",
       "      <td>NaN</td>\n",
       "      <td>NaN</td>\n",
       "      <td>NaN</td>\n",
       "      <td>NaN</td>\n",
       "      <td>NaN</td>\n",
       "      <td>NaN</td>\n",
       "      <td>NaN</td>\n",
       "      <td>NaN</td>\n",
       "      <td>NaN</td>\n",
       "      <td>None</td>\n",
       "      <td>None</td>\n",
       "      <td>None</td>\n",
       "      <td>None</td>\n",
       "      <td>None</td>\n",
       "      <td>None</td>\n",
       "      <td>None</td>\n",
       "      <td>None</td>\n",
       "    </tr>\n",
       "    <tr>\n",
       "      <th>4</th>\n",
       "      <td>AKT_SGK</td>\n",
       "      <td>AKT*,SGK*</td>\n",
       "      <td>NaN</td>\n",
       "      <td>NaN</td>\n",
       "      <td>NaN</td>\n",
       "      <td>NaN</td>\n",
       "      <td>None</td>\n",
       "      <td>NaN</td>\n",
       "      <td>NaN</td>\n",
       "      <td>NaN</td>\n",
       "      <td>NaN</td>\n",
       "      <td>None</td>\n",
       "      <td>NaN</td>\n",
       "      <td>NaN</td>\n",
       "      <td>NaN</td>\n",
       "      <td>NaN</td>\n",
       "      <td>NaN</td>\n",
       "      <td>NaN</td>\n",
       "      <td>NaN</td>\n",
       "      <td>NaN</td>\n",
       "      <td>NaN</td>\n",
       "      <td>NaN</td>\n",
       "      <td>NaN</td>\n",
       "      <td>NaN</td>\n",
       "      <td>NaN</td>\n",
       "      <td>NaN</td>\n",
       "      <td>NaN</td>\n",
       "      <td>NaN</td>\n",
       "      <td>None</td>\n",
       "      <td>NaN</td>\n",
       "      <td>NaN</td>\n",
       "      <td>NaN</td>\n",
       "      <td>None</td>\n",
       "      <td>None</td>\n",
       "      <td>None</td>\n",
       "      <td>None</td>\n",
       "      <td>NaN</td>\n",
       "      <td>None</td>\n",
       "      <td>NaN</td>\n",
       "      <td>NaN</td>\n",
       "      <td>NaN</td>\n",
       "      <td>NaN</td>\n",
       "      <td>NaN</td>\n",
       "      <td>NaN</td>\n",
       "      <td>NaN</td>\n",
       "      <td>NaN</td>\n",
       "      <td>NaN</td>\n",
       "      <td>NaN</td>\n",
       "      <td>NaN</td>\n",
       "      <td>None</td>\n",
       "      <td>None</td>\n",
       "      <td>None</td>\n",
       "      <td>None</td>\n",
       "      <td>None</td>\n",
       "      <td>None</td>\n",
       "      <td>None</td>\n",
       "      <td>None</td>\n",
       "    </tr>\n",
       "  </tbody>\n",
       "</table>\n",
       "</div>"
      ],
      "text/plain": [
       "  ChallengeName Target(Official Symbol)  HBA  cLogP  HBD  Lipinski                               SMILES or PubChem ID     MW  AtomStereoCount  BondStereoCount       CID                                    CanonicalSMILES  Charge  Complexity  ConformerCount3D  ConformerModelRMSD3D  CovalentUnitCount  DefinedAtomStereoCount  DefinedBondStereoCount  EffectiveRotorCount3D   ExactMass  FeatureAcceptorCount3D  FeatureAnionCount3D  FeatureCationCount3D  FeatureCount3D  FeatureDonorCount3D  FeatureHydrophobeCount3D  FeatureRingCount3D                                      Fingerprint2D  HBondAcceptorCount  HBondDonorCount  HeavyAtomCount                                          IUPACName                                              InChI                     InChIKey                                     IsomericSMILES  IsotopeAtomCount MolecularFormula  MolecularWeight  MonoisotopicMass  RotatableBondCount   TPSA  UndefinedAtomStereoCount  UndefinedBondStereoCount  Volume3D  XLogP  \\\n",
       "0        ADAM17                  ADAM17  NaN    NaN  NaN       NaN                                               None    NaN              NaN              NaN       NaN                                               None     NaN         NaN               NaN                   NaN                NaN                     NaN                     NaN                    NaN         NaN                     NaN                  NaN                   NaN             NaN                  NaN                       NaN                 NaN                                               None                 NaN              NaN             NaN                                               None                                               None                         None                                               None               NaN             None              NaN               NaN                 NaN    NaN                       NaN                       NaN       NaN    NaN   \n",
       "1           AKT        AKT1, AKT2, AKT3    8   1.18    5         0  c1cc(ccc1[C@H](CCO)NC(=O)C2(CCN(CC2)c3c4cc[nH]...  428.9                1                0  25227436  C1CN(CCC1(C(=O)NC(CCO)C2=CC=C(C=C2)Cl)N)C3=NC=...       0         580               256                   1.0                  1                       1                       0                    8.2  428.172752                       2                    0                     4              14                    4                         0                   4  AAADceB7sAAEAAAAAAAAAAAAAAAAAWAAAAA8WIAAAAAAAF...                   6                4              30  4-amino-N-[(1S)-1-(4-chlorophenyl)-3-hydroxypr...  InChI=1S/C21H25ClN6O2/c22-15-3-1-14(2-4-15)17(...  JDUBGYFRJFOXQC-KRWDZBQOSA-N  C1CN(CCC1(C(=O)N[C@@H](CCO)C2=CC=C(C=C2)Cl)N)C...                 0     C21H25ClN6O2        428.91520        428.172752                   6  120.0                         0                         0     319.3    1.7   \n",
       "2         AKT_1                    AKT*    6   3.24    3         0  c1ccc(cc1)c2cc3c(ccn4c3n[nH]c4=O)nc2c5ccc(cc5)...  407.5                0                0  24964624  C1CC(C1)(C2=CC=C(C=C2)C3=C(C=C4C(=N3)C=CN5C4=N...       0         760                 4                   0.8                  1                       0                       0                    3.8  407.174610                       2                    0                     1              11                    2                         0                   6  AAADceB7oAAAAAAAAAAAAAAAAABgAQAAAAA8YIEAAAAAAE...                   4                2              31  8-[4-(1-aminocyclobutyl)phenyl]-9-phenyl-2H-[1...  InChI=1S/C25H21N5O/c26-25(12-4-13-25)18-9-7-17...  ULDXWLCXEDXJGE-UHFFFAOYSA-N  C1CC(C1)(C2=CC=C(C=C2)C3=C(C=C4C(=N3)C=CN5C4=N...                 0        C25H21N5O        407.46714        407.174610                   3   83.6                         0                         0     317.2    3.0   \n",
       "3     AKT_PIK3C             AKT*,PIK3C*  NaN    NaN  NaN       NaN                                               None    NaN              NaN              NaN       NaN                                               None     NaN         NaN               NaN                   NaN                NaN                     NaN                     NaN                    NaN         NaN                     NaN                  NaN                   NaN             NaN                  NaN                       NaN                 NaN                                               None                 NaN              NaN             NaN                                               None                                               None                         None                                               None               NaN             None              NaN               NaN                 NaN    NaN                       NaN                       NaN       NaN    NaN   \n",
       "4       AKT_SGK               AKT*,SGK*  NaN    NaN  NaN       NaN                                               None    NaN              NaN              NaN       NaN                                               None     NaN         NaN               NaN                   NaN                NaN                     NaN                     NaN                    NaN         NaN                     NaN                  NaN                   NaN             NaN                  NaN                       NaN                 NaN                                               None                 NaN              NaN             NaN                                               None                                               None                         None                                               None               NaN             None              NaN               NaN                 NaN    NaN                       NaN                       NaN       NaN    NaN   \n",
       "\n",
       "   XStericQuadrupole3D  YStericQuadrupole3D  ZStericQuadrupole3D                        cids targets targets_bioentities enzymes enzymes_bioentities transporters transporters_bioentities  atcs  \n",
       "0                  NaN                  NaN                  NaN                        None    None                None    None                None         None                     None  None  \n",
       "1                14.27                 5.17                 1.08  25227436,42602260,57750340    None                None    None                None         None                     None  None  \n",
       "2                16.28                 4.11                 1.07                    24964624    None                None    None                None         None                     None  None  \n",
       "3                  NaN                  NaN                  NaN                        None    None                None    None                None         None                     None  None  \n",
       "4                  NaN                  NaN                  NaN                        None    None                None    None                None         None                     None  None  "
      ]
     },
     "execution_count": 15,
     "metadata": {},
     "output_type": "execute_result"
    }
   ],
   "source": [
    "drug_info_release_3.head()"
   ]
  },
  {
   "cell_type": "code",
   "execution_count": 17,
   "metadata": {
    "code_folding": [],
    "collapsed": false
   },
   "outputs": [],
   "source": [
    "# Save reformatted data to the database\n",
    "if False:\n",
    "    engine = sa.create_engine('mysql://strokach:@192.168.6.19:3306/az_dream')\n",
    "    drug_info_release_3.to_sql('drug_info_release_3', engine, if_exists='replace', index=False)\n",
    "    engine.execute('create unique index challenge_name_idx on drug_info_release_3 (ChallengeName(255))')"
   ]
  },
  {
   "cell_type": "markdown",
   "metadata": {
    "code_folding": [
     0
    ]
   },
   "source": [
    "## durgs_to_targets"
   ]
  },
  {
   "cell_type": "markdown",
   "metadata": {},
   "source": [
    "### Using provided targets"
   ]
  },
  {
   "cell_type": "code",
   "execution_count": 18,
   "metadata": {
    "code_folding": [
     0
    ],
    "collapsed": false
   },
   "outputs": [],
   "source": [
    "drugs_to_targets_list = [\n",
    "    (drug, target.strip())\n",
    "    for (drug, targets) \n",
    "    in drug_info_release_3[['ChallengeName', 'Target(Official Symbol)']].values\n",
    "    for target in targets.split(',')    \n",
    "]\n",
    "drugs_to_targets = pd.DataFrame(drugs_to_targets_list, columns=['drug', 'target_original'])"
   ]
  },
  {
   "cell_type": "code",
   "execution_count": 19,
   "metadata": {
    "code_folding": [],
    "collapsed": false
   },
   "outputs": [],
   "source": [
    "# Corrections to the provided targets\n",
    "target_corrections = {\n",
    "    'BRAF_mut': 'BRAF',\n",
    "    'BRAF_V600E': 'BRAF',\n",
    "    'CD19 antibody': 'CD19',\n",
    "    'VEGFR2': 'KDR',\n",
    "    'NIAP': 'NAIP',\n",
    "    'TNFA': 'TNF',\n",
    "    'NAE2': 'UBA3',\n",
    "    'TIE2': 'TEK',\n",
    "    'cMET': 'MET',\n",
    "    'Gamma secretase': 'APH*',\n",
    "    'Proteasome': 'PSM*',\n",
    "}\n",
    "drugs_to_targets['target'] = drugs_to_targets['target_original'].apply(lambda x: target_corrections.get(x,x))"
   ]
  },
  {
   "cell_type": "code",
   "execution_count": 20,
   "metadata": {
    "collapsed": false,
    "scrolled": false
   },
   "outputs": [
    {
     "data": {
      "text/html": [
       "<div>\n",
       "<table border=\"1\" class=\"dataframe\">\n",
       "  <thead>\n",
       "    <tr style=\"text-align: right;\">\n",
       "      <th></th>\n",
       "      <th>drug</th>\n",
       "      <th>target_original</th>\n",
       "      <th>target</th>\n",
       "    </tr>\n",
       "  </thead>\n",
       "  <tbody>\n",
       "    <tr>\n",
       "      <th>35</th>\n",
       "      <td>BRAF_VEGFR2</td>\n",
       "      <td>VEGFR2</td>\n",
       "      <td>KDR</td>\n",
       "    </tr>\n",
       "    <tr>\n",
       "      <th>118</th>\n",
       "      <td>NAE</td>\n",
       "      <td>NAE2</td>\n",
       "      <td>UBA3</td>\n",
       "    </tr>\n",
       "    <tr>\n",
       "      <th>154</th>\n",
       "      <td>TKI_2</td>\n",
       "      <td>VEGFR2</td>\n",
       "      <td>KDR</td>\n",
       "    </tr>\n",
       "    <tr>\n",
       "      <th>155</th>\n",
       "      <td>TKI_2</td>\n",
       "      <td>TIE2</td>\n",
       "      <td>TEK</td>\n",
       "    </tr>\n",
       "  </tbody>\n",
       "</table>\n",
       "</div>"
      ],
      "text/plain": [
       "            drug target_original target\n",
       "35   BRAF_VEGFR2          VEGFR2    KDR\n",
       "118          NAE            NAE2   UBA3\n",
       "154        TKI_2          VEGFR2    KDR\n",
       "155        TKI_2            TIE2    TEK"
      ]
     },
     "execution_count": 20,
     "metadata": {},
     "output_type": "execute_result"
    }
   ],
   "source": [
    "duplicates = drugs_to_targets[\n",
    "    (drugs_to_targets['target_original'] != drugs_to_targets['target']) &\n",
    "    (drugs_to_targets.duplicated(subset=['drug', 'target'], keep=False))\n",
    "]\n",
    "duplicates"
   ]
  },
  {
   "cell_type": "code",
   "execution_count": 21,
   "metadata": {
    "collapsed": false
   },
   "outputs": [],
   "source": [
    "drugs_to_targets = drugs_to_targets.drop(duplicates.index)"
   ]
  },
  {
   "cell_type": "code",
   "execution_count": 22,
   "metadata": {
    "code_folding": [
     0
    ],
    "collapsed": false
   },
   "outputs": [],
   "source": [
    "# Get Ensembl IDs for the provided targets\n",
    "engine = sa.create_engine('mysql://strokach:@192.168.6.19:3306/az_dream')\n",
    "sql_query_template = \"\"\"\n",
    "select *\n",
    "from ensembl_sequence_38.hgnc2ensembl\n",
    "where hgnc_name like '{}'\n",
    "\"\"\"\n",
    "results = []\n",
    "for target in drugs_to_targets['target'].drop_duplicates():\n",
    "    target_like = target.replace('*', '%%').strip()\n",
    "    sql_query = sql_query_template.format(target_like)\n",
    "    mapped_targets = pd.read_sql_query(sql_query, engine)\n",
    "    mapped_targets['target'] = target\n",
    "    results.append(mapped_targets)\n",
    "targets_mapped = pd.concat(results, ignore_index=True)"
   ]
  },
  {
   "cell_type": "code",
   "execution_count": 23,
   "metadata": {
    "collapsed": false
   },
   "outputs": [],
   "source": [
    "drugs_to_targets_mapped = (\n",
    "    drugs_to_targets\n",
    "    .merge(targets_mapped, on=['target'])\n",
    ")"
   ]
  },
  {
   "cell_type": "code",
   "execution_count": 24,
   "metadata": {
    "collapsed": false
   },
   "outputs": [
    {
     "data": {
      "text/html": [
       "<div>\n",
       "<table border=\"1\" class=\"dataframe\">\n",
       "  <thead>\n",
       "    <tr style=\"text-align: right;\">\n",
       "      <th></th>\n",
       "      <th>drug</th>\n",
       "      <th>target_original</th>\n",
       "      <th>target</th>\n",
       "      <th>hgnc_name</th>\n",
       "      <th>hgnc_acc</th>\n",
       "      <th>hgnc_description</th>\n",
       "      <th>ensg</th>\n",
       "      <th>enst</th>\n",
       "      <th>ensp</th>\n",
       "    </tr>\n",
       "  </thead>\n",
       "  <tbody>\n",
       "    <tr>\n",
       "      <th>0</th>\n",
       "      <td>ADAM17</td>\n",
       "      <td>ADAM17</td>\n",
       "      <td>ADAM17</td>\n",
       "      <td>ADAM17</td>\n",
       "      <td>HGNC:195</td>\n",
       "      <td>ADAM metallopeptidase domain 17</td>\n",
       "      <td>ENSG00000151694</td>\n",
       "      <td>ENST00000310823</td>\n",
       "      <td>ENSP00000309968</td>\n",
       "    </tr>\n",
       "    <tr>\n",
       "      <th>1</th>\n",
       "      <td>ADAM17</td>\n",
       "      <td>ADAM17</td>\n",
       "      <td>ADAM17</td>\n",
       "      <td>ADAM17</td>\n",
       "      <td>HGNC:195</td>\n",
       "      <td>ADAM metallopeptidase domain 17</td>\n",
       "      <td>ENSG00000151694</td>\n",
       "      <td>ENST00000497134</td>\n",
       "      <td>ENSP00000418728</td>\n",
       "    </tr>\n",
       "    <tr>\n",
       "      <th>2</th>\n",
       "      <td>ADAM17</td>\n",
       "      <td>ADAM17</td>\n",
       "      <td>ADAM17</td>\n",
       "      <td>ADAM17</td>\n",
       "      <td>HGNC:195</td>\n",
       "      <td>ADAM metallopeptidase domain 17</td>\n",
       "      <td>ENSG00000151694</td>\n",
       "      <td>ENST00000618923</td>\n",
       "      <td>ENSP00000480552</td>\n",
       "    </tr>\n",
       "    <tr>\n",
       "      <th>3</th>\n",
       "      <td>AKT</td>\n",
       "      <td>AKT1</td>\n",
       "      <td>AKT1</td>\n",
       "      <td>AKT1</td>\n",
       "      <td>HGNC:391</td>\n",
       "      <td>v-akt murine thymoma viral oncogene homolog 1</td>\n",
       "      <td>ENSG00000142208</td>\n",
       "      <td>ENST00000554581</td>\n",
       "      <td>ENSP00000451828</td>\n",
       "    </tr>\n",
       "    <tr>\n",
       "      <th>4</th>\n",
       "      <td>AKT</td>\n",
       "      <td>AKT1</td>\n",
       "      <td>AKT1</td>\n",
       "      <td>AKT1</td>\n",
       "      <td>HGNC:391</td>\n",
       "      <td>v-akt murine thymoma viral oncogene homolog 1</td>\n",
       "      <td>ENSG00000142208</td>\n",
       "      <td>ENST00000407796</td>\n",
       "      <td>ENSP00000384293</td>\n",
       "    </tr>\n",
       "  </tbody>\n",
       "</table>\n",
       "</div>"
      ],
      "text/plain": [
       "     drug target_original  target hgnc_name  hgnc_acc                               hgnc_description             ensg             enst             ensp\n",
       "0  ADAM17          ADAM17  ADAM17    ADAM17  HGNC:195                ADAM metallopeptidase domain 17  ENSG00000151694  ENST00000310823  ENSP00000309968\n",
       "1  ADAM17          ADAM17  ADAM17    ADAM17  HGNC:195                ADAM metallopeptidase domain 17  ENSG00000151694  ENST00000497134  ENSP00000418728\n",
       "2  ADAM17          ADAM17  ADAM17    ADAM17  HGNC:195                ADAM metallopeptidase domain 17  ENSG00000151694  ENST00000618923  ENSP00000480552\n",
       "3     AKT            AKT1    AKT1      AKT1  HGNC:391  v-akt murine thymoma viral oncogene homolog 1  ENSG00000142208  ENST00000554581  ENSP00000451828\n",
       "4     AKT            AKT1    AKT1      AKT1  HGNC:391  v-akt murine thymoma viral oncogene homolog 1  ENSG00000142208  ENST00000407796  ENSP00000384293"
      ]
     },
     "metadata": {},
     "output_type": "display_data"
    },
    {
     "name": "stdout",
     "output_type": "stream",
     "text": [
      "Number of drug-target pairs:                                2635\n",
      "Total number of drugs:                                      119\n",
      "Number of drugs with mapped targets:                        111\n"
     ]
    }
   ],
   "source": [
    "display(drugs_to_targets_mapped.head())\n",
    "dat.print2('Number of drug-target pairs:', len(drugs_to_targets_mapped))\n",
    "dat.print2('Total number of drugs:', len(drugs_to_targets['drug'].drop_duplicates()))\n",
    "dat.print2('Number of drugs with mapped targets:', len(drugs_to_targets_mapped['drug'].drop_duplicates()))"
   ]
  },
  {
   "cell_type": "markdown",
   "metadata": {},
   "source": [
    "### Using STITICH to find missing targets"
   ]
  },
  {
   "cell_type": "code",
   "execution_count": 25,
   "metadata": {
    "collapsed": false,
    "run_control": {
     "marked": false
    }
   },
   "outputs": [
    {
     "data": {
      "text/plain": [
       "{'Azacytidine',\n",
       " 'CarboTaxol',\n",
       " 'Carboplatin',\n",
       " 'Chloroquine',\n",
       " 'Cisplatin',\n",
       " 'FOLFIRI',\n",
       " 'FOLFOX',\n",
       " 'Oxaliplatin'}"
      ]
     },
     "execution_count": 25,
     "metadata": {},
     "output_type": "execute_result"
    }
   ],
   "source": [
    "missing_drugs = set(drugs_to_targets['drug']) - set(drugs_to_targets_mapped['drug'])\n",
    "missing_drugs"
   ]
  },
  {
   "cell_type": "code",
   "execution_count": 26,
   "metadata": {
    "collapsed": false
   },
   "outputs": [
    {
     "data": {
      "text/plain": [
       "{'CHK1', 'DNA', 'Methylation', 'Thiamine', 'microtubule'}"
      ]
     },
     "execution_count": 26,
     "metadata": {},
     "output_type": "execute_result"
    }
   ],
   "source": [
    "missing_targets = set(drugs_to_targets['target']) - set(drugs_to_targets_mapped['target'])\n",
    "missing_targets"
   ]
  },
  {
   "cell_type": "code",
   "execution_count": 27,
   "metadata": {
    "collapsed": false
   },
   "outputs": [
    {
     "data": {
      "text/html": [
       "<div>\n",
       "<table border=\"1\" class=\"dataframe\">\n",
       "  <thead>\n",
       "    <tr style=\"text-align: right;\">\n",
       "      <th></th>\n",
       "      <th>drug</th>\n",
       "      <th>target_original</th>\n",
       "      <th>target</th>\n",
       "    </tr>\n",
       "  </thead>\n",
       "  <tbody>\n",
       "    <tr>\n",
       "      <th>20</th>\n",
       "      <td>Azacytidine</td>\n",
       "      <td>Methylation</td>\n",
       "      <td>Methylation</td>\n",
       "    </tr>\n",
       "    <tr>\n",
       "      <th>37</th>\n",
       "      <td>Carboplatin</td>\n",
       "      <td>DNA</td>\n",
       "      <td>DNA</td>\n",
       "    </tr>\n",
       "    <tr>\n",
       "      <th>38</th>\n",
       "      <td>CarboTaxol</td>\n",
       "      <td>DNA</td>\n",
       "      <td>DNA</td>\n",
       "    </tr>\n",
       "    <tr>\n",
       "      <th>43</th>\n",
       "      <td>Chloroquine</td>\n",
       "      <td>Thiamine</td>\n",
       "      <td>Thiamine</td>\n",
       "    </tr>\n",
       "    <tr>\n",
       "      <th>44</th>\n",
       "      <td>Cisplatin</td>\n",
       "      <td>DNA</td>\n",
       "      <td>DNA</td>\n",
       "    </tr>\n",
       "    <tr>\n",
       "      <th>71</th>\n",
       "      <td>FOLFIRI</td>\n",
       "      <td>DNA</td>\n",
       "      <td>DNA</td>\n",
       "    </tr>\n",
       "    <tr>\n",
       "      <th>72</th>\n",
       "      <td>FOLFOX</td>\n",
       "      <td>DNA</td>\n",
       "      <td>DNA</td>\n",
       "    </tr>\n",
       "    <tr>\n",
       "      <th>120</th>\n",
       "      <td>Oxaliplatin</td>\n",
       "      <td>DNA</td>\n",
       "      <td>DNA</td>\n",
       "    </tr>\n",
       "  </tbody>\n",
       "</table>\n",
       "</div>"
      ],
      "text/plain": [
       "            drug target_original       target\n",
       "20   Azacytidine     Methylation  Methylation\n",
       "37   Carboplatin             DNA          DNA\n",
       "38    CarboTaxol             DNA          DNA\n",
       "43   Chloroquine        Thiamine     Thiamine\n",
       "44     Cisplatin             DNA          DNA\n",
       "71       FOLFIRI             DNA          DNA\n",
       "72        FOLFOX             DNA          DNA\n",
       "120  Oxaliplatin             DNA          DNA"
      ]
     },
     "execution_count": 27,
     "metadata": {},
     "output_type": "execute_result"
    }
   ],
   "source": [
    "drugs_to_targets[drugs_to_targets['drug'].isin(missing_drugs)]"
   ]
  },
  {
   "cell_type": "code",
   "execution_count": null,
   "metadata": {
    "collapsed": true
   },
   "outputs": [],
   "source": [
    "drug_corrections = \n",
    "{\n",
    "    'Azacytidine': 'DNMT1,CDKN2B,MGMT,GADD45A,DNMT3B,AZI1',\n",
    "    # from pubchem (not happy with these)\n",
    "    'Carboplatin': 'XDH,MPO,GSTT1,MT1A,MT2A,SOD1,GSTP1,GSTM1,GSTM1,NQO1,SLC31A1,SLC31A2,ATP7A,ATP7B,ABCG2', \n",
    "    # CarboTaxol is made up of paclitaxel and carboplatin, microtubule\n",
    "    'CarboTaxol': 'FOXM1,KIF20A,',\n",
    "    # paclitaxel: 'BCL2,TUBB1,NR1I2,MAP4,MAP2,MAPT\n",
    "    'Chloroquine': 'GSTA2,TNF,TLR9,GST',\n",
    "    \n",
    "    'Cisplatin': '',\n",
    "    'FOLFIRI': '',\n",
    "    'FOLFOX': '',\n",
    "    'Oxaliplatin':,\n",
    "}"
   ]
  },
  {
   "cell_type": "code",
   "execution_count": null,
   "metadata": {
    "collapsed": true
   },
   "outputs": [],
   "source": []
  },
  {
   "cell_type": "code",
   "execution_count": 40,
   "metadata": {
    "collapsed": false
   },
   "outputs": [
    {
     "data": {
      "text/html": [
       "<div>\n",
       "<table border=\"1\" class=\"dataframe\">\n",
       "  <thead>\n",
       "    <tr style=\"text-align: right;\">\n",
       "      <th></th>\n",
       "      <th>drug</th>\n",
       "      <th>target_original</th>\n",
       "      <th>target</th>\n",
       "    </tr>\n",
       "  </thead>\n",
       "  <tbody>\n",
       "  </tbody>\n",
       "</table>\n",
       "</div>"
      ],
      "text/plain": [
       "Empty DataFrame\n",
       "Columns: [drug, target_original, target]\n",
       "Index: []"
      ]
     },
     "execution_count": 40,
     "metadata": {},
     "output_type": "execute_result"
    }
   ],
   "source": [
    "drugs_to_targets[drugs_to_targets['drug'].isin(['paclitaxel'])]"
   ]
  },
  {
   "cell_type": "code",
   "execution_count": null,
   "metadata": {
    "collapsed": true
   },
   "outputs": [],
   "source": []
  },
  {
   "cell_type": "code",
   "execution_count": null,
   "metadata": {
    "collapsed": true
   },
   "outputs": [],
   "source": []
  },
  {
   "cell_type": "code",
   "execution_count": 28,
   "metadata": {
    "collapsed": false,
    "run_control": {
     "marked": false
    }
   },
   "outputs": [
    {
     "data": {
      "text/html": [
       "<div>\n",
       "<table border=\"1\" class=\"dataframe\">\n",
       "  <thead>\n",
       "    <tr style=\"text-align: right;\">\n",
       "      <th></th>\n",
       "      <th>ChallengeName</th>\n",
       "      <th>Target(Official Symbol)</th>\n",
       "      <th>HBA</th>\n",
       "      <th>cLogP</th>\n",
       "      <th>HBD</th>\n",
       "      <th>Lipinski</th>\n",
       "      <th>SMILES or PubChem ID</th>\n",
       "      <th>MW</th>\n",
       "      <th>AtomStereoCount</th>\n",
       "      <th>BondStereoCount</th>\n",
       "      <th>CID</th>\n",
       "      <th>CanonicalSMILES</th>\n",
       "      <th>Charge</th>\n",
       "      <th>Complexity</th>\n",
       "      <th>ConformerCount3D</th>\n",
       "      <th>ConformerModelRMSD3D</th>\n",
       "      <th>CovalentUnitCount</th>\n",
       "      <th>DefinedAtomStereoCount</th>\n",
       "      <th>DefinedBondStereoCount</th>\n",
       "      <th>EffectiveRotorCount3D</th>\n",
       "      <th>ExactMass</th>\n",
       "      <th>FeatureAcceptorCount3D</th>\n",
       "      <th>FeatureAnionCount3D</th>\n",
       "      <th>FeatureCationCount3D</th>\n",
       "      <th>FeatureCount3D</th>\n",
       "      <th>FeatureDonorCount3D</th>\n",
       "      <th>FeatureHydrophobeCount3D</th>\n",
       "      <th>FeatureRingCount3D</th>\n",
       "      <th>Fingerprint2D</th>\n",
       "      <th>HBondAcceptorCount</th>\n",
       "      <th>HBondDonorCount</th>\n",
       "      <th>HeavyAtomCount</th>\n",
       "      <th>IUPACName</th>\n",
       "      <th>InChI</th>\n",
       "      <th>InChIKey</th>\n",
       "      <th>IsomericSMILES</th>\n",
       "      <th>IsotopeAtomCount</th>\n",
       "      <th>MolecularFormula</th>\n",
       "      <th>MolecularWeight</th>\n",
       "      <th>MonoisotopicMass</th>\n",
       "      <th>RotatableBondCount</th>\n",
       "      <th>TPSA</th>\n",
       "      <th>UndefinedAtomStereoCount</th>\n",
       "      <th>UndefinedBondStereoCount</th>\n",
       "      <th>Volume3D</th>\n",
       "      <th>XLogP</th>\n",
       "      <th>XStericQuadrupole3D</th>\n",
       "      <th>YStericQuadrupole3D</th>\n",
       "      <th>ZStericQuadrupole3D</th>\n",
       "      <th>cids</th>\n",
       "      <th>targets</th>\n",
       "      <th>targets_bioentities</th>\n",
       "      <th>enzymes</th>\n",
       "      <th>enzymes_bioentities</th>\n",
       "      <th>transporters</th>\n",
       "      <th>transporters_bioentities</th>\n",
       "      <th>atcs</th>\n",
       "    </tr>\n",
       "  </thead>\n",
       "  <tbody>\n",
       "    <tr>\n",
       "      <th>15</th>\n",
       "      <td>Azacytidine</td>\n",
       "      <td>Methylation</td>\n",
       "      <td>NaN</td>\n",
       "      <td>NaN</td>\n",
       "      <td>NaN</td>\n",
       "      <td>NaN</td>\n",
       "      <td>9444</td>\n",
       "      <td>NaN</td>\n",
       "      <td>4</td>\n",
       "      <td>0</td>\n",
       "      <td>9444</td>\n",
       "      <td>C1=NC(=NC(=O)N1C2C(C(C(O2)CO)O)O)N</td>\n",
       "      <td>0</td>\n",
       "      <td>384</td>\n",
       "      <td>14</td>\n",
       "      <td>0.6</td>\n",
       "      <td>1</td>\n",
       "      <td>4</td>\n",
       "      <td>0</td>\n",
       "      <td>3.0</td>\n",
       "      <td>244.080770</td>\n",
       "      <td>5</td>\n",
       "      <td>0</td>\n",
       "      <td>0</td>\n",
       "      <td>12</td>\n",
       "      <td>5</td>\n",
       "      <td>0</td>\n",
       "      <td>2</td>\n",
       "      <td>AAADccBzuAAAAAAAAAAAAAAAAAAAASAAAAAgAAAAAAAAAA...</td>\n",
       "      <td>5</td>\n",
       "      <td>4</td>\n",
       "      <td>17</td>\n",
       "      <td>4-amino-1-[(2R,3R,4S,5R)-3,4-dihydroxy-5-(hydr...</td>\n",
       "      <td>InChI=1S/C8H12N4O5/c9-7-10-2-12(8(16)11-7)6-5(...</td>\n",
       "      <td>NMUSYJAQQFHJEW-KVTDHHQDSA-N</td>\n",
       "      <td>C1=NC(=NC(=O)N1[C@H]2[C@@H]([C@@H]([C@H](O2)CO...</td>\n",
       "      <td>0</td>\n",
       "      <td>C8H12N4O5</td>\n",
       "      <td>244.204680</td>\n",
       "      <td>244.080770</td>\n",
       "      <td>2</td>\n",
       "      <td>141.0</td>\n",
       "      <td>0</td>\n",
       "      <td>0</td>\n",
       "      <td>168.2</td>\n",
       "      <td>-2.2</td>\n",
       "      <td>6.14</td>\n",
       "      <td>2.47</td>\n",
       "      <td>0.84</td>\n",
       "      <td>1805,9444,47751,460485,460518,1265902,6420049,...</td>\n",
       "      <td>DNA,DNA a class=\"pubchem-internal-link CID-597...</td>\n",
       "      <td>BE0004796,BE0000892,BE0004810</td>\n",
       "      <td>Cytidine deaminase</td>\n",
       "      <td>BE0002443</td>\n",
       "      <td>None</td>\n",
       "      <td>None</td>\n",
       "      <td>L01BC07</td>\n",
       "    </tr>\n",
       "    <tr>\n",
       "      <th>27</th>\n",
       "      <td>Carboplatin</td>\n",
       "      <td>DNA</td>\n",
       "      <td>6</td>\n",
       "      <td>-2.34</td>\n",
       "      <td>4</td>\n",
       "      <td>0</td>\n",
       "      <td>C1CC2(C1)C(=O)O[Pt](OC2=O)(N)N</td>\n",
       "      <td>369.2</td>\n",
       "      <td>0</td>\n",
       "      <td>0</td>\n",
       "      <td>426756</td>\n",
       "      <td>C1CC(C1)(C(=O)O)C(=O)O.[NH2-].[NH2-].[Pt+2]</td>\n",
       "      <td>0</td>\n",
       "      <td>177</td>\n",
       "      <td>0</td>\n",
       "      <td>NaN</td>\n",
       "      <td>4</td>\n",
       "      <td>0</td>\n",
       "      <td>0</td>\n",
       "      <td>NaN</td>\n",
       "      <td>371.044498</td>\n",
       "      <td>NaN</td>\n",
       "      <td>NaN</td>\n",
       "      <td>NaN</td>\n",
       "      <td>NaN</td>\n",
       "      <td>NaN</td>\n",
       "      <td>NaN</td>\n",
       "      <td>NaN</td>\n",
       "      <td>AAADccBjOAAAAAAAAAAABAAAAABgAAAAAAAkAAAAAAAAAA...</td>\n",
       "      <td>6</td>\n",
       "      <td>4</td>\n",
       "      <td>13</td>\n",
       "      <td>azanide;cyclobutane-1,1-dicarboxylic acid;plat...</td>\n",
       "      <td>InChI=1S/C6H8O4.2H2N.Pt/c7-4(8)6(5(9)10)2-1-3-...</td>\n",
       "      <td>VSRXQHXAPYXROS-UHFFFAOYSA-N</td>\n",
       "      <td>C1CC(C1)(C(=O)O)C(=O)O.[NH2-].[NH2-].[Pt+2]</td>\n",
       "      <td>0</td>\n",
       "      <td>C6H12N2O4Pt</td>\n",
       "      <td>371.254480</td>\n",
       "      <td>371.044498</td>\n",
       "      <td>0</td>\n",
       "      <td>76.6</td>\n",
       "      <td>0</td>\n",
       "      <td>0</td>\n",
       "      <td>NaN</td>\n",
       "      <td>NaN</td>\n",
       "      <td>NaN</td>\n",
       "      <td>NaN</td>\n",
       "      <td>NaN</td>\n",
       "      <td>426756,46780173</td>\n",
       "      <td>DNA</td>\n",
       "      <td>BE0004796</td>\n",
       "      <td>Glutathione S-transferase Mu 1,Glutathione S-t...</td>\n",
       "      <td>BE0000807,BE0000814,BE0000818,BE0004778,BE0004...</td>\n",
       "      <td>ATP-binding cassette sub-family G member 2,Can...</td>\n",
       "      <td>BE0001067,BE0001069,BE0003666,BE0003664,BE0003...</td>\n",
       "      <td>L01XA02</td>\n",
       "    </tr>\n",
       "    <tr>\n",
       "      <th>28</th>\n",
       "      <td>CarboTaxol</td>\n",
       "      <td>DNA</td>\n",
       "      <td>NaN</td>\n",
       "      <td>NaN</td>\n",
       "      <td>NaN</td>\n",
       "      <td>NaN</td>\n",
       "      <td>441276</td>\n",
       "      <td>NaN</td>\n",
       "      <td>11</td>\n",
       "      <td>0</td>\n",
       "      <td>441276</td>\n",
       "      <td>CC1=C2C(C(=O)C3(C(CC4C(C3C(C(C2(C)C)(CC1OC(=O)...</td>\n",
       "      <td>0</td>\n",
       "      <td>1790</td>\n",
       "      <td>0</td>\n",
       "      <td>NaN</td>\n",
       "      <td>1</td>\n",
       "      <td>10</td>\n",
       "      <td>0</td>\n",
       "      <td>NaN</td>\n",
       "      <td>853.330955</td>\n",
       "      <td>NaN</td>\n",
       "      <td>NaN</td>\n",
       "      <td>NaN</td>\n",
       "      <td>NaN</td>\n",
       "      <td>NaN</td>\n",
       "      <td>NaN</td>\n",
       "      <td>NaN</td>\n",
       "      <td>AAADcfB+PAAAAAAAAAAAAAAAAABIAAAAAAAwYMGCAAAaIA...</td>\n",
       "      <td>14</td>\n",
       "      <td>4</td>\n",
       "      <td>62</td>\n",
       "      <td>None</td>\n",
       "      <td>InChI=1S/C47H51NO14/c1-25-31(60-43(56)36(52)35...</td>\n",
       "      <td>RCINICONZNJXQF-VAZQATRQSA-N</td>\n",
       "      <td>CC1=C2[C@H](C(=O)[C@@]3([C@H](C[C@@H]4[C@](C3[...</td>\n",
       "      <td>0</td>\n",
       "      <td>C47H51NO14</td>\n",
       "      <td>853.906140</td>\n",
       "      <td>853.330955</td>\n",
       "      <td>14</td>\n",
       "      <td>221.0</td>\n",
       "      <td>1</td>\n",
       "      <td>0</td>\n",
       "      <td>NaN</td>\n",
       "      <td>2.5</td>\n",
       "      <td>NaN</td>\n",
       "      <td>NaN</td>\n",
       "      <td>NaN</td>\n",
       "      <td>4666,36314,60915,177409,184492,441276,5317123,...</td>\n",
       "      <td>Apoptosis regulator Bcl-2,Microtubule-associat...</td>\n",
       "      <td>BE0000246,BE0001100,BE0003475,BE0003474,BE0000...</td>\n",
       "      <td>Cytochrome P450 19A1,Cytochrome P450 1B1,Cytoc...</td>\n",
       "      <td>BE0002090,BE0001111,BE0002887,BE0002793,BE0002...</td>\n",
       "      <td>ATP-binding cassette sub-family G member 2,Bil...</td>\n",
       "      <td>BE0001067,BE0000703,BE0001069,BE0001032,BE0000...</td>\n",
       "      <td>L01CD01</td>\n",
       "    </tr>\n",
       "    <tr>\n",
       "      <th>32</th>\n",
       "      <td>Chloroquine</td>\n",
       "      <td>Thiamine</td>\n",
       "      <td>NaN</td>\n",
       "      <td>NaN</td>\n",
       "      <td>NaN</td>\n",
       "      <td>NaN</td>\n",
       "      <td>2719</td>\n",
       "      <td>NaN</td>\n",
       "      <td>1</td>\n",
       "      <td>0</td>\n",
       "      <td>2719</td>\n",
       "      <td>CCN(CC)CCCC(C)NC1=C2C=CC(=CC2=NC=C1)Cl</td>\n",
       "      <td>0</td>\n",
       "      <td>309</td>\n",
       "      <td>324</td>\n",
       "      <td>0.8</td>\n",
       "      <td>1</td>\n",
       "      <td>0</td>\n",
       "      <td>0</td>\n",
       "      <td>8.0</td>\n",
       "      <td>319.181526</td>\n",
       "      <td>1</td>\n",
       "      <td>0</td>\n",
       "      <td>2</td>\n",
       "      <td>6</td>\n",
       "      <td>1</td>\n",
       "      <td>0</td>\n",
       "      <td>2</td>\n",
       "      <td>AAADceB7AAAEAAAAAAAAAAAAAAAAAAAAAAA8QAAAAAAAAA...</td>\n",
       "      <td>3</td>\n",
       "      <td>1</td>\n",
       "      <td>22</td>\n",
       "      <td>4-N-(7-chloroquinolin-4-yl)-1-N,1-N-diethylpen...</td>\n",
       "      <td>InChI=1S/C18H26ClN3/c1-4-22(5-2)12-6-7-14(3)21...</td>\n",
       "      <td>WHTVZRBIWZFKQO-UHFFFAOYSA-N</td>\n",
       "      <td>CCN(CC)CCCC(C)NC1=C2C=CC(=CC2=NC=C1)Cl</td>\n",
       "      <td>0</td>\n",
       "      <td>C18H26ClN3</td>\n",
       "      <td>319.872140</td>\n",
       "      <td>319.181526</td>\n",
       "      <td>8</td>\n",
       "      <td>28.2</td>\n",
       "      <td>1</td>\n",
       "      <td>0</td>\n",
       "      <td>255.7</td>\n",
       "      <td>4.6</td>\n",
       "      <td>10.27</td>\n",
       "      <td>3.10</td>\n",
       "      <td>1.88</td>\n",
       "      <td>2719,444810,639540,10087451,49849611,49849612,...</td>\n",
       "      <td>Fe-protoporphyrin IX,Glutathione S-transferase...</td>\n",
       "      <td>BE0004805,BE0002659,BE0002189,BE0001171,BE0000704</td>\n",
       "      <td>Cytochrome P450 1A1,Cytochrome P450 2C8,Cytoch...</td>\n",
       "      <td>BE0003543,BE0002887,BE0002363,BE0002638,BE0002362</td>\n",
       "      <td>Multidrug resistance protein 1</td>\n",
       "      <td>BE0001032</td>\n",
       "      <td>P01BA01</td>\n",
       "    </tr>\n",
       "    <tr>\n",
       "      <th>33</th>\n",
       "      <td>Cisplatin</td>\n",
       "      <td>DNA</td>\n",
       "      <td>NaN</td>\n",
       "      <td>NaN</td>\n",
       "      <td>NaN</td>\n",
       "      <td>NaN</td>\n",
       "      <td>2767</td>\n",
       "      <td>NaN</td>\n",
       "      <td>0</td>\n",
       "      <td>0</td>\n",
       "      <td>2767</td>\n",
       "      <td>[NH2-].[NH2-].Cl[Pt+2]Cl</td>\n",
       "      <td>0</td>\n",
       "      <td>7</td>\n",
       "      <td>0</td>\n",
       "      <td>NaN</td>\n",
       "      <td>3</td>\n",
       "      <td>0</td>\n",
       "      <td>0</td>\n",
       "      <td>NaN</td>\n",
       "      <td>296.939945</td>\n",
       "      <td>NaN</td>\n",
       "      <td>NaN</td>\n",
       "      <td>NaN</td>\n",
       "      <td>NaN</td>\n",
       "      <td>NaN</td>\n",
       "      <td>NaN</td>\n",
       "      <td>NaN</td>\n",
       "      <td>AAADcYADAAAGAAAAAAAABAAAAAAAAAAAAAAAAAAAAAAAAA...</td>\n",
       "      <td>2</td>\n",
       "      <td>2</td>\n",
       "      <td>5</td>\n",
       "      <td>azanide;dichloroplatinum(2+)</td>\n",
       "      <td>InChI=1S/2ClH.2H2N.Pt/h2*1H;2*1H2;/q;;2*-1;+4/p-2</td>\n",
       "      <td>DQLATGHUWYMOKM-UHFFFAOYSA-L</td>\n",
       "      <td>[NH2-].[NH2-].Cl[Pt+2]Cl</td>\n",
       "      <td>0</td>\n",
       "      <td>Cl2H4N2Pt</td>\n",
       "      <td>298.035160</td>\n",
       "      <td>296.939945</td>\n",
       "      <td>0</td>\n",
       "      <td>2.0</td>\n",
       "      <td>0</td>\n",
       "      <td>0</td>\n",
       "      <td>NaN</td>\n",
       "      <td>NaN</td>\n",
       "      <td>NaN</td>\n",
       "      <td>NaN</td>\n",
       "      <td>NaN</td>\n",
       "      <td>2767,450696</td>\n",
       "      <td>DNA</td>\n",
       "      <td>BE0004796</td>\n",
       "      <td>Arylamine N-acetyltransferase,Cholinesterase,C...</td>\n",
       "      <td>BE0004429,BE0002180,BE0003549,BE0002793,BE0000...</td>\n",
       "      <td>ATP-binding cassette sub-family G member 2,Can...</td>\n",
       "      <td>BE0001067,BE0001069,BE0001061,BE0003666,BE0003...</td>\n",
       "      <td>None</td>\n",
       "    </tr>\n",
       "    <tr>\n",
       "      <th>50</th>\n",
       "      <td>FOLFIRI</td>\n",
       "      <td>DNA</td>\n",
       "      <td>NaN</td>\n",
       "      <td>NaN</td>\n",
       "      <td>NaN</td>\n",
       "      <td>NaN</td>\n",
       "      <td>56842117</td>\n",
       "      <td>NaN</td>\n",
       "      <td>3</td>\n",
       "      <td>0</td>\n",
       "      <td>56842117</td>\n",
       "      <td>CCC1=C2C=C(C=CC2=NC3=C1CN4C3=CC5=C(C4=O)COC(=O...</td>\n",
       "      <td>0</td>\n",
       "      <td>2310</td>\n",
       "      <td>0</td>\n",
       "      <td>NaN</td>\n",
       "      <td>3</td>\n",
       "      <td>2</td>\n",
       "      <td>0</td>\n",
       "      <td>NaN</td>\n",
       "      <td>1189.462887</td>\n",
       "      <td>NaN</td>\n",
       "      <td>NaN</td>\n",
       "      <td>NaN</td>\n",
       "      <td>NaN</td>\n",
       "      <td>NaN</td>\n",
       "      <td>NaN</td>\n",
       "      <td>NaN</td>\n",
       "      <td>AAADcfB//QAAAAAAAAAAAAAAAAAAAWAAAAA8eLECAAAAAF...</td>\n",
       "      <td>20</td>\n",
       "      <td>10</td>\n",
       "      <td>86</td>\n",
       "      <td>None</td>\n",
       "      <td>InChI=1S/C33H38N4O6.C20H23N7O7.C4H3FN2O2/c1-3-...</td>\n",
       "      <td>JYEFSHLLTQIXIO-SMNQTINBSA-N</td>\n",
       "      <td>CCC1=C2C=C(C=CC2=NC3=C1CN4C3=CC5=C(C4=O)COC(=O...</td>\n",
       "      <td>0</td>\n",
       "      <td>C57H64FN13O15</td>\n",
       "      <td>1190.194563</td>\n",
       "      <td>1189.462887</td>\n",
       "      <td>14</td>\n",
       "      <td>386.0</td>\n",
       "      <td>1</td>\n",
       "      <td>0</td>\n",
       "      <td>NaN</td>\n",
       "      <td>NaN</td>\n",
       "      <td>NaN</td>\n",
       "      <td>NaN</td>\n",
       "      <td>NaN</td>\n",
       "      <td>56842117</td>\n",
       "      <td>None</td>\n",
       "      <td>None</td>\n",
       "      <td>None</td>\n",
       "      <td>None</td>\n",
       "      <td>None</td>\n",
       "      <td>None</td>\n",
       "      <td>None</td>\n",
       "    </tr>\n",
       "    <tr>\n",
       "      <th>51</th>\n",
       "      <td>FOLFOX</td>\n",
       "      <td>DNA</td>\n",
       "      <td>NaN</td>\n",
       "      <td>NaN</td>\n",
       "      <td>NaN</td>\n",
       "      <td>NaN</td>\n",
       "      <td>56842121</td>\n",
       "      <td>NaN</td>\n",
       "      <td>4</td>\n",
       "      <td>0</td>\n",
       "      <td>56842121</td>\n",
       "      <td>[CH2-]C1CCCCC1[CH2-].C1C(N(C2=C(N1)NC(=NC2=O)N...</td>\n",
       "      <td>0</td>\n",
       "      <td>1290</td>\n",
       "      <td>0</td>\n",
       "      <td>NaN</td>\n",
       "      <td>5</td>\n",
       "      <td>3</td>\n",
       "      <td>0</td>\n",
       "      <td>NaN</td>\n",
       "      <td>998.253402</td>\n",
       "      <td>NaN</td>\n",
       "      <td>NaN</td>\n",
       "      <td>NaN</td>\n",
       "      <td>NaN</td>\n",
       "      <td>NaN</td>\n",
       "      <td>NaN</td>\n",
       "      <td>NaN</td>\n",
       "      <td>AAADcfB//QAAAAAAAAAABAAAAAAAASJAAAAwYIECAAAAAE...</td>\n",
       "      <td>18</td>\n",
       "      <td>11</td>\n",
       "      <td>58</td>\n",
       "      <td>(2S)-2-[[4-[(2-amino-5-formyl-4-oxo-1,6,7,8-te...</td>\n",
       "      <td>InChI=1S/C20H23N7O7.C8H14.C4H3FN2O2.C2H2O4.Pt/...</td>\n",
       "      <td>YXTKHLHCVFUPPT-YYFJYKOTSA-N</td>\n",
       "      <td>[CH2-][C@@H]1CCCC[C@H]1[CH2-].C1C(N(C2=C(N1)NC...</td>\n",
       "      <td>0</td>\n",
       "      <td>C34H42FN9O13Pt</td>\n",
       "      <td>998.832183</td>\n",
       "      <td>998.253402</td>\n",
       "      <td>9</td>\n",
       "      <td>348.0</td>\n",
       "      <td>1</td>\n",
       "      <td>0</td>\n",
       "      <td>NaN</td>\n",
       "      <td>NaN</td>\n",
       "      <td>NaN</td>\n",
       "      <td>NaN</td>\n",
       "      <td>NaN</td>\n",
       "      <td>56842121</td>\n",
       "      <td>None</td>\n",
       "      <td>None</td>\n",
       "      <td>None</td>\n",
       "      <td>None</td>\n",
       "      <td>None</td>\n",
       "      <td>None</td>\n",
       "      <td>None</td>\n",
       "    </tr>\n",
       "    <tr>\n",
       "      <th>79</th>\n",
       "      <td>Oxaliplatin</td>\n",
       "      <td>DNA</td>\n",
       "      <td>2</td>\n",
       "      <td>-0.62</td>\n",
       "      <td>4</td>\n",
       "      <td>0</td>\n",
       "      <td>C1CC[C@H]([C@@H](C1)N)N</td>\n",
       "      <td>114.2</td>\n",
       "      <td>2</td>\n",
       "      <td>0</td>\n",
       "      <td>43806</td>\n",
       "      <td>C1CCC(C(C1)N)N</td>\n",
       "      <td>0</td>\n",
       "      <td>62</td>\n",
       "      <td>2</td>\n",
       "      <td>0.4</td>\n",
       "      <td>1</td>\n",
       "      <td>2</td>\n",
       "      <td>0</td>\n",
       "      <td>1.2</td>\n",
       "      <td>114.115698</td>\n",
       "      <td>0</td>\n",
       "      <td>0</td>\n",
       "      <td>2</td>\n",
       "      <td>5</td>\n",
       "      <td>2</td>\n",
       "      <td>0</td>\n",
       "      <td>1</td>\n",
       "      <td>AAADccBjAAAAAAAAAAAAAAAAAAAAAAAAAAAwAAAAAAAAAA...</td>\n",
       "      <td>2</td>\n",
       "      <td>2</td>\n",
       "      <td>8</td>\n",
       "      <td>(1R,2R)-cyclohexane-1,2-diamine</td>\n",
       "      <td>InChI=1S/C6H14N2/c7-5-3-1-2-4-6(5)8/h5-6H,1-4,...</td>\n",
       "      <td>SSJXIUAHEKJCMH-PHDIDXHHSA-N</td>\n",
       "      <td>C1CC[C@H]([C@@H](C1)N)N</td>\n",
       "      <td>0</td>\n",
       "      <td>C6H14N2</td>\n",
       "      <td>114.188760</td>\n",
       "      <td>114.115698</td>\n",
       "      <td>0</td>\n",
       "      <td>52.0</td>\n",
       "      <td>0</td>\n",
       "      <td>0</td>\n",
       "      <td>93.4</td>\n",
       "      <td>-0.3</td>\n",
       "      <td>1.80</td>\n",
       "      <td>1.74</td>\n",
       "      <td>1.05</td>\n",
       "      <td>4610,43806,342917,374014,479307,10313027,10750...</td>\n",
       "      <td>None</td>\n",
       "      <td>None</td>\n",
       "      <td>None</td>\n",
       "      <td>None</td>\n",
       "      <td>None</td>\n",
       "      <td>None</td>\n",
       "      <td>None</td>\n",
       "    </tr>\n",
       "  </tbody>\n",
       "</table>\n",
       "</div>"
      ],
      "text/plain": [
       "   ChallengeName Target(Official Symbol)  HBA  cLogP  HBD  Lipinski            SMILES or PubChem ID     MW  AtomStereoCount  BondStereoCount       CID                                    CanonicalSMILES  Charge  Complexity  ConformerCount3D  ConformerModelRMSD3D  CovalentUnitCount  DefinedAtomStereoCount  DefinedBondStereoCount  EffectiveRotorCount3D    ExactMass  FeatureAcceptorCount3D  FeatureAnionCount3D  FeatureCationCount3D  FeatureCount3D  FeatureDonorCount3D  FeatureHydrophobeCount3D  FeatureRingCount3D                                      Fingerprint2D  HBondAcceptorCount  HBondDonorCount  HeavyAtomCount                                          IUPACName                                              InChI                     InChIKey                                     IsomericSMILES  IsotopeAtomCount MolecularFormula  MolecularWeight  MonoisotopicMass  RotatableBondCount   TPSA  UndefinedAtomStereoCount  UndefinedBondStereoCount  Volume3D  XLogP  XStericQuadrupole3D  \\\n",
       "15   Azacytidine             Methylation  NaN    NaN  NaN       NaN                            9444    NaN                4                0      9444                 C1=NC(=NC(=O)N1C2C(C(C(O2)CO)O)O)N       0         384                14                   0.6                  1                       4                       0                    3.0   244.080770                       5                    0                     0              12                    5                         0                   2  AAADccBzuAAAAAAAAAAAAAAAAAAAASAAAAAgAAAAAAAAAA...                   5                4              17  4-amino-1-[(2R,3R,4S,5R)-3,4-dihydroxy-5-(hydr...  InChI=1S/C8H12N4O5/c9-7-10-2-12(8(16)11-7)6-5(...  NMUSYJAQQFHJEW-KVTDHHQDSA-N  C1=NC(=NC(=O)N1[C@H]2[C@@H]([C@@H]([C@H](O2)CO...                 0        C8H12N4O5       244.204680        244.080770                   2  141.0                         0                         0     168.2   -2.2                 6.14   \n",
       "27   Carboplatin                     DNA    6  -2.34    4         0  C1CC2(C1)C(=O)O[Pt](OC2=O)(N)N  369.2                0                0    426756        C1CC(C1)(C(=O)O)C(=O)O.[NH2-].[NH2-].[Pt+2]       0         177                 0                   NaN                  4                       0                       0                    NaN   371.044498                     NaN                  NaN                   NaN             NaN                  NaN                       NaN                 NaN  AAADccBjOAAAAAAAAAAABAAAAABgAAAAAAAkAAAAAAAAAA...                   6                4              13  azanide;cyclobutane-1,1-dicarboxylic acid;plat...  InChI=1S/C6H8O4.2H2N.Pt/c7-4(8)6(5(9)10)2-1-3-...  VSRXQHXAPYXROS-UHFFFAOYSA-N        C1CC(C1)(C(=O)O)C(=O)O.[NH2-].[NH2-].[Pt+2]                 0      C6H12N2O4Pt       371.254480        371.044498                   0   76.6                         0                         0       NaN    NaN                  NaN   \n",
       "28    CarboTaxol                     DNA  NaN    NaN  NaN       NaN                          441276    NaN               11                0    441276  CC1=C2C(C(=O)C3(C(CC4C(C3C(C(C2(C)C)(CC1OC(=O)...       0        1790                 0                   NaN                  1                      10                       0                    NaN   853.330955                     NaN                  NaN                   NaN             NaN                  NaN                       NaN                 NaN  AAADcfB+PAAAAAAAAAAAAAAAAABIAAAAAAAwYMGCAAAaIA...                  14                4              62                                               None  InChI=1S/C47H51NO14/c1-25-31(60-43(56)36(52)35...  RCINICONZNJXQF-VAZQATRQSA-N  CC1=C2[C@H](C(=O)[C@@]3([C@H](C[C@@H]4[C@](C3[...                 0       C47H51NO14       853.906140        853.330955                  14  221.0                         1                         0       NaN    2.5                  NaN   \n",
       "32   Chloroquine                Thiamine  NaN    NaN  NaN       NaN                            2719    NaN                1                0      2719             CCN(CC)CCCC(C)NC1=C2C=CC(=CC2=NC=C1)Cl       0         309               324                   0.8                  1                       0                       0                    8.0   319.181526                       1                    0                     2               6                    1                         0                   2  AAADceB7AAAEAAAAAAAAAAAAAAAAAAAAAAA8QAAAAAAAAA...                   3                1              22  4-N-(7-chloroquinolin-4-yl)-1-N,1-N-diethylpen...  InChI=1S/C18H26ClN3/c1-4-22(5-2)12-6-7-14(3)21...  WHTVZRBIWZFKQO-UHFFFAOYSA-N             CCN(CC)CCCC(C)NC1=C2C=CC(=CC2=NC=C1)Cl                 0       C18H26ClN3       319.872140        319.181526                   8   28.2                         1                         0     255.7    4.6                10.27   \n",
       "33     Cisplatin                     DNA  NaN    NaN  NaN       NaN                            2767    NaN                0                0      2767                           [NH2-].[NH2-].Cl[Pt+2]Cl       0           7                 0                   NaN                  3                       0                       0                    NaN   296.939945                     NaN                  NaN                   NaN             NaN                  NaN                       NaN                 NaN  AAADcYADAAAGAAAAAAAABAAAAAAAAAAAAAAAAAAAAAAAAA...                   2                2               5                       azanide;dichloroplatinum(2+)  InChI=1S/2ClH.2H2N.Pt/h2*1H;2*1H2;/q;;2*-1;+4/p-2  DQLATGHUWYMOKM-UHFFFAOYSA-L                           [NH2-].[NH2-].Cl[Pt+2]Cl                 0        Cl2H4N2Pt       298.035160        296.939945                   0    2.0                         0                         0       NaN    NaN                  NaN   \n",
       "50       FOLFIRI                     DNA  NaN    NaN  NaN       NaN                        56842117    NaN                3                0  56842117  CCC1=C2C=C(C=CC2=NC3=C1CN4C3=CC5=C(C4=O)COC(=O...       0        2310                 0                   NaN                  3                       2                       0                    NaN  1189.462887                     NaN                  NaN                   NaN             NaN                  NaN                       NaN                 NaN  AAADcfB//QAAAAAAAAAAAAAAAAAAAWAAAAA8eLECAAAAAF...                  20               10              86                                               None  InChI=1S/C33H38N4O6.C20H23N7O7.C4H3FN2O2/c1-3-...  JYEFSHLLTQIXIO-SMNQTINBSA-N  CCC1=C2C=C(C=CC2=NC3=C1CN4C3=CC5=C(C4=O)COC(=O...                 0    C57H64FN13O15      1190.194563       1189.462887                  14  386.0                         1                         0       NaN    NaN                  NaN   \n",
       "51        FOLFOX                     DNA  NaN    NaN  NaN       NaN                        56842121    NaN                4                0  56842121  [CH2-]C1CCCCC1[CH2-].C1C(N(C2=C(N1)NC(=NC2=O)N...       0        1290                 0                   NaN                  5                       3                       0                    NaN   998.253402                     NaN                  NaN                   NaN             NaN                  NaN                       NaN                 NaN  AAADcfB//QAAAAAAAAAABAAAAAAAASJAAAAwYIECAAAAAE...                  18               11              58  (2S)-2-[[4-[(2-amino-5-formyl-4-oxo-1,6,7,8-te...  InChI=1S/C20H23N7O7.C8H14.C4H3FN2O2.C2H2O4.Pt/...  YXTKHLHCVFUPPT-YYFJYKOTSA-N  [CH2-][C@@H]1CCCC[C@H]1[CH2-].C1C(N(C2=C(N1)NC...                 0   C34H42FN9O13Pt       998.832183        998.253402                   9  348.0                         1                         0       NaN    NaN                  NaN   \n",
       "79   Oxaliplatin                     DNA    2  -0.62    4         0         C1CC[C@H]([C@@H](C1)N)N  114.2                2                0     43806                                     C1CCC(C(C1)N)N       0          62                 2                   0.4                  1                       2                       0                    1.2   114.115698                       0                    0                     2               5                    2                         0                   1  AAADccBjAAAAAAAAAAAAAAAAAAAAAAAAAAAwAAAAAAAAAA...                   2                2               8                    (1R,2R)-cyclohexane-1,2-diamine  InChI=1S/C6H14N2/c7-5-3-1-2-4-6(5)8/h5-6H,1-4,...  SSJXIUAHEKJCMH-PHDIDXHHSA-N                            C1CC[C@H]([C@@H](C1)N)N                 0          C6H14N2       114.188760        114.115698                   0   52.0                         0                         0      93.4   -0.3                 1.80   \n",
       "\n",
       "    YStericQuadrupole3D  ZStericQuadrupole3D                                               cids                                            targets                                targets_bioentities                                            enzymes                                enzymes_bioentities                                       transporters                           transporters_bioentities     atcs  \n",
       "15                 2.47                 0.84  1805,9444,47751,460485,460518,1265902,6420049,...  DNA,DNA a class=\"pubchem-internal-link CID-597...                      BE0004796,BE0000892,BE0004810                                 Cytidine deaminase                                          BE0002443                                               None                                               None  L01BC07  \n",
       "27                  NaN                  NaN                                    426756,46780173                                                DNA                                          BE0004796  Glutathione S-transferase Mu 1,Glutathione S-t...  BE0000807,BE0000814,BE0000818,BE0004778,BE0004...  ATP-binding cassette sub-family G member 2,Can...  BE0001067,BE0001069,BE0003666,BE0003664,BE0003...  L01XA02  \n",
       "28                  NaN                  NaN  4666,36314,60915,177409,184492,441276,5317123,...  Apoptosis regulator Bcl-2,Microtubule-associat...  BE0000246,BE0001100,BE0003475,BE0003474,BE0000...  Cytochrome P450 19A1,Cytochrome P450 1B1,Cytoc...  BE0002090,BE0001111,BE0002887,BE0002793,BE0002...  ATP-binding cassette sub-family G member 2,Bil...  BE0001067,BE0000703,BE0001069,BE0001032,BE0000...  L01CD01  \n",
       "32                 3.10                 1.88  2719,444810,639540,10087451,49849611,49849612,...  Fe-protoporphyrin IX,Glutathione S-transferase...  BE0004805,BE0002659,BE0002189,BE0001171,BE0000704  Cytochrome P450 1A1,Cytochrome P450 2C8,Cytoch...  BE0003543,BE0002887,BE0002363,BE0002638,BE0002362                     Multidrug resistance protein 1                                          BE0001032  P01BA01  \n",
       "33                  NaN                  NaN                                        2767,450696                                                DNA                                          BE0004796  Arylamine N-acetyltransferase,Cholinesterase,C...  BE0004429,BE0002180,BE0003549,BE0002793,BE0000...  ATP-binding cassette sub-family G member 2,Can...  BE0001067,BE0001069,BE0001061,BE0003666,BE0003...     None  \n",
       "50                  NaN                  NaN                                           56842117                                               None                                               None                                               None                                               None                                               None                                               None     None  \n",
       "51                  NaN                  NaN                                           56842121                                               None                                               None                                               None                                               None                                               None                                               None     None  \n",
       "79                 1.74                 1.05  4610,43806,342917,374014,479307,10313027,10750...                                               None                                               None                                               None                                               None                                               None                                               None     None  "
      ]
     },
     "metadata": {},
     "output_type": "display_data"
    }
   ],
   "source": [
    "# Get full drug data for drugs which are missing targets\n",
    "df = drug_info_release_3[drug_info_release_3['ChallengeName'].isin(missing_drugs)].copy()\n",
    "df['CID'] = df['CID'].apply(lambda x: str(int(float(x))))\n",
    "display(df)"
   ]
  },
  {
   "cell_type": "code",
   "execution_count": 29,
   "metadata": {
    "code_folding": [
     0
    ],
    "collapsed": false
   },
   "outputs": [],
   "source": [
    "# Get STITCH target data for drugs which are missing targets\n",
    "engine = sa.create_engine('mysql://strokach:@192.168.6.19:3306/stitch_4_0')\n",
    "sql_query = \"\"\"\n",
    "select *\n",
    "from chemical_sources cs\n",
    "join protein_chemical_links pcl on (pcl.chemical = cs.flat_chemical)\n",
    "where protein like '9606.%%'\n",
    "and source_name = 'PC'\n",
    "and source_id in ('{}')\n",
    "\"\"\".format(\"', '\".join(str(int(f)) for f in df['CID']))\n",
    "df2 = pd.read_sql_query(sql_query, engine)"
   ]
  },
  {
   "cell_type": "code",
   "execution_count": 30,
   "metadata": {
    "collapsed": false
   },
   "outputs": [],
   "source": [
    "df2['taxid'], df2['protein_id'] = (\n",
    "    list(zip(*df2['protein'].apply(lambda x: x.split('.'))))\n",
    ")"
   ]
  },
  {
   "cell_type": "code",
   "execution_count": 31,
   "metadata": {
    "collapsed": false,
    "scrolled": false
   },
   "outputs": [
    {
     "data": {
      "text/html": [
       "<div>\n",
       "<table border=\"1\" class=\"dataframe\">\n",
       "  <thead>\n",
       "    <tr style=\"text-align: right;\">\n",
       "      <th></th>\n",
       "      <th>flat_chemical</th>\n",
       "      <th>stereo_chemical</th>\n",
       "      <th>source_name</th>\n",
       "      <th>source_id</th>\n",
       "      <th>chemical</th>\n",
       "      <th>protein</th>\n",
       "      <th>experimental</th>\n",
       "      <th>databaseID</th>\n",
       "      <th>textmining</th>\n",
       "      <th>combined_score</th>\n",
       "      <th>taxid</th>\n",
       "      <th>protein_id</th>\n",
       "    </tr>\n",
       "  </thead>\n",
       "  <tbody>\n",
       "    <tr>\n",
       "      <th>0</th>\n",
       "      <td>CID100002719</td>\n",
       "      <td>CID000002719</td>\n",
       "      <td>PC</td>\n",
       "      <td>2719</td>\n",
       "      <td>CID100002719</td>\n",
       "      <td>9606.ENSP00000000412</td>\n",
       "      <td>0</td>\n",
       "      <td>0</td>\n",
       "      <td>0</td>\n",
       "      <td>200</td>\n",
       "      <td>9606</td>\n",
       "      <td>ENSP00000000412</td>\n",
       "    </tr>\n",
       "    <tr>\n",
       "      <th>1</th>\n",
       "      <td>CID100002719</td>\n",
       "      <td>CID000002719</td>\n",
       "      <td>PC</td>\n",
       "      <td>2719</td>\n",
       "      <td>CID100002719</td>\n",
       "      <td>9606.ENSP00000011653</td>\n",
       "      <td>0</td>\n",
       "      <td>0</td>\n",
       "      <td>0</td>\n",
       "      <td>817</td>\n",
       "      <td>9606</td>\n",
       "      <td>ENSP00000011653</td>\n",
       "    </tr>\n",
       "    <tr>\n",
       "      <th>2</th>\n",
       "      <td>CID100002719</td>\n",
       "      <td>CID000002719</td>\n",
       "      <td>PC</td>\n",
       "      <td>2719</td>\n",
       "      <td>CID100002719</td>\n",
       "      <td>9606.ENSP00000037243</td>\n",
       "      <td>0</td>\n",
       "      <td>0</td>\n",
       "      <td>0</td>\n",
       "      <td>175</td>\n",
       "      <td>9606</td>\n",
       "      <td>ENSP00000037243</td>\n",
       "    </tr>\n",
       "    <tr>\n",
       "      <th>3</th>\n",
       "      <td>CID100002719</td>\n",
       "      <td>CID000002719</td>\n",
       "      <td>PC</td>\n",
       "      <td>2719</td>\n",
       "      <td>CID100002719</td>\n",
       "      <td>9606.ENSP00000072516</td>\n",
       "      <td>0</td>\n",
       "      <td>0</td>\n",
       "      <td>0</td>\n",
       "      <td>252</td>\n",
       "      <td>9606</td>\n",
       "      <td>ENSP00000072516</td>\n",
       "    </tr>\n",
       "    <tr>\n",
       "      <th>4</th>\n",
       "      <td>CID100002719</td>\n",
       "      <td>CID000002719</td>\n",
       "      <td>PC</td>\n",
       "      <td>2719</td>\n",
       "      <td>CID100002719</td>\n",
       "      <td>9606.ENSP00000161559</td>\n",
       "      <td>0</td>\n",
       "      <td>0</td>\n",
       "      <td>0</td>\n",
       "      <td>292</td>\n",
       "      <td>9606</td>\n",
       "      <td>ENSP00000161559</td>\n",
       "    </tr>\n",
       "  </tbody>\n",
       "</table>\n",
       "</div>"
      ],
      "text/plain": [
       "  flat_chemical stereo_chemical source_name source_id      chemical               protein  experimental  databaseID  textmining  combined_score taxid       protein_id\n",
       "0  CID100002719    CID000002719          PC      2719  CID100002719  9606.ENSP00000000412             0           0           0             200  9606  ENSP00000000412\n",
       "1  CID100002719    CID000002719          PC      2719  CID100002719  9606.ENSP00000011653             0           0           0             817  9606  ENSP00000011653\n",
       "2  CID100002719    CID000002719          PC      2719  CID100002719  9606.ENSP00000037243             0           0           0             175  9606  ENSP00000037243\n",
       "3  CID100002719    CID000002719          PC      2719  CID100002719  9606.ENSP00000072516             0           0           0             252  9606  ENSP00000072516\n",
       "4  CID100002719    CID000002719          PC      2719  CID100002719  9606.ENSP00000161559             0           0           0             292  9606  ENSP00000161559"
      ]
     },
     "metadata": {},
     "output_type": "display_data"
    },
    {
     "data": {
      "text/plain": [
       "flat_chemical      object\n",
       "stereo_chemical    object\n",
       "source_name        object\n",
       "source_id          object\n",
       "chemical           object\n",
       "protein            object\n",
       "experimental        int64\n",
       "databaseID          int64\n",
       "textmining          int64\n",
       "combined_score      int64\n",
       "taxid              object\n",
       "protein_id         object\n",
       "dtype: object"
      ]
     },
     "metadata": {},
     "output_type": "display_data"
    }
   ],
   "source": [
    "display(df2.head())\n",
    "display(df2.dtypes)"
   ]
  },
  {
   "cell_type": "code",
   "execution_count": 32,
   "metadata": {
    "collapsed": true
   },
   "outputs": [],
   "source": [
    "# Get HGNC IDs for targets that were mapped using STITCH\n",
    "engine = sa.create_engine('mysql://strokach:@192.168.6.19:3306/ensembl_sequence_38')\n",
    "sql_query = \"\"\"\n",
    "select *\n",
    "from hgnc2ensembl\n",
    "where ensp in ('{}')\n",
    "\"\"\".format(\"', '\".join(df2['protein_id'].drop_duplicates()))\n",
    "targets_mapped_2 = pd.read_sql_query(sql_query, engine)"
   ]
  },
  {
   "cell_type": "code",
   "execution_count": 33,
   "metadata": {
    "collapsed": false
   },
   "outputs": [
    {
     "data": {
      "text/html": [
       "<div>\n",
       "<table border=\"1\" class=\"dataframe\">\n",
       "  <thead>\n",
       "    <tr style=\"text-align: right;\">\n",
       "      <th></th>\n",
       "      <th>hgnc_name</th>\n",
       "      <th>hgnc_acc</th>\n",
       "      <th>hgnc_description</th>\n",
       "      <th>ensg</th>\n",
       "      <th>enst</th>\n",
       "      <th>ensp</th>\n",
       "    </tr>\n",
       "  </thead>\n",
       "  <tbody>\n",
       "    <tr>\n",
       "      <th>0</th>\n",
       "      <td>M6PR</td>\n",
       "      <td>HGNC:6752</td>\n",
       "      <td>mannose-6-phosphate receptor (cation dependent)</td>\n",
       "      <td>ENSG00000003056</td>\n",
       "      <td>ENST00000000412</td>\n",
       "      <td>ENSP00000000412</td>\n",
       "    </tr>\n",
       "    <tr>\n",
       "      <th>1</th>\n",
       "      <td>CFTR</td>\n",
       "      <td>HGNC:1884</td>\n",
       "      <td>cystic fibrosis transmembrane conductance regu...</td>\n",
       "      <td>ENSG00000001626</td>\n",
       "      <td>ENST00000003084</td>\n",
       "      <td>ENSP00000003084</td>\n",
       "    </tr>\n",
       "    <tr>\n",
       "      <th>2</th>\n",
       "      <td>SKAP2</td>\n",
       "      <td>HGNC:15687</td>\n",
       "      <td>src kinase associated phosphoprotein 2</td>\n",
       "      <td>ENSG00000005020</td>\n",
       "      <td>ENST00000345317</td>\n",
       "      <td>ENSP00000005587</td>\n",
       "    </tr>\n",
       "    <tr>\n",
       "      <th>3</th>\n",
       "      <td>CX3CL1</td>\n",
       "      <td>HGNC:10647</td>\n",
       "      <td>chemokine (C-X3-C motif) ligand 1</td>\n",
       "      <td>ENSG00000006210</td>\n",
       "      <td>ENST00000006053</td>\n",
       "      <td>ENSP00000006053</td>\n",
       "    </tr>\n",
       "    <tr>\n",
       "      <th>4</th>\n",
       "      <td>CRY1</td>\n",
       "      <td>HGNC:2384</td>\n",
       "      <td>cryptochrome circadian clock 1</td>\n",
       "      <td>ENSG00000008405</td>\n",
       "      <td>ENST00000008527</td>\n",
       "      <td>ENSP00000008527</td>\n",
       "    </tr>\n",
       "  </tbody>\n",
       "</table>\n",
       "</div>"
      ],
      "text/plain": [
       "  hgnc_name    hgnc_acc                                   hgnc_description             ensg             enst             ensp\n",
       "0      M6PR   HGNC:6752    mannose-6-phosphate receptor (cation dependent)  ENSG00000003056  ENST00000000412  ENSP00000000412\n",
       "1      CFTR   HGNC:1884  cystic fibrosis transmembrane conductance regu...  ENSG00000001626  ENST00000003084  ENSP00000003084\n",
       "2     SKAP2  HGNC:15687             src kinase associated phosphoprotein 2  ENSG00000005020  ENST00000345317  ENSP00000005587\n",
       "3    CX3CL1  HGNC:10647                  chemokine (C-X3-C motif) ligand 1  ENSG00000006210  ENST00000006053  ENSP00000006053\n",
       "4      CRY1   HGNC:2384                     cryptochrome circadian clock 1  ENSG00000008405  ENST00000008527  ENSP00000008527"
      ]
     },
     "execution_count": 33,
     "metadata": {},
     "output_type": "execute_result"
    }
   ],
   "source": [
    "targets_mapped_2.head()"
   ]
  },
  {
   "cell_type": "code",
   "execution_count": 34,
   "metadata": {
    "collapsed": true
   },
   "outputs": [],
   "source": [
    "# Create a drug -> target dataframe\n",
    "columns = [\n",
    "    'drug', 'target_original', 'target', \n",
    "    'hgnc_name', 'hgnc_acc', 'hgnc_description',\n",
    "    'ensg', 'enst', 'ensp',\n",
    "]\n",
    "column_renames = {\n",
    "    'ChallengeName': 'drug', \n",
    "    'Target(Official Symbol)': 'target_original', \n",
    "}\n",
    "drugs_to_targets_mapped_2 = (\n",
    "    df.rename(columns=column_renames)\n",
    "    .merge(df2, left_on=['CID'], right_on=['source_id'])\n",
    "    .merge(targets_mapped_2, left_on=['protein_id'], right_on=['ensp'])\n",
    ")\n",
    "drugs_to_targets_mapped_2['target'] = drugs_to_targets_mapped_2['target_original']\n",
    "drugs_to_targets_mapped_2 = drugs_to_targets_mapped_2[columns]"
   ]
  },
  {
   "cell_type": "code",
   "execution_count": 35,
   "metadata": {
    "collapsed": false,
    "scrolled": false
   },
   "outputs": [
    {
     "data": {
      "text/html": [
       "<div>\n",
       "<table border=\"1\" class=\"dataframe\">\n",
       "  <thead>\n",
       "    <tr style=\"text-align: right;\">\n",
       "      <th></th>\n",
       "      <th>drug</th>\n",
       "      <th>target_original</th>\n",
       "      <th>target</th>\n",
       "      <th>hgnc_name</th>\n",
       "      <th>hgnc_acc</th>\n",
       "      <th>hgnc_description</th>\n",
       "      <th>ensg</th>\n",
       "      <th>enst</th>\n",
       "      <th>ensp</th>\n",
       "    </tr>\n",
       "  </thead>\n",
       "  <tbody>\n",
       "    <tr>\n",
       "      <th>0</th>\n",
       "      <td>Azacytidine</td>\n",
       "      <td>Methylation</td>\n",
       "      <td>Methylation</td>\n",
       "      <td>CD4</td>\n",
       "      <td>HGNC:1678</td>\n",
       "      <td>CD4 molecule</td>\n",
       "      <td>ENSG00000010610</td>\n",
       "      <td>ENST00000011653</td>\n",
       "      <td>ENSP00000011653</td>\n",
       "    </tr>\n",
       "    <tr>\n",
       "      <th>1</th>\n",
       "      <td>CarboTaxol</td>\n",
       "      <td>DNA</td>\n",
       "      <td>DNA</td>\n",
       "      <td>CD4</td>\n",
       "      <td>HGNC:1678</td>\n",
       "      <td>CD4 molecule</td>\n",
       "      <td>ENSG00000010610</td>\n",
       "      <td>ENST00000011653</td>\n",
       "      <td>ENSP00000011653</td>\n",
       "    </tr>\n",
       "    <tr>\n",
       "      <th>2</th>\n",
       "      <td>Chloroquine</td>\n",
       "      <td>Thiamine</td>\n",
       "      <td>Thiamine</td>\n",
       "      <td>CD4</td>\n",
       "      <td>HGNC:1678</td>\n",
       "      <td>CD4 molecule</td>\n",
       "      <td>ENSG00000010610</td>\n",
       "      <td>ENST00000011653</td>\n",
       "      <td>ENSP00000011653</td>\n",
       "    </tr>\n",
       "    <tr>\n",
       "      <th>3</th>\n",
       "      <td>Cisplatin</td>\n",
       "      <td>DNA</td>\n",
       "      <td>DNA</td>\n",
       "      <td>CD4</td>\n",
       "      <td>HGNC:1678</td>\n",
       "      <td>CD4 molecule</td>\n",
       "      <td>ENSG00000010610</td>\n",
       "      <td>ENST00000011653</td>\n",
       "      <td>ENSP00000011653</td>\n",
       "    </tr>\n",
       "    <tr>\n",
       "      <th>4</th>\n",
       "      <td>Azacytidine</td>\n",
       "      <td>Methylation</td>\n",
       "      <td>Methylation</td>\n",
       "      <td>NGFR</td>\n",
       "      <td>HGNC:7809</td>\n",
       "      <td>nerve growth factor receptor</td>\n",
       "      <td>ENSG00000064300</td>\n",
       "      <td>ENST00000172229</td>\n",
       "      <td>ENSP00000172229</td>\n",
       "    </tr>\n",
       "  </tbody>\n",
       "</table>\n",
       "</div>"
      ],
      "text/plain": [
       "          drug target_original       target hgnc_name   hgnc_acc              hgnc_description             ensg             enst             ensp\n",
       "0  Azacytidine     Methylation  Methylation       CD4  HGNC:1678                  CD4 molecule  ENSG00000010610  ENST00000011653  ENSP00000011653\n",
       "1   CarboTaxol             DNA          DNA       CD4  HGNC:1678                  CD4 molecule  ENSG00000010610  ENST00000011653  ENSP00000011653\n",
       "2  Chloroquine        Thiamine     Thiamine       CD4  HGNC:1678                  CD4 molecule  ENSG00000010610  ENST00000011653  ENSP00000011653\n",
       "3    Cisplatin             DNA          DNA       CD4  HGNC:1678                  CD4 molecule  ENSG00000010610  ENST00000011653  ENSP00000011653\n",
       "4  Azacytidine     Methylation  Methylation      NGFR  HGNC:7809  nerve growth factor receptor  ENSG00000064300  ENST00000172229  ENSP00000172229"
      ]
     },
     "execution_count": 35,
     "metadata": {},
     "output_type": "execute_result"
    }
   ],
   "source": [
    "drugs_to_targets_mapped_2.head()"
   ]
  },
  {
   "cell_type": "code",
   "execution_count": 37,
   "metadata": {
    "collapsed": false
   },
   "outputs": [
    {
     "name": "stdout",
     "output_type": "stream",
     "text": [
      "Azacytidine\n",
      "CD4,NGFR,TSPAN32,ESR1,CHGA,NXT2,GUCY2F,TSC2,RIPK2,SLC5A5,ACTA2,MYH1,IL2,MYF5,GAPDH,ENO2,NANOG,LDHB,AICDA,IL4,RARS,CDX1,MLH1,MSH2,ODC1,MSH6,ADAT2,HELLS,PANK3,TNFSF10,FLT3,MYOG,AHR,PLCG1,CDKN1A,NRN1,MYH2,MYOD1,RRM2B,H3F3B,MYH4,CCNA1,NTS,KRAS,CCNB1,HRK,LMO2,ACSBG1,BLK,FAM8A1,TLR2,MRPL15,CENPO,METTL5,TRMT5,LYZ,RASAL1,CDH1,TNFRSF8,CTCF,DNMT3A,PPAP2A,STC2,CASP6,SLC26A4,PMS2,TIMP3,SLC5A4,HDC,PML,CDH13,C17orf64,TP53,DNMT3L,PELO,RSPO2,UHRF2,CDKN2B,DUSP6,PTPRO,TJP1,SMARCA5,CHD1,LY96,DCK,SLC28A1,HBE1,BAX,AZIN2,TGFA,GABRB1,FSTL1,S100P,HPGD,ITGA2,NOS3,COL14A1,TSHR,HPRT1,CLDN10,RUNX1,C3AR1,MGMT,TRIM8,ITGB2,TRH,HLTF,TERT,HRAS,CD34,HSPA6,TRIB1,DMAP1,TMC6,HIC1,TFE3,DKK3,CCNG2,AGGF1,CIITA,PRTFDC1,EZH2,AZIN1,NHLH2,SOX11,OXTR,NOS2,NKX2-5,DNMT3B,CLDN6,TSPO,BCL2,TPO,FBLN1,CALCA,RARB,HIST2H3D,MX2,HBB,GATA4,WDR20,KIR2DL1,CENPA,HBG2,PLCB1,BCL11A,FOXO3,PAX4,LITAF,CD59,DLK1,CYP1A2,KIR2DL3,H1F0,BTG3,RPL27A,UCKL1,NKX2-1,HIST1H4J,MYH7,MEGF6,MAGEA1,RASSF1,SLC29A2,BRCA1,HIST4H4,DAPK1,CASP8,PLCG2,TECPR2,DNMT1,HLA-G,STAT1,CYTH1,XAF1,PJA1,CDKN2A,H3F3A,FAM129A,FASLG,UCK2,PTPRK,RAB13,BNIP3,FYN,S100A9,PIP5K1A,CHD1L,NGF,NRAS,CNNM2,DPYD,MAGEA3,GADD45A,SMARCA1,UCK1,MMP9,NGFRAP1,BEX2,BEX1,PLAU,CHD6,HDAC1,PDIK1L,CXCL12,BAK1,ID3,KLF4,CDA,FOXE1,H2AFX,ASXL1,ISCA1,ID1,FOXP3,HLA-C,TNFRSF1B,MSRB2,SUV39H1,SLC22A12,TBC1D4,IGFBPL1,HIST1H4B,TRDMT1,HIST1H4C,PCDH17,MYC,C6orf62,APRT,SRPX,CYP1A1,TET2,RPS6,THUMPD1,KIR3DL1,CASP5,ST3GAL6,CHD2,SLC5A12,CHD9,MX1,GSTP1,DOT1L,MAD1L1,WDR47,HMGA2,APOBEC3G,CEBPD,ALAD,SCN10A,CHD7,CEP131,PAX8,MECP2,CHD8,PMS1,HDAC9,IL10,CDKN1C,FAM120B,PPP2CA,KLF6\n",
      "CarboTaxol\n",
      "CD4,ESR1,ACTA2,IL2,GAPDH,TNFSF10,FLT3,CDKN1A,RRM2B,H3F3B,KRAS,CCNB1,CDH1,CTCF,PPAP2A,TP53,DCK,BAX,TGFA,S100P,ITGA2,TERT,HRAS,CD34,HSPA6,NOS2,TSPO,BCL2,CYP1A2,BTG3,RASSF1,BRCA1,CASP8,CDKN2A,H3F3A,FASLG,FYN,NRAS,DPYD,GADD45A,MMP9,PLAU,BAK1,H2AFX,CASP5,GSTP1,HDAC9,IL10,ERCC1,TXNL1,CSF3,DDX5,CCND1,BIRC2,DDX1,ABCG2,DDX55,DDX39A,MT2A,GOT2,DDX49,TYMP,EPO,DDX56,DDX18,DDX25,KDR,PIK3CA,CYTIP,FGF2,STAT3,ABCB1,ERBB3,IGF1R,EIF4A3,ERBB2,AKT1,PLK4,EGFR,TNFRSF10B,CHEK1,FLT1,ABCC3,DDX19B,PIK3CB,EIF4A1,ALPPL2,ALB,CSF2,BIRC5,FADD,BCR,DDX19A,CHST14,F2,DDX23,CASP3,KLK3,DDX10,ZHX2,TYMS,MET,EML4,DDX54,PGR,EIF4A2,DDX24,KRT7,CASP9,DDX41,DDX59,DDX28,ABCC5,DDX3Y,PRPF4B,CYP3A4,HIF1A,SMUG1,ERBB4,ATP7A,DDX21,DDX46,DDX4,XIAP,RET,CDAN1,DOK3,DDX47,DDX42,SUPV3L1,COL18A1,TOP1,MTOR,PARP1,PTGS2,DDX20,DDX43,ABCC2,GOT1,DDX27,PTEN,VEGFA,DDX31,SFTPA2,STK4,DDX50,SLC31A1,ALPL,ABCC4,ERRFI1,DDX53,NEDD9,BRCA2,IFNA2,CD274,ALK,LRP1B,ALPP,DDX39B,DDX17,DDX51,ABCC1,DDX3X,RELA,TDRD12,TOP2B,TNF,DDX39B,DDX39B,TLK1,TOP2A,MDM2,CFTR,COX15,LCP2,KLK13,KLK14,TFAP2C,MYO15A,GSTA3,MAPK13,SIRT1,MAPK1,SNAPC1,AURKA,TUBB1,PTK6,MMP2,FA2H,NME4,TNFRSF10A,RUVBL2,RASIP1,CYP3A5,PCOLCE,SERPINE1,RPS6KB1,CCL2,COL1A1,DUSP3,PRDM4,CDKN1B,USP5,MAPK14,HBEGF,SPARC,IL12B,NR3C1,UMPS,ACADL,OPRD1,TNFAIP3,YWHAQ,ABCC10,UROD,KRT13,TUBA4A,CALU,ALDH1A2,CLEC11A,TUBG2,TUBG1,PCCB,RAF1,GFAP,LGALS3,SERPINF1,CDK7,VHL,GSTM5,CCNH,ANXA1,EHF,PRRG4,CDK4,MPHOSPH6,IL6,MYO1G,ENPP2,KIF13A,TUBB2B,THBS1,CYP19A1,GCHFR,CYP2C9,KIF11,PLCE1,PPIG,TRAF5,NDC80,COX10,PDGFRB,MYO5C,ITGA2B,INVS,SLC12A2,DENND3,MAPK3,ABCA7,BIRC3,EPCAM,ABCB11,KIF1B,SLC9A1,TUBB4A,ICAM1,PPARGC1A,SUB1,CENPE,EGF,ABCB6,ABCB4,SRI,CCAR1,MYO3A,CDK2,RB1,DIABLO,SORD,FURIN,CDH11,MAP1LC3B,MYH10,IGFBP4,EMP3,NUF2,RTKN,ACKR3,FTH1,OSMR,PLK2,FARS2,BIN3,PPRC1,CD44,ATM,MPZL2,TKTL2,SLC25A4,ITGB6,THY1,PRKCA,MYO5B,AKR1B1,KIF5A,WIF1,MMP16,AIFM1,BUB1B,IL17RB,ACTR1B,CELA3A,ACTC1,RFX5,STARD9,TFF1,PLEKHH3,NAGS,REL,CCKAR,ITGB5,ANXA5,SHH,COL1A2,ADCY1,KIF27,PLK1,CLPX,COL6A2,TUBA1A,TUBA1C,CYP2A6,AXL,KIFC2,CTTN,LGALS4,BUB1,BCL2L1,IGF1,HSPA4,UGT1A6,REG1B,IL12A,HSPB3,CXCR6,CXCL10,KCNK3,CXCL8,OGG1,MRAP,CDCA7,SDC2,KIF5B,EIF2AK3,MT1E,CYCS,SLC22A18,EEF2,CYB5B,CDC20,BAD,CCNE2,TUBB8P12,CYP4A11,ADCY6,IQCB1,ARR3,CFLAR,CASP2,CD46,AURKB,KLK15,CLU,BIN1,MC5R,TUBA3E,TUBB6,BID,ZEB1,TIMM22,TUBB3,FARSA,CHFR,NOS1,TUBD1,KIF1C,MAPK9,CDC25C,OLFML3,CDK20,NDUFV1,GPR35,KIF1A,CYP2B6,KARS,FBN1,TUBA3D,TACC3,KIF21B,PPAP2C,CYB5D1,IDH2,DMTF1,COL7A1,CYP2A13,TUBA8,MAPK11,F3,HSP90AA1,GSTA1,NR1I2,EIF5A,TUBA1B,RBBP9,SOD2,CYP3A7,CELA3B,MUC1,TUBB,CAV1,CAPRIN1,ELSPBP1,MAPT,TUBB4B,CYB5A,SLPI,FOXM1,STMN4,RAPGEF5,MCCC2,ESR2,RNASE1,PDPK1,ATF3,CTNNB1,PPP1R9A,APOD,CTSL,E2F1,RPLP1,S100A4,KIF25,HNRNPA2B1,ALDH9A1,FN1,KIF16B,HN1,MYO9A,SH3BP2,INS-IGF2,FDPS,MYO16,ITGAL,MVP,QRICH1,SRC,HNRNPAB,MAP3K5,CELA2A,MDK,APAF1,MAP4,MAPK8,COL4A2,MMP17,CYP2D6,GFPT1,PHLDB1,DENND4B,KIF21A,COL6A1,LDB3,CD47,ADSS,CENPF,SLC22A1,PTPN7,KIF14,ASPM,CDC73,QSOX1,DEDD,EFNA1,TUBE1,SMCP,BUB3,HTRA1,PLEKHA1,MCL1,PHGDH,KCNA3,ACTR1A,TKTL1,CD40LG,ZRANB2,GSTA4,DNTT,HOOK1,JUN,CYP2C8,CYP2C19,CDC5L,CYP4A22,NCS1,YBX1,SLC22A7,TBX22,TACR2,SCAI,GSN,TRAF1,KIF4A,KIFC1,AR,PADI2,MAPRE1,COL4A1,TNFSF13B,CELA2B,CTRC,PCCA,DFFA,THBD,ARHGAP39,FTL,ACACB,TPD52,PCNA,SAT1,FOXO1,TRPC3,KIFC3,POSTN,DNAJA1,RS1,TUBB2A,TUBAL3,AKR1C2,FSCN1,TUBB,AKT2,HMMR,ELMO3,PRC1,ANXA4,KIF7,CLDN3,CXCL1,BMP7,NFE2L2,MYO9B,MUC16,MPP3,MYO5A,MAP3K1,RADIL,TUBA3C,TRIOBP,IFI30,FOXP2,MYO3B,MYO7A,CXCR4,KIF4B,CASP4,RPL23A,TNF,FXYD3,TNF,KIF5C,KIFC1,PTPN13,PERP,E2F5,CYR61,TUBB,TUBB,TUBB,BBC3,TKT,TUBB,PEX5,KIFC1,RFC5,TUBB,CASP1,STMN1,TUBB,MYO7B,PROM1,GSTA2\n",
      "Carboplatin\n",
      "ESR1,ACTA2,IL2,MLH1,MSH2,FLT3,CDKN1A,KRAS,LYZ,CDH1,TP53,DCK,BAX,TGFA,ITGA2,MGMT,HRAS,CD34,TSPO,BCL2,RASSF1,BRCA1,CASP8,CDKN2A,NRAS,DPYD,GSTP1,HDAC9,ERCC1,KRT20,THPO,NFKBIA,TXNL1,STUB1,MPO,CSF3,DDX5,AFP,CCND1,BIRC2,DDX1,ABCG2,DDX55,DDX39A,ATP7B,ACVR1C,MT2A,GOT2,SPHK2,MRPS7,BCL2L12,DDX49,GGT1,TYMP,KRT5,EPO,DDX56,SLC31A2,ARFGEF1,XRCC1,DDX18,DDX25,KDR,PIK3CA,SLC5A7,CYTIP,ADD2,FGF2,STAT3,ADD1,ABCB1,ERBB3,RAD51,IGF1R,EIF4A3,ERBB2,SOD1,SIK1,AKT1,PLK4,EGFR,TNFRSF10B,IFNA1,CHEK1,MYCN,FLT1,ABCC3,NODAL,DDX19B,KIT,PIK3CB,MT1A,EIF4A1,ALPPL2,ALB,IL3,CSF2,RRM1,BIRC5,FADD,NHLH1,RRM2,BCR,DDX19A,CHST14,F2,SLC22A13,DDX23,CASP3,GSTM1,SPHK1,KLK3,DDX10,ZHX2,TYMS,MET,NQO1,EML4,DDX54,PGR,PMAIP1,EIF4A2,DDX24,KRT7,CASP9,DDX41,DDX59,DDX28,ABCC5,DDX3Y,PRPF4B,CYP3A4,HIF1A,SMUG1,CERKL,ERBB4,ATP7A,DDX21,DDX46,DDX4,HTR3A,XIAP,RET,ADD3,CDAN1,DOK3,COPS5,DDX47,DDX42,SUPV3L1,COL18A1,TOP1,MTOR,PARP1,PTGS2,DDX20,DDX43,ABCC2,GOT1,DDX27,PTEN,VEGFA,DDX31,SFTPA2,STK4,SGPL1,DDX50,SLC31A1,ALPL,ABCC4,ERRFI1,DDX53,XDH,NEDD9,ARIH1,RBM17,BRCA2,IFNA2,CD274,ALK,LRP1B,ERCC2,ALPP,RPL23,DDX39B,DDX17,DDX51,PDCD1LG2,ABCC1,DDX3X,RELA,GGT2,TDRD12,DCT,TOP2B,TNF,DDX39B,DDX39B,TLK1,TOP2A,MDM2\n",
      "Chloroquine\n",
      "CD4,IL2,GAPDH,LDHB,MLH1,TLR2,TP53,ITGA2,NOS2,TSPO,CYP1A2,S100A9,TNFRSF1B,CYP1A1,ABCG2,ATP7B,ACVR1C,GOT2,EPO,FGF2,ABCB1,ERBB3,ERBB2,AKT1,EGFR,IFNA1,ALPPL2,ALB,CSF2,CASP3,CYP3A4,ATP7A,TOP1,MTOR,ABCC2,ALPL,IFNA2,ALPP,RELA,TOP2B,TNF,TOP2A,CYP3A5,CCL2,MAPK14,UROD,IL6,CYP2C9,MAPK3,ICAM1,ABCB6,FURIN,MAP1LC3B,FTH1,CD44,ATM,ACTR1B,CXCL8,SLC22A18,NOS1,CYP2B6,HSP90AA1,SOD2,CYB5A,CTSL,FN1,INS-IGF2,SRC,CYP2D6,ACTR1A,CYP2C8,CYP2C19,TNFSF13B,FTL,IFI30,TNF,TNF,GSTA2,M6PR,GABARAPL2,IL1RAP,CEACAM1,AQP2,APOH,HMOX1,TLR8,AQP9,PLAT,GSR,FCGRT,CD79A,CEACAM5,C5,SCNN1A,IFNG,GCLC,MDH1,PRKAG3,CTSD,KCNJ2,CEACAM8,C3,CFP,LDLR,APOE,CYP2E1,IDO1,ACLY,CRP,IRAK2,GRP,GAD2,VWF,TNFRSF13B,CDK2AP1,SCARB1,ALDH2,KCNH2,LPO,ATP2C2,RNF167,TYR,IL1A,IL1B,MCOLN1,CP,CLDN16,CSAD,SCYL1,CTSK,ST18,HMBS,ST14,CTF1,IL18,LDHC,LDHAL6A,ATP5A1,PTH,GADL1,ITGAM,PRKAG2,KRT83,TNFSF12-TNFSF13,TLR3,AQP3,C2,PRDX2,ATP5H,LDHAL6B,FPR1,DEFB4A,UBE2E1,INSR,MRGPRX1,SLC9C1,P2RY12,GLUL,BTK,GP6,VPS41,BANF1,HEPHL1,EEA1,AQP10,YME1L1,SHMT1,CHRM2,SLC9A9,SLC2A4,ACPP,PRKAG1,ULK1,ELMOD2,MDH2,C1S,IRF7,IFNL1,SLC9A7,CD86,LAMP1,SHMT2,FIP1L1,NQO2,CYB5R3,KCNJ5,CS,CTSB,SNRPD2,HMGB1,ATG5,TNFSF13,ATG7,SCN8A,TAT,CACNA2D1,ATP2A1,GAD1,ECHDC2,RAD52,DNAH8,ATP2C1,ATP2A3,CLN3,DHDDS,TFRC,F8,TLR9,NLRC4,TLR1,SLC9A8,BECN1,CR1,CR2,F5,NUS1,CTSS,IRAK1,ABCA4,LGSN,SLC9A6,CD40,SFTPD,MBL2,TLR4,MDH1B,MAP1LC3A,NCBP1,FXN,ESD,ISG15,IFNA21,IFNB1,TLR7,TLR6,DEFA1,DEFA1B,SQSTM1,TIRAP,G6PD,CFI,CAST,UEVLD,MYD88,ROBO3,OAS1,HLA-A,LDHA,DHFR,HLA-B,TIA1,C2,LAMP2,IFNA17,EBP,ROBO2,ERVW-1\n",
      "Cisplatin\n",
      "CD4,ESR1,CHGA,TSC2,ACTA2,IL2,GAPDH,ENO2,NANOG,MLH1,MSH2,MSH6,TNFSF10,FLT3,CDKN1A,RRM2B,H3F3B,KRAS,CCNB1,LYZ,CDH1,CASP6,PMS2,TP53,CHD1,DCK,BAX,TGFA,ITGA2,NOS3,MGMT,TERT,HRAS,CD34,NOS2,DNMT3B,TSPO,BCL2,CENPA,RASSF1,BRCA1,CASP8,DNMT1,STAT1,CDKN2A,H3F3A,FASLG,FYN,NGF,NRAS,DPYD,GADD45A,MMP9,PLAU,HDAC1,CDA,H2AFX,TNFRSF1B,MYC,GSTP1,CEBPD,HDAC9,ERCC1,KRT20,NFKBIA,STUB1,MPO,CSF3,AFP,CCND1,BIRC2,ABCG2,ATP7B,MT2A,GOT2,MRPS7,TYMP,KRT5,EPO,SLC31A2,XRCC1,KDR,PIK3CA,SLC5A7,CYTIP,FGF2,STAT3,ABCB1,ERBB3,RAD51,IGF1R,ERBB2,SOD1,AKT1,EGFR,TNFRSF10B,IFNA1,CHEK1,MYCN,FLT1,ABCC3,PIK3CB,MT1A,ALPPL2,ALB,IL3,CSF2,RRM1,BIRC5,FADD,BCR,F2,CASP3,GSTM1,KLK3,ZHX2,TYMS,MET,NQO1,EML4,PGR,PMAIP1,KRT7,CASP9,ABCC5,CYP3A4,HIF1A,SMUG1,ERBB4,ATP7A,HTR3A,XIAP,RET,CDAN1,COL18A1,TOP1,MTOR,PARP1,PTGS2,ABCC2,GOT1,PTEN,VEGFA,SLC31A1,ALPL,ABCC4,XDH,NEDD9,BRCA2,IFNA2,ALK,ERCC2,ALPP,ABCC1,RELA,TOP2B,TNF,TOP2A,MDM2,GSTA3,SIRT1,AURKA,MMP2,TNFRSF10A,RPS6KB1,CDKN1B,MAPK14,HBEGF,CALU,CDK4,IL6,THBS1,CYP2C9,PDGFRB,MAPK3,BIRC3,EPCAM,ICAM1,PPARGC1A,CDK2,RB1,DIABLO,PPRC1,CD44,ATM,AIFM1,ACTR1B,REL,ANXA5,PLK1,BCL2L1,IGF1,HSPA4,CXCL8,OGG1,EIF2AK3,CYP4A11,CFLAR,CASP2,AURKB,CLU,MC5R,NOS1,MAPK9,CDC25C,CYP2B6,MAPK11,F3,HSP90AA1,GSTA1,SOD2,MUC1,TUBB,RNASE1,ATF3,CTNNB1,E2F1,FN1,INS-IGF2,ITGAL,MVP,SRC,MAP3K5,APAF1,MAPK8,HTRA1,ACTR1A,GSTA4,DNTT,JUN,YBX1,GSN,AR,PCNA,SAT1,TUBB2A,AKT2,TNF,TNF,TUBB,TUBB,BBC3,TUBB,CASP1,PROM1,GSTA2,AQP2,HMOX1,GSR,IFNG,TYR,ATP5H,CD86,HMGB1,RAD52,DNAH8,BECN1,TLR4,DHFR,SKAP2,CX3CL1,CRY1,NME1,RFC2,NOX3,TNFRSF1A,NFKB2,DIMT1,PPP1R15A,PPP1R13B,ABCC6,GZMH,GZMB,BIRC7,TIMP1,TGFB1,NAMPT,GCK,NFKB1,FANCE,HES1,MORC1,TFPI,MAD2L2,MMP8,GLRX,DUSP1,EGR1,DUSP4,LUC7L3,COIL,CAT,GHSR,GSTM2,EGR2,NR4A1,CCR7,PIN1,VIL1,BCL2L2,ADRM1,RGN,LATS1,FAAP24,MTL5,HRASLS2,LAMTOR5,DDB2,PDGFRA,NAT10,AVIL,REV1,DRAM1,BRIP1,SULF1,BARD1,COX17,ATF7IP,CCND2,PALB2,TRPA1,AJUBA,PPARA,KCNN4,SMARCB1,MSH4,SYP,EP300,TBXAS1,CAPG,CKLF,CDH3,LCT,BCHE,UBE2S,CAD,GPN1,HRASLS,RAD18,MSH3,UBE2B,SEMA3C,CREM,WWP1,PRDX5,CDK6,SLC2A4RG,ETNK1,BCKDHA,CCNA2,NHP2,TERF1,LCN2,NOTCH1,SSRP1,VPS51,CD226,EIF4E,QDPR,VILL,SERPINB3,APP,XPC,CA2,CA3,ATP6V0D2,ERCC3,CASP10,SST,FANCD2,ERCC6L2,FANCC,CBR1,HK2,CTBP1,ATP6V0D1,CCR2,CCR5,HK3,FDXR,HPGDS,FLNB,RFC4,TLX3,SCIN,WDFY2,WRN,NDRG2,COPS2,TPX2,ANKRD11,DDB1,ASRGL1,UBTF,PCSK9,TACR1,CDC25A,FEN1,FOS,RPTOR,MMP14,EIF4EBP3,RBFOX1,LPL,FOSL1,ERCC4,FANCI,TNKS,REST,EXO1,HNF4A,PRKDC,PDS5B,CLPTM1L,SHQ1,NR1H4,LCP1,USP9X,ATOX1,EGR3,NCAM1,CA13,STK17A,CXCR2,DEF6,DYNC1I1,TAC1,ZNF135,TOP3A,SEPT4,SMC1A,SMC6,FLNC,JAG2,GLRX5,SP1,AMY1B,GLRX3,FANCF,IP6K2,NOP10,NDEL1,HDAC6,ERCC6L,GHRL,DLST,RAD51C,ATF4,PLS1,CLPTM1,MEN1,PIDD1,LCK,SMPD1,ZNF395,DDIT3,EIF4EBP1,B2M,SFN,LIN54,XRCC4,XRCC3,LCTL,ATR,CA7,GPX4,HKDC1,HTT,BLM,ANO1,TNFRSF14,ERCC5,FAS,MLH3,SERPINA1,ERCC6,PLS3,PIGR,PIWIL2,TOP3B,RAET1E,RICTOR,RAD23B,XAB2,REV3L,XRCC6,XRCC2,SULF2,PYY,PPP1R13L,PNP,GPX7,DCLRE1A,TFB2M,PARK2,SLC22A2,IRF6,TFB1M,MDM4,ULBP2,RAET1G,NEK7,GLRX2,TPR,ABL2,KCNJ10,PYGO2,S100A2,PSMD4,DCLRE1B,ADORA3,FLNA,AMY1C,AMY1A,EXTL2,LMO4,UBE2U,SPO11,NDOR1,UBE2A,GRIN1,TNKS2,POLH,ABL1,ENDOG,EIF3I,NEK6,DLGAP4,MUSK,TXN,XPA,MDC1,PSAT1,ATXN2,TP73,CA9,FANCG,E2F4,PSTPIP1,MTAP,SH3GL2,HMGN1,DUT,IGFBP3,RDH11,IL33,ANGPT4,DMRT1,MSLN,MDC1,DRD3,FANCA,BORA,SRPK2,ZNF143,MEI1,FANCL,MDC1,SRPK1,SEPT5,SH3GL3,GPX5,HES4,MSH5,MSH5,MUC20,WEE1,CPS1,CRY2,MSH5,MSH5,GPX1,NEDD1,MDC1,TXNRD1,BIRC8,MSH5\n",
      "FOLFIRI\n",
      "KRAS,ITGA2,HRAS,STAT1,NRAS,DPYD,ERCC1,TYMP,KDR,PIK3CA,STAT3,ERBB2,EGFR,IFNA1,FLT1,TYMS,TOP1,VEGFA,UGT1A6,EREG,LMBR1L,STAT5B,STAT6,AURKC,UGT1A1,VEGFB,STAT2,STAT5A,IYD,STAT4,BICC1,NSF,APTX,PXT1\n",
      "FOLFOX\n",
      "KRAS,TP53,ITGA2,HRAS,DAPK1,NRAS,DPYD,ERCC1,TYMP,XRCC1,KDR,PIK3CA,ERBB3,IGF1R,ERBB2,AKT1,EGFR,IFNA1,FLT1,TYMS,SMUG1,TOP1,PTGS2,VEGFA,ERCC2,AURKC,IYD,NSF,DAPK2,DAPK3,CLTB\n",
      "Oxaliplatin\n",
      "F2,TOP1,ITGB8,SKIV2L2,HOXD9,ALLC,MEOX2,TNR,ITGB7,ZFHX3,PHF12,CPZ,F10,IGLC1,IGLC2,IGLC3,IGLC7,INPP5J\n"
     ]
    }
   ],
   "source": [
    "for drug, gene in drugs_to_targets_mapped_2.groupby('drug')['hgnc_name'].agg(lambda x: ','.join(x)).items():\n",
    "    print(drug)\n",
    "    print(gene)"
   ]
  },
  {
   "cell_type": "markdown",
   "metadata": {
    "collapsed": true
   },
   "source": [
    "### Combine provided and STITCH targets"
   ]
  },
  {
   "cell_type": "code",
   "execution_count": 113,
   "metadata": {
    "collapsed": true
   },
   "outputs": [],
   "source": [
    "drugs_to_targets_mapped_all = (\n",
    "    pd.concat([\n",
    "        drugs_to_targets_mapped,\n",
    "        drugs_to_targets_mapped_2        \n",
    "    ], ignore_index=True)\n",
    ")"
   ]
  },
  {
   "cell_type": "code",
   "execution_count": 116,
   "metadata": {
    "collapsed": true
   },
   "outputs": [],
   "source": [
    "drugs_to_targets_mapped_all['ensp_idx'] = (\n",
    "    drugs_to_targets_mapped_all['ensp']\n",
    "    .apply(lambda x: int(x[4:]))\n",
    ")"
   ]
  },
  {
   "cell_type": "code",
   "execution_count": 118,
   "metadata": {
    "collapsed": false
   },
   "outputs": [
    {
     "data": {
      "text/html": [
       "<div>\n",
       "<table border=\"1\" class=\"dataframe\">\n",
       "  <thead>\n",
       "    <tr style=\"text-align: right;\">\n",
       "      <th></th>\n",
       "      <th>drug</th>\n",
       "      <th>target_original</th>\n",
       "      <th>target</th>\n",
       "      <th>hgnc_name</th>\n",
       "      <th>hgnc_acc</th>\n",
       "      <th>hgnc_description</th>\n",
       "      <th>ensg</th>\n",
       "      <th>enst</th>\n",
       "      <th>ensp</th>\n",
       "      <th>ensp_idx</th>\n",
       "    </tr>\n",
       "  </thead>\n",
       "  <tbody>\n",
       "    <tr>\n",
       "      <th>0</th>\n",
       "      <td>ADAM17</td>\n",
       "      <td>ADAM17</td>\n",
       "      <td>ADAM17</td>\n",
       "      <td>ADAM17</td>\n",
       "      <td>HGNC:195</td>\n",
       "      <td>ADAM metallopeptidase domain 17</td>\n",
       "      <td>ENSG00000151694</td>\n",
       "      <td>ENST00000310823</td>\n",
       "      <td>ENSP00000309968</td>\n",
       "      <td>309968</td>\n",
       "    </tr>\n",
       "    <tr>\n",
       "      <th>1</th>\n",
       "      <td>ADAM17</td>\n",
       "      <td>ADAM17</td>\n",
       "      <td>ADAM17</td>\n",
       "      <td>ADAM17</td>\n",
       "      <td>HGNC:195</td>\n",
       "      <td>ADAM metallopeptidase domain 17</td>\n",
       "      <td>ENSG00000151694</td>\n",
       "      <td>ENST00000497134</td>\n",
       "      <td>ENSP00000418728</td>\n",
       "      <td>418728</td>\n",
       "    </tr>\n",
       "    <tr>\n",
       "      <th>2</th>\n",
       "      <td>ADAM17</td>\n",
       "      <td>ADAM17</td>\n",
       "      <td>ADAM17</td>\n",
       "      <td>ADAM17</td>\n",
       "      <td>HGNC:195</td>\n",
       "      <td>ADAM metallopeptidase domain 17</td>\n",
       "      <td>ENSG00000151694</td>\n",
       "      <td>ENST00000618923</td>\n",
       "      <td>ENSP00000480552</td>\n",
       "      <td>480552</td>\n",
       "    </tr>\n",
       "    <tr>\n",
       "      <th>3</th>\n",
       "      <td>AKT</td>\n",
       "      <td>AKT1</td>\n",
       "      <td>AKT1</td>\n",
       "      <td>AKT1</td>\n",
       "      <td>HGNC:391</td>\n",
       "      <td>v-akt murine thymoma viral oncogene homolog 1</td>\n",
       "      <td>ENSG00000142208</td>\n",
       "      <td>ENST00000554581</td>\n",
       "      <td>ENSP00000451828</td>\n",
       "      <td>451828</td>\n",
       "    </tr>\n",
       "    <tr>\n",
       "      <th>4</th>\n",
       "      <td>AKT</td>\n",
       "      <td>AKT1</td>\n",
       "      <td>AKT1</td>\n",
       "      <td>AKT1</td>\n",
       "      <td>HGNC:391</td>\n",
       "      <td>v-akt murine thymoma viral oncogene homolog 1</td>\n",
       "      <td>ENSG00000142208</td>\n",
       "      <td>ENST00000407796</td>\n",
       "      <td>ENSP00000384293</td>\n",
       "      <td>384293</td>\n",
       "    </tr>\n",
       "  </tbody>\n",
       "</table>\n",
       "</div>"
      ],
      "text/plain": [
       "     drug target_original  target hgnc_name  hgnc_acc                               hgnc_description             ensg             enst             ensp  ensp_idx\n",
       "0  ADAM17          ADAM17  ADAM17    ADAM17  HGNC:195                ADAM metallopeptidase domain 17  ENSG00000151694  ENST00000310823  ENSP00000309968    309968\n",
       "1  ADAM17          ADAM17  ADAM17    ADAM17  HGNC:195                ADAM metallopeptidase domain 17  ENSG00000151694  ENST00000497134  ENSP00000418728    418728\n",
       "2  ADAM17          ADAM17  ADAM17    ADAM17  HGNC:195                ADAM metallopeptidase domain 17  ENSG00000151694  ENST00000618923  ENSP00000480552    480552\n",
       "3     AKT            AKT1    AKT1      AKT1  HGNC:391  v-akt murine thymoma viral oncogene homolog 1  ENSG00000142208  ENST00000554581  ENSP00000451828    451828\n",
       "4     AKT            AKT1    AKT1      AKT1  HGNC:391  v-akt murine thymoma viral oncogene homolog 1  ENSG00000142208  ENST00000407796  ENSP00000384293    384293"
      ]
     },
     "execution_count": 118,
     "metadata": {},
     "output_type": "execute_result"
    }
   ],
   "source": [
    "drugs_to_targets_mapped_all.head()"
   ]
  },
  {
   "cell_type": "code",
   "execution_count": 119,
   "metadata": {
    "collapsed": false
   },
   "outputs": [
    {
     "name": "stdout",
     "output_type": "stream",
     "text": [
      "Number of drug -> target tupels:                            4606\n",
      "Number of original drug -> target tuples:                   170\n",
      "Number of corrected drug -> target tuples:                  170\n",
      "Number of HGNC drug -> target tuples:                       2324\n",
      "Number of ENSG drug -> target tuples:                       2412\n",
      "Number of ENST drug -> target tuples:                       4606\n",
      "Number of ENSP drug -> target tuples:                       4606\n"
     ]
    }
   ],
   "source": [
    "dat.print2('Number of drug -> target tupels:', len(drugs_to_targets_mapped_all))\n",
    "dat.print2('Number of original drug -> target tuples:', \n",
    "           len(drugs_to_targets_mapped_all[['drug','target_original']].drop_duplicates()))\n",
    "dat.print2('Number of corrected drug -> target tuples:',\n",
    "           len(drugs_to_targets_mapped_all[['drug','target']].drop_duplicates()))\n",
    "dat.print2('Number of HGNC drug -> target tuples:',\n",
    "           len(drugs_to_targets_mapped_all[['drug','hgnc_name']].drop_duplicates()))\n",
    "dat.print2('Number of ENSG drug -> target tuples:',\n",
    "           len(drugs_to_targets_mapped_all[['drug','ensg']].drop_duplicates()))\n",
    "dat.print2('Number of ENST drug -> target tuples:',\n",
    "           len(drugs_to_targets_mapped_all[['drug','enst']].drop_duplicates()))\n",
    "dat.print2('Number of ENSP drug -> target tuples:',\n",
    "           len(drugs_to_targets_mapped_all[['drug','ensp']].drop_duplicates()))"
   ]
  },
  {
   "cell_type": "code",
   "execution_count": 120,
   "metadata": {
    "collapsed": false
   },
   "outputs": [],
   "source": [
    "# Make sure that we have at least one target for all drugs\n",
    "assert not (set(drug_info_release_3['ChallengeName']) - set(drugs_to_targets_mapped_all['drug']))"
   ]
  },
  {
   "cell_type": "code",
   "execution_count": null,
   "metadata": {
    "collapsed": true
   },
   "outputs": [],
   "source": []
  },
  {
   "cell_type": "code",
   "execution_count": 122,
   "metadata": {
    "collapsed": false
   },
   "outputs": [
    {
     "data": {
      "text/plain": [
       "<sqlalchemy.engine.result.ResultProxy at 0x7f7d7254e9b0>"
      ]
     },
     "execution_count": 122,
     "metadata": {},
     "output_type": "execute_result"
    }
   ],
   "source": [
    "# Save results to the database\n",
    "engine = sa.create_engine('mysql://strokach:@192.168.6.19:3306/az_dream')\n",
    "drugs_to_targets_mapped_all.to_sql('drug_to_target', engine, if_exists='replace', index=False)\n",
    "\n",
    "engine.execute('create index a on drug_to_target (drug(255), hgnc_name(255))')\n",
    "engine.execute('create index b on drug_to_target (drug(255), ensg(255))')\n",
    "engine.execute('create index c on drug_to_target (drug(255), enst(255))')\n",
    "engine.execute('create unique index d on drug_to_target (drug(255), ensp(255))')\n",
    "\n",
    "engine.execute('create index e on drug_to_target (hgnc_name(255), drug(255))')\n",
    "engine.execute('create index f on drug_to_target (ensg(255), drug(255))')\n",
    "engine.execute('create index g on drug_to_target (enst(255), drug(255))')\n",
    "engine.execute('create unique index h on drug_to_target (ensp(255), drug(255))')\n",
    "\n",
    "engine.execute('create index i on drug_to_target (drug(255), ensp_idx)')\n",
    "engine.execute('create index j on drug_to_target (ensp_idx, drug(255))')"
   ]
  },
  {
   "cell_type": "markdown",
   "metadata": {
    "code_folding": [
     0
    ]
   },
   "source": [
    "## lincs data"
   ]
  },
  {
   "cell_type": "code",
   "execution_count": 7,
   "metadata": {
    "code_folding": [
     0
    ],
    "collapsed": false
   },
   "outputs": [],
   "source": [
    "# http://inventwithpython.com/automate11-web_scraping.pdf#page=29\n",
    "from selenium import webdriver\n",
    "browser = webdriver.Firefox()"
   ]
  },
  {
   "cell_type": "code",
   "execution_count": 52,
   "metadata": {
    "collapsed": true
   },
   "outputs": [],
   "source": [
    "cids = list(set([x for xx in drug_info_release_3['cids'].dropna().values for x in xx.split(',')]))"
   ]
  },
  {
   "cell_type": "code",
   "execution_count": 54,
   "metadata": {
    "collapsed": true
   },
   "outputs": [],
   "source": [
    "# Get data from lincs\n",
    "columns = [\n",
    "    'summarySmallMoleculeName', \n",
    "    'pubchemId',\n",
    "    'lincsId',\n",
    "    'facilityId',\n",
    "    'data-bioAvailability',\n",
    "    'data-lipinsky3',\n",
    "    'data-lipinsky5',\n",
    "    'data-leadLikeness',\n",
    "]"
   ]
  },
  {
   "cell_type": "code",
   "execution_count": 53,
   "metadata": {
    "code_folding": [
     0
    ],
    "collapsed": false
   },
   "outputs": [
    {
     "data": {
      "text/plain": [
       "''"
      ]
     },
     "execution_count": 53,
     "metadata": {},
     "output_type": "execute_result"
    }
   ],
   "source": [
    "# xx\n",
    "browser.get('http://life.ccs.miami.edu/life/summary?mode=SmallMolecule&source=PubChem&input={}'.format(cids[9]))\n",
    "x = browser.find_element_by_id('summarySmallMoleculeName')\n",
    "x.text"
   ]
  },
  {
   "cell_type": "code",
   "execution_count": null,
   "metadata": {
    "collapsed": true
   },
   "outputs": [],
   "source": [
    "results = []\n",
    "for cid in cids:\n",
    "    browser.get('http://life.ccs.miami.edu/life/summary?mode=SmallMolecule&source=PubChem&input={}'.format(cid))\n",
    "    time.sleep(10)\n",
    "    result = []\n",
    "    for elem_id in columns:\n",
    "        x = browser.find_element_by_id(elem_id)\n",
    "        if not x.text:\n",
    "            break\n",
    "        result.append(x.text.strip())\n",
    "    if result:\n",
    "        results.append(result)\n",
    "        #browser.execute_script('downloadCFData();')"
   ]
  },
  {
   "cell_type": "code",
   "execution_count": null,
   "metadata": {
    "collapsed": false
   },
   "outputs": [],
   "source": [
    "results"
   ]
  },
  {
   "cell_type": "code",
   "execution_count": 25,
   "metadata": {
    "collapsed": false
   },
   "outputs": [],
   "source": [
    "with open('output/lincs_life_wrx.pickle', 'wb') as ofh:\n",
    "    pickle.dump(results, ofh)"
   ]
  },
  {
   "cell_type": "markdown",
   "metadata": {},
   "source": [
    "### Load previously calculated"
   ]
  },
  {
   "cell_type": "code",
   "execution_count": 56,
   "metadata": {
    "collapsed": false
   },
   "outputs": [],
   "source": [
    "with open('output/lincs/lincs_life_wrx.pickle', 'rb') as ofh:\n",
    "    results = pickle.load(ofh)"
   ]
  },
  {
   "cell_type": "code",
   "execution_count": 57,
   "metadata": {
    "collapsed": false
   },
   "outputs": [],
   "source": [
    "cids_with_results = list(zip(*results))[1]"
   ]
  },
  {
   "cell_type": "code",
   "execution_count": 58,
   "metadata": {
    "collapsed": false
   },
   "outputs": [
    {
     "data": {
      "text/plain": [
       "('56655374', '11327430', '11213558', '2719', '15951529')"
      ]
     },
     "execution_count": 58,
     "metadata": {},
     "output_type": "execute_result"
    }
   ],
   "source": [
    "cids_with_results[:5]"
   ]
  },
  {
   "cell_type": "code",
   "execution_count": 60,
   "metadata": {
    "collapsed": false
   },
   "outputs": [],
   "source": [
    "from selenium import webdriver\n",
    "profile = webdriver.FirefoxProfile()\n",
    "profile.set_preference(\"browser.download.panel.shown\", False)\n",
    "profile.set_preference(\"browser.helperApps.neverAsk.openFile\",\"text/csv,application/vnd.ms-excel\")\n",
    "profile.set_preference(\"browser.helperApps.neverAsk.saveToDisk\", \"text/csv,application/vnd.ms-excel\")\n",
    "profile.set_preference(\"browser.download.folderList\", 2);\n",
    "profile.set_preference(\"browser.download.dir\", op.join(os.getcwd(), 'output', 'lincs'))\n",
    "browser = webdriver.Firefox(profile)"
   ]
  },
  {
   "cell_type": "code",
   "execution_count": 61,
   "metadata": {
    "collapsed": false
   },
   "outputs": [],
   "source": [
    "results_full = []\n",
    "for cid in cids_with_results:\n",
    "    browser.get('http://life.ccs.miami.edu/life/summary?mode=SmallMolecule&source=PubChem&input={}'.format(cid))\n",
    "    time.sleep(20)\n",
    "    result = []\n",
    "    for elem_id in columns:\n",
    "        x = browser.find_element_by_id(elem_id)\n",
    "        result.append(x.text.strip())\n",
    "    #browser.execute_script('downloadCFData();')\n",
    "    #time.sleep(20)\n",
    "    results_full.append(result)"
   ]
  },
  {
   "cell_type": "code",
   "execution_count": 79,
   "metadata": {
    "collapsed": false
   },
   "outputs": [],
   "source": [
    "# Get data from lincs\n",
    "columns = [\n",
    "    'drug', \n",
    "    'cid',\n",
    "    'lincs_id',\n",
    "    'facility_id',\n",
    "    'bio_availability',\n",
    "    'lipinsky3',\n",
    "    'lipinsky5',\n",
    "    'lead_likeness',\n",
    "]\n",
    "lincs_drug_info = pd.DataFrame(results_full, columns=columns)"
   ]
  },
  {
   "cell_type": "code",
   "execution_count": 80,
   "metadata": {
    "collapsed": false
   },
   "outputs": [
    {
     "data": {
      "text/html": [
       "<div>\n",
       "<table border=\"1\" class=\"dataframe\">\n",
       "  <thead>\n",
       "    <tr style=\"text-align: right;\">\n",
       "      <th></th>\n",
       "      <th>drug</th>\n",
       "      <th>cid</th>\n",
       "      <th>lincs_id</th>\n",
       "      <th>facility_id</th>\n",
       "      <th>bio_availability</th>\n",
       "      <th>lipinsky3</th>\n",
       "      <th>lipinsky5</th>\n",
       "      <th>lead_likeness</th>\n",
       "    </tr>\n",
       "  </thead>\n",
       "  <tbody>\n",
       "    <tr>\n",
       "      <th>0</th>\n",
       "      <td>HG-14-10-04</td>\n",
       "      <td>56655374</td>\n",
       "      <td>LSM-6345</td>\n",
       "      <td></td>\n",
       "      <td>Fail</td>\n",
       "      <td>Fail</td>\n",
       "      <td>Fail</td>\n",
       "      <td>Fail</td>\n",
       "    </tr>\n",
       "    <tr>\n",
       "      <th>1</th>\n",
       "      <td>NU7441</td>\n",
       "      <td>11327430</td>\n",
       "      <td>LSM-1061</td>\n",
       "      <td>BRD-K00337317</td>\n",
       "      <td>Pass</td>\n",
       "      <td>Fail</td>\n",
       "      <td>Fail</td>\n",
       "      <td>Fail</td>\n",
       "    </tr>\n",
       "    <tr>\n",
       "      <th>2</th>\n",
       "      <td>R406</td>\n",
       "      <td>11213558</td>\n",
       "      <td>LSM-1040</td>\n",
       "      <td>BRD-K20285085</td>\n",
       "      <td>Pass</td>\n",
       "      <td>Fail</td>\n",
       "      <td>Pass</td>\n",
       "      <td>Fail</td>\n",
       "    </tr>\n",
       "    <tr>\n",
       "      <th>3</th>\n",
       "      <td>chloroquine</td>\n",
       "      <td>2719</td>\n",
       "      <td>LSM-1901</td>\n",
       "      <td>BRD-A91699651</td>\n",
       "      <td>Pass</td>\n",
       "      <td>Fail</td>\n",
       "      <td>Pass</td>\n",
       "      <td>Pass</td>\n",
       "    </tr>\n",
       "    <tr>\n",
       "      <th>4</th>\n",
       "      <td>Enzalutamide</td>\n",
       "      <td>15951529</td>\n",
       "      <td>LSM-6254</td>\n",
       "      <td>BRD-K56851771</td>\n",
       "      <td>Pass</td>\n",
       "      <td>Fail</td>\n",
       "      <td>Pass</td>\n",
       "      <td>Fail</td>\n",
       "    </tr>\n",
       "  </tbody>\n",
       "</table>\n",
       "</div>"
      ],
      "text/plain": [
       "           drug       cid  lincs_id    facility_id bio_availability lipinsky3 lipinsky5 lead_likeness\n",
       "0   HG-14-10-04  56655374  LSM-6345                            Fail      Fail      Fail          Fail\n",
       "1        NU7441  11327430  LSM-1061  BRD-K00337317             Pass      Fail      Fail          Fail\n",
       "2          R406  11213558  LSM-1040  BRD-K20285085             Pass      Fail      Pass          Fail\n",
       "3   chloroquine      2719  LSM-1901  BRD-A91699651             Pass      Fail      Pass          Pass\n",
       "4  Enzalutamide  15951529  LSM-6254  BRD-K56851771             Pass      Fail      Pass          Fail"
      ]
     },
     "execution_count": 80,
     "metadata": {},
     "output_type": "execute_result"
    }
   ],
   "source": [
    "lincs_drug_info.head()"
   ]
  },
  {
   "cell_type": "code",
   "execution_count": 62,
   "metadata": {
    "collapsed": false
   },
   "outputs": [
    {
     "name": "stdout",
     "output_type": "stream",
     "text": [
      "Empty file for i: 0, cid: 56655374\n",
      "Empty file for i: 8, cid: 11640390\n",
      "Empty file for i: 12, cid: 43806\n",
      "Empty file for i: 17, cid: 36462\n",
      "Empty file for i: 19, cid: 16117018\n",
      "Empty file for i: 22, cid: 3081361\n",
      "Empty file for i: 26, cid: 11625818\n",
      "Empty file for i: 32, cid: 11707110\n",
      "Empty file for i: 34, cid: 11167602\n",
      "Empty file for i: 38, cid: 16654980\n",
      "Empty file for i: 40, cid: 46861588\n",
      "Empty file for i: 41, cid: 148124\n",
      "Empty file for i: 42, cid: 56649450\n",
      "Empty file for i: 47, cid: 5311497\n",
      "Empty file for i: 55, cid: 53398658\n",
      "Empty file for i: 58, cid: 51039095\n"
     ]
    }
   ],
   "source": [
    "endpoints = [\n",
    "    'Cell cycle: percent non-arrested',\n",
    "    'down regulation',\n",
    "    'Cell cycle: percent G2-M arrested',\n",
    "    'Cell cycle: percent interphase',\n",
    "    'Cell cycle: percent mitosis',\n",
    "    'up regulation'\n",
    "]\n",
    "data = {e: [] for e in endpoints}\n",
    "for i, cid in enumerate(cids_with_results):\n",
    "    filename = 'output/lincs/data{}.csv'.format('({})'.format(i) if i else '')\n",
    "    try:\n",
    "        df = pd.read_csv(filename)\n",
    "    except ValueError:\n",
    "        print('Empty file for i: {}, cid: {}'.format(i, cid))\n",
    "        continue\n",
    "    df['cid'] = cid\n",
    "    if df['Value'].isnull().all():\n",
    "        df['Value'] = df['Endpoint']\n",
    "        df['Endpoint'] = None\n",
    "    for endpoint in endpoints:\n",
    "        df_sub = df[df['Endpoint'] == endpoint]\n",
    "        if not df_sub.empty:\n",
    "            data[endpoint].append(df_sub)"
   ]
  },
  {
   "cell_type": "code",
   "execution_count": 81,
   "metadata": {
    "collapsed": false
   },
   "outputs": [
    {
     "name": "stdout",
     "output_type": "stream",
     "text": [
      "dict_keys(['Cell cycle: percent G2-M arrested', 'Cell cycle: percent interphase', 'down regulation', 'Cell cycle: percent non-arrested', 'Cell cycle: percent mitosis', 'up regulation'])\n"
     ]
    }
   ],
   "source": [
    "print(data.keys())"
   ]
  },
  {
   "cell_type": "code",
   "execution_count": 84,
   "metadata": {
    "collapsed": false,
    "scrolled": true
   },
   "outputs": [],
   "source": [
    "lincs_drug_expression = (\n",
    "    pd.concat([data['down regulation'], data['up regulation']])\n",
    "    .rename(columns={\n",
    "            'SmallMolecule': 'drug',\n",
    "            'Cell': 'cell_line',\n",
    "            'Time Point (hrs)': 'time_point',\n",
    "            u'Concentration (\\u03bcM)': 'concentration',\n",
    "            'Endpoint': 'endpoint',\n",
    "            'Value': 'value',\n",
    "            'Gene Name': 'gene_name',            \n",
    "        })\n",
    "    )"
   ]
  },
  {
   "cell_type": "code",
   "execution_count": 85,
   "metadata": {
    "collapsed": false
   },
   "outputs": [
    {
     "data": {
      "text/plain": [
       "41"
      ]
     },
     "execution_count": 85,
     "metadata": {},
     "output_type": "execute_result"
    }
   ],
   "source": [
    "len(set(lincs_drug_expression['cid']))"
   ]
  },
  {
   "cell_type": "code",
   "execution_count": 86,
   "metadata": {
    "collapsed": false
   },
   "outputs": [
    {
     "data": {
      "text/html": [
       "<div>\n",
       "<table border=\"1\" class=\"dataframe\">\n",
       "  <thead>\n",
       "    <tr style=\"text-align: right;\">\n",
       "      <th></th>\n",
       "      <th>drug</th>\n",
       "      <th>cell_line</th>\n",
       "      <th>time_point</th>\n",
       "      <th>concentration</th>\n",
       "      <th>endpoint</th>\n",
       "      <th>value</th>\n",
       "      <th>gene_name</th>\n",
       "      <th>cid</th>\n",
       "    </tr>\n",
       "  </thead>\n",
       "  <tbody>\n",
       "    <tr>\n",
       "      <th>1300</th>\n",
       "      <td>NU7441</td>\n",
       "      <td>A549</td>\n",
       "      <td>6</td>\n",
       "      <td>10</td>\n",
       "      <td>down regulation</td>\n",
       "      <td>-1.038</td>\n",
       "      <td>INTS3</td>\n",
       "      <td>11327430</td>\n",
       "    </tr>\n",
       "    <tr>\n",
       "      <th>1301</th>\n",
       "      <td>NU7441</td>\n",
       "      <td>HT-29</td>\n",
       "      <td>6</td>\n",
       "      <td>10</td>\n",
       "      <td>down regulation</td>\n",
       "      <td>-1.068</td>\n",
       "      <td>SMARCD2</td>\n",
       "      <td>11327430</td>\n",
       "    </tr>\n",
       "    <tr>\n",
       "      <th>1302</th>\n",
       "      <td>NU7441</td>\n",
       "      <td>A549</td>\n",
       "      <td>6</td>\n",
       "      <td>10</td>\n",
       "      <td>down regulation</td>\n",
       "      <td>-1.210</td>\n",
       "      <td>KIAA0494</td>\n",
       "      <td>11327430</td>\n",
       "    </tr>\n",
       "    <tr>\n",
       "      <th>1303</th>\n",
       "      <td>NU7441</td>\n",
       "      <td>A549</td>\n",
       "      <td>24</td>\n",
       "      <td>10</td>\n",
       "      <td>down regulation</td>\n",
       "      <td>-1.224</td>\n",
       "      <td>PIGB</td>\n",
       "      <td>11327430</td>\n",
       "    </tr>\n",
       "    <tr>\n",
       "      <th>1304</th>\n",
       "      <td>NU7441</td>\n",
       "      <td>A549</td>\n",
       "      <td>6</td>\n",
       "      <td>10</td>\n",
       "      <td>down regulation</td>\n",
       "      <td>-1.239</td>\n",
       "      <td>ARL4C</td>\n",
       "      <td>11327430</td>\n",
       "    </tr>\n",
       "  </tbody>\n",
       "</table>\n",
       "</div>"
      ],
      "text/plain": [
       "        drug cell_line  time_point  concentration         endpoint  value gene_name       cid\n",
       "1300  NU7441      A549           6             10  down regulation -1.038     INTS3  11327430\n",
       "1301  NU7441     HT-29           6             10  down regulation -1.068   SMARCD2  11327430\n",
       "1302  NU7441      A549           6             10  down regulation -1.210  KIAA0494  11327430\n",
       "1303  NU7441      A549          24             10  down regulation -1.224      PIGB  11327430\n",
       "1304  NU7441      A549           6             10  down regulation -1.239     ARL4C  11327430"
      ]
     },
     "metadata": {},
     "output_type": "display_data"
    },
    {
     "data": {
      "text/plain": [
       "drug              object\n",
       "cell_line         object\n",
       "time_point         int64\n",
       "concentration    float64\n",
       "endpoint          object\n",
       "value            float64\n",
       "gene_name         object\n",
       "cid               object\n",
       "dtype: object"
      ]
     },
     "metadata": {},
     "output_type": "display_data"
    }
   ],
   "source": [
    "display(lincs_drug_expression.head())\n",
    "display(lincs_drug_expression.dtypes)"
   ]
  },
  {
   "cell_type": "code",
   "execution_count": 89,
   "metadata": {
    "collapsed": false
   },
   "outputs": [
    {
     "data": {
      "text/plain": [
       "<sqlalchemy.engine.result.ResultProxy at 0x7f7d74cfa940>"
      ]
     },
     "execution_count": 89,
     "metadata": {},
     "output_type": "execute_result"
    }
   ],
   "source": [
    "# Save to database\n",
    "engine = sa.create_engine('mysql://strokach:@192.168.6.19:3306/az_dream')\n",
    "\n",
    "lincs_drug_info.to_sql('lincs_drug_info', engine, if_exists='replace', index=False)\n",
    "engine.execute('create index a on lincs_drug_info (drug(255), cid(255))')\n",
    "engine.execute('create index b on lincs_drug_info (cid(255), drug(255))')\n",
    "\n",
    "lincs_drug_expression.to_sql('lincs_drug_expression', engine, if_exists='replace', index=False)\n",
    "engine.execute('create index a on lincs_drug_expression (drug(255), cell_line(255), gene_name(255))')\n",
    "engine.execute('create index b on lincs_drug_expression (cell_line(255), gene_name(255), drug(255))')\n",
    "engine.execute('create index c on lincs_drug_expression (drug(255), gene_name(255))')\n",
    "engine.execute('create index d on lincs_drug_expression (gene_name(255), drug(255))')"
   ]
  },
  {
   "cell_type": "code",
   "execution_count": null,
   "metadata": {
    "collapsed": true
   },
   "outputs": [],
   "source": []
  },
  {
   "cell_type": "markdown",
   "metadata": {},
   "source": [
    "# Drug Pair -> Target Pair"
   ]
  },
  {
   "cell_type": "code",
   "execution_count": 7,
   "metadata": {
    "collapsed": true
   },
   "outputs": [],
   "source": [
    "# Load drug info data\n",
    "engine = sa.create_engine('mysql://strokach:@192.168.6.19:3306/az_dream')\n",
    "all_drug_pairs = pd.read_sql('all_drug_pairs', engine)\n",
    "drug_to_cid = pd.read_sql('drug_to_cid', engine)\n",
    "drug_to_target = pd.read_sql('drug_to_target', engine)"
   ]
  },
  {
   "cell_type": "code",
   "execution_count": 9,
   "metadata": {
    "collapsed": true
   },
   "outputs": [],
   "source": [
    "all_drug_pairs.sort_values(['COMPOUND_A', 'COMPOUND_B'], inplace=True)"
   ]
  },
  {
   "cell_type": "code",
   "execution_count": 104,
   "metadata": {
    "collapsed": false
   },
   "outputs": [
    {
     "data": {
      "text/html": [
       "<div>\n",
       "<table border=\"1\" class=\"dataframe\">\n",
       "  <thead>\n",
       "    <tr style=\"text-align: right;\">\n",
       "      <th></th>\n",
       "      <th>UNIQUE_ID</th>\n",
       "      <th>COMPOUND_A</th>\n",
       "      <th>COMPOUND_B</th>\n",
       "    </tr>\n",
       "  </thead>\n",
       "  <tbody>\n",
       "    <tr>\n",
       "      <th>0</th>\n",
       "      <td>ADAM17.AKT</td>\n",
       "      <td>ADAM17</td>\n",
       "      <td>AKT</td>\n",
       "    </tr>\n",
       "    <tr>\n",
       "      <th>1</th>\n",
       "      <td>ADAM17.AKT_1</td>\n",
       "      <td>ADAM17</td>\n",
       "      <td>AKT_1</td>\n",
       "    </tr>\n",
       "  </tbody>\n",
       "</table>\n",
       "</div>"
      ],
      "text/plain": [
       "      UNIQUE_ID COMPOUND_A COMPOUND_B\n",
       "0    ADAM17.AKT     ADAM17        AKT\n",
       "1  ADAM17.AKT_1     ADAM17      AKT_1"
      ]
     },
     "execution_count": 104,
     "metadata": {},
     "output_type": "execute_result"
    }
   ],
   "source": [
    "all_drug_pairs.head(2)"
   ]
  },
  {
   "cell_type": "code",
   "execution_count": 105,
   "metadata": {
    "collapsed": false
   },
   "outputs": [
    {
     "data": {
      "text/html": [
       "<div>\n",
       "<table border=\"1\" class=\"dataframe\">\n",
       "  <thead>\n",
       "    <tr style=\"text-align: right;\">\n",
       "      <th></th>\n",
       "      <th>ChallengeName</th>\n",
       "      <th>cid</th>\n",
       "    </tr>\n",
       "  </thead>\n",
       "  <tbody>\n",
       "    <tr>\n",
       "      <th>0</th>\n",
       "      <td>AKT</td>\n",
       "      <td>25227436</td>\n",
       "    </tr>\n",
       "    <tr>\n",
       "      <th>1</th>\n",
       "      <td>AKT</td>\n",
       "      <td>57750340</td>\n",
       "    </tr>\n",
       "  </tbody>\n",
       "</table>\n",
       "</div>"
      ],
      "text/plain": [
       "  ChallengeName       cid\n",
       "0           AKT  25227436\n",
       "1           AKT  57750340"
      ]
     },
     "execution_count": 105,
     "metadata": {},
     "output_type": "execute_result"
    }
   ],
   "source": [
    "drug_to_cid.head(2)"
   ]
  },
  {
   "cell_type": "code",
   "execution_count": 107,
   "metadata": {
    "collapsed": false
   },
   "outputs": [
    {
     "data": {
      "text/plain": [
       "ChallengeName    object\n",
       "cid               int64\n",
       "dtype: object"
      ]
     },
     "execution_count": 107,
     "metadata": {},
     "output_type": "execute_result"
    }
   ],
   "source": [
    "drug_to_cid.dtypes"
   ]
  },
  {
   "cell_type": "code",
   "execution_count": 106,
   "metadata": {
    "collapsed": false
   },
   "outputs": [
    {
     "data": {
      "text/html": [
       "<div>\n",
       "<table border=\"1\" class=\"dataframe\">\n",
       "  <thead>\n",
       "    <tr style=\"text-align: right;\">\n",
       "      <th></th>\n",
       "      <th>drug</th>\n",
       "      <th>target_original</th>\n",
       "      <th>target</th>\n",
       "      <th>hgnc_name</th>\n",
       "      <th>hgnc_acc</th>\n",
       "      <th>hgnc_description</th>\n",
       "      <th>ensg</th>\n",
       "      <th>enst</th>\n",
       "      <th>ensp</th>\n",
       "      <th>ensp_idx</th>\n",
       "    </tr>\n",
       "  </thead>\n",
       "  <tbody>\n",
       "    <tr>\n",
       "      <th>0</th>\n",
       "      <td>ADAM17</td>\n",
       "      <td>ADAM17</td>\n",
       "      <td>ADAM17</td>\n",
       "      <td>ADAM17</td>\n",
       "      <td>HGNC:195</td>\n",
       "      <td>ADAM metallopeptidase domain 17</td>\n",
       "      <td>ENSG00000151694</td>\n",
       "      <td>ENST00000310823</td>\n",
       "      <td>ENSP00000309968</td>\n",
       "      <td>309968</td>\n",
       "    </tr>\n",
       "    <tr>\n",
       "      <th>1</th>\n",
       "      <td>ADAM17</td>\n",
       "      <td>ADAM17</td>\n",
       "      <td>ADAM17</td>\n",
       "      <td>ADAM17</td>\n",
       "      <td>HGNC:195</td>\n",
       "      <td>ADAM metallopeptidase domain 17</td>\n",
       "      <td>ENSG00000151694</td>\n",
       "      <td>ENST00000497134</td>\n",
       "      <td>ENSP00000418728</td>\n",
       "      <td>418728</td>\n",
       "    </tr>\n",
       "  </tbody>\n",
       "</table>\n",
       "</div>"
      ],
      "text/plain": [
       "     drug target_original  target hgnc_name  hgnc_acc                 hgnc_description             ensg             enst             ensp  ensp_idx\n",
       "0  ADAM17          ADAM17  ADAM17    ADAM17  HGNC:195  ADAM metallopeptidase domain 17  ENSG00000151694  ENST00000310823  ENSP00000309968    309968\n",
       "1  ADAM17          ADAM17  ADAM17    ADAM17  HGNC:195  ADAM metallopeptidase domain 17  ENSG00000151694  ENST00000497134  ENSP00000418728    418728"
      ]
     },
     "execution_count": 106,
     "metadata": {},
     "output_type": "execute_result"
    }
   ],
   "source": [
    "drug_to_target.head(2)"
   ]
  },
  {
   "cell_type": "code",
   "execution_count": null,
   "metadata": {
    "collapsed": true
   },
   "outputs": [],
   "source": []
  },
  {
   "cell_type": "markdown",
   "metadata": {
    "collapsed": true
   },
   "source": [
    "### drug_pair_to_cid_pair"
   ]
  },
  {
   "cell_type": "code",
   "execution_count": 126,
   "metadata": {
    "collapsed": false
   },
   "outputs": [],
   "source": [
    "drug_pair_to_cid_pair = (\n",
    "    all_drug_pairs\n",
    "    .merge(\n",
    "        drug_to_cid[['ChallengeName', 'cid']]\n",
    "            .rename(columns={'ChallengeName': 'COMPOUND_A', 'cid': 'cid_1'}), \n",
    "        on=['COMPOUND_A'])\n",
    "    .merge(\n",
    "        drug_to_cid[['ChallengeName', 'cid']]\n",
    "            .rename(columns={'ChallengeName': 'COMPOUND_B', 'cid': 'cid_2'}), \n",
    "        on=['COMPOUND_B'])\n",
    ")\n",
    "#\n",
    "idx = (drug_pair_to_cid_pair['cid_1'] > drug_pair_to_cid_pair['cid_2'])\n",
    "(drug_pair_to_cid_pair.loc[idx, 'cid_1'], drug_pair_to_cid_pair.loc[idx, 'cid_2']) = (\n",
    "    drug_pair_to_cid_pair.loc[idx, 'cid_2'], drug_pair_to_cid_pair.loc[idx, 'cid_1']\n",
    ")\n",
    "drug_pair_to_cid_pair['cid_pair'] = (\n",
    "    drug_pair_to_cid_pair['cid_1'].astype(int).astype(str) + ',' + \n",
    "    drug_pair_to_cid_pair['cid_2'].astype(int).astype(str)\n",
    ")"
   ]
  },
  {
   "cell_type": "code",
   "execution_count": 127,
   "metadata": {
    "collapsed": false
   },
   "outputs": [
    {
     "name": "stdout",
     "output_type": "stream",
     "text": [
      "636,149\n",
      "636,148\n"
     ]
    }
   ],
   "source": [
    "print('{:,d}'.format(drug_pair_to_cid_pair.shape[0]))\n",
    "drug_pair_to_cid_pair = drug_pair_to_cid_pair.drop_duplicates()\n",
    "print('{:,d}'.format(drug_pair_to_cid_pair.drop_duplicates().shape[0]))"
   ]
  },
  {
   "cell_type": "code",
   "execution_count": 128,
   "metadata": {
    "collapsed": false
   },
   "outputs": [
    {
     "data": {
      "text/html": [
       "<div>\n",
       "<table border=\"1\" class=\"dataframe\">\n",
       "  <thead>\n",
       "    <tr style=\"text-align: right;\">\n",
       "      <th></th>\n",
       "      <th>UNIQUE_ID</th>\n",
       "      <th>COMPOUND_A</th>\n",
       "      <th>COMPOUND_B</th>\n",
       "      <th>cid_1</th>\n",
       "      <th>cid_2</th>\n",
       "      <th>cid_pair</th>\n",
       "    </tr>\n",
       "  </thead>\n",
       "  <tbody>\n",
       "    <tr>\n",
       "      <th>0</th>\n",
       "      <td>AKT.AKT_1</td>\n",
       "      <td>AKT</td>\n",
       "      <td>AKT_1</td>\n",
       "      <td>24964624</td>\n",
       "      <td>25227436</td>\n",
       "      <td>24964624,25227436</td>\n",
       "    </tr>\n",
       "    <tr>\n",
       "      <th>1</th>\n",
       "      <td>AKT.AKT_1</td>\n",
       "      <td>AKT</td>\n",
       "      <td>AKT_1</td>\n",
       "      <td>24964624</td>\n",
       "      <td>57750340</td>\n",
       "      <td>24964624,57750340</td>\n",
       "    </tr>\n",
       "  </tbody>\n",
       "</table>\n",
       "</div>"
      ],
      "text/plain": [
       "   UNIQUE_ID COMPOUND_A COMPOUND_B     cid_1     cid_2           cid_pair\n",
       "0  AKT.AKT_1        AKT      AKT_1  24964624  25227436  24964624,25227436\n",
       "1  AKT.AKT_1        AKT      AKT_1  24964624  57750340  24964624,57750340"
      ]
     },
     "execution_count": 128,
     "metadata": {},
     "output_type": "execute_result"
    }
   ],
   "source": [
    "drug_pair_to_cid_pair.head(2)"
   ]
  },
  {
   "cell_type": "code",
   "execution_count": 129,
   "metadata": {
    "collapsed": false
   },
   "outputs": [
    {
     "data": {
      "text/plain": [
       "UNIQUE_ID     object\n",
       "COMPOUND_A    object\n",
       "COMPOUND_B    object\n",
       "cid_1          int64\n",
       "cid_2          int64\n",
       "cid_pair      object\n",
       "dtype: object"
      ]
     },
     "execution_count": 129,
     "metadata": {},
     "output_type": "execute_result"
    }
   ],
   "source": [
    "drug_pair_to_cid_pair.dtypes"
   ]
  },
  {
   "cell_type": "code",
   "execution_count": 130,
   "metadata": {
    "collapsed": false
   },
   "outputs": [],
   "source": [
    "assert not any(drug_pair_to_cid_pair['cid_1'] > drug_pair_to_cid_pair['cid_2'])"
   ]
  },
  {
   "cell_type": "code",
   "execution_count": 131,
   "metadata": {
    "collapsed": true
   },
   "outputs": [],
   "source": [
    "dtypes = {\n",
    "    'UNIQUE_ID': sa.VARCHAR(255),\n",
    "    'COMPOUND_A': sa.VARCHAR(255),\n",
    "    'COMPOUND_B': sa.VARCHAR(255),\n",
    "    'cid_1': sa.dialects.mysql.INTEGER,\n",
    "    'cid_2': sa.dialects.mysql.INTEGER,\n",
    "    'cid_pair': sa.VARCHAR(255),\n",
    "}\n",
    "drug_pair_to_cid_pair.to_sql('drug_pair_to_cid_pair', engine, dtype=dtypes, index=False, if_exists='replace')"
   ]
  },
  {
   "cell_type": "code",
   "execution_count": 132,
   "metadata": {
    "collapsed": false
   },
   "outputs": [
    {
     "data": {
      "text/plain": [
       "<sqlalchemy.engine.result.ResultProxy at 0x7f11dda18908>"
      ]
     },
     "execution_count": 132,
     "metadata": {},
     "output_type": "execute_result"
    }
   ],
   "source": [
    "engine.execute('create index a on drug_pair_to_cid_pair (UNIQUE_ID, COMPOUND_A, COMPOUND_B)')\n",
    "engine.execute('create index b on drug_pair_to_cid_pair (COMPOUND_A, COMPOUND_B, UNIQUE_ID)')\n",
    "engine.execute('create index c on drug_pair_to_cid_pair (UNIQUE_ID, cid_1, cid_2)')\n",
    "engine.execute('create index d on drug_pair_to_cid_pair (cid_1, cid_2, UNIQUE_ID)')\n",
    "engine.execute('create index e on drug_pair_to_cid_pair (UNIQUE_ID, cid_pair)')\n",
    "engine.execute('create index f on drug_pair_to_cid_pair (cid_pair, UNIQUE_ID)')"
   ]
  },
  {
   "cell_type": "code",
   "execution_count": null,
   "metadata": {
    "collapsed": true
   },
   "outputs": [],
   "source": []
  },
  {
   "cell_type": "markdown",
   "metadata": {},
   "source": [
    "### drug_pair_to_ensp_pair"
   ]
  },
  {
   "cell_type": "code",
   "execution_count": 59,
   "metadata": {
    "collapsed": false,
    "run_control": {
     "marked": false
    }
   },
   "outputs": [],
   "source": [
    "drug_pair_to_ensp_pair = (\n",
    "    all_drug_pairs\n",
    "    .merge(\n",
    "        drug_to_target[['drug', 'ensp']]\n",
    "            .rename(columns={'drug': 'COMPOUND_A', 'ensp': 'ensp_1'}), \n",
    "        on=['COMPOUND_A'])\n",
    "    .merge(\n",
    "        drug_to_target[['drug', 'ensp']]\n",
    "            .rename(columns={'drug': 'COMPOUND_B', 'ensp': 'ensp_2'}), \n",
    "        on=['COMPOUND_B'])\n",
    ")\n",
    "#\n",
    "idx = (drug_pair_to_ensp_pair['ensp_1'] > drug_pair_to_ensp_pair['ensp_2'])\n",
    "(drug_pair_to_ensp_pair.loc[idx, 'ensp_1'], drug_pair_to_ensp_pair.loc[idx, 'ensp_2']) = (\n",
    "    drug_pair_to_ensp_pair.loc[idx, 'ensp_2'], drug_pair_to_ensp_pair.loc[idx, 'ensp_1']\n",
    ")\n",
    "drug_pair_to_ensp_pair['ensp_pair'] = (\n",
    "    drug_pair_to_ensp_pair['ensp_1'] + ',' + drug_pair_to_ensp_pair['ensp_2']\n",
    ")"
   ]
  },
  {
   "cell_type": "code",
   "execution_count": 75,
   "metadata": {
    "collapsed": false,
    "run_control": {
     "marked": false
    }
   },
   "outputs": [
    {
     "name": "stdout",
     "output_type": "stream",
     "text": [
      "10,026,848\n",
      "9,901,172\n"
     ]
    }
   ],
   "source": [
    "print('{:,d}'.format(drug_pair_to_ensp_pair.shape[0]))\n",
    "drug_pair_to_ensp_pair = drug_pair_to_ensp_pair.drop_duplicates()\n",
    "print('{:,d}'.format(drug_pair_to_ensp_pair.drop_duplicates().shape[0]))"
   ]
  },
  {
   "cell_type": "code",
   "execution_count": 76,
   "metadata": {
    "collapsed": false,
    "run_control": {
     "marked": false
    }
   },
   "outputs": [
    {
     "data": {
      "text/html": [
       "<div>\n",
       "<table border=\"1\" class=\"dataframe\">\n",
       "  <thead>\n",
       "    <tr style=\"text-align: right;\">\n",
       "      <th></th>\n",
       "      <th>UNIQUE_ID</th>\n",
       "      <th>COMPOUND_A</th>\n",
       "      <th>COMPOUND_B</th>\n",
       "      <th>ensp_1</th>\n",
       "      <th>ensp_2</th>\n",
       "      <th>ensp_pair</th>\n",
       "    </tr>\n",
       "  </thead>\n",
       "  <tbody>\n",
       "    <tr>\n",
       "      <th>0</th>\n",
       "      <td>ADAM17.AKT</td>\n",
       "      <td>ADAM17</td>\n",
       "      <td>AKT</td>\n",
       "      <td>ENSP00000309968</td>\n",
       "      <td>ENSP00000451828</td>\n",
       "      <td>ENSP00000309968,ENSP00000451828</td>\n",
       "    </tr>\n",
       "    <tr>\n",
       "      <th>1</th>\n",
       "      <td>ADAM17.AKT</td>\n",
       "      <td>ADAM17</td>\n",
       "      <td>AKT</td>\n",
       "      <td>ENSP00000309968</td>\n",
       "      <td>ENSP00000384293</td>\n",
       "      <td>ENSP00000309968,ENSP00000384293</td>\n",
       "    </tr>\n",
       "    <tr>\n",
       "      <th>2</th>\n",
       "      <td>ADAM17.AKT</td>\n",
       "      <td>ADAM17</td>\n",
       "      <td>AKT</td>\n",
       "      <td>ENSP00000270202</td>\n",
       "      <td>ENSP00000309968</td>\n",
       "      <td>ENSP00000270202,ENSP00000309968</td>\n",
       "    </tr>\n",
       "    <tr>\n",
       "      <th>3</th>\n",
       "      <td>ADAM17.AKT</td>\n",
       "      <td>ADAM17</td>\n",
       "      <td>AKT</td>\n",
       "      <td>ENSP00000309968</td>\n",
       "      <td>ENSP00000385326</td>\n",
       "      <td>ENSP00000309968,ENSP00000385326</td>\n",
       "    </tr>\n",
       "    <tr>\n",
       "      <th>4</th>\n",
       "      <td>ADAM17.AKT</td>\n",
       "      <td>ADAM17</td>\n",
       "      <td>AKT</td>\n",
       "      <td>ENSP00000309968</td>\n",
       "      <td>ENSP00000450688</td>\n",
       "      <td>ENSP00000309968,ENSP00000450688</td>\n",
       "    </tr>\n",
       "  </tbody>\n",
       "</table>\n",
       "</div>"
      ],
      "text/plain": [
       "    UNIQUE_ID COMPOUND_A COMPOUND_B           ensp_1           ensp_2                        ensp_pair\n",
       "0  ADAM17.AKT     ADAM17        AKT  ENSP00000309968  ENSP00000451828  ENSP00000309968,ENSP00000451828\n",
       "1  ADAM17.AKT     ADAM17        AKT  ENSP00000309968  ENSP00000384293  ENSP00000309968,ENSP00000384293\n",
       "2  ADAM17.AKT     ADAM17        AKT  ENSP00000270202  ENSP00000309968  ENSP00000270202,ENSP00000309968\n",
       "3  ADAM17.AKT     ADAM17        AKT  ENSP00000309968  ENSP00000385326  ENSP00000309968,ENSP00000385326\n",
       "4  ADAM17.AKT     ADAM17        AKT  ENSP00000309968  ENSP00000450688  ENSP00000309968,ENSP00000450688"
      ]
     },
     "metadata": {},
     "output_type": "display_data"
    }
   ],
   "source": [
    "display(drug_pair_to_ensp_pair.head())"
   ]
  },
  {
   "cell_type": "code",
   "execution_count": 88,
   "metadata": {
    "collapsed": true
   },
   "outputs": [],
   "source": [
    "drug_pair_to_ensp_pair.to_csv('/tmp/drug_pair_to_ensp_pair.tsv', sep='\\t', index=False, header=False)"
   ]
  },
  {
   "cell_type": "code",
   "execution_count": 89,
   "metadata": {
    "collapsed": false
   },
   "outputs": [
    {
     "data": {
      "text/plain": [
       "<sqlalchemy.engine.result.ResultProxy at 0x7f11db116c18>"
      ]
     },
     "execution_count": 89,
     "metadata": {},
     "output_type": "execute_result"
    }
   ],
   "source": [
    "engine = sa.create_engine('mysql://strokach:@192.168.6.19:3306/az_dream')\n",
    "engine.execute('drop table drug_pair_to_ensp_pair')\n",
    "engine.execute(\"\"\"\n",
    "create table drug_pair_to_ensp_pair (\n",
    "UNIQUE_ID varchar(255),\n",
    "COMPOUND_A varchar(255),\n",
    "COMPOUND_B varchar(255),\n",
    "ensp_1 varchar(255),\n",
    "ensp_2 varchar(255),\n",
    "ensp_pair varchar(255)\n",
    ");\n",
    "\"\"\")"
   ]
  },
  {
   "cell_type": "code",
   "execution_count": 83,
   "metadata": {
    "collapsed": false
   },
   "outputs": [
    {
     "name": "stdout",
     "output_type": "stream",
     "text": [
      "strokach@192.168.6.19's password: \n",
      "\n"
     ]
    }
   ],
   "source": [
    "!mysql -u strokach -h 192.168.6.19 az_dream \\\n",
    "    -e \"load data infile '/tmp/drug_pair_to_ensp_pair.tsv' into table drug_pair_to_ensp_idx_pair\""
   ]
  },
  {
   "cell_type": "code",
   "execution_count": null,
   "metadata": {
    "collapsed": true
   },
   "outputs": [],
   "source": [
    "!rm \"/tmp/drug_pair_to_ensp_pair.tsv\""
   ]
  },
  {
   "cell_type": "code",
   "execution_count": null,
   "metadata": {
    "collapsed": true
   },
   "outputs": [],
   "source": [
    "engine.execute('create index a on drug_pair_to_ensp_pair (UNIQUE_ID, COMPOUND_A, COMPOUND_B)')\n",
    "engine.execute('create index b on drug_pair_to_ensp_pair (COMPOUND_A, COMPOUND_B, UNIQUE_ID)')\n",
    "engine.execute('create index c on drug_pair_to_ensp_pair (UNIQUE_ID, ensp_1, ensp_2)')\n",
    "engine.execute('create index d on drug_pair_to_ensp_pair (ensp_1, ensp_2, UNIQUE_ID)')\n",
    "engine.execute('create index e on drug_pair_to_ensp_pair (UNIQUE_ID, ensp_pair)')\n",
    "engine.execute('create index f on drug_pair_to_ensp_pair (ensp_pair, UNIQUE_ID)')"
   ]
  },
  {
   "cell_type": "code",
   "execution_count": null,
   "metadata": {
    "collapsed": true
   },
   "outputs": [],
   "source": []
  },
  {
   "cell_type": "markdown",
   "metadata": {},
   "source": [
    "### drug_pair_to_ensp_idx_pair"
   ]
  },
  {
   "cell_type": "code",
   "execution_count": 61,
   "metadata": {
    "collapsed": false,
    "run_control": {
     "marked": false
    }
   },
   "outputs": [],
   "source": [
    "drug_pair_to_ensp_idx_pair = (\n",
    "    all_drug_pairs\n",
    "    .merge(\n",
    "        drug_to_target[['drug', 'ensp_idx']]\n",
    "            .rename(columns={'drug': 'COMPOUND_A', 'ensp_idx': 'ensp_1'}), \n",
    "        on=['COMPOUND_A'])\n",
    "    .merge(\n",
    "        drug_to_target[['drug', 'ensp_idx']]\n",
    "            .rename(columns={'drug': 'COMPOUND_B', 'ensp_idx': 'ensp_2'}), \n",
    "        on=['COMPOUND_B'])\n",
    ")\n",
    "#\n",
    "idx = (drug_pair_to_ensp_idx_pair['ensp_1'] > drug_pair_to_ensp_idx_pair['ensp_2'])\n",
    "(drug_pair_to_ensp_idx_pair.loc[idx, 'ensp_1'], drug_pair_to_ensp_idx_pair.loc[idx, 'ensp_2']) = (\n",
    "    drug_pair_to_ensp_idx_pair.loc[idx, 'ensp_2'], drug_pair_to_ensp_idx_pair.loc[idx, 'ensp_1']\n",
    ")\n",
    "drug_pair_to_ensp_idx_pair['ensp_idx_pair'] = (\n",
    "    drug_pair_to_ensp_idx_pair['ensp_1'].astype(int).astype(str) + ',' + \n",
    "    drug_pair_to_ensp_idx_pair['ensp_2'].astype(int).astype(str)\n",
    ")"
   ]
  },
  {
   "cell_type": "code",
   "execution_count": 71,
   "metadata": {
    "collapsed": false,
    "run_control": {
     "marked": false
    }
   },
   "outputs": [
    {
     "name": "stdout",
     "output_type": "stream",
     "text": [
      "10,026,848\n",
      "9,901,172\n"
     ]
    }
   ],
   "source": [
    "print('{:,d}'.format(drug_pair_to_ensp_idx_pair.shape[0]))\n",
    "drug_pair_to_ensp_idx_pair = drug_pair_to_ensp_idx_pair.drop_duplicates()\n",
    "print('{:,d}'.format(drug_pair_to_ensp_idx_pair.shape[0]))"
   ]
  },
  {
   "cell_type": "code",
   "execution_count": 72,
   "metadata": {
    "collapsed": false,
    "run_control": {
     "marked": false
    }
   },
   "outputs": [
    {
     "data": {
      "text/html": [
       "<div>\n",
       "<table border=\"1\" class=\"dataframe\">\n",
       "  <thead>\n",
       "    <tr style=\"text-align: right;\">\n",
       "      <th></th>\n",
       "      <th>UNIQUE_ID</th>\n",
       "      <th>COMPOUND_A</th>\n",
       "      <th>COMPOUND_B</th>\n",
       "      <th>ensp_1</th>\n",
       "      <th>ensp_2</th>\n",
       "      <th>ensp_idx_pair</th>\n",
       "    </tr>\n",
       "  </thead>\n",
       "  <tbody>\n",
       "    <tr>\n",
       "      <th>0</th>\n",
       "      <td>ADAM17.AKT</td>\n",
       "      <td>ADAM17</td>\n",
       "      <td>AKT</td>\n",
       "      <td>309968</td>\n",
       "      <td>451828</td>\n",
       "      <td>309968,451828</td>\n",
       "    </tr>\n",
       "    <tr>\n",
       "      <th>1</th>\n",
       "      <td>ADAM17.AKT</td>\n",
       "      <td>ADAM17</td>\n",
       "      <td>AKT</td>\n",
       "      <td>309968</td>\n",
       "      <td>384293</td>\n",
       "      <td>309968,384293</td>\n",
       "    </tr>\n",
       "    <tr>\n",
       "      <th>2</th>\n",
       "      <td>ADAM17.AKT</td>\n",
       "      <td>ADAM17</td>\n",
       "      <td>AKT</td>\n",
       "      <td>270202</td>\n",
       "      <td>309968</td>\n",
       "      <td>270202,309968</td>\n",
       "    </tr>\n",
       "    <tr>\n",
       "      <th>3</th>\n",
       "      <td>ADAM17.AKT</td>\n",
       "      <td>ADAM17</td>\n",
       "      <td>AKT</td>\n",
       "      <td>309968</td>\n",
       "      <td>385326</td>\n",
       "      <td>309968,385326</td>\n",
       "    </tr>\n",
       "    <tr>\n",
       "      <th>4</th>\n",
       "      <td>ADAM17.AKT</td>\n",
       "      <td>ADAM17</td>\n",
       "      <td>AKT</td>\n",
       "      <td>309968</td>\n",
       "      <td>450688</td>\n",
       "      <td>309968,450688</td>\n",
       "    </tr>\n",
       "  </tbody>\n",
       "</table>\n",
       "</div>"
      ],
      "text/plain": [
       "    UNIQUE_ID COMPOUND_A COMPOUND_B  ensp_1  ensp_2  ensp_idx_pair\n",
       "0  ADAM17.AKT     ADAM17        AKT  309968  451828  309968,451828\n",
       "1  ADAM17.AKT     ADAM17        AKT  309968  384293  309968,384293\n",
       "2  ADAM17.AKT     ADAM17        AKT  270202  309968  270202,309968\n",
       "3  ADAM17.AKT     ADAM17        AKT  309968  385326  309968,385326\n",
       "4  ADAM17.AKT     ADAM17        AKT  309968  450688  309968,450688"
      ]
     },
     "metadata": {},
     "output_type": "display_data"
    }
   ],
   "source": [
    "display(drug_pair_to_ensp_idx_pair.head())"
   ]
  },
  {
   "cell_type": "code",
   "execution_count": 100,
   "metadata": {
    "collapsed": true
   },
   "outputs": [],
   "source": [
    "drug_pair_to_ensp_idx_pair.to_csv('/tmp/drug_pair_to_ensp_idx_pair.tsv', sep='\\t', index=False, header=False)"
   ]
  },
  {
   "cell_type": "code",
   "execution_count": 99,
   "metadata": {
    "collapsed": false
   },
   "outputs": [
    {
     "data": {
      "text/plain": [
       "<sqlalchemy.engine.result.ResultProxy at 0x7f11db32bc18>"
      ]
     },
     "execution_count": 99,
     "metadata": {},
     "output_type": "execute_result"
    }
   ],
   "source": [
    "engine = sa.create_engine('mysql://strokach:@192.168.6.19:3306/az_dream')\n",
    "engine.execute('drop table drug_pair_to_ensp_idx_pair')\n",
    "engine.execute(\"\"\"\n",
    "create table drug_pair_to_ensp_idx_pair (\n",
    "UNIQUE_ID varchar(255),\n",
    "COMPOUND_A varchar(255),\n",
    "COMPOUND_B varchar(255),\n",
    "ensp_1 int,\n",
    "ensp_2 int,\n",
    "ensp_pair varchar(255)\n",
    ");\n",
    "\"\"\")"
   ]
  },
  {
   "cell_type": "code",
   "execution_count": 102,
   "metadata": {
    "collapsed": false
   },
   "outputs": [],
   "source": [
    "!mysql -u strokach -h 192.168.6.19 az_dream \\\n",
    "    -e \"load data infile '/tmp/drug_pair_to_ensp_idx_pair.tsv' into table drug_pair_to_ensp_idx_pair\""
   ]
  },
  {
   "cell_type": "code",
   "execution_count": null,
   "metadata": {
    "collapsed": true
   },
   "outputs": [],
   "source": [
    "!rm \"/tmp/drug_pair_to_ensp_idx_pair.tsv\""
   ]
  },
  {
   "cell_type": "code",
   "execution_count": null,
   "metadata": {
    "collapsed": true
   },
   "outputs": [],
   "source": [
    "engine.execute('create index a on drug_pair_to_ensp_idx_pair (UNIQUE_ID, COMPOUND_A, COMPOUND_B)')\n",
    "engine.execute('create index b on drug_pair_to_ensp_idx_pair (COMPOUND_A, COMPOUND_B, UNIQUE_ID)')\n",
    "engine.execute('create index c on drug_pair_to_ensp_idx_pair (UNIQUE_ID, ensp_1, ensp_2)')\n",
    "engine.execute('create index d on drug_pair_to_ensp_idx_pair (ensp_1, ensp_2, UNIQUE_ID)')\n",
    "engine.execute('create index e on drug_pair_to_ensp_idx_pair (UNIQUE_ID, ensp_pair)')\n",
    "engine.execute('create index f on drug_pair_to_ensp_idx_pair (ensp_pair, UNIQUE_ID)')"
   ]
  },
  {
   "cell_type": "code",
   "execution_count": null,
   "metadata": {
    "collapsed": true
   },
   "outputs": [],
   "source": []
  },
  {
   "cell_type": "markdown",
   "metadata": {},
   "source": [
    "### drug_pair_to_gene_pair"
   ]
  },
  {
   "cell_type": "code",
   "execution_count": 69,
   "metadata": {
    "collapsed": false,
    "run_control": {
     "marked": false
    }
   },
   "outputs": [],
   "source": [
    "drug_pair_to_gene_pair = (\n",
    "    all_drug_pairs\n",
    "    .merge(\n",
    "        drug_to_target[['drug', 'hgnc_name']]\n",
    "            .rename(columns={'drug': 'COMPOUND_A', 'hgnc_name': 'gene_1'}), \n",
    "        on=['COMPOUND_A'])\n",
    "    .merge(\n",
    "        drug_to_target[['drug', 'hgnc_name']]\n",
    "            .rename(columns={'drug': 'COMPOUND_B', 'hgnc_name': 'gene_2'}), \n",
    "        on=['COMPOUND_B'])\n",
    ")\n",
    "#\n",
    "idx = (drug_pair_to_gene_pair['gene_1'] > drug_pair_to_gene_pair['gene_2'])\n",
    "(drug_pair_to_gene_pair.loc[idx, 'gene_1'], drug_pair_to_gene_pair.loc[idx, 'gene_2']) = (\n",
    "    drug_pair_to_gene_pair.loc[idx, 'gene_2'], drug_pair_to_gene_pair.loc[idx, 'gene_1']\n",
    ")\n",
    "drug_pair_to_gene_pair['gene_pair'] = (\n",
    "    drug_pair_to_gene_pair['gene_1'] + ',' + drug_pair_to_gene_pair['gene_2']\n",
    ")"
   ]
  },
  {
   "cell_type": "code",
   "execution_count": 73,
   "metadata": {
    "collapsed": false,
    "run_control": {
     "marked": false
    }
   },
   "outputs": [
    {
     "name": "stdout",
     "output_type": "stream",
     "text": [
      "10,026,848\n",
      "2,234,288\n"
     ]
    }
   ],
   "source": [
    "print('{:,d}'.format(drug_pair_to_gene_pair.shape[0]))\n",
    "drug_pair_to_gene_pair = drug_pair_to_gene_pair.drop_duplicates()\n",
    "print('{:,d}'.format(drug_pair_to_gene_pair.shape[0]))"
   ]
  },
  {
   "cell_type": "code",
   "execution_count": 74,
   "metadata": {
    "collapsed": false,
    "run_control": {
     "marked": false
    }
   },
   "outputs": [
    {
     "data": {
      "text/html": [
       "<div>\n",
       "<table border=\"1\" class=\"dataframe\">\n",
       "  <thead>\n",
       "    <tr style=\"text-align: right;\">\n",
       "      <th></th>\n",
       "      <th>UNIQUE_ID</th>\n",
       "      <th>COMPOUND_A</th>\n",
       "      <th>COMPOUND_B</th>\n",
       "      <th>gene_1</th>\n",
       "      <th>gene_2</th>\n",
       "      <th>gene_pair</th>\n",
       "    </tr>\n",
       "  </thead>\n",
       "  <tbody>\n",
       "    <tr>\n",
       "      <th>0</th>\n",
       "      <td>ADAM17.AKT</td>\n",
       "      <td>ADAM17</td>\n",
       "      <td>AKT</td>\n",
       "      <td>ADAM17</td>\n",
       "      <td>AKT1</td>\n",
       "      <td>ADAM17,AKT1</td>\n",
       "    </tr>\n",
       "    <tr>\n",
       "      <th>12</th>\n",
       "      <td>ADAM17.AKT</td>\n",
       "      <td>ADAM17</td>\n",
       "      <td>AKT</td>\n",
       "      <td>ADAM17</td>\n",
       "      <td>AKT2</td>\n",
       "      <td>ADAM17,AKT2</td>\n",
       "    </tr>\n",
       "    <tr>\n",
       "      <th>40</th>\n",
       "      <td>ADAM17.AKT</td>\n",
       "      <td>ADAM17</td>\n",
       "      <td>AKT</td>\n",
       "      <td>ADAM17</td>\n",
       "      <td>AKT3</td>\n",
       "      <td>ADAM17,AKT3</td>\n",
       "    </tr>\n",
       "    <tr>\n",
       "      <th>147</th>\n",
       "      <td>ADAM17.AKT_1</td>\n",
       "      <td>ADAM17</td>\n",
       "      <td>AKT_1</td>\n",
       "      <td>ADAM17</td>\n",
       "      <td>AKT1</td>\n",
       "      <td>ADAM17,AKT1</td>\n",
       "    </tr>\n",
       "    <tr>\n",
       "      <th>159</th>\n",
       "      <td>ADAM17.AKT_1</td>\n",
       "      <td>ADAM17</td>\n",
       "      <td>AKT_1</td>\n",
       "      <td>ADAM17</td>\n",
       "      <td>AKT1S1</td>\n",
       "      <td>ADAM17,AKT1S1</td>\n",
       "    </tr>\n",
       "  </tbody>\n",
       "</table>\n",
       "</div>"
      ],
      "text/plain": [
       "        UNIQUE_ID COMPOUND_A COMPOUND_B  gene_1  gene_2      gene_pair\n",
       "0      ADAM17.AKT     ADAM17        AKT  ADAM17    AKT1    ADAM17,AKT1\n",
       "12     ADAM17.AKT     ADAM17        AKT  ADAM17    AKT2    ADAM17,AKT2\n",
       "40     ADAM17.AKT     ADAM17        AKT  ADAM17    AKT3    ADAM17,AKT3\n",
       "147  ADAM17.AKT_1     ADAM17      AKT_1  ADAM17    AKT1    ADAM17,AKT1\n",
       "159  ADAM17.AKT_1     ADAM17      AKT_1  ADAM17  AKT1S1  ADAM17,AKT1S1"
      ]
     },
     "metadata": {},
     "output_type": "display_data"
    }
   ],
   "source": [
    "display(drug_pair_to_gene_pair.head())"
   ]
  },
  {
   "cell_type": "code",
   "execution_count": 97,
   "metadata": {
    "collapsed": true
   },
   "outputs": [],
   "source": [
    "drug_pair_to_gene_pair.to_csv('/tmp/drug_pair_to_gene_pair.tsv', sep='\\t', index=False, header=False)"
   ]
  },
  {
   "cell_type": "code",
   "execution_count": 98,
   "metadata": {
    "collapsed": false
   },
   "outputs": [
    {
     "data": {
      "text/plain": [
       "<sqlalchemy.engine.result.ResultProxy at 0x7f11db10ef98>"
      ]
     },
     "execution_count": 98,
     "metadata": {},
     "output_type": "execute_result"
    }
   ],
   "source": [
    "engine = sa.create_engine('mysql://strokach:@192.168.6.19:3306/az_dream')\n",
    "engine.execute('drop table drug_pair_to_gene_pair')\n",
    "engine.execute(\"\"\"\n",
    "create table drug_pair_to_gene_pair (\n",
    "UNIQUE_ID varchar(255),\n",
    "COMPOUND_A varchar(255),\n",
    "COMPOUND_B varchar(255),\n",
    "gene_1 varchar(255),\n",
    "gene_2 varchar(255),\n",
    "gene_pair varchar(255)\n",
    ");\n",
    "\"\"\")"
   ]
  },
  {
   "cell_type": "code",
   "execution_count": null,
   "metadata": {
    "collapsed": true
   },
   "outputs": [],
   "source": [
    "!mysql -u strokach -h 192.168.6.19 az_dream \\\n",
    "    -e \"load data infile '/tmp/drug_pair_to_gene_pair.tsv' into table drug_pair_to_gene_pair\""
   ]
  },
  {
   "cell_type": "code",
   "execution_count": null,
   "metadata": {
    "collapsed": true
   },
   "outputs": [],
   "source": [
    "!rm \"/tmp/drug_pair_to_gene_pair.tsv\""
   ]
  },
  {
   "cell_type": "code",
   "execution_count": null,
   "metadata": {
    "collapsed": true
   },
   "outputs": [],
   "source": [
    "engine.execute('create index a on drug_pair_to_gene_pair (UNIQUE_ID, COMPOUND_A, COMPOUND_B)')\n",
    "engine.execute('create index b on drug_pair_to_gene_pair (COMPOUND_A, COMPOUND_B, UNIQUE_ID)')\n",
    "engine.execute('create index c on drug_pair_to_gene_pair (UNIQUE_ID, gene_1, gene_2)')\n",
    "engine.execute('create index d on drug_pair_to_gene_pair (gene_1, gene_2, UNIQUE_ID)')\n",
    "engine.execute('create index e on drug_pair_to_gene_pair (UNIQUE_ID, gene_pair)')\n",
    "engine.execute('create index f on drug_pair_to_gene_pair (gene_pair, UNIQUE_ID)')"
   ]
  },
  {
   "cell_type": "code",
   "execution_count": null,
   "metadata": {
    "collapsed": true
   },
   "outputs": [],
   "source": []
  },
  {
   "cell_type": "code",
   "execution_count": null,
   "metadata": {
    "collapsed": true
   },
   "outputs": [],
   "source": []
  },
  {
   "cell_type": "markdown",
   "metadata": {},
   "source": [
    "# Done!"
   ]
  },
  {
   "cell_type": "code",
   "execution_count": null,
   "metadata": {
    "collapsed": true
   },
   "outputs": [],
   "source": [
    "engine = sa.create_engine('mysql://strokach:@192.168.6.19:3306/az_dream')\n",
    "drug_info_release_3 = pd.read_sql_table('drug_info_release_3', engine)"
   ]
  },
  {
   "cell_type": "code",
   "execution_count": null,
   "metadata": {
    "collapsed": true
   },
   "outputs": [],
   "source": [
    "data = []\n",
    "for column in drug_info_release_3.columns:\n",
    "    data.append((column, drug_info_release_3[column].notnull().sum()))\n",
    "df = pd.DataFrame(data, columns=['feature', 'num drugs'])"
   ]
  },
  {
   "cell_type": "code",
   "execution_count": null,
   "metadata": {
    "collapsed": true
   },
   "outputs": [],
   "source": [
    "df.sort('num drugs', ascending=False, inplace=True)"
   ]
  },
  {
   "cell_type": "code",
   "execution_count": null,
   "metadata": {
    "collapsed": true
   },
   "outputs": [],
   "source": [
    "df"
   ]
  },
  {
   "cell_type": "code",
   "execution_count": null,
   "metadata": {
    "collapsed": true
   },
   "outputs": [],
   "source": [
    "drug_info_release_3[drug_info_release_3['atcs'].notnull()]['atcs']"
   ]
  },
  {
   "cell_type": "code",
   "execution_count": null,
   "metadata": {
    "collapsed": true
   },
   "outputs": [],
   "source": []
  },
  {
   "cell_type": "code",
   "execution_count": null,
   "metadata": {
    "collapsed": true
   },
   "outputs": [],
   "source": []
  },
  {
   "cell_type": "code",
   "execution_count": null,
   "metadata": {
    "collapsed": true
   },
   "outputs": [],
   "source": []
  },
  {
   "cell_type": "code",
   "execution_count": null,
   "metadata": {
    "collapsed": true
   },
   "outputs": [],
   "source": []
  }
 ],
 "metadata": {
  "kernelspec": {
   "display_name": "Python 3",
   "language": "python",
   "name": "python3"
  },
  "language_info": {
   "codemirror_mode": {
    "name": "ipython",
    "version": 3
   },
   "file_extension": ".py",
   "mimetype": "text/x-python",
   "name": "python",
   "nbconvert_exporter": "python",
   "pygments_lexer": "ipython3",
   "version": "3.5.0"
  }
 },
 "nbformat": 4,
 "nbformat_minor": 0
}
