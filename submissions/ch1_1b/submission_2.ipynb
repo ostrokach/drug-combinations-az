{
 "cells": [
  {
   "cell_type": "markdown",
   "metadata": {
    "run_control": {
     "marked": false
    }
   },
   "source": [
    "# Intro"
   ]
  },
  {
   "cell_type": "code",
   "execution_count": 28,
   "metadata": {
    "collapsed": false,
    "run_control": {
     "marked": false
    }
   },
   "outputs": [],
   "source": [
    "import os\n",
    "import os.path as op\n",
    "\n",
    "import numpy as np\n",
    "import scipy as sp\n",
    "import pandas as pd\n",
    "import sqlalchemy as sa\n",
    "\n",
    "from IPython.display import display, HTML\n",
    "import matplotlib.pyplot as plt\n",
    "import seaborn as sns\n",
    "\n",
    "import qgrid\n",
    "qgrid.nbinstall(overwrite=True)\n",
    "qgrid.set_defaults(remote_js=True, precision=4)\n",
    "\n",
    "from common import dat"
   ]
  },
  {
   "cell_type": "code",
   "execution_count": 29,
   "metadata": {
    "collapsed": false,
    "run_control": {
     "marked": false
    }
   },
   "outputs": [
    {
     "name": "stdout",
     "output_type": "stream",
     "text": [
      "height has been deprecated.\n",
      "\n"
     ]
    }
   ],
   "source": [
    "import pandas as pd\n",
    "pd.set_option('display.height', 1000)\n",
    "pd.set_option('display.max_rows', 500)\n",
    "pd.set_option('display.max_columns', 500)\n",
    "pd.set_option('display.width', 1000)"
   ]
  },
  {
   "cell_type": "code",
   "execution_count": 30,
   "metadata": {
    "collapsed": false,
    "run_control": {
     "marked": false
    }
   },
   "outputs": [
    {
     "name": "stdout",
     "output_type": "stream",
     "text": [
      "The autoreload extension is already loaded. To reload it, use:\n",
      "  %reload_ext autoreload\n"
     ]
    }
   ],
   "source": [
    "%matplotlib inline\n",
    "%load_ext autoreload\n",
    "%autoreload 2"
   ]
  },
  {
   "cell_type": "code",
   "execution_count": 31,
   "metadata": {
    "collapsed": true,
    "run_control": {
     "marked": false
    }
   },
   "outputs": [],
   "source": [
    "sns.set_context('notebook', font_scale=2)\n",
    "sns.set_style('whitegrid')"
   ]
  },
  {
   "cell_type": "markdown",
   "metadata": {
    "run_control": {
     "marked": false
    }
   },
   "source": [
    "# Load data"
   ]
  },
  {
   "cell_type": "code",
   "execution_count": 32,
   "metadata": {
    "collapsed": false,
    "run_control": {
     "marked": false
    }
   },
   "outputs": [
    {
     "data": {
      "text/html": [
       "<div>\n",
       "<table border=\"1\" class=\"dataframe\">\n",
       "  <thead>\n",
       "    <tr style=\"text-align: right;\">\n",
       "      <th></th>\n",
       "      <th>CELL_LINE</th>\n",
       "      <th>COMPOUND_A</th>\n",
       "      <th>COMPOUND_B</th>\n",
       "      <th>MAX_CONC_A</th>\n",
       "      <th>MAX_CONC_B</th>\n",
       "      <th>IC50_A</th>\n",
       "      <th>H_A</th>\n",
       "      <th>Einf_A</th>\n",
       "      <th>IC50_B</th>\n",
       "      <th>H_B</th>\n",
       "      <th>Einf_B</th>\n",
       "      <th>SYNERGY_SCORE</th>\n",
       "      <th>QA</th>\n",
       "      <th>COMBINATION_ID</th>\n",
       "    </tr>\n",
       "  </thead>\n",
       "  <tbody>\n",
       "    <tr>\n",
       "      <th>0</th>\n",
       "      <td>BT-20</td>\n",
       "      <td>ADAM17</td>\n",
       "      <td>AKT</td>\n",
       "      <td>1</td>\n",
       "      <td>75</td>\n",
       "      <td>1.000000</td>\n",
       "      <td>0.809002</td>\n",
       "      <td>59.122436</td>\n",
       "      <td>9.639714</td>\n",
       "      <td>0.757977</td>\n",
       "      <td>91.593425</td>\n",
       "      <td>29.540390</td>\n",
       "      <td>1</td>\n",
       "      <td>ADAM17.AKT</td>\n",
       "    </tr>\n",
       "    <tr>\n",
       "      <th>1</th>\n",
       "      <td>CAL-120</td>\n",
       "      <td>ADAM17</td>\n",
       "      <td>AKT</td>\n",
       "      <td>1</td>\n",
       "      <td>75</td>\n",
       "      <td>0.183214</td>\n",
       "      <td>2.503678</td>\n",
       "      <td>60.411999</td>\n",
       "      <td>1.000000</td>\n",
       "      <td>0.000000</td>\n",
       "      <td>100.000000</td>\n",
       "      <td>4.401410</td>\n",
       "      <td>-1</td>\n",
       "      <td>ADAM17.AKT</td>\n",
       "    </tr>\n",
       "    <tr>\n",
       "      <th>2</th>\n",
       "      <td>CAL-51</td>\n",
       "      <td>ADAM17</td>\n",
       "      <td>AKT</td>\n",
       "      <td>1</td>\n",
       "      <td>75</td>\n",
       "      <td>1.000000</td>\n",
       "      <td>0.726984</td>\n",
       "      <td>11.150843</td>\n",
       "      <td>75.000000</td>\n",
       "      <td>0.375043</td>\n",
       "      <td>76.656479</td>\n",
       "      <td>0.315422</td>\n",
       "      <td>1</td>\n",
       "      <td>ADAM17.AKT</td>\n",
       "    </tr>\n",
       "    <tr>\n",
       "      <th>3</th>\n",
       "      <td>DU-4475</td>\n",
       "      <td>ADAM17</td>\n",
       "      <td>AKT</td>\n",
       "      <td>1</td>\n",
       "      <td>75</td>\n",
       "      <td>0.321533</td>\n",
       "      <td>10.000000</td>\n",
       "      <td>58.599487</td>\n",
       "      <td>75.000000</td>\n",
       "      <td>1.995866</td>\n",
       "      <td>6.171007</td>\n",
       "      <td>-41.734090</td>\n",
       "      <td>-1</td>\n",
       "      <td>ADAM17.AKT</td>\n",
       "    </tr>\n",
       "    <tr>\n",
       "      <th>4</th>\n",
       "      <td>HCC1143</td>\n",
       "      <td>ADAM17</td>\n",
       "      <td>AKT</td>\n",
       "      <td>1</td>\n",
       "      <td>75</td>\n",
       "      <td>0.398673</td>\n",
       "      <td>10.000000</td>\n",
       "      <td>89.098894</td>\n",
       "      <td>1.000000</td>\n",
       "      <td>0.000000</td>\n",
       "      <td>100.000000</td>\n",
       "      <td>35.532770</td>\n",
       "      <td>-1</td>\n",
       "      <td>ADAM17.AKT</td>\n",
       "    </tr>\n",
       "  </tbody>\n",
       "</table>\n",
       "</div>"
      ],
      "text/plain": [
       "  CELL_LINE COMPOUND_A COMPOUND_B  MAX_CONC_A  MAX_CONC_B    IC50_A        H_A     Einf_A     IC50_B       H_B      Einf_B  SYNERGY_SCORE  QA COMBINATION_ID\n",
       "0     BT-20     ADAM17        AKT           1          75  1.000000   0.809002  59.122436   9.639714  0.757977   91.593425      29.540390   1     ADAM17.AKT\n",
       "1   CAL-120     ADAM17        AKT           1          75  0.183214   2.503678  60.411999   1.000000  0.000000  100.000000       4.401410  -1     ADAM17.AKT\n",
       "2    CAL-51     ADAM17        AKT           1          75  1.000000   0.726984  11.150843  75.000000  0.375043   76.656479       0.315422   1     ADAM17.AKT\n",
       "3   DU-4475     ADAM17        AKT           1          75  0.321533  10.000000  58.599487  75.000000  1.995866    6.171007     -41.734090  -1     ADAM17.AKT\n",
       "4   HCC1143     ADAM17        AKT           1          75  0.398673  10.000000  89.098894   1.000000  0.000000  100.000000      35.532770  -1     ADAM17.AKT"
      ]
     },
     "metadata": {},
     "output_type": "display_data"
    }
   ],
   "source": [
    "ch1_train_combination_and_monotherapy = pd.read_csv(\n",
    "    'challenge_data/drug_synergy_data/ch1_train_combination_and_monotherapy.csv/'\n",
    "    'ch1_train_combination_and_monoTherapy.csv', sep=','\n",
    ")\n",
    "display(ch1_train_combination_and_monotherapy.head())"
   ]
  },
  {
   "cell_type": "code",
   "execution_count": 33,
   "metadata": {
    "code_folding": [
     0
    ],
    "collapsed": false,
    "run_control": {
     "marked": false
    }
   },
   "outputs": [
    {
     "name": "stdout",
     "output_type": "stream",
     "text": [
      "Number of rows:                                             2199\n",
      "Number of cell lines:                                       85\n",
      "Number of compoounds:                                       69\n",
      "Number of combinations:                                     169\n"
     ]
    }
   ],
   "source": [
    "# Print some statistics\n",
    "ch_1_compounds = (\n",
    "    set(ch1_train_combination_and_monotherapy['COMPOUND_A']) |\n",
    "    set(ch1_train_combination_and_monotherapy['COMPOUND_B'])\n",
    ")\n",
    "dat.print2('Number of rows:', len(ch1_train_combination_and_monotherapy))\n",
    "dat.print2('Number of cell lines:', len(set(ch1_train_combination_and_monotherapy['CELL_LINE'])))\n",
    "dat.print2('Number of compoounds:', len(ch_1_compounds))\n",
    "dat.print2('Number of combinations:', len(set(ch1_train_combination_and_monotherapy['COMBINATION_ID'])))"
   ]
  },
  {
   "cell_type": "code",
   "execution_count": 34,
   "metadata": {
    "collapsed": true,
    "run_control": {
     "marked": false
    }
   },
   "outputs": [],
   "source": [
    "combinations_df_1 = ch1_train_combination_and_monotherapy.copy()"
   ]
  },
  {
   "cell_type": "code",
   "execution_count": 35,
   "metadata": {
    "collapsed": false,
    "run_control": {
     "marked": false
    }
   },
   "outputs": [],
   "source": [
    "def get_weight(QA):\n",
    "    if QA == 1:\n",
    "        return 1\n",
    "    elif QA == -1:\n",
    "        return 0.1\n",
    "    elif QA == -2:\n",
    "        return 0.05\n",
    "    elif QA == -3:\n",
    "        return 0.01\n",
    "    else:\n",
    "        raise Exception()\n",
    "\n",
    "combinations_df_1['WEIGHT'] = combinations_df_1['QA'].apply(get_weight)"
   ]
  },
  {
   "cell_type": "code",
   "execution_count": null,
   "metadata": {
    "collapsed": true
   },
   "outputs": [],
   "source": []
  },
  {
   "cell_type": "code",
   "execution_count": null,
   "metadata": {
    "collapsed": true
   },
   "outputs": [],
   "source": []
  },
  {
   "cell_type": "markdown",
   "metadata": {
    "run_control": {
     "marked": false
    }
   },
   "source": [
    "# Group by combination id"
   ]
  },
  {
   "cell_type": "code",
   "execution_count": 36,
   "metadata": {
    "collapsed": false
   },
   "outputs": [],
   "source": [
    "from functions import *\n",
    "df = get_weighted_stats(combinations_df_1, 'COMBINATION_ID', 'SYNERGY_SCORE', 'WEIGHT')"
   ]
  },
  {
   "cell_type": "code",
   "execution_count": 37,
   "metadata": {
    "collapsed": false
   },
   "outputs": [
    {
     "data": {
      "text/html": [
       "<div>\n",
       "<table border=\"1\" class=\"dataframe\">\n",
       "  <thead>\n",
       "    <tr style=\"text-align: right;\">\n",
       "      <th></th>\n",
       "      <th>COMBINATION_ID</th>\n",
       "      <th>len</th>\n",
       "      <th>mean</th>\n",
       "      <th>mean_unweighted</th>\n",
       "      <th>std</th>\n",
       "      <th>std_unweighted</th>\n",
       "      <th>sum_weight</th>\n",
       "      <th>ste</th>\n",
       "      <th>log_ste</th>\n",
       "      <th>norm_log_ste</th>\n",
       "      <th>confidence</th>\n",
       "    </tr>\n",
       "  </thead>\n",
       "  <tbody>\n",
       "    <tr>\n",
       "      <th>0</th>\n",
       "      <td>ADAM17.AKT</td>\n",
       "      <td>14</td>\n",
       "      <td>9.187210</td>\n",
       "      <td>5.005206</td>\n",
       "      <td>18.523353</td>\n",
       "      <td>23.066728</td>\n",
       "      <td>10.40</td>\n",
       "      <td>4.950574</td>\n",
       "      <td>1.599504</td>\n",
       "      <td>0.361350</td>\n",
       "      <td>0.638650</td>\n",
       "    </tr>\n",
       "    <tr>\n",
       "      <th>1</th>\n",
       "      <td>ADAM17.BCL2_BCL2L1</td>\n",
       "      <td>12</td>\n",
       "      <td>-3.503092</td>\n",
       "      <td>-4.554570</td>\n",
       "      <td>5.611126</td>\n",
       "      <td>6.539051</td>\n",
       "      <td>11.10</td>\n",
       "      <td>1.619792</td>\n",
       "      <td>0.482298</td>\n",
       "      <td>0.004350</td>\n",
       "      <td>0.995650</td>\n",
       "    </tr>\n",
       "    <tr>\n",
       "      <th>2</th>\n",
       "      <td>ADAM17.FGFR</td>\n",
       "      <td>13</td>\n",
       "      <td>-5.198812</td>\n",
       "      <td>-8.917044</td>\n",
       "      <td>17.691588</td>\n",
       "      <td>20.848170</td>\n",
       "      <td>10.30</td>\n",
       "      <td>4.906764</td>\n",
       "      <td>1.590615</td>\n",
       "      <td>0.358510</td>\n",
       "      <td>0.641490</td>\n",
       "    </tr>\n",
       "    <tr>\n",
       "      <th>3</th>\n",
       "      <td>ADAM17.MAP2K_1</td>\n",
       "      <td>13</td>\n",
       "      <td>-1.926945</td>\n",
       "      <td>-6.053760</td>\n",
       "      <td>16.215875</td>\n",
       "      <td>18.690474</td>\n",
       "      <td>11.20</td>\n",
       "      <td>4.497474</td>\n",
       "      <td>1.503516</td>\n",
       "      <td>0.330678</td>\n",
       "      <td>0.669322</td>\n",
       "    </tr>\n",
       "    <tr>\n",
       "      <th>4</th>\n",
       "      <td>ADAM17.MTOR_1</td>\n",
       "      <td>14</td>\n",
       "      <td>9.439891</td>\n",
       "      <td>9.625085</td>\n",
       "      <td>17.336281</td>\n",
       "      <td>15.960108</td>\n",
       "      <td>10.31</td>\n",
       "      <td>4.633316</td>\n",
       "      <td>1.533273</td>\n",
       "      <td>0.340186</td>\n",
       "      <td>0.659814</td>\n",
       "    </tr>\n",
       "  </tbody>\n",
       "</table>\n",
       "</div>"
      ],
      "text/plain": [
       "       COMBINATION_ID  len      mean  mean_unweighted        std  std_unweighted  sum_weight       ste   log_ste  norm_log_ste  confidence\n",
       "0          ADAM17.AKT   14  9.187210         5.005206  18.523353       23.066728       10.40  4.950574  1.599504      0.361350    0.638650\n",
       "1  ADAM17.BCL2_BCL2L1   12 -3.503092        -4.554570   5.611126        6.539051       11.10  1.619792  0.482298      0.004350    0.995650\n",
       "2         ADAM17.FGFR   13 -5.198812        -8.917044  17.691588       20.848170       10.30  4.906764  1.590615      0.358510    0.641490\n",
       "3      ADAM17.MAP2K_1   13 -1.926945        -6.053760  16.215875       18.690474       11.20  4.497474  1.503516      0.330678    0.669322\n",
       "4       ADAM17.MTOR_1   14  9.439891         9.625085  17.336281       15.960108       10.31  4.633316  1.533273      0.340186    0.659814"
      ]
     },
     "execution_count": 37,
     "metadata": {},
     "output_type": "execute_result"
    }
   ],
   "source": [
    "df.head()"
   ]
  },
  {
   "cell_type": "code",
   "execution_count": 38,
   "metadata": {
    "collapsed": false,
    "run_control": {
     "marked": false
    }
   },
   "outputs": [
    {
     "name": "stderr",
     "output_type": "stream",
     "text": [
      "/home/kimlab1/strokach/anaconda3/lib/python3.5/site-packages/matplotlib/collections.py:590: FutureWarning: elementwise comparison failed; returning scalar instead, but in the future will perform elementwise comparison\n",
      "  if self._edgecolors == str('face'):\n"
     ]
    },
    {
     "data": {
      "image/png": "[encoded data removed]",
      "text/plain": [
       "<matplotlib.figure.Figure at 0x7fdf8c13e208>"
      ]
     },
     "metadata": {},
     "output_type": "display_data"
    }
   ],
   "source": [
    "# Compare weighted and unweighted values\n",
    "fg, ax = plt.subplots(1, 2, figsize=(10, 4))\n",
    "df.plot(x='mean', y='mean_unweighted', kind='scatter', ax=ax[0])\n",
    "ax[0].set_xlim(-100, 100)\n",
    "ax[0].set_ylim(-100, 100)\n",
    "df.plot(x='std', y='std_unweighted', kind='scatter', ax=ax[1])\n",
    "ax[1].set_xlim(0, 100)\n",
    "ax[1].set_ylim(0, 100)\n",
    "plt.tight_layout()"
   ]
  },
  {
   "cell_type": "markdown",
   "metadata": {},
   "source": [
    "Overall weighed values have about the same mean and a smaller standard deviation than unweighted values, as expected. The stats appear OK."
   ]
  },
  {
   "cell_type": "markdown",
   "metadata": {},
   "source": [
    "## Result"
   ]
  },
  {
   "cell_type": "code",
   "execution_count": 39,
   "metadata": {
    "collapsed": true
   },
   "outputs": [],
   "source": [
    "group_by_combination = (\n",
    "    df[['COMBINATION_ID', 'mean', 'confidence']]\n",
    "    .rename(columns={\n",
    "        'mean': 'combination_synergy_score',\n",
    "        'confidence': 'combination_synergy_confidence',\n",
    "    })\n",
    ")"
   ]
  },
  {
   "cell_type": "code",
   "execution_count": null,
   "metadata": {
    "collapsed": true
   },
   "outputs": [],
   "source": []
  },
  {
   "cell_type": "markdown",
   "metadata": {
    "collapsed": true
   },
   "source": [
    "# Group by cell line"
   ]
  },
  {
   "cell_type": "code",
   "execution_count": 40,
   "metadata": {
    "collapsed": true
   },
   "outputs": [],
   "source": [
    "from functions import *\n",
    "df = get_weighted_stats(combinations_df_1, 'CELL_LINE', 'SYNERGY_SCORE', 'WEIGHT')"
   ]
  },
  {
   "cell_type": "code",
   "execution_count": 41,
   "metadata": {
    "collapsed": false
   },
   "outputs": [
    {
     "data": {
      "text/html": [
       "<div>\n",
       "<table border=\"1\" class=\"dataframe\">\n",
       "  <thead>\n",
       "    <tr style=\"text-align: right;\">\n",
       "      <th></th>\n",
       "      <th>CELL_LINE</th>\n",
       "      <th>len</th>\n",
       "      <th>mean</th>\n",
       "      <th>mean_unweighted</th>\n",
       "      <th>std</th>\n",
       "      <th>std_unweighted</th>\n",
       "      <th>sum_weight</th>\n",
       "      <th>ste</th>\n",
       "      <th>log_ste</th>\n",
       "      <th>norm_log_ste</th>\n",
       "      <th>confidence</th>\n",
       "    </tr>\n",
       "  </thead>\n",
       "  <tbody>\n",
       "    <tr>\n",
       "      <th>0</th>\n",
       "      <td>22RV1</td>\n",
       "      <td>2</td>\n",
       "      <td>-8.601674</td>\n",
       "      <td>-8.601674</td>\n",
       "      <td>5.217406</td>\n",
       "      <td>5.217406</td>\n",
       "      <td>2.00</td>\n",
       "      <td>3.689263</td>\n",
       "      <td>1.305427</td>\n",
       "      <td>0.280860</td>\n",
       "      <td>0.719140</td>\n",
       "    </tr>\n",
       "    <tr>\n",
       "      <th>1</th>\n",
       "      <td>647-V</td>\n",
       "      <td>23</td>\n",
       "      <td>13.834063</td>\n",
       "      <td>13.834063</td>\n",
       "      <td>24.923975</td>\n",
       "      <td>24.923975</td>\n",
       "      <td>23.00</td>\n",
       "      <td>5.197008</td>\n",
       "      <td>1.648083</td>\n",
       "      <td>0.396230</td>\n",
       "      <td>0.603770</td>\n",
       "    </tr>\n",
       "    <tr>\n",
       "      <th>2</th>\n",
       "      <td>A549</td>\n",
       "      <td>20</td>\n",
       "      <td>24.890324</td>\n",
       "      <td>21.671942</td>\n",
       "      <td>35.834833</td>\n",
       "      <td>34.170838</td>\n",
       "      <td>16.12</td>\n",
       "      <td>8.012912</td>\n",
       "      <td>2.081054</td>\n",
       "      <td>0.542008</td>\n",
       "      <td>0.457992</td>\n",
       "    </tr>\n",
       "    <tr>\n",
       "      <th>3</th>\n",
       "      <td>BFTC-905</td>\n",
       "      <td>25</td>\n",
       "      <td>21.839952</td>\n",
       "      <td>21.839952</td>\n",
       "      <td>33.543954</td>\n",
       "      <td>33.543954</td>\n",
       "      <td>25.00</td>\n",
       "      <td>6.708791</td>\n",
       "      <td>1.903419</td>\n",
       "      <td>0.482199</td>\n",
       "      <td>0.517801</td>\n",
       "    </tr>\n",
       "    <tr>\n",
       "      <th>4</th>\n",
       "      <td>BT-20</td>\n",
       "      <td>51</td>\n",
       "      <td>22.283808</td>\n",
       "      <td>22.283808</td>\n",
       "      <td>20.415080</td>\n",
       "      <td>20.415080</td>\n",
       "      <td>51.00</td>\n",
       "      <td>2.858683</td>\n",
       "      <td>1.050361</td>\n",
       "      <td>0.194981</td>\n",
       "      <td>0.805019</td>\n",
       "    </tr>\n",
       "  </tbody>\n",
       "</table>\n",
       "</div>"
      ],
      "text/plain": [
       "  CELL_LINE  len       mean  mean_unweighted        std  std_unweighted  sum_weight       ste   log_ste  norm_log_ste  confidence\n",
       "0     22RV1    2  -8.601674        -8.601674   5.217406        5.217406        2.00  3.689263  1.305427      0.280860    0.719140\n",
       "1     647-V   23  13.834063        13.834063  24.923975       24.923975       23.00  5.197008  1.648083      0.396230    0.603770\n",
       "2      A549   20  24.890324        21.671942  35.834833       34.170838       16.12  8.012912  2.081054      0.542008    0.457992\n",
       "3  BFTC-905   25  21.839952        21.839952  33.543954       33.543954       25.00  6.708791  1.903419      0.482199    0.517801\n",
       "4     BT-20   51  22.283808        22.283808  20.415080       20.415080       51.00  2.858683  1.050361      0.194981    0.805019"
      ]
     },
     "execution_count": 41,
     "metadata": {},
     "output_type": "execute_result"
    }
   ],
   "source": [
    "df.head()"
   ]
  },
  {
   "cell_type": "code",
   "execution_count": 42,
   "metadata": {
    "collapsed": false
   },
   "outputs": [
    {
     "data": {
      "text/plain": [
       "<matplotlib.axes._subplots.AxesSubplot at 0x7fdf8c0c8278>"
      ]
     },
     "execution_count": 42,
     "metadata": {},
     "output_type": "execute_result"
    },
    {
     "data": {
      "image/png": "[encoded data removed]",
      "text/plain": [
       "<matplotlib.figure.Figure at 0x7fdf8c0e2048>"
      ]
     },
     "metadata": {},
     "output_type": "display_data"
    }
   ],
   "source": [
    "df['confidence'].hist()"
   ]
  },
  {
   "cell_type": "markdown",
   "metadata": {},
   "source": [
    "## Result"
   ]
  },
  {
   "cell_type": "code",
   "execution_count": 43,
   "metadata": {
    "collapsed": false
   },
   "outputs": [],
   "source": [
    "group_by_cell_line = (\n",
    "    df[['CELL_LINE', 'mean', 'confidence']]\n",
    "    .rename(columns={\n",
    "        'mean': 'cell_line_synergy_score',\n",
    "        'confidence': 'cell_line_synergy_confidence',\n",
    "    })\n",
    ")"
   ]
  },
  {
   "cell_type": "code",
   "execution_count": null,
   "metadata": {
    "collapsed": true
   },
   "outputs": [],
   "source": []
  },
  {
   "cell_type": "code",
   "execution_count": null,
   "metadata": {
    "collapsed": true
   },
   "outputs": [],
   "source": []
  },
  {
   "cell_type": "markdown",
   "metadata": {
    "run_control": {
     "marked": false
    }
   },
   "source": [
    "# Machine learning"
   ]
  },
  {
   "cell_type": "code",
   "execution_count": 68,
   "metadata": {
    "collapsed": false,
    "run_control": {
     "marked": false
    }
   },
   "outputs": [],
   "source": [
    "combinations_df_1b = (\n",
    "    combinations_df_1\n",
    "    .merge(group_by_combination, on=['COMBINATION_ID'])\n",
    "    .merge(group_by_cell_line, on=['CELL_LINE'])\n",
    ")"
   ]
  },
  {
   "cell_type": "code",
   "execution_count": 69,
   "metadata": {
    "collapsed": true,
    "run_control": {
     "marked": false
    }
   },
   "outputs": [],
   "source": [
    "combinations_df_1b['MAX_CONC_diff'] = abs(combinations_df_1b['MAX_CONC_A'] - combinations_df_1b['MAX_CONC_B'])\n",
    "combinations_df_1b['IC50_diff'] = abs(combinations_df_1b['IC50_A'] - combinations_df_1b['IC50_B'])\n",
    "combinations_df_1b['H_diff'] = abs(combinations_df_1b['H_A'] - combinations_df_1b['H_B'])\n",
    "combinations_df_1b['Einf_diff'] = abs(combinations_df_1b['Einf_A'] - combinations_df_1b['Einf_B'])"
   ]
  },
  {
   "cell_type": "code",
   "execution_count": 70,
   "metadata": {
    "collapsed": false,
    "scrolled": true
   },
   "outputs": [
    {
     "data": {
      "text/html": [
       "<div>\n",
       "<table border=\"1\" class=\"dataframe\">\n",
       "  <thead>\n",
       "    <tr style=\"text-align: right;\">\n",
       "      <th></th>\n",
       "      <th>CELL_LINE</th>\n",
       "      <th>COMPOUND_A</th>\n",
       "      <th>COMPOUND_B</th>\n",
       "      <th>MAX_CONC_A</th>\n",
       "      <th>MAX_CONC_B</th>\n",
       "      <th>IC50_A</th>\n",
       "      <th>H_A</th>\n",
       "      <th>Einf_A</th>\n",
       "      <th>IC50_B</th>\n",
       "      <th>H_B</th>\n",
       "      <th>Einf_B</th>\n",
       "      <th>SYNERGY_SCORE</th>\n",
       "      <th>QA</th>\n",
       "      <th>COMBINATION_ID</th>\n",
       "      <th>WEIGHT</th>\n",
       "      <th>combination_synergy_score</th>\n",
       "      <th>combination_synergy_confidence</th>\n",
       "      <th>cell_line_synergy_score</th>\n",
       "      <th>cell_line_synergy_confidence</th>\n",
       "      <th>MAX_CONC_diff</th>\n",
       "      <th>IC50_diff</th>\n",
       "      <th>H_diff</th>\n",
       "      <th>Einf_diff</th>\n",
       "    </tr>\n",
       "  </thead>\n",
       "  <tbody>\n",
       "    <tr>\n",
       "      <th>0</th>\n",
       "      <td>BT-20</td>\n",
       "      <td>ADAM17</td>\n",
       "      <td>AKT</td>\n",
       "      <td>1.0</td>\n",
       "      <td>75</td>\n",
       "      <td>1.000000</td>\n",
       "      <td>0.809002</td>\n",
       "      <td>59.122436</td>\n",
       "      <td>9.639714</td>\n",
       "      <td>0.757977</td>\n",
       "      <td>91.593425</td>\n",
       "      <td>29.54039</td>\n",
       "      <td>1</td>\n",
       "      <td>ADAM17.AKT</td>\n",
       "      <td>1</td>\n",
       "      <td>9.187210</td>\n",
       "      <td>0.638650</td>\n",
       "      <td>22.283808</td>\n",
       "      <td>0.805019</td>\n",
       "      <td>74.0</td>\n",
       "      <td>8.639714</td>\n",
       "      <td>0.051025</td>\n",
       "      <td>32.470988</td>\n",
       "    </tr>\n",
       "    <tr>\n",
       "      <th>1</th>\n",
       "      <td>BT-20</td>\n",
       "      <td>ADAM17</td>\n",
       "      <td>MTOR_1</td>\n",
       "      <td>1.0</td>\n",
       "      <td>75</td>\n",
       "      <td>0.605688</td>\n",
       "      <td>1.265459</td>\n",
       "      <td>0.000000</td>\n",
       "      <td>75.000000</td>\n",
       "      <td>0.847787</td>\n",
       "      <td>68.226821</td>\n",
       "      <td>18.30981</td>\n",
       "      <td>1</td>\n",
       "      <td>ADAM17.MTOR_1</td>\n",
       "      <td>1</td>\n",
       "      <td>9.439891</td>\n",
       "      <td>0.659814</td>\n",
       "      <td>22.283808</td>\n",
       "      <td>0.805019</td>\n",
       "      <td>74.0</td>\n",
       "      <td>74.394312</td>\n",
       "      <td>0.417672</td>\n",
       "      <td>68.226821</td>\n",
       "    </tr>\n",
       "    <tr>\n",
       "      <th>2</th>\n",
       "      <td>BT-20</td>\n",
       "      <td>AKT</td>\n",
       "      <td>AKT_1</td>\n",
       "      <td>1.0</td>\n",
       "      <td>1</td>\n",
       "      <td>0.258830</td>\n",
       "      <td>2.652293</td>\n",
       "      <td>63.932989</td>\n",
       "      <td>0.457555</td>\n",
       "      <td>1.962639</td>\n",
       "      <td>80.811860</td>\n",
       "      <td>20.26494</td>\n",
       "      <td>1</td>\n",
       "      <td>AKT.AKT_1</td>\n",
       "      <td>1</td>\n",
       "      <td>4.640847</td>\n",
       "      <td>0.830387</td>\n",
       "      <td>22.283808</td>\n",
       "      <td>0.805019</td>\n",
       "      <td>0.0</td>\n",
       "      <td>0.198726</td>\n",
       "      <td>0.689654</td>\n",
       "      <td>16.878872</td>\n",
       "    </tr>\n",
       "    <tr>\n",
       "      <th>3</th>\n",
       "      <td>BT-20</td>\n",
       "      <td>AKT</td>\n",
       "      <td>CSNK2A1_2</td>\n",
       "      <td>0.1</td>\n",
       "      <td>3</td>\n",
       "      <td>0.011525</td>\n",
       "      <td>1.806654</td>\n",
       "      <td>5.735584</td>\n",
       "      <td>1.367930</td>\n",
       "      <td>0.982129</td>\n",
       "      <td>0.000000</td>\n",
       "      <td>11.97265</td>\n",
       "      <td>1</td>\n",
       "      <td>AKT.CSNK2A1_2</td>\n",
       "      <td>1</td>\n",
       "      <td>29.285410</td>\n",
       "      <td>0.598130</td>\n",
       "      <td>22.283808</td>\n",
       "      <td>0.805019</td>\n",
       "      <td>2.9</td>\n",
       "      <td>1.356405</td>\n",
       "      <td>0.824525</td>\n",
       "      <td>5.735584</td>\n",
       "    </tr>\n",
       "    <tr>\n",
       "      <th>4</th>\n",
       "      <td>BT-20</td>\n",
       "      <td>AKT</td>\n",
       "      <td>Chloroquine</td>\n",
       "      <td>3.0</td>\n",
       "      <td>3</td>\n",
       "      <td>1.066453</td>\n",
       "      <td>10.000000</td>\n",
       "      <td>79.099316</td>\n",
       "      <td>0.352249</td>\n",
       "      <td>1.282071</td>\n",
       "      <td>22.807083</td>\n",
       "      <td>18.41805</td>\n",
       "      <td>1</td>\n",
       "      <td>AKT.Chloroquine</td>\n",
       "      <td>1</td>\n",
       "      <td>7.343404</td>\n",
       "      <td>0.700970</td>\n",
       "      <td>22.283808</td>\n",
       "      <td>0.805019</td>\n",
       "      <td>0.0</td>\n",
       "      <td>0.714204</td>\n",
       "      <td>8.717929</td>\n",
       "      <td>56.292233</td>\n",
       "    </tr>\n",
       "  </tbody>\n",
       "</table>\n",
       "</div>"
      ],
      "text/plain": [
       "  CELL_LINE COMPOUND_A   COMPOUND_B  MAX_CONC_A  MAX_CONC_B    IC50_A        H_A     Einf_A     IC50_B       H_B     Einf_B  SYNERGY_SCORE  QA   COMBINATION_ID  WEIGHT  combination_synergy_score  combination_synergy_confidence  cell_line_synergy_score  cell_line_synergy_confidence  MAX_CONC_diff  IC50_diff    H_diff  Einf_diff\n",
       "0     BT-20     ADAM17          AKT         1.0          75  1.000000   0.809002  59.122436   9.639714  0.757977  91.593425       29.54039   1       ADAM17.AKT       1                   9.187210                        0.638650                22.283808                      0.805019           74.0   8.639714  0.051025  32.470988\n",
       "1     BT-20     ADAM17       MTOR_1         1.0          75  0.605688   1.265459   0.000000  75.000000  0.847787  68.226821       18.30981   1    ADAM17.MTOR_1       1                   9.439891                        0.659814                22.283808                      0.805019           74.0  74.394312  0.417672  68.226821\n",
       "2     BT-20        AKT        AKT_1         1.0           1  0.258830   2.652293  63.932989   0.457555  1.962639  80.811860       20.26494   1        AKT.AKT_1       1                   4.640847                        0.830387                22.283808                      0.805019            0.0   0.198726  0.689654  16.878872\n",
       "3     BT-20        AKT    CSNK2A1_2         0.1           3  0.011525   1.806654   5.735584   1.367930  0.982129   0.000000       11.97265   1    AKT.CSNK2A1_2       1                  29.285410                        0.598130                22.283808                      0.805019            2.9   1.356405  0.824525   5.735584\n",
       "4     BT-20        AKT  Chloroquine         3.0           3  1.066453  10.000000  79.099316   0.352249  1.282071  22.807083       18.41805   1  AKT.Chloroquine       1                   7.343404                        0.700970                22.283808                      0.805019            0.0   0.714204  8.717929  56.292233"
      ]
     },
     "execution_count": 70,
     "metadata": {},
     "output_type": "execute_result"
    }
   ],
   "source": [
    "combinations_df_1b.head()"
   ]
  },
  {
   "cell_type": "code",
   "execution_count": null,
   "metadata": {
    "collapsed": true
   },
   "outputs": [],
   "source": []
  },
  {
   "cell_type": "markdown",
   "metadata": {},
   "source": [
    "## Features"
   ]
  },
  {
   "cell_type": "code",
   "execution_count": 121,
   "metadata": {
    "collapsed": true
   },
   "outputs": [],
   "source": [
    "FEATURES = [\n",
    "    'combination_synergy_score', 'combination_synergy_confidence', \n",
    "    'cell_line_synergy_score', 'cell_line_synergy_confidence',\n",
    "    'MAX_CONC_diff', 'IC50_diff', 'H_diff', 'Einf_diff',\n",
    "]"
   ]
  },
  {
   "cell_type": "code",
   "execution_count": 122,
   "metadata": {
    "collapsed": false
   },
   "outputs": [
    {
     "data": {
      "text/html": [
       "<div>\n",
       "<table border=\"1\" class=\"dataframe\">\n",
       "  <thead>\n",
       "    <tr style=\"text-align: right;\">\n",
       "      <th></th>\n",
       "      <th>CELL_LINE</th>\n",
       "      <th>COMPOUND_A</th>\n",
       "      <th>COMPOUND_B</th>\n",
       "      <th>MAX_CONC_A</th>\n",
       "      <th>MAX_CONC_B</th>\n",
       "      <th>IC50_A</th>\n",
       "      <th>H_A</th>\n",
       "      <th>Einf_A</th>\n",
       "      <th>IC50_B</th>\n",
       "      <th>H_B</th>\n",
       "      <th>Einf_B</th>\n",
       "      <th>SYNERGY_SCORE</th>\n",
       "      <th>QA</th>\n",
       "      <th>COMBINATION_ID</th>\n",
       "      <th>WEIGHT</th>\n",
       "      <th>combination_synergy_score</th>\n",
       "      <th>combination_synergy_confidence</th>\n",
       "      <th>cell_line_synergy_score</th>\n",
       "      <th>cell_line_synergy_confidence</th>\n",
       "      <th>MAX_CONC_diff</th>\n",
       "      <th>IC50_diff</th>\n",
       "      <th>H_diff</th>\n",
       "      <th>Einf_diff</th>\n",
       "    </tr>\n",
       "  </thead>\n",
       "  <tbody>\n",
       "  </tbody>\n",
       "</table>\n",
       "</div>"
      ],
      "text/plain": [
       "Empty DataFrame\n",
       "Columns: [CELL_LINE, COMPOUND_A, COMPOUND_B, MAX_CONC_A, MAX_CONC_B, IC50_A, H_A, Einf_A, IC50_B, H_B, Einf_B, SYNERGY_SCORE, QA, COMBINATION_ID, WEIGHT, combination_synergy_score, combination_synergy_confidence, cell_line_synergy_score, cell_line_synergy_confidence, MAX_CONC_diff, IC50_diff, H_diff, Einf_diff]\n",
       "Index: []"
      ]
     },
     "execution_count": 122,
     "metadata": {},
     "output_type": "execute_result"
    }
   ],
   "source": [
    "combinations_df_1b[combinations_df_1b[FEATURES].isnull().any(axis=1)]"
   ]
  },
  {
   "cell_type": "code",
   "execution_count": 123,
   "metadata": {
    "collapsed": false,
    "run_control": {
     "marked": false
    }
   },
   "outputs": [
    {
     "data": {
      "text/plain": [
       "['combination_synergy_score',\n",
       " 'combination_synergy_confidence',\n",
       " 'cell_line_synergy_score',\n",
       " 'cell_line_synergy_confidence',\n",
       " 'MAX_CONC_diff',\n",
       " 'IC50_diff',\n",
       " 'H_diff',\n",
       " 'Einf_diff']"
      ]
     },
     "execution_count": 123,
     "metadata": {},
     "output_type": "execute_result"
    }
   ],
   "source": [
    "FEATURES"
   ]
  },
  {
   "cell_type": "markdown",
   "metadata": {
    "run_control": {
     "marked": false
    }
   },
   "source": [
    "## Train a predictor"
   ]
  },
  {
   "cell_type": "code",
   "execution_count": 59,
   "metadata": {
    "collapsed": false,
    "run_control": {
     "marked": false
    }
   },
   "outputs": [],
   "source": [
    "from sklearn.metrics import mean_squared_error\n",
    "from sklearn.ensemble import GradientBoostingRegressor\n"
   ]
  },
  {
   "cell_type": "code",
   "execution_count": 60,
   "metadata": {
    "collapsed": false,
    "run_control": {
     "marked": false
    }
   },
   "outputs": [],
   "source": [
    "clf_options = {\n",
    "    'loss': 'ls',\n",
    "    'n_estimators': 900,\n",
    "    'learning_rate': 0.01,\n",
    "    'max_depth': 2,\n",
    "    'subsample': 0.3,\n",
    "    'random_state': np.random.RandomState(42)\n",
    "}\n",
    "clf = GradientBoostingRegressor(**clf_options)"
   ]
  },
  {
   "cell_type": "code",
   "execution_count": 62,
   "metadata": {
    "collapsed": false,
    "run_control": {
     "marked": false
    },
    "scrolled": true
   },
   "outputs": [
    {
     "name": "stdout",
     "output_type": "stream",
     "text": [
      "Cross validating MTOR_1.PIK3CA_4...\n",
      "Cross validating BCL2L1.IAP...\n",
      "Cross validating HSP90.PARP1...\n",
      "Cross validating PARP1.PIK3CB_PIK3CD...\n",
      "Cross validating ALK.PIK3C...\n",
      "Cross validating ALK_IGFR.MTOR_1...\n",
      "Cross validating PIM1.TOP2_2...\n",
      "Cross validating BCL2L1.PIK3C...\n",
      "Cross validating IGFR_4.MAP2K_1...\n",
      "Cross validating BCL2_2.Vinorelbine...\n",
      "Cross validating BRAF_M2.MAP2K_3...\n",
      "Cross validating EG5.PIM1...\n",
      "Cross validating AKT.PIP5K1...\n",
      "Cross validating AKT.CSNK2A1_2...\n",
      "Cross validating IAP.PIK3C...\n",
      "Cross validating ATR_4.CarboTaxol...\n",
      "Cross validating ALK_2.MTOR_1...\n",
      "Cross validating HDAC_4.PARP1...\n",
      "Cross validating IAP.Oxaliplatin...\n",
      "Cross validating BCL2_BCL2L1.PIM1...\n",
      "Cross validating BCL2.CarboTaxol...\n",
      "Cross validating AKT.ALK_IGFR...\n",
      "Cross validating BCL2L1.Vinorelbine...\n",
      "Cross validating BRAF_M.MAP2K_1...\n",
      "Cross validating ERBB.Gemcitabine...\n",
      "Cross validating FGFR.MTOR_3...\n",
      "Cross validating ERBB.IAP...\n",
      "Cross validating FASN.MTOR_1...\n",
      "Cross validating IAP.Topotecan...\n",
      "Cross validating ADAM17.MTOR_1...\n",
      "Cross validating PIK3CB_PIK3CD.PIK3CB_PIK3CD...\n",
      "Cross validating FGFR.TNKS_PARP6...\n",
      "Cross validating IAP.IGFR_3...\n",
      "Cross validating PIK3CB.Topotecan...\n",
      "Cross validating ESR1.FGFR...\n",
      "Cross validating Carboplatin.CSNK2A1_2...\n",
      "Cross validating Cisplatin.FGFR...\n",
      "Cross validating CarboTaxol.CSNK2A1_2...\n",
      "Cross validating ESR1_1.MTOR_1...\n",
      "Cross validating AKT_1.EGFR...\n",
      "Cross validating IAP.PIK3CB...\n",
      "Cross validating IAP.IGFR_4...\n",
      "Cross validating AKT_1.ESR1_1...\n",
      "Cross validating ESR1.MTOR_1...\n",
      "Cross validating PARP1.PIK3C...\n",
      "Cross validating CSNK2A1_2.PIK3CA_3...\n",
      "Cross validating AKT.Cisplatin...\n",
      "Cross validating MAP2K_1.PIK3C...\n",
      "Cross validating IAP.PIK3CA_3...\n",
      "Cross validating AKT_1.EGFR_2...\n",
      "Cross validating FGFR.WNT...\n",
      "Cross validating IAP.SN38...\n",
      "Cross validating ADAM17.PIK3CB_PIK3CD...\n",
      "Cross validating BCL2_BCL2L1.FGFR...\n",
      "Cross validating BCL2.IGFR_4...\n",
      "Cross validating IAP.TNF...\n",
      "Cross validating PIK3CB_PIK3CD.TNKS_PARP6...\n",
      "Cross validating CSNK2A1_2.TNFSF10...\n",
      "Cross validating IGFR_3.TKI...\n",
      "Cross validating HSP90.MAP2K_1...\n",
      "Cross validating CHEK1.IAP...\n",
      "Cross validating AKT_1.PIK3CB_PIK3CD...\n",
      "Cross validating AKT_SGK.PIK3C...\n",
      "Cross validating AKT.TNF...\n",
      "Cross validating IGFR_3.MAP2K_1...\n",
      "Cross validating Cisplatin.PARP1...\n",
      "Cross validating ADAM17.AKT...\n",
      "Cross validating AKT_1.BCL2L1...\n",
      "Cross validating Chloroquine.PIK3C...\n",
      "Cross validating MTOR_1.PIK3C...\n",
      "Cross validating ADAM17.MAP2K_1...\n",
      "Cross validating ALK_2.TOP2...\n",
      "Cross validating ADAM17.BCL2_BCL2L1...\n",
      "Cross validating ERBB.MAP2K_1...\n",
      "Cross validating ATR_4.BCL2_BCL2L1...\n",
      "Cross validating AKT_1.ESR1...\n",
      "Cross validating AKT_1.BCL2_BCL2L1...\n",
      "Cross validating PIK3C.PIM1...\n",
      "Cross validating BCL2_BCL2L1.FASN...\n",
      "Cross validating BRAF_M2.MAP2K_1...\n",
      "Cross validating AKT.HDAC_4...\n",
      "Cross validating ATR_4.MAP2K_1...\n",
      "Cross validating ERBB.FGFR...\n",
      "Cross validating BCL2_2.EGFR_2...\n",
      "Cross validating MAP2K_1.MTOR_1...\n",
      "Cross validating AKT.TNKS_PARP6...\n",
      "Cross validating BCL2.CSNK2A1_2...\n",
      "Cross validating CSNK2A1_2.SYK...\n",
      "Cross validating AKT.ATR_4...\n",
      "Cross validating BCL2L1.CarboTaxol...\n",
      "Cross validating MAP2K_1.PIM1...\n",
      "Cross validating AKT.EGFR...\n",
      "Cross validating EG5.PIK3CB_PIK3CD...\n",
      "Cross validating ALK.EGFR_2...\n",
      "Cross validating IAP.JAK...\n",
      "Cross validating ESR1_1.PIK3C...\n",
      "Cross validating AKT.FGFR...\n",
      "Cross validating FGFR.SLC16A4...\n",
      "Cross validating AKT_1.Chloroquine...\n",
      "Cross validating ADAM17.PIK3C...\n",
      "Cross validating ATR_4.IAP...\n",
      "Cross validating AKT.BCL2L1...\n",
      "Cross validating Doxorubicin.TOP2...\n",
      "Cross validating MAP2K_1.PTK2...\n",
      "Cross validating AKT.Chloroquine...\n",
      "Cross validating BCL2.MAP2K_1...\n",
      "Cross validating AKT.AKT_1...\n",
      "Cross validating IAP.TOP2_2...\n",
      "Cross validating EG5.PARP1...\n",
      "Cross validating Doxorubicin.IAP...\n",
      "Cross validating PIK3C_2.PIK3CA_4...\n",
      "Cross validating ALK.MTOR_1...\n",
      "Cross validating IAP.PTK2...\n",
      "Cross validating FGFR.PIK3C_MTOR...\n",
      "Cross validating FGFR.MTOR_1...\n",
      "Cross validating AKT_1.BCL2_2...\n",
      "Cross validating BCL2_BCL2L1.EGFR...\n",
      "Cross validating MAP2K_1.PIP5K1...\n",
      "Cross validating IAP.Vinorelbine...\n",
      "Cross validating MAP2K_1.SLC16A4...\n",
      "Cross validating ALK.CSNK2A1_2...\n",
      "Cross validating PIK3CB_PIK3CD.SLC16A4...\n",
      "Cross validating AKT_1.ALK_IGFR...\n",
      "Cross validating Cisplatin.PIK3C...\n",
      "Cross validating BCL2.Topotecan...\n",
      "Cross validating PIK3CB_PIK3CD.PIP5K1...\n",
      "Cross validating BCL2_BCL2L1.IAP...\n",
      "Cross validating ATR_4.MTOR_1...\n",
      "Cross validating ATM.Gemcitabine...\n",
      "Cross validating EGFR.MAP2K_1...\n",
      "Cross validating MAP2K_3.PIK3C...\n",
      "Cross validating ALK_2.PIK3CB...\n",
      "Cross validating ERBB.PIK3CA_4...\n",
      "Cross validating JAK.MTOR...\n",
      "Cross validating PIK3C.TNFSF10...\n",
      "Cross validating BCL2.Oxaliplatin...\n",
      "Cross validating IAP.PARP1...\n",
      "Cross validating AKT_1.PIK3C_2...\n",
      "Cross validating ADAM17.FGFR...\n",
      "Cross validating ESR1_3.MTOR_1...\n",
      "Cross validating ATR_4.HDAC_4...\n",
      "Cross validating ALK_IGFR.PIK3CB_PIK3CD...\n",
      "Cross validating AKT.PIK3CA_4...\n",
      "Cross validating Gemcitabine.PARP1...\n",
      "Cross validating BCL2L1.MTOR_1...\n",
      "Cross validating AKT_SGK.BCL2_BCL2L1...\n",
      "Cross validating FASN.MAP2K_1...\n",
      "Cross validating PIK3C.PIP5K1...\n",
      "Cross validating BCL2_BCL2L1.SLC16A4...\n",
      "Cross validating AKT_1.PIK3C...\n",
      "Cross validating MTOR_1.SLC16A4...\n",
      "Cross validating ESR1.MAP2K_1...\n",
      "Cross validating Cisplatin.HDAC_4...\n",
      "Cross validating MAP2K_1.TKI...\n",
      "Cross validating BCL2_BCL2L1.MAP2K_1...\n",
      "Cross validating FGFR.Proteasome_2...\n",
      "Cross validating BCL2_BCL2L1.Gemcitabine...\n",
      "Cross validating CSNK2A1_2.Gemcitabine...\n",
      "Cross validating BCL2_BCL2L1_BCL2L2.FGFR...\n",
      "Cross validating EGFR.FGFR...\n",
      "Cross validating AKT.ERBB...\n",
      "Cross validating HSP90.PIK3C...\n",
      "Cross validating AKT_SGK.FGFR...\n",
      "Cross validating MTOR_1.TNKS_PARP6...\n",
      "Cross validating AKT_SGK.MAP2K_1...\n",
      "Cross validating Chloroquine.FGFR...\n",
      "Cross validating ERBB.MTOR_1...\n",
      "Cross validating AKT.PIK3C_2...\n",
      "Cross validating BCL2_BCL2L1.PIK3CA_4...\n"
     ]
    }
   ],
   "source": [
    "from functions import * \n",
    "cross_validate(clf, combinations_df_1b, FEATURES, 'SYNERGY_SCORE')"
   ]
  },
  {
   "cell_type": "code",
   "execution_count": null,
   "metadata": {
    "collapsed": true
   },
   "outputs": [],
   "source": []
  },
  {
   "cell_type": "markdown",
   "metadata": {},
   "source": [
    "## Run gridsearch\n"
   ]
  },
  {
   "cell_type": "code",
   "execution_count": 101,
   "metadata": {
    "collapsed": true
   },
   "outputs": [],
   "source": [
    "grid_params = {\n",
    "    'loss': ['ls'],\n",
    "    'learning_rate': [0.005, 0.01, 0.05, 0.1, 0.2, 0.5],\n",
    "    'n_estimators': [50, 100, 200, 400, 600, 900],\n",
    "    'max_depth': [2, 3, 4],\n",
    "    'subsample': [0.1, 0.2, 0.4, 0.6, 0.8],\n",
    "}"
   ]
  },
  {
   "cell_type": "code",
   "execution_count": 107,
   "metadata": {
    "collapsed": false
   },
   "outputs": [],
   "source": [
    "clf_options_list = []\n",
    "for loss in grid_params['loss']:\n",
    "    for learning_rate in grid_params['learning_rate']:\n",
    "        for n_estimators in grid_params['n_estimators']:\n",
    "            for max_depth in grid_params['max_depth']:\n",
    "                for subsample in grid_params['subsample']:\n",
    "                    clf_options = dict(\n",
    "                        loss=loss,\n",
    "                        learning_rate=learning_rate,\n",
    "                        n_estimators=n_estimators,\n",
    "                        max_depth=max_depth,\n",
    "                        subsample=subsample,\n",
    "                    )\n",
    "                    clf_options_list.append(clf_options)"
   ]
  },
  {
   "cell_type": "markdown",
   "metadata": {},
   "source": [
    "### Submit jobs"
   ]
  },
  {
   "cell_type": "code",
   "execution_count": 160,
   "metadata": {
    "collapsed": true
   },
   "outputs": [],
   "source": [
    "output_dir = '/home/kimlab1/strokach/tmp/dream_challenge/cross_validation_2'\n",
    "os.makedirs(output_dir, exist_ok=True)"
   ]
  },
  {
   "cell_type": "code",
   "execution_count": 125,
   "metadata": {
    "collapsed": true
   },
   "outputs": [],
   "source": [
    "import json\n",
    "with open(op.join(output_dir, 'clf_options_list.json'), 'w') as ofh:\n",
    "    json.dump(clf_options_list, ofh)"
   ]
  },
  {
   "cell_type": "code",
   "execution_count": 126,
   "metadata": {
    "collapsed": false
   },
   "outputs": [],
   "source": [
    "from functions import * \n",
    "for i, clf_options in enumerate(clf_options_list):\n",
    "    cv = CrossValidate(clf_options, df, FEATURES, 'SYNERGY_SCORE')\n",
    "    with open(op.join(output_dir, '{}.pickle'.format(i)), 'wb') as ofh:\n",
    "        pickle.dump(cv, ofh)"
   ]
  },
  {
   "cell_type": "markdown",
   "metadata": {},
   "source": [
    "\n",
    "Use the following bash command to submit jobs:\n",
    "\n",
    "    for i in /home/kimlab1/strokach/tmp/dream_challenge/cross_validation_2/*; do echo $i; submitjob 1 -m 3 python -c \"import pickle; cv = pickle.load(open('$i', 'rb')); cv.run(); cv.save('${i}.done');\"; done\n",
    "    \n",
    "But remember that it must be run from inside the `drug_combinations` folder!"
   ]
  },
  {
   "cell_type": "markdown",
   "metadata": {},
   "source": [
    "### Load results"
   ]
  },
  {
   "cell_type": "code",
   "execution_count": 165,
   "metadata": {
    "collapsed": true
   },
   "outputs": [],
   "source": [
    "correlations = []\n",
    "for i, clf_options in enumerate(clf_options_list):\n",
    "    y_pred = pd.read_pickle(op.join(output_dir, '{}.pickle.done'.format(i)))\n",
    "    correlation = np.corrcoef([y_pred, df['SYNERGY_SCORE']])[0,1]\n",
    "    correlations.append((i, clf_options, correlation))"
   ]
  },
  {
   "cell_type": "code",
   "execution_count": 166,
   "metadata": {
    "collapsed": false
   },
   "outputs": [],
   "source": [
    "correlations.sort(key=lambda x: x[2], reverse=True)"
   ]
  },
  {
   "cell_type": "code",
   "execution_count": 167,
   "metadata": {
    "collapsed": false
   },
   "outputs": [
    {
     "data": {
      "text/plain": [
       "[<matplotlib.lines.Line2D at 0x7fdf7f42c710>]"
      ]
     },
     "execution_count": 167,
     "metadata": {},
     "output_type": "execute_result"
    },
    {
     "data": {
      "image/png": "[encoded data removed]",
      "text/plain": [
       "<matplotlib.figure.Figure at 0x7fdf7f5d70f0>"
      ]
     },
     "metadata": {},
     "output_type": "display_data"
    }
   ],
   "source": [
    "plt.plot(list(zip(*correlations))[2])"
   ]
  },
  {
   "cell_type": "code",
   "execution_count": 168,
   "metadata": {
    "collapsed": false
   },
   "outputs": [
    {
     "data": {
      "text/plain": [
       "(114,\n",
       " {'learning_rate': 0.01,\n",
       "  'loss': 'ls',\n",
       "  'max_depth': 3,\n",
       "  'n_estimators': 100,\n",
       "  'subsample': 0.8},\n",
       " 0.57574667155228754,\n",
       " 0         6.824927\n",
       " 1         6.211651\n",
       " 2         4.848582\n",
       " 3        20.572769\n",
       " 4         4.957589\n",
       " 5        19.286816\n",
       " 6        19.286816\n",
       " 7         4.304111\n",
       " 8         2.798298\n",
       " 9         8.071645\n",
       " 10        2.842902\n",
       " 11       11.252594\n",
       " 12        7.661728\n",
       " 13       11.928192\n",
       " 14        2.245157\n",
       " 15        4.958297\n",
       " 16        3.844757\n",
       " 17        3.386249\n",
       " 18       20.685751\n",
       " 19       11.527191\n",
       " 20       20.072951\n",
       " 21        6.004636\n",
       " 22       14.051128\n",
       " 23        3.077934\n",
       " 24        3.422230\n",
       " 25       10.908544\n",
       " 26       20.909722\n",
       " 27       20.888981\n",
       " 28       10.165994\n",
       " 29       10.165994\n",
       " 30        2.279060\n",
       " 31        2.625989\n",
       " 32       19.345452\n",
       " 33       18.884684\n",
       " 34        4.797807\n",
       " 35       10.542147\n",
       " 36       10.542147\n",
       " 37       21.766947\n",
       " 38       21.766947\n",
       " 39        8.482173\n",
       " 40        8.482173\n",
       " 41        8.211875\n",
       " 42       12.602760\n",
       " 43        6.059628\n",
       " 44        4.028735\n",
       " 45        6.362345\n",
       " 46        2.080048\n",
       " 47        3.525917\n",
       " 48        8.518318\n",
       " 49        2.929929\n",
       " 50        5.855416\n",
       " 51        6.626937\n",
       " 52        2.359612\n",
       " 53        2.709889\n",
       " 54        6.211651\n",
       " 55       10.075714\n",
       " 56       17.552018\n",
       " 57        4.939884\n",
       " 58        4.939884\n",
       " 59        2.798298\n",
       " 60       18.038386\n",
       " 61        2.842902\n",
       " 62        7.320427\n",
       " 63       10.726465\n",
       " 64        3.538117\n",
       " 65       19.991972\n",
       " 66        2.696373\n",
       " 67        9.975807\n",
       " 68       18.300739\n",
       " 69       18.300739\n",
       " 70       19.253301\n",
       " 71        9.298042\n",
       " 72        2.279060\n",
       " 73        3.890841\n",
       " 74        5.784472\n",
       " 75        5.707248\n",
       " 76       19.563970\n",
       " 77        9.110559\n",
       " 78        6.910572\n",
       " 79       11.652083\n",
       " 80        6.026646\n",
       " 81        6.362345\n",
       " 82        3.137925\n",
       " 83        8.133130\n",
       " 84        2.079519\n",
       " 85        3.774280\n",
       " 86        5.684618\n",
       " 87        4.988263\n",
       " 88        3.427112\n",
       " 89       16.122257\n",
       " 90        4.144042\n",
       " 91       13.367175\n",
       " 92        9.125538\n",
       " 93        8.654568\n",
       " 94        6.033695\n",
       " 95        2.521623\n",
       " 96       10.212774\n",
       " 97       17.773306\n",
       " 98        1.656744\n",
       " 99        1.013406\n",
       " 100       1.895950\n",
       " 101       1.756022\n",
       " 102       2.939379\n",
       " 103       2.357544\n",
       " 104       4.506286\n",
       " 105       2.155526\n",
       " 106       2.462240\n",
       " 107       8.608102\n",
       " 108       7.964911\n",
       " 109       1.555912\n",
       " 110       1.944674\n",
       " 111       3.209280\n",
       " 112       4.930209\n",
       " 113       1.549433\n",
       " 114       5.873099\n",
       " 115       5.658228\n",
       " 116       2.226083\n",
       " 117       3.132904\n",
       " 118       4.580185\n",
       " 119       1.325416\n",
       " 120       1.810919\n",
       " 121       4.588170\n",
       " 122       1.309064\n",
       " 123      16.122257\n",
       " 124       4.045438\n",
       " 125       2.889430\n",
       " 126      15.223856\n",
       " 127      12.575336\n",
       " 128       8.260989\n",
       " 129       1.419733\n",
       " 130       8.130848\n",
       " 131       5.856265\n",
       " 132       9.029992\n",
       " 133       2.335444\n",
       " 134       1.013406\n",
       " 135       1.591347\n",
       " 136       4.941239\n",
       " 137       1.488186\n",
       " 138       2.585041\n",
       " 139       4.287141\n",
       " 140      17.229400\n",
       " 141      15.880414\n",
       " 142       7.784316\n",
       " 143       1.189254\n",
       " 144       0.952605\n",
       " 145       1.692570\n",
       " 146       2.833595\n",
       " 147       4.368403\n",
       " 148       8.158061\n",
       " 149       5.384649\n",
       " 150       9.169317\n",
       " 151       4.902946\n",
       " 152      12.747308\n",
       " 153       4.638282\n",
       " 154       1.896856\n",
       " 155       1.228919\n",
       " 156       1.109285\n",
       " 157       8.128341\n",
       " 158       2.298898\n",
       " 159       6.832140\n",
       " 160       1.029306\n",
       " 161       3.038636\n",
       " 162       8.484663\n",
       " 163       7.221369\n",
       " 164       4.580185\n",
       " 165       1.033372\n",
       " 166       1.810919\n",
       " 167       4.588170\n",
       " 168       7.845085\n",
       " 169       4.184104\n",
       " 170      16.122257\n",
       " 171       1.550341\n",
       " 172      12.575336\n",
       " 173       5.837983\n",
       " 174       1.419733\n",
       " 175       2.335444\n",
       " 176      17.153311\n",
       " 177       1.474712\n",
       " 178       1.013406\n",
       " 179       1.695739\n",
       " 180       2.022814\n",
       " 181       4.506286\n",
       " 182      10.119326\n",
       " 183       1.962393\n",
       " 184      17.229400\n",
       " 185       7.784316\n",
       " 186       1.393952\n",
       " 187       3.705622\n",
       " 188       4.402374\n",
       " 189       1.549433\n",
       " 190       5.527535\n",
       " 191      16.211208\n",
       " 192       8.158061\n",
       " 193       6.396014\n",
       " 194       9.360323\n",
       " 195       4.902946\n",
       " 196       2.893080\n",
       " 197      12.908330\n",
       " 198       2.048751\n",
       " 199       8.128341\n",
       " 200       6.832140\n",
       " 201       1.029306\n",
       " 202       3.038636\n",
       " 203       1.755975\n",
       " 204       7.221369\n",
       " 205       5.581803\n",
       " 206       2.362100\n",
       " 207       5.721740\n",
       " 208       5.429996\n",
       " 209       4.073828\n",
       " 210      16.596044\n",
       " 211       4.494320\n",
       " 212       3.970595\n",
       " 213      16.382944\n",
       " 214      16.382944\n",
       " 215       7.204960\n",
       " 216       2.197418\n",
       " 217      10.391219\n",
       " 218       2.531365\n",
       " 219       4.444834\n",
       " 220       6.171752\n",
       " 221       3.844757\n",
       " 222      17.397974\n",
       " 223       7.036953\n",
       " 224      16.776792\n",
       " 225       5.189057\n",
       " 226       5.194476\n",
       " 227      11.657320\n",
       " 228       2.672161\n",
       " 229       5.252651\n",
       " 230       8.917024\n",
       " 231       8.917024\n",
       " 232       2.279060\n",
       " 233       2.392563\n",
       " 234       3.815617\n",
       " 235       5.322490\n",
       " 236      16.025307\n",
       " 237       7.919240\n",
       " 238       6.501591\n",
       " 239       2.335614\n",
       " 240       6.218847\n",
       " 241       5.235188\n",
       " 242       9.119617\n",
       " 243       9.119617\n",
       " 244      16.864718\n",
       " 245      16.864718\n",
       " 246      16.864718\n",
       " 247       6.758096\n",
       " 248       7.426287\n",
       " 249       6.383739\n",
       "            ...    \n",
       " 1949      3.105587\n",
       " 1950      1.288851\n",
       " 1951      9.539328\n",
       " 1952      1.858207\n",
       " 1953      3.376700\n",
       " 1954      1.288832\n",
       " 1955      7.855701\n",
       " 1956      3.739839\n",
       " 1957      3.542928\n",
       " 1958     15.389543\n",
       " 1959     12.663553\n",
       " 1960      4.253963\n",
       " 1961      5.854938\n",
       " 1962     14.012148\n",
       " 1963     10.474776\n",
       " 1964      9.199250\n",
       " 1965      8.881229\n",
       " 1966     13.575197\n",
       " 1967     16.329057\n",
       " 1968      2.169191\n",
       " 1969     11.182754\n",
       " 1970     13.974226\n",
       " 1971     11.511530\n",
       " 1972     10.807862\n",
       " 1973     17.840484\n",
       " 1974     18.688745\n",
       " 1975     20.011614\n",
       " 1976     17.603859\n",
       " 1977     12.496010\n",
       " 1978      2.688724\n",
       " 1979      4.883689\n",
       " 1980      2.237488\n",
       " 1981     10.190851\n",
       " 1982     19.191640\n",
       " 1983     16.131530\n",
       " 1984      5.445740\n",
       " 1985     17.466078\n",
       " 1986     13.754983\n",
       " 1987     15.959183\n",
       " 1988     10.787977\n",
       " 1989     11.034219\n",
       " 1990      4.449886\n",
       " 1991     19.049393\n",
       " 1992      3.393640\n",
       " 1993     14.250628\n",
       " 1994      2.482178\n",
       " 1995      1.924964\n",
       " 1996      8.852957\n",
       " 1997      8.852957\n",
       " 1998     17.840484\n",
       " 1999      2.630867\n",
       " 2000      2.331162\n",
       " 2001      5.050684\n",
       " 2002     20.704122\n",
       " 2003     18.381161\n",
       " 2004      5.445740\n",
       " 2005     28.754336\n",
       " 2006      2.925624\n",
       " 2007     20.474298\n",
       " 2008      4.667831\n",
       " 2009   -141.057690\n",
       " 2010   -131.927302\n",
       " 2011    -80.789557\n",
       " 2012    -80.789557\n",
       " 2013    -91.869749\n",
       " 2014    -85.417588\n",
       " 2015   -140.861357\n",
       " 2016    -87.770349\n",
       " 2017     17.402527\n",
       " 2018   -273.149162\n",
       " 2019    -77.085548\n",
       " 2020    -74.132039\n",
       " 2021    429.599564\n",
       " 2022      2.901907\n",
       " 2023    -71.303119\n",
       " 2024    -82.245888\n",
       " 2025     15.448948\n",
       " 2026   -110.208572\n",
       " 2027     75.550375\n",
       " 2028   -130.080325\n",
       " 2029     32.031663\n",
       " 2030    -88.355439\n",
       " 2031     -1.073375\n",
       " 2032     17.840484\n",
       " 2033     -0.977607\n",
       " 2034      1.840809\n",
       " 2035     -0.535787\n",
       " 2036     21.246375\n",
       " 2037      3.455636\n",
       " 2038      7.904024\n",
       " 2039     29.965788\n",
       " 2040      0.068637\n",
       " 2041     20.303716\n",
       " 2042     -0.374524\n",
       " 2043     26.663067\n",
       " 2044     -1.073375\n",
       " 2045     11.692279\n",
       " 2046      9.429130\n",
       " 2047      9.429130\n",
       " 2048     18.288803\n",
       " 2049     -0.535787\n",
       " 2050     22.187100\n",
       " 2051     19.195898\n",
       " 2052      8.106158\n",
       " 2053     37.995861\n",
       " 2054     20.711189\n",
       " 2055     -1.354991\n",
       " 2056     34.509703\n",
       " 2057     11.282427\n",
       " 2058      8.307802\n",
       " 2059     -1.335586\n",
       " 2060      8.913774\n",
       " 2061      6.831659\n",
       " 2062      6.831659\n",
       " 2063     14.952042\n",
       " 2064      0.038243\n",
       " 2065      3.075548\n",
       " 2066     -0.289295\n",
       " 2067     15.754281\n",
       " 2068      5.934780\n",
       " 2069     -0.059968\n",
       " 2070      2.001414\n",
       " 2071     23.454418\n",
       " 2072     16.501302\n",
       " 2073      1.119051\n",
       " 2074      1.924964\n",
       " 2075     11.974802\n",
       " 2076     18.288803\n",
       " 2077      2.331162\n",
       " 2078      5.050684\n",
       " 2079      5.445740\n",
       " 2080      8.106158\n",
       " 2081     20.711189\n",
       " 2082      2.081830\n",
       " 2083      2.925624\n",
       " 2084     34.509703\n",
       " 2085     11.463427\n",
       " 2086     21.766947\n",
       " 2087     30.444059\n",
       " 2088      8.580544\n",
       " 2089     11.692279\n",
       " 2090     18.288803\n",
       " 2091     -0.977607\n",
       " 2092     21.644847\n",
       " 2093     19.195898\n",
       " 2094     36.784410\n",
       " 2095     30.444059\n",
       " 2096     11.692279\n",
       " 2097      9.429130\n",
       " 2098      9.429130\n",
       " 2099     18.288803\n",
       " 2100     -0.977607\n",
       " 2101      1.840809\n",
       " 2102     -0.535787\n",
       " 2103      3.455636\n",
       " 2104      8.106158\n",
       " 2105     20.524190\n",
       " 2106     -0.834869\n",
       " 2107      0.424699\n",
       " 2108     11.282427\n",
       " 2109     -0.214093\n",
       " 2110      8.852957\n",
       " 2111      8.852957\n",
       " 2112     -1.244249\n",
       " 2113     21.246375\n",
       " 2114     18.381161\n",
       " 2115      3.455636\n",
       " 2116     29.965788\n",
       " 2117     19.540230\n",
       " 2118     -1.354991\n",
       " 2119      0.068637\n",
       " 2120     20.474298\n",
       " 2121     26.663067\n",
       " 2122      8.108965\n",
       " 2123     11.420801\n",
       " 2124      1.285699\n",
       " 2125     20.011614\n",
       " 2126     -0.646413\n",
       " 2127     12.496010\n",
       " 2128      0.216929\n",
       " 2129      2.651983\n",
       " 2130     -1.329038\n",
       " 2131      2.269627\n",
       " 2132     19.191640\n",
       " 2133      3.455636\n",
       " 2134     18.464033\n",
       " 2135      7.904024\n",
       " 2136     17.600801\n",
       " 2137     17.466078\n",
       " 2138     13.754983\n",
       " 2139      0.424699\n",
       " 2140      0.412420\n",
       " 2141     17.460798\n",
       " 2142     -0.009052\n",
       " 2143     -0.960692\n",
       " 2144      2.135958\n",
       " 2145      7.182523\n",
       " 2146      3.575190\n",
       " 2147      2.222616\n",
       " 2148     20.476275\n",
       " 2149     -0.960692\n",
       " 2150     42.824227\n",
       " 2151     -1.076978\n",
       " 2152      6.407503\n",
       " 2153      7.182523\n",
       " 2154      3.575190\n",
       " 2155     16.776792\n",
       " 2156     -0.698113\n",
       " 2157     16.297115\n",
       " 2158      6.892533\n",
       " 2159      0.263441\n",
       " 2160     28.402777\n",
       " 2161      9.600103\n",
       " 2162     -0.914976\n",
       " 2163      6.750479\n",
       " 2164      3.855161\n",
       " 2165     20.011614\n",
       " 2166      2.157172\n",
       " 2167     17.603859\n",
       " 2168     10.190851\n",
       " 2169      4.136318\n",
       " 2170     19.392375\n",
       " 2171     16.131530\n",
       " 2172      5.445740\n",
       " 2173     17.600801\n",
       " 2174     17.466078\n",
       " 2175      2.925624\n",
       " 2176     16.150590\n",
       " 2177     21.232622\n",
       " 2178     11.034219\n",
       " 2179      4.449886\n",
       " 2180     19.049393\n",
       " 2181      3.393640\n",
       " 2182     14.773501\n",
       " 2183      2.482178\n",
       " 2184     -0.977607\n",
       " 2185     -1.250738\n",
       " 2186     19.540230\n",
       " 2187     34.313787\n",
       " 2188     11.282427\n",
       " 2189     20.303716\n",
       " 2190     26.663067\n",
       " 2191      8.108965\n",
       " 2192     42.824227\n",
       " 2193      2.135958\n",
       " 2194      6.407503\n",
       " 2195      7.182523\n",
       " 2196      3.575190\n",
       " 2197     -0.950003\n",
       " 2198     22.374477\n",
       " Name: prediction, dtype: float64)"
      ]
     },
     "execution_count": 168,
     "metadata": {},
     "output_type": "execute_result"
    }
   ],
   "source": [
    "correlations[0]"
   ]
  },
  {
   "cell_type": "code",
   "execution_count": null,
   "metadata": {
    "collapsed": true
   },
   "outputs": [],
   "source": []
  },
  {
   "cell_type": "markdown",
   "metadata": {},
   "source": [
    "## Train final predictors"
   ]
  },
  {
   "cell_type": "code",
   "execution_count": 256,
   "metadata": {
    "collapsed": true
   },
   "outputs": [],
   "source": [
    "idx_1 = 452\n",
    "y_pred_1 = pd.read_pickle(\n",
    "    '/home/kimlab1/strokach/tmp/dream_challenge/cross_validation_1/{}.pickle.done'.format(idx_1))\n",
    "clf_options_1 = {\n",
    "    'learning_rate': 0.5,\n",
    "    'loss': 'ls',\n",
    "    'max_depth': 2,\n",
    "    'n_estimators': 50,\n",
    "    'subsample': 0.4\n",
    "}"
   ]
  },
  {
   "cell_type": "code",
   "execution_count": 257,
   "metadata": {
    "collapsed": true
   },
   "outputs": [],
   "source": [
    "features_1 = [\n",
    "    'combination_synergy_score', 'combination_synergy_confidence', \n",
    "    'cell_line_synergy_score', 'cell_line_synergy_confidence',\n",
    "    'MAX_CONC_diff', 'IC50_diff', 'H_diff', 'Einf_diff',\n",
    "]"
   ]
  },
  {
   "cell_type": "code",
   "execution_count": 258,
   "metadata": {
    "collapsed": false
   },
   "outputs": [
    {
     "data": {
      "text/plain": [
       "GradientBoostingRegressor(alpha=0.9, init=None, learning_rate=0.5, loss='ls',\n",
       "             max_depth=2, max_features=None, max_leaf_nodes=None,\n",
       "             min_samples_leaf=1, min_samples_split=2,\n",
       "             min_weight_fraction_leaf=0.0, n_estimators=50, presort='auto',\n",
       "             random_state=None, subsample=0.4, verbose=0, warm_start=False)"
      ]
     },
     "execution_count": 258,
     "metadata": {},
     "output_type": "execute_result"
    }
   ],
   "source": [
    "clf_1 = GradientBoostingRegressor(**clf_options_1)\n",
    "clf_1.fit(combinations_df_1b[features_1], combinations_df_1b['SYNERGY_SCORE'])"
   ]
  },
  {
   "cell_type": "code",
   "execution_count": 259,
   "metadata": {
    "collapsed": false
   },
   "outputs": [
    {
     "name": "stderr",
     "output_type": "stream",
     "text": [
      "/home/kimlab1/strokach/anaconda3/lib/python3.5/site-packages/numpy/lib/function_base.py:2079: RuntimeWarning: Degrees of freedom <= 0 for slice\n",
      "  warnings.warn(\"Degrees of freedom <= 0 for slice\", RuntimeWarning)\n"
     ]
    }
   ],
   "source": [
    "df_1 = combinations_df_1b.copy()\n",
    "df_1['prediction'] = y_pred_1\n",
    "df_1_confidence = (\n",
    "    df_1.groupby('COMBINATION_ID')\n",
    "    .apply(lambda x: np.corrcoef(x['SYNERGY_SCORE'], x['prediction'])[0,1])\n",
    ")\n",
    "df_1_confidence[df_1_confidence < 0] = 0\n",
    "df_1_confidence[pd.isnull(df_1_confidence)] = 0.1\n",
    "assert not df_1_confidence.isnull().any()"
   ]
  },
  {
   "cell_type": "code",
   "execution_count": 260,
   "metadata": {
    "collapsed": false
   },
   "outputs": [
    {
     "data": {
      "text/plain": [
       "<matplotlib.axes._subplots.AxesSubplot at 0x7fdfb6bd9d30>"
      ]
     },
     "execution_count": 260,
     "metadata": {},
     "output_type": "execute_result"
    },
    {
     "data": {
      "image/png": "[encoded data removed]",
      "text/plain": [
       "<matplotlib.figure.Figure at 0x7fdf7ef8c160>"
      ]
     },
     "metadata": {},
     "output_type": "display_data"
    }
   ],
   "source": [
    "df_1_confidence.hist()"
   ]
  },
  {
   "cell_type": "code",
   "execution_count": null,
   "metadata": {
    "collapsed": false
   },
   "outputs": [],
   "source": []
  },
  {
   "cell_type": "code",
   "execution_count": 261,
   "metadata": {
    "collapsed": true
   },
   "outputs": [],
   "source": [
    "df_1_len = (\n",
    "    df_1.groupby('COMBINATION_ID')['SYNERGY_SCORE'].agg(len)\n",
    ")\n"
   ]
  },
  {
   "cell_type": "code",
   "execution_count": null,
   "metadata": {
    "collapsed": true
   },
   "outputs": [],
   "source": []
  },
  {
   "cell_type": "code",
   "execution_count": null,
   "metadata": {
    "collapsed": true
   },
   "outputs": [],
   "source": []
  },
  {
   "cell_type": "code",
   "execution_count": null,
   "metadata": {
    "collapsed": true
   },
   "outputs": [],
   "source": []
  },
  {
   "cell_type": "code",
   "execution_count": null,
   "metadata": {
    "collapsed": false
   },
   "outputs": [],
   "source": [
    "\n",
    "\n"
   ]
  },
  {
   "cell_type": "code",
   "execution_count": 262,
   "metadata": {
    "collapsed": false
   },
   "outputs": [],
   "source": [
    "idx_2 = 114\n",
    "y_pred_2 = pd.read_pickle(\n",
    "    '/home/kimlab1/strokach/tmp/dream_challenge/cross_validation_1/{}.pickle.done'.format(idx_2))\n",
    "clf_options_2 = {\n",
    "    'learning_rate': 0.01,\n",
    "    'loss': 'ls',\n",
    "    'max_depth': 3,\n",
    "    'n_estimators': 100,\n",
    "    'subsample': 0.8\n",
    "}"
   ]
  },
  {
   "cell_type": "code",
   "execution_count": 263,
   "metadata": {
    "collapsed": true
   },
   "outputs": [],
   "source": [
    "features_2 = [\n",
    "    'combination_synergy_score', 'combination_synergy_confidence', \n",
    "    'cell_line_synergy_score', 'cell_line_synergy_confidence',\n",
    "]"
   ]
  },
  {
   "cell_type": "code",
   "execution_count": 264,
   "metadata": {
    "collapsed": false
   },
   "outputs": [
    {
     "data": {
      "text/plain": [
       "GradientBoostingRegressor(alpha=0.9, init=None, learning_rate=0.01, loss='ls',\n",
       "             max_depth=3, max_features=None, max_leaf_nodes=None,\n",
       "             min_samples_leaf=1, min_samples_split=2,\n",
       "             min_weight_fraction_leaf=0.0, n_estimators=100,\n",
       "             presort='auto', random_state=None, subsample=0.8, verbose=0,\n",
       "             warm_start=False)"
      ]
     },
     "execution_count": 264,
     "metadata": {},
     "output_type": "execute_result"
    }
   ],
   "source": [
    "clf_2 = GradientBoostingRegressor(**clf_options_2)\n",
    "clf_2.fit(combinations_df_1b[features_2], combinations_df_1b['SYNERGY_SCORE'])"
   ]
  },
  {
   "cell_type": "code",
   "execution_count": 265,
   "metadata": {
    "collapsed": false
   },
   "outputs": [
    {
     "name": "stderr",
     "output_type": "stream",
     "text": [
      "/home/kimlab1/strokach/anaconda3/lib/python3.5/site-packages/numpy/lib/function_base.py:2079: RuntimeWarning: Degrees of freedom <= 0 for slice\n",
      "  warnings.warn(\"Degrees of freedom <= 0 for slice\", RuntimeWarning)\n"
     ]
    }
   ],
   "source": [
    "df_2 = combinations_df_1b.copy()\n",
    "df_2['prediction'] = y_pred_2\n",
    "df_2_confidence = (\n",
    "    df_2.groupby('COMBINATION_ID')\n",
    "    .apply(lambda x: np.corrcoef(x['SYNERGY_SCORE'], x['prediction'])[0,1])\n",
    ")\n",
    "df_2_confidence[df_2_confidence < 0] = 0\n",
    "df_2_confidence[pd.isnull(df_2_confidence)] = 0.1\n",
    "assert not df_2_confidence.isnull().any()"
   ]
  },
  {
   "cell_type": "code",
   "execution_count": 266,
   "metadata": {
    "collapsed": false
   },
   "outputs": [
    {
     "data": {
      "text/plain": [
       "<matplotlib.axes._subplots.AxesSubplot at 0x7fdf7ee05a58>"
      ]
     },
     "execution_count": 266,
     "metadata": {},
     "output_type": "execute_result"
    },
    {
     "data": {
      "image/png": "[encoded data removed]",
      "text/plain": [
       "<matplotlib.figure.Figure at 0x7fdf7ee02438>"
      ]
     },
     "metadata": {},
     "output_type": "display_data"
    }
   ],
   "source": [
    "df_2_confidence.hist()"
   ]
  },
  {
   "cell_type": "code",
   "execution_count": null,
   "metadata": {
    "collapsed": true
   },
   "outputs": [],
   "source": []
  },
  {
   "cell_type": "code",
   "execution_count": null,
   "metadata": {
    "collapsed": true
   },
   "outputs": [],
   "source": []
  },
  {
   "cell_type": "code",
   "execution_count": null,
   "metadata": {
    "collapsed": true
   },
   "outputs": [],
   "source": []
  },
  {
   "cell_type": "code",
   "execution_count": null,
   "metadata": {
    "collapsed": true
   },
   "outputs": [],
   "source": []
  },
  {
   "cell_type": "code",
   "execution_count": null,
   "metadata": {
    "collapsed": true
   },
   "outputs": [],
   "source": []
  },
  {
   "cell_type": "markdown",
   "metadata": {
    "run_control": {
     "marked": false
    }
   },
   "source": [
    "# Leaderboard"
   ]
  },
  {
   "cell_type": "code",
   "execution_count": 267,
   "metadata": {
    "collapsed": true,
    "run_control": {
     "marked": false
    }
   },
   "outputs": [],
   "source": [
    "ch1_leaderboard_monotherapy = pd.read_csv(\n",
    "    'challenge_data/drug_synergy_data/ch1_leaderboard_monotherapy.csv/'\n",
    "    'ch1_leaderBoard_monoTherapy.csv', sep=','\n",
    ")"
   ]
  },
  {
   "cell_type": "code",
   "execution_count": 268,
   "metadata": {
    "collapsed": false,
    "run_control": {
     "marked": false
    }
   },
   "outputs": [
    {
     "data": {
      "text/html": [
       "<div>\n",
       "<table border=\"1\" class=\"dataframe\">\n",
       "  <thead>\n",
       "    <tr style=\"text-align: right;\">\n",
       "      <th></th>\n",
       "      <th>CELL_LINE</th>\n",
       "      <th>COMPOUND_A</th>\n",
       "      <th>COMPOUND_B</th>\n",
       "      <th>MAX_CONC_A</th>\n",
       "      <th>MAX_CONC_B</th>\n",
       "      <th>IC50_A</th>\n",
       "      <th>H_A</th>\n",
       "      <th>Einf_A</th>\n",
       "      <th>IC50_B</th>\n",
       "      <th>H_B</th>\n",
       "      <th>Einf_B</th>\n",
       "      <th>SYNERGY_SCORE</th>\n",
       "      <th>QA</th>\n",
       "      <th>COMBINATION_ID</th>\n",
       "    </tr>\n",
       "  </thead>\n",
       "  <tbody>\n",
       "    <tr>\n",
       "      <th>0</th>\n",
       "      <td>BT-549</td>\n",
       "      <td>ADAM17</td>\n",
       "      <td>AKT</td>\n",
       "      <td>1</td>\n",
       "      <td>75</td>\n",
       "      <td>0.184408</td>\n",
       "      <td>1.737511</td>\n",
       "      <td>59.575233</td>\n",
       "      <td>1.0000</td>\n",
       "      <td>0.000000</td>\n",
       "      <td>100.000000</td>\n",
       "      <td>NaN</td>\n",
       "      <td>1</td>\n",
       "      <td>ADAM17.AKT</td>\n",
       "    </tr>\n",
       "    <tr>\n",
       "      <th>1</th>\n",
       "      <td>CAL-148</td>\n",
       "      <td>ADAM17</td>\n",
       "      <td>AKT</td>\n",
       "      <td>1</td>\n",
       "      <td>75</td>\n",
       "      <td>0.153391</td>\n",
       "      <td>1.754123</td>\n",
       "      <td>1.100779</td>\n",
       "      <td>1.0000</td>\n",
       "      <td>0.000000</td>\n",
       "      <td>100.000000</td>\n",
       "      <td>NaN</td>\n",
       "      <td>1</td>\n",
       "      <td>ADAM17.AKT</td>\n",
       "    </tr>\n",
       "    <tr>\n",
       "      <th>2</th>\n",
       "      <td>HCC38</td>\n",
       "      <td>ADAM17</td>\n",
       "      <td>AKT</td>\n",
       "      <td>1</td>\n",
       "      <td>75</td>\n",
       "      <td>1.000000</td>\n",
       "      <td>10.000000</td>\n",
       "      <td>64.400080</td>\n",
       "      <td>1.0000</td>\n",
       "      <td>0.000000</td>\n",
       "      <td>100.000000</td>\n",
       "      <td>NaN</td>\n",
       "      <td>1</td>\n",
       "      <td>ADAM17.AKT</td>\n",
       "    </tr>\n",
       "    <tr>\n",
       "      <th>3</th>\n",
       "      <td>BT-20</td>\n",
       "      <td>ADAM17</td>\n",
       "      <td>BCL2_BCL2L1</td>\n",
       "      <td>1</td>\n",
       "      <td>75</td>\n",
       "      <td>1.000000</td>\n",
       "      <td>1.161732</td>\n",
       "      <td>39.164587</td>\n",
       "      <td>75.0000</td>\n",
       "      <td>0.965792</td>\n",
       "      <td>70.915033</td>\n",
       "      <td>NaN</td>\n",
       "      <td>1</td>\n",
       "      <td>ADAM17.BCL2_BCL2L1</td>\n",
       "    </tr>\n",
       "    <tr>\n",
       "      <th>4</th>\n",
       "      <td>HCC1143</td>\n",
       "      <td>ADAM17</td>\n",
       "      <td>BCL2_BCL2L1</td>\n",
       "      <td>1</td>\n",
       "      <td>75</td>\n",
       "      <td>0.115309</td>\n",
       "      <td>10.000000</td>\n",
       "      <td>57.198795</td>\n",
       "      <td>0.0075</td>\n",
       "      <td>0.100000</td>\n",
       "      <td>80.128089</td>\n",
       "      <td>NaN</td>\n",
       "      <td>1</td>\n",
       "      <td>ADAM17.BCL2_BCL2L1</td>\n",
       "    </tr>\n",
       "  </tbody>\n",
       "</table>\n",
       "</div>"
      ],
      "text/plain": [
       "  CELL_LINE COMPOUND_A   COMPOUND_B  MAX_CONC_A  MAX_CONC_B    IC50_A        H_A     Einf_A   IC50_B       H_B      Einf_B  SYNERGY_SCORE  QA      COMBINATION_ID\n",
       "0    BT-549     ADAM17          AKT           1          75  0.184408   1.737511  59.575233   1.0000  0.000000  100.000000            NaN   1          ADAM17.AKT\n",
       "1   CAL-148     ADAM17          AKT           1          75  0.153391   1.754123   1.100779   1.0000  0.000000  100.000000            NaN   1          ADAM17.AKT\n",
       "2     HCC38     ADAM17          AKT           1          75  1.000000  10.000000  64.400080   1.0000  0.000000  100.000000            NaN   1          ADAM17.AKT\n",
       "3     BT-20     ADAM17  BCL2_BCL2L1           1          75  1.000000   1.161732  39.164587  75.0000  0.965792   70.915033            NaN   1  ADAM17.BCL2_BCL2L1\n",
       "4   HCC1143     ADAM17  BCL2_BCL2L1           1          75  0.115309  10.000000  57.198795   0.0075  0.100000   80.128089            NaN   1  ADAM17.BCL2_BCL2L1"
      ]
     },
     "execution_count": 268,
     "metadata": {},
     "output_type": "execute_result"
    }
   ],
   "source": [
    "ch1_leaderboard_monotherapy.head()"
   ]
  },
  {
   "cell_type": "code",
   "execution_count": 269,
   "metadata": {
    "collapsed": true
   },
   "outputs": [],
   "source": [
    "prediction = (\n",
    "    ch1_leaderboard_monotherapy\n",
    "    .merge(group_by_combination, on=['COMBINATION_ID'])\n",
    "    .merge(group_by_cell_line, on=['CELL_LINE'])\n",
    ")\n",
    "prediction['MAX_CONC_diff'] = abs(prediction['MAX_CONC_A'] - prediction['MAX_CONC_B'])\n",
    "prediction['IC50_diff'] = abs(prediction['IC50_A'] - prediction['IC50_B'])\n",
    "prediction['H_diff'] = abs(prediction['H_A'] - prediction['H_B'])\n",
    "prediction['Einf_diff'] = abs(prediction['Einf_A'] - prediction['Einf_B'])"
   ]
  },
  {
   "cell_type": "code",
   "execution_count": 270,
   "metadata": {
    "collapsed": false,
    "run_control": {
     "marked": false
    }
   },
   "outputs": [
    {
     "data": {
      "text/html": [
       "<div>\n",
       "<table border=\"1\" class=\"dataframe\">\n",
       "  <thead>\n",
       "    <tr style=\"text-align: right;\">\n",
       "      <th></th>\n",
       "      <th>CELL_LINE</th>\n",
       "      <th>COMPOUND_A</th>\n",
       "      <th>COMPOUND_B</th>\n",
       "      <th>MAX_CONC_A</th>\n",
       "      <th>MAX_CONC_B</th>\n",
       "      <th>IC50_A</th>\n",
       "      <th>H_A</th>\n",
       "      <th>Einf_A</th>\n",
       "      <th>IC50_B</th>\n",
       "      <th>H_B</th>\n",
       "      <th>Einf_B</th>\n",
       "      <th>SYNERGY_SCORE</th>\n",
       "      <th>QA</th>\n",
       "      <th>COMBINATION_ID</th>\n",
       "      <th>combination_synergy_score</th>\n",
       "      <th>combination_synergy_confidence</th>\n",
       "      <th>cell_line_synergy_score</th>\n",
       "      <th>cell_line_synergy_confidence</th>\n",
       "      <th>MAX_CONC_diff</th>\n",
       "      <th>IC50_diff</th>\n",
       "      <th>H_diff</th>\n",
       "      <th>Einf_diff</th>\n",
       "    </tr>\n",
       "  </thead>\n",
       "  <tbody>\n",
       "    <tr>\n",
       "      <th>0</th>\n",
       "      <td>BT-549</td>\n",
       "      <td>ADAM17</td>\n",
       "      <td>AKT</td>\n",
       "      <td>1</td>\n",
       "      <td>75</td>\n",
       "      <td>0.184408</td>\n",
       "      <td>1.737511</td>\n",
       "      <td>59.575233</td>\n",
       "      <td>1.0000</td>\n",
       "      <td>0.000000</td>\n",
       "      <td>100.000000</td>\n",
       "      <td>NaN</td>\n",
       "      <td>1</td>\n",
       "      <td>ADAM17.AKT</td>\n",
       "      <td>9.187210</td>\n",
       "      <td>0.638650</td>\n",
       "      <td>3.051381</td>\n",
       "      <td>0.809608</td>\n",
       "      <td>74</td>\n",
       "      <td>0.815592</td>\n",
       "      <td>1.737511</td>\n",
       "      <td>40.424767</td>\n",
       "    </tr>\n",
       "    <tr>\n",
       "      <th>1</th>\n",
       "      <td>BT-549</td>\n",
       "      <td>ADAM17</td>\n",
       "      <td>MTOR_1</td>\n",
       "      <td>1</td>\n",
       "      <td>75</td>\n",
       "      <td>0.282911</td>\n",
       "      <td>1.614275</td>\n",
       "      <td>26.672166</td>\n",
       "      <td>1.0000</td>\n",
       "      <td>0.000000</td>\n",
       "      <td>100.000000</td>\n",
       "      <td>NaN</td>\n",
       "      <td>1</td>\n",
       "      <td>ADAM17.MTOR_1</td>\n",
       "      <td>9.439891</td>\n",
       "      <td>0.659814</td>\n",
       "      <td>3.051381</td>\n",
       "      <td>0.809608</td>\n",
       "      <td>74</td>\n",
       "      <td>0.717089</td>\n",
       "      <td>1.614275</td>\n",
       "      <td>73.327834</td>\n",
       "    </tr>\n",
       "    <tr>\n",
       "      <th>2</th>\n",
       "      <td>BT-549</td>\n",
       "      <td>ADAM17</td>\n",
       "      <td>PIK3C</td>\n",
       "      <td>1</td>\n",
       "      <td>75</td>\n",
       "      <td>0.314091</td>\n",
       "      <td>4.159118</td>\n",
       "      <td>39.212207</td>\n",
       "      <td>1.0000</td>\n",
       "      <td>0.000000</td>\n",
       "      <td>100.000000</td>\n",
       "      <td>NaN</td>\n",
       "      <td>1</td>\n",
       "      <td>ADAM17.PIK3C</td>\n",
       "      <td>15.446524</td>\n",
       "      <td>0.667204</td>\n",
       "      <td>3.051381</td>\n",
       "      <td>0.809608</td>\n",
       "      <td>74</td>\n",
       "      <td>0.685909</td>\n",
       "      <td>4.159118</td>\n",
       "      <td>60.787793</td>\n",
       "    </tr>\n",
       "    <tr>\n",
       "      <th>3</th>\n",
       "      <td>BT-549</td>\n",
       "      <td>ADAM17</td>\n",
       "      <td>PIK3CB_PIK3CD</td>\n",
       "      <td>1</td>\n",
       "      <td>75</td>\n",
       "      <td>0.566041</td>\n",
       "      <td>0.449959</td>\n",
       "      <td>0.000000</td>\n",
       "      <td>0.0075</td>\n",
       "      <td>0.100000</td>\n",
       "      <td>93.239189</td>\n",
       "      <td>NaN</td>\n",
       "      <td>1</td>\n",
       "      <td>ADAM17.PIK3CB_PIK3CD</td>\n",
       "      <td>7.724352</td>\n",
       "      <td>0.674561</td>\n",
       "      <td>3.051381</td>\n",
       "      <td>0.809608</td>\n",
       "      <td>74</td>\n",
       "      <td>0.558541</td>\n",
       "      <td>0.349959</td>\n",
       "      <td>93.239189</td>\n",
       "    </tr>\n",
       "    <tr>\n",
       "      <th>4</th>\n",
       "      <td>BT-549</td>\n",
       "      <td>AKT_SGK</td>\n",
       "      <td>FGFR</td>\n",
       "      <td>1</td>\n",
       "      <td>1</td>\n",
       "      <td>0.157868</td>\n",
       "      <td>0.999416</td>\n",
       "      <td>58.847437</td>\n",
       "      <td>1.0000</td>\n",
       "      <td>0.536471</td>\n",
       "      <td>2.478880</td>\n",
       "      <td>NaN</td>\n",
       "      <td>1</td>\n",
       "      <td>AKT_SGK.FGFR</td>\n",
       "      <td>0.847360</td>\n",
       "      <td>0.503123</td>\n",
       "      <td>3.051381</td>\n",
       "      <td>0.809608</td>\n",
       "      <td>0</td>\n",
       "      <td>0.842132</td>\n",
       "      <td>0.462945</td>\n",
       "      <td>56.368557</td>\n",
       "    </tr>\n",
       "  </tbody>\n",
       "</table>\n",
       "</div>"
      ],
      "text/plain": [
       "  CELL_LINE COMPOUND_A     COMPOUND_B  MAX_CONC_A  MAX_CONC_B    IC50_A       H_A     Einf_A  IC50_B       H_B      Einf_B  SYNERGY_SCORE  QA        COMBINATION_ID  combination_synergy_score  combination_synergy_confidence  cell_line_synergy_score  cell_line_synergy_confidence  MAX_CONC_diff  IC50_diff    H_diff  Einf_diff\n",
       "0    BT-549     ADAM17            AKT           1          75  0.184408  1.737511  59.575233  1.0000  0.000000  100.000000            NaN   1            ADAM17.AKT                   9.187210                        0.638650                 3.051381                      0.809608             74   0.815592  1.737511  40.424767\n",
       "1    BT-549     ADAM17         MTOR_1           1          75  0.282911  1.614275  26.672166  1.0000  0.000000  100.000000            NaN   1         ADAM17.MTOR_1                   9.439891                        0.659814                 3.051381                      0.809608             74   0.717089  1.614275  73.327834\n",
       "2    BT-549     ADAM17          PIK3C           1          75  0.314091  4.159118  39.212207  1.0000  0.000000  100.000000            NaN   1          ADAM17.PIK3C                  15.446524                        0.667204                 3.051381                      0.809608             74   0.685909  4.159118  60.787793\n",
       "3    BT-549     ADAM17  PIK3CB_PIK3CD           1          75  0.566041  0.449959   0.000000  0.0075  0.100000   93.239189            NaN   1  ADAM17.PIK3CB_PIK3CD                   7.724352                        0.674561                 3.051381                      0.809608             74   0.558541  0.349959  93.239189\n",
       "4    BT-549    AKT_SGK           FGFR           1           1  0.157868  0.999416  58.847437  1.0000  0.536471    2.478880            NaN   1          AKT_SGK.FGFR                   0.847360                        0.503123                 3.051381                      0.809608              0   0.842132  0.462945  56.368557"
      ]
     },
     "execution_count": 270,
     "metadata": {},
     "output_type": "execute_result"
    }
   ],
   "source": [
    "prediction.head()"
   ]
  },
  {
   "cell_type": "code",
   "execution_count": 271,
   "metadata": {
    "collapsed": true
   },
   "outputs": [],
   "source": [
    "prediction['prediction_1'] = clf_1.predict(prediction[features_1])\n",
    "prediction['prediction_2'] = clf_2.predict(prediction[features_2])"
   ]
  },
  {
   "cell_type": "code",
   "execution_count": 281,
   "metadata": {
    "collapsed": false
   },
   "outputs": [],
   "source": [
    "prediction_confidence = prediction[['COMBINATION_ID']].copy().drop_duplicates()\n",
    "prediction_confidence['confidence_1'] = (\n",
    "    prediction_confidence['COMBINATION_ID']\n",
    "    .map(dict(df_1_confidence))\n",
    ")\n",
    "prediction_confidence['confidence_2'] = (\n",
    "    prediction_confidence['COMBINATION_ID']\n",
    "    .map(dict(df_2_confidence))\n",
    ")"
   ]
  },
  {
   "cell_type": "code",
   "execution_count": null,
   "metadata": {
    "collapsed": true
   },
   "outputs": [],
   "source": []
  },
  {
   "cell_type": "markdown",
   "metadata": {},
   "source": [
    "## Save results"
   ]
  },
  {
   "cell_type": "code",
   "execution_count": 277,
   "metadata": {
    "collapsed": true
   },
   "outputs": [],
   "source": [
    "(prediction\n",
    " .rename(columns={'prediction_1': 'PREDICTION'})\n",
    " [['CELL_LINE', 'COMBINATION_ID', 'PREDICTION']]\n",
    " .to_csv(\n",
    "    '/home/kimlab1/strokach/working/drug_combinations/dream_challenge/output/subchallenge_1a.sub3/'\n",
    "    'prediction.csv',\n",
    "    index=False, quoting=2))"
   ]
  },
  {
   "cell_type": "code",
   "execution_count": 278,
   "metadata": {
    "collapsed": true
   },
   "outputs": [],
   "source": [
    "(prediction\n",
    " .rename(columns={'prediction_2': 'PREDICTION'})\n",
    " [['CELL_LINE', 'COMBINATION_ID', 'PREDICTION']]\n",
    " .to_csv(\n",
    "    '/home/kimlab1/strokach/working/drug_combinations/dream_challenge/output/subchallenge_1b.sub3/'\n",
    "    'prediction.csv',\n",
    "    index=False, quoting=2))"
   ]
  },
  {
   "cell_type": "code",
   "execution_count": null,
   "metadata": {
    "collapsed": true
   },
   "outputs": [],
   "source": []
  },
  {
   "cell_type": "code",
   "execution_count": null,
   "metadata": {
    "collapsed": true
   },
   "outputs": [],
   "source": []
  },
  {
   "cell_type": "code",
   "execution_count": null,
   "metadata": {
    "collapsed": true
   },
   "outputs": [],
   "source": []
  },
  {
   "cell_type": "code",
   "execution_count": 282,
   "metadata": {
    "collapsed": true
   },
   "outputs": [],
   "source": [
    "(prediction_confidence\n",
    " .rename(columns={'confidence_1': 'CONFIDENCE'})\n",
    " [['COMBINATION_ID', 'CONFIDENCE']]\n",
    " .to_csv(\n",
    "    '/home/kimlab1/strokach/working/drug_combinations/dream_challenge/output/subchallenge_1a.sub3/'\n",
    "    'combination_priority.csv',\n",
    "    index=False, quoting=2))"
   ]
  },
  {
   "cell_type": "code",
   "execution_count": 283,
   "metadata": {
    "collapsed": true
   },
   "outputs": [],
   "source": [
    "(prediction_confidence\n",
    " .rename(columns={'confidence_2': 'CONFIDENCE'})\n",
    " [['COMBINATION_ID', 'CONFIDENCE']]\n",
    " .to_csv(\n",
    "    '/home/kimlab1/strokach/working/drug_combinations/dream_challenge/output/subchallenge_1b.sub3/'\n",
    "    'combination_priority.csv',\n",
    "    index=False, quoting=2))"
   ]
  },
  {
   "cell_type": "code",
   "execution_count": null,
   "metadata": {
    "collapsed": true
   },
   "outputs": [],
   "source": []
  },
  {
   "cell_type": "code",
   "execution_count": null,
   "metadata": {
    "collapsed": true
   },
   "outputs": [],
   "source": []
  },
  {
   "cell_type": "code",
   "execution_count": null,
   "metadata": {
    "collapsed": true
   },
   "outputs": [],
   "source": []
  },
  {
   "cell_type": "code",
   "execution_count": null,
   "metadata": {
    "collapsed": true
   },
   "outputs": [],
   "source": []
  },
  {
   "cell_type": "code",
   "execution_count": 276,
   "metadata": {
    "collapsed": false
   },
   "outputs": [
    {
     "data": {
      "text/plain": [
       "<matplotlib.axes._subplots.AxesSubplot at 0x7fdf7ecb0048>"
      ]
     },
     "execution_count": 276,
     "metadata": {},
     "output_type": "execute_result"
    },
    {
     "name": "stderr",
     "output_type": "stream",
     "text": [
      "/home/kimlab1/strokach/anaconda3/lib/python3.5/site-packages/matplotlib/collections.py:590: FutureWarning: elementwise comparison failed; returning scalar instead, but in the future will perform elementwise comparison\n",
      "  if self._edgecolors == str('face'):\n"
     ]
    },
    {
     "data": {
      "image/png": "[encoded data removed]",
      "text/plain": [
       "<matplotlib.figure.Figure at 0x7fdf7edf8a20>"
      ]
     },
     "metadata": {},
     "output_type": "display_data"
    }
   ],
   "source": [
    "prediction.plot(x='prediction_1', y='prediction_2', kind='scatter')"
   ]
  },
  {
   "cell_type": "code",
   "execution_count": 274,
   "metadata": {
    "collapsed": false
   },
   "outputs": [
    {
     "data": {
      "text/plain": [
       "<matplotlib.axes._subplots.AxesSubplot at 0x7fdf7ed2f710>"
      ]
     },
     "execution_count": 274,
     "metadata": {},
     "output_type": "execute_result"
    },
    {
     "name": "stderr",
     "output_type": "stream",
     "text": [
      "/home/kimlab1/strokach/anaconda3/lib/python3.5/site-packages/matplotlib/collections.py:590: FutureWarning: elementwise comparison failed; returning scalar instead, but in the future will perform elementwise comparison\n",
      "  if self._edgecolors == str('face'):\n"
     ]
    },
    {
     "data": {
      "image/png": "[encoded data removed]",
      "text/plain": [
       "<matplotlib.figure.Figure at 0x7fdf7ee6d320>"
      ]
     },
     "metadata": {},
     "output_type": "display_data"
    }
   ],
   "source": [
    "prediction_confidence.plot(x='confidence_1', y='confidence_2', kind='scatter')"
   ]
  },
  {
   "cell_type": "markdown",
   "metadata": {
    "run_control": {
     "marked": false
    }
   },
   "source": [
    "## Submission 2"
   ]
  },
  {
   "cell_type": "code",
   "execution_count": 242,
   "metadata": {
    "collapsed": true,
    "run_control": {
     "marked": false
    }
   },
   "outputs": [],
   "source": [
    "OUTPUT_FOLDER = 'output/subchallenge_1a.sub3'\n",
    "os.makedirs(OUTPUT_FOLDER, exist_ok=True)"
   ]
  },
  {
   "cell_type": "markdown",
   "metadata": {
    "run_control": {
     "marked": false
    }
   },
   "source": [
    "### prediction"
   ]
  },
  {
   "cell_type": "code",
   "execution_count": null,
   "metadata": {
    "collapsed": true,
    "run_control": {
     "marked": false
    }
   },
   "outputs": [],
   "source": [
    "prediction['MAX_CONC_diff'] = abs(prediction['MAX_CONC_A'] - prediction['MAX_CONC_B'])\n",
    "prediction['IC50_diff'] = abs(prediction['IC50_A'] - prediction['IC50_B'])\n",
    "prediction['H_diff'] = abs(prediction['H_A'] - prediction['H_B'])\n",
    "prediction['Einf_diff'] = abs(prediction['Einf_A'] - prediction['Einf_B'])"
   ]
  },
  {
   "cell_type": "code",
   "execution_count": null,
   "metadata": {
    "collapsed": false,
    "run_control": {
     "marked": false
    }
   },
   "outputs": [],
   "source": [
    "prediction_3 = (\n",
    "    prediction\n",
    "    .merge(\n",
    "        combinations_df_2b[['CELL_LINE', 'mean', 'ste']]\n",
    "        .rename(columns={'mean': 'synergy_score_diff_mean', 'ste': 'synergy_score_diff_ste'}),\n",
    "        on=['CELL_LINE'], how='left')\n",
    ")\n",
    "#prediction_3.loc[prediction_3['synergy_score_diff_mean'].isnull(),'synergy_score_diff_mean'] = prediction_3['synergy_score_diff_mean'].mean()\n",
    "#prediction_3.loc[prediction_3['synergy_score_diff_ste'].isnull(),'synergy_score_diff_ste'] = prediction_3['synergy_score_diff_ste'].mean()"
   ]
  },
  {
   "cell_type": "code",
   "execution_count": null,
   "metadata": {
    "collapsed": false,
    "run_control": {
     "marked": false
    }
   },
   "outputs": [],
   "source": [
    "prediction_3[prediction_3[FEATURES].isnull().any(axis=1)]"
   ]
  },
  {
   "cell_type": "code",
   "execution_count": null,
   "metadata": {
    "collapsed": false,
    "run_control": {
     "marked": false
    }
   },
   "outputs": [],
   "source": [
    "prediction_3[prediction_3['COMBINATION_ID'] == 'HSP90.MAP2K_1']"
   ]
  },
  {
   "cell_type": "code",
   "execution_count": null,
   "metadata": {
    "collapsed": false,
    "run_control": {
     "marked": false
    }
   },
   "outputs": [],
   "source": [
    "combinations_df_2b[combinations_df_2b['CELL_LINE'] == 'MDA-MB-175-VII']"
   ]
  },
  {
   "cell_type": "code",
   "execution_count": null,
   "metadata": {
    "collapsed": true,
    "run_control": {
     "marked": false
    }
   },
   "outputs": [],
   "source": [
    "X = prediction_3[\n",
    "    ['synergy_score_mean', 'synergy_score_diff_mean', 'synergy_score_diff_ste',\n",
    "     #'MAX_CONC_diff', 'IC50_diff', 'H_diff', 'Einf_diff',\n",
    "    ]\n",
    "]"
   ]
  },
  {
   "cell_type": "code",
   "execution_count": null,
   "metadata": {
    "collapsed": true,
    "run_control": {
     "marked": false
    }
   },
   "outputs": [],
   "source": [
    "y = prediction_3['SYNERGY_SCORE'].values"
   ]
  },
  {
   "cell_type": "code",
   "execution_count": null,
   "metadata": {
    "collapsed": false,
    "run_control": {
     "marked": false
    }
   },
   "outputs": [],
   "source": [
    "X[X.isnull().any(axis=1)]"
   ]
  },
  {
   "cell_type": "code",
   "execution_count": null,
   "metadata": {
    "collapsed": false,
    "run_control": {
     "marked": false
    }
   },
   "outputs": [],
   "source": [
    "y = clf.predict(X)"
   ]
  },
  {
   "cell_type": "code",
   "execution_count": null,
   "metadata": {
    "collapsed": true,
    "run_control": {
     "marked": false
    }
   },
   "outputs": [],
   "source": [
    "prediction_3['PREDICTION'] = y"
   ]
  },
  {
   "cell_type": "code",
   "execution_count": null,
   "metadata": {
    "collapsed": false,
    "run_control": {
     "marked": false
    }
   },
   "outputs": [],
   "source": [
    "prediction_3[[\"CELL_LINE\",\"COMBINATION_ID\",\"PREDICTION\"]].to_csv(\n",
    "    op.join(OUTPUT_FOLDER, 'prediction.csv'), \n",
    "    index=False, quoting=2)"
   ]
  },
  {
   "cell_type": "markdown",
   "metadata": {
    "run_control": {
     "marked": false
    }
   },
   "source": [
    "### combination_priority"
   ]
  },
  {
   "cell_type": "code",
   "execution_count": null,
   "metadata": {
    "collapsed": false,
    "run_control": {
     "marked": false
    }
   },
   "outputs": [],
   "source": [
    "combination_priority_1 = (\n",
    "    combinations_df_2\n",
    "    [['COMBINATION_ID', 'norm_log_ste']]\n",
    "    .rename(columns={'norm_log_ste':'CONFIDENCE'})\n",
    ")"
   ]
  },
  {
   "cell_type": "code",
   "execution_count": null,
   "metadata": {
    "collapsed": false,
    "run_control": {
     "marked": false
    }
   },
   "outputs": [],
   "source": [
    "combination_priority_1.head()"
   ]
  },
  {
   "cell_type": "code",
   "execution_count": null,
   "metadata": {
    "collapsed": false,
    "run_control": {
     "marked": false
    }
   },
   "outputs": [],
   "source": [
    "combination_priority_1.to_csv(\n",
    "    op.join(OUTPUT_FOLDER, 'combination_priority.csv'),\n",
    "    index=False, quoting=2)"
   ]
  },
  {
   "cell_type": "code",
   "execution_count": null,
   "metadata": {
    "collapsed": true,
    "run_control": {
     "marked": false
    }
   },
   "outputs": [],
   "source": []
  },
  {
   "cell_type": "code",
   "execution_count": null,
   "metadata": {
    "collapsed": true,
    "run_control": {
     "marked": false
    }
   },
   "outputs": [],
   "source": [
    "df_1_confidence = pd.DataFrame(df_1_confidence, columns=['CONFIDENCE']).reset_index()\n",
    "df_1_confidence.to_csv(\n",
    "    '/home/kimlab1/strokach/working/drug_combinations/dream_challenge/output/subchallenge_1a.sub3/'\n",
    "    'combination_priority.csv',\n",
    "    index=False, quoting=2)"
   ]
  },
  {
   "cell_type": "code",
   "execution_count": null,
   "metadata": {
    "collapsed": true
   },
   "outputs": [],
   "source": []
  },
  {
   "cell_type": "code",
   "execution_count": null,
   "metadata": {
    "collapsed": true
   },
   "outputs": [],
   "source": []
  },
  {
   "cell_type": "code",
   "execution_count": null,
   "metadata": {
    "collapsed": true
   },
   "outputs": [],
   "source": []
  },
  {
   "cell_type": "code",
   "execution_count": null,
   "metadata": {
    "collapsed": true
   },
   "outputs": [],
   "source": []
  },
  {
   "cell_type": "code",
   "execution_count": null,
   "metadata": {
    "collapsed": true
   },
   "outputs": [],
   "source": [
    "df_2_confidence = pd.DataFrame(df_2_confidence, columns=['CONFIDENCE']).reset_index()\n",
    "df_2_confidence.to_csv(\n",
    "    '/home/kimlab1/strokach/working/drug_combinations/dream_challenge/output/subchallenge_1b.sub3/'\n",
    "    'combination_priority.csv',\n",
    "    index=False, quoting=2)"
   ]
  }
 ],
 "metadata": {
  "kernelspec": {
   "display_name": "Python 3",
   "language": "python",
   "name": "python3"
  },
  "language_info": {
   "codemirror_mode": {
    "name": "ipython",
    "version": 3
   },
   "file_extension": ".py",
   "mimetype": "text/x-python",
   "name": "python",
   "nbconvert_exporter": "python",
   "pygments_lexer": "ipython3",
   "version": "3.5.0"
  }
 },
 "nbformat": 4,
 "nbformat_minor": 0
}
