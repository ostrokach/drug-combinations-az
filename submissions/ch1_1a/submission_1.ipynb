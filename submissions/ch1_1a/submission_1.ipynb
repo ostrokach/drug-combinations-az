{
 "cells": [
  {
   "cell_type": "markdown",
   "metadata": {},
   "source": [
    "# Intro"
   ]
  },
  {
   "cell_type": "code",
   "execution_count": 126,
   "metadata": {
    "collapsed": false
   },
   "outputs": [],
   "source": [
    "import os\n",
    "import os.path as op\n",
    "\n",
    "import numpy as np\n",
    "import scipy as sp\n",
    "import pandas as pd\n",
    "import sqlalchemy as sa\n",
    "\n",
    "from IPython.display import display, HTML\n",
    "import matplotlib.pyplot as plt\n",
    "import seaborn as sns\n",
    "\n",
    "import qgrid\n",
    "qgrid.nbinstall(overwrite=True)\n",
    "qgrid.set_defaults(remote_js=True, precision=4)\n",
    "\n",
    "from common import dat"
   ]
  },
  {
   "cell_type": "code",
   "execution_count": 127,
   "metadata": {
    "collapsed": false
   },
   "outputs": [
    {
     "name": "stdout",
     "output_type": "stream",
     "text": [
      "height has been deprecated.\n",
      "\n"
     ]
    }
   ],
   "source": [
    "import pandas as pd\n",
    "pd.set_option('display.height', 1000)\n",
    "pd.set_option('display.max_rows', 500)\n",
    "pd.set_option('display.max_columns', 500)\n",
    "pd.set_option('display.width', 1000)"
   ]
  },
  {
   "cell_type": "code",
   "execution_count": 128,
   "metadata": {
    "collapsed": false
   },
   "outputs": [
    {
     "name": "stdout",
     "output_type": "stream",
     "text": [
      "The autoreload extension is already loaded. To reload it, use:\n",
      "  %reload_ext autoreload\n"
     ]
    }
   ],
   "source": [
    "%matplotlib inline\n",
    "%load_ext autoreload\n",
    "%autoreload 2"
   ]
  },
  {
   "cell_type": "code",
   "execution_count": null,
   "metadata": {
    "collapsed": true
   },
   "outputs": [],
   "source": []
  },
  {
   "cell_type": "markdown",
   "metadata": {},
   "source": [
    "# Load data"
   ]
  },
  {
   "cell_type": "code",
   "execution_count": 129,
   "metadata": {
    "collapsed": false
   },
   "outputs": [
    {
     "data": {
      "text/html": [
       "<div>\n",
       "<table border=\"1\" class=\"dataframe\">\n",
       "  <thead>\n",
       "    <tr style=\"text-align: right;\">\n",
       "      <th></th>\n",
       "      <th>CELL_LINE</th>\n",
       "      <th>COMPOUND_A</th>\n",
       "      <th>COMPOUND_B</th>\n",
       "      <th>MAX_CONC_A</th>\n",
       "      <th>MAX_CONC_B</th>\n",
       "      <th>IC50_A</th>\n",
       "      <th>H_A</th>\n",
       "      <th>Einf_A</th>\n",
       "      <th>IC50_B</th>\n",
       "      <th>H_B</th>\n",
       "      <th>Einf_B</th>\n",
       "      <th>SYNERGY_SCORE</th>\n",
       "      <th>QA</th>\n",
       "      <th>COMBINATION_ID</th>\n",
       "    </tr>\n",
       "  </thead>\n",
       "  <tbody>\n",
       "    <tr>\n",
       "      <th>0</th>\n",
       "      <td>BT-20</td>\n",
       "      <td>ADAM17</td>\n",
       "      <td>AKT</td>\n",
       "      <td>1</td>\n",
       "      <td>75</td>\n",
       "      <td>1.000000</td>\n",
       "      <td>0.809002</td>\n",
       "      <td>59.122436</td>\n",
       "      <td>9.639714</td>\n",
       "      <td>0.757977</td>\n",
       "      <td>91.593425</td>\n",
       "      <td>29.540390</td>\n",
       "      <td>1</td>\n",
       "      <td>ADAM17.AKT</td>\n",
       "    </tr>\n",
       "    <tr>\n",
       "      <th>1</th>\n",
       "      <td>CAL-120</td>\n",
       "      <td>ADAM17</td>\n",
       "      <td>AKT</td>\n",
       "      <td>1</td>\n",
       "      <td>75</td>\n",
       "      <td>0.183214</td>\n",
       "      <td>2.503678</td>\n",
       "      <td>60.411999</td>\n",
       "      <td>1.000000</td>\n",
       "      <td>0.000000</td>\n",
       "      <td>100.000000</td>\n",
       "      <td>4.401410</td>\n",
       "      <td>-1</td>\n",
       "      <td>ADAM17.AKT</td>\n",
       "    </tr>\n",
       "    <tr>\n",
       "      <th>2</th>\n",
       "      <td>CAL-51</td>\n",
       "      <td>ADAM17</td>\n",
       "      <td>AKT</td>\n",
       "      <td>1</td>\n",
       "      <td>75</td>\n",
       "      <td>1.000000</td>\n",
       "      <td>0.726984</td>\n",
       "      <td>11.150843</td>\n",
       "      <td>75.000000</td>\n",
       "      <td>0.375043</td>\n",
       "      <td>76.656479</td>\n",
       "      <td>0.315422</td>\n",
       "      <td>1</td>\n",
       "      <td>ADAM17.AKT</td>\n",
       "    </tr>\n",
       "    <tr>\n",
       "      <th>3</th>\n",
       "      <td>DU-4475</td>\n",
       "      <td>ADAM17</td>\n",
       "      <td>AKT</td>\n",
       "      <td>1</td>\n",
       "      <td>75</td>\n",
       "      <td>0.321533</td>\n",
       "      <td>10.000000</td>\n",
       "      <td>58.599487</td>\n",
       "      <td>75.000000</td>\n",
       "      <td>1.995866</td>\n",
       "      <td>6.171007</td>\n",
       "      <td>-41.734090</td>\n",
       "      <td>-1</td>\n",
       "      <td>ADAM17.AKT</td>\n",
       "    </tr>\n",
       "    <tr>\n",
       "      <th>4</th>\n",
       "      <td>HCC1143</td>\n",
       "      <td>ADAM17</td>\n",
       "      <td>AKT</td>\n",
       "      <td>1</td>\n",
       "      <td>75</td>\n",
       "      <td>0.398673</td>\n",
       "      <td>10.000000</td>\n",
       "      <td>89.098894</td>\n",
       "      <td>1.000000</td>\n",
       "      <td>0.000000</td>\n",
       "      <td>100.000000</td>\n",
       "      <td>35.532770</td>\n",
       "      <td>-1</td>\n",
       "      <td>ADAM17.AKT</td>\n",
       "    </tr>\n",
       "  </tbody>\n",
       "</table>\n",
       "</div>"
      ],
      "text/plain": [
       "  CELL_LINE COMPOUND_A COMPOUND_B  MAX_CONC_A  MAX_CONC_B    IC50_A        H_A     Einf_A     IC50_B       H_B      Einf_B  SYNERGY_SCORE  QA COMBINATION_ID\n",
       "0     BT-20     ADAM17        AKT           1          75  1.000000   0.809002  59.122436   9.639714  0.757977   91.593425      29.540390   1     ADAM17.AKT\n",
       "1   CAL-120     ADAM17        AKT           1          75  0.183214   2.503678  60.411999   1.000000  0.000000  100.000000       4.401410  -1     ADAM17.AKT\n",
       "2    CAL-51     ADAM17        AKT           1          75  1.000000   0.726984  11.150843  75.000000  0.375043   76.656479       0.315422   1     ADAM17.AKT\n",
       "3   DU-4475     ADAM17        AKT           1          75  0.321533  10.000000  58.599487  75.000000  1.995866    6.171007     -41.734090  -1     ADAM17.AKT\n",
       "4   HCC1143     ADAM17        AKT           1          75  0.398673  10.000000  89.098894   1.000000  0.000000  100.000000      35.532770  -1     ADAM17.AKT"
      ]
     },
     "metadata": {},
     "output_type": "display_data"
    }
   ],
   "source": [
    "ch1_train_combination_and_monotherapy = pd.read_csv(\n",
    "    'challenge_data/drug_synergy_data/ch1_train_combination_and_monotherapy.csv/'\n",
    "    'ch1_train_combination_and_monoTherapy.csv', sep=','\n",
    ")\n",
    "display(ch1_train_combination_and_monotherapy.head())"
   ]
  },
  {
   "cell_type": "code",
   "execution_count": 130,
   "metadata": {
    "code_folding": [
     0
    ],
    "collapsed": false
   },
   "outputs": [
    {
     "name": "stdout",
     "output_type": "stream",
     "text": [
      "Number of rows:                                             2199\n",
      "Number of cell lines:                                       85\n",
      "Number of compoounds:                                       69\n"
     ]
    }
   ],
   "source": [
    "# Print some statistics\n",
    "ch_1_compounds = (\n",
    "    set(ch1_train_combination_and_monotherapy['COMPOUND_A']) |\n",
    "    set(ch1_train_combination_and_monotherapy['COMPOUND_B'])\n",
    ")\n",
    "dat.print2('Number of rows:', len(ch1_train_combination_and_monotherapy))\n",
    "dat.print2('Number of cell lines:', len(set(ch1_train_combination_and_monotherapy['CELL_LINE'])))\n",
    "dat.print2('Number of compoounds:', len(ch_1_compounds))"
   ]
  },
  {
   "cell_type": "code",
   "execution_count": 131,
   "metadata": {
    "collapsed": false
   },
   "outputs": [],
   "source": [
    "combinations_df_1 = (\n",
    "    ch1_train_combination_and_monotherapy[\n",
    "        (ch1_train_combination_and_monotherapy['QA'] > 0)\n",
    "    ]\n",
    ")"
   ]
  },
  {
   "cell_type": "code",
   "execution_count": 132,
   "metadata": {
    "collapsed": true
   },
   "outputs": [],
   "source": [
    "def get_stats(x):\n",
    "    mean = np.mean(x)\n",
    "    std = np.std(x)\n",
    "    return np.array([mean, std])"
   ]
  },
  {
   "cell_type": "code",
   "execution_count": 133,
   "metadata": {
    "code_folding": [
     0
    ],
    "collapsed": false,
    "scrolled": false
   },
   "outputs": [],
   "source": [
    "combinations_df_2 = (\n",
    "    combinations_df_1\n",
    "    .groupby('COMBINATION_ID')['SYNERGY_SCORE']\n",
    "    .agg([np.mean, np.std, len])\n",
    "    .reset_index()\n",
    ")"
   ]
  },
  {
   "cell_type": "code",
   "execution_count": 134,
   "metadata": {
    "collapsed": false
   },
   "outputs": [
    {
     "data": {
      "text/html": [
       "<div>\n",
       "<table border=\"1\" class=\"dataframe\">\n",
       "  <thead>\n",
       "    <tr style=\"text-align: right;\">\n",
       "      <th></th>\n",
       "      <th>COMBINATION_ID</th>\n",
       "      <th>mean</th>\n",
       "      <th>std</th>\n",
       "      <th>len</th>\n",
       "    </tr>\n",
       "  </thead>\n",
       "  <tbody>\n",
       "    <tr>\n",
       "      <th>0</th>\n",
       "      <td>ADAM17.AKT</td>\n",
       "      <td>9.837743</td>\n",
       "      <td>18.576485</td>\n",
       "      <td>10</td>\n",
       "    </tr>\n",
       "    <tr>\n",
       "      <th>1</th>\n",
       "      <td>ADAM17.BCL2_BCL2L1</td>\n",
       "      <td>-3.375640</td>\n",
       "      <td>5.741486</td>\n",
       "      <td>11</td>\n",
       "    </tr>\n",
       "    <tr>\n",
       "      <th>2</th>\n",
       "      <td>ADAM17.FGFR</td>\n",
       "      <td>-4.661734</td>\n",
       "      <td>18.047302</td>\n",
       "      <td>10</td>\n",
       "    </tr>\n",
       "    <tr>\n",
       "      <th>3</th>\n",
       "      <td>ADAM17.MAP2K_1</td>\n",
       "      <td>-1.385041</td>\n",
       "      <td>16.552645</td>\n",
       "      <td>11</td>\n",
       "    </tr>\n",
       "    <tr>\n",
       "      <th>4</th>\n",
       "      <td>ADAM17.MTOR_1</td>\n",
       "      <td>9.601303</td>\n",
       "      <td>18.506934</td>\n",
       "      <td>10</td>\n",
       "    </tr>\n",
       "  </tbody>\n",
       "</table>\n",
       "</div>"
      ],
      "text/plain": [
       "       COMBINATION_ID      mean        std  len\n",
       "0          ADAM17.AKT  9.837743  18.576485   10\n",
       "1  ADAM17.BCL2_BCL2L1 -3.375640   5.741486   11\n",
       "2         ADAM17.FGFR -4.661734  18.047302   10\n",
       "3      ADAM17.MAP2K_1 -1.385041  16.552645   11\n",
       "4       ADAM17.MTOR_1  9.601303  18.506934   10"
      ]
     },
     "execution_count": 134,
     "metadata": {},
     "output_type": "execute_result"
    }
   ],
   "source": [
    "combinations_df_2.head()"
   ]
  },
  {
   "cell_type": "code",
   "execution_count": 135,
   "metadata": {
    "collapsed": true
   },
   "outputs": [],
   "source": [
    "combinations_df_2['ste'] = combinations_df_2['std'] / np.sqrt(combinations_df_2['len'])"
   ]
  },
  {
   "cell_type": "code",
   "execution_count": 136,
   "metadata": {
    "collapsed": true
   },
   "outputs": [],
   "source": [
    "combinations_df_2['log_ste'] = np.log(combinations_df_2['ste'])"
   ]
  },
  {
   "cell_type": "code",
   "execution_count": 137,
   "metadata": {
    "collapsed": false
   },
   "outputs": [],
   "source": [
    "combinations_df_2['norm_log_ste'] = (\n",
    "    (combinations_df_2['log_ste'] - combinations_df_2['log_ste'].min()) / \n",
    "    (combinations_df_2['log_ste'].max() - combinations_df_2['log_ste'].min())\n",
    ")\n",
    "combinations_df_2['norm_log_ste'] = 1 - combinations_df_2['norm_log_ste']"
   ]
  },
  {
   "cell_type": "code",
   "execution_count": 138,
   "metadata": {
    "collapsed": false
   },
   "outputs": [
    {
     "data": {
      "text/plain": [
       "<matplotlib.axes._subplots.AxesSubplot at 0x7f363fbe8780>"
      ]
     },
     "execution_count": 138,
     "metadata": {},
     "output_type": "execute_result"
    },
    {
     "data": {
      "image/png": "[encoded data removed]",
      "text/plain": [
       "<matplotlib.figure.Figure at 0x7f363fbe87f0>"
      ]
     },
     "metadata": {},
     "output_type": "display_data"
    }
   ],
   "source": [
    "combinations_df_2['norm_log_ste'].hist()"
   ]
  },
  {
   "cell_type": "code",
   "execution_count": null,
   "metadata": {
    "collapsed": true
   },
   "outputs": [],
   "source": []
  },
  {
   "cell_type": "code",
   "execution_count": null,
   "metadata": {
    "collapsed": true
   },
   "outputs": [],
   "source": []
  },
  {
   "cell_type": "markdown",
   "metadata": {},
   "source": [
    "# Leaderboard"
   ]
  },
  {
   "cell_type": "code",
   "execution_count": 139,
   "metadata": {
    "collapsed": true
   },
   "outputs": [],
   "source": [
    "ch1_leaderboard_monotherapy = pd.read_csv(\n",
    "    'challenge_data/drug_synergy_data/ch1_leaderboard_monotherapy.csv/'\n",
    "    'ch1_leaderBoard_monoTherapy.csv', sep=','\n",
    ")"
   ]
  },
  {
   "cell_type": "code",
   "execution_count": 140,
   "metadata": {
    "collapsed": false
   },
   "outputs": [
    {
     "data": {
      "text/html": [
       "<div>\n",
       "<table border=\"1\" class=\"dataframe\">\n",
       "  <thead>\n",
       "    <tr style=\"text-align: right;\">\n",
       "      <th></th>\n",
       "      <th>CELL_LINE</th>\n",
       "      <th>COMPOUND_A</th>\n",
       "      <th>COMPOUND_B</th>\n",
       "      <th>MAX_CONC_A</th>\n",
       "      <th>MAX_CONC_B</th>\n",
       "      <th>IC50_A</th>\n",
       "      <th>H_A</th>\n",
       "      <th>Einf_A</th>\n",
       "      <th>IC50_B</th>\n",
       "      <th>H_B</th>\n",
       "      <th>Einf_B</th>\n",
       "      <th>SYNERGY_SCORE</th>\n",
       "      <th>QA</th>\n",
       "      <th>COMBINATION_ID</th>\n",
       "    </tr>\n",
       "  </thead>\n",
       "  <tbody>\n",
       "    <tr>\n",
       "      <th>0</th>\n",
       "      <td>BT-549</td>\n",
       "      <td>ADAM17</td>\n",
       "      <td>AKT</td>\n",
       "      <td>1</td>\n",
       "      <td>75</td>\n",
       "      <td>0.184408</td>\n",
       "      <td>1.737511</td>\n",
       "      <td>59.575233</td>\n",
       "      <td>1.0000</td>\n",
       "      <td>0.000000</td>\n",
       "      <td>100.000000</td>\n",
       "      <td>NaN</td>\n",
       "      <td>1</td>\n",
       "      <td>ADAM17.AKT</td>\n",
       "    </tr>\n",
       "    <tr>\n",
       "      <th>1</th>\n",
       "      <td>CAL-148</td>\n",
       "      <td>ADAM17</td>\n",
       "      <td>AKT</td>\n",
       "      <td>1</td>\n",
       "      <td>75</td>\n",
       "      <td>0.153391</td>\n",
       "      <td>1.754123</td>\n",
       "      <td>1.100779</td>\n",
       "      <td>1.0000</td>\n",
       "      <td>0.000000</td>\n",
       "      <td>100.000000</td>\n",
       "      <td>NaN</td>\n",
       "      <td>1</td>\n",
       "      <td>ADAM17.AKT</td>\n",
       "    </tr>\n",
       "    <tr>\n",
       "      <th>2</th>\n",
       "      <td>HCC38</td>\n",
       "      <td>ADAM17</td>\n",
       "      <td>AKT</td>\n",
       "      <td>1</td>\n",
       "      <td>75</td>\n",
       "      <td>1.000000</td>\n",
       "      <td>10.000000</td>\n",
       "      <td>64.400080</td>\n",
       "      <td>1.0000</td>\n",
       "      <td>0.000000</td>\n",
       "      <td>100.000000</td>\n",
       "      <td>NaN</td>\n",
       "      <td>1</td>\n",
       "      <td>ADAM17.AKT</td>\n",
       "    </tr>\n",
       "    <tr>\n",
       "      <th>3</th>\n",
       "      <td>BT-20</td>\n",
       "      <td>ADAM17</td>\n",
       "      <td>BCL2_BCL2L1</td>\n",
       "      <td>1</td>\n",
       "      <td>75</td>\n",
       "      <td>1.000000</td>\n",
       "      <td>1.161732</td>\n",
       "      <td>39.164587</td>\n",
       "      <td>75.0000</td>\n",
       "      <td>0.965792</td>\n",
       "      <td>70.915033</td>\n",
       "      <td>NaN</td>\n",
       "      <td>1</td>\n",
       "      <td>ADAM17.BCL2_BCL2L1</td>\n",
       "    </tr>\n",
       "    <tr>\n",
       "      <th>4</th>\n",
       "      <td>HCC1143</td>\n",
       "      <td>ADAM17</td>\n",
       "      <td>BCL2_BCL2L1</td>\n",
       "      <td>1</td>\n",
       "      <td>75</td>\n",
       "      <td>0.115309</td>\n",
       "      <td>10.000000</td>\n",
       "      <td>57.198795</td>\n",
       "      <td>0.0075</td>\n",
       "      <td>0.100000</td>\n",
       "      <td>80.128089</td>\n",
       "      <td>NaN</td>\n",
       "      <td>1</td>\n",
       "      <td>ADAM17.BCL2_BCL2L1</td>\n",
       "    </tr>\n",
       "  </tbody>\n",
       "</table>\n",
       "</div>"
      ],
      "text/plain": [
       "  CELL_LINE COMPOUND_A   COMPOUND_B  MAX_CONC_A  MAX_CONC_B    IC50_A        H_A     Einf_A   IC50_B       H_B      Einf_B  SYNERGY_SCORE  QA      COMBINATION_ID\n",
       "0    BT-549     ADAM17          AKT           1          75  0.184408   1.737511  59.575233   1.0000  0.000000  100.000000            NaN   1          ADAM17.AKT\n",
       "1   CAL-148     ADAM17          AKT           1          75  0.153391   1.754123   1.100779   1.0000  0.000000  100.000000            NaN   1          ADAM17.AKT\n",
       "2     HCC38     ADAM17          AKT           1          75  1.000000  10.000000  64.400080   1.0000  0.000000  100.000000            NaN   1          ADAM17.AKT\n",
       "3     BT-20     ADAM17  BCL2_BCL2L1           1          75  1.000000   1.161732  39.164587  75.0000  0.965792   70.915033            NaN   1  ADAM17.BCL2_BCL2L1\n",
       "4   HCC1143     ADAM17  BCL2_BCL2L1           1          75  0.115309  10.000000  57.198795   0.0075  0.100000   80.128089            NaN   1  ADAM17.BCL2_BCL2L1"
      ]
     },
     "execution_count": 140,
     "metadata": {},
     "output_type": "execute_result"
    }
   ],
   "source": [
    "ch1_leaderboard_monotherapy.head()"
   ]
  },
  {
   "cell_type": "code",
   "execution_count": 141,
   "metadata": {
    "collapsed": true
   },
   "outputs": [],
   "source": [
    "os.makedirs('output/subchallange_1a/', exist_ok=True)"
   ]
  },
  {
   "cell_type": "markdown",
   "metadata": {},
   "source": [
    "## Submission 1"
   ]
  },
  {
   "cell_type": "markdown",
   "metadata": {},
   "source": [
    "### prediction"
   ]
  },
  {
   "cell_type": "code",
   "execution_count": 142,
   "metadata": {
    "collapsed": true,
    "run_control": {
     "marked": false
    }
   },
   "outputs": [],
   "source": [
    "prediction = (\n",
    "    ch1_leaderboard_monotherapy\n",
    "    [['CELL_LINE', 'COMBINATION_ID']]\n",
    "    .merge(combinations_df_2[['COMBINATION_ID', 'mean']], on=['COMBINATION_ID'])\n",
    "    .rename(columns={'mean':'PREDICTION'})\n",
    ")"
   ]
  },
  {
   "cell_type": "code",
   "execution_count": 143,
   "metadata": {
    "collapsed": false
   },
   "outputs": [
    {
     "data": {
      "text/html": [
       "<div>\n",
       "<table border=\"1\" class=\"dataframe\">\n",
       "  <thead>\n",
       "    <tr style=\"text-align: right;\">\n",
       "      <th></th>\n",
       "      <th>CELL_LINE</th>\n",
       "      <th>COMBINATION_ID</th>\n",
       "      <th>PREDICTION</th>\n",
       "    </tr>\n",
       "  </thead>\n",
       "  <tbody>\n",
       "    <tr>\n",
       "      <th>0</th>\n",
       "      <td>BT-549</td>\n",
       "      <td>ADAM17.AKT</td>\n",
       "      <td>9.837743</td>\n",
       "    </tr>\n",
       "    <tr>\n",
       "      <th>1</th>\n",
       "      <td>CAL-148</td>\n",
       "      <td>ADAM17.AKT</td>\n",
       "      <td>9.837743</td>\n",
       "    </tr>\n",
       "    <tr>\n",
       "      <th>2</th>\n",
       "      <td>HCC38</td>\n",
       "      <td>ADAM17.AKT</td>\n",
       "      <td>9.837743</td>\n",
       "    </tr>\n",
       "    <tr>\n",
       "      <th>3</th>\n",
       "      <td>VCaP</td>\n",
       "      <td>ADAM17.AKT</td>\n",
       "      <td>9.837743</td>\n",
       "    </tr>\n",
       "    <tr>\n",
       "      <th>4</th>\n",
       "      <td>BT-20</td>\n",
       "      <td>ADAM17.BCL2_BCL2L1</td>\n",
       "      <td>-3.375640</td>\n",
       "    </tr>\n",
       "  </tbody>\n",
       "</table>\n",
       "</div>"
      ],
      "text/plain": [
       "  CELL_LINE      COMBINATION_ID  PREDICTION\n",
       "0    BT-549          ADAM17.AKT    9.837743\n",
       "1   CAL-148          ADAM17.AKT    9.837743\n",
       "2     HCC38          ADAM17.AKT    9.837743\n",
       "3      VCaP          ADAM17.AKT    9.837743\n",
       "4     BT-20  ADAM17.BCL2_BCL2L1   -3.375640"
      ]
     },
     "execution_count": 143,
     "metadata": {},
     "output_type": "execute_result"
    }
   ],
   "source": [
    "prediction.head()"
   ]
  },
  {
   "cell_type": "code",
   "execution_count": 144,
   "metadata": {
    "collapsed": true
   },
   "outputs": [],
   "source": [
    "prediction.to_csv(\n",
    "    'output/subchallange_1a/prediction.csv', \n",
    "    index=False, quoting=2)"
   ]
  },
  {
   "cell_type": "markdown",
   "metadata": {},
   "source": [
    "### combination_priority"
   ]
  },
  {
   "cell_type": "code",
   "execution_count": 145,
   "metadata": {
    "collapsed": false
   },
   "outputs": [],
   "source": [
    "combination_priority_1 = (\n",
    "    combinations_df_2\n",
    "    [['COMBINATION_ID', 'norm_log_ste']]\n",
    "    .rename(columns={'norm_log_ste':'CONFIDENCE'})\n",
    ")"
   ]
  },
  {
   "cell_type": "code",
   "execution_count": 146,
   "metadata": {
    "collapsed": false
   },
   "outputs": [
    {
     "data": {
      "text/html": [
       "<div>\n",
       "<table border=\"1\" class=\"dataframe\">\n",
       "  <thead>\n",
       "    <tr style=\"text-align: right;\">\n",
       "      <th></th>\n",
       "      <th>COMBINATION_ID</th>\n",
       "      <th>CONFIDENCE</th>\n",
       "    </tr>\n",
       "  </thead>\n",
       "  <tbody>\n",
       "    <tr>\n",
       "      <th>0</th>\n",
       "      <td>ADAM17.AKT</td>\n",
       "      <td>0.509331</td>\n",
       "    </tr>\n",
       "    <tr>\n",
       "      <th>1</th>\n",
       "      <td>ADAM17.BCL2_BCL2L1</td>\n",
       "      <td>0.844044</td>\n",
       "    </tr>\n",
       "    <tr>\n",
       "      <th>2</th>\n",
       "      <td>ADAM17.FGFR</td>\n",
       "      <td>0.517248</td>\n",
       "    </tr>\n",
       "    <tr>\n",
       "      <th>3</th>\n",
       "      <td>ADAM17.MAP2K_1</td>\n",
       "      <td>0.553985</td>\n",
       "    </tr>\n",
       "    <tr>\n",
       "      <th>4</th>\n",
       "      <td>ADAM17.MTOR_1</td>\n",
       "      <td>0.510359</td>\n",
       "    </tr>\n",
       "  </tbody>\n",
       "</table>\n",
       "</div>"
      ],
      "text/plain": [
       "       COMBINATION_ID  CONFIDENCE\n",
       "0          ADAM17.AKT    0.509331\n",
       "1  ADAM17.BCL2_BCL2L1    0.844044\n",
       "2         ADAM17.FGFR    0.517248\n",
       "3      ADAM17.MAP2K_1    0.553985\n",
       "4       ADAM17.MTOR_1    0.510359"
      ]
     },
     "execution_count": 146,
     "metadata": {},
     "output_type": "execute_result"
    }
   ],
   "source": [
    "combination_priority_1.head()"
   ]
  },
  {
   "cell_type": "code",
   "execution_count": 147,
   "metadata": {
    "collapsed": false
   },
   "outputs": [],
   "source": [
    "combination_priority_1.to_csv(\n",
    "    'output/subchallange_1a/combination_priority.csv', \n",
    "    index=False, quoting=2)"
   ]
  },
  {
   "cell_type": "markdown",
   "metadata": {},
   "source": [
    "# The most basic thing"
   ]
  },
  {
   "cell_type": "code",
   "execution_count": null,
   "metadata": {
    "collapsed": true
   },
   "outputs": [],
   "source": []
  },
  {
   "cell_type": "code",
   "execution_count": null,
   "metadata": {
    "collapsed": true
   },
   "outputs": [],
   "source": []
  },
  {
   "cell_type": "code",
   "execution_count": null,
   "metadata": {
    "collapsed": true
   },
   "outputs": [],
   "source": []
  },
  {
   "cell_type": "code",
   "execution_count": null,
   "metadata": {
    "collapsed": true
   },
   "outputs": [],
   "source": []
  }
 ],
 "metadata": {
  "kernelspec": {
   "display_name": "Python 3",
   "language": "python",
   "name": "python3"
  },
  "language_info": {
   "codemirror_mode": {
    "name": "ipython",
    "version": 3
   },
   "file_extension": ".py",
   "mimetype": "text/x-python",
   "name": "python",
   "nbconvert_exporter": "python",
   "pygments_lexer": "ipython3",
   "version": "3.4.3"
  }
 },
 "nbformat": 4,
 "nbformat_minor": 0
}
