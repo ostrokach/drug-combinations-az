{
 "cells": [
  {
   "cell_type": "markdown",
   "metadata": {
    "collapsed": true
   },
   "source": [
    "# Intro"
   ]
  },
  {
   "cell_type": "code",
   "execution_count": 2,
   "metadata": {
    "collapsed": false
   },
   "outputs": [
    {
     "name": "stderr",
     "output_type": "stream",
     "text": [
      "/home/kimlab1/strokach/anaconda3/lib/python3.5/site-packages/IPython/html.py:14: ShimWarning: The `IPython.html` package has been deprecated. You should import from `notebook` instead. `IPython.html.widgets` has moved to `ipywidgets`.\n",
      "  \"`IPython.html.widgets` has moved to `ipywidgets`.\", ShimWarning)\n"
     ]
    }
   ],
   "source": [
    "import os\n",
    "import os.path as op\n",
    "\n",
    "import numpy as np\n",
    "import scipy as sp\n",
    "import scipy.stats\n",
    "import pandas as pd\n",
    "import sqlalchemy as sa\n",
    "\n",
    "from IPython.display import display, HTML\n",
    "import matplotlib.pyplot as plt\n",
    "\n",
    "import qgrid\n",
    "qgrid.nbinstall(overwrite=True)\n",
    "qgrid.set_defaults(remote_js=True, precision=4)\n",
    "\n",
    "from common import dat"
   ]
  },
  {
   "cell_type": "code",
   "execution_count": 3,
   "metadata": {
    "collapsed": true
   },
   "outputs": [],
   "source": [
    "import pandas as pd\n",
    "pd.set_option('display.max_rows', 500)\n",
    "pd.set_option('display.max_columns', 500)\n",
    "pd.set_option('display.width', 1000)"
   ]
  },
  {
   "cell_type": "code",
   "execution_count": 4,
   "metadata": {
    "collapsed": false
   },
   "outputs": [
    {
     "name": "stderr",
     "output_type": "stream",
     "text": [
      "/home/kimlab1/strokach/anaconda3/lib/python3.5/site-packages/matplotlib/__init__.py:872: UserWarning: axes.color_cycle is deprecated and replaced with axes.prop_cycle; please use the latter.\n",
      "  warnings.warn(self.msg_depr % (key, alt_key))\n"
     ]
    }
   ],
   "source": [
    "import seaborn as sns\n",
    "sns.set_context('notebook', font_scale=2)"
   ]
  },
  {
   "cell_type": "code",
   "execution_count": 5,
   "metadata": {
    "collapsed": false
   },
   "outputs": [],
   "source": [
    "%matplotlib inline\n",
    "%load_ext autoreload\n",
    "%autoreload 2"
   ]
  },
  {
   "cell_type": "code",
   "execution_count": null,
   "metadata": {
    "collapsed": true
   },
   "outputs": [],
   "source": []
  },
  {
   "cell_type": "markdown",
   "metadata": {},
   "source": [
    "# Load data"
   ]
  },
  {
   "cell_type": "code",
   "execution_count": null,
   "metadata": {
    "collapsed": true
   },
   "outputs": [],
   "source": [
    "# Load drug info data\n",
    "\n",
    "# az_dream\n",
    "engine = sa.create_engine('mysql://strokach:@192.168.6.19:3306/az_dream')\n",
    "drug_info_release_3 = pd.read_sql_table('drug_info_release_3', engine)\n",
    "drug_to_cid = pd.read_sql_table('drug_to_cid', engine)\n",
    "drug_to_target = pd.read_sql_table('drug_to_target', engine)\n",
    "all_cell_line_drug_pairs = pd.read_sql_table('all_cell_line_drug_pairs', engine)\n",
    "\n",
    "# az_dream_data\n",
    "engine = sa.create_engine('mysql://strokach:@192.168.6.19:3306/az_dream_data')\n",
    "training_gby_drug = pd.read_sql_table('training_gby_drug', engine)\n",
    "training_gby_drugpair = pd.read_sql_table('training_gby_drugpair', engine)\n",
    "training_gby_cell = pd.read_sql_table('training_gby_cell', engine)"
   ]
  },
  {
   "cell_type": "code",
   "execution_count": 433,
   "metadata": {
    "collapsed": false,
    "run_control": {
     "marked": false
    }
   },
   "outputs": [],
   "source": [
    "# training data\n",
    "training = pd.read_sql_table('training', engine)"
   ]
  },
  {
   "cell_type": "code",
   "execution_count": 450,
   "metadata": {
    "collapsed": true,
    "run_control": {
     "marked": false
    }
   },
   "outputs": [],
   "source": [
    "main_df = training.copy()"
   ]
  },
  {
   "cell_type": "code",
   "execution_count": 539,
   "metadata": {
    "collapsed": false,
    "run_control": {
     "marked": false
    }
   },
   "outputs": [],
   "source": [
    "main_df = training_gby_drugpair[['COMBINATION_ID', 'MEAN']].rename(columns={'MEAN': 'SYNERGY_SCORE'})\n",
    "main_df['COMPOUND_A'], main_df['COMPOUND_B'] = list(zip(*\n",
    "     main_df['COMBINATION_ID'].apply(lambda x: x.split('.'))\n",
    "))"
   ]
  },
  {
   "cell_type": "code",
   "execution_count": 295,
   "metadata": {
    "collapsed": true
   },
   "outputs": [],
   "source": [
    "# validation data\n",
    "validation = pd.read_sql_table('ch2_validation', engine)\n",
    "drug_pairs = sorted(set(validation['COMBINATION_ID']))\n",
    "cell_lines = sorted(set(validation['CELL_LINE']))\n",
    "\n",
    "lst = []\n",
    "cell_lines_df = pd.DataFrame(data=cell_lines, columns=['CELL_LINE'])\n",
    "for drug_pair in drug_pairs:\n",
    "    df = cell_lines_df.copy()\n",
    "    df['COMBINATION_ID'] = drug_pair\n",
    "    lst.append(df)\n",
    "big_df = pd.concat(lst)\n",
    "big_df['COMPOUND_A'], big_df['COMPOUND_B'] = list(zip(*\n",
    "     big_df['COMBINATION_ID'].apply(lambda x: x.split('.'))\n",
    "))\n",
    "\n",
    "validation_sparse = (\n",
    "    big_df\n",
    "    .merge(\n",
    "        validation, \n",
    "        on=['COMBINATION_ID','COMPOUND_A', 'COMPOUND_B', 'CELL_LINE'], how='outer')\n",
    ")"
   ]
  },
  {
   "cell_type": "code",
   "execution_count": 475,
   "metadata": {
    "collapsed": true,
    "run_control": {
     "marked": false
    }
   },
   "outputs": [],
   "source": [
    "main_df = validation_sparse.copy()"
   ]
  },
  {
   "cell_type": "code",
   "execution_count": 585,
   "metadata": {
    "collapsed": true,
    "run_control": {
     "marked": true
    }
   },
   "outputs": [],
   "source": [
    "main_df = big_df.copy()"
   ]
  },
  {
   "cell_type": "markdown",
   "metadata": {},
   "source": [
    "## Drug info"
   ]
  },
  {
   "cell_type": "code",
   "execution_count": 20,
   "metadata": {
    "code_folding": [
     0
    ],
    "collapsed": false
   },
   "outputs": [],
   "source": [
    "drug_info_release_3.sort_values('CID', inplace=True)"
   ]
  },
  {
   "cell_type": "code",
   "execution_count": 21,
   "metadata": {
    "collapsed": false,
    "scrolled": true
   },
   "outputs": [
    {
     "data": {
      "text/html": [
       "<div>\n",
       "<table border=\"1\" class=\"dataframe\">\n",
       "  <thead>\n",
       "    <tr style=\"text-align: right;\">\n",
       "      <th></th>\n",
       "      <th>ChallengeName</th>\n",
       "      <th>Target(Official Symbol)</th>\n",
       "      <th>HBA</th>\n",
       "      <th>cLogP</th>\n",
       "      <th>HBD</th>\n",
       "      <th>Lipinski</th>\n",
       "      <th>SMILES or PubChem ID</th>\n",
       "      <th>MW</th>\n",
       "      <th>AtomStereoCount</th>\n",
       "      <th>BondStereoCount</th>\n",
       "      <th>CID</th>\n",
       "      <th>CanonicalSMILES</th>\n",
       "      <th>Charge</th>\n",
       "      <th>Complexity</th>\n",
       "      <th>ConformerCount3D</th>\n",
       "      <th>ConformerModelRMSD3D</th>\n",
       "      <th>CovalentUnitCount</th>\n",
       "      <th>DefinedAtomStereoCount</th>\n",
       "      <th>DefinedBondStereoCount</th>\n",
       "      <th>EffectiveRotorCount3D</th>\n",
       "      <th>ExactMass</th>\n",
       "      <th>FeatureAcceptorCount3D</th>\n",
       "      <th>FeatureAnionCount3D</th>\n",
       "      <th>FeatureCationCount3D</th>\n",
       "      <th>FeatureCount3D</th>\n",
       "      <th>FeatureDonorCount3D</th>\n",
       "      <th>FeatureHydrophobeCount3D</th>\n",
       "      <th>FeatureRingCount3D</th>\n",
       "      <th>Fingerprint2D</th>\n",
       "      <th>HBondAcceptorCount</th>\n",
       "      <th>HBondDonorCount</th>\n",
       "      <th>HeavyAtomCount</th>\n",
       "      <th>IUPACName</th>\n",
       "      <th>InChI</th>\n",
       "      <th>InChIKey</th>\n",
       "      <th>IsomericSMILES</th>\n",
       "      <th>IsotopeAtomCount</th>\n",
       "      <th>MolecularFormula</th>\n",
       "      <th>MolecularWeight</th>\n",
       "      <th>MonoisotopicMass</th>\n",
       "      <th>RotatableBondCount</th>\n",
       "      <th>TPSA</th>\n",
       "      <th>UndefinedAtomStereoCount</th>\n",
       "      <th>UndefinedBondStereoCount</th>\n",
       "      <th>Volume3D</th>\n",
       "      <th>XLogP</th>\n",
       "      <th>XStericQuadrupole3D</th>\n",
       "      <th>YStericQuadrupole3D</th>\n",
       "      <th>ZStericQuadrupole3D</th>\n",
       "      <th>cids</th>\n",
       "      <th>targets</th>\n",
       "      <th>targets_bioentities</th>\n",
       "      <th>enzymes</th>\n",
       "      <th>enzymes_bioentities</th>\n",
       "      <th>transporters</th>\n",
       "      <th>transporters_bioentities</th>\n",
       "      <th>atcs</th>\n",
       "    </tr>\n",
       "  </thead>\n",
       "  <tbody>\n",
       "    <tr>\n",
       "      <th>37</th>\n",
       "      <td>Doxorubicin</td>\n",
       "      <td>TOP*,DNMT1</td>\n",
       "      <td>12</td>\n",
       "      <td>0.32</td>\n",
       "      <td>7</td>\n",
       "      <td>3</td>\n",
       "      <td>CC1C(C(CC(O1)OC2CC(Cc3c2c(c4c(c3O)C(=O)c5cccc(...</td>\n",
       "      <td>543.5</td>\n",
       "      <td>6</td>\n",
       "      <td>0</td>\n",
       "      <td>1691</td>\n",
       "      <td>CC1C(C(CC(O1)OC2CC(CC3=C(C4=C(C(=C23)O)C(=O)C5...</td>\n",
       "      <td>0</td>\n",
       "      <td>977</td>\n",
       "      <td>0</td>\n",
       "      <td>NaN</td>\n",
       "      <td>1</td>\n",
       "      <td>0</td>\n",
       "      <td>0</td>\n",
       "      <td>NaN</td>\n",
       "      <td>543.174061</td>\n",
       "      <td>NaN</td>\n",
       "      <td>NaN</td>\n",
       "      <td>NaN</td>\n",
       "      <td>NaN</td>\n",
       "      <td>NaN</td>\n",
       "      <td>NaN</td>\n",
       "      <td>NaN</td>\n",
       "      <td>AAADceB6PAAAAAAAAAAAAAAAAAAAAAAAAAA0YMGCAAAAAA...</td>\n",
       "      <td>12</td>\n",
       "      <td>6</td>\n",
       "      <td>39</td>\n",
       "      <td>7-(4-amino-5-hydroxy-6-methyloxan-2-yl)oxy-6,9...</td>\n",
       "      <td>InChI=1S/C27H29NO11/c1-10-22(31)13(28)6-17(38-...</td>\n",
       "      <td>AOJJSUZBOXZQNB-UHFFFAOYSA-N</td>\n",
       "      <td>CC1C(C(CC(O1)OC2CC(CC3=C(C4=C(C(=C23)O)C(=O)C5...</td>\n",
       "      <td>0</td>\n",
       "      <td>C27H29NO11</td>\n",
       "      <td>543.51926</td>\n",
       "      <td>543.174061</td>\n",
       "      <td>5</td>\n",
       "      <td>206.0</td>\n",
       "      <td>6</td>\n",
       "      <td>0</td>\n",
       "      <td>NaN</td>\n",
       "      <td>1.3</td>\n",
       "      <td>NaN</td>\n",
       "      <td>NaN</td>\n",
       "      <td>NaN</td>\n",
       "      <td>1691,31703,32875,41867,83979,151537,153517,308...</td>\n",
       "      <td>DNA,DNA topoisomerase 2-alpha,Chromodomain-hel...</td>\n",
       "      <td>BE0004796,BE0000742,BE0000531</td>\n",
       "      <td>Alcohol dehydrogenase [NADP],Aldo-keto reducta...</td>\n",
       "      <td>BE0004352,BE0000592,BE0003074,BE0004771,BE0001...</td>\n",
       "      <td>ATP-binding cassette sub-family B member 8, mi...</td>\n",
       "      <td>BE0003673,BE0001067,BE0000703,BE0001069,BE0001...</td>\n",
       "      <td>L01DB01,L01DB03</td>\n",
       "    </tr>\n",
       "    <tr>\n",
       "      <th>32</th>\n",
       "      <td>Chloroquine</td>\n",
       "      <td>Thiamine</td>\n",
       "      <td>NaN</td>\n",
       "      <td>NaN</td>\n",
       "      <td>NaN</td>\n",
       "      <td>NaN</td>\n",
       "      <td>2719</td>\n",
       "      <td>NaN</td>\n",
       "      <td>1</td>\n",
       "      <td>0</td>\n",
       "      <td>2719</td>\n",
       "      <td>CCN(CC)CCCC(C)NC1=C2C=CC(=CC2=NC=C1)Cl</td>\n",
       "      <td>0</td>\n",
       "      <td>309</td>\n",
       "      <td>324</td>\n",
       "      <td>0.8</td>\n",
       "      <td>1</td>\n",
       "      <td>0</td>\n",
       "      <td>0</td>\n",
       "      <td>8</td>\n",
       "      <td>319.181526</td>\n",
       "      <td>1</td>\n",
       "      <td>0</td>\n",
       "      <td>2</td>\n",
       "      <td>6</td>\n",
       "      <td>1</td>\n",
       "      <td>0</td>\n",
       "      <td>2</td>\n",
       "      <td>AAADceB7AAAEAAAAAAAAAAAAAAAAAAAAAAA8QAAAAAAAAA...</td>\n",
       "      <td>3</td>\n",
       "      <td>1</td>\n",
       "      <td>22</td>\n",
       "      <td>4-N-(7-chloroquinolin-4-yl)-1-N,1-N-diethylpen...</td>\n",
       "      <td>InChI=1S/C18H26ClN3/c1-4-22(5-2)12-6-7-14(3)21...</td>\n",
       "      <td>WHTVZRBIWZFKQO-UHFFFAOYSA-N</td>\n",
       "      <td>CCN(CC)CCCC(C)NC1=C2C=CC(=CC2=NC=C1)Cl</td>\n",
       "      <td>0</td>\n",
       "      <td>C18H26ClN3</td>\n",
       "      <td>319.87214</td>\n",
       "      <td>319.181526</td>\n",
       "      <td>8</td>\n",
       "      <td>28.2</td>\n",
       "      <td>1</td>\n",
       "      <td>0</td>\n",
       "      <td>255.7</td>\n",
       "      <td>4.6</td>\n",
       "      <td>10.27</td>\n",
       "      <td>3.1</td>\n",
       "      <td>1.88</td>\n",
       "      <td>2719,444810,639540,10087451,49849611,49849612,...</td>\n",
       "      <td>Fe-protoporphyrin IX,Glutathione S-transferase...</td>\n",
       "      <td>BE0004805,BE0002659,BE0002189,BE0001171,BE0000704</td>\n",
       "      <td>Cytochrome P450 1A1,Cytochrome P450 2C8,Cytoch...</td>\n",
       "      <td>BE0003543,BE0002887,BE0002363,BE0002638,BE0002362</td>\n",
       "      <td>Multidrug resistance protein 1</td>\n",
       "      <td>BE0001032</td>\n",
       "      <td>P01BA01</td>\n",
       "    </tr>\n",
       "  </tbody>\n",
       "</table>\n",
       "</div>"
      ],
      "text/plain": [
       "   ChallengeName Target(Official Symbol)  HBA  cLogP  HBD  Lipinski                               SMILES or PubChem ID     MW  AtomStereoCount  BondStereoCount   CID                                    CanonicalSMILES  Charge  Complexity  ConformerCount3D  ConformerModelRMSD3D  CovalentUnitCount  DefinedAtomStereoCount  DefinedBondStereoCount  EffectiveRotorCount3D   ExactMass  FeatureAcceptorCount3D  FeatureAnionCount3D  FeatureCationCount3D  FeatureCount3D  FeatureDonorCount3D  FeatureHydrophobeCount3D  FeatureRingCount3D                                      Fingerprint2D  HBondAcceptorCount  HBondDonorCount  HeavyAtomCount                                          IUPACName                                              InChI                     InChIKey                                     IsomericSMILES  IsotopeAtomCount MolecularFormula  MolecularWeight  MonoisotopicMass  RotatableBondCount   TPSA  UndefinedAtomStereoCount  UndefinedBondStereoCount  Volume3D  XLogP  \\\n",
       "37   Doxorubicin              TOP*,DNMT1   12   0.32    7         3  CC1C(C(CC(O1)OC2CC(Cc3c2c(c4c(c3O)C(=O)c5cccc(...  543.5                6                0  1691  CC1C(C(CC(O1)OC2CC(CC3=C(C4=C(C(=C23)O)C(=O)C5...       0         977                 0                   NaN                  1                       0                       0                    NaN  543.174061                     NaN                  NaN                   NaN             NaN                  NaN                       NaN                 NaN  AAADceB6PAAAAAAAAAAAAAAAAAAAAAAAAAA0YMGCAAAAAA...                  12                6              39  7-(4-amino-5-hydroxy-6-methyloxan-2-yl)oxy-6,9...  InChI=1S/C27H29NO11/c1-10-22(31)13(28)6-17(38-...  AOJJSUZBOXZQNB-UHFFFAOYSA-N  CC1C(C(CC(O1)OC2CC(CC3=C(C4=C(C(=C23)O)C(=O)C5...                 0       C27H29NO11        543.51926        543.174061                   5  206.0                         6                         0       NaN    1.3   \n",
       "32   Chloroquine                Thiamine  NaN    NaN  NaN       NaN                                               2719    NaN                1                0  2719             CCN(CC)CCCC(C)NC1=C2C=CC(=CC2=NC=C1)Cl       0         309               324                   0.8                  1                       0                       0                      8  319.181526                       1                    0                     2               6                    1                         0                   2  AAADceB7AAAEAAAAAAAAAAAAAAAAAAAAAAA8QAAAAAAAAA...                   3                1              22  4-N-(7-chloroquinolin-4-yl)-1-N,1-N-diethylpen...  InChI=1S/C18H26ClN3/c1-4-22(5-2)12-6-7-14(3)21...  WHTVZRBIWZFKQO-UHFFFAOYSA-N             CCN(CC)CCCC(C)NC1=C2C=CC(=CC2=NC=C1)Cl                 0       C18H26ClN3        319.87214        319.181526                   8   28.2                         1                         0     255.7    4.6   \n",
       "\n",
       "    XStericQuadrupole3D  YStericQuadrupole3D  ZStericQuadrupole3D                                               cids                                            targets                                targets_bioentities                                            enzymes                                enzymes_bioentities                                       transporters                           transporters_bioentities             atcs  \n",
       "37                  NaN                  NaN                  NaN  1691,31703,32875,41867,83979,151537,153517,308...  DNA,DNA topoisomerase 2-alpha,Chromodomain-hel...                      BE0004796,BE0000742,BE0000531  Alcohol dehydrogenase [NADP],Aldo-keto reducta...  BE0004352,BE0000592,BE0003074,BE0004771,BE0001...  ATP-binding cassette sub-family B member 8, mi...  BE0003673,BE0001067,BE0000703,BE0001069,BE0001...  L01DB01,L01DB03  \n",
       "32                10.27                  3.1                 1.88  2719,444810,639540,10087451,49849611,49849612,...  Fe-protoporphyrin IX,Glutathione S-transferase...  BE0004805,BE0002659,BE0002189,BE0001171,BE0000704  Cytochrome P450 1A1,Cytochrome P450 2C8,Cytoch...  BE0003543,BE0002887,BE0002363,BE0002638,BE0002362                     Multidrug resistance protein 1                                          BE0001032          P01BA01  "
      ]
     },
     "execution_count": 21,
     "metadata": {},
     "output_type": "execute_result"
    }
   ],
   "source": [
    "drug_info_release_3.head(2)"
   ]
  },
  {
   "cell_type": "code",
   "execution_count": null,
   "metadata": {
    "collapsed": true
   },
   "outputs": [],
   "source": []
  },
  {
   "cell_type": "markdown",
   "metadata": {
    "collapsed": true
   },
   "source": [
    "# Drug features"
   ]
  },
  {
   "cell_type": "code",
   "execution_count": 22,
   "metadata": {
    "collapsed": false
   },
   "outputs": [
    {
     "data": {
      "text/html": [
       "<div>\n",
       "<table border=\"1\" class=\"dataframe\">\n",
       "  <thead>\n",
       "    <tr style=\"text-align: right;\">\n",
       "      <th></th>\n",
       "      <th>COMPOUND</th>\n",
       "      <th>LEN</th>\n",
       "      <th>LEN_UNWEIGHTED</th>\n",
       "      <th>MEAN</th>\n",
       "      <th>MEAN_UNWEIGHTED</th>\n",
       "      <th>STD</th>\n",
       "      <th>STD_UNWEIGHTED</th>\n",
       "      <th>STE</th>\n",
       "      <th>STE_UNWEIGHTED</th>\n",
       "      <th>CONFIDENCE</th>\n",
       "    </tr>\n",
       "  </thead>\n",
       "  <tbody>\n",
       "    <tr>\n",
       "      <th>0</th>\n",
       "      <td>ADAM17</td>\n",
       "      <td>85.18</td>\n",
       "      <td>103</td>\n",
       "      <td>6.077150</td>\n",
       "      <td>3.639117</td>\n",
       "      <td>19.048473</td>\n",
       "      <td>20.762748</td>\n",
       "      <td>2.063913</td>\n",
       "      <td>2.045814</td>\n",
       "      <td>0.878415</td>\n",
       "    </tr>\n",
       "    <tr>\n",
       "      <th>1</th>\n",
       "      <td>AKT</td>\n",
       "      <td>209.48</td>\n",
       "      <td>257</td>\n",
       "      <td>12.990700</td>\n",
       "      <td>4.981951</td>\n",
       "      <td>26.395353</td>\n",
       "      <td>41.300744</td>\n",
       "      <td>1.823712</td>\n",
       "      <td>2.576270</td>\n",
       "      <td>0.927703</td>\n",
       "    </tr>\n",
       "    <tr>\n",
       "      <th>2</th>\n",
       "      <td>AKT_1</td>\n",
       "      <td>149.20</td>\n",
       "      <td>169</td>\n",
       "      <td>16.016789</td>\n",
       "      <td>12.759452</td>\n",
       "      <td>25.594104</td>\n",
       "      <td>30.527971</td>\n",
       "      <td>2.095345</td>\n",
       "      <td>2.348305</td>\n",
       "      <td>0.872394</td>\n",
       "    </tr>\n",
       "    <tr>\n",
       "      <th>3</th>\n",
       "      <td>AKT_SGK</td>\n",
       "      <td>46.02</td>\n",
       "      <td>48</td>\n",
       "      <td>10.049147</td>\n",
       "      <td>9.716044</td>\n",
       "      <td>18.992123</td>\n",
       "      <td>18.772570</td>\n",
       "      <td>2.799627</td>\n",
       "      <td>2.709587</td>\n",
       "      <td>0.756963</td>\n",
       "    </tr>\n",
       "    <tr>\n",
       "      <th>4</th>\n",
       "      <td>ALK</td>\n",
       "      <td>37.14</td>\n",
       "      <td>51</td>\n",
       "      <td>16.966631</td>\n",
       "      <td>12.950270</td>\n",
       "      <td>20.245268</td>\n",
       "      <td>27.845114</td>\n",
       "      <td>3.322023</td>\n",
       "      <td>3.899096</td>\n",
       "      <td>0.688810</td>\n",
       "    </tr>\n",
       "  </tbody>\n",
       "</table>\n",
       "</div>"
      ],
      "text/plain": [
       "  COMPOUND     LEN  LEN_UNWEIGHTED       MEAN  MEAN_UNWEIGHTED        STD  STD_UNWEIGHTED       STE  STE_UNWEIGHTED  CONFIDENCE\n",
       "0   ADAM17   85.18             103   6.077150         3.639117  19.048473       20.762748  2.063913        2.045814    0.878415\n",
       "1      AKT  209.48             257  12.990700         4.981951  26.395353       41.300744  1.823712        2.576270    0.927703\n",
       "2    AKT_1  149.20             169  16.016789        12.759452  25.594104       30.527971  2.095345        2.348305    0.872394\n",
       "3  AKT_SGK   46.02              48  10.049147         9.716044  18.992123       18.772570  2.799627        2.709587    0.756963\n",
       "4      ALK   37.14              51  16.966631        12.950270  20.245268       27.845114  3.322023        3.899096    0.688810"
      ]
     },
     "execution_count": 22,
     "metadata": {},
     "output_type": "execute_result"
    }
   ],
   "source": [
    "training_gby_drug.head()"
   ]
  },
  {
   "cell_type": "code",
   "execution_count": null,
   "metadata": {
    "collapsed": true
   },
   "outputs": [],
   "source": []
  },
  {
   "cell_type": "code",
   "execution_count": 586,
   "metadata": {
    "code_folding": [
     0
    ],
    "collapsed": false,
    "run_control": {
     "marked": true
    }
   },
   "outputs": [],
   "source": [
    "# Add drug synergy scores\n",
    "main_df = (\n",
    "    main_df\n",
    "    .merge(\n",
    "        training_gby_drug[['COMPOUND', 'LEN', 'MEAN', 'STE']]\n",
    "        .rename(\n",
    "            columns={\n",
    "                'COMPOUND': 'COMPOUND_A',\n",
    "                'LEN': 'drug_len_A',\n",
    "                'MEAN': 'drug_mean_A',\n",
    "                'STE': 'drug_ste_A',\n",
    "            }),\n",
    "        on=['COMPOUND_A'], how='left')\n",
    "    .merge(\n",
    "        training_gby_drug[['COMPOUND', 'LEN', 'MEAN', 'STE']]\n",
    "        .rename(\n",
    "            columns={\n",
    "                'COMPOUND': 'COMPOUND_B',\n",
    "                'LEN': 'drug_len_B',\n",
    "                'MEAN': 'drug_mean_B',\n",
    "                'STE': 'drug_ste_B',\n",
    "            }),\n",
    "        on=['COMPOUND_B'], how='left')\n",
    ")"
   ]
  },
  {
   "cell_type": "code",
   "execution_count": 42,
   "metadata": {
    "collapsed": false
   },
   "outputs": [],
   "source": [
    "x = main_df.corr()['SYNERGY_SCORE']"
   ]
  },
  {
   "cell_type": "code",
   "execution_count": 43,
   "metadata": {
    "collapsed": false
   },
   "outputs": [
    {
     "data": {
      "text/plain": [
       "Einf_A          -0.080222\n",
       "Einf_B          -0.070283\n",
       "IC50_A          -0.054244\n",
       "DRUG_LEN_B      -0.023947\n",
       "MAX_CONC_B      -0.011022\n",
       "IC50_B          -0.008651\n",
       "H_B             -0.005458\n",
       "MAX_CONC_A       0.014226\n",
       "DRUG_STE_A       0.017906\n",
       "DRUG_LEN_A       0.026592\n",
       "H_A              0.027465\n",
       "QA               0.046226\n",
       "DRUG_MEAN_A      0.081886\n",
       "DRUG_MEAN_B      0.096167\n",
       "DRUG_STE_B       0.131116\n",
       "SYNERGY_SCORE    1.000000\n",
       "Name: SYNERGY_SCORE, dtype: float64"
      ]
     },
     "execution_count": 43,
     "metadata": {},
     "output_type": "execute_result"
    }
   ],
   "source": [
    "x.sort_values()"
   ]
  },
  {
   "cell_type": "code",
   "execution_count": null,
   "metadata": {
    "collapsed": true
   },
   "outputs": [],
   "source": []
  },
  {
   "cell_type": "code",
   "execution_count": null,
   "metadata": {
    "collapsed": true
   },
   "outputs": [],
   "source": []
  },
  {
   "cell_type": "code",
   "execution_count": 17,
   "metadata": {
    "collapsed": false
   },
   "outputs": [
    {
     "data": {
      "text/html": [
       "<div>\n",
       "<table border=\"1\" class=\"dataframe\">\n",
       "  <thead>\n",
       "    <tr style=\"text-align: right;\">\n",
       "      <th></th>\n",
       "      <th>unique_id</th>\n",
       "      <th>synergy_score_mean</th>\n",
       "      <th>synergy_score_std</th>\n",
       "      <th>synergy_score_ste</th>\n",
       "      <th>synergy_score_confidence</th>\n",
       "    </tr>\n",
       "  </thead>\n",
       "  <tbody>\n",
       "    <tr>\n",
       "      <th>0</th>\n",
       "      <td>ADAM17.AKT</td>\n",
       "      <td>9.506099</td>\n",
       "      <td>18.090624</td>\n",
       "      <td>4.834923</td>\n",
       "      <td>0.625596</td>\n",
       "    </tr>\n",
       "    <tr>\n",
       "      <th>1</th>\n",
       "      <td>ADAM17.BCL2_BCL2L1</td>\n",
       "      <td>-3.439654</td>\n",
       "      <td>5.543807</td>\n",
       "      <td>1.600359</td>\n",
       "      <td>0.999478</td>\n",
       "    </tr>\n",
       "    <tr>\n",
       "      <th>2</th>\n",
       "      <td>ADAM17.FGFR</td>\n",
       "      <td>-4.934241</td>\n",
       "      <td>17.415001</td>\n",
       "      <td>4.830052</td>\n",
       "      <td>0.625937</td>\n",
       "    </tr>\n",
       "    <tr>\n",
       "      <th>3</th>\n",
       "      <td>ADAM17.MAP2K_1</td>\n",
       "      <td>-1.658434</td>\n",
       "      <td>16.004816</td>\n",
       "      <td>4.438937</td>\n",
       "      <td>0.654492</td>\n",
       "    </tr>\n",
       "    <tr>\n",
       "      <th>4</th>\n",
       "      <td>ADAM17.MTOR_1</td>\n",
       "      <td>9.511901</td>\n",
       "      <td>17.444983</td>\n",
       "      <td>4.662368</td>\n",
       "      <td>0.637885</td>\n",
       "    </tr>\n",
       "  </tbody>\n",
       "</table>\n",
       "</div>"
      ],
      "text/plain": [
       "            unique_id  synergy_score_mean  synergy_score_std  synergy_score_ste  synergy_score_confidence\n",
       "0          ADAM17.AKT            9.506099          18.090624           4.834923                  0.625596\n",
       "1  ADAM17.BCL2_BCL2L1           -3.439654           5.543807           1.600359                  0.999478\n",
       "2         ADAM17.FGFR           -4.934241          17.415001           4.830052                  0.625937\n",
       "3      ADAM17.MAP2K_1           -1.658434          16.004816           4.438937                  0.654492\n",
       "4       ADAM17.MTOR_1            9.511901          17.444983           4.662368                  0.637885"
      ]
     },
     "execution_count": 17,
     "metadata": {},
     "output_type": "execute_result"
    }
   ],
   "source": [
    "columns = [\n",
    "    'unique_id', 'synergy_score_mean', 'synergy_score_std', 'synergy_score_ste', \n",
    "    'synergy_score_confidence'\n",
    "]\n",
    "synergy_score = (\n",
    "    training_gby_drugpair.rename(\n",
    "        columns={\n",
    "            'COMBINATION_ID': 'unique_id',\n",
    "            'LEN': ''\n",
    "            'MEAN': 'synergy_score_mean',\n",
    "            'STD': 'synergy_score_std',\n",
    "            'STE': 'synergy_score_ste',\n",
    "            'CONFIDENCE': 'synergy_score_confidence'\n",
    "        })\n",
    "    [columns]\n",
    ")\n",
    "synergy_score.head()"
   ]
  },
  {
   "cell_type": "code",
   "execution_count": null,
   "metadata": {
    "collapsed": true
   },
   "outputs": [],
   "source": []
  },
  {
   "cell_type": "markdown",
   "metadata": {},
   "source": [
    "# Drug pair features"
   ]
  },
  {
   "cell_type": "code",
   "execution_count": null,
   "metadata": {
    "collapsed": true
   },
   "outputs": [],
   "source": []
  },
  {
   "cell_type": "code",
   "execution_count": null,
   "metadata": {
    "collapsed": true
   },
   "outputs": [],
   "source": []
  },
  {
   "cell_type": "code",
   "execution_count": null,
   "metadata": {
    "collapsed": true
   },
   "outputs": [],
   "source": []
  },
  {
   "cell_type": "code",
   "execution_count": null,
   "metadata": {
    "collapsed": true
   },
   "outputs": [],
   "source": []
  },
  {
   "cell_type": "markdown",
   "metadata": {
    "collapsed": true
   },
   "source": [
    "## Clare"
   ]
  },
  {
   "cell_type": "code",
   "execution_count": 47,
   "metadata": {
    "collapsed": false,
    "run_control": {
     "marked": false
    }
   },
   "outputs": [],
   "source": [
    "engine = sa.create_engine('mysql://strokach:@192.168.6.19:3306/az_dream_target_features')\n",
    "original_target_features = pd.read_sql_table('original_target_features', engine)"
   ]
  },
  {
   "cell_type": "code",
   "execution_count": 49,
   "metadata": {
    "code_folding": [],
    "collapsed": false
   },
   "outputs": [
    {
     "data": {
      "text/html": [
       "<div>\n",
       "<table border=\"1\" class=\"dataframe\">\n",
       "  <thead>\n",
       "    <tr style=\"text-align: right;\">\n",
       "      <th></th>\n",
       "      <th>unique_id</th>\n",
       "      <th>bg_degree</th>\n",
       "      <th>bg_clustering_coef</th>\n",
       "      <th>bg_betweenness</th>\n",
       "      <th>bg_closeness</th>\n",
       "      <th>bg_neighbor_sharing</th>\n",
       "      <th>bg_shortest_path_length</th>\n",
       "      <th>bg_eb_max</th>\n",
       "      <th>bg_eb_min</th>\n",
       "      <th>bg_eb_mean</th>\n",
       "      <th>bg_eb_fraction</th>\n",
       "      <th>bg_number_of_shortest_paths</th>\n",
       "      <th>coexpression</th>\n",
       "      <th>gene_essentiality</th>\n",
       "      <th>gi_degree</th>\n",
       "      <th>gi_clustering_coef</th>\n",
       "      <th>gi_betweenness</th>\n",
       "      <th>gi_closeness</th>\n",
       "      <th>gi_neighbor_sharing</th>\n",
       "      <th>gi_shortest_path_length</th>\n",
       "      <th>gi_eb_max</th>\n",
       "      <th>gi_eb_min</th>\n",
       "      <th>gi_eb_mean</th>\n",
       "      <th>gi_eb_fraction</th>\n",
       "      <th>gi_number_of_shortest_paths</th>\n",
       "      <th>go_all_sem_sim</th>\n",
       "      <th>go_bp_sem_sim</th>\n",
       "      <th>go_cc_sem_sim</th>\n",
       "      <th>go_mf_sem_sim</th>\n",
       "      <th>go_slim_sem_sim</th>\n",
       "      <th>phylogenic_similarity</th>\n",
       "      <th>s_degree</th>\n",
       "      <th>s_clustering_coef</th>\n",
       "      <th>s_betweenness</th>\n",
       "      <th>s_closeness</th>\n",
       "      <th>s_neighbor_sharing</th>\n",
       "      <th>s_shortest_path_length</th>\n",
       "      <th>eb_max</th>\n",
       "      <th>eb_min</th>\n",
       "      <th>eb_mean</th>\n",
       "      <th>eb_fraction</th>\n",
       "      <th>s_number_of_shortest_paths</th>\n",
       "    </tr>\n",
       "  </thead>\n",
       "  <tbody>\n",
       "    <tr>\n",
       "      <th>0</th>\n",
       "      <td>ADAM17.AKT</td>\n",
       "      <td>47.166667</td>\n",
       "      <td>0.174388</td>\n",
       "      <td>0.000319</td>\n",
       "      <td>0.407483</td>\n",
       "      <td>2.888185</td>\n",
       "      <td>2.000000</td>\n",
       "      <td>0.000232</td>\n",
       "      <td>0.000154</td>\n",
       "      <td>0.000193</td>\n",
       "      <td>100.000000</td>\n",
       "      <td>1.0000</td>\n",
       "      <td>-0.045844</td>\n",
       "      <td>0.925926</td>\n",
       "      <td>33.750000</td>\n",
       "      <td>0.022739</td>\n",
       "      <td>0.000065</td>\n",
       "      <td>0.343499</td>\n",
       "      <td>0.000000</td>\n",
       "      <td>3.00</td>\n",
       "      <td>0.000080</td>\n",
       "      <td>0.000003</td>\n",
       "      <td>0.000017</td>\n",
       "      <td>52.777778</td>\n",
       "      <td>19.5000</td>\n",
       "      <td>17.221283</td>\n",
       "      <td>16.986108</td>\n",
       "      <td>26.759259</td>\n",
       "      <td>9.615385</td>\n",
       "      <td>60.119658</td>\n",
       "      <td>0.936001</td>\n",
       "      <td>125.000000</td>\n",
       "      <td>0.134330</td>\n",
       "      <td>0.004867</td>\n",
       "      <td>0.322401</td>\n",
       "      <td>0.324886</td>\n",
       "      <td>2.666667</td>\n",
       "      <td>0.000188</td>\n",
       "      <td>0.000004</td>\n",
       "      <td>0.000047</td>\n",
       "      <td>61.817062</td>\n",
       "      <td>114.3333</td>\n",
       "    </tr>\n",
       "    <tr>\n",
       "      <th>1</th>\n",
       "      <td>ADAM17.AKT_1</td>\n",
       "      <td>33.800000</td>\n",
       "      <td>0.185718</td>\n",
       "      <td>0.000212</td>\n",
       "      <td>0.390061</td>\n",
       "      <td>1.732911</td>\n",
       "      <td>2.400000</td>\n",
       "      <td>0.003019</td>\n",
       "      <td>0.000093</td>\n",
       "      <td>0.000207</td>\n",
       "      <td>78.062954</td>\n",
       "      <td>9.8000</td>\n",
       "      <td>-0.057905</td>\n",
       "      <td>0.813333</td>\n",
       "      <td>28.333333</td>\n",
       "      <td>0.020605</td>\n",
       "      <td>0.000048</td>\n",
       "      <td>0.339907</td>\n",
       "      <td>0.000000</td>\n",
       "      <td>3.00</td>\n",
       "      <td>0.000069</td>\n",
       "      <td>0.000003</td>\n",
       "      <td>0.000016</td>\n",
       "      <td>55.475040</td>\n",
       "      <td>16.3333</td>\n",
       "      <td>16.637769</td>\n",
       "      <td>16.177050</td>\n",
       "      <td>26.214286</td>\n",
       "      <td>10.769231</td>\n",
       "      <td>54.297882</td>\n",
       "      <td>0.895341</td>\n",
       "      <td>83.700000</td>\n",
       "      <td>0.220766</td>\n",
       "      <td>0.002986</td>\n",
       "      <td>0.311351</td>\n",
       "      <td>0.194932</td>\n",
       "      <td>2.800000</td>\n",
       "      <td>0.000282</td>\n",
       "      <td>0.000005</td>\n",
       "      <td>0.000063</td>\n",
       "      <td>62.840766</td>\n",
       "      <td>74.0000</td>\n",
       "    </tr>\n",
       "    <tr>\n",
       "      <th>2</th>\n",
       "      <td>ADAM17.AKT_PIK3C</td>\n",
       "      <td>22.708333</td>\n",
       "      <td>0.218184</td>\n",
       "      <td>0.000129</td>\n",
       "      <td>0.392611</td>\n",
       "      <td>2.895376</td>\n",
       "      <td>2.250000</td>\n",
       "      <td>0.001445</td>\n",
       "      <td>0.000082</td>\n",
       "      <td>0.000160</td>\n",
       "      <td>82.407183</td>\n",
       "      <td>6.0833</td>\n",
       "      <td>0.017456</td>\n",
       "      <td>0.894737</td>\n",
       "      <td>39.050000</td>\n",
       "      <td>0.018360</td>\n",
       "      <td>0.000087</td>\n",
       "      <td>0.344928</td>\n",
       "      <td>0.000000</td>\n",
       "      <td>3.00</td>\n",
       "      <td>0.000060</td>\n",
       "      <td>0.000003</td>\n",
       "      <td>0.000015</td>\n",
       "      <td>48.627057</td>\n",
       "      <td>21.5000</td>\n",
       "      <td>12.312608</td>\n",
       "      <td>10.836258</td>\n",
       "      <td>23.674218</td>\n",
       "      <td>10.315134</td>\n",
       "      <td>52.123868</td>\n",
       "      <td>0.920545</td>\n",
       "      <td>84.846154</td>\n",
       "      <td>0.236257</td>\n",
       "      <td>0.001572</td>\n",
       "      <td>0.309506</td>\n",
       "      <td>0.914699</td>\n",
       "      <td>2.538462</td>\n",
       "      <td>0.000161</td>\n",
       "      <td>0.000005</td>\n",
       "      <td>0.000039</td>\n",
       "      <td>58.735282</td>\n",
       "      <td>37.5385</td>\n",
       "    </tr>\n",
       "    <tr>\n",
       "      <th>3</th>\n",
       "      <td>ADAM17.AKT_SGK</td>\n",
       "      <td>32.666667</td>\n",
       "      <td>0.184184</td>\n",
       "      <td>0.000217</td>\n",
       "      <td>0.392386</td>\n",
       "      <td>1.758558</td>\n",
       "      <td>2.333333</td>\n",
       "      <td>0.002564</td>\n",
       "      <td>0.000107</td>\n",
       "      <td>0.000211</td>\n",
       "      <td>81.719128</td>\n",
       "      <td>8.3333</td>\n",
       "      <td>-0.021818</td>\n",
       "      <td>0.869159</td>\n",
       "      <td>31.875000</td>\n",
       "      <td>0.020476</td>\n",
       "      <td>0.000055</td>\n",
       "      <td>0.342243</td>\n",
       "      <td>0.297619</td>\n",
       "      <td>2.75</td>\n",
       "      <td>0.000053</td>\n",
       "      <td>0.000003</td>\n",
       "      <td>0.000013</td>\n",
       "      <td>41.606280</td>\n",
       "      <td>12.5000</td>\n",
       "      <td>15.328771</td>\n",
       "      <td>14.358068</td>\n",
       "      <td>27.592365</td>\n",
       "      <td>10.683761</td>\n",
       "      <td>53.581568</td>\n",
       "      <td>0.898081</td>\n",
       "      <td>76.750000</td>\n",
       "      <td>0.207219</td>\n",
       "      <td>0.002543</td>\n",
       "      <td>0.311779</td>\n",
       "      <td>0.363246</td>\n",
       "      <td>2.666667</td>\n",
       "      <td>0.000240</td>\n",
       "      <td>0.000006</td>\n",
       "      <td>0.000056</td>\n",
       "      <td>60.700638</td>\n",
       "      <td>61.8333</td>\n",
       "    </tr>\n",
       "    <tr>\n",
       "      <th>4</th>\n",
       "      <td>ADAM17.ALK</td>\n",
       "      <td>28.500000</td>\n",
       "      <td>0.152926</td>\n",
       "      <td>0.000078</td>\n",
       "      <td>0.367599</td>\n",
       "      <td>1.785714</td>\n",
       "      <td>2.000000</td>\n",
       "      <td>0.000009</td>\n",
       "      <td>0.000006</td>\n",
       "      <td>0.000008</td>\n",
       "      <td>0.000000</td>\n",
       "      <td>1.0000</td>\n",
       "      <td>-0.067054</td>\n",
       "      <td>1.000000</td>\n",
       "      <td>107.500000</td>\n",
       "      <td>0.014053</td>\n",
       "      <td>0.000664</td>\n",
       "      <td>0.367971</td>\n",
       "      <td>0.467290</td>\n",
       "      <td>2.00</td>\n",
       "      <td>0.000027</td>\n",
       "      <td>0.000026</td>\n",
       "      <td>0.000026</td>\n",
       "      <td>100.000000</td>\n",
       "      <td>1.0000</td>\n",
       "      <td>11.805556</td>\n",
       "      <td>8.675799</td>\n",
       "      <td>45.833333</td>\n",
       "      <td>8.888889</td>\n",
       "      <td>48.148148</td>\n",
       "      <td>0.909405</td>\n",
       "      <td>25.500000</td>\n",
       "      <td>0.107161</td>\n",
       "      <td>0.000195</td>\n",
       "      <td>0.294602</td>\n",
       "      <td>0.000000</td>\n",
       "      <td>3.000000</td>\n",
       "      <td>0.000108</td>\n",
       "      <td>0.000002</td>\n",
       "      <td>0.000028</td>\n",
       "      <td>60.937500</td>\n",
       "      <td>39.0000</td>\n",
       "    </tr>\n",
       "  </tbody>\n",
       "</table>\n",
       "</div>"
      ],
      "text/plain": [
       "          unique_id  bg_degree  bg_clustering_coef  bg_betweenness  bg_closeness  bg_neighbor_sharing  bg_shortest_path_length  bg_eb_max  bg_eb_min  bg_eb_mean  bg_eb_fraction  bg_number_of_shortest_paths  coexpression  gene_essentiality   gi_degree  gi_clustering_coef  gi_betweenness  gi_closeness  gi_neighbor_sharing  gi_shortest_path_length  gi_eb_max  gi_eb_min  gi_eb_mean  gi_eb_fraction  gi_number_of_shortest_paths  go_all_sem_sim  go_bp_sem_sim  go_cc_sem_sim  go_mf_sem_sim  go_slim_sem_sim  phylogenic_similarity    s_degree  s_clustering_coef  s_betweenness  s_closeness  s_neighbor_sharing  s_shortest_path_length    eb_max    eb_min   eb_mean  eb_fraction  s_number_of_shortest_paths\n",
       "0        ADAM17.AKT  47.166667            0.174388        0.000319      0.407483             2.888185                 2.000000   0.000232   0.000154    0.000193      100.000000                       1.0000     -0.045844           0.925926   33.750000            0.022739        0.000065      0.343499             0.000000                     3.00   0.000080   0.000003    0.000017       52.777778                      19.5000       17.221283      16.986108      26.759259       9.615385        60.119658               0.936001  125.000000           0.134330       0.004867     0.322401            0.324886                2.666667  0.000188  0.000004  0.000047    61.817062                    114.3333\n",
       "1      ADAM17.AKT_1  33.800000            0.185718        0.000212      0.390061             1.732911                 2.400000   0.003019   0.000093    0.000207       78.062954                       9.8000     -0.057905           0.813333   28.333333            0.020605        0.000048      0.339907             0.000000                     3.00   0.000069   0.000003    0.000016       55.475040                      16.3333       16.637769      16.177050      26.214286      10.769231        54.297882               0.895341   83.700000           0.220766       0.002986     0.311351            0.194932                2.800000  0.000282  0.000005  0.000063    62.840766                     74.0000\n",
       "2  ADAM17.AKT_PIK3C  22.708333            0.218184        0.000129      0.392611             2.895376                 2.250000   0.001445   0.000082    0.000160       82.407183                       6.0833      0.017456           0.894737   39.050000            0.018360        0.000087      0.344928             0.000000                     3.00   0.000060   0.000003    0.000015       48.627057                      21.5000       12.312608      10.836258      23.674218      10.315134        52.123868               0.920545   84.846154           0.236257       0.001572     0.309506            0.914699                2.538462  0.000161  0.000005  0.000039    58.735282                     37.5385\n",
       "3    ADAM17.AKT_SGK  32.666667            0.184184        0.000217      0.392386             1.758558                 2.333333   0.002564   0.000107    0.000211       81.719128                       8.3333     -0.021818           0.869159   31.875000            0.020476        0.000055      0.342243             0.297619                     2.75   0.000053   0.000003    0.000013       41.606280                      12.5000       15.328771      14.358068      27.592365      10.683761        53.581568               0.898081   76.750000           0.207219       0.002543     0.311779            0.363246                2.666667  0.000240  0.000006  0.000056    60.700638                     61.8333\n",
       "4        ADAM17.ALK  28.500000            0.152926        0.000078      0.367599             1.785714                 2.000000   0.000009   0.000006    0.000008        0.000000                       1.0000     -0.067054           1.000000  107.500000            0.014053        0.000664      0.367971             0.467290                     2.00   0.000027   0.000026    0.000026      100.000000                       1.0000       11.805556       8.675799      45.833333       8.888889        48.148148               0.909405   25.500000           0.107161       0.000195     0.294602            0.000000                3.000000  0.000108  0.000002  0.000028    60.937500                     39.0000"
      ]
     },
     "execution_count": 49,
     "metadata": {},
     "output_type": "execute_result"
    }
   ],
   "source": [
    "original_target_features.head()"
   ]
  },
  {
   "cell_type": "code",
   "execution_count": 587,
   "metadata": {
    "code_folding": [
     0
    ],
    "collapsed": true,
    "run_control": {
     "marked": true
    }
   },
   "outputs": [],
   "source": [
    "# Add Clare's features\n",
    "main_df = (\n",
    "    main_df\n",
    "    .merge(\n",
    "        original_target_features\n",
    "        .rename(columns={'unique_id': 'COMBINATION_ID'}),\n",
    "        on=['COMBINATION_ID'], how='left')\n",
    ")"
   ]
  },
  {
   "cell_type": "code",
   "execution_count": 62,
   "metadata": {
    "collapsed": false,
    "scrolled": true
   },
   "outputs": [
    {
     "data": {
      "text/html": [
       "<div>\n",
       "<table border=\"1\" class=\"dataframe\">\n",
       "  <thead>\n",
       "    <tr style=\"text-align: right;\">\n",
       "      <th></th>\n",
       "      <th>CELL_LINE</th>\n",
       "      <th>COMPOUND_A</th>\n",
       "      <th>COMPOUND_B</th>\n",
       "      <th>MAX_CONC_A</th>\n",
       "      <th>MAX_CONC_B</th>\n",
       "      <th>IC50_A</th>\n",
       "      <th>H_A</th>\n",
       "      <th>Einf_A</th>\n",
       "      <th>IC50_B</th>\n",
       "      <th>H_B</th>\n",
       "      <th>Einf_B</th>\n",
       "      <th>SYNERGY_SCORE</th>\n",
       "      <th>QA</th>\n",
       "      <th>COMBINATION_ID</th>\n",
       "      <th>drug_len_A</th>\n",
       "      <th>drug_mean_A</th>\n",
       "      <th>drug_ste_A</th>\n",
       "      <th>drug_len_B</th>\n",
       "      <th>drug_mean_B</th>\n",
       "      <th>drug_ste_B</th>\n",
       "      <th>bg_degree</th>\n",
       "      <th>bg_clustering_coef</th>\n",
       "      <th>bg_betweenness</th>\n",
       "      <th>bg_closeness</th>\n",
       "      <th>bg_neighbor_sharing</th>\n",
       "      <th>bg_shortest_path_length</th>\n",
       "      <th>bg_eb_max</th>\n",
       "      <th>bg_eb_min</th>\n",
       "      <th>bg_eb_mean</th>\n",
       "      <th>bg_eb_fraction</th>\n",
       "      <th>bg_number_of_shortest_paths</th>\n",
       "      <th>coexpression</th>\n",
       "      <th>gene_essentiality</th>\n",
       "      <th>gi_degree</th>\n",
       "      <th>gi_clustering_coef</th>\n",
       "      <th>gi_betweenness</th>\n",
       "      <th>gi_closeness</th>\n",
       "      <th>gi_neighbor_sharing</th>\n",
       "      <th>gi_shortest_path_length</th>\n",
       "      <th>gi_eb_max</th>\n",
       "      <th>gi_eb_min</th>\n",
       "      <th>gi_eb_mean</th>\n",
       "      <th>gi_eb_fraction</th>\n",
       "      <th>gi_number_of_shortest_paths</th>\n",
       "      <th>go_all_sem_sim</th>\n",
       "      <th>go_bp_sem_sim</th>\n",
       "      <th>go_cc_sem_sim</th>\n",
       "      <th>go_mf_sem_sim</th>\n",
       "      <th>go_slim_sem_sim</th>\n",
       "      <th>phylogenic_similarity</th>\n",
       "      <th>s_degree</th>\n",
       "      <th>s_clustering_coef</th>\n",
       "      <th>s_betweenness</th>\n",
       "      <th>s_closeness</th>\n",
       "      <th>s_neighbor_sharing</th>\n",
       "      <th>s_shortest_path_length</th>\n",
       "      <th>eb_max</th>\n",
       "      <th>eb_min</th>\n",
       "      <th>eb_mean</th>\n",
       "      <th>eb_fraction</th>\n",
       "      <th>s_number_of_shortest_paths</th>\n",
       "      <th>cell_len</th>\n",
       "      <th>cell_mean</th>\n",
       "      <th>cell_ste</th>\n",
       "    </tr>\n",
       "  </thead>\n",
       "  <tbody>\n",
       "    <tr>\n",
       "      <th>0</th>\n",
       "      <td>BT-20</td>\n",
       "      <td>ADAM17</td>\n",
       "      <td>AKT</td>\n",
       "      <td>1</td>\n",
       "      <td>75</td>\n",
       "      <td>1.000000</td>\n",
       "      <td>0.809002</td>\n",
       "      <td>59.122436</td>\n",
       "      <td>9.639714</td>\n",
       "      <td>0.757977</td>\n",
       "      <td>91.593425</td>\n",
       "      <td>29.540390</td>\n",
       "      <td>1</td>\n",
       "      <td>ADAM17.AKT</td>\n",
       "      <td>85.18</td>\n",
       "      <td>6.07715</td>\n",
       "      <td>2.063913</td>\n",
       "      <td>209.48</td>\n",
       "      <td>12.9907</td>\n",
       "      <td>1.823712</td>\n",
       "      <td>47.166667</td>\n",
       "      <td>0.174388</td>\n",
       "      <td>0.000319</td>\n",
       "      <td>0.407483</td>\n",
       "      <td>2.888185</td>\n",
       "      <td>2</td>\n",
       "      <td>0.000232</td>\n",
       "      <td>0.000154</td>\n",
       "      <td>0.000193</td>\n",
       "      <td>100</td>\n",
       "      <td>1</td>\n",
       "      <td>-0.045844</td>\n",
       "      <td>0.925926</td>\n",
       "      <td>33.75</td>\n",
       "      <td>0.022739</td>\n",
       "      <td>0.000065</td>\n",
       "      <td>0.343499</td>\n",
       "      <td>0</td>\n",
       "      <td>3</td>\n",
       "      <td>0.00008</td>\n",
       "      <td>0.000003</td>\n",
       "      <td>0.000017</td>\n",
       "      <td>52.777778</td>\n",
       "      <td>19.5</td>\n",
       "      <td>17.221283</td>\n",
       "      <td>16.986108</td>\n",
       "      <td>26.759259</td>\n",
       "      <td>9.615385</td>\n",
       "      <td>60.119658</td>\n",
       "      <td>0.936001</td>\n",
       "      <td>125</td>\n",
       "      <td>0.13433</td>\n",
       "      <td>0.004867</td>\n",
       "      <td>0.322401</td>\n",
       "      <td>0.324886</td>\n",
       "      <td>2.666667</td>\n",
       "      <td>0.000188</td>\n",
       "      <td>0.000004</td>\n",
       "      <td>0.000047</td>\n",
       "      <td>61.817062</td>\n",
       "      <td>114.3333</td>\n",
       "      <td>51.00</td>\n",
       "      <td>22.283808</td>\n",
       "      <td>2.858683</td>\n",
       "    </tr>\n",
       "    <tr>\n",
       "      <th>1</th>\n",
       "      <td>CAL-120</td>\n",
       "      <td>ADAM17</td>\n",
       "      <td>AKT</td>\n",
       "      <td>1</td>\n",
       "      <td>75</td>\n",
       "      <td>0.183214</td>\n",
       "      <td>2.503678</td>\n",
       "      <td>60.411999</td>\n",
       "      <td>1.000000</td>\n",
       "      <td>0.000000</td>\n",
       "      <td>100.000000</td>\n",
       "      <td>4.401410</td>\n",
       "      <td>-1</td>\n",
       "      <td>ADAM17.AKT</td>\n",
       "      <td>85.18</td>\n",
       "      <td>6.07715</td>\n",
       "      <td>2.063913</td>\n",
       "      <td>209.48</td>\n",
       "      <td>12.9907</td>\n",
       "      <td>1.823712</td>\n",
       "      <td>47.166667</td>\n",
       "      <td>0.174388</td>\n",
       "      <td>0.000319</td>\n",
       "      <td>0.407483</td>\n",
       "      <td>2.888185</td>\n",
       "      <td>2</td>\n",
       "      <td>0.000232</td>\n",
       "      <td>0.000154</td>\n",
       "      <td>0.000193</td>\n",
       "      <td>100</td>\n",
       "      <td>1</td>\n",
       "      <td>-0.045844</td>\n",
       "      <td>0.925926</td>\n",
       "      <td>33.75</td>\n",
       "      <td>0.022739</td>\n",
       "      <td>0.000065</td>\n",
       "      <td>0.343499</td>\n",
       "      <td>0</td>\n",
       "      <td>3</td>\n",
       "      <td>0.00008</td>\n",
       "      <td>0.000003</td>\n",
       "      <td>0.000017</td>\n",
       "      <td>52.777778</td>\n",
       "      <td>19.5</td>\n",
       "      <td>17.221283</td>\n",
       "      <td>16.986108</td>\n",
       "      <td>26.759259</td>\n",
       "      <td>9.615385</td>\n",
       "      <td>60.119658</td>\n",
       "      <td>0.936001</td>\n",
       "      <td>125</td>\n",
       "      <td>0.13433</td>\n",
       "      <td>0.004867</td>\n",
       "      <td>0.322401</td>\n",
       "      <td>0.324886</td>\n",
       "      <td>2.666667</td>\n",
       "      <td>0.000188</td>\n",
       "      <td>0.000004</td>\n",
       "      <td>0.000047</td>\n",
       "      <td>61.817062</td>\n",
       "      <td>114.3333</td>\n",
       "      <td>25.11</td>\n",
       "      <td>11.340866</td>\n",
       "      <td>5.006837</td>\n",
       "    </tr>\n",
       "    <tr>\n",
       "      <th>2</th>\n",
       "      <td>CAL-51</td>\n",
       "      <td>ADAM17</td>\n",
       "      <td>AKT</td>\n",
       "      <td>1</td>\n",
       "      <td>75</td>\n",
       "      <td>1.000000</td>\n",
       "      <td>0.726984</td>\n",
       "      <td>11.150843</td>\n",
       "      <td>75.000000</td>\n",
       "      <td>0.375043</td>\n",
       "      <td>76.656479</td>\n",
       "      <td>0.315422</td>\n",
       "      <td>1</td>\n",
       "      <td>ADAM17.AKT</td>\n",
       "      <td>85.18</td>\n",
       "      <td>6.07715</td>\n",
       "      <td>2.063913</td>\n",
       "      <td>209.48</td>\n",
       "      <td>12.9907</td>\n",
       "      <td>1.823712</td>\n",
       "      <td>47.166667</td>\n",
       "      <td>0.174388</td>\n",
       "      <td>0.000319</td>\n",
       "      <td>0.407483</td>\n",
       "      <td>2.888185</td>\n",
       "      <td>2</td>\n",
       "      <td>0.000232</td>\n",
       "      <td>0.000154</td>\n",
       "      <td>0.000193</td>\n",
       "      <td>100</td>\n",
       "      <td>1</td>\n",
       "      <td>-0.045844</td>\n",
       "      <td>0.925926</td>\n",
       "      <td>33.75</td>\n",
       "      <td>0.022739</td>\n",
       "      <td>0.000065</td>\n",
       "      <td>0.343499</td>\n",
       "      <td>0</td>\n",
       "      <td>3</td>\n",
       "      <td>0.00008</td>\n",
       "      <td>0.000003</td>\n",
       "      <td>0.000017</td>\n",
       "      <td>52.777778</td>\n",
       "      <td>19.5</td>\n",
       "      <td>17.221283</td>\n",
       "      <td>16.986108</td>\n",
       "      <td>26.759259</td>\n",
       "      <td>9.615385</td>\n",
       "      <td>60.119658</td>\n",
       "      <td>0.936001</td>\n",
       "      <td>125</td>\n",
       "      <td>0.13433</td>\n",
       "      <td>0.004867</td>\n",
       "      <td>0.322401</td>\n",
       "      <td>0.324886</td>\n",
       "      <td>2.666667</td>\n",
       "      <td>0.000188</td>\n",
       "      <td>0.000004</td>\n",
       "      <td>0.000047</td>\n",
       "      <td>61.817062</td>\n",
       "      <td>114.3333</td>\n",
       "      <td>29.02</td>\n",
       "      <td>6.621544</td>\n",
       "      <td>1.655752</td>\n",
       "    </tr>\n",
       "    <tr>\n",
       "      <th>3</th>\n",
       "      <td>DU-4475</td>\n",
       "      <td>ADAM17</td>\n",
       "      <td>AKT</td>\n",
       "      <td>1</td>\n",
       "      <td>75</td>\n",
       "      <td>0.321533</td>\n",
       "      <td>10.000000</td>\n",
       "      <td>58.599487</td>\n",
       "      <td>75.000000</td>\n",
       "      <td>1.995866</td>\n",
       "      <td>6.171007</td>\n",
       "      <td>-41.734090</td>\n",
       "      <td>-1</td>\n",
       "      <td>ADAM17.AKT</td>\n",
       "      <td>85.18</td>\n",
       "      <td>6.07715</td>\n",
       "      <td>2.063913</td>\n",
       "      <td>209.48</td>\n",
       "      <td>12.9907</td>\n",
       "      <td>1.823712</td>\n",
       "      <td>47.166667</td>\n",
       "      <td>0.174388</td>\n",
       "      <td>0.000319</td>\n",
       "      <td>0.407483</td>\n",
       "      <td>2.888185</td>\n",
       "      <td>2</td>\n",
       "      <td>0.000232</td>\n",
       "      <td>0.000154</td>\n",
       "      <td>0.000193</td>\n",
       "      <td>100</td>\n",
       "      <td>1</td>\n",
       "      <td>-0.045844</td>\n",
       "      <td>0.925926</td>\n",
       "      <td>33.75</td>\n",
       "      <td>0.022739</td>\n",
       "      <td>0.000065</td>\n",
       "      <td>0.343499</td>\n",
       "      <td>0</td>\n",
       "      <td>3</td>\n",
       "      <td>0.00008</td>\n",
       "      <td>0.000003</td>\n",
       "      <td>0.000017</td>\n",
       "      <td>52.777778</td>\n",
       "      <td>19.5</td>\n",
       "      <td>17.221283</td>\n",
       "      <td>16.986108</td>\n",
       "      <td>26.759259</td>\n",
       "      <td>9.615385</td>\n",
       "      <td>60.119658</td>\n",
       "      <td>0.936001</td>\n",
       "      <td>125</td>\n",
       "      <td>0.13433</td>\n",
       "      <td>0.004867</td>\n",
       "      <td>0.322401</td>\n",
       "      <td>0.324886</td>\n",
       "      <td>2.666667</td>\n",
       "      <td>0.000188</td>\n",
       "      <td>0.000004</td>\n",
       "      <td>0.000047</td>\n",
       "      <td>61.817062</td>\n",
       "      <td>114.3333</td>\n",
       "      <td>26.20</td>\n",
       "      <td>2.471677</td>\n",
       "      <td>4.080178</td>\n",
       "    </tr>\n",
       "    <tr>\n",
       "      <th>4</th>\n",
       "      <td>HCC1143</td>\n",
       "      <td>ADAM17</td>\n",
       "      <td>AKT</td>\n",
       "      <td>1</td>\n",
       "      <td>75</td>\n",
       "      <td>0.398673</td>\n",
       "      <td>10.000000</td>\n",
       "      <td>89.098894</td>\n",
       "      <td>1.000000</td>\n",
       "      <td>0.000000</td>\n",
       "      <td>100.000000</td>\n",
       "      <td>35.532770</td>\n",
       "      <td>-1</td>\n",
       "      <td>ADAM17.AKT</td>\n",
       "      <td>85.18</td>\n",
       "      <td>6.07715</td>\n",
       "      <td>2.063913</td>\n",
       "      <td>209.48</td>\n",
       "      <td>12.9907</td>\n",
       "      <td>1.823712</td>\n",
       "      <td>47.166667</td>\n",
       "      <td>0.174388</td>\n",
       "      <td>0.000319</td>\n",
       "      <td>0.407483</td>\n",
       "      <td>2.888185</td>\n",
       "      <td>2</td>\n",
       "      <td>0.000232</td>\n",
       "      <td>0.000154</td>\n",
       "      <td>0.000193</td>\n",
       "      <td>100</td>\n",
       "      <td>1</td>\n",
       "      <td>-0.045844</td>\n",
       "      <td>0.925926</td>\n",
       "      <td>33.75</td>\n",
       "      <td>0.022739</td>\n",
       "      <td>0.000065</td>\n",
       "      <td>0.343499</td>\n",
       "      <td>0</td>\n",
       "      <td>3</td>\n",
       "      <td>0.00008</td>\n",
       "      <td>0.000003</td>\n",
       "      <td>0.000017</td>\n",
       "      <td>52.777778</td>\n",
       "      <td>19.5</td>\n",
       "      <td>17.221283</td>\n",
       "      <td>16.986108</td>\n",
       "      <td>26.759259</td>\n",
       "      <td>9.615385</td>\n",
       "      <td>60.119658</td>\n",
       "      <td>0.936001</td>\n",
       "      <td>125</td>\n",
       "      <td>0.13433</td>\n",
       "      <td>0.004867</td>\n",
       "      <td>0.322401</td>\n",
       "      <td>0.324886</td>\n",
       "      <td>2.666667</td>\n",
       "      <td>0.000188</td>\n",
       "      <td>0.000004</td>\n",
       "      <td>0.000047</td>\n",
       "      <td>61.817062</td>\n",
       "      <td>114.3333</td>\n",
       "      <td>35.06</td>\n",
       "      <td>2.247873</td>\n",
       "      <td>3.316506</td>\n",
       "    </tr>\n",
       "  </tbody>\n",
       "</table>\n",
       "</div>"
      ],
      "text/plain": [
       "  CELL_LINE COMPOUND_A COMPOUND_B  MAX_CONC_A  MAX_CONC_B    IC50_A        H_A     Einf_A     IC50_B       H_B      Einf_B  SYNERGY_SCORE  QA COMBINATION_ID  drug_len_A  drug_mean_A  drug_ste_A  drug_len_B  drug_mean_B  drug_ste_B  bg_degree  bg_clustering_coef  bg_betweenness  bg_closeness  bg_neighbor_sharing  bg_shortest_path_length  bg_eb_max  bg_eb_min  bg_eb_mean  bg_eb_fraction  bg_number_of_shortest_paths  coexpression  gene_essentiality  gi_degree  gi_clustering_coef  gi_betweenness  gi_closeness  gi_neighbor_sharing  gi_shortest_path_length  gi_eb_max  gi_eb_min  gi_eb_mean  gi_eb_fraction  gi_number_of_shortest_paths  go_all_sem_sim  go_bp_sem_sim  go_cc_sem_sim  go_mf_sem_sim  go_slim_sem_sim  phylogenic_similarity  s_degree  s_clustering_coef  s_betweenness  s_closeness  s_neighbor_sharing  s_shortest_path_length    eb_max    eb_min   eb_mean  eb_fraction  s_number_of_shortest_paths  cell_len  cell_mean  cell_ste\n",
       "0     BT-20     ADAM17        AKT           1          75  1.000000   0.809002  59.122436   9.639714  0.757977   91.593425      29.540390   1     ADAM17.AKT       85.18      6.07715    2.063913      209.48      12.9907    1.823712  47.166667            0.174388        0.000319      0.407483             2.888185                        2   0.000232   0.000154    0.000193             100                            1     -0.045844           0.925926      33.75            0.022739        0.000065      0.343499                    0                        3    0.00008   0.000003    0.000017       52.777778                         19.5       17.221283      16.986108      26.759259       9.615385        60.119658               0.936001       125            0.13433       0.004867     0.322401            0.324886                2.666667  0.000188  0.000004  0.000047    61.817062                    114.3333     51.00  22.283808  2.858683\n",
       "1   CAL-120     ADAM17        AKT           1          75  0.183214   2.503678  60.411999   1.000000  0.000000  100.000000       4.401410  -1     ADAM17.AKT       85.18      6.07715    2.063913      209.48      12.9907    1.823712  47.166667            0.174388        0.000319      0.407483             2.888185                        2   0.000232   0.000154    0.000193             100                            1     -0.045844           0.925926      33.75            0.022739        0.000065      0.343499                    0                        3    0.00008   0.000003    0.000017       52.777778                         19.5       17.221283      16.986108      26.759259       9.615385        60.119658               0.936001       125            0.13433       0.004867     0.322401            0.324886                2.666667  0.000188  0.000004  0.000047    61.817062                    114.3333     25.11  11.340866  5.006837\n",
       "2    CAL-51     ADAM17        AKT           1          75  1.000000   0.726984  11.150843  75.000000  0.375043   76.656479       0.315422   1     ADAM17.AKT       85.18      6.07715    2.063913      209.48      12.9907    1.823712  47.166667            0.174388        0.000319      0.407483             2.888185                        2   0.000232   0.000154    0.000193             100                            1     -0.045844           0.925926      33.75            0.022739        0.000065      0.343499                    0                        3    0.00008   0.000003    0.000017       52.777778                         19.5       17.221283      16.986108      26.759259       9.615385        60.119658               0.936001       125            0.13433       0.004867     0.322401            0.324886                2.666667  0.000188  0.000004  0.000047    61.817062                    114.3333     29.02   6.621544  1.655752\n",
       "3   DU-4475     ADAM17        AKT           1          75  0.321533  10.000000  58.599487  75.000000  1.995866    6.171007     -41.734090  -1     ADAM17.AKT       85.18      6.07715    2.063913      209.48      12.9907    1.823712  47.166667            0.174388        0.000319      0.407483             2.888185                        2   0.000232   0.000154    0.000193             100                            1     -0.045844           0.925926      33.75            0.022739        0.000065      0.343499                    0                        3    0.00008   0.000003    0.000017       52.777778                         19.5       17.221283      16.986108      26.759259       9.615385        60.119658               0.936001       125            0.13433       0.004867     0.322401            0.324886                2.666667  0.000188  0.000004  0.000047    61.817062                    114.3333     26.20   2.471677  4.080178\n",
       "4   HCC1143     ADAM17        AKT           1          75  0.398673  10.000000  89.098894   1.000000  0.000000  100.000000      35.532770  -1     ADAM17.AKT       85.18      6.07715    2.063913      209.48      12.9907    1.823712  47.166667            0.174388        0.000319      0.407483             2.888185                        2   0.000232   0.000154    0.000193             100                            1     -0.045844           0.925926      33.75            0.022739        0.000065      0.343499                    0                        3    0.00008   0.000003    0.000017       52.777778                         19.5       17.221283      16.986108      26.759259       9.615385        60.119658               0.936001       125            0.13433       0.004867     0.322401            0.324886                2.666667  0.000188  0.000004  0.000047    61.817062                    114.3333     35.06   2.247873  3.316506"
      ]
     },
     "execution_count": 62,
     "metadata": {},
     "output_type": "execute_result"
    }
   ],
   "source": [
    "main_df.head()"
   ]
  },
  {
   "cell_type": "code",
   "execution_count": null,
   "metadata": {
    "collapsed": true
   },
   "outputs": [],
   "source": []
  },
  {
   "cell_type": "code",
   "execution_count": 31,
   "metadata": {
    "collapsed": false,
    "run_control": {
     "marked": false
    }
   },
   "outputs": [
    {
     "data": {
      "text/plain": [
       "{'PIK3CB_PIK3CD.PIK3CB_PIK3CD', 'PIK3C_2.PIK3CA_4'}"
      ]
     },
     "execution_count": 31,
     "metadata": {},
     "output_type": "execute_result"
    }
   ],
   "source": [
    "set(synergy_score['unique_id']) - set(original_target_features['unique_id'])"
   ]
  },
  {
   "cell_type": "code",
   "execution_count": 27,
   "metadata": {
    "collapsed": false
   },
   "outputs": [
    {
     "data": {
      "text/plain": [
       "(167, 46)"
      ]
     },
     "execution_count": 27,
     "metadata": {},
     "output_type": "execute_result"
    }
   ],
   "source": [
    "original_target_features.shape"
   ]
  },
  {
   "cell_type": "code",
   "execution_count": 35,
   "metadata": {
    "collapsed": false,
    "run_control": {
     "marked": false
    },
    "scrolled": true
   },
   "outputs": [
    {
     "data": {
      "text/html": [
       "<div>\n",
       "<table border=\"1\" class=\"dataframe\">\n",
       "  <thead>\n",
       "    <tr style=\"text-align: right;\">\n",
       "      <th></th>\n",
       "      <th>unique_id</th>\n",
       "      <th>bg_degree</th>\n",
       "      <th>bg_clustering_coef</th>\n",
       "      <th>bg_betweenness</th>\n",
       "      <th>bg_closeness</th>\n",
       "      <th>bg_neighbor_sharing</th>\n",
       "      <th>bg_shortest_path_length</th>\n",
       "      <th>bg_eb_max</th>\n",
       "      <th>bg_eb_min</th>\n",
       "      <th>bg_eb_mean</th>\n",
       "      <th>bg_eb_fraction</th>\n",
       "      <th>bg_number_of_shortest_paths</th>\n",
       "      <th>coexpression</th>\n",
       "      <th>gene_essentiality</th>\n",
       "      <th>gi_degree</th>\n",
       "      <th>gi_clustering_coef</th>\n",
       "      <th>gi_betweenness</th>\n",
       "      <th>gi_closeness</th>\n",
       "      <th>gi_neighbor_sharing</th>\n",
       "      <th>gi_shortest_path_length</th>\n",
       "      <th>gi_eb_max</th>\n",
       "      <th>gi_eb_min</th>\n",
       "      <th>gi_eb_mean</th>\n",
       "      <th>gi_eb_fraction</th>\n",
       "      <th>gi_number_of_shortest_paths</th>\n",
       "      <th>go_all_sem_sim</th>\n",
       "      <th>go_bp_sem_sim</th>\n",
       "      <th>go_cc_sem_sim</th>\n",
       "      <th>go_mf_sem_sim</th>\n",
       "      <th>go_slim_sem_sim</th>\n",
       "      <th>phylogenic_similarity</th>\n",
       "      <th>s_degree</th>\n",
       "      <th>s_clustering_coef</th>\n",
       "      <th>s_betweenness</th>\n",
       "      <th>s_closeness</th>\n",
       "      <th>s_neighbor_sharing</th>\n",
       "      <th>s_shortest_path_length</th>\n",
       "      <th>eb_max</th>\n",
       "      <th>eb_min</th>\n",
       "      <th>eb_mean</th>\n",
       "      <th>eb_fraction</th>\n",
       "      <th>s_number_of_shortest_paths</th>\n",
       "      <th>synergy_score_mean</th>\n",
       "      <th>synergy_score_std</th>\n",
       "      <th>synergy_score_ste</th>\n",
       "      <th>synergy_score_confidence</th>\n",
       "    </tr>\n",
       "  </thead>\n",
       "  <tbody>\n",
       "    <tr>\n",
       "      <th>0</th>\n",
       "      <td>ADAM17.AKT</td>\n",
       "      <td>47.166667</td>\n",
       "      <td>0.174388</td>\n",
       "      <td>0.000319</td>\n",
       "      <td>0.407483</td>\n",
       "      <td>2.888185</td>\n",
       "      <td>2.000000</td>\n",
       "      <td>0.000232</td>\n",
       "      <td>0.000154</td>\n",
       "      <td>0.000193</td>\n",
       "      <td>100.000000</td>\n",
       "      <td>1</td>\n",
       "      <td>-0.045844</td>\n",
       "      <td>0.925926</td>\n",
       "      <td>33.75</td>\n",
       "      <td>0.022739</td>\n",
       "      <td>0.000065</td>\n",
       "      <td>0.343499</td>\n",
       "      <td>0.000000</td>\n",
       "      <td>3.000000</td>\n",
       "      <td>0.000080</td>\n",
       "      <td>0.000003</td>\n",
       "      <td>0.000017</td>\n",
       "      <td>52.777778</td>\n",
       "      <td>19.5000</td>\n",
       "      <td>17.221283</td>\n",
       "      <td>16.986108</td>\n",
       "      <td>26.759259</td>\n",
       "      <td>9.615385</td>\n",
       "      <td>60.119658</td>\n",
       "      <td>0.936001</td>\n",
       "      <td>125.00</td>\n",
       "      <td>0.134330</td>\n",
       "      <td>0.004867</td>\n",
       "      <td>0.322401</td>\n",
       "      <td>0.324886</td>\n",
       "      <td>2.666667</td>\n",
       "      <td>0.000188</td>\n",
       "      <td>0.000004</td>\n",
       "      <td>0.000047</td>\n",
       "      <td>61.817062</td>\n",
       "      <td>114.3333</td>\n",
       "      <td>9.506099</td>\n",
       "      <td>18.090624</td>\n",
       "      <td>4.834923</td>\n",
       "      <td>0.625596</td>\n",
       "    </tr>\n",
       "    <tr>\n",
       "      <th>1</th>\n",
       "      <td>ADAM17.BCL2_BCL2L1</td>\n",
       "      <td>44.500000</td>\n",
       "      <td>0.159947</td>\n",
       "      <td>0.000258</td>\n",
       "      <td>0.404494</td>\n",
       "      <td>1.145833</td>\n",
       "      <td>2.000000</td>\n",
       "      <td>0.000265</td>\n",
       "      <td>0.000172</td>\n",
       "      <td>0.000218</td>\n",
       "      <td>100.000000</td>\n",
       "      <td>1</td>\n",
       "      <td>0.025084</td>\n",
       "      <td>1.000000</td>\n",
       "      <td>17.50</td>\n",
       "      <td>0.013199</td>\n",
       "      <td>0.000014</td>\n",
       "      <td>0.310930</td>\n",
       "      <td>1.136364</td>\n",
       "      <td>3.000000</td>\n",
       "      <td>0.000067</td>\n",
       "      <td>0.000015</td>\n",
       "      <td>0.000036</td>\n",
       "      <td>50.000000</td>\n",
       "      <td>1.0000</td>\n",
       "      <td>17.109842</td>\n",
       "      <td>16.724988</td>\n",
       "      <td>23.169399</td>\n",
       "      <td>10.533611</td>\n",
       "      <td>58.812261</td>\n",
       "      <td>0.915161</td>\n",
       "      <td>64.50</td>\n",
       "      <td>0.144877</td>\n",
       "      <td>0.000716</td>\n",
       "      <td>0.319885</td>\n",
       "      <td>1.594176</td>\n",
       "      <td>2.000000</td>\n",
       "      <td>0.000040</td>\n",
       "      <td>0.000014</td>\n",
       "      <td>0.000026</td>\n",
       "      <td>75.000000</td>\n",
       "      <td>2.0000</td>\n",
       "      <td>-3.439654</td>\n",
       "      <td>5.543807</td>\n",
       "      <td>1.600359</td>\n",
       "      <td>0.999478</td>\n",
       "    </tr>\n",
       "    <tr>\n",
       "      <th>2</th>\n",
       "      <td>ADAM17.FGFR</td>\n",
       "      <td>19.000000</td>\n",
       "      <td>0.187583</td>\n",
       "      <td>0.000173</td>\n",
       "      <td>0.390301</td>\n",
       "      <td>2.050326</td>\n",
       "      <td>2.333333</td>\n",
       "      <td>0.001000</td>\n",
       "      <td>0.000087</td>\n",
       "      <td>0.000145</td>\n",
       "      <td>78.688525</td>\n",
       "      <td>12</td>\n",
       "      <td>-0.122111</td>\n",
       "      <td>1.000000</td>\n",
       "      <td>41.00</td>\n",
       "      <td>0.023076</td>\n",
       "      <td>0.000082</td>\n",
       "      <td>0.347702</td>\n",
       "      <td>0.396825</td>\n",
       "      <td>2.666667</td>\n",
       "      <td>0.000047</td>\n",
       "      <td>0.000007</td>\n",
       "      <td>0.000017</td>\n",
       "      <td>56.517178</td>\n",
       "      <td>15.3333</td>\n",
       "      <td>15.101680</td>\n",
       "      <td>13.372361</td>\n",
       "      <td>43.928571</td>\n",
       "      <td>7.752535</td>\n",
       "      <td>51.766709</td>\n",
       "      <td>0.941983</td>\n",
       "      <td>53.00</td>\n",
       "      <td>0.130801</td>\n",
       "      <td>0.000341</td>\n",
       "      <td>0.308658</td>\n",
       "      <td>2.259197</td>\n",
       "      <td>2.000000</td>\n",
       "      <td>0.000041</td>\n",
       "      <td>0.000004</td>\n",
       "      <td>0.000019</td>\n",
       "      <td>33.333333</td>\n",
       "      <td>2.3333</td>\n",
       "      <td>-4.934241</td>\n",
       "      <td>17.415001</td>\n",
       "      <td>4.830052</td>\n",
       "      <td>0.625937</td>\n",
       "    </tr>\n",
       "    <tr>\n",
       "      <th>3</th>\n",
       "      <td>ADAM17.MAP2K_1</td>\n",
       "      <td>20.250000</td>\n",
       "      <td>0.233519</td>\n",
       "      <td>0.000089</td>\n",
       "      <td>0.402206</td>\n",
       "      <td>5.787037</td>\n",
       "      <td>2.000000</td>\n",
       "      <td>0.000172</td>\n",
       "      <td>0.000004</td>\n",
       "      <td>0.000077</td>\n",
       "      <td>50.000000</td>\n",
       "      <td>2</td>\n",
       "      <td>-0.038025</td>\n",
       "      <td>0.666667</td>\n",
       "      <td>31.25</td>\n",
       "      <td>0.013773</td>\n",
       "      <td>0.000139</td>\n",
       "      <td>0.334289</td>\n",
       "      <td>0.000000</td>\n",
       "      <td>3.000000</td>\n",
       "      <td>0.000054</td>\n",
       "      <td>0.000009</td>\n",
       "      <td>0.000025</td>\n",
       "      <td>93.333333</td>\n",
       "      <td>8.5000</td>\n",
       "      <td>13.823505</td>\n",
       "      <td>13.357673</td>\n",
       "      <td>22.745098</td>\n",
       "      <td>9.072250</td>\n",
       "      <td>60.714286</td>\n",
       "      <td>0.890365</td>\n",
       "      <td>42.25</td>\n",
       "      <td>0.182964</td>\n",
       "      <td>0.000209</td>\n",
       "      <td>0.308808</td>\n",
       "      <td>1.838731</td>\n",
       "      <td>2.000000</td>\n",
       "      <td>0.000020</td>\n",
       "      <td>0.000014</td>\n",
       "      <td>0.000018</td>\n",
       "      <td>87.500000</td>\n",
       "      <td>1.5000</td>\n",
       "      <td>-1.658434</td>\n",
       "      <td>16.004816</td>\n",
       "      <td>4.438937</td>\n",
       "      <td>0.654492</td>\n",
       "    </tr>\n",
       "    <tr>\n",
       "      <th>4</th>\n",
       "      <td>ADAM17.MTOR_1</td>\n",
       "      <td>45.500000</td>\n",
       "      <td>0.173892</td>\n",
       "      <td>0.000338</td>\n",
       "      <td>0.405022</td>\n",
       "      <td>2.272727</td>\n",
       "      <td>2.000000</td>\n",
       "      <td>0.000341</td>\n",
       "      <td>0.000003</td>\n",
       "      <td>0.000130</td>\n",
       "      <td>50.000000</td>\n",
       "      <td>2</td>\n",
       "      <td>0.057604</td>\n",
       "      <td>1.000000</td>\n",
       "      <td>35.50</td>\n",
       "      <td>0.015109</td>\n",
       "      <td>0.000073</td>\n",
       "      <td>0.342130</td>\n",
       "      <td>1.428571</td>\n",
       "      <td>2.000000</td>\n",
       "      <td>0.000007</td>\n",
       "      <td>0.000006</td>\n",
       "      <td>0.000007</td>\n",
       "      <td>0.000000</td>\n",
       "      <td>1.0000</td>\n",
       "      <td>18.340611</td>\n",
       "      <td>19.774011</td>\n",
       "      <td>15.873016</td>\n",
       "      <td>9.756098</td>\n",
       "      <td>69.230769</td>\n",
       "      <td>0.799299</td>\n",
       "      <td>88.00</td>\n",
       "      <td>0.131468</td>\n",
       "      <td>0.001604</td>\n",
       "      <td>0.321192</td>\n",
       "      <td>1.149425</td>\n",
       "      <td>2.000000</td>\n",
       "      <td>0.000085</td>\n",
       "      <td>0.000012</td>\n",
       "      <td>0.000041</td>\n",
       "      <td>75.000000</td>\n",
       "      <td>2.0000</td>\n",
       "      <td>9.511901</td>\n",
       "      <td>17.444983</td>\n",
       "      <td>4.662368</td>\n",
       "      <td>0.637885</td>\n",
       "    </tr>\n",
       "  </tbody>\n",
       "</table>\n",
       "</div>"
      ],
      "text/plain": [
       "            unique_id  bg_degree  bg_clustering_coef  bg_betweenness  bg_closeness  bg_neighbor_sharing  bg_shortest_path_length  bg_eb_max  bg_eb_min  bg_eb_mean  bg_eb_fraction  bg_number_of_shortest_paths  coexpression  gene_essentiality  gi_degree  gi_clustering_coef  gi_betweenness  gi_closeness  gi_neighbor_sharing  gi_shortest_path_length  gi_eb_max  gi_eb_min  gi_eb_mean  gi_eb_fraction  gi_number_of_shortest_paths  go_all_sem_sim  go_bp_sem_sim  go_cc_sem_sim  go_mf_sem_sim  go_slim_sem_sim  phylogenic_similarity  s_degree  s_clustering_coef  s_betweenness  s_closeness  s_neighbor_sharing  s_shortest_path_length    eb_max    eb_min   eb_mean  eb_fraction  s_number_of_shortest_paths  synergy_score_mean  synergy_score_std  synergy_score_ste  synergy_score_confidence\n",
       "0          ADAM17.AKT  47.166667            0.174388        0.000319      0.407483             2.888185                 2.000000   0.000232   0.000154    0.000193      100.000000                            1     -0.045844           0.925926      33.75            0.022739        0.000065      0.343499             0.000000                 3.000000   0.000080   0.000003    0.000017       52.777778                      19.5000       17.221283      16.986108      26.759259       9.615385        60.119658               0.936001    125.00           0.134330       0.004867     0.322401            0.324886                2.666667  0.000188  0.000004  0.000047    61.817062                    114.3333            9.506099          18.090624           4.834923                  0.625596\n",
       "1  ADAM17.BCL2_BCL2L1  44.500000            0.159947        0.000258      0.404494             1.145833                 2.000000   0.000265   0.000172    0.000218      100.000000                            1      0.025084           1.000000      17.50            0.013199        0.000014      0.310930             1.136364                 3.000000   0.000067   0.000015    0.000036       50.000000                       1.0000       17.109842      16.724988      23.169399      10.533611        58.812261               0.915161     64.50           0.144877       0.000716     0.319885            1.594176                2.000000  0.000040  0.000014  0.000026    75.000000                      2.0000           -3.439654           5.543807           1.600359                  0.999478\n",
       "2         ADAM17.FGFR  19.000000            0.187583        0.000173      0.390301             2.050326                 2.333333   0.001000   0.000087    0.000145       78.688525                           12     -0.122111           1.000000      41.00            0.023076        0.000082      0.347702             0.396825                 2.666667   0.000047   0.000007    0.000017       56.517178                      15.3333       15.101680      13.372361      43.928571       7.752535        51.766709               0.941983     53.00           0.130801       0.000341     0.308658            2.259197                2.000000  0.000041  0.000004  0.000019    33.333333                      2.3333           -4.934241          17.415001           4.830052                  0.625937\n",
       "3      ADAM17.MAP2K_1  20.250000            0.233519        0.000089      0.402206             5.787037                 2.000000   0.000172   0.000004    0.000077       50.000000                            2     -0.038025           0.666667      31.25            0.013773        0.000139      0.334289             0.000000                 3.000000   0.000054   0.000009    0.000025       93.333333                       8.5000       13.823505      13.357673      22.745098       9.072250        60.714286               0.890365     42.25           0.182964       0.000209     0.308808            1.838731                2.000000  0.000020  0.000014  0.000018    87.500000                      1.5000           -1.658434          16.004816           4.438937                  0.654492\n",
       "4       ADAM17.MTOR_1  45.500000            0.173892        0.000338      0.405022             2.272727                 2.000000   0.000341   0.000003    0.000130       50.000000                            2      0.057604           1.000000      35.50            0.015109        0.000073      0.342130             1.428571                 2.000000   0.000007   0.000006    0.000007        0.000000                       1.0000       18.340611      19.774011      15.873016       9.756098        69.230769               0.799299     88.00           0.131468       0.001604     0.321192            1.149425                2.000000  0.000085  0.000012  0.000041    75.000000                      2.0000            9.511901          17.444983           4.662368                  0.637885"
      ]
     },
     "execution_count": 35,
     "metadata": {},
     "output_type": "execute_result"
    }
   ],
   "source": [
    "original_target_features.head()"
   ]
  },
  {
   "cell_type": "markdown",
   "metadata": {},
   "source": [
    "## Correlations"
   ]
  },
  {
   "cell_type": "code",
   "execution_count": 66,
   "metadata": {
    "collapsed": true
   },
   "outputs": [],
   "source": [
    "df = (\n",
    "    training_gby_drugpair\n",
    "    .merge(\n",
    "        original_target_features\n",
    "        .rename(columns={'unique_id': 'COMBINATION_ID'}),\n",
    "        on=['COMBINATION_ID'], how='left')\n",
    ")"
   ]
  },
  {
   "cell_type": "code",
   "execution_count": 69,
   "metadata": {
    "collapsed": false
   },
   "outputs": [
    {
     "data": {
      "text/plain": [
       "gi_clustering_coef            -0.251784\n",
       "bg_shortest_path_length       -0.205072\n",
       "bg_number_of_shortest_paths   -0.197846\n",
       "CONFIDENCE                    -0.185712\n",
       "bg_eb_fraction                -0.165597\n",
       "eb_fraction                   -0.138419\n",
       "s_clustering_coef             -0.124294\n",
       "s_shortest_path_length        -0.118947\n",
       "bg_eb_mean                    -0.105247\n",
       "gi_closeness                  -0.102902\n",
       "bg_eb_min                     -0.100183\n",
       "bg_eb_max                     -0.088536\n",
       "eb_mean                       -0.070064\n",
       "s_degree                      -0.066076\n",
       "gi_number_of_shortest_paths   -0.061196\n",
       "bg_betweenness                -0.047994\n",
       "eb_min                        -0.041822\n",
       "bg_clustering_coef            -0.037985\n",
       "s_number_of_shortest_paths    -0.029343\n",
       "bg_degree                     -0.028982\n",
       "coexpression                  -0.025363\n",
       "gene_essentiality             -0.013426\n",
       "gi_neighbor_sharing           -0.012825\n",
       "s_betweenness                  0.003695\n",
       "eb_max                         0.015606\n",
       "gi_degree                      0.028927\n",
       "bg_closeness                   0.030986\n",
       "s_closeness                    0.037560\n",
       "STE                            0.061761\n",
       "s_neighbor_sharing             0.074374\n",
       "go_cc_sem_sim                  0.080433\n",
       "gi_betweenness                 0.082318\n",
       "gi_shortest_path_length        0.087300\n",
       "go_bp_sem_sim                  0.104739\n",
       "phylogenic_similarity          0.106936\n",
       "go_all_sem_sim                 0.110342\n",
       "go_mf_sem_sim                  0.110907\n",
       "bg_neighbor_sharing            0.113132\n",
       "go_slim_sem_sim                0.124001\n",
       "gi_eb_min                      0.127821\n",
       "gi_eb_mean                     0.132458\n",
       "gi_eb_max                      0.188031\n",
       "LEN_UNWEIGHTED                 0.197650\n",
       "LEN                            0.201812\n",
       "gi_eb_fraction                 0.204374\n",
       "STE_UNWEIGHTED                 0.223210\n",
       "STD_UNWEIGHTED                 0.235848\n",
       "MEAN_UNWEIGHTED                0.356626\n",
       "STD                            0.440003\n",
       "MEAN                           1.000000\n",
       "Name: MEAN, dtype: float64"
      ]
     },
     "execution_count": 69,
     "metadata": {},
     "output_type": "execute_result"
    }
   ],
   "source": [
    "df.corr()['MEAN'].sort_values()"
   ]
  },
  {
   "cell_type": "code",
   "execution_count": null,
   "metadata": {
    "collapsed": true
   },
   "outputs": [],
   "source": []
  },
  {
   "cell_type": "markdown",
   "metadata": {},
   "source": [
    "# Cell line features"
   ]
  },
  {
   "cell_type": "code",
   "execution_count": null,
   "metadata": {
    "collapsed": true
   },
   "outputs": [],
   "source": []
  },
  {
   "cell_type": "code",
   "execution_count": 529,
   "metadata": {
    "code_folding": [
     0
    ],
    "collapsed": false,
    "run_control": {
     "marked": false
    }
   },
   "outputs": [
    {
     "ename": "KeyError",
     "evalue": "'CELL_LINE'",
     "output_type": "error",
     "traceback": [
      "\u001b[1;31m---------------------------------------------------------------------------\u001b[0m",
      "\u001b[1;31mKeyError\u001b[0m                                  Traceback (most recent call last)",
      "\u001b[1;32m<ipython-input-529-69a685789ede>\u001b[0m in \u001b[0;36m<module>\u001b[1;34m()\u001b[0m\n\u001b[0;32m     10\u001b[0m                 \u001b[1;34m'STE'\u001b[0m\u001b[1;33m:\u001b[0m \u001b[1;34m'cell_ste'\u001b[0m\u001b[1;33m,\u001b[0m\u001b[1;33m\u001b[0m\u001b[0m\n\u001b[0;32m     11\u001b[0m             }),\n\u001b[1;32m---> 12\u001b[1;33m         on=['CELL_LINE'], how='left')\n\u001b[0m\u001b[0;32m     13\u001b[0m )\n",
      "\u001b[1;32m/home/kimlab1/strokach/anaconda3/lib/python3.5/site-packages/pandas/core/frame.py\u001b[0m in \u001b[0;36mmerge\u001b[1;34m(self, right, how, on, left_on, right_on, left_index, right_index, sort, suffixes, copy, indicator)\u001b[0m\n\u001b[0;32m   4328\u001b[0m                      \u001b[0mleft_on\u001b[0m\u001b[1;33m=\u001b[0m\u001b[0mleft_on\u001b[0m\u001b[1;33m,\u001b[0m \u001b[0mright_on\u001b[0m\u001b[1;33m=\u001b[0m\u001b[0mright_on\u001b[0m\u001b[1;33m,\u001b[0m\u001b[1;33m\u001b[0m\u001b[0m\n\u001b[0;32m   4329\u001b[0m                      \u001b[0mleft_index\u001b[0m\u001b[1;33m=\u001b[0m\u001b[0mleft_index\u001b[0m\u001b[1;33m,\u001b[0m \u001b[0mright_index\u001b[0m\u001b[1;33m=\u001b[0m\u001b[0mright_index\u001b[0m\u001b[1;33m,\u001b[0m \u001b[0msort\u001b[0m\u001b[1;33m=\u001b[0m\u001b[0msort\u001b[0m\u001b[1;33m,\u001b[0m\u001b[1;33m\u001b[0m\u001b[0m\n\u001b[1;32m-> 4330\u001b[1;33m                      suffixes=suffixes, copy=copy, indicator=indicator)\n\u001b[0m\u001b[0;32m   4331\u001b[0m \u001b[1;33m\u001b[0m\u001b[0m\n\u001b[0;32m   4332\u001b[0m     \u001b[1;32mdef\u001b[0m \u001b[0mround\u001b[0m\u001b[1;33m(\u001b[0m\u001b[0mself\u001b[0m\u001b[1;33m,\u001b[0m \u001b[0mdecimals\u001b[0m\u001b[1;33m=\u001b[0m\u001b[1;36m0\u001b[0m\u001b[1;33m,\u001b[0m \u001b[0mout\u001b[0m\u001b[1;33m=\u001b[0m\u001b[1;32mNone\u001b[0m\u001b[1;33m)\u001b[0m\u001b[1;33m:\u001b[0m\u001b[1;33m\u001b[0m\u001b[0m\n",
      "\u001b[1;32m/home/kimlab1/strokach/anaconda3/lib/python3.5/site-packages/pandas/tools/merge.py\u001b[0m in \u001b[0;36mmerge\u001b[1;34m(left, right, how, on, left_on, right_on, left_index, right_index, sort, suffixes, copy, indicator)\u001b[0m\n\u001b[0;32m     32\u001b[0m                          \u001b[0mright_on\u001b[0m\u001b[1;33m=\u001b[0m\u001b[0mright_on\u001b[0m\u001b[1;33m,\u001b[0m \u001b[0mleft_index\u001b[0m\u001b[1;33m=\u001b[0m\u001b[0mleft_index\u001b[0m\u001b[1;33m,\u001b[0m\u001b[1;33m\u001b[0m\u001b[0m\n\u001b[0;32m     33\u001b[0m                          \u001b[0mright_index\u001b[0m\u001b[1;33m=\u001b[0m\u001b[0mright_index\u001b[0m\u001b[1;33m,\u001b[0m \u001b[0msort\u001b[0m\u001b[1;33m=\u001b[0m\u001b[0msort\u001b[0m\u001b[1;33m,\u001b[0m \u001b[0msuffixes\u001b[0m\u001b[1;33m=\u001b[0m\u001b[0msuffixes\u001b[0m\u001b[1;33m,\u001b[0m\u001b[1;33m\u001b[0m\u001b[0m\n\u001b[1;32m---> 34\u001b[1;33m                          copy=copy, indicator=indicator)\n\u001b[0m\u001b[0;32m     35\u001b[0m     \u001b[1;32mreturn\u001b[0m \u001b[0mop\u001b[0m\u001b[1;33m.\u001b[0m\u001b[0mget_result\u001b[0m\u001b[1;33m(\u001b[0m\u001b[1;33m)\u001b[0m\u001b[1;33m\u001b[0m\u001b[0m\n\u001b[0;32m     36\u001b[0m \u001b[1;32mif\u001b[0m \u001b[0m__debug__\u001b[0m\u001b[1;33m:\u001b[0m\u001b[1;33m\u001b[0m\u001b[0m\n",
      "\u001b[1;32m/home/kimlab1/strokach/anaconda3/lib/python3.5/site-packages/pandas/tools/merge.py\u001b[0m in \u001b[0;36m__init__\u001b[1;34m(self, left, right, how, on, left_on, right_on, axis, left_index, right_index, sort, suffixes, copy, indicator)\u001b[0m\n\u001b[0;32m    188\u001b[0m         (self.left_join_keys,\n\u001b[0;32m    189\u001b[0m          \u001b[0mself\u001b[0m\u001b[1;33m.\u001b[0m\u001b[0mright_join_keys\u001b[0m\u001b[1;33m,\u001b[0m\u001b[1;33m\u001b[0m\u001b[0m\n\u001b[1;32m--> 190\u001b[1;33m          self.join_names) = self._get_merge_keys()\n\u001b[0m\u001b[0;32m    191\u001b[0m \u001b[1;33m\u001b[0m\u001b[0m\n\u001b[0;32m    192\u001b[0m     \u001b[1;32mdef\u001b[0m \u001b[0mget_result\u001b[0m\u001b[1;33m(\u001b[0m\u001b[0mself\u001b[0m\u001b[1;33m)\u001b[0m\u001b[1;33m:\u001b[0m\u001b[1;33m\u001b[0m\u001b[0m\n",
      "\u001b[1;32m/home/kimlab1/strokach/anaconda3/lib/python3.5/site-packages/pandas/tools/merge.py\u001b[0m in \u001b[0;36m_get_merge_keys\u001b[1;34m(self)\u001b[0m\n\u001b[0;32m    410\u001b[0m                     \u001b[1;32melse\u001b[0m\u001b[1;33m:\u001b[0m\u001b[1;33m\u001b[0m\u001b[0m\n\u001b[0;32m    411\u001b[0m                         \u001b[0mright_keys\u001b[0m\u001b[1;33m.\u001b[0m\u001b[0mappend\u001b[0m\u001b[1;33m(\u001b[0m\u001b[0mrk\u001b[0m\u001b[1;33m)\u001b[0m\u001b[1;33m\u001b[0m\u001b[0m\n\u001b[1;32m--> 412\u001b[1;33m                     \u001b[0mleft_keys\u001b[0m\u001b[1;33m.\u001b[0m\u001b[0mappend\u001b[0m\u001b[1;33m(\u001b[0m\u001b[0mleft\u001b[0m\u001b[1;33m[\u001b[0m\u001b[0mlk\u001b[0m\u001b[1;33m]\u001b[0m\u001b[1;33m.\u001b[0m\u001b[0m_values\u001b[0m\u001b[1;33m)\u001b[0m\u001b[1;33m\u001b[0m\u001b[0m\n\u001b[0m\u001b[0;32m    413\u001b[0m                     \u001b[0mjoin_names\u001b[0m\u001b[1;33m.\u001b[0m\u001b[0mappend\u001b[0m\u001b[1;33m(\u001b[0m\u001b[0mlk\u001b[0m\u001b[1;33m)\u001b[0m\u001b[1;33m\u001b[0m\u001b[0m\n\u001b[0;32m    414\u001b[0m         \u001b[1;32melif\u001b[0m \u001b[0m_any\u001b[0m\u001b[1;33m(\u001b[0m\u001b[0mself\u001b[0m\u001b[1;33m.\u001b[0m\u001b[0mleft_on\u001b[0m\u001b[1;33m)\u001b[0m\u001b[1;33m:\u001b[0m\u001b[1;33m\u001b[0m\u001b[0m\n",
      "\u001b[1;32m/home/kimlab1/strokach/anaconda3/lib/python3.5/site-packages/pandas/core/frame.py\u001b[0m in \u001b[0;36m__getitem__\u001b[1;34m(self, key)\u001b[0m\n\u001b[0;32m   1967\u001b[0m             \u001b[1;32mreturn\u001b[0m \u001b[0mself\u001b[0m\u001b[1;33m.\u001b[0m\u001b[0m_getitem_multilevel\u001b[0m\u001b[1;33m(\u001b[0m\u001b[0mkey\u001b[0m\u001b[1;33m)\u001b[0m\u001b[1;33m\u001b[0m\u001b[0m\n\u001b[0;32m   1968\u001b[0m         \u001b[1;32melse\u001b[0m\u001b[1;33m:\u001b[0m\u001b[1;33m\u001b[0m\u001b[0m\n\u001b[1;32m-> 1969\u001b[1;33m             \u001b[1;32mreturn\u001b[0m \u001b[0mself\u001b[0m\u001b[1;33m.\u001b[0m\u001b[0m_getitem_column\u001b[0m\u001b[1;33m(\u001b[0m\u001b[0mkey\u001b[0m\u001b[1;33m)\u001b[0m\u001b[1;33m\u001b[0m\u001b[0m\n\u001b[0m\u001b[0;32m   1970\u001b[0m \u001b[1;33m\u001b[0m\u001b[0m\n\u001b[0;32m   1971\u001b[0m     \u001b[1;32mdef\u001b[0m \u001b[0m_getitem_column\u001b[0m\u001b[1;33m(\u001b[0m\u001b[0mself\u001b[0m\u001b[1;33m,\u001b[0m \u001b[0mkey\u001b[0m\u001b[1;33m)\u001b[0m\u001b[1;33m:\u001b[0m\u001b[1;33m\u001b[0m\u001b[0m\n",
      "\u001b[1;32m/home/kimlab1/strokach/anaconda3/lib/python3.5/site-packages/pandas/core/frame.py\u001b[0m in \u001b[0;36m_getitem_column\u001b[1;34m(self, key)\u001b[0m\n\u001b[0;32m   1974\u001b[0m         \u001b[1;31m# get column\u001b[0m\u001b[1;33m\u001b[0m\u001b[1;33m\u001b[0m\u001b[0m\n\u001b[0;32m   1975\u001b[0m         \u001b[1;32mif\u001b[0m \u001b[0mself\u001b[0m\u001b[1;33m.\u001b[0m\u001b[0mcolumns\u001b[0m\u001b[1;33m.\u001b[0m\u001b[0mis_unique\u001b[0m\u001b[1;33m:\u001b[0m\u001b[1;33m\u001b[0m\u001b[0m\n\u001b[1;32m-> 1976\u001b[1;33m             \u001b[1;32mreturn\u001b[0m \u001b[0mself\u001b[0m\u001b[1;33m.\u001b[0m\u001b[0m_get_item_cache\u001b[0m\u001b[1;33m(\u001b[0m\u001b[0mkey\u001b[0m\u001b[1;33m)\u001b[0m\u001b[1;33m\u001b[0m\u001b[0m\n\u001b[0m\u001b[0;32m   1977\u001b[0m \u001b[1;33m\u001b[0m\u001b[0m\n\u001b[0;32m   1978\u001b[0m         \u001b[1;31m# duplicate columns & possible reduce dimensionality\u001b[0m\u001b[1;33m\u001b[0m\u001b[1;33m\u001b[0m\u001b[0m\n",
      "\u001b[1;32m/home/kimlab1/strokach/anaconda3/lib/python3.5/site-packages/pandas/core/generic.py\u001b[0m in \u001b[0;36m_get_item_cache\u001b[1;34m(self, item)\u001b[0m\n\u001b[0;32m   1089\u001b[0m         \u001b[0mres\u001b[0m \u001b[1;33m=\u001b[0m \u001b[0mcache\u001b[0m\u001b[1;33m.\u001b[0m\u001b[0mget\u001b[0m\u001b[1;33m(\u001b[0m\u001b[0mitem\u001b[0m\u001b[1;33m)\u001b[0m\u001b[1;33m\u001b[0m\u001b[0m\n\u001b[0;32m   1090\u001b[0m         \u001b[1;32mif\u001b[0m \u001b[0mres\u001b[0m \u001b[1;32mis\u001b[0m \u001b[1;32mNone\u001b[0m\u001b[1;33m:\u001b[0m\u001b[1;33m\u001b[0m\u001b[0m\n\u001b[1;32m-> 1091\u001b[1;33m             \u001b[0mvalues\u001b[0m \u001b[1;33m=\u001b[0m \u001b[0mself\u001b[0m\u001b[1;33m.\u001b[0m\u001b[0m_data\u001b[0m\u001b[1;33m.\u001b[0m\u001b[0mget\u001b[0m\u001b[1;33m(\u001b[0m\u001b[0mitem\u001b[0m\u001b[1;33m)\u001b[0m\u001b[1;33m\u001b[0m\u001b[0m\n\u001b[0m\u001b[0;32m   1092\u001b[0m             \u001b[0mres\u001b[0m \u001b[1;33m=\u001b[0m \u001b[0mself\u001b[0m\u001b[1;33m.\u001b[0m\u001b[0m_box_item_values\u001b[0m\u001b[1;33m(\u001b[0m\u001b[0mitem\u001b[0m\u001b[1;33m,\u001b[0m \u001b[0mvalues\u001b[0m\u001b[1;33m)\u001b[0m\u001b[1;33m\u001b[0m\u001b[0m\n\u001b[0;32m   1093\u001b[0m             \u001b[0mcache\u001b[0m\u001b[1;33m[\u001b[0m\u001b[0mitem\u001b[0m\u001b[1;33m]\u001b[0m \u001b[1;33m=\u001b[0m \u001b[0mres\u001b[0m\u001b[1;33m\u001b[0m\u001b[0m\n",
      "\u001b[1;32m/home/kimlab1/strokach/anaconda3/lib/python3.5/site-packages/pandas/core/internals.py\u001b[0m in \u001b[0;36mget\u001b[1;34m(self, item, fastpath)\u001b[0m\n\u001b[0;32m   3209\u001b[0m \u001b[1;33m\u001b[0m\u001b[0m\n\u001b[0;32m   3210\u001b[0m             \u001b[1;32mif\u001b[0m \u001b[1;32mnot\u001b[0m \u001b[0misnull\u001b[0m\u001b[1;33m(\u001b[0m\u001b[0mitem\u001b[0m\u001b[1;33m)\u001b[0m\u001b[1;33m:\u001b[0m\u001b[1;33m\u001b[0m\u001b[0m\n\u001b[1;32m-> 3211\u001b[1;33m                 \u001b[0mloc\u001b[0m \u001b[1;33m=\u001b[0m \u001b[0mself\u001b[0m\u001b[1;33m.\u001b[0m\u001b[0mitems\u001b[0m\u001b[1;33m.\u001b[0m\u001b[0mget_loc\u001b[0m\u001b[1;33m(\u001b[0m\u001b[0mitem\u001b[0m\u001b[1;33m)\u001b[0m\u001b[1;33m\u001b[0m\u001b[0m\n\u001b[0m\u001b[0;32m   3212\u001b[0m             \u001b[1;32melse\u001b[0m\u001b[1;33m:\u001b[0m\u001b[1;33m\u001b[0m\u001b[0m\n\u001b[0;32m   3213\u001b[0m                 \u001b[0mindexer\u001b[0m \u001b[1;33m=\u001b[0m \u001b[0mnp\u001b[0m\u001b[1;33m.\u001b[0m\u001b[0marange\u001b[0m\u001b[1;33m(\u001b[0m\u001b[0mlen\u001b[0m\u001b[1;33m(\u001b[0m\u001b[0mself\u001b[0m\u001b[1;33m.\u001b[0m\u001b[0mitems\u001b[0m\u001b[1;33m)\u001b[0m\u001b[1;33m)\u001b[0m\u001b[1;33m[\u001b[0m\u001b[0misnull\u001b[0m\u001b[1;33m(\u001b[0m\u001b[0mself\u001b[0m\u001b[1;33m.\u001b[0m\u001b[0mitems\u001b[0m\u001b[1;33m)\u001b[0m\u001b[1;33m]\u001b[0m\u001b[1;33m\u001b[0m\u001b[0m\n",
      "\u001b[1;32m/home/kimlab1/strokach/anaconda3/lib/python3.5/site-packages/pandas/core/index.py\u001b[0m in \u001b[0;36mget_loc\u001b[1;34m(self, key, method, tolerance)\u001b[0m\n\u001b[0;32m   1757\u001b[0m                                  'backfill or nearest lookups')\n\u001b[0;32m   1758\u001b[0m             \u001b[0mkey\u001b[0m \u001b[1;33m=\u001b[0m \u001b[0m_values_from_object\u001b[0m\u001b[1;33m(\u001b[0m\u001b[0mkey\u001b[0m\u001b[1;33m)\u001b[0m\u001b[1;33m\u001b[0m\u001b[0m\n\u001b[1;32m-> 1759\u001b[1;33m             \u001b[1;32mreturn\u001b[0m \u001b[0mself\u001b[0m\u001b[1;33m.\u001b[0m\u001b[0m_engine\u001b[0m\u001b[1;33m.\u001b[0m\u001b[0mget_loc\u001b[0m\u001b[1;33m(\u001b[0m\u001b[0mkey\u001b[0m\u001b[1;33m)\u001b[0m\u001b[1;33m\u001b[0m\u001b[0m\n\u001b[0m\u001b[0;32m   1760\u001b[0m \u001b[1;33m\u001b[0m\u001b[0m\n\u001b[0;32m   1761\u001b[0m         indexer = self.get_indexer([key], method=method,\n",
      "\u001b[1;32mpandas/index.pyx\u001b[0m in \u001b[0;36mpandas.index.IndexEngine.get_loc (pandas/index.c:3979)\u001b[1;34m()\u001b[0m\n",
      "\u001b[1;32mpandas/index.pyx\u001b[0m in \u001b[0;36mpandas.index.IndexEngine.get_loc (pandas/index.c:3843)\u001b[1;34m()\u001b[0m\n",
      "\u001b[1;32mpandas/hashtable.pyx\u001b[0m in \u001b[0;36mpandas.hashtable.PyObjectHashTable.get_item (pandas/hashtable.c:12265)\u001b[1;34m()\u001b[0m\n",
      "\u001b[1;32mpandas/hashtable.pyx\u001b[0m in \u001b[0;36mpandas.hashtable.PyObjectHashTable.get_item (pandas/hashtable.c:12216)\u001b[1;34m()\u001b[0m\n",
      "\u001b[1;31mKeyError\u001b[0m: 'CELL_LINE'"
     ]
    }
   ],
   "source": [
    "# Add cell synergy scores\n",
    "main_df = (\n",
    "    main_df\n",
    "    .merge(\n",
    "        training_gby_cell[['CELL_LINE', 'LEN', 'MEAN', 'STE']]\n",
    "        .rename(\n",
    "            columns={\n",
    "                'LEN': 'cell_len',\n",
    "                'MEAN': 'cell_mean',\n",
    "                'STE': 'cell_ste',\n",
    "            }),\n",
    "        on=['CELL_LINE'], how='left')\n",
    ")"
   ]
  },
  {
   "cell_type": "code",
   "execution_count": null,
   "metadata": {
    "code_folding": [
     0
    ],
    "collapsed": true
   },
   "outputs": [],
   "source": []
  },
  {
   "cell_type": "code",
   "execution_count": null,
   "metadata": {
    "collapsed": true
   },
   "outputs": [],
   "source": []
  },
  {
   "cell_type": "code",
   "execution_count": null,
   "metadata": {
    "collapsed": true
   },
   "outputs": [],
   "source": []
  },
  {
   "cell_type": "code",
   "execution_count": null,
   "metadata": {
    "collapsed": true
   },
   "outputs": [],
   "source": []
  },
  {
   "cell_type": "markdown",
   "metadata": {},
   "source": [
    "## Gene expression"
   ]
  },
  {
   "cell_type": "code",
   "execution_count": null,
   "metadata": {
    "collapsed": true
   },
   "outputs": [],
   "source": []
  },
  {
   "cell_type": "code",
   "execution_count": null,
   "metadata": {
    "collapsed": true
   },
   "outputs": [],
   "source": []
  },
  {
   "cell_type": "code",
   "execution_count": null,
   "metadata": {
    "collapsed": true
   },
   "outputs": [],
   "source": []
  },
  {
   "cell_type": "code",
   "execution_count": null,
   "metadata": {
    "collapsed": true
   },
   "outputs": [],
   "source": []
  },
  {
   "cell_type": "code",
   "execution_count": null,
   "metadata": {
    "collapsed": true
   },
   "outputs": [],
   "source": []
  },
  {
   "cell_type": "code",
   "execution_count": null,
   "metadata": {
    "collapsed": true
   },
   "outputs": [],
   "source": []
  },
  {
   "cell_type": "code",
   "execution_count": 11,
   "metadata": {
    "collapsed": false
   },
   "outputs": [
    {
     "data": {
      "text/html": [
       "<div>\n",
       "<table border=\"1\" class=\"dataframe\">\n",
       "  <thead>\n",
       "    <tr style=\"text-align: right;\">\n",
       "      <th></th>\n",
       "      <th>ChallengeName</th>\n",
       "      <th>cid</th>\n",
       "    </tr>\n",
       "  </thead>\n",
       "  <tbody>\n",
       "    <tr>\n",
       "      <th>305</th>\n",
       "      <td>Doxorubicin</td>\n",
       "      <td>1691</td>\n",
       "    </tr>\n",
       "    <tr>\n",
       "      <th>56</th>\n",
       "      <td>Azacytidine</td>\n",
       "      <td>1805</td>\n",
       "    </tr>\n",
       "    <tr>\n",
       "      <th>212</th>\n",
       "      <td>Chloroquine</td>\n",
       "      <td>2719</td>\n",
       "    </tr>\n",
       "    <tr>\n",
       "      <th>222</th>\n",
       "      <td>Cisplatin</td>\n",
       "      <td>2767</td>\n",
       "    </tr>\n",
       "    <tr>\n",
       "      <th>226</th>\n",
       "      <td>Docetaxel</td>\n",
       "      <td>3143</td>\n",
       "    </tr>\n",
       "  </tbody>\n",
       "</table>\n",
       "</div>"
      ],
      "text/plain": [
       "    ChallengeName   cid\n",
       "305   Doxorubicin  1691\n",
       "56    Azacytidine  1805\n",
       "212   Chloroquine  2719\n",
       "222     Cisplatin  2767\n",
       "226     Docetaxel  3143"
      ]
     },
     "execution_count": 11,
     "metadata": {},
     "output_type": "execute_result"
    }
   ],
   "source": [
    "challenge_name_to_cid.sort_values('cid', inplace=True)\n",
    "challenge_name_to_cid.head()"
   ]
  },
  {
   "cell_type": "code",
   "execution_count": 10,
   "metadata": {
    "collapsed": false
   },
   "outputs": [
    {
     "data": {
      "text/html": [
       "<div>\n",
       "<table border=\"1\" class=\"dataframe\">\n",
       "  <thead>\n",
       "    <tr style=\"text-align: right;\">\n",
       "      <th></th>\n",
       "      <th>drug</th>\n",
       "      <th>target_original</th>\n",
       "      <th>target</th>\n",
       "      <th>hgnc_name</th>\n",
       "      <th>hgnc_acc</th>\n",
       "      <th>hgnc_description</th>\n",
       "      <th>ensg</th>\n",
       "      <th>enst</th>\n",
       "      <th>ensp</th>\n",
       "      <th>ensp_idx</th>\n",
       "    </tr>\n",
       "  </thead>\n",
       "  <tbody>\n",
       "    <tr>\n",
       "      <th>0</th>\n",
       "      <td>ADAM17</td>\n",
       "      <td>ADAM17</td>\n",
       "      <td>ADAM17</td>\n",
       "      <td>ADAM17</td>\n",
       "      <td>HGNC:195</td>\n",
       "      <td>ADAM metallopeptidase domain 17</td>\n",
       "      <td>ENSG00000151694</td>\n",
       "      <td>ENST00000310823</td>\n",
       "      <td>ENSP00000309968</td>\n",
       "      <td>309968</td>\n",
       "    </tr>\n",
       "    <tr>\n",
       "      <th>1</th>\n",
       "      <td>ADAM17</td>\n",
       "      <td>ADAM17</td>\n",
       "      <td>ADAM17</td>\n",
       "      <td>ADAM17</td>\n",
       "      <td>HGNC:195</td>\n",
       "      <td>ADAM metallopeptidase domain 17</td>\n",
       "      <td>ENSG00000151694</td>\n",
       "      <td>ENST00000497134</td>\n",
       "      <td>ENSP00000418728</td>\n",
       "      <td>418728</td>\n",
       "    </tr>\n",
       "    <tr>\n",
       "      <th>2</th>\n",
       "      <td>ADAM17</td>\n",
       "      <td>ADAM17</td>\n",
       "      <td>ADAM17</td>\n",
       "      <td>ADAM17</td>\n",
       "      <td>HGNC:195</td>\n",
       "      <td>ADAM metallopeptidase domain 17</td>\n",
       "      <td>ENSG00000151694</td>\n",
       "      <td>ENST00000618923</td>\n",
       "      <td>ENSP00000480552</td>\n",
       "      <td>480552</td>\n",
       "    </tr>\n",
       "    <tr>\n",
       "      <th>3</th>\n",
       "      <td>AKT</td>\n",
       "      <td>AKT1</td>\n",
       "      <td>AKT1</td>\n",
       "      <td>AKT1</td>\n",
       "      <td>HGNC:391</td>\n",
       "      <td>v-akt murine thymoma viral oncogene homolog 1</td>\n",
       "      <td>ENSG00000142208</td>\n",
       "      <td>ENST00000554581</td>\n",
       "      <td>ENSP00000451828</td>\n",
       "      <td>451828</td>\n",
       "    </tr>\n",
       "    <tr>\n",
       "      <th>4</th>\n",
       "      <td>AKT</td>\n",
       "      <td>AKT1</td>\n",
       "      <td>AKT1</td>\n",
       "      <td>AKT1</td>\n",
       "      <td>HGNC:391</td>\n",
       "      <td>v-akt murine thymoma viral oncogene homolog 1</td>\n",
       "      <td>ENSG00000142208</td>\n",
       "      <td>ENST00000407796</td>\n",
       "      <td>ENSP00000384293</td>\n",
       "      <td>384293</td>\n",
       "    </tr>\n",
       "  </tbody>\n",
       "</table>\n",
       "</div>"
      ],
      "text/plain": [
       "     drug target_original  target hgnc_name  hgnc_acc                               hgnc_description             ensg             enst             ensp  ensp_idx\n",
       "0  ADAM17          ADAM17  ADAM17    ADAM17  HGNC:195                ADAM metallopeptidase domain 17  ENSG00000151694  ENST00000310823  ENSP00000309968    309968\n",
       "1  ADAM17          ADAM17  ADAM17    ADAM17  HGNC:195                ADAM metallopeptidase domain 17  ENSG00000151694  ENST00000497134  ENSP00000418728    418728\n",
       "2  ADAM17          ADAM17  ADAM17    ADAM17  HGNC:195                ADAM metallopeptidase domain 17  ENSG00000151694  ENST00000618923  ENSP00000480552    480552\n",
       "3     AKT            AKT1    AKT1      AKT1  HGNC:391  v-akt murine thymoma viral oncogene homolog 1  ENSG00000142208  ENST00000554581  ENSP00000451828    451828\n",
       "4     AKT            AKT1    AKT1      AKT1  HGNC:391  v-akt murine thymoma viral oncogene homolog 1  ENSG00000142208  ENST00000407796  ENSP00000384293    384293"
      ]
     },
     "execution_count": 10,
     "metadata": {},
     "output_type": "execute_result"
    }
   ],
   "source": [
    "drug_to_target.head(2)"
   ]
  },
  {
   "cell_type": "code",
   "execution_count": null,
   "metadata": {
    "collapsed": true
   },
   "outputs": [],
   "source": []
  },
  {
   "cell_type": "code",
   "execution_count": null,
   "metadata": {
    "collapsed": true
   },
   "outputs": [],
   "source": []
  },
  {
   "cell_type": "code",
   "execution_count": null,
   "metadata": {
    "collapsed": true
   },
   "outputs": [],
   "source": []
  },
  {
   "cell_type": "markdown",
   "metadata": {},
   "source": [
    "# Drug pair & cell line features"
   ]
  },
  {
   "cell_type": "code",
   "execution_count": null,
   "metadata": {
    "collapsed": true
   },
   "outputs": [],
   "source": []
  },
  {
   "cell_type": "code",
   "execution_count": null,
   "metadata": {
    "collapsed": true
   },
   "outputs": [],
   "source": []
  },
  {
   "cell_type": "code",
   "execution_count": null,
   "metadata": {
    "collapsed": true
   },
   "outputs": [],
   "source": []
  },
  {
   "cell_type": "markdown",
   "metadata": {},
   "source": [
    "# Format features"
   ]
  },
  {
   "cell_type": "code",
   "execution_count": 588,
   "metadata": {
    "collapsed": false,
    "run_control": {
     "marked": true
    }
   },
   "outputs": [
    {
     "name": "stdout",
     "output_type": "stream",
     "text": [
      "drug_len_DIFF\n",
      "drug_mean_DIFF\n",
      "drug_ste_DIFF\n"
     ]
    }
   ],
   "source": [
    "for column in main_df.columns:\n",
    "    if column.endswith('_A') and main_df[column].dtype in (int, float):\n",
    "        new_column = column.replace('_A', '_DIFF')\n",
    "        print(new_column)\n",
    "        main_df[new_column] = (main_df[column] - main_df[column.replace('_A', '_B')]).abs()"
   ]
  },
  {
   "cell_type": "code",
   "execution_count": null,
   "metadata": {
    "collapsed": true
   },
   "outputs": [],
   "source": []
  },
  {
   "cell_type": "markdown",
   "metadata": {},
   "source": [
    "# Final"
   ]
  },
  {
   "cell_type": "markdown",
   "metadata": {},
   "source": [
    "## Train predictor"
   ]
  },
  {
   "cell_type": "code",
   "execution_count": 548,
   "metadata": {
    "collapsed": false
   },
   "outputs": [],
   "source": [
    "from sklearn.metrics import mean_squared_error\n",
    "from sklearn.ensemble import GradientBoostingClassifier\n",
    "from sklearn.preprocessing import Imputer"
   ]
  },
  {
   "cell_type": "code",
   "execution_count": 549,
   "metadata": {
    "collapsed": false
   },
   "outputs": [
    {
     "data": {
      "text/plain": [
       "(169,)"
      ]
     },
     "execution_count": 549,
     "metadata": {},
     "output_type": "execute_result"
    }
   ],
   "source": [
    "main_df['SYNERGY_SCORE'].shape"
   ]
  },
  {
   "cell_type": "code",
   "execution_count": 550,
   "metadata": {
    "collapsed": false
   },
   "outputs": [
    {
     "data": {
      "text/plain": [
       "<matplotlib.axes._subplots.AxesSubplot at 0x7f27e1019f28>"
      ]
     },
     "execution_count": 550,
     "metadata": {},
     "output_type": "execute_result"
    },
    {
     "data": {
      "image/png": "[encoded data removed]",
      "text/plain": [
       "<matplotlib.figure.Figure at 0x7f27e0edf400>"
      ]
     },
     "metadata": {},
     "output_type": "display_data"
    }
   ],
   "source": [
    "main_df['SYNERGY_SCORE'].hist()"
   ]
  },
  {
   "cell_type": "code",
   "execution_count": 551,
   "metadata": {
    "collapsed": false
   },
   "outputs": [
    {
     "data": {
      "text/plain": [
       "43"
      ]
     },
     "execution_count": 551,
     "metadata": {},
     "output_type": "execute_result"
    }
   ],
   "source": [
    "(main_df['SYNERGY_SCORE'] > 20).sum()"
   ]
  },
  {
   "cell_type": "code",
   "execution_count": 552,
   "metadata": {
    "collapsed": true,
    "run_control": {
     "marked": false
    }
   },
   "outputs": [],
   "source": [
    "main_df['SYNERGY_SCORE'] = main_df['SYNERGY_SCORE'] > 20"
   ]
  },
  {
   "cell_type": "code",
   "execution_count": 553,
   "metadata": {
    "collapsed": false
   },
   "outputs": [
    {
     "data": {
      "text/plain": [
       "43"
      ]
     },
     "execution_count": 553,
     "metadata": {},
     "output_type": "execute_result"
    }
   ],
   "source": [
    "main_df['SYNERGY_SCORE'].sum()"
   ]
  },
  {
   "cell_type": "code",
   "execution_count": 554,
   "metadata": {
    "collapsed": false,
    "run_control": {
     "marked": false
    }
   },
   "outputs": [
    {
     "name": "stdout",
     "output_type": "stream",
     "text": [
      "COMBINATION_ID\n",
      "SYNERGY_SCORE\n",
      "COMPOUND_A\n",
      "COMPOUND_B\n"
     ]
    }
   ],
   "source": [
    "feature_columns = [\n",
    "    c for c in main_df.columns \n",
    "    if main_df[c].dtype in (int, float) and c != 'SYNERGY_SCORE' \n",
    "    or print(c)\n",
    "]"
   ]
  },
  {
   "cell_type": "code",
   "execution_count": 555,
   "metadata": {
    "collapsed": false,
    "run_control": {
     "marked": false
    }
   },
   "outputs": [],
   "source": [
    "inputer = Imputer()"
   ]
  },
  {
   "cell_type": "code",
   "execution_count": 556,
   "metadata": {
    "collapsed": true,
    "run_control": {
     "marked": false
    }
   },
   "outputs": [],
   "source": [
    "clf_options = {\n",
    "    'loss': 'ls',\n",
    "    'n_estimators': 900,\n",
    "    'learning_rate': 0.01,\n",
    "    'max_depth': 2,\n",
    "    'subsample': 0.3,\n",
    "    'random_state': np.random.RandomState(42)\n",
    "}\n",
    "clf = GradientBoostingRegressor(**clf_options)"
   ]
  },
  {
   "cell_type": "code",
   "execution_count": 557,
   "metadata": {
    "collapsed": false
   },
   "outputs": [
    {
     "data": {
      "text/plain": [
       "27"
      ]
     },
     "execution_count": 557,
     "metadata": {},
     "output_type": "execute_result"
    }
   ],
   "source": [
    "main_df[feature_columns].isnull().any(axis=1).sum()"
   ]
  },
  {
   "cell_type": "code",
   "execution_count": 558,
   "metadata": {
    "collapsed": false
   },
   "outputs": [],
   "source": [
    "X = inputer.fit_transform(main_df[feature_columns].values)\n",
    "Y = main_df['SYNERGY_SCORE'].values"
   ]
  },
  {
   "cell_type": "code",
   "execution_count": 559,
   "metadata": {
    "collapsed": false
   },
   "outputs": [
    {
     "data": {
      "text/plain": [
       "(169, 50)"
      ]
     },
     "execution_count": 559,
     "metadata": {},
     "output_type": "execute_result"
    }
   ],
   "source": [
    "X.shape"
   ]
  },
  {
   "cell_type": "code",
   "execution_count": 560,
   "metadata": {
    "collapsed": false
   },
   "outputs": [
    {
     "data": {
      "text/plain": [
       "GradientBoostingRegressor(alpha=0.9, init=None, learning_rate=0.01, loss='ls',\n",
       "             max_depth=2, max_features=None, max_leaf_nodes=None,\n",
       "             min_samples_leaf=1, min_samples_split=2,\n",
       "             min_weight_fraction_leaf=0.0, n_estimators=900,\n",
       "             presort='auto',\n",
       "             random_state=<mtrand.RandomState object at 0x7f27e0e6e630>,\n",
       "             subsample=0.3, verbose=0, warm_start=False)"
      ]
     },
     "execution_count": 560,
     "metadata": {},
     "output_type": "execute_result"
    }
   ],
   "source": [
    "clf.fit(X, Y)"
   ]
  },
  {
   "cell_type": "code",
   "execution_count": 561,
   "metadata": {
    "code_folding": [],
    "collapsed": false
   },
   "outputs": [],
   "source": [
    "y_pred = clf.predict(X)"
   ]
  },
  {
   "cell_type": "code",
   "execution_count": 562,
   "metadata": {
    "collapsed": false
   },
   "outputs": [
    {
     "data": {
      "text/plain": [
       "(array([ 32.,  53.,  26.,  15.,   0.,   0.,  15.,  19.,   6.,   3.]),\n",
       " array([-0.15475169, -0.02276733,  0.10921704,  0.2412014 ,  0.37318576,\n",
       "         0.50517013,  0.63715449,  0.76913885,  0.90112322,  1.03310758,\n",
       "         1.16509194]),\n",
       " <a list of 10 Patch objects>)"
      ]
     },
     "execution_count": 562,
     "metadata": {},
     "output_type": "execute_result"
    },
    {
     "data": {
      "image/png": "[encoded data removed]",
      "text/plain": [
       "<matplotlib.figure.Figure at 0x7f27e0f94160>"
      ]
     },
     "metadata": {},
     "output_type": "display_data"
    }
   ],
   "source": [
    "plt.hist(y_pred)"
   ]
  },
  {
   "cell_type": "code",
   "execution_count": null,
   "metadata": {
    "collapsed": true
   },
   "outputs": [],
   "source": []
  },
  {
   "cell_type": "markdown",
   "metadata": {},
   "source": [
    "## Make predictions"
   ]
  },
  {
   "cell_type": "code",
   "execution_count": 589,
   "metadata": {
    "collapsed": false
   },
   "outputs": [
    {
     "data": {
      "text/html": [
       "<div>\n",
       "<table border=\"1\" class=\"dataframe\">\n",
       "  <thead>\n",
       "    <tr style=\"text-align: right;\">\n",
       "      <th></th>\n",
       "      <th>CELL_LINE</th>\n",
       "      <th>COMBINATION_ID</th>\n",
       "      <th>COMPOUND_A</th>\n",
       "      <th>COMPOUND_B</th>\n",
       "      <th>drug_len_A</th>\n",
       "      <th>drug_mean_A</th>\n",
       "      <th>drug_ste_A</th>\n",
       "      <th>drug_len_B</th>\n",
       "      <th>drug_mean_B</th>\n",
       "      <th>drug_ste_B</th>\n",
       "      <th>bg_degree</th>\n",
       "      <th>bg_clustering_coef</th>\n",
       "      <th>bg_betweenness</th>\n",
       "      <th>bg_closeness</th>\n",
       "      <th>bg_neighbor_sharing</th>\n",
       "      <th>bg_shortest_path_length</th>\n",
       "      <th>bg_eb_max</th>\n",
       "      <th>bg_eb_min</th>\n",
       "      <th>bg_eb_mean</th>\n",
       "      <th>bg_eb_fraction</th>\n",
       "      <th>bg_number_of_shortest_paths</th>\n",
       "      <th>coexpression</th>\n",
       "      <th>gene_essentiality</th>\n",
       "      <th>gi_degree</th>\n",
       "      <th>gi_clustering_coef</th>\n",
       "      <th>gi_betweenness</th>\n",
       "      <th>gi_closeness</th>\n",
       "      <th>gi_neighbor_sharing</th>\n",
       "      <th>gi_shortest_path_length</th>\n",
       "      <th>gi_eb_max</th>\n",
       "      <th>gi_eb_min</th>\n",
       "      <th>gi_eb_mean</th>\n",
       "      <th>gi_eb_fraction</th>\n",
       "      <th>gi_number_of_shortest_paths</th>\n",
       "      <th>go_all_sem_sim</th>\n",
       "      <th>go_bp_sem_sim</th>\n",
       "      <th>go_cc_sem_sim</th>\n",
       "      <th>go_mf_sem_sim</th>\n",
       "      <th>go_slim_sem_sim</th>\n",
       "      <th>phylogenic_similarity</th>\n",
       "      <th>s_degree</th>\n",
       "      <th>s_clustering_coef</th>\n",
       "      <th>s_betweenness</th>\n",
       "      <th>s_closeness</th>\n",
       "      <th>s_neighbor_sharing</th>\n",
       "      <th>s_shortest_path_length</th>\n",
       "      <th>eb_max</th>\n",
       "      <th>eb_min</th>\n",
       "      <th>eb_mean</th>\n",
       "      <th>eb_fraction</th>\n",
       "      <th>s_number_of_shortest_paths</th>\n",
       "      <th>drug_len_DIFF</th>\n",
       "      <th>drug_mean_DIFF</th>\n",
       "      <th>drug_ste_DIFF</th>\n",
       "    </tr>\n",
       "  </thead>\n",
       "  <tbody>\n",
       "    <tr>\n",
       "      <th>0</th>\n",
       "      <td>22RV1</td>\n",
       "      <td>ADAM17.AKT_1</td>\n",
       "      <td>ADAM17</td>\n",
       "      <td>AKT_1</td>\n",
       "      <td>85.18</td>\n",
       "      <td>6.07715</td>\n",
       "      <td>2.063913</td>\n",
       "      <td>149.2</td>\n",
       "      <td>16.016789</td>\n",
       "      <td>2.095345</td>\n",
       "      <td>33.8</td>\n",
       "      <td>0.185718</td>\n",
       "      <td>0.000212</td>\n",
       "      <td>0.390061</td>\n",
       "      <td>1.732911</td>\n",
       "      <td>2.4</td>\n",
       "      <td>0.003019</td>\n",
       "      <td>0.000093</td>\n",
       "      <td>0.000207</td>\n",
       "      <td>78.062954</td>\n",
       "      <td>9.8</td>\n",
       "      <td>-0.057905</td>\n",
       "      <td>0.813333</td>\n",
       "      <td>28.333333</td>\n",
       "      <td>0.020605</td>\n",
       "      <td>0.000048</td>\n",
       "      <td>0.339907</td>\n",
       "      <td>0</td>\n",
       "      <td>3</td>\n",
       "      <td>0.000069</td>\n",
       "      <td>0.000003</td>\n",
       "      <td>0.000016</td>\n",
       "      <td>55.47504</td>\n",
       "      <td>16.3333</td>\n",
       "      <td>16.637769</td>\n",
       "      <td>16.17705</td>\n",
       "      <td>26.214286</td>\n",
       "      <td>10.769231</td>\n",
       "      <td>54.297882</td>\n",
       "      <td>0.895341</td>\n",
       "      <td>83.7</td>\n",
       "      <td>0.220766</td>\n",
       "      <td>0.002986</td>\n",
       "      <td>0.311351</td>\n",
       "      <td>0.194932</td>\n",
       "      <td>2.8</td>\n",
       "      <td>0.000282</td>\n",
       "      <td>0.000005</td>\n",
       "      <td>0.000063</td>\n",
       "      <td>62.840766</td>\n",
       "      <td>74</td>\n",
       "      <td>64.02</td>\n",
       "      <td>9.939638</td>\n",
       "      <td>0.031432</td>\n",
       "    </tr>\n",
       "    <tr>\n",
       "      <th>1</th>\n",
       "      <td>647-V</td>\n",
       "      <td>ADAM17.AKT_1</td>\n",
       "      <td>ADAM17</td>\n",
       "      <td>AKT_1</td>\n",
       "      <td>85.18</td>\n",
       "      <td>6.07715</td>\n",
       "      <td>2.063913</td>\n",
       "      <td>149.2</td>\n",
       "      <td>16.016789</td>\n",
       "      <td>2.095345</td>\n",
       "      <td>33.8</td>\n",
       "      <td>0.185718</td>\n",
       "      <td>0.000212</td>\n",
       "      <td>0.390061</td>\n",
       "      <td>1.732911</td>\n",
       "      <td>2.4</td>\n",
       "      <td>0.003019</td>\n",
       "      <td>0.000093</td>\n",
       "      <td>0.000207</td>\n",
       "      <td>78.062954</td>\n",
       "      <td>9.8</td>\n",
       "      <td>-0.057905</td>\n",
       "      <td>0.813333</td>\n",
       "      <td>28.333333</td>\n",
       "      <td>0.020605</td>\n",
       "      <td>0.000048</td>\n",
       "      <td>0.339907</td>\n",
       "      <td>0</td>\n",
       "      <td>3</td>\n",
       "      <td>0.000069</td>\n",
       "      <td>0.000003</td>\n",
       "      <td>0.000016</td>\n",
       "      <td>55.47504</td>\n",
       "      <td>16.3333</td>\n",
       "      <td>16.637769</td>\n",
       "      <td>16.17705</td>\n",
       "      <td>26.214286</td>\n",
       "      <td>10.769231</td>\n",
       "      <td>54.297882</td>\n",
       "      <td>0.895341</td>\n",
       "      <td>83.7</td>\n",
       "      <td>0.220766</td>\n",
       "      <td>0.002986</td>\n",
       "      <td>0.311351</td>\n",
       "      <td>0.194932</td>\n",
       "      <td>2.8</td>\n",
       "      <td>0.000282</td>\n",
       "      <td>0.000005</td>\n",
       "      <td>0.000063</td>\n",
       "      <td>62.840766</td>\n",
       "      <td>74</td>\n",
       "      <td>64.02</td>\n",
       "      <td>9.939638</td>\n",
       "      <td>0.031432</td>\n",
       "    </tr>\n",
       "    <tr>\n",
       "      <th>2</th>\n",
       "      <td>A549</td>\n",
       "      <td>ADAM17.AKT_1</td>\n",
       "      <td>ADAM17</td>\n",
       "      <td>AKT_1</td>\n",
       "      <td>85.18</td>\n",
       "      <td>6.07715</td>\n",
       "      <td>2.063913</td>\n",
       "      <td>149.2</td>\n",
       "      <td>16.016789</td>\n",
       "      <td>2.095345</td>\n",
       "      <td>33.8</td>\n",
       "      <td>0.185718</td>\n",
       "      <td>0.000212</td>\n",
       "      <td>0.390061</td>\n",
       "      <td>1.732911</td>\n",
       "      <td>2.4</td>\n",
       "      <td>0.003019</td>\n",
       "      <td>0.000093</td>\n",
       "      <td>0.000207</td>\n",
       "      <td>78.062954</td>\n",
       "      <td>9.8</td>\n",
       "      <td>-0.057905</td>\n",
       "      <td>0.813333</td>\n",
       "      <td>28.333333</td>\n",
       "      <td>0.020605</td>\n",
       "      <td>0.000048</td>\n",
       "      <td>0.339907</td>\n",
       "      <td>0</td>\n",
       "      <td>3</td>\n",
       "      <td>0.000069</td>\n",
       "      <td>0.000003</td>\n",
       "      <td>0.000016</td>\n",
       "      <td>55.47504</td>\n",
       "      <td>16.3333</td>\n",
       "      <td>16.637769</td>\n",
       "      <td>16.17705</td>\n",
       "      <td>26.214286</td>\n",
       "      <td>10.769231</td>\n",
       "      <td>54.297882</td>\n",
       "      <td>0.895341</td>\n",
       "      <td>83.7</td>\n",
       "      <td>0.220766</td>\n",
       "      <td>0.002986</td>\n",
       "      <td>0.311351</td>\n",
       "      <td>0.194932</td>\n",
       "      <td>2.8</td>\n",
       "      <td>0.000282</td>\n",
       "      <td>0.000005</td>\n",
       "      <td>0.000063</td>\n",
       "      <td>62.840766</td>\n",
       "      <td>74</td>\n",
       "      <td>64.02</td>\n",
       "      <td>9.939638</td>\n",
       "      <td>0.031432</td>\n",
       "    </tr>\n",
       "    <tr>\n",
       "      <th>3</th>\n",
       "      <td>BFTC-905</td>\n",
       "      <td>ADAM17.AKT_1</td>\n",
       "      <td>ADAM17</td>\n",
       "      <td>AKT_1</td>\n",
       "      <td>85.18</td>\n",
       "      <td>6.07715</td>\n",
       "      <td>2.063913</td>\n",
       "      <td>149.2</td>\n",
       "      <td>16.016789</td>\n",
       "      <td>2.095345</td>\n",
       "      <td>33.8</td>\n",
       "      <td>0.185718</td>\n",
       "      <td>0.000212</td>\n",
       "      <td>0.390061</td>\n",
       "      <td>1.732911</td>\n",
       "      <td>2.4</td>\n",
       "      <td>0.003019</td>\n",
       "      <td>0.000093</td>\n",
       "      <td>0.000207</td>\n",
       "      <td>78.062954</td>\n",
       "      <td>9.8</td>\n",
       "      <td>-0.057905</td>\n",
       "      <td>0.813333</td>\n",
       "      <td>28.333333</td>\n",
       "      <td>0.020605</td>\n",
       "      <td>0.000048</td>\n",
       "      <td>0.339907</td>\n",
       "      <td>0</td>\n",
       "      <td>3</td>\n",
       "      <td>0.000069</td>\n",
       "      <td>0.000003</td>\n",
       "      <td>0.000016</td>\n",
       "      <td>55.47504</td>\n",
       "      <td>16.3333</td>\n",
       "      <td>16.637769</td>\n",
       "      <td>16.17705</td>\n",
       "      <td>26.214286</td>\n",
       "      <td>10.769231</td>\n",
       "      <td>54.297882</td>\n",
       "      <td>0.895341</td>\n",
       "      <td>83.7</td>\n",
       "      <td>0.220766</td>\n",
       "      <td>0.002986</td>\n",
       "      <td>0.311351</td>\n",
       "      <td>0.194932</td>\n",
       "      <td>2.8</td>\n",
       "      <td>0.000282</td>\n",
       "      <td>0.000005</td>\n",
       "      <td>0.000063</td>\n",
       "      <td>62.840766</td>\n",
       "      <td>74</td>\n",
       "      <td>64.02</td>\n",
       "      <td>9.939638</td>\n",
       "      <td>0.031432</td>\n",
       "    </tr>\n",
       "    <tr>\n",
       "      <th>4</th>\n",
       "      <td>BT-20</td>\n",
       "      <td>ADAM17.AKT_1</td>\n",
       "      <td>ADAM17</td>\n",
       "      <td>AKT_1</td>\n",
       "      <td>85.18</td>\n",
       "      <td>6.07715</td>\n",
       "      <td>2.063913</td>\n",
       "      <td>149.2</td>\n",
       "      <td>16.016789</td>\n",
       "      <td>2.095345</td>\n",
       "      <td>33.8</td>\n",
       "      <td>0.185718</td>\n",
       "      <td>0.000212</td>\n",
       "      <td>0.390061</td>\n",
       "      <td>1.732911</td>\n",
       "      <td>2.4</td>\n",
       "      <td>0.003019</td>\n",
       "      <td>0.000093</td>\n",
       "      <td>0.000207</td>\n",
       "      <td>78.062954</td>\n",
       "      <td>9.8</td>\n",
       "      <td>-0.057905</td>\n",
       "      <td>0.813333</td>\n",
       "      <td>28.333333</td>\n",
       "      <td>0.020605</td>\n",
       "      <td>0.000048</td>\n",
       "      <td>0.339907</td>\n",
       "      <td>0</td>\n",
       "      <td>3</td>\n",
       "      <td>0.000069</td>\n",
       "      <td>0.000003</td>\n",
       "      <td>0.000016</td>\n",
       "      <td>55.47504</td>\n",
       "      <td>16.3333</td>\n",
       "      <td>16.637769</td>\n",
       "      <td>16.17705</td>\n",
       "      <td>26.214286</td>\n",
       "      <td>10.769231</td>\n",
       "      <td>54.297882</td>\n",
       "      <td>0.895341</td>\n",
       "      <td>83.7</td>\n",
       "      <td>0.220766</td>\n",
       "      <td>0.002986</td>\n",
       "      <td>0.311351</td>\n",
       "      <td>0.194932</td>\n",
       "      <td>2.8</td>\n",
       "      <td>0.000282</td>\n",
       "      <td>0.000005</td>\n",
       "      <td>0.000063</td>\n",
       "      <td>62.840766</td>\n",
       "      <td>74</td>\n",
       "      <td>64.02</td>\n",
       "      <td>9.939638</td>\n",
       "      <td>0.031432</td>\n",
       "    </tr>\n",
       "  </tbody>\n",
       "</table>\n",
       "</div>"
      ],
      "text/plain": [
       "  CELL_LINE COMBINATION_ID COMPOUND_A COMPOUND_B  drug_len_A  drug_mean_A  drug_ste_A  drug_len_B  drug_mean_B  drug_ste_B  bg_degree  bg_clustering_coef  bg_betweenness  bg_closeness  bg_neighbor_sharing  bg_shortest_path_length  bg_eb_max  bg_eb_min  bg_eb_mean  bg_eb_fraction  bg_number_of_shortest_paths  coexpression  gene_essentiality  gi_degree  gi_clustering_coef  gi_betweenness  gi_closeness  gi_neighbor_sharing  gi_shortest_path_length  gi_eb_max  gi_eb_min  gi_eb_mean  gi_eb_fraction  gi_number_of_shortest_paths  go_all_sem_sim  go_bp_sem_sim  go_cc_sem_sim  go_mf_sem_sim  go_slim_sem_sim  phylogenic_similarity  s_degree  s_clustering_coef  s_betweenness  s_closeness  s_neighbor_sharing  s_shortest_path_length    eb_max    eb_min   eb_mean  eb_fraction  s_number_of_shortest_paths  drug_len_DIFF  drug_mean_DIFF  drug_ste_DIFF\n",
       "0     22RV1   ADAM17.AKT_1     ADAM17      AKT_1       85.18      6.07715    2.063913       149.2    16.016789    2.095345       33.8            0.185718        0.000212      0.390061             1.732911                      2.4   0.003019   0.000093    0.000207       78.062954                          9.8     -0.057905           0.813333  28.333333            0.020605        0.000048      0.339907                    0                        3   0.000069   0.000003    0.000016        55.47504                      16.3333       16.637769       16.17705      26.214286      10.769231        54.297882               0.895341      83.7           0.220766       0.002986     0.311351            0.194932                     2.8  0.000282  0.000005  0.000063    62.840766                          74          64.02        9.939638       0.031432\n",
       "1     647-V   ADAM17.AKT_1     ADAM17      AKT_1       85.18      6.07715    2.063913       149.2    16.016789    2.095345       33.8            0.185718        0.000212      0.390061             1.732911                      2.4   0.003019   0.000093    0.000207       78.062954                          9.8     -0.057905           0.813333  28.333333            0.020605        0.000048      0.339907                    0                        3   0.000069   0.000003    0.000016        55.47504                      16.3333       16.637769       16.17705      26.214286      10.769231        54.297882               0.895341      83.7           0.220766       0.002986     0.311351            0.194932                     2.8  0.000282  0.000005  0.000063    62.840766                          74          64.02        9.939638       0.031432\n",
       "2      A549   ADAM17.AKT_1     ADAM17      AKT_1       85.18      6.07715    2.063913       149.2    16.016789    2.095345       33.8            0.185718        0.000212      0.390061             1.732911                      2.4   0.003019   0.000093    0.000207       78.062954                          9.8     -0.057905           0.813333  28.333333            0.020605        0.000048      0.339907                    0                        3   0.000069   0.000003    0.000016        55.47504                      16.3333       16.637769       16.17705      26.214286      10.769231        54.297882               0.895341      83.7           0.220766       0.002986     0.311351            0.194932                     2.8  0.000282  0.000005  0.000063    62.840766                          74          64.02        9.939638       0.031432\n",
       "3  BFTC-905   ADAM17.AKT_1     ADAM17      AKT_1       85.18      6.07715    2.063913       149.2    16.016789    2.095345       33.8            0.185718        0.000212      0.390061             1.732911                      2.4   0.003019   0.000093    0.000207       78.062954                          9.8     -0.057905           0.813333  28.333333            0.020605        0.000048      0.339907                    0                        3   0.000069   0.000003    0.000016        55.47504                      16.3333       16.637769       16.17705      26.214286      10.769231        54.297882               0.895341      83.7           0.220766       0.002986     0.311351            0.194932                     2.8  0.000282  0.000005  0.000063    62.840766                          74          64.02        9.939638       0.031432\n",
       "4     BT-20   ADAM17.AKT_1     ADAM17      AKT_1       85.18      6.07715    2.063913       149.2    16.016789    2.095345       33.8            0.185718        0.000212      0.390061             1.732911                      2.4   0.003019   0.000093    0.000207       78.062954                          9.8     -0.057905           0.813333  28.333333            0.020605        0.000048      0.339907                    0                        3   0.000069   0.000003    0.000016        55.47504                      16.3333       16.637769       16.17705      26.214286      10.769231        54.297882               0.895341      83.7           0.220766       0.002986     0.311351            0.194932                     2.8  0.000282  0.000005  0.000063    62.840766                          74          64.02        9.939638       0.031432"
      ]
     },
     "execution_count": 589,
     "metadata": {},
     "output_type": "execute_result"
    }
   ],
   "source": [
    "main_df.head()"
   ]
  },
  {
   "cell_type": "code",
   "execution_count": 590,
   "metadata": {
    "collapsed": false
   },
   "outputs": [],
   "source": [
    "X = inputer.transform(main_df[feature_columns].values)"
   ]
  },
  {
   "cell_type": "code",
   "execution_count": 591,
   "metadata": {
    "collapsed": false
   },
   "outputs": [],
   "source": [
    "main_df['SYNERGY_SCORE'] = clf.predict(X)"
   ]
  },
  {
   "cell_type": "code",
   "execution_count": 592,
   "metadata": {
    "collapsed": false
   },
   "outputs": [
    {
     "data": {
      "text/plain": [
       "<matplotlib.axes._subplots.AxesSubplot at 0x7f27e0d38470>"
      ]
     },
     "execution_count": 592,
     "metadata": {},
     "output_type": "execute_result"
    },
    {
     "data": {
      "image/png": "[encoded data removed]",
      "text/plain": [
       "<matplotlib.figure.Figure at 0x7f27e0d607b8>"
      ]
     },
     "metadata": {},
     "output_type": "display_data"
    }
   ],
   "source": [
    "main_df['SYNERGY_SCORE'].hist()"
   ]
  },
  {
   "cell_type": "code",
   "execution_count": 593,
   "metadata": {
    "collapsed": true
   },
   "outputs": [],
   "source": [
    "main_df.loc[main_df['SYNERGY_SCORE'] < 0, 'SYNERGY_SCORE'] = 0"
   ]
  },
  {
   "cell_type": "code",
   "execution_count": 594,
   "metadata": {
    "collapsed": false
   },
   "outputs": [
    {
     "data": {
      "text/plain": [
       "<matplotlib.axes._subplots.AxesSubplot at 0x7f27e0eb9c18>"
      ]
     },
     "execution_count": 594,
     "metadata": {},
     "output_type": "execute_result"
    },
    {
     "data": {
      "image/png": "[encoded data removed]",
      "text/plain": [
       "<matplotlib.figure.Figure at 0x7f27e0d3d978>"
      ]
     },
     "metadata": {},
     "output_type": "display_data"
    }
   ],
   "source": [
    "main_df['SYNERGY_SCORE'].hist()"
   ]
  },
  {
   "cell_type": "code",
   "execution_count": 595,
   "metadata": {
    "collapsed": true,
    "run_control": {
     "marked": false
    }
   },
   "outputs": [],
   "source": [
    "df1 = main_df.copy()"
   ]
  },
  {
   "cell_type": "code",
   "execution_count": 596,
   "metadata": {
    "collapsed": false
   },
   "outputs": [],
   "source": [
    "df = main_df.pivot(index='COMBINATION_ID', columns='CELL_LINE', values='SYNERGY_SCORE')\n",
    "df.sort_index(axis=0, inplace=True)\n",
    "df.sort_index(axis=1, inplace=True)"
   ]
  },
  {
   "cell_type": "code",
   "execution_count": 597,
   "metadata": {
    "collapsed": false
   },
   "outputs": [],
   "source": [
    "df.to_csv('/home/kimlab1/strokach/working/az_dream/output/ch2_1/submission_2/confidence_matrix.csv', quoting=2)"
   ]
  },
  {
   "cell_type": "code",
   "execution_count": 598,
   "metadata": {
    "collapsed": true
   },
   "outputs": [],
   "source": [
    "df2 = (df > 0.2).astype(int)"
   ]
  },
  {
   "cell_type": "code",
   "execution_count": 599,
   "metadata": {
    "collapsed": false
   },
   "outputs": [],
   "source": [
    "df2.to_csv('/home/kimlab1/strokach/working/az_dream/output/ch2_1/submission_2/synergy_matrix.csv', quoting=2)"
   ]
  },
  {
   "cell_type": "code",
   "execution_count": null,
   "metadata": {
    "collapsed": true
   },
   "outputs": [],
   "source": []
  },
  {
   "cell_type": "code",
   "execution_count": null,
   "metadata": {
    "collapsed": true
   },
   "outputs": [],
   "source": []
  },
  {
   "cell_type": "code",
   "execution_count": null,
   "metadata": {
    "collapsed": true
   },
   "outputs": [],
   "source": []
  }
 ],
 "metadata": {
  "kernelspec": {
   "display_name": "Python 3",
   "language": "python",
   "name": "python3"
  },
  "language_info": {
   "codemirror_mode": {
    "name": "ipython",
    "version": 3
   },
   "file_extension": ".py",
   "mimetype": "text/x-python",
   "name": "python",
   "nbconvert_exporter": "python",
   "pygments_lexer": "ipython3",
   "version": "3.5.0"
  }
 },
 "nbformat": 4,
 "nbformat_minor": 0
}
